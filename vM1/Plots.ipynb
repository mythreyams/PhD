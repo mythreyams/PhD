{
 "cells": [
  {
   "cell_type": "code",
   "execution_count": 1,
   "metadata": {
    "ExecuteTime": {
     "end_time": "2020-03-29T03:29:39.185254Z",
     "start_time": "2020-03-29T03:29:39.162098Z"
    },
    "collapsed": true
   },
   "outputs": [],
   "source": [
    "import pandas as pd\n",
    "import matplotlib.pyplot as plt\n",
    "import seaborn as sns\n",
    "import numpy as np\n",
    "from scipy.interpolate import UnivariateSpline"
   ]
  },
  {
   "cell_type": "code",
   "execution_count": 139,
   "metadata": {
    "collapsed": true
   },
   "outputs": [],
   "source": [
    "root = 'Y:/V9/vM1_Ref_Frame/Outputs/NeuN_Profiles/'\n",
    "sbf_z_profiles_path = 'Y:/V9/lit_review/'"
   ]
  },
  {
   "cell_type": "markdown",
   "metadata": {},
   "source": [
    "# NeuN Depth Line Profiles vS1"
   ]
  },
  {
   "cell_type": "code",
   "execution_count": 262,
   "metadata": {
    "collapsed": true
   },
   "outputs": [],
   "source": [
    "# read the reference profile from sbf\n",
    "df_ref = pd.read_excel(sbf_z_profiles_path+'densities_zprofiles_averages.xlsx')\n",
    "df_ref_final = pd.DataFrame()\n",
    "df_ref_final['Depth_in_um'] = df_ref[df_ref.columns[1]][4:]*-1\n",
    "df_ref_final['A'] = df_ref[df_ref.columns[6]][4:] / 1000\n",
    "df_ref_final['B'] = df_ref[df_ref.columns[13]][4:] / 1000\n",
    "df_ref_final['C'] = df_ref[df_ref.columns[20]][4:] / 1000\n",
    "df_ref_final['D'] = df_ref[df_ref.columns[27]][4:] / 1000\n",
    "df_ref_final['E'] = df_ref[df_ref.columns[34]][4:] / 1000\n",
    "\n",
    "ref_mean_dens = df_ref_final[df_ref_final.columns[1:]].mean(axis=1)"
   ]
  },
  {
   "cell_type": "code",
   "execution_count": 273,
   "metadata": {
    "scrolled": true
   },
   "outputs": [
    {
     "data": {
      "text/html": [
       "<div>\n",
       "<style scoped>\n",
       "    .dataframe tbody tr th:only-of-type {\n",
       "        vertical-align: middle;\n",
       "    }\n",
       "\n",
       "    .dataframe tbody tr th {\n",
       "        vertical-align: top;\n",
       "    }\n",
       "\n",
       "    .dataframe thead th {\n",
       "        text-align: right;\n",
       "    }\n",
       "</style>\n",
       "<table border=\"1\" class=\"dataframe\">\n",
       "  <thead>\n",
       "    <tr style=\"text-align: right;\">\n",
       "      <th></th>\n",
       "      <th>Depth_in_um</th>\n",
       "      <th>A</th>\n",
       "      <th>B</th>\n",
       "      <th>C</th>\n",
       "      <th>D</th>\n",
       "      <th>E</th>\n",
       "    </tr>\n",
       "  </thead>\n",
       "  <tbody>\n",
       "    <tr>\n",
       "      <td>4</td>\n",
       "      <td>-25</td>\n",
       "      <td>1.17259</td>\n",
       "      <td>1.25429</td>\n",
       "      <td>0.374647</td>\n",
       "      <td>0.193009</td>\n",
       "      <td>1.18853</td>\n",
       "    </tr>\n",
       "    <tr>\n",
       "      <td>5</td>\n",
       "      <td>-75</td>\n",
       "      <td>0.470252</td>\n",
       "      <td>4.35899</td>\n",
       "      <td>3.37887</td>\n",
       "      <td>1.15844</td>\n",
       "      <td>2.26556</td>\n",
       "    </tr>\n",
       "    <tr>\n",
       "      <td>6</td>\n",
       "      <td>-125</td>\n",
       "      <td>4.41005</td>\n",
       "      <td>7.63443</td>\n",
       "      <td>6.72609</td>\n",
       "      <td>8.00586</td>\n",
       "      <td>9.44785</td>\n",
       "    </tr>\n",
       "    <tr>\n",
       "      <td>7</td>\n",
       "      <td>-175</td>\n",
       "      <td>27.0132</td>\n",
       "      <td>34.7979</td>\n",
       "      <td>24.6157</td>\n",
       "      <td>39.0625</td>\n",
       "      <td>33.4695</td>\n",
       "    </tr>\n",
       "    <tr>\n",
       "      <td>8</td>\n",
       "      <td>-225</td>\n",
       "      <td>78.4775</td>\n",
       "      <td>75.012</td>\n",
       "      <td>60.2629</td>\n",
       "      <td>71.6134</td>\n",
       "      <td>64.869</td>\n",
       "    </tr>\n",
       "    <tr>\n",
       "      <td>9</td>\n",
       "      <td>-275</td>\n",
       "      <td>82.5646</td>\n",
       "      <td>86.1059</td>\n",
       "      <td>83.1977</td>\n",
       "      <td>82.219</td>\n",
       "      <td>78.4431</td>\n",
       "    </tr>\n",
       "    <tr>\n",
       "      <td>10</td>\n",
       "      <td>-325</td>\n",
       "      <td>80.9189</td>\n",
       "      <td>83.8139</td>\n",
       "      <td>78.5649</td>\n",
       "      <td>77</td>\n",
       "      <td>77.3795</td>\n",
       "    </tr>\n",
       "    <tr>\n",
       "      <td>11</td>\n",
       "      <td>-375</td>\n",
       "      <td>84.9363</td>\n",
       "      <td>84.6451</td>\n",
       "      <td>83.5322</td>\n",
       "      <td>79.412</td>\n",
       "      <td>76.6265</td>\n",
       "    </tr>\n",
       "    <tr>\n",
       "      <td>12</td>\n",
       "      <td>-425</td>\n",
       "      <td>79.567</td>\n",
       "      <td>82.8375</td>\n",
       "      <td>81.5088</td>\n",
       "      <td>82.0151</td>\n",
       "      <td>78.8538</td>\n",
       "    </tr>\n",
       "    <tr>\n",
       "      <td>13</td>\n",
       "      <td>-475</td>\n",
       "      <td>88.0136</td>\n",
       "      <td>88.0198</td>\n",
       "      <td>86.8111</td>\n",
       "      <td>85.2644</td>\n",
       "      <td>85.0995</td>\n",
       "    </tr>\n",
       "    <tr>\n",
       "      <td>14</td>\n",
       "      <td>-525</td>\n",
       "      <td>93.4075</td>\n",
       "      <td>92.4653</td>\n",
       "      <td>91.2302</td>\n",
       "      <td>90.3302</td>\n",
       "      <td>86.6777</td>\n",
       "    </tr>\n",
       "    <tr>\n",
       "      <td>15</td>\n",
       "      <td>-575</td>\n",
       "      <td>103.473</td>\n",
       "      <td>102.792</td>\n",
       "      <td>103.766</td>\n",
       "      <td>102.18</td>\n",
       "      <td>94.1768</td>\n",
       "    </tr>\n",
       "    <tr>\n",
       "      <td>16</td>\n",
       "      <td>-625</td>\n",
       "      <td>117.193</td>\n",
       "      <td>118.979</td>\n",
       "      <td>109.811</td>\n",
       "      <td>108.55</td>\n",
       "      <td>100.438</td>\n",
       "    </tr>\n",
       "    <tr>\n",
       "      <td>17</td>\n",
       "      <td>-675</td>\n",
       "      <td>113.303</td>\n",
       "      <td>125.607</td>\n",
       "      <td>119.535</td>\n",
       "      <td>120.047</td>\n",
       "      <td>111.734</td>\n",
       "    </tr>\n",
       "    <tr>\n",
       "      <td>18</td>\n",
       "      <td>-725</td>\n",
       "      <td>120.892</td>\n",
       "      <td>118.659</td>\n",
       "      <td>123.412</td>\n",
       "      <td>116.69</td>\n",
       "      <td>116.227</td>\n",
       "    </tr>\n",
       "    <tr>\n",
       "      <td>19</td>\n",
       "      <td>-775</td>\n",
       "      <td>97.1491</td>\n",
       "      <td>114.632</td>\n",
       "      <td>117.263</td>\n",
       "      <td>111.463</td>\n",
       "      <td>103.446</td>\n",
       "    </tr>\n",
       "    <tr>\n",
       "      <td>20</td>\n",
       "      <td>-825</td>\n",
       "      <td>65.5111</td>\n",
       "      <td>79.7254</td>\n",
       "      <td>100.957</td>\n",
       "      <td>98.0172</td>\n",
       "      <td>103.816</td>\n",
       "    </tr>\n",
       "    <tr>\n",
       "      <td>21</td>\n",
       "      <td>-875</td>\n",
       "      <td>53.1556</td>\n",
       "      <td>59.3064</td>\n",
       "      <td>80.9571</td>\n",
       "      <td>87.682</td>\n",
       "      <td>95.7457</td>\n",
       "    </tr>\n",
       "    <tr>\n",
       "      <td>22</td>\n",
       "      <td>-925</td>\n",
       "      <td>47.5836</td>\n",
       "      <td>49.7978</td>\n",
       "      <td>59.9932</td>\n",
       "      <td>65.1964</td>\n",
       "      <td>73.5338</td>\n",
       "    </tr>\n",
       "    <tr>\n",
       "      <td>23</td>\n",
       "      <td>-975</td>\n",
       "      <td>49.8442</td>\n",
       "      <td>48.0355</td>\n",
       "      <td>50.368</td>\n",
       "      <td>54.3452</td>\n",
       "      <td>56.9389</td>\n",
       "    </tr>\n",
       "    <tr>\n",
       "      <td>24</td>\n",
       "      <td>-1025</td>\n",
       "      <td>54.1511</td>\n",
       "      <td>50.6226</td>\n",
       "      <td>48.9671</td>\n",
       "      <td>46.8544</td>\n",
       "      <td>49.2123</td>\n",
       "    </tr>\n",
       "    <tr>\n",
       "      <td>25</td>\n",
       "      <td>-1075</td>\n",
       "      <td>56.9864</td>\n",
       "      <td>57.5228</td>\n",
       "      <td>55.9404</td>\n",
       "      <td>49.9893</td>\n",
       "      <td>49.5491</td>\n",
       "    </tr>\n",
       "    <tr>\n",
       "      <td>26</td>\n",
       "      <td>-1125</td>\n",
       "      <td>60.5927</td>\n",
       "      <td>61.6803</td>\n",
       "      <td>55.9343</td>\n",
       "      <td>51.6822</td>\n",
       "      <td>49.3662</td>\n",
       "    </tr>\n",
       "    <tr>\n",
       "      <td>27</td>\n",
       "      <td>-1175</td>\n",
       "      <td>62.5567</td>\n",
       "      <td>58.9482</td>\n",
       "      <td>60.2438</td>\n",
       "      <td>61.6731</td>\n",
       "      <td>56.6381</td>\n",
       "    </tr>\n",
       "    <tr>\n",
       "      <td>28</td>\n",
       "      <td>-1225</td>\n",
       "      <td>68.3592</td>\n",
       "      <td>63.7493</td>\n",
       "      <td>59.7915</td>\n",
       "      <td>60.463</td>\n",
       "      <td>55.5589</td>\n",
       "    </tr>\n",
       "    <tr>\n",
       "      <td>29</td>\n",
       "      <td>-1275</td>\n",
       "      <td>78.3363</td>\n",
       "      <td>71.3506</td>\n",
       "      <td>63.5772</td>\n",
       "      <td>60.3457</td>\n",
       "      <td>57.0454</td>\n",
       "    </tr>\n",
       "    <tr>\n",
       "      <td>30</td>\n",
       "      <td>-1325</td>\n",
       "      <td>77.436</td>\n",
       "      <td>72.5171</td>\n",
       "      <td>70.8491</td>\n",
       "      <td>63.3664</td>\n",
       "      <td>59.1801</td>\n",
       "    </tr>\n",
       "    <tr>\n",
       "      <td>31</td>\n",
       "      <td>-1375</td>\n",
       "      <td>77.6909</td>\n",
       "      <td>73.8918</td>\n",
       "      <td>68.6162</td>\n",
       "      <td>69.1802</td>\n",
       "      <td>62.6777</td>\n",
       "    </tr>\n",
       "    <tr>\n",
       "      <td>32</td>\n",
       "      <td>-1425</td>\n",
       "      <td>81.1124</td>\n",
       "      <td>76.0427</td>\n",
       "      <td>75.7173</td>\n",
       "      <td>71.1912</td>\n",
       "      <td>65.4813</td>\n",
       "    </tr>\n",
       "    <tr>\n",
       "      <td>33</td>\n",
       "      <td>-1475</td>\n",
       "      <td>83.9797</td>\n",
       "      <td>86.9257</td>\n",
       "      <td>82.1933</td>\n",
       "      <td>77.1095</td>\n",
       "      <td>72.0558</td>\n",
       "    </tr>\n",
       "    <tr>\n",
       "      <td>34</td>\n",
       "      <td>-1525</td>\n",
       "      <td>83.5105</td>\n",
       "      <td>82.8544</td>\n",
       "      <td>84.4295</td>\n",
       "      <td>85.2855</td>\n",
       "      <td>78.1137</td>\n",
       "    </tr>\n",
       "    <tr>\n",
       "      <td>35</td>\n",
       "      <td>-1575</td>\n",
       "      <td>77.9299</td>\n",
       "      <td>85.0549</td>\n",
       "      <td>85.2058</td>\n",
       "      <td>86.6354</td>\n",
       "      <td>79.4835</td>\n",
       "    </tr>\n",
       "    <tr>\n",
       "      <td>36</td>\n",
       "      <td>-1625</td>\n",
       "      <td>67.4691</td>\n",
       "      <td>75.6293</td>\n",
       "      <td>85.3227</td>\n",
       "      <td>91.3158</td>\n",
       "      <td>83.9437</td>\n",
       "    </tr>\n",
       "    <tr>\n",
       "      <td>37</td>\n",
       "      <td>-1675</td>\n",
       "      <td>56.3046</td>\n",
       "      <td>69.634</td>\n",
       "      <td>79.2848</td>\n",
       "      <td>86.9705</td>\n",
       "      <td>87.9367</td>\n",
       "    </tr>\n",
       "    <tr>\n",
       "      <td>38</td>\n",
       "      <td>-1725</td>\n",
       "      <td>51.7242</td>\n",
       "      <td>62.3628</td>\n",
       "      <td>75.8113</td>\n",
       "      <td>84.2143</td>\n",
       "      <td>87.0208</td>\n",
       "    </tr>\n",
       "    <tr>\n",
       "      <td>39</td>\n",
       "      <td>-1775</td>\n",
       "      <td>42.2986</td>\n",
       "      <td>52.5893</td>\n",
       "      <td>65.812</td>\n",
       "      <td>80.3212</td>\n",
       "      <td>86.5838</td>\n",
       "    </tr>\n",
       "    <tr>\n",
       "      <td>40</td>\n",
       "      <td>-1825</td>\n",
       "      <td>37.9042</td>\n",
       "      <td>48.8933</td>\n",
       "      <td>60.1402</td>\n",
       "      <td>73.0781</td>\n",
       "      <td>81.1675</td>\n",
       "    </tr>\n",
       "    <tr>\n",
       "      <td>41</td>\n",
       "      <td>-1875</td>\n",
       "      <td>49.4278</td>\n",
       "      <td>50.4582</td>\n",
       "      <td>53.7292</td>\n",
       "      <td>64.1373</td>\n",
       "      <td>77.4681</td>\n",
       "    </tr>\n",
       "    <tr>\n",
       "      <td>42</td>\n",
       "      <td>-1925</td>\n",
       "      <td>39.3286</td>\n",
       "      <td>48.0532</td>\n",
       "      <td>48.7909</td>\n",
       "      <td>50.9115</td>\n",
       "      <td>67.9187</td>\n",
       "    </tr>\n",
       "    <tr>\n",
       "      <td>43</td>\n",
       "      <td>NaN</td>\n",
       "      <td>NaN</td>\n",
       "      <td>45.8483</td>\n",
       "      <td>40.011</td>\n",
       "      <td>56.2349</td>\n",
       "      <td>55.5964</td>\n",
       "    </tr>\n",
       "    <tr>\n",
       "      <td>44</td>\n",
       "      <td>NaN</td>\n",
       "      <td>NaN</td>\n",
       "      <td>NaN</td>\n",
       "      <td>48.7239</td>\n",
       "      <td>56.5275</td>\n",
       "      <td>46.2797</td>\n",
       "    </tr>\n",
       "    <tr>\n",
       "      <td>45</td>\n",
       "      <td>NaN</td>\n",
       "      <td>NaN</td>\n",
       "      <td>NaN</td>\n",
       "      <td>NaN</td>\n",
       "      <td>52.5075</td>\n",
       "      <td>49.5669</td>\n",
       "    </tr>\n",
       "    <tr>\n",
       "      <td>46</td>\n",
       "      <td>NaN</td>\n",
       "      <td>NaN</td>\n",
       "      <td>NaN</td>\n",
       "      <td>NaN</td>\n",
       "      <td>40.7615</td>\n",
       "      <td>34.7293</td>\n",
       "    </tr>\n",
       "  </tbody>\n",
       "</table>\n",
       "</div>"
      ],
      "text/plain": [
       "   Depth_in_um         A        B         C         D        E\n",
       "4          -25   1.17259  1.25429  0.374647  0.193009  1.18853\n",
       "5          -75  0.470252  4.35899   3.37887   1.15844  2.26556\n",
       "6         -125   4.41005  7.63443   6.72609   8.00586  9.44785\n",
       "7         -175   27.0132  34.7979   24.6157   39.0625  33.4695\n",
       "8         -225   78.4775   75.012   60.2629   71.6134   64.869\n",
       "9         -275   82.5646  86.1059   83.1977    82.219  78.4431\n",
       "10        -325   80.9189  83.8139   78.5649        77  77.3795\n",
       "11        -375   84.9363  84.6451   83.5322    79.412  76.6265\n",
       "12        -425    79.567  82.8375   81.5088   82.0151  78.8538\n",
       "13        -475   88.0136  88.0198   86.8111   85.2644  85.0995\n",
       "14        -525   93.4075  92.4653   91.2302   90.3302  86.6777\n",
       "15        -575   103.473  102.792   103.766    102.18  94.1768\n",
       "16        -625   117.193  118.979   109.811    108.55  100.438\n",
       "17        -675   113.303  125.607   119.535   120.047  111.734\n",
       "18        -725   120.892  118.659   123.412    116.69  116.227\n",
       "19        -775   97.1491  114.632   117.263   111.463  103.446\n",
       "20        -825   65.5111  79.7254   100.957   98.0172  103.816\n",
       "21        -875   53.1556  59.3064   80.9571    87.682  95.7457\n",
       "22        -925   47.5836  49.7978   59.9932   65.1964  73.5338\n",
       "23        -975   49.8442  48.0355    50.368   54.3452  56.9389\n",
       "24       -1025   54.1511  50.6226   48.9671   46.8544  49.2123\n",
       "25       -1075   56.9864  57.5228   55.9404   49.9893  49.5491\n",
       "26       -1125   60.5927  61.6803   55.9343   51.6822  49.3662\n",
       "27       -1175   62.5567  58.9482   60.2438   61.6731  56.6381\n",
       "28       -1225   68.3592  63.7493   59.7915    60.463  55.5589\n",
       "29       -1275   78.3363  71.3506   63.5772   60.3457  57.0454\n",
       "30       -1325    77.436  72.5171   70.8491   63.3664  59.1801\n",
       "31       -1375   77.6909  73.8918   68.6162   69.1802  62.6777\n",
       "32       -1425   81.1124  76.0427   75.7173   71.1912  65.4813\n",
       "33       -1475   83.9797  86.9257   82.1933   77.1095  72.0558\n",
       "34       -1525   83.5105  82.8544   84.4295   85.2855  78.1137\n",
       "35       -1575   77.9299  85.0549   85.2058   86.6354  79.4835\n",
       "36       -1625   67.4691  75.6293   85.3227   91.3158  83.9437\n",
       "37       -1675   56.3046   69.634   79.2848   86.9705  87.9367\n",
       "38       -1725   51.7242  62.3628   75.8113   84.2143  87.0208\n",
       "39       -1775   42.2986  52.5893    65.812   80.3212  86.5838\n",
       "40       -1825   37.9042  48.8933   60.1402   73.0781  81.1675\n",
       "41       -1875   49.4278  50.4582   53.7292   64.1373  77.4681\n",
       "42       -1925   39.3286  48.0532   48.7909   50.9115  67.9187\n",
       "43         NaN       NaN  45.8483    40.011   56.2349  55.5964\n",
       "44         NaN       NaN      NaN   48.7239   56.5275  46.2797\n",
       "45         NaN       NaN      NaN       NaN   52.5075  49.5669\n",
       "46         NaN       NaN      NaN       NaN   40.7615  34.7293"
      ]
     },
     "execution_count": 273,
     "metadata": {},
     "output_type": "execute_result"
    }
   ],
   "source": [
    "df_ref_final"
   ]
  },
  {
   "cell_type": "code",
   "execution_count": 274,
   "metadata": {
    "scrolled": true
   },
   "outputs": [
    {
     "data": {
      "text/plain": [
       "4       0.836615\n",
       "5       2.326422\n",
       "6       7.244856\n",
       "7      31.791781\n",
       "8      70.046955\n",
       "9      82.506081\n",
       "10     79.535418\n",
       "11     81.830429\n",
       "12     80.956417\n",
       "13     86.641675\n",
       "14     90.822163\n",
       "15    101.277735\n",
       "16    110.994373\n",
       "17    118.045454\n",
       "18    119.175982\n",
       "19    108.790540\n",
       "20     89.605369\n",
       "21     75.369344\n",
       "22     59.220955\n",
       "23     51.906372\n",
       "24     49.961519\n",
       "25     53.997611\n",
       "26     55.851156\n",
       "27     60.011983\n",
       "28     61.584422\n",
       "29     66.131060\n",
       "30     68.669741\n",
       "31     70.411383\n",
       "32     73.908996\n",
       "33     80.452818\n",
       "34     82.838693\n",
       "35     82.861879\n",
       "36     80.736114\n",
       "37     76.026104\n",
       "38     72.226671\n",
       "39     65.520968\n",
       "40     60.236666\n",
       "41     59.044127\n",
       "42     51.000571\n",
       "43     49.422619\n",
       "44     50.510354\n",
       "45     51.037184\n",
       "46     37.745368\n",
       "dtype: float64"
      ]
     },
     "execution_count": 274,
     "metadata": {},
     "output_type": "execute_result"
    }
   ],
   "source": [
    "(ref_mean_dens)"
   ]
  },
  {
   "cell_type": "code",
   "execution_count": 436,
   "metadata": {
    "scrolled": true
   },
   "outputs": [
    {
     "name": "stdout",
     "output_type": "stream",
     "text": [
      "Index(['NeuN_Density_MG50_rhs_B4', 'NeuN_Density_MG50_rhs_D2',\n",
      "       'NeuN_Density_MG50_rhs_Greek_RowGamma'],\n",
      "      dtype='object')\n"
     ]
    },
    {
     "data": {
      "image/png": "[encoded data removed]",
      "text/plain": [
       "<Figure size 432x288 with 1 Axes>"
      ]
     },
     "metadata": {
      "needs_background": "light"
     },
     "output_type": "display_data"
    }
   ],
   "source": [
    "interpolation_type = '_vS1_NeuN_Depth_Profile'\n",
    "#interpolation_type = '_vS1_NeuN_Depth_Profile_stretch_only'\n",
    "#interpolation_type = '_vS1_NeuN_Depth_Profile_Without_stretch'\n",
    "\n",
    "df = pd.read_csv(root+'{}.csv'.format(interpolation_type))\n",
    "#df = df.replace(0, np.NaN)\n",
    "\n",
    "p = plt.subplot()\n",
    "y = df['Depth_in_um']\n",
    "p.plot(ref_mean_dens,y,label='ref')\n",
    "for exp in ['MG50_rhs',]:#'MG49_rhs','MG50_lhs','MG50_rhs']:\n",
    "    df_exp = df[df.columns[df.columns.str.match('NeuN_Density_'+exp+'_*')]]\n",
    "    df_exp.to_csv(root+exp+'{}.csv'.format(interpolation_type))\n",
    "    \n",
    "    selected_profiles = []\n",
    "    for i in range(1,len(df_exp.columns)):\n",
    "        x = df_exp[df_exp.columns[i]]\n",
    "        if np.corrcoef(x[10:40],ref_mean_dens[10:40])[0,1] > 0.2:\n",
    "            selected_profiles.append(i)\n",
    "    print(df_exp.columns[selected_profiles])\n",
    "    x=df_exp[df_exp.columns[selected_profiles]].mean(axis=1).values\n",
    "    #print(len(x))\n",
    "    p.plot(x,y,label=exp)\n",
    "    plt.savefig(root+exp+'vS1_Depth_Profile.eps',format='eps')"
   ]
  },
  {
   "cell_type": "code",
   "execution_count": 420,
   "metadata": {
    "scrolled": true
   },
   "outputs": [
    {
     "name": "stdout",
     "output_type": "stream",
     "text": [
      "Index(['NeuN_Density_MG49_lhs_D2', 'NeuN_Density_MG49_lhs_D4',\n",
      "       'NeuN_Density_MG49_lhs_E5'],\n",
      "      dtype='object')\n"
     ]
    },
    {
     "data": {
      "image/png": "[encoded data removed]",
      "text/plain": [
       "<Figure size 432x288 with 1 Axes>"
      ]
     },
     "metadata": {
      "needs_background": "light"
     },
     "output_type": "display_data"
    }
   ],
   "source": [
    "df = pd.read_csv(root+'_vS1_NeuN_Depth_Profile.csv')\n",
    "#df = pd.read_csv(root+'_vS1_NeuN_Depth_Profile_stretch_only.csv')\n",
    "\n",
    "df = df.replace(0, np.NaN)\n",
    "\n",
    "selected_profiles = []\n",
    "\n",
    "for i in range(2,100):\n",
    "    x = df[df.columns[i]]\n",
    "    if np.corrcoef(x[10:],ref_mean_dens[10:])[0,1] > 0.5:\n",
    "        selected_profiles.append(i)\n",
    "        y = df['Depth_in_um']\n",
    "        error = dens_std\n",
    "        p.plot(x,y)\n",
    "    #p.fill_between(x, y-error, y+error,alpha=0.5)\n",
    "\n",
    "\n",
    "dens_mean = df[df.columns[selected_profiles]].mean(axis=1).values\n",
    "dens_std = df[df.columns[selected_profiles]].std(axis=1).values  \n",
    "\n",
    "print(df.columns[selected_profiles])\n",
    "\n",
    "p = plt.subplot()\n",
    "x = dens_mean\n",
    "y = df['Depth_in_um']\n",
    "error = dens_std\n",
    "p.plot(x,y,label='current')\n",
    "p.plot(ref_mean_dens,y,label='ref')\n",
    "p.fill_between(x, y-error, y+error,)\n",
    "plt.savefig(root+'vS1_Avg_Depth_Profile.eps',format='eps')"
   ]
  },
  {
   "cell_type": "code",
   "execution_count": 152,
   "metadata": {},
   "outputs": [
    {
     "data": {
      "text/plain": [
       "Index(['NeuN_Density_MG49_lhs_D4'], dtype='object')"
      ]
     },
     "execution_count": 152,
     "metadata": {},
     "output_type": "execute_result"
    }
   ],
   "source": [
    "df.columns[selected_profiles]"
   ]
  },
  {
   "cell_type": "markdown",
   "metadata": {},
   "source": [
    "# NeuN Depth Line Profiles vM1"
   ]
  },
  {
   "cell_type": "code",
   "execution_count": 402,
   "metadata": {
    "scrolled": true
   },
   "outputs": [
    {
     "name": "stdout",
     "output_type": "stream",
     "text": [
      "Index(['NeuN_Density_MG48_rhs_1', 'NeuN_Density_MG48_rhs_2',\n",
      "       'NeuN_Density_MG48_rhs_3', 'NeuN_Density_MG48_rhs_4',\n",
      "       'NeuN_Density_MG48_rhs_5', 'NeuN_Density_MG48_rhs_6',\n",
      "       'NeuN_Density_MG48_rhs_8', 'NeuN_Density_MG48_rhs_9',\n",
      "       'NeuN_Density_MG48_rhs_10', 'NeuN_Density_MG48_rhs_11',\n",
      "       'NeuN_Density_MG48_rhs_12', 'NeuN_Density_MG48_rhs_13',\n",
      "       'NeuN_Density_MG48_rhs_14', 'NeuN_Density_MG48_rhs_15',\n",
      "       'NeuN_Density_MG48_rhs_16', 'NeuN_Density_MG48_rhs_17',\n",
      "       'NeuN_Density_MG48_rhs_19', 'NeuN_Density_MG48_rhs_20',\n",
      "       'NeuN_Density_MG48_rhs_21', 'NeuN_Density_MG48_rhs_22',\n",
      "       'NeuN_Density_MG48_rhs_23', 'NeuN_Density_MG48_rhs_24'],\n",
      "      dtype='object')\n"
     ]
    },
    {
     "data": {
      "image/png": "[encoded data removed]",
      "text/plain": [
       "<Figure size 432x288 with 1 Axes>"
      ]
     },
     "metadata": {
      "needs_background": "light"
     },
     "output_type": "display_data"
    }
   ],
   "source": [
    "df = pd.read_csv(root+'_vM1_NeuN_Depth_Profile_using_25_vM1_axes.csv')\n",
    "df = df.replace(0, np.NaN)\n",
    "\n",
    "interpolation_type = '_vM1_NeuN_Depth_Profile'\n",
    "#interpolation_type = '_vS1_NeuN_Depth_Profile_stretch_only'\n",
    "#interpolation_type = '_vS1_NeuN_Depth_Profile_Without_stretch'\n",
    "\n",
    "p = plt.subplot()\n",
    "y = df['Depth_in_um']\n",
    "p.plot(ref_mean_dens,y,label='ref')\n",
    "for exp in ['MG48_rhs',]:#'MG49_rhs','MG50_lhs','MG50_rhs']:\n",
    "    df_exp = df[df.columns[df.columns.str.match('NeuN_Density_'+exp+'_*')]]\n",
    "    df_exp.to_csv(root+exp+'{}.csv'.format(interpolation_type))\n",
    "    \n",
    "    selected_profiles = []\n",
    "    for i in range(1,len(df_exp.columns)):\n",
    "        x = df_exp[df_exp.columns[i]]\n",
    "        if np.corrcoef(x,ref_mean_dens)[0,1] > -1:\n",
    "            selected_profiles.append(i)\n",
    "    print(df_exp.columns[selected_profiles])\n",
    "    x=df_exp[df_exp.columns[selected_profiles]].mean(axis=1).values\n",
    "    #print(len(x))\n",
    "    p.plot(x,y,label=exp)"
   ]
  },
  {
   "cell_type": "code",
   "execution_count": 421,
   "metadata": {
    "scrolled": true
   },
   "outputs": [
    {
     "name": "stdout",
     "output_type": "stream",
     "text": [
      "Index(['NeuN_Density_MG49_lhs_0', 'NeuN_Density_MG49_lhs_1',\n",
      "       'NeuN_Density_MG49_lhs_2', 'NeuN_Density_MG49_lhs_3',\n",
      "       'NeuN_Density_MG49_lhs_4', 'NeuN_Density_MG49_lhs_5',\n",
      "       'NeuN_Density_MG49_lhs_6', 'NeuN_Density_MG49_lhs_7',\n",
      "       'NeuN_Density_MG49_lhs_8', 'NeuN_Density_MG49_lhs_9',\n",
      "       'NeuN_Density_MG49_lhs_10', 'NeuN_Density_MG49_lhs_11',\n",
      "       'NeuN_Density_MG49_lhs_12', 'NeuN_Density_MG49_lhs_13',\n",
      "       'NeuN_Density_MG49_lhs_14', 'NeuN_Density_MG49_lhs_15',\n",
      "       'NeuN_Density_MG49_lhs_16', 'NeuN_Density_MG49_lhs_17',\n",
      "       'NeuN_Density_MG49_lhs_18', 'NeuN_Density_MG49_lhs_19',\n",
      "       'NeuN_Density_MG49_lhs_20', 'NeuN_Density_MG49_lhs_21',\n",
      "       'NeuN_Density_MG49_lhs_22', 'NeuN_Density_MG49_lhs_23',\n",
      "       'NeuN_Density_MG49_lhs_24', 'NeuN_Density_MG49_rhs_0',\n",
      "       'NeuN_Density_MG49_rhs_1', 'NeuN_Density_MG49_rhs_2',\n",
      "       'NeuN_Density_MG49_rhs_3', 'NeuN_Density_MG49_rhs_4',\n",
      "       'NeuN_Density_MG49_rhs_6', 'NeuN_Density_MG49_rhs_7',\n",
      "       'NeuN_Density_MG49_rhs_8', 'NeuN_Density_MG49_rhs_9',\n",
      "       'NeuN_Density_MG49_rhs_10', 'NeuN_Density_MG49_rhs_11',\n",
      "       'NeuN_Density_MG49_rhs_12', 'NeuN_Density_MG49_rhs_13',\n",
      "       'NeuN_Density_MG49_rhs_14', 'NeuN_Density_MG49_rhs_15',\n",
      "       'NeuN_Density_MG49_rhs_16', 'NeuN_Density_MG49_rhs_17',\n",
      "       'NeuN_Density_MG49_rhs_18', 'NeuN_Density_MG49_rhs_19',\n",
      "       'NeuN_Density_MG49_rhs_20', 'NeuN_Density_MG49_rhs_21',\n",
      "       'NeuN_Density_MG49_rhs_22', 'NeuN_Density_MG49_rhs_23',\n",
      "       'NeuN_Density_MG49_rhs_24', 'NeuN_Density_MG50_lhs_0',\n",
      "       'NeuN_Density_MG50_lhs_1', 'NeuN_Density_MG50_lhs_2',\n",
      "       'NeuN_Density_MG50_lhs_3', 'NeuN_Density_MG50_lhs_4',\n",
      "       'NeuN_Density_MG50_lhs_5', 'NeuN_Density_MG50_lhs_6',\n",
      "       'NeuN_Density_MG50_lhs_7', 'NeuN_Density_MG50_lhs_8',\n",
      "       'NeuN_Density_MG50_lhs_9', 'NeuN_Density_MG50_lhs_10',\n",
      "       'NeuN_Density_MG50_lhs_11', 'NeuN_Density_MG50_lhs_12',\n",
      "       'NeuN_Density_MG50_lhs_13', 'NeuN_Density_MG50_lhs_14',\n",
      "       'NeuN_Density_MG50_lhs_15', 'NeuN_Density_MG50_lhs_16',\n",
      "       'NeuN_Density_MG50_lhs_17', 'NeuN_Density_MG50_lhs_18',\n",
      "       'NeuN_Density_MG50_lhs_19', 'NeuN_Density_MG50_lhs_20',\n",
      "       'NeuN_Density_MG50_lhs_21', 'NeuN_Density_MG50_lhs_22',\n",
      "       'NeuN_Density_MG50_lhs_23', 'NeuN_Density_MG50_lhs_24',\n",
      "       'NeuN_Density_MG50_rhs_0', 'NeuN_Density_MG50_rhs_1',\n",
      "       'NeuN_Density_MG50_rhs_2', 'NeuN_Density_MG50_rhs_3',\n",
      "       'NeuN_Density_MG50_rhs_4', 'NeuN_Density_MG50_rhs_5',\n",
      "       'NeuN_Density_MG50_rhs_6', 'NeuN_Density_MG50_rhs_7',\n",
      "       'NeuN_Density_MG50_rhs_8', 'NeuN_Density_MG50_rhs_9',\n",
      "       'NeuN_Density_MG50_rhs_10', 'NeuN_Density_MG50_rhs_11',\n",
      "       'NeuN_Density_MG50_rhs_12', 'NeuN_Density_MG50_rhs_13',\n",
      "       'NeuN_Density_MG50_rhs_14', 'NeuN_Density_MG50_rhs_15',\n",
      "       'NeuN_Density_MG50_rhs_16', 'NeuN_Density_MG50_rhs_17',\n",
      "       'NeuN_Density_MG50_rhs_18', 'NeuN_Density_MG50_rhs_19',\n",
      "       'NeuN_Density_MG50_rhs_20', 'NeuN_Density_MG50_rhs_21',\n",
      "       'NeuN_Density_MG50_rhs_22'],\n",
      "      dtype='object')\n"
     ]
    },
    {
     "data": {
      "image/png": "[encoded data removed]",
      "text/plain": [
       "<Figure size 432x288 with 1 Axes>"
      ]
     },
     "metadata": {
      "needs_background": "light"
     },
     "output_type": "display_data"
    }
   ],
   "source": [
    "df = pd.read_csv(root+'_vM1_NeuN_Depth_Profile_using_25_vM1_axes.csv')\n",
    "df = df.replace(0, np.NaN)\n",
    "\n",
    "selected_profiles = []\n",
    "\n",
    "for i in range(2,100):\n",
    "    x = df[df.columns[i]]\n",
    "    if np.corrcoef(x,ref_mean_dens)[0,1] > -1:\n",
    "        selected_profiles.append(i)\n",
    "        y = df['Depth_in_um']\n",
    "        error = dens_std\n",
    "        p.plot(x,y)\n",
    "    #p.fill_between(x, y-error, y+error,alpha=0.5)\n",
    "\n",
    "\n",
    "dens_mean = df[df.columns[selected_profiles]].mean(axis=1).values\n",
    "dens_std = df[df.columns[selected_profiles]].std(axis=1).values  \n",
    "\n",
    "print(df.columns[selected_profiles])\n",
    "\n",
    "p = plt.subplot()\n",
    "x = dens_mean\n",
    "y = df['Depth_in_um']\n",
    "error = dens_std\n",
    "p.plot(x,y,label='current')\n",
    "p.plot(ref_mean_dens,y,label='ref')\n",
    "p.fill_between(x, y-error, y+error,)\n",
    "plt.savefig(root+'vM1_Avg_Depth_Profile.eps',format='eps')"
   ]
  },
  {
   "cell_type": "markdown",
   "metadata": {},
   "source": [
    "# Alignment errors"
   ]
  },
  {
   "cell_type": "code",
   "execution_count": 224,
   "metadata": {
    "collapsed": true
   },
   "outputs": [],
   "source": [
    "path = 'Y:/V8/vM1_Ref_Frame/Outputs_200/Stats/'"
   ]
  },
  {
   "cell_type": "code",
   "execution_count": 249,
   "metadata": {},
   "outputs": [
    {
     "data": {
      "text/plain": [
       "Index(['Unnamed: 0', 'Alignment_Type', 'Axis_Name', 'Axis_Center_STD',\n",
       "       'Axis_Center_SE', 'Axis_Center_STD_3D_Distance',\n",
       "       'Axis_Center_SE_3D_Distance', 'Pia_Center_STD', 'Pia_Center_SE',\n",
       "       'Pia_Center_STD_3D_Distance', 'Pia_Center_SE_3D_Distance',\n",
       "       'WM_Center_STD', 'WM_Center_SE', 'WM_Center_STD_3D_Distance',\n",
       "       'WM_Center_SE_3D_Distance', 'Volume_Center_STD', 'Volume_Center_SE',\n",
       "       'Volume_Center_STD_3D_Distance', 'Volume_Center_SE_3D_Distance',\n",
       "       'Rabies_Cluster_Center_STD', 'Rabies_Cluster_Center_SE',\n",
       "       'Rabies_Cluster_Center_STD_3D_Distance',\n",
       "       'Rabies_Cluster_Center_SE_3D_Distance', 'Anglular_STD_in_degrees',\n",
       "       'Anglular_SE_in_degrees'],\n",
       "      dtype='object')"
      ]
     },
     "execution_count": 249,
     "metadata": {},
     "output_type": "execute_result"
    }
   ],
   "source": [
    "df_s1.columns"
   ]
  },
  {
   "cell_type": "code",
   "execution_count": 257,
   "metadata": {
    "collapsed": true
   },
   "outputs": [],
   "source": [
    "def get_float(string):\n",
    "    return float(string.split('[')[1].split(']')[0])"
   ]
  },
  {
   "cell_type": "code",
   "execution_count": 259,
   "metadata": {
    "collapsed": true
   },
   "outputs": [],
   "source": [
    "def get_s1_and_m1_centers(df):\n",
    "    s1_ali_m1_error = df[df['Axis_Name']=='vM1']['Volume_Center_SE_3D_Distance'].values[0]\n",
    "    m1_center_se = get_float(s1_ali_m1_error)\n",
    "    barrel_centers = df[df['Axis_Name']!='vM1']['Axis_Center_SE_3D_Distance'].values\n",
    "    total = 0\n",
    "    for barrel_center in barrel_centers:\n",
    "        float(barrel_center.split('[')[1].split(']')[0])\n",
    "        value = get_float(barrel_center)\n",
    "        total = total + value\n",
    "    s1_ali_barrel_se = total/len(barrel_centers)\n",
    "    \n",
    "    return s1_ali_barrel_se,m1_center_se"
   ]
  },
  {
   "cell_type": "code",
   "execution_count": 275,
   "metadata": {
    "collapsed": true
   },
   "outputs": [],
   "source": [
    "def get_s1_and_m1_angles(df):\n",
    "    s1_ali_m1_error = df[df['Axis_Name']=='vM1']['Anglular_SE_in_degrees'].values[0]\n",
    "    #m1_center_se = get_float(s1_ali_m1_error)\n",
    "    barrel_centers = df[df['Axis_Name']!='vM1']['Anglular_SE_in_degrees'].values\n",
    "    total = 0\n",
    "    for barrel_center in barrel_centers:\n",
    "        #float(barrel_center.split('[')[1].split(']')[0])\n",
    "        #value = get_float(barrel_center)\n",
    "        total = total + barrel_center\n",
    "    s1_ali_barrel_se = total/len(barrel_centers)\n",
    "    \n",
    "    return s1_ali_barrel_se,s1_ali_m1_error"
   ]
  },
  {
   "cell_type": "code",
   "execution_count": 276,
   "metadata": {
    "collapsed": true
   },
   "outputs": [],
   "source": [
    "# for barrels use the avg axis error S.E\n",
    "# for vM1 use the center of volume S.E\n",
    "df_s1 = pd.read_csv(path+'7_Alignment_Stats_Using_vS1.csv')\n",
    "df_m1 = pd.read_csv(path+'7_Alignment_Stats_Using_vM1.csv')\n",
    "df_both = pd.read_csv(path+'7_Alignment_Stats_Using_vS1_vM1_Surface_Points.csv')\n",
    "\n",
    "s1_center_using_s1,m1_center_using_s1 = get_s1_and_m1_centers(df_s1)\n",
    "s1_center_using_m1,m1_center_using_m1 = get_s1_and_m1_centers(df_m1)\n",
    "s1_center_using_both,m1_center_using_both = get_s1_and_m1_centers(df_both)\n",
    "\n"
   ]
  },
  {
   "cell_type": "code",
   "execution_count": 277,
   "metadata": {},
   "outputs": [
    {
     "data": {
      "text/plain": [
       "(38.82175251928572,\n",
       " 337.14394652,\n",
       " 615.9976427142857,\n",
       " 60.21463253,\n",
       " 265.49351366249994,\n",
       " 227.23555508)"
      ]
     },
     "execution_count": 277,
     "metadata": {},
     "output_type": "execute_result"
    }
   ],
   "source": [
    "s1_center_using_s1,m1_center_using_s1 ,s1_center_using_m1,m1_center_using_m1,s1_center_using_both,m1_center_using_both"
   ]
  },
  {
   "cell_type": "code",
   "execution_count": 279,
   "metadata": {
    "collapsed": true
   },
   "outputs": [],
   "source": [
    "s1_angle_using_s1,m1_angle_using_s1 = get_s1_and_m1_angles(df_s1)\n",
    "s1_angle_using_m1,m1_angle_using_m1 = get_s1_and_m1_angles(df_m1)\n",
    "s1_angle_using_both,m1_angle_using_both = get_s1_and_m1_angles(df_both)\n"
   ]
  },
  {
   "cell_type": "code",
   "execution_count": 280,
   "metadata": {
    "scrolled": true
   },
   "outputs": [
    {
     "data": {
      "text/plain": [
       "(3.0981014541484835,\n",
       " 16.82845823221393,\n",
       " 10.559618941984695,\n",
       " 7.171201302213866,\n",
       " 6.948039120937993,\n",
       " 15.422743150156428)"
      ]
     },
     "execution_count": 280,
     "metadata": {},
     "output_type": "execute_result"
    }
   ],
   "source": [
    "s1_angle_using_s1,m1_angle_using_s1,s1_angle_using_m1,m1_angle_using_m1,s1_angle_using_both,m1_angle_using_both"
   ]
  },
  {
   "cell_type": "code",
   "execution_count": 322,
   "metadata": {},
   "outputs": [
    {
     "data": {
      "image/png": "[encoded data removed]",
      "text/plain": [
       "<Figure size 432x288 with 1 Axes>"
      ]
     },
     "metadata": {
      "needs_background": "light"
     },
     "output_type": "display_data"
    }
   ],
   "source": [
    "p = plt.subplot()\n",
    "#x = dens_mean#df[df.columns[2:]].mean(axis=1).values\n",
    "#y = df['Depth_in_um']\n",
    "#error = dens_std\n",
    "p.bar(['s1_center_using_s1','s1_center_using_m1','s1_center_using_both','m1_center_using_s1','m1_center_using_m1','m1_center_using_both'],\\\n",
    "        [s1_center_using_s1,s1_center_using_m1 ,s1_center_using_both,m1_center_using_s1,m1_center_using_m1,m1_center_using_both],\\\n",
    "         width=0.5)\n",
    "p.set_yticks(range(0,600,50))\n",
    "plt.savefig(path+'Centers_Precision.eps',format='eps')\n"
   ]
  },
  {
   "cell_type": "code",
   "execution_count": 323,
   "metadata": {},
   "outputs": [
    {
     "data": {
      "image/png": "[encoded data removed]",
      "text/plain": [
       "<Figure size 432x288 with 1 Axes>"
      ]
     },
     "metadata": {
      "needs_background": "light"
     },
     "output_type": "display_data"
    }
   ],
   "source": [
    "p = plt.subplot()\n",
    "p.bar(['s1_angle_using_s1','s1_angle_using_m1','s1_angle_using_both','m1_angle_using_s1',\\\n",
    "       'm1_angle_using_m1','m1_angle_using_both'],\\\n",
    "        [s1_angle_using_s1,s1_angle_using_m1 ,s1_angle_using_both,m1_angle_using_s1,m1_angle_using_m1,m1_angle_using_both],\\\n",
    "         width=0.5)\n",
    "#plt.fill_between(x, y-error, y+error,alpha=0.5)\n",
    "p.set_yticks(range(0,20,1))\n",
    "plt.savefig(path+'angles_Precision.eps',format='eps')"
   ]
  },
  {
   "cell_type": "code",
   "execution_count": 303,
   "metadata": {
    "collapsed": true
   },
   "outputs": [],
   "source": [
    "cols = ['vS1_Center_S.E','vS1_Angle_S.E','vM1_Center','vM1_Angle_S.E','Method Of Alignment']\n",
    "df = pd.DataFrame(columns=cols)"
   ]
  },
  {
   "cell_type": "code",
   "execution_count": 304,
   "metadata": {
    "collapsed": true
   },
   "outputs": [],
   "source": [
    "df=df.append(pd.DataFrame(data=[[s1_center_using_s1,s1_angle_using_s1,m1_center_using_s1,m1_angle_using_s1,'Using_vS1']],columns=cols))\n",
    "df=df.append(pd.DataFrame(data=[[s1_center_using_m1,s1_angle_using_m1,m1_center_using_m1,m1_angle_using_m1,'Using_vM1']],columns=cols))\n",
    "df=df.append(pd.DataFrame(data=[[s1_center_using_both,s1_angle_using_both,m1_center_using_both,m1_angle_using_both,'Using_vBoth']],columns=cols))"
   ]
  },
  {
   "cell_type": "code",
   "execution_count": 305,
   "metadata": {},
   "outputs": [
    {
     "data": {
      "text/html": [
       "<div>\n",
       "<style scoped>\n",
       "    .dataframe tbody tr th:only-of-type {\n",
       "        vertical-align: middle;\n",
       "    }\n",
       "\n",
       "    .dataframe tbody tr th {\n",
       "        vertical-align: top;\n",
       "    }\n",
       "\n",
       "    .dataframe thead th {\n",
       "        text-align: right;\n",
       "    }\n",
       "</style>\n",
       "<table border=\"1\" class=\"dataframe\">\n",
       "  <thead>\n",
       "    <tr style=\"text-align: right;\">\n",
       "      <th></th>\n",
       "      <th>vS1_Center_S.E</th>\n",
       "      <th>vS1_Angle_S.E</th>\n",
       "      <th>vM1_Center</th>\n",
       "      <th>vM1_Angle_S.E</th>\n",
       "      <th>Method Of Alignment</th>\n",
       "    </tr>\n",
       "  </thead>\n",
       "  <tbody>\n",
       "    <tr>\n",
       "      <td>0</td>\n",
       "      <td>38.821753</td>\n",
       "      <td>3.098101</td>\n",
       "      <td>337.143947</td>\n",
       "      <td>16.828458</td>\n",
       "      <td>Using_vS1</td>\n",
       "    </tr>\n",
       "    <tr>\n",
       "      <td>0</td>\n",
       "      <td>615.997643</td>\n",
       "      <td>10.559619</td>\n",
       "      <td>60.214633</td>\n",
       "      <td>7.171201</td>\n",
       "      <td>Using_vM1</td>\n",
       "    </tr>\n",
       "    <tr>\n",
       "      <td>0</td>\n",
       "      <td>265.493514</td>\n",
       "      <td>6.948039</td>\n",
       "      <td>227.235555</td>\n",
       "      <td>15.422743</td>\n",
       "      <td>Using_vBoth</td>\n",
       "    </tr>\n",
       "  </tbody>\n",
       "</table>\n",
       "</div>"
      ],
      "text/plain": [
       "   vS1_Center_S.E  vS1_Angle_S.E  vM1_Center  vM1_Angle_S.E  \\\n",
       "0       38.821753       3.098101  337.143947      16.828458   \n",
       "0      615.997643      10.559619   60.214633       7.171201   \n",
       "0      265.493514       6.948039  227.235555      15.422743   \n",
       "\n",
       "  Method Of Alignment  \n",
       "0           Using_vS1  \n",
       "0           Using_vM1  \n",
       "0         Using_vBoth  "
      ]
     },
     "execution_count": 305,
     "metadata": {},
     "output_type": "execute_result"
    }
   ],
   "source": [
    "df"
   ]
  },
  {
   "cell_type": "code",
   "execution_count": 307,
   "metadata": {},
   "outputs": [
    {
     "data": {
      "text/plain": [
       "<matplotlib.axes._subplots.AxesSubplot at 0x1712fd16f48>"
      ]
     },
     "execution_count": 307,
     "metadata": {},
     "output_type": "execute_result"
    },
    {
     "data": {
      "image/png": "[encoded data removed]",
      "text/plain": [
       "<Figure size 432x288 with 1 Axes>"
      ]
     },
     "metadata": {
      "needs_background": "light"
     },
     "output_type": "display_data"
    }
   ],
   "source": [
    "sns.barplot(data=df,)"
   ]
  },
  {
   "cell_type": "markdown",
   "metadata": {},
   "source": [
    "# scatter plot features "
   ]
  },
  {
   "cell_type": "code",
   "execution_count": 326,
   "metadata": {
    "collapsed": true
   },
   "outputs": [],
   "source": [
    "file = 'Y:/V8/Registration_Local/Outputs_200/8_Features/Copy of Features_With_Soma_Depth_WIth_Manual2.csv'"
   ]
  },
  {
   "cell_type": "code",
   "execution_count": 327,
   "metadata": {
    "collapsed": true
   },
   "outputs": [],
   "source": [
    "df = pd.read_csv(file)"
   ]
  },
  {
   "cell_type": "code",
   "execution_count": 329,
   "metadata": {},
   "outputs": [
    {
     "data": {
      "text/plain": [
       "Index(['Experiment_ID', 'Dendritic_Length', 'Dendritic_Volume',\n",
       "       'Dendritic_Width', 'Dendritic_Height', 'Dendritic_Branchpoints',\n",
       "       'Dendritic_Branchorder_Avg', 'Dendritic_Branchorder_Max',\n",
       "       'Dendritic_Endpoint_Avg', 'Dendritic_Endpoint_Max',\n",
       "       'Dendritic_Endpoint_Sum', 'Dendritic_Endpoint_Centroid',\n",
       "       'Apical_Length', 'Apical_Volume', 'Apical_Width', 'Apical_Height',\n",
       "       'Apical_Branchpoints', 'Apical_Endpoint_Centroid', 'Basal_Length',\n",
       "       'Basal_Volume', 'Basal_Width', 'Basal_Height', 'Basal_Branchpoints',\n",
       "       'Axon_Branchpoints', 'Axon_Length', 'Axon_Volume',\n",
       "       'Soma_Depth_From_Pia', 'Manual_Assignment'],\n",
       "      dtype='object')"
      ]
     },
     "execution_count": 329,
     "metadata": {},
     "output_type": "execute_result"
    }
   ],
   "source": [
    "df.columns"
   ]
  },
  {
   "cell_type": "code",
   "execution_count": 340,
   "metadata": {
    "scrolled": true
   },
   "outputs": [
    {
     "data": {
      "image/png": "[encoded data removed]",
      "text/plain": [
       "<Figure size 432x288 with 1 Axes>"
      ]
     },
     "metadata": {
      "needs_background": "light"
     },
     "output_type": "display_data"
    }
   ],
   "source": [
    "sns.scatterplot(y=df['Soma_Depth_From_Pia'], x=df['Apical_Height'],hue=df['Manual_Assignment'],legend=False)\n",
    "plt.savefig(path+'depthvsApicalHeight_nolegend.eps',format='eps',)"
   ]
  },
  {
   "cell_type": "code",
   "execution_count": null,
   "metadata": {
    "collapsed": true
   },
   "outputs": [],
   "source": []
  }
 ],
 "metadata": {
  "kernelspec": {
   "display_name": "Python 3",
   "language": "python",
   "name": "python3"
  },
  "language_info": {
   "codemirror_mode": {
    "name": "ipython",
    "version": 3
   },
   "file_extension": ".py",
   "mimetype": "text/x-python",
   "name": "python",
   "nbconvert_exporter": "python",
   "pygments_lexer": "ipython3",
   "version": "3.6.6"
  },
  "toc": {
   "base_numbering": 1,
   "nav_menu": {},
   "number_sections": true,
   "sideBar": true,
   "skip_h1_title": false,
   "title_cell": "Table of Contents",
   "title_sidebar": "Contents",
   "toc_cell": false,
   "toc_position": {},
   "toc_section_display": true,
   "toc_window_display": false
  }
 },
 "nbformat": 4,
 "nbformat_minor": 2
}
