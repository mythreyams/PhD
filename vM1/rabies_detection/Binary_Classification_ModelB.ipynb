{
 "cells": [
  {
   "cell_type": "code",
   "execution_count": 11,
   "metadata": {},
   "outputs": [],
   "source": [
    "import tensorflow as tf\n",
    "from keras.models import Sequential\n",
    "from keras.layers import Dense, Dropout, Activation, Flatten, Conv2D, MaxPooling2D\n",
    "from keras.optimizers import Adam\n",
    "from Data_Preparation import *\n",
    "from keras.utils import to_categorical"
   ]
  },
  {
   "cell_type": "code",
   "execution_count": 12,
   "metadata": {},
   "outputs": [
    {
     "name": "stdout",
     "output_type": "stream",
     "text": [
      "Data/Train/GarbageForeground\n",
      "0\n",
      "Data/Train/Single\n",
      "1\n",
      "Data/Train/Partial\n",
      "2\n"
     ]
    }
   ],
   "source": [
    "X,y = create_training_data()"
   ]
  },
  {
   "cell_type": "code",
   "execution_count": null,
   "metadata": {
    "scrolled": true
   },
   "outputs": [
    {
     "name": "stdout",
     "output_type": "stream",
     "text": [
      "Model: \"sequential_2\"\n",
      "_________________________________________________________________\n",
      "Layer (type)                 Output Shape              Param #   \n",
      "=================================================================\n",
      "conv2d_4 (Conv2D)            (None, 50, 50, 256)       2560      \n",
      "_________________________________________________________________\n",
      "activation_6 (Activation)    (None, 50, 50, 256)       0         \n",
      "_________________________________________________________________\n",
      "max_pooling2d_4 (MaxPooling2 (None, 25, 25, 256)       0         \n",
      "_________________________________________________________________\n",
      "dropout_4 (Dropout)          (None, 25, 25, 256)       0         \n",
      "_________________________________________________________________\n",
      "conv2d_5 (Conv2D)            (None, 25, 25, 128)       295040    \n",
      "_________________________________________________________________\n",
      "activation_7 (Activation)    (None, 25, 25, 128)       0         \n",
      "_________________________________________________________________\n",
      "max_pooling2d_5 (MaxPooling2 (None, 12, 12, 128)       0         \n",
      "_________________________________________________________________\n",
      "dropout_5 (Dropout)          (None, 12, 12, 128)       0         \n",
      "_________________________________________________________________\n",
      "conv2d_6 (Conv2D)            (None, 12, 12, 64)        73792     \n",
      "_________________________________________________________________\n",
      "activation_8 (Activation)    (None, 12, 12, 64)        0         \n",
      "_________________________________________________________________\n",
      "max_pooling2d_6 (MaxPooling2 (None, 6, 6, 64)          0         \n",
      "_________________________________________________________________\n",
      "dropout_6 (Dropout)          (None, 6, 6, 64)          0         \n",
      "_________________________________________________________________\n",
      "flatten_2 (Flatten)          (None, 2304)              0         \n",
      "_________________________________________________________________\n",
      "dense_3 (Dense)              (None, 64)                147520    \n",
      "_________________________________________________________________\n",
      "activation_9 (Activation)    (None, 64)                0         \n",
      "_________________________________________________________________\n",
      "dense_4 (Dense)              (None, 3)                 195       \n",
      "_________________________________________________________________\n",
      "activation_10 (Activation)   (None, 3)                 0         \n",
      "=================================================================\n",
      "Total params: 519,107\n",
      "Trainable params: 519,107\n",
      "Non-trainable params: 0\n",
      "_________________________________________________________________\n",
      "Train on 1318 samples, validate on 147 samples\n",
      "Epoch 1/10\n",
      "1318/1318 [==============================] - 23s 17ms/step - loss: 18.2456 - accuracy: 0.5311 - val_loss: 15.5696 - val_accuracy: 0.5510\n",
      "Epoch 2/10\n",
      "1318/1318 [==============================] - 22s 17ms/step - loss: 11.4943 - accuracy: 0.7049 - val_loss: 12.2251 - val_accuracy: 0.9048\n",
      "Epoch 3/10\n",
      " 440/1318 [=========>....................] - ETA: 14s - loss: 11.6528 - accuracy: 0.7682"
     ]
    }
   ],
   "source": [
    "#def binary_classification_model():\n",
    "model = Sequential()\n",
    "\n",
    "model.add(Conv2D(256,(3,3),padding = 'same',input_shape=(X.shape[1:]),kernel_initializer = 'he_normal'))\n",
    "model.add(Activation(\"relu\"))\n",
    "model.add(MaxPooling2D(pool_size=(2,2)))\n",
    "model.add(Dropout(0.4))\n",
    "\n",
    "model.add(Conv2D(128,(3,3),padding = 'same',kernel_initializer = 'he_normal'))\n",
    "model.add(Activation(\"relu\"))\n",
    "model.add(MaxPooling2D(pool_size=(2,2)))\n",
    "model.add(Dropout(0.3))\n",
    "\n",
    "########NEW LAYERS BEING ADDED###################\n",
    "#model.add(Conv2D(128,(3,3),padding = 'same',input_shape=(X.shape[1:]),kernel_initializer = 'he_normal'))\n",
    "#model.add(Activation(\"relu\"))\n",
    "#model.add(MaxPooling2D(pool_size=(2,2)))\n",
    "#model.add(Dropout(0.3))\n",
    "\n",
    "#model.add(Conv2D(64,(3,3),padding = 'same',input_shape=(X.shape[1:]),kernel_initializer = 'he_normal'))\n",
    "#model.add(Activation(\"relu\"))\n",
    "#model.add(MaxPooling2D(pool_size=(2,2)))\n",
    "#model.add(Dropout(0.3))\n",
    "\n",
    "model.add(Conv2D(64,(3,3),padding = 'same',kernel_initializer = 'he_normal'))\n",
    "model.add(Activation(\"relu\"))\n",
    "model.add(MaxPooling2D(pool_size=(2,2)))\n",
    "model.add(Dropout(0.2))\n",
    "\n",
    "################################################\n",
    "model.add(Flatten())\n",
    "model.add(Dense(64))\n",
    "model.add(Activation(\"relu\")) # added a new activation layer\n",
    "\n",
    "model.add(Dense(3))\n",
    "model.add(Activation('softmax')) # chaging from sigmoid to softmax to include more classes\n",
    "\n",
    "########################\n",
    "class_weight = {0: 1, 1: 50., 2: 50.}\n",
    "\n",
    "########################\n",
    "\n",
    "#filepath=\"weights.best.hdf5\"\n",
    "ada = Adam(learning_rate=0.001, beta_1=0.9, beta_2=0.999, amsgrad=False)\n",
    "model.compile(loss =\"categorical_crossentropy\", optimizer = 'adam', metrics = [\"accuracy\"])\n",
    "y_train=to_categorical(y, num_classes=3)\n",
    "\n",
    "model.summary()\n",
    "lr_model_history=model.fit(X,y_train,batch_size=10,epochs= 10,validation_split=0.1,class_weight=class_weight)\n"
   ]
  },
  {
   "cell_type": "code",
   "execution_count": 4,
   "metadata": {},
   "outputs": [
    {
     "data": {
      "image/png": "[encoded data removed]",
      "text/plain": [
       "<Figure size 720x360 with 1 Axes>"
      ]
     },
     "metadata": {
      "needs_background": "light"
     },
     "output_type": "display_data"
    },
    {
     "data": {
      "image/png": "[encoded data removed]",
      "text/plain": [
       "<Figure size 720x360 with 1 Axes>"
      ]
     },
     "metadata": {
      "needs_background": "light"
     },
     "output_type": "display_data"
    }
   ],
   "source": [
    "fig, ax = plt.subplots(1, 1, figsize=(10,5))\n",
    "ax.plot(np.sqrt(lr_model_history.history['loss']), 'r', label='training')\n",
    "ax.plot(np.sqrt(lr_model_history.history['val_loss']), 'b' ,label='validation')\n",
    "ax.set_xlabel(r'Epoch', fontsize=20)\n",
    "ax.set_ylabel(r'Loss', fontsize=20)\n",
    "ax.legend()\n",
    "ax.tick_params(labelsize=20)\n",
    "\n",
    "# Plot the accuracy\n",
    "fig, ax = plt.subplots(1, 1, figsize=(10,5))\n",
    "ax.plot(np.sqrt(lr_model_history.history['accuracy']), 'r', label='training')\n",
    "ax.plot(np.sqrt(lr_model_history.history['val_accuracy']), 'b' ,label='validation')\n",
    "ax.set_xlabel(r'Epoch', fontsize=20)\n",
    "ax.set_ylabel(r'Accuracy', fontsize=20)\n",
    "ax.legend()\n",
    "ax.tick_params(labelsize=20)"
   ]
  },
  {
   "cell_type": "markdown",
   "metadata": {},
   "source": [
    "## Running inference on all Tiles "
   ]
  },
  {
   "cell_type": "code",
   "execution_count": 5,
   "metadata": {
    "run_control": {
     "marked": false
    }
   },
   "outputs": [],
   "source": [
    "img_size = 50 # fix the size of the image\n",
    "Path = \"Data/Test\"\n",
    "Testing_image = []# list of testing images\n",
    "image_name = []# list of image names\n",
    "try:\n",
    "    for img in os.listdir(Path): #gives the images from the path\n",
    "        img_array = cv2.imread(os.path.join(Path,img),cv2.IMREAD_GRAYSCALE) # read every image in gray scale from the given path\n",
    "        Testing_image.append(img_array)\n",
    "        image_name.append(img)\n",
    "        #plt.imshow(img_array,cmap='gray')\n",
    "        #plt.show()\n",
    "        #break\n",
    "except Exception as e:\n",
    "    pass"
   ]
  },
  {
   "cell_type": "code",
   "execution_count": 6,
   "metadata": {},
   "outputs": [],
   "source": [
    "Test_image = np.array(Testing_image).reshape(-1,img_size,img_size,1)#make an array of every element of list from Testing_image and then reshape them\n",
    "#Test_image = Test_image/255.0\n",
    "scores = model.predict_classes(Test_image)\n"
   ]
  },
  {
   "cell_type": "code",
   "execution_count": 7,
   "metadata": {},
   "outputs": [
    {
     "data": {
      "text/plain": [
       "array([2, 2, 2, ..., 2, 2, 2], dtype=int64)"
      ]
     },
     "execution_count": 7,
     "metadata": {},
     "output_type": "execute_result"
    }
   ],
   "source": [
    "scores"
   ]
  },
  {
   "cell_type": "markdown",
   "metadata": {},
   "source": [
    "# Results of Testing"
   ]
  },
  {
   "cell_type": "code",
   "execution_count": 8,
   "metadata": {},
   "outputs": [
    {
     "name": "stdout",
     "output_type": "stream",
     "text": [
      "Total testing images: 3689\n",
      "bkgd_image_counter: 0\n",
      "single_image_counter: 48\n",
      "partial_image_counter: 3641\n"
     ]
    }
   ],
   "source": [
    "print(\"Total testing images:\",len(Testing_image))\n",
    "single_image_counter = 0\n",
    "bkgd_image_counter = 0\n",
    "partial_image_counter = 0\n",
    "for i in range(len(Test_image)):\n",
    "    #print(\"Image:\",image_name[i],\"with score:\",scores[i]) \n",
    "    if scores[i]==0:\n",
    "        bkgd_image_counter +=1\n",
    "        #print(\"Single Image:\",image_name[i],\"with score:\",scores[i])\n",
    "    if scores[i]==1:\n",
    "        single_image_counter +=1\n",
    "        #print(\"Single Image:\",image_name[i],\"with score:\",scores[i])\n",
    "    if scores[i]==2:\n",
    "        partial_image_counter +=1\n",
    "        #print(\"Partial Image:\",image_name[i],\"with score:\",scores[i])\n",
    "print(\"bkgd_image_counter:\",bkgd_image_counter)\n",
    "print(\"single_image_counter:\",single_image_counter)\n",
    "print(\"partial_image_counter:\",partial_image_counter)"
   ]
  },
  {
   "cell_type": "markdown",
   "metadata": {},
   "source": [
    "## Saving classified tiles into respective folders"
   ]
  },
  {
   "cell_type": "code",
   "execution_count": 9,
   "metadata": {},
   "outputs": [
    {
     "name": "stdout",
     "output_type": "stream",
     "text": [
      "3640\n"
     ]
    }
   ],
   "source": [
    "# saving the partial neuron tiles into a particular folder for now - as a adhoc fix!\n",
    "import os\n",
    "import cv2\n",
    "dest_path = '//ibs9010/current_data/Data_Keshav/image/Classification_model/partialneurontiles'\n",
    "directory = '//ibs9010/current_data/Data_Keshav/image/Classification_model/Data/Test/'\n",
    "\n",
    "\n",
    "#need the images of class1 to be appended in a separate list\n",
    "partial_image_list  = [] # contains list of filenames of single neurons\n",
    "#sn_images = [] # conatins tiles of single neurons #(actual images itself)\n",
    "for k in range(1,len(Test_image)):\n",
    "    #print(k)\n",
    "    if scores[k]==2:\n",
    "        #print(Test_image[i])\n",
    "        #print(\"Image \",image_name[k])\n",
    "        #sn_images.append(Test_image[i])\n",
    "        partial_image_list.append(image_name[k])\n",
    "        \n",
    "print(len(partial_image_list))  \n",
    "#image_name[i]\n",
    "for i in range(len(Test_image)):\n",
    "    if scores[i]==2:\n",
    "        #print(\"Image:\",image_name[i])\n",
    "        #print(\"TestImage:\",Test_image[i])\n",
    "        #cv2.imwrite(image_name[i], Test_image[i])\n",
    "        cv2.imwrite(os.path.join(dest_path,image_name[i]), Test_image[i])\n",
    "        #pass"
   ]
  },
  {
   "cell_type": "code",
   "execution_count": 10,
   "metadata": {},
   "outputs": [
    {
     "name": "stdout",
     "output_type": "stream",
     "text": [
      "48\n"
     ]
    }
   ],
   "source": [
    "# saving the single neuron tiles into a particular folder for now - as a adhoc fix!\n",
    "import os\n",
    "import cv2\n",
    "dest_path = '//ibs9010/current_data/Data_Keshav/image/Classification_model/singleneurontiles'\n",
    "directory = '//ibs9010/current_data/Data_Keshav/image/Classification_model/Data/Test/'\n",
    "\n",
    "\n",
    "#need the images of class1 to be appended in a separate list\n",
    "single_image_list  = [] # contains list of filenames of single neurons\n",
    "#sn_images = [] # conatins tiles of single neurons #(actual images itself)\n",
    "for k in range(len(Test_image)):\n",
    "    if scores[k]==1:\n",
    "        #print(Test_image[i])\n",
    "        #print(\"Image \",image_name[k])\n",
    "        #sn_images.append(Test_image[i])\n",
    "        single_image_list.append(image_name[k])\n",
    "        \n",
    "print(len(single_image_list))  \n",
    "#image_name[i]\n",
    "for i in range(len(Test_image)):\n",
    "    if scores[i]==1:\n",
    "        #print(\"Image:\",image_name[i])\n",
    "        #print(\"TestImage:\",Test_image[i])\n",
    "        #cv2.imwrite(image_name[i], Test_image[i])\n",
    "        cv2.imwrite(os.path.join(dest_path,image_name[i]), Test_image[i])\n",
    "        #pass"
   ]
  },
  {
   "cell_type": "markdown",
   "metadata": {},
   "source": [
    "# Generating Pickle files for classified tiles\n",
    "## To be used for generating landmarks"
   ]
  },
  {
   "cell_type": "code",
   "execution_count": null,
   "metadata": {},
   "outputs": [],
   "source": [
    "# Generating pickle file For Single neurons\n",
    "import pickle\n",
    "# Calling DataFrame constructor after zipping # both lists, with columns specified \n",
    "#cropped_data = pd.DataFrame(list(zip(ctc, vertices)),columns =['Tile_Counter', 'Vertices']) \n",
    "#cropped_data\n",
    "with open('//ibs9010/current_data/Data_Keshav/image/Classification_model/SN_MG48_3day_bs_S051.pkl', 'wb') as f:\n",
    "    pickle.dump(single_image_list, f)"
   ]
  },
  {
   "cell_type": "code",
   "execution_count": null,
   "metadata": {},
   "outputs": [],
   "source": [
    "# Generating pickle file For Partial neurons\n",
    "import pickle\n",
    "# Calling DataFrame constructor after zipping # both lists, with columns specified \n",
    "#cropped_data = pd.DataFrame(list(zip(ctc, vertices)),columns =['Tile_Counter', 'Vertices']) \n",
    "#cropped_data\n",
    "with open('//ibs9010/current_data/Data_Keshav/image/Classification_model/PN_MG48_3day_bs_S051.pkl', 'wb') as m:\n",
    "    pickle.dump(partial_image_list, m)"
   ]
  },
  {
   "cell_type": "code",
   "execution_count": null,
   "metadata": {},
   "outputs": [],
   "source": []
  }
 ],
 "metadata": {
  "kernelspec": {
   "display_name": "Python 3",
   "language": "python",
   "name": "python3"
  },
  "language_info": {
   "codemirror_mode": {
    "name": "ipython",
    "version": 3
   },
   "file_extension": ".py",
   "mimetype": "text/x-python",
   "name": "python",
   "nbconvert_exporter": "python",
   "pygments_lexer": "ipython3",
   "version": "3.7.4"
  },
  "varInspector": {
   "cols": {
    "lenName": 16,
    "lenType": 16,
    "lenVar": 40
   },
   "kernels_config": {
    "python": {
     "delete_cmd_postfix": "",
     "delete_cmd_prefix": "del ",
     "library": "var_list.py",
     "varRefreshCmd": "print(var_dic_list())"
    },
    "r": {
     "delete_cmd_postfix": ") ",
     "delete_cmd_prefix": "rm(",
     "library": "var_list.r",
     "varRefreshCmd": "cat(var_dic_list()) "
    }
   },
   "types_to_exclude": [
    "module",
    "function",
    "builtin_function_or_method",
    "instance",
    "_Feature"
   ],
   "window_display": false
  }
 },
 "nbformat": 4,
 "nbformat_minor": 2
}
