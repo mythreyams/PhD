{
 "cells": [
  {
   "cell_type": "code",
   "execution_count": 32,
   "metadata": {
    "ExecuteTime": {
     "end_time": "2020-11-04T15:03:58.372760Z",
     "start_time": "2020-11-04T15:03:58.366371Z"
    },
    "collapsed": true
   },
   "outputs": [],
   "source": [
    "import sys\n",
    "import os\n",
    "from spatial_graphs.AmiraSpatialGraph import AmiraSpatialGraph,MatchBarrels\n",
    "from spatial_graphs.Landmarks import Landmarks\n",
    "from spatial_graphs.Surfaces import Surface\n",
    "from spatial_graphs.Vectors import Vectors\n",
    "from spatial_graphs.Alignment import Alignment\n",
    "from spatial_graphs.Stats import Stats\n",
    "import pathlib"
   ]
  },
  {
   "cell_type": "code",
   "execution_count": 9,
   "metadata": {
    "ExecuteTime": {
     "end_time": "2020-11-04T14:14:42.948489Z",
     "start_time": "2020-11-04T14:14:22.016309Z"
    }
   },
   "outputs": [],
   "source": [
    "input_path = '/nas1/Data_aman/00_Rabies/Pittsburgh/DATA/All/'\n",
    "\n",
    "for file_name in ['AN9_20201103_v2_left.am']:#['AN5_20201103_v4_left.am','AN6_20201103_v8_left_new.am',]:\n",
    "\n",
    "    sg = AmiraSpatialGraph(input_path+file_name)\n",
    "    sg_new = AmiraSpatialGraph()\n",
    "    sg_new.graph_data = sg.pia\n",
    "    sg_new.graph_data.set_label('9')\n",
    "    sg_new.write_spatial_graph(input_path+file_name[:-3]+'_relabelled.am')\n",
    "\n",
    "    # Generate surface\n",
    "    os.system('/home/mythreya/project_src/BarrelField3D/DataAnalysis3D/BF3DRecon {} {} {}'.\\\n",
    "                  format(input_path+file_name[:-3]+'_relabelled.am',\\\n",
    "                         input_path+file_name[:-3]+'_relabelled',str(100)))"
   ]
  },
  {
   "cell_type": "code",
   "execution_count": 35,
   "metadata": {
    "ExecuteTime": {
     "end_time": "2020-11-04T15:05:32.480278Z",
     "start_time": "2020-11-04T15:05:30.363053Z"
    }
   },
   "outputs": [],
   "source": [
    "# First change the view of the input data so that xy view is always top view\n",
    "tr_mat = [1, 0, 0, 0, 0, 0, 1, 0, 0, -1, 0, 0, 0, 0, 0, 1]\n",
    "input_path = '/nas1/Data_aman/00_Rabies/Pittsburgh/DATA/All/To_Be_Transformed/'\n",
    "for folder in ['AN5_20201103_v4_left','AN6_20201103_v8_left','AN9_20201103_v2_left']:\n",
    "    output_path = input_path+folder+'/Canonical/'\n",
    "    pathlib.Path(output_path).mkdir(exist_ok=True)\n",
    "    aligner.transform_folder(input_path+folder+'/',output_path,txmat = tr_mat,apply_polydata_transform=True)"
   ]
  },
  {
   "cell_type": "code",
   "execution_count": 54,
   "metadata": {
    "ExecuteTime": {
     "end_time": "2020-11-04T15:51:13.025124Z",
     "start_time": "2020-11-04T15:48:15.850158Z"
    }
   },
   "outputs": [],
   "source": [
    "# register surf to mg 48\n",
    "rf_surf_path_lhs = '/nas1/Data_Mythreya/MotorCortexProject/V11/vM1_Ref_Frame/Outputs/Surfaces/MG48_lhs_pia_voxel_size_100.vtk'\n",
    "rf_surf_lhs = Surface(rf_surf_path_lhs)\n",
    "rf_center = rf_surf_lhs.surface.GetCenter()\n",
    "output_path = '/nas1/Data_aman/00_Rabies/Pittsburgh/DATA/All/' + 'Registered_To_MG48/LHS-LHS/'\n",
    "\n",
    "input_path = '/nas1/Data_aman/00_Rabies/Pittsburgh/DATA/All/To_Be_Transformed/'\n",
    "for folder in ['AN5_20201103_v4_left','AN6_20201103_v8_left','AN9_20201103_v2_left']:\n",
    "    pia = Surface(input_path+folder+'/Canonical/'+folder+'_relabelled_pia.vtk')\n",
    "    \n",
    "    aligner = Alignment(rf_surf_lhs.surface,pia.surface,nr_iterations=10000)\n",
    "    txmat = aligner.get_transformation_matrix()\n",
    "    icp = aligner.get_icp_transform()\n",
    "    aligner.transform_folder(input_path+folder+'/Canonical/',output_path,icp=icp,txmat = txmat,\\\n",
    "                            txfilename = output_path+folder+'_Transformation_Matrix.txt')\n",
    "    "
   ]
  },
  {
   "cell_type": "code",
   "execution_count": null,
   "metadata": {
    "collapsed": true
   },
   "outputs": [],
   "source": []
  }
 ],
 "metadata": {
  "kernelspec": {
   "display_name": "Python 3",
   "language": "python",
   "name": "python3"
  },
  "language_info": {
   "codemirror_mode": {
    "name": "ipython",
    "version": 3
   },
   "file_extension": ".py",
   "mimetype": "text/x-python",
   "name": "python",
   "nbconvert_exporter": "python",
   "pygments_lexer": "ipython3",
   "version": "3.6.6"
  },
  "toc": {
   "base_numbering": 1,
   "nav_menu": {},
   "number_sections": true,
   "sideBar": true,
   "skip_h1_title": false,
   "title_cell": "Table of Contents",
   "title_sidebar": "Contents",
   "toc_cell": false,
   "toc_position": {},
   "toc_section_display": true,
   "toc_window_display": false
  }
 },
 "nbformat": 4,
 "nbformat_minor": 2
}
