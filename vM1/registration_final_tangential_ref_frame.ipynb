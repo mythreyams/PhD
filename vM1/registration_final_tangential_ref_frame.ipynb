{
 "cells": [
  {
   "cell_type": "code",
   "execution_count": 1,
   "metadata": {
    "ExecuteTime": {
     "end_time": "2020-10-27T22:21:11.121286Z",
     "start_time": "2020-10-27T22:21:02.424590Z"
    },
    "collapsed": true
   },
   "outputs": [],
   "source": [
    "import sys\n",
    "import os\n",
    "sys.path.insert(0,os.path.abspath('..'))\n",
    "from spatial_graphs.AmiraSpatialGraph import AmiraSpatialGraph,MatchBarrels\n",
    "from spatial_graphs.Landmarks import Landmarks\n",
    "from spatial_graphs.Surfaces import Surface\n",
    "from spatial_graphs.Vectors import Vectors\n",
    "from spatial_graphs.Alignment import Alignment\n",
    "from dask import compute,multiprocessing,delayed\n",
    "import pathlib\n",
    "import shutil\n",
    "import glob\n",
    "import pandas as pd\n",
    "import vtk\n",
    "from scipy.spatial import distance\n",
    "import numpy as np\n",
    "from sklearn.decomposition import PCA\n",
    "from scipy.spatial import distance\n",
    "from scipy.spatial import distance_matrix"
   ]
  },
  {
   "cell_type": "markdown",
   "metadata": {},
   "source": [
    "# Create output folders"
   ]
  },
  {
   "cell_type": "code",
   "execution_count": 2,
   "metadata": {
    "ExecuteTime": {
     "end_time": "2020-10-27T22:21:14.793101Z",
     "start_time": "2020-10-27T22:21:11.123981Z"
    },
    "collapsed": true
   },
   "outputs": [],
   "source": [
    "input_path_spatial_graphs = '/nas1/Data_Mythreya/MotorCortexProject/V10/Registration/Input_Spatial_Graphs/'\n",
    "input_path_avg_rf = '/nas1/Data_Mythreya/MotorCortexProject/V10/Registration/Input_Ref_Frame/'\n",
    "input_path_layer_borders_v1 = input_path_avg_rf+'Layer_Borders_v1/'\n",
    "input_path_layer_borders_v2 = input_path_avg_rf+'Layer_Borders_v2/'\n",
    "manual_neuron_axis_path = '/nas1/Data_Mythreya/MotorCortexProject/V10/Registration/Manual_Neuron_Axis/'\n",
    "manual_cell_type_assignment = '/nas1/Data_Mythreya/MotorCortexProject/V10/Registration/vm1_OPTICS_mastersheet_afterMO.xlsx'\n",
    "layer_borders_v1 = '/nas1/Data_Mythreya/MotorCortexProject/V10/Registration/vM1_Layer_Borders_Per_Depths.csv'\n",
    "\n",
    "surface_resolution = 100\n",
    "\n",
    "ref_barrels = AmiraSpatialGraph(input_path_avg_rf+'Avg_SBF_Without_Projections.am',generic_graph=True,\\\n",
    "                                barrel_projections_present=False)\n",
    "ref_pia = Surface(input_path_avg_rf+'Avg_Pia_50.vtk')\n",
    "ref_wm = Surface(input_path_avg_rf+'Avg_WM_50.vtk')\n",
    "ref_pia_wm = Surface(polydata=ref_pia.surface)\n",
    "ref_pia_wm.append(ref_wm.surface)\n",
    "\n",
    "coronal_pia = Surface(input_path_avg_rf+'MG48_lhs_pia_open_bottom_voxel_size_50.vtk')\n",
    "coronal_wm = Surface(input_path_avg_rf+'MG48_lhs_WM_open_bottom_voxel_size_50.vtk')\n",
    "coronal_pia_wm = Surface(polydata=coronal_pia.surface)\n",
    "coronal_pia_wm.append(coronal_wm.surface)\n",
    "\n"
   ]
  },
  {
   "cell_type": "code",
   "execution_count": 3,
   "metadata": {
    "ExecuteTime": {
     "end_time": "2020-10-27T22:21:17.461702Z",
     "start_time": "2020-10-27T22:21:14.796385Z"
    },
    "collapsed": true
   },
   "outputs": [],
   "source": [
    "# create output folder structure\n",
    "HOME = str(pathlib.Path(input_path_spatial_graphs).parent)\n",
    "output_root = HOME + '/Outputs/'\n",
    "pathlib.Path((output_root)).mkdir(exist_ok=True)\n",
    "\n",
    "output_surfaces = output_root + '1_Surfaces/'\n",
    "pathlib.Path((output_surfaces)).mkdir(exist_ok=True)\n",
    "\n",
    "output_axis_field = output_root + '1_Axis_Fields/'\n",
    "pathlib.Path((output_axis_field)).mkdir(exist_ok=True)\n",
    "\n",
    "output_stats = output_root + '2_Local_Stats/'\n",
    "pathlib.Path((output_stats)).mkdir(exist_ok=True)\n",
    "\n",
    "output_neuron_axis = output_root + '2_Local_Neuron_Axis/'\n",
    "pathlib.Path((output_neuron_axis)).mkdir(exist_ok=True)\n",
    "\n",
    "output_neuron_axis_manual = output_root + '2_Manual_Neuron_Axis/'\n",
    "pathlib.Path((output_neuron_axis_manual)).mkdir(exist_ok=True)\n",
    "\n",
    "output_alignment_using_surfaces = output_root + '3_Aligned_By_Surfaces/'\n",
    "pathlib.Path((output_alignment_using_surfaces)).mkdir(exist_ok=True)\n",
    "\n",
    "output_alignment_using_barrels = output_root + '3_Aligned_By_Barrels/'\n",
    "pathlib.Path((output_alignment_using_barrels)).mkdir(exist_ok=True)\n",
    "\n",
    "output_alignment_using_neuron_axis_and_nearest_rel_depth = output_root + '4_Aligned_Local_Neuron_Axis_To_Nearest_Axis_Rel_Depth_Preserved/'\n",
    "pathlib.Path((output_alignment_using_neuron_axis_and_nearest_rel_depth)).mkdir(exist_ok=True)\n",
    "\n",
    "output_alignment_using_neuron_axis_and_local_avg_rel_depth = output_root + '4_Aligned_Local_Neuron_Axis_To_Ref_Local_Avg_Axis_Rel_Depth_Preserved/'\n",
    "pathlib.Path((output_alignment_using_neuron_axis_and_local_avg_rel_depth)).mkdir(exist_ok=True)\n",
    "\n",
    "output_alignment_using_neuron_axis_and_nearest_pia_soma = output_root + '4_Aligned_Local_Neuron_Axis_To_Nearest_Axis_Pia_Soma_Dist_Preserved/'\n",
    "pathlib.Path((output_alignment_using_neuron_axis_and_nearest_pia_soma)).mkdir(exist_ok=True)\n",
    "\n",
    "output_alignment_using_neuron_axis_and_local_Avg_pia_soma = output_root + '4_Aligned_Local_Neuron_Axis_To_Ref_Local_Avg_Axis_Pia_Soma_Dist_Preserved/'\n",
    "pathlib.Path((output_alignment_using_neuron_axis_and_local_Avg_pia_soma)).mkdir(exist_ok=True)\n",
    "\n",
    "output_alignment_final = output_root + '4_Final_Registration/'\n",
    "pathlib.Path((output_alignment_final)).mkdir(exist_ok=True)\n",
    "\n",
    "for file in glob.glob(manual_neuron_axis_path+'*'):\n",
    "    shutil.copyfile(file,output_neuron_axis_manual+os.path.basename(file))\n",
    "\n",
    "output_canonical = HOME + '/Canonical_View/'\n",
    "pathlib.Path((output_canonical)).mkdir(exist_ok=True)\n",
    "\n",
    "output_standardization = output_root + '5_Standardized_Neurons/'\n",
    "pathlib.Path((output_standardization)).mkdir(exist_ok=True)"
   ]
  },
  {
   "cell_type": "markdown",
   "metadata": {},
   "source": [
    "# Helper Functions"
   ]
  },
  {
   "cell_type": "code",
   "execution_count": 23,
   "metadata": {
    "ExecuteTime": {
     "end_time": "2020-09-03T15:11:06.952177Z",
     "start_time": "2020-09-03T15:11:06.937448Z"
    },
    "collapsed": true
   },
   "outputs": [],
   "source": [
    "# rotation from a to b\n",
    "def align_a_to_b(a,b):\n",
    "    u_a = Vectors().get_unit_vec(a[0],a[1])\n",
    "    u_b = Vectors().get_unit_vec(b[0],b[1])\n",
    "    v = np.cross(u_a,u_b)\n",
    "    s = np.linalg.norm(v)\n",
    "    c = np.dot(u_a,u_b)\n",
    "    I = np.array([1,0,0,0,1,0,0,0,1]).reshape([3,3])\n",
    "    #print(I)\n",
    "    v_x = np.array([0,-v[2],v[1],v[2],0,-v[0],-v[1],v[0],0]).reshape([3,3])\n",
    "    R = I + v_x + np.dot(v_x,v_x) * (1/(1+c))\n",
    "    r_list = []\n",
    "    for i in range(3):\n",
    "        for j in range(3):\n",
    "            r_list.append(R[i,j])\n",
    "    #print(R)\n",
    "    return R"
   ]
  },
  {
   "cell_type": "code",
   "execution_count": 24,
   "metadata": {
    "ExecuteTime": {
     "end_time": "2020-09-03T15:11:07.092213Z",
     "start_time": "2020-09-03T15:11:07.082320Z"
    },
    "collapsed": true
   },
   "outputs": [],
   "source": [
    "def convert_to_transformation_matrix(rot_mat,translation):\n",
    "    \n",
    "    tr_mat = []\n",
    "    k = 0\n",
    "\n",
    "    for i in range(3):\n",
    "        for j in range(3):\n",
    "            tr_mat.append(rot_mat[i,j])\n",
    "            k = k + 1\n",
    "        tr_mat.append(0)\n",
    "        k = k+1\n",
    "    tr_mat.append(-translation[0])\n",
    "    tr_mat.append(-translation[1])\n",
    "    tr_mat.append(-translation[2])\n",
    "    tr_mat.append(1)\n",
    "    return tr_mat"
   ]
  },
  {
   "cell_type": "code",
   "execution_count": null,
   "metadata": {
    "ExecuteTime": {
     "end_time": "2020-09-01T14:35:27.536378Z",
     "start_time": "2020-09-01T14:35:27.525943Z"
    },
    "collapsed": true
   },
   "outputs": [],
   "source": [
    "def write_edge(edge,filename):\n",
    "    axis_sg = AmiraSpatialGraph(generic_graph=True)\n",
    "    axis_sg.graph_data.add_edge(edge[0],edge[1])\n",
    "    axis_sg.write_spatial_graph(filename)\n",
    "\n",
    "    return axis_sg\n",
    "\n",
    "    "
   ]
  },
  {
   "cell_type": "code",
   "execution_count": null,
   "metadata": {
    "ExecuteTime": {
     "end_time": "2020-09-01T14:35:27.672298Z",
     "start_time": "2020-09-01T14:35:27.660943Z"
    },
    "collapsed": true
   },
   "outputs": [],
   "source": [
    "def resample_edge(edge,num_pts_to_be_inserted):\n",
    "    resampled_edge = []\n",
    "    #resample_edge.append(edge[0])\n",
    "    n = np.array(edge[len(edge)-1]) - np.array(edge[0])\n",
    "    n_unit = n / np.linalg.norm(n)\n",
    "    edge_len = Vectors().get_vec_length(edge)\n",
    "    for i in range(num_pts_to_be_inserted):\n",
    "        resampled_edge.append(i*n_unit*edge_len/num_pts_to_be_inserted+edge[0])\n",
    "    return edge"
   ]
  },
  {
   "cell_type": "code",
   "execution_count": null,
   "metadata": {
    "ExecuteTime": {
     "end_time": "2020-09-01T14:35:27.792325Z",
     "start_time": "2020-09-01T14:35:27.780914Z"
    },
    "collapsed": true
   },
   "outputs": [],
   "source": [
    "def get_pca_direction(apical_dendrite_pts,res=1,two_d_only=False):\n",
    "#     resampled_pts = []\n",
    "#     for edge in apical_dendrite_edges:\n",
    "#         for i in range(len(edge)-1):\n",
    "#             length = distance.euclidean(edge[i],edge[i+1])\n",
    "#             if length > res:\n",
    "#                 num_pts_to_be_inserted = int(length/res)\n",
    "#                 resampled_edge = resample_edge(edge,num_pts_to_be_inserted)\n",
    "#                 for i in range(len(resampled_edge)):\n",
    "#                     resampled_pts.append(resampled_edge[i])\n",
    "    \n",
    "    if two_d_only:\n",
    "        pca = PCA(n_components=2,)\n",
    "        pts = np.array(apical_dendrite_pts)[:,0:2]\n",
    "        transformed_pca = pca.fit_transform(X=pts)\n",
    "    else:\n",
    "        pca = PCA(n_components=3,)\n",
    "        transformed_pca = pca.fit_transform(X=apical_dendrite_pts)\n",
    "    #print(transformed_pca)\n",
    "    return pca.components_"
   ]
  },
  {
   "cell_type": "code",
   "execution_count": null,
   "metadata": {
    "ExecuteTime": {
     "end_time": "2020-09-01T14:02:12.396263Z",
     "start_time": "2020-09-01T14:02:12.384408Z"
    },
    "collapsed": true
   },
   "outputs": [],
   "source": [
    "def get_wm_intersection_pt(wm,soma_pt,pia_pt):\n",
    "    wm_pt = []\n",
    "    for j in range(500,6000,50):\n",
    "        opposing_pt = Vectors().create_pt_along_vector_at_given_distance(-j,soma_pt,pia_pt)\n",
    "        #print(opposing_pt)\n",
    "        #Landmarks(pts=[opposing_pt]).write_landmarks(output_root+'oppsing_pt')\n",
    "        wm_pt,dist = wm.get_vector_intersection_pt(soma_pt,opposing_pt,extrapolation_len=0)\n",
    "        #Landmarks(pts=[opposing_pt]).write_landmarks(output_root+'wm_pt')\n",
    "        #print(wm_pt)\n",
    "        if len(wm_pt)>0:\n",
    "            break\n",
    "    return wm_pt"
   ]
  },
  {
   "cell_type": "code",
   "execution_count": 38,
   "metadata": {
    "ExecuteTime": {
     "end_time": "2020-09-03T20:18:14.656101Z",
     "start_time": "2020-09-03T20:18:14.650392Z"
    },
    "collapsed": true
   },
   "outputs": [],
   "source": [
    "def get_cell_type_from_df(df,exp_name):\n",
    "    for i in range(len(df)):\n",
    "        if exp_name.startswith(df['file_id'][i]):\n",
    "            return df['celltype_manual'][i]\n",
    "    "
   ]
  },
  {
   "cell_type": "markdown",
   "metadata": {},
   "source": [
    "# Create Pia and WM Surfaces"
   ]
  },
  {
   "cell_type": "code",
   "execution_count": null,
   "metadata": {
    "ExecuteTime": {
     "end_time": "2020-08-20T16:49:16.524302Z",
     "start_time": "2020-08-20T16:49:16.480772Z"
    },
    "collapsed": true
   },
   "outputs": [],
   "source": [
    "@delayed\n",
    "def create_surface(file,surface_resolution='100'):\n",
    "    sg = AmiraSpatialGraph(filename=file)\n",
    "    # flip if required\n",
    "    #txmat = get_axis_flip_tx_mat(sg)\n",
    "    #print(txmat)\n",
    "    #sg.apply_transformation(txmat)\n",
    "    #sg.write_spatial_graph(root_dst+os.path.basename(file))\n",
    "    #sg = AmiraSpatialGraph(root_dst+os.path.basename(file))\n",
    "    #sg_clipped = get_fist_x_z_planes_sg(sg,17)\n",
    "    #sg_clipped.write_spatial_graph(root_dst+os.path.basename(file)+'_clipped.am')\n",
    "    os.system('/home/mythreya/project_src/BarrelField3D/DataAnalysis3D/BF3DRecon {} {} {}'.\\\n",
    "              format(file,output_surfaces+os.path.basename(file)[:-3],str(100)))\n",
    "    pia = Surface(output_surfaces+os.path.basename(file)[:-3]+'_pia.vtk')\n",
    "    wm = Surface(output_surfaces+os.path.basename(file)[:-3]+'_WM.vtk')\n",
    "    \n",
    "    if pia.surface.GetNumberOfCells()>0 and wm.surface.GetNumberOfCells()>0:\n",
    "        pia.clip_surface_at_given_z(-100,output_filename = output_surfaces+os.path.basename(file)[:-3]+'_pia_bottom_open.vtk')\n",
    "        wm.clip_surface_at_given_z(-100,output_filename = output_surfaces+os.path.basename(file)[:-3]+'_WM_bottom_open.vtk')\n",
    "        \n",
    "        os.system('/home/mythreya/project_src/BarrelField3D/DataAnalysis3D/BF3DRecon {} {} {}'.\\\n",
    "              format(file,output_surfaces+os.path.basename(file)[:-3],str(450)))\n",
    "        pia_450 = Surface(output_surfaces+os.path.basename(file)[:-3]+'_pia.vtk')\n",
    "        pia_450.clip_surface_at_given_z(-100,output_filename = output_surfaces+os.path.basename(file)[:-3]+'_pia_bottom_open_450.vtk')\n",
    "        \n",
    "        wm_450 = Surface(output_surfaces+os.path.basename(file)[:-3]+'_WM.vtk')\n",
    "        wm_450.clip_surface_at_given_z(-100,output_filename = output_surfaces+os.path.basename(file)[:-3]+'_WM_bottom_open_450.vtk')\n",
    "            \n",
    "    else:\n",
    "        # create a delunay surface as the traditional way has failed\n",
    "        pia = Surface(pts=sg.pia.edge_pt_coords)\n",
    "        wm = Surface(pts=sg.wm.edge_pt_coords)\n",
    "        pia_hull = pia.create_delunay_surface_3d(return_hull=True,output_filename=output_surfaces+os.path.basename(file)[:-3]+'_pia.vtk')\n",
    "        wm_hull = wm.create_delunay_surface_3d(return_hull=True,output_filename=output_surfaces+os.path.basename(file)[:-3]+'_WM.vtk')\n",
    "        \n",
    "        # clip at the bottom\n",
    "        shutil.copyfile(src=file,dst=output_surfaces+os.path.basename(file)[:-3]+'_barrels.am')\n",
    "        pia.clip_surface_at_given_z(-100,output_filename = output_surfaces+os.path.basename(file)[:-3]+'_pia_bottom_open.vtk')\n",
    "        wm.clip_surface_at_given_z(-100,output_filename = output_surfaces+os.path.basename(file)[:-3]+'_WM_bottom_open.vtk')\n",
    "        #wm.create_axis_field(pia,op_sg_name=output_surfaces+os.path.basename(file)[:-3]+'_axis_field.am',flip_normals=False,\\\n",
    "        #                              return_axes=True)"
   ]
  },
  {
   "cell_type": "code",
   "execution_count": null,
   "metadata": {
    "ExecuteTime": {
     "end_time": "2020-08-20T16:49:56.648543Z",
     "start_time": "2020-08-20T16:49:16.599724Z"
    },
    "collapsed": true,
    "scrolled": true
   },
   "outputs": [],
   "source": [
    "fn_list_surfs = []\n",
    "file_names = sorted(glob.glob(input_path_spatial_graphs+'*.am'))\n",
    "for i in range(len(file_names)):\n",
    "    #if os.path.basename(file_names[i])=='RA20150804_2_4x-_for_cell_merge_.am_Segmented_corrected_DONE.am':\n",
    "    fn_list_surfs.append(create_surface(file_names[i]))\n",
    "\n",
    "compute(fn_list_surfs)"
   ]
  },
  {
   "cell_type": "markdown",
   "metadata": {},
   "source": [
    "# Generate Axis Field"
   ]
  },
  {
   "cell_type": "code",
   "execution_count": null,
   "metadata": {
    "ExecuteTime": {
     "end_time": "2020-08-20T16:59:08.288266Z",
     "start_time": "2020-08-20T16:59:07.997603Z"
    },
    "collapsed": true,
    "scrolled": true
   },
   "outputs": [],
   "source": [
    "# Create axis with the smooth wm (voxel size 450) \n",
    "file_names = sorted(glob.glob(input_path_spatial_graphs+'*.am'))\n",
    "for i in range(len(file_names)):\n",
    "    file = file_names[i]\n",
    "    #if os.path.basename(file)[:-3] == 'RA20150804_2_4x-_for_cell_merge_.am_Segmented_corrected_DONE':\n",
    "    pia_100 = Surface(output_surfaces+os.path.basename(file)[:-3]+'_pia_bottom_open.vtk')\n",
    "    wm_100 = Surface(output_surfaces+os.path.basename(file)[:-3]+'_WM_bottom_open.vtk')\n",
    "    wm_450 = Surface(output_surfaces+os.path.basename(file)[:-3]+'_WM_bottom_open_450.vtk')\n",
    "\n",
    "    if wm_450.surface.GetNumberOfCells() > 0:\n",
    "        wm_to_use = wm_450\n",
    "    else:\n",
    "        wm_to_use = wm_100\n",
    "    \n",
    "    flipped_axes = wm_to_use.create_axis_field(pia_100,op_sg_name=None,flip_normals=True,return_axes=True,\\\n",
    "                                            max_allowed_axis_length=5000,check_source_double_touch=True)\n",
    "    axes = wm_to_use.create_axis_field(pia_100,op_sg_name=None,flip_normals=False,return_axes=True,\\\n",
    "                                    max_allowed_axis_length=5000,check_source_double_touch=True)\n",
    "    sg = AmiraSpatialGraph(generic_graph=True)\n",
    "    for edge in flipped_axes:\n",
    "        sg.graph_data.add_edge(edge[0],edge[1])\n",
    "    for edge in axes:\n",
    "        sg.graph_data.add_edge(edge[0],edge[1])\n",
    "    #sg.write_spatial_graph(output_axis_field+os.path.basename(file)[:-3]+'_axis_field.am')\n",
    "\n",
    "    # trim the axis field as per the pia and wm surfaces of 100 micron voxel resolution\n",
    "    selected_axis_field_sg,wm_pts,pia_pts,missing_axis_field = pia_100.get_axis_field_within_instersecting_surface_with_trimming\\\n",
    "                                (pia_100.surface,wm_100.surface,sg.graph_data.edge_list,vec_extension_offset=0.75)\n",
    "    selected_axis_field_sg.write_spatial_graph(output_axis_field+os.path.basename(file)[:-3]+'_axis_field.am')\n",
    "\n",
    "        \n",
    "        "
   ]
  },
  {
   "cell_type": "markdown",
   "metadata": {},
   "source": [
    "# Stats of input neuron and surfaces"
   ]
  },
  {
   "cell_type": "code",
   "execution_count": null,
   "metadata": {
    "ExecuteTime": {
     "start_time": "2020-08-20T17:00:07.000Z"
    },
    "collapsed": true,
    "scrolled": true
   },
   "outputs": [],
   "source": [
    "cols = ['Exp_Name','Pia_Area','WM_Area','Pia_Volume','WM_Volume',\\\n",
    "        'Cortical_Thickness_Mean','Cortical_Thickness_Std','Cortical_Thickness_CoV',\\\n",
    "        'Cortical_Thickness_vS1_Mean','Cortical_Thickness_vS1_Std','Cortical_Thickness_vS1_CoV',]\n",
    "df_main = pd.DataFrame(columns=cols)\n",
    "\n",
    "for file in sorted(glob.glob(input_path_spatial_graphs+'*.am')):\n",
    "    print(file)\n",
    "    pia = Surface(output_surfaces+os.path.basename(file)[:-3]+'_pia_bottom_open.vtk')\n",
    "    wm = Surface(output_surfaces+os.path.basename(file)[:-3]+'_WM_bottom_open.vtk')\n",
    "    pia_closed = pia.create_delunay_surface_3d(return_hull=True,make_cube=False)\n",
    "    wm_closed = wm.create_delunay_surface_3d(return_hull=True,make_cube=False)\n",
    "    axis_field = AmiraSpatialGraph(output_axis_field+os.path.basename(file)[:-3]+'_axis_field.am',generic_graph=True)\n",
    "    \n",
    "    sg = AmiraSpatialGraph(file)\n",
    "    vs1_sg = AmiraSpatialGraph(generic_graph=True)\n",
    "    # create hull around s1 and get axis field for s1\n",
    "    for pt in sg.barrels.all_rows_graphdata.edge_pt_coords:\n",
    "        min_edge,min_dist, min_dist_from_wm, min_dist_from_pia, pt_on_vector = \\\n",
    "        Vectors().get_nearest_axis_to_pt(pt,axis_field.graph_data.edge_list,axis_validation_distance=3000)\n",
    "        vs1_sg.graph_data.add_edge(min_edge[0],min_edge[1])\n",
    "    vs1_sg.write_spatial_graph(output_axis_field+os.path.basename(file)[:-3]+'_vS1_Axis_Field.am')\n",
    "    \n",
    "    # find vector lengths for whole surface and vs1 area\n",
    "    vec_lens,bla1,bla2 = Vectors().get_vec_lengths(axis_field.graph_data.edge_list)\n",
    "    vec_lens_vs1,bla,blee = Vectors().get_vec_lengths(vs1_sg.graph_data.edge_list)\n",
    "        \n",
    "    df = pd.DataFrame(columns=df_main.columns)\n",
    "    df['Exp_Name'] = [os.path.basename(file)[:-3]]\n",
    "    df['Pia_Area'] = [pia.get_surface_properties(prop='area')]\n",
    "    df['WM_Area'] = [wm.get_surface_properties(prop='area')]\n",
    "    df['Pia_Volume'] = [Surface(polydata=pia_closed).get_surface_properties(prop='volume')]\n",
    "    df['WM_Volume'] = [Surface(polydata=wm_closed).get_surface_properties(prop='volume')]\n",
    "    df['Cortical_Thickness_Mean'] = [np.array(vec_lens).mean(axis=0)]\n",
    "    df['Cortical_Thickness_Std'] = [np.array(vec_lens).std(axis=0)]\n",
    "    df['Cortical_Thickness_CoV'] = df['Cortical_Thickness_Std'] / df['Cortical_Thickness_Mean'] * 100\n",
    "    df['Cortical_Thickness_vS1_Mean'] = [np.array(vec_lens_vs1).mean(axis=0)]\n",
    "    df['Cortical_Thickness_vS1_Std'] = [np.array(vec_lens_vs1).std(axis=0)]\n",
    "    df['Cortical_Thickness_vS1_CoV'] = df['Cortical_Thickness_vS1_Std'] / df['Cortical_Thickness_vS1_Mean'] * 100\n",
    "        \n",
    "    df_main = df_main.append(df)\n",
    "\n",
    "df_main.to_csv(output_stats+'Surface_Area_and_Thickness.csv')\n",
    "    "
   ]
  },
  {
   "cell_type": "code",
   "execution_count": null,
   "metadata": {
    "ExecuteTime": {
     "end_time": "2020-08-28T14:56:13.156260Z",
     "start_time": "2020-08-28T14:47:14.801849Z"
    },
    "collapsed": true,
    "scrolled": true
   },
   "outputs": [],
   "source": [
    "cols = ['Exp_Name','Apical_Dendrite_Present','WM_Present_Below_Neuron',\\\n",
    "        'Neuron_Depth_from_Pia','Neuron_Height_from_WM','Neuron_Axis_Length']\n",
    "df_main = pd.DataFrame(columns=cols)\n",
    "for file in sorted(glob.glob(input_path_spatial_graphs+'*.am')):\n",
    "    #if os.path.basename(file)[:-3] == 'RA20160401_Cell_B_DONE':\n",
    "    print(os.path.basename(file)[:-3])\n",
    "    df = pd.DataFrame(columns=df_main.columns)\n",
    "    df['Exp_Name'] = [os.path.basename(file)[:-3]]\n",
    "    \n",
    "    pia = Surface(output_surfaces+os.path.basename(file)[:-3]+'_pia_bottom_open.vtk')\n",
    "    wm = Surface(output_surfaces+os.path.basename(file)[:-3]+'_WM_bottom_open.vtk')\n",
    "    axis_field = AmiraSpatialGraph(output_axis_field+os.path.basename(file)[:-3]+'_axis_field.am',generic_graph=True)\n",
    "    \n",
    "    sg = AmiraSpatialGraph(file)\n",
    "    soma_center = np.array(sg.neuron.soma.edge_pt_coords).mean(axis=0)\n",
    "    Landmarks(pts=[soma_center]).write_landmarks(output_neuron_axis+os.path.basename(file)[:-3]+'_Soma_Centroid.landmarksAscii')\n",
    "\n",
    "    dendrite_pts = []    \n",
    "    for pt in sg.neuron.dendrite.apical_dendrite.edge_pt_coords:\n",
    "        dendrite_pts.append(pt)\n",
    "    for pt in sg.neuron.dendrite.basal_dendrite.edge_pt_coords:\n",
    "        dendrite_pts.append(pt)   \n",
    "    dendrite_mean = np.array(dendrite_pts).mean(axis=0)\n",
    "\n",
    "    # write dendrite for easy visualization\n",
    "    sg.write_sub_spatial_graph(sg.neuron.dendrite.apical_dendrite,output_neuron_axis+os.path.basename(file)[:-3]+\\\n",
    "                               '_apical_dendrite.am')\n",
    "    sg.write_sub_spatial_graph(sg.neuron.dendrite.basal_dendrite,output_neuron_axis+os.path.basename(file)[:-3]+\\\n",
    "                               '_basal_dendrite.am')\n",
    "\n",
    "    # Avg Local Axis \n",
    "    nearby_axes = Vectors().get_nearest_axes_to_pts_within_radius(axis_field.graph_data.edge_list,[soma_center],800)\n",
    "    nearby_axes_sg = AmiraSpatialGraph(generic_graph=True)\n",
    "    unit_vecs = []\n",
    "    for axis in nearby_axes:\n",
    "        nearby_axes_sg.graph_data.add_edge(axis[0],axis[1])\n",
    "        unit_vecs.append(Vectors().get_unit_vec(axis[0],axis[1]))\n",
    "    nearby_axes_sg.write_spatial_graph(output_neuron_axis+os.path.basename(file)[:-3]+'_axis_field_selected.am')\n",
    "    avg_uv = np.array(unit_vecs).mean(axis=0)\n",
    "    end_pt = (avg_uv*6000 + soma_center)\n",
    "    pia_proj_pt_neuron_using_local_avg_axis,soma_depth_using_local_avg = pia.get_vector_intersection_pt(end_pt,soma_center,extrapolation_len=0)\n",
    "    write_edge([soma_center,pia_proj_pt_neuron_using_local_avg_axis],output_neuron_axis+os.path.basename(file)[:-3]+'_soma_pia_axis_local_avg.am')\n",
    "    \n",
    "    wm_proj_pt_neuron_using_local_avg_axis = get_wm_intersection_pt(wm,soma_center,pia_proj_pt_neuron_using_local_avg_axis)\n",
    "    if len(wm_proj_pt_neuron_using_local_avg_axis) > 0:\n",
    "        write_edge([soma_center,wm_proj_pt_neuron_using_local_avg_axis],output_neuron_axis+os.path.basename(file)[:-3]+'_soma_wm_axis_local_avg.am')\n",
    "    else:\n",
    "        print('no wm intersection found using avg local axis for {}'.format(os.path.basename(file)))\n",
    "    soma_depth_using_local_avg = Vectors().get_vec_length([soma_center,pia_proj_pt_neuron_using_local_avg_axis])\n",
    "    # decide which method of depth measurement to use\n",
    "    # using the apical dendrite axis works best for L5 and below neurons\n",
    "    # where as local axis is good for L2/3\n",
    "    print(soma_depth_using_local_avg)\n",
    "\n",
    "    if len(sg.neuron.dendrite.apical_dendrite.edge_pt_coords) > 0:\n",
    "        df['Apical_Dendrite_Present'] = ['Yes']\n",
    "        #df = pd.DataFrame(columns=df_main.columns)\n",
    "        # Get apical dend axis using pca\n",
    "        pca_components = get_pca_direction(sg.neuron.dendrite.apical_dendrite.edge_pt_coords)\n",
    "        #Landmarks(pts=resampled_pts).write_landmarks(output_root+'pts')\n",
    "        end_pt = Vectors().create_pt_along_vector_at_given_distance(6000,[0,0,0],pca_components[0,:])\n",
    "        #Landmarks(pts=[end_pt+soma_center]).write_landmarks(output_root+'end_pt')\n",
    "        #print(end_pt)\n",
    "        angle = Vectors().get_angle_between_vectors([soma_center,pia_proj_pt_neuron_using_local_avg_axis],\\\n",
    "                         [soma_center,end_pt+soma_center],ignore_opposite_direction=False)\n",
    "        print(angle)\n",
    "        pia_proj_pt_neuron = []\n",
    "        if angle < 90:\n",
    "            # pca direction is correct.. project to pia\n",
    "            end_pt = Vectors().create_pt_along_vector_at_given_distance(6000,[0,0,0],pca_components[0,:])\n",
    "            print(end_pt)\n",
    "            Landmarks(pts=[end_pt+soma_center]).write_landmarks(output_root+'end_pt')\n",
    "            pia_proj_pt_neuron,soma_depth  = pia.get_vector_intersection_pt(end_pt+soma_center,soma_center,extrapolation_len=0)\n",
    "            write_edge([soma_center,pia_proj_pt_neuron],output_neuron_axis+os.path.basename(file)[:-3]+'_soma_pia_pca_axis.am')\n",
    "        else:\n",
    "            # the pca is inverted, so straighten it\n",
    "            #print('opposite')\n",
    "            end_pt = Vectors().create_pt_along_vector_at_given_distance(-6000,[0,0,0],pca_components[0,:])\n",
    "            pia_proj_pt_neuron,soma_depth = pia.get_vector_intersection_pt(end_pt+soma_center,soma_center,extrapolation_len=0)\n",
    "            write_edge([soma_center,pia_proj_pt_neuron],output_neuron_axis+os.path.basename(file)[:-3]+'_soma_pia_pca_axis.am')\n",
    "        \n",
    "        wm_proj_pt_neuron = get_wm_intersection_pt(wm,soma_center,pia_proj_pt_neuron)\n",
    "        if len (wm_proj_pt_neuron) > 0:\n",
    "            write_edge([soma_center,wm_proj_pt_neuron],output_neuron_axis+os.path.basename(file)[:-3]+'_soma_wm_pca_axis.am')\n",
    "        else:\n",
    "            print('no wm intersection found using pca for {}'.format(os.path.basename(file)))\n",
    "    else:\n",
    "        df['Apical_Dendrite_Present'] = ['No']\n",
    "    # select the neron axis based on whether the depth of the neuron somata\n",
    "    # for upper layer cells use avg axis, as they generally dont have enough apical dend\n",
    "    # otherwise use dend pca based axis\n",
    "    if soma_depth_using_local_avg < 500 or len(sg.neuron.dendrite.apical_dendrite.edge_pt_coords) == 0\\\n",
    "        or os.path.basename(file)[:-3] == 'RA20160401_Cell_B_DONE' or os.path.basename(file)[:-3]=='RA20180412_2_Cell_B.am_Segmented_corrected_DONE':\n",
    "        # this is a inverted cell... so do not invert the axis.. lets use the avg axis for this one:\n",
    "        df['Neuron_Depth_from_Pia'] = [distance.euclidean(soma_center,pia_proj_pt_neuron_using_local_avg_axis)]\n",
    "        write_edge([soma_center,pia_proj_pt_neuron_using_local_avg_axis],output_neuron_axis+os.path.basename(file)[:-3]+'_soma_pia_axis.am')\n",
    "        if len(wm_proj_pt_neuron_using_local_avg_axis) > 0:\n",
    "            write_edge([soma_center,wm_proj_pt_neuron_using_local_avg_axis],output_neuron_axis+os.path.basename(file)[:-3]+'_soma_wm_axis.am')\n",
    "            df['WM_Present_Below_Neuron'] = ['Yes']\n",
    "            df['Neuron_Height_from_WM'] = [distance.euclidean(soma_center,wm_proj_pt_neuron_using_local_avg_axis)]\n",
    "            df['Neuron_Axis_Length'] = df['Neuron_Depth_from_Pia'] + df['Neuron_Height_from_WM']\n",
    "            \n",
    "    else:\n",
    "        df['Neuron_Depth_from_Pia'] = [distance.euclidean(soma_center,pia_proj_pt_neuron)]\n",
    "        write_edge([soma_center,pia_proj_pt_neuron],output_neuron_axis+os.path.basename(file)[:-3]+'_soma_pia_axis.am')\n",
    "        if len(wm_proj_pt_neuron) > 0:\n",
    "            write_edge([soma_center,wm_proj_pt_neuron],output_neuron_axis+os.path.basename(file)[:-3]+'_soma_wm_axis.am')\n",
    "            df['WM_Present_Below_Neuron'] = ['Yes']\n",
    "            df['Neuron_Height_from_WM'] = [distance.euclidean(soma_center,wm_proj_pt_neuron)]\n",
    "            df['Neuron_Axis_Length'] = df['Neuron_Depth_from_Pia'] + df['Neuron_Height_from_WM']\n",
    "            \n",
    "    df_main = df_main.append(df)\n",
    "    \n",
    "df_main.to_csv(output_stats+'Local_Neuron_Axis.csv')"
   ]
  },
  {
   "cell_type": "markdown",
   "metadata": {},
   "source": [
    "# Register Using Barrels"
   ]
  },
  {
   "cell_type": "code",
   "execution_count": null,
   "metadata": {
    "ExecuteTime": {
     "end_time": "2020-08-28T15:31:49.912231Z",
     "start_time": "2020-08-28T15:28:10.361473Z"
    },
    "collapsed": true,
    "scrolled": true
   },
   "outputs": [],
   "source": [
    "i = 0\n",
    "for file in sorted(glob.glob(input_path_spatial_graphs+'*.am')):\n",
    "    #if os.path.basename(file) == 'RA20150804_2_4x-_for_cell_merge_.am_Segmented_corrected_DONE.am':\n",
    "    print(i, os.path.basename(file))\n",
    "    #break\n",
    "    i = i+1\n",
    "    sg = AmiraSpatialGraph(file,barrel_projections_present=False)\n",
    "\n",
    "    if len(sg.barrels.all_rows_graphdata.edge_list) > 0:\n",
    "        matching_barrels = MatchBarrels(ref_barrels.barrels,sg.barrels,use_barrels_alone=True)\n",
    "        ref_s1_pts,s1_pts = matching_barrels.get_matching_barrel_centroids()\n",
    "        landmarks = Landmarks(pts=s1_pts)\n",
    "        icp,txmat = landmarks.align_landmarks(ref_s1_pts)\n",
    "        aligner = Alignment()\n",
    "        #print(txmat)\n",
    "        #print(txmat)\n",
    "        Alignment().transform_folders(output_root,output_alignment_using_barrels,os.path.basename(file)[:-3],\\\n",
    "                                icp=icp,txmat = txmat,)\n"
   ]
  },
  {
   "cell_type": "markdown",
   "metadata": {},
   "source": [
    "# Register Using Surfaces"
   ]
  },
  {
   "cell_type": "code",
   "execution_count": null,
   "metadata": {
    "ExecuteTime": {
     "end_time": "2020-08-29T23:36:57.960367Z",
     "start_time": "2020-08-29T23:36:57.957087Z"
    },
    "collapsed": true
   },
   "outputs": [],
   "source": [
    "# Using Pia and WM\n"
   ]
  },
  {
   "cell_type": "code",
   "execution_count": null,
   "metadata": {
    "ExecuteTime": {
     "end_time": "2020-08-28T16:40:27.544251Z",
     "start_time": "2020-08-28T15:31:49.914080Z"
    },
    "collapsed": true,
    "scrolled": true
   },
   "outputs": [],
   "source": [
    "i = 0\n",
    "for file in sorted(glob.glob(input_path_spatial_graphs+'*.am')):\n",
    "    print(i, os.path.basename(file))\n",
    "    i = i + 1\n",
    "    pia = Surface(output_surfaces+os.path.basename(file)[:-3]+'_pia_bottom_open.vtk')\n",
    "    wm = Surface(output_surfaces+os.path.basename(file)[:-3]+'_WM_bottom_open.vtk')\n",
    "    \n",
    "    pia_wm = pia\n",
    "    pia_wm.append(wm.surface)\n",
    "\n",
    "    aligner = Alignment(ref_pia_wm.surface,pia_wm.surface)\n",
    "    txmat = aligner.get_transformation_matrix()\n",
    "    icp = aligner.get_icp_transform()\n",
    "    \n",
    "    aligner = Alignment()\n",
    "    \n",
    "    Alignment().transform_folders(output_root,output_alignment_using_surfaces,os.path.basename(file)[:-3],\\\n",
    "                            icp=icp,txmat = txmat,)\n",
    "    \n",
    "    "
   ]
  },
  {
   "cell_type": "code",
   "execution_count": null,
   "metadata": {
    "ExecuteTime": {
     "end_time": "2020-08-26T20:49:04.604341Z",
     "start_time": "2020-08-26T19:38:23.936745Z"
    },
    "collapsed": true
   },
   "outputs": [],
   "source": [
    "# using only pias\n",
    "output_path = output_alignment_using_surfaces+'/Pia_Only_Alignment/'\n",
    "pathlib.Path(output_path).mkdir(exist_ok=True)\n",
    "\n",
    "for file in sorted(glob.glob(input_path_spatial_graphs+'*.am')):\n",
    "    pia = Surface(output_surfaces+os.path.basename(file)[:-3]+'_pia_bottom_open.vtk')\n",
    "\n",
    "    aligner = Alignment(ref_pia.surface,pia.surface)\n",
    "    txmat = aligner.get_transformation_matrix()\n",
    "    icp = aligner.get_icp_transform()\n",
    "    \n",
    "    aligner = Alignment()\n",
    "    \n",
    "    Alignment().transform_folders(output_root,output_path,os.path.basename(file)[:-3],\\\n",
    "                            icp=icp,txmat = txmat,)"
   ]
  },
  {
   "cell_type": "code",
   "execution_count": null,
   "metadata": {
    "ExecuteTime": {
     "end_time": "2020-08-26T21:44:41.032275Z",
     "start_time": "2020-08-26T20:49:04.606477Z"
    },
    "collapsed": true
   },
   "outputs": [],
   "source": [
    "# using only wms\n",
    "output_path = output_alignment_using_surfaces+'/WM_Only_Alignment/'\n",
    "pathlib.Path(output_path).mkdir(exist_ok=True)\n",
    "\n",
    "for file in sorted(glob.glob(input_path_spatial_graphs+'*.am')):\n",
    "    wm = Surface(output_surfaces+os.path.basename(file)[:-3]+'_WM_bottom_open.vtk')\n",
    "\n",
    "    aligner = Alignment(ref_wm.surface,wm.surface)\n",
    "    txmat = aligner.get_transformation_matrix()\n",
    "    icp = aligner.get_icp_transform()\n",
    "    \n",
    "    aligner = Alignment()\n",
    "    \n",
    "    Alignment().transform_folders(output_root,output_path,os.path.basename(file)[:-3],\\\n",
    "                            icp=icp,txmat = txmat,)"
   ]
  },
  {
   "cell_type": "code",
   "execution_count": null,
   "metadata": {
    "ExecuteTime": {
     "end_time": "2020-08-31T12:07:54.900282Z",
     "start_time": "2020-08-31T12:07:45.281383Z"
    },
    "collapsed": true
   },
   "outputs": [],
   "source": [
    "input_path = output_alignment_using_surfaces\n",
    "output_path_nearest_axis = output_alignment_using_surfaces+'/Nearest_Axis/'\n",
    "pathlib.Path(output_path_nearest_axis).mkdir(exist_ok=True)\n",
    "avg_axis_field = AmiraSpatialGraph(input_path_avg_rf+'Avg_Axis_Field_50.am',generic_graph=True).graph_data.edge_list\n",
    "nearest_axis_sg = AmiraSpatialGraph(generic_graph=True)\n",
    "soma_pia_axes_sg = AmiraSpatialGraph(generic_graph=True)\n",
    "for file in sorted(glob.glob(input_path_spatial_graphs+'*.am')):\n",
    "    #print(i, os.path.basename(file))\n",
    "    soma_center = Landmarks(input_path + '2_Local_Neuron_Axis/'+os.path.basename(file)[:-3]+'_Soma_Centroid.landmarksAscii').pts[0]\n",
    "    neaerst_vec,a,b,c,d = Vectors().get_nearest_axis_to_pt(soma_center,avg_axis_field,axis_validation_distance=5000)\n",
    "    nearest_axis_sg.graph_data.add_edge(neaerst_vec[0],neaerst_vec[1])\n",
    "    \n",
    "    nearest_axis_sg_exp = AmiraSpatialGraph(generic_graph=True)\n",
    "    nearest_axis_sg_exp.graph_data.add_edge(neaerst_vec[0],neaerst_vec[1])\n",
    "    nearest_axis_sg_exp.write_spatial_graph(output_path_nearest_axis+os.path.basename(file)[:-3]+'_nearest_axis.am')\n",
    "    \n",
    "    soma_pia_axis = AmiraSpatialGraph(input_path+'2_Local_Neuron_Axis/'\\\n",
    "                              +os.path.basename(file)[:-3]+'_soma_pia_axis.am',generic_graph=True).graph_data.edge_list[0]\n",
    "    soma_pia_axes_sg.graph_data.add_edge(soma_pia_axis[0],soma_pia_axis[1])\n",
    "nearest_axis_sg.write_spatial_graph(input_path+'Nearest_Axes.am')\n",
    "soma_pia_axes_sg.write_spatial_graph(input_path+'Original_Soma_Pia_Axes.am')"
   ]
  },
  {
   "cell_type": "markdown",
   "metadata": {},
   "source": [
    "# Refine Using Neuron Axis And Ref Axis"
   ]
  },
  {
   "cell_type": "code",
   "execution_count": null,
   "metadata": {
    "ExecuteTime": {
     "end_time": "2020-09-01T15:23:21.052608Z",
     "start_time": "2020-09-01T15:23:20.888445Z"
    },
    "collapsed": true
   },
   "outputs": [],
   "source": [
    "def refine_registration_using_neuron_axis(input_path,output_path,preserve_rel_depth=True,use_nearest_axis=True):\n",
    "    ''' Refine registration after the surface to surface registration is done, by aligning neuron axis with ref axis\n",
    "        use_nearest_axis: whether to use nearest axis in the ref frame or to use the local avg axis\n",
    "        preserve_rel_depth:whether to preserve the pia soma distance or the relative soma depth in the axis\n",
    "    '''\n",
    "    # read ref pia and wm \n",
    "    ref_pia = Surface(input_path_avg_rf+'Avg_Pia_50.vtk')\n",
    "    ref_wm = Surface(input_path_avg_rf+'Avg_WM_50.vtk')\n",
    "    \n",
    "    output_path_nearest_axis = input_path+'/Nearest_Axis/'\n",
    "    pathlib.Path(output_path_nearest_axis).mkdir(exist_ok=True)\n",
    "    output_path_interpolated_ref_axis = input_path+'/Interpolated_Reference_Axis/'\n",
    "    pathlib.Path(output_path_interpolated_ref_axis).mkdir(exist_ok=True)\n",
    "    \n",
    "    avg_axis_field = AmiraSpatialGraph(input_path_avg_rf+'Avg_Axis_Field_50.am',generic_graph=True).graph_data.edge_list\n",
    "    nearest_axis_sg = AmiraSpatialGraph(generic_graph=True)\n",
    "    for file in sorted(glob.glob(input_path_spatial_graphs+'*.am')):\n",
    "        print(os.path.basename(file))\n",
    "        original_axis_field = AmiraSpatialGraph(input_path+'1_Axis_Fields/'+os.path.basename(file)[:-3]+'_axis_field.am',generic_graph=True).graph_data.edge_list\n",
    "\n",
    "        soma_center = Landmarks(input_path + '2_Local_Neuron_Axis/'+os.path.basename(file)[:-3]+'_Soma_Centroid.landmarksAscii').pts[0]\n",
    "        soma_pia_axis = AmiraSpatialGraph(input_path+'2_Local_Neuron_Axis/'\\\n",
    "                                  +os.path.basename(file)[:-3]+'_soma_pia_axis.am',generic_graph=True).graph_data.edge_list[0]\n",
    "        \n",
    "        if use_nearest_axis:\n",
    "            neaerst_vec,a,b,c,d = Vectors().get_nearest_axis_to_pt(soma_center,avg_axis_field,axis_validation_distance=5000)\n",
    "            nearest_axis_sg.graph_data.add_edge(neaerst_vec[0],neaerst_vec[1])\n",
    "            ref_vec_len = Vectors().get_vec_length(neaerst_vec) \n",
    "            nearest_axis_sg_exp = AmiraSpatialGraph(generic_graph=True)\n",
    "            nearest_axis_sg_exp.graph_data.add_edge(neaerst_vec[0],neaerst_vec[1])\n",
    "            nearest_axis_sg_exp.write_spatial_graph(output_path_nearest_axis+os.path.basename(file)[:-3]+'_nearest_axis.am')\n",
    "        else:\n",
    "            # find the interpolated axis in the ref frame at this position \n",
    "            nearby_axes = Vectors().get_nearest_axes_to_pts_within_radius(avg_axis_field,[soma_center],800)\n",
    "            nearby_axes_sg = AmiraSpatialGraph(generic_graph=True)\n",
    "            unit_vecs = []\n",
    "            for axis in nearby_axes:\n",
    "                nearby_axes_sg.graph_data.add_edge(axis[0],axis[1])\n",
    "                unit_vecs.append(Vectors().get_unit_vec(axis[0],axis[1]))\n",
    "            nearby_axes_sg.write_spatial_graph(output_path_interpolated_ref_axis+os.path.basename(file)[:-3]+'_axis_field_selected.am')\n",
    "            avg_uv = np.array(unit_vecs).mean(axis=0)\n",
    "            end_pt = (avg_uv*6000 + soma_center)\n",
    "            #print(end_pt)\n",
    "            wm_proj_pt_neuron_using_local_avg_axis,dist = ref_wm.get_vector_intersection_pt(end_pt,\\\n",
    "                                                        soma_center,extrapolation_len=10000)\n",
    "            #print(wm_proj_pt_neuron_using_local_avg_axis)\n",
    "            if len(wm_proj_pt_neuron_using_local_avg_axis) > 0:\n",
    "                write_edge([soma_center,wm_proj_pt_neuron_using_local_avg_axis],output_path_interpolated_ref_axis+os.path.basename(file)[:-3]+'_soma_wm_axis_local_avg.am')\n",
    "                \n",
    "                pia_proj_pt_neuron_using_local_avg_axis,soma_depth_using_local_avg = ref_pia.get_vector_intersection_pt(wm_proj_pt_neuron_using_local_avg_axis,\\\n",
    "                                                                                            soma_center,extrapolation_len=10000)\n",
    "                write_edge([soma_center,pia_proj_pt_neuron_using_local_avg_axis],\\\n",
    "                       output_path_interpolated_ref_axis+os.path.basename(file)[:-3]+'_soma_pia_axis_local_avg.am')\n",
    "            \n",
    "                neaerst_vec = [wm_proj_pt_neuron_using_local_avg_axis,pia_proj_pt_neuron_using_local_avg_axis]\n",
    "            else:\n",
    "                print('no wm intersection found using avg local axis for {}'.format(os.path.basename(file)))\n",
    "            \n",
    "            \n",
    "        if preserve_rel_depth:\n",
    "            # need to find the pia wm dist in the original neuron axis\n",
    "            if os.path.exists(input_path+'2_Local_Neuron_Axis/'+os.path.basename(file)[:-3]+'_soma_wm_axis.am'):\n",
    "                soma_wm_axis = AmiraSpatialGraph(input_path+'2_Local_Neuron_Axis/'\\\n",
    "                                          +os.path.basename(file)[:-3]+'_soma_wm_axis.am',generic_graph=True).graph_data.edge_list[0]\n",
    "                original_vec_length = Vectors().get_vec_length(soma_pia_axis) + Vectors().get_vec_length(soma_wm_axis)\n",
    "            else:\n",
    "                # wm intersection not found.. try to find the nearest axis length in the original\n",
    "                neaerst_vec_original,a,b,c,d = Vectors().get_nearest_axis_to_pt(soma_center,original_axis_field,axis_validation_distance=5000)\n",
    "                original_vec_length = Vectors().get_vec_length(neaerst_vec_original) \n",
    "\n",
    "\n",
    "            # Get soma and pia pts on the ref axis based on the scaled soma pia depth\n",
    "            len_ratio = Vectors().get_vec_length(neaerst_vec)/original_vec_length\n",
    "            new_soma_pia_dist = len_ratio * Vectors().get_vec_length(soma_pia_axis) \n",
    "            soma_pt_on_ref_axis = Vectors().create_pt_along_vector_at_given_distance(new_soma_pia_dist,\\\n",
    "                                            neaerst_vec[1],neaerst_vec[0])\n",
    "            pia_pt_on_ref_axis = Vectors().create_pt_along_vector_at_given_distance(Vectors().get_vec_length(soma_pia_axis),\\\n",
    "                                            soma_pt_on_ref_axis,neaerst_vec[1])\n",
    "\n",
    "            landmarks = Landmarks(pts=soma_pia_axis)\n",
    "            icp,txmat = landmarks.align_landmarks([soma_pt_on_ref_axis,pia_pt_on_ref_axis])\n",
    "        else:\n",
    "            # conserve the pia to soma dist only\n",
    "            soma_pt_on_ref_axis = Vectors().create_pt_along_vector_at_given_distance(Vectors().get_vec_length(soma_pia_axis),\\\n",
    "                                            neaerst_vec[1],neaerst_vec[0])\n",
    "            \n",
    "            landmarks = Landmarks(pts=soma_pia_axis)\n",
    "            icp,txmat = landmarks.align_landmarks([soma_pt_on_ref_axis,neaerst_vec[1]])\n",
    "        \n",
    "        #print(txmat)\n",
    "\n",
    "        aligner2 = Alignment() \n",
    "        aligner2.transform_folders(input_path,output_path,os.path.basename(file)[:-3],txmat=txmat,icp=icp)\n",
    "        \n",
    "        "
   ]
  },
  {
   "cell_type": "code",
   "execution_count": null,
   "metadata": {
    "ExecuteTime": {
     "end_time": "2020-09-01T15:35:22.024191Z",
     "start_time": "2020-09-01T15:23:21.888990Z"
    },
    "collapsed": true,
    "scrolled": true
   },
   "outputs": [],
   "source": [
    "# register using 4 setups \n",
    "# preserving relative depth or pia soma dist\n",
    "# using nearest axis in the ref frame or local avg axis \n",
    "refine_registration_using_neuron_axis(output_alignment_using_surfaces,output_alignment_using_neuron_axis_and_nearest_rel_depth,\\\n",
    "                                      use_nearest_axis=True,preserve_rel_depth=True)\n",
    "\n",
    "refine_registration_using_neuron_axis(output_alignment_using_surfaces,output_alignment_using_neuron_axis_and_nearest_pia_soma,\\\n",
    "                                      use_nearest_axis=True,preserve_rel_depth=False)\n",
    "\n",
    "refine_registration_using_neuron_axis(output_alignment_using_surfaces,output_alignment_using_neuron_axis_and_local_avg_rel_depth,\\\n",
    "                                      use_nearest_axis=False,preserve_rel_depth=True)\n",
    "\n",
    "refine_registration_using_neuron_axis(output_alignment_using_surfaces,output_alignment_using_neuron_axis_and_local_Avg_pia_soma,\\\n",
    "                                      use_nearest_axis=False,preserve_rel_depth=False)"
   ]
  },
  {
   "cell_type": "code",
   "execution_count": null,
   "metadata": {
    "ExecuteTime": {
     "end_time": "2020-09-01T15:42:03.552296Z",
     "start_time": "2020-09-01T15:35:22.026044Z"
    },
    "collapsed": true
   },
   "outputs": [],
   "source": [
    "for input_path in [output_alignment_using_neuron_axis_and_nearest_rel_depth,output_alignment_using_neuron_axis_and_nearest_pia_soma,\\\n",
    "                   output_alignment_using_neuron_axis_and_local_avg_rel_depth,output_alignment_using_neuron_axis_and_local_Avg_pia_soma]:\n",
    "    apical = AmiraSpatialGraph()\n",
    "    basal = AmiraSpatialGraph()\n",
    "    dend = AmiraSpatialGraph()\n",
    "    #axon = AmiraSpatialGraph()\n",
    "    neuron = AmiraSpatialGraph()\n",
    "    #input_path = output_alignment_using_neuron_axis\n",
    "    for file in sorted(glob.glob(input_path_spatial_graphs+'*.am')):\n",
    "        sg = AmiraSpatialGraph(input_path+'1_Surfaces/'+os.path.basename(file)[:-3]+'_barrels.am')\n",
    "        neuron.graph_data = neuron.combine_subgraphs([neuron.graph_data,sg.neuron.all_neurites_subgraphdata])\n",
    "        if len(sg.neuron.dendrite.apical_dendrite.edge_pt_coords)>0:\n",
    "            apical.graph_data = apical.combine_subgraphs([apical.graph_data,sg.neuron.dendrite.apical_dendrite])\n",
    "        if len(sg.neuron.dendrite.basal_dendrite.edge_pt_coords)>0:\n",
    "            basal.graph_data = basal.combine_subgraphs([basal.graph_data,sg.neuron.dendrite.basal_dendrite])\n",
    "\n",
    "    neuron.write_spatial_graph(input_path+'All_Neurons_Registered.am')\n",
    "    apical.write_spatial_graph(input_path+'All_Apical_Dendrites_Registered.am')\n",
    "    basal.write_spatial_graph(input_path+'All_Basal_Dendrites_Registered.am')"
   ]
  },
  {
   "cell_type": "markdown",
   "metadata": {},
   "source": [
    "# Create Cononical View"
   ]
  },
  {
   "cell_type": "code",
   "execution_count": 4,
   "metadata": {
    "ExecuteTime": {
     "end_time": "2020-10-27T22:22:01.528386Z",
     "start_time": "2020-10-27T22:21:24.424540Z"
    },
    "collapsed": true
   },
   "outputs": [],
   "source": [
    "# align everything to coronal pia wm to create coronal view\n",
    "aligner = Alignment(coronal_pia_wm.surface,ref_pia_wm.surface)\n",
    "txmat = aligner.get_transformation_matrix()\n",
    "icp = aligner.get_icp_transform()\n"
   ]
  },
  {
   "cell_type": "code",
   "execution_count": 7,
   "metadata": {
    "ExecuteTime": {
     "end_time": "2020-10-28T02:49:15.516312Z",
     "start_time": "2020-10-28T02:49:08.582572Z"
    }
   },
   "outputs": [],
   "source": [
    "aligner = Alignment()\n",
    "output_canonical_rf = output_canonical+ '/Input_Ref_Frame/'\n",
    "pathlib.Path(output_canonical_rf).mkdir(exist_ok=True)\n",
    "Alignment().transform_folder(input_path_avg_rf,output_canonical_rf,\\\n",
    "                    icp=icp,txmat = txmat,)\n",
    "\n",
    "#Alignment().transform_folders(output_root,output_canonical,exp_name=None,\\\n",
    "#                    icp=icp,txmat = txmat,)"
   ]
  },
  {
   "cell_type": "code",
   "execution_count": 49,
   "metadata": {
    "ExecuteTime": {
     "end_time": "2020-09-23T17:03:59.988234Z",
     "start_time": "2020-09-23T16:58:28.398085Z"
    },
    "collapsed": true
   },
   "outputs": [],
   "source": [
    "Alignment().transform_folders(output_alignment_using_neuron_axis_and_local_Avg_pia_soma+'Manual_Cell_Type_Assignment/',output_canonical+'Manual_Cell_Type_Assignment/',\\\n",
    "                    icp=icp,txmat = txmat,)"
   ]
  },
  {
   "cell_type": "markdown",
   "metadata": {
    "ExecuteTime": {
     "end_time": "2020-08-31T14:04:48.900450Z",
     "start_time": "2020-08-31T14:04:48.896451Z"
    }
   },
   "source": [
    "# Sort Regiseted Neurons as per manual cell type assignment"
   ]
  },
  {
   "cell_type": "code",
   "execution_count": 50,
   "metadata": {
    "ExecuteTime": {
     "end_time": "2020-09-03T21:01:43.540266Z",
     "start_time": "2020-09-03T20:55:50.258551Z"
    },
    "scrolled": true
   },
   "outputs": [
    {
     "name": "stdout",
     "output_type": "stream",
     "text": [
      "RA20130319_2_DONE L5tt\n",
      "RA20130320_corrected_DONE L3\n",
      "RA20130402_corrected_2_wm_countours_corrected_shifted_and_merged_DONE L6ct\n",
      "RA20130404_1_DONE L5st\n",
      "RA20130404_2_corrected_DONE L6cc\n",
      "RA20130507_1_corrected_shifted_and_merged_DONE_feature_corrected L5tt\n",
      "RA20130507_2_corrected_DONE L3\n",
      "RA20130508_1_corrected_shifted_and_merged_DONE L5tt\n",
      "RA20130513_corrected-extended_2corrected_shifted_and_merged_DONE L3\n",
      "RA20130603_DONE L5tt\n",
      "RA20130605_1_DONE L5st\n",
      "RA20130606_DONE L2\n",
      "RA20130607_1_DONE_feature_corrected_corrected inv\n",
      "RA20130607_2_DONE L3\n",
      "RA20130626_1_corrected_shifted_and_merged_DONE_feature_corrected L5tt\n",
      "RA20130626_2_DONE L2\n",
      "RA20130627_Cell_2_DONE L3\n",
      "RA20130627_Cell_3_DONE L5tt\n",
      "RA20130627_DONE L2\n",
      "RA20130628_2_Cell_1_corrected_shifted_and_merged_DONE L2\n",
      "RA20130628_2_Cell_2_corrected_shifted_and_merged_DONE L3\n",
      "RA20130628_2_Cell_3_corrected_shifted_and_merged_DONE_feature_corrected_corrected L6cc\n",
      "RA20130628_shifted_and_merged_DONE L5tt\n",
      "RA20130701_2_DONE L3\n",
      "RA20130722_2_corrected_shifted_and_merged_DONE L5tt\n",
      "RA20130725_DONE L5tt\n",
      "RA20150804_2_4x-_for_cell_merge_.am_Segmented_corrected_DONE L6ct\n",
      "RA20150805_1_Cell_A_DONE L4ss\n",
      "RA20150805_1_Cell_B_DONE L6ct\n",
      "RA20150806_DONE L4ss\n",
      "RA20150807_1_DONE L6cc\n",
      "RA20150807_2_Cell_A_corrected_shifted_and_merged_DONE L5st\n",
      "RA20150807_2_Cell_B_corrected_shifted_and_merged_DONE L2\n",
      "RA20150810_Cell_A_corrected_shifted_and_merged_DONE L4ss\n",
      "RA20150810_Cell_B_corrected_shifted_and_merged_DONE L5tt\n",
      "RA20150811_4x_.am_corrected_Segmented_DONE L5tt\n",
      "RA20150813_1_Final_Contour_Cell_Merged.am_corrected_Segmented_DONE L5st\n",
      "RA20150813_2_4x_Contours_forMerge_CELL_A_.am_corrected_Segmented_DONE L5tt\n",
      "RA20150813_2_4x_Contours_forMerge_CELL_B_.am_corrected_Segmented_shifted_and_merged_DONE L3\n",
      "RA20160302_Cell_A_DONE L3\n",
      "RA20160302_Cell_B_DONE L3\n",
      "RA20160307_4x_for_merge_.am_corrected.Segmented_DONE L2\n",
      "RA20160308_Cell_A_new.am_Segmented_corrected_DONE L6cc\n",
      "RA20160308_Cell_B---Copy_new.am_Segmented_corrected_shifted_and_merged_DONE L6cc\n",
      "RA20160310_Cell_A_corrected_shifted_and_merged_DONE L3\n",
      "RA20160314_Celll_A_corrected_shifted_and_merged_DONE L5tt\n",
      "RA20160322_corrected_shifted_and_merged_DONE L5tt\n",
      "RA20160323_Cell_A_DONE L2\n",
      "RA20160323_Cell_B_DONE L3\n",
      "RA20160323_Cell_C_DONE L6cc\n",
      "RA20160323_Cell_D_DONE L5tt\n",
      "RA20160324_Cell_A_corrected_shifted_and_merged_DONE L6cc\n",
      "RA20160329_Cell_A_corrected_shifted_and_merged_DONE L5tt\n",
      "RA20160330_Cell_A_corrected_shifted_and_merged_DONE L6ct\n",
      "RA20160330_Cell_B_corrected_shifted_and_merge_DONE L6cc\n",
      "RA20160331_Cell_A_DONE L6ct\n",
      "RA20160331_Cell_B_DONE L6cc\n",
      "RA20160401_Cell_A_DONE L6ct\n",
      "RA20160401_Cell_B_DONE inv\n",
      "RA20160404_Cell_A_corrected_shifted_and_merged_DONE L5tt\n",
      "RA20160404_Cell_B_DONE int\n",
      "RA20171211.am_Segmented_corrected_DONE L6cc\n",
      "RA20171212_1_Cell_B.am_Segmented_corrected_DONE L6cc\n",
      "RA20171212_1_Cell_C.am_Segmented_corrected_DONE L6ct\n",
      "RA20171212_1_Cell_F.am_Segmented_corrected_DONE L6ct\n",
      "RA20171212_2_Cell_A.am_Segmented_corrected_DONE L6ct\n",
      "RA20171212_2_Cell_B.am_Segmented_corrected_DONE L6cc\n",
      "RA20171214_1_Cell_A.am_Segmented_corrected_shifted_corrected_and_merged_DONE L6ct\n",
      "RA20171214_1_Cell_B.am_Segmented_corrected_DONE L6ct\n",
      "RA20171214_1_Cell_C.am_Segmented_corrected_DONE L6ct\n",
      "RA20171215_1_.am_Segmented_corrected_DONE L6ct\n",
      "RA20180108_1.am_Segmented_corrected_shifted_and_merged_DONE L2\n",
      "RA20180108_2.am_Segmented_corrected_shifted_and_merged_DONE L2\n",
      "RA20180109_1_Cell_A_done.am_Segmented_corrected_shifted_and_merged_DONE L2\n",
      "RA20180109_1_Cell_B.am_Segmented_corrected_shifted_and_Merged_DONE L3\n",
      "RA20180109_1_Cell_C_done.am_Segmented_corrected_DONE L2\n",
      "RA20180109_2_Cluster_A_Cell_A_done.am_Segmented_corrected_DONE L2\n",
      "RA20180109_2_Cluster_A_Cell_B_done.am_Segmented_corrected_shifted_and_merged_DONE L2\n",
      "RA20180109_2_Cluster_A_Cell_C_done.am_Segmented_corrected_DONE L2\n",
      "RA20180109_2_Cluster_B_Cell_A_done.am_Segmented_corrected_DONE L2\n",
      "RA20180109_2_Cluster_B_Cell_B_done.am_Segmented_corrected_DONE L3\n",
      "RA20180109_2_Cluster_B_Cell_C_done.am_Segmented_corrected_DONE L3\n",
      "RA20180109_2_Cluster_B_Cell_D_done.am_Segmented_corrected_DONE L2\n",
      "RA20180109_2_Cluster_B_Cell_E_done.am_Segmented_corrected_DONE L4ss\n",
      "RA20180411_final_Contours_merged.am_Segmented_corrected_shifted_and_merged_DONE L3\n",
      "RA20180412_2_Cell_A.am_Segmented_corrected_DONE L3\n",
      "RA20180412_2_Cell_B.am_Segmented_corrected_DONE ?\n",
      "RA20180412_2_Cell_C.am_Segmented_corrected_DONE L2\n",
      "RA20180412_2_Cell_D.am_Segmented_segmented_DONE L2\n",
      "RA20180412_2_Cell_E.am_Segmented_corrected_shifted_and_merged_DONE L2\n",
      "RA20130319_2_DONE L5tt\n",
      "RA20130320_corrected_DONE L3\n",
      "RA20130402_corrected_2_wm_countours_corrected_shifted_and_merged_DONE L6ct\n",
      "RA20130404_1_DONE L5st\n",
      "RA20130404_2_corrected_DONE L6cc\n",
      "RA20130507_1_corrected_shifted_and_merged_DONE_feature_corrected L5tt\n",
      "RA20130507_2_corrected_DONE L3\n",
      "RA20130508_1_corrected_shifted_and_merged_DONE L5tt\n",
      "RA20130513_corrected-extended_2corrected_shifted_and_merged_DONE L3\n",
      "RA20130603_DONE L5tt\n",
      "RA20130605_1_DONE L5st\n",
      "RA20130606_DONE L2\n",
      "RA20130607_1_DONE_feature_corrected_corrected inv\n",
      "RA20130607_2_DONE L3\n",
      "RA20130626_1_corrected_shifted_and_merged_DONE_feature_corrected L5tt\n",
      "RA20130626_2_DONE L2\n",
      "RA20130627_Cell_2_DONE L3\n",
      "RA20130627_Cell_3_DONE L5tt\n",
      "RA20130627_DONE L2\n",
      "RA20130628_2_Cell_1_corrected_shifted_and_merged_DONE L2\n",
      "RA20130628_2_Cell_2_corrected_shifted_and_merged_DONE L3\n",
      "RA20130628_2_Cell_3_corrected_shifted_and_merged_DONE_feature_corrected_corrected L6cc\n",
      "RA20130628_shifted_and_merged_DONE L5tt\n",
      "RA20130701_2_DONE L3\n",
      "RA20130722_2_corrected_shifted_and_merged_DONE L5tt\n",
      "RA20130725_DONE L5tt\n",
      "RA20150804_2_4x-_for_cell_merge_.am_Segmented_corrected_DONE L6ct\n",
      "RA20150805_1_Cell_A_DONE L4ss\n",
      "RA20150805_1_Cell_B_DONE L6ct\n",
      "RA20150806_DONE L4ss\n",
      "RA20150807_1_DONE L6cc\n",
      "RA20150807_2_Cell_A_corrected_shifted_and_merged_DONE L5st\n",
      "RA20150807_2_Cell_B_corrected_shifted_and_merged_DONE L2\n",
      "RA20150810_Cell_A_corrected_shifted_and_merged_DONE L4ss\n",
      "RA20150810_Cell_B_corrected_shifted_and_merged_DONE L5tt\n",
      "RA20150811_4x_.am_corrected_Segmented_DONE L5tt\n",
      "RA20150813_1_Final_Contour_Cell_Merged.am_corrected_Segmented_DONE L5st\n",
      "RA20150813_2_4x_Contours_forMerge_CELL_A_.am_corrected_Segmented_DONE L5tt\n",
      "RA20150813_2_4x_Contours_forMerge_CELL_B_.am_corrected_Segmented_shifted_and_merged_DONE L3\n",
      "RA20160302_Cell_A_DONE L3\n",
      "RA20160302_Cell_B_DONE L3\n",
      "RA20160307_4x_for_merge_.am_corrected.Segmented_DONE L2\n",
      "RA20160308_Cell_A_new.am_Segmented_corrected_DONE L6cc\n",
      "RA20160308_Cell_B---Copy_new.am_Segmented_corrected_shifted_and_merged_DONE L6cc\n",
      "RA20160310_Cell_A_corrected_shifted_and_merged_DONE L3\n",
      "RA20160314_Celll_A_corrected_shifted_and_merged_DONE L5tt\n",
      "RA20160322_corrected_shifted_and_merged_DONE L5tt\n",
      "RA20160323_Cell_A_DONE L2\n",
      "RA20160323_Cell_B_DONE L3\n",
      "RA20160323_Cell_C_DONE L6cc\n",
      "RA20160323_Cell_D_DONE L5tt\n",
      "RA20160324_Cell_A_corrected_shifted_and_merged_DONE L6cc\n",
      "RA20160329_Cell_A_corrected_shifted_and_merged_DONE L5tt\n",
      "RA20160330_Cell_A_corrected_shifted_and_merged_DONE L6ct\n",
      "RA20160330_Cell_B_corrected_shifted_and_merge_DONE L6cc\n",
      "RA20160331_Cell_A_DONE L6ct\n",
      "RA20160331_Cell_B_DONE L6cc\n",
      "RA20160401_Cell_A_DONE L6ct\n",
      "RA20160401_Cell_B_DONE inv\n",
      "RA20160404_Cell_A_corrected_shifted_and_merged_DONE L5tt\n",
      "RA20160404_Cell_B_DONE int\n",
      "RA20171211.am_Segmented_corrected_DONE L6cc\n",
      "RA20171212_1_Cell_B.am_Segmented_corrected_DONE L6cc\n",
      "RA20171212_1_Cell_C.am_Segmented_corrected_DONE L6ct\n",
      "RA20171212_1_Cell_F.am_Segmented_corrected_DONE L6ct\n",
      "RA20171212_2_Cell_A.am_Segmented_corrected_DONE L6ct\n",
      "RA20171212_2_Cell_B.am_Segmented_corrected_DONE L6cc\n",
      "RA20171214_1_Cell_A.am_Segmented_corrected_shifted_corrected_and_merged_DONE L6ct\n",
      "RA20171214_1_Cell_B.am_Segmented_corrected_DONE L6ct\n",
      "RA20171214_1_Cell_C.am_Segmented_corrected_DONE L6ct\n",
      "RA20171215_1_.am_Segmented_corrected_DONE L6ct\n",
      "RA20180108_1.am_Segmented_corrected_shifted_and_merged_DONE L2\n",
      "RA20180108_2.am_Segmented_corrected_shifted_and_merged_DONE L2\n",
      "RA20180109_1_Cell_A_done.am_Segmented_corrected_shifted_and_merged_DONE L2\n",
      "RA20180109_1_Cell_B.am_Segmented_corrected_shifted_and_Merged_DONE L3\n",
      "RA20180109_1_Cell_C_done.am_Segmented_corrected_DONE L2\n",
      "RA20180109_2_Cluster_A_Cell_A_done.am_Segmented_corrected_DONE L2\n",
      "RA20180109_2_Cluster_A_Cell_B_done.am_Segmented_corrected_shifted_and_merged_DONE L2\n",
      "RA20180109_2_Cluster_A_Cell_C_done.am_Segmented_corrected_DONE L2\n",
      "RA20180109_2_Cluster_B_Cell_A_done.am_Segmented_corrected_DONE L2\n"
     ]
    },
    {
     "name": "stdout",
     "output_type": "stream",
     "text": [
      "RA20180109_2_Cluster_B_Cell_B_done.am_Segmented_corrected_DONE L3\n",
      "RA20180109_2_Cluster_B_Cell_C_done.am_Segmented_corrected_DONE L3\n",
      "RA20180109_2_Cluster_B_Cell_D_done.am_Segmented_corrected_DONE L2\n",
      "RA20180109_2_Cluster_B_Cell_E_done.am_Segmented_corrected_DONE L4ss\n",
      "RA20180411_final_Contours_merged.am_Segmented_corrected_shifted_and_merged_DONE L3\n",
      "RA20180412_2_Cell_A.am_Segmented_corrected_DONE L3\n",
      "RA20180412_2_Cell_B.am_Segmented_corrected_DONE ?\n",
      "RA20180412_2_Cell_C.am_Segmented_corrected_DONE L2\n",
      "RA20180412_2_Cell_D.am_Segmented_segmented_DONE L2\n",
      "RA20180412_2_Cell_E.am_Segmented_corrected_shifted_and_merged_DONE L2\n",
      "RA20130319_2_DONE L5tt\n",
      "RA20130320_corrected_DONE L3\n",
      "RA20130402_corrected_2_wm_countours_corrected_shifted_and_merged_DONE L6ct\n",
      "RA20130404_1_DONE L5st\n",
      "RA20130404_2_corrected_DONE L6cc\n",
      "RA20130507_1_corrected_shifted_and_merged_DONE_feature_corrected L5tt\n",
      "RA20130507_2_corrected_DONE L3\n",
      "RA20130508_1_corrected_shifted_and_merged_DONE L5tt\n",
      "RA20130513_corrected-extended_2corrected_shifted_and_merged_DONE L3\n",
      "RA20130603_DONE L5tt\n",
      "RA20130605_1_DONE L5st\n",
      "RA20130606_DONE L2\n",
      "RA20130607_1_DONE_feature_corrected_corrected inv\n",
      "RA20130607_2_DONE L3\n",
      "RA20130626_1_corrected_shifted_and_merged_DONE_feature_corrected L5tt\n",
      "RA20130626_2_DONE L2\n",
      "RA20130627_Cell_2_DONE L3\n",
      "RA20130627_Cell_3_DONE L5tt\n",
      "RA20130627_DONE L2\n",
      "RA20130628_2_Cell_1_corrected_shifted_and_merged_DONE L2\n",
      "RA20130628_2_Cell_2_corrected_shifted_and_merged_DONE L3\n",
      "RA20130628_2_Cell_3_corrected_shifted_and_merged_DONE_feature_corrected_corrected L6cc\n",
      "RA20130628_shifted_and_merged_DONE L5tt\n",
      "RA20130701_2_DONE L3\n",
      "RA20130722_2_corrected_shifted_and_merged_DONE L5tt\n",
      "RA20130725_DONE L5tt\n",
      "RA20150804_2_4x-_for_cell_merge_.am_Segmented_corrected_DONE L6ct\n",
      "RA20150805_1_Cell_A_DONE L4ss\n",
      "RA20150805_1_Cell_B_DONE L6ct\n",
      "RA20150806_DONE L4ss\n",
      "RA20150807_1_DONE L6cc\n",
      "RA20150807_2_Cell_A_corrected_shifted_and_merged_DONE L5st\n",
      "RA20150807_2_Cell_B_corrected_shifted_and_merged_DONE L2\n",
      "RA20150810_Cell_A_corrected_shifted_and_merged_DONE L4ss\n",
      "RA20150810_Cell_B_corrected_shifted_and_merged_DONE L5tt\n",
      "RA20150811_4x_.am_corrected_Segmented_DONE L5tt\n",
      "RA20150813_1_Final_Contour_Cell_Merged.am_corrected_Segmented_DONE L5st\n",
      "RA20150813_2_4x_Contours_forMerge_CELL_A_.am_corrected_Segmented_DONE L5tt\n",
      "RA20150813_2_4x_Contours_forMerge_CELL_B_.am_corrected_Segmented_shifted_and_merged_DONE L3\n",
      "RA20160302_Cell_A_DONE L3\n",
      "RA20160302_Cell_B_DONE L3\n",
      "RA20160307_4x_for_merge_.am_corrected.Segmented_DONE L2\n",
      "RA20160308_Cell_A_new.am_Segmented_corrected_DONE L6cc\n",
      "RA20160308_Cell_B---Copy_new.am_Segmented_corrected_shifted_and_merged_DONE L6cc\n",
      "RA20160310_Cell_A_corrected_shifted_and_merged_DONE L3\n",
      "RA20160314_Celll_A_corrected_shifted_and_merged_DONE L5tt\n",
      "RA20160322_corrected_shifted_and_merged_DONE L5tt\n",
      "RA20160323_Cell_A_DONE L2\n",
      "RA20160323_Cell_B_DONE L3\n",
      "RA20160323_Cell_C_DONE L6cc\n",
      "RA20160323_Cell_D_DONE L5tt\n",
      "RA20160324_Cell_A_corrected_shifted_and_merged_DONE L6cc\n",
      "RA20160329_Cell_A_corrected_shifted_and_merged_DONE L5tt\n",
      "RA20160330_Cell_A_corrected_shifted_and_merged_DONE L6ct\n",
      "RA20160330_Cell_B_corrected_shifted_and_merge_DONE L6cc\n",
      "RA20160331_Cell_A_DONE L6ct\n",
      "RA20160331_Cell_B_DONE L6cc\n",
      "RA20160401_Cell_A_DONE L6ct\n",
      "RA20160401_Cell_B_DONE inv\n",
      "RA20160404_Cell_A_corrected_shifted_and_merged_DONE L5tt\n",
      "RA20160404_Cell_B_DONE int\n",
      "RA20171211.am_Segmented_corrected_DONE L6cc\n",
      "RA20171212_1_Cell_B.am_Segmented_corrected_DONE L6cc\n",
      "RA20171212_1_Cell_C.am_Segmented_corrected_DONE L6ct\n",
      "RA20171212_1_Cell_F.am_Segmented_corrected_DONE L6ct\n",
      "RA20171212_2_Cell_A.am_Segmented_corrected_DONE L6ct\n",
      "RA20171212_2_Cell_B.am_Segmented_corrected_DONE L6cc\n",
      "RA20171214_1_Cell_A.am_Segmented_corrected_shifted_corrected_and_merged_DONE L6ct\n",
      "RA20171214_1_Cell_B.am_Segmented_corrected_DONE L6ct\n",
      "RA20171214_1_Cell_C.am_Segmented_corrected_DONE L6ct\n",
      "RA20171215_1_.am_Segmented_corrected_DONE L6ct\n",
      "RA20180108_1.am_Segmented_corrected_shifted_and_merged_DONE L2\n",
      "RA20180108_2.am_Segmented_corrected_shifted_and_merged_DONE L2\n",
      "RA20180109_1_Cell_A_done.am_Segmented_corrected_shifted_and_merged_DONE L2\n",
      "RA20180109_1_Cell_B.am_Segmented_corrected_shifted_and_Merged_DONE L3\n",
      "RA20180109_1_Cell_C_done.am_Segmented_corrected_DONE L2\n",
      "RA20180109_2_Cluster_A_Cell_A_done.am_Segmented_corrected_DONE L2\n",
      "RA20180109_2_Cluster_A_Cell_B_done.am_Segmented_corrected_shifted_and_merged_DONE L2\n",
      "RA20180109_2_Cluster_A_Cell_C_done.am_Segmented_corrected_DONE L2\n",
      "RA20180109_2_Cluster_B_Cell_A_done.am_Segmented_corrected_DONE L2\n",
      "RA20180109_2_Cluster_B_Cell_B_done.am_Segmented_corrected_DONE L3\n",
      "RA20180109_2_Cluster_B_Cell_C_done.am_Segmented_corrected_DONE L3\n",
      "RA20180109_2_Cluster_B_Cell_D_done.am_Segmented_corrected_DONE L2\n",
      "RA20180109_2_Cluster_B_Cell_E_done.am_Segmented_corrected_DONE L4ss\n",
      "RA20180411_final_Contours_merged.am_Segmented_corrected_shifted_and_merged_DONE L3\n",
      "RA20180412_2_Cell_A.am_Segmented_corrected_DONE L3\n",
      "RA20180412_2_Cell_B.am_Segmented_corrected_DONE ?\n",
      "RA20180412_2_Cell_C.am_Segmented_corrected_DONE L2\n",
      "RA20180412_2_Cell_D.am_Segmented_segmented_DONE L2\n",
      "RA20180412_2_Cell_E.am_Segmented_corrected_shifted_and_merged_DONE L2\n",
      "RA20130319_2_DONE L5tt\n",
      "RA20130320_corrected_DONE L3\n",
      "RA20130402_corrected_2_wm_countours_corrected_shifted_and_merged_DONE L6ct\n",
      "RA20130404_1_DONE L5st\n",
      "RA20130404_2_corrected_DONE L6cc\n",
      "RA20130507_1_corrected_shifted_and_merged_DONE_feature_corrected L5tt\n",
      "RA20130507_2_corrected_DONE L3\n",
      "RA20130508_1_corrected_shifted_and_merged_DONE L5tt\n",
      "RA20130513_corrected-extended_2corrected_shifted_and_merged_DONE L3\n",
      "RA20130603_DONE L5tt\n",
      "RA20130605_1_DONE L5st\n",
      "RA20130606_DONE L2\n",
      "RA20130607_1_DONE_feature_corrected_corrected inv\n",
      "RA20130607_2_DONE L3\n",
      "RA20130626_1_corrected_shifted_and_merged_DONE_feature_corrected L5tt\n",
      "RA20130626_2_DONE L2\n",
      "RA20130627_Cell_2_DONE L3\n",
      "RA20130627_Cell_3_DONE L5tt\n",
      "RA20130627_DONE L2\n",
      "RA20130628_2_Cell_1_corrected_shifted_and_merged_DONE L2\n",
      "RA20130628_2_Cell_2_corrected_shifted_and_merged_DONE L3\n",
      "RA20130628_2_Cell_3_corrected_shifted_and_merged_DONE_feature_corrected_corrected L6cc\n",
      "RA20130628_shifted_and_merged_DONE L5tt\n",
      "RA20130701_2_DONE L3\n",
      "RA20130722_2_corrected_shifted_and_merged_DONE L5tt\n",
      "RA20130725_DONE L5tt\n",
      "RA20150804_2_4x-_for_cell_merge_.am_Segmented_corrected_DONE L6ct\n",
      "RA20150805_1_Cell_A_DONE L4ss\n",
      "RA20150805_1_Cell_B_DONE L6ct\n",
      "RA20150806_DONE L4ss\n",
      "RA20150807_1_DONE L6cc\n",
      "RA20150807_2_Cell_A_corrected_shifted_and_merged_DONE L5st\n",
      "RA20150807_2_Cell_B_corrected_shifted_and_merged_DONE L2\n",
      "RA20150810_Cell_A_corrected_shifted_and_merged_DONE L4ss\n",
      "RA20150810_Cell_B_corrected_shifted_and_merged_DONE L5tt\n",
      "RA20150811_4x_.am_corrected_Segmented_DONE L5tt\n",
      "RA20150813_1_Final_Contour_Cell_Merged.am_corrected_Segmented_DONE L5st\n",
      "RA20150813_2_4x_Contours_forMerge_CELL_A_.am_corrected_Segmented_DONE L5tt\n",
      "RA20150813_2_4x_Contours_forMerge_CELL_B_.am_corrected_Segmented_shifted_and_merged_DONE L3\n",
      "RA20160302_Cell_A_DONE L3\n",
      "RA20160302_Cell_B_DONE L3\n",
      "RA20160307_4x_for_merge_.am_corrected.Segmented_DONE L2\n",
      "RA20160308_Cell_A_new.am_Segmented_corrected_DONE L6cc\n",
      "RA20160308_Cell_B---Copy_new.am_Segmented_corrected_shifted_and_merged_DONE L6cc\n",
      "RA20160310_Cell_A_corrected_shifted_and_merged_DONE L3\n",
      "RA20160314_Celll_A_corrected_shifted_and_merged_DONE L5tt\n",
      "RA20160322_corrected_shifted_and_merged_DONE L5tt\n",
      "RA20160323_Cell_A_DONE L2\n",
      "RA20160323_Cell_B_DONE L3\n",
      "RA20160323_Cell_C_DONE L6cc\n",
      "RA20160323_Cell_D_DONE L5tt\n",
      "RA20160324_Cell_A_corrected_shifted_and_merged_DONE L6cc\n",
      "RA20160329_Cell_A_corrected_shifted_and_merged_DONE L5tt\n",
      "RA20160330_Cell_A_corrected_shifted_and_merged_DONE L6ct\n",
      "RA20160330_Cell_B_corrected_shifted_and_merge_DONE L6cc\n",
      "RA20160331_Cell_A_DONE L6ct\n",
      "RA20160331_Cell_B_DONE L6cc\n",
      "RA20160401_Cell_A_DONE L6ct\n",
      "RA20160401_Cell_B_DONE inv\n",
      "RA20160404_Cell_A_corrected_shifted_and_merged_DONE L5tt\n",
      "RA20160404_Cell_B_DONE int\n",
      "RA20171211.am_Segmented_corrected_DONE L6cc\n",
      "RA20171212_1_Cell_B.am_Segmented_corrected_DONE L6cc\n",
      "RA20171212_1_Cell_C.am_Segmented_corrected_DONE L6ct\n",
      "RA20171212_1_Cell_F.am_Segmented_corrected_DONE L6ct\n",
      "RA20171212_2_Cell_A.am_Segmented_corrected_DONE L6ct\n",
      "RA20171212_2_Cell_B.am_Segmented_corrected_DONE L6cc\n",
      "RA20171214_1_Cell_A.am_Segmented_corrected_shifted_corrected_and_merged_DONE L6ct\n",
      "RA20171214_1_Cell_B.am_Segmented_corrected_DONE L6ct\n",
      "RA20171214_1_Cell_C.am_Segmented_corrected_DONE L6ct\n"
     ]
    },
    {
     "name": "stdout",
     "output_type": "stream",
     "text": [
      "RA20171215_1_.am_Segmented_corrected_DONE L6ct\n",
      "RA20180108_1.am_Segmented_corrected_shifted_and_merged_DONE L2\n",
      "RA20180108_2.am_Segmented_corrected_shifted_and_merged_DONE L2\n",
      "RA20180109_1_Cell_A_done.am_Segmented_corrected_shifted_and_merged_DONE L2\n",
      "RA20180109_1_Cell_B.am_Segmented_corrected_shifted_and_Merged_DONE L3\n",
      "RA20180109_1_Cell_C_done.am_Segmented_corrected_DONE L2\n",
      "RA20180109_2_Cluster_A_Cell_A_done.am_Segmented_corrected_DONE L2\n",
      "RA20180109_2_Cluster_A_Cell_B_done.am_Segmented_corrected_shifted_and_merged_DONE L2\n",
      "RA20180109_2_Cluster_A_Cell_C_done.am_Segmented_corrected_DONE L2\n",
      "RA20180109_2_Cluster_B_Cell_A_done.am_Segmented_corrected_DONE L2\n",
      "RA20180109_2_Cluster_B_Cell_B_done.am_Segmented_corrected_DONE L3\n",
      "RA20180109_2_Cluster_B_Cell_C_done.am_Segmented_corrected_DONE L3\n",
      "RA20180109_2_Cluster_B_Cell_D_done.am_Segmented_corrected_DONE L2\n",
      "RA20180109_2_Cluster_B_Cell_E_done.am_Segmented_corrected_DONE L4ss\n",
      "RA20180411_final_Contours_merged.am_Segmented_corrected_shifted_and_merged_DONE L3\n",
      "RA20180412_2_Cell_A.am_Segmented_corrected_DONE L3\n",
      "RA20180412_2_Cell_B.am_Segmented_corrected_DONE ?\n",
      "RA20180412_2_Cell_C.am_Segmented_corrected_DONE L2\n",
      "RA20180412_2_Cell_D.am_Segmented_segmented_DONE L2\n",
      "RA20180412_2_Cell_E.am_Segmented_corrected_shifted_and_merged_DONE L2\n"
     ]
    }
   ],
   "source": [
    "# write individual neurons into their cell type folder\n",
    "# Also write the cell layer as per registered depth\n",
    "\n",
    "#input_path = output_alignment_using_neuron_axis + '1_Surfaces/'\n",
    "cell_types_df = pd.read_excel(manual_cell_type_assignment,sheetname='celltype_MO')\n",
    "#output_path_cell_type = output_alignment_using_neuron_axis+'/Manual_Cell_Type_Assignment/'\n",
    "#pathlib.Path(output_path_cell_type).mkdir(exist_ok=True)\n",
    "\n",
    "for input_path in [output_alignment_using_neuron_axis_and_nearest_rel_depth,output_alignment_using_neuron_axis_and_nearest_pia_soma,\\\n",
    "                   output_alignment_using_neuron_axis_and_local_avg_rel_depth,output_alignment_using_neuron_axis_and_local_Avg_pia_soma]:\n",
    "    \n",
    "    output_path_cell_type = input_path+'/Manual_Cell_Type_Assignment/'\n",
    "    pathlib.Path(output_path_cell_type).mkdir(exist_ok=True)\n",
    "\n",
    "    for file in sorted(glob.glob(input_path_spatial_graphs+'*.am')):\n",
    "        #for i in range(len(cell_types_df)):\n",
    "        exp_name = os.path.basename(file)[:-3]\n",
    "        sg = AmiraSpatialGraph(input_path+'1_Surfaces/'+exp_name+'_barrels.am')\n",
    "        cell_type = get_cell_type_from_df(cell_types_df,exp_name)\n",
    "        print(exp_name,cell_type)\n",
    "        \n",
    "        outputpath = output_path_cell_type+'/{}/'.format(cell_type)\n",
    "        pathlib.Path(outputpath).mkdir(exist_ok=True)\n",
    "        apical = AmiraSpatialGraph()\n",
    "        basal = AmiraSpatialGraph()\n",
    "        dend = AmiraSpatialGraph()\n",
    "        #axon = AmiraSpatialGraph()\n",
    "        neuron = AmiraSpatialGraph()\n",
    "\n",
    "        neuron.graph_data = neuron.combine_subgraphs([neuron.graph_data,sg.neuron.all_neurites_subgraphdata])\n",
    "        if len(sg.neuron.dendrite.apical_dendrite.edge_pt_coords)>0:\n",
    "            apical.graph_data = apical.combine_subgraphs([apical.graph_data,sg.neuron.dendrite.apical_dendrite])\n",
    "            dend.graph_data = dend.combine_subgraphs([dend.graph_data,sg.neuron.dendrite.apical_dendrite])\n",
    "        if len(sg.neuron.dendrite.basal_dendrite.edge_pt_coords)>0:\n",
    "            basal.graph_data = basal.combine_subgraphs([basal.graph_data,sg.neuron.dendrite.basal_dendrite])\n",
    "            dend.graph_data = dend.combine_subgraphs([dend.graph_data,sg.neuron.dendrite.basal_dendrite])\n",
    "\n",
    "        neuron.write_spatial_graph(outputpath+exp_name+'_Neuron.am')\n",
    "        apical.write_spatial_graph(outputpath+exp_name+'_Apical.am')\n",
    "        basal.write_spatial_graph(outputpath+exp_name+'_Basal.am')\n",
    "        dend.write_spatial_graph(outputpath+exp_name+'_Dend.am')\n",
    "    "
   ]
  },
  {
   "cell_type": "code",
   "execution_count": 51,
   "metadata": {
    "ExecuteTime": {
     "end_time": "2020-09-03T21:09:39.328171Z",
     "start_time": "2020-09-03T21:01:43.542693Z"
    },
    "scrolled": true
   },
   "outputs": [
    {
     "name": "stdout",
     "output_type": "stream",
     "text": [
      "/nas1/Data_Mythreya/MotorCortexProject/V10/Registration/Outputs/4_Aligned_Local_Neuron_Axis_To_Nearest_Axis_Rel_Depth_Preserved//Manual_Cell_Type_Assignment/L5tt\n",
      "/nas1/Data_Mythreya/MotorCortexProject/V10/Registration/Outputs/4_Aligned_Local_Neuron_Axis_To_Nearest_Axis_Rel_Depth_Preserved//Manual_Cell_Type_Assignment/L3\n",
      "/nas1/Data_Mythreya/MotorCortexProject/V10/Registration/Outputs/4_Aligned_Local_Neuron_Axis_To_Nearest_Axis_Rel_Depth_Preserved//Manual_Cell_Type_Assignment/L6ct\n",
      "/nas1/Data_Mythreya/MotorCortexProject/V10/Registration/Outputs/4_Aligned_Local_Neuron_Axis_To_Nearest_Axis_Rel_Depth_Preserved//Manual_Cell_Type_Assignment/L5st\n",
      "/nas1/Data_Mythreya/MotorCortexProject/V10/Registration/Outputs/4_Aligned_Local_Neuron_Axis_To_Nearest_Axis_Rel_Depth_Preserved//Manual_Cell_Type_Assignment/L6cc\n",
      "/nas1/Data_Mythreya/MotorCortexProject/V10/Registration/Outputs/4_Aligned_Local_Neuron_Axis_To_Nearest_Axis_Rel_Depth_Preserved//Manual_Cell_Type_Assignment/L2\n",
      "/nas1/Data_Mythreya/MotorCortexProject/V10/Registration/Outputs/4_Aligned_Local_Neuron_Axis_To_Nearest_Axis_Rel_Depth_Preserved//Manual_Cell_Type_Assignment/inv\n",
      "/nas1/Data_Mythreya/MotorCortexProject/V10/Registration/Outputs/4_Aligned_Local_Neuron_Axis_To_Nearest_Axis_Rel_Depth_Preserved//Manual_Cell_Type_Assignment/L4ss\n",
      "/nas1/Data_Mythreya/MotorCortexProject/V10/Registration/Outputs/4_Aligned_Local_Neuron_Axis_To_Nearest_Axis_Rel_Depth_Preserved//Manual_Cell_Type_Assignment/int\n",
      "/nas1/Data_Mythreya/MotorCortexProject/V10/Registration/Outputs/4_Aligned_Local_Neuron_Axis_To_Nearest_Axis_Rel_Depth_Preserved//Manual_Cell_Type_Assignment/?\n",
      "/nas1/Data_Mythreya/MotorCortexProject/V10/Registration/Outputs/4_Aligned_Local_Neuron_Axis_To_Nearest_Axis_Pia_Soma_Dist_Preserved//Manual_Cell_Type_Assignment/L5tt\n",
      "/nas1/Data_Mythreya/MotorCortexProject/V10/Registration/Outputs/4_Aligned_Local_Neuron_Axis_To_Nearest_Axis_Pia_Soma_Dist_Preserved//Manual_Cell_Type_Assignment/L3\n",
      "/nas1/Data_Mythreya/MotorCortexProject/V10/Registration/Outputs/4_Aligned_Local_Neuron_Axis_To_Nearest_Axis_Pia_Soma_Dist_Preserved//Manual_Cell_Type_Assignment/L6ct\n",
      "/nas1/Data_Mythreya/MotorCortexProject/V10/Registration/Outputs/4_Aligned_Local_Neuron_Axis_To_Nearest_Axis_Pia_Soma_Dist_Preserved//Manual_Cell_Type_Assignment/L5st\n",
      "/nas1/Data_Mythreya/MotorCortexProject/V10/Registration/Outputs/4_Aligned_Local_Neuron_Axis_To_Nearest_Axis_Pia_Soma_Dist_Preserved//Manual_Cell_Type_Assignment/L6cc\n",
      "/nas1/Data_Mythreya/MotorCortexProject/V10/Registration/Outputs/4_Aligned_Local_Neuron_Axis_To_Nearest_Axis_Pia_Soma_Dist_Preserved//Manual_Cell_Type_Assignment/L2\n",
      "/nas1/Data_Mythreya/MotorCortexProject/V10/Registration/Outputs/4_Aligned_Local_Neuron_Axis_To_Nearest_Axis_Pia_Soma_Dist_Preserved//Manual_Cell_Type_Assignment/inv\n",
      "/nas1/Data_Mythreya/MotorCortexProject/V10/Registration/Outputs/4_Aligned_Local_Neuron_Axis_To_Nearest_Axis_Pia_Soma_Dist_Preserved//Manual_Cell_Type_Assignment/L4ss\n",
      "/nas1/Data_Mythreya/MotorCortexProject/V10/Registration/Outputs/4_Aligned_Local_Neuron_Axis_To_Nearest_Axis_Pia_Soma_Dist_Preserved//Manual_Cell_Type_Assignment/int\n",
      "/nas1/Data_Mythreya/MotorCortexProject/V10/Registration/Outputs/4_Aligned_Local_Neuron_Axis_To_Nearest_Axis_Pia_Soma_Dist_Preserved//Manual_Cell_Type_Assignment/?\n",
      "/nas1/Data_Mythreya/MotorCortexProject/V10/Registration/Outputs/4_Aligned_Local_Neuron_Axis_To_Ref_Local_Avg_Axis_Rel_Depth_Preserved//Manual_Cell_Type_Assignment/L5tt\n",
      "/nas1/Data_Mythreya/MotorCortexProject/V10/Registration/Outputs/4_Aligned_Local_Neuron_Axis_To_Ref_Local_Avg_Axis_Rel_Depth_Preserved//Manual_Cell_Type_Assignment/L3\n",
      "/nas1/Data_Mythreya/MotorCortexProject/V10/Registration/Outputs/4_Aligned_Local_Neuron_Axis_To_Ref_Local_Avg_Axis_Rel_Depth_Preserved//Manual_Cell_Type_Assignment/L6ct\n",
      "/nas1/Data_Mythreya/MotorCortexProject/V10/Registration/Outputs/4_Aligned_Local_Neuron_Axis_To_Ref_Local_Avg_Axis_Rel_Depth_Preserved//Manual_Cell_Type_Assignment/L5st\n",
      "/nas1/Data_Mythreya/MotorCortexProject/V10/Registration/Outputs/4_Aligned_Local_Neuron_Axis_To_Ref_Local_Avg_Axis_Rel_Depth_Preserved//Manual_Cell_Type_Assignment/L6cc\n",
      "/nas1/Data_Mythreya/MotorCortexProject/V10/Registration/Outputs/4_Aligned_Local_Neuron_Axis_To_Ref_Local_Avg_Axis_Rel_Depth_Preserved//Manual_Cell_Type_Assignment/L2\n",
      "/nas1/Data_Mythreya/MotorCortexProject/V10/Registration/Outputs/4_Aligned_Local_Neuron_Axis_To_Ref_Local_Avg_Axis_Rel_Depth_Preserved//Manual_Cell_Type_Assignment/inv\n",
      "/nas1/Data_Mythreya/MotorCortexProject/V10/Registration/Outputs/4_Aligned_Local_Neuron_Axis_To_Ref_Local_Avg_Axis_Rel_Depth_Preserved//Manual_Cell_Type_Assignment/L4ss\n",
      "/nas1/Data_Mythreya/MotorCortexProject/V10/Registration/Outputs/4_Aligned_Local_Neuron_Axis_To_Ref_Local_Avg_Axis_Rel_Depth_Preserved//Manual_Cell_Type_Assignment/int\n",
      "/nas1/Data_Mythreya/MotorCortexProject/V10/Registration/Outputs/4_Aligned_Local_Neuron_Axis_To_Ref_Local_Avg_Axis_Rel_Depth_Preserved//Manual_Cell_Type_Assignment/?\n",
      "/nas1/Data_Mythreya/MotorCortexProject/V10/Registration/Outputs/4_Aligned_Local_Neuron_Axis_To_Ref_Local_Avg_Axis_Rel_Depth_Preserved//Manual_Cell_Type_Assignment/tbd\n",
      "/nas1/Data_Mythreya/MotorCortexProject/V10/Registration/Outputs/4_Aligned_Local_Neuron_Axis_To_Ref_Local_Avg_Axis_Pia_Soma_Dist_Preserved//Manual_Cell_Type_Assignment/L5tt\n",
      "/nas1/Data_Mythreya/MotorCortexProject/V10/Registration/Outputs/4_Aligned_Local_Neuron_Axis_To_Ref_Local_Avg_Axis_Pia_Soma_Dist_Preserved//Manual_Cell_Type_Assignment/L3\n",
      "/nas1/Data_Mythreya/MotorCortexProject/V10/Registration/Outputs/4_Aligned_Local_Neuron_Axis_To_Ref_Local_Avg_Axis_Pia_Soma_Dist_Preserved//Manual_Cell_Type_Assignment/L6ct\n",
      "/nas1/Data_Mythreya/MotorCortexProject/V10/Registration/Outputs/4_Aligned_Local_Neuron_Axis_To_Ref_Local_Avg_Axis_Pia_Soma_Dist_Preserved//Manual_Cell_Type_Assignment/L5st\n",
      "/nas1/Data_Mythreya/MotorCortexProject/V10/Registration/Outputs/4_Aligned_Local_Neuron_Axis_To_Ref_Local_Avg_Axis_Pia_Soma_Dist_Preserved//Manual_Cell_Type_Assignment/L6cc\n",
      "/nas1/Data_Mythreya/MotorCortexProject/V10/Registration/Outputs/4_Aligned_Local_Neuron_Axis_To_Ref_Local_Avg_Axis_Pia_Soma_Dist_Preserved//Manual_Cell_Type_Assignment/L2\n",
      "/nas1/Data_Mythreya/MotorCortexProject/V10/Registration/Outputs/4_Aligned_Local_Neuron_Axis_To_Ref_Local_Avg_Axis_Pia_Soma_Dist_Preserved//Manual_Cell_Type_Assignment/inv\n",
      "/nas1/Data_Mythreya/MotorCortexProject/V10/Registration/Outputs/4_Aligned_Local_Neuron_Axis_To_Ref_Local_Avg_Axis_Pia_Soma_Dist_Preserved//Manual_Cell_Type_Assignment/L4ss\n",
      "/nas1/Data_Mythreya/MotorCortexProject/V10/Registration/Outputs/4_Aligned_Local_Neuron_Axis_To_Ref_Local_Avg_Axis_Pia_Soma_Dist_Preserved//Manual_Cell_Type_Assignment/int\n",
      "/nas1/Data_Mythreya/MotorCortexProject/V10/Registration/Outputs/4_Aligned_Local_Neuron_Axis_To_Ref_Local_Avg_Axis_Pia_Soma_Dist_Preserved//Manual_Cell_Type_Assignment/?\n",
      "/nas1/Data_Mythreya/MotorCortexProject/V10/Registration/Outputs/4_Aligned_Local_Neuron_Axis_To_Ref_Local_Avg_Axis_Pia_Soma_Dist_Preserved//Manual_Cell_Type_Assignment/tbd\n"
     ]
    }
   ],
   "source": [
    "# combine all type specific neurons into each cell type class\n",
    "#input_folder = output_alignment_using_neuron_axis+'/Manual_Cell_Type_Assignment/'\n",
    "for input_folder in [output_alignment_using_neuron_axis_and_nearest_rel_depth,output_alignment_using_neuron_axis_and_nearest_pia_soma,\\\n",
    "                   output_alignment_using_neuron_axis_and_local_avg_rel_depth,output_alignment_using_neuron_axis_and_local_Avg_pia_soma]:\n",
    "    \n",
    "    for folder in glob.glob(input_folder+'/Manual_Cell_Type_Assignment/*'):\n",
    "        print(folder)\n",
    "        \n",
    "        # combine all neurons\n",
    "        apical = AmiraSpatialGraph()\n",
    "        basal = AmiraSpatialGraph()\n",
    "        dend = AmiraSpatialGraph()\n",
    "        neuron = AmiraSpatialGraph()\n",
    "        for file in (glob.glob(folder+'/*_Apical.am')):\n",
    "            sg_apical = AmiraSpatialGraph(file)\n",
    "            apical.graph_data = apical.combine_subgraphs([apical.graph_data,sg_apical.graph_data])\n",
    "        for file in (glob.glob(folder+'/*_Basal.am')):\n",
    "            sg_basal = AmiraSpatialGraph(file)\n",
    "            basal.graph_data = basal.combine_subgraphs([basal.graph_data,sg_basal.graph_data])\n",
    "        for file in (glob.glob(folder+'/*_Dend.am')):\n",
    "            sg_dend = AmiraSpatialGraph(file)\n",
    "            dend.graph_data = dend.combine_subgraphs([dend.graph_data,sg_dend.graph_data])\n",
    "        for file in (glob.glob(folder+'/*_Neuron.am')):\n",
    "            sg_neuron = AmiraSpatialGraph(file)\n",
    "            neuron.graph_data = neuron.combine_subgraphs([neuron.graph_data,sg_neuron.graph_data])\n",
    "\n",
    "        neuron.write_spatial_graph(folder+'/All_Neuron_{}.am'.format(os.path.basename(folder)))\n",
    "        apical.write_spatial_graph(folder+'/All_Apical_{}.am'.format(os.path.basename(folder)))\n",
    "        basal.write_spatial_graph(folder+'/All_Basal_{}.am'.format(os.path.basename(folder)))\n",
    "        dend.write_spatial_graph(folder+'/All_Dend_{}.am'.format(os.path.basename(folder)))\n",
    "    \n",
    "    "
   ]
  },
  {
   "cell_type": "markdown",
   "metadata": {},
   "source": [
    "# Standardize and Write Galleries"
   ]
  },
  {
   "cell_type": "code",
   "execution_count": 106,
   "metadata": {
    "ExecuteTime": {
     "end_time": "2020-09-04T11:10:56.264330Z",
     "start_time": "2020-09-04T11:10:56.258996Z"
    },
    "collapsed": true
   },
   "outputs": [],
   "source": [
    "def draw_horzontal_lines(a,b,op_filename):\n",
    "    l1_line_v1 = AmiraSpatialGraph(generic_graph=True)\n",
    "    l1_line_v1.graph_data.add_edge(a,b)\n",
    "    l1_line_v1.write_spatial_graph(op_filename)"
   ]
  },
  {
   "cell_type": "code",
   "execution_count": 143,
   "metadata": {
    "ExecuteTime": {
     "end_time": "2020-09-04T15:51:07.364356Z",
     "start_time": "2020-09-04T15:51:07.339172Z"
    },
    "collapsed": true
   },
   "outputs": [],
   "source": [
    "def draw_horzontal_lines_given_depth_profile(ref_len,layer_borders,layer_borders_std,layer_border_names,op_path):\n",
    "    pia_line = AmiraSpatialGraph(generic_graph=True)\n",
    "    pia_line.graph_data.add_edge([0,0,-0],[20000,0,-0])\n",
    "    pia_line.write_spatial_graph(op_path+'Pia_Line_v2.am')\n",
    "    i = 0\n",
    "    for border in layer_borders:\n",
    "        \n",
    "        line = AmiraSpatialGraph(generic_graph=True)\n",
    "        line_err_band = AmiraSpatialGraph(generic_graph=True)\n",
    "        #line_ustd = AmiraSpatialGraph(generic_graph=True)\n",
    "        #line_lstd = AmiraSpatialGraph(generic_graph=True)\n",
    "        line.graph_data.add_edge([0,0,-(ref_len*border)],[20000,0,-(ref_len*border)])\n",
    "        line_err_band.graph_data.add_edge([0,0,-(ref_len*border - ref_len*layer_borders_std[i] )],[20000,0,-(ref_len*border - ref_len*layer_borders_std[i])])\n",
    "        line_err_band.graph_data.add_edge([0,0,-(ref_len*border + ref_len*layer_borders_std[i])],[20000,0,-(ref_len*border + ref_len*layer_borders_std[i])])\n",
    "        line.write_spatial_graph( op_path + layer_border_names[i] + '_Line_v2.am' )\n",
    "        #line_ustd.write_spatial_graph( op_path + layer_border_names[i] + '_Line_upper_band_v2.am' )\n",
    "        #line_lstd.write_spatial_graph( op_path + layer_border_names[i] + '_Line_lower_band_v2.am' )\n",
    "        \n",
    "        # write the boundary error band as a vtk file\n",
    "        Surface(pts=line_err_band.graph_data.edge_pt_coords).create_delunay_surface_3d(make_cube=True,output_filename = op_path + layer_border_names[i] + '_Error_Band.vtk' )\n",
    "        \n",
    "        i = i +1\n",
    "    wm_line = AmiraSpatialGraph(generic_graph=True)\n",
    "    wm_line.graph_data.add_edge([0,0,-ref_len],[20000,0,-ref_len])\n",
    "    wm_line.write_spatial_graph(op_path+'WM_Line_v2.am')"
   ]
  },
  {
   "cell_type": "code",
   "execution_count": 144,
   "metadata": {
    "ExecuteTime": {
     "end_time": "2020-09-04T15:51:11.076469Z",
     "start_time": "2020-09-04T15:51:07.747598Z"
    },
    "collapsed": true
   },
   "outputs": [],
   "source": [
    "# Find the central axis as the centroid of the registered somas\n",
    "borders_folder = output_standardization+'/Central_Axis_And_Boders/'\n",
    "pathlib.Path(borders_folder).mkdir(exist_ok=True)\n",
    "registered_soma_centers = []\n",
    "for file in sorted(glob.glob(output_alignment_using_neuron_axis_and_local_Avg_pia_soma+'/2_Local_Neuron_Axis/'+'*_Soma_Centroid.landmarksAscii')):\n",
    "    registered_soma_centers.append(Landmarks(file).pts[0])\n",
    "centroid = np.array(registered_soma_centers).mean(axis=0)\n",
    "Landmarks(pts=[centroid]).write_landmarks(borders_folder+'somas_centroid.landmarksAscii')\n",
    "Landmarks(pts=registered_soma_centers).write_landmarks(borders_folder+'registered_soma_centers.landmarksAscii')\n",
    "\n",
    "# generate a central axis at the somas centroid in the avg rf\n",
    "ref_pia = Surface(input_path_avg_rf+'Avg_Pia_50.vtk')\n",
    "ref_wm = Surface(input_path_avg_rf+'Avg_WM_50.vtk')\n",
    "\n",
    "avg_axis_field = AmiraSpatialGraph(input_path_avg_rf+'Avg_Axis_Field_50.am',generic_graph=True).graph_data.edge_list\n",
    "nearest_axis_sg = AmiraSpatialGraph(generic_graph=True)\n",
    "nearby_axes = Vectors().get_nearest_axes_to_pts_within_radius(avg_axis_field,[centroid],800)\n",
    "nearby_axes_sg = AmiraSpatialGraph(generic_graph=True)\n",
    "unit_vecs = []\n",
    "for axis in nearby_axes:\n",
    "    nearby_axes_sg.graph_data.add_edge(axis[0],axis[1])\n",
    "    unit_vecs.append(Vectors().get_unit_vec(axis[0],axis[1]))\n",
    "#nearby_axes_sg.write_spatial_graph(output_path_interpolated_ref_axis+os.path.basename(file)[:-3]+'_axis_field_selected.am')\n",
    "avg_uv = np.array(unit_vecs).mean(axis=0)\n",
    "end_pt = (avg_uv*6000 + soma_center)\n",
    "#print(end_pt)\n",
    "wm_proj_pt_neuron_using_local_avg_axis,dist = ref_wm.get_vector_intersection_pt(end_pt,\\\n",
    "                                            centroid,extrapolation_len=10000)\n",
    "pia_proj_pt_neuron_using_local_avg_axis,soma_depth_using_local_avg = ref_pia.get_vector_intersection_pt(wm_proj_pt_neuron_using_local_avg_axis,\\\n",
    "                                                                                centroid,extrapolation_len=10000)\n",
    "central_axis_sg = AmiraSpatialGraph(generic_graph=True)\n",
    "central_axis_sg.graph_data.add_edge(wm_proj_pt_neuron_using_local_avg_axis,pia_proj_pt_neuron_using_local_avg_axis)\n",
    "central_axis_sg.write_spatial_graph(borders_folder+'central_axis.am')\n",
    "central_axis = [wm_proj_pt_neuron_using_local_avg_axis,pia_proj_pt_neuron_using_local_avg_axis]\n",
    "\n",
    "# make layer border landmarks\n",
    "border_names = ['L1','L2_3','L5A','L5B','L6A']\n",
    "borders = [0.06,0.24,0.48,0.67,0.88]\n",
    "bordes_std = [0,0.10,0.10,0.085,0.12]\n",
    "draw_horzontal_lines_given_depth_profile(Vectors().get_vec_length(central_axis),borders,bordes_std,border_names,borders_folder_vertical)\n",
    "\n",
    "\n",
    "# read layer border csv\n",
    "# lb_df = pd.read_csv(layer_borders_v1)\n",
    "# l1_dist = Vectors().get_vec_length(central_axis_sg.graph_data.edge_list[0])*(abs(lb_df['L1_Per_Depth'][6])/100)\n",
    "# l2_3_dist = Vectors().get_vec_length(central_axis_sg.graph_data.edge_list[0])*abs(lb_df['L2/3_Per_Depth'][6])/100\n",
    "# l5A_dist = Vectors().get_vec_length(central_axis_sg.graph_data.edge_list[0])*abs(lb_df['L5A_Per_Depth'][6])/100\n",
    "# l5B_dist = Vectors().get_vec_length(central_axis_sg.graph_data.edge_list[0])*abs(lb_df['L5B_Per_Depth'][6])/100\n",
    "# l6A_dist = Vectors().get_vec_length(central_axis_sg.graph_data.edge_list[0])*abs(lb_df['L6A_Per_Depth'][6])/100\n",
    "\n",
    "# l1_pt = Vectors().create_pt_along_vector_at_given_distance(l1_dist,pia_proj_pt_neuron_using_local_avg_axis,wm_proj_pt_neuron_using_local_avg_axis)\n",
    "# l2_3_pt = Vectors().create_pt_along_vector_at_given_distance(l2_3_dist,pia_proj_pt_neuron_using_local_avg_axis,wm_proj_pt_neuron_using_local_avg_axis)\n",
    "# l5A_pt = Vectors().create_pt_along_vector_at_given_distance(l5A_dist,pia_proj_pt_neuron_using_local_avg_axis,wm_proj_pt_neuron_using_local_avg_axis)\n",
    "# l5B_pt = Vectors().create_pt_along_vector_at_given_distance(l5B_dist,pia_proj_pt_neuron_using_local_avg_axis,wm_proj_pt_neuron_using_local_avg_axis)\n",
    "# l6A_pt = Vectors().create_pt_along_vector_at_given_distance(l6A_dist,pia_proj_pt_neuron_using_local_avg_axis,wm_proj_pt_neuron_using_local_avg_axis)\n",
    "\n",
    "# Landmarks(pts=[pia_proj_pt_neuron_using_local_avg_axis]).write_landmarks(borders_folder+'Pia_pt_v1.landmarkAscii')\n",
    "# Landmarks(pts=[l1_pt]).write_landmarks(borders_folder+'L1_pt_v1.landmarkAscii')\n",
    "# Landmarks(pts=[l2_3_pt]).write_landmarks(borders_folder+'L2_3_pt_v1.landmarkAscii')\n",
    "# Landmarks(pts=[l5A_pt]).write_landmarks(borders_folder+'L5A_pt_v1.landmarkAscii')\n",
    "# Landmarks(pts=[l5B_pt]).write_landmarks(borders_folder+'L5B_pt_v1.landmarkAscii')\n",
    "# Landmarks(pts=[l6A_pt]).write_landmarks(borders_folder+'L6A_pt_v1.landmarkAscii')\n",
    "# Landmarks(pts=[wm_proj_pt_neuron_using_local_avg_axis]).write_landmarks(borders_folder+'WM_pt_v1.landmarkAscii')\n",
    "\n",
    "# # Verticalize all these things\n",
    "\n",
    "# landmarks = Landmarks(pts=[central_axis[1],central_axis[0]])\n",
    "# icp,txmat = landmarks.align_landmarks([[0,0,0],[0,0,-Vectors().get_vec_length(central_axis)]])\n",
    "# borders_folder_vertical = borders_folder+'/Vertical/'\n",
    "# pathlib.Path(borders_folder_vertical).mkdir(exist_ok=True)\n",
    "# Alignment().transform_folder(borders_folder,borders_folder_vertical,txmat=txmat,icp=icp)\n",
    "\n",
    "# # draw vertical border lines\n",
    "# draw_horzontal_lines([0,0,-0],[20000,0,-0],borders_folder_vertical+'Pia_Line_v1.am')\n",
    "# draw_horzontal_lines([0,0,-l1_dist],[20000,0,-l1_dist],borders_folder_vertical+'L1_Line_v1.am')\n",
    "# draw_horzontal_lines([0,0,-l2_3_dist],[20000,0,-l2_3_dist],borders_folder_vertical+'L2_3_Line_v1.am')\n",
    "# draw_horzontal_lines([0,0,-l5A_dist],[20000,0,-l5A_dist],borders_folder_vertical+'L5A_Line_v1.am')\n",
    "# draw_horzontal_lines([0,0,-l5B_dist],[20000,0,-l5B_dist],borders_folder_vertical+'L5B_Line_v1.am')\n",
    "# draw_horzontal_lines([0,0,-l6A_dist],[20000,0,-l6A_dist],borders_folder_vertical+'L6A_Line_v1.am')\n",
    "# draw_horzontal_lines([0,0,-Vectors().get_vec_length(central_axis)],[20000,0,-Vectors().get_vec_length(central_axis)],borders_folder_vertical+'WM_Line_v1.am')\n"
   ]
  },
  {
   "cell_type": "code",
   "execution_count": 147,
   "metadata": {
    "ExecuteTime": {
     "end_time": "2020-09-04T15:54:54.520256Z",
     "start_time": "2020-09-04T15:54:54.516795Z"
    },
    "collapsed": true
   },
   "outputs": [],
   "source": []
  },
  {
   "cell_type": "code",
   "execution_count": null,
   "metadata": {
    "collapsed": true
   },
   "outputs": [],
   "source": []
  },
  {
   "cell_type": "code",
   "execution_count": 79,
   "metadata": {
    "ExecuteTime": {
     "end_time": "2020-09-04T00:03:33.840260Z",
     "start_time": "2020-09-03T23:54:48.127449Z"
    },
    "scrolled": true
   },
   "outputs": [
    {
     "name": "stdout",
     "output_type": "stream",
     "text": [
      "/nas1/Data_Mythreya/MotorCortexProject/V10/Registration/Outputs/4_Aligned_Local_Neuron_Axis_To_Ref_Local_Avg_Axis_Rel_Depth_Preserved//Manual_Cell_Type_Assignment/?\n",
      "/nas1/Data_Mythreya/MotorCortexProject/V10/Registration/Outputs/4_Aligned_Local_Neuron_Axis_To_Ref_Local_Avg_Axis_Rel_Depth_Preserved//Manual_Cell_Type_Assignment/L2\n",
      "/nas1/Data_Mythreya/MotorCortexProject/V10/Registration/Outputs/4_Aligned_Local_Neuron_Axis_To_Ref_Local_Avg_Axis_Rel_Depth_Preserved//Manual_Cell_Type_Assignment/L3\n",
      "/nas1/Data_Mythreya/MotorCortexProject/V10/Registration/Outputs/4_Aligned_Local_Neuron_Axis_To_Ref_Local_Avg_Axis_Rel_Depth_Preserved//Manual_Cell_Type_Assignment/L4ss\n",
      "/nas1/Data_Mythreya/MotorCortexProject/V10/Registration/Outputs/4_Aligned_Local_Neuron_Axis_To_Ref_Local_Avg_Axis_Rel_Depth_Preserved//Manual_Cell_Type_Assignment/L5st\n",
      "/nas1/Data_Mythreya/MotorCortexProject/V10/Registration/Outputs/4_Aligned_Local_Neuron_Axis_To_Ref_Local_Avg_Axis_Rel_Depth_Preserved//Manual_Cell_Type_Assignment/L5tt\n",
      "/nas1/Data_Mythreya/MotorCortexProject/V10/Registration/Outputs/4_Aligned_Local_Neuron_Axis_To_Ref_Local_Avg_Axis_Rel_Depth_Preserved//Manual_Cell_Type_Assignment/L6cc\n",
      "/nas1/Data_Mythreya/MotorCortexProject/V10/Registration/Outputs/4_Aligned_Local_Neuron_Axis_To_Ref_Local_Avg_Axis_Rel_Depth_Preserved//Manual_Cell_Type_Assignment/L6ct\n",
      "/nas1/Data_Mythreya/MotorCortexProject/V10/Registration/Outputs/4_Aligned_Local_Neuron_Axis_To_Ref_Local_Avg_Axis_Rel_Depth_Preserved//Manual_Cell_Type_Assignment/int\n",
      "/nas1/Data_Mythreya/MotorCortexProject/V10/Registration/Outputs/4_Aligned_Local_Neuron_Axis_To_Ref_Local_Avg_Axis_Rel_Depth_Preserved//Manual_Cell_Type_Assignment/inv\n",
      "/nas1/Data_Mythreya/MotorCortexProject/V10/Registration/Outputs/4_Aligned_Local_Neuron_Axis_To_Ref_Local_Avg_Axis_Rel_Depth_Preserved//Manual_Cell_Type_Assignment/tbd\n",
      "/nas1/Data_Mythreya/MotorCortexProject/V10/Registration/Outputs/4_Aligned_Local_Neuron_Axis_To_Ref_Local_Avg_Axis_Pia_Soma_Dist_Preserved//Manual_Cell_Type_Assignment/?\n",
      "/nas1/Data_Mythreya/MotorCortexProject/V10/Registration/Outputs/4_Aligned_Local_Neuron_Axis_To_Ref_Local_Avg_Axis_Pia_Soma_Dist_Preserved//Manual_Cell_Type_Assignment/L2\n",
      "/nas1/Data_Mythreya/MotorCortexProject/V10/Registration/Outputs/4_Aligned_Local_Neuron_Axis_To_Ref_Local_Avg_Axis_Pia_Soma_Dist_Preserved//Manual_Cell_Type_Assignment/L3\n",
      "/nas1/Data_Mythreya/MotorCortexProject/V10/Registration/Outputs/4_Aligned_Local_Neuron_Axis_To_Ref_Local_Avg_Axis_Pia_Soma_Dist_Preserved//Manual_Cell_Type_Assignment/L4ss\n",
      "/nas1/Data_Mythreya/MotorCortexProject/V10/Registration/Outputs/4_Aligned_Local_Neuron_Axis_To_Ref_Local_Avg_Axis_Pia_Soma_Dist_Preserved//Manual_Cell_Type_Assignment/L5st\n",
      "/nas1/Data_Mythreya/MotorCortexProject/V10/Registration/Outputs/4_Aligned_Local_Neuron_Axis_To_Ref_Local_Avg_Axis_Pia_Soma_Dist_Preserved//Manual_Cell_Type_Assignment/L5tt\n",
      "/nas1/Data_Mythreya/MotorCortexProject/V10/Registration/Outputs/4_Aligned_Local_Neuron_Axis_To_Ref_Local_Avg_Axis_Pia_Soma_Dist_Preserved//Manual_Cell_Type_Assignment/L6cc\n",
      "/nas1/Data_Mythreya/MotorCortexProject/V10/Registration/Outputs/4_Aligned_Local_Neuron_Axis_To_Ref_Local_Avg_Axis_Pia_Soma_Dist_Preserved//Manual_Cell_Type_Assignment/L6ct\n",
      "/nas1/Data_Mythreya/MotorCortexProject/V10/Registration/Outputs/4_Aligned_Local_Neuron_Axis_To_Ref_Local_Avg_Axis_Pia_Soma_Dist_Preserved//Manual_Cell_Type_Assignment/int\n",
      "/nas1/Data_Mythreya/MotorCortexProject/V10/Registration/Outputs/4_Aligned_Local_Neuron_Axis_To_Ref_Local_Avg_Axis_Pia_Soma_Dist_Preserved//Manual_Cell_Type_Assignment/inv\n",
      "/nas1/Data_Mythreya/MotorCortexProject/V10/Registration/Outputs/4_Aligned_Local_Neuron_Axis_To_Ref_Local_Avg_Axis_Pia_Soma_Dist_Preserved//Manual_Cell_Type_Assignment/tbd\n"
     ]
    }
   ],
   "source": [
    "# read the cell type specific neurons, verticalize them and organize into galleries\n",
    "standardized_no_scaling_neurons_path = output_standardization + '/Standardized_No_Scaling/' \n",
    "standardized_uniform_scaling_neurons_path = output_standardization  + '/Standardized_Uniform_Scaling/' \n",
    "standardized_layerwise_scaling_neurons_path = output_standardization  + '/Standardized_Layerwise_Scaling/' \n",
    "pathlib.Path(standardized_no_scaling_neurons_path).mkdir(exist_ok=True)\n",
    "pathlib.Path(standardized_uniform_scaling_neurons_path).mkdir(exist_ok=True)\n",
    "pathlib.Path(standardized_layerwise_scaling_neurons_path).mkdir(exist_ok=True)\n",
    "central_axis = AmiraSpatialGraph(output_standardization+'central_axis.am',generic_graph=True).graph_data.edge_list[0]\n",
    "for input_folder in [output_alignment_using_neuron_axis_and_local_avg_rel_depth,\\\n",
    "                     output_alignment_using_neuron_axis_and_local_Avg_pia_soma]:\n",
    "    \n",
    "    #print(os.path.basename(input_folder[:-1]))\n",
    "    standardized_no_scaling_neurons_path = output_standardization + '/Standardized_No_Scaling/' + \\\n",
    "                                                os.path.basename(input_folder[:-1]) + '/'\n",
    "    standardized_uniform_scaling_neurons_path = output_standardization  + '/Standardized_Uniform_Scaling/' + \\\n",
    "                                                    os.path.basename(input_folder[:-1])+ '/'\n",
    "    standardized_layerwise_scaling_neurons_path = output_standardization  + '/Standardized_Layerwise_Scaling/' + \\\n",
    "                                                    os.path.basename(input_folder[:-1])+ '/'\n",
    "    pathlib.Path(standardized_no_scaling_neurons_path).mkdir(exist_ok=True)\n",
    "    pathlib.Path(standardized_uniform_scaling_neurons_path).mkdir(exist_ok=True)\n",
    "    pathlib.Path(standardized_layerwise_scaling_neurons_path).mkdir(exist_ok=True)\n",
    "    \n",
    "    for folder in sorted(glob.glob(input_folder+'/Manual_Cell_Type_Assignment/*')):\n",
    "        print(folder)\n",
    "        gallery_no_scaling_sg = AmiraSpatialGraph()\n",
    "        gallery_uniform_scaling_sg = AmiraSpatialGraph()\n",
    "        gallery_layerwise_scaling_sg = AmiraSpatialGraph()\n",
    "        gallery_all_sg = AmiraSpatialGraph()\n",
    "        i = 500\n",
    "        \n",
    "        for file in sorted(glob.glob(folder+'/*_Neuron.am')):\n",
    "            #i = i + 1\n",
    "            exp_name = os.path.basename(file)[:-10]\n",
    "            # first verticalize for gallery view\n",
    "            sg_neuron = AmiraSpatialGraph(file)\n",
    "            sg_dend = AmiraSpatialGraph(file[:-10]+'_Dend.am')\n",
    "            # read the soma pia axis and soma center\n",
    "            if input_folder.find('Nearest')>0:\n",
    "                soma_center = Landmarks(input_folder+'/2_Local_Neuron_Axis/'+exp_name+\\\n",
    "                                        '_Soma_Centroid.landmarksAscii').pts[0]\n",
    "            \n",
    "                neuron_axis = AmiraSpatialGraph(output_alignment_using_surfaces+'/Nearest_Axis/'+exp_name+'_nearest_axis.am',\\\n",
    "                                             generic_graph=True).graph_data.edge_list[0]\n",
    "            else:\n",
    "                soma_center = Landmarks(input_folder+'/2_Local_Neuron_Axis/'+exp_name+\\\n",
    "                                        '_Soma_Centroid.landmarksAscii').pts[0]\n",
    "            \n",
    "                soma_pia_axis = AmiraSpatialGraph(output_alignment_using_surfaces+'/Interpolated_Reference_Axis/'+\\\n",
    "                                                exp_name+'_soma_pia_axis_local_avg.am',\\\n",
    "                                             generic_graph=True).graph_data.edge_list[0]\n",
    "                soma_wm_axis = AmiraSpatialGraph(output_alignment_using_surfaces+'/Interpolated_Reference_Axis/'+\\\n",
    "                                                exp_name+'_soma_wm_axis_local_avg.am',\\\n",
    "                                             generic_graph=True).graph_data.edge_list[0]\n",
    "                neuron_axis = [soma_wm_axis[1],soma_pia_axis[1]]\n",
    "            \n",
    "            soma_pia_axis = [soma_center, neuron_axis[1]]\n",
    "            \n",
    "            # align neuron to the negative z axis\n",
    "            rot_mat = align_a_to_b(soma_pia_axis,[[0,0,0],[0,0,1]])\n",
    "            translation = neuron_axis[1]\n",
    "\n",
    "            sg_neuron.apply_rotation(rot_mat,translation=translation)\n",
    "            sg_neuron.write_spatial_graph(standardized_no_scaling_neurons_path+exp_name+'_Neuron_{}.am'.format(os.path.basename(folder)))\n",
    "            sg_dend.apply_rotation(rot_mat,translation=translation)\n",
    "            sg_dend.write_spatial_graph(standardized_no_scaling_neurons_path+exp_name+'_Dend_{}.am'.format(os.path.basename(folder)))\n",
    "            \n",
    "            # space them so as to visualize better\n",
    "            sg_dend_tr = AmiraSpatialGraph(standardized_no_scaling_neurons_path+exp_name+'_Dend_{}.am'.format(os.path.basename(folder)))\n",
    "            sg_neuron_tr = AmiraSpatialGraph(standardized_no_scaling_neurons_path+exp_name+'_Neuron_{}.am'.format(os.path.basename(folder)))\n",
    "            \n",
    "            sg_dend_tr.apply_rotation([[1,0,0],[0,1,0],[0,0,1]],translation=[-i,0,0])\n",
    "            i = i + 400\n",
    "            gallery_no_scaling_sg.graph_data = gallery_no_scaling_sg.combine_subgraphs([gallery_no_scaling_sg.graph_data,\\\n",
    "                                                                                    sg_dend_tr.graph_data])\n",
    "            \n",
    "            # scale uniformely to the central axis\n",
    "            scaling_factor = Vectors().get_vec_length(central_axis) / Vectors().get_vec_length(neuron_axis)\n",
    "            sg_dend.graph_data.apply_scaling([scaling_factor,scaling_factor,scaling_factor])\n",
    "            sg_neuron.graph_data.apply_scaling([scaling_factor,scaling_factor,scaling_factor])\n",
    "            sg_dend.write_spatial_graph(standardized_uniform_scaling_neurons_path+exp_name+'_Dend_{}.am'.format(os.path.basename(folder)))\n",
    "            sg_neuron.write_spatial_graph(standardized_uniform_scaling_neurons_path+exp_name+'_Neuron_{}.am'.format(os.path.basename(folder)))\n",
    "            \n",
    "            sg_dend_scaling = AmiraSpatialGraph(standardized_uniform_scaling_neurons_path+exp_name+'_Dend_{}.am'.format(os.path.basename(folder)))\n",
    "            sg_neuron_scaling = AmiraSpatialGraph(standardized_uniform_scaling_neurons_path+exp_name+'_Neuron_{}.am'.format(os.path.basename(folder)))\n",
    "            \n",
    "            sg_dend_scaling.apply_rotation([[1,0,0],[0,1,0],[0,0,1]],translation=[-i,0,0])\n",
    "            i = i + 600\n",
    "            gallery_uniform_scaling_sg.graph_data = gallery_uniform_scaling_sg.combine_subgraphs([gallery_uniform_scaling_sg.graph_data,\\\n",
    "                                                                                    sg_dend_scaling.graph_data])\n",
    "            \n",
    "            \n",
    "            # scale uniformely to the central axis\n",
    "            scaling_factor = Vectors().get_vec_length(central_axis) / Vectors().get_vec_length(neuron_axis)\n",
    "            sg_dend.graph_data.apply_scaling([scaling_factor,scaling_factor,scaling_factor])\n",
    "            sg_neuron.graph_data.apply_scaling([scaling_factor,scaling_factor,scaling_factor])\n",
    "            sg_dend.write_spatial_graph(standardized_uniform_scaling_neurons_path+exp_name+'_Dend_{}.am'.format(os.path.basename(folder)))\n",
    "            sg_neuron.write_spatial_graph(standardized_uniform_scaling_neurons_path+exp_name+'_Neuron_{}.am'.format(os.path.basename(folder)))\n",
    "            \n",
    "            sg_dend_scaling = AmiraSpatialGraph(standardized_uniform_scaling_neurons_path+exp_name+'_Dend_{}.am'.format(os.path.basename(folder)))\n",
    "            sg_neuron_scaling = AmiraSpatialGraph(standardized_uniform_scaling_neurons_path+exp_name+'_Neuron_{}.am'.format(os.path.basename(folder)))\n",
    "            \n",
    "            sg_dend_scaling.apply_rotation([[1,0,0],[0,1,0],[0,0,1]],translation=[-i,0,0])\n",
    "            i = i + 600\n",
    "            gallery_uniform_scaling_sg.graph_data = gallery_uniform_scaling_sg.combine_subgraphs([gallery_uniform_scaling_sg.graph_data,\\\n",
    "                                                                                    sg_dend_scaling.graph_data])\n",
    "            \n",
    "        \n",
    "        gallery_no_scaling_sg.write_spatial_graph(standardized_no_scaling_neurons_path+os.path.basename(folder)+'_No_Scaling_Gallery.am')\n",
    "        gallery_uniform_scaling_sg.write_spatial_graph(standardized_uniform_scaling_neurons_path+os.path.basename(folder)+'_Uniform_Scaling_Gallery.am')\n",
    "        gallery_uniform_scaling_sg.write_spatial_graph(standardized_uniform_scaling_neurons_path+os.path.basename(folder)+'_Uniform_Scaling_Gallery.am')\n",
    "        "
   ]
  },
  {
   "cell_type": "code",
   "execution_count": 33,
   "metadata": {
    "ExecuteTime": {
     "end_time": "2020-09-16T07:55:33.628227Z",
     "start_time": "2020-09-16T07:54:56.978807Z"
    },
    "collapsed": true
   },
   "outputs": [],
   "source": [
    "# Find soma pia depth\n",
    "input_sp_path = output_standardization + 'Standardized_No_Scaling/' + os.path.basename(output_alignment_using_neuron_axis_and_local_Avg_pia_soma[:-1])\n",
    "#len(glob.glob(input_sp_path+'/*_Neuron_*.am'))\n",
    "soma_depths_csv = pd.DataFrame(columns=['Exp_Name','Soma_Depth_From_Pia'])\n",
    "for file in sorted(glob.glob(input_sp_path+'/*_Neuron_*.am')):\n",
    "    sg = AmiraSpatialGraph(file)\n",
    "    soma_centroid = np.array(sg.neuron.soma.edge_pt_coords).mean(axis=0)\n",
    "    Landmarks(pts=[soma_centroid]).write_landmarks(input_sp_path+'/'+os.path.basename(file)+'_Soma_Centroid.landmarksAscii')\n",
    "    df=pd.DataFrame()\n",
    "    df['Exp_Name'] = [os.path.basename(file)[:-14]]\n",
    "    df['Soma_Depth_From_Pia'] = soma_centroid[2]\n",
    "    soma_depths_csv = soma_depths_csv.append(df)\n",
    "    #print(os.path.basename(file),soma_centroid,)\n",
    "    \n",
    "soma_depths_csv.to_csv(input_sp_path+'/Soma_Depth_From_Pia.csv')"
   ]
  },
  {
   "cell_type": "code",
   "execution_count": 34,
   "metadata": {
    "ExecuteTime": {
     "end_time": "2020-09-16T07:55:48.128275Z",
     "start_time": "2020-09-16T07:55:48.118834Z"
    }
   },
   "outputs": [
    {
     "data": {
      "text/plain": [
       "'/nas1/Data_Mythreya/MotorCortexProject/V10/Registration/Outputs/5_Standardized_Neurons/Standardized_No_Scaling/4_Aligned_Local_Neuron_Axis_To_Ref_Local_Avg_Axis_Pia_Soma_Dist_Preserved'"
      ]
     },
     "execution_count": 34,
     "metadata": {},
     "output_type": "execute_result"
    }
   ],
   "source": [
    "input_sp_path"
   ]
  },
  {
   "cell_type": "markdown",
   "metadata": {},
   "source": [
    "# Create Avg Pia WM"
   ]
  },
  {
   "cell_type": "code",
   "execution_count": null,
   "metadata": {
    "ExecuteTime": {
     "end_time": "2020-08-26T21:56:45.500218Z",
     "start_time": "2020-08-26T21:56:09.282888Z"
    },
    "collapsed": true,
    "scrolled": true
   },
   "outputs": [],
   "source": [
    "# combine all aligned pia wms\n",
    "aligned_pias = Surface()\n",
    "aligned_wms = Surface()\n",
    "for file in sorted(glob.glob(input_path_spatial_graphs+'*.am')):\n",
    "    print(os.path.basename(file)[:-3])\n",
    "    pia = Surface(output_root+'3_Aligned_By_Surfaces/Pia_Only_Alignment/1_Surfaces/'+os.path.basename(file)[:-3]+'_pia_bottom_open.vtk')\n",
    "    wm = Surface(output_root+'3_Aligned_By_Surfaces/WM_Only_Alignment/1_Surfaces/'+os.path.basename(file)[:-3]+'_WM_bottom_open.vtk')\n",
    "    aligned_pias.append(pia.surface)\n",
    "    aligned_wms.append(wm.surface)\n",
    "    \n",
    "aligned_pias.write_surface_mesh(output_root+'3_Aligned_By_Surfaces/Pia_Only_Alignment/Aligned_Pias.vtk')\n",
    "aligned_wms.write_surface_mesh(output_root+'3_Aligned_By_Surfaces/WM_Only_Alignment/Aligned_WMs.vtk')"
   ]
  },
  {
   "cell_type": "code",
   "execution_count": null,
   "metadata": {
    "ExecuteTime": {
     "end_time": "2020-08-27T12:58:10.284216Z",
     "start_time": "2020-08-27T12:55:58.035634Z"
    },
    "collapsed": true
   },
   "outputs": [],
   "source": [
    "#aligned_pias = Surface(output_root+'3_Aligned_By_Surfaces/Aligned_Pias.vtk')\n",
    "#aligned_wms = Surface(output_root+'3_Aligned_By_Surfaces/Aligned_WMs.vtk')\n",
    "pia_wms = Surface()\n",
    "pia_wms.append(aligned_pias.surface)\n",
    "pia_wms.append(aligned_wms.surface)\n",
    "\n",
    "centroid = pia_wms.get_center_of_mass()\n",
    "ray_origin = [centroid[0],centroid[1],pia_wms.surface.GetBounds()[5]-1000]\n",
    "\n",
    "pia_pts = aligned_pias.get_ray_cast_surface_pts_avg(center=ray_origin,theta_res=60,phi_res=60,\\\n",
    "                                                     start_phi=0,end_phi=360,start_theta=0,end_theta=360,validation_nr_pts=2)\n",
    "\n",
    "Landmarks(pts=pia_pts).write_landmarks(output_root+'3_Aligned_By_Surfaces/Pia_Only_Alignment/Avg_Pia.landmarksAscii')\n",
    "\n",
    "# wm_pts = aligned_wms.get_ray_cast_surface_pts_avg(center=ray_origin,theta_res=60,phi_res=60,\\\n",
    "#                                                  start_phi=0,end_phi=360,start_theta=0,end_theta=360,validation_nr_pts=1)\n",
    "\n",
    "# Landmarks(pts=wm_pts).write_landmarks(output_root+'3_Aligned_By_Surfaces/WM_Only_Alignment/Avg_WM.landmarksAscii')"
   ]
  },
  {
   "cell_type": "code",
   "execution_count": null,
   "metadata": {
    "ExecuteTime": {
     "end_time": "2020-08-27T12:10:31.840241Z",
     "start_time": "2020-08-27T12:09:19.892176Z"
    },
    "collapsed": true
   },
   "outputs": [],
   "source": [
    "wm_pts = aligned_wms.get_ray_cast_surface_pts_avg(center=ray_origin,theta_res=60,phi_res=60,\\\n",
    "                                                 start_phi=0,end_phi=360,start_theta=0,end_theta=360,validation_nr_pts=2)\n",
    "\n",
    "Landmarks(pts=wm_pts).write_landmarks(output_root+'3_Aligned_By_Surfaces/WM_Only_Alignment/Avg_WM.landmarksAscii')"
   ]
  },
  {
   "cell_type": "code",
   "execution_count": null,
   "metadata": {
    "ExecuteTime": {
     "end_time": "2020-08-27T12:47:09.996214Z",
     "start_time": "2020-08-27T12:47:06.076286Z"
    },
    "collapsed": true
   },
   "outputs": [],
   "source": [
    "pia_pts = Landmarks(filename=output_root+'3_Aligned_By_Surfaces/Pia_Only_Alignment/Avg_Pia.landmarksAscii')\n",
    "pia_surf = Surface(pts=pia_pts.pts)\n",
    "bounds = pia_surf.surface.GetBounds()\n",
    "z_span = bounds[5] - bounds[4]\n",
    "offset = z_span - 5000\n",
    "\n",
    "recon = vtk.vtkSurfaceReconstructionFilter()\n",
    "recon.SetSampleSpacing(100)\n",
    "recon.SetNeighborhoodSize(100)\n",
    "recon.SetInputData(Surface(pts=pia_pts.pts).surface)\n",
    "recon.Update()\n",
    "\n",
    "#     cont = vtk.vtkContourFilter()\n",
    "#     cont.SetInputData(recon.GetOutput())\n",
    "#     cont.SetValue(0,0.0)\n",
    "#     cont.Update()\n",
    "\n",
    "mc = vtk.vtkMarchingContourFilter()\n",
    "mc.SetInputData(recon.GetOutput())\n",
    "#mc.SetNumberOfContours(0)\n",
    "mc.SetValue(0,0)\n",
    "mc.Update()\n",
    "\n",
    "rev = vtk.vtkReverseSense()\n",
    "rev.SetInputData(mc.GetOutput())\n",
    "rev.ReverseCellsOn()\n",
    "rev.ReverseNormalsOn()\n",
    "rev.Update()\n",
    "\n",
    "clipped_surf = Surface(polydata=rev.GetOutput()).clip_surface_at_given_z(z_offset=-offset,z_limit=None)\n",
    "#divided_surf = self.divide_surface(1,clipped_surf)\n",
    "\n",
    "cleaner = vtk.vtkCleanPolyData()\n",
    "cleaner.SetInputData(clipped_surf)\n",
    "cleaner.Update()\n",
    "\n",
    "smoothed_surf = Surface().smooth_surface(cleaner.GetOutput())\n",
    "\n",
    "Surface(polydata=smoothed_surf).write_surface_mesh(output_root+'3_Aligned_By_Surfaces/Pia_Only_Alignment/Avg_Pia_50.vtk')\n"
   ]
  },
  {
   "cell_type": "code",
   "execution_count": null,
   "metadata": {
    "ExecuteTime": {
     "end_time": "2020-08-26T18:40:33.524230Z",
     "start_time": "2020-08-26T18:40:33.314288Z"
    },
    "collapsed": true
   },
   "outputs": [],
   "source": [
    "# clean up the avg pts based on density ?\n",
    "#for pt in pia_pts:\n",
    "    # how far is it from the nearest pt\n",
    "dm = distance_matrix(pia_pts.pts,pia_pts.pts)\n",
    "dm.shape"
   ]
  },
  {
   "cell_type": "code",
   "execution_count": null,
   "metadata": {
    "ExecuteTime": {
     "end_time": "2020-08-26T23:05:28.988230Z",
     "start_time": "2020-08-26T23:05:28.017741Z"
    },
    "collapsed": true
   },
   "outputs": [],
   "source": [
    "pia_pts = Landmarks(filename=output_root+'3_Aligned_By_Surfaces/Pia_Only_Alignment/Avg_Pia.landmarksAscii')\n",
    "pia_surf = Surface(pts=pia_pts.pts)\n",
    "bounds = pia_surf.surface.GetBounds()\n",
    "z_span = bounds[5] - bounds[4]\n",
    "offset = z_span - 5000\n",
    "pia_surf.create_surface_from_unorganized_points(pia_pts.pts,sample_resolution=200,\\\n",
    "                                                                               clip_offset=-offset,z_limit=None,\\\n",
    "                                        output_filename=output_root+'3_Aligned_By_Surfaces/Pia_Only_Alignment'+'/Avg_Pia.vtk')\n",
    "\n",
    "wm_pts = Landmarks(filename=output_root+'3_Aligned_By_Surfaces/WM_Only_Alignment/Avg_WM.landmarksAscii')\n",
    "wm_surf = Surface(pts=wm_pts.pts)\n",
    "wm_surf.create_surface_from_unorganized_points(wm_pts.pts,sample_resolution=200,\\\n",
    "                                                                               clip_offset=-offset,z_limit=None,\\\n",
    "                                        output_filename=output_root+'3_Aligned_By_Surfaces/WM_Only_Alignment'+'/Avg_WM.vtk')\n"
   ]
  },
  {
   "cell_type": "markdown",
   "metadata": {},
   "source": [
    "# Final Registration"
   ]
  },
  {
   "cell_type": "code",
   "execution_count": null,
   "metadata": {
    "ExecuteTime": {
     "end_time": "2020-08-21T22:15:22.964134Z",
     "start_time": "2020-08-21T22:15:22.958523Z"
    },
    "collapsed": true
   },
   "outputs": [],
   "source": [
    "def get_central_axis(center, uv, pia, wm, invert_direction=False):\n",
    "    if invert_direction:\n",
    "        pia_intersection_pt,dist= pia.get_vector_intersection_pt(center,center+uv,extrapolation_len=-10000)\n",
    "    else:\n",
    "        pia_intersection_pt,dist= pia.get_vector_intersection_pt(center,center+uv,extrapolation_len=10000)\n",
    "    \n",
    "    return [center,pia_intersection_pt]"
   ]
  },
  {
   "cell_type": "code",
   "execution_count": null,
   "metadata": {
    "ExecuteTime": {
     "end_time": "2020-08-21T23:45:53.132175Z",
     "start_time": "2020-08-21T23:45:53.115616Z"
    },
    "collapsed": true
   },
   "outputs": [],
   "source": [
    "def get_available_barrel_central_axis(sg,pia,wm,vs1_sg):\n",
    "    ''' Get barrel column in the following order D2, or center of vs1'''\n",
    "    if len(sg.barrels.d_row.two.top_barrel_centroid)>0 and \\\n",
    "            len(sg.barrels.d_row.two.bottom_barrel_centroid)>0 and \\\n",
    "            sg.barrels.d_row.two.top_barrel_centroid[2] != sg.barrels.d_row.two.bottom_barrel_centroid[2]:\n",
    "            \n",
    "        center =  np.array(sg.barrels.d_row.two.contours.edge_pt_coords).mean(axis=0)\n",
    "        uv = Vectors().get_unit_vec(sg.barrels.d_row.two.bottom_barrel_centroid,sg.barrels.d_row.two.top_barrel_centroid)\n",
    "        central_axis = get_central_axis(center, uv, pia, wm,invert_direction=True)\n",
    "    else:\n",
    "        # use vs1 axis field to get the central axis\n",
    "        center = np.array(sg.barrels.all_rows_graphdata.edge_pt_coords).mean(axis=0)\n",
    "        uvs = []\n",
    "        for edge in vs1_sg.graph_data.edge_list:\n",
    "            uvs.append(Vectors().get_unit_vec(edge[0],edge[1]))\n",
    "        mean_uv = np.array(uvs).mean(axis=0)\n",
    "        central_axis = get_central_axis(center,mean_uv, pia, wm)\n",
    "        \n",
    "    return central_axis"
   ]
  },
  {
   "cell_type": "markdown",
   "metadata": {},
   "source": [
    "## Align To Central Axis"
   ]
  },
  {
   "cell_type": "code",
   "execution_count": null,
   "metadata": {
    "ExecuteTime": {
     "end_time": "2020-08-21T23:53:32.348297Z",
     "start_time": "2020-08-21T23:49:12.095441Z"
    },
    "collapsed": true,
    "scrolled": true
   },
   "outputs": [],
   "source": [
    "# 1) If available align using D2/D1 column to center it; otherwise use the center of mass and nearest axis. \n",
    "#    Then find the 2D pca and rotate. \n",
    "# 2) Then find the XY angle from center which convers the neuron\n",
    "# 3) Clip the Putative vM1 surface containing the neuron\n",
    "# 4) Align this vm1 with avg vm1\n",
    "i = 0\n",
    "for file in sorted(glob.glob(input_path_spatial_graphs+'*.am')):\n",
    "    i = i + 1\n",
    "    print(i, os.path.basename(file))\n",
    "    sg = AmiraSpatialGraph(file,barrel_projections_present=False)\n",
    "    pia = Surface(output_surfaces+os.path.basename(file)[:-3]+'_pia_bottom_open.vtk')\n",
    "    wm = Surface(output_surfaces+os.path.basename(file)[:-3]+'_WM_bottom_open.vtk')\n",
    "    \n",
    "    output_path = output_alignment_final+'Aligned_To_Central_Axis/'\n",
    "    pathlib.Path((output_path)).mkdir(exist_ok=True)\n",
    "    \n",
    "    # 1) If available align using D2/D1 column to center it; otherwise use the center of mass and nearest axis. \n",
    "    #    Then find the 2D pca and rotate. \n",
    "    if len(sg.barrels.all_rows_graphdata.edge_list) > 0:\n",
    "        # read the vS1 axis field\n",
    "        #if os.path.exists(output_axis_field+os.path.basename(file)[0:-3]+'_vS1_Axis_Field.am')\n",
    "        vs1_axis_field = AmiraSpatialGraph(output_axis_field+os.path.basename(file)[:-3]+'_vS1_Axis_Field.am',\\\n",
    "                                           generic_graph=True)\n",
    "        # align based on the central axis\n",
    "        central_axis = get_available_barrel_central_axis(sg,pia,wm,vs1_axis_field)\n",
    "        \n",
    "        print('Using Barrels', central_axis )\n",
    "        \n",
    "        #pca_components = get_pca_direction(sg.graph_data.edge_pt_coords,two_d_only=True)\n",
    "    else:\n",
    "        # no barrels.. so get the central axis using local avg axis\n",
    "        center = pia.get_center_of_mass()\n",
    "        axis_field_sg = AmiraSpatialGraph(output_axis_field+os.path.basename(file)[:-3]+'_axis_field.am' ,generic_graph=True)\n",
    "        nearby_axes = Vectors().get_nearest_axes_to_pts_within_radius(axis_field_sg.graph_data.edge_list,[center],1000,\\\n",
    "                                                                     axis_validation_distance=3000)\n",
    "        nearby_axes_sg = AmiraSpatialGraph(generic_graph=True)\n",
    "        unit_vecs = []\n",
    "        for axis in nearby_axes:\n",
    "            nearby_axes_sg.graph_data.add_edge(axis[0],axis[1])\n",
    "            unit_vecs.append(Vectors().get_unit_vec(axis[0],axis[1]))\n",
    "        nearby_axes_sg.write_spatial_graph(output_axis_field+os.path.basename(file)[:-3]+'_vS1_Axis_Field.am')\n",
    "        avg_uv = np.array(unit_vecs).mean(axis=0)\n",
    "        \n",
    "        central_axis = get_central_axis(center,avg_uv,pia,wm)\n",
    "        print('Using surface' , central_axis)\n",
    "        \n",
    "#     central_axis_sg = AmiraSpatialGraph(generic_graph=True)\n",
    "#     central_axis_sg.graph_data.add_edge(central_axis[0],central_axis[1])\n",
    "#     central_axis_sg.write_spatial_graph(output_path+os.path.basename(file)[:-3]+'_Central_Axis.am')\n",
    "    \n",
    "    pts = []\n",
    "    ref_pts = []\n",
    "    pts.append(central_axis[0])\n",
    "    pts.append(central_axis[1])\n",
    "    ref_pts.append([0,0,0])\n",
    "    ref_pts.append([0,0,-distance.euclidean(central_axis[0],central_axis[1])])\n",
    "    landmarks = Landmarks(pts=pts)\n",
    "    icp,txmat = landmarks.align_landmarks(ref_pts)\n",
    "    \n",
    "    \n",
    "    aligner = Alignment() \n",
    "    aligner.transform_folders(output_root,output_path,os.path.basename(file)[:-3],txmat=txmat,icp=icp)\n",
    "        \n",
    "    "
   ]
  },
  {
   "cell_type": "markdown",
   "metadata": {},
   "source": [
    "## Align as per Max Y"
   ]
  },
  {
   "cell_type": "code",
   "execution_count": null,
   "metadata": {
    "ExecuteTime": {
     "end_time": "2020-08-22T09:19:13.104204Z",
     "start_time": "2020-08-22T09:15:18.115611Z"
    },
    "collapsed": true,
    "scrolled": true
   },
   "outputs": [],
   "source": [
    "i = 0\n",
    "cols = ['Exp','Distance_of_Soma_From_Center','Distance_of_Soma_From_Center_XY','Angle_XY_of_Soma_From_Center','Angle_Z_of_Neuron_Axis_From_Center']\n",
    "df_main = pd.DataFrame(columns=cols)\n",
    "for file in sorted(glob.glob(output_alignment_final+'Aligned_To_Central_Axis/1_Surfaces/'+'*_barrels.am')):\n",
    "    i = i + 1\n",
    "    print(i, os.path.basename(file))\n",
    "    sg = AmiraSpatialGraph(file,barrel_projections_present=False)\n",
    "    \n",
    "    #pca_components = get_pca_direction(sg.graph_data.edge_pt_coords,two_d_only=True)\n",
    "    #txmat = [pca_components[1][0],pca_components[1][1],0,0,pca_components[0][0],pca_components[0][1],0,0, 0,0,1,0, 0,0,0,1]\n",
    "#     surf = Surface(pts=sg.graph_data.edge_pt_coords)\n",
    "#     print(surf.surface.GetBounds())\n",
    "    maxy_pt = sg.graph_data.edge_pt_coords[np.argmin(np.array(sg.graph_data.edge_pt_coords)[:,1])]\n",
    "    #print(maxy_pt)\n",
    "    \n",
    "    pts = []\n",
    "    ref_pts = []\n",
    "    pts.append([0,0,0])\n",
    "    pts.append([maxy_pt[0],maxy_pt[1],0])\n",
    "    ref_pts.append([0,0,0])\n",
    "    dist = -distance.euclidean([0,0,0],[maxy_pt[0],maxy_pt[1],0])\n",
    "    ref_pts.append([0,dist,0])\n",
    "    landmarks = Landmarks(pts=pts)\n",
    "    icp,txmat = landmarks.align_landmarks(ref_pts)\n",
    "    \n",
    "    output_path = output_alignment_final+'Aligned_To_MaxY/'\n",
    "    pathlib.Path((output_path)).mkdir(exist_ok=True)\n",
    "    aligner = Alignment() \n",
    "    aligner.transform_folders(output_alignment_final+'Aligned_To_Central_Axis/',\\\n",
    "                              output_path,os.path.basename(file)[:-10],txmat=txmat,icp=icp)\n",
    "    \n",
    "    soma_center = Landmarks(output_neuron_axis+os.path.basename(file)[:-10]+'Soma_Centroid.landmarksAscii').pts[0]\n",
    "    neuron_axis = AmiraSpatialGraph(output_neuron_axis+os.path.basename(file)[:-10]+'soma_pia_axis.am',generic_graph=True)\n",
    "   "
   ]
  },
  {
   "cell_type": "markdown",
   "metadata": {
    "ExecuteTime": {
     "end_time": "2020-08-26T16:47:41.616429Z",
     "start_time": "2020-08-26T16:47:41.610596Z"
    },
    "collapsed": true
   },
   "source": [
    "### Get Neuron's Position"
   ]
  },
  {
   "cell_type": "code",
   "execution_count": null,
   "metadata": {
    "ExecuteTime": {
     "end_time": "2020-08-28T11:18:46.508330Z",
     "start_time": "2020-08-28T11:17:46.655295Z"
    },
    "collapsed": true,
    "scrolled": true
   },
   "outputs": [],
   "source": [
    "cols = ['Exp','Soma_Center_X','Soma_Center_Y','Soma_Center_Z','Distance_of_Soma_From_Center_3D',\\\n",
    "        'Angle_of_Soma_From_X_Axis','Angle_of_Soma_From_Z_Axis',\\\n",
    "        'Distance_To_Nearest_Axis_XY',\\\n",
    "        'Cortical_Thickness_As_Per_Neuron_Axis','Cortical_Thickness_As_Per_Avg_Local_Axis',\\\n",
    "        'Cortical_Thickness_As_Per_Nearest_Axis_in_Avg_Surface',\\\n",
    "        'Thickness_Difference_From_Neuron_Axis',\\\n",
    "        'Thickness_Difference_From_Neuron_Axis_Local_Avg',\\\n",
    "        'Angle_Between_Neuron_Axis_And_Local_Avg_Axis_Original',\\\n",
    "        'Angle_Between_Neuron_Axis_And_Nearest_Axis'\n",
    "       ]\n",
    "df_main = pd.DataFrame(columns=cols)\n",
    "i = 0\n",
    "nearest_axis_path = output_alignment_final+'Aligned_To_MaxY/'+'Nearest_Axis/'\n",
    "pathlib.Path((nearest_axis_path)).mkdir(exist_ok=True)\n",
    "nearest_axis_sg = AmiraSpatialGraph(generic_graph=True)\n",
    "avg_axis_field = AmiraSpatialGraph(input_path_avg_rf+'Avg_Axis_Field_50.am',generic_graph=True).graph_data.edge_list\n",
    "\n",
    "for file in sorted(glob.glob(output_alignment_final+'Aligned_To_Central_Axis/1_Surfaces/'+'*_barrels.am')):\n",
    "    i = i + 1\n",
    "    print(i, os.path.basename(file))\n",
    "    sg = AmiraSpatialGraph(file,barrel_projections_present=False)\n",
    "    \n",
    "    soma_center = Landmarks(output_alignment_final+'Aligned_To_MaxY/2_Local_Neuron_Axis/'+os.path.basename(file)[:-10]+'Soma_Centroid.landmarksAscii').pts[0]\n",
    "    neuron_soma_pia_axis = AmiraSpatialGraph(output_alignment_final+'Aligned_To_MaxY/2_Local_Neuron_Axis/'+\\\n",
    "                                             os.path.basename(file)[:-10]+'soma_pia_axis.am',\\\n",
    "                                             generic_graph=True).graph_data.edge_list[0]\n",
    "    neuron_soma_pia_axis_local_avg = AmiraSpatialGraph(output_alignment_final+'Aligned_To_MaxY/2_Local_Neuron_Axis/'+\\\n",
    "                                             os.path.basename(file)[:-10]+'soma_pia_axis_local_avg.am',\\\n",
    "                                             generic_graph=True).graph_data.edge_list[0]\n",
    "    \n",
    "    \n",
    "    df = pd.DataFrame(columns=cols)\n",
    "    df['Exp'] = [os.path.basename(file)[:-11]]\n",
    "    df['Soma_Center_X'] = [soma_center[0]]\n",
    "    df['Soma_Center_Y'] = [soma_center[1]]\n",
    "    df['Soma_Center_Z'] = [soma_center[2]]\n",
    "    df['Distance_of_Soma_From_Center_3D'] = [distance.euclidean([0,0,0],soma_center)]\n",
    "    df['Angle_of_Soma_From_X_Axis'] = Vectors().get_angle_between_vectors([[0,0,0],[1,0,0]], \\\n",
    "                                                                           [[0,0,0],[soma_center[0],soma_center[1],0]],\\\n",
    "                                                                          ignore_opposite_direction=True)\n",
    "    df['Angle_of_Soma_From_Z_Axis'] = Vectors().get_angle_between_vectors([[0,0,0],[0,0,-1]], \\\n",
    "                                                                           [[0,0,0],[0,soma_center[1],soma_center[2]]],\\\n",
    "                                                                          ignore_opposite_direction=True)\n",
    "    \n",
    "    neaerst_vec,a,b,c,d = Vectors().get_nearest_axis_to_pt(soma_center,avg_axis_field,axis_validation_distance=5000)\n",
    "    nearest_axis_sg.graph_data.add_edge(neaerst_vec[0],neaerst_vec[1])\n",
    "    \n",
    "    \n",
    "    df['Distance_To_Nearest_Axis_XY'] = distance.euclidean([neaerst_vec[1][0],neaerst_vec[1][1],0],\\\n",
    "                                                           [soma_center[0],soma_center[1],0])\n",
    "    \n",
    "    df['Cortical_Thickness_As_Per_Nearest_Axis_in_Avg_Surface'] = Vectors().get_vec_length(neaerst_vec)\n",
    "        \n",
    "    if os.path.exists(output_alignment_final+'Aligned_To_MaxY/2_Local_Neuron_Axis/'+os.path.basename(file)[:-10]+\\\n",
    "                      'soma_wm_axis.am'):\n",
    "        neuron_soma_wm_axis = AmiraSpatialGraph(output_alignment_final+'Aligned_To_MaxY/2_Local_Neuron_Axis/'+\\\n",
    "                                                os.path.basename(file)[:-10]+'soma_wm_axis.am',\\\n",
    "                                             generic_graph=True).graph_data.edge_list[0]\n",
    "        \n",
    "        df['Cortical_Thickness_As_Per_Neuron_Axis'] = Vectors().get_vec_length(neuron_soma_pia_axis)+\\\n",
    "                                                      Vectors().get_vec_length(neuron_soma_wm_axis)\n",
    "        \n",
    "        df['Thickness_Difference_From_Neuron_Axis'] = df['Cortical_Thickness_As_Per_Nearest_Axis_in_Avg_Surface'] - \\\n",
    "                                                        df['Cortical_Thickness_As_Per_Neuron_Axis']\n",
    "        \n",
    "    if os.path.exists(output_alignment_final+'Aligned_To_MaxY/2_Local_Neuron_Axis/'+os.path.basename(file)[:-10]+\\\n",
    "                      'soma_wm_axis_local_avg.am'):\n",
    "        neuron_soma_wm_axis_local_avg = AmiraSpatialGraph(output_alignment_final+'Aligned_To_MaxY/2_Local_Neuron_Axis/'+\\\n",
    "                                                os.path.basename(file)[:-10]+'soma_wm_axis_local_avg.am',\\\n",
    "                                             generic_graph=True).graph_data.edge_list[0]\n",
    "        df['Cortical_Thickness_As_Per_Avg_Local_Axis'] = Vectors().get_vec_length(neuron_soma_pia_axis_local_avg)+\\\n",
    "                                                         Vectors().get_vec_length(neuron_soma_wm_axis_local_avg)\n",
    "        df['Thickness_Difference_From_Neuron_Axis_Local_Avg'] = df['Cortical_Thickness_As_Per_Nearest_Axis_in_Avg_Surface'] \\\n",
    "                                                                -  df['Cortical_Thickness_As_Per_Avg_Local_Axis']\n",
    "    df['Angle_Between_Neuron_Axis_And_Local_Avg_Axis_Original'] = Vectors().get_angle_between_vectors(neuron_soma_pia_axis,\\\n",
    "                                                                                                      neuron_soma_pia_axis_local_avg,\\\n",
    "                                                                                                      ignore_opposite_direction=True)\n",
    "    df['Angle_Between_Neuron_Axis_And_Nearest_Axis'] = Vectors().get_angle_between_vectors(neuron_soma_pia_axis,\\\n",
    "                                                                                           neaerst_vec,\\\n",
    "                                                                                           ignore_opposite_direction=True)\n",
    "    df_main = df_main.append(df)\n",
    "    \n",
    "df_main.to_csv(output_root+'Neuron_Position_and_Angles.csv')\n",
    "nearest_axis_sg.write_spatial_graph(nearest_axis_path+'Nearest_axes.am')"
   ]
  },
  {
   "cell_type": "markdown",
   "metadata": {},
   "source": [
    "### Write Neurons for visulization"
   ]
  },
  {
   "cell_type": "code",
   "execution_count": null,
   "metadata": {
    "ExecuteTime": {
     "end_time": "2020-08-28T01:38:57.124259Z",
     "start_time": "2020-08-28T01:37:16.801793Z"
    },
    "collapsed": true
   },
   "outputs": [],
   "source": [
    "apical = AmiraSpatialGraph()\n",
    "basal = AmiraSpatialGraph()\n",
    "dend = AmiraSpatialGraph()\n",
    "#axon = AmiraSpatialGraph()\n",
    "neuron = AmiraSpatialGraph()\n",
    "for file in sorted(glob.glob(input_path_spatial_graphs+'*.am')):\n",
    "    sg = AmiraSpatialGraph(output_alignment_final+'Aligned_To_MaxY/1_Surfaces/'+os.path.basename(file)[:-3]+'_barrels.am')\n",
    "    neuron.graph_data = neuron.combine_subgraphs([neuron.graph_data,sg.neuron.all_neurites_subgraphdata])\n",
    "    if len(sg.neuron.dendrite.apical_dendrite.edge_pt_coords)>0:\n",
    "        apical.graph_data = apical.combine_subgraphs([apical.graph_data,sg.neuron.dendrite.apical_dendrite])\n",
    "    if len(sg.neuron.dendrite.basal_dendrite.edge_pt_coords)>0:\n",
    "        basal.graph_data = basal.combine_subgraphs([basal.graph_data,sg.neuron.dendrite.basal_dendrite])\n",
    "    \n",
    "neuron.write_spatial_graph(output_alignment_final+'Aligned_To_MaxY'+'/All_Neurons.am')\n",
    "apical.write_spatial_graph(output_alignment_final+'Aligned_To_MaxY'+'/All_Apical_Dendrites.am')\n",
    "basal.write_spatial_graph(output_alignment_final+'Aligned_To_MaxY'+'/All_Basal_Dendrites.am')"
   ]
  },
  {
   "cell_type": "markdown",
   "metadata": {},
   "source": [
    "## Clip Pia and WM Surfaces\n",
    "\n",
    "\n",
    "\n"
   ]
  },
  {
   "cell_type": "code",
   "execution_count": null,
   "metadata": {
    "ExecuteTime": {
     "end_time": "2020-08-26T15:36:18.352279Z",
     "start_time": "2020-08-26T15:36:18.344240Z"
    },
    "collapsed": true
   },
   "outputs": [],
   "source": [
    "def clean_pdata(pdata):\n",
    "    cleaner = vtk.vtkCleanPolyData()\n",
    "    cleaner.SetInputData(pdata)\n",
    "    cleaner.Update()\n",
    "    \n",
    "    return cleaner.GetOutput()"
   ]
  },
  {
   "cell_type": "code",
   "execution_count": null,
   "metadata": {
    "ExecuteTime": {
     "end_time": "2020-08-26T15:37:05.932225Z",
     "start_time": "2020-08-26T15:36:18.471173Z"
    },
    "collapsed": true,
    "scrolled": true
   },
   "outputs": [],
   "source": [
    "output_path = output_alignment_final+'/Clipped_Surfaces/'\n",
    "pathlib.Path((output_path)).mkdir(exist_ok=True)\n",
    "cols = ['Exp_Name','vM1_Thickness_Mean','vM1_Thickness_Std']\n",
    "df_main = pd.DataFrame(columns=cols)\n",
    "# Clip between 55 degree and 95 degree in XY plane\n",
    "for file in sorted(glob.glob(input_path_spatial_graphs+'*.am')):\n",
    "    pia = Surface(output_alignment_final+'Aligned_To_MaxY/1_Surfaces/'+os.path.basename(file)[:-3]+'_pia_bottom_open.vtk')\n",
    "    wm = Surface(output_alignment_final+'Aligned_To_MaxY/1_Surfaces/'+os.path.basename(file)[:-3]+'_WM_bottom_open.vtk')\n",
    "    axis_field = AmiraSpatialGraph(output_alignment_final+'Aligned_To_MaxY/1_Axis_Fields/'+os.path.basename(file)[:-3]+'_axis_field.am',generic_graph=True)\n",
    "    \n",
    "    # Get 3 pts for each angle \n",
    "    rotation_mat_right = (Vectors().get_rotation_matrix_around_given_axis(theta=-55,axis_of_rotation='z'))\n",
    "    rotation_mat_left = (Vectors().get_rotation_matrix_around_given_axis(theta=-95,axis_of_rotation='z'))\n",
    "    \n",
    "    right_plane_pt = np.array(rotation_mat_right*[1,0,0])[:,0]\n",
    "    left_plane_pt = np.array(rotation_mat_left*[1,0,0])[:,0]\n",
    "    \n",
    "    plane_right,tri_right = Surface().get_cutting_plane([0,0,0],[0,0,1],right_plane_pt)\n",
    "    plane_left,tri_left = Surface().get_cutting_plane([0,0,0],[0,0,1],left_plane_pt)\n",
    "    \n",
    "    pia1,wm1 = pia.clip_surfaces(pia.surface,wm.surface,plane_right,get_left=False)\n",
    "    pia2,wm2 = pia.clip_surfaces(pia1,wm1,plane_left,get_left=True)\n",
    "    \n",
    "    cleaned_pia = clean_pdata(pia2)\n",
    "    cleaned_wm = clean_pdata(wm2)\n",
    "    \n",
    "    Surface(polydata=cleaned_pia).write_surface_mesh(output_alignment_final+'/Clipped_Surfaces/'+os.path.basename(file)[:-3]+'_pia.vtk')\n",
    "    Surface(polydata=cleaned_wm).write_surface_mesh(output_alignment_final+'/Clipped_Surfaces/'+os.path.basename(file)[:-3]+'_WM.vtk')\n",
    "    \n",
    "    # get axis field within this\n",
    "    selected_axis_field_sg,wm_pts,pia_pts,missing_axis_field = pia.get_axis_field_within_instersecting_surface_with_trimming\\\n",
    "                                (pia2,wm2,axis_field.graph_data.edge_list,vec_extension_offset=0.5)\n",
    "    selected_axis_field_sg.write_spatial_graph(output_alignment_final+'/Clipped_Surfaces/'+os.path.basename(file)[:-3]+'_vM1_Axis_Field.am')\n",
    "    \n",
    "    # find lengths within this\n",
    "    vec_lengths,a,b = Vectors().get_vec_lengths(selected_axis_field_sg.graph_data.edge_list)\n",
    "    \n",
    "    df = pd.DataFrame(columns=cols)\n",
    "    df['Exp_Name'] = [os.path.basename(file)[:-3]]\n",
    "    df['vM1_Thickness_Mean'] = np.array(vec_lengths).mean()\n",
    "    df['vM1_Thickness_Std'] = np.array(vec_lengths).std()\n",
    "    \n",
    "    df_main = df_main.append(df)\n",
    "    \n",
    "    \n",
    "df_main.to_csv(output_alignment_final+'/Clipped_Surfaces/'+'vM1_Thickness.csv')"
   ]
  },
  {
   "cell_type": "code",
   "execution_count": null,
   "metadata": {
    "ExecuteTime": {
     "end_time": "2020-08-26T15:29:46.160226Z",
     "start_time": "2020-08-26T15:29:43.606595Z"
    },
    "collapsed": true
   },
   "outputs": [],
   "source": [
    "# Clip the avg surface\n",
    "ref_pia = Surface(input_path_avg_rf+'/Avg_Pia_50.vtk')\n",
    "ref_wm = Surface(input_path_avg_rf+'/Avg_WM_50.vtk')\n",
    "ref_axis_field_sg = AmiraSpatialGraph(input_path_avg_rf+'Avg_Axis_Field_50.am',generic_graph=True)\n",
    "rotation_mat_right = (Vectors().get_rotation_matrix_around_given_axis(theta=-55,axis_of_rotation='z'))\n",
    "rotation_mat_left = (Vectors().get_rotation_matrix_around_given_axis(theta=-95,axis_of_rotation='z'))\n",
    "\n",
    "right_plane_pt = np.array(rotation_mat_right*[1,0,0])[:,0]\n",
    "left_plane_pt = np.array(rotation_mat_left*[1,0,0])[:,0]\n",
    "\n",
    "plane_right,tri_right = Surface().get_cutting_plane([0,0,0],[0,0,1],right_plane_pt)\n",
    "plane_left,tri_left = Surface().get_cutting_plane([0,0,0],[0,0,1],left_plane_pt)\n",
    "\n",
    "pia1,wm1 = ref_pia.clip_surfaces(ref_pia.surface,ref_wm.surface,plane_right,get_left=False)\n",
    "pia2,wm2 = ref_wm.clip_surfaces(pia1,wm1,plane_left,get_left=True)\n",
    "\n",
    "cleaned_pia = clean_pdata(pia2)\n",
    "cleaned_wm = clean_pdata(wm2)\n",
    "\n",
    "Surface(polydata=cleaned_pia).write_surface_mesh(output_alignment_final+'/Clipped_Surfaces/'+'Avg_vM1_Pia.vtk')\n",
    "Surface(polydata=cleaned_wm).write_surface_mesh(output_alignment_final+'/Clipped_Surfaces/'+'Avg_vM1_WM.vtk')\n",
    "\n",
    "\n",
    "# get axis field within this\n",
    "selected_axis_field_sg,wm_pts,pia_pts,missing_axis_field = pia.get_axis_field_within_instersecting_surface_with_trimming\\\n",
    "                            (pia2,wm2,ref_axis_field_sg.graph_data.edge_list,vec_extension_offset=0.5)\n",
    "selected_axis_field_sg.write_spatial_graph(output_alignment_final+'/Clipped_Surfaces/'+'Avg_vM1_Axis_Field.am')\n"
   ]
  },
  {
   "cell_type": "code",
   "execution_count": null,
   "metadata": {
    "ExecuteTime": {
     "end_time": "2020-08-26T15:38:43.924321Z",
     "start_time": "2020-08-26T15:38:43.884112Z"
    },
    "collapsed": true
   },
   "outputs": [],
   "source": [
    "# compare the cortical thickness between Rajeev and Rabies vM1s\n",
    "avg_vm1_sg = AmiraSpatialGraph(output_alignment_final+'/Clipped_Surfaces/'+'Avg_vM1_Axis_Field.am',generic_graph=True)\n",
    "avg_vm1_lengths,a,b = Vectors().get_vec_lengths(avg_vm1_sg.graph_data.edge_list)\n",
    "np.array(avg_vm1_lengths).mean(axis=0),np.array(avg_vm1_lengths).std(axis=0),np.array(avg_vm1_lengths).max(),np.array(avg_vm1_lengths).min()"
   ]
  },
  {
   "cell_type": "code",
   "execution_count": null,
   "metadata": {
    "ExecuteTime": {
     "end_time": "2020-08-26T15:41:22.180170Z",
     "start_time": "2020-08-26T15:41:22.166894Z"
    },
    "collapsed": true
   },
   "outputs": [],
   "source": [
    "df = pd.read_csv(output_alignment_final+'/Clipped_Surfaces/'+'vM1_Thickness.csv')\n",
    "df.mean(),df.min(),df.max()"
   ]
  },
  {
   "cell_type": "markdown",
   "metadata": {},
   "source": [
    "## Align Clipped Avg with Clipped Surfaces"
   ]
  },
  {
   "cell_type": "code",
   "execution_count": null,
   "metadata": {
    "ExecuteTime": {
     "end_time": "2020-08-25T00:09:44.172541Z",
     "start_time": "2020-08-25T00:09:44.162550Z"
    },
    "collapsed": true
   },
   "outputs": [],
   "source": [
    "def clean_axis_field(vm1_axis_field):\n",
    "    clean_field_sg = AmiraSpatialGraph(generic_graph=True)\n",
    "    cleaned_axis_field = []\n",
    "    for edge in vm1_axis_field:\n",
    "        if edge[0][2] > edge[1][2]:\n",
    "            cleaned_axis_field.append(edge)\n",
    "            clean_field_sg.graph_data.add_edge(edge[0],edge[1])\n",
    "    #clean_field_sg.write_spatial_graph(output_path+'clean.am')\n",
    "    return clean_field_sg"
   ]
  },
  {
   "cell_type": "code",
   "execution_count": null,
   "metadata": {
    "ExecuteTime": {
     "end_time": "2020-08-25T00:09:44.924536Z",
     "start_time": "2020-08-25T00:09:44.916100Z"
    },
    "collapsed": true
   },
   "outputs": [],
   "source": [
    "def get_sg_from_edge_list(edge_list):\n",
    "    sg = AmiraSpatialGraph(generic_graph=True)\n",
    "    cleaned_axis_field = []\n",
    "    for edge in edge_list:\n",
    "        sg.graph_data.add_edge(edge[0],edge[1])\n",
    "    #clean_field_sg.write_spatial_graph(output_path+'clean.am')\n",
    "    return sg"
   ]
  },
  {
   "cell_type": "code",
   "execution_count": null,
   "metadata": {
    "ExecuteTime": {
     "end_time": "2020-08-25T00:09:45.860491Z",
     "start_time": "2020-08-25T00:09:45.844938Z"
    },
    "collapsed": true
   },
   "outputs": [],
   "source": [
    "def get_number_of_axes_from_field(axis_field,number_of_axes_needed,neuron_axis=[]):\n",
    "    axis_filed_len = len(axis_field)\n",
    "    offset = int(axis_filed_len/number_of_axes_needed)\n",
    "    return_list = []\n",
    "    if len(neuron_axis) > 0:\n",
    "        if neuron_axis is not None:\n",
    "            for i in range(len(axis_field)):\n",
    "                return_list.append(axis_field[i])\n",
    "                i = i + offset\n",
    "                if len(return_list) == number_of_axes_needed:\n",
    "                    return return_list\n",
    "        \n",
    "    else:\n",
    "        \n",
    "        for i in range(len(axis_field)):\n",
    "            return_list.append(axis_field[i])\n",
    "            i = i + offset\n",
    "            if len(return_list) == number_of_axes_needed:\n",
    "                return return_list"
   ]
  },
  {
   "cell_type": "markdown",
   "metadata": {},
   "source": [
    "### Using Clipped Surfaces"
   ]
  },
  {
   "cell_type": "code",
   "execution_count": null,
   "metadata": {
    "ExecuteTime": {
     "end_time": "2020-08-26T02:27:23.284266Z",
     "start_time": "2020-08-26T00:54:57.020270Z"
    },
    "collapsed": true,
    "scrolled": true
   },
   "outputs": [],
   "source": [
    "# avg_vm1_axis_field_sg = AmiraSpatialGraph(output_alignment_final+'/Clipped_Surfaces/'+'Avg_vM1_Axis_Field.am',\\\n",
    "#                                        generic_graph=True)\n",
    "# avg_vm1_axis_field = avg_vm1_axis_field_sg.graph_data.edge_list\n",
    "output_path = output_alignment_final+'Aligned_To_Clipped_Avg_Surface/'\n",
    "pathlib.Path((output_path)).mkdir(exist_ok=True)\n",
    "\n",
    "output_path_clipped_reg = output_path+'Clipped_Surfaces/'\n",
    "pathlib.Path((output_path_clipped_reg)).mkdir(exist_ok=True)\n",
    "\n",
    "ref_pia = Surface(output_alignment_final+'/Clipped_Surfaces/Avg_vM1_Pia.vtk')\n",
    "#ref_pia = Surface(input_path_avg_rf+'/Avg_vM1_Pia_50.vtk')\n",
    "ref_wm = Surface(output_alignment_final+'/Clipped_Surfaces/Avg_vM1_WM.vtk')\n",
    "ref_pia_wm_vm1 = Surface(output_alignment_final+'/Clipped_Surfaces/Avg_vM1_Pia.vtk')\n",
    "ref_pia_wm_vm1.append(ref_wm.surface)\n",
    "#print(len(avg_vm1_axis_field))\n",
    "for file in sorted(glob.glob(input_path_spatial_graphs+'*.am')):\n",
    "    #if os.path.basename(file)[:-3] == 'RA20130320_corrected_DONE':\n",
    "    pia = Surface(output_alignment_final+'Clipped_Surfaces/'+os.path.basename(file)[:-3]+'_pia.vtk')\n",
    "    wm = Surface(output_alignment_final+'Clipped_Surfaces/'+os.path.basename(file)[:-3]+'_WM.vtk')\n",
    "\n",
    "    pia_wm = Surface(polydata=pia.surface)\n",
    "    pia_wm.append(wm.surface)\n",
    "\n",
    "    ref_pia_wm = Surface(polydata=ref_pia.surface)\n",
    "    ref_pia_wm.append(ref_wm.surface)\n",
    "\n",
    "#     pia_wm_pts = []\n",
    "#     for pt in pia.get_surface_pts():\n",
    "#         pia_wm_pts.append(pt)\n",
    "#     for pt in wm.get_surface_pts():\n",
    "#         pia_wm_pts.append(pt)\n",
    "#     ref_pia_wm_pts = []\n",
    "#     for pt in ref_pia.get_surface_pts():\n",
    "#         ref_pia_wm_pts.append(pt)\n",
    "#     for pt in ref_wm.get_surface_pts():\n",
    "#         ref_pia_wm_pts.append(pt)\n",
    "\n",
    "#     pia_wm = Surface(pts=pia_wm_pts)\n",
    "#     ref_pia_wm = Surface(pts=ref_pia_wm_pts)\n",
    "    cleaned_pia_wm = clean_pdata(pia_wm.surface)\n",
    "    cleaned_ref_pia_wm = clean_pdata(ref_pia_wm.surface)\n",
    "\n",
    "    #moving_hull = Surface(polydata=cleaned_pia_wm).create_delunay_surface_3d(return_hull=True,output_filename=output_path_clipped_reg+'moving_hull.vtk')\n",
    "    #target_hull = Surface(polydata=cleaned_ref_pia_wm).create_delunay_surface_3d(return_hull=True,output_filename=output_path_clipped_reg+'target_hull.vtk')\n",
    "\n",
    "    aligner1 = Alignment(cleaned_ref_pia_wm,cleaned_pia_wm,nr_iterations=10000)\n",
    "    txmat = aligner1.get_transformation_matrix()\n",
    "    print(os.path.basename(file)[:-3])\n",
    "    print(txmat)\n",
    "    icp = aligner1.get_icp_transform()\n",
    "\n",
    "    aligner2 = Alignment() \n",
    "    aligner2.transform_folders(output_alignment_final+'Aligned_To_MaxY/',\\\n",
    "                              output_path,os.path.basename(file)[:-3],txmat=txmat,icp=icp)\n",
    "\n",
    "    aligner3 = Alignment() \n",
    "    aligner3.transform_files(output_alignment_final+'Clipped_Surfaces/',\\\n",
    "                              output_path_clipped_reg,os.path.basename(file)[:-3],txmat=txmat,icp=icp)\n",
    "\n",
    "    "
   ]
  },
  {
   "cell_type": "code",
   "execution_count": null,
   "metadata": {
    "ExecuteTime": {
     "end_time": "2020-08-28T11:46:05.556258Z",
     "start_time": "2020-08-28T11:45:16.037395Z"
    },
    "collapsed": true
   },
   "outputs": [],
   "source": [
    "# Get nearest axes to the reg neuron somata\n",
    "input_path = output_alignment_final+'Aligned_To_Clipped_Avg_Surface/'\n",
    "avg_axis_field = AmiraSpatialGraph(input_path_avg_rf+'Avg_Axis_Field_50.am',generic_graph=True).graph_data.edge_list\n",
    "nearest_axis_sg = AmiraSpatialGraph(generic_graph=True)\n",
    "soma_pia_axes_sg = AmiraSpatialGraph(generic_graph=True)\n",
    "for file in sorted(glob.glob(input_path_spatial_graphs+'*.am')):\n",
    "    #print(i, os.path.basename(file))\n",
    "    soma_center = Landmarks(input_path + '2_Local_Neuron_Axis/'+os.path.basename(file)[:-3]+'_Soma_Centroid.landmarksAscii').pts[0]\n",
    "    neaerst_vec,a,b,c,d = Vectors().get_nearest_axis_to_pt(soma_center,avg_axis_field,axis_validation_distance=5000)\n",
    "    nearest_axis_sg.graph_data.add_edge(neaerst_vec[0],neaerst_vec[1])\n",
    "    \n",
    "    soma_pia_axis = AmiraSpatialGraph(input_path+'2_Local_Neuron_Axis/'\\\n",
    "                              +os.path.basename(file)[:-3]+'_soma_pia_axis.am',generic_graph=True).graph_data.edge_list[0]\n",
    "    soma_pia_axes_sg.graph_data.add_edge(soma_pia_axis[0],soma_pia_axis[1])\n",
    "nearest_axis_sg.write_spatial_graph(input_path+'Nearest_Axes.am')\n",
    "soma_pia_axes_sg.write_spatial_graph(input_path+'Original_Soma_Pia_Axes.am')\n"
   ]
  },
  {
   "cell_type": "code",
   "execution_count": null,
   "metadata": {
    "ExecuteTime": {
     "end_time": "2020-08-28T11:56:18.320220Z",
     "start_time": "2020-08-28T11:56:16.805392Z"
    },
    "collapsed": true
   },
   "outputs": [],
   "source": []
  },
  {
   "cell_type": "markdown",
   "metadata": {},
   "source": [
    "### Using Clipped Surfaces Hull"
   ]
  },
  {
   "cell_type": "code",
   "execution_count": null,
   "metadata": {
    "ExecuteTime": {
     "end_time": "2020-08-25T21:30:45.828197Z",
     "start_time": "2020-08-25T20:41:51.023773Z"
    },
    "collapsed": true,
    "scrolled": true
   },
   "outputs": [],
   "source": [
    "# avg_vm1_axis_field_sg = AmiraSpatialGraph(output_alignment_final+'/Clipped_Surfaces/'+'Avg_vM1_Axis_Field.am',\\\n",
    "#                                        generic_graph=True)\n",
    "# avg_vm1_axis_field = avg_vm1_axis_field_sg.graph_data.edge_list\n",
    "output_path = output_alignment_final+'Aligned_To_Clipped_Avg_Surface_Hull/'\n",
    "pathlib.Path((output_path)).mkdir(exist_ok=True)\n",
    "\n",
    "output_path_clipped_reg = output_path+'Clipped_Surfaces/'\n",
    "pathlib.Path((output_path_clipped_reg)).mkdir(exist_ok=True)\n",
    "\n",
    "ref_pia = Surface(output_alignment_final+'/Clipped_Surfaces/Avg_vM1_Pia.vtk')\n",
    "#ref_pia = Surface(input_path_avg_rf+'/Avg_vM1_Pia_50.vtk')\n",
    "ref_wm = Surface(output_alignment_final+'/Clipped_Surfaces/Avg_vM1_WM.vtk')\n",
    "ref_pia_wm_vm1 = Surface(output_alignment_final+'/Clipped_Surfaces/Avg_vM1_Pia.vtk')\n",
    "ref_pia_wm_vm1.append(ref_wm.surface)\n",
    "#print(len(avg_vm1_axis_field))\n",
    "for file in sorted(glob.glob(input_path_spatial_graphs+'*.am')):\n",
    "    #if os.path.basename(file)[:-3] == 'RA20130320_corrected_DONE':\n",
    "    pia = Surface(output_alignment_final+'Clipped_Surfaces/'+os.path.basename(file)[:-3]+'_pia.vtk')\n",
    "    wm = Surface(output_alignment_final+'Clipped_Surfaces/'+os.path.basename(file)[:-3]+'_WM.vtk')\n",
    "\n",
    "    pia_wm = Surface(polydata=pia.surface)\n",
    "    pia_wm.append(wm.surface)\n",
    "\n",
    "    ref_pia_wm = Surface(polydata=ref_pia.surface)\n",
    "    ref_pia_wm.append(ref_wm.surface)\n",
    "\n",
    "#     pia_wm_pts = []\n",
    "#     for pt in pia.get_surface_pts():\n",
    "#         pia_wm_pts.append(pt)\n",
    "#     for pt in wm.get_surface_pts():\n",
    "#         pia_wm_pts.append(pt)\n",
    "#     ref_pia_wm_pts = []\n",
    "#     for pt in ref_pia.get_surface_pts():\n",
    "#         ref_pia_wm_pts.append(pt)\n",
    "#     for pt in ref_wm.get_surface_pts():\n",
    "#         ref_pia_wm_pts.append(pt)\n",
    "\n",
    "#     pia_wm = Surface(pts=pia_wm_pts)\n",
    "#     ref_pia_wm = Surface(pts=ref_pia_wm_pts)\n",
    "    cleaned_pia_wm = clean_pdata(pia_wm.surface)\n",
    "    cleaned_ref_pia_wm = clean_pdata(ref_pia_wm.surface)\n",
    "\n",
    "    moving_hull = Surface(polydata=cleaned_pia_wm).create_delunay_surface_3d(return_hull=True,output_filename=output_path_clipped_reg+'moving_hull.vtk')\n",
    "    target_hull = Surface(polydata=cleaned_ref_pia_wm).create_delunay_surface_3d(return_hull=True,output_filename=output_path_clipped_reg+'target_hull.vtk')\n",
    "\n",
    "    aligner1 = Alignment(target_hull,moving_hull,nr_iterations=1000)\n",
    "    txmat = aligner1.get_transformation_matrix()\n",
    "    print(os.path.basename(file)[:-3])\n",
    "    print(txmat)\n",
    "    icp = aligner1.get_icp_transform()\n",
    "\n",
    "    aligner2 = Alignment() \n",
    "    aligner2.transform_folders(output_alignment_final+'Aligned_To_MaxY/',\\\n",
    "                              output_path,os.path.basename(file)[:-3],txmat=txmat,icp=icp)\n",
    "\n",
    "    aligner3 = Alignment() \n",
    "    aligner3.transform_files(output_alignment_final+'Clipped_Surfaces/',\\\n",
    "                              output_path_clipped_reg,os.path.basename(file)[:-3],txmat=txmat,icp=icp)\n",
    "\n",
    "    "
   ]
  },
  {
   "cell_type": "markdown",
   "metadata": {},
   "source": [
    "### Refine Using Original Neuron Axis and Nearest Avg Axis "
   ]
  },
  {
   "cell_type": "code",
   "execution_count": null,
   "metadata": {
    "ExecuteTime": {
     "end_time": "2020-08-26T13:16:51.636216Z",
     "start_time": "2020-08-26T13:12:33.125224Z"
    },
    "collapsed": true,
    "scrolled": true
   },
   "outputs": [],
   "source": [
    "# avg_vm1_axis_field_sg = AmiraSpatialGraph(output_alignment_final+'/Clipped_Surfaces/'+'Avg_vM1_Axis_Field.am',\\\n",
    "#                                        generic_graph=True)\n",
    "# avg_vm1_axis_field = avg_vm1_axis_field_sg.graph_data.edge_list\n",
    "# ref_pia_wm = Surface(pts=avg_vm1_axis_field_sg.graph_data.edge_pt_coords)\n",
    "\n",
    "input_path = output_alignment_final+'Aligned_To_Clipped_Avg_Surface/'\n",
    "\n",
    "output_path = output_alignment_final+'Aligned_To_Clipped_Avg_Surface_Refined_By_Neuron_Axis/'\n",
    "pathlib.Path((output_path)).mkdir(exist_ok=True)\n",
    "\n",
    "avg_vm1_axis_field_sg = AmiraSpatialGraph(input_path_avg_rf+'Avg_vM1_Axis_Field_50.am',\\\n",
    "                                        generic_graph=True)\n",
    "avg_vm1_axis_field =  avg_vm1_axis_field_sg.graph_data.edge_list                                    \n",
    "#print(len(avg_vm1_axis_field)) \n",
    "for file in sorted(glob.glob(input_path_spatial_graphs+'*.am')):\n",
    "    #if os.path.basename(file)[:-3] == 'RA20180109_1_Cell_A_done.am_Segmented_corrected_shifted_and_merged_DONE':\n",
    "        \n",
    "    print(os.path.basename(file)[:-3])\n",
    "    sg = AmiraSpatialGraph(input_path+'/1_Surfaces/'+os.path.basename(file)[:-3]+'_barrels.am')\n",
    "    soma_center = np.array(sg.neuron.soma.edge_pt_coords).mean(axis=0)\n",
    "#     nearest_edge_in_avg_vm1,min_dist, min_dist_from_wm, min_dist_from_pia, pt_on_vector = \\\n",
    "#         Vectors().get_nearest_axis_to_pt(soma_center,avg_vm1_axis_field,axis_validation_distance=3000)\n",
    "    \n",
    "    if os.path.exists(input_path+'/2_Local_Neuron_Axis/'+os.path.basename(file)[:-3]+'_soma_wm_axis.am'):\n",
    "        # wm proj exists... use the pia and wm to do this one now\n",
    "        original_soma_pia_axis_sg = AmiraSpatialGraph(input_path+'/2_Local_Neuron_Axis/'+os.path.basename(file)[:-3]+'_soma_pia_axis.am',\\\n",
    "                                    generic_graph=True)\n",
    "        original_soma_wm_axis_sg = AmiraSpatialGraph(input_path+'/2_Local_Neuron_Axis/'+os.path.basename(file)[:-3]+'_soma_wm_axis.am',\\\n",
    "                                    generic_graph=True)\n",
    "        original_neuron_axis = [original_soma_wm_axis_sg.graph_data.edge_list[0][1],\\\n",
    "                                original_soma_pia_axis_sg.graph_data.edge_list[0][1]]\n",
    "        ref_neuron_axis = [nearest_edge_in_avg_vm1[0],nearest_edge_in_avg_vm1[1]]\n",
    "    else:\n",
    "        original_soma_pia_axis_sg = AmiraSpatialGraph(input_path+'/2_Local_Neuron_Axis/'+os.path.basename(file)[:-3]+'_soma_pia_axis.am',\\\n",
    "                                    generic_graph=True)\n",
    "        original_neuron_axis = [original_soma_pia_axis_sg.graph_data.edge_list[0][0],\\\n",
    "                                original_soma_pia_axis_sg.graph_data.edge_list[0][1]]\n",
    "        soma_pia_dist = Vectors().get_vec_length(original_neuron_axis)\n",
    "        soma_pt_on_avg_axis = Vectors().create_pt_along_vector_at_given_distance(soma_pia_dist,nearest_edge_in_avg_vm1[1],nearest_edge_in_avg_vm1[0])\n",
    "        ref_neuron_axis = [soma_pt_on_avg_axis,nearest_edge_in_avg_vm1[1]]\n",
    "    \n",
    "    selected_axis_sg = AmiraSpatialGraph(generic_graph=True)\n",
    "    selected_axis_sg.graph_data.add_edge(nearest_edge_in_avg_vm1[0],nearest_edge_in_avg_vm1[1])\n",
    "    selected_axis_sg.write_spatial_graph(output_path+'selected_axis.am')\n",
    "    print(original_neuron_axis,ref_neuron_axis)\n",
    "    # align oginal neuron axis to the nearest axis in the avg \n",
    "    landmarks = Landmarks(pts=original_neuron_axis)\n",
    "    icp,txmat = landmarks.align_landmarks(ref_neuron_axis)\n",
    "    print(txmat)\n",
    "    \n",
    "    aligner2 = Alignment() \n",
    "    aligner2.transform_folders(input_path,output_path,os.path.basename(file)[:-3],txmat=txmat,icp=icp)\n",
    "\n",
    "    output_path_clipped_surf = output_path+'Clipped_Surfaces/'\n",
    "    pathlib.Path((output_path_clipped_surf)).mkdir(exist_ok=True)\n",
    "    aligner3 = Alignment() \n",
    "    aligner3.transform_files(input_path+'Clipped_Surfaces/',output_path_clipped_surf,os.path.basename(file)[:-3],txmat=txmat,icp=icp)\n",
    "    \n",
    "    "
   ]
  },
  {
   "cell_type": "markdown",
   "metadata": {},
   "source": [
    "### Refine Using Neuron Avg Axis and Nearest Local Avg Axis in Avg Surface"
   ]
  },
  {
   "cell_type": "code",
   "execution_count": null,
   "metadata": {
    "ExecuteTime": {
     "end_time": "2020-08-26T16:02:34.940218Z",
     "start_time": "2020-08-26T15:58:18.130307Z"
    },
    "collapsed": true,
    "scrolled": true
   },
   "outputs": [],
   "source": [
    "# avg_vm1_axis_field_sg = AmiraSpatialGraph(output_alignment_final+'/Clipped_Surfaces/'+'Avg_vM1_Axis_Field.am',\\\n",
    "#                                        generic_graph=True)\n",
    "# avg_vm1_axis_field = avg_vm1_axis_field_sg.graph_data.edge_list\n",
    "# ref_pia_wm = Surface(pts=avg_vm1_axis_field_sg.graph_data.edge_pt_coords)\n",
    "\n",
    "input_path = output_alignment_final+'Aligned_To_Clipped_Avg_Surface/'\n",
    "\n",
    "output_path = output_alignment_final+'Aligned_To_Clipped_Avg_Surface_Refined_By_Local_Avg_Axis/'\n",
    "pathlib.Path((output_path)).mkdir(exist_ok=True)\n",
    "\n",
    "avg_vm1_axis_field_sg = AmiraSpatialGraph(input_path_avg_rf+'Avg_vM1_Axis_Field_50.am',\\\n",
    "                                        generic_graph=True)\n",
    "avg_vm1_axis_field =  avg_vm1_axis_field_sg.graph_data.edge_list                                    \n",
    "#print(len(avg_vm1_axis_field)) \n",
    "for file in sorted(glob.glob(input_path_spatial_graphs+'*.am')):\n",
    "    #if os.path.basename(file)[:-3] == 'RA20180109_1_Cell_A_done.am_Segmented_corrected_shifted_and_merged_DONE':\n",
    "        \n",
    "    print(os.path.basename(file)[:-3])\n",
    "    sg = AmiraSpatialGraph(input_path+'/1_Surfaces/'+os.path.basename(file)[:-3]+'_barrels.am')\n",
    "    soma_center = np.array(sg.neuron.soma.edge_pt_coords).mean(axis=0)\n",
    "    nearest_edge_in_avg_vm1,min_dist, min_dist_from_wm, min_dist_from_pia, pt_on_vector = \\\n",
    "        Vectors().get_nearest_axis_to_pt(soma_center,avg_vm1_axis_field,axis_validation_distance=3000)\n",
    "    \n",
    "    if os.path.exists(input_path+'/2_Local_Neuron_Axis/'+os.path.basename(file)[:-3]+'_soma_wm_axis_local_avg.am'):\n",
    "        # wm proj exists... use the pia and wm to do this one now\n",
    "        original_soma_pia_axis_sg = AmiraSpatialGraph(input_path+'/2_Local_Neuron_Axis/'+os.path.basename(file)[:-3]+'_soma_pia_axis_local_avg.am',\\\n",
    "                                    generic_graph=True)\n",
    "        original_soma_wm_axis_sg = AmiraSpatialGraph(input_path+'/2_Local_Neuron_Axis/'+os.path.basename(file)[:-3]+'_soma_wm_axis_local_avg.am',\\\n",
    "                                    generic_graph=True)\n",
    "        original_neuron_axis = [original_soma_wm_axis_sg.graph_data.edge_list[0][1],\\\n",
    "                                original_soma_pia_axis_sg.graph_data.edge_list[0][1]]\n",
    "        ref_neuron_axis = [nearest_edge_in_avg_vm1[0],nearest_edge_in_avg_vm1[1]]\n",
    "    else:\n",
    "        original_soma_pia_axis_sg = AmiraSpatialGraph(input_path+'/2_Local_Neuron_Axis/'+os.path.basename(file)[:-3]+'_soma_pia_axis.am',\\\n",
    "                                    generic_graph=True)\n",
    "        original_neuron_axis = [original_soma_pia_axis_sg.graph_data.edge_list[0][0],\\\n",
    "                                original_soma_pia_axis_sg.graph_data.edge_list[0][1]]\n",
    "        soma_pia_dist = Vectors().get_vec_length(original_neuron_axis)\n",
    "        soma_pt_on_avg_axis = Vectors().create_pt_along_vector_at_given_distance(soma_pia_dist,nearest_edge_in_avg_vm1[1],nearest_edge_in_avg_vm1[0])\n",
    "        ref_neuron_axis = [soma_pt_on_avg_axis,nearest_edge_in_avg_vm1[1]]\n",
    "    \n",
    "    selected_axis_sg = AmiraSpatialGraph(generic_graph=True)\n",
    "    selected_axis_sg.graph_data.add_edge(nearest_edge_in_avg_vm1[0],nearest_edge_in_avg_vm1[1])\n",
    "    selected_axis_sg.write_spatial_graph(output_path+'selected_axis.am')\n",
    "    #print(original_neuron_axis,ref_neuron_axis)\n",
    "    # align oginal neuron axis to the nearest axis in the avg \n",
    "    landmarks = Landmarks(pts=original_neuron_axis)\n",
    "    icp,txmat = landmarks.align_landmarks(ref_neuron_axis)\n",
    "    #print(txmat)\n",
    "    \n",
    "    print('original_neuron_axis_length : {}, neuron_axis_length_in_ref_frame : {}, Diff:{} '.format(\\\n",
    "            Vectors().get_vec_length(original_neuron_axis),Vectors().get_vec_length(ref_neuron_axis),\n",
    "                            Vectors().get_vec_length(original_neuron_axis)-Vectors().get_vec_length(ref_neuron_axis)) )\n",
    "    \n",
    "    aligner2 = Alignment() \n",
    "    aligner2.transform_folders(input_path,output_path,os.path.basename(file)[:-3],txmat=txmat,icp=icp)\n",
    "\n",
    "    output_path_clipped_surf = output_path+'Clipped_Surfaces/'\n",
    "    pathlib.Path((output_path_clipped_surf)).mkdir(exist_ok=True)\n",
    "    aligner3 = Alignment() \n",
    "    aligner3.transform_files(input_path+'Clipped_Surfaces/',output_path_clipped_surf,os.path.basename(file)[:-3],txmat=txmat,icp=icp)\n",
    "    \n",
    "    "
   ]
  },
  {
   "cell_type": "markdown",
   "metadata": {},
   "source": [
    "### Refine Using Neuron Axis and Same Axis Extended in Avg Surface"
   ]
  },
  {
   "cell_type": "code",
   "execution_count": null,
   "metadata": {
    "ExecuteTime": {
     "end_time": "2020-08-26T14:35:23.876279Z",
     "start_time": "2020-08-26T14:35:23.839342Z"
    },
    "collapsed": true,
    "scrolled": true
   },
   "outputs": [],
   "source": [
    "# find the avg axis along the registered neuron\n",
    "def extend_neuron_axis_to_avg_vm1(input_path,exp_name,ref_pia,ref_wm):\n",
    "    \n",
    "    #if exp_name == 'RA20180412_2_Cell_A.am_Segmented_corrected_DONE':\n",
    "    print(exp_name)\n",
    "    sg = AmiraSpatialGraph(input_path+'/1_Surfaces/'+exp_name+'_barrels.am')\n",
    "\n",
    "    neuron_axis_path = input_path+'/2_Local_Neuron_Axis/'\n",
    "    soma_center = Landmarks(neuron_axis_path+exp_name+'_Soma_Centroid.landmarksAscii').pts[0]\n",
    "    soma_pia_axis = AmiraSpatialGraph(neuron_axis_path + exp_name + '_soma_pia_axis.am' , generic_graph=True)\\\n",
    "                    .graph_data.edge_list[0]\n",
    "    pia_intersec_pt_reg,b = ref_pia.get_vector_intersection_pt(soma_center,soma_pia_axis[1],extrapolation_len=10000)\n",
    "    print(pia_intersec_pt_reg)\n",
    "    if len(pia_intersec_pt_reg)>0:\n",
    "        soma_pia_axis_reg = [soma_center,pia_intersec_pt_reg]\n",
    "        #write_edge(soma_pia_axis_reg,reg_axis_path+exp_name+'_soma_pia_axis_reg.am')\n",
    "    else:\n",
    "        pia_intersec_pt_reg,b = ref_pia.get_vector_intersection_pt(soma_center,soma_pia_axis[1],extrapolation_len=-10000)\n",
    "        if len(pia_intersec_pt_reg)>0:\n",
    "            soma_pia_axis_reg = [soma_center,pia_intersec_pt_reg]\n",
    "        else:\n",
    "            print('pia intersection not found error')\n",
    "\n",
    "    if os.path.exists(neuron_axis_path+exp_name+'_soma_wm_axis.am') :\n",
    "        soma_wm_axis = AmiraSpatialGraph(neuron_axis_path + exp_name + '_soma_wm_axis.am' , generic_graph=True)\\\n",
    "                            .graph_data.edge_list[0]\n",
    "        wm_intersec_pt_reg,b = ref_wm.get_vector_intersection_pt(soma_center,soma_wm_axis[1],extrapolation_len=10000)\n",
    "        print(wm_intersec_pt_reg)\n",
    "        if len(wm_intersec_pt_reg)>0:\n",
    "            soma_wm_axis_reg = [soma_center,wm_intersec_pt_reg]\n",
    "            #write_edge(soma_wm_axis_reg,reg_axis_path+exp_name+'_soma_wm_axis_reg.am')\n",
    "        else:\n",
    "#             wm_intersec_pt_reg,b = ref_wm.get_vector_intersection_pt(soma_center,soma_wm_axis[1],extrapolation_len=-10000)\n",
    "#             soma_wm_axis_reg = [soma_center,wm_intersec_pt_reg]\n",
    "#         if len(wm_intersec_pt_reg)==0:\n",
    "            soma_wm_axis_reg = []\n",
    "            print('wm intersection not found error')            \n",
    "    else:\n",
    "        # No wm projection found in the original\n",
    "        soma_wm_axis = []\n",
    "        soma_wm_axis_reg = []\n",
    "\n",
    "    return soma_pia_axis_reg,soma_wm_axis_reg\n",
    "        "
   ]
  },
  {
   "cell_type": "code",
   "execution_count": null,
   "metadata": {
    "ExecuteTime": {
     "end_time": "2020-08-26T14:42:44.972273Z",
     "start_time": "2020-08-26T14:35:23.999186Z"
    },
    "collapsed": true,
    "scrolled": true
   },
   "outputs": [],
   "source": [
    "# avg_vm1_axis_field_sg = AmiraSpatialGraph(output_alignment_final+'/Clipped_Surfaces/'+'Avg_vM1_Axis_Field.am',\\\n",
    "#                                        generic_graph=True)\n",
    "# avg_vm1_axis_field = avg_vm1_axis_field_sg.graph_data.edge_list\n",
    "# ref_pia_wm = Surface(pts=avg_vm1_axis_field_sg.graph_data.edge_pt_coords)\n",
    "ref_pia = Surface(input_path_avg_rf+'Avg_Pia_50.vtk')\n",
    "ref_wm = Surface(input_path_avg_rf+'Avg_WM_50.vtk')\n",
    "\n",
    "input_path = output_alignment_final+'Aligned_To_Clipped_Avg_Surface/'\n",
    "\n",
    "output_path = output_alignment_final+'Aligned_To_Clipped_Avg_Surface_Refined_By_Neuron_Axis_2/'\n",
    "pathlib.Path((output_path)).mkdir(exist_ok=True)\n",
    "\n",
    "avg_vm1_axis_field_sg = AmiraSpatialGraph(input_path_avg_rf+'Avg_vM1_Axis_Field_50.am',\\\n",
    "                                        generic_graph=True)\n",
    "avg_vm1_axis_field =  avg_vm1_axis_field_sg.graph_data.edge_list                                    \n",
    "#print(len(avg_vm1_axis_field)) \n",
    "for file in sorted(glob.glob(input_path_spatial_graphs+'*.am')):\n",
    "    #if os.path.basename(file)[:-3] == 'RA20180109_1_Cell_A_done.am_Segmented_corrected_shifted_and_merged_DONE':\n",
    "        \n",
    "    print(os.path.basename(file)[:-3])\n",
    "    sg = AmiraSpatialGraph(input_path+'/1_Surfaces/'+os.path.basename(file)[:-3]+'_barrels.am')\n",
    "    soma_center = np.array(sg.neuron.soma.edge_pt_coords).mean(axis=0)\n",
    "    \n",
    "    soma_pia_axis_reg,soma_wm_axis_reg = extend_neuron_axis_to_avg_vm1(input_path,os.path.basename(file)[:-3],ref_pia,ref_wm)\n",
    "    \n",
    "    if os.path.exists(input_path+'/2_Local_Neuron_Axis/'+os.path.basename(file)[:-3]+'_soma_wm_axis.am') and \\\n",
    "        len(soma_wm_axis_reg) > 0:\n",
    "        # wm proj exists... use the pia and wm to do this one now\n",
    "        original_soma_pia_axis_sg = AmiraSpatialGraph(input_path+'/2_Local_Neuron_Axis/'+os.path.basename(file)[:-3]+'_soma_pia_axis.am',\\\n",
    "                                    generic_graph=True)\n",
    "        original_soma_wm_axis_sg = AmiraSpatialGraph(input_path+'/2_Local_Neuron_Axis/'+os.path.basename(file)[:-3]+'_soma_wm_axis.am',\\\n",
    "                                    generic_graph=True)\n",
    "        original_neuron_axis = [original_soma_wm_axis_sg.graph_data.edge_list[0][1],\\\n",
    "                                original_soma_pia_axis_sg.graph_data.edge_list[0][1]]\n",
    "        ref_neuron_axis = [soma_wm_axis_reg[1],soma_pia_axis_reg[1]]\n",
    "    else:\n",
    "        original_soma_pia_axis_sg = AmiraSpatialGraph(input_path+'/2_Local_Neuron_Axis/'+os.path.basename(file)[:-3]+'_soma_pia_axis.am',\\\n",
    "                                    generic_graph=True)\n",
    "        original_neuron_axis = [original_soma_pia_axis_sg.graph_data.edge_list[0][0],\\\n",
    "                                original_soma_pia_axis_sg.graph_data.edge_list[0][1]]\n",
    "        soma_pia_dist = Vectors().get_vec_length(original_neuron_axis)\n",
    "        soma_pt_on_avg_axis = Vectors().create_pt_along_vector_at_given_distance(soma_pia_dist,nearest_edge_in_avg_vm1[1],nearest_edge_in_avg_vm1[0])\n",
    "        ref_neuron_axis = [soma_pt_on_avg_axis,nearest_edge_in_avg_vm1[1]]\n",
    "    \n",
    "    selected_axis_sg = AmiraSpatialGraph(generic_graph=True)\n",
    "    selected_axis_sg.graph_data.add_edge(ref_neuron_axis[0],ref_neuron_axis[1])\n",
    "    selected_axis_sg.write_spatial_graph(output_path+'selected_axis.am')\n",
    "    print(original_neuron_axis,ref_neuron_axis)\n",
    "    # align oginal neuron axis to the nearest axis in the avg \n",
    "    landmarks = Landmarks(pts=original_neuron_axis)\n",
    "    icp,txmat = landmarks.align_landmarks(ref_neuron_axis)\n",
    "    print(txmat)\n",
    "    \n",
    "    aligner2 = Alignment() \n",
    "    aligner2.transform_folders(input_path,output_path,os.path.basename(file)[:-3],txmat=txmat,icp=icp)\n",
    "\n",
    "    output_path_clipped_surf = output_path+'Clipped_Surfaces/'\n",
    "    pathlib.Path((output_path_clipped_surf)).mkdir(exist_ok=True)\n",
    "    aligner3 = Alignment() \n",
    "    aligner3.transform_files(input_path+'Clipped_Surfaces/',output_path_clipped_surf,os.path.basename(file)[:-3],txmat=txmat,icp=icp)\n",
    "    \n",
    "    "
   ]
  },
  {
   "cell_type": "markdown",
   "metadata": {},
   "source": [
    "### Using Axes Surrounding The Neuron"
   ]
  },
  {
   "cell_type": "code",
   "execution_count": null,
   "metadata": {
    "ExecuteTime": {
     "end_time": "2020-08-25T00:40:38.224227Z",
     "start_time": "2020-08-25T00:40:37.779278Z"
    },
    "collapsed": true,
    "scrolled": true
   },
   "outputs": [],
   "source": [
    "avg_vm1_axis_field_sg = AmiraSpatialGraph(output_alignment_final+'/Clipped_Surfaces/'+'Avg_vM1_Axis_Field.am',\\\n",
    "                                       generic_graph=True)\n",
    "avg_vm1_axis_field = avg_vm1_axis_field_sg.graph_data.edge_list\n",
    "ref_pia_wm = Surface(pts=avg_vm1_axis_field_sg.graph_data.edge_pt_coords)\n",
    "output_path = output_alignment_final+'Aligned_To_Clipped_Avg_Surface_Refined/'\n",
    "pathlib.Path((output_path)).mkdir(exist_ok=True)\n",
    "#print(len(avg_vm1_axis_field)) \n",
    "for file in sorted(glob.glob(input_path_spatial_graphs+'*.am')):\n",
    "    if os.path.basename(file)[:-3] == 'RA20180109_1_Cell_A_done.am_Segmented_corrected_shifted_and_merged_DONE':\n",
    "        #pia = Surface(output_alignment_final+'Clipped_Surfaces/'+os.path.basename(file)[:-3]+'_pia.vtk')\n",
    "        #wm = Surface(output_alignment_final+'Clipped_Surfaces/'+os.path.basename(file)[:-3]+'_WM.vtk')\n",
    "        sg = AmiraSpatialGraph(output_alignment_final+'Aligned_To_MaxY/1_Surfaces/'+os.path.basename(file)[:-3]+'_barrels.am')\n",
    "        vm1_axis_field = AmiraSpatialGraph(output_alignment_final+'/Clipped_Surfaces/'+os.path.basename(file)[:-3]+\\\n",
    "                                           '_vM1_Axis_Field.am',generic_graph=True).graph_data.edge_list\n",
    "        soma_center = np.array(sg.neuron.soma.edge_pt_coords).mean(axis=0)\n",
    "        # clean up the axis field to only take the ones pointing upwards\n",
    "        clean_field_sg = clean_axis_field(vm1_axis_field)\n",
    "\n",
    "        print(os.path.basename(file)[:-3])\n",
    "        \n",
    "        # Get local axis field\n",
    "#         nearby_axes = Vectors().get_nearest_axes_to_pts_within_radius(clean_field_sg.graph_data.edge_list,[soma_center],1000,\\\n",
    "#                                                                       axis_validation_xy_distance=10000)\n",
    "#         nearby_axes_in_avg = Vectors().get_nearest_axes_to_pts_within_radius(avg_vm1_axis_field_sg.graph_data.edge_list,\\\n",
    "#                                                                              [soma_center],10000,\\\n",
    "#                                                                              axis_validation_xy_distance=10000,\\\n",
    "#                                                                             final_validation_distance=10000)\n",
    "        \n",
    "        print(len(nearby_axes_in_avg),len(nearby_axes))\n",
    "        # pick up the equal number of axes\n",
    "    #     if len(nearby_axes) > len(nearby_axes_in_avg):\n",
    "    #         nearby_axes = get_number_of_axes_from_field(nearby_axes,len(nearby_axes_in_avg))\n",
    "    #     elif len(nearby_axes) < len(nearby_axes_in_avg):\n",
    "    #         nearby_axes_in_avg = get_number_of_axes_from_field(nearby_axes_in_avg,len(nearby_axes))\n",
    "\n",
    "        nearby_axes_sg = get_sg_from_edge_list(nearby_axes)\n",
    "        nearby_axes_in_avg_sg = get_sg_from_edge_list(nearby_axes_in_avg)\n",
    "\n",
    "        ref_pia_wm = Surface(pts=nearby_axes_in_avg_sg.graph_data.edge_pt_coords)\n",
    "        pia_wm = Surface(pts=nearby_axes_sg.graph_data.edge_pt_coords)\n",
    "\n",
    "        aligner1 = Alignment(ref_pia_wm.surface,pia_wm.surface,nr_iterations=10000)\n",
    "        txmat = aligner1.get_transformation_matrix()\n",
    "        #print(txmat)\n",
    "        icp = aligner1.get_icp_transform()\n",
    "\n",
    "        aligner2 = Alignment() \n",
    "        aligner2.transform_folders(input_path,output_path,os.path.basename(file)[:-3],txmat=txmat,icp=icp)\n",
    "        \n",
    "    "
   ]
  },
  {
   "cell_type": "code",
   "execution_count": null,
   "metadata": {
    "ExecuteTime": {
     "end_time": "2020-08-25T01:19:52.440743Z",
     "start_time": "2020-08-25T01:19:52.432357Z"
    },
    "collapsed": true,
    "scrolled": true
   },
   "outputs": [],
   "source": [
    "angles = []\n",
    "\n",
    "for edge in avg_vm1_axis_field_sg.graph_data.edge_list:\n",
    "    angles.append(abs(Vectors().get_angle_between_vectors([[0,0,0],[0,0,1]],edge,ignore_opposite_direction=True)))\n",
    "    "
   ]
  },
  {
   "cell_type": "code",
   "execution_count": null,
   "metadata": {
    "ExecuteTime": {
     "end_time": "2020-08-25T01:20:26.116451Z",
     "start_time": "2020-08-25T01:20:26.109320Z"
    },
    "collapsed": true
   },
   "outputs": [],
   "source": [
    "np.array(angles).max(),"
   ]
  },
  {
   "cell_type": "markdown",
   "metadata": {},
   "source": [
    "## Evaluate alignment"
   ]
  },
  {
   "cell_type": "code",
   "execution_count": null,
   "metadata": {
    "ExecuteTime": {
     "end_time": "2020-08-25T22:47:57.312230Z",
     "start_time": "2020-08-25T22:47:57.289311Z"
    },
    "collapsed": true
   },
   "outputs": [],
   "source": [
    "def get_local_avg_axis(avg_vm1_axis_field,soma_center,pia,wm,exp_name,output_path):\n",
    "    soma_wm_axis = []\n",
    "    nearby_axes = Vectors().get_nearest_axes_to_pts_within_radius(avg_vm1_axis_field.graph_data.edge_list,[soma_center],800)\n",
    "    nearby_axes_sg = AmiraSpatialGraph(generic_graph=True)\n",
    "    unit_vecs = []\n",
    "    for axis in nearby_axes:\n",
    "        nearby_axes_sg.graph_data.add_edge(axis[0],axis[1])\n",
    "        unit_vecs.append(Vectors().get_unit_vec(axis[0],axis[1]))\n",
    "    #nearby_axes_sg.write_spatial_graph(output_neuron_axis+os.path.basename(file)[:-3]+'_axis_field_selected.am')\n",
    "    avg_uv = np.array(unit_vecs).mean(axis=0)\n",
    "    end_pt = (avg_uv*6000 + soma_center)\n",
    "    pia_proj_pt_neuron_using_local_avg_axis,soma_depth_using_local_avg = pia.get_vector_intersection_pt(end_pt,soma_center,extrapolation_len=0)\n",
    "    write_edge([soma_center,pia_proj_pt_neuron_using_local_avg_axis],\\\n",
    "               output_path+exp_name+'_soma_pia_axis.am')\n",
    "    \n",
    "    wm_proj_pt_neuron_using_local_avg_axis,soma_depth_using_local_avg = wm.get_vector_intersection_pt(end_pt,soma_center,extrapolation_len=0)\n",
    "    if len(wm_proj_pt_neuron_using_local_avg_axis)>0:\n",
    "        soma_wm_axis = [soma_center,wm_proj_pt_neuron_using_local_avg_axis]\n",
    "        write_edge([soma_center,wm_proj_pt_neuron_using_local_avg_axis],\\\n",
    "               output_path+exp_name+'_soma_wm_axis.am')\n",
    "    \n",
    "    \n",
    "    return [soma_center,pia_proj_pt_neuron_using_local_avg_axis],soma_wm_axis"
   ]
  },
  {
   "cell_type": "code",
   "execution_count": null,
   "metadata": {
    "ExecuteTime": {
     "end_time": "2020-08-25T22:47:57.496222Z",
     "start_time": "2020-08-25T22:47:57.464962Z"
    },
    "collapsed": true
   },
   "outputs": [],
   "source": [
    "def get_dend_pca_axis(sg,soma_center,pia,wm,exp_name,output_path,original_neuron_axis):\n",
    "    soma_wm_axis = []\n",
    "    pca_components = get_pca_direction(sg.neuron.dendrite.apical_dendrite.edge_pt_coords)\n",
    "    #Landmarks(pts=resampled_pts).write_landmarks(output_root+'pts')\n",
    "    end_pt = Vectors().create_pt_along_vector_at_given_distance(6000,[0,0,0],pca_components[0,:])\n",
    "    #Landmarks(pts=[end_pt+soma_center]).write_landmarks(output_root+'end_pt')\n",
    "    #print(end_pt)\n",
    "    angle = Vectors().get_angle_between_vectors([soma_center,original_neuron_axis[1]],\\\n",
    "                     [soma_center,end_pt+soma_center],ignore_opposite_direction=False)\n",
    "    #print(angle)\n",
    "    pia_proj_pt_neuron = []\n",
    "    if angle < 90:\n",
    "        # pca direction is correct.. project to pia\n",
    "        end_pt = Vectors().create_pt_along_vector_at_given_distance(6000,[0,0,0],pca_components[0,:])\n",
    "        print(end_pt)\n",
    "        Landmarks(pts=[end_pt+soma_center]).write_landmarks(output_root+'end_pt')\n",
    "        pia_proj_pt_neuron,soma_depth  = pia.get_vector_intersection_pt(end_pt+soma_center,soma_center,extrapolation_len=0)\n",
    "        write_edge([soma_center,pia_proj_pt_neuron],output_path+exp_name+'_soma_pia_axis.am')\n",
    "    else:\n",
    "        # the pca is inverted, so straighten it\n",
    "        #print('opposite')\n",
    "        end_pt = Vectors().create_pt_along_vector_at_given_distance(-6000,[0,0,0],pca_components[0,:])\n",
    "        pia_proj_pt_neuron,soma_depth = pia.get_vector_intersection_pt(end_pt+soma_center,soma_center,extrapolation_len=0)\n",
    "        write_edge([soma_center,pia_proj_pt_neuron],output_path+exp_name+'_soma_pia_axis.am')\n",
    "\n",
    "    wm_proj_pt_neuron = get_wm_intersection_pt(wm,soma_center,pia_proj_pt_neuron)\n",
    "    if len (wm_proj_pt_neuron) > 0:\n",
    "        write_edge([soma_center,wm_proj_pt_neuron],output_path+exp_name+'_soma_wm_axis.am')\n",
    "    \n",
    "    \n",
    "    return [soma_center,pia_proj_pt_neuron_using_local_avg_axis],soma_wm_axis"
   ]
  },
  {
   "cell_type": "code",
   "execution_count": null,
   "metadata": {
    "ExecuteTime": {
     "end_time": "2020-08-26T10:55:52.168225Z",
     "start_time": "2020-08-26T10:55:52.071634Z"
    },
    "collapsed": true,
    "scrolled": true
   },
   "outputs": [],
   "source": [
    "# find the avg axis along the registered neuron\n",
    "def get_registered_neuron_stats(input_path,ref_pia,ref_wm):\n",
    "    cols = ['Exp_Name','Neuron_Depth_Original','Neuron_Depth_Registered',\\\n",
    "        'Neuron_Height_Original','Neuron_Height_Registered',\\\n",
    "        'Neuron_Cortical_Thickness_Original','Neuron_Cortical_Thickness_Registered',\\\n",
    "        'Neuron_Height_Original','Neuron_Height_Registered',\\\n",
    "        'Neuron_Depth_Difference','Neuron_Height_Difference','Neuron_Cortical_Thickness_Difference',\\\n",
    "        'Neuron_Depth_Difference_Abs','Neuron_Height_Difference_Abs','Neuron_Cortical_Thickness_Difference_Abs']\n",
    "    df_main = pd.DataFrame(columns=cols)\n",
    "    \n",
    "    reg_axis_path = input_path+'/Reg_Neuron_Axis/'\n",
    "    pathlib.Path((reg_axis_path)).mkdir(exist_ok=True)\n",
    "    for file in sorted(glob.glob(input_path_spatial_graphs+'*.am')):\n",
    "        exp_name = os.path.basename(file)[:-3]\n",
    "        #if exp_name == 'RA20180412_2_Cell_A.am_Segmented_corrected_DONE':\n",
    "        print(exp_name)\n",
    "        sg = AmiraSpatialGraph(input_path+'/1_Surfaces/'+exp_name+'_barrels.am')\n",
    "\n",
    "        neuron_axis_path = input_path+'/2_Local_Neuron_Axis/'\n",
    "        soma_center = Landmarks(neuron_axis_path+exp_name+'_Soma_Centroid.landmarksAscii').pts[0]\n",
    "        soma_pia_axis = AmiraSpatialGraph(neuron_axis_path + exp_name + '_soma_pia_axis.am' , generic_graph=True)\\\n",
    "                        .graph_data.edge_list[0]\n",
    "        pia_intersec_pt_reg,b = ref_pia.get_vector_intersection_pt(soma_center,soma_pia_axis[1],extrapolation_len=10000)\n",
    "        print(pia_intersec_pt_reg)\n",
    "        if len(pia_intersec_pt_reg)>0:\n",
    "            soma_pia_axis_reg = [soma_center,pia_intersec_pt_reg]\n",
    "            write_edge(soma_pia_axis_reg,reg_axis_path+exp_name+'_soma_pia_axis_reg.am')\n",
    "        else:\n",
    "            soma_pia_axis_reg = []\n",
    "            print('pia intersection not found error')\n",
    "\n",
    "        if os.path.exists(neuron_axis_path+exp_name+'_soma_wm_axis.am') :\n",
    "            soma_wm_axis = AmiraSpatialGraph(neuron_axis_path + exp_name + '_soma_wm_axis.am' , generic_graph=True)\\\n",
    "                                .graph_data.edge_list[0]\n",
    "            wm_intersec_pt_reg,b = ref_wm.get_vector_intersection_pt(soma_center,soma_wm_axis[1],extrapolation_len=10000)\n",
    "            print(wm_intersec_pt_reg)\n",
    "            if len(wm_intersec_pt_reg)>0:\n",
    "                soma_wm_axis_reg = [soma_center,wm_intersec_pt_reg]\n",
    "                write_edge(soma_wm_axis_reg,reg_axis_path+exp_name+'_soma_wm_axis_reg.am')\n",
    "            else:\n",
    "    #             wm_intersec_pt_reg,b = ref_wm.get_vector_intersection_pt(soma_center,soma_wm_axis[1],extrapolation_len=-10000)\n",
    "    #             soma_wm_axis_reg = [soma_center,wm_intersec_pt_reg]\n",
    "    #         if len(wm_intersec_pt_reg)==0:\n",
    "                soma_wm_axis_reg = []\n",
    "                print('wm intersection not found error')            \n",
    "        else:\n",
    "            # No wm projection found in the original\n",
    "            soma_wm_axis = []\n",
    "            soma_wm_axis_reg = []\n",
    "\n",
    "\n",
    "        # get the difference between original and other depth\n",
    "        df = pd.DataFrame(columns=cols)\n",
    "        df['Exp_Name'] = [exp_name]\n",
    "        if len(soma_pia_axis)>0:\n",
    "            df['Neuron_Depth_Original'] = [Vectors().get_vec_length(soma_pia_axis)]\n",
    "        if len(soma_pia_axis_reg)>0:\n",
    "            df['Neuron_Depth_Registered'] = [Vectors().get_vec_length(soma_pia_axis_reg)]\n",
    "        if len(soma_wm_axis)>0:\n",
    "            df['Neuron_Height_Original'] = [Vectors().get_vec_length(soma_wm_axis)]\n",
    "            df['Neuron_Cortical_Thickness_Original'] = df['Neuron_Depth_Original'].values+df['Neuron_Height_Original'].values\n",
    "        if len(soma_wm_axis_reg) > 0:\n",
    "            df['Neuron_Height_Registered'] = [Vectors().get_vec_length(soma_wm_axis_reg)]\n",
    "            df['Neuron_Cortical_Thickness_Registered'] = df['Neuron_Depth_Registered'].values+df['Neuron_Height_Registered'].values\n",
    "        df['Neuron_Depth_Difference'] = df['Neuron_Depth_Original'].values-df['Neuron_Depth_Registered'].values\n",
    "        df['Neuron_Height_Difference'] = df['Neuron_Height_Original'].values-df['Neuron_Height_Registered'].values\n",
    "        df['Neuron_Cortical_Thickness_Difference'] = df['Neuron_Cortical_Thickness_Original'].values-df['Neuron_Cortical_Thickness_Registered'].values\n",
    "        df['Neuron_Depth_Difference_Abs'] = abs(df['Neuron_Depth_Difference'])\n",
    "        df['Neuron_Height_Difference_Abs'] = abs(df['Neuron_Height_Difference'])\n",
    "        df['Neuron_Cortical_Thickness_Difference_Abs'] = abs(df['Neuron_Cortical_Thickness_Difference'])\n",
    "\n",
    "        df_main = df_main.append(df)\n",
    "\n",
    "        \n",
    "    df_main.to_csv(input_path+'Depth_Difference.csv')\n",
    "    \n",
    "    return df_main"
   ]
  },
  {
   "cell_type": "code",
   "execution_count": null,
   "metadata": {
    "ExecuteTime": {
     "end_time": "2020-08-26T16:29:34.052758Z",
     "start_time": "2020-08-26T16:26:26.627261Z"
    },
    "collapsed": true,
    "scrolled": true
   },
   "outputs": [],
   "source": [
    "#avg_vm1_axis_field = AmiraSpatialGraph(output_alignment_final+'Clipped_Surfaces/Avg_vM1_Axis_Field.am',generic_graph=True)\n",
    "ref_pia = Surface(input_path_avg_rf+'Avg_Pia_50.vtk')\n",
    "ref_wm = Surface(input_path_avg_rf+'Avg_WM_50.vtk')\n",
    "\n",
    "df_reg_clipped_surf_refined_local_avg = get_registered_neuron_stats(output_alignment_final+'Aligned_To_Clipped_Avg_Surface_Refined_By_Local_Avg_Axis/',\\\n",
    "                                     ref_pia,ref_wm)\n",
    "# df_reg_hull = get_registered_neuron_stats(output_alignment_final+'Aligned_To_Clipped_Avg_Surface_Hull/',\\\n",
    "#                                      ref_pia,ref_wm)\n",
    "# df_reg_full_surf = get_registered_neuron_stats(output_root+'3_Aligned_By_Surfaces/',\\\n",
    "#                                      ref_pia,ref_wm)\n",
    "#df_reg_refined.to_csv(output_path+'Reg_Refined_Stats.csv')"
   ]
  },
  {
   "cell_type": "code",
   "execution_count": null,
   "metadata": {
    "ExecuteTime": {
     "end_time": "2020-08-26T16:30:40.844195Z",
     "start_time": "2020-08-26T16:30:40.830541Z"
    },
    "collapsed": true
   },
   "outputs": [],
   "source": [
    "#df_reg_hull[(df_reg_refined['Neuron_Depth_Difference_Abs']>300)]\n",
    "#df_reg_hull.dropna()\n",
    "#df_reg_clipped_surf.dropna()\n",
    "#df_reg_hull.sort_values(by='Neuron_Depth_Difference_Abs')\n",
    "#(df_reg_hull[(df_reg_hull['Neuron_Depth_Difference_Abs']>200)])\n",
    "#(df_reg_refined[(df_reg_refined['Neuron_Depth_Difference_Abs']>300)])\n",
    "#(df_reg_clipped_surf_refined[(df_reg_clipped_surf_refined['Neuron_Depth_Difference_Abs']>400)])\n",
    "#df_reg_clipped_surf_refined['Neuron_Height_Difference_Abs'].mean()\n",
    "#df_reg_refined['Neuron_Depth_Difference_Abs'].mean(),df_reg_refined['Neuron_Depth_Difference_Abs'].std()\n",
    "#df_reg_hull['Neuron_Depth_Difference_Abs'].mean(),df_reg_hull['Neuron_Depth_Difference_Abs'].std()\n",
    "#df_reg_full_surf['Neuron_Depth_Difference_Abs'].mean(),df_reg_full_surf['Neuron_Depth_Difference_Abs'].std()\n",
    "df_reg_clipped_surf_refined_local_avg['Neuron_Cortical_Thickness_Difference_Abs'].mean(),df_reg_clipped_surf_refined_local_avg['Neuron_Cortical_Thickness_Difference_Abs'].std()"
   ]
  },
  {
   "cell_type": "code",
   "execution_count": null,
   "metadata": {
    "ExecuteTime": {
     "end_time": "2020-08-26T15:15:32.620202Z",
     "start_time": "2020-08-26T15:15:32.603642Z"
    },
    "collapsed": true
   },
   "outputs": [],
   "source": [
    "#df_reg_clipped_surf_refined[df_reg_clipped_surf_refined['Neuron_Cortical_Thickness_Difference_Abs'] > 500]\n",
    "dfref_surf = pd.read_csv(output_alignment_final+'Aligned_To_Clipped_Avg_Surface/Depth_Difference.csv')\n",
    "dfref_surf['Neuron_Cortical_Thickness_Original'].mean(),dfref_surf['Neuron_Cortical_Thickness_Original'].std(),\\\n",
    "dfref_surf['Neuron_Cortical_Thickness_Registered'].mean(),dfref_surf['Neuron_Cortical_Thickness_Registered'].std()"
   ]
  },
  {
   "cell_type": "code",
   "execution_count": null,
   "metadata": {
    "collapsed": true
   },
   "outputs": [],
   "source": []
  },
  {
   "cell_type": "markdown",
   "metadata": {},
   "source": [
    "# Write Registered Neurons"
   ]
  },
  {
   "cell_type": "code",
   "execution_count": null,
   "metadata": {
    "ExecuteTime": {
     "end_time": "2020-08-25T22:22:05.708378Z",
     "start_time": "2020-08-25T22:20:23.453211Z"
    },
    "collapsed": true
   },
   "outputs": [],
   "source": [
    "## Combine Neurons for visualization\n",
    "apical = AmiraSpatialGraph()\n",
    "basal = AmiraSpatialGraph()\n",
    "dend = AmiraSpatialGraph()\n",
    "#axon = AmiraSpatialGraph()\n",
    "neuron = AmiraSpatialGraph()\n",
    "for file in sorted(glob.glob(input_path_spatial_graphs+'*.am')):\n",
    "    sg = AmiraSpatialGraph(output_alignment_final+'Aligned_To_Clipped_Avg_Surface/1_Surfaces/'+os.path.basename(file)[:-3]+'_barrels.am')\n",
    "    neuron.graph_data = neuron.combine_subgraphs([neuron.graph_data,sg.neuron.all_neurites_subgraphdata])\n",
    "    if len(sg.neuron.dendrite.apical_dendrite.edge_pt_coords)>0:\n",
    "        apical.graph_data = apical.combine_subgraphs([apical.graph_data,sg.neuron.dendrite.apical_dendrite])\n",
    "    if len(sg.neuron.dendrite.basal_dendrite.edge_pt_coords)>0:\n",
    "        basal.graph_data = basal.combine_subgraphs([basal.graph_data,sg.neuron.dendrite.basal_dendrite])\n",
    "    \n",
    "neuron.write_spatial_graph(output_root+'All_Neurons_Registered_To_vM1_Using_Clipped_Surface.am')\n",
    "apical.write_spatial_graph(output_root+'All_Apical_Dendrites_Registered_To_vM1_Using_Clipped_Surface.am')\n",
    "basal.write_spatial_graph(output_root+'All_Basal_Dendrites_Registered_To_vM1_Using_Clipped_Surface.am')"
   ]
  },
  {
   "cell_type": "code",
   "execution_count": null,
   "metadata": {
    "ExecuteTime": {
     "end_time": "2020-08-24T13:09:28.492381Z",
     "start_time": "2020-08-24T13:09:16.687740Z"
    },
    "collapsed": true
   },
   "outputs": [],
   "source": [
    "apical.write_spatial_graph(output_root+'All_Apical_Dendrites_Registered_To_vM1.am')\n",
    "basal.write_spatial_graph(output_root+'All_Basal_Dendrites_Registered_To_vM1.am')"
   ]
  },
  {
   "cell_type": "code",
   "execution_count": null,
   "metadata": {
    "ExecuteTime": {
     "end_time": "2020-08-28T17:16:20.088794Z",
     "start_time": "2020-08-28T17:14:38.610162Z"
    },
    "collapsed": true
   },
   "outputs": [],
   "source": [
    "apical = AmiraSpatialGraph()\n",
    "basal = AmiraSpatialGraph()\n",
    "dend = AmiraSpatialGraph()\n",
    "#axon = AmiraSpatialGraph()\n",
    "neuron = AmiraSpatialGraph()\n",
    "for file in sorted(glob.glob(input_path_spatial_graphs+'*.am')):\n",
    "    sg = AmiraSpatialGraph(output_root+'3_Aligned_By_Surfaces/1_Surfaces/'+os.path.basename(file)[:-3]+'_barrels.am')\n",
    "    neuron.graph_data = neuron.combine_subgraphs([neuron.graph_data,sg.neuron.all_neurites_subgraphdata])\n",
    "    if len(sg.neuron.dendrite.apical_dendrite.edge_pt_coords)>0:\n",
    "        apical.graph_data = apical.combine_subgraphs([apical.graph_data,sg.neuron.dendrite.apical_dendrite])\n",
    "    if len(sg.neuron.dendrite.basal_dendrite.edge_pt_coords)>0:\n",
    "        basal.graph_data = basal.combine_subgraphs([basal.graph_data,sg.neuron.dendrite.basal_dendrite])\n",
    "    \n",
    "neuron.write_spatial_graph(output_root+'All_Neurons_Registered_To_vM1_Using_Surfaces.am')\n",
    "apical.write_spatial_graph(output_root+'All_Apical_Dendrites_Registered_To_vM1_Using_Surfaces.am')\n",
    "basal.write_spatial_graph(output_root+'All_Basal_Dendrites_Registered_To_vM1_Using_Surfaces.am')"
   ]
  },
  {
   "cell_type": "code",
   "execution_count": null,
   "metadata": {
    "ExecuteTime": {
     "end_time": "2020-08-24T14:22:44.224275Z",
     "start_time": "2020-08-24T14:22:23.105859Z"
    },
    "collapsed": true
   },
   "outputs": [],
   "source": [
    "apical = AmiraSpatialGraph()\n",
    "basal = AmiraSpatialGraph()\n",
    "dend = AmiraSpatialGraph()\n",
    "#axon = AmiraSpatialGraph()\n",
    "neuron = AmiraSpatialGraph()\n",
    "for file in sorted(glob.glob(input_path_spatial_graphs+'*.am')):\n",
    "    sg = AmiraSpatialGraph(output_root+'3_Aligned_By_Barrels/1_Surfaces/'+os.path.basename(file)[:-3]+'_barrels.am')\n",
    "    neuron.graph_data = neuron.combine_subgraphs([neuron.graph_data,sg.neuron.all_neurites_subgraphdata])\n",
    "    if len(sg.neuron.dendrite.apical_dendrite.edge_pt_coords)>0:\n",
    "        apical.graph_data = apical.combine_subgraphs([apical.graph_data,sg.neuron.dendrite.apical_dendrite])\n",
    "    if len(sg.neuron.dendrite.basal_dendrite.edge_pt_coords)>0:\n",
    "        basal.graph_data = basal.combine_subgraphs([basal.graph_data,sg.neuron.dendrite.basal_dendrite])\n",
    "    \n",
    "neuron.write_spatial_graph(output_root+'All_Neurons_Registered_To_vM1_Using_Barrels.am')\n",
    "apical.write_spatial_graph(output_root+'All_Apical_Dendrites_Registered_To_vM1_Using_Barrels.am')\n",
    "basal.write_spatial_graph(output_root+'All_Basal_Dendrites_Registered_To_vM1_Using_Barrels.am')"
   ]
  },
  {
   "cell_type": "markdown",
   "metadata": {},
   "source": [
    "# Comapre different reg methods\n",
    "\n",
    "\n"
   ]
  },
  {
   "cell_type": "code",
   "execution_count": null,
   "metadata": {
    "ExecuteTime": {
     "end_time": "2020-08-29T22:47:09.840248Z",
     "start_time": "2020-08-29T22:46:56.331118Z"
    },
    "collapsed": true,
    "scrolled": true
   },
   "outputs": [],
   "source": [
    "# Find difference between manual and auto neuron axis wr.t local avg axis\n",
    "\n",
    "cols = ['Exp','Angle_Between_Manual_and_Auto_Neuron_Axis',\\\n",
    "        'Angle_Between_Manual_and_Local_Avg_Axis',\\\n",
    "        'Angle_Between_Auto_and_Local_Avg_Axis',\\\n",
    "        'Angle_Between_Manual_Surface_Reg_Neuron_and_RF_Nearest_Axis',\\\n",
    "        'Angle_Between_Auto_Surface_Reg_Neuron_and_RF_Nearest_Axis'\\\n",
    "       ]\n",
    "df_main = pd.DataFrame(columns=cols)\n",
    "\n",
    "for file in sorted(glob.glob(input_path_spatial_graphs+'*.am')):\n",
    "    \n",
    "    print(os.path.basename(file))\n",
    "    #sg = AmiraSpatialGraph(file,barrel_projections_present=False)\n",
    "    manual_soma_pia_axis = AmiraSpatialGraph(manual_neuron_axis_path+os.path.basename(file)[:-3]+'_soma_pia_axis.am',\\\n",
    "                                             generic_graph=True).graph_data.edge_list[0]\n",
    "    neuron_soma_pia_axis = AmiraSpatialGraph(output_root+'2_Local_Neuron_Axis/'+os.path.basename(file)[:-3]+'_soma_pia_axis.am',\\\n",
    "                                             generic_graph=True).graph_data.edge_list[0]\n",
    "    neuron_soma_pia_axis_local_avg = AmiraSpatialGraph(output_root+'2_Local_Neuron_Axis/'+\\\n",
    "                                             os.path.basename(file)[:-3]+'_soma_pia_axis_local_avg.am',\\\n",
    "                                             generic_graph=True).graph_data.edge_list[0]\n",
    "    manual_soma_pia_axis_surf_reg = AmiraSpatialGraph(output_alignment_using_surfaces+'2_Manual_Neuron_Axis/' + \\\n",
    "                                                      os.path.basename(file)[:-3]+'_soma_pia_axis.am',\\\n",
    "                                             generic_graph=True).graph_data.edge_list[0]\n",
    "    neuron_soma_pia_axis_surf_reg = AmiraSpatialGraph(output_alignment_using_surfaces+'2_Local_Neuron_Axis/'+ \\\n",
    "                                                      os.path.basename(file)[:-3]+'_soma_pia_axis.am',\\\n",
    "                                             generic_graph=True).graph_data.edge_list[0]\n",
    "    nearest_axis = AmiraSpatialGraph(output_alignment_using_surfaces+'Nearest_Axis/'+ \\\n",
    "                                                      os.path.basename(file)[:-3]+'_nearest_axis.am',\\\n",
    "                                             generic_graph=True).graph_data.edge_list[0]\n",
    "    df = pd.DataFrame(columns=cols)\n",
    "    df['Exp'] = [os.path.basename(file)[:-3]]\n",
    "    df['Angle_Between_Manual_and_Auto_Neuron_Axis'] = Vectors().get_angle_between_vectors(manual_soma_pia_axis,\\\n",
    "                                                                                           neuron_soma_pia_axis,\\\n",
    "                                                                                           ignore_opposite_direction=True)\n",
    "    df['Angle_Between_Manual_and_Local_Avg_Axis'] = Vectors().get_angle_between_vectors(manual_soma_pia_axis,\\\n",
    "                                                                                           neuron_soma_pia_axis_local_avg,\\\n",
    "                                                                                           ignore_opposite_direction=True)\n",
    "    df['Angle_Between_Auto_and_Local_Avg_Axis'] = Vectors().get_angle_between_vectors(neuron_soma_pia_axis,\\\n",
    "                                                                                           neuron_soma_pia_axis_local_avg,\\\n",
    "                                                                                           ignore_opposite_direction=True)\n",
    "    \n",
    "    df['Angle_Between_Manual_Surface_Reg_Neuron_and_RF_Nearest_Axis'] = Vectors().get_angle_between_vectors(manual_soma_pia_axis_surf_reg,\\\n",
    "                                                                                           nearest_axis,\\\n",
    "                                                                                           ignore_opposite_direction=True)\n",
    "    df['Angle_Between_Auto_Surface_Reg_Neuron_and_RF_Nearest_Axis'] = Vectors().get_angle_between_vectors(neuron_soma_pia_axis_surf_reg,\\\n",
    "                                                                                           nearest_axis,\\\n",
    "                                                                                           ignore_opposite_direction=True) \n",
    "    df['Nearest_Axis_Length'] = Vectors().get_vec_length(nearest_axis)\n",
    "    # read soma wm axis if exits\n",
    "    if os.path.exists(output_alignment_using_surfaces+'2_Manual_Neuron_Axis/'+os.path.basename(file)[:-3]+'_soma_wm_axis.am'):\n",
    "        manual_soma_wm_axis = AmiraSpatialGraph(output_alignment_using_surfaces+'2_Manual_Neuron_Axis/'+os.path.basename(file)[:-3]+\\\n",
    "                                                '_soma_wm_axis.am',generic_graph=True).graph_data.edge_list[0]\n",
    "        \n",
    "        df['Manual_Axis_Length'] = Vectors().get_vec_length(manual_soma_pia_axis) + Vectors().get_vec_length(manual_soma_wm_axis)\n",
    "        \n",
    "        df['Length_Difference_Between_Manual_And_Nearest_Neuron_Axis'] = df['Manual_Axis_Length'] - df['Nearest_Axis_Length'] \n",
    "        \n",
    "    if os.path.exists(output_alignment_using_surfaces+'2_Local_Neuron_Axis/'+os.path.basename(file)[:-3]+'_soma_wm_axis.am'):\n",
    "        neuron_soma_wm_axis = AmiraSpatialGraph(output_alignment_using_surfaces+'2_Local_Neuron_Axis/'+os.path.basename(file)[:-3]+\\\n",
    "                                                '_soma_wm_axis.am',generic_graph=True).graph_data.edge_list[0]\n",
    "        \n",
    "        df['Auto_Axis_Length'] = Vectors().get_vec_length(neuron_soma_pia_axis) + Vectors().get_vec_length(neuron_soma_wm_axis)\n",
    "    \n",
    "        df['Length_Difference_Between_Auto_And_Nearest_Neuron_Axis'] = df['Auto_Axis_Length'] - df['Nearest_Axis_Length']\n",
    "    \n",
    "    \n",
    "    df_main = df_main.append(df)\n",
    "    \n",
    "df_main.to_csv(output_root+'Neuron_Axis_Difference_Original.csv')\n",
    "    "
   ]
  },
  {
   "cell_type": "code",
   "execution_count": null,
   "metadata": {
    "ExecuteTime": {
     "end_time": "2020-08-29T18:50:49.145191Z",
     "start_time": "2020-08-29T18:50:49.125871Z"
    },
    "collapsed": true,
    "scrolled": true
   },
   "outputs": [],
   "source": [
    "df_main.dropna()\n",
    "df_main.mean(),df_main.std(),df_main.max()\n",
    "df_main['Change_In_Manual_Angle_After_Registration'] = df_main['Angle_Between_Manual_Surface_Reg_Neuron_and_RF_Nearest_Axis']- df_main['Angle_Between_Manual_and_Local_Avg_Axis']\n",
    "df_main['Change_In_Auto_Angle_After_Registration'] = df_main['Angle_Between_Auto_Surface_Reg_Neuron_and_RF_Nearest_Axis']- df_main['Angle_Between_Auto_and_Local_Avg_Axis']\n",
    "\n",
    "df_main['Angle_Between_Auto_and_Local_Avg_Axis'].mean(),df_main['Angle_Between_Auto_and_Local_Avg_Axis'].std()"
   ]
  },
  {
   "cell_type": "code",
   "execution_count": null,
   "metadata": {
    "ExecuteTime": {
     "end_time": "2020-08-29T18:50:49.309156Z",
     "start_time": "2020-08-29T18:50:49.300470Z"
    },
    "collapsed": true
   },
   "outputs": [],
   "source": [
    "df_main['Angle_Between_Auto_Surface_Reg_Neuron_and_RF_Nearest_Axis'].mean(),df_main['Angle_Between_Auto_Surface_Reg_Neuron_and_RF_Nearest_Axis'].std()"
   ]
  },
  {
   "cell_type": "code",
   "execution_count": null,
   "metadata": {
    "ExecuteTime": {
     "end_time": "2020-08-29T18:53:35.865156Z",
     "start_time": "2020-08-29T18:53:35.853383Z"
    },
    "collapsed": true,
    "scrolled": true
   },
   "outputs": [],
   "source": [
    "(df_main['Angle_Between_Auto_Surface_Reg_Neuron_and_RF_Nearest_Axis'] - df_main['Angle_Between_Auto_and_Local_Avg_Axis'])"
   ]
  },
  {
   "cell_type": "code",
   "execution_count": null,
   "metadata": {
    "ExecuteTime": {
     "end_time": "2020-08-29T23:33:11.620352Z",
     "start_time": "2020-08-29T23:33:11.610579Z"
    },
    "collapsed": true
   },
   "outputs": [],
   "source": [
    "abs(df_main['Length_Difference_Between_Manual_And_Nearest_Neuron_Axis']).mean(),abs(df_main['Length_Difference_Between_Manual_And_Nearest_Neuron_Axis']).std()"
   ]
  },
  {
   "cell_type": "code",
   "execution_count": null,
   "metadata": {
    "ExecuteTime": {
     "end_time": "2020-08-29T23:33:11.744320Z",
     "start_time": "2020-08-29T23:33:11.736549Z"
    },
    "collapsed": true
   },
   "outputs": [],
   "source": [
    "abs(df_main['Length_Difference_Between_Auto_And_Nearest_Neuron_Axis']).mean(),abs(df_main['Length_Difference_Between_Auto_And_Nearest_Neuron_Axis']).std()"
   ]
  },
  {
   "cell_type": "code",
   "execution_count": null,
   "metadata": {
    "collapsed": true
   },
   "outputs": [],
   "source": []
  }
 ],
 "metadata": {
  "kernelspec": {
   "display_name": "Python 3 (ipykernel)",
   "language": "python",
   "name": "python3"
  },
  "language_info": {
   "codemirror_mode": {
    "name": "ipython",
    "version": 3
   },
   "file_extension": ".py",
   "mimetype": "text/x-python",
   "name": "python",
   "nbconvert_exporter": "python",
   "pygments_lexer": "ipython3",
   "version": "3.9.7"
  },
  "toc": {
   "base_numbering": 1,
   "nav_menu": {},
   "number_sections": true,
   "sideBar": true,
   "skip_h1_title": false,
   "title_cell": "Table of Contents",
   "title_sidebar": "Contents",
   "toc_cell": false,
   "toc_position": {
    "height": "calc(100% - 180px)",
    "left": "10px",
    "top": "150px",
    "width": "240px"
   },
   "toc_section_display": true,
   "toc_window_display": true
  }
 },
 "nbformat": 4,
 "nbformat_minor": 2
}
