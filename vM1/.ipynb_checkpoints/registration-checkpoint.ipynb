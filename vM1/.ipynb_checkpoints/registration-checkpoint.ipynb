{
 "cells": [
  {
   "cell_type": "code",
   "execution_count": 1,
   "metadata": {
    "ExecuteTime": {
     "end_time": "2020-08-20T13:23:59.432337Z",
     "start_time": "2020-08-20T13:23:56.760571Z"
    },
    "collapsed": true
   },
   "outputs": [],
   "source": [
    "import sys\n",
    "import os\n",
    "sys.path.insert(0,os.path.abspath('..'))\n",
    "from spatial_graphs.AmiraSpatialGraph import AmiraSpatialGraph,MatchBarrels\n",
    "from spatial_graphs.Landmarks import Landmarks\n",
    "from spatial_graphs.Surfaces import Surface\n",
    "from spatial_graphs.Vectors import Vectors\n",
    "from spatial_graphs.Alignment import Alignment\n",
    "from dask import compute,multiprocessing,delayed\n",
    "import pathlib\n",
    "import shutil\n",
    "import glob\n",
    "import pandas as pd\n",
    "import vtk\n",
    "from scipy.spatial import distance\n",
    "import numpy as np"
   ]
  },
  {
   "cell_type": "markdown",
   "metadata": {},
   "source": [
    "# Create output folders"
   ]
  },
  {
   "cell_type": "code",
   "execution_count": 2,
   "metadata": {
    "ExecuteTime": {
     "end_time": "2020-08-20T13:23:59.444325Z",
     "start_time": "2020-08-20T13:23:59.434635Z"
    },
    "collapsed": true
   },
   "outputs": [],
   "source": [
    "input_path_spatial_graphs = '/nas1/Data_Mythreya/MotorCortexProject/V10/Registration/Input_Spatial_Graphs/'\n",
    "surface_resolution = 100\n",
    "#alignment_types = ['Using_vS1_vM1_Surface_Points',]\n",
    "alignment_type = 'Using_vS1_vM1_Surface_Points'\n",
    "input_path_avg_rf = '/nas1/Data_Mythreya/MotorCortexProject/V10/vM1_Ref_Frame/Outputs/Average/'+alignment_type+'In_SBF_Ref_Frame_With_Scaling_Correction/'\n",
    "#exp_names = ['MG49_lhs','MG49_rhs','MG50_lhs','MG50_rhs','MG48_lhs','MG48_rhs']\n",
    "#alignment_types = ['Using_vS1','Using_vM1','Using_Pia_WM_Surfaces','Using_vS1_vM1_Surfaces']\n"
   ]
  },
  {
   "cell_type": "code",
   "execution_count": 12,
   "metadata": {
    "ExecuteTime": {
     "end_time": "2020-08-20T13:40:09.680285Z",
     "start_time": "2020-08-20T13:40:09.656793Z"
    },
    "collapsed": true
   },
   "outputs": [],
   "source": [
    "# create output folder structure\n",
    "HOME = str(pathlib.Path(input_path_spatial_graphs).parent)\n",
    "output_root = HOME + '/Outputs/'\n",
    "pathlib.Path((output_root)).mkdir(exist_ok=True)\n",
    "\n",
    "output_surfaces = output_root + '1_Surfaces/'\n",
    "pathlib.Path((output_surfaces)).mkdir(exist_ok=True)\n",
    "\n",
    "output_axis_field = output_root + '1_Axis_Fields/'\n",
    "pathlib.Path((output_axis_field)).mkdir(exist_ok=True)\n",
    "\n",
    "output_stats = output_root + '2_Local_Stats/'\n",
    "pathlib.Path((output_stats)).mkdir(exist_ok=True)\n",
    "\n",
    "output_neuron_axis = output_root + '2_Local_Neuron_Axis/'\n",
    "pathlib.Path((output_neuron_axis)).mkdir(exist_ok=True)\n",
    "\n",
    "output_alignment_using_surfaces = output_root + '3_Aligned_By_Surfaces/'\n",
    "pathlib.Path((output_alignment_using_surfaces)).mkdir(exist_ok=True)\n",
    "\n",
    "output_registered_barrels = output_root + '3_Aligned_By_Barrels/'\n",
    "pathlib.Path((output_registered_barrels)).mkdir(exist_ok=True)\n",
    "\n",
    "\n",
    "\n"
   ]
  },
  {
   "cell_type": "markdown",
   "metadata": {},
   "source": [
    "# Create Pia and WM Surfaces"
   ]
  },
  {
   "cell_type": "code",
   "execution_count": 37,
   "metadata": {
    "ExecuteTime": {
     "end_time": "2020-08-20T16:49:16.524302Z",
     "start_time": "2020-08-20T16:49:16.480772Z"
    },
    "collapsed": true
   },
   "outputs": [],
   "source": [
    "@delayed\n",
    "def create_surface(file,surface_resolution='100'):\n",
    "    sg = AmiraSpatialGraph(filename=file)\n",
    "    # flip if required\n",
    "    #txmat = get_axis_flip_tx_mat(sg)\n",
    "    #print(txmat)\n",
    "    #sg.apply_transformation(txmat)\n",
    "    #sg.write_spatial_graph(root_dst+os.path.basename(file))\n",
    "    #sg = AmiraSpatialGraph(root_dst+os.path.basename(file))\n",
    "    #sg_clipped = get_fist_x_z_planes_sg(sg,17)\n",
    "    #sg_clipped.write_spatial_graph(root_dst+os.path.basename(file)+'_clipped.am')\n",
    "    os.system('/home/mythreya/project_src/BarrelField3D/DataAnalysis3D/BF3DRecon {} {} {}'.\\\n",
    "              format(file,output_surfaces+os.path.basename(file)[:-3],str(100)))\n",
    "    pia = Surface(output_surfaces+os.path.basename(file)[:-3]+'_pia.vtk')\n",
    "    wm = Surface(output_surfaces+os.path.basename(file)[:-3]+'_WM.vtk')\n",
    "    \n",
    "    if pia.surface.GetNumberOfCells()>0 and wm.surface.GetNumberOfCells()>0:\n",
    "        pia.clip_surface_at_given_z(-100,output_filename = output_surfaces+os.path.basename(file)[:-3]+'_pia_bottom_open.vtk')\n",
    "        wm.clip_surface_at_given_z(-100,output_filename = output_surfaces+os.path.basename(file)[:-3]+'_WM_bottom_open.vtk')\n",
    "        \n",
    "        os.system('/home/mythreya/project_src/BarrelField3D/DataAnalysis3D/BF3DRecon {} {} {}'.\\\n",
    "              format(file,output_surfaces+os.path.basename(file)[:-3],str(450)))\n",
    "        pia_450 = Surface(output_surfaces+os.path.basename(file)[:-3]+'_pia.vtk')\n",
    "        pia_450.clip_surface_at_given_z(-100,output_filename = output_surfaces+os.path.basename(file)[:-3]+'_pia_bottom_open_450.vtk')\n",
    "        \n",
    "        wm_450 = Surface(output_surfaces+os.path.basename(file)[:-3]+'_WM.vtk')\n",
    "        wm_450.clip_surface_at_given_z(-100,output_filename = output_surfaces+os.path.basename(file)[:-3]+'_WM_bottom_open_450.vtk')\n",
    "            \n",
    "    else:\n",
    "        # create a delunay surface as the traditional way has failed\n",
    "        pia = Surface(pts=sg.pia.edge_pt_coords)\n",
    "        wm = Surface(pts=sg.wm.edge_pt_coords)\n",
    "        pia_hull = pia.create_delunay_surface_3d(return_hull=True,output_filename=output_surfaces+os.path.basename(file)[:-3]+'_pia.vtk')\n",
    "        wm_hull = wm.create_delunay_surface_3d(return_hull=True,output_filename=output_surfaces+os.path.basename(file)[:-3]+'_WM.vtk')\n",
    "        \n",
    "        # clip at the bottom\n",
    "        shutil.copyfile(src=file,dst=output_surfaces+os.path.basename(file)[:-3]+'_barrels.am')\n",
    "        pia.clip_surface_at_given_z(-100,output_filename = output_surfaces+os.path.basename(file)[:-3]+'_pia_bottom_open.vtk')\n",
    "        wm.clip_surface_at_given_z(-100,output_filename = output_surfaces+os.path.basename(file)[:-3]+'_WM_bottom_open.vtk')\n",
    "        #wm.create_axis_field(pia,op_sg_name=output_surfaces+os.path.basename(file)[:-3]+'_axis_field.am',flip_normals=False,\\\n",
    "        #                              return_axes=True)"
   ]
  },
  {
   "cell_type": "code",
   "execution_count": 38,
   "metadata": {
    "ExecuteTime": {
     "end_time": "2020-08-20T16:49:56.648543Z",
     "start_time": "2020-08-20T16:49:16.599724Z"
    },
    "scrolled": true
   },
   "outputs": [
    {
     "data": {
      "text/plain": [
       "([None],)"
      ]
     },
     "execution_count": 38,
     "metadata": {},
     "output_type": "execute_result"
    }
   ],
   "source": [
    "fn_list_surfs = []\n",
    "file_names = sorted(glob.glob(input_path_spatial_graphs+'*.am'))\n",
    "for i in range(len(file_names)):\n",
    "    #if os.path.basename(file_names[i])=='RA20150804_2_4x-_for_cell_merge_.am_Segmented_corrected_DONE.am':\n",
    "    fn_list_surfs.append(create_surface(file_names[i]))\n",
    "\n",
    "compute(fn_list_surfs)"
   ]
  },
  {
   "cell_type": "markdown",
   "metadata": {},
   "source": [
    "# Generate Axis Field"
   ]
  },
  {
   "cell_type": "code",
   "execution_count": 42,
   "metadata": {
    "ExecuteTime": {
     "end_time": "2020-08-20T16:59:08.288266Z",
     "start_time": "2020-08-20T16:59:07.997603Z"
    },
    "scrolled": true
   },
   "outputs": [],
   "source": [
    "# Create axis with the smooth wm (voxel size 450) \n",
    "file_names = sorted(glob.glob(input_path_spatial_graphs+'*.am'))\n",
    "for i in range(len(file_names)):\n",
    "    file = file_names[i]\n",
    "    #if os.path.basename(file)[:-3] == 'RA20150804_2_4x-_for_cell_merge_.am_Segmented_corrected_DONE':\n",
    "    pia_100 = Surface(output_surfaces+os.path.basename(file)[:-3]+'_pia_bottom_open.vtk')\n",
    "    wm_100 = Surface(output_surfaces+os.path.basename(file)[:-3]+'_WM_bottom_open.vtk')\n",
    "    wm_450 = Surface(output_surfaces+os.path.basename(file)[:-3]+'_WM_bottom_open_450.vtk')\n",
    "\n",
    "    if wm_450.surface.GetNumberOfCells() > 0:\n",
    "        wm_to_use = wm_450\n",
    "    else:\n",
    "        wm_to_use = wm_100\n",
    "    \n",
    "    flipped_axes = wm_to_use.create_axis_field(pia_100,op_sg_name=None,flip_normals=True,return_axes=True,\\\n",
    "                                            max_allowed_axis_length=5000,check_source_double_touch=True)\n",
    "    axes = wm_to_use.create_axis_field(pia_100,op_sg_name=None,flip_normals=False,return_axes=True,\\\n",
    "                                    max_allowed_axis_length=5000,check_source_double_touch=True)\n",
    "    sg = AmiraSpatialGraph(generic_graph=True)\n",
    "    for edge in flipped_axes:\n",
    "        sg.graph_data.add_edge(edge[0],edge[1])\n",
    "    for edge in axes:\n",
    "        sg.graph_data.add_edge(edge[0],edge[1])\n",
    "    #sg.write_spatial_graph(output_axis_field+os.path.basename(file)[:-3]+'_axis_field.am')\n",
    "\n",
    "    # trim the axis field as per the pia and wm surfaces of 100 micron voxel resolution\n",
    "    selected_axis_field_sg,wm_pts,pia_pts,missing_axis_field = pia_100.get_axis_field_within_instersecting_surface_with_trimming\\\n",
    "                                (pia_100.surface,wm_100.surface,sg.graph_data.edge_list,vec_extension_offset=0.75)\n",
    "    selected_axis_field_sg.write_spatial_graph(output_axis_field+os.path.basename(file)[:-3]+'_axis_field.am')\n",
    "\n",
    "        \n",
    "        "
   ]
  },
  {
   "cell_type": "code",
   "execution_count": 41,
   "metadata": {
    "ExecuteTime": {
     "end_time": "2020-08-20T16:57:56.840291Z",
     "start_time": "2020-08-20T16:57:56.832472Z"
    }
   },
   "outputs": [
    {
     "data": {
      "text/plain": [
       "454"
      ]
     },
     "execution_count": 41,
     "metadata": {},
     "output_type": "execute_result"
    }
   ],
   "source": [
    "wm_100.surface.GetNumberOfCells()"
   ]
  },
  {
   "cell_type": "markdown",
   "metadata": {},
   "source": [
    "# Stats of input neuron and surfaces"
   ]
  },
  {
   "cell_type": "code",
   "execution_count": 5,
   "metadata": {
    "ExecuteTime": {
     "end_time": "2020-08-20T13:35:28.548363Z",
     "start_time": "2020-08-20T13:35:28.537740Z"
    },
    "collapsed": true
   },
   "outputs": [],
   "source": [
    "def write_edge(edge,filename):\n",
    "    axis_sg = AmiraSpatialGraph(generic_graph=True)\n",
    "    axis_sg.graph_data.add_edge(edge[0],edge[1])\n",
    "    axis_sg.write_spatial_graph(filename)\n",
    "\n",
    "    return axis_sg\n",
    "\n",
    "    "
   ]
  },
  {
   "cell_type": "code",
   "execution_count": 6,
   "metadata": {
    "ExecuteTime": {
     "end_time": "2020-08-20T13:35:28.920259Z",
     "start_time": "2020-08-20T13:35:28.912764Z"
    },
    "collapsed": true
   },
   "outputs": [],
   "source": [
    "def resample_edge(edge,num_pts_to_be_inserted):\n",
    "    resampled_edge = []\n",
    "    #resample_edge.append(edge[0])\n",
    "    n = np.array(edge[len(edge)-1]) - np.array(edge[0])\n",
    "    n_unit = n / np.linalg.norm(n)\n",
    "    edge_len = Vectors().get_vec_length(edge)\n",
    "    for i in range(num_pts_to_be_inserted):\n",
    "        resampled_edge.append(i*n_unit*edge_len/num_pts_to_be_inserted+edge[0])\n",
    "    return edge"
   ]
  },
  {
   "cell_type": "code",
   "execution_count": 7,
   "metadata": {
    "ExecuteTime": {
     "end_time": "2020-08-20T13:35:29.456265Z",
     "start_time": "2020-08-20T13:35:29.449352Z"
    },
    "collapsed": true
   },
   "outputs": [],
   "source": [
    "def get_pca_direction(apical_dendrite_pts,res=1):\n",
    "#     resampled_pts = []\n",
    "#     for edge in apical_dendrite_edges:\n",
    "#         for i in range(len(edge)-1):\n",
    "#             length = distance.euclidean(edge[i],edge[i+1])\n",
    "#             if length > res:\n",
    "#                 num_pts_to_be_inserted = int(length/res)\n",
    "#                 resampled_edge = resample_edge(edge,num_pts_to_be_inserted)\n",
    "#                 for i in range(len(resampled_edge)):\n",
    "#                     resampled_pts.append(resampled_edge[i])\n",
    "    \n",
    "    pca = PCA(n_components=3,)\n",
    "    transformed_pca = pca.fit_transform(X=apical_dendrite_pts)\n",
    "    #print(transformed_pca)\n",
    "    return pca.components_"
   ]
  },
  {
   "cell_type": "code",
   "execution_count": 8,
   "metadata": {
    "ExecuteTime": {
     "end_time": "2020-08-20T13:35:30.196266Z",
     "start_time": "2020-08-20T13:35:30.184827Z"
    },
    "collapsed": true
   },
   "outputs": [],
   "source": [
    "def get_wm_intersection_pt(wm,soma_pt,pia_pt):\n",
    "    wm_pt = []\n",
    "    for j in range(500,6000,50):\n",
    "        opposing_pt = Vectors().create_pt_along_vector_at_given_distance(-j,soma_pt,pia_pt)\n",
    "        #print(opposing_pt)\n",
    "        #Landmarks(pts=[opposing_pt]).write_landmarks(output_root+'oppsing_pt')\n",
    "        wm_pt,dist = wm.get_vector_intersection_pt(soma_pt,opposing_pt,extrapolation_len=0)\n",
    "        #Landmarks(pts=[opposing_pt]).write_landmarks(output_root+'wm_pt')\n",
    "        #print(wm_pt)\n",
    "        if len(wm_pt)>0:\n",
    "            break\n",
    "    return wm_pt"
   ]
  },
  {
   "cell_type": "code",
   "execution_count": 33,
   "metadata": {
    "ExecuteTime": {
     "end_time": "2020-08-20T15:47:59.948296Z",
     "start_time": "2020-08-20T15:47:47.053419Z"
    }
   },
   "outputs": [
    {
     "name": "stdout",
     "output_type": "stream",
     "text": [
      "/nas1/Data_Mythreya/MotorCortexProject/V10/Registration/Outputs/1_Axis_Fields/RA20150804_2_4x-_for_cell_merge_.am_Segmented_corrected_DONE_axis_field.am\n"
     ]
    }
   ],
   "source": [
    "for file in sorted(glob.glob(output_axis_field+'*_axis_field.am')):\n",
    "    sg = AmiraSpatialGraph(file,generic_graph=True)\n",
    "    if len(sg.graph_data.edge_list) == 0:\n",
    "        print(file)\n",
    "        pia_100 = Surface(output_surfaces+os.path.basename(file)[:-3]+'_pia_bottom_open.vtk')\n",
    "        wm_100 = Surface(output_surfaces+os.path.basename(file)[:-3]+'_WM_bottom_open.vtk')\n",
    "        wm_450 = Surface(output_surfaces+os.path.basename(file)[:-3]+'_WM_bottom_open_450.vtk')\n",
    "        flipped_axes = wm_450.create_axis_field(pia_100,op_sg_name=None,flip_normals=True,return_axes=True,\\\n",
    "                                                max_allowed_axis_length=5000,check_source_double_touch=True)\n",
    "        axes = wm_450.create_axis_field(pia_100,op_sg_name=None,flip_normals=False,return_axes=True,\\\n",
    "                                        max_allowed_axis_length=5000,check_source_double_touch=True)\n",
    "        sg = AmiraSpatialGraph(generic_graph=True)\n",
    "        for edge in flipped_axes:\n",
    "            sg.graph_data.add_edge(edge[0],edge[1])\n",
    "        for edge in axes:\n",
    "            sg.graph_data.add_edge(edge[0],edge[1])\n",
    "        sg.write_spatial_graph(output_axis_field+os.path.basename(file)[:-3]+'_axis_field.am')"
   ]
  },
  {
   "cell_type": "code",
   "execution_count": 36,
   "metadata": {
    "ExecuteTime": {
     "end_time": "2020-08-20T16:48:44.904343Z",
     "start_time": "2020-08-20T16:48:44.899703Z"
    }
   },
   "outputs": [
    {
     "data": {
      "text/plain": [
       "0"
      ]
     },
     "execution_count": 36,
     "metadata": {},
     "output_type": "execute_result"
    }
   ],
   "source": [
    "pia_100.surface.GetNumberOfCells()"
   ]
  },
  {
   "cell_type": "code",
   "execution_count": 30,
   "metadata": {
    "ExecuteTime": {
     "end_time": "2020-08-20T15:34:58.188259Z",
     "start_time": "2020-08-20T15:17:05.807473Z"
    }
   },
   "outputs": [
    {
     "name": "stdout",
     "output_type": "stream",
     "text": [
      "/nas1/Data_Mythreya/MotorCortexProject/V10/Registration/Input_Spatial_Graphs/RA20130319_2_DONE.am\n",
      "/nas1/Data_Mythreya/MotorCortexProject/V10/Registration/Input_Spatial_Graphs/RA20130320_corrected_DONE.am\n",
      "/nas1/Data_Mythreya/MotorCortexProject/V10/Registration/Input_Spatial_Graphs/RA20130402_corrected_2_wm_countours_corrected_shifted_and_merged_DONE.am\n",
      "/nas1/Data_Mythreya/MotorCortexProject/V10/Registration/Input_Spatial_Graphs/RA20130404_1_DONE.am\n",
      "/nas1/Data_Mythreya/MotorCortexProject/V10/Registration/Input_Spatial_Graphs/RA20130404_2_corrected_DONE.am\n",
      "/nas1/Data_Mythreya/MotorCortexProject/V10/Registration/Input_Spatial_Graphs/RA20130507_1_corrected_shifted_and_merged_DONE_feature_corrected.am\n",
      "/nas1/Data_Mythreya/MotorCortexProject/V10/Registration/Input_Spatial_Graphs/RA20130507_2_corrected_DONE.am\n",
      "/nas1/Data_Mythreya/MotorCortexProject/V10/Registration/Input_Spatial_Graphs/RA20130508_1_corrected_shifted_and_merged_DONE.am\n",
      "/nas1/Data_Mythreya/MotorCortexProject/V10/Registration/Input_Spatial_Graphs/RA20130513_corrected-extended_2corrected_shifted_and_merged_DONE.am\n",
      "/nas1/Data_Mythreya/MotorCortexProject/V10/Registration/Input_Spatial_Graphs/RA20130603_DONE.am\n",
      "/nas1/Data_Mythreya/MotorCortexProject/V10/Registration/Input_Spatial_Graphs/RA20130605_1_DONE.am\n",
      "/nas1/Data_Mythreya/MotorCortexProject/V10/Registration/Input_Spatial_Graphs/RA20130606_DONE.am\n",
      "/nas1/Data_Mythreya/MotorCortexProject/V10/Registration/Input_Spatial_Graphs/RA20130607_1_DONE_feature_corrected_corrected.am\n",
      "/nas1/Data_Mythreya/MotorCortexProject/V10/Registration/Input_Spatial_Graphs/RA20130607_2_DONE.am\n",
      "/nas1/Data_Mythreya/MotorCortexProject/V10/Registration/Input_Spatial_Graphs/RA20130626_1_corrected_shifted_and_merged_DONE_feature_corrected.am\n",
      "/nas1/Data_Mythreya/MotorCortexProject/V10/Registration/Input_Spatial_Graphs/RA20130626_2_DONE.am\n",
      "/nas1/Data_Mythreya/MotorCortexProject/V10/Registration/Input_Spatial_Graphs/RA20130627_Cell_2_DONE.am\n",
      "/nas1/Data_Mythreya/MotorCortexProject/V10/Registration/Input_Spatial_Graphs/RA20130627_Cell_3_DONE.am\n",
      "/nas1/Data_Mythreya/MotorCortexProject/V10/Registration/Input_Spatial_Graphs/RA20130627_DONE.am\n",
      "/nas1/Data_Mythreya/MotorCortexProject/V10/Registration/Input_Spatial_Graphs/RA20130628_2_Cell_1_corrected_shifted_and_merged_DONE.am\n",
      "/nas1/Data_Mythreya/MotorCortexProject/V10/Registration/Input_Spatial_Graphs/RA20130628_2_Cell_2_corrected_shifted_and_merged_DONE.am\n",
      "/nas1/Data_Mythreya/MotorCortexProject/V10/Registration/Input_Spatial_Graphs/RA20130628_2_Cell_3_corrected_shifted_and_merged_DONE_feature_corrected_corrected.am\n",
      "/nas1/Data_Mythreya/MotorCortexProject/V10/Registration/Input_Spatial_Graphs/RA20130628_shifted_and_merged_DONE.am\n",
      "/nas1/Data_Mythreya/MotorCortexProject/V10/Registration/Input_Spatial_Graphs/RA20130701_2_DONE.am\n",
      "/nas1/Data_Mythreya/MotorCortexProject/V10/Registration/Input_Spatial_Graphs/RA20130722_2_corrected_shifted_and_merged_DONE.am\n",
      "/nas1/Data_Mythreya/MotorCortexProject/V10/Registration/Input_Spatial_Graphs/RA20130725_DONE.am\n",
      "/nas1/Data_Mythreya/MotorCortexProject/V10/Registration/Input_Spatial_Graphs/RA20150804_2_4x-_for_cell_merge_.am_Segmented_corrected_DONE.am\n"
     ]
    },
    {
     "ename": "UnboundLocalError",
     "evalue": "local variable 'pt_on_vector' referenced before assignment",
     "output_type": "error",
     "traceback": [
      "\u001b[0;31m---------------------------------------------------------------------------\u001b[0m",
      "\u001b[0;31mUnboundLocalError\u001b[0m                         Traceback (most recent call last)",
      "\u001b[0;32m<ipython-input-30-0f40e2774aa8>\u001b[0m in \u001b[0;36m<module>\u001b[0;34m()\u001b[0m\n\u001b[1;32m     14\u001b[0m     \u001b[0;31m# create hull around s1 and get axis field for s1\u001b[0m\u001b[0;34m\u001b[0m\u001b[0;34m\u001b[0m\u001b[0m\n\u001b[1;32m     15\u001b[0m     \u001b[0;32mfor\u001b[0m \u001b[0mpt\u001b[0m \u001b[0;32min\u001b[0m \u001b[0msg\u001b[0m\u001b[0;34m.\u001b[0m\u001b[0mbarrels\u001b[0m\u001b[0;34m.\u001b[0m\u001b[0mall_rows_graphdata\u001b[0m\u001b[0;34m.\u001b[0m\u001b[0medge_pt_coords\u001b[0m\u001b[0;34m:\u001b[0m\u001b[0;34m\u001b[0m\u001b[0m\n\u001b[0;32m---> 16\u001b[0;31m         \u001b[0mmin_edge\u001b[0m\u001b[0;34m,\u001b[0m\u001b[0mmin_dist\u001b[0m\u001b[0;34m,\u001b[0m \u001b[0mmin_dist_from_wm\u001b[0m\u001b[0;34m,\u001b[0m \u001b[0mmin_dist_from_pia\u001b[0m\u001b[0;34m,\u001b[0m \u001b[0mpt_on_vector\u001b[0m \u001b[0;34m=\u001b[0m         \u001b[0mVectors\u001b[0m\u001b[0;34m(\u001b[0m\u001b[0;34m)\u001b[0m\u001b[0;34m.\u001b[0m\u001b[0mget_nearest_axis_to_pt\u001b[0m\u001b[0;34m(\u001b[0m\u001b[0mpt\u001b[0m\u001b[0;34m,\u001b[0m\u001b[0maxis_field\u001b[0m\u001b[0;34m.\u001b[0m\u001b[0mgraph_data\u001b[0m\u001b[0;34m.\u001b[0m\u001b[0medge_list\u001b[0m\u001b[0;34m,\u001b[0m\u001b[0maxis_validation_distance\u001b[0m\u001b[0;34m=\u001b[0m\u001b[0;36m3000\u001b[0m\u001b[0;34m)\u001b[0m\u001b[0;34m\u001b[0m\u001b[0m\n\u001b[0m\u001b[1;32m     17\u001b[0m         \u001b[0mvs1_sg\u001b[0m\u001b[0;34m.\u001b[0m\u001b[0mgraph_data\u001b[0m\u001b[0;34m.\u001b[0m\u001b[0madd_edge\u001b[0m\u001b[0;34m(\u001b[0m\u001b[0mmin_edge\u001b[0m\u001b[0;34m[\u001b[0m\u001b[0;36m0\u001b[0m\u001b[0;34m]\u001b[0m\u001b[0;34m,\u001b[0m\u001b[0mmin_edge\u001b[0m\u001b[0;34m[\u001b[0m\u001b[0;36m1\u001b[0m\u001b[0;34m]\u001b[0m\u001b[0;34m)\u001b[0m\u001b[0;34m\u001b[0m\u001b[0m\n\u001b[1;32m     18\u001b[0m     \u001b[0mvs1_sg\u001b[0m\u001b[0;34m.\u001b[0m\u001b[0mwrite_spatial_graph\u001b[0m\u001b[0;34m(\u001b[0m\u001b[0moutput_axis_field\u001b[0m\u001b[0;34m+\u001b[0m\u001b[0mos\u001b[0m\u001b[0;34m.\u001b[0m\u001b[0mpath\u001b[0m\u001b[0;34m.\u001b[0m\u001b[0mbasename\u001b[0m\u001b[0;34m(\u001b[0m\u001b[0mfile\u001b[0m\u001b[0;34m)\u001b[0m\u001b[0;34m[\u001b[0m\u001b[0;34m:\u001b[0m\u001b[0;34m-\u001b[0m\u001b[0;36m3\u001b[0m\u001b[0;34m]\u001b[0m\u001b[0;34m+\u001b[0m\u001b[0;34m'_vS1_Axis_Field.am'\u001b[0m\u001b[0;34m)\u001b[0m\u001b[0;34m\u001b[0m\u001b[0m\n",
      "\u001b[0;32m/nas1/Data_Mythreya/MotorCortexProject/V10/code/spatial_graphs/Vectors.py\u001b[0m in \u001b[0;36mget_nearest_axis_to_pt\u001b[0;34m(self, pt, axis_list, axis_validation_distance)\u001b[0m\n\u001b[1;32m    267\u001b[0m                 \u001b[0mpt_on_vector\u001b[0m \u001b[0;34m=\u001b[0m \u001b[0mwm_dist_vector\u001b[0m\u001b[0;34m\u001b[0m\u001b[0m\n\u001b[1;32m    268\u001b[0m \u001b[0;34m\u001b[0m\u001b[0m\n\u001b[0;32m--> 269\u001b[0;31m         \u001b[0;32mreturn\u001b[0m \u001b[0mmin_edge\u001b[0m\u001b[0;34m,\u001b[0m\u001b[0mmin_dist\u001b[0m\u001b[0;34m,\u001b[0m \u001b[0mmin_dist_from_wm\u001b[0m\u001b[0;34m,\u001b[0m \u001b[0mmin_dist_from_pia\u001b[0m\u001b[0;34m,\u001b[0m \u001b[0mpt_on_vector\u001b[0m\u001b[0;34m\u001b[0m\u001b[0m\n\u001b[0m\u001b[1;32m    270\u001b[0m \u001b[0;34m\u001b[0m\u001b[0m\n\u001b[1;32m    271\u001b[0m     \u001b[0;32mdef\u001b[0m \u001b[0mget_layer_pts_for_given_depth\u001b[0m\u001b[0;34m(\u001b[0m\u001b[0mself\u001b[0m\u001b[0;34m,\u001b[0m\u001b[0maxis_field\u001b[0m\u001b[0;34m,\u001b[0m\u001b[0mdepth\u001b[0m\u001b[0;34m,\u001b[0m\u001b[0mrealtive_depths\u001b[0m\u001b[0;34m=\u001b[0m\u001b[0;32mTrue\u001b[0m\u001b[0;34m,\u001b[0m\u001b[0minvert_axes\u001b[0m\u001b[0;34m=\u001b[0m\u001b[0;32mFalse\u001b[0m\u001b[0;34m)\u001b[0m\u001b[0;34m:\u001b[0m\u001b[0;34m\u001b[0m\u001b[0m\n",
      "\u001b[0;31mUnboundLocalError\u001b[0m: local variable 'pt_on_vector' referenced before assignment"
     ]
    }
   ],
   "source": [
    "cols = ['Exp_Name','Pia_Area','WM_Area','Pia_Volume','WM_Volume',\\\n",
    "        'Cortical_Thickness_Mean','Cortical_Thickness_Std','Cortical_Thickness_CoV',\\\n",
    "        'Cortical_Thickness_vS1_Mean','Cortical_Thickness_vS1_Std','Cortical_Thickness_vS1_CoV',]\n",
    "df_main = pd.DataFrame(columns=cols)\n",
    "\n",
    "for file in sorted(glob.glob(input_path_spatial_graphs+'*.am')):\n",
    "    print(file)\n",
    "    pia = Surface(output_surfaces+os.path.basename(file)[:-3]+'_pia_bottom_open.vtk')\n",
    "    wm = Surface(output_surfaces+os.path.basename(file)[:-3]+'_WM_bottom_open.vtk')\n",
    "    pia_closed = pia.create_delunay_surface_3d(return_hull=True,make_cube=False)\n",
    "    wm_closed = wm.create_delunay_surface_3d(return_hull=True,make_cube=False)\n",
    "    axis_field = AmiraSpatialGraph(output_axis_field+os.path.basename(file)[:-3]+'_axis_field.am',generic_graph=True)\n",
    "    \n",
    "    sg = AmiraSpatialGraph(file)\n",
    "    vs1_sg = AmiraSpatialGraph(generic_graph=True)\n",
    "    # create hull around s1 and get axis field for s1\n",
    "    for pt in sg.barrels.all_rows_graphdata.edge_pt_coords:\n",
    "        min_edge,min_dist, min_dist_from_wm, min_dist_from_pia, pt_on_vector = \\\n",
    "        Vectors().get_nearest_axis_to_pt(pt,axis_field.graph_data.edge_list,axis_validation_distance=3000)\n",
    "        vs1_sg.graph_data.add_edge(min_edge[0],min_edge[1])\n",
    "    vs1_sg.write_spatial_graph(output_axis_field+os.path.basename(file)[:-3]+'_vS1_Axis_Field.am')\n",
    "    \n",
    "    # find vector lengths for whole surface and vs1 area\n",
    "    vec_lens,bla1,bla2 = Vectors().get_vec_lengths(axis_field.graph_data.edge_list)\n",
    "    vec_lens_vs1,bla,blee = Vectors().get_vec_lengths(vs1_sg.graph_data.edge_list)\n",
    "        \n",
    "    df = pd.DataFrame(columns=df_main.columns)\n",
    "    df['Exp_Name'] = [os.path.basename(file)[:-3]]\n",
    "    df['Pia_Area'] = [pia.get_surface_properties(prop='area')]\n",
    "    df['WM_Area'] = [wm.get_surface_properties(prop='area')]\n",
    "    df['Pia_Volume'] = [Surface(polydata=pia_closed).get_surface_properties(prop='volume')]\n",
    "    df['WM_Volume'] = [Surface(polydata=wm_closed).get_surface_properties(prop='volume')]\n",
    "    df['Cortical_Thickness_Mean'] = [np.array(vec_lens).mean(axis=0)]\n",
    "    df['Cortical_Thickness_Std'] = [np.array(vec_lens).std(axis=0)]\n",
    "    df['Cortical_Thickness_CoV'] = df['Cortical_Thickness_Std'] / df['Cortical_Thickness_Mean'] * 100\n",
    "    df['Cortical_Thickness_vS1_Mean'] = [np.array(vec_lens_vs1).mean(axis=0)]\n",
    "    df['Cortical_Thickness_vS1_Std'] = [np.array(vec_lens_vs1).std(axis=0)]\n",
    "    df['Cortical_Thickness_vS1_CoV'] = df['Cortical_Thickness_vS1_Std'] / df['Cortical_Thickness_vS1_Mean'] * 100\n",
    "        \n",
    "    df_main = df_main.append(df)\n",
    "\n",
    "df_main.to_csv(output_stats+'Surface_Area_and_Thickness.csv')\n",
    "    "
   ]
  },
  {
   "cell_type": "code",
   "execution_count": 31,
   "metadata": {
    "ExecuteTime": {
     "end_time": "2020-08-20T15:35:41.872218Z",
     "start_time": "2020-08-20T15:35:41.836729Z"
    }
   },
   "outputs": [
    {
     "data": {
      "text/html": [
       "<div>\n",
       "<style>\n",
       "    .dataframe thead tr:only-child th {\n",
       "        text-align: right;\n",
       "    }\n",
       "\n",
       "    .dataframe thead th {\n",
       "        text-align: left;\n",
       "    }\n",
       "\n",
       "    .dataframe tbody tr th {\n",
       "        vertical-align: top;\n",
       "    }\n",
       "</style>\n",
       "<table border=\"1\" class=\"dataframe\">\n",
       "  <thead>\n",
       "    <tr style=\"text-align: right;\">\n",
       "      <th></th>\n",
       "      <th>Exp_Name</th>\n",
       "      <th>Pia_Area</th>\n",
       "      <th>WM_Area</th>\n",
       "      <th>Pia_Volume</th>\n",
       "      <th>WM_Volume</th>\n",
       "      <th>Cortical_Thickness_Mean</th>\n",
       "      <th>Cortical_Thickness_Std</th>\n",
       "      <th>Cortical_Thickness_CoV</th>\n",
       "      <th>Cortical_Thickness_vS1_Mean</th>\n",
       "      <th>Cortical_Thickness_vS1_Std</th>\n",
       "      <th>Cortical_Thickness_vS1_CoV</th>\n",
       "    </tr>\n",
       "  </thead>\n",
       "  <tbody>\n",
       "    <tr>\n",
       "      <th>0</th>\n",
       "      <td>RA20130319_2_DONE</td>\n",
       "      <td>3.206567e+08</td>\n",
       "      <td>1.742645e+08</td>\n",
       "      <td>3.741133e+11</td>\n",
       "      <td>1.301256e+11</td>\n",
       "      <td>1678.483419</td>\n",
       "      <td>603.555995</td>\n",
       "      <td>35.958413</td>\n",
       "      <td>1631.673958</td>\n",
       "      <td>198.776521</td>\n",
       "      <td>12.182368</td>\n",
       "    </tr>\n",
       "    <tr>\n",
       "      <th>0</th>\n",
       "      <td>RA20130320_corrected_DONE</td>\n",
       "      <td>3.526273e+08</td>\n",
       "      <td>1.913089e+08</td>\n",
       "      <td>4.496155e+11</td>\n",
       "      <td>1.714705e+11</td>\n",
       "      <td>1392.394212</td>\n",
       "      <td>813.827493</td>\n",
       "      <td>58.448066</td>\n",
       "      <td>1746.463833</td>\n",
       "      <td>60.393551</td>\n",
       "      <td>3.458048</td>\n",
       "    </tr>\n",
       "    <tr>\n",
       "      <th>0</th>\n",
       "      <td>RA20130402_corrected_2_wm_countours_corrected_...</td>\n",
       "      <td>2.763556e+08</td>\n",
       "      <td>1.419282e+08</td>\n",
       "      <td>2.897781e+11</td>\n",
       "      <td>8.804734e+10</td>\n",
       "      <td>1595.394382</td>\n",
       "      <td>462.102059</td>\n",
       "      <td>28.964754</td>\n",
       "      <td>1783.584855</td>\n",
       "      <td>57.654382</td>\n",
       "      <td>3.232500</td>\n",
       "    </tr>\n",
       "    <tr>\n",
       "      <th>0</th>\n",
       "      <td>RA20130404_1_DONE</td>\n",
       "      <td>2.951488e+08</td>\n",
       "      <td>1.513192e+08</td>\n",
       "      <td>3.361955e+11</td>\n",
       "      <td>1.134490e+11</td>\n",
       "      <td>1470.035452</td>\n",
       "      <td>398.315082</td>\n",
       "      <td>27.095611</td>\n",
       "      <td>1584.411033</td>\n",
       "      <td>117.785733</td>\n",
       "      <td>7.434039</td>\n",
       "    </tr>\n",
       "    <tr>\n",
       "      <th>0</th>\n",
       "      <td>RA20130404_2_corrected_DONE</td>\n",
       "      <td>3.095213e+08</td>\n",
       "      <td>1.691378e+08</td>\n",
       "      <td>3.753558e+11</td>\n",
       "      <td>1.401030e+11</td>\n",
       "      <td>1287.361135</td>\n",
       "      <td>525.389281</td>\n",
       "      <td>40.811336</td>\n",
       "      <td>1721.563211</td>\n",
       "      <td>83.858070</td>\n",
       "      <td>4.871042</td>\n",
       "    </tr>\n",
       "    <tr>\n",
       "      <th>0</th>\n",
       "      <td>RA20130507_1_corrected_shifted_and_merged_DONE...</td>\n",
       "      <td>3.445307e+08</td>\n",
       "      <td>1.996326e+08</td>\n",
       "      <td>4.307094e+11</td>\n",
       "      <td>1.723018e+11</td>\n",
       "      <td>1413.304525</td>\n",
       "      <td>634.875837</td>\n",
       "      <td>44.921376</td>\n",
       "      <td>1853.534275</td>\n",
       "      <td>99.694680</td>\n",
       "      <td>5.378626</td>\n",
       "    </tr>\n",
       "    <tr>\n",
       "      <th>0</th>\n",
       "      <td>RA20130507_2_corrected_DONE</td>\n",
       "      <td>3.219918e+08</td>\n",
       "      <td>1.731202e+08</td>\n",
       "      <td>3.782274e+11</td>\n",
       "      <td>1.324806e+11</td>\n",
       "      <td>1307.098632</td>\n",
       "      <td>650.641147</td>\n",
       "      <td>49.777510</td>\n",
       "      <td>1753.240892</td>\n",
       "      <td>104.534029</td>\n",
       "      <td>5.962331</td>\n",
       "    </tr>\n",
       "    <tr>\n",
       "      <th>0</th>\n",
       "      <td>RA20130508_1_corrected_shifted_and_merged_DONE</td>\n",
       "      <td>3.049032e+08</td>\n",
       "      <td>1.621047e+08</td>\n",
       "      <td>3.396690e+11</td>\n",
       "      <td>1.196825e+11</td>\n",
       "      <td>1410.563085</td>\n",
       "      <td>477.436506</td>\n",
       "      <td>33.847228</td>\n",
       "      <td>1628.901483</td>\n",
       "      <td>81.878246</td>\n",
       "      <td>5.026593</td>\n",
       "    </tr>\n",
       "    <tr>\n",
       "      <th>0</th>\n",
       "      <td>RA20130513_corrected-extended_2corrected_shift...</td>\n",
       "      <td>3.078044e+08</td>\n",
       "      <td>1.777274e+08</td>\n",
       "      <td>3.409698e+11</td>\n",
       "      <td>1.312721e+11</td>\n",
       "      <td>1329.604172</td>\n",
       "      <td>480.545907</td>\n",
       "      <td>36.142028</td>\n",
       "      <td>1486.258160</td>\n",
       "      <td>64.032863</td>\n",
       "      <td>4.308327</td>\n",
       "    </tr>\n",
       "    <tr>\n",
       "      <th>0</th>\n",
       "      <td>RA20130603_DONE</td>\n",
       "      <td>3.197926e+08</td>\n",
       "      <td>1.634496e+08</td>\n",
       "      <td>3.329909e+11</td>\n",
       "      <td>1.019558e+11</td>\n",
       "      <td>1535.343548</td>\n",
       "      <td>563.530593</td>\n",
       "      <td>36.703876</td>\n",
       "      <td>1714.502720</td>\n",
       "      <td>104.912969</td>\n",
       "      <td>6.119149</td>\n",
       "    </tr>\n",
       "    <tr>\n",
       "      <th>0</th>\n",
       "      <td>RA20130605_1_DONE</td>\n",
       "      <td>3.039731e+08</td>\n",
       "      <td>1.646471e+08</td>\n",
       "      <td>3.086269e+11</td>\n",
       "      <td>9.874711e+10</td>\n",
       "      <td>1466.248529</td>\n",
       "      <td>329.455512</td>\n",
       "      <td>22.469282</td>\n",
       "      <td>1705.971165</td>\n",
       "      <td>132.715725</td>\n",
       "      <td>7.779482</td>\n",
       "    </tr>\n",
       "    <tr>\n",
       "      <th>0</th>\n",
       "      <td>RA20130606_DONE</td>\n",
       "      <td>3.019251e+08</td>\n",
       "      <td>1.641880e+08</td>\n",
       "      <td>3.159103e+11</td>\n",
       "      <td>9.845291e+10</td>\n",
       "      <td>1612.370452</td>\n",
       "      <td>330.664208</td>\n",
       "      <td>20.507955</td>\n",
       "      <td>1741.905998</td>\n",
       "      <td>137.673810</td>\n",
       "      <td>7.903630</td>\n",
       "    </tr>\n",
       "    <tr>\n",
       "      <th>0</th>\n",
       "      <td>RA20130607_1_DONE_feature_corrected_corrected</td>\n",
       "      <td>2.598858e+08</td>\n",
       "      <td>1.473686e+08</td>\n",
       "      <td>2.886730e+11</td>\n",
       "      <td>1.042911e+11</td>\n",
       "      <td>1284.716864</td>\n",
       "      <td>484.889205</td>\n",
       "      <td>37.742885</td>\n",
       "      <td>1775.859502</td>\n",
       "      <td>97.019952</td>\n",
       "      <td>5.463267</td>\n",
       "    </tr>\n",
       "    <tr>\n",
       "      <th>0</th>\n",
       "      <td>RA20130607_2_DONE</td>\n",
       "      <td>2.523864e+08</td>\n",
       "      <td>1.134497e+08</td>\n",
       "      <td>2.288664e+11</td>\n",
       "      <td>5.521453e+10</td>\n",
       "      <td>1569.313976</td>\n",
       "      <td>397.993116</td>\n",
       "      <td>25.360962</td>\n",
       "      <td>1791.103800</td>\n",
       "      <td>126.910068</td>\n",
       "      <td>7.085579</td>\n",
       "    </tr>\n",
       "    <tr>\n",
       "      <th>0</th>\n",
       "      <td>RA20130626_1_corrected_shifted_and_merged_DONE...</td>\n",
       "      <td>2.615247e+08</td>\n",
       "      <td>1.304033e+08</td>\n",
       "      <td>2.492289e+11</td>\n",
       "      <td>6.909092e+10</td>\n",
       "      <td>1510.590963</td>\n",
       "      <td>332.421932</td>\n",
       "      <td>22.006085</td>\n",
       "      <td>1761.186861</td>\n",
       "      <td>81.021745</td>\n",
       "      <td>4.600406</td>\n",
       "    </tr>\n",
       "    <tr>\n",
       "      <th>0</th>\n",
       "      <td>RA20130626_2_DONE</td>\n",
       "      <td>2.559356e+08</td>\n",
       "      <td>1.304639e+08</td>\n",
       "      <td>2.376498e+11</td>\n",
       "      <td>6.330319e+10</td>\n",
       "      <td>1522.634285</td>\n",
       "      <td>406.492757</td>\n",
       "      <td>26.696677</td>\n",
       "      <td>1780.377602</td>\n",
       "      <td>98.099098</td>\n",
       "      <td>5.510016</td>\n",
       "    </tr>\n",
       "    <tr>\n",
       "      <th>0</th>\n",
       "      <td>RA20130627_Cell_2_DONE</td>\n",
       "      <td>2.654676e+08</td>\n",
       "      <td>1.296787e+08</td>\n",
       "      <td>2.454798e+11</td>\n",
       "      <td>6.455544e+10</td>\n",
       "      <td>1563.210611</td>\n",
       "      <td>312.720967</td>\n",
       "      <td>20.005044</td>\n",
       "      <td>1940.126866</td>\n",
       "      <td>65.958463</td>\n",
       "      <td>3.399698</td>\n",
       "    </tr>\n",
       "    <tr>\n",
       "      <th>0</th>\n",
       "      <td>RA20130627_Cell_3_DONE</td>\n",
       "      <td>2.659607e+08</td>\n",
       "      <td>1.298568e+08</td>\n",
       "      <td>2.456667e+11</td>\n",
       "      <td>6.467477e+10</td>\n",
       "      <td>1556.553566</td>\n",
       "      <td>313.241701</td>\n",
       "      <td>20.124055</td>\n",
       "      <td>1938.138457</td>\n",
       "      <td>69.078205</td>\n",
       "      <td>3.564152</td>\n",
       "    </tr>\n",
       "    <tr>\n",
       "      <th>0</th>\n",
       "      <td>RA20130627_DONE</td>\n",
       "      <td>2.648371e+08</td>\n",
       "      <td>1.294848e+08</td>\n",
       "      <td>2.453928e+11</td>\n",
       "      <td>6.448616e+10</td>\n",
       "      <td>1563.880598</td>\n",
       "      <td>311.562988</td>\n",
       "      <td>19.922428</td>\n",
       "      <td>1940.998693</td>\n",
       "      <td>68.870701</td>\n",
       "      <td>3.548210</td>\n",
       "    </tr>\n",
       "    <tr>\n",
       "      <th>0</th>\n",
       "      <td>RA20130628_2_Cell_1_corrected_shifted_and_merg...</td>\n",
       "      <td>2.917686e+08</td>\n",
       "      <td>1.397201e+08</td>\n",
       "      <td>2.683619e+11</td>\n",
       "      <td>7.150305e+10</td>\n",
       "      <td>1528.186833</td>\n",
       "      <td>390.146189</td>\n",
       "      <td>25.530006</td>\n",
       "      <td>1892.049609</td>\n",
       "      <td>58.813315</td>\n",
       "      <td>3.108445</td>\n",
       "    </tr>\n",
       "    <tr>\n",
       "      <th>0</th>\n",
       "      <td>RA20130628_2_Cell_2_corrected_shifted_and_merg...</td>\n",
       "      <td>2.923147e+08</td>\n",
       "      <td>1.397608e+08</td>\n",
       "      <td>2.686849e+11</td>\n",
       "      <td>7.150155e+10</td>\n",
       "      <td>1531.279113</td>\n",
       "      <td>383.669800</td>\n",
       "      <td>25.055511</td>\n",
       "      <td>1884.842278</td>\n",
       "      <td>64.502246</td>\n",
       "      <td>3.422156</td>\n",
       "    </tr>\n",
       "    <tr>\n",
       "      <th>0</th>\n",
       "      <td>RA20130628_2_Cell_3_corrected_shifted_and_merg...</td>\n",
       "      <td>2.919291e+08</td>\n",
       "      <td>1.397141e+08</td>\n",
       "      <td>2.685329e+11</td>\n",
       "      <td>7.149873e+10</td>\n",
       "      <td>1528.929688</td>\n",
       "      <td>385.317509</td>\n",
       "      <td>25.201781</td>\n",
       "      <td>1888.572944</td>\n",
       "      <td>56.217376</td>\n",
       "      <td>2.976712</td>\n",
       "    </tr>\n",
       "    <tr>\n",
       "      <th>0</th>\n",
       "      <td>RA20130628_shifted_and_merged_DONE</td>\n",
       "      <td>2.611890e+08</td>\n",
       "      <td>1.229961e+08</td>\n",
       "      <td>2.451564e+11</td>\n",
       "      <td>5.899514e+10</td>\n",
       "      <td>1626.769417</td>\n",
       "      <td>341.266690</td>\n",
       "      <td>20.978184</td>\n",
       "      <td>1942.210535</td>\n",
       "      <td>35.041903</td>\n",
       "      <td>1.804228</td>\n",
       "    </tr>\n",
       "    <tr>\n",
       "      <th>0</th>\n",
       "      <td>RA20130701_2_DONE</td>\n",
       "      <td>2.703350e+08</td>\n",
       "      <td>1.329013e+08</td>\n",
       "      <td>2.590165e+11</td>\n",
       "      <td>7.583027e+10</td>\n",
       "      <td>1493.838337</td>\n",
       "      <td>268.821146</td>\n",
       "      <td>17.995330</td>\n",
       "      <td>1624.547975</td>\n",
       "      <td>78.756373</td>\n",
       "      <td>4.847895</td>\n",
       "    </tr>\n",
       "    <tr>\n",
       "      <th>0</th>\n",
       "      <td>RA20130722_2_corrected_shifted_and_merged_DONE</td>\n",
       "      <td>2.854510e+08</td>\n",
       "      <td>1.380357e+08</td>\n",
       "      <td>2.882625e+11</td>\n",
       "      <td>8.129745e+10</td>\n",
       "      <td>1550.412388</td>\n",
       "      <td>327.066595</td>\n",
       "      <td>21.095458</td>\n",
       "      <td>1478.419226</td>\n",
       "      <td>73.352988</td>\n",
       "      <td>4.961582</td>\n",
       "    </tr>\n",
       "    <tr>\n",
       "      <th>0</th>\n",
       "      <td>RA20130725_DONE</td>\n",
       "      <td>3.085721e+08</td>\n",
       "      <td>1.623991e+08</td>\n",
       "      <td>3.528923e+11</td>\n",
       "      <td>1.162346e+11</td>\n",
       "      <td>1490.960054</td>\n",
       "      <td>428.799850</td>\n",
       "      <td>28.759982</td>\n",
       "      <td>1700.184968</td>\n",
       "      <td>85.971699</td>\n",
       "      <td>5.056609</td>\n",
       "    </tr>\n",
       "  </tbody>\n",
       "</table>\n",
       "</div>"
      ],
      "text/plain": [
       "                                            Exp_Name      Pia_Area  \\\n",
       "0                                  RA20130319_2_DONE  3.206567e+08   \n",
       "0                          RA20130320_corrected_DONE  3.526273e+08   \n",
       "0  RA20130402_corrected_2_wm_countours_corrected_...  2.763556e+08   \n",
       "0                                  RA20130404_1_DONE  2.951488e+08   \n",
       "0                        RA20130404_2_corrected_DONE  3.095213e+08   \n",
       "0  RA20130507_1_corrected_shifted_and_merged_DONE...  3.445307e+08   \n",
       "0                        RA20130507_2_corrected_DONE  3.219918e+08   \n",
       "0     RA20130508_1_corrected_shifted_and_merged_DONE  3.049032e+08   \n",
       "0  RA20130513_corrected-extended_2corrected_shift...  3.078044e+08   \n",
       "0                                    RA20130603_DONE  3.197926e+08   \n",
       "0                                  RA20130605_1_DONE  3.039731e+08   \n",
       "0                                    RA20130606_DONE  3.019251e+08   \n",
       "0      RA20130607_1_DONE_feature_corrected_corrected  2.598858e+08   \n",
       "0                                  RA20130607_2_DONE  2.523864e+08   \n",
       "0  RA20130626_1_corrected_shifted_and_merged_DONE...  2.615247e+08   \n",
       "0                                  RA20130626_2_DONE  2.559356e+08   \n",
       "0                             RA20130627_Cell_2_DONE  2.654676e+08   \n",
       "0                             RA20130627_Cell_3_DONE  2.659607e+08   \n",
       "0                                    RA20130627_DONE  2.648371e+08   \n",
       "0  RA20130628_2_Cell_1_corrected_shifted_and_merg...  2.917686e+08   \n",
       "0  RA20130628_2_Cell_2_corrected_shifted_and_merg...  2.923147e+08   \n",
       "0  RA20130628_2_Cell_3_corrected_shifted_and_merg...  2.919291e+08   \n",
       "0                 RA20130628_shifted_and_merged_DONE  2.611890e+08   \n",
       "0                                  RA20130701_2_DONE  2.703350e+08   \n",
       "0     RA20130722_2_corrected_shifted_and_merged_DONE  2.854510e+08   \n",
       "0                                    RA20130725_DONE  3.085721e+08   \n",
       "\n",
       "        WM_Area    Pia_Volume     WM_Volume  Cortical_Thickness_Mean  \\\n",
       "0  1.742645e+08  3.741133e+11  1.301256e+11              1678.483419   \n",
       "0  1.913089e+08  4.496155e+11  1.714705e+11              1392.394212   \n",
       "0  1.419282e+08  2.897781e+11  8.804734e+10              1595.394382   \n",
       "0  1.513192e+08  3.361955e+11  1.134490e+11              1470.035452   \n",
       "0  1.691378e+08  3.753558e+11  1.401030e+11              1287.361135   \n",
       "0  1.996326e+08  4.307094e+11  1.723018e+11              1413.304525   \n",
       "0  1.731202e+08  3.782274e+11  1.324806e+11              1307.098632   \n",
       "0  1.621047e+08  3.396690e+11  1.196825e+11              1410.563085   \n",
       "0  1.777274e+08  3.409698e+11  1.312721e+11              1329.604172   \n",
       "0  1.634496e+08  3.329909e+11  1.019558e+11              1535.343548   \n",
       "0  1.646471e+08  3.086269e+11  9.874711e+10              1466.248529   \n",
       "0  1.641880e+08  3.159103e+11  9.845291e+10              1612.370452   \n",
       "0  1.473686e+08  2.886730e+11  1.042911e+11              1284.716864   \n",
       "0  1.134497e+08  2.288664e+11  5.521453e+10              1569.313976   \n",
       "0  1.304033e+08  2.492289e+11  6.909092e+10              1510.590963   \n",
       "0  1.304639e+08  2.376498e+11  6.330319e+10              1522.634285   \n",
       "0  1.296787e+08  2.454798e+11  6.455544e+10              1563.210611   \n",
       "0  1.298568e+08  2.456667e+11  6.467477e+10              1556.553566   \n",
       "0  1.294848e+08  2.453928e+11  6.448616e+10              1563.880598   \n",
       "0  1.397201e+08  2.683619e+11  7.150305e+10              1528.186833   \n",
       "0  1.397608e+08  2.686849e+11  7.150155e+10              1531.279113   \n",
       "0  1.397141e+08  2.685329e+11  7.149873e+10              1528.929688   \n",
       "0  1.229961e+08  2.451564e+11  5.899514e+10              1626.769417   \n",
       "0  1.329013e+08  2.590165e+11  7.583027e+10              1493.838337   \n",
       "0  1.380357e+08  2.882625e+11  8.129745e+10              1550.412388   \n",
       "0  1.623991e+08  3.528923e+11  1.162346e+11              1490.960054   \n",
       "\n",
       "   Cortical_Thickness_Std  Cortical_Thickness_CoV  \\\n",
       "0              603.555995               35.958413   \n",
       "0              813.827493               58.448066   \n",
       "0              462.102059               28.964754   \n",
       "0              398.315082               27.095611   \n",
       "0              525.389281               40.811336   \n",
       "0              634.875837               44.921376   \n",
       "0              650.641147               49.777510   \n",
       "0              477.436506               33.847228   \n",
       "0              480.545907               36.142028   \n",
       "0              563.530593               36.703876   \n",
       "0              329.455512               22.469282   \n",
       "0              330.664208               20.507955   \n",
       "0              484.889205               37.742885   \n",
       "0              397.993116               25.360962   \n",
       "0              332.421932               22.006085   \n",
       "0              406.492757               26.696677   \n",
       "0              312.720967               20.005044   \n",
       "0              313.241701               20.124055   \n",
       "0              311.562988               19.922428   \n",
       "0              390.146189               25.530006   \n",
       "0              383.669800               25.055511   \n",
       "0              385.317509               25.201781   \n",
       "0              341.266690               20.978184   \n",
       "0              268.821146               17.995330   \n",
       "0              327.066595               21.095458   \n",
       "0              428.799850               28.759982   \n",
       "\n",
       "   Cortical_Thickness_vS1_Mean  Cortical_Thickness_vS1_Std  \\\n",
       "0                  1631.673958                  198.776521   \n",
       "0                  1746.463833                   60.393551   \n",
       "0                  1783.584855                   57.654382   \n",
       "0                  1584.411033                  117.785733   \n",
       "0                  1721.563211                   83.858070   \n",
       "0                  1853.534275                   99.694680   \n",
       "0                  1753.240892                  104.534029   \n",
       "0                  1628.901483                   81.878246   \n",
       "0                  1486.258160                   64.032863   \n",
       "0                  1714.502720                  104.912969   \n",
       "0                  1705.971165                  132.715725   \n",
       "0                  1741.905998                  137.673810   \n",
       "0                  1775.859502                   97.019952   \n",
       "0                  1791.103800                  126.910068   \n",
       "0                  1761.186861                   81.021745   \n",
       "0                  1780.377602                   98.099098   \n",
       "0                  1940.126866                   65.958463   \n",
       "0                  1938.138457                   69.078205   \n",
       "0                  1940.998693                   68.870701   \n",
       "0                  1892.049609                   58.813315   \n",
       "0                  1884.842278                   64.502246   \n",
       "0                  1888.572944                   56.217376   \n",
       "0                  1942.210535                   35.041903   \n",
       "0                  1624.547975                   78.756373   \n",
       "0                  1478.419226                   73.352988   \n",
       "0                  1700.184968                   85.971699   \n",
       "\n",
       "   Cortical_Thickness_vS1_CoV  \n",
       "0                   12.182368  \n",
       "0                    3.458048  \n",
       "0                    3.232500  \n",
       "0                    7.434039  \n",
       "0                    4.871042  \n",
       "0                    5.378626  \n",
       "0                    5.962331  \n",
       "0                    5.026593  \n",
       "0                    4.308327  \n",
       "0                    6.119149  \n",
       "0                    7.779482  \n",
       "0                    7.903630  \n",
       "0                    5.463267  \n",
       "0                    7.085579  \n",
       "0                    4.600406  \n",
       "0                    5.510016  \n",
       "0                    3.399698  \n",
       "0                    3.564152  \n",
       "0                    3.548210  \n",
       "0                    3.108445  \n",
       "0                    3.422156  \n",
       "0                    2.976712  \n",
       "0                    1.804228  \n",
       "0                    4.847895  \n",
       "0                    4.961582  \n",
       "0                    5.056609  "
      ]
     },
     "execution_count": 31,
     "metadata": {},
     "output_type": "execute_result"
    }
   ],
   "source": [
    "df_main"
   ]
  },
  {
   "cell_type": "code",
   "execution_count": null,
   "metadata": {
    "collapsed": true
   },
   "outputs": [],
   "source": [
    "cols = ['Exp_Name','Pia_Area','WM_Area','Volume','Cortical_Thickness_Mean','Cortical_Thickness_Std','Cortical_Thickness_CoV',\\\n",
    "        'Apical_Dendrite_Present','WM_Present_Below_Neuron','Neuron_Depth_from_Pia','Neuron_Height_from_WM','Neuron_Axis_Length',\\\n",
    "        'Nearest_Axis_Depth_from_Pia','Nearest_Axis_Height_from_WM','Nearest_Axis_Length',\\\n",
    "        'Angle_to_Nearest_Axis',]\n",
    "df_main = pd.DataFrame(columns=cols)\n",
    "for file in sorted(glob.glob(output_corrected_spatial_graphs+'*.am')):\n",
    "    #if os.path.basename(file)[:-3] == 'RA20160401_Cell_B_DONE':\n",
    "    print(os.path.basename(file)[:-3])\n",
    "    pia = Surface(output_surfaces+os.path.basename(file)[:-3]+'_pia_bottom_open.vtk')\n",
    "    wm = Surface(output_surfaces+os.path.basename(file)[:-3]+'_WM_bottom_open.vtk')\n",
    "    axis_field = AmiraSpatialGraph(output_axis_field+os.path.basename(file)[:-3]+'_axis_field.am',generic_graph=True)\n",
    "    \n",
    "    sg = AmiraSpatialGraph(file)\n",
    "    soma_center = np.array(sg.neuron.soma.edge_pt_coords).mean(axis=0)\n",
    "    Landmarks(pts=[soma_center]).write_landmarks(output_neuron_axis+os.path.basename(file)[:-3]+'_Soma_Centroid.landmarksAscii')\n",
    "\n",
    "    dendrite_pts = []    \n",
    "    for pt in sg.neuron.dendrite.apical_dendrite.edge_pt_coords:\n",
    "        dendrite_pts.append(pt)\n",
    "    for pt in sg.neuron.dendrite.basal_dendrite.edge_pt_coords:\n",
    "        dendrite_pts.append(pt)   \n",
    "    dendrite_mean = np.array(dendrite_pts).mean(axis=0)\n",
    "\n",
    "    # write dendrite for easy visualization\n",
    "    sg.write_sub_spatial_graph(sg.neuron.dendrite.apical_dendrite,output_neuron_axis+os.path.basename(file)[:-3]+\\\n",
    "                               '_apical_dendrite.am')\n",
    "    sg.write_sub_spatial_graph(sg.neuron.dendrite.basal_dendrite,output_neuron_axis+os.path.basename(file)[:-3]+\\\n",
    "                               '_basal_dendrite.am')\n",
    "\n",
    "    # Avg Local Axis \n",
    "    nearby_axes = Vectors().get_nearest_axes_to_pts_within_radius(axis_field.graph_data.edge_list,[soma_center],800)\n",
    "    nearby_axes_sg = AmiraSpatialGraph(generic_graph=True)\n",
    "    unit_vecs = []\n",
    "    for axis in nearby_axes:\n",
    "        nearby_axes_sg.graph_data.add_edge(axis[0],axis[1])\n",
    "        unit_vecs.append(Vectors().get_unit_vec(axis[0],axis[1]))\n",
    "    nearby_axes_sg.write_spatial_graph(output_neuron_axis+os.path.basename(file)[:-3]+'_axis_field_selected.am')\n",
    "    avg_uv = np.array(unit_vecs).mean(axis=0)\n",
    "    end_pt = (avg_uv*6000 + soma_center)\n",
    "    pia_proj_pt_neuron_using_local_avg_axis,soma_depth_using_local_avg = pia.get_vector_intersection_pt(end_pt,soma_center,extrapolation_len=0)\n",
    "    write_edge([soma_center,pia_proj_pt_neuron_using_local_avg_axis],output_neuron_axis+os.path.basename(file)[:-3]+'_soma_pia_axis_local_avg.am')\n",
    "    \n",
    "    wm_proj_pt_neuron_using_local_avg_axis = get_wm_intersection_pt(wm,soma_center,pia_proj_pt_neuron_using_local_avg_axis)\n",
    "    if len(wm_proj_pt_neuron_using_local_avg_axis) > 0:\n",
    "        write_edge([soma_center,wm_proj_pt_neuron_using_local_avg_axis],output_neuron_axis+os.path.basename(file)[:-3]+'_soma_wm_axis_local_avg.am')\n",
    "    else:\n",
    "        print('no wm intersection found using avg local axis for {}'.format(os.path.basename(file)))\n",
    "    soma_depth_using_local_avg = Vectors().get_vec_length([soma_center,pia_proj_pt_neuron_using_local_avg_axis])\n",
    "    # decide which method of depth measurement to use\n",
    "    # using the apical dendrite axis works best for L5 and below neurons\n",
    "    # where as local axis is good for L2/3\n",
    "    print(soma_depth_using_local_avg)\n",
    "\n",
    "    if len(sg.neuron.dendrite.apical_dendrite.edge_pt_coords) > 0:\n",
    "        # Get apical dend axis using pca\n",
    "        pca_components = get_pca_direction(sg.neuron.dendrite.apical_dendrite.edge_pt_coords)\n",
    "        #Landmarks(pts=resampled_pts).write_landmarks(output_root+'pts')\n",
    "        end_pt = Vectors().create_pt_along_vector_at_given_distance(6000,[0,0,0],pca_components[0,:])\n",
    "        #Landmarks(pts=[end_pt+soma_center]).write_landmarks(output_root+'end_pt')\n",
    "        #print(end_pt)\n",
    "        angle = Vectors().get_angle_between_vectors([soma_center,pia_proj_pt_neuron_using_local_avg_axis],\\\n",
    "                         [soma_center,end_pt+soma_center],ignore_opposite_direction=False)\n",
    "        print(angle)\n",
    "        pia_proj_pt_neuron = []\n",
    "        if angle < 90:\n",
    "            # pca direction is correct.. project to pia\n",
    "            end_pt = Vectors().create_pt_along_vector_at_given_distance(6000,[0,0,0],pca_components[0,:])\n",
    "            print(end_pt)\n",
    "            Landmarks(pts=[end_pt+soma_center]).write_landmarks(output_root+'end_pt')\n",
    "            pia_proj_pt_neuron,soma_depth  = pia.get_vector_intersection_pt(end_pt+soma_center,soma_center,extrapolation_len=0)\n",
    "            write_edge([soma_center,pia_proj_pt_neuron],output_neuron_axis+os.path.basename(file)[:-3]+'_soma_pia_pca_axis.am')\n",
    "        else:\n",
    "            # the pca is inverted, so straighten it\n",
    "            #print('opposite')\n",
    "            end_pt = Vectors().create_pt_along_vector_at_given_distance(-6000,[0,0,0],pca_components[0,:])\n",
    "            pia_proj_pt_neuron,soma_depth = pia.get_vector_intersection_pt(end_pt+soma_center,soma_center,extrapolation_len=0)\n",
    "            write_edge([soma_center,pia_proj_pt_neuron],output_neuron_axis+os.path.basename(file)[:-3]+'_soma_pia_pca_axis.am')\n",
    "        \n",
    "        wm_proj_pt_neuron = get_wm_intersection_pt(wm,soma_center,pia_proj_pt_neuron)\n",
    "        if len (wm_proj_pt_neuron) > 0:\n",
    "            write_edge([soma_center,wm_proj_pt_neuron],output_neuron_axis+os.path.basename(file)[:-3]+'_soma_wm_pca_axis.am')\n",
    "        else:\n",
    "            print('no wm intersection found using pca for {}'.format(os.path.basename(file)))\n",
    "            \n",
    "    # select the neron axis based on whether the depth of the neuron somata\n",
    "    # for upper layer cells use avg axis, as they generally dont have enough apical dend\n",
    "    # otherwise use dend pca based axis\n",
    "    if soma_depth_using_local_avg < 500 or len(sg.neuron.dendrite.apical_dendrite.edge_pt_coords) == 0\\\n",
    "        or os.path.basename(file)[:-3] == 'RA20160401_Cell_B_DONE':\n",
    "        # this is a inverted cell... so do not invert the axis.. lets use the avg axis for this one:\n",
    "        write_edge([soma_center,pia_proj_pt_neuron_using_local_avg_axis],output_neuron_axis+os.path.basename(file)[:-3]+'_soma_pia_axis.am')\n",
    "        if len(wm_proj_pt_neuron_using_local_avg_axis) > 0:\n",
    "            write_edge([soma_center,wm_proj_pt_neuron_using_local_avg_axis],output_neuron_axis+os.path.basename(file)[:-3]+'_soma_wm_axis.am')\n",
    "    else:\n",
    "        write_edge([soma_center,pia_proj_pt_neuron],output_neuron_axis+os.path.basename(file)[:-3]+'_soma_pia_axis.am')\n",
    "        if len(wm_proj_pt_neuron) > 0:\n",
    "            write_edge([soma_center,wm_proj_pt_neuron],output_neuron_axis+os.path.basename(file)[:-3]+'_soma_wm_axis.am')"
   ]
  },
  {
   "cell_type": "code",
   "execution_count": null,
   "metadata": {
    "collapsed": true
   },
   "outputs": [],
   "source": []
  },
  {
   "cell_type": "code",
   "execution_count": null,
   "metadata": {
    "ExecuteTime": {
     "end_time": "2020-03-25T09:37:10.136597Z",
     "start_time": "2020-03-25T09:35:19.754151Z"
    },
    "scrolled": true
   },
   "outputs": [],
   "source": [
    "cols = ['Exp_Name','Pia_Area','WM_Area','Volume','Cortical_Thickness_Mean','Cortical_Thickness_Std','Cortical_Thickness_CoV',\\\n",
    "        'Apical_Dendrite_Present','WM_Present_Below_Neuron','Neuron_Depth_from_Pia','Neuron_Height_from_WM','Neuron_Axis_Length',\\\n",
    "        'Nearest_Axis_Depth_from_Pia','Nearest_Axis_Height_from_WM','Nearest_Axis_Length',\\\n",
    "        'Angle_to_Nearest_Axis','Neuron_Sticking_OutOf_Pia',]\n",
    "df_main = pd.DataFrame(columns=cols)\n",
    "start = 0\n",
    "end= 10\n",
    "for i in range(len(sorted(glob.glob(output_surfaces+'*_pia_bottom_open.vtk')))):\n",
    "    if i < start or i >= end:\n",
    "        continue\n",
    "    df = pd.DataFrame(columns=df_main.columns)\n",
    "    pia_file = sorted(glob.glob(output_surfaces+'*_pia_bottom_open.vtk'))[i]\n",
    "    exp_name = os.path.basename(pia_file)[0:-20]\n",
    "#     if exp_name != 'RA20130626_2':\n",
    "#         continue\n",
    "    print(exp_name)\n",
    "    sg = AmiraSpatialGraph(output_surfaces+exp_name+'_barrels.am')\n",
    "    pia_closed = Surface(output_surfaces+exp_name+'_pia.vtk')\n",
    "    wm_closed = Surface(output_surfaces+exp_name+'_WM.vtk')\n",
    "    pia = Surface(output_surfaces+os.path.basename(pia_file)[0:-20]+'_pia_bottom_open.vtk')\n",
    "    wm = Surface(output_surfaces+os.path.basename(pia_file)[0:-20]+'_WM_bottom_open.vtk')\n",
    "    \n",
    "    axis_field = wm.create_axis_field(pia,op_sg_name=output_surfaces+exp_name+'_axis_field.am',flip_normals=False,return_axes=True)\n",
    "    \n",
    "    df['Exp_Name'] = [exp_name]\n",
    "    df['Pia_Area'] = [pia.get_surface_properties(prop='area')]\n",
    "    df['WM_Area'] = [wm.get_surface_properties(prop='area')]\n",
    "    df['Volume'] = [pia_closed.get_surface_properties(prop='volume')]\n",
    "    vec_lens = []\n",
    "    for edge in axis_field:\n",
    "        vec_lens.append(Vectors().get_vec_length(edge))\n",
    "    df['Cortical_Thickness_Mean'] = [np.array(vec_lens).mean(axis=0)]\n",
    "    df['Cortical_Thickness_Std'] = [np.array(vec_lens).std(axis=0)]\n",
    "    df['Cortical_Thickness_CoV'] = [100*np.array(vec_lens).std(axis=0)/np.array(vec_lens).mean(axis=0)]\n",
    "    \n",
    "    # find neuron axis, nearest axis and angle between them\n",
    "    soma_center = np.array(sg.neuron.soma.edge_pt_coords).mean(axis=0)\n",
    "    apical_dend_center = np.array(sg.neuron.dendrite.apical_dendrite.edge_pt_coords).mean(axis=0)\n",
    "    if len(sg.neuron.dendrite.apical_dendrite.edge_pt_coords) == 0:\n",
    "        df['Apical_Dendrite_Present'] = ['False']\n",
    "        df_main = df_main.append(df)\n",
    "        continue\n",
    "    #Landmarks(pts=[soma_center,apical_dend_center]).write_landmarks(output_surfaces+'a')\n",
    "    pia_proj_pt_neuron,soma_depth = pia.get_vector_intersection_pt(soma_center,apical_dend_center,extrapolation_len=10000)\n",
    "    wm_proj_pt_neuron,soma_height = wm.get_vector_intersection_pt(soma_center,apical_dend_center,extrapolation_len=-10000)\n",
    "    print(wm_proj_pt_neuron,pia_proj_pt_neuron)\n",
    "    if len(wm_proj_pt_neuron) == 0 or len(pia_proj_pt_neuron)==0:\n",
    "        df['WM_Present_Below_Neuron'] = ['False']\n",
    "        df_main = df_main.append(df)\n",
    "        continue\n",
    "    write_edge([wm_proj_pt_neuron,pia_proj_pt_neuron],output_surfaces+exp_name+'_neuron_axis.am')\n",
    "    \n",
    "    nearest_axis,min_dist, min_dist_from_wm, min_dist_from_pia, pt_on_vector = Vectors().\\\n",
    "                        get_nearest_axis_to_pt(soma_center,axis_field)\n",
    "    write_edge(nearest_axis,output_surfaces+exp_name+'_nearest_axis.am')\n",
    "    \n",
    "    angle = Vectors().get_angle_between_vectors([wm_proj_pt_neuron,pia_proj_pt_neuron],nearest_axis)\n",
    "    \n",
    "    df['Apical_Dendrite_Present'] = ['True']\n",
    "    df['WM_Present_Below_Neuron'] = ['True']\n",
    "    df['Neuron_Depth_from_Pia'] = [soma_depth]\n",
    "    df['Neuron_Height_from_WM'] = [soma_height]\n",
    "    df['Neuron_Axis_Length'] = [soma_depth+soma_height]\n",
    "    df['Nearest_Axis_Depth_from_Pia'] = [min_dist_from_pia]\n",
    "    df['Nearest_Axis_Height_from_WM'] = [min_dist_from_wm]\n",
    "    df['Nearest_Axis_Length'] = [min_dist_from_pia+min_dist_from_wm]\n",
    "    df['Angle_to_Nearest_Axis'] = [angle]\n",
    "    is_sticking_out = pia.is_neuron_sticking_out(sg)\n",
    "    df['Neuron_Sticking_OutOf_Pia'] = [is_sticking_out]\n",
    "    if not (is_sticking_out):\n",
    "        # write this valid exp for registration\n",
    "        sg.write_spatial_graph(output_valid+exp_name+'.am')\n",
    "    df_main = df_main.append(df)\n",
    "\n",
    "df_main.to_csv(output_root+'1.Input_Neuron_Stats_{}.csv'.format(end))"
   ]
  },
  {
   "cell_type": "code",
   "execution_count": null,
   "metadata": {
    "ExecuteTime": {
     "end_time": "2020-03-25T09:54:56.297178Z",
     "start_time": "2020-03-25T09:54:56.225265Z"
    },
    "collapsed": true
   },
   "outputs": [],
   "source": [
    "df_main = pd.DataFrame(columns=cols)\n",
    "for csv in sorted(glob.glob(output_root+'/*.csv')):\n",
    "    df = pd.read_csv(csv,)\n",
    "    df_main = df_main.append(df,)"
   ]
  },
  {
   "cell_type": "code",
   "execution_count": null,
   "metadata": {
    "ExecuteTime": {
     "end_time": "2020-03-25T09:55:02.737196Z",
     "start_time": "2020-03-25T09:55:02.637455Z"
    },
    "scrolled": true
   },
   "outputs": [],
   "source": [
    "df_main"
   ]
  },
  {
   "cell_type": "code",
   "execution_count": null,
   "metadata": {
    "ExecuteTime": {
     "end_time": "2020-03-25T09:48:11.749199Z",
     "start_time": "2020-03-25T09:48:11.738829Z"
    },
    "collapsed": true
   },
   "outputs": [],
   "source": [
    "df_main.to_csv(output_root+'1.Neuron_Stats.csv')"
   ]
  },
  {
   "cell_type": "markdown",
   "metadata": {},
   "source": [
    "# Register Neurons"
   ]
  },
  {
   "cell_type": "code",
   "execution_count": null,
   "metadata": {
    "ExecuteTime": {
     "end_time": "2020-03-25T10:20:35.517207Z",
     "start_time": "2020-03-25T10:20:35.509560Z"
    },
    "collapsed": true
   },
   "outputs": [],
   "source": [
    "def get_number_of_axes_from_field(axis_field,number_of_axes_needed,neuron_axis=[]):\n",
    "    axis_filed_len = len(axis_field)\n",
    "    offset = int(axis_filed_len/number_of_axes_needed)\n",
    "    return_list = []\n",
    "    if len(neuron_axis) > 0:\n",
    "        if neuron_axis is not None:\n",
    "            for i in range(len(axis_field)):\n",
    "                return_list.append(axis_field[i])\n",
    "                i = i + offset\n",
    "                if len(return_list) == number_of_axes_needed:\n",
    "                    return return_list\n",
    "        \n",
    "    else:\n",
    "        \n",
    "        for i in range(len(axis_field)):\n",
    "            return_list.append(axis_field[i])\n",
    "            i = i + offset\n",
    "            if len(return_list) == number_of_axes_needed:\n",
    "                return return_list"
   ]
  },
  {
   "cell_type": "code",
   "execution_count": null,
   "metadata": {
    "ExecuteTime": {
     "end_time": "2020-03-25T10:41:35.017137Z",
     "start_time": "2020-03-25T10:41:34.690338Z"
    },
    "collapsed": true
   },
   "outputs": [],
   "source": [
    "ref_path = '/nas1/Data_Mythreya/MotorCortexProject/V8/vM1_Ref_Frame/Outputs_200/Average/Using_vS1_vM1_Surface_Points/'\n",
    "ref_barrels_sg_file = '/nas1/Data_Mythreya/MotorCortexProject/V8/vM1_Ref_Frame/Outputs_200/Alignment/Using_vS1_vM1_Surface_Points/Spatial_Graphs/MG49_lhs_sbf.am'   \n",
    "ref_barrels_sg = AmiraSpatialGraph(ref_barrels_sg_file,barrel_projections_present=True)\n",
    "ref_pia = Surface(ref_path + 'Avg_Pia.vtk')\n",
    "ref_wm = Surface(ref_path + 'Avg_WM.vtk')\n",
    "ref_axis_field = AmiraSpatialGraph(ref_path + 'Avg_vM1_Axis_Field.am',generic_graph=True)\n",
    "\n",
    "ref_surf = ref_pia\n",
    "ref_surf.append(ref_wm.surface)"
   ]
  },
  {
   "cell_type": "code",
   "execution_count": null,
   "metadata": {
    "ExecuteTime": {
     "end_time": "2020-03-25T11:05:53.185218Z",
     "start_time": "2020-03-25T10:55:17.271539Z"
    },
    "collapsed": true
   },
   "outputs": [],
   "source": [
    "# surface alignment \n",
    "for i in range(len(sorted(glob.glob(output_valid+'/*.am')))):\n",
    "    file = sorted(glob.glob(output_valid+'/*.am'))[i]\n",
    "    sg = AmiraSpatialGraph(file,barrel_projections_present=True)\n",
    "    pia =  Surface(output_surfaces+os.path.basename(file)[0:-3]+'_pia_bottom_open.vtk')\n",
    "    wm =  Surface(output_surfaces+os.path.basename(file)[0:-3]+'_WM_bottom_open.vtk') \n",
    "\n",
    "    surf = pia\n",
    "    surf.append(wm.surface)\n",
    "\n",
    "    aligner = Alignment(ref_surf.surface,surf.surface)\n",
    "    txmat = aligner.get_transformation_matrix()\n",
    "    icp = aligner.get_icp_transform()\n",
    "    \n",
    "    sg.apply_transformation(txmat)\n",
    "    sg.write_spatial_graph(output_alignment_using_surfaces+os.path.basename(file))\n",
    "    surf.apply_icp_transform(icp)\n",
    "    surf.write_surface_mesh(output_alignment_using_surfaces+os.path.basename(file)[0:-3]+'.vtk')\n",
    "    "
   ]
  },
  {
   "cell_type": "code",
   "execution_count": null,
   "metadata": {
    "ExecuteTime": {
     "end_time": "2020-03-25T11:37:03.433185Z",
     "start_time": "2020-03-25T11:36:27.586101Z"
    },
    "collapsed": true
   },
   "outputs": [],
   "source": [
    "all_neurons = AmiraSpatialGraph(generic_graph=True)\n",
    "for neuron_file in glob.glob(output_alignment_using_surfaces+'/*.am'):\n",
    "    sg_neuron = AmiraSpatialGraph(neuron_file)\n",
    "    all_neurons.graph_data = all_neurons.combine_subgraphs([all_neurons.graph_data,sg_neuron.neuron.all_neurites_subgraphdata])\n",
    "\n",
    "    \n",
    "all_neurons.write_spatial_graph(output_root+'All_Neurons_Registered_To_vM1.am')"
   ]
  },
  {
   "cell_type": "markdown",
   "metadata": {},
   "source": [
    "# with Scaling"
   ]
  },
  {
   "cell_type": "code",
   "execution_count": null,
   "metadata": {
    "ExecuteTime": {
     "end_time": "2020-03-25T11:49:49.257083Z",
     "start_time": "2020-03-25T11:49:49.250700Z"
    },
    "collapsed": true
   },
   "outputs": [],
   "source": [
    "df = pd.read_csv(output_root+'1.Neuron_Stats.csv')"
   ]
  },
  {
   "cell_type": "code",
   "execution_count": null,
   "metadata": {
    "ExecuteTime": {
     "end_time": "2020-03-25T11:50:46.801350Z",
     "start_time": "2020-03-25T11:50:46.792847Z"
    }
   },
   "outputs": [],
   "source": [
    "df[df['WM_Present_Below_Neuron']==True]['Pia_Area'].mean()"
   ]
  },
  {
   "cell_type": "code",
   "execution_count": null,
   "metadata": {
    "ExecuteTime": {
     "end_time": "2020-03-25T11:50:57.768513Z",
     "start_time": "2020-03-25T11:50:57.758175Z"
    }
   },
   "outputs": [],
   "source": [
    "ref_pia.get_surface_properties(prop='area')\n",
    "#ref_wm.get_surface_properties(prop='area')/ df['WM_Area'].mean()\n"
   ]
  },
  {
   "cell_type": "code",
   "execution_count": null,
   "metadata": {
    "ExecuteTime": {
     "end_time": "2020-03-25T11:18:58.345124Z",
     "start_time": "2020-03-25T11:18:58.338052Z"
    }
   },
   "outputs": [],
   "source": [
    "df['Pia_Area'].mean()"
   ]
  },
  {
   "cell_type": "code",
   "execution_count": null,
   "metadata": {
    "collapsed": true
   },
   "outputs": [],
   "source": [
    "# surface alignment scaling\n",
    "# \n",
    "for i in range(len(sorted(glob.glob(output_valid+'/*.am')))):\n",
    "    file = sorted(glob.glob(output_valid+'/*.am'))[i]\n",
    "    sg = AmiraSpatialGraph(file,barrel_projections_present=True)\n",
    "    pia =  Surface(output_surfaces+os.path.basename(file)[0:-3]+'_pia_bottom_open.vtk')\n",
    "    wm =  Surface(output_surfaces+os.path.basename(file)[0:-3]+'_WM_bottom_open.vtk') \n",
    "\n",
    "    surf = pia\n",
    "    surf.append(wm.surface)\n",
    "\n",
    "    aligner = Alignment(ref_surf.surface,surf.surface,mode='similarity')\n",
    "    txmat = aligner.get_transformation_matrix()\n",
    "    icp = aligner.get_icp_transform()\n",
    "    \n",
    "    sg.apply_transformation(txmat)\n",
    "    sg.write_spatial_graph(output_alignment_using_surfaces_scaling+os.path.basename(file))\n",
    "    surf.apply_icp_transform(icp)\n",
    "    surf.write_surface_mesh(output_alignment_using_surfaces_scaling+os.path.basename(file)[0:-3]+'.vtk')"
   ]
  },
  {
   "cell_type": "code",
   "execution_count": null,
   "metadata": {
    "ExecuteTime": {
     "end_time": "2020-03-25T10:04:29.621399Z",
     "start_time": "2020-03-25T10:04:24.207821Z"
    }
   },
   "outputs": [],
   "source": [
    "# read valid neuron graphs\n",
    "# align using barrels and axis around neuron\n",
    "for i in range(len(sorted(glob.glob(output_valid+'/*.am')))):\n",
    "    file = sorted(glob.glob(output_valid+'/*.am'))[i]\n",
    "    sg = AmiraSpatialGraph(file,barrel_projections_present=True)\n",
    "    pia =  Surface(output_surfaces+os.path.basename(file)[0:-3]+'_pia_bottom_open.vtk')\n",
    "    wm =  Surface(output_surfaces+os.path.basename(file)[0:-3]+'_WM_bottom_open.vtk') \n",
    "    axis_field = AmiraSpatialGraph(output_surfaces+os.path.basename(file)[0:-3]+'_axis_field.am',generic_graph=True)\n",
    "    nearest_axis = AmiraSpatialGraph(output_surfaces+os.path.basename(file)[0:-3]+'_nearest_axis.am',generic_graph=True)\n",
    "    matching_barrels = MatchBarrels(ref_barrels_sg.barrels,sg.barrels,use_projections_alone=True)\n",
    "    ref_s1_pts,s1_pts = matching_barrels.get_matching_barrel_centroids()\n",
    "\n",
    "    selected_ref_axes = get_number_of_axes_from_field(ref_axis_field.graph_data.edge_list,len(ref_s1_pts))\n",
    "    selected_axes = get_number_of_axes_from_field(axis_field.graph_data.edge_list,len(s1_pts))\n",
    "\n",
    "    ref_selected_sg = AmiraSpatialGraph(generic_graph=True)\n",
    "    selected_sg = AmiraSpatialGraph(generic_graph=True)\n",
    "\n",
    "    print(len(selected_ref_axes))\n",
    "    ref_pts = []\n",
    "    pts = []\n",
    "    for pt in ref_s1_pts:\n",
    "        ref_pts.append(pt)\n",
    "    for axis in selected_ref_axes:\n",
    "        ref_pts.append(axis[0])\n",
    "        ref_pts.append(axis[1])\n",
    "        ref_selected_sg.graph_data.add_edge(axis[0],axis[1])\n",
    "    for pt in s1_pts:\n",
    "        pts.append(pt)\n",
    "    for axis in selected_axes:\n",
    "        pts.append(axis[0])\n",
    "        pts.append(axis[1])\n",
    "        selected_sg.graph_data.add_edge(axis[0],axis[1])\n",
    "    print(len(ref_pts),len(pts))\n",
    "    ref_selected_sg.write_spatial_graph(output_path_alignment+alignment_type+'/'+ref_exp+'ref_axes.am')\n",
    "    selected_sg.write_spatial_graph(output_path_alignment+alignment_type+'/'+exp+'axes.am')\n",
    "\n",
    "    landmarks = Landmarks(pts=pts)\n",
    "    icp,txmat = landmarks.align_landmarks(ref_pts)\n",
    "    \n",
    "    sg.apply_transformation(txmat)\n",
    "    sg.write_spatial_graph(output_root+os.path.basename(file))\n",
    "    break"
   ]
  },
  {
   "cell_type": "code",
   "execution_count": null,
   "metadata": {
    "collapsed": true
   },
   "outputs": [],
   "source": []
  },
  {
   "cell_type": "code",
   "execution_count": null,
   "metadata": {
    "collapsed": true
   },
   "outputs": [],
   "source": []
  },
  {
   "cell_type": "code",
   "execution_count": null,
   "metadata": {
    "ExecuteTime": {
     "end_time": "2020-03-11T08:32:15.836158Z",
     "start_time": "2020-03-11T08:32:15.792754Z"
    },
    "collapsed": true
   },
   "outputs": [],
   "source": [
    "def vm1_local_alignment(sg,pia,ref_pia,number_of_pts=1,ref_pca = []):\n",
    "    # locally align vm1 surface with the reference vm1 surface\n",
    "    # by taking ref pts that intersect the respictive pia along an axis\n",
    "    # axis 1 : vector along the neuron (apical dendrite direction)\n",
    "    # axis 2 : pca 2 of ref vm1\n",
    "    ref_pts= []\n",
    "    pts = []\n",
    "    soma_center = np.array(sg.neuron.soma.edge_pt_coords).mean(axis=0)\n",
    "    if (len(sg.neuron.dendrite.apical_dendrite.edge_pt_coords)) > 0:                         \n",
    "        apical_dend_center = np.array(sg.neuron.dendrite.apical_dendrite.edge_pt_coords).mean(axis=0)\n",
    "    else: # in case there is only basal dend\n",
    "        apical_dend_center = np.array(sg.neuron.dendrite.basal_dendrite.edge_pt_coords).mean(axis=0)\n",
    "\n",
    "    pia_proj_pt_neuron,depth = pia.get_vector_intersection_pt(soma_center,apical_dend_center,extrapolation_len=10000)\n",
    "\n",
    "    ref_pia_proj_pt_neuron,ref_depth = ref_pia.get_vector_intersection_pt(soma_center,apical_dend_center,\\\n",
    "                                                                        extrapolation_len=10000)\n",
    "    #print(ref_pia_proj_pt_neuron,pia_proj_pt_neuron)\n",
    "    if len(ref_pia_proj_pt_neuron) == 0 or len(pia_proj_pt_neuron)==0:\n",
    "        return [],[]\n",
    "    ref_pts.append(ref_pia_proj_pt_neuron)\n",
    "    pts.append(pia_proj_pt_neuron)\n",
    "\n",
    "    if number_of_pts ==2:\n",
    "        pia_proj_pt_center,depth = pia.get_vector_intersection_pt(ref_pca.graph_data.edge_list[0][0],\\\n",
    "                                                           ref_pca.graph_data.edge_list[0][1],\\\n",
    "                                                           extrapolation_len=-10000)\n",
    "        ref_pia_proj_pt_center,ref_depth = ref_pia.get_vector_intersection_pt(ref_pca.graph_data.edge_list[0][0],\\\n",
    "                                                           ref_pca.graph_data.edge_list[0][1],\\\n",
    "                                                           extrapolation_len=-10000)\n",
    "\n",
    "        #print(ref_pia_proj_pt_center,pia_proj_pt_center)\n",
    "        if len(ref_pia_proj_pt_center) == 0 or len(pia_proj_pt_center)==0:\n",
    "            return [],[]\n",
    "        ref_pts.append(ref_pia_proj_pt_center)\n",
    "        pts.append(pia_proj_pt_center)\n",
    "\n",
    "    print(ref_pts,pts)\n",
    "    if len(ref_pts) != len(pts) or len(ref_pts)==0 or len(pts)==0:\n",
    "        return [],[]\n",
    "    landmarks = Landmarks(pts=pts)\n",
    "    icp,txmat = landmarks.align_landmarks(ref_pts)\n",
    "    \n",
    "    return icp,txmat"
   ]
  },
  {
   "cell_type": "code",
   "execution_count": null,
   "metadata": {
    "ExecuteTime": {
     "end_time": "2020-03-11T08:32:15.928066Z",
     "start_time": "2020-03-11T08:32:15.920556Z"
    },
    "collapsed": true
   },
   "outputs": [],
   "source": [
    "def get_soma_to_apical_center_distance(sg,):\n",
    "    soma_center = np.array(sg.neuron.soma.edge_pt_coords).mean(axis=0)\n",
    "    if (len(sg.neuron.dendrite.apical_dendrite.edge_pt_coords)) > 0:                         \n",
    "        apical_dend_center = np.array(sg.neuron.dendrite.apical_dendrite.edge_pt_coords).mean(axis=0)\n",
    "    else: # in case there is only basal dend\n",
    "        apical_dend_center = np.array(sg.neuron.dendrite.basal_dendrite.edge_pt_coords).mean(axis=0)\n",
    "    \n",
    "    return distance.euclidean(soma_center,apical_dend_center)"
   ]
  },
  {
   "cell_type": "code",
   "execution_count": null,
   "metadata": {
    "ExecuteTime": {
     "end_time": "2020-03-11T08:32:16.444093Z",
     "start_time": "2020-03-11T08:32:16.437863Z"
    },
    "collapsed": true
   },
   "outputs": [],
   "source": [
    "def get_soma_and_apical_centers(sg):\n",
    "    soma_center = np.array(sg.neuron.soma.edge_pt_coords).mean(axis=0)\n",
    "    if (len(sg.neuron.dendrite.apical_dendrite.edge_pt_coords)) > 0:                         \n",
    "        apical_dend_center = np.array(sg.neuron.dendrite.apical_dendrite.edge_pt_coords).mean(axis=0)\n",
    "    else: # in case there is only basal dend\n",
    "        apical_dend_center = np.array(sg.neuron.dendrite.basal_dendrite.edge_pt_coords).mean(axis=0)\n",
    "    return soma_center[0:3],apical_dend_center[0:3]"
   ]
  },
  {
   "cell_type": "code",
   "execution_count": null,
   "metadata": {
    "ExecuteTime": {
     "end_time": "2020-03-11T08:32:17.836095Z",
     "start_time": "2020-03-11T08:32:17.806092Z"
    },
    "collapsed": true
   },
   "outputs": [],
   "source": [
    "def get_ref_and_neuron_axes(sg,pia,wm,ref_pia,ref_wm,ref_pca = []):\n",
    "    # locally align vm1 surface with the reference vm1 surface\n",
    "    # by taking ref pts that intersect the respictive pia along an axis\n",
    "    # axis 1 : vector along the neuron (apical dendrite direction)\n",
    "    # axis 2 : pca 2 of ref vm1\n",
    "    ref_pts= []\n",
    "    pts = []\n",
    "    soma_center = np.array(sg.neuron.soma.edge_pt_coords).mean(axis=0)\n",
    "    if (len(sg.neuron.dendrite.apical_dendrite.edge_pt_coords)) > 0:                         \n",
    "        apical_dend_center = np.array(sg.neuron.dendrite.apical_dendrite.edge_pt_coords).mean(axis=0)\n",
    "    else: # in case there is only basal dend\n",
    "        apical_dend_center = np.array(sg.neuron.dendrite.basal_dendrite.edge_pt_coords).mean(axis=0)\n",
    "\n",
    "    pia_proj_pt,depth = ref_pia.get_vector_intersection_pt(soma_center,apical_dend_center,extrapolation_len=10000)\n",
    "\n",
    "    ref_pia_proj_pt,ref_depth = ref_pia.get_vector_intersection_pt(ref_pca.graph_data.edge_list[0][0],\\\n",
    "                                                       ref_pca.graph_data.edge_list[0][1],\\\n",
    "                                                       extrapolation_len=-10000)\n",
    "    #print(ref_pia_proj_pt_neuron,pia_proj_pt_neuron)\n",
    "    ref_pts.append(ref_pia_proj_pt)\n",
    "    pts.append(pia_proj_pt)\n",
    "\n",
    "    \n",
    "    wm_proj_pt,depth = ref_wm.get_vector_intersection_pt(soma_center,apical_dend_center,extrapolation_len=-10000)\n",
    "    wm_ref_proj_pt,ref_depth = ref_wm.get_vector_intersection_pt(ref_pca.graph_data.edge_list[0][0],\\\n",
    "                                                       ref_pca.graph_data.edge_list[0][1],\\\n",
    "                                                       extrapolation_len=10000)\n",
    "\n",
    "    #print(ref_pia_proj_pt_center,pia_proj_pt_center)\n",
    "    ref_pts.append(wm_ref_proj_pt)\n",
    "    pts.append(wm_proj_pt)\n",
    "\n",
    "    #landmarks = Landmarks(pts=pts)\n",
    "    #icp,txmat = landmarks.align_landmarks(ref_pts)\n",
    "    \n",
    "    return ref_pts,pts"
   ]
  },
  {
   "cell_type": "code",
   "execution_count": null,
   "metadata": {
    "ExecuteTime": {
     "end_time": "2020-03-11T08:32:19.984071Z",
     "start_time": "2020-03-11T08:32:19.965993Z"
    },
    "collapsed": true
   },
   "outputs": [],
   "source": [
    "def push_back_sticking_out_neuron(pia,sg,output_filename=None,step_size=10):\n",
    "    if (pia.is_neuron_sticking_out(sg)):\n",
    "        soma_center = np.array(sg.neuron.soma.edge_pt_coords).mean(axis=0)\n",
    "        #print('found intersection')\n",
    "        if len(sg.neuron.dendrite.apical_dendrite.edge_pt_coords) > 0:\n",
    "            apical_center = np.array(sg.neuron.dendrite.apical_dendrite.edge_pt_coords).mean(axis=0)\n",
    "        else:\n",
    "            apical_center = np.array(sg.neuron.dendrite.basal_dendrite.edge_pt_coords).mean(axis=0)\n",
    "        new_soma_center = pia.create_pt_along_vector_at_given_distance(-step_size,soma_center,apical_center)\n",
    "        translation = soma_center - new_soma_center\n",
    "        txmat = [1,0,0,0, 0,1,0,0, 0,0,1,0, -translation[0],-translation[1],-translation[2],1]\n",
    "        sg.apply_transformation_to_labelled_subgraph(sg.neuron.all_neurites_subgraphdata,np.reshape(txmat,[4,4]))\n",
    "        sg.update_graph_data()\n",
    "    if output_filename is not None:\n",
    "        sg.write_spatial_graph(output_filename)\n",
    "    return sg"
   ]
  },
  {
   "cell_type": "code",
   "execution_count": null,
   "metadata": {
    "ExecuteTime": {
     "end_time": "2020-03-11T08:32:21.848691Z",
     "start_time": "2020-03-11T08:32:21.542791Z"
    },
    "collapsed": true
   },
   "outputs": [],
   "source": [
    "# Get reference surface \n",
    "alignment_type = 'Using_vS1_vM1_Surface_Points'\n",
    "ref_pia = Surface(filename = input_path_avg_rf+alignment_type+'/Avg_Pia.vtk')\n",
    "ref_wm = Surface(filename = input_path_avg_rf+alignment_type+'/Avg_WM.vtk')\n",
    "ref_pia_wm = Surface(filename = input_path_avg_rf+alignment_type+'/Avg_Pia.vtk')\n",
    "#ref_pia_wm.append(ref_wm.surface)\n",
    "\n",
    "ref_vM1 = Surface(filename = input_path_avg_rf+alignment_type+'/Avg_vM1.vtk')\n",
    "ref_vM1_pia = Surface(filename = input_path_avg_rf+alignment_type+'/Avg_vM1_Pia.vtk')\n",
    "ref_vM1_wm = Surface(filename = input_path_avg_rf+alignment_type+'/Avg_vM1_WM.vtk')\n",
    "ref_vM1_pia_wm = Surface(filename = input_path_avg_rf+'/'+alignment_type+'/'+'Avg_vM1_Pia.vtk')\n",
    "ref_vM1_pia_wm.append(ref_vM1_wm.surface)\n",
    "\n",
    "ref_barrels_sg = AmiraSpatialGraph(input_path_avg_rf+alignment_type+'/sbf_without_projections.am',\\\n",
    "                                   barrel_projections_present=False)\n",
    "\n",
    "ref_pca_0 = AmiraSpatialGraph(input_path_avg_rf+alignment_type+'/Avg_vM1_Pca_0',generic_graph=True)\n",
    "ref_pca_1 = AmiraSpatialGraph(input_path_avg_rf+alignment_type+'/Avg_vM1_Pca_1',generic_graph=True)\n",
    "ref_pca_2 = AmiraSpatialGraph(input_path_avg_rf+alignment_type+'/Avg_vM1_Pca_2',generic_graph=True)"
   ]
  },
  {
   "cell_type": "code",
   "execution_count": null,
   "metadata": {
    "ExecuteTime": {
     "end_time": "2020-03-11T12:34:08.804242Z",
     "start_time": "2020-03-11T12:34:08.349498Z"
    },
    "collapsed": true
   },
   "outputs": [],
   "source": [
    "#@delayed\n",
    "def register_neurons(sg_filename,alignment_type,check_neuron_sticking_out=False):\n",
    "    \n",
    "\n",
    "    # make surface\n",
    "    pia = Surface(filename = output_surfaces+sg_filename+'_pia_bottom_open.vtk')\n",
    "    wm = Surface(filename = output_surfaces+sg_filename+'_WM_bottom_open.vtk')\n",
    "    pia_wm = Surface(polydata = pia.surface)\n",
    "    #pia_wm.append(wm.surface)\n",
    "    \n",
    "    sg = AmiraSpatialGraph(filename=output_corrected_spatial_graphs+sg_filename+'.am',\\\n",
    "                           barrel_projections_present=False)\n",
    "    \n",
    "    ################ Step 0###################################\n",
    "    # check if neuron is sticking put of pia, if so push it back\n",
    "    ##########################################################\n",
    "    if check_neuron_sticking_out:\n",
    "        sg = push_back_sticking_out_neuron(pia,sg,output_registered_sticking_out_check+sg_filename+'.am',step_size=50)\n",
    "    else:\n",
    "        shutil.copyfile(output_corrected_spatial_graphs+sg_filename+'.am',\\\n",
    "                    output_registered_sticking_out_check+sg_filename+'.am')\n",
    "    shutil.copyfile(output_surfaces+sg_filename+'_pia_bottom_open.vtk',\\\n",
    "                    output_registered_sticking_out_check+sg_filename+'_pia.vtk')\n",
    "    shutil.copyfile(output_surfaces+sg_filename+'_WM_bottom_open.vtk',\\\n",
    "                    output_registered_sticking_out_check+sg_filename+'_WM.vtk')\n",
    "    \n",
    "    \n",
    "    ################ Step 1###################################\n",
    "    # Align barrels\n",
    "    ##########################################################\n",
    "    matching_barrels = MatchBarrels(ref_barrels_sg.barrels,sg.barrels,use_barrels_alone=True)\n",
    "    ref_s1_pts,s1_pts = matching_barrels.get_matching_barrel_centroids()\n",
    "    landmarks = Landmarks(pts=s1_pts)\n",
    "    icp,txmat = landmarks.align_landmarks(ref_s1_pts)\n",
    "    aligner = Alignment()\n",
    "    #print(txmat)\n",
    "    sg,sg_neuron,pia,wm,vM1_pia,vM1_wm = Alignment().transform_files(output_registered_sticking_out_check,output_registered_barrels,\\\n",
    "                                                  sg_filename,\\\n",
    "                            icp=icp,txmat = txmat,\\\n",
    "                            txfilename = output_registered_barrels+sg_filename+'_1_Barrel_Transformation_Matrix.txt')\n",
    "    \n",
    "    ################ Step 2###################################\n",
    "    # Find global transformation using alignemnt method of choice\n",
    "    ##########################################################\n",
    "#     txmat = []\n",
    "#     icp = vtk.vtkIterativeClosestPointTransform()\n",
    "\n",
    "#     # align by entire pia wm surfaces\n",
    "#     pia_wm = pia\n",
    "#     pia.append(wm.surface)\n",
    "#     aligner = Alignment(ref_pia_wm.surface,pia_wm.surface)\n",
    "#     txmat = aligner.get_transformation_matrix()\n",
    "#     icp = aligner.get_icp_transform()\n",
    "\n",
    "#     sg,sg_neuron,pia,wm,vM1_pia,vM1_wm = Alignment().transform_files(output_registered_barrels,output_registered_global,sg_filename,\\\n",
    "#                             icp=icp,txmat = txmat,\\\n",
    "#                             txfilename = output_registered_global+sg_filename+'_2_Global_Transformation_Matrix.txt')\n",
    "\n",
    "     \n",
    "    ################ Step 2.5 ###################################\n",
    "    # Clip to vM1 \n",
    "    ##########################################################\n",
    "    pia = Surface(output_registered_barrels+sg_filename+'_pia.vtk')\n",
    "    wm = Surface(output_registered_barrels+sg_filename+'_WM.vtk')\n",
    "    sg = AmiraSpatialGraph(output_registered_barrels+sg_filename+'.am')\n",
    "    pcas,vm1_final,vM1_hull,vm1_pia,vm1_wm = Surface().get_vm1(pia.surface,wm.surface,\\\n",
    "                                            given_pcas=[ref_pca_0.graph_data.edge_list[0],\\\n",
    "                                                        ref_pca_1.graph_data.edge_list[0],\\\n",
    "                                                        ref_pca_2.graph_data.edge_list[0]],pts=[])\n",
    "\n",
    "\n",
    "    Surface(polydata=vm1_pia).write_surface_mesh(output_registered_clipped_vm1+sg_filename+'_vM1_pia.vtk')\n",
    "    Surface(polydata=vm1_wm).write_surface_mesh(output_registered_clipped_vm1+sg_filename+'_vM1_WM.vtk')\n",
    "    sg.write_spatial_graph(output_registered_clipped_vm1+sg_filename+'.am')\n",
    "    shutil.copyfile(output_registered_barrels+sg_filename+'_pia.vtk',output_registered_clipped_vm1+sg_filename+'_pia.vtk')\n",
    "    shutil.copyfile(output_registered_barrels+sg_filename+'_WM.vtk',output_registered_clipped_vm1+sg_filename+'_WM.vtk')\n",
    "     \n",
    "    ################ Step 3 ###################################\n",
    "    # Align to vM1\n",
    "    ##########################################################\n",
    "    vm1_pia = Surface(output_registered_clipped_vm1+sg_filename+'_vM1_pia.vtk')\n",
    "    vm1_wm = Surface(output_registered_clipped_vm1+sg_filename+'_vM1_WM.vtk')\n",
    "    vm1_pia_wm = vm1_pia\n",
    "    vm1_pia_wm.append(vm1_wm.surface)\n",
    "\n",
    "    aligner = Alignment(ref_vM1_pia_wm.surface,vm1_pia_wm.surface)\n",
    "    txmat = aligner.get_transformation_matrix()\n",
    "    icp = aligner.get_icp_transform()\n",
    "    \n",
    "    sg,sg_neuron,pia,wm,vM1_pia,vM1_wm = Alignment().transform_files(output_registered_clipped_vm1,output_registered_local,sg_filename,\\\n",
    "                            icp=icp,txmat = txmat,\\\n",
    "                            txfilename = output_registered_local+sg_filename+'_3_Global_Transformation_Matrix.txt')\n",
    "    \n",
    "    \n",
    "    ################ Step 4 ###################################\n",
    "    # fine tune to vM1 around neuron\n",
    "    ##########################################################\n",
    "    \n",
    "    icp,txmat = vm1_local_alignment(sg,pia,ref_pia,number_of_pts=2,ref_pca=ref_pca_2)\n",
    "    \n",
    "    if len(txmat)==0:\n",
    "        print('{} exp has problems'.format(sg_filename))\n",
    "        return\n",
    "    sg,sg_neuron,pia,wm,vM1_pia,vM1_wm = Alignment().transform_files(output_registered_local,output_registered_fine_tune_1,\\\n",
    "                                                                 sg_filename,icp=icp,txmat = txmat,\\\n",
    "                                                                 txfilename = output_registered_fine_tune_1\\\n",
    "                                                                 +sg_filename+'_3_1_Global_Transformation_Matrix.txt')\n",
    "\n",
    "    #print(sg.neuron.dendrite.apical_dendrite.edge_list)\n",
    "    icp,txmat = vm1_local_alignment(sg,pia,ref_pia,number_of_pts=1)\n",
    "    if len(txmat)==0:\n",
    "        print('{} exp has problems'.format(sg_filename))\n",
    "        return\n",
    "    sg,sg_neuron,pia,wm,vM1_pia,vM1_wm = Alignment().transform_files(output_registered_fine_tune_1,output_registered_fine_tune_2,\\\n",
    "                                                                 sg_filename,icp=icp,txmat = txmat,\\\n",
    "                                                                 txfilename = output_registered_fine_tune_2+\\\n",
    "                                                                 sg_filename+'_3_2_Global_Transformation_Matrix.txt')\n",
    "    \n",
    "     \n",
    "    ################ Step 5 ###################################\n",
    "    # Move to Center of vM1\n",
    "    ##########################################################\n",
    "    # Ref Axis: central axis of ref vm1\n",
    "    # axis : apical vector - till intersects pia and wm\n",
    "    ref_axis,neuron_axis = get_ref_and_neuron_axes(sg,pia,wm,ref_pia,ref_wm,ref_pca=ref_pca_2)\n",
    "    if len(ref_axis)==0 or len(neuron_axis)==0:\n",
    "        return\n",
    "    aligner = Alignment(Surface(pts=ref_axis).surface,Surface(pts=neuron_axis).surface,mode='similarity')\n",
    "    txmat = aligner.get_transformation_matrix()\n",
    "    icp = aligner.get_icp_transform()\n",
    "    sg_neuron.apply_transformation(txmat)\n",
    "    sg_neuron.write_spatial_graph(output_registered_centered+sg_filename+'_reg_neuron.am')\n",
    "    \n",
    "    # Now unscale the neuron\n",
    "    height = get_soma_to_apical_center_distance(sg)\n",
    "    #print(height)\n",
    "    soma_center,apical_center = get_soma_and_apical_centers(sg_neuron)\n",
    "    if len(soma_center)==0 or len(apical_center)==0:\n",
    "        return\n",
    "    apical_target = Vectors().create_pt_along_vector_at_given_distance(height,soma_center,apical_center)\n",
    "    #print(apical_target)\n",
    "    soma_center_unscaled,apical_center_unscaled = get_soma_and_apical_centers(sg)\n",
    "    if len(soma_center_unscaled)==0 or len(apical_center_unscaled)==0:\n",
    "        return\n",
    "    landmarks = Landmarks(pts=[soma_center_unscaled,apical_center_unscaled])\n",
    "    icp,txmat = landmarks.align_landmarks([soma_center,apical_target])\n",
    "    sg_neuron = AmiraSpatialGraph(output_registered_fine_tune_2+sg_filename+'_reg_neuron.am')\n",
    "    sg_neuron.apply_transformation(txmat)\n",
    "    sg_neuron.write_spatial_graph(output_registered_centered_unscaled+sg_filename+'_reg_neuron.am')\n",
    "    \n",
    "    ################ Step 6 ###################################\n",
    "    # Transform to Local vM1 ref frame\n",
    "    ##########################################################\n",
    "    \n",
    "    return  "
   ]
  },
  {
   "cell_type": "code",
   "execution_count": null,
   "metadata": {
    "ExecuteTime": {
     "end_time": "2020-03-11T12:37:02.224512Z",
     "start_time": "2020-03-11T12:34:08.808400Z"
    },
    "collapsed": true,
    "scrolled": true
   },
   "outputs": [],
   "source": [
    "alignment_type = 'Using_vS1_vM1_Surface_Points'\n",
    "fn_list_surfs = []\n",
    "sg_files_list = sorted(glob.glob(output_corrected_spatial_graphs+'*.am'))\n",
    "for i in range(len(sg_files_list)):\n",
    "    sg_file = sg_files_list[i]\n",
    "    if i == 8:\n",
    "        print(i,sg_file)\n",
    "        #fn_list_surfs.append(register_neurons(os.path.basename(sg_file)[:-3],alignment_type,check_neuron_sticking_out=False))\n",
    "        register_neurons(os.path.basename(sg_file)[:-3],alignment_type,check_neuron_sticking_out=True)\n",
    "#compute(fn_list_surfs,scheduler='multiprocessing')"
   ]
  },
  {
   "cell_type": "markdown",
   "metadata": {},
   "source": [
    "# Merge Neurons for Visualization"
   ]
  },
  {
   "cell_type": "code",
   "execution_count": null,
   "metadata": {
    "ExecuteTime": {
     "end_time": "2020-03-11T10:08:26.348171Z",
     "start_time": "2020-03-11T10:07:35.447989Z"
    },
    "collapsed": true
   },
   "outputs": [],
   "source": [
    "all_neurons = AmiraSpatialGraph(generic_graph=True)\n",
    "for neuron_file in glob.glob(output_registered_fine_tune_2+'/*_reg_neuron.am'):\n",
    "    sg_neuron = AmiraSpatialGraph(neuron_file)\n",
    "    all_neurons.graph_data = all_neurons.combine_subgraphs([all_neurons.graph_data,sg_neuron.graph_data])\n",
    "\n",
    "    \n",
    "all_neurons.write_spatial_graph(output_root+'All_Neurons_Registered_To_vM1.am')\n"
   ]
  },
  {
   "cell_type": "code",
   "execution_count": null,
   "metadata": {
    "ExecuteTime": {
     "end_time": "2020-03-11T10:09:07.692209Z",
     "start_time": "2020-03-11T10:08:26.350413Z"
    },
    "collapsed": true
   },
   "outputs": [],
   "source": [
    "all_neurons = AmiraSpatialGraph(generic_graph=True)\n",
    "for neuron_file in glob.glob(output_registered_centered_unscaled+'/*_reg_neuron.am'):\n",
    "    sg_neuron = AmiraSpatialGraph(neuron_file)\n",
    "    all_neurons.graph_data = all_neurons.combine_subgraphs([all_neurons.graph_data,sg_neuron.graph_data])\n",
    "\n",
    "    \n",
    "all_neurons.write_spatial_graph(output_root+'All_Neurons_Registered_To_vM1_Central_Axis.am')"
   ]
  },
  {
   "cell_type": "code",
   "execution_count": null,
   "metadata": {
    "ExecuteTime": {
     "end_time": "2020-03-11T10:15:41.976167Z",
     "start_time": "2020-03-11T10:14:58.541359Z"
    },
    "collapsed": true
   },
   "outputs": [],
   "source": [
    "all_neurons = AmiraSpatialGraph(generic_graph=True)\n",
    "for neuron_file in glob.glob(output_registered_centered+'/*_reg_neuron.am'):\n",
    "    sg_neuron = AmiraSpatialGraph(neuron_file)\n",
    "    all_neurons.graph_data = all_neurons.combine_subgraphs([all_neurons.graph_data,sg_neuron.graph_data])\n",
    "\n",
    "    \n",
    "all_neurons.write_spatial_graph(output_root+'All_Neurons_Registered_To_vM1_Central_Axis_Scaled.am')"
   ]
  },
  {
   "cell_type": "code",
   "execution_count": null,
   "metadata": {
    "collapsed": true
   },
   "outputs": [],
   "source": []
  }
 ],
 "metadata": {
  "kernelspec": {
   "display_name": "Python 3",
   "language": "python",
   "name": "python3"
  },
  "language_info": {
   "codemirror_mode": {
    "name": "ipython",
    "version": 3
   },
   "file_extension": ".py",
   "mimetype": "text/x-python",
   "name": "python",
   "nbconvert_exporter": "python",
   "pygments_lexer": "ipython3",
   "version": "3.6.6"
  },
  "toc": {
   "base_numbering": 1,
   "nav_menu": {},
   "number_sections": true,
   "sideBar": true,
   "skip_h1_title": false,
   "title_cell": "Table of Contents",
   "title_sidebar": "Contents",
   "toc_cell": false,
   "toc_position": {
    "height": "calc(100% - 180px)",
    "left": "10px",
    "top": "150px",
    "width": "336px"
   },
   "toc_section_display": true,
   "toc_window_display": true
  }
 },
 "nbformat": 4,
 "nbformat_minor": 2
}
