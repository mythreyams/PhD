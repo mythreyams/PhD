{
 "cells": [
  {
   "cell_type": "code",
   "execution_count": 23,
   "id": "3e7e1cb1",
   "metadata": {},
   "outputs": [],
   "source": [
    "import numpy as np\n",
    "import pandas as pd\n",
    "import matplotlib.pyplot as plt\n",
    "#import seaborn as sns\n",
    "import os"
   ]
  },
  {
   "cell_type": "code",
   "execution_count": 24,
   "id": "1ca62538",
   "metadata": {},
   "outputs": [],
   "source": [
    "input_path = 'Z:/V11/vM1_Ref_Frame/FINAL/'\n",
    "cm = 1/2.54"
   ]
  },
  {
   "cell_type": "markdown",
   "id": "2072b3c0",
   "metadata": {},
   "source": [
    "# Clustering"
   ]
  },
  {
   "cell_type": "markdown",
   "id": "c7da1939",
   "metadata": {},
   "source": [
    "## Absolute rabies counts and cov"
   ]
  },
  {
   "cell_type": "code",
   "execution_count": 71,
   "id": "7fb3f824",
   "metadata": {},
   "outputs": [
    {
     "data": {
      "text/plain": [
       "(1452.0, 1295.5155987739656, 89.2228373811271)"
      ]
     },
     "execution_count": 71,
     "metadata": {},
     "output_type": "execute_result"
    }
   ],
   "source": [
    "# the total number of rabies labelled neurons varies a lot across 3 animals\n",
    "df_rabies_counts = pd.read_csv(input_path + 'Fig_1/Rabies_Distribution/Clustering/'+'landmarks_counts.csv',index_col=0)\n",
    "#mg48_count = df_rabies_counts['MG48_lhs_vM1']\n",
    "mg_48_count_total = df_rabies_counts[df_rabies_counts.index==0][['MG48_lhs_vM1','MG48_rhs_vM1','MG48_lhs_vS1','MG48_rhs_vS1']].values[0].sum()\n",
    "mg_48_count_total_lhs = df_rabies_counts[df_rabies_counts.index==0][['MG48_lhs_vM1','MG48_lhs_vS1']].values[0].sum()\n",
    "mg_48_count_total_rhs = df_rabies_counts[df_rabies_counts.index==0][['MG48_rhs_vM1','MG48_rhs_vS1']].values[0].sum()\n",
    "\n",
    "mg_49_count_total = df_rabies_counts[df_rabies_counts.index==0][['MG49_lhs_vM1','MG49_rhs_vM1','MG49_lhs_vS1','MG49_rhs_vS1']].values[0].sum()\n",
    "mg_49_count_total_lhs = df_rabies_counts[df_rabies_counts.index==0][['MG49_lhs_vM1','MG49_lhs_vS1']].values[0].sum()\n",
    "mg_49_count_total_rhs = df_rabies_counts[df_rabies_counts.index==0][['MG49_rhs_vM1','MG49_rhs_vS1']].values[0].sum()\n",
    "\n",
    "mg_50_count_total = df_rabies_counts[df_rabies_counts.index==0][['MG50_lhs_vM1','MG50_rhs_vM1','MG50_lhs_vS1','MG50_rhs_vS1']].values[0].sum()\n",
    "mg_50_count_total_lhs = df_rabies_counts[df_rabies_counts.index==0][['MG50_lhs_vM1','MG50_lhs_vS1']].values[0].sum()\n",
    "mg_50_count_total_rhs = df_rabies_counts[df_rabies_counts.index==0][['MG50_rhs_vM1','MG50_rhs_vS1']].values[0].sum()\n",
    "\n",
    "totals = np.array([mg_48_count_total,mg_49_count_total,mg_50_count_total])\n",
    "totals_lhs = np.array([mg_48_count_total_lhs,mg_49_count_total_lhs,mg_50_count_total_lhs,])\n",
    "totals_rhs = np.array([mg_48_count_total_rhs,mg_49_count_total_rhs,mg_50_count_total_rhs])\n",
    "\n",
    "totals.mean(),totals.std(),totals.std()/totals.mean()*100"
   ]
  },
  {
   "cell_type": "code",
   "execution_count": 72,
   "id": "4d3af5d6",
   "metadata": {
    "scrolled": false
   },
   "outputs": [
    {
     "data": {
      "image/png": "[encoded data removed]",
      "text/plain": [
       "<Figure size 850.394x330.709 with 4 Axes>"
      ]
     },
     "metadata": {
      "needs_background": "light"
     },
     "output_type": "display_data"
    }
   ],
   "source": [
    "fig, axes = plt.subplots(nrows=1,ncols=4, sharex=True,sharey=True,figsize=(18*cm,7*cm),dpi=120)\n",
    "axes[0].bar(['A1','A2','A3'],df_rabies_counts[df_rabies_counts.index==0][['MG48_lhs_vM1','MG49_lhs_vM1','MG50_lhs_vM1']].values[0],color=(0,0,0))\n",
    "axes[1].bar(['A1','A2','A3'],df_rabies_counts[df_rabies_counts.index==0][['MG48_rhs_vM1','MG49_rhs_vM1','MG50_rhs_vM1']].values[0],color=(0,0,0))\n",
    "axes[2].bar(['A1','A2','A3'],df_rabies_counts[df_rabies_counts.index==0][['MG48_lhs_vS1','MG49_lhs_vS1','MG50_lhs_vS1']].values[0],color=(0,0,0))\n",
    "axes[3].bar(['A1','A2','A3'],df_rabies_counts[df_rabies_counts.index==0][['MG48_rhs_vS1','MG49_rhs_vS1','MG50_rhs_vS1']].values[0],color=(0,0,0))\n",
    "fig.savefig(input_path + 'Fig_1/Rabies_Distribution/Clustering/total_counts.eps')"
   ]
  },
  {
   "cell_type": "code",
   "execution_count": 73,
   "id": "3d1e1bec",
   "metadata": {},
   "outputs": [
    {
     "data": {
      "text/html": [
       "<div>\n",
       "<style scoped>\n",
       "    .dataframe tbody tr th:only-of-type {\n",
       "        vertical-align: middle;\n",
       "    }\n",
       "\n",
       "    .dataframe tbody tr th {\n",
       "        vertical-align: top;\n",
       "    }\n",
       "\n",
       "    .dataframe thead th {\n",
       "        text-align: right;\n",
       "    }\n",
       "</style>\n",
       "<table border=\"1\" class=\"dataframe\">\n",
       "  <thead>\n",
       "    <tr style=\"text-align: right;\">\n",
       "      <th></th>\n",
       "      <th>MG48_lhs_vM1</th>\n",
       "      <th>MG49_lhs_vM1</th>\n",
       "      <th>MG50_lhs_vM1</th>\n",
       "    </tr>\n",
       "    <tr>\n",
       "      <th>Cutoff</th>\n",
       "      <th></th>\n",
       "      <th></th>\n",
       "      <th></th>\n",
       "    </tr>\n",
       "  </thead>\n",
       "  <tbody>\n",
       "    <tr>\n",
       "      <th>0</th>\n",
       "      <td>96</td>\n",
       "      <td>376</td>\n",
       "      <td>1292</td>\n",
       "    </tr>\n",
       "  </tbody>\n",
       "</table>\n",
       "</div>"
      ],
      "text/plain": [
       "        MG48_lhs_vM1  MG49_lhs_vM1  MG50_lhs_vM1\n",
       "Cutoff                                          \n",
       "0                 96           376          1292"
      ]
     },
     "execution_count": 73,
     "metadata": {},
     "output_type": "execute_result"
    }
   ],
   "source": [
    "df_rabies_counts[df_rabies_counts.index==0][['MG48_lhs_vM1','MG49_lhs_vM1','MG50_lhs_vM1']]"
   ]
  },
  {
   "cell_type": "code",
   "execution_count": 74,
   "id": "17342395",
   "metadata": {},
   "outputs": [
    {
     "data": {
      "text/plain": [
       "(Cutoff\n",
       " 0    588.0\n",
       " dtype: float64,\n",
       " Cutoff\n",
       " 0    625.549359\n",
       " dtype: float64,\n",
       " Cutoff\n",
       " 0    1.063859\n",
       " dtype: float64)"
      ]
     },
     "execution_count": 74,
     "metadata": {},
     "output_type": "execute_result"
    }
   ],
   "source": [
    "vm1_lhs = df_rabies_counts[df_rabies_counts.index==0][['MG48_lhs_vM1','MG49_lhs_vM1','MG50_lhs_vM1']]\n",
    "vm1_lhs.mean(axis=1),vm1_lhs.std(axis=1),vm1_lhs.std(axis=1)/vm1_lhs.mean(axis=1),"
   ]
  },
  {
   "cell_type": "code",
   "execution_count": 75,
   "id": "6904a6ef",
   "metadata": {},
   "outputs": [
    {
     "data": {
      "text/html": [
       "<div>\n",
       "<style scoped>\n",
       "    .dataframe tbody tr th:only-of-type {\n",
       "        vertical-align: middle;\n",
       "    }\n",
       "\n",
       "    .dataframe tbody tr th {\n",
       "        vertical-align: top;\n",
       "    }\n",
       "\n",
       "    .dataframe thead th {\n",
       "        text-align: right;\n",
       "    }\n",
       "</style>\n",
       "<table border=\"1\" class=\"dataframe\">\n",
       "  <thead>\n",
       "    <tr style=\"text-align: right;\">\n",
       "      <th></th>\n",
       "      <th>MG48_rhs_vM1</th>\n",
       "      <th>MG49_rhs_vM1</th>\n",
       "      <th>MG50_rhs_vM1</th>\n",
       "    </tr>\n",
       "    <tr>\n",
       "      <th>Cutoff</th>\n",
       "      <th></th>\n",
       "      <th></th>\n",
       "      <th></th>\n",
       "    </tr>\n",
       "  </thead>\n",
       "  <tbody>\n",
       "    <tr>\n",
       "      <th>0</th>\n",
       "      <td>58</td>\n",
       "      <td>245</td>\n",
       "      <td>653</td>\n",
       "    </tr>\n",
       "  </tbody>\n",
       "</table>\n",
       "</div>"
      ],
      "text/plain": [
       "        MG48_rhs_vM1  MG49_rhs_vM1  MG50_rhs_vM1\n",
       "Cutoff                                          \n",
       "0                 58           245           653"
      ]
     },
     "execution_count": 75,
     "metadata": {},
     "output_type": "execute_result"
    }
   ],
   "source": [
    "df_rabies_counts[df_rabies_counts.index==0][['MG48_rhs_vM1','MG49_rhs_vM1','MG50_rhs_vM1']]"
   ]
  },
  {
   "cell_type": "code",
   "execution_count": 76,
   "id": "7c7fd7ca",
   "metadata": {},
   "outputs": [
    {
     "data": {
      "text/plain": [
       "(Cutoff\n",
       " 0    318.666667\n",
       " dtype: float64,\n",
       " Cutoff\n",
       " 0    304.263592\n",
       " dtype: float64,\n",
       " Cutoff\n",
       " 0    0.954802\n",
       " dtype: float64)"
      ]
     },
     "execution_count": 76,
     "metadata": {},
     "output_type": "execute_result"
    }
   ],
   "source": [
    "vm1_lhs = df_rabies_counts[df_rabies_counts.index==0][['MG48_rhs_vM1','MG49_rhs_vM1','MG50_rhs_vM1']]\n",
    "vm1_lhs.mean(axis=1),vm1_lhs.std(axis=1),vm1_lhs.std(axis=1)/vm1_lhs.mean(axis=1),"
   ]
  },
  {
   "cell_type": "code",
   "execution_count": 77,
   "id": "ad063039",
   "metadata": {},
   "outputs": [
    {
     "data": {
      "text/html": [
       "<div>\n",
       "<style scoped>\n",
       "    .dataframe tbody tr th:only-of-type {\n",
       "        vertical-align: middle;\n",
       "    }\n",
       "\n",
       "    .dataframe tbody tr th {\n",
       "        vertical-align: top;\n",
       "    }\n",
       "\n",
       "    .dataframe thead th {\n",
       "        text-align: right;\n",
       "    }\n",
       "</style>\n",
       "<table border=\"1\" class=\"dataframe\">\n",
       "  <thead>\n",
       "    <tr style=\"text-align: right;\">\n",
       "      <th></th>\n",
       "      <th>MG48_lhs_vS1</th>\n",
       "      <th>MG49_lhs_vS1</th>\n",
       "      <th>MG50_lhs_vS1</th>\n",
       "    </tr>\n",
       "    <tr>\n",
       "      <th>Cutoff</th>\n",
       "      <th></th>\n",
       "      <th></th>\n",
       "      <th></th>\n",
       "    </tr>\n",
       "  </thead>\n",
       "  <tbody>\n",
       "    <tr>\n",
       "      <th>0</th>\n",
       "      <td>76</td>\n",
       "      <td>149</td>\n",
       "      <td>1066</td>\n",
       "    </tr>\n",
       "  </tbody>\n",
       "</table>\n",
       "</div>"
      ],
      "text/plain": [
       "        MG48_lhs_vS1  MG49_lhs_vS1  MG50_lhs_vS1\n",
       "Cutoff                                          \n",
       "0                 76           149          1066"
      ]
     },
     "execution_count": 77,
     "metadata": {},
     "output_type": "execute_result"
    }
   ],
   "source": [
    "df_rabies_counts[df_rabies_counts.index==0][['MG48_lhs_vS1','MG49_lhs_vS1','MG50_lhs_vS1']]"
   ]
  },
  {
   "cell_type": "code",
   "execution_count": 78,
   "id": "9f11bad8",
   "metadata": {},
   "outputs": [
    {
     "data": {
      "text/plain": [
       "(Cutoff\n",
       " 0    430.333333\n",
       " dtype: float64,\n",
       " Cutoff\n",
       " 0    551.712183\n",
       " dtype: float64,\n",
       " Cutoff\n",
       " 0    1.282058\n",
       " dtype: float64)"
      ]
     },
     "execution_count": 78,
     "metadata": {},
     "output_type": "execute_result"
    }
   ],
   "source": [
    "vm1_lhs = df_rabies_counts[df_rabies_counts.index==0][['MG48_lhs_vS1','MG49_lhs_vS1','MG50_lhs_vS1']]\n",
    "vm1_lhs.mean(axis=1),vm1_lhs.std(axis=1),vm1_lhs.std(axis=1)/vm1_lhs.mean(axis=1),"
   ]
  },
  {
   "cell_type": "code",
   "execution_count": 79,
   "id": "bf226679",
   "metadata": {},
   "outputs": [
    {
     "data": {
      "text/html": [
       "<div>\n",
       "<style scoped>\n",
       "    .dataframe tbody tr th:only-of-type {\n",
       "        vertical-align: middle;\n",
       "    }\n",
       "\n",
       "    .dataframe tbody tr th {\n",
       "        vertical-align: top;\n",
       "    }\n",
       "\n",
       "    .dataframe thead th {\n",
       "        text-align: right;\n",
       "    }\n",
       "</style>\n",
       "<table border=\"1\" class=\"dataframe\">\n",
       "  <thead>\n",
       "    <tr style=\"text-align: right;\">\n",
       "      <th></th>\n",
       "      <th>MG48_rhs_vS1</th>\n",
       "      <th>MG49_rhs_vS1</th>\n",
       "      <th>MG50_rhs_vS1</th>\n",
       "    </tr>\n",
       "    <tr>\n",
       "      <th>Cutoff</th>\n",
       "      <th></th>\n",
       "      <th></th>\n",
       "      <th></th>\n",
       "    </tr>\n",
       "  </thead>\n",
       "  <tbody>\n",
       "    <tr>\n",
       "      <th>0</th>\n",
       "      <td>43</td>\n",
       "      <td>57</td>\n",
       "      <td>245</td>\n",
       "    </tr>\n",
       "  </tbody>\n",
       "</table>\n",
       "</div>"
      ],
      "text/plain": [
       "        MG48_rhs_vS1  MG49_rhs_vS1  MG50_rhs_vS1\n",
       "Cutoff                                          \n",
       "0                 43            57           245"
      ]
     },
     "execution_count": 79,
     "metadata": {},
     "output_type": "execute_result"
    }
   ],
   "source": [
    "df_rabies_counts[df_rabies_counts.index==0][['MG48_rhs_vS1','MG49_rhs_vS1','MG50_rhs_vS1']]"
   ]
  },
  {
   "cell_type": "code",
   "execution_count": 80,
   "id": "7842538f",
   "metadata": {},
   "outputs": [
    {
     "data": {
      "text/plain": [
       "(Cutoff\n",
       " 0    115.0\n",
       " dtype: float64,\n",
       " Cutoff\n",
       " 0    112.800709\n",
       " dtype: float64,\n",
       " Cutoff\n",
       " 0    0.980876\n",
       " dtype: float64)"
      ]
     },
     "execution_count": 80,
     "metadata": {},
     "output_type": "execute_result"
    }
   ],
   "source": [
    "vm1_lhs = df_rabies_counts[df_rabies_counts.index==0][['MG48_rhs_vS1','MG49_rhs_vS1','MG50_rhs_vS1']]\n",
    "vm1_lhs.mean(axis=1),vm1_lhs.std(axis=1),vm1_lhs.std(axis=1)/vm1_lhs.mean(axis=1),"
   ]
  },
  {
   "cell_type": "code",
   "execution_count": 81,
   "id": "6c5d5271",
   "metadata": {},
   "outputs": [
    {
     "data": {
      "text/plain": [
       "1.07039875"
      ]
     },
     "execution_count": 81,
     "metadata": {},
     "output_type": "execute_result"
    }
   ],
   "source": [
    "np.array([1.063859,0.954802,1.282058,0.980876]).mean()"
   ]
  },
  {
   "cell_type": "markdown",
   "id": "8b4a8eda",
   "metadata": {},
   "source": [
    "## Clustered rabies volumes and cov"
   ]
  },
  {
   "cell_type": "code",
   "execution_count": 82,
   "id": "df157823",
   "metadata": {},
   "outputs": [
    {
     "data": {
      "text/plain": [
       "(29918853888.0, 6588226373.641311, 22.02031668159504)"
      ]
     },
     "execution_count": 82,
     "metadata": {},
     "output_type": "execute_result"
    }
   ],
   "source": [
    "df_surf_vols_amira = pd.read_csv(input_path + 'Fig_1/Rabies_Distribution/Clustering/surf_volumes_from_amira.csv',\\\n",
    "                                 sep=';',thousands='.',index_col=0)\n",
    "mg_48_volume_total = df_surf_vols_amira[df_surf_vols_amira.index==10][['MG48_lhs_vM1','MG48_rhs_vM1','MG48_lhs_vS1','MG48_rhs_vS1']].values[0].sum()\n",
    "mg_48_volume_total_lhs = df_surf_vols_amira[df_surf_vols_amira.index==10][['MG48_lhs_vM1','MG48_lhs_vS1']].values[0].sum()\n",
    "mg_48_volume_total_rhs = df_surf_vols_amira[df_surf_vols_amira.index==10][['MG48_rhs_vM1','MG48_rhs_vS1']].values[0].sum()\n",
    "\n",
    "mg_49_volume_total = df_surf_vols_amira[df_surf_vols_amira.index==10][['MG49_lhs_vM1','MG49_rhs_vM1','MG49_lhs_vS1','MG49_rhs_vS1']].values[0].sum()\n",
    "mg_49_volume_total_lhs = df_surf_vols_amira[df_surf_vols_amira.index==10][['MG49_lhs_vM1','MG49_lhs_vS1']].values[0].sum()\n",
    "mg_49_volume_total_rhs = df_surf_vols_amira[df_surf_vols_amira.index==10][['MG49_rhs_vM1','MG49_rhs_vS1']].values[0].sum()\n",
    "\n",
    "mg_50_volume_total = df_surf_vols_amira[df_surf_vols_amira.index==10][['MG50_lhs_vM1','MG50_rhs_vM1','MG50_lhs_vS1','MG50_rhs_vS1']].values[0].sum()\n",
    "mg_50_volume_total_lhs = df_surf_vols_amira[df_surf_vols_amira.index==10][['MG50_lhs_vM1','MG50_lhs_vS1']].values[0].sum()\n",
    "mg_50_volume_total_rhs = df_surf_vols_amira[df_surf_vols_amira.index==10][['MG50_rhs_vM1','MG50_rhs_vS1']].values[0].sum()\n",
    "\n",
    "totals = np.array([mg_48_volume_total,mg_49_volume_total,mg_50_volume_total])\n",
    "totals_lhs = np.array([mg_48_volume_total_lhs,mg_49_volume_total_lhs,mg_50_volume_total_lhs])\n",
    "totals_rhs = np.array([mg_48_volume_total_rhs,mg_49_volume_total_rhs,mg_50_volume_total_rhs])\n",
    "\n",
    "totals.mean(),totals.std(),totals.std()/totals.mean()*100"
   ]
  },
  {
   "cell_type": "code",
   "execution_count": 83,
   "id": "bf33efa7",
   "metadata": {},
   "outputs": [
    {
     "data": {
      "text/plain": [
       "(17738112000.0, 1535953136.6981075, 8.659056480746695)"
      ]
     },
     "execution_count": 83,
     "metadata": {},
     "output_type": "execute_result"
    }
   ],
   "source": [
    "totals_lhs.mean(),totals_lhs.std(),totals_lhs.std()/totals_lhs.mean()*100"
   ]
  },
  {
   "cell_type": "code",
   "execution_count": 84,
   "id": "953ba4d8",
   "metadata": {
    "scrolled": false
   },
   "outputs": [
    {
     "data": {
      "text/plain": [
       "(12180741888.0, 5207223830.138087, 42.749644299318454)"
      ]
     },
     "execution_count": 84,
     "metadata": {},
     "output_type": "execute_result"
    }
   ],
   "source": [
    "totals_rhs.mean(),totals_rhs.std(),totals_rhs.std()/totals_rhs.mean()*100"
   ]
  },
  {
   "cell_type": "code",
   "execution_count": 85,
   "id": "ccac0ba8",
   "metadata": {
    "scrolled": false
   },
   "outputs": [
    {
     "data": {
      "image/png": "[encoded data removed]",
      "text/plain": [
       "<Figure size 850.394x330.709 with 4 Axes>"
      ]
     },
     "metadata": {
      "needs_background": "light"
     },
     "output_type": "display_data"
    }
   ],
   "source": [
    "fig, axes = plt.subplots(nrows=1,ncols=4, sharex=True,sharey=True,figsize=(18*cm,7*cm),dpi=120)\n",
    "axes[0].bar(['A1','A2','A3'],df_surf_vols_amira[df_surf_vols_amira.index==10][['MG48_lhs_vM1','MG49_lhs_vM1','MG50_lhs_vM1']].values[0],color=(0,0,0))\n",
    "axes[1].bar(['A1','A2','A3'],df_surf_vols_amira[df_surf_vols_amira.index==10][['MG48_rhs_vM1','MG49_rhs_vM1','MG50_rhs_vM1']].values[0],color=(0,0,0))\n",
    "axes[2].bar(['A1','A2','A3'],df_surf_vols_amira[df_surf_vols_amira.index==10][['MG48_lhs_vS1','MG49_lhs_vS1','MG50_lhs_vS1']].values[0],color=(0,0,0))\n",
    "axes[3].bar(['A1','A2','A3'],df_surf_vols_amira[df_surf_vols_amira.index==10][['MG48_rhs_vS1','MG49_rhs_vS1','MG50_rhs_vS1']].values[0],color=(0,0,0))\n",
    "fig.savefig(input_path + 'Fig_1/Rabies_Distribution/Clustering/total_volumes.eps')"
   ]
  },
  {
   "cell_type": "code",
   "execution_count": 86,
   "id": "9383091c",
   "metadata": {},
   "outputs": [
    {
     "data": {
      "text/html": [
       "<div>\n",
       "<style scoped>\n",
       "    .dataframe tbody tr th:only-of-type {\n",
       "        vertical-align: middle;\n",
       "    }\n",
       "\n",
       "    .dataframe tbody tr th {\n",
       "        vertical-align: top;\n",
       "    }\n",
       "\n",
       "    .dataframe thead th {\n",
       "        text-align: right;\n",
       "    }\n",
       "</style>\n",
       "<table border=\"1\" class=\"dataframe\">\n",
       "  <thead>\n",
       "    <tr style=\"text-align: right;\">\n",
       "      <th></th>\n",
       "      <th>MG48_lhs_vM1</th>\n",
       "      <th>MG49_lhs_vM1</th>\n",
       "      <th>MG50_lhs_vM1</th>\n",
       "    </tr>\n",
       "    <tr>\n",
       "      <th>Cutoff</th>\n",
       "      <th></th>\n",
       "      <th></th>\n",
       "      <th></th>\n",
       "    </tr>\n",
       "  </thead>\n",
       "  <tbody>\n",
       "    <tr>\n",
       "      <th>10</th>\n",
       "      <td>7803322368</td>\n",
       "      <td>8817117184</td>\n",
       "      <td>10736518144</td>\n",
       "    </tr>\n",
       "  </tbody>\n",
       "</table>\n",
       "</div>"
      ],
      "text/plain": [
       "        MG48_lhs_vM1  MG49_lhs_vM1  MG50_lhs_vM1\n",
       "Cutoff                                          \n",
       "10        7803322368    8817117184   10736518144"
      ]
     },
     "execution_count": 86,
     "metadata": {},
     "output_type": "execute_result"
    }
   ],
   "source": [
    "df_surf_vols_amira[df_surf_vols_amira.index==10][['MG48_lhs_vM1','MG49_lhs_vM1','MG50_lhs_vM1']]"
   ]
  },
  {
   "cell_type": "code",
   "execution_count": 87,
   "id": "3f1a20ff",
   "metadata": {},
   "outputs": [
    {
     "data": {
      "text/plain": [
       "(Cutoff\n",
       " 10    9.118986e+09\n",
       " dtype: float64,\n",
       " Cutoff\n",
       " 10    1.489716e+09\n",
       " dtype: float64,\n",
       " Cutoff\n",
       " 10    0.163364\n",
       " dtype: float64)"
      ]
     },
     "execution_count": 87,
     "metadata": {},
     "output_type": "execute_result"
    }
   ],
   "source": [
    "bla = df_surf_vols_amira[df_surf_vols_amira.index==10][['MG48_lhs_vM1','MG49_lhs_vM1','MG50_lhs_vM1']]\n",
    "bla.mean(axis=1),bla.std(axis=1),bla.std(axis=1)/bla.mean(axis=1),"
   ]
  },
  {
   "cell_type": "code",
   "execution_count": 88,
   "id": "48ded90c",
   "metadata": {},
   "outputs": [
    {
     "data": {
      "text/html": [
       "<div>\n",
       "<style scoped>\n",
       "    .dataframe tbody tr th:only-of-type {\n",
       "        vertical-align: middle;\n",
       "    }\n",
       "\n",
       "    .dataframe tbody tr th {\n",
       "        vertical-align: top;\n",
       "    }\n",
       "\n",
       "    .dataframe thead th {\n",
       "        text-align: right;\n",
       "    }\n",
       "</style>\n",
       "<table border=\"1\" class=\"dataframe\">\n",
       "  <thead>\n",
       "    <tr style=\"text-align: right;\">\n",
       "      <th></th>\n",
       "      <th>MG48_rhs_vM1</th>\n",
       "      <th>MG49_rhs_vM1</th>\n",
       "      <th>MG50_rhs_vM1</th>\n",
       "    </tr>\n",
       "    <tr>\n",
       "      <th>Cutoff</th>\n",
       "      <th></th>\n",
       "      <th></th>\n",
       "      <th></th>\n",
       "    </tr>\n",
       "  </thead>\n",
       "  <tbody>\n",
       "    <tr>\n",
       "      <th>10</th>\n",
       "      <td>5000535552</td>\n",
       "      <td>5035372032</td>\n",
       "      <td>12209556480</td>\n",
       "    </tr>\n",
       "  </tbody>\n",
       "</table>\n",
       "</div>"
      ],
      "text/plain": [
       "        MG48_rhs_vM1  MG49_rhs_vM1  MG50_rhs_vM1\n",
       "Cutoff                                          \n",
       "10        5000535552    5035372032   12209556480"
      ]
     },
     "execution_count": 88,
     "metadata": {},
     "output_type": "execute_result"
    }
   ],
   "source": [
    "df_surf_vols_amira[df_surf_vols_amira.index==10][['MG48_rhs_vM1','MG49_rhs_vM1','MG50_rhs_vM1']]"
   ]
  },
  {
   "cell_type": "code",
   "execution_count": 89,
   "id": "ef28a8ff",
   "metadata": {},
   "outputs": [
    {
     "data": {
      "text/plain": [
       "(Cutoff\n",
       " 10    7.415155e+09\n",
       " dtype: float64,\n",
       " Cutoff\n",
       " 10    4.152110e+09\n",
       " dtype: float64,\n",
       " Cutoff\n",
       " 10    0.559949\n",
       " dtype: float64)"
      ]
     },
     "execution_count": 89,
     "metadata": {},
     "output_type": "execute_result"
    }
   ],
   "source": [
    "bla = df_surf_vols_amira[df_surf_vols_amira.index==10][['MG48_rhs_vM1','MG49_rhs_vM1','MG50_rhs_vM1']]\n",
    "bla.mean(axis=1),bla.std(axis=1),bla.std(axis=1)/bla.mean(axis=1),"
   ]
  },
  {
   "cell_type": "code",
   "execution_count": 90,
   "id": "347e2de9",
   "metadata": {},
   "outputs": [
    {
     "data": {
      "text/html": [
       "<div>\n",
       "<style scoped>\n",
       "    .dataframe tbody tr th:only-of-type {\n",
       "        vertical-align: middle;\n",
       "    }\n",
       "\n",
       "    .dataframe tbody tr th {\n",
       "        vertical-align: top;\n",
       "    }\n",
       "\n",
       "    .dataframe thead th {\n",
       "        text-align: right;\n",
       "    }\n",
       "</style>\n",
       "<table border=\"1\" class=\"dataframe\">\n",
       "  <thead>\n",
       "    <tr style=\"text-align: right;\">\n",
       "      <th></th>\n",
       "      <th>MG48_lhs_vS1</th>\n",
       "      <th>MG49_lhs_vS1</th>\n",
       "      <th>MG50_lhs_vS1</th>\n",
       "    </tr>\n",
       "    <tr>\n",
       "      <th>Cutoff</th>\n",
       "      <th></th>\n",
       "      <th></th>\n",
       "      <th></th>\n",
       "    </tr>\n",
       "  </thead>\n",
       "  <tbody>\n",
       "    <tr>\n",
       "      <th>10</th>\n",
       "      <td>8765255680</td>\n",
       "      <td>7920558080</td>\n",
       "      <td>9171564544</td>\n",
       "    </tr>\n",
       "  </tbody>\n",
       "</table>\n",
       "</div>"
      ],
      "text/plain": [
       "        MG48_lhs_vS1  MG49_lhs_vS1  MG50_lhs_vS1\n",
       "Cutoff                                          \n",
       "10        8765255680    7920558080    9171564544"
      ]
     },
     "execution_count": 90,
     "metadata": {},
     "output_type": "execute_result"
    }
   ],
   "source": [
    "df_surf_vols_amira[df_surf_vols_amira.index==10][['MG48_lhs_vS1','MG49_lhs_vS1','MG50_lhs_vS1']]"
   ]
  },
  {
   "cell_type": "code",
   "execution_count": 91,
   "id": "64f88c24",
   "metadata": {},
   "outputs": [
    {
     "data": {
      "text/plain": [
       "(Cutoff\n",
       " 10    8.619126e+09\n",
       " dtype: float64,\n",
       " Cutoff\n",
       " 10    6.381768e+08\n",
       " dtype: float64,\n",
       " Cutoff\n",
       " 10    0.074042\n",
       " dtype: float64)"
      ]
     },
     "execution_count": 91,
     "metadata": {},
     "output_type": "execute_result"
    }
   ],
   "source": [
    "bla = df_surf_vols_amira[df_surf_vols_amira.index==10][['MG48_lhs_vS1','MG49_lhs_vS1','MG50_lhs_vS1']]\n",
    "bla.mean(axis=1),bla.std(axis=1),bla.std(axis=1)/bla.mean(axis=1),"
   ]
  },
  {
   "cell_type": "code",
   "execution_count": 92,
   "id": "26b5805e",
   "metadata": {},
   "outputs": [
    {
     "data": {
      "text/html": [
       "<div>\n",
       "<style scoped>\n",
       "    .dataframe tbody tr th:only-of-type {\n",
       "        vertical-align: middle;\n",
       "    }\n",
       "\n",
       "    .dataframe tbody tr th {\n",
       "        vertical-align: top;\n",
       "    }\n",
       "\n",
       "    .dataframe thead th {\n",
       "        text-align: right;\n",
       "    }\n",
       "</style>\n",
       "<table border=\"1\" class=\"dataframe\">\n",
       "  <thead>\n",
       "    <tr style=\"text-align: right;\">\n",
       "      <th></th>\n",
       "      <th>MG48_rhs_vS1</th>\n",
       "      <th>MG49_rhs_vS1</th>\n",
       "      <th>MG50_rhs_vS1</th>\n",
       "    </tr>\n",
       "    <tr>\n",
       "      <th>Cutoff</th>\n",
       "      <th></th>\n",
       "      <th></th>\n",
       "      <th></th>\n",
       "    </tr>\n",
       "  </thead>\n",
       "  <tbody>\n",
       "    <tr>\n",
       "      <th>10</th>\n",
       "      <td>6777475072</td>\n",
       "      <td>978758912</td>\n",
       "      <td>6540527616</td>\n",
       "    </tr>\n",
       "  </tbody>\n",
       "</table>\n",
       "</div>"
      ],
      "text/plain": [
       "        MG48_rhs_vS1  MG49_rhs_vS1  MG50_rhs_vS1\n",
       "Cutoff                                          \n",
       "10        6777475072     978758912    6540527616"
      ]
     },
     "execution_count": 92,
     "metadata": {},
     "output_type": "execute_result"
    }
   ],
   "source": [
    "df_surf_vols_amira[df_surf_vols_amira.index==10][['MG48_rhs_vS1','MG49_rhs_vS1','MG50_rhs_vS1']]"
   ]
  },
  {
   "cell_type": "code",
   "execution_count": 93,
   "id": "f30558d0",
   "metadata": {},
   "outputs": [
    {
     "data": {
      "text/plain": [
       "(Cutoff\n",
       " 10    4.765587e+09\n",
       " dtype: float64,\n",
       " Cutoff\n",
       " 10    3.281629e+09\n",
       " dtype: float64,\n",
       " Cutoff\n",
       " 10    0.68861\n",
       " dtype: float64)"
      ]
     },
     "execution_count": 93,
     "metadata": {},
     "output_type": "execute_result"
    }
   ],
   "source": [
    "bla = df_surf_vols_amira[df_surf_vols_amira.index==10][['MG48_rhs_vS1','MG49_rhs_vS1','MG50_rhs_vS1']]\n",
    "bla.mean(axis=1),bla.std(axis=1),bla.std(axis=1)/bla.mean(axis=1),"
   ]
  },
  {
   "cell_type": "markdown",
   "id": "031e5a69",
   "metadata": {},
   "source": [
    "## Effect of density cutoff thersholds on clustering"
   ]
  },
  {
   "cell_type": "code",
   "execution_count": 94,
   "id": "f0ff8c98",
   "metadata": {},
   "outputs": [],
   "source": [
    "df_rabies_counts = pd.read_csv(input_path + 'Fig_1/Rabies_Distribution/Clustering/'+'landmarks_counts.csv',index_col=0)\n",
    "df_surf_areas = pd.read_csv(input_path + 'Fig_1/Rabies_Distribution/Clustering/'+'surf_areas.csv',index_col=0)\n",
    "df_surf_volumes_per = pd.read_csv(input_path + 'Fig_1/Rabies_Distribution/Clustering/'+'surf_volumes_from_amira_per.csv',index_col=0)\n"
   ]
  },
  {
   "cell_type": "code",
   "execution_count": 95,
   "id": "8db66329",
   "metadata": {
    "scrolled": false
   },
   "outputs": [
    {
     "data": {
      "image/png": "[encoded data removed]",
      "text/plain": [
       "<Figure size 850.394x330.709 with 2 Axes>"
      ]
     },
     "metadata": {
      "needs_background": "light"
     },
     "output_type": "display_data"
    }
   ],
   "source": [
    "df_counts = df_rabies_counts.filter(regex='per').transpose()\n",
    "df_surfs = df_surf_areas.filter(regex='per').transpose()\n",
    "fig, axes = plt.subplots(nrows=1,ncols=2, sharex=True,sharey=True,figsize=(18*cm,7*cm),dpi=120)\n",
    "b1 = axes[0].boxplot(df_counts[df_counts.columns[::-1]])\n",
    "eb2 = axes[0].errorbar(x=[1,2,3,4,5,6,7,8,9,10,11],y=np.array(df_counts[df_counts.columns[::-1]].transpose()).mean(axis=1),yerr=np.array(df_counts[df_counts.columns[::-1]].transpose()).std(axis=1),\\\n",
    "             color='blue',marker='.',fmt='.')\n",
    "b2 = axes[1].boxplot(df_surfs[df_surfs.columns[::-1]])\n",
    "eb2 = axes[1].errorbar(x=[1,2,3,4,5,6,7,8,9,10,11],y=np.array(df_surfs[df_surfs.columns[::-1]].transpose()).mean(axis=1),yerr=np.array(df_surfs[df_surfs.columns[::-1]].transpose()).std(axis=1),\\\n",
    "             color='blue',marker='.',fmt='.')\n",
    "plt.setp(b1['boxes'], color='black')\n",
    "plt.setp(b1['whiskers'], color='black')\n",
    "plt.setp(b1['medians'], color='black')\n",
    "plt.setp(b1['caps'], color='black')\n",
    "plt.setp(b2['boxes'], color='black')\n",
    "plt.setp(b2['whiskers'], color='black')\n",
    "plt.setp(b2['medians'], color='black')\n",
    "plt.setp(b2['caps'], color='black')\n",
    "\n",
    "fig.savefig(input_path + 'Fig_1/Rabies_Distribution/Clustering/density_cutoffs.eps')"
   ]
  },
  {
   "cell_type": "code",
   "execution_count": 96,
   "id": "58e274f0",
   "metadata": {},
   "outputs": [
    {
     "data": {
      "text/plain": [
       "(Cutoff\n",
       " 0      100.000000\n",
       " 10      78.972736\n",
       " 20      61.044467\n",
       " 30      52.317847\n",
       " 40      35.613992\n",
       " 50      30.848289\n",
       " 60      20.047840\n",
       " 70      15.788484\n",
       " 80      15.332909\n",
       " 90      12.629794\n",
       " 100     11.061912\n",
       " dtype: float64,\n",
       " Cutoff\n",
       " 0       0.000000\n",
       " 10     13.959851\n",
       " 20     21.806309\n",
       " 30     18.581325\n",
       " 40     12.173787\n",
       " 50     12.421827\n",
       " 60      9.206613\n",
       " 70      7.951789\n",
       " 80      7.135830\n",
       " 90      5.902816\n",
       " 100     5.772488\n",
       " dtype: float64,\n",
       " Cutoff\n",
       " 0      0.000000\n",
       " 10     0.176768\n",
       " 20     0.357220\n",
       " 30     0.355162\n",
       " 40     0.341826\n",
       " 50     0.402675\n",
       " 60     0.459232\n",
       " 70     0.503645\n",
       " 80     0.465393\n",
       " 90     0.467372\n",
       " 100    0.521835\n",
       " dtype: float64)"
      ]
     },
     "execution_count": 96,
     "metadata": {},
     "output_type": "execute_result"
    }
   ],
   "source": [
    "df_counts[df_counts.columns[::-1]].mean(),df_counts[df_counts.columns[::-1]].std(),df_counts[df_counts.columns[::-1]].std()/df_counts[df_counts.columns[::-1]].mean()"
   ]
  },
  {
   "cell_type": "code",
   "execution_count": 97,
   "id": "7bf3d51d",
   "metadata": {},
   "outputs": [
    {
     "data": {
      "text/plain": [
       "(Cutoff\n",
       " 0      100.000000\n",
       " 10      43.652848\n",
       " 20      26.505614\n",
       " 30      20.498617\n",
       " 40      10.416689\n",
       " 50       8.327781\n",
       " 60       4.837567\n",
       " 70       3.024383\n",
       " 80       2.952427\n",
       " 90       2.244578\n",
       " 100      2.007696\n",
       " dtype: float64,\n",
       " Cutoff\n",
       " 0       0.000000\n",
       " 10     16.398099\n",
       " 20     16.109189\n",
       " 30     15.614610\n",
       " 40      4.843768\n",
       " 50      5.562739\n",
       " 60      4.200960\n",
       " 70      1.617775\n",
       " 80      1.555020\n",
       " 90      1.361272\n",
       " 100     1.413926\n",
       " dtype: float64,\n",
       " Cutoff\n",
       " 0      0.000000\n",
       " 10     0.375648\n",
       " 20     0.607765\n",
       " 30     0.761740\n",
       " 40     0.465001\n",
       " 50     0.667974\n",
       " 60     0.868403\n",
       " 70     0.534911\n",
       " 80     0.526692\n",
       " 90     0.606471\n",
       " 100    0.704253\n",
       " dtype: float64)"
      ]
     },
     "execution_count": 97,
     "metadata": {},
     "output_type": "execute_result"
    }
   ],
   "source": [
    "df_surfs[df_surfs.columns[::-1]].mean(),df_surfs[df_surfs.columns[::-1]].std(),df_surfs[df_surfs.columns[::-1]].std()/df_surfs[df_surfs.columns[::-1]].mean()"
   ]
  },
  {
   "cell_type": "markdown",
   "id": "45c1e0c7",
   "metadata": {},
   "source": [
    "# Rabies Distribution in Atlas"
   ]
  },
  {
   "cell_type": "code",
   "execution_count": 98,
   "id": "8c862de1",
   "metadata": {
    "scrolled": true
   },
   "outputs": [],
   "source": [
    "df_atlas = pd.read_csv(input_path + 'Fig_1/Rabies_Distribution/Atlas/'+'Atlas_Counts_per.csv',index_col=0)\n",
    "df_atlas_clustered = pd.read_csv(input_path + 'Fig_1/Rabies_Distribution/Atlas_Clustered/'+'Atlas_Counts_per.csv',index_col=0)\n",
    "df = df_atlas_clustered"
   ]
  },
  {
   "cell_type": "code",
   "execution_count": 99,
   "id": "071f574a",
   "metadata": {
    "scrolled": true
   },
   "outputs": [
    {
     "data": {
      "text/plain": [
       "Index(['M1', 'M2', 'S1_ULp', 'SBF', 'S2', 'S1_fl', 'Insular', 'Others'], dtype='object', name='Atlas_Region')"
      ]
     },
     "execution_count": 99,
     "metadata": {},
     "output_type": "execute_result"
    }
   ],
   "source": [
    "df_atlas_clustered.index"
   ]
  },
  {
   "cell_type": "code",
   "execution_count": 100,
   "id": "ec3779e6",
   "metadata": {
    "scrolled": false
   },
   "outputs": [
    {
     "data": {
      "image/png": "[encoded data removed]",
      "text/plain": [
       "<Figure size 850.394x330.709 with 2 Axes>"
      ]
     },
     "metadata": {
      "needs_background": "light"
     },
     "output_type": "display_data"
    }
   ],
   "source": [
    "df_lhs = df[['lhs_MG48','lhs_MG49','lhs_MG50']]\n",
    "df_rhs = df[['rhs_MG48','rhs_MG49','rhs_MG50']]\n",
    "#df_lhs.mean(axis=1),df_lhs.std(axis=1),df_rhs.mean(axis=1),df_rhs.std(axis=1)\n",
    "\n",
    "#df = pd.DataFrame()\n",
    "#df = df.append(df_lhs)\n",
    "#df = df.append(df_rhs)\n",
    "#df_lhs.transpose().plot(kind='box', stacked=True)\n",
    "#df_rhs.transpose().plot(kind='box', stacked=True)\n",
    "#axes.boxplot(df_lhs.transpose(),)\n",
    "#axes.boxplot(df_rhs.transpose())\n",
    "#axes.set_edgecolor('red')\n",
    "fig, axes = plt.subplots(nrows=1,ncols=2, sharex=True,sharey=True,figsize=(18*cm,7*cm),dpi=120)\n",
    "#axes.errorbar(df_lhs.index.values,df_lhs.transpose().mean(axis=0),yerr=df_lhs.transpose().std(axis=0))\n",
    "#axes.errorbar(df_rhs.index.values,df_rhs.transpose().mean(axis=0),yerr=df_rhs.transpose().std(axis=0))\n",
    "b1 = axes[0].boxplot(df_lhs.transpose())\n",
    "eb1 = axes[0].errorbar(x=[1,2,3,4,5,6,7,8],y=np.array(df_lhs).mean(axis=1),yerr=np.array(df_lhs).std(axis=1),\\\n",
    "             color='blue',marker='.',fmt='.')\n",
    "plt.setp(b1['boxes'], color='black')\n",
    "plt.setp(b1['whiskers'], color='black')\n",
    "plt.setp(b1['medians'], color='black')\n",
    "plt.setp(b1['caps'], color='black')\n",
    "\n",
    "b2 = axes[1].boxplot(df_rhs.transpose())\n",
    "eb2 = axes[1].errorbar(x=[1,2,3,4,5,6,7,8],y=np.array(df_rhs).mean(axis=1),yerr=np.array(df_rhs).std(axis=1),\\\n",
    "             color='blue',marker='.',fmt='.')\n",
    "plt.setp(b2['boxes'], color='black')\n",
    "plt.setp(b2['whiskers'], color='black')\n",
    "plt.setp(b2['medians'], color='black')\n",
    "plt.setp(b2['caps'], color='black')\n",
    "\n",
    "fig.savefig(input_path + 'Fig_1/Rabies_Distribution/Atlas_Clustered/atlas_counts.eps')"
   ]
  },
  {
   "cell_type": "code",
   "execution_count": 101,
   "id": "21d74f36",
   "metadata": {},
   "outputs": [
    {
     "data": {
      "text/plain": [
       "(Atlas_Region\n",
       " M1         30.680840\n",
       " M2          9.421677\n",
       " S1_ULp     10.981062\n",
       " SBF        16.776272\n",
       " S2          6.984500\n",
       " S1_fl       1.936321\n",
       " Insular     3.236422\n",
       " Others     19.982906\n",
       " dtype: float64,\n",
       " Atlas_Region\n",
       " M1         5.633135\n",
       " M2         5.020520\n",
       " S1_ULp     0.169554\n",
       " SBF        9.290977\n",
       " S2         0.469766\n",
       " S1_fl      2.059179\n",
       " Insular    2.252403\n",
       " Others     6.977257\n",
       " dtype: float64,\n",
       " Atlas_Region\n",
       " M1         0.183604\n",
       " M2         0.532869\n",
       " S1_ULp     0.015441\n",
       " SBF        0.553817\n",
       " S2         0.067258\n",
       " S1_fl      1.063449\n",
       " Insular    0.695955\n",
       " Others     0.349161\n",
       " dtype: float64)"
      ]
     },
     "execution_count": 101,
     "metadata": {},
     "output_type": "execute_result"
    }
   ],
   "source": [
    "df_lhs.mean(axis=1),df_lhs.std(axis=1),df_lhs.std(axis=1)/df_lhs.mean(axis=1)"
   ]
  },
  {
   "cell_type": "code",
   "execution_count": 102,
   "id": "a534d55f",
   "metadata": {},
   "outputs": [
    {
     "data": {
      "text/plain": [
       "(Atlas_Region\n",
       " M1         33.224430\n",
       " M2         13.061121\n",
       " S1_ULp      4.231139\n",
       " SBF         2.077323\n",
       " S2          5.767550\n",
       " S1_fl       1.612903\n",
       " Insular    20.864665\n",
       " Others     19.160868\n",
       " dtype: float64,\n",
       " Atlas_Region\n",
       " M1         13.159230\n",
       " M2         10.152341\n",
       " S1_ULp      3.790582\n",
       " SBF         3.482277\n",
       " S2          6.124294\n",
       " S1_fl       2.793630\n",
       " Insular     9.460580\n",
       " Others      6.298316\n",
       " dtype: float64,\n",
       " Atlas_Region\n",
       " M1         0.396071\n",
       " M2         0.777295\n",
       " S1_ULp     0.895877\n",
       " SBF        1.676329\n",
       " S2         1.061854\n",
       " S1_fl      1.732051\n",
       " Insular    0.453426\n",
       " Others     0.328707\n",
       " dtype: float64)"
      ]
     },
     "execution_count": 102,
     "metadata": {},
     "output_type": "execute_result"
    }
   ],
   "source": [
    "df_rhs.mean(axis=1),df_rhs.std(axis=1),df_rhs.std(axis=1)/df_rhs.mean(axis=1)"
   ]
  },
  {
   "cell_type": "markdown",
   "id": "5cb868ed",
   "metadata": {},
   "source": [
    "# Variability"
   ]
  },
  {
   "cell_type": "code",
   "execution_count": 103,
   "id": "f20d7366",
   "metadata": {},
   "outputs": [],
   "source": [
    "df = pd.read_csv(input_path + 'Fig_1/Rabies_Distribution/Variability/'+'variability.csv',index_col=0)"
   ]
  },
  {
   "cell_type": "code",
   "execution_count": 104,
   "id": "e37d1145",
   "metadata": {
    "scrolled": true
   },
   "outputs": [
    {
     "data": {
      "text/html": [
       "<div>\n",
       "<style scoped>\n",
       "    .dataframe tbody tr th:only-of-type {\n",
       "        vertical-align: middle;\n",
       "    }\n",
       "\n",
       "    .dataframe tbody tr th {\n",
       "        vertical-align: top;\n",
       "    }\n",
       "\n",
       "    .dataframe thead th {\n",
       "        text-align: right;\n",
       "    }\n",
       "</style>\n",
       "<table border=\"1\" class=\"dataframe\">\n",
       "  <thead>\n",
       "    <tr style=\"text-align: right;\">\n",
       "      <th></th>\n",
       "      <th>Hem</th>\n",
       "      <th>BR</th>\n",
       "      <th>rabies_surf_area</th>\n",
       "      <th>surf_area</th>\n",
       "      <th>rabies_surf_vol</th>\n",
       "      <th>surf_vol</th>\n",
       "      <th>pia_surf_area</th>\n",
       "      <th>wm_surf_area</th>\n",
       "      <th>pca0_extent</th>\n",
       "      <th>pca1_extent</th>\n",
       "      <th>...</th>\n",
       "      <th>pca0_angle_Z_axis</th>\n",
       "      <th>pca1_angle_X_axis</th>\n",
       "      <th>pca1_angle_Y_axis</th>\n",
       "      <th>pca1_angle_Z_axis</th>\n",
       "      <th>pca2_angle_X_axis</th>\n",
       "      <th>pca2_angle_Y_axis</th>\n",
       "      <th>pca2_angle_Z_axis</th>\n",
       "      <th>Dist_From_Bregma_X</th>\n",
       "      <th>Dist_From_Bregma_Y</th>\n",
       "      <th>Dist_From_Bregma_Z</th>\n",
       "    </tr>\n",
       "    <tr>\n",
       "      <th>Exp</th>\n",
       "      <th></th>\n",
       "      <th></th>\n",
       "      <th></th>\n",
       "      <th></th>\n",
       "      <th></th>\n",
       "      <th></th>\n",
       "      <th></th>\n",
       "      <th></th>\n",
       "      <th></th>\n",
       "      <th></th>\n",
       "      <th></th>\n",
       "      <th></th>\n",
       "      <th></th>\n",
       "      <th></th>\n",
       "      <th></th>\n",
       "      <th></th>\n",
       "      <th></th>\n",
       "      <th></th>\n",
       "      <th></th>\n",
       "      <th></th>\n",
       "      <th></th>\n",
       "    </tr>\n",
       "  </thead>\n",
       "  <tbody>\n",
       "    <tr>\n",
       "      <th>MG48</th>\n",
       "      <td>lhs</td>\n",
       "      <td>vM1</td>\n",
       "      <td>3.864979e+07</td>\n",
       "      <td>5.949542e+07</td>\n",
       "      <td>9.998786e+09</td>\n",
       "      <td>2.933011e+10</td>\n",
       "      <td>3.405203e+07</td>\n",
       "      <td>7.648197e+06</td>\n",
       "      <td>5495.218316</td>\n",
       "      <td>2438.709082</td>\n",
       "      <td>...</td>\n",
       "      <td>130.450097</td>\n",
       "      <td>13.544005</td>\n",
       "      <td>76.455995</td>\n",
       "      <td>170.874873</td>\n",
       "      <td>95.607085</td>\n",
       "      <td>5.607085</td>\n",
       "      <td>41.621342</td>\n",
       "      <td>2108.854392</td>\n",
       "      <td>3243.377530</td>\n",
       "      <td>2762.964212</td>\n",
       "    </tr>\n",
       "    <tr>\n",
       "      <th>MG49</th>\n",
       "      <td>lhs</td>\n",
       "      <td>vM1</td>\n",
       "      <td>3.100946e+07</td>\n",
       "      <td>5.446138e+07</td>\n",
       "      <td>8.817117e+09</td>\n",
       "      <td>2.770998e+10</td>\n",
       "      <td>3.153497e+07</td>\n",
       "      <td>6.590995e+06</td>\n",
       "      <td>4363.242266</td>\n",
       "      <td>2817.266806</td>\n",
       "      <td>...</td>\n",
       "      <td>124.009155</td>\n",
       "      <td>2.757566</td>\n",
       "      <td>87.242434</td>\n",
       "      <td>168.582760</td>\n",
       "      <td>88.529888</td>\n",
       "      <td>1.470112</td>\n",
       "      <td>34.622195</td>\n",
       "      <td>2231.130414</td>\n",
       "      <td>3088.905952</td>\n",
       "      <td>2745.502601</td>\n",
       "    </tr>\n",
       "    <tr>\n",
       "      <th>MG50</th>\n",
       "      <td>lhs</td>\n",
       "      <td>vM1</td>\n",
       "      <td>4.487086e+07</td>\n",
       "      <td>6.644812e+07</td>\n",
       "      <td>1.073652e+10</td>\n",
       "      <td>3.424272e+10</td>\n",
       "      <td>3.756157e+07</td>\n",
       "      <td>1.037292e+07</td>\n",
       "      <td>5190.418578</td>\n",
       "      <td>3059.023762</td>\n",
       "      <td>...</td>\n",
       "      <td>125.523610</td>\n",
       "      <td>8.952160</td>\n",
       "      <td>81.047840</td>\n",
       "      <td>6.103461</td>\n",
       "      <td>102.546421</td>\n",
       "      <td>12.546421</td>\n",
       "      <td>35.552018</td>\n",
       "      <td>2210.779601</td>\n",
       "      <td>2989.982653</td>\n",
       "      <td>2677.345192</td>\n",
       "    </tr>\n",
       "    <tr>\n",
       "      <th>MG48</th>\n",
       "      <td>rhs</td>\n",
       "      <td>vM1</td>\n",
       "      <td>4.027432e+07</td>\n",
       "      <td>5.095105e+07</td>\n",
       "      <td>8.319941e+09</td>\n",
       "      <td>2.491589e+10</td>\n",
       "      <td>2.965448e+07</td>\n",
       "      <td>4.680838e+06</td>\n",
       "      <td>4566.534440</td>\n",
       "      <td>2312.278507</td>\n",
       "      <td>...</td>\n",
       "      <td>117.988712</td>\n",
       "      <td>170.214887</td>\n",
       "      <td>80.214887</td>\n",
       "      <td>8.778636</td>\n",
       "      <td>85.023098</td>\n",
       "      <td>4.976902</td>\n",
       "      <td>28.937604</td>\n",
       "      <td>2382.954455</td>\n",
       "      <td>3379.329850</td>\n",
       "      <td>2839.165783</td>\n",
       "    </tr>\n",
       "    <tr>\n",
       "      <th>MG49</th>\n",
       "      <td>rhs</td>\n",
       "      <td>vM1</td>\n",
       "      <td>2.457457e+07</td>\n",
       "      <td>4.002189e+07</td>\n",
       "      <td>8.473321e+09</td>\n",
       "      <td>1.525190e+10</td>\n",
       "      <td>1.924605e+07</td>\n",
       "      <td>4.796520e+06</td>\n",
       "      <td>3853.662749</td>\n",
       "      <td>1645.224640</td>\n",
       "      <td>...</td>\n",
       "      <td>94.926912</td>\n",
       "      <td>175.890868</td>\n",
       "      <td>85.890868</td>\n",
       "      <td>30.609510</td>\n",
       "      <td>87.485591</td>\n",
       "      <td>2.514409</td>\n",
       "      <td>2.115601</td>\n",
       "      <td>2285.709061</td>\n",
       "      <td>3883.483915</td>\n",
       "      <td>3213.812551</td>\n",
       "    </tr>\n",
       "    <tr>\n",
       "      <th>MG50</th>\n",
       "      <td>rhs</td>\n",
       "      <td>vM1</td>\n",
       "      <td>4.538989e+07</td>\n",
       "      <td>7.190225e+07</td>\n",
       "      <td>1.220956e+10</td>\n",
       "      <td>3.769797e+10</td>\n",
       "      <td>4.467729e+07</td>\n",
       "      <td>1.128978e+07</td>\n",
       "      <td>4991.162955</td>\n",
       "      <td>2963.189153</td>\n",
       "      <td>...</td>\n",
       "      <td>109.686205</td>\n",
       "      <td>166.053442</td>\n",
       "      <td>76.053442</td>\n",
       "      <td>21.252799</td>\n",
       "      <td>90.253644</td>\n",
       "      <td>0.253644</td>\n",
       "      <td>21.421980</td>\n",
       "      <td>2627.218475</td>\n",
       "      <td>2788.760230</td>\n",
       "      <td>2462.813891</td>\n",
       "    </tr>\n",
       "    <tr>\n",
       "      <th>MG48</th>\n",
       "      <td>lhs</td>\n",
       "      <td>vS1</td>\n",
       "      <td>3.517157e+07</td>\n",
       "      <td>7.991888e+07</td>\n",
       "      <td>8.765256e+09</td>\n",
       "      <td>2.227071e+10</td>\n",
       "      <td>3.345650e+07</td>\n",
       "      <td>3.569468e+07</td>\n",
       "      <td>4670.086117</td>\n",
       "      <td>3047.370760</td>\n",
       "      <td>...</td>\n",
       "      <td>125.021209</td>\n",
       "      <td>59.618737</td>\n",
       "      <td>30.381263</td>\n",
       "      <td>32.448471</td>\n",
       "      <td>160.362035</td>\n",
       "      <td>70.362035</td>\n",
       "      <td>160.158370</td>\n",
       "      <td>4810.509570</td>\n",
       "      <td>-1019.393555</td>\n",
       "      <td>3584.832360</td>\n",
       "    </tr>\n",
       "    <tr>\n",
       "      <th>MG49</th>\n",
       "      <td>lhs</td>\n",
       "      <td>vS1</td>\n",
       "      <td>3.440360e+07</td>\n",
       "      <td>5.075986e+07</td>\n",
       "      <td>7.920558e+09</td>\n",
       "      <td>2.250900e+10</td>\n",
       "      <td>1.796299e+07</td>\n",
       "      <td>9.505442e+06</td>\n",
       "      <td>3733.429637</td>\n",
       "      <td>3224.832867</td>\n",
       "      <td>...</td>\n",
       "      <td>117.787791</td>\n",
       "      <td>56.662826</td>\n",
       "      <td>33.337174</td>\n",
       "      <td>17.305465</td>\n",
       "      <td>160.358336</td>\n",
       "      <td>70.358336</td>\n",
       "      <td>138.652532</td>\n",
       "      <td>4607.222303</td>\n",
       "      <td>-290.536024</td>\n",
       "      <td>3648.417585</td>\n",
       "    </tr>\n",
       "    <tr>\n",
       "      <th>MG50</th>\n",
       "      <td>lhs</td>\n",
       "      <td>vS1</td>\n",
       "      <td>3.654979e+07</td>\n",
       "      <td>6.439866e+07</td>\n",
       "      <td>1.155127e+10</td>\n",
       "      <td>3.034522e+10</td>\n",
       "      <td>2.672434e+07</td>\n",
       "      <td>1.409410e+07</td>\n",
       "      <td>4993.667943</td>\n",
       "      <td>3630.501278</td>\n",
       "      <td>...</td>\n",
       "      <td>130.446944</td>\n",
       "      <td>52.095473</td>\n",
       "      <td>37.904527</td>\n",
       "      <td>34.382812</td>\n",
       "      <td>166.764675</td>\n",
       "      <td>76.764675</td>\n",
       "      <td>153.548737</td>\n",
       "      <td>4615.292784</td>\n",
       "      <td>-860.982242</td>\n",
       "      <td>3333.408306</td>\n",
       "    </tr>\n",
       "    <tr>\n",
       "      <th>MG48</th>\n",
       "      <td>rhs</td>\n",
       "      <td>vS1</td>\n",
       "      <td>3.642832e+07</td>\n",
       "      <td>5.875139e+07</td>\n",
       "      <td>5.389144e+09</td>\n",
       "      <td>2.025440e+10</td>\n",
       "      <td>3.147497e+07</td>\n",
       "      <td>1.746175e+07</td>\n",
       "      <td>3855.213838</td>\n",
       "      <td>2663.134437</td>\n",
       "      <td>...</td>\n",
       "      <td>110.233981</td>\n",
       "      <td>86.120410</td>\n",
       "      <td>3.879590</td>\n",
       "      <td>18.424177</td>\n",
       "      <td>5.416217</td>\n",
       "      <td>84.583783</td>\n",
       "      <td>153.978686</td>\n",
       "      <td>5369.017905</td>\n",
       "      <td>-1163.679269</td>\n",
       "      <td>5010.493602</td>\n",
       "    </tr>\n",
       "    <tr>\n",
       "      <th>MG49</th>\n",
       "      <td>rhs</td>\n",
       "      <td>vS1</td>\n",
       "      <td>7.360863e+06</td>\n",
       "      <td>8.591115e+06</td>\n",
       "      <td>9.787589e+08</td>\n",
       "      <td>1.421633e+09</td>\n",
       "      <td>1.872575e+06</td>\n",
       "      <td>6.059152e+05</td>\n",
       "      <td>1631.573866</td>\n",
       "      <td>1442.449528</td>\n",
       "      <td>...</td>\n",
       "      <td>121.481232</td>\n",
       "      <td>101.552473</td>\n",
       "      <td>11.552473</td>\n",
       "      <td>7.722050</td>\n",
       "      <td>0.068894</td>\n",
       "      <td>89.931106</td>\n",
       "      <td>136.819901</td>\n",
       "      <td>5290.379033</td>\n",
       "      <td>-1274.961181</td>\n",
       "      <td>6123.180491</td>\n",
       "    </tr>\n",
       "    <tr>\n",
       "      <th>MG50</th>\n",
       "      <td>rhs</td>\n",
       "      <td>vS1</td>\n",
       "      <td>2.953847e+07</td>\n",
       "      <td>6.121407e+07</td>\n",
       "      <td>6.540527e+09</td>\n",
       "      <td>2.753162e+10</td>\n",
       "      <td>2.593566e+07</td>\n",
       "      <td>1.260094e+07</td>\n",
       "      <td>5237.160116</td>\n",
       "      <td>3096.969710</td>\n",
       "      <td>...</td>\n",
       "      <td>74.921986</td>\n",
       "      <td>110.241371</td>\n",
       "      <td>20.241371</td>\n",
       "      <td>166.212065</td>\n",
       "      <td>20.395848</td>\n",
       "      <td>69.604152</td>\n",
       "      <td>1.236915</td>\n",
       "      <td>5196.967151</td>\n",
       "      <td>-685.370806</td>\n",
       "      <td>5292.105781</td>\n",
       "    </tr>\n",
       "  </tbody>\n",
       "</table>\n",
       "<p>12 rows × 23 columns</p>\n",
       "</div>"
      ],
      "text/plain": [
       "      Hem   BR  rabies_surf_area     surf_area  rabies_surf_vol      surf_vol  \\\n",
       "Exp                                                                             \n",
       "MG48  lhs  vM1      3.864979e+07  5.949542e+07     9.998786e+09  2.933011e+10   \n",
       "MG49  lhs  vM1      3.100946e+07  5.446138e+07     8.817117e+09  2.770998e+10   \n",
       "MG50  lhs  vM1      4.487086e+07  6.644812e+07     1.073652e+10  3.424272e+10   \n",
       "MG48  rhs  vM1      4.027432e+07  5.095105e+07     8.319941e+09  2.491589e+10   \n",
       "MG49  rhs  vM1      2.457457e+07  4.002189e+07     8.473321e+09  1.525190e+10   \n",
       "MG50  rhs  vM1      4.538989e+07  7.190225e+07     1.220956e+10  3.769797e+10   \n",
       "MG48  lhs  vS1      3.517157e+07  7.991888e+07     8.765256e+09  2.227071e+10   \n",
       "MG49  lhs  vS1      3.440360e+07  5.075986e+07     7.920558e+09  2.250900e+10   \n",
       "MG50  lhs  vS1      3.654979e+07  6.439866e+07     1.155127e+10  3.034522e+10   \n",
       "MG48  rhs  vS1      3.642832e+07  5.875139e+07     5.389144e+09  2.025440e+10   \n",
       "MG49  rhs  vS1      7.360863e+06  8.591115e+06     9.787589e+08  1.421633e+09   \n",
       "MG50  rhs  vS1      2.953847e+07  6.121407e+07     6.540527e+09  2.753162e+10   \n",
       "\n",
       "      pia_surf_area  wm_surf_area  pca0_extent  pca1_extent  ...  \\\n",
       "Exp                                                          ...   \n",
       "MG48   3.405203e+07  7.648197e+06  5495.218316  2438.709082  ...   \n",
       "MG49   3.153497e+07  6.590995e+06  4363.242266  2817.266806  ...   \n",
       "MG50   3.756157e+07  1.037292e+07  5190.418578  3059.023762  ...   \n",
       "MG48   2.965448e+07  4.680838e+06  4566.534440  2312.278507  ...   \n",
       "MG49   1.924605e+07  4.796520e+06  3853.662749  1645.224640  ...   \n",
       "MG50   4.467729e+07  1.128978e+07  4991.162955  2963.189153  ...   \n",
       "MG48   3.345650e+07  3.569468e+07  4670.086117  3047.370760  ...   \n",
       "MG49   1.796299e+07  9.505442e+06  3733.429637  3224.832867  ...   \n",
       "MG50   2.672434e+07  1.409410e+07  4993.667943  3630.501278  ...   \n",
       "MG48   3.147497e+07  1.746175e+07  3855.213838  2663.134437  ...   \n",
       "MG49   1.872575e+06  6.059152e+05  1631.573866  1442.449528  ...   \n",
       "MG50   2.593566e+07  1.260094e+07  5237.160116  3096.969710  ...   \n",
       "\n",
       "      pca0_angle_Z_axis  pca1_angle_X_axis  pca1_angle_Y_axis  \\\n",
       "Exp                                                             \n",
       "MG48         130.450097          13.544005          76.455995   \n",
       "MG49         124.009155           2.757566          87.242434   \n",
       "MG50         125.523610           8.952160          81.047840   \n",
       "MG48         117.988712         170.214887          80.214887   \n",
       "MG49          94.926912         175.890868          85.890868   \n",
       "MG50         109.686205         166.053442          76.053442   \n",
       "MG48         125.021209          59.618737          30.381263   \n",
       "MG49         117.787791          56.662826          33.337174   \n",
       "MG50         130.446944          52.095473          37.904527   \n",
       "MG48         110.233981          86.120410           3.879590   \n",
       "MG49         121.481232         101.552473          11.552473   \n",
       "MG50          74.921986         110.241371          20.241371   \n",
       "\n",
       "      pca1_angle_Z_axis  pca2_angle_X_axis  pca2_angle_Y_axis  \\\n",
       "Exp                                                             \n",
       "MG48         170.874873          95.607085           5.607085   \n",
       "MG49         168.582760          88.529888           1.470112   \n",
       "MG50           6.103461         102.546421          12.546421   \n",
       "MG48           8.778636          85.023098           4.976902   \n",
       "MG49          30.609510          87.485591           2.514409   \n",
       "MG50          21.252799          90.253644           0.253644   \n",
       "MG48          32.448471         160.362035          70.362035   \n",
       "MG49          17.305465         160.358336          70.358336   \n",
       "MG50          34.382812         166.764675          76.764675   \n",
       "MG48          18.424177           5.416217          84.583783   \n",
       "MG49           7.722050           0.068894          89.931106   \n",
       "MG50         166.212065          20.395848          69.604152   \n",
       "\n",
       "      pca2_angle_Z_axis  Dist_From_Bregma_X  Dist_From_Bregma_Y  \\\n",
       "Exp                                                               \n",
       "MG48          41.621342         2108.854392         3243.377530   \n",
       "MG49          34.622195         2231.130414         3088.905952   \n",
       "MG50          35.552018         2210.779601         2989.982653   \n",
       "MG48          28.937604         2382.954455         3379.329850   \n",
       "MG49           2.115601         2285.709061         3883.483915   \n",
       "MG50          21.421980         2627.218475         2788.760230   \n",
       "MG48         160.158370         4810.509570        -1019.393555   \n",
       "MG49         138.652532         4607.222303         -290.536024   \n",
       "MG50         153.548737         4615.292784         -860.982242   \n",
       "MG48         153.978686         5369.017905        -1163.679269   \n",
       "MG49         136.819901         5290.379033        -1274.961181   \n",
       "MG50           1.236915         5196.967151         -685.370806   \n",
       "\n",
       "      Dist_From_Bregma_Z  \n",
       "Exp                       \n",
       "MG48         2762.964212  \n",
       "MG49         2745.502601  \n",
       "MG50         2677.345192  \n",
       "MG48         2839.165783  \n",
       "MG49         3213.812551  \n",
       "MG50         2462.813891  \n",
       "MG48         3584.832360  \n",
       "MG49         3648.417585  \n",
       "MG50         3333.408306  \n",
       "MG48         5010.493602  \n",
       "MG49         6123.180491  \n",
       "MG50         5292.105781  \n",
       "\n",
       "[12 rows x 23 columns]"
      ]
     },
     "execution_count": 104,
     "metadata": {},
     "output_type": "execute_result"
    }
   ],
   "source": [
    "df"
   ]
  },
  {
   "cell_type": "code",
   "execution_count": 105,
   "id": "0f4d0f39",
   "metadata": {
    "scrolled": false
   },
   "outputs": [],
   "source": [
    "# surf areas and volumes\n",
    "df_lhs_vm1 = df[((df['Hem']=='lhs') & (df['BR']=='vM1'))]\n",
    "df_rhs_vm1 = df[((df['Hem']=='rhs') & (df['BR']=='vM1'))]\n",
    "df_lhs_vs1 = df[((df['Hem']=='lhs') & (df['BR']=='vS1'))]\n",
    "df_rhs_vs1 = df[((df['Hem']=='rhs') & (df['BR']=='vS1'))]"
   ]
  },
  {
   "cell_type": "code",
   "execution_count": 106,
   "id": "04341233",
   "metadata": {
    "scrolled": true
   },
   "outputs": [
    {
     "data": {
      "image/png": "[encoded data removed]",
      "text/plain": [
       "<Figure size 566.929x330.709 with 2 Axes>"
      ]
     },
     "metadata": {
      "needs_background": "light"
     },
     "output_type": "display_data"
    }
   ],
   "source": [
    "\n",
    "surf_areas = [df_lhs_vm1['surf_area'].values,df_rhs_vm1['surf_area'].values,df_lhs_vs1['surf_area'].values,df_rhs_vs1['surf_area'].values]\n",
    "pia_areas = [df_lhs_vm1['pia_surf_area'].values,df_rhs_vm1['pia_surf_area'].values,df_lhs_vs1['pia_surf_area'].values,df_rhs_vs1['pia_surf_area'].values]\n",
    "wm_areas = [df_lhs_vm1['wm_surf_area'].values,df_rhs_vm1['wm_surf_area'].values,df_lhs_vs1['wm_surf_area'].values,df_rhs_vs1['wm_surf_area'].values]\n",
    "\n",
    "\n",
    "fig, axes = plt.subplots(nrows=1,ncols=2, sharex=True,sharey=True,figsize=(12*cm,7*cm),dpi=120)\n",
    "b1 = axes[0].boxplot(surf_areas)\n",
    "eb1 = axes[0].errorbar(x=[1,2,3,4],y=np.array(surf_areas).mean(axis=1),yerr=np.array(surf_areas).std(axis=1),\\\n",
    "             color='blue',marker='.',fmt='.')\n",
    "b2 = axes[1].boxplot(pia_areas)\n",
    "eb2 = axes[1].errorbar(x=[1,2,3,4],y=np.array(pia_areas).mean(axis=1),yerr=np.array(pia_areas).std(axis=1),\\\n",
    "             color='blue',marker='.',fmt='.')\n",
    "#b3 = axes[2].boxplot(wm_areas)\n",
    "#eb3 = axes[2].errorbar(x=[1,2,3,4],y=np.array(wm_areas).mean(axis=1),yerr=np.array(wm_areas).std(axis=1),\\\n",
    "#             color='blue',marker='.',fmt='.')\n",
    "#b4 = axes[3].boxplot(surf_vols)\n",
    "\n",
    "plt.setp(b1['boxes'], color='black')\n",
    "plt.setp(b1['whiskers'], color='black')\n",
    "plt.setp(b1['medians'], color='black')\n",
    "plt.setp(b1['caps'], color='black')\n",
    "plt.setp(b2['boxes'], color='black')\n",
    "plt.setp(b2['whiskers'], color='black')\n",
    "plt.setp(b2['medians'], color='black')\n",
    "plt.setp(b2['caps'], color='black')\n",
    "#plt.setp(b3['boxes'], color='black')\n",
    "#plt.setp(b3['whiskers'], color='black')\n",
    "#plt.setp(b3['medians'], color='black')\n",
    "#plt.setp(b3['caps'], color='black')\n",
    "\n",
    "fig.savefig(input_path + 'Fig_1/Rabies_Distribution/variability/surf_areas.eps')"
   ]
  },
  {
   "cell_type": "code",
   "execution_count": 136,
   "id": "83da876f",
   "metadata": {},
   "outputs": [
    {
     "data": {
      "text/plain": [
       "[array([34052026.93275076, 31534973.0764531 , 37561573.11399295]),\n",
       " array([29654479.14723352, 19246054.16929449, 44677287.09167311]),\n",
       " array([33456498.92602595, 17962988.68771008, 26724336.97520298]),\n",
       " array([31474974.9543282 ,  1872575.08959188, 25935659.73541536])]"
      ]
     },
     "execution_count": 136,
     "metadata": {},
     "output_type": "execute_result"
    }
   ],
   "source": [
    "pia_areas"
   ]
  },
  {
   "cell_type": "code",
   "execution_count": 107,
   "id": "5ef797a4",
   "metadata": {},
   "outputs": [
    {
     "data": {
      "text/plain": [
       "(array([60134974.32372921, 54291731.92702731, 65025796.55837191,\n",
       "        42852192.23701403]),\n",
       " array([ 4914419.41713892, 13227734.75623022, 11912375.74921831,\n",
       "        24247092.5934162 ]),\n",
       " array([0.08172315, 0.24364179, 0.18319461, 0.56583086]))"
      ]
     },
     "execution_count": 107,
     "metadata": {},
     "output_type": "execute_result"
    }
   ],
   "source": [
    "np.array(surf_areas).mean(axis=1),np.array(surf_areas).std(axis=1),np.array(surf_areas).std(axis=1)/np.array(surf_areas).mean(axis=1)"
   ]
  },
  {
   "cell_type": "code",
   "execution_count": 108,
   "id": "26a9bbf6",
   "metadata": {},
   "outputs": [
    {
     "data": {
      "text/plain": [
       "(array([34382857.70773227, 31192606.80273371, 26047941.52964634,\n",
       "        19761069.92644515]),\n",
       " array([ 2471445.42786537, 10439070.18533514,  6343256.15517651,\n",
       "        12849635.24565877]),\n",
       " array([0.07188016, 0.33466489, 0.24352236, 0.65024998]))"
      ]
     },
     "execution_count": 108,
     "metadata": {},
     "output_type": "execute_result"
    }
   ],
   "source": [
    "np.array(pia_areas).mean(axis=1),np.array(pia_areas).std(axis=1),np.array(pia_areas).std(axis=1)/np.array(pia_areas).mean(axis=1)"
   ]
  },
  {
   "cell_type": "code",
   "execution_count": 109,
   "id": "39a6622b",
   "metadata": {
    "scrolled": true
   },
   "outputs": [
    {
     "data": {
      "text/plain": [
       "(array([ 8204036.0609121 ,  6922380.77612065, 19764739.79579503,\n",
       "        10222870.92297374]),\n",
       " array([ 1593203.8704809 ,  3088582.06154907, 11418876.31084508,\n",
       "         7083843.11825806]),\n",
       " array([0.19419757, 0.44617338, 0.57773977, 0.69294068]))"
      ]
     },
     "execution_count": 109,
     "metadata": {},
     "output_type": "execute_result"
    }
   ],
   "source": [
    "np.array(wm_areas).mean(axis=1),np.array(wm_areas).std(axis=1),np.array(wm_areas).std(axis=1)/np.array(wm_areas).mean(axis=1)"
   ]
  },
  {
   "cell_type": "code",
   "execution_count": 110,
   "id": "a0538271",
   "metadata": {
    "scrolled": false
   },
   "outputs": [
    {
     "data": {
      "image/png": "[encoded data removed]",
      "text/plain": [
       "<Figure size 283.465x330.709 with 1 Axes>"
      ]
     },
     "metadata": {
      "needs_background": "light"
     },
     "output_type": "display_data"
    }
   ],
   "source": [
    "surf_vols = [df_lhs_vm1['surf_vol'].values,df_rhs_vm1['surf_vol'].values,df_lhs_vs1['surf_vol'].values,df_rhs_vs1['surf_vol'].values]\n",
    "\n",
    "fig, axes = plt.subplots(nrows=1,ncols=1, sharex=True,sharey=True,figsize=(6*cm,7*cm),dpi=120)\n",
    "b1 = axes.boxplot(surf_vols)\n",
    "#print(b1)\n",
    "eb = axes.errorbar(x=[1,2,3,4],y=np.array(surf_vols).mean(axis=1),yerr=np.array(surf_vols).std(axis=1),\\\n",
    "             color='blue',marker='.',fmt='.')\n",
    "plt.setp(b1['boxes'], color='black')\n",
    "plt.setp(b1['whiskers'], color='black')\n",
    "plt.setp(b1['medians'], color='black')\n",
    "plt.setp(b1['caps'], color='black')\n",
    "plt.tight_layout()\n",
    "fig.savefig(input_path + 'Fig_1/Rabies_Distribution/variability/surf_vols.eps')"
   ]
  },
  {
   "cell_type": "code",
   "execution_count": 111,
   "id": "2d6a96be",
   "metadata": {},
   "outputs": [
    {
     "data": {
      "text/plain": [
       "(array([3.04276071e+10, 2.59552539e+10, 2.50416434e+10, 1.64025540e+10]),\n",
       " array([2.77759451e+09, 9.19299494e+09, 3.75145557e+09, 1.10018323e+10]),\n",
       " array([0.09128534, 0.35418628, 0.14980868, 0.67073898]))"
      ]
     },
     "execution_count": 111,
     "metadata": {},
     "output_type": "execute_result"
    }
   ],
   "source": [
    "np.array(surf_vols).mean(axis=1),np.array(surf_vols).std(axis=1),np.array(surf_vols).std(axis=1)/np.array(surf_vols).mean(axis=1)"
   ]
  },
  {
   "cell_type": "code",
   "execution_count": 112,
   "id": "c4ec7743",
   "metadata": {
    "scrolled": true
   },
   "outputs": [
    {
     "data": {
      "image/png": "[encoded data removed]",
      "text/plain": [
       "<Figure size 850.394x330.709 with 3 Axes>"
      ]
     },
     "metadata": {
      "needs_background": "light"
     },
     "output_type": "display_data"
    }
   ],
   "source": [
    "pca0_extent = [df_lhs_vm1['pca0_extent'].values,df_rhs_vm1['pca0_extent'].values,df_lhs_vs1['pca0_extent'].values,df_rhs_vs1['pca0_extent'].values]\n",
    "pca1_extent = [df_lhs_vm1['pca1_extent'].values,df_rhs_vm1['pca1_extent'].values,df_lhs_vs1['pca1_extent'].values,df_rhs_vs1['pca1_extent'].values]\n",
    "pca2_extent = [df_lhs_vm1['pca2_extent'].values,df_rhs_vm1['pca2_extent'].values,df_lhs_vs1['pca2_extent'].values,df_rhs_vs1['pca2_extent'].values]\n",
    "\n",
    "fig, axes = plt.subplots(nrows=1,ncols=3, sharex=True,sharey=True,figsize=(18*cm,7*cm),dpi=120)\n",
    "b1 = axes[0].boxplot(pca0_extent)\n",
    "eb1 = axes[0].errorbar(x=[1,2,3,4],y=np.array(pca0_extent).mean(axis=1),yerr=np.array(pca0_extent).std(axis=1),\\\n",
    "             color='blue',marker='.',fmt='.')\n",
    "b2 = axes[1].boxplot(pca1_extent)\n",
    "eb2 = axes[1].errorbar(x=[1,2,3,4],y=np.array(pca1_extent).mean(axis=1),yerr=np.array(pca1_extent).std(axis=1),\\\n",
    "             color='blue',marker='.',fmt='.')\n",
    "b3 = axes[2].boxplot(pca2_extent)\n",
    "eb3 = axes[2].errorbar(x=[1,2,3,4],y=np.array(pca2_extent).mean(axis=1),yerr=np.array(pca2_extent).std(axis=1),\\\n",
    "             color='blue',marker='.',fmt='.')\n",
    "\n",
    "plt.setp(b1['boxes'], color='black')\n",
    "plt.setp(b1['whiskers'], color='black')\n",
    "plt.setp(b1['medians'], color='black')\n",
    "plt.setp(b1['caps'], color='black')\n",
    "plt.setp(b2['boxes'], color='black')\n",
    "plt.setp(b2['whiskers'], color='black')\n",
    "plt.setp(b2['medians'], color='black')\n",
    "plt.setp(b2['caps'], color='black')\n",
    "plt.setp(b3['boxes'], color='black')\n",
    "plt.setp(b3['whiskers'], color='black')\n",
    "plt.setp(b3['medians'], color='black')\n",
    "plt.setp(b3['caps'], color='black')\n",
    "plt.tight_layout()\n",
    "fig.savefig(input_path + 'Fig_1/Rabies_Distribution/variability/pca_extents.eps')"
   ]
  },
  {
   "cell_type": "code",
   "execution_count": 113,
   "id": "7d0729e4",
   "metadata": {},
   "outputs": [
    {
     "data": {
      "text/plain": [
       "(array([5016.2930534 , 4470.45338165, 4465.72789911, 3574.64927344]),\n",
       " array([ 478.24834437,  469.32601095,  534.39801517, 1485.28345369]),\n",
       " array([0.095339  , 0.10498399, 0.1196665 , 0.41550467]))"
      ]
     },
     "execution_count": 113,
     "metadata": {},
     "output_type": "execute_result"
    }
   ],
   "source": [
    "np.array(pca0_extent).mean(axis=1),np.array(pca0_extent).std(axis=1),np.array(pca0_extent).std(axis=1)/np.array(pca0_extent).mean(axis=1)"
   ]
  },
  {
   "cell_type": "code",
   "execution_count": 114,
   "id": "b08954d1",
   "metadata": {},
   "outputs": [
    {
     "data": {
      "text/plain": [
       "(array([2771.6665499 , 2306.89743336, 3300.90163484, 2400.85122542]),\n",
       " array([255.28691462, 538.07021295, 244.06302915, 700.4539579 ]),\n",
       " array([0.09210593, 0.2332441 , 0.07393829, 0.29175234]))"
      ]
     },
     "execution_count": 114,
     "metadata": {},
     "output_type": "execute_result"
    }
   ],
   "source": [
    "np.array(pca1_extent).mean(axis=1),np.array(pca1_extent).std(axis=1),np.array(pca1_extent).std(axis=1)/np.array(pca1_extent).mean(axis=1)"
   ]
  },
  {
   "cell_type": "code",
   "execution_count": 115,
   "id": "47b81417",
   "metadata": {},
   "outputs": [
    {
     "data": {
      "text/plain": [
       "(array([2692.52605639, 2772.80077258, 1771.99340483, 1329.11796089]),\n",
       " array([172.5738613 , 169.59636646,  26.36089975, 588.59135003]),\n",
       " array([0.06409366, 0.06116428, 0.01487641, 0.44284358]))"
      ]
     },
     "execution_count": 115,
     "metadata": {},
     "output_type": "execute_result"
    }
   ],
   "source": [
    "np.array(pca2_extent).mean(axis=1),np.array(pca2_extent).std(axis=1),np.array(pca2_extent).std(axis=1)/np.array(pca2_extent).mean(axis=1)"
   ]
  },
  {
   "cell_type": "code",
   "execution_count": 116,
   "id": "614aa95d",
   "metadata": {
    "scrolled": true
   },
   "outputs": [
    {
     "data": {
      "image/png": "[encoded data removed]",
      "text/plain": [
       "<Figure size 850.394x330.709 with 6 Axes>"
      ]
     },
     "metadata": {
      "needs_background": "light"
     },
     "output_type": "display_data"
    }
   ],
   "source": [
    "pca0_angle_X_axis = [df_lhs_vm1['pca0_angle_X_axis'].values,df_rhs_vm1['pca0_angle_X_axis'].values,df_lhs_vs1['pca0_angle_X_axis'].values,df_rhs_vs1['pca0_angle_X_axis'].values]\n",
    "#pca0_angle_Y_axis = [df_lhs_vm1['pca0_angle_Y_axis'].values,df_rhs_vm1['pca0_angle_Y_axis'].values,df_lhs_vs1['pca0_angle_Y_axis'].values,df_rhs_vs1['pca0_angle_Y_axis'].values]\n",
    "pca0_angle_Z_axis = [df_lhs_vm1['pca0_angle_Z_axis'].values,df_rhs_vm1['pca0_angle_Z_axis'].values,df_lhs_vs1['pca0_angle_Z_axis'].values,df_rhs_vs1['pca0_angle_Z_axis'].values]\n",
    "pca1_angle_X_axis = [df_lhs_vm1['pca1_angle_X_axis'].values,df_rhs_vm1['pca1_angle_X_axis'].values,df_lhs_vs1['pca1_angle_X_axis'].values,df_rhs_vs1['pca0_angle_X_axis'].values]\n",
    "#pca0_angle_Y_axis = [df_lhs_vm1['pca0_angle_Y_axis'].values,df_rhs_vm1['pca0_angle_Y_axis'].values,df_lhs_vs1['pca0_angle_Y_axis'].values,df_rhs_vs1['pca0_angle_Y_axis'].values]\n",
    "pca1_angle_Z_axis = [df_lhs_vm1['pca1_angle_Z_axis'].values,df_rhs_vm1['pca1_angle_Z_axis'].values,df_lhs_vs1['pca1_angle_Z_axis'].values,df_rhs_vs1['pca0_angle_Z_axis'].values]\n",
    "pca2_angle_X_axis = [df_lhs_vm1['pca2_angle_X_axis'].values,df_rhs_vm1['pca2_angle_X_axis'].values,df_lhs_vs1['pca2_angle_X_axis'].values,df_rhs_vs1['pca0_angle_X_axis'].values]\n",
    "#pca0_angle_Y_axis = [df_lhs_vm1['pca0_angle_Y_axis'].values,df_rhs_vm1['pca0_angle_Y_axis'].values,df_lhs_vs1['pca0_angle_Y_axis'].values,df_rhs_vs1['pca0_angle_Y_axis'].values]\n",
    "pca2_angle_Z_axis = [df_lhs_vm1['pca2_angle_Z_axis'].values,df_rhs_vm1['pca2_angle_Z_axis'].values,df_lhs_vs1['pca2_angle_Z_axis'].values,df_rhs_vs1['pca0_angle_Z_axis'].values]\n",
    "\n",
    "fig, axes = plt.subplots(nrows=1,ncols=6, sharex=True,sharey=True,figsize=(18*cm,7*cm),dpi=120)\n",
    "b1 = axes[0].boxplot(pca0_angle_X_axis)\n",
    "eb1 =axes[0].errorbar(x=[1,2,3,4],y=np.array(pca0_angle_X_axis).mean(axis=1),yerr=np.array(pca0_angle_X_axis).std(axis=1),\\\n",
    "             color='blue',marker='.',fmt='.')\n",
    "b2 = axes[1].boxplot(pca0_angle_Z_axis)\n",
    "eb2 =axes[1].errorbar(x=[1,2,3,4],y=np.array(pca0_angle_Z_axis).mean(axis=1),yerr=np.array(pca0_angle_Z_axis).std(axis=1),\\\n",
    "             color='blue',marker='.',fmt='.')\n",
    "b3 = axes[2].boxplot(pca1_angle_X_axis)\n",
    "eb3 = axes[2].errorbar(x=[1,2,3,4],y=np.array(pca1_angle_X_axis).mean(axis=1),yerr=np.array(pca1_angle_X_axis).std(axis=1),\\\n",
    "             color='blue',marker='.',fmt='.')\n",
    "b4 = axes[3].boxplot(pca1_angle_Z_axis)\n",
    "eb4 = axes[3].errorbar(x=[1,2,3,4],y=np.array(pca1_angle_Z_axis).mean(axis=1),yerr=np.array(pca1_angle_Z_axis).std(axis=1),\\\n",
    "             color='blue',marker='.',fmt='.')\n",
    "b5 = axes[4].boxplot(pca2_angle_X_axis)\n",
    "eb5 = axes[4].errorbar(x=[1,2,3,4],y=np.array(pca2_angle_X_axis).mean(axis=1),yerr=np.array(pca2_angle_X_axis).std(axis=1),\\\n",
    "             color='blue',marker='.',fmt='.')\n",
    "b6 = axes[5].boxplot(pca2_angle_Z_axis)\n",
    "eb6 = axes[5].errorbar(x=[1,2,3,4],y=np.array(pca2_angle_Z_axis).mean(axis=1),yerr=np.array(pca2_angle_Z_axis).std(axis=1),\\\n",
    "             color='blue',marker='.',fmt='.')\n",
    "\n",
    "plt.setp(b1['boxes'], color='black')\n",
    "plt.setp(b1['whiskers'], color='black')\n",
    "plt.setp(b1['medians'], color='black')\n",
    "plt.setp(b1['caps'], color='black')\n",
    "plt.setp(b2['boxes'], color='black')\n",
    "plt.setp(b2['whiskers'], color='black')\n",
    "plt.setp(b2['medians'], color='black')\n",
    "plt.setp(b2['caps'], color='black')\n",
    "plt.setp(b3['boxes'], color='black')\n",
    "plt.setp(b3['whiskers'], color='black')\n",
    "plt.setp(b3['medians'], color='black')\n",
    "plt.setp(b3['caps'], color='black')\n",
    "plt.setp(b4['boxes'], color='black')\n",
    "plt.setp(b4['whiskers'], color='black')\n",
    "plt.setp(b4['medians'], color='black')\n",
    "plt.setp(b4['caps'], color='black')\n",
    "plt.setp(b5['boxes'], color='black')\n",
    "plt.setp(b5['whiskers'], color='black')\n",
    "plt.setp(b5['medians'], color='black')\n",
    "plt.setp(b5['caps'], color='black')\n",
    "plt.setp(b6['boxes'], color='black')\n",
    "plt.setp(b6['whiskers'], color='black')\n",
    "plt.setp(b6['medians'], color='black')\n",
    "plt.setp(b6['caps'], color='black')\n",
    "plt.tight_layout()\n",
    "fig.savefig(input_path + 'Fig_1/Rabies_Distribution/variability/pca_orientations.eps')"
   ]
  },
  {
   "cell_type": "code",
   "execution_count": 117,
   "id": "41005711",
   "metadata": {
    "scrolled": false
   },
   "outputs": [
    {
     "data": {
      "text/plain": [
       "(array([102.29198451,  40.35601563, 108.01072233, 111.84864211]),\n",
       " array([ 7.84102708, 28.60588025,  8.03867268, 68.73721322]),\n",
       " array([0.07665339, 0.70883807, 0.07442477, 0.61455563]))"
      ]
     },
     "execution_count": 117,
     "metadata": {},
     "output_type": "execute_result"
    }
   ],
   "source": [
    "np.array(pca0_angle_X_axis).mean(axis=1),np.array(pca0_angle_X_axis).std(axis=1),np.array(pca0_angle_X_axis).std(axis=1)/np.array(pca0_angle_X_axis).mean(axis=1)"
   ]
  },
  {
   "cell_type": "code",
   "execution_count": 118,
   "id": "71323a16",
   "metadata": {
    "scrolled": false
   },
   "outputs": [
    {
     "data": {
      "text/plain": [
       "(array([126.66095436, 107.53394327, 124.41864802, 102.21239963]),\n",
       " array([ 2.74973905,  9.53714962,  5.18561173, 19.83599734]),\n",
       " array([0.02170945, 0.08868967, 0.04167873, 0.19406645]))"
      ]
     },
     "execution_count": 118,
     "metadata": {},
     "output_type": "execute_result"
    }
   ],
   "source": [
    "np.array(pca0_angle_Z_axis).mean(axis=1),np.array(pca0_angle_Z_axis).std(axis=1),np.array(pca0_angle_Z_axis).std(axis=1)/np.array(pca0_angle_Z_axis).mean(axis=1)"
   ]
  },
  {
   "cell_type": "code",
   "execution_count": 119,
   "id": "01c6329e",
   "metadata": {
    "scrolled": false
   },
   "outputs": [
    {
     "data": {
      "text/plain": [
       "(array([  8.41791036, 170.71973246,  56.12567879, 111.84864211]),\n",
       " array([ 4.41971974,  4.03194657,  3.09475575, 68.73721322]),\n",
       " array([0.52503763, 0.02361734, 0.05513975, 0.61455563]))"
      ]
     },
     "execution_count": 119,
     "metadata": {},
     "output_type": "execute_result"
    }
   ],
   "source": [
    "np.array(pca1_angle_X_axis).mean(axis=1),np.array(pca1_angle_X_axis).std(axis=1),np.array(pca1_angle_X_axis).std(axis=1)/np.array(pca1_angle_X_axis).mean(axis=1)"
   ]
  },
  {
   "cell_type": "code",
   "execution_count": 120,
   "id": "d6ce5e05",
   "metadata": {
    "scrolled": false
   },
   "outputs": [
    {
     "data": {
      "text/plain": [
       "(array([115.18703146,  20.21364853,  28.04558306, 102.21239963]),\n",
       " array([77.13940821,  8.94265571,  7.63535702, 19.83599734]),\n",
       " array([0.66968831, 0.44240681, 0.27224811, 0.19406645]))"
      ]
     },
     "execution_count": 120,
     "metadata": {},
     "output_type": "execute_result"
    }
   ],
   "source": [
    "np.array(pca1_angle_Z_axis).mean(axis=1),np.array(pca1_angle_Z_axis).std(axis=1),np.array(pca1_angle_Z_axis).std(axis=1)/np.array(pca1_angle_Z_axis).mean(axis=1)"
   ]
  },
  {
   "cell_type": "code",
   "execution_count": 121,
   "id": "fc0fe36f",
   "metadata": {
    "scrolled": false
   },
   "outputs": [
    {
     "data": {
      "text/plain": [
       "(array([ 95.56113108,  87.58744438, 162.49501569, 111.84864211]),\n",
       " array([ 5.72231793,  2.13657571,  3.01910558, 68.73721322]),\n",
       " array([0.05988123, 0.02439363, 0.01857968, 0.61455563]))"
      ]
     },
     "execution_count": 121,
     "metadata": {},
     "output_type": "execute_result"
    }
   ],
   "source": [
    "np.array(pca2_angle_X_axis).mean(axis=1),np.array(pca2_angle_X_axis).std(axis=1),np.array(pca2_angle_X_axis).std(axis=1)/np.array(pca2_angle_X_axis).mean(axis=1)"
   ]
  },
  {
   "cell_type": "code",
   "execution_count": 122,
   "id": "9e12a955",
   "metadata": {
    "scrolled": false
   },
   "outputs": [
    {
     "data": {
      "text/plain": [
       "(array([ 37.26518465,  17.49172831, 150.78654658, 102.21239963]),\n",
       " array([ 3.10357   , 11.29720117,  8.99435146, 19.83599734]),\n",
       " array([0.08328337, 0.64585963, 0.05964956, 0.19406645]))"
      ]
     },
     "execution_count": 122,
     "metadata": {},
     "output_type": "execute_result"
    }
   ],
   "source": [
    "np.array(pca2_angle_Z_axis).mean(axis=1),np.array(pca2_angle_Z_axis).std(axis=1),np.array(pca2_angle_Z_axis).std(axis=1)/np.array(pca2_angle_Z_axis).mean(axis=1)"
   ]
  },
  {
   "cell_type": "code",
   "execution_count": 130,
   "id": "1f54626a",
   "metadata": {
    "scrolled": false
   },
   "outputs": [
    {
     "data": {
      "image/png": "[encoded data removed]",
      "text/plain": [
       "<Figure size 283.465x330.709 with 1 Axes>"
      ]
     },
     "metadata": {
      "needs_background": "light"
     },
     "output_type": "display_data"
    }
   ],
   "source": [
    "bregma_dist_X = [df_lhs_vm1['Dist_From_Bregma_X'].values,df_rhs_vm1['Dist_From_Bregma_X'].values,df_lhs_vs1['Dist_From_Bregma_X'].values,df_rhs_vs1['Dist_From_Bregma_X'].values]\n",
    "\n",
    "fig, axes = plt.subplots(nrows=1,ncols=1, sharex=True,sharey=True,figsize=(6*cm,7*cm),dpi=120)\n",
    "b1 = axes.boxplot(bregma_dist_X)\n",
    "eb1 =axes.errorbar(x=[1,2,3,4],y=np.array(bregma_dist_X).mean(axis=1),yerr=np.array(bregma_dist_X).std(axis=1),\\\n",
    "             color='blue',marker='.',fmt='.')\n",
    "\n",
    "plt.setp(b1['boxes'], color='black')\n",
    "plt.setp(b1['whiskers'], color='black')\n",
    "plt.setp(b1['medians'], color='black')\n",
    "plt.setp(b1['caps'], color='black')\n",
    "plt.tight_layout()\n",
    "fig.savefig(input_path + 'Fig_1/Rabies_Distribution/variability/bregma_dist_X.eps')"
   ]
  },
  {
   "cell_type": "code",
   "execution_count": 131,
   "id": "f2ab2d86",
   "metadata": {},
   "outputs": [
    {
     "data": {
      "text/plain": [
       "(array([2183.58813574, 2431.96066365, 4677.67488569, 5285.45469656]),\n",
       " array([ 53.49385142, 143.66251302,  93.98607431,  70.32568205]),\n",
       " array([0.02449814, 0.05907271, 0.02009248, 0.01330551]))"
      ]
     },
     "execution_count": 131,
     "metadata": {},
     "output_type": "execute_result"
    }
   ],
   "source": [
    "np.array(bregma_dist_X).mean(axis=1),np.array(bregma_dist_X).std(axis=1),np.array(bregma_dist_X).std(axis=1)/np.array(bregma_dist_X).mean(axis=1)"
   ]
  },
  {
   "cell_type": "code",
   "execution_count": 132,
   "id": "0b50fbea",
   "metadata": {
    "scrolled": false
   },
   "outputs": [
    {
     "data": {
      "image/png": "[encoded data removed]",
      "text/plain": [
       "<Figure size 283.465x330.709 with 1 Axes>"
      ]
     },
     "metadata": {
      "needs_background": "light"
     },
     "output_type": "display_data"
    }
   ],
   "source": [
    "bregma_dist_Y = [df_lhs_vm1['Dist_From_Bregma_Y'].values,df_rhs_vm1['Dist_From_Bregma_Y'].values,df_lhs_vs1['Dist_From_Bregma_Y'].values,df_rhs_vs1['Dist_From_Bregma_Y'].values]\n",
    "\n",
    "fig, axes = plt.subplots(nrows=1,ncols=1, sharex=True,sharey=True,figsize=(6*cm,7*cm),dpi=120)\n",
    "b1 = axes.boxplot(bregma_dist_Y)\n",
    "eb1 =axes.errorbar(x=[1,2,3,4],y=np.array(bregma_dist_Y).mean(axis=1),yerr=np.array(bregma_dist_Y).std(axis=1),\\\n",
    "             color='blue',marker='.',fmt='.')\n",
    "plt.setp(b1['boxes'], color='black')\n",
    "plt.setp(b1['whiskers'], color='black')\n",
    "plt.setp(b1['medians'], color='black')\n",
    "plt.setp(b1['caps'], color='black')\n",
    "plt.tight_layout()\n",
    "fig.savefig(input_path + 'Fig_1/Rabies_Distribution/variability/bregma_dist_Y.eps')"
   ]
  },
  {
   "cell_type": "code",
   "execution_count": 133,
   "id": "454c4901",
   "metadata": {},
   "outputs": [
    {
     "data": {
      "text/plain": [
       "(array([ 3107.42204459,  3350.52466476,  -723.63727363, -1041.33708555]),\n",
       " array([104.27327944, 447.38297608, 313.00272124, 255.77321977]),\n",
       " array([ 0.0335562 ,  0.13352624, -0.43254091, -0.24562   ]))"
      ]
     },
     "execution_count": 133,
     "metadata": {},
     "output_type": "execute_result"
    }
   ],
   "source": [
    "np.array(bregma_dist_Y).mean(axis=1),np.array(bregma_dist_Y).std(axis=1),np.array(bregma_dist_Y).std(axis=1)/np.array(bregma_dist_Y).mean(axis=1)"
   ]
  },
  {
   "cell_type": "code",
   "execution_count": 134,
   "id": "7c7aa91e",
   "metadata": {
    "scrolled": true
   },
   "outputs": [
    {
     "data": {
      "image/png": "[encoded data removed]",
      "text/plain": [
       "<Figure size 283.465x330.709 with 1 Axes>"
      ]
     },
     "metadata": {
      "needs_background": "light"
     },
     "output_type": "display_data"
    }
   ],
   "source": [
    "bregma_dist_Z = [df_lhs_vm1['Dist_From_Bregma_Z'].values,df_rhs_vm1['Dist_From_Bregma_Z'].values,df_lhs_vs1['Dist_From_Bregma_Z'].values,df_rhs_vs1['Dist_From_Bregma_Z'].values]\n",
    "\n",
    "fig, axes = plt.subplots(nrows=1,ncols=1, sharex=True,sharey=True,figsize=(6*cm,7*cm),dpi=120)\n",
    "b1 = axes.boxplot(bregma_dist_Z)\n",
    "eb1 =axes.errorbar(x=[1,2,3,4],y=np.array(bregma_dist_Z).mean(axis=1),yerr=np.array(bregma_dist_Z).std(axis=1),\\\n",
    "             color='blue',marker='.',fmt='.')\n",
    "plt.setp(b1['boxes'], color='black')\n",
    "plt.setp(b1['whiskers'], color='black')\n",
    "plt.setp(b1['medians'], color='black')\n",
    "plt.setp(b1['caps'], color='black')\n",
    "plt.tight_layout()\n",
    "fig.savefig(input_path + 'Fig_1/Rabies_Distribution/variability/bregma_dist_Z.eps')"
   ]
  },
  {
   "cell_type": "code",
   "execution_count": 135,
   "id": "f6aa56ff",
   "metadata": {},
   "outputs": [
    {
     "data": {
      "text/plain": [
       "(array([2728.60400171, 2838.59740857, 3522.2194169 , 5475.25995822]),\n",
       " array([ 36.93982638, 306.59418259, 136.00979609, 472.35376431]),\n",
       " array([0.01353799, 0.10800904, 0.0386148 , 0.08627056]))"
      ]
     },
     "execution_count": 135,
     "metadata": {},
     "output_type": "execute_result"
    }
   ],
   "source": [
    "np.array(bregma_dist_Z).mean(axis=1),np.array(bregma_dist_Z).std(axis=1),np.array(bregma_dist_Z).std(axis=1)/np.array(bregma_dist_Z).mean(axis=1)"
   ]
  },
  {
   "cell_type": "code",
   "execution_count": 129,
   "id": "c87131a5",
   "metadata": {},
   "outputs": [],
   "source": [
    "# Comparing location with others\n"
   ]
  },
  {
   "cell_type": "markdown",
   "id": "e881bbac",
   "metadata": {},
   "source": [
    "# Layer Borders"
   ]
  },
  {
   "cell_type": "markdown",
   "id": "8ce99114",
   "metadata": {},
   "source": [
    "## Comparison of layer borders with others"
   ]
  },
  {
   "cell_type": "markdown",
   "id": "f7b33d8d",
   "metadata": {},
   "source": [
    "### vS1"
   ]
  },
  {
   "cell_type": "code",
   "execution_count": 24,
   "id": "9affce5c",
   "metadata": {},
   "outputs": [],
   "source": [
    "# vS1\n",
    "df = pd.DataFrame()\n",
    "df['Layers'] = ['L1','L2/3','L4','L5','L6']\n",
    "\n",
    "df['Mean'] = [4,26,40,66,100]\n",
    "df['STD'] = [0.8,2,2,1,0]\n",
    "\n",
    "df.to_csv(input_path+'Fig_2/vS1_Layer_Borders_Meyer.csv')"
   ]
  },
  {
   "cell_type": "code",
   "execution_count": 25,
   "id": "0687cf91",
   "metadata": {},
   "outputs": [],
   "source": [
    "df_meyer = pd.read_csv(input_path+'Fig_2/vS1_Layer_Borders_Meyer.csv',index_col=0)"
   ]
  },
  {
   "cell_type": "code",
   "execution_count": 26,
   "id": "38955178",
   "metadata": {},
   "outputs": [
    {
     "data": {
      "text/plain": [
       "array([  4,  26,  40,  66, 100], dtype=int64)"
      ]
     },
     "execution_count": 26,
     "metadata": {},
     "output_type": "execute_result"
    }
   ],
   "source": [
    "df_meyer['Mean'].values"
   ]
  },
  {
   "cell_type": "code",
   "execution_count": 18,
   "id": "0808018d",
   "metadata": {},
   "outputs": [
    {
     "data": {
      "text/plain": [
       "L1_Border           -75.000000\n",
       "L2_3_Border        -470.833333\n",
       "L4_Border          -879.166667\n",
       "L5_Border         -1520.833333\n",
       "L1_Border_Per         0.034884\n",
       "L2_3_Border_Per       0.218992\n",
       "L4_Border_Per         0.408915\n",
       "L5_Border_Per         0.707364\n",
       "dtype: float64"
      ]
     },
     "execution_count": 18,
     "metadata": {},
     "output_type": "execute_result"
    }
   ],
   "source": [
    "df_mine = pd.read_csv(input_path+'Final_Data/Layer_Borders_V2/vS1_Borders.csv',index_col=0)\n",
    "df_mine.mean()"
   ]
  },
  {
   "cell_type": "code",
   "execution_count": 34,
   "id": "757bb83c",
   "metadata": {
    "scrolled": false
   },
   "outputs": [
    {
     "name": "stderr",
     "output_type": "stream",
     "text": [
      "The PostScript backend does not support transparency; partially transparent artists will be rendered opaque.\n",
      "The PostScript backend does not support transparency; partially transparent artists will be rendered opaque.\n"
     ]
    },
    {
     "data": {
      "image/png": "[encoded data removed]",
      "text/plain": [
       "<Figure size 283.465x330.709 with 1 Axes>"
      ]
     },
     "metadata": {
      "needs_background": "light"
     },
     "output_type": "display_data"
    }
   ],
   "source": [
    "N=5\n",
    "nd = np.arange(N)\n",
    "width = 0.35\n",
    "\n",
    "fig = plt.figure(figsize=(6*cm,7*cm),dpi=120)\n",
    "ax = fig.add_subplot(111)\n",
    "\n",
    "rects1 = ax.bar(ind, [df_mine.mean()['L1_Border_Per']*100,df_mine.mean()['L2_3_Border_Per']*100,df_mine.mean()['L4_Border_Per']*100,\\\n",
    "                     df_mine.mean()['L5_Border_Per']*100,100], width, color='red', \\\n",
    "                yerr=[df_mine.std()['L1_Border_Per']*100,df_mine.std()['L2_3_Border_Per']*100,df_mine.std()['L4_Border_Per']*100,\\\n",
    "                     df_mine.std()['L5_Border_Per']*100,0])\n",
    "\n",
    "rects2 = ax.bar(ind+width, df_meyer['Mean'].values, width, color='blue', yerr=df_meyer['STD'].values)\n",
    "\n",
    "# add some\n",
    "ax.set_ylabel('Layer border as % depth from Pia')\n",
    "#ax.set_title('BF Layer border comparison')\n",
    "ax.set_xticks(ind + width / 2)\n",
    "ax.set_xticklabels( ('L1', 'L2/3', 'L4', 'L5', 'L6') )\n",
    "\n",
    "ax.legend( (rects1[0], rects2[0]), ('Present', 'Meyer') )\n",
    "plt.tight_layout()\n",
    "fig.savefig(input_path + 'Fig_2/vS1_Border_Comparison.eps')"
   ]
  },
  {
   "cell_type": "markdown",
   "id": "e5716233",
   "metadata": {},
   "source": [
    "### vM1"
   ]
  },
  {
   "cell_type": "code",
   "execution_count": 35,
   "id": "521d0cdd",
   "metadata": {},
   "outputs": [],
   "source": [
    "# vS1\n",
    "df = pd.DataFrame()\n",
    "df['Layers'] = ['L1','L2/3','LA','LB','L6']\n",
    "\n",
    "df['Mean'] = [10,16,34,67,100]\n",
    "df['STD'] = [1,1,2,0,0]\n",
    "\n",
    "df.to_csv(input_path+'Fig_2/vM1_Layer_Borders_Shepherd.csv')"
   ]
  },
  {
   "cell_type": "code",
   "execution_count": 39,
   "id": "64799c98",
   "metadata": {},
   "outputs": [],
   "source": [
    "df_hooks = pd.read_csv(input_path+'Fig_2/vM1_Layer_Borders_Shepherd.csv',index_col=0)"
   ]
  },
  {
   "cell_type": "code",
   "execution_count": 40,
   "id": "a9ea2e46",
   "metadata": {},
   "outputs": [
    {
     "data": {
      "text/html": [
       "<div>\n",
       "<style scoped>\n",
       "    .dataframe tbody tr th:only-of-type {\n",
       "        vertical-align: middle;\n",
       "    }\n",
       "\n",
       "    .dataframe tbody tr th {\n",
       "        vertical-align: top;\n",
       "    }\n",
       "\n",
       "    .dataframe thead th {\n",
       "        text-align: right;\n",
       "    }\n",
       "</style>\n",
       "<table border=\"1\" class=\"dataframe\">\n",
       "  <thead>\n",
       "    <tr style=\"text-align: right;\">\n",
       "      <th></th>\n",
       "      <th>Layers</th>\n",
       "      <th>Mean</th>\n",
       "      <th>STD</th>\n",
       "    </tr>\n",
       "  </thead>\n",
       "  <tbody>\n",
       "    <tr>\n",
       "      <th>0</th>\n",
       "      <td>L1</td>\n",
       "      <td>10</td>\n",
       "      <td>1</td>\n",
       "    </tr>\n",
       "    <tr>\n",
       "      <th>1</th>\n",
       "      <td>L2/3</td>\n",
       "      <td>16</td>\n",
       "      <td>1</td>\n",
       "    </tr>\n",
       "    <tr>\n",
       "      <th>2</th>\n",
       "      <td>LA</td>\n",
       "      <td>34</td>\n",
       "      <td>2</td>\n",
       "    </tr>\n",
       "    <tr>\n",
       "      <th>3</th>\n",
       "      <td>LB</td>\n",
       "      <td>67</td>\n",
       "      <td>0</td>\n",
       "    </tr>\n",
       "    <tr>\n",
       "      <th>4</th>\n",
       "      <td>L6</td>\n",
       "      <td>100</td>\n",
       "      <td>0</td>\n",
       "    </tr>\n",
       "  </tbody>\n",
       "</table>\n",
       "</div>"
      ],
      "text/plain": [
       "  Layers  Mean  STD\n",
       "0     L1    10    1\n",
       "1   L2/3    16    1\n",
       "2     LA    34    2\n",
       "3     LB    67    0\n",
       "4     L6   100    0"
      ]
     },
     "execution_count": 40,
     "metadata": {},
     "output_type": "execute_result"
    }
   ],
   "source": [
    "df_hooks"
   ]
  },
  {
   "cell_type": "code",
   "execution_count": 41,
   "id": "f676dedc",
   "metadata": {},
   "outputs": [
    {
     "data": {
      "text/plain": [
       "L1_Border          -222.093023\n",
       "L2_3_Border        -544.186047\n",
       "L5A_Border        -1017.571059\n",
       "L5B_Border        -2025.968992\n",
       "L1_Border_Per         0.085420\n",
       "L2_3_Border_Per       0.209302\n",
       "L5A_Border_Per        0.391373\n",
       "L5B_Border_Per        0.779219\n",
       "dtype: float64"
      ]
     },
     "execution_count": 41,
     "metadata": {},
     "output_type": "execute_result"
    }
   ],
   "source": [
    "df_mine = pd.read_csv(input_path+'Final_Data/Layer_Borders/vM1_Borders.csv',index_col=0)\n",
    "df_mine.mean()"
   ]
  },
  {
   "cell_type": "code",
   "execution_count": 42,
   "id": "c5fc9e24",
   "metadata": {},
   "outputs": [
    {
     "name": "stderr",
     "output_type": "stream",
     "text": [
      "The PostScript backend does not support transparency; partially transparent artists will be rendered opaque.\n",
      "The PostScript backend does not support transparency; partially transparent artists will be rendered opaque.\n"
     ]
    },
    {
     "data": {
      "image/png": "[encoded data removed]",
      "text/plain": [
       "<Figure size 283.465x330.709 with 1 Axes>"
      ]
     },
     "metadata": {
      "needs_background": "light"
     },
     "output_type": "display_data"
    }
   ],
   "source": [
    "N=5\n",
    "nd = np.arange(N)\n",
    "width = 0.35\n",
    "\n",
    "fig = plt.figure(figsize=(6*cm,7*cm),dpi=120)\n",
    "ax = fig.add_subplot(111)\n",
    "\n",
    "rects1 = ax.bar(ind, [df_mine.mean()['L1_Border_Per']*100,df_mine.mean()['L2_3_Border_Per']*100,df_mine.mean()['L5A_Border_Per']*100,\\\n",
    "                     df_mine.mean()['L5B_Border_Per']*100,100], width, color='red', \\\n",
    "                yerr=[df_mine.std()['L1_Border_Per']*100,df_mine.std()['L2_3_Border_Per']*100,df_mine.std()['L5A_Border_Per']*100,\\\n",
    "                     df_mine.std()['L5B_Border_Per']*100,0])\n",
    "\n",
    "rects2 = ax.bar(ind+width, df_hooks['Mean'].values, width, color='blue', yerr=df_hooks['STD'].values)\n",
    "\n",
    "# add some\n",
    "ax.set_ylabel('Layer border as % depth from Pia')\n",
    "#ax.set_title('BF Layer border comparison')\n",
    "ax.set_xticks(ind + width / 2)\n",
    "ax.set_xticklabels( ('L1', 'L2/3', 'L4', 'L5', 'L6') )\n",
    "\n",
    "ax.legend( (rects1[0], rects2[0]), ('Present', 'Hooks') )\n",
    "plt.tight_layout()\n",
    "fig.savefig(input_path + 'Fig_2/vM1_Border_Comparison.eps')"
   ]
  },
  {
   "cell_type": "markdown",
   "id": "fcd44498",
   "metadata": {},
   "source": [
    "# vM1 Laminar organization"
   ]
  },
  {
   "cell_type": "code",
   "execution_count": 48,
   "id": "9410f62c",
   "metadata": {},
   "outputs": [
    {
     "data": {
      "text/plain": [
       "Index(['Exp_Name', 'L1_Border', 'L2_3_Border', 'L5A_Border', 'L5B_Border',\n",
       "       'L1_Border_Per', 'L2_3_Border_Per', 'L5A_Border_Per', 'L5B_Border_Per'],\n",
       "      dtype='object')"
      ]
     },
     "execution_count": 48,
     "metadata": {},
     "output_type": "execute_result"
    }
   ],
   "source": [
    "# show layer border variability\n",
    "df = pd.read_csv(input_path+'Final_Data/Layer_Borders/vM1_Borders.csv',index_col=0)\n",
    "df.columns"
   ]
  },
  {
   "cell_type": "code",
   "execution_count": 121,
   "id": "99510624",
   "metadata": {},
   "outputs": [],
   "source": [
    "mg48_lhs_df = df[df['Exp_Name']=='MG48_lhs']\n",
    "mg48_rhs_df = df[df['Exp_Name']=='MG48_rhs']\n",
    "mg49_lhs_df = df[df['Exp_Name']=='MG49_lhs']\n",
    "mg49_rhs_df = df[df['Exp_Name']=='MG49_rhs']\n",
    "mg50_lhs_df = df[df['Exp_Name']=='MG50_lhs']\n",
    "mg50_rhs_df = df[df['Exp_Name']=='MG50_rhs']"
   ]
  },
  {
   "cell_type": "code",
   "execution_count": 122,
   "id": "69035edd",
   "metadata": {
    "scrolled": false
   },
   "outputs": [],
   "source": [
    "l1_means = [mg48_lhs_df['L1_Border_Per'].mean(),mg48_rhs_df['L1_Border_Per'].mean(),mg49_lhs_df['L1_Border_Per'].mean(),\\\n",
    "            mg49_rhs_df['L1_Border_Per'].mean(),mg50_lhs_df['L1_Border_Per'].mean(),mg50_rhs_df['L1_Border_Per'].mean()]\n",
    "\n",
    "l2_3_means = [mg48_lhs_df['L2_3_Border_Per'].mean(),mg48_rhs_df['L2_3_Border_Per'].mean(),mg49_lhs_df['L2_3_Border_Per'].mean(),\\\n",
    "            mg49_rhs_df['L2_3_Border_Per'].mean(),mg50_lhs_df['L2_3_Border_Per'].mean(),mg50_rhs_df['L2_3_Border_Per'].mean()]\n",
    "\n",
    "l5A_means = [mg48_lhs_df['L5A_Border_Per'].mean(),mg48_rhs_df['L5A_Border_Per'].mean(),mg49_lhs_df['L5A_Border_Per'].mean(),\\\n",
    "            mg49_rhs_df['L5A_Border_Per'].mean(),mg50_lhs_df['L5A_Border_Per'].mean(),mg50_rhs_df['L5A_Border_Per'].mean()]\n",
    "\n",
    "l5B_means = [mg48_lhs_df['L5B_Border_Per'].mean(),mg48_rhs_df['L5B_Border_Per'].mean(),mg49_lhs_df['L5B_Border_Per'].mean(),\\\n",
    "            mg49_rhs_df['L5B_Border_Per'].mean(),mg50_lhs_df['L5B_Border_Per'].mean(),mg50_rhs_df['L5B_Border_Per'].mean()]\n",
    "\n"
   ]
  },
  {
   "cell_type": "code",
   "execution_count": 133,
   "id": "4b2dc8c9",
   "metadata": {
    "scrolled": false
   },
   "outputs": [
    {
     "data": {
      "image/png": "[encoded data removed]",
      "text/plain": [
       "<Figure size 330.709x330.709 with 1 Axes>"
      ]
     },
     "metadata": {
      "needs_background": "light"
     },
     "output_type": "display_data"
    }
   ],
   "source": [
    "per_layer_borders_df = df[['L1_Border_Per', 'L2_3_Border_Per', 'L5A_Border_Per', 'L5B_Border_Per']]*100\n",
    "fig, axes = plt.subplots(nrows=1,ncols=1, sharex=True,sharey=True,figsize=(7*cm,7*cm),dpi=120)\n",
    "b1 = axes.boxplot(per_layer_borders_df)\n",
    "\n",
    "eb1 =axes.errorbar(x=[1,2,3,4],y=[np.array(l1_means).mean()*100,np.array(l2_3_means).mean()*100,np.array(l5A_means).mean()*100,np.array(l5B_means).mean()*100],\\\n",
    "                   yerr=[np.array(l1_means).std()*100,np.array(l2_3_means).std()*100,np.array(l5A_means).std()*100,np.array(l5B_means).std()*100],\\\n",
    "             color='blue',marker='.',fmt='.')\n",
    "\n",
    "plt.yticks(np.arange(0,110,10))\n",
    "plt.xlabel(['L1','L2/3','L5A','L5B'])\n",
    "\n",
    "plt.setp(b1['boxes'], color='black')\n",
    "plt.setp(b1['whiskers'], color='black')\n",
    "plt.setp(b1['medians'], color='black')\n",
    "plt.setp(b1['caps'], color='black')\n",
    "plt.tight_layout()\n",
    "fig.savefig(input_path + 'Fig_2/laminar_variability.eps')"
   ]
  },
  {
   "cell_type": "code",
   "execution_count": 126,
   "id": "e6530d77",
   "metadata": {
    "scrolled": true
   },
   "outputs": [
    {
     "data": {
      "text/plain": [
       "(0.08623863020839255, 0.011960957728402168)"
      ]
     },
     "execution_count": 126,
     "metadata": {},
     "output_type": "execute_result"
    }
   ],
   "source": [
    "np.array(l1_means).mean(),np.array(l1_means).std()"
   ]
  },
  {
   "cell_type": "markdown",
   "id": "cf28754e",
   "metadata": {},
   "source": [
    "## 3d counts and densities"
   ]
  },
  {
   "cell_type": "code",
   "execution_count": 47,
   "id": "4ec1b525",
   "metadata": {},
   "outputs": [],
   "source": [
    "df_2d_counts = pd.read_csv(input_path+'Fig_2/Layerwise_2D_Cell_Counts.csv')\n",
    "df_3d_counts = pd.read_csv(input_path+'Fig_2/Layerwise_3D_Cell_Counts.csv')\n",
    "df_3d_densities = pd.read_csv(input_path+'Fig_2/Layerwise_3D_Densities.csv')\n",
    "df_layerwise_volumes = pd.read_csv(input_path+'Fig_2/Layer_Volumes.csv')\n",
    "\n",
    "df_3d_counts_lhs = df_3d_counts[df_3d_counts['Hem']=='lhs']\n",
    "df_3d_counts_rhs = df_3d_counts[df_3d_counts['Hem']=='rhs']\n",
    "\n",
    "df_3d_densities_lhs = df_3d_densities[df_3d_densities['Hem']=='lhs']\n",
    "df_3d_densities_rhs = df_3d_densities[df_3d_densities['Hem']=='rhs']\n",
    "\n",
    "df_layerwise_volumes_lhs = df_layerwise_volumes[(df_layerwise_volumes['Exp']=='MG48_lhs') | (df_layerwise_volumes['Exp']=='MG49_lhs') | (df_layerwise_volumes['Exp']=='MG50_lhs')]\n",
    "df_layerwise_volumes_rhs = df_layerwise_volumes[(df_layerwise_volumes['Exp']=='MG48_rhs') | (df_layerwise_volumes['Exp']=='MG49_rhs') | (df_layerwise_volumes['Exp']=='MG50_rhs')]\n"
   ]
  },
  {
   "cell_type": "code",
   "execution_count": 48,
   "id": "da3814b7",
   "metadata": {
    "scrolled": false
   },
   "outputs": [
    {
     "data": {
      "image/png": "[encoded data removed]",
      "text/plain": [
       "<Figure size 425.197x330.709 with 2 Axes>"
      ]
     },
     "metadata": {
      "needs_background": "light"
     },
     "output_type": "display_data"
    }
   ],
   "source": [
    "fig, axes = plt.subplots(nrows=1,ncols=2, sharex=True,sharey=True,figsize=(9*cm,7*cm),dpi=120)\n",
    "b1 = axes[0].boxplot(df_layerwise_volumes_lhs[['L1','L2_3','L5A','L5B','L6']])\n",
    "eb1 =axes[0].errorbar(x=[1,2,3,4,5],y=df_layerwise_volumes_lhs[['L1','L2_3','L5A','L5B','L6']].mean(),\\\n",
    "                   yerr=df_layerwise_volumes_lhs[['L1','L2_3','L5A','L5B','L6']].std(),\\\n",
    "             color='blue',marker='.',fmt='.')\n",
    "\n",
    "b2 = axes[1].boxplot(df_layerwise_volumes_rhs[['L1','L2_3','L5A','L5B','L6']])\n",
    "eb2 =axes[1].errorbar(x=[1,2,3,4,5],y=df_layerwise_volumes_rhs[['L1','L2_3','L5A','L5B','L6']].mean(),\\\n",
    "                   yerr=df_layerwise_volumes_rhs[['L1','L2_3','L5A','L5B','L6']].std(),\\\n",
    "             color='blue',marker='.',fmt='.')\n",
    "\n",
    "#plt.yticks(np.arange(0,110,10))\n",
    "#plt.xlabel(['L1','L2/3','L5A','L5B'])\n",
    "\n",
    "plt.setp(b1['boxes'], color='black')\n",
    "plt.setp(b1['whiskers'], color='black')\n",
    "plt.setp(b1['medians'], color='black')\n",
    "plt.setp(b1['caps'], color='black')\n",
    "plt.tight_layout()\n",
    "\n",
    "plt.setp(b2['boxes'], color='black')\n",
    "plt.setp(b2['whiskers'], color='black')\n",
    "plt.setp(b2['medians'], color='black')\n",
    "plt.setp(b2['caps'], color='black')\n",
    "plt.tight_layout()\n",
    "fig.savefig(input_path + 'Fig_2/layerwise_volumes.eps')"
   ]
  },
  {
   "cell_type": "code",
   "execution_count": 49,
   "id": "70bb0cd6",
   "metadata": {
    "scrolled": false
   },
   "outputs": [
    {
     "data": {
      "image/png": "[encoded data removed]",
      "text/plain": [
       "<Figure size 425.197x330.709 with 2 Axes>"
      ]
     },
     "metadata": {
      "needs_background": "light"
     },
     "output_type": "display_data"
    }
   ],
   "source": [
    "fig, axes = plt.subplots(nrows=1,ncols=2, sharex=True,sharey=True,figsize=(9*cm,7*cm),dpi=120)\n",
    "b1 = axes[0].boxplot(df_3d_counts_lhs[['L1','L2_3','L5A','L5B','L6']])\n",
    "eb1 =axes[0].errorbar(x=[1,2,3,4,5],y=df_3d_counts_lhs[['L1','L2_3','L5A','L5B','L6']].mean(),\\\n",
    "                   yerr=df_3d_counts_lhs[['L1','L2_3','L5A','L5B','L6']].std(),\\\n",
    "             color='blue',marker='.',fmt='.')\n",
    "\n",
    "b2 = axes[1].boxplot(df_3d_counts_rhs[['L1','L2_3','L5A','L5B','L6']])\n",
    "eb2 =axes[1].errorbar(x=[1,2,3,4,5],y=df_3d_counts_rhs[['L1','L2_3','L5A','L5B','L6']].mean(),\\\n",
    "                   yerr=df_3d_counts_rhs[['L1','L2_3','L5A','L5B','L6']].std(),\\\n",
    "             color='blue',marker='.',fmt='.')\n",
    "\n",
    "#plt.yticks(np.arange(0,110,10))\n",
    "#plt.xlabel(['L1','L2/3','L5A','L5B'])\n",
    "\n",
    "plt.setp(b1['boxes'], color='black')\n",
    "plt.setp(b1['whiskers'], color='black')\n",
    "plt.setp(b1['medians'], color='black')\n",
    "plt.setp(b1['caps'], color='black')\n",
    "plt.tight_layout()\n",
    "\n",
    "plt.setp(b2['boxes'], color='black')\n",
    "plt.setp(b2['whiskers'], color='black')\n",
    "plt.setp(b2['medians'], color='black')\n",
    "plt.setp(b2['caps'], color='black')\n",
    "plt.tight_layout()\n",
    "fig.savefig(input_path + 'Fig_2/layerwise_3d_cellcounts.eps')"
   ]
  },
  {
   "cell_type": "code",
   "execution_count": 50,
   "id": "5729abc5",
   "metadata": {
    "scrolled": false
   },
   "outputs": [
    {
     "data": {
      "image/png": "[encoded data removed]",
      "text/plain": [
       "<Figure size 425.197x330.709 with 2 Axes>"
      ]
     },
     "metadata": {
      "needs_background": "light"
     },
     "output_type": "display_data"
    }
   ],
   "source": [
    "fig, axes = plt.subplots(nrows=1,ncols=2, sharex=True,sharey=True,figsize=(9*cm,7*cm),dpi=120)\n",
    "b1 = axes[0].boxplot(df_3d_densities_lhs[['L1','L2_3','L5A','L5B','L6']])\n",
    "eb1 =axes[0].errorbar(x=[1,2,3,4,5],y=df_3d_densities_lhs[['L1','L2_3','L5A','L5B','L6']].mean(),\\\n",
    "                   yerr=df_3d_densities_lhs[['L1','L2_3','L5A','L5B','L6']].std(),\\\n",
    "             color='blue',marker='.',fmt='.')\n",
    "\n",
    "b2 = axes[1].boxplot(df_3d_densities_rhs[['L1','L2_3','L5A','L5B','L6']])\n",
    "eb2 =axes[1].errorbar(x=[1,2,3,4,5],y=df_3d_densities_rhs[['L1','L2_3','L5A','L5B','L6']].mean(),\\\n",
    "                   yerr=df_3d_densities_rhs[['L1','L2_3','L5A','L5B','L6']].std(),\\\n",
    "             color='blue',marker='.',fmt='.')\n",
    "\n",
    "#plt.yticks(np.arange(0,110,10))\n",
    "#plt.xlabel(['L1','L2/3','L5A','L5B'])\n",
    "\n",
    "plt.setp(b1['boxes'], color='black')\n",
    "plt.setp(b1['whiskers'], color='black')\n",
    "plt.setp(b1['medians'], color='black')\n",
    "plt.setp(b1['caps'], color='black')\n",
    "plt.tight_layout()\n",
    "\n",
    "plt.setp(b2['boxes'], color='black')\n",
    "plt.setp(b2['whiskers'], color='black')\n",
    "plt.setp(b2['medians'], color='black')\n",
    "plt.setp(b2['caps'], color='black')\n",
    "plt.tight_layout()\n",
    "fig.savefig(input_path + 'Fig_2/layerwise_3d_densities.eps')"
   ]
  },
  {
   "cell_type": "markdown",
   "id": "f0397dcd",
   "metadata": {},
   "source": [
    "## Comapare counts with vS1 counts"
   ]
  },
  {
   "cell_type": "code",
   "execution_count": 55,
   "id": "98669a14",
   "metadata": {
    "scrolled": true
   },
   "outputs": [
    {
     "data": {
      "image/png": "[encoded data removed]",
      "text/plain": [
       "<Figure size 141.732x330.709 with 1 Axes>"
      ]
     },
     "metadata": {
      "needs_background": "light"
     },
     "output_type": "display_data"
    }
   ],
   "source": [
    "\n",
    "N=1\n",
    "ind = np.arange(N)\n",
    "width = 0.35\n",
    "\n",
    "fig = plt.figure(figsize=(3*cm,7*cm),dpi=120)\n",
    "ax = fig.add_subplot(111)\n",
    "\n",
    "rects1 = ax.bar(ind, df_3d_counts.sum(axis=1).mean(), width, color='red', yerr=df_3d_counts.sum(axis=1).std())\n",
    "\n",
    "rects2 = ax.bar(ind+width, 529715, width, color='blue', yerr=39104)\n",
    "\n",
    "# add some\n",
    "plt.tight_layout()\n",
    "fig.savefig(input_path + 'Fig_2/3D_Count_Comparison.eps')"
   ]
  },
  {
   "cell_type": "code",
   "execution_count": 61,
   "id": "d2e44671",
   "metadata": {
    "scrolled": false
   },
   "outputs": [
    {
     "data": {
      "image/png": "[encoded data removed]",
      "text/plain": [
       "<Figure size 141.732x330.709 with 1 Axes>"
      ]
     },
     "metadata": {
      "needs_background": "light"
     },
     "output_type": "display_data"
    }
   ],
   "source": [
    "volumes = df_volumes[df_volumes['BR']=='vM1']['surf_vol'].values\n",
    "\n",
    "N=1\n",
    "ind = np.arange(N)\n",
    "width = 0.35\n",
    "\n",
    "fig = plt.figure(figsize=(3*cm,7*cm),dpi=120)\n",
    "ax = fig.add_subplot(111)\n",
    "\n",
    "rects1 = ax.bar(ind, volumes.mean(), width, color='red', yerr=volumes.std())\n",
    "\n",
    "rects2 = ax.bar(ind+width, 6.6*1e9, width, color='blue', yerr=0.58*1e9)\n",
    "\n",
    "# add some\n",
    "plt.tight_layout()\n",
    "fig.savefig(input_path + 'Fig_2/Volume_Comparison.eps')"
   ]
  },
  {
   "cell_type": "code",
   "execution_count": 64,
   "id": "760bfdda",
   "metadata": {
    "scrolled": false
   },
   "outputs": [
    {
     "data": {
      "image/png": "[encoded data removed]",
      "text/plain": [
       "<Figure size 188.976x330.709 with 1 Axes>"
      ]
     },
     "metadata": {
      "needs_background": "light"
     },
     "output_type": "display_data"
    }
   ],
   "source": [
    "densities = []\n",
    "df_volumes = pd.read_csv(input_path+'Fig_1/Rabies_Distribution/Variability/variability.csv')\n",
    "for exp in ['MG48','MG49','MG50']:\n",
    "    for hem in ['lhs','rhs']:\n",
    "        vol = df_volumes[(df_volumes['Exp']==exp) & (df_volumes['Hem']==hem) & (df_volumes['BR']=='vM1')]['surf_vol'].values[0]\n",
    "        counts = df_3d_counts[(df_3d_counts['Exp']==exp) & (df_3d_counts['Hem']==hem) ].sum(axis=1).values[0]\n",
    "        densities.append(counts*1e9/vol)\n",
    "\n",
    "N=1\n",
    "ind = np.arange(N)\n",
    "width = 0.35\n",
    "\n",
    "fig = plt.figure(figsize=(4*cm,7*cm),dpi=120)\n",
    "ax = fig.add_subplot(111)\n",
    "\n",
    "rects1 = ax.bar(ind, np.array(densities).mean(), width, color='red', yerr=np.array(densities).std())\n",
    "\n",
    "rects2 = ax.bar(ind+width, 80419, width, color='blue', yerr=3688)\n",
    "\n",
    "# add some\n",
    "plt.tight_layout()\n",
    "fig.savefig(input_path + 'Fig_2/Densities_Comparison.eps')\n",
    "\n"
   ]
  },
  {
   "cell_type": "markdown",
   "id": "044711d8",
   "metadata": {},
   "source": [
    "# Global v/s Local Ref Frame Comparison"
   ]
  },
  {
   "cell_type": "code",
   "execution_count": 523,
   "id": "663f6aae",
   "metadata": {},
   "outputs": [],
   "source": [
    "df_global =pd.read_csv('Z:/V11/vM1_Ref_Frame/Outputs/Alignment_Analysis/Global_Alignment_stats.csv')\n",
    "df_vm1 =pd.read_csv('Z:/V11/vM1_Ref_Frame/Outputs/Alignment_Analysis/vM1_stats.csv')\n",
    "df_s1bf =pd.read_csv('Z:/V11/vM1_Ref_Frame/Outputs/Alignment_Analysis/S1BF_stats.csv')"
   ]
  },
  {
   "cell_type": "code",
   "execution_count": 524,
   "id": "97076d70",
   "metadata": {
    "scrolled": true
   },
   "outputs": [
    {
     "data": {
      "text/plain": [
       "Index(['Unnamed: 0', 'Angular_Error_SEM', 'Angular_Precision_Mean',\n",
       "       'Angular_Precision_Std', 'BR', 'Barrel_Cortex_Center_Ellipsoid',\n",
       "       'Barrel_Cortex_Center_Ellipsoid_Norm',\n",
       "       'Barrel_Cortex_Center_Error_Dists_SEM',\n",
       "       'Barrel_Cortex_Center_Precision_Mean',\n",
       "       'Barrel_Cortex_Center_Precision_Std', 'Barrels_Angular_Error_SEM',\n",
       "       'Barrels_Angular_Precision_Mean', 'Barrels_Angular_Precision_Std',\n",
       "       'Barrels_Barrel_Center_Precision_Mean',\n",
       "       'Barrels_Barrel_Center_Precision_Std',\n",
       "       'Barrels_Barrel_Centers_Error_Ellipsoid_Mean',\n",
       "       'Barrels_Barrel_Centers_Error_Ellipsoid_Mean_Norm',\n",
       "       'Barrels_Barrel_Centers_Error_Ellipsoid_Std',\n",
       "       'Barrels_Barrel_Centers_Error_Ellipsoid_Std_Norm',\n",
       "       'Barrels_Column_Center_Precision_Mean',\n",
       "       'Barrels_Column_Center_Precision_Std',\n",
       "       'Barrels_Column_Error_Ellipsoid_Mean',\n",
       "       'Barrels_Column_Error_Ellipsoid_Mean_Norm',\n",
       "       'Barrels_Column_Error_Ellipsoid_Std',\n",
       "       'Barrels_Column_Error_Ellipsoid_Std_Norm',\n",
       "       'Barrels_Pia_Error_Ellipsoid_Mean',\n",
       "       'Barrels_Pia_Error_Ellipsoid_Mean_Norm',\n",
       "       'Barrels_Pia_Error_Ellipsoid_Std',\n",
       "       'Barrels_Pia_Error_Ellipsoid_Std_Norm', 'Barrels_Pia_Precision_Mean',\n",
       "       'Barrels_Pia_Precision_std', 'Barrels_WM_Error_Ellipsoid_Mean',\n",
       "       'Barrels_WM_Error_Ellipsoid_Mean_Norm',\n",
       "       'Barrels_WM_Error_Ellipsoid_Std', 'Barrels_WM_Error_Ellipsoid_Std_Norm',\n",
       "       'Barrels_WM_Precision_Mean', 'Barrels_WM_Precision_Std', 'Hem',\n",
       "       'Inner_Alignment_Type', 'Number_Of_Axis_Used', 'Outer_Alignment_Type',\n",
       "       'Overall_Rabies_landmarks', 'Overall_Volume',\n",
       "       'Overlap_Rabies_landmarks', 'Overlap_Volume',\n",
       "       'PCA_0_Angle_Between_Axes_Mean', 'PCA_0_Angle_Between_Axes_Std',\n",
       "       'PCA_1_Angle_Between_Axes_Mean', 'PCA_1_Angle_Between_Axes_Std',\n",
       "       'PCA_2_Angle_Between_Axes_Mean', 'PCA_2_Angle_Between_Axes_Std',\n",
       "       'PCA_Angular_Precision_Mean', 'PCA_Angular_Precision_SEM',\n",
       "       'PCA_Angular_Precision_Std', 'Pia_Error_Dist_SEM',\n",
       "       'Pia_Error_Ellipsoid_Mean', 'Pia_Error_Ellipsoid_Mean_Norm',\n",
       "       'Pia_Error_Ellipsoid_Std', 'Pia_Error_Ellipsoid_Std_Norm',\n",
       "       'Pia_Precision_Mean', 'Pia_Precision_Std', 'Rabies_Center_Ellipsoid',\n",
       "       'Rabies_Center_Ellipsoid_Norm', 'Rabies_Center_Error_Dists_SEM',\n",
       "       'Rabies_Center_Precision_Mean', 'Rabies_Center_Precision_Std',\n",
       "       'Rabies_Landmarks_Overlap_Percentage', 'Rabies_Surf_Center_Dists_Mean',\n",
       "       'Rabies_Surf_Center_Dists_Std', 'Rabies_Surf_Center_Ellipsoid',\n",
       "       'Rabies_Surf_Center_Ellipsoid_Norm',\n",
       "       'Rabies_Surf_Center_Error_Dists_SEM', 'Surf_Center_Ellipsoid',\n",
       "       'Surf_Center_Ellipsoid_Norm', 'Surf_Center_Error_Dists_SEM',\n",
       "       'Surf_Center_Precision_Mean', 'Surf_Center_Precision_Std',\n",
       "       'Volume_Overlap_Percentage', 'WM_Error_Dist_SEM',\n",
       "       'WM_Error_Ellipsoid_Mean', 'WM_Error_Ellipsoid_Mean_Norm',\n",
       "       'WM_Precision_Mean', 'WM_Precision_Std'],\n",
       "      dtype='object')"
      ]
     },
     "execution_count": 524,
     "metadata": {},
     "output_type": "execute_result"
    }
   ],
   "source": [
    "df_global.columns"
   ]
  },
  {
   "cell_type": "markdown",
   "id": "a1912791",
   "metadata": {},
   "source": [
    "## Center Precisions"
   ]
  },
  {
   "cell_type": "code",
   "execution_count": 525,
   "id": "0372eee2",
   "metadata": {
    "scrolled": false
   },
   "outputs": [
    {
     "data": {
      "image/png": "[encoded data removed]",
      "text/plain": [
       "<Figure size 472.441x330.709 with 1 Axes>"
      ]
     },
     "metadata": {
      "needs_background": "light"
     },
     "output_type": "display_data"
    }
   ],
   "source": [
    "N=5\n",
    "ind = np.arange(N)\n",
    "width = 0.25\n",
    "\n",
    "fig = plt.figure(figsize=(10*cm,7*cm),dpi=120)\n",
    "ax = fig.add_subplot(111)\n",
    "\n",
    "rects1 = ax.bar(ind,[df_global[(df_global['Inner_Alignment_Type']=='Using_Surface') & (df_global['BR']=='WB')][['Surf_Center_Precision_Mean',]].mean().values[0],\\\n",
    "                     df_global[(df_global['Inner_Alignment_Type']=='Using_Local_Centers') & (df_global['BR']=='WB')][['Surf_Center_Precision_Mean',]].mean().values[0],\\\n",
    "                     df_global[(df_global['Inner_Alignment_Type']=='Using_Local_Rabies_Surfaces') & (df_global['BR']=='WB')][['Surf_Center_Precision_Mean',]].mean().values[0],\\\n",
    "                     df_vm1[(df_vm1['Inner_Alignment_Type']=='Using_Center') & (df_vm1['BR']=='WB')][['Surf_Center_Precision_Mean',]].mean().values[0],\\\n",
    "                     df_s1bf[(df_s1bf['Inner_Alignment_Type']=='Use_Barrels_Alone') & (df_s1bf['BR']=='WB')][['Surf_Center_Precision_Mean',]].mean().values[0],\\\n",
    "                    ],\\\n",
    "                     width, color='red', \\\n",
    "                yerr=[df_global[(df_global['Inner_Alignment_Type']=='Using_Surface') & (df_global['BR']=='WB')][['Surf_Center_Precision_Std',]].mean().values[0],\\\n",
    "                     df_global[(df_global['Inner_Alignment_Type']=='Using_Local_Centers') & (df_global['BR']=='WB')][['Surf_Center_Precision_Std',]].mean().values[0],\\\n",
    "                     df_global[(df_global['Inner_Alignment_Type']=='Using_Local_Rabies_Surfaces') & (df_global['BR']=='WB')][['Surf_Center_Precision_Std',]].mean().values[0],\\\n",
    "                     df_vm1[(df_vm1['Inner_Alignment_Type']=='Using_Center') & (df_vm1['BR']=='WB')][['Surf_Center_Precision_Std',]].mean().values[0],\\\n",
    "                     df_s1bf[(df_s1bf['Inner_Alignment_Type']=='Use_Barrels_Alone') & (df_s1bf['BR']=='WB')][['Surf_Center_Precision_Std',]].mean().values[0],\\\n",
    "                     ],\\\n",
    "                     )\n",
    "\n",
    "rects2 = ax.bar(ind+width,[df_global[(df_global['Inner_Alignment_Type']=='Using_Surface') & (df_global['BR']=='vM1')][['Rabies_Surf_Center_Dists_Mean',]].mean().values[0],\\\n",
    "                     df_global[(df_global['Inner_Alignment_Type']=='Using_Local_Centers') & (df_global['BR']=='vM1')][['Rabies_Surf_Center_Dists_Mean',]].mean().values[0],\\\n",
    "                     df_global[(df_global['Inner_Alignment_Type']=='Using_Local_Rabies_Surfaces') & (df_global['BR']=='vM1')][['Rabies_Surf_Center_Dists_Mean',]].mean().values[0],\\\n",
    "                     df_vm1[(df_vm1['Inner_Alignment_Type']=='Using_Center') & (df_vm1['BR']=='vM1')][['Rabies_Surf_Center_Dists_Mean',]].mean().values[0],\\\n",
    "                     df_s1bf[(df_s1bf['Inner_Alignment_Type']=='Use_Barrels_Alone') & (df_s1bf['BR']=='vM1')][['Rabies_Surf_Center_Dists_Mean',]].mean().values[0],\\\n",
    "                    ],\\\n",
    "                     width, color='green', \\\n",
    "                yerr=[df_global[(df_global['Inner_Alignment_Type']=='Using_Surface') & (df_global['BR']=='vM1')][['Rabies_Surf_Center_Dists_Std',]].mean().values[0],\\\n",
    "                     df_global[(df_global['Inner_Alignment_Type']=='Using_Local_Centers') & (df_global['BR']=='vM1')][['Rabies_Surf_Center_Dists_Std',]].mean().values[0],\\\n",
    "                     df_global[(df_global['Inner_Alignment_Type']=='Using_Local_Rabies_Surfaces') & (df_global['BR']=='vM1')][['Rabies_Surf_Center_Dists_Std',]].mean().values[0],\\\n",
    "                     df_vm1[(df_vm1['Inner_Alignment_Type']=='Using_Center') & (df_vm1['BR']=='vM1')][['Rabies_Surf_Center_Dists_Std',]].mean().values[0],\\\n",
    "                     df_s1bf[(df_s1bf['Inner_Alignment_Type']=='Use_Barrels_Alone') & (df_s1bf['BR']=='vM1')][['Rabies_Surf_Center_Dists_Std',]].mean().values[0],\\\n",
    "                     ],\\\n",
    "                     )\n",
    "\n",
    "rects3 = ax.bar(ind+2*width,[df_global[(df_global['Inner_Alignment_Type']=='Using_Surface') & (df_global['BR']=='vM1')][['Barrels_Barrel_Center_Precision_Mean',]].mean().values[0],\\\n",
    "                     df_global[(df_global['Inner_Alignment_Type']=='Using_Local_Centers') & (df_global['BR']=='vM1')][['Barrels_Barrel_Center_Precision_Mean',]].mean().values[0],\\\n",
    "                     df_global[(df_global['Inner_Alignment_Type']=='Using_Local_Rabies_Surfaces') & (df_global['BR']=='vM1')][['Barrels_Barrel_Center_Precision_Mean',]].mean().values[0],\\\n",
    "                     df_vm1[(df_vm1['Inner_Alignment_Type']=='Using_Center') & (df_vm1['BR']=='vM1')][['Barrels_Barrel_Center_Precision_Mean',]].mean().values[0],\\\n",
    "                     df_s1bf[(df_s1bf['Inner_Alignment_Type']=='Use_Barrels_Alone') & (df_s1bf['BR']=='vM1')][['Barrels_Barrel_Center_Precision_Mean',]].mean().values[0],\\\n",
    "                    ],\\\n",
    "                     width, color='blue', \\\n",
    "                yerr=[df_global[(df_global['Inner_Alignment_Type']=='Using_Surface') & (df_global['BR']=='vS1')][['Barrels_Barrel_Center_Precision_Std',]].mean().values[0],\\\n",
    "                     df_global[(df_global['Inner_Alignment_Type']=='Using_Local_Centers') & (df_global['BR']=='vS1')][['Barrels_Barrel_Center_Precision_Std',]].mean().values[0],\\\n",
    "                     df_global[(df_global['Inner_Alignment_Type']=='Using_Local_Rabies_Surfaces') & (df_global['BR']=='vS1')][['Barrels_Barrel_Center_Precision_Std',]].mean().values[0],\\\n",
    "                     df_vm1[(df_vm1['Inner_Alignment_Type']=='Using_Center') & (df_vm1['BR']=='vS1')][['Barrels_Barrel_Center_Precision_Std',]].mean().values[0],\\\n",
    "                     df_s1bf[(df_s1bf['Inner_Alignment_Type']=='Use_Barrels_Alone') & (df_s1bf['BR']=='vS1')][['Barrels_Barrel_Center_Precision_Std',]].mean().values[0],\\\n",
    "                     ],\\\n",
    "                     )\n",
    "\n",
    "ticks = plt.yticks(np.arange(0,1500,100))\n",
    "#rects2 = ax.bar(ind+width, df_global[(df_global['Inner_Alignment_Type']=='Using_Local_Centers') & (df_global['BR']=='WB')][['Surf_Center_Precision_Mean',]].mean().values[0], width, color='blue', \\\n",
    "#                yerr=df_global[(df_global['Inner_Alignment_Type']=='Using_Local_Centers') & (df_global['BR']=='WB')][['Surf_Center_Precision_Std',]].mean().values[0])\n",
    "\n",
    "#rects1 = ax.bar(ind, df_global[(df_global['Inner_Alignment_Type']=='Using_Surface') & (df_global['BR']=='WB')][['Surf_Center_Precision_Mean',]].mean().values[0], width, color='red', \\\n",
    "#                yerr=df_global[(df_global['Inner_Alignment_Type']=='Using_Surface') & (df_global['BR']=='WB')][['Surf_Center_Precision_Std',]].mean().values[0])\n",
    "\n",
    "#rects2 = ax.bar(ind+width, df_global[(df_global['Inner_Alignment_Type']=='Using_Local_Centers') & (df_global['BR']=='WB')][['Surf_Center_Precision_Mean',]].mean().values[0], width, color='blue', \\\n",
    "#                yerr=df_global[(df_global['Inner_Alignment_Type']=='Using_Local_Centers') & (df_global['BR']=='WB')][['Surf_Center_Precision_Std',]].mean().values[0])\n",
    "\n",
    "plt.tight_layout()\n",
    "fig.savefig(input_path + 'Fig_3/Centers_Precision.eps')"
   ]
  },
  {
   "cell_type": "markdown",
   "id": "2c82460b",
   "metadata": {},
   "source": [
    "## Pia Precisions"
   ]
  },
  {
   "cell_type": "code",
   "execution_count": 526,
   "id": "2289a153",
   "metadata": {
    "scrolled": false
   },
   "outputs": [
    {
     "data": {
      "image/png": "[encoded data removed]",
      "text/plain": [
       "<Figure size 472.441x330.709 with 1 Axes>"
      ]
     },
     "metadata": {
      "needs_background": "light"
     },
     "output_type": "display_data"
    }
   ],
   "source": [
    "N=5\n",
    "ind = np.arange(N)\n",
    "width = 0.25\n",
    "\n",
    "fig = plt.figure(figsize=(10*cm,7*cm),dpi=120)\n",
    "ax = fig.add_subplot(111)\n",
    "\n",
    "rects1 = ax.bar(ind,[df_global[(df_global['Inner_Alignment_Type']=='Using_Surface') & (df_global['BR']=='WB')][['Pia_Precision_Mean',]].mean().values[0],\\\n",
    "                     df_global[(df_global['Inner_Alignment_Type']=='Using_Local_Centers') & (df_global['BR']=='WB')][['Pia_Precision_Mean',]].mean().values[0],\\\n",
    "                     df_global[(df_global['Inner_Alignment_Type']=='Using_Local_Rabies_Surfaces') & (df_global['BR']=='WB')][['Pia_Precision_Mean',]].mean().values[0],\\\n",
    "                     df_vm1[(df_vm1['Inner_Alignment_Type']=='Using_Surface') & (df_vm1['BR']=='WB')][['Pia_Precision_Mean',]].mean().values[0],\\\n",
    "                     df_s1bf[(df_s1bf['Inner_Alignment_Type']=='Use_Projections_Alone') & (df_s1bf['BR']=='WB')][['Pia_Precision_Mean',]].mean().values[0],\\\n",
    "                    ],\\\n",
    "                     width, color='red', \\\n",
    "                yerr=[df_global[(df_global['Inner_Alignment_Type']=='Using_Surface') & (df_global['BR']=='WB')][['Pia_Precision_Std',]].mean().values[0],\\\n",
    "                     df_global[(df_global['Inner_Alignment_Type']=='Using_Local_Centers') & (df_global['BR']=='WB')][['Pia_Precision_Std',]].mean().values[0],\\\n",
    "                     df_global[(df_global['Inner_Alignment_Type']=='Using_Local_Rabies_Surfaces') & (df_global['BR']=='WB')][['Pia_Precision_Std',]].mean().values[0],\\\n",
    "                     df_vm1[(df_vm1['Inner_Alignment_Type']=='Using_Surface') & (df_vm1['BR']=='WB')][['Pia_Precision_Std',]].mean().values[0],\\\n",
    "                     df_s1bf[(df_s1bf['Inner_Alignment_Type']=='Use_Projections_Alone') & (df_s1bf['BR']=='WB')][['Pia_Precision_Std',]].mean().values[0],\\\n",
    "                     ],\\\n",
    "                     )\n",
    "\n",
    "rects2 = ax.bar(ind+width,[df_global[(df_global['Inner_Alignment_Type']=='Using_Center') & (df_global['BR']=='vM1')][['Pia_Precision_Mean',]].values[0][0],\\\n",
    "                     df_global[(df_global['Inner_Alignment_Type']=='Using_Local_Centers') & (df_global['BR']=='vM1')][['Pia_Precision_Mean',]].mean().values[0],\\\n",
    "                     df_global[(df_global['Inner_Alignment_Type']=='Using_Local_Rabies_Surfaces') & (df_global['BR']=='vM1')][['Pia_Precision_Mean',]].mean().values[0],\\\n",
    "                     df_vm1[(df_vm1['Inner_Alignment_Type']=='Using_Surface') & (df_vm1['BR']=='vM1')][['Pia_Precision_Mean',]].values[0][0],\\\n",
    "                     df_s1bf[(df_s1bf['Inner_Alignment_Type']=='Use_Projections_Alone') & (df_s1bf['BR']=='vM1')][['Pia_Precision_Mean',]].mean().values[0],\\\n",
    "                    ],\\\n",
    "                     width, color='green', \\\n",
    "                yerr=[df_global[(df_global['Inner_Alignment_Type']=='Using_Center') & (df_global['BR']=='vM1')][['Pia_Precision_Std',]].mean().values[0],\\\n",
    "                     df_global[(df_global['Inner_Alignment_Type']=='Using_Local_Centers') & (df_global['BR']=='vM1')][['Pia_Precision_Std',]].mean().values[0],\\\n",
    "                     df_global[(df_global['Inner_Alignment_Type']=='Using_Local_Rabies_Surfaces') & (df_global['BR']=='vM1')][['Pia_Precision_Std',]].mean().values[0],\\\n",
    "                     df_vm1[(df_vm1['Inner_Alignment_Type']=='Using_Surface') & (df_vm1['BR']=='vM1')][['Pia_Precision_Std',]].values[0][0],\\\n",
    "                     df_s1bf[(df_s1bf['Inner_Alignment_Type']=='Use_Projections_Alone') & (df_s1bf['BR']=='vM1')][['Pia_Precision_Std',]].mean().values[0],\\\n",
    "                     ],\\\n",
    "                     )\n",
    "\n",
    "rects3 = ax.bar(ind+2*width,[df_global[(df_global['Inner_Alignment_Type']=='Using_Surface') & (df_global['BR']=='vM1')][['Barrels_Pia_Precision_Mean',]].mean().values[0],\\\n",
    "                     df_global[(df_global['Inner_Alignment_Type']=='Using_Local_Centers') & (df_global['BR']=='vM1')][['Barrels_Pia_Precision_Mean',]].mean().values[0],\\\n",
    "                     df_global[(df_global['Inner_Alignment_Type']=='Using_Local_Rabies_Surfaces') & (df_global['BR']=='vM1')][['Barrels_Pia_Precision_Mean',]].mean().values[0],\\\n",
    "                     df_vm1[(df_vm1['Inner_Alignment_Type']=='Using_Center') & (df_vm1['BR']=='vM1')][['Barrels_Pia_Precision_Mean',]].mean().values[0],\\\n",
    "                     df_s1bf[(df_s1bf['Inner_Alignment_Type']=='Use_Projections_Alone') & (df_s1bf['BR']=='vM1')][['Barrels_Pia_Precision_Mean',]].mean().values[0],\\\n",
    "                    ],\\\n",
    "                     width, color='blue', \\\n",
    "                yerr=[df_global[(df_global['Inner_Alignment_Type']=='Using_Surface') & (df_global['BR']=='vS1')][['Barrels_Pia_Precision_std',]].mean().values[0],\\\n",
    "                     df_global[(df_global['Inner_Alignment_Type']=='Using_Local_Centers') & (df_global['BR']=='vS1')][['Barrels_Pia_Precision_std',]].mean().values[0],\\\n",
    "                     df_global[(df_global['Inner_Alignment_Type']=='Using_Local_Rabies_Surfaces') & (df_global['BR']=='vS1')][['Barrels_Pia_Precision_std',]].mean().values[0],\\\n",
    "                     df_vm1[(df_vm1['Inner_Alignment_Type']=='Using_Center') & (df_vm1['BR']=='vS1')][['Barrels_Pia_Precision_std',]].mean().values[0],\\\n",
    "                     df_s1bf[(df_s1bf['Inner_Alignment_Type']=='Use_Projections_Alone') & (df_s1bf['BR']=='vS1')][['Barrels_Pia_Precision_std',]].mean().values[0],\\\n",
    "                     ],\\\n",
    "                     )\n",
    "\n",
    "ticks = plt.yticks(np.arange(0,1500,100))\n",
    "#rects2 = ax.bar(ind+width, df_global[(df_global['Inner_Alignment_Type']=='Using_Local_Centers') & (df_global['BR']=='WB')][['Surf_Center_Precision_Mean',]].mean().values[0], width, color='blue', \\\n",
    "#                yerr=df_global[(df_global['Inner_Alignment_Type']=='Using_Local_Centers') & (df_global['BR']=='WB')][['Surf_Center_Precision_Std',]].mean().values[0])\n",
    "\n",
    "#rects1 = ax.bar(ind, df_global[(df_global['Inner_Alignment_Type']=='Using_Surface') & (df_global['BR']=='WB')][['Surf_Center_Precision_Mean',]].mean().values[0], width, color='red', \\\n",
    "#                yerr=df_global[(df_global['Inner_Alignment_Type']=='Using_Surface') & (df_global['BR']=='WB')][['Surf_Center_Precision_Std',]].mean().values[0])\n",
    "\n",
    "#rects2 = ax.bar(ind+width, df_global[(df_global['Inner_Alignment_Type']=='Using_Local_Centers') & (df_global['BR']=='WB')][['Surf_Center_Precision_Mean',]].mean().values[0], width, color='blue', \\\n",
    "#                yerr=df_global[(df_global['Inner_Alignment_Type']=='Using_Local_Centers') & (df_global['BR']=='WB')][['Surf_Center_Precision_Std',]].mean().values[0])\n",
    "\n",
    "plt.tight_layout()\n",
    "fig.savefig(input_path + 'Fig_3/Pia_Precision.eps')"
   ]
  },
  {
   "cell_type": "markdown",
   "id": "38113cb7",
   "metadata": {},
   "source": [
    "## WM Precisions"
   ]
  },
  {
   "cell_type": "code",
   "execution_count": 527,
   "id": "47b6aaac",
   "metadata": {
    "scrolled": true
   },
   "outputs": [
    {
     "data": {
      "image/png": "[encoded data removed]",
      "text/plain": [
       "<Figure size 472.441x330.709 with 1 Axes>"
      ]
     },
     "metadata": {
      "needs_background": "light"
     },
     "output_type": "display_data"
    }
   ],
   "source": [
    "N=5\n",
    "ind = np.arange(N)\n",
    "width = 0.25\n",
    "\n",
    "fig = plt.figure(figsize=(10*cm,7*cm),dpi=120)\n",
    "ax = fig.add_subplot(111)\n",
    "\n",
    "rects1 = ax.bar(ind,[df_global[(df_global['Inner_Alignment_Type']=='Using_Surface') & (df_global['BR']=='WB')][['WM_Precision_Mean',]].mean().values[0],\\\n",
    "                     df_global[(df_global['Inner_Alignment_Type']=='Using_Local_Centers') & (df_global['BR']=='WB')][['WM_Precision_Mean',]].mean().values[0],\\\n",
    "                     df_global[(df_global['Inner_Alignment_Type']=='Using_Local_Rabies_Surfaces') & (df_global['BR']=='WB')][['WM_Precision_Mean',]].mean().values[0],\\\n",
    "                     df_vm1[(df_vm1['Inner_Alignment_Type']=='Using_Surface') & (df_vm1['BR']=='WB')][['WM_Precision_Mean',]].mean().values[0],\\\n",
    "                     df_s1bf[(df_s1bf['Inner_Alignment_Type']=='Use_Projections_Alone') & (df_s1bf['BR']=='WB')][['WM_Precision_Mean',]].mean().values[0],\\\n",
    "                    ],\\\n",
    "                     width, color='red', \\\n",
    "                yerr=[df_global[(df_global['Inner_Alignment_Type']=='Using_Surface') & (df_global['BR']=='WB')][['WM_Precision_Std',]].mean().values[0],\\\n",
    "                     df_global[(df_global['Inner_Alignment_Type']=='Using_Local_Centers') & (df_global['BR']=='WB')][['WM_Precision_Std',]].mean().values[0],\\\n",
    "                     df_global[(df_global['Inner_Alignment_Type']=='Using_Local_Rabies_Surfaces') & (df_global['BR']=='WB')][['WM_Precision_Std',]].mean().values[0],\\\n",
    "                     df_vm1[(df_vm1['Inner_Alignment_Type']=='Using_Surface') & (df_vm1['BR']=='WB')][['WM_Precision_Std',]].mean().values[0],\\\n",
    "                     df_s1bf[(df_s1bf['Inner_Alignment_Type']=='Use_Projections_Alone') & (df_s1bf['BR']=='WB')][['WM_Precision_Std',]].mean().values[0],\\\n",
    "                     ],\\\n",
    "                     )\n",
    "\n",
    "rects2 = ax.bar(ind+width,[df_global[(df_global['Inner_Alignment_Type']=='Using_Center') & (df_global['BR']=='vM1')][['WM_Precision_Mean',]].mean().values[0],\\\n",
    "                     df_global[(df_global['Inner_Alignment_Type']=='Using_Local_Centers') & (df_global['BR']=='vM1')][['WM_Precision_Mean',]].mean().values[0],\\\n",
    "                     df_global[(df_global['Inner_Alignment_Type']=='Using_Local_Rabies_Surfaces') & (df_global['BR']=='vM1')][['WM_Precision_Mean',]].mean().values[0],\\\n",
    "                     df_vm1[(df_vm1['Inner_Alignment_Type']=='Using_Surface') & (df_vm1['BR']=='vM1')][['WM_Precision_Mean',]].values[0][0],\\\n",
    "                     df_s1bf[(df_s1bf['Inner_Alignment_Type']=='Use_Projections_Alone') & (df_s1bf['BR']=='vM1')][['WM_Precision_Mean',]].mean().values[0],\\\n",
    "                    ],\\\n",
    "                     width, color='green', \\\n",
    "                yerr=[df_global[(df_global['Inner_Alignment_Type']=='Using_Center') & (df_global['BR']=='vM1')][['WM_Precision_Std',]].mean().values[0],\\\n",
    "                     df_global[(df_global['Inner_Alignment_Type']=='Using_Local_Centers') & (df_global['BR']=='vM1')][['WM_Precision_Std',]].mean().values[0],\\\n",
    "                     df_global[(df_global['Inner_Alignment_Type']=='Using_Local_Rabies_Surfaces') & (df_global['BR']=='vM1')][['WM_Precision_Std',]].mean().values[0],\\\n",
    "                     df_vm1[(df_vm1['Inner_Alignment_Type']=='Using_Surface') & (df_vm1['BR']=='vM1')][['WM_Precision_Std',]].values[0][0],\\\n",
    "                     df_s1bf[(df_s1bf['Inner_Alignment_Type']=='Use_Projections_Alone') & (df_s1bf['BR']=='vM1')][['WM_Precision_Std',]].mean().values[0],\\\n",
    "                     ],\\\n",
    "                     )\n",
    "\n",
    "rects3 = ax.bar(ind+2*width,[df_global[(df_global['Inner_Alignment_Type']=='Using_Surface') & (df_global['BR']=='vM1')][['Barrels_WM_Precision_Mean',]].mean().values[0],\\\n",
    "                     df_global[(df_global['Inner_Alignment_Type']=='Using_Local_Centers') & (df_global['BR']=='vM1')][['Barrels_WM_Precision_Mean',]].mean().values[0],\\\n",
    "                     df_global[(df_global['Inner_Alignment_Type']=='Using_Local_Rabies_Surfaces') & (df_global['BR']=='vM1')][['Barrels_WM_Precision_Mean',]].mean().values[0],\\\n",
    "                     df_vm1[(df_vm1['Inner_Alignment_Type']=='Using_Center') & (df_vm1['BR']=='vM1')][['Barrels_WM_Precision_Mean',]].mean().values[0],\\\n",
    "                     df_s1bf[(df_s1bf['Inner_Alignment_Type']=='Use_Projections_Alone') & (df_s1bf['BR']=='vM1')][['Barrels_WM_Precision_Mean',]].mean().values[0],\\\n",
    "                    ],\\\n",
    "                     width, color='blue', \\\n",
    "                yerr=[df_global[(df_global['Inner_Alignment_Type']=='Using_Surface') & (df_global['BR']=='vS1')][['Barrels_WM_Precision_Std',]].mean().values[0],\\\n",
    "                     df_global[(df_global['Inner_Alignment_Type']=='Using_Local_Centers') & (df_global['BR']=='vS1')][['Barrels_WM_Precision_Std',]].mean().values[0],\\\n",
    "                     df_global[(df_global['Inner_Alignment_Type']=='Using_Local_Rabies_Surfaces') & (df_global['BR']=='vS1')][['Barrels_WM_Precision_Std',]].mean().values[0],\\\n",
    "                     df_vm1[(df_vm1['Inner_Alignment_Type']=='Using_Center') & (df_vm1['BR']=='vS1')][['Barrels_WM_Precision_Std',]].mean().values[0],\\\n",
    "                     df_s1bf[(df_s1bf['Inner_Alignment_Type']=='Use_Projections_Alone') & (df_s1bf['BR']=='vS1')][['Barrels_WM_Precision_Std',]].mean().values[0],\\\n",
    "                     ],\\\n",
    "                     )\n",
    "\n",
    "ticks = plt.yticks(np.arange(0,1500,100))\n",
    "#rects2 = ax.bar(ind+width, df_global[(df_global['Inner_Alignment_Type']=='Using_Local_Centers') & (df_global['BR']=='WB')][['Surf_Center_Precision_Mean',]].mean().values[0], width, color='blue', \\\n",
    "#                yerr=df_global[(df_global['Inner_Alignment_Type']=='Using_Local_Centers') & (df_global['BR']=='WB')][['Surf_Center_Precision_Std',]].mean().values[0])\n",
    "\n",
    "#rects1 = ax.bar(ind, df_global[(df_global['Inner_Alignment_Type']=='Using_Surface') & (df_global['BR']=='WB')][['Surf_Center_Precision_Mean',]].mean().values[0], width, color='red', \\\n",
    "#                yerr=df_global[(df_global['Inner_Alignment_Type']=='Using_Surface') & (df_global['BR']=='WB')][['Surf_Center_Precision_Std',]].mean().values[0])\n",
    "\n",
    "#rects2 = ax.bar(ind+width, df_global[(df_global['Inner_Alignment_Type']=='Using_Local_Centers') & (df_global['BR']=='WB')][['Surf_Center_Precision_Mean',]].mean().values[0], width, color='blue', \\\n",
    "#                yerr=df_global[(df_global['Inner_Alignment_Type']=='Using_Local_Centers') & (df_global['BR']=='WB')][['Surf_Center_Precision_Std',]].mean().values[0])\n",
    "\n",
    "plt.tight_layout()\n",
    "fig.savefig(input_path + 'Fig_3/WM_Precision.eps')"
   ]
  },
  {
   "cell_type": "markdown",
   "id": "7fbf729c",
   "metadata": {},
   "source": [
    "## Angular Precisions"
   ]
  },
  {
   "cell_type": "code",
   "execution_count": 541,
   "id": "cb72c4db",
   "metadata": {
    "scrolled": false
   },
   "outputs": [
    {
     "data": {
      "image/png": "[encoded data removed]",
      "text/plain": [
       "<Figure size 472.441x330.709 with 1 Axes>"
      ]
     },
     "metadata": {
      "needs_background": "light"
     },
     "output_type": "display_data"
    }
   ],
   "source": [
    "N=5\n",
    "ind = np.arange(N)\n",
    "width = 0.25\n",
    "\n",
    "fig = plt.figure(figsize=(10*cm,7*cm),dpi=120)\n",
    "ax = fig.add_subplot(111)\n",
    "\n",
    "rects1 = ax.bar(ind,[df_global[(df_global['Inner_Alignment_Type']=='Using_Surface') & (df_global['BR']=='WB')][['PCA_Angular_Precision_Mean',]].mean().values[0],\\\n",
    "                     df_global[(df_global['Inner_Alignment_Type']=='Using_Local_Centers') & (df_global['BR']=='WB')][['PCA_Angular_Precision_Mean',]].mean().values[0],\\\n",
    "                     df_global[(df_global['Inner_Alignment_Type']=='Using_Local_Rabies_Surfaces') & (df_global['BR']=='WB')][['PCA_Angular_Precision_Mean',]].mean().values[0],\\\n",
    "                     df_vm1[(df_vm1['Inner_Alignment_Type']=='Using_Rabies_Surface') & (df_vm1['BR']=='WB')][['PCA_Angular_Precision_Mean',]].mean().values[0],\\\n",
    "                     df_s1bf[(df_s1bf['Inner_Alignment_Type']=='Use_Projections_Alone') & (df_s1bf['BR']=='WB')][['PCA_Angular_Precision_Mean',]].mean().values[0],\\\n",
    "                    ],\\\n",
    "                     width, color='red', \\\n",
    "                yerr=[df_global[(df_global['Inner_Alignment_Type']=='Using_Surface') & (df_global['BR']=='WB')][['PCA_Angular_Precision_Std',]].mean().values[0],\\\n",
    "                     df_global[(df_global['Inner_Alignment_Type']=='Using_Local_Centers') & (df_global['BR']=='WB')][['PCA_Angular_Precision_Std',]].mean().values[0],\\\n",
    "                     df_global[(df_global['Inner_Alignment_Type']=='Using_Local_Rabies_Surfaces') & (df_global['BR']=='WB')][['PCA_Angular_Precision_Std',]].mean().values[0],\\\n",
    "                     df_vm1[(df_vm1['Inner_Alignment_Type']=='Using_Rabies_Surface') & (df_vm1['BR']=='WB')][['PCA_Angular_Precision_Std',]].mean().values[0],\\\n",
    "                     df_s1bf[(df_s1bf['Inner_Alignment_Type']=='Use_Projections_Alone') & (df_s1bf['BR']=='WB')][['PCA_Angular_Precision_Std',]].mean().values[0],\\\n",
    "                     ],\\\n",
    "                     )\n",
    "\n",
    "rects2 = ax.bar(ind+width,[df_global[(df_global['Inner_Alignment_Type']=='Using_Surface') & (df_global['BR']=='vM1')][['PCA_Angular_Precision_Mean',]].mean().values[0],\\\n",
    "                     df_global[(df_global['Inner_Alignment_Type']=='Using_Local_Centers') & (df_global['BR']=='vM1')][['PCA_Angular_Precision_Mean',]].mean().values[0],\\\n",
    "                     df_global[(df_global['Inner_Alignment_Type']=='Using_Local_Rabies_Surfaces') & (df_global['BR']=='vM1')][['PCA_Angular_Precision_Mean',]].mean().values[0],\\\n",
    "                     df_vm1[(df_vm1['Inner_Alignment_Type']=='Using_Surface') & (df_vm1['BR']=='vM1')][['PCA_Angular_Precision_Mean',]].values[0][0],\\\n",
    "                     df_s1bf[(df_s1bf['Inner_Alignment_Type']=='Use_Projections_Alone') & (df_s1bf['BR']=='vM1')][['PCA_Angular_Precision_Mean',]].mean().values[0],\\\n",
    "                    ],\\\n",
    "                     width, color='green', \\\n",
    "                yerr=[df_global[(df_global['Inner_Alignment_Type']=='Using_Surface') & (df_global['BR']=='vM1')][['PCA_Angular_Precision_Std',]].mean().values[0],\\\n",
    "                     df_global[(df_global['Inner_Alignment_Type']=='Using_Local_Centers') & (df_global['BR']=='vM1')][['PCA_Angular_Precision_Std',]].mean().values[0],\\\n",
    "                     df_global[(df_global['Inner_Alignment_Type']=='Using_Local_Rabies_Surfaces') & (df_global['BR']=='vM1')][['PCA_Angular_Precision_Std',]].mean().values[0],\\\n",
    "                     df_vm1[(df_vm1['Inner_Alignment_Type']=='Using_Surface') & (df_vm1['BR']=='vM1')][['PCA_Angular_Precision_Std',]].values[0][0],\\\n",
    "                     df_s1bf[(df_s1bf['Inner_Alignment_Type']=='Use_Projections_Alone') & (df_s1bf['BR']=='vM1')][['PCA_Angular_Precision_Std',]].mean().values[0],\\\n",
    "                     ],\\\n",
    "                     )\n",
    "\n",
    "rects3 = ax.bar(ind+2*width,[df_global[(df_global['Inner_Alignment_Type']=='Using_Surface') & (df_global['BR']=='vM1')][['Barrels_Angular_Precision_Mean',]].mean().values[0],\\\n",
    "                     df_global[(df_global['Inner_Alignment_Type']=='Using_Local_Centers') & (df_global['BR']=='vM1')][['Barrels_Angular_Precision_Mean',]].mean().values[0],\\\n",
    "                     df_global[(df_global['Inner_Alignment_Type']=='Using_Local_Rabies_Surfaces') & (df_global['BR']=='vM1')][['Barrels_Angular_Precision_Mean',]].mean().values[0],\\\n",
    "                     df_vm1[(df_vm1['Inner_Alignment_Type']=='Using_Rabies_Surface') & (df_vm1['BR']=='vM1')][['Barrels_Angular_Precision_Mean',]].mean().values[0],\\\n",
    "                     df_s1bf[(df_s1bf['Inner_Alignment_Type']=='Use_Projections_Alone') & (df_s1bf['BR']=='vM1')][['Barrels_Angular_Precision_Mean',]].mean().values[0],\\\n",
    "                    ],\\\n",
    "                     width, color='blue', \\\n",
    "                yerr=[df_global[(df_global['Inner_Alignment_Type']=='Using_Surface') & (df_global['BR']=='vS1')][['Barrels_Angular_Precision_Std',]].mean().values[0],\\\n",
    "                     df_global[(df_global['Inner_Alignment_Type']=='Using_Local_Centers') & (df_global['BR']=='vS1')][['Barrels_Angular_Precision_Std',]].mean().values[0],\\\n",
    "                     df_global[(df_global['Inner_Alignment_Type']=='Using_Local_Rabies_Surfaces') & (df_global['BR']=='vS1')][['Barrels_Angular_Precision_Std',]].mean().values[0],\\\n",
    "                     df_vm1[(df_vm1['Inner_Alignment_Type']=='Using_Rabies_Surface') & (df_vm1['BR']=='vS1')][['Barrels_Angular_Precision_Std',]].mean().values[0],\\\n",
    "                     df_s1bf[(df_s1bf['Inner_Alignment_Type']=='Use_Projections_Alone') & (df_s1bf['BR']=='vS1')][['Barrels_Angular_Precision_Std',]].mean().values[0],\\\n",
    "                     ],\\\n",
    "                     )\n",
    "\n",
    "#ticks = plt.yticks(np.arange(0,1300,100))\n",
    "#rects2 = ax.bar(ind+width, df_global[(df_global['Inner_Alignment_Type']=='Using_Local_Centers') & (df_global['BR']=='WB')][['Surf_Center_Precision_Mean',]].mean().values[0], width, color='blue', \\\n",
    "#                yerr=df_global[(df_global['Inner_Alignment_Type']=='Using_Local_Centers') & (df_global['BR']=='WB')][['Surf_Center_Precision_Std',]].mean().values[0])\n",
    "\n",
    "#rects1 = ax.bar(ind, df_global[(df_global['Inner_Alignment_Type']=='Using_Surface') & (df_global['BR']=='WB')][['Surf_Center_Precision_Mean',]].mean().values[0], width, color='red', \\\n",
    "#                yerr=df_global[(df_global['Inner_Alignment_Type']=='Using_Surface') & (df_global['BR']=='WB')][['Surf_Center_Precision_Std',]].mean().values[0])\n",
    "\n",
    "#rects2 = ax.bar(ind+width, df_global[(df_global['Inner_Alignment_Type']=='Using_Local_Centers') & (df_global['BR']=='WB')][['Surf_Center_Precision_Mean',]].mean().values[0], width, color='blue', \\\n",
    "#                yerr=df_global[(df_global['Inner_Alignment_Type']=='Using_Local_Centers') & (df_global['BR']=='WB')][['Surf_Center_Precision_Std',]].mean().values[0])\n",
    "\n",
    "plt.tight_layout()\n",
    "fig.savefig(input_path + 'Fig_3/Angular_Precision.eps')"
   ]
  },
  {
   "cell_type": "code",
   "execution_count": 577,
   "id": "eaa4e48a",
   "metadata": {},
   "outputs": [
    {
     "data": {
      "text/html": [
       "<div>\n",
       "<style scoped>\n",
       "    .dataframe tbody tr th:only-of-type {\n",
       "        vertical-align: middle;\n",
       "    }\n",
       "\n",
       "    .dataframe tbody tr th {\n",
       "        vertical-align: top;\n",
       "    }\n",
       "\n",
       "    .dataframe thead th {\n",
       "        text-align: right;\n",
       "    }\n",
       "</style>\n",
       "<table border=\"1\" class=\"dataframe\">\n",
       "  <thead>\n",
       "    <tr style=\"text-align: right;\">\n",
       "      <th></th>\n",
       "      <th>Barrels_Angular_Precision_Mean</th>\n",
       "    </tr>\n",
       "  </thead>\n",
       "  <tbody>\n",
       "    <tr>\n",
       "      <th>6</th>\n",
       "      <td>3.249892</td>\n",
       "    </tr>\n",
       "    <tr>\n",
       "      <th>7</th>\n",
       "      <td>3.805283</td>\n",
       "    </tr>\n",
       "  </tbody>\n",
       "</table>\n",
       "</div>"
      ],
      "text/plain": [
       "   Barrels_Angular_Precision_Mean\n",
       "6                        3.249892\n",
       "7                        3.805283"
      ]
     },
     "execution_count": 577,
     "metadata": {},
     "output_type": "execute_result"
    }
   ],
   "source": [
    "df_s1bf[(df_s1bf['Inner_Alignment_Type']=='Use_Projections_Alone') & (df_s1bf['BR']=='vS1')][['Barrels_Angular_Precision_Mean',]]"
   ]
  },
  {
   "cell_type": "code",
   "execution_count": 571,
   "id": "19fc8099",
   "metadata": {},
   "outputs": [
    {
     "data": {
      "text/plain": [
       "0.6909090909090909"
      ]
     },
     "execution_count": 571,
     "metadata": {},
     "output_type": "execute_result"
    }
   ],
   "source": [
    "(1/55)*38"
   ]
  },
  {
   "cell_type": "code",
   "execution_count": null,
   "id": "19f65d22",
   "metadata": {},
   "outputs": [],
   "source": [
    "55"
   ]
  },
  {
   "cell_type": "code",
   "execution_count": 576,
   "id": "c9d0d8d0",
   "metadata": {},
   "outputs": [
    {
     "data": {
      "text/plain": [
       "PCA_Angular_Precision_Mean    5.334361\n",
       "dtype: float64"
      ]
     },
     "execution_count": 576,
     "metadata": {},
     "output_type": "execute_result"
    }
   ],
   "source": [
    "df_s1bf[(df_s1bf['Inner_Alignment_Type']=='Using_Surface') & (df_vm1['BR']=='vM1')][['Barrels_Angular_Precision_Mean',]].mean()"
   ]
  },
  {
   "cell_type": "code",
   "execution_count": 531,
   "id": "8651fac8",
   "metadata": {},
   "outputs": [
    {
     "data": {
      "text/plain": [
       "22.36244632510002"
      ]
     },
     "execution_count": 531,
     "metadata": {},
     "output_type": "execute_result"
    }
   ],
   "source": [
    "df_vm1[(df_vm1['Inner_Alignment_Type']=='Using_Center') & (df_vm1['BR']=='vM1')][['PCA_Angular_Precision_Mean',]].mean().values[0]"
   ]
  },
  {
   "cell_type": "code",
   "execution_count": 532,
   "id": "8c4f8891",
   "metadata": {
    "scrolled": true
   },
   "outputs": [
    {
     "data": {
      "text/plain": [
       "Index(['Unnamed: 0', 'Angular_Error_SEM', 'Angular_Precision_Mean',\n",
       "       'Angular_Precision_Std', 'BR', 'Barrel_Cortex_Center_Ellipsoid',\n",
       "       'Barrel_Cortex_Center_Ellipsoid_Norm',\n",
       "       'Barrel_Cortex_Center_Error_Dists_SEM',\n",
       "       'Barrel_Cortex_Center_Precision_Mean',\n",
       "       'Barrel_Cortex_Center_Precision_Std', 'Barrels_Angular_Error_SEM',\n",
       "       'Barrels_Angular_Precision_Mean', 'Barrels_Angular_Precision_Std',\n",
       "       'Barrels_Barrel_Center_Precision_Mean',\n",
       "       'Barrels_Barrel_Center_Precision_Std',\n",
       "       'Barrels_Barrel_Centers_Error_Ellipsoid_Mean',\n",
       "       'Barrels_Barrel_Centers_Error_Ellipsoid_Mean_Norm',\n",
       "       'Barrels_Barrel_Centers_Error_Ellipsoid_Std',\n",
       "       'Barrels_Barrel_Centers_Error_Ellipsoid_Std_Norm',\n",
       "       'Barrels_Column_Center_Precision_Mean',\n",
       "       'Barrels_Column_Center_Precision_Std',\n",
       "       'Barrels_Column_Error_Ellipsoid_Mean',\n",
       "       'Barrels_Column_Error_Ellipsoid_Mean_Norm',\n",
       "       'Barrels_Column_Error_Ellipsoid_Std',\n",
       "       'Barrels_Column_Error_Ellipsoid_Std_Norm',\n",
       "       'Barrels_Pia_Error_Ellipsoid_Mean',\n",
       "       'Barrels_Pia_Error_Ellipsoid_Mean_Norm',\n",
       "       'Barrels_Pia_Error_Ellipsoid_Std',\n",
       "       'Barrels_Pia_Error_Ellipsoid_Std_Norm', 'Barrels_Pia_Precision_Mean',\n",
       "       'Barrels_Pia_Precision_std', 'Barrels_WM_Error_Ellipsoid_Mean',\n",
       "       'Barrels_WM_Error_Ellipsoid_Mean_Norm',\n",
       "       'Barrels_WM_Error_Ellipsoid_Std', 'Barrels_WM_Error_Ellipsoid_Std_Norm',\n",
       "       'Barrels_WM_Precision_Mean', 'Barrels_WM_Precision_Std', 'Hem',\n",
       "       'Inner_Alignment_Type', 'Number_Of_Axis_Used', 'Outer_Alignment_Type',\n",
       "       'Overall_Rabies_landmarks', 'Overall_Volume',\n",
       "       'Overlap_Rabies_landmarks', 'Overlap_Volume',\n",
       "       'PCA_0_Angle_Between_Axes_Mean', 'PCA_0_Angle_Between_Axes_Std',\n",
       "       'PCA_1_Angle_Between_Axes_Mean', 'PCA_1_Angle_Between_Axes_Std',\n",
       "       'PCA_2_Angle_Between_Axes_Mean', 'PCA_2_Angle_Between_Axes_Std',\n",
       "       'PCA_Angular_Precision_Mean', 'PCA_Angular_Precision_SEM',\n",
       "       'PCA_Angular_Precision_Std', 'Pia_Error_Dist_SEM',\n",
       "       'Pia_Error_Ellipsoid_Mean', 'Pia_Error_Ellipsoid_Mean_Norm',\n",
       "       'Pia_Error_Ellipsoid_Std', 'Pia_Error_Ellipsoid_Std_Norm',\n",
       "       'Pia_Precision_Mean', 'Pia_Precision_Std', 'Rabies_Center_Ellipsoid',\n",
       "       'Rabies_Center_Ellipsoid_Norm', 'Rabies_Center_Error_Dists_SEM',\n",
       "       'Rabies_Center_Precision_Mean', 'Rabies_Center_Precision_Std',\n",
       "       'Rabies_Landmarks_Overlap_Percentage', 'Rabies_Surf_Center_Dists_Mean',\n",
       "       'Rabies_Surf_Center_Dists_Std', 'Rabies_Surf_Center_Ellipsoid',\n",
       "       'Rabies_Surf_Center_Ellipsoid_Norm',\n",
       "       'Rabies_Surf_Center_Error_Dists_SEM', 'Surf_Center_Ellipsoid',\n",
       "       'Surf_Center_Ellipsoid_Norm', 'Surf_Center_Error_Dists_SEM',\n",
       "       'Surf_Center_Precision_Mean', 'Surf_Center_Precision_Std',\n",
       "       'Volume_Overlap_Percentage', 'WM_Error_Dist_SEM',\n",
       "       'WM_Error_Ellipsoid_Mean', 'WM_Error_Ellipsoid_Mean_Norm',\n",
       "       'WM_Precision_Mean', 'WM_Precision_Std'],\n",
       "      dtype='object')"
      ]
     },
     "execution_count": 532,
     "metadata": {},
     "output_type": "execute_result"
    }
   ],
   "source": [
    "df_vm1.columns"
   ]
  },
  {
   "cell_type": "code",
   "execution_count": 546,
   "id": "499583fc",
   "metadata": {},
   "outputs": [
    {
     "data": {
      "text/html": [
       "<div>\n",
       "<style scoped>\n",
       "    .dataframe tbody tr th:only-of-type {\n",
       "        vertical-align: middle;\n",
       "    }\n",
       "\n",
       "    .dataframe tbody tr th {\n",
       "        vertical-align: top;\n",
       "    }\n",
       "\n",
       "    .dataframe thead th {\n",
       "        text-align: right;\n",
       "    }\n",
       "</style>\n",
       "<table border=\"1\" class=\"dataframe\">\n",
       "  <thead>\n",
       "    <tr style=\"text-align: right;\">\n",
       "      <th></th>\n",
       "      <th>WM_Error_Ellipsoid_Mean</th>\n",
       "    </tr>\n",
       "  </thead>\n",
       "  <tbody>\n",
       "    <tr>\n",
       "      <th>16</th>\n",
       "      <td>[49.1533137  77.38980311 78.4623976 ]</td>\n",
       "    </tr>\n",
       "    <tr>\n",
       "      <th>17</th>\n",
       "      <td>[ 84.96801149 108.21712732 179.83579373]</td>\n",
       "    </tr>\n",
       "  </tbody>\n",
       "</table>\n",
       "</div>"
      ],
      "text/plain": [
       "                     WM_Error_Ellipsoid_Mean\n",
       "16     [49.1533137  77.38980311 78.4623976 ]\n",
       "17  [ 84.96801149 108.21712732 179.83579373]"
      ]
     },
     "execution_count": 546,
     "metadata": {},
     "output_type": "execute_result"
    }
   ],
   "source": [
    "df_vm1[(df_vm1['Inner_Alignment_Type']=='Using_Surface') & (df_vm1['BR']=='vM1')][['WM_Error_Ellipsoid_Mean',]]\n",
    "#[(30.8+59.1)/2,( 54.5+106.7)/2,(61.9+51.3)/2]"
   ]
  },
  {
   "cell_type": "code",
   "execution_count": 557,
   "id": "e2205c9b",
   "metadata": {},
   "outputs": [
    {
     "data": {
      "text/plain": [
       "1.1636363636363636"
      ]
     },
     "execution_count": 557,
     "metadata": {},
     "output_type": "execute_result"
    }
   ],
   "source": []
  },
  {
   "cell_type": "code",
   "execution_count": 551,
   "id": "1cf5c030",
   "metadata": {},
   "outputs": [
    {
     "data": {
      "text/html": [
       "<div>\n",
       "<style scoped>\n",
       "    .dataframe tbody tr th:only-of-type {\n",
       "        vertical-align: middle;\n",
       "    }\n",
       "\n",
       "    .dataframe tbody tr th {\n",
       "        vertical-align: top;\n",
       "    }\n",
       "\n",
       "    .dataframe thead th {\n",
       "        text-align: right;\n",
       "    }\n",
       "</style>\n",
       "<table border=\"1\" class=\"dataframe\">\n",
       "  <thead>\n",
       "    <tr style=\"text-align: right;\">\n",
       "      <th></th>\n",
       "      <th>Rabies_Surf_Center_Ellipsoid</th>\n",
       "    </tr>\n",
       "  </thead>\n",
       "  <tbody>\n",
       "    <tr>\n",
       "      <th>4</th>\n",
       "      <td>[ 42.27441856 110.01097201  84.38809675]</td>\n",
       "    </tr>\n",
       "    <tr>\n",
       "      <th>5</th>\n",
       "      <td>[58.50609879 14.00859704 95.14052509]</td>\n",
       "    </tr>\n",
       "  </tbody>\n",
       "</table>\n",
       "</div>"
      ],
      "text/plain": [
       "               Rabies_Surf_Center_Ellipsoid\n",
       "4  [ 42.27441856 110.01097201  84.38809675]\n",
       "5     [58.50609879 14.00859704 95.14052509]"
      ]
     },
     "execution_count": 551,
     "metadata": {},
     "output_type": "execute_result"
    }
   ],
   "source": [
    "df_vm1[(df_vm1['Inner_Alignment_Type']=='Using_Center') & (df_vm1['BR']=='vM1')][['Rabies_Surf_Center_Ellipsoid',]]\n"
   ]
  },
  {
   "cell_type": "code",
   "execution_count": 535,
   "id": "5e0e3231",
   "metadata": {
    "scrolled": true
   },
   "outputs": [
    {
     "data": {
      "text/plain": [
       "289.59023782377807"
      ]
     },
     "execution_count": 535,
     "metadata": {},
     "output_type": "execute_result"
    }
   ],
   "source": [
    "df_vm1[(df_vm1['Inner_Alignment_Type']=='Using_Center') & (df_vm1['BR']=='vM1')][['Surf_Center_Precision_Mean',]].values[0][0]\n"
   ]
  },
  {
   "cell_type": "code",
   "execution_count": 536,
   "id": "9ba7387c",
   "metadata": {},
   "outputs": [
    {
     "data": {
      "text/html": [
       "<div>\n",
       "<style scoped>\n",
       "    .dataframe tbody tr th:only-of-type {\n",
       "        vertical-align: middle;\n",
       "    }\n",
       "\n",
       "    .dataframe tbody tr th {\n",
       "        vertical-align: top;\n",
       "    }\n",
       "\n",
       "    .dataframe thead th {\n",
       "        text-align: right;\n",
       "    }\n",
       "</style>\n",
       "<table border=\"1\" class=\"dataframe\">\n",
       "  <thead>\n",
       "    <tr style=\"text-align: right;\">\n",
       "      <th></th>\n",
       "      <th>Barrels_Pia_Precision_Mean</th>\n",
       "    </tr>\n",
       "  </thead>\n",
       "  <tbody>\n",
       "    <tr>\n",
       "      <th>10</th>\n",
       "      <td>112.001154</td>\n",
       "    </tr>\n",
       "    <tr>\n",
       "      <th>11</th>\n",
       "      <td>87.909474</td>\n",
       "    </tr>\n",
       "  </tbody>\n",
       "</table>\n",
       "</div>"
      ],
      "text/plain": [
       "    Barrels_Pia_Precision_Mean\n",
       "10                  112.001154\n",
       "11                   87.909474"
      ]
     },
     "execution_count": 536,
     "metadata": {},
     "output_type": "execute_result"
    }
   ],
   "source": [
    "df_s1bf[(df_s1bf['Inner_Alignment_Type']=='Use_Projections_Alone') & (df_s1bf['BR']=='vM1')][['Barrels_Pia_Precision_Mean',]]\n"
   ]
  },
  {
   "cell_type": "code",
   "execution_count": 537,
   "id": "8d32258c",
   "metadata": {
    "scrolled": true
   },
   "outputs": [
    {
     "data": {
      "text/html": [
       "<div>\n",
       "<style scoped>\n",
       "    .dataframe tbody tr th:only-of-type {\n",
       "        vertical-align: middle;\n",
       "    }\n",
       "\n",
       "    .dataframe tbody tr th {\n",
       "        vertical-align: top;\n",
       "    }\n",
       "\n",
       "    .dataframe thead th {\n",
       "        text-align: right;\n",
       "    }\n",
       "</style>\n",
       "<table border=\"1\" class=\"dataframe\">\n",
       "  <thead>\n",
       "    <tr style=\"text-align: right;\">\n",
       "      <th></th>\n",
       "      <th>Barrels_WM_Precision_Mean</th>\n",
       "    </tr>\n",
       "  </thead>\n",
       "  <tbody>\n",
       "    <tr>\n",
       "      <th>10</th>\n",
       "      <td>118.938618</td>\n",
       "    </tr>\n",
       "    <tr>\n",
       "      <th>11</th>\n",
       "      <td>85.799177</td>\n",
       "    </tr>\n",
       "  </tbody>\n",
       "</table>\n",
       "</div>"
      ],
      "text/plain": [
       "    Barrels_WM_Precision_Mean\n",
       "10                 118.938618\n",
       "11                  85.799177"
      ]
     },
     "execution_count": 537,
     "metadata": {},
     "output_type": "execute_result"
    }
   ],
   "source": [
    "df_s1bf[(df_s1bf['Inner_Alignment_Type']=='Use_Projections_Alone') & (df_s1bf['BR']=='vM1')][['Barrels_WM_Precision_Mean']]\n"
   ]
  },
  {
   "cell_type": "code",
   "execution_count": 538,
   "id": "c1eeace2",
   "metadata": {},
   "outputs": [
    {
     "data": {
      "text/html": [
       "<div>\n",
       "<style scoped>\n",
       "    .dataframe tbody tr th:only-of-type {\n",
       "        vertical-align: middle;\n",
       "    }\n",
       "\n",
       "    .dataframe tbody tr th {\n",
       "        vertical-align: top;\n",
       "    }\n",
       "\n",
       "    .dataframe thead th {\n",
       "        text-align: right;\n",
       "    }\n",
       "</style>\n",
       "<table border=\"1\" class=\"dataframe\">\n",
       "  <thead>\n",
       "    <tr style=\"text-align: right;\">\n",
       "      <th></th>\n",
       "      <th>Barrels_Angular_Precision_Mean</th>\n",
       "    </tr>\n",
       "  </thead>\n",
       "  <tbody>\n",
       "    <tr>\n",
       "      <th>4</th>\n",
       "      <td>6.085805</td>\n",
       "    </tr>\n",
       "    <tr>\n",
       "      <th>5</th>\n",
       "      <td>3.800505</td>\n",
       "    </tr>\n",
       "  </tbody>\n",
       "</table>\n",
       "</div>"
      ],
      "text/plain": [
       "   Barrels_Angular_Precision_Mean\n",
       "4                        6.085805\n",
       "5                        3.800505"
      ]
     },
     "execution_count": 538,
     "metadata": {},
     "output_type": "execute_result"
    }
   ],
   "source": [
    "df_s1bf[(df_s1bf['Inner_Alignment_Type']=='Use_Barrels_Alone') & (df_s1bf['BR']=='vM1')][['Barrels_Angular_Precision_Mean',]]\n",
    "#[(30.8+59.1)/2,( 54.5+106.7)/2,(61.9+51.3)/2]"
   ]
  },
  {
   "cell_type": "code",
   "execution_count": 539,
   "id": "26ad5ac9",
   "metadata": {},
   "outputs": [
    {
     "data": {
      "text/html": [
       "<div>\n",
       "<style scoped>\n",
       "    .dataframe tbody tr th:only-of-type {\n",
       "        vertical-align: middle;\n",
       "    }\n",
       "\n",
       "    .dataframe tbody tr th {\n",
       "        vertical-align: top;\n",
       "    }\n",
       "\n",
       "    .dataframe thead th {\n",
       "        text-align: right;\n",
       "    }\n",
       "</style>\n",
       "<table border=\"1\" class=\"dataframe\">\n",
       "  <thead>\n",
       "    <tr style=\"text-align: right;\">\n",
       "      <th></th>\n",
       "      <th>Barrels_Angular_Precision_Mean</th>\n",
       "    </tr>\n",
       "  </thead>\n",
       "  <tbody>\n",
       "    <tr>\n",
       "      <th>10</th>\n",
       "      <td>3.249892</td>\n",
       "    </tr>\n",
       "    <tr>\n",
       "      <th>11</th>\n",
       "      <td>3.805283</td>\n",
       "    </tr>\n",
       "  </tbody>\n",
       "</table>\n",
       "</div>"
      ],
      "text/plain": [
       "    Barrels_Angular_Precision_Mean\n",
       "10                        3.249892\n",
       "11                        3.805283"
      ]
     },
     "execution_count": 539,
     "metadata": {},
     "output_type": "execute_result"
    }
   ],
   "source": [
    "df_s1bf[(df_s1bf['Inner_Alignment_Type']=='Use_Projections_Alone') & (df_s1bf['BR']=='vM1')][['Barrels_Angular_Precision_Mean',]]\n",
    "#[("
   ]
  },
  {
   "cell_type": "markdown",
   "id": "c6bbbe20",
   "metadata": {},
   "source": [
    "# Density Cluster Analysis for Registration"
   ]
  },
  {
   "cell_type": "code",
   "execution_count": 578,
   "id": "3daa94fd",
   "metadata": {},
   "outputs": [],
   "source": [
    "df = pd.read_csv('Z:/V11/Registration_Final_Coronal_Ref_Frame/Input_Ref_Frame/Local_Ref_Frame_View/density_clusters.csv')"
   ]
  },
  {
   "cell_type": "code",
   "execution_count": 580,
   "id": "762270db",
   "metadata": {
    "scrolled": true
   },
   "outputs": [
    {
     "data": {
      "text/html": [
       "<div>\n",
       "<style scoped>\n",
       "    .dataframe tbody tr th:only-of-type {\n",
       "        vertical-align: middle;\n",
       "    }\n",
       "\n",
       "    .dataframe tbody tr th {\n",
       "        vertical-align: top;\n",
       "    }\n",
       "\n",
       "    .dataframe thead th {\n",
       "        text-align: right;\n",
       "    }\n",
       "</style>\n",
       "<table border=\"1\" class=\"dataframe\">\n",
       "  <thead>\n",
       "    <tr style=\"text-align: right;\">\n",
       "      <th></th>\n",
       "      <th>Unnamed: 0</th>\n",
       "      <th>dens_cutoff</th>\n",
       "      <th>morph_count</th>\n",
       "      <th>morph_count_per</th>\n",
       "      <th>rabies_count</th>\n",
       "      <th>rabies_count_per</th>\n",
       "    </tr>\n",
       "  </thead>\n",
       "  <tbody>\n",
       "    <tr>\n",
       "      <th>0</th>\n",
       "      <td>0</td>\n",
       "      <td>0.0</td>\n",
       "      <td>90</td>\n",
       "      <td>1.000000</td>\n",
       "      <td>1567</td>\n",
       "      <td>1.000000</td>\n",
       "    </tr>\n",
       "    <tr>\n",
       "      <th>1</th>\n",
       "      <td>0</td>\n",
       "      <td>0.1</td>\n",
       "      <td>76</td>\n",
       "      <td>0.844444</td>\n",
       "      <td>1462</td>\n",
       "      <td>0.932993</td>\n",
       "    </tr>\n",
       "    <tr>\n",
       "      <th>2</th>\n",
       "      <td>0</td>\n",
       "      <td>0.2</td>\n",
       "      <td>57</td>\n",
       "      <td>0.633333</td>\n",
       "      <td>1252</td>\n",
       "      <td>0.798979</td>\n",
       "    </tr>\n",
       "    <tr>\n",
       "      <th>3</th>\n",
       "      <td>0</td>\n",
       "      <td>0.3</td>\n",
       "      <td>52</td>\n",
       "      <td>0.577778</td>\n",
       "      <td>976</td>\n",
       "      <td>0.622846</td>\n",
       "    </tr>\n",
       "    <tr>\n",
       "      <th>4</th>\n",
       "      <td>0</td>\n",
       "      <td>0.4</td>\n",
       "      <td>34</td>\n",
       "      <td>0.377778</td>\n",
       "      <td>804</td>\n",
       "      <td>0.513082</td>\n",
       "    </tr>\n",
       "    <tr>\n",
       "      <th>5</th>\n",
       "      <td>0</td>\n",
       "      <td>0.5</td>\n",
       "      <td>24</td>\n",
       "      <td>0.266667</td>\n",
       "      <td>743</td>\n",
       "      <td>0.474154</td>\n",
       "    </tr>\n",
       "    <tr>\n",
       "      <th>6</th>\n",
       "      <td>0</td>\n",
       "      <td>0.6</td>\n",
       "      <td>8</td>\n",
       "      <td>0.088889</td>\n",
       "      <td>303</td>\n",
       "      <td>0.193363</td>\n",
       "    </tr>\n",
       "    <tr>\n",
       "      <th>7</th>\n",
       "      <td>0</td>\n",
       "      <td>0.7</td>\n",
       "      <td>8</td>\n",
       "      <td>0.088889</td>\n",
       "      <td>148</td>\n",
       "      <td>0.094448</td>\n",
       "    </tr>\n",
       "    <tr>\n",
       "      <th>8</th>\n",
       "      <td>0</td>\n",
       "      <td>0.8</td>\n",
       "      <td>8</td>\n",
       "      <td>0.088889</td>\n",
       "      <td>143</td>\n",
       "      <td>0.091257</td>\n",
       "    </tr>\n",
       "    <tr>\n",
       "      <th>9</th>\n",
       "      <td>0</td>\n",
       "      <td>0.9</td>\n",
       "      <td>6</td>\n",
       "      <td>0.066667</td>\n",
       "      <td>72</td>\n",
       "      <td>0.045948</td>\n",
       "    </tr>\n",
       "    <tr>\n",
       "      <th>10</th>\n",
       "      <td>0</td>\n",
       "      <td>1.0</td>\n",
       "      <td>6</td>\n",
       "      <td>0.066667</td>\n",
       "      <td>72</td>\n",
       "      <td>0.045948</td>\n",
       "    </tr>\n",
       "  </tbody>\n",
       "</table>\n",
       "</div>"
      ],
      "text/plain": [
       "    Unnamed: 0  dens_cutoff  morph_count  morph_count_per  rabies_count  \\\n",
       "0            0          0.0           90         1.000000          1567   \n",
       "1            0          0.1           76         0.844444          1462   \n",
       "2            0          0.2           57         0.633333          1252   \n",
       "3            0          0.3           52         0.577778           976   \n",
       "4            0          0.4           34         0.377778           804   \n",
       "5            0          0.5           24         0.266667           743   \n",
       "6            0          0.6            8         0.088889           303   \n",
       "7            0          0.7            8         0.088889           148   \n",
       "8            0          0.8            8         0.088889           143   \n",
       "9            0          0.9            6         0.066667            72   \n",
       "10           0          1.0            6         0.066667            72   \n",
       "\n",
       "    rabies_count_per  \n",
       "0           1.000000  \n",
       "1           0.932993  \n",
       "2           0.798979  \n",
       "3           0.622846  \n",
       "4           0.513082  \n",
       "5           0.474154  \n",
       "6           0.193363  \n",
       "7           0.094448  \n",
       "8           0.091257  \n",
       "9           0.045948  \n",
       "10          0.045948  "
      ]
     },
     "execution_count": 580,
     "metadata": {},
     "output_type": "execute_result"
    }
   ],
   "source": [
    "df"
   ]
  },
  {
   "cell_type": "code",
   "execution_count": 592,
   "id": "221e5ce1",
   "metadata": {
    "scrolled": true
   },
   "outputs": [
    {
     "data": {
      "image/png": "[encoded data removed]",
      "text/plain": [
       "<Figure size 472.441x330.709 with 1 Axes>"
      ]
     },
     "metadata": {
      "needs_background": "light"
     },
     "output_type": "display_data"
    }
   ],
   "source": [
    "N=11\n",
    "ind = np.arange(N)\n",
    "width = 0.4\n",
    "\n",
    "fig = plt.figure(figsize=(10*cm,7*cm),dpi=120)\n",
    "ax = fig.add_subplot(111)\n",
    "\n",
    "rects1 = ax.bar(ind,df['rabies_count_per'].values,width, color='red',)\n",
    "\n",
    "rects2 = ax.bar(ind+width,df['morph_count_per'].values,width, color='blue',)\n",
    "\n",
    "plt.yticks(np.arange(0,1.1,0.1)) \n",
    "\n",
    "plt.tight_layout()\n",
    "fig.savefig(input_path + 'Fig_4/density_clustering.eps')"
   ]
  },
  {
   "cell_type": "markdown",
   "id": "2eebc45e",
   "metadata": {},
   "source": [
    "# SBF old vs new"
   ]
  },
  {
   "cell_type": "code",
   "execution_count": 80,
   "id": "dcca4ad6",
   "metadata": {},
   "outputs": [],
   "source": [
    "import pandas as pd\n",
    "input_path='/Users/mysee/Documents/PhD/Projects/vM1/Figures/Fig_2'\n",
    "df_new = pd.read_csv(input_path+'/barrel_variability.csv')\n",
    "df_new_orientations = pd.read_csv(input_path+'/barrel_orientations.csv')\n",
    "df_old = pd.read_csv(input_path+'/sbf_measurements.csv',sep=';',index_col=0)"
   ]
  },
  {
   "cell_type": "code",
   "execution_count": 110,
   "id": "e5961896",
   "metadata": {},
   "outputs": [
    {
     "data": {
      "text/plain": [
       "24"
      ]
     },
     "execution_count": 110,
     "metadata": {},
     "output_type": "execute_result"
    }
   ],
   "source": [
    "len(df_old['Column_Orientation'])\n",
    "len(df_new_barrel_depth_mean)"
   ]
  },
  {
   "cell_type": "code",
   "execution_count": 104,
   "id": "db6e15a4",
   "metadata": {},
   "outputs": [],
   "source": [
    "df_new_barrel_depth_mean = [df_new[(df_new['Barrel_Name']=='A1')]['Barrel_Center'].mean(),\\\n",
    " df_new[(df_new['Barrel_Name']=='A2')]['Barrel_Center'].mean(),\\\n",
    " df_new[(df_new['Barrel_Name']=='A3')]['Barrel_Center'].mean(),\\\n",
    " df_new[(df_new['Barrel_Name']=='A4')]['Barrel_Center'].mean(),\\\n",
    " df_new[(df_new['Barrel_Name']=='B1')]['Barrel_Center'].mean(),\\\n",
    " df_new[(df_new['Barrel_Name']=='B2')]['Barrel_Center'].mean(),\\\n",
    " df_new[(df_new['Barrel_Name']=='B3')]['Barrel_Center'].mean(),\\\n",
    " df_new[(df_new['Barrel_Name']=='B4')]['Barrel_Center'].mean(),\\\n",
    " df_new[(df_new['Barrel_Name']=='C1')]['Barrel_Center'].mean(),\\\n",
    " df_new[(df_new['Barrel_Name']=='C2')]['Barrel_Center'].mean(),\\\n",
    " df_new[(df_new['Barrel_Name']=='C3')]['Barrel_Center'].mean(),\\\n",
    " df_new[(df_new['Barrel_Name']=='C4')]['Barrel_Center'].mean(),\\\n",
    " df_new[(df_new['Barrel_Name']=='D1')]['Barrel_Center'].mean(),\\\n",
    " df_new[(df_new['Barrel_Name']=='D2')]['Barrel_Center'].mean(),\\\n",
    " df_new[(df_new['Barrel_Name']=='D3')]['Barrel_Center'].mean(),\\\n",
    " df_new[(df_new['Barrel_Name']=='D4')]['Barrel_Center'].mean(),\\\n",
    " df_new[(df_new['Barrel_Name']=='E1')]['Barrel_Center'].mean(),\\\n",
    " df_new[(df_new['Barrel_Name']=='E2')]['Barrel_Center'].mean(),\\\n",
    " df_new[(df_new['Barrel_Name']=='E3')]['Barrel_Center'].mean(),\\\n",
    " df_new[(df_new['Barrel_Name']=='E4')]['Barrel_Center'].mean(),\\\n",
    " df_new[(df_new['Barrel_Name']=='Greek_RowAlpha')]['Barrel_Center'].mean(),\\\n",
    " df_new[(df_new['Barrel_Name']=='Greek_RowBeta')]['Barrel_Center'].mean(),\\\n",
    " df_new[(df_new['Barrel_Name']=='Greek_RowGamma')]['Barrel_Center'].mean(),\\\n",
    " df_new[(df_new['Barrel_Name']=='Greek_RowDelta')]['Barrel_Center'].mean()]"
   ]
  },
  {
   "cell_type": "code",
   "execution_count": 105,
   "id": "cd98c0af",
   "metadata": {},
   "outputs": [],
   "source": [
    "df_new_barrel_depth_std = [df_new[(df_new['Barrel_Name']=='A1')]['Barrel_Center'].std(),\\\n",
    " df_new[(df_new['Barrel_Name']=='A2')]['Barrel_Center'].std(),\\\n",
    " df_new[(df_new['Barrel_Name']=='A3')]['Barrel_Center'].std(),\\\n",
    " df_new[(df_new['Barrel_Name']=='A4')]['Barrel_Center'].std(),\\\n",
    " df_new[(df_new['Barrel_Name']=='B1')]['Barrel_Center'].std(),\\\n",
    " df_new[(df_new['Barrel_Name']=='B2')]['Barrel_Center'].std(),\\\n",
    " df_new[(df_new['Barrel_Name']=='B3')]['Barrel_Center'].std(),\\\n",
    " df_new[(df_new['Barrel_Name']=='B4')]['Barrel_Center'].std(),\\\n",
    " df_new[(df_new['Barrel_Name']=='C1')]['Barrel_Center'].std(),\\\n",
    " df_new[(df_new['Barrel_Name']=='C2')]['Barrel_Center'].std(),\\\n",
    " df_new[(df_new['Barrel_Name']=='C3')]['Barrel_Center'].std(),\\\n",
    " df_new[(df_new['Barrel_Name']=='C4')]['Barrel_Center'].std(),\\\n",
    " df_new[(df_new['Barrel_Name']=='D1')]['Barrel_Center'].std(),\\\n",
    " df_new[(df_new['Barrel_Name']=='D2')]['Barrel_Center'].std(),\\\n",
    " df_new[(df_new['Barrel_Name']=='D3')]['Barrel_Center'].std(),\\\n",
    " df_new[(df_new['Barrel_Name']=='D4')]['Barrel_Center'].std(),\\\n",
    " df_new[(df_new['Barrel_Name']=='E1')]['Barrel_Center'].std(),\\\n",
    " df_new[(df_new['Barrel_Name']=='E2')]['Barrel_Center'].std(),\\\n",
    " df_new[(df_new['Barrel_Name']=='E3')]['Barrel_Center'].std(),\\\n",
    " df_new[(df_new['Barrel_Name']=='E4')]['Barrel_Center'].std(),\\\n",
    " df_new[(df_new['Barrel_Name']=='Greek_RowAlpha')]['Barrel_Center'].std(),\\\n",
    " df_new[(df_new['Barrel_Name']=='Greek_RowBeta')]['Barrel_Center'].std(),\\\n",
    " df_new[(df_new['Barrel_Name']=='Greek_RowGamma')]['Barrel_Center'].std(),\\\n",
    " df_new[(df_new['Barrel_Name']=='Greek_RowDelta')]['Barrel_Center'].std()]"
   ]
  },
  {
   "cell_type": "code",
   "execution_count": 106,
   "id": "90b8fb13",
   "metadata": {},
   "outputs": [],
   "source": [
    "df_new_col_ht_mean = [df_new[(df_new['Barrel_Name']=='A1')]['Column_Height'].mean(),\\\n",
    " df_new[(df_new['Barrel_Name']=='A2')]['Column_Height'].mean(),\\\n",
    " df_new[(df_new['Barrel_Name']=='A3')]['Column_Height'].mean(),\\\n",
    " df_new[(df_new['Barrel_Name']=='A4')]['Column_Height'].mean(),\\\n",
    " df_new[(df_new['Barrel_Name']=='B1')]['Column_Height'].mean(),\\\n",
    " df_new[(df_new['Barrel_Name']=='B2')]['Column_Height'].mean(),\\\n",
    " df_new[(df_new['Barrel_Name']=='B3')]['Column_Height'].mean(),\\\n",
    " df_new[(df_new['Barrel_Name']=='B4')]['Column_Height'].mean(),\\\n",
    " df_new[(df_new['Barrel_Name']=='C1')]['Column_Height'].mean(),\\\n",
    " df_new[(df_new['Barrel_Name']=='C2')]['Column_Height'].mean(),\\\n",
    " df_new[(df_new['Barrel_Name']=='C3')]['Column_Height'].mean(),\\\n",
    " df_new[(df_new['Barrel_Name']=='C4')]['Column_Height'].mean(),\\\n",
    " df_new[(df_new['Barrel_Name']=='D1')]['Column_Height'].mean(),\\\n",
    " df_new[(df_new['Barrel_Name']=='D2')]['Column_Height'].mean(),\\\n",
    " df_new[(df_new['Barrel_Name']=='D3')]['Column_Height'].mean(),\\\n",
    " df_new[(df_new['Barrel_Name']=='D4')]['Column_Height'].mean(),\\\n",
    " df_new[(df_new['Barrel_Name']=='E1')]['Column_Height'].mean(),\\\n",
    " df_new[(df_new['Barrel_Name']=='E2')]['Column_Height'].mean(),\\\n",
    " df_new[(df_new['Barrel_Name']=='E3')]['Column_Height'].mean(),\\\n",
    " df_new[(df_new['Barrel_Name']=='E4')]['Column_Height'].mean(),\\\n",
    " df_new[(df_new['Barrel_Name']=='Greek_RowAlpha')]['Column_Height'].mean(),\\\n",
    " df_new[(df_new['Barrel_Name']=='Greek_RowBeta')]['Column_Height'].mean(),\\\n",
    " df_new[(df_new['Barrel_Name']=='Greek_RowGamma')]['Column_Height'].mean(),\\\n",
    " df_new[(df_new['Barrel_Name']=='Greek_RowDelta')]['Column_Height'].mean()]"
   ]
  },
  {
   "cell_type": "code",
   "execution_count": 107,
   "id": "5b74aa0c",
   "metadata": {},
   "outputs": [],
   "source": [
    "df_new_col_ht_std = [df_new[(df_new['Barrel_Name']=='A1')]['Column_Height'].std(),\\\n",
    " df_new[(df_new['Barrel_Name']=='A2')]['Column_Height'].std(),\\\n",
    " df_new[(df_new['Barrel_Name']=='A3')]['Column_Height'].std(),\\\n",
    " df_new[(df_new['Barrel_Name']=='A4')]['Column_Height'].std(),\\\n",
    " df_new[(df_new['Barrel_Name']=='B1')]['Column_Height'].std(),\\\n",
    " df_new[(df_new['Barrel_Name']=='B2')]['Column_Height'].std(),\\\n",
    " df_new[(df_new['Barrel_Name']=='B3')]['Column_Height'].std(),\\\n",
    " df_new[(df_new['Barrel_Name']=='B4')]['Column_Height'].std(),\\\n",
    " df_new[(df_new['Barrel_Name']=='C1')]['Column_Height'].std(),\\\n",
    " df_new[(df_new['Barrel_Name']=='C2')]['Column_Height'].std(),\\\n",
    " df_new[(df_new['Barrel_Name']=='C3')]['Column_Height'].std(),\\\n",
    " df_new[(df_new['Barrel_Name']=='C4')]['Column_Height'].std(),\\\n",
    " df_new[(df_new['Barrel_Name']=='D1')]['Column_Height'].std(),\\\n",
    " df_new[(df_new['Barrel_Name']=='D2')]['Column_Height'].std(),\\\n",
    " df_new[(df_new['Barrel_Name']=='D3')]['Column_Height'].std(),\\\n",
    " df_new[(df_new['Barrel_Name']=='D4')]['Column_Height'].std(),\\\n",
    " df_new[(df_new['Barrel_Name']=='E1')]['Column_Height'].std(),\\\n",
    " df_new[(df_new['Barrel_Name']=='E2')]['Column_Height'].std(),\\\n",
    " df_new[(df_new['Barrel_Name']=='E3')]['Column_Height'].std(),\\\n",
    " df_new[(df_new['Barrel_Name']=='E4')]['Column_Height'].std(),\\\n",
    " df_new[(df_new['Barrel_Name']=='Greek_RowAlpha')]['Column_Height'].std(),\\\n",
    " df_new[(df_new['Barrel_Name']=='Greek_RowBeta')]['Column_Height'].std(),\\\n",
    " df_new[(df_new['Barrel_Name']=='Greek_RowGamma')]['Column_Height'].std(),\\\n",
    " df_new[(df_new['Barrel_Name']=='Greek_RowDelta')]['Column_Height'].std()]"
   ]
  },
  {
   "cell_type": "code",
   "execution_count": 108,
   "id": "0105cd80",
   "metadata": {},
   "outputs": [],
   "source": [
    "df_new_orientation_mean = [df_new_orientations[(df_new_orientations['Barrel_Name']=='A1')]['Orientation'].mean(),\\\n",
    " df_new_orientations[(df_new_orientations['Barrel_Name']=='A2')]['Orientation'].mean(),\\\n",
    " df_new_orientations[(df_new_orientations['Barrel_Name']=='A3')]['Orientation'].mean(),\\\n",
    " df_new_orientations[(df_new_orientations['Barrel_Name']=='A4')]['Orientation'].mean(),\\\n",
    " df_new_orientations[(df_new_orientations['Barrel_Name']=='B1')]['Orientation'].mean(),\\\n",
    " df_new_orientations[(df_new_orientations['Barrel_Name']=='B2')]['Orientation'].mean(),\\\n",
    " df_new_orientations[(df_new_orientations['Barrel_Name']=='B3')]['Orientation'].mean(),\\\n",
    " df_new_orientations[(df_new_orientations['Barrel_Name']=='B4')]['Orientation'].mean(),\\\n",
    " df_new_orientations[(df_new_orientations['Barrel_Name']=='C1')]['Orientation'].mean(),\\\n",
    " df_new_orientations[(df_new_orientations['Barrel_Name']=='C2')]['Orientation'].mean(),\\\n",
    " df_new_orientations[(df_new_orientations['Barrel_Name']=='C3')]['Orientation'].mean(),\\\n",
    " df_new_orientations[(df_new_orientations['Barrel_Name']=='C4')]['Orientation'].mean(),\\\n",
    " df_new_orientations[(df_new_orientations['Barrel_Name']=='D1')]['Orientation'].mean(),\\\n",
    " df_new_orientations[(df_new_orientations['Barrel_Name']=='D2')]['Orientation'].mean(),\\\n",
    " df_new_orientations[(df_new_orientations['Barrel_Name']=='D3')]['Orientation'].mean(),\\\n",
    " df_new_orientations[(df_new_orientations['Barrel_Name']=='D4')]['Orientation'].mean(),\\\n",
    " df_new_orientations[(df_new_orientations['Barrel_Name']=='E1')]['Orientation'].mean(),\\\n",
    " df_new_orientations[(df_new_orientations['Barrel_Name']=='E2')]['Orientation'].mean(),\\\n",
    " df_new_orientations[(df_new_orientations['Barrel_Name']=='E3')]['Orientation'].mean(),\\\n",
    " df_new_orientations[(df_new_orientations['Barrel_Name']=='E4')]['Orientation'].mean(),\\\n",
    " df_new_orientations[(df_new_orientations['Barrel_Name']=='Greek_RowAlpha')]['Orientation'].mean(),\\\n",
    " df_new_orientations[(df_new_orientations['Barrel_Name']=='Greek_RowBeta')]['Orientation'].mean(),\\\n",
    " df_new_orientations[(df_new_orientations['Barrel_Name']=='Greek_RowGamma')]['Orientation'].mean(),\\\n",
    " df_new_orientations[(df_new_orientations['Barrel_Name']=='Greek_RowDelta')]['Orientation'].mean()]"
   ]
  },
  {
   "cell_type": "code",
   "execution_count": 109,
   "id": "a631852d",
   "metadata": {},
   "outputs": [],
   "source": [
    "df_new_orientation_std = [df_new_orientations[(df_new_orientations['Barrel_Name']=='A1')]['Orientation'].std(),\\\n",
    " df_new_orientations[(df_new_orientations['Barrel_Name']=='A2')]['Orientation'].std(),\\\n",
    " df_new_orientations[(df_new_orientations['Barrel_Name']=='A3')]['Orientation'].std(),\\\n",
    " df_new_orientations[(df_new_orientations['Barrel_Name']=='A4')]['Orientation'].std(),\\\n",
    " df_new_orientations[(df_new_orientations['Barrel_Name']=='B1')]['Orientation'].std(),\\\n",
    " df_new_orientations[(df_new_orientations['Barrel_Name']=='B2')]['Orientation'].std(),\\\n",
    " df_new_orientations[(df_new_orientations['Barrel_Name']=='B3')]['Orientation'].std(),\\\n",
    " df_new_orientations[(df_new_orientations['Barrel_Name']=='B4')]['Orientation'].std(),\\\n",
    " df_new_orientations[(df_new_orientations['Barrel_Name']=='C1')]['Orientation'].std(),\\\n",
    " df_new_orientations[(df_new_orientations['Barrel_Name']=='C2')]['Orientation'].std(),\\\n",
    " df_new_orientations[(df_new_orientations['Barrel_Name']=='C3')]['Orientation'].std(),\\\n",
    " df_new_orientations[(df_new_orientations['Barrel_Name']=='C4')]['Orientation'].std(),\\\n",
    " df_new_orientations[(df_new_orientations['Barrel_Name']=='D1')]['Orientation'].std(),\\\n",
    " df_new_orientations[(df_new_orientations['Barrel_Name']=='D2')]['Orientation'].std(),\\\n",
    " df_new_orientations[(df_new_orientations['Barrel_Name']=='D3')]['Orientation'].std(),\\\n",
    " df_new_orientations[(df_new_orientations['Barrel_Name']=='D4')]['Orientation'].std(),\\\n",
    " df_new_orientations[(df_new_orientations['Barrel_Name']=='E1')]['Orientation'].std(),\\\n",
    " df_new_orientations[(df_new_orientations['Barrel_Name']=='E2')]['Orientation'].std(),\\\n",
    " df_new_orientations[(df_new_orientations['Barrel_Name']=='E3')]['Orientation'].std(),\\\n",
    " df_new_orientations[(df_new_orientations['Barrel_Name']=='E4')]['Orientation'].std(),\\\n",
    " df_new_orientations[(df_new_orientations['Barrel_Name']=='Greek_RowAlpha')]['Orientation'].std(),\\\n",
    " df_new_orientations[(df_new_orientations['Barrel_Name']=='Greek_RowBeta')]['Orientation'].std(),\\\n",
    " df_new_orientations[(df_new_orientations['Barrel_Name']=='Greek_RowGamma')]['Orientation'].std(),\\\n",
    " df_new_orientations[(df_new_orientations['Barrel_Name']=='Greek_RowDelta')]['Orientation'].std()]"
   ]
  },
  {
   "cell_type": "code",
   "execution_count": 44,
   "id": "6ab80fe5",
   "metadata": {},
   "outputs": [],
   "source": [
    "df_new = pd.read_csv('/barrel_variability.csv')\n",
    "df_old = pd.read_excel('D:/vM1/Fig_2/sbf_measurements.xlsx')\n",
    "df_new_orientations = pd.read_csv('D:/vM1/Fig_2/barrel_orientations.csv')\n"
   ]
  },
  {
   "cell_type": "code",
   "execution_count": 21,
   "id": "f8c012ba",
   "metadata": {
    "scrolled": true
   },
   "outputs": [
    {
     "data": {
      "text/plain": [
       "(645.2281857687066, 209.9525460410454, 508.9583333333333, 35.818964088954296)"
      ]
     },
     "execution_count": 21,
     "metadata": {},
     "output_type": "execute_result"
    }
   ],
   "source": [
    "df_new['Barrel_Top'].mean(),df_new['Barrel_Top'].std(),df_old['Barrel_Top'].mean(),df_old['Barrel_Top'].std()"
   ]
  },
  {
   "cell_type": "code",
   "execution_count": 22,
   "id": "6437150a",
   "metadata": {
    "scrolled": true
   },
   "outputs": [
    {
     "data": {
      "text/plain": [
       "(613.0181090338428, 125.87513172433093, 856.7916666666666, 46.61123130810825)"
      ]
     },
     "execution_count": 22,
     "metadata": {},
     "output_type": "execute_result"
    }
   ],
   "source": [
    "df_new['Barrel_Bottom'].mean(),df_new['Barrel_Bottom'].std(),df_old['Barrel_Bottom'].mean(),df_old['Barrel_Bottom'].std()"
   ]
  },
  {
   "cell_type": "code",
   "execution_count": 31,
   "id": "034a21b4",
   "metadata": {},
   "outputs": [
    {
     "data": {
      "text/plain": [
       "(152.35663949166354, 197.38083968394773, 347.75, 17.40377270444044)"
      ]
     },
     "execution_count": 31,
     "metadata": {},
     "output_type": "execute_result"
    }
   ],
   "source": [
    "df_new['Barrel_Height'].mean(),df_new['Barrel_Height'].std(),df_old['Barrel_Height'].mean(),df_old['Barrel_Height'].std()"
   ]
  },
  {
   "cell_type": "code",
   "execution_count": 34,
   "id": "3d6625d0",
   "metadata": {},
   "outputs": [
    {
     "data": {
      "text/plain": [
       "(1772.2760047070042, 234.6472462002318, 1887.8333333333333, 155.70531438437234)"
      ]
     },
     "execution_count": 34,
     "metadata": {},
     "output_type": "execute_result"
    }
   ],
   "source": [
    "df_new['Column_Height'].mean(),df_new['Column_Height'].std(),df_old['Column_Height'].mean(),df_old['Column_Height'].std()"
   ]
  },
  {
   "cell_type": "code",
   "execution_count": 29,
   "id": "bc3c080b",
   "metadata": {},
   "outputs": [
    {
     "data": {
      "text/plain": [
       "(621.0285499617577, 157.62421794701228, 682.875, 41.215097698531274)"
      ]
     },
     "execution_count": 29,
     "metadata": {},
     "output_type": "execute_result"
    }
   ],
   "source": [
    "df_new['Barrel_Center'].mean(),df_new['Barrel_Center'].std(),\\\n",
    "(df_old['Barrel_Top'].mean()+df_old['Barrel_Bottom'].mean())/2,(df_old['Barrel_Top'].std()+df_old['Barrel_Bottom'].std())/2,"
   ]
  },
  {
   "cell_type": "code",
   "execution_count": 28,
   "id": "70951eec",
   "metadata": {},
   "outputs": [
    {
     "data": {
      "text/plain": [
       "(621.0285499617577, 157.62421794701228, 682.875, 51.89583333333333)"
      ]
     },
     "execution_count": 28,
     "metadata": {},
     "output_type": "execute_result"
    }
   ],
   "source": [
    "df_new['Barrel_Center'].mean(),df_new['Barrel_Center'].std(),\\\n",
    "(df_old['Barrel_Top'].mean()+df_old['Barrel_Bottom'].mean())/2,(df_old['Barrel_Top_Std'].mean()+df_old['Barrel_Bottom_Std'].mean())/2,"
   ]
  },
  {
   "cell_type": "code",
   "execution_count": 42,
   "id": "686f15db",
   "metadata": {},
   "outputs": [
    {
     "data": {
      "text/plain": [
       "(8.375, 4.054166666666666)"
      ]
     },
     "execution_count": 42,
     "metadata": {},
     "output_type": "execute_result"
    }
   ],
   "source": [
    "df_old['Column_Orientation'].mean(),df_old['Column_Orientation_Std'].mean()"
   ]
  },
  {
   "cell_type": "code",
   "execution_count": 48,
   "id": "dd9e5a74",
   "metadata": {},
   "outputs": [
    {
     "data": {
      "text/plain": [
       "(9.50977985178146, 8.469195617154067)"
      ]
     },
     "execution_count": 48,
     "metadata": {},
     "output_type": "execute_result"
    }
   ],
   "source": [
    "df_new_orientations['Orientation'].mean(),df_new_orientations['Orientation'].std()"
   ]
  },
  {
   "cell_type": "code",
   "execution_count": 69,
   "id": "6ae2b8ed",
   "metadata": {},
   "outputs": [
    {
     "data": {
      "text/plain": [
       "1743.7897811295466"
      ]
     },
     "execution_count": 69,
     "metadata": {},
     "output_type": "execute_result"
    }
   ],
   "source": [
    "np.array(df_new_col_ht_mean).mean(), "
   ]
  },
  {
   "cell_type": "code",
   "execution_count": 111,
   "id": "b46087c0",
   "metadata": {},
   "outputs": [
    {
     "name": "stderr",
     "output_type": "stream",
     "text": [
      "/var/folders/gj/gf0lslx93p90wf8h0h6z01qm0000gn/T/ipykernel_36007/347644528.py:3: UserWarning: marker is redundantly defined by the 'marker' keyword argument and the fmt string \".\" (-> marker='.'). The keyword argument will take precedence.\n",
      "  eb1 =axes[0].errorbar(x=[1],y=np.array(df_new_col_ht_mean).mean(),\\\n",
      "/var/folders/gj/gf0lslx93p90wf8h0h6z01qm0000gn/T/ipykernel_36007/347644528.py:8: UserWarning: marker is redundantly defined by the 'marker' keyword argument and the fmt string \".\" (-> marker='.'). The keyword argument will take precedence.\n",
      "  eb2 =axes[1].errorbar(x=[1],y=df_old['Column_Height'].mean(),\\\n"
     ]
    },
    {
     "data": {
      "image/png": "[encoded data removed]",
      "text/plain": [
       "<Figure size 425.197x330.709 with 2 Axes>"
      ]
     },
     "metadata": {
      "needs_background": "light"
     },
     "output_type": "display_data"
    }
   ],
   "source": [
    "fig, axes = plt.subplots(nrows=1,ncols=2, sharex=True,sharey=True,figsize=(9*cm,7*cm),dpi=120)\n",
    "b1 = axes[0].boxplot(df_new_col_ht_mean)\n",
    "eb1 =axes[0].errorbar(x=[1],y=np.array(df_new_col_ht_mean).mean(),\\\n",
    "                   yerr=np.array(df_new_col_ht_std).mean(),\\\n",
    "             color='blue',marker='.',fmt='.')\n",
    "\n",
    "b2 = axes[1].boxplot(df_old['Column_Height'].values)\n",
    "eb2 =axes[1].errorbar(x=[1],y=df_old['Column_Height'].mean(),\\\n",
    "                   yerr=df_old['Column_Height_Std'].mean(),\\\n",
    "             color='blue',marker='.',fmt='.')\n",
    "\n",
    "plt.yticks(np.arange(0,3000,500))\n",
    "#plt.xlabel(['L1','L2/3','L5A','L5B'])\n",
    "\n",
    "plt.setp(b1['boxes'], color='black')\n",
    "plt.setp(b1['whiskers'], color='black')\n",
    "plt.setp(b1['medians'], color='black')\n",
    "plt.setp(b1['caps'], color='black')\n",
    "plt.tight_layout()\n",
    "\n",
    "plt.setp(b2['boxes'], color='black')\n",
    "plt.setp(b2['whiskers'], color='black')\n",
    "plt.setp(b2['medians'], color='black')\n",
    "plt.setp(b2['caps'], color='black')\n",
    "plt.tight_layout()\n",
    "fig.savefig(input_path + '/column_ht_comparison_dist.eps')"
   ]
  },
  {
   "cell_type": "code",
   "execution_count": 112,
   "id": "dd0f32d5",
   "metadata": {},
   "outputs": [
    {
     "data": {
      "text/plain": [
       "(1769.3705739462557, 148.20465616273955, 1887.8333333333333, 98.29166666666667)"
      ]
     },
     "execution_count": 112,
     "metadata": {},
     "output_type": "execute_result"
    }
   ],
   "source": [
    "np.array(df_new_col_ht_mean).mean(),np.array(df_new_col_ht_std).mean(), \\\n",
    "df_old['Column_Height'].mean(),df_old['Column_Height_Std'].mean()"
   ]
  },
  {
   "cell_type": "code",
   "execution_count": 62,
   "id": "86fb6a46",
   "metadata": {},
   "outputs": [
    {
     "data": {
      "image/png": "[encoded data removed]",
      "text/plain": [
       "<Figure size 188.976x330.709 with 1 Axes>"
      ]
     },
     "metadata": {
      "needs_background": "light"
     },
     "output_type": "display_data"
    }
   ],
   "source": [
    "N=1\n",
    "ind = np.arange(N)\n",
    "width = 0.25\n",
    "\n",
    "fig = plt.figure(figsize=(4*cm,7*cm),dpi=120)\n",
    "ax = fig.add_subplot(111)\n",
    "\n",
    "rects1 = ax.bar(ind,[df_new['Column_Height'].mean(),],\\\n",
    "         width, color='red', \\\n",
    "         yerr=[df_new['Column_Height'].std()],\\\n",
    "         )\n",
    "rects2 = ax.bar(ind+width,[df_old['Column_Height'].mean(),],\\\n",
    "         width, color='blue', \\\n",
    "         yerr=[df_old['Column_Height_Std'].mean()],\\\n",
    "         )\n",
    "\n",
    "plt.tight_layout()\n",
    "fig.savefig(input_path+'/column_ht_comparison.eps')"
   ]
  },
  {
   "cell_type": "code",
   "execution_count": 113,
   "id": "ca1cb733",
   "metadata": {},
   "outputs": [
    {
     "name": "stderr",
     "output_type": "stream",
     "text": [
      "/var/folders/gj/gf0lslx93p90wf8h0h6z01qm0000gn/T/ipykernel_36007/3031404166.py:3: UserWarning: marker is redundantly defined by the 'marker' keyword argument and the fmt string \".\" (-> marker='.'). The keyword argument will take precedence.\n",
      "  eb1 =axes[0].errorbar(x=[1],y=np.array(df_new_barrel_depth_mean).mean(),\\\n",
      "/var/folders/gj/gf0lslx93p90wf8h0h6z01qm0000gn/T/ipykernel_36007/3031404166.py:8: UserWarning: marker is redundantly defined by the 'marker' keyword argument and the fmt string \".\" (-> marker='.'). The keyword argument will take precedence.\n",
      "  eb2 =axes[1].errorbar(x=[1],y=(df_old['Barrel_Top'].mean()+df_old['Barrel_Bottom'].mean())/2,\\\n"
     ]
    },
    {
     "data": {
      "image/png": "[encoded data removed]",
      "text/plain": [
       "<Figure size 425.197x330.709 with 2 Axes>"
      ]
     },
     "metadata": {
      "needs_background": "light"
     },
     "output_type": "display_data"
    }
   ],
   "source": [
    "fig, axes = plt.subplots(nrows=1,ncols=2, sharex=True,sharey=True,figsize=(9*cm,7*cm),dpi=120)\n",
    "b1 = axes[0].boxplot(df_new_barrel_depth_mean)\n",
    "eb1 =axes[0].errorbar(x=[1],y=np.array(df_new_barrel_depth_mean).mean(),\\\n",
    "                   yerr=np.array(df_new_barrel_depth_std).mean(),\\\n",
    "             color='blue',marker='.',fmt='.')\n",
    "\n",
    "b2 = axes[1].boxplot((df_old['Barrel_Top']+df_old['Barrel_Bottom'])/2)\n",
    "eb2 =axes[1].errorbar(x=[1],y=(df_old['Barrel_Top'].mean()+df_old['Barrel_Bottom'].mean())/2,\\\n",
    "                   yerr=(df_old['Barrel_Top_Std'].mean()+df_old['Barrel_Bottom_Std'].mean())/2,\\\n",
    "             color='blue',marker='.',fmt='.')\n",
    "\n",
    "plt.yticks(np.arange(0,1000,100))\n",
    "#plt.xlabel(['L1','L2/3','L5A','L5B'])\n",
    "\n",
    "plt.setp(b1['boxes'], color='black')\n",
    "plt.setp(b1['whiskers'], color='black')\n",
    "plt.setp(b1['medians'], color='black')\n",
    "plt.setp(b1['caps'], color='black')\n",
    "plt.tight_layout()\n",
    "\n",
    "plt.setp(b2['boxes'], color='black')\n",
    "plt.setp(b2['whiskers'], color='black')\n",
    "plt.setp(b2['medians'], color='black')\n",
    "plt.setp(b2['caps'], color='black')\n",
    "plt.tight_layout()\n",
    "fig.savefig(input_path + '/barrel_depth_comparison_dist.eps')"
   ]
  },
  {
   "cell_type": "code",
   "execution_count": 114,
   "id": "045bf818",
   "metadata": {},
   "outputs": [
    {
     "data": {
      "text/plain": [
       "(616.9600342078769, 113.05402219922367, 682.875, 51.895833333333336)"
      ]
     },
     "execution_count": 114,
     "metadata": {},
     "output_type": "execute_result"
    }
   ],
   "source": [
    "np.array(df_new_barrel_depth_mean).mean(),np.array(df_new_barrel_depth_std).mean(),\\\n",
    "np.array([(df_old['Barrel_Top']+df_old['Barrel_Bottom'])/2]).mean(),\\\n",
    "np.array([(df_old['Barrel_Top_Std']+df_old['Barrel_Bottom_Std'])/2]).mean()\n",
    "\n"
   ]
  },
  {
   "cell_type": "code",
   "execution_count": 27,
   "id": "b62fed5d",
   "metadata": {},
   "outputs": [
    {
     "data": {
      "image/png": "[encoded data removed]",
      "text/plain": [
       "<Figure size 188.976x330.709 with 1 Axes>"
      ]
     },
     "metadata": {
      "needs_background": "light"
     },
     "output_type": "display_data"
    }
   ],
   "source": [
    "import numpy as np\n",
    "N=1\n",
    "ind = np.arange(N)\n",
    "width = 0.25\n",
    "\n",
    "fig = plt.figure(figsize=(4*cm,7*cm),dpi=120)\n",
    "ax = fig.add_subplot(111)\n",
    "\n",
    "rects1 = ax.bar(ind,[df_new['Barrel_Center'].mean(),],\\\n",
    "         width, color='red', \\\n",
    "         yerr=[df_new['Barrel_Center'].std()],\\\n",
    "         )\n",
    "rects2 = ax.bar(ind+width,[(df_old['Barrel_Top'].mean()+df_old['Barrel_Bottom'].mean())/2,],\\\n",
    "         width, color='blue', \\\n",
    "         yerr=[(df_old['Barrel_Top_Std'].mean()+df_old['Barrel_Bottom_Std'].mean())/2],\\\n",
    "         )\n",
    "\n",
    "plt.tight_layout()\n",
    "#fig.savefig(input_path+'/barrel_center_ht_comparison.eps')"
   ]
  },
  {
   "cell_type": "code",
   "execution_count": 115,
   "id": "b5a09f4a",
   "metadata": {},
   "outputs": [
    {
     "name": "stderr",
     "output_type": "stream",
     "text": [
      "/var/folders/gj/gf0lslx93p90wf8h0h6z01qm0000gn/T/ipykernel_36007/849417061.py:3: UserWarning: marker is redundantly defined by the 'marker' keyword argument and the fmt string \".\" (-> marker='.'). The keyword argument will take precedence.\n",
      "  eb1 =axes[0].errorbar(x=[1],y=np.array(df_new_orientation_mean).mean(),\\\n",
      "/var/folders/gj/gf0lslx93p90wf8h0h6z01qm0000gn/T/ipykernel_36007/849417061.py:8: UserWarning: marker is redundantly defined by the 'marker' keyword argument and the fmt string \".\" (-> marker='.'). The keyword argument will take precedence.\n",
      "  eb2 =axes[1].errorbar(x=[1],y=df_old['Column_Orientation'].mean(),\\\n"
     ]
    },
    {
     "data": {
      "image/png": "[encoded data removed]",
      "text/plain": [
       "<Figure size 425.197x330.709 with 2 Axes>"
      ]
     },
     "metadata": {
      "needs_background": "light"
     },
     "output_type": "display_data"
    }
   ],
   "source": [
    "fig, axes = plt.subplots(nrows=1,ncols=2, sharex=True,sharey=True,figsize=(9*cm,7*cm),dpi=120)\n",
    "b1 = axes[0].boxplot(df_new_orientation_mean)\n",
    "eb1 =axes[0].errorbar(x=[1],y=np.array(df_new_orientation_mean).mean(),\\\n",
    "                   yerr=np.array(df_new_orientation_std).mean(),\\\n",
    "             color='blue',marker='.',fmt='.')\n",
    "\n",
    "b2 = axes[1].boxplot(df_old['Column_Orientation'])\n",
    "eb2 =axes[1].errorbar(x=[1],y=df_old['Column_Orientation'].mean(),\\\n",
    "                   yerr=df_old['Column_Orientation_Std'].mean(),\\\n",
    "             color='blue',marker='.',fmt='.')\n",
    "\n",
    "plt.yticks(np.arange(0,20,5))\n",
    "#plt.xlabel(['L1','L2/3','L5A','L5B'])\n",
    "\n",
    "plt.setp(b1['boxes'], color='black')\n",
    "plt.setp(b1['whiskers'], color='black')\n",
    "plt.setp(b1['medians'], color='black')\n",
    "plt.setp(b1['caps'], color='black')\n",
    "plt.tight_layout()\n",
    "\n",
    "plt.setp(b2['boxes'], color='black')\n",
    "plt.setp(b2['whiskers'], color='black')\n",
    "plt.setp(b2['medians'], color='black')\n",
    "plt.setp(b2['caps'], color='black')\n",
    "plt.tight_layout()\n",
    "fig.savefig(input_path + '/barrel_orientation_comparison_dist.eps')"
   ]
  },
  {
   "cell_type": "code",
   "execution_count": 116,
   "id": "e046fde2",
   "metadata": {},
   "outputs": [
    {
     "data": {
      "text/plain": [
       "(7.96870999128343, 6.205150505808892, 8.375, 4.054166666666666)"
      ]
     },
     "execution_count": 116,
     "metadata": {},
     "output_type": "execute_result"
    }
   ],
   "source": [
    "np.array(df_new_orientation_mean).mean(),np.array(df_new_orientation_std).mean(),\\\n",
    "df_old['Column_Orientation'].mean(),df_old['Column_Orientation_Std'].mean()"
   ]
  },
  {
   "cell_type": "code",
   "execution_count": 65,
   "id": "a6ede03f",
   "metadata": {},
   "outputs": [
    {
     "data": {
      "image/png": "[encoded data removed]",
      "text/plain": [
       "<Figure size 188.976x330.709 with 1 Axes>"
      ]
     },
     "metadata": {
      "needs_background": "light"
     },
     "output_type": "display_data"
    }
   ],
   "source": [
    "N=1\n",
    "ind = np.arange(N)\n",
    "width = 0.25\n",
    "\n",
    "fig = plt.figure(figsize=(4*cm,7*cm),dpi=120)\n",
    "ax = fig.add_subplot(111)\n",
    "\n",
    "rects1 = ax.bar(ind,[df_new_orientations['Orientation'].mean(),],\\\n",
    "         width, color='red', \\\n",
    "         yerr=[df_new_orientations['Orientation'].std()],\\\n",
    "         )\n",
    "rects2 = ax.bar(ind+width,[df_old['Column_Orientation'].mean(),],\\\n",
    "         width, color='blue', \\\n",
    "         yerr=[df_old['Column_Orientation_Std'].mean()],\\\n",
    "         )\n",
    "\n",
    "plt.tight_layout()\n",
    "fig.savefig('D:/vM1/Fig_2/barrel_orientation_comparison.eps')"
   ]
  },
  {
   "cell_type": "code",
   "execution_count": null,
   "id": "cbad6bb9",
   "metadata": {},
   "outputs": [],
   "source": []
  }
 ],
 "metadata": {
  "kernelspec": {
   "display_name": "Python 3 (ipykernel)",
   "language": "python",
   "name": "python3"
  },
  "language_info": {
   "codemirror_mode": {
    "name": "ipython",
    "version": 3
   },
   "file_extension": ".py",
   "mimetype": "text/x-python",
   "name": "python",
   "nbconvert_exporter": "python",
   "pygments_lexer": "ipython3",
   "version": "3.9.10"
  },
  "toc": {
   "base_numbering": 1,
   "nav_menu": {},
   "number_sections": true,
   "sideBar": true,
   "skip_h1_title": false,
   "title_cell": "Table of Contents",
   "title_sidebar": "Contents",
   "toc_cell": false,
   "toc_position": {},
   "toc_section_display": true,
   "toc_window_display": false
  }
 },
 "nbformat": 4,
 "nbformat_minor": 5
}
