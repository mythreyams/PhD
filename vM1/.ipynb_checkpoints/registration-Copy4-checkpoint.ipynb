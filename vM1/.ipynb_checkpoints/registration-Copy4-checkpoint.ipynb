{
 "cells": [
  {
   "cell_type": "code",
   "execution_count": 12,
   "metadata": {
    "ExecuteTime": {
     "end_time": "2020-08-26T18:29:56.281057Z",
     "start_time": "2020-08-26T18:29:56.265617Z"
    }
   },
   "outputs": [],
   "source": [
    "import sys\n",
    "import os\n",
    "sys.path.insert(0,os.path.abspath('..'))\n",
    "from spatial_graphs.AmiraSpatialGraph import AmiraSpatialGraph,MatchBarrels\n",
    "from spatial_graphs.Landmarks import Landmarks\n",
    "from spatial_graphs.Surfaces import Surface\n",
    "from spatial_graphs.Vectors import Vectors\n",
    "from spatial_graphs.Alignment import Alignment\n",
    "from dask import compute,multiprocessing,delayed\n",
    "import pathlib\n",
    "import shutil\n",
    "import glob\n",
    "import pandas as pd\n",
    "import vtk\n",
    "from scipy.spatial import distance\n",
    "import numpy as np\n",
    "from sklearn.decomposition import PCA\n",
    "from scipy.spatial import distance\n",
    "from scipy.spatial import distance_matrix"
   ]
  },
  {
   "cell_type": "markdown",
   "metadata": {},
   "source": [
    "# Create output folders"
   ]
  },
  {
   "cell_type": "code",
   "execution_count": 31,
   "metadata": {
    "ExecuteTime": {
     "end_time": "2020-08-26T19:33:46.272294Z",
     "start_time": "2020-08-26T19:33:44.840407Z"
    },
    "collapsed": true
   },
   "outputs": [],
   "source": [
    "input_path_spatial_graphs = '/nas1/Data_Mythreya/MotorCortexProject/V10/Registration/Input_Spatial_Graphs/'\n",
    "surface_resolution = 100\n",
    "#alignment_types = ['Using_vS1_vM1_Surface_Points',]\n",
    "alignment_type = 'Using_vS1_vM1_Surface_Points'\n",
    "input_path_avg_rf = '/nas1/Data_Mythreya/MotorCortexProject/V10/vM1_Ref_Frame/Outputs/Average/'+alignment_type+'/In_SBF_Ref_Frame_With_Scaling_Correction/'\n",
    "#exp_names = ['MG49_lhs','MG49_rhs','MG50_lhs','MG50_rhs','MG48_lhs','MG48_rhs']\n",
    "#alignment_types = ['Using_vS1','Using_vM1','Using_Pia_WM_Surfaces','Using_vS1_vM1_Surfaces']\n",
    "\n",
    "\n",
    "ref_barrels = AmiraSpatialGraph(input_path_avg_rf+'Avg_SBF_Without_Projections.am',generic_graph=True,\\\n",
    "                                barrel_projections_present=False)\n",
    "ref_pia = Surface(input_path_avg_rf+'Avg_Pia_50.vtk')\n",
    "ref_wm = Surface(input_path_avg_rf+'Avg_WM_50.vtk')\n",
    "ref_pia_wm = Surface(polydata=ref_pia.surface)\n",
    "ref_pia_wm.append(ref_wm.surface)"
   ]
  },
  {
   "cell_type": "code",
   "execution_count": 6,
   "metadata": {
    "ExecuteTime": {
     "end_time": "2020-08-26T17:35:19.240224Z",
     "start_time": "2020-08-26T17:35:19.216938Z"
    },
    "collapsed": true
   },
   "outputs": [],
   "source": [
    "# create output folder structure\n",
    "HOME = str(pathlib.Path(input_path_spatial_graphs).parent)\n",
    "output_root = HOME + '/Outputs/'\n",
    "pathlib.Path((output_root)).mkdir(exist_ok=True)\n",
    "\n",
    "output_surfaces = output_root + '1_Surfaces/'\n",
    "pathlib.Path((output_surfaces)).mkdir(exist_ok=True)\n",
    "\n",
    "output_axis_field = output_root + '1_Axis_Fields/'\n",
    "pathlib.Path((output_axis_field)).mkdir(exist_ok=True)\n",
    "\n",
    "output_stats = output_root + '2_Local_Stats/'\n",
    "pathlib.Path((output_stats)).mkdir(exist_ok=True)\n",
    "\n",
    "output_neuron_axis = output_root + '2_Local_Neuron_Axis/'\n",
    "pathlib.Path((output_neuron_axis)).mkdir(exist_ok=True)\n",
    "\n",
    "output_alignment_using_surfaces = output_root + '3_Aligned_By_Surfaces/'\n",
    "pathlib.Path((output_alignment_using_surfaces)).mkdir(exist_ok=True)\n",
    "\n",
    "output_alignment_using_barrels = output_root + '3_Aligned_By_Barrels/'\n",
    "pathlib.Path((output_alignment_using_barrels)).mkdir(exist_ok=True)\n",
    "\n",
    "output_alignment_final = output_root + '4_Final_Registration/'\n",
    "pathlib.Path((output_alignment_final)).mkdir(exist_ok=True)\n",
    "\n",
    "\n"
   ]
  },
  {
   "cell_type": "markdown",
   "metadata": {},
   "source": [
    "# Create Pia and WM Surfaces"
   ]
  },
  {
   "cell_type": "code",
   "execution_count": null,
   "metadata": {
    "ExecuteTime": {
     "end_time": "2020-08-20T16:49:16.524302Z",
     "start_time": "2020-08-20T16:49:16.480772Z"
    },
    "collapsed": true
   },
   "outputs": [],
   "source": [
    "@delayed\n",
    "def create_surface(file,surface_resolution='100'):\n",
    "    sg = AmiraSpatialGraph(filename=file)\n",
    "    # flip if required\n",
    "    #txmat = get_axis_flip_tx_mat(sg)\n",
    "    #print(txmat)\n",
    "    #sg.apply_transformation(txmat)\n",
    "    #sg.write_spatial_graph(root_dst+os.path.basename(file))\n",
    "    #sg = AmiraSpatialGraph(root_dst+os.path.basename(file))\n",
    "    #sg_clipped = get_fist_x_z_planes_sg(sg,17)\n",
    "    #sg_clipped.write_spatial_graph(root_dst+os.path.basename(file)+'_clipped.am')\n",
    "    os.system('/home/mythreya/project_src/BarrelField3D/DataAnalysis3D/BF3DRecon {} {} {}'.\\\n",
    "              format(file,output_surfaces+os.path.basename(file)[:-3],str(100)))\n",
    "    pia = Surface(output_surfaces+os.path.basename(file)[:-3]+'_pia.vtk')\n",
    "    wm = Surface(output_surfaces+os.path.basename(file)[:-3]+'_WM.vtk')\n",
    "    \n",
    "    if pia.surface.GetNumberOfCells()>0 and wm.surface.GetNumberOfCells()>0:\n",
    "        pia.clip_surface_at_given_z(-100,output_filename = output_surfaces+os.path.basename(file)[:-3]+'_pia_bottom_open.vtk')\n",
    "        wm.clip_surface_at_given_z(-100,output_filename = output_surfaces+os.path.basename(file)[:-3]+'_WM_bottom_open.vtk')\n",
    "        \n",
    "        os.system('/home/mythreya/project_src/BarrelField3D/DataAnalysis3D/BF3DRecon {} {} {}'.\\\n",
    "              format(file,output_surfaces+os.path.basename(file)[:-3],str(450)))\n",
    "        pia_450 = Surface(output_surfaces+os.path.basename(file)[:-3]+'_pia.vtk')\n",
    "        pia_450.clip_surface_at_given_z(-100,output_filename = output_surfaces+os.path.basename(file)[:-3]+'_pia_bottom_open_450.vtk')\n",
    "        \n",
    "        wm_450 = Surface(output_surfaces+os.path.basename(file)[:-3]+'_WM.vtk')\n",
    "        wm_450.clip_surface_at_given_z(-100,output_filename = output_surfaces+os.path.basename(file)[:-3]+'_WM_bottom_open_450.vtk')\n",
    "            \n",
    "    else:\n",
    "        # create a delunay surface as the traditional way has failed\n",
    "        pia = Surface(pts=sg.pia.edge_pt_coords)\n",
    "        wm = Surface(pts=sg.wm.edge_pt_coords)\n",
    "        pia_hull = pia.create_delunay_surface_3d(return_hull=True,output_filename=output_surfaces+os.path.basename(file)[:-3]+'_pia.vtk')\n",
    "        wm_hull = wm.create_delunay_surface_3d(return_hull=True,output_filename=output_surfaces+os.path.basename(file)[:-3]+'_WM.vtk')\n",
    "        \n",
    "        # clip at the bottom\n",
    "        shutil.copyfile(src=file,dst=output_surfaces+os.path.basename(file)[:-3]+'_barrels.am')\n",
    "        pia.clip_surface_at_given_z(-100,output_filename = output_surfaces+os.path.basename(file)[:-3]+'_pia_bottom_open.vtk')\n",
    "        wm.clip_surface_at_given_z(-100,output_filename = output_surfaces+os.path.basename(file)[:-3]+'_WM_bottom_open.vtk')\n",
    "        #wm.create_axis_field(pia,op_sg_name=output_surfaces+os.path.basename(file)[:-3]+'_axis_field.am',flip_normals=False,\\\n",
    "        #                              return_axes=True)"
   ]
  },
  {
   "cell_type": "code",
   "execution_count": null,
   "metadata": {
    "ExecuteTime": {
     "end_time": "2020-08-20T16:49:56.648543Z",
     "start_time": "2020-08-20T16:49:16.599724Z"
    },
    "collapsed": true,
    "scrolled": true
   },
   "outputs": [],
   "source": [
    "fn_list_surfs = []\n",
    "file_names = sorted(glob.glob(input_path_spatial_graphs+'*.am'))\n",
    "for i in range(len(file_names)):\n",
    "    #if os.path.basename(file_names[i])=='RA20150804_2_4x-_for_cell_merge_.am_Segmented_corrected_DONE.am':\n",
    "    fn_list_surfs.append(create_surface(file_names[i]))\n",
    "\n",
    "compute(fn_list_surfs)"
   ]
  },
  {
   "cell_type": "markdown",
   "metadata": {},
   "source": [
    "# Generate Axis Field"
   ]
  },
  {
   "cell_type": "code",
   "execution_count": null,
   "metadata": {
    "ExecuteTime": {
     "end_time": "2020-08-20T16:59:08.288266Z",
     "start_time": "2020-08-20T16:59:07.997603Z"
    },
    "collapsed": true,
    "scrolled": true
   },
   "outputs": [],
   "source": [
    "# Create axis with the smooth wm (voxel size 450) \n",
    "file_names = sorted(glob.glob(input_path_spatial_graphs+'*.am'))\n",
    "for i in range(len(file_names)):\n",
    "    file = file_names[i]\n",
    "    #if os.path.basename(file)[:-3] == 'RA20150804_2_4x-_for_cell_merge_.am_Segmented_corrected_DONE':\n",
    "    pia_100 = Surface(output_surfaces+os.path.basename(file)[:-3]+'_pia_bottom_open.vtk')\n",
    "    wm_100 = Surface(output_surfaces+os.path.basename(file)[:-3]+'_WM_bottom_open.vtk')\n",
    "    wm_450 = Surface(output_surfaces+os.path.basename(file)[:-3]+'_WM_bottom_open_450.vtk')\n",
    "\n",
    "    if wm_450.surface.GetNumberOfCells() > 0:\n",
    "        wm_to_use = wm_450\n",
    "    else:\n",
    "        wm_to_use = wm_100\n",
    "    \n",
    "    flipped_axes = wm_to_use.create_axis_field(pia_100,op_sg_name=None,flip_normals=True,return_axes=True,\\\n",
    "                                            max_allowed_axis_length=5000,check_source_double_touch=True)\n",
    "    axes = wm_to_use.create_axis_field(pia_100,op_sg_name=None,flip_normals=False,return_axes=True,\\\n",
    "                                    max_allowed_axis_length=5000,check_source_double_touch=True)\n",
    "    sg = AmiraSpatialGraph(generic_graph=True)\n",
    "    for edge in flipped_axes:\n",
    "        sg.graph_data.add_edge(edge[0],edge[1])\n",
    "    for edge in axes:\n",
    "        sg.graph_data.add_edge(edge[0],edge[1])\n",
    "    #sg.write_spatial_graph(output_axis_field+os.path.basename(file)[:-3]+'_axis_field.am')\n",
    "\n",
    "    # trim the axis field as per the pia and wm surfaces of 100 micron voxel resolution\n",
    "    selected_axis_field_sg,wm_pts,pia_pts,missing_axis_field = pia_100.get_axis_field_within_instersecting_surface_with_trimming\\\n",
    "                                (pia_100.surface,wm_100.surface,sg.graph_data.edge_list,vec_extension_offset=0.75)\n",
    "    selected_axis_field_sg.write_spatial_graph(output_axis_field+os.path.basename(file)[:-3]+'_axis_field.am')\n",
    "\n",
    "        \n",
    "        "
   ]
  },
  {
   "cell_type": "markdown",
   "metadata": {},
   "source": [
    "# Stats of input neuron and surfaces"
   ]
  },
  {
   "cell_type": "code",
   "execution_count": null,
   "metadata": {
    "ExecuteTime": {
     "end_time": "2020-08-25T23:08:51.952353Z",
     "start_time": "2020-08-25T23:08:51.943118Z"
    },
    "collapsed": true
   },
   "outputs": [],
   "source": [
    "def write_edge(edge,filename):\n",
    "    axis_sg = AmiraSpatialGraph(generic_graph=True)\n",
    "    axis_sg.graph_data.add_edge(edge[0],edge[1])\n",
    "    axis_sg.write_spatial_graph(filename)\n",
    "\n",
    "    return axis_sg\n",
    "\n",
    "    "
   ]
  },
  {
   "cell_type": "code",
   "execution_count": null,
   "metadata": {
    "ExecuteTime": {
     "end_time": "2020-08-20T13:35:28.920259Z",
     "start_time": "2020-08-20T13:35:28.912764Z"
    },
    "collapsed": true
   },
   "outputs": [],
   "source": [
    "def resample_edge(edge,num_pts_to_be_inserted):\n",
    "    resampled_edge = []\n",
    "    #resample_edge.append(edge[0])\n",
    "    n = np.array(edge[len(edge)-1]) - np.array(edge[0])\n",
    "    n_unit = n / np.linalg.norm(n)\n",
    "    edge_len = Vectors().get_vec_length(edge)\n",
    "    for i in range(num_pts_to_be_inserted):\n",
    "        resampled_edge.append(i*n_unit*edge_len/num_pts_to_be_inserted+edge[0])\n",
    "    return edge"
   ]
  },
  {
   "cell_type": "code",
   "execution_count": null,
   "metadata": {
    "ExecuteTime": {
     "end_time": "2020-08-24T09:18:15.732221Z",
     "start_time": "2020-08-24T09:18:15.719361Z"
    },
    "collapsed": true
   },
   "outputs": [],
   "source": [
    "def get_pca_direction(apical_dendrite_pts,res=1,two_d_only=False):\n",
    "#     resampled_pts = []\n",
    "#     for edge in apical_dendrite_edges:\n",
    "#         for i in range(len(edge)-1):\n",
    "#             length = distance.euclidean(edge[i],edge[i+1])\n",
    "#             if length > res:\n",
    "#                 num_pts_to_be_inserted = int(length/res)\n",
    "#                 resampled_edge = resample_edge(edge,num_pts_to_be_inserted)\n",
    "#                 for i in range(len(resampled_edge)):\n",
    "#                     resampled_pts.append(resampled_edge[i])\n",
    "    \n",
    "    if two_d_only:\n",
    "        pca = PCA(n_components=2,)\n",
    "        pts = np.array(apical_dendrite_pts)[:,0:2]\n",
    "        transformed_pca = pca.fit_transform(X=pts)\n",
    "    else:\n",
    "        pca = PCA(n_components=3,)\n",
    "        transformed_pca = pca.fit_transform(X=apical_dendrite_pts)\n",
    "    #print(transformed_pca)\n",
    "    return pca.components_"
   ]
  },
  {
   "cell_type": "code",
   "execution_count": null,
   "metadata": {
    "ExecuteTime": {
     "end_time": "2020-08-24T09:19:34.680189Z",
     "start_time": "2020-08-24T09:19:34.667531Z"
    },
    "collapsed": true
   },
   "outputs": [],
   "source": [
    "def get_wm_intersection_pt(wm,soma_pt,pia_pt):\n",
    "    wm_pt = []\n",
    "    for j in range(500,6000,50):\n",
    "        opposing_pt = Vectors().create_pt_along_vector_at_given_distance(-j,soma_pt,pia_pt)\n",
    "        #print(opposing_pt)\n",
    "        #Landmarks(pts=[opposing_pt]).write_landmarks(output_root+'oppsing_pt')\n",
    "        wm_pt,dist = wm.get_vector_intersection_pt(soma_pt,opposing_pt,extrapolation_len=0)\n",
    "        #Landmarks(pts=[opposing_pt]).write_landmarks(output_root+'wm_pt')\n",
    "        #print(wm_pt)\n",
    "        if len(wm_pt)>0:\n",
    "            break\n",
    "    return wm_pt"
   ]
  },
  {
   "cell_type": "code",
   "execution_count": null,
   "metadata": {
    "ExecuteTime": {
     "start_time": "2020-08-20T17:00:07.000Z"
    },
    "collapsed": true,
    "scrolled": true
   },
   "outputs": [],
   "source": [
    "cols = ['Exp_Name','Pia_Area','WM_Area','Pia_Volume','WM_Volume',\\\n",
    "        'Cortical_Thickness_Mean','Cortical_Thickness_Std','Cortical_Thickness_CoV',\\\n",
    "        'Cortical_Thickness_vS1_Mean','Cortical_Thickness_vS1_Std','Cortical_Thickness_vS1_CoV',]\n",
    "df_main = pd.DataFrame(columns=cols)\n",
    "\n",
    "for file in sorted(glob.glob(input_path_spatial_graphs+'*.am')):\n",
    "    print(file)\n",
    "    pia = Surface(output_surfaces+os.path.basename(file)[:-3]+'_pia_bottom_open.vtk')\n",
    "    wm = Surface(output_surfaces+os.path.basename(file)[:-3]+'_WM_bottom_open.vtk')\n",
    "    pia_closed = pia.create_delunay_surface_3d(return_hull=True,make_cube=False)\n",
    "    wm_closed = wm.create_delunay_surface_3d(return_hull=True,make_cube=False)\n",
    "    axis_field = AmiraSpatialGraph(output_axis_field+os.path.basename(file)[:-3]+'_axis_field.am',generic_graph=True)\n",
    "    \n",
    "    sg = AmiraSpatialGraph(file)\n",
    "    vs1_sg = AmiraSpatialGraph(generic_graph=True)\n",
    "    # create hull around s1 and get axis field for s1\n",
    "    for pt in sg.barrels.all_rows_graphdata.edge_pt_coords:\n",
    "        min_edge,min_dist, min_dist_from_wm, min_dist_from_pia, pt_on_vector = \\\n",
    "        Vectors().get_nearest_axis_to_pt(pt,axis_field.graph_data.edge_list,axis_validation_distance=3000)\n",
    "        vs1_sg.graph_data.add_edge(min_edge[0],min_edge[1])\n",
    "    vs1_sg.write_spatial_graph(output_axis_field+os.path.basename(file)[:-3]+'_vS1_Axis_Field.am')\n",
    "    \n",
    "    # find vector lengths for whole surface and vs1 area\n",
    "    vec_lens,bla1,bla2 = Vectors().get_vec_lengths(axis_field.graph_data.edge_list)\n",
    "    vec_lens_vs1,bla,blee = Vectors().get_vec_lengths(vs1_sg.graph_data.edge_list)\n",
    "        \n",
    "    df = pd.DataFrame(columns=df_main.columns)\n",
    "    df['Exp_Name'] = [os.path.basename(file)[:-3]]\n",
    "    df['Pia_Area'] = [pia.get_surface_properties(prop='area')]\n",
    "    df['WM_Area'] = [wm.get_surface_properties(prop='area')]\n",
    "    df['Pia_Volume'] = [Surface(polydata=pia_closed).get_surface_properties(prop='volume')]\n",
    "    df['WM_Volume'] = [Surface(polydata=wm_closed).get_surface_properties(prop='volume')]\n",
    "    df['Cortical_Thickness_Mean'] = [np.array(vec_lens).mean(axis=0)]\n",
    "    df['Cortical_Thickness_Std'] = [np.array(vec_lens).std(axis=0)]\n",
    "    df['Cortical_Thickness_CoV'] = df['Cortical_Thickness_Std'] / df['Cortical_Thickness_Mean'] * 100\n",
    "    df['Cortical_Thickness_vS1_Mean'] = [np.array(vec_lens_vs1).mean(axis=0)]\n",
    "    df['Cortical_Thickness_vS1_Std'] = [np.array(vec_lens_vs1).std(axis=0)]\n",
    "    df['Cortical_Thickness_vS1_CoV'] = df['Cortical_Thickness_vS1_Std'] / df['Cortical_Thickness_vS1_Mean'] * 100\n",
    "        \n",
    "    df_main = df_main.append(df)\n",
    "\n",
    "df_main.to_csv(output_stats+'Surface_Area_and_Thickness.csv')\n",
    "    "
   ]
  },
  {
   "cell_type": "code",
   "execution_count": null,
   "metadata": {
    "ExecuteTime": {
     "start_time": "2020-08-20T17:00:17.410Z"
    },
    "collapsed": true
   },
   "outputs": [],
   "source": [
    "df_main"
   ]
  },
  {
   "cell_type": "code",
   "execution_count": null,
   "metadata": {
    "collapsed": true
   },
   "outputs": [],
   "source": [
    "cols = ['Exp_Name','Pia_Area','WM_Area','Volume','Cortical_Thickness_Mean','Cortical_Thickness_Std','Cortical_Thickness_CoV',\\\n",
    "        'Apical_Dendrite_Present','WM_Present_Below_Neuron','Neuron_Depth_from_Pia','Neuron_Height_from_WM','Neuron_Axis_Length',\\\n",
    "        'Nearest_Axis_Depth_from_Pia','Nearest_Axis_Height_from_WM','Nearest_Axis_Length',\\\n",
    "        'Angle_to_Nearest_Axis',]\n",
    "df_main = pd.DataFrame(columns=cols)\n",
    "for file in sorted(glob.glob(output_corrected_spatial_graphs+'*.am')):\n",
    "    #if os.path.basename(file)[:-3] == 'RA20160401_Cell_B_DONE':\n",
    "    print(os.path.basename(file)[:-3])\n",
    "    pia = Surface(output_surfaces+os.path.basename(file)[:-3]+'_pia_bottom_open.vtk')\n",
    "    wm = Surface(output_surfaces+os.path.basename(file)[:-3]+'_WM_bottom_open.vtk')\n",
    "    axis_field = AmiraSpatialGraph(output_axis_field+os.path.basename(file)[:-3]+'_axis_field.am',generic_graph=True)\n",
    "    \n",
    "    sg = AmiraSpatialGraph(file)\n",
    "    soma_center = np.array(sg.neuron.soma.edge_pt_coords).mean(axis=0)\n",
    "    Landmarks(pts=[soma_center]).write_landmarks(output_neuron_axis+os.path.basename(file)[:-3]+'_Soma_Centroid.landmarksAscii')\n",
    "\n",
    "    dendrite_pts = []    \n",
    "    for pt in sg.neuron.dendrite.apical_dendrite.edge_pt_coords:\n",
    "        dendrite_pts.append(pt)\n",
    "    for pt in sg.neuron.dendrite.basal_dendrite.edge_pt_coords:\n",
    "        dendrite_pts.append(pt)   \n",
    "    dendrite_mean = np.array(dendrite_pts).mean(axis=0)\n",
    "\n",
    "    # write dendrite for easy visualization\n",
    "    sg.write_sub_spatial_graph(sg.neuron.dendrite.apical_dendrite,output_neuron_axis+os.path.basename(file)[:-3]+\\\n",
    "                               '_apical_dendrite.am')\n",
    "    sg.write_sub_spatial_graph(sg.neuron.dendrite.basal_dendrite,output_neuron_axis+os.path.basename(file)[:-3]+\\\n",
    "                               '_basal_dendrite.am')\n",
    "\n",
    "    # Avg Local Axis \n",
    "    nearby_axes = Vectors().get_nearest_axes_to_pts_within_radius(axis_field.graph_data.edge_list,[soma_center],800)\n",
    "    nearby_axes_sg = AmiraSpatialGraph(generic_graph=True)\n",
    "    unit_vecs = []\n",
    "    for axis in nearby_axes:\n",
    "        nearby_axes_sg.graph_data.add_edge(axis[0],axis[1])\n",
    "        unit_vecs.append(Vectors().get_unit_vec(axis[0],axis[1]))\n",
    "    nearby_axes_sg.write_spatial_graph(output_neuron_axis+os.path.basename(file)[:-3]+'_axis_field_selected.am')\n",
    "    avg_uv = np.array(unit_vecs).mean(axis=0)\n",
    "    end_pt = (avg_uv*6000 + soma_center)\n",
    "    pia_proj_pt_neuron_using_local_avg_axis,soma_depth_using_local_avg = pia.get_vector_intersection_pt(end_pt,soma_center,extrapolation_len=0)\n",
    "    write_edge([soma_center,pia_proj_pt_neuron_using_local_avg_axis],output_neuron_axis+os.path.basename(file)[:-3]+'_soma_pia_axis_local_avg.am')\n",
    "    \n",
    "    wm_proj_pt_neuron_using_local_avg_axis = get_wm_intersection_pt(wm,soma_center,pia_proj_pt_neuron_using_local_avg_axis)\n",
    "    if len(wm_proj_pt_neuron_using_local_avg_axis) > 0:\n",
    "        write_edge([soma_center,wm_proj_pt_neuron_using_local_avg_axis],output_neuron_axis+os.path.basename(file)[:-3]+'_soma_wm_axis_local_avg.am')\n",
    "    else:\n",
    "        print('no wm intersection found using avg local axis for {}'.format(os.path.basename(file)))\n",
    "    soma_depth_using_local_avg = Vectors().get_vec_length([soma_center,pia_proj_pt_neuron_using_local_avg_axis])\n",
    "    # decide which method of depth measurement to use\n",
    "    # using the apical dendrite axis works best for L5 and below neurons\n",
    "    # where as local axis is good for L2/3\n",
    "    print(soma_depth_using_local_avg)\n",
    "\n",
    "    if len(sg.neuron.dendrite.apical_dendrite.edge_pt_coords) > 0:\n",
    "        # Get apical dend axis using pca\n",
    "        pca_components = get_pca_direction(sg.neuron.dendrite.apical_dendrite.edge_pt_coords)\n",
    "        #Landmarks(pts=resampled_pts).write_landmarks(output_root+'pts')\n",
    "        end_pt = Vectors().create_pt_along_vector_at_given_distance(6000,[0,0,0],pca_components[0,:])\n",
    "        #Landmarks(pts=[end_pt+soma_center]).write_landmarks(output_root+'end_pt')\n",
    "        #print(end_pt)\n",
    "        angle = Vectors().get_angle_between_vectors([soma_center,pia_proj_pt_neuron_using_local_avg_axis],\\\n",
    "                         [soma_center,end_pt+soma_center],ignore_opposite_direction=False)\n",
    "        print(angle)\n",
    "        pia_proj_pt_neuron = []\n",
    "        if angle < 90:\n",
    "            # pca direction is correct.. project to pia\n",
    "            end_pt = Vectors().create_pt_along_vector_at_given_distance(6000,[0,0,0],pca_components[0,:])\n",
    "            print(end_pt)\n",
    "            Landmarks(pts=[end_pt+soma_center]).write_landmarks(output_root+'end_pt')\n",
    "            pia_proj_pt_neuron,soma_depth  = pia.get_vector_intersection_pt(end_pt+soma_center,soma_center,extrapolation_len=0)\n",
    "            write_edge([soma_center,pia_proj_pt_neuron],output_neuron_axis+os.path.basename(file)[:-3]+'_soma_pia_pca_axis.am')\n",
    "        else:\n",
    "            # the pca is inverted, so straighten it\n",
    "            #print('opposite')\n",
    "            end_pt = Vectors().create_pt_along_vector_at_given_distance(-6000,[0,0,0],pca_components[0,:])\n",
    "            pia_proj_pt_neuron,soma_depth = pia.get_vector_intersection_pt(end_pt+soma_center,soma_center,extrapolation_len=0)\n",
    "            write_edge([soma_center,pia_proj_pt_neuron],output_neuron_axis+os.path.basename(file)[:-3]+'_soma_pia_pca_axis.am')\n",
    "        \n",
    "        wm_proj_pt_neuron = get_wm_intersection_pt(wm,soma_center,pia_proj_pt_neuron)\n",
    "        if len (wm_proj_pt_neuron) > 0:\n",
    "            write_edge([soma_center,wm_proj_pt_neuron],output_neuron_axis+os.path.basename(file)[:-3]+'_soma_wm_pca_axis.am')\n",
    "        else:\n",
    "            print('no wm intersection found using pca for {}'.format(os.path.basename(file)))\n",
    "            \n",
    "    # select the neron axis based on whether the depth of the neuron somata\n",
    "    # for upper layer cells use avg axis, as they generally dont have enough apical dend\n",
    "    # otherwise use dend pca based axis\n",
    "    if soma_depth_using_local_avg < 500 or len(sg.neuron.dendrite.apical_dendrite.edge_pt_coords) == 0\\\n",
    "        or os.path.basename(file)[:-3] == 'RA20160401_Cell_B_DONE':\n",
    "        # this is a inverted cell... so do not invert the axis.. lets use the avg axis for this one:\n",
    "        write_edge([soma_center,pia_proj_pt_neuron_using_local_avg_axis],output_neuron_axis+os.path.basename(file)[:-3]+'_soma_pia_axis.am')\n",
    "        if len(wm_proj_pt_neuron_using_local_avg_axis) > 0:\n",
    "            write_edge([soma_center,wm_proj_pt_neuron_using_local_avg_axis],output_neuron_axis+os.path.basename(file)[:-3]+'_soma_wm_axis.am')\n",
    "    else:\n",
    "        write_edge([soma_center,pia_proj_pt_neuron],output_neuron_axis+os.path.basename(file)[:-3]+'_soma_pia_axis.am')\n",
    "        if len(wm_proj_pt_neuron) > 0:\n",
    "            write_edge([soma_center,wm_proj_pt_neuron],output_neuron_axis+os.path.basename(file)[:-3]+'_soma_wm_axis.am')"
   ]
  },
  {
   "cell_type": "code",
   "execution_count": null,
   "metadata": {
    "collapsed": true
   },
   "outputs": [],
   "source": []
  },
  {
   "cell_type": "code",
   "execution_count": null,
   "metadata": {
    "ExecuteTime": {
     "end_time": "2020-03-25T09:37:10.136597Z",
     "start_time": "2020-03-25T09:35:19.754151Z"
    },
    "collapsed": true,
    "scrolled": true
   },
   "outputs": [],
   "source": [
    "cols = ['Exp_Name','Pia_Area','WM_Area','Volume','Cortical_Thickness_Mean','Cortical_Thickness_Std','Cortical_Thickness_CoV',\\\n",
    "        'Apical_Dendrite_Present','WM_Present_Below_Neuron','Neuron_Depth_from_Pia','Neuron_Height_from_WM','Neuron_Axis_Length',\\\n",
    "        'Nearest_Axis_Depth_from_Pia','Nearest_Axis_Height_from_WM','Nearest_Axis_Length',\\\n",
    "        'Angle_to_Nearest_Axis','Neuron_Sticking_OutOf_Pia',]\n",
    "df_main = pd.DataFrame(columns=cols)\n",
    "start = 0\n",
    "end= 10\n",
    "for i in range(len(sorted(glob.glob(output_surfaces+'*_pia_bottom_open.vtk')))):\n",
    "    if i < start or i >= end:\n",
    "        continue\n",
    "    df = pd.DataFrame(columns=df_main.columns)\n",
    "    pia_file = sorted(glob.glob(output_surfaces+'*_pia_bottom_open.vtk'))[i]\n",
    "    exp_name = os.path.basename(pia_file)[0:-20]\n",
    "#     if exp_name != 'RA20130626_2':\n",
    "#         continue\n",
    "    print(exp_name)\n",
    "    sg = AmiraSpatialGraph(output_surfaces+exp_name+'_barrels.am')\n",
    "    pia_closed = Surface(output_surfaces+exp_name+'_pia.vtk')\n",
    "    wm_closed = Surface(output_surfaces+exp_name+'_WM.vtk')\n",
    "    pia = Surface(output_surfaces+os.path.basename(pia_file)[0:-20]+'_pia_bottom_open.vtk')\n",
    "    wm = Surface(output_surfaces+os.path.basename(pia_file)[0:-20]+'_WM_bottom_open.vtk')\n",
    "    \n",
    "    axis_field = wm.create_axis_field(pia,op_sg_name=output_surfaces+exp_name+'_axis_field.am',flip_normals=False,return_axes=True)\n",
    "    \n",
    "    df['Exp_Name'] = [exp_name]\n",
    "    df['Pia_Area'] = [pia.get_surface_properties(prop='area')]\n",
    "    df['WM_Area'] = [wm.get_surface_properties(prop='area')]\n",
    "    df['Volume'] = [pia_closed.get_surface_properties(prop='volume')]\n",
    "    vec_lens = []\n",
    "    for edge in axis_field:\n",
    "        vec_lens.append(Vectors().get_vec_length(edge))\n",
    "    df['Cortical_Thickness_Mean'] = [np.array(vec_lens).mean(axis=0)]\n",
    "    df['Cortical_Thickness_Std'] = [np.array(vec_lens).std(axis=0)]\n",
    "    df['Cortical_Thickness_CoV'] = [100*np.array(vec_lens).std(axis=0)/np.array(vec_lens).mean(axis=0)]\n",
    "    \n",
    "    # find neuron axis, nearest axis and angle between them\n",
    "    soma_center = np.array(sg.neuron.soma.edge_pt_coords).mean(axis=0)\n",
    "    apical_dend_center = np.array(sg.neuron.dendrite.apical_dendrite.edge_pt_coords).mean(axis=0)\n",
    "    if len(sg.neuron.dendrite.apical_dendrite.edge_pt_coords) == 0:\n",
    "        df['Apical_Dendrite_Present'] = ['False']\n",
    "        df_main = df_main.append(df)\n",
    "        continue\n",
    "    #Landmarks(pts=[soma_center,apical_dend_center]).write_landmarks(output_surfaces+'a')\n",
    "    pia_proj_pt_neuron,soma_depth = pia.get_vector_intersection_pt(soma_center,apical_dend_center,extrapolation_len=10000)\n",
    "    wm_proj_pt_neuron,soma_height = wm.get_vector_intersection_pt(soma_center,apical_dend_center,extrapolation_len=-10000)\n",
    "    print(wm_proj_pt_neuron,pia_proj_pt_neuron)\n",
    "    if len(wm_proj_pt_neuron) == 0 or len(pia_proj_pt_neuron)==0:\n",
    "        df['WM_Present_Below_Neuron'] = ['False']\n",
    "        df_main = df_main.append(df)\n",
    "        continue\n",
    "    write_edge([wm_proj_pt_neuron,pia_proj_pt_neuron],output_surfaces+exp_name+'_neuron_axis.am')\n",
    "    \n",
    "    nearest_axis,min_dist, min_dist_from_wm, min_dist_from_pia, pt_on_vector = Vectors().\\\n",
    "                        get_nearest_axis_to_pt(soma_center,axis_field)\n",
    "    write_edge(nearest_axis,output_surfaces+exp_name+'_nearest_axis.am')\n",
    "    \n",
    "    angle = Vectors().get_angle_between_vectors([wm_proj_pt_neuron,pia_proj_pt_neuron],nearest_axis)\n",
    "    \n",
    "    df['Apical_Dendrite_Present'] = ['True']\n",
    "    df['WM_Present_Below_Neuron'] = ['True']\n",
    "    df['Neuron_Depth_from_Pia'] = [soma_depth]\n",
    "    df['Neuron_Height_from_WM'] = [soma_height]\n",
    "    df['Neuron_Axis_Length'] = [soma_depth+soma_height]\n",
    "    df['Nearest_Axis_Depth_from_Pia'] = [min_dist_from_pia]\n",
    "    df['Nearest_Axis_Height_from_WM'] = [min_dist_from_wm]\n",
    "    df['Nearest_Axis_Length'] = [min_dist_from_pia+min_dist_from_wm]\n",
    "    df['Angle_to_Nearest_Axis'] = [angle]\n",
    "    is_sticking_out = pia.is_neuron_sticking_out(sg)\n",
    "    df['Neuron_Sticking_OutOf_Pia'] = [is_sticking_out]\n",
    "    if not (is_sticking_out):\n",
    "        # write this valid exp for registration\n",
    "        sg.write_spatial_graph(output_valid+exp_name+'.am')\n",
    "    df_main = df_main.append(df)\n",
    "\n",
    "df_main.to_csv(output_root+'1.Input_Neuron_Stats_{}.csv'.format(end))"
   ]
  },
  {
   "cell_type": "code",
   "execution_count": null,
   "metadata": {
    "ExecuteTime": {
     "end_time": "2020-03-25T09:54:56.297178Z",
     "start_time": "2020-03-25T09:54:56.225265Z"
    },
    "collapsed": true
   },
   "outputs": [],
   "source": [
    "df_main = pd.DataFrame(columns=cols)\n",
    "for csv in sorted(glob.glob(output_root+'/*.csv')):\n",
    "    df = pd.read_csv(csv,)\n",
    "    df_main = df_main.append(df,)"
   ]
  },
  {
   "cell_type": "code",
   "execution_count": null,
   "metadata": {
    "ExecuteTime": {
     "end_time": "2020-03-25T09:55:02.737196Z",
     "start_time": "2020-03-25T09:55:02.637455Z"
    },
    "collapsed": true,
    "scrolled": true
   },
   "outputs": [],
   "source": [
    "df_main"
   ]
  },
  {
   "cell_type": "code",
   "execution_count": null,
   "metadata": {
    "ExecuteTime": {
     "end_time": "2020-03-25T09:48:11.749199Z",
     "start_time": "2020-03-25T09:48:11.738829Z"
    },
    "collapsed": true
   },
   "outputs": [],
   "source": [
    "df_main.to_csv(output_root+'1.Neuron_Stats.csv')"
   ]
  },
  {
   "cell_type": "markdown",
   "metadata": {},
   "source": [
    "# Register Using Surfaces"
   ]
  },
  {
   "cell_type": "code",
   "execution_count": null,
   "metadata": {
    "collapsed": true
   },
   "outputs": [],
   "source": [
    "# Using Pia and WM\n"
   ]
  },
  {
   "cell_type": "code",
   "execution_count": null,
   "metadata": {
    "ExecuteTime": {
     "end_time": "2020-08-20T19:45:23.736318Z",
     "start_time": "2020-08-20T18:38:44.577790Z"
    }
   },
   "outputs": [],
   "source": [
    "for file in sorted(glob.glob(input_path_spatial_graphs+'*.am')):\n",
    "    pia = Surface(output_surfaces+os.path.basename(file)[:-3]+'_pia_bottom_open.vtk')\n",
    "    wm = Surface(output_surfaces+os.path.basename(file)[:-3]+'_WM_bottom_open.vtk')\n",
    "    \n",
    "    pia_wm = pia\n",
    "    pia_wm.append(wm.surface)\n",
    "\n",
    "    aligner = Alignment(ref_pia_wm.surface,pia_wm.surface)\n",
    "    txmat = aligner.get_transformation_matrix()\n",
    "    icp = aligner.get_icp_transform()\n",
    "    \n",
    "    aligner = Alignment()\n",
    "    \n",
    "    Alignment().transform_folders(output_root,output_alignment_using_surfaces,os.path.basename(file)[:-3],\\\n",
    "                            icp=icp,txmat = txmat,)\n",
    "    \n",
    "    "
   ]
  },
  {
   "cell_type": "code",
   "execution_count": 32,
   "metadata": {
    "ExecuteTime": {
     "end_time": "2020-08-26T20:49:04.604341Z",
     "start_time": "2020-08-26T19:38:23.936745Z"
    }
   },
   "outputs": [],
   "source": [
    "# using only pias\n",
    "output_path = output_alignment_using_surfaces+'/Pia_Only_Alignment/'\n",
    "pathlib.Path(output_path).mkdir(exist_ok=True)\n",
    "\n",
    "for file in sorted(glob.glob(input_path_spatial_graphs+'*.am')):\n",
    "    pia = Surface(output_surfaces+os.path.basename(file)[:-3]+'_pia_bottom_open.vtk')\n",
    "\n",
    "    aligner = Alignment(ref_pia.surface,pia.surface)\n",
    "    txmat = aligner.get_transformation_matrix()\n",
    "    icp = aligner.get_icp_transform()\n",
    "    \n",
    "    aligner = Alignment()\n",
    "    \n",
    "    Alignment().transform_folders(output_root,output_path,os.path.basename(file)[:-3],\\\n",
    "                            icp=icp,txmat = txmat,)"
   ]
  },
  {
   "cell_type": "code",
   "execution_count": 33,
   "metadata": {
    "ExecuteTime": {
     "end_time": "2020-08-26T21:44:41.032275Z",
     "start_time": "2020-08-26T20:49:04.606477Z"
    },
    "collapsed": true
   },
   "outputs": [],
   "source": [
    "# using only wms\n",
    "output_path = output_alignment_using_surfaces+'/WM_Only_Alignment/'\n",
    "pathlib.Path(output_path).mkdir(exist_ok=True)\n",
    "\n",
    "for file in sorted(glob.glob(input_path_spatial_graphs+'*.am')):\n",
    "    wm = Surface(output_surfaces+os.path.basename(file)[:-3]+'_WM_bottom_open.vtk')\n",
    "\n",
    "    aligner = Alignment(ref_wm.surface,wm.surface)\n",
    "    txmat = aligner.get_transformation_matrix()\n",
    "    icp = aligner.get_icp_transform()\n",
    "    \n",
    "    aligner = Alignment()\n",
    "    \n",
    "    Alignment().transform_folders(output_root,output_path,os.path.basename(file)[:-3],\\\n",
    "                            icp=icp,txmat = txmat,)"
   ]
  },
  {
   "cell_type": "markdown",
   "metadata": {},
   "source": [
    "# Register Using Barrels"
   ]
  },
  {
   "cell_type": "code",
   "execution_count": null,
   "metadata": {
    "ExecuteTime": {
     "end_time": "2020-08-21T10:15:10.820288Z",
     "start_time": "2020-08-21T10:11:37.122036Z"
    },
    "scrolled": true
   },
   "outputs": [],
   "source": [
    "i = 0\n",
    "for file in sorted(glob.glob(input_path_spatial_graphs+'*.am')):\n",
    "    #if os.path.basename(file) == 'RA20150804_2_4x-_for_cell_merge_.am_Segmented_corrected_DONE.am':\n",
    "    print(i, os.path.basename(file))\n",
    "    #break\n",
    "    i = i+1\n",
    "    sg = AmiraSpatialGraph(file,barrel_projections_present=False)\n",
    "\n",
    "    if len(sg.barrels.all_rows_graphdata.edge_list) > 0:\n",
    "        matching_barrels = MatchBarrels(ref_barrels.barrels,sg.barrels,use_barrels_alone=True)\n",
    "        ref_s1_pts,s1_pts = matching_barrels.get_matching_barrel_centroids()\n",
    "        landmarks = Landmarks(pts=s1_pts)\n",
    "        icp,txmat = landmarks.align_landmarks(ref_s1_pts)\n",
    "        aligner = Alignment()\n",
    "        #print(txmat)\n",
    "        #print(txmat)\n",
    "        Alignment().transform_folders(output_root,output_alignment_using_barrels,os.path.basename(file)[:-3],\\\n",
    "                                icp=icp,txmat = txmat,)\n"
   ]
  },
  {
   "cell_type": "markdown",
   "metadata": {},
   "source": [
    "# Create Avg Pia WM"
   ]
  },
  {
   "cell_type": "code",
   "execution_count": 34,
   "metadata": {
    "ExecuteTime": {
     "end_time": "2020-08-26T21:56:45.500218Z",
     "start_time": "2020-08-26T21:56:09.282888Z"
    },
    "scrolled": true
   },
   "outputs": [
    {
     "name": "stdout",
     "output_type": "stream",
     "text": [
      "RA20130319_2_DONE\n",
      "RA20130320_corrected_DONE\n",
      "RA20130402_corrected_2_wm_countours_corrected_shifted_and_merged_DONE\n",
      "RA20130404_1_DONE\n",
      "RA20130404_2_corrected_DONE\n",
      "RA20130507_1_corrected_shifted_and_merged_DONE_feature_corrected\n",
      "RA20130507_2_corrected_DONE\n",
      "RA20130508_1_corrected_shifted_and_merged_DONE\n",
      "RA20130513_corrected-extended_2corrected_shifted_and_merged_DONE\n",
      "RA20130603_DONE\n",
      "RA20130605_1_DONE\n",
      "RA20130606_DONE\n",
      "RA20130607_1_DONE_feature_corrected_corrected\n",
      "RA20130607_2_DONE\n",
      "RA20130626_1_corrected_shifted_and_merged_DONE_feature_corrected\n",
      "RA20130626_2_DONE\n",
      "RA20130627_Cell_2_DONE\n",
      "RA20130627_Cell_3_DONE\n",
      "RA20130627_DONE\n",
      "RA20130628_2_Cell_1_corrected_shifted_and_merged_DONE\n",
      "RA20130628_2_Cell_2_corrected_shifted_and_merged_DONE\n",
      "RA20130628_2_Cell_3_corrected_shifted_and_merged_DONE_feature_corrected_corrected\n",
      "RA20130628_shifted_and_merged_DONE\n",
      "RA20130701_2_DONE\n",
      "RA20130722_2_corrected_shifted_and_merged_DONE\n",
      "RA20130725_DONE\n",
      "RA20150804_2_4x-_for_cell_merge_.am_Segmented_corrected_DONE\n",
      "RA20150805_1_Cell_A_DONE\n",
      "RA20150805_1_Cell_B_DONE\n",
      "RA20150806_DONE\n",
      "RA20150807_1_DONE\n",
      "RA20150807_2_Cell_A_corrected_shifted_and_merged_DONE\n",
      "RA20150807_2_Cell_B_corrected_shifted_and_merged_DONE\n",
      "RA20150810_Cell_A_corrected_shifted_and_merged_DONE\n",
      "RA20150810_Cell_B_corrected_shifted_and_merged_DONE\n",
      "RA20150811_4x_.am_corrected_Segmented_DONE\n",
      "RA20150813_1_Final_Contour_Cell_Merged.am_corrected_Segmented_DONE\n",
      "RA20150813_2_4x_Contours_forMerge_CELL_A_.am_corrected_Segmented_DONE\n",
      "RA20150813_2_4x_Contours_forMerge_CELL_B_.am_corrected_Segmented_shifted_and_merged_DONE\n",
      "RA20160302_Cell_A_DONE\n",
      "RA20160302_Cell_B_DONE\n",
      "RA20160307_4x_for_merge_.am_corrected.Segmented_DONE\n",
      "RA20160308_Cell_A_new.am_Segmented_corrected_DONE\n",
      "RA20160308_Cell_B---Copy_new.am_Segmented_corrected_shifted_and_merged_DONE\n",
      "RA20160310_Cell_A_corrected_shifted_and_merged_DONE\n",
      "RA20160314_Celll_A_corrected_shifted_and_merged_DONE\n",
      "RA20160322_corrected_shifted_and_merged_DONE\n",
      "RA20160323_Cell_A_DONE\n",
      "RA20160323_Cell_B_DONE\n",
      "RA20160323_Cell_C_DONE\n",
      "RA20160323_Cell_D_DONE\n",
      "RA20160324_Cell_A_corrected_shifted_and_merged_DONE\n",
      "RA20160329_Cell_A_corrected_shifted_and_merged_DONE\n",
      "RA20160330_Cell_A_corrected_shifted_and_merged_DONE\n",
      "RA20160330_Cell_B_corrected_shifted_and_merge_DONE\n",
      "RA20160331_Cell_A_DONE\n",
      "RA20160331_Cell_B_DONE\n",
      "RA20160401_Cell_A_DONE\n",
      "RA20160401_Cell_B_DONE\n",
      "RA20160404_Cell_A_corrected_shifted_and_merged_DONE\n",
      "RA20160404_Cell_B_DONE\n",
      "RA20171211.am_Segmented_corrected_DONE\n",
      "RA20171212_1_Cell_B.am_Segmented_corrected_DONE\n",
      "RA20171212_1_Cell_C.am_Segmented_corrected_DONE\n",
      "RA20171212_1_Cell_F.am_Segmented_corrected_DONE\n",
      "RA20171212_2_Cell_A.am_Segmented_corrected_DONE\n",
      "RA20171212_2_Cell_B.am_Segmented_corrected_DONE\n",
      "RA20171214_1_Cell_A.am_Segmented_corrected_shifted_corrected_and_merged_DONE\n",
      "RA20171214_1_Cell_B.am_Segmented_corrected_DONE\n",
      "RA20171214_1_Cell_C.am_Segmented_corrected_DONE\n",
      "RA20171215_1_.am_Segmented_corrected_DONE\n",
      "RA20180108_1.am_Segmented_corrected_shifted_and_merged_DONE\n",
      "RA20180108_2.am_Segmented_corrected_shifted_and_merged_DONE\n",
      "RA20180109_1_Cell_A_done.am_Segmented_corrected_shifted_and_merged_DONE\n",
      "RA20180109_1_Cell_B.am_Segmented_corrected_shifted_and_Merged_DONE\n",
      "RA20180109_1_Cell_C_done.am_Segmented_corrected_DONE\n",
      "RA20180109_2_Cluster_A_Cell_A_done.am_Segmented_corrected_DONE\n",
      "RA20180109_2_Cluster_A_Cell_B_done.am_Segmented_corrected_shifted_and_merged_DONE\n",
      "RA20180109_2_Cluster_A_Cell_C_done.am_Segmented_corrected_DONE\n",
      "RA20180109_2_Cluster_B_Cell_A_done.am_Segmented_corrected_DONE\n",
      "RA20180109_2_Cluster_B_Cell_B_done.am_Segmented_corrected_DONE\n",
      "RA20180109_2_Cluster_B_Cell_C_done.am_Segmented_corrected_DONE\n",
      "RA20180109_2_Cluster_B_Cell_D_done.am_Segmented_corrected_DONE\n",
      "RA20180109_2_Cluster_B_Cell_E_done.am_Segmented_corrected_DONE\n",
      "RA20180411_final_Contours_merged.am_Segmented_corrected_shifted_and_merged_DONE\n",
      "RA20180412_2_Cell_A.am_Segmented_corrected_DONE\n",
      "RA20180412_2_Cell_B.am_Segmented_corrected_DONE\n",
      "RA20180412_2_Cell_C.am_Segmented_corrected_DONE\n",
      "RA20180412_2_Cell_D.am_Segmented_segmented_DONE\n",
      "RA20180412_2_Cell_E.am_Segmented_corrected_shifted_and_merged_DONE\n"
     ]
    }
   ],
   "source": [
    "# combine all aligned pia wms\n",
    "aligned_pias = Surface()\n",
    "aligned_wms = Surface()\n",
    "for file in sorted(glob.glob(input_path_spatial_graphs+'*.am')):\n",
    "    print(os.path.basename(file)[:-3])\n",
    "    pia = Surface(output_root+'3_Aligned_By_Surfaces/Pia_Only_Alignment/1_Surfaces/'+os.path.basename(file)[:-3]+'_pia_bottom_open.vtk')\n",
    "    wm = Surface(output_root+'3_Aligned_By_Surfaces/WM_Only_Alignment/1_Surfaces/'+os.path.basename(file)[:-3]+'_WM_bottom_open.vtk')\n",
    "    aligned_pias.append(pia.surface)\n",
    "    aligned_wms.append(wm.surface)\n",
    "    \n",
    "aligned_pias.write_surface_mesh(output_root+'3_Aligned_By_Surfaces/Pia_Only_Alignment/Aligned_Pias.vtk')\n",
    "aligned_wms.write_surface_mesh(output_root+'3_Aligned_By_Surfaces/WM_Only_Alignment/Aligned_WMs.vtk')"
   ]
  },
  {
   "cell_type": "code",
   "execution_count": 50,
   "metadata": {
    "ExecuteTime": {
     "end_time": "2020-08-27T12:58:10.284216Z",
     "start_time": "2020-08-27T12:55:58.035634Z"
    }
   },
   "outputs": [],
   "source": [
    "#aligned_pias = Surface(output_root+'3_Aligned_By_Surfaces/Aligned_Pias.vtk')\n",
    "#aligned_wms = Surface(output_root+'3_Aligned_By_Surfaces/Aligned_WMs.vtk')\n",
    "pia_wms = Surface()\n",
    "pia_wms.append(aligned_pias.surface)\n",
    "pia_wms.append(aligned_wms.surface)\n",
    "\n",
    "centroid = pia_wms.get_center_of_mass()\n",
    "ray_origin = [centroid[0],centroid[1],pia_wms.surface.GetBounds()[5]-1000]\n",
    "\n",
    "pia_pts = aligned_pias.get_ray_cast_surface_pts_avg(center=ray_origin,theta_res=60,phi_res=60,\\\n",
    "                                                     start_phi=0,end_phi=360,start_theta=0,end_theta=360,validation_nr_pts=2)\n",
    "\n",
    "Landmarks(pts=pia_pts).write_landmarks(output_root+'3_Aligned_By_Surfaces/Pia_Only_Alignment/Avg_Pia.landmarksAscii')\n",
    "\n",
    "# wm_pts = aligned_wms.get_ray_cast_surface_pts_avg(center=ray_origin,theta_res=60,phi_res=60,\\\n",
    "#                                                  start_phi=0,end_phi=360,start_theta=0,end_theta=360,validation_nr_pts=1)\n",
    "\n",
    "# Landmarks(pts=wm_pts).write_landmarks(output_root+'3_Aligned_By_Surfaces/WM_Only_Alignment/Avg_WM.landmarksAscii')"
   ]
  },
  {
   "cell_type": "code",
   "execution_count": 43,
   "metadata": {
    "ExecuteTime": {
     "end_time": "2020-08-27T12:10:31.840241Z",
     "start_time": "2020-08-27T12:09:19.892176Z"
    },
    "collapsed": true
   },
   "outputs": [],
   "source": [
    "wm_pts = aligned_wms.get_ray_cast_surface_pts_avg(center=ray_origin,theta_res=60,phi_res=60,\\\n",
    "                                                 start_phi=0,end_phi=360,start_theta=0,end_theta=360,validation_nr_pts=2)\n",
    "\n",
    "Landmarks(pts=wm_pts).write_landmarks(output_root+'3_Aligned_By_Surfaces/WM_Only_Alignment/Avg_WM.landmarksAscii')"
   ]
  },
  {
   "cell_type": "code",
   "execution_count": 49,
   "metadata": {
    "ExecuteTime": {
     "end_time": "2020-08-27T12:47:09.996214Z",
     "start_time": "2020-08-27T12:47:06.076286Z"
    }
   },
   "outputs": [],
   "source": [
    "pia_pts = Landmarks(filename=output_root+'3_Aligned_By_Surfaces/Pia_Only_Alignment/Avg_Pia.landmarksAscii')\n",
    "pia_surf = Surface(pts=pia_pts.pts)\n",
    "bounds = pia_surf.surface.GetBounds()\n",
    "z_span = bounds[5] - bounds[4]\n",
    "offset = z_span - 5000\n",
    "\n",
    "recon = vtk.vtkSurfaceReconstructionFilter()\n",
    "recon.SetSampleSpacing(100)\n",
    "recon.SetNeighborhoodSize(100)\n",
    "recon.SetInputData(Surface(pts=pia_pts.pts).surface)\n",
    "recon.Update()\n",
    "\n",
    "#     cont = vtk.vtkContourFilter()\n",
    "#     cont.SetInputData(recon.GetOutput())\n",
    "#     cont.SetValue(0,0.0)\n",
    "#     cont.Update()\n",
    "\n",
    "mc = vtk.vtkMarchingContourFilter()\n",
    "mc.SetInputData(recon.GetOutput())\n",
    "#mc.SetNumberOfContours(0)\n",
    "mc.SetValue(0,0)\n",
    "mc.Update()\n",
    "\n",
    "rev = vtk.vtkReverseSense()\n",
    "rev.SetInputData(mc.GetOutput())\n",
    "rev.ReverseCellsOn()\n",
    "rev.ReverseNormalsOn()\n",
    "rev.Update()\n",
    "\n",
    "clipped_surf = Surface(polydata=rev.GetOutput()).clip_surface_at_given_z(z_offset=-offset,z_limit=None)\n",
    "#divided_surf = self.divide_surface(1,clipped_surf)\n",
    "\n",
    "cleaner = vtk.vtkCleanPolyData()\n",
    "cleaner.SetInputData(clipped_surf)\n",
    "cleaner.Update()\n",
    "\n",
    "smoothed_surf = Surface().smooth_surface(cleaner.GetOutput())\n",
    "\n",
    "Surface(polydata=smoothed_surf).write_surface_mesh(output_root+'3_Aligned_By_Surfaces/Pia_Only_Alignment/Avg_Pia_50.vtk')\n"
   ]
  },
  {
   "cell_type": "code",
   "execution_count": 30,
   "metadata": {
    "ExecuteTime": {
     "end_time": "2020-08-26T18:40:33.524230Z",
     "start_time": "2020-08-26T18:40:33.314288Z"
    }
   },
   "outputs": [
    {
     "data": {
      "text/plain": [
       "(1405, 1405)"
      ]
     },
     "execution_count": 30,
     "metadata": {},
     "output_type": "execute_result"
    }
   ],
   "source": [
    "# clean up the avg pts based on density ?\n",
    "#for pt in pia_pts:\n",
    "    # how far is it from the nearest pt\n",
    "dm = distance_matrix(pia_pts.pts,pia_pts.pts)\n",
    "dm.shape"
   ]
  },
  {
   "cell_type": "code",
   "execution_count": 42,
   "metadata": {
    "ExecuteTime": {
     "end_time": "2020-08-26T23:05:28.988230Z",
     "start_time": "2020-08-26T23:05:28.017741Z"
    }
   },
   "outputs": [
    {
     "data": {
      "text/plain": [
       "(vtkCommonDataModelPython.vtkPolyData)0x7fcdc95336a8"
      ]
     },
     "execution_count": 42,
     "metadata": {},
     "output_type": "execute_result"
    }
   ],
   "source": [
    "pia_pts = Landmarks(filename=output_root+'3_Aligned_By_Surfaces/Pia_Only_Alignment/Avg_Pia.landmarksAscii')\n",
    "pia_surf = Surface(pts=pia_pts.pts)\n",
    "bounds = pia_surf.surface.GetBounds()\n",
    "z_span = bounds[5] - bounds[4]\n",
    "offset = z_span - 5000\n",
    "pia_surf.create_surface_from_unorganized_points(pia_pts.pts,sample_resolution=200,\\\n",
    "                                                                               clip_offset=-offset,z_limit=None,\\\n",
    "                                        output_filename=output_root+'3_Aligned_By_Surfaces/Pia_Only_Alignment'+'/Avg_Pia.vtk')\n",
    "\n",
    "wm_pts = Landmarks(filename=output_root+'3_Aligned_By_Surfaces/WM_Only_Alignment/Avg_WM.landmarksAscii')\n",
    "wm_surf = Surface(pts=wm_pts.pts)\n",
    "wm_surf.create_surface_from_unorganized_points(wm_pts.pts,sample_resolution=200,\\\n",
    "                                                                               clip_offset=-offset,z_limit=None,\\\n",
    "                                        output_filename=output_root+'3_Aligned_By_Surfaces/WM_Only_Alignment'+'/Avg_WM.vtk')\n"
   ]
  },
  {
   "cell_type": "markdown",
   "metadata": {},
   "source": [
    "# Final Registration"
   ]
  },
  {
   "cell_type": "code",
   "execution_count": null,
   "metadata": {
    "ExecuteTime": {
     "end_time": "2020-08-21T22:15:22.964134Z",
     "start_time": "2020-08-21T22:15:22.958523Z"
    },
    "collapsed": true
   },
   "outputs": [],
   "source": [
    "def get_central_axis(center, uv, pia, wm, invert_direction=False):\n",
    "    if invert_direction:\n",
    "        pia_intersection_pt,dist= pia.get_vector_intersection_pt(center,center+uv,extrapolation_len=-10000)\n",
    "    else:\n",
    "        pia_intersection_pt,dist= pia.get_vector_intersection_pt(center,center+uv,extrapolation_len=10000)\n",
    "    \n",
    "    return [center,pia_intersection_pt]"
   ]
  },
  {
   "cell_type": "code",
   "execution_count": null,
   "metadata": {
    "ExecuteTime": {
     "end_time": "2020-08-21T23:45:53.132175Z",
     "start_time": "2020-08-21T23:45:53.115616Z"
    },
    "collapsed": true
   },
   "outputs": [],
   "source": [
    "def get_available_barrel_central_axis(sg,pia,wm,vs1_sg):\n",
    "    ''' Get barrel column in the following order D2, or center of vs1'''\n",
    "    if len(sg.barrels.d_row.two.top_barrel_centroid)>0 and \\\n",
    "            len(sg.barrels.d_row.two.bottom_barrel_centroid)>0 and \\\n",
    "            sg.barrels.d_row.two.top_barrel_centroid[2] != sg.barrels.d_row.two.bottom_barrel_centroid[2]:\n",
    "            \n",
    "        center =  np.array(sg.barrels.d_row.two.contours.edge_pt_coords).mean(axis=0)\n",
    "        uv = Vectors().get_unit_vec(sg.barrels.d_row.two.bottom_barrel_centroid,sg.barrels.d_row.two.top_barrel_centroid)\n",
    "        central_axis = get_central_axis(center, uv, pia, wm,invert_direction=True)\n",
    "    else:\n",
    "        # use vs1 axis field to get the central axis\n",
    "        center = np.array(sg.barrels.all_rows_graphdata.edge_pt_coords).mean(axis=0)\n",
    "        uvs = []\n",
    "        for edge in vs1_sg.graph_data.edge_list:\n",
    "            uvs.append(Vectors().get_unit_vec(edge[0],edge[1]))\n",
    "        mean_uv = np.array(uvs).mean(axis=0)\n",
    "        central_axis = get_central_axis(center,mean_uv, pia, wm)\n",
    "        \n",
    "    return central_axis"
   ]
  },
  {
   "cell_type": "markdown",
   "metadata": {},
   "source": [
    "## Align To Central Axis"
   ]
  },
  {
   "cell_type": "code",
   "execution_count": null,
   "metadata": {
    "ExecuteTime": {
     "end_time": "2020-08-21T23:53:32.348297Z",
     "start_time": "2020-08-21T23:49:12.095441Z"
    },
    "scrolled": true
   },
   "outputs": [],
   "source": [
    "# 1) If available align using D2/D1 column to center it; otherwise use the center of mass and nearest axis. \n",
    "#    Then find the 2D pca and rotate. \n",
    "# 2) Then find the XY angle from center which convers the neuron\n",
    "# 3) Clip the Putative vM1 surface containing the neuron\n",
    "# 4) Align this vm1 with avg vm1\n",
    "i = 0\n",
    "for file in sorted(glob.glob(input_path_spatial_graphs+'*.am')):\n",
    "    i = i + 1\n",
    "    print(i, os.path.basename(file))\n",
    "    sg = AmiraSpatialGraph(file,barrel_projections_present=False)\n",
    "    pia = Surface(output_surfaces+os.path.basename(file)[:-3]+'_pia_bottom_open.vtk')\n",
    "    wm = Surface(output_surfaces+os.path.basename(file)[:-3]+'_WM_bottom_open.vtk')\n",
    "    \n",
    "    output_path = output_alignment_final+'Aligned_To_Central_Axis/'\n",
    "    pathlib.Path((output_path)).mkdir(exist_ok=True)\n",
    "    \n",
    "    # 1) If available align using D2/D1 column to center it; otherwise use the center of mass and nearest axis. \n",
    "    #    Then find the 2D pca and rotate. \n",
    "    if len(sg.barrels.all_rows_graphdata.edge_list) > 0:\n",
    "        # read the vS1 axis field\n",
    "        #if os.path.exists(output_axis_field+os.path.basename(file)[0:-3]+'_vS1_Axis_Field.am')\n",
    "        vs1_axis_field = AmiraSpatialGraph(output_axis_field+os.path.basename(file)[:-3]+'_vS1_Axis_Field.am',\\\n",
    "                                           generic_graph=True)\n",
    "        # align based on the central axis\n",
    "        central_axis = get_available_barrel_central_axis(sg,pia,wm,vs1_axis_field)\n",
    "        \n",
    "        print('Using Barrels', central_axis )\n",
    "        \n",
    "        #pca_components = get_pca_direction(sg.graph_data.edge_pt_coords,two_d_only=True)\n",
    "    else:\n",
    "        # no barrels.. so get the central axis using local avg axis\n",
    "        center = pia.get_center_of_mass()\n",
    "        axis_field_sg = AmiraSpatialGraph(output_axis_field+os.path.basename(file)[:-3]+'_axis_field.am' ,generic_graph=True)\n",
    "        nearby_axes = Vectors().get_nearest_axes_to_pts_within_radius(axis_field_sg.graph_data.edge_list,[center],1000,\\\n",
    "                                                                     axis_validation_distance=3000)\n",
    "        nearby_axes_sg = AmiraSpatialGraph(generic_graph=True)\n",
    "        unit_vecs = []\n",
    "        for axis in nearby_axes:\n",
    "            nearby_axes_sg.graph_data.add_edge(axis[0],axis[1])\n",
    "            unit_vecs.append(Vectors().get_unit_vec(axis[0],axis[1]))\n",
    "        nearby_axes_sg.write_spatial_graph(output_axis_field+os.path.basename(file)[:-3]+'_vS1_Axis_Field.am')\n",
    "        avg_uv = np.array(unit_vecs).mean(axis=0)\n",
    "        \n",
    "        central_axis = get_central_axis(center,avg_uv,pia,wm)\n",
    "        print('Using surface' , central_axis)\n",
    "        \n",
    "#     central_axis_sg = AmiraSpatialGraph(generic_graph=True)\n",
    "#     central_axis_sg.graph_data.add_edge(central_axis[0],central_axis[1])\n",
    "#     central_axis_sg.write_spatial_graph(output_path+os.path.basename(file)[:-3]+'_Central_Axis.am')\n",
    "    \n",
    "    pts = []\n",
    "    ref_pts = []\n",
    "    pts.append(central_axis[0])\n",
    "    pts.append(central_axis[1])\n",
    "    ref_pts.append([0,0,0])\n",
    "    ref_pts.append([0,0,-distance.euclidean(central_axis[0],central_axis[1])])\n",
    "    landmarks = Landmarks(pts=pts)\n",
    "    icp,txmat = landmarks.align_landmarks(ref_pts)\n",
    "    \n",
    "    \n",
    "    aligner = Alignment() \n",
    "    aligner.transform_folders(output_root,output_path,os.path.basename(file)[:-3],txmat=txmat,icp=icp)\n",
    "        \n",
    "    "
   ]
  },
  {
   "cell_type": "markdown",
   "metadata": {},
   "source": [
    "## Align as per Max Y"
   ]
  },
  {
   "cell_type": "code",
   "execution_count": null,
   "metadata": {
    "ExecuteTime": {
     "end_time": "2020-08-22T09:19:13.104204Z",
     "start_time": "2020-08-22T09:15:18.115611Z"
    },
    "scrolled": true
   },
   "outputs": [],
   "source": [
    "i = 0\n",
    "cols = ['Exp','Distance_of_Soma_From_Center','Distance_of_Soma_From_Center_XY','Angle_XY_of_Soma_From_Center','Angle_Z_of_Neuron_Axis_From_Center']\n",
    "df_main = pd.DataFrame(columns=cols)\n",
    "for file in sorted(glob.glob(output_alignment_final+'Aligned_To_Central_Axis/1_Surfaces/'+'*_barrels.am')):\n",
    "    i = i + 1\n",
    "    print(i, os.path.basename(file))\n",
    "    sg = AmiraSpatialGraph(file,barrel_projections_present=False)\n",
    "    \n",
    "    #pca_components = get_pca_direction(sg.graph_data.edge_pt_coords,two_d_only=True)\n",
    "    #txmat = [pca_components[1][0],pca_components[1][1],0,0,pca_components[0][0],pca_components[0][1],0,0, 0,0,1,0, 0,0,0,1]\n",
    "#     surf = Surface(pts=sg.graph_data.edge_pt_coords)\n",
    "#     print(surf.surface.GetBounds())\n",
    "    maxy_pt = sg.graph_data.edge_pt_coords[np.argmin(np.array(sg.graph_data.edge_pt_coords)[:,1])]\n",
    "    #print(maxy_pt)\n",
    "    \n",
    "    pts = []\n",
    "    ref_pts = []\n",
    "    pts.append([0,0,0])\n",
    "    pts.append([maxy_pt[0],maxy_pt[1],0])\n",
    "    ref_pts.append([0,0,0])\n",
    "    dist = -distance.euclidean([0,0,0],[maxy_pt[0],maxy_pt[1],0])\n",
    "    ref_pts.append([0,dist,0])\n",
    "    landmarks = Landmarks(pts=pts)\n",
    "    icp,txmat = landmarks.align_landmarks(ref_pts)\n",
    "    \n",
    "    output_path = output_alignment_final+'Aligned_To_MaxY/'\n",
    "    pathlib.Path((output_path)).mkdir(exist_ok=True)\n",
    "    aligner = Alignment() \n",
    "    aligner.transform_folders(output_alignment_final+'Aligned_To_Central_Axis/',\\\n",
    "                              output_path,os.path.basename(file)[:-10],txmat=txmat,icp=icp)\n",
    "    \n",
    "    soma_center = Landmarks(output_neuron_axis+os.path.basename(file)[:-10]+'Soma_Centroid.landmarksAscii').pts[0]\n",
    "    neuron_axis = AmiraSpatialGraph(output_neuron_axis+os.path.basename(file)[:-10]+'soma_pia_axis.am',generic_graph=True)\n",
    "   "
   ]
  },
  {
   "cell_type": "markdown",
   "metadata": {
    "ExecuteTime": {
     "end_time": "2020-08-26T16:47:41.616429Z",
     "start_time": "2020-08-26T16:47:41.610596Z"
    },
    "collapsed": true
   },
   "source": [
    "### Get Neuron's Position"
   ]
  },
  {
   "cell_type": "code",
   "execution_count": null,
   "metadata": {
    "ExecuteTime": {
     "end_time": "2020-08-22T12:03:57.800185Z",
     "start_time": "2020-08-22T12:03:10.815051Z"
    },
    "scrolled": true
   },
   "outputs": [],
   "source": [
    "cols = ['Exp','Distance_of_Soma_From_Center_3D','Distance_of_Soma_From_Center_X','Distance_of_Soma_From_Center_Y','Distance_of_Soma_From_Center_Z',\\\n",
    "        'Angle_of_Soma_From_X_Axis','Angle_of_Soma_From_Z_Axis',\\\n",
    "        'Angle_Z_of_Neuron_Axis_From_Center']\n",
    "df_main = pd.DataFrame(columns=cols)\n",
    "i = 0\n",
    "for file in sorted(glob.glob(output_alignment_final+'Aligned_To_Central_Axis/1_Surfaces/'+'*_barrels.am')):\n",
    "    i = i + 1\n",
    "    print(i, os.path.basename(file))\n",
    "    sg = AmiraSpatialGraph(file,barrel_projections_present=False)\n",
    "    \n",
    "    soma_center = Landmarks(output_alignment_final+'Aligned_To_MaxY/2_Local_Neuron_Axis/'+os.path.basename(file)[:-10]+'Soma_Centroid.landmarksAscii').pts[0]\n",
    "    neuron_axis = AmiraSpatialGraph(output_alignment_final+'Aligned_To_MaxY/2_Local_Neuron_Axis/'+os.path.basename(file)[:-10]+'soma_pia_axis.am',generic_graph=True)\n",
    "    df = pd.DataFrame(columns=cols)\n",
    "    df['Exp'] = [os.path.basename(file)[:-10]]\n",
    "    df['Distance_of_Soma_From_Center'] = [distance.euclidean([0,0,0],soma_center)]\n",
    "    df['Distance_of_Soma_From_Center_XY'] = [distance.euclidean([0,0,0],[soma_center[0],soma_center[1],0])]\n",
    "    df['Angle_of_Soma_From_X_Axis_Center'] = Vectors().get_angle_between_vectors([[0,0,0],[1,0,0]], \\\n",
    "                                                                             [[0,0,0],[soma_center[0],soma_center[1],0]],ignore_opposite_direction=False)\n",
    "    df['Angle_Z_of_Neuron_Axis_From_Center'] = Vectors().get_angle_between_vectors([[0,0,0],neuron_axis.graph_data.edge_list[0][0]] ,\\\n",
    "                                                                                  [[0,0,0],neuron_axis.graph_data.edge_list[0][1]],ignore_opposite_direction=False)\n",
    "    \n",
    "    df_main = df_main.append(df)\n",
    "    \n",
    "    \n",
    "df_main.to_csv(output_root+'Neuron_Position_and_Angles.csv')\n"
   ]
  },
  {
   "cell_type": "markdown",
   "metadata": {},
   "source": [
    "## Clip Pia and WM Surfaces\n",
    "\n",
    "\n",
    "\n"
   ]
  },
  {
   "cell_type": "code",
   "execution_count": null,
   "metadata": {
    "ExecuteTime": {
     "end_time": "2020-08-26T15:36:18.352279Z",
     "start_time": "2020-08-26T15:36:18.344240Z"
    },
    "collapsed": true
   },
   "outputs": [],
   "source": [
    "def clean_pdata(pdata):\n",
    "    cleaner = vtk.vtkCleanPolyData()\n",
    "    cleaner.SetInputData(pdata)\n",
    "    cleaner.Update()\n",
    "    \n",
    "    return cleaner.GetOutput()"
   ]
  },
  {
   "cell_type": "code",
   "execution_count": null,
   "metadata": {
    "ExecuteTime": {
     "end_time": "2020-08-26T15:37:05.932225Z",
     "start_time": "2020-08-26T15:36:18.471173Z"
    },
    "scrolled": true
   },
   "outputs": [],
   "source": [
    "output_path = output_alignment_final+'/Clipped_Surfaces/'\n",
    "pathlib.Path((output_path)).mkdir(exist_ok=True)\n",
    "cols = ['Exp_Name','vM1_Thickness_Mean','vM1_Thickness_Std']\n",
    "df_main = pd.DataFrame(columns=cols)\n",
    "# Clip between 55 degree and 95 degree in XY plane\n",
    "for file in sorted(glob.glob(input_path_spatial_graphs+'*.am')):\n",
    "    pia = Surface(output_alignment_final+'Aligned_To_MaxY/1_Surfaces/'+os.path.basename(file)[:-3]+'_pia_bottom_open.vtk')\n",
    "    wm = Surface(output_alignment_final+'Aligned_To_MaxY/1_Surfaces/'+os.path.basename(file)[:-3]+'_WM_bottom_open.vtk')\n",
    "    axis_field = AmiraSpatialGraph(output_alignment_final+'Aligned_To_MaxY/1_Axis_Fields/'+os.path.basename(file)[:-3]+'_axis_field.am',generic_graph=True)\n",
    "    \n",
    "    # Get 3 pts for each angle \n",
    "    rotation_mat_right = (Vectors().get_rotation_matrix_around_given_axis(theta=-55,axis_of_rotation='z'))\n",
    "    rotation_mat_left = (Vectors().get_rotation_matrix_around_given_axis(theta=-95,axis_of_rotation='z'))\n",
    "    \n",
    "    right_plane_pt = np.array(rotation_mat_right*[1,0,0])[:,0]\n",
    "    left_plane_pt = np.array(rotation_mat_left*[1,0,0])[:,0]\n",
    "    \n",
    "    plane_right,tri_right = Surface().get_cutting_plane([0,0,0],[0,0,1],right_plane_pt)\n",
    "    plane_left,tri_left = Surface().get_cutting_plane([0,0,0],[0,0,1],left_plane_pt)\n",
    "    \n",
    "    pia1,wm1 = pia.clip_surfaces(pia.surface,wm.surface,plane_right,get_left=False)\n",
    "    pia2,wm2 = pia.clip_surfaces(pia1,wm1,plane_left,get_left=True)\n",
    "    \n",
    "    cleaned_pia = clean_pdata(pia2)\n",
    "    cleaned_wm = clean_pdata(wm2)\n",
    "    \n",
    "    Surface(polydata=cleaned_pia).write_surface_mesh(output_alignment_final+'/Clipped_Surfaces/'+os.path.basename(file)[:-3]+'_pia.vtk')\n",
    "    Surface(polydata=cleaned_wm).write_surface_mesh(output_alignment_final+'/Clipped_Surfaces/'+os.path.basename(file)[:-3]+'_WM.vtk')\n",
    "    \n",
    "    # get axis field within this\n",
    "    selected_axis_field_sg,wm_pts,pia_pts,missing_axis_field = pia.get_axis_field_within_instersecting_surface_with_trimming\\\n",
    "                                (pia2,wm2,axis_field.graph_data.edge_list,vec_extension_offset=0.5)\n",
    "    selected_axis_field_sg.write_spatial_graph(output_alignment_final+'/Clipped_Surfaces/'+os.path.basename(file)[:-3]+'_vM1_Axis_Field.am')\n",
    "    \n",
    "    # find lengths within this\n",
    "    vec_lengths,a,b = Vectors().get_vec_lengths(selected_axis_field_sg.graph_data.edge_list)\n",
    "    \n",
    "    df = pd.DataFrame(columns=cols)\n",
    "    df['Exp_Name'] = [os.path.basename(file)[:-3]]\n",
    "    df['vM1_Thickness_Mean'] = np.array(vec_lengths).mean()\n",
    "    df['vM1_Thickness_Std'] = np.array(vec_lengths).std()\n",
    "    \n",
    "    df_main = df_main.append(df)\n",
    "    \n",
    "    \n",
    "df_main.to_csv(output_alignment_final+'/Clipped_Surfaces/'+'vM1_Thickness.csv')"
   ]
  },
  {
   "cell_type": "code",
   "execution_count": null,
   "metadata": {
    "ExecuteTime": {
     "end_time": "2020-08-26T15:29:46.160226Z",
     "start_time": "2020-08-26T15:29:43.606595Z"
    }
   },
   "outputs": [],
   "source": [
    "# Clip the avg surface\n",
    "ref_pia = Surface(input_path_avg_rf+'/Avg_Pia_50.vtk')\n",
    "ref_wm = Surface(input_path_avg_rf+'/Avg_WM_50.vtk')\n",
    "ref_axis_field_sg = AmiraSpatialGraph(input_path_avg_rf+'Avg_Axis_Field_50.am',generic_graph=True)\n",
    "rotation_mat_right = (Vectors().get_rotation_matrix_around_given_axis(theta=-55,axis_of_rotation='z'))\n",
    "rotation_mat_left = (Vectors().get_rotation_matrix_around_given_axis(theta=-95,axis_of_rotation='z'))\n",
    "\n",
    "right_plane_pt = np.array(rotation_mat_right*[1,0,0])[:,0]\n",
    "left_plane_pt = np.array(rotation_mat_left*[1,0,0])[:,0]\n",
    "\n",
    "plane_right,tri_right = Surface().get_cutting_plane([0,0,0],[0,0,1],right_plane_pt)\n",
    "plane_left,tri_left = Surface().get_cutting_plane([0,0,0],[0,0,1],left_plane_pt)\n",
    "\n",
    "pia1,wm1 = ref_pia.clip_surfaces(ref_pia.surface,ref_wm.surface,plane_right,get_left=False)\n",
    "pia2,wm2 = ref_wm.clip_surfaces(pia1,wm1,plane_left,get_left=True)\n",
    "\n",
    "cleaned_pia = clean_pdata(pia2)\n",
    "cleaned_wm = clean_pdata(wm2)\n",
    "\n",
    "Surface(polydata=cleaned_pia).write_surface_mesh(output_alignment_final+'/Clipped_Surfaces/'+'Avg_vM1_Pia.vtk')\n",
    "Surface(polydata=cleaned_wm).write_surface_mesh(output_alignment_final+'/Clipped_Surfaces/'+'Avg_vM1_WM.vtk')\n",
    "\n",
    "\n",
    "# get axis field within this\n",
    "selected_axis_field_sg,wm_pts,pia_pts,missing_axis_field = pia.get_axis_field_within_instersecting_surface_with_trimming\\\n",
    "                            (pia2,wm2,ref_axis_field_sg.graph_data.edge_list,vec_extension_offset=0.5)\n",
    "selected_axis_field_sg.write_spatial_graph(output_alignment_final+'/Clipped_Surfaces/'+'Avg_vM1_Axis_Field.am')\n"
   ]
  },
  {
   "cell_type": "code",
   "execution_count": null,
   "metadata": {
    "ExecuteTime": {
     "end_time": "2020-08-26T15:38:43.924321Z",
     "start_time": "2020-08-26T15:38:43.884112Z"
    }
   },
   "outputs": [],
   "source": [
    "# compare the cortical thickness between Rajeev and Rabies vM1s\n",
    "avg_vm1_sg = AmiraSpatialGraph(output_alignment_final+'/Clipped_Surfaces/'+'Avg_vM1_Axis_Field.am',generic_graph=True)\n",
    "avg_vm1_lengths,a,b = Vectors().get_vec_lengths(avg_vm1_sg.graph_data.edge_list)\n",
    "np.array(avg_vm1_lengths).mean(axis=0),np.array(avg_vm1_lengths).std(axis=0),np.array(avg_vm1_lengths).max(),np.array(avg_vm1_lengths).min()"
   ]
  },
  {
   "cell_type": "code",
   "execution_count": null,
   "metadata": {
    "ExecuteTime": {
     "end_time": "2020-08-26T15:41:22.180170Z",
     "start_time": "2020-08-26T15:41:22.166894Z"
    }
   },
   "outputs": [],
   "source": [
    "df = pd.read_csv(output_alignment_final+'/Clipped_Surfaces/'+'vM1_Thickness.csv')\n",
    "df.mean(),df.min(),df.max()"
   ]
  },
  {
   "cell_type": "markdown",
   "metadata": {},
   "source": [
    "## Align Clipped Avg with Clipped Surfaces"
   ]
  },
  {
   "cell_type": "code",
   "execution_count": null,
   "metadata": {
    "ExecuteTime": {
     "end_time": "2020-08-25T00:09:44.172541Z",
     "start_time": "2020-08-25T00:09:44.162550Z"
    },
    "collapsed": true
   },
   "outputs": [],
   "source": [
    "def clean_axis_field(vm1_axis_field):\n",
    "    clean_field_sg = AmiraSpatialGraph(generic_graph=True)\n",
    "    cleaned_axis_field = []\n",
    "    for edge in vm1_axis_field:\n",
    "        if edge[0][2] > edge[1][2]:\n",
    "            cleaned_axis_field.append(edge)\n",
    "            clean_field_sg.graph_data.add_edge(edge[0],edge[1])\n",
    "    #clean_field_sg.write_spatial_graph(output_path+'clean.am')\n",
    "    return clean_field_sg"
   ]
  },
  {
   "cell_type": "code",
   "execution_count": null,
   "metadata": {
    "ExecuteTime": {
     "end_time": "2020-08-25T00:09:44.924536Z",
     "start_time": "2020-08-25T00:09:44.916100Z"
    },
    "collapsed": true
   },
   "outputs": [],
   "source": [
    "def get_sg_from_edge_list(edge_list):\n",
    "    sg = AmiraSpatialGraph(generic_graph=True)\n",
    "    cleaned_axis_field = []\n",
    "    for edge in edge_list:\n",
    "        sg.graph_data.add_edge(edge[0],edge[1])\n",
    "    #clean_field_sg.write_spatial_graph(output_path+'clean.am')\n",
    "    return sg"
   ]
  },
  {
   "cell_type": "code",
   "execution_count": null,
   "metadata": {
    "ExecuteTime": {
     "end_time": "2020-08-25T00:09:45.860491Z",
     "start_time": "2020-08-25T00:09:45.844938Z"
    },
    "collapsed": true
   },
   "outputs": [],
   "source": [
    "def get_number_of_axes_from_field(axis_field,number_of_axes_needed,neuron_axis=[]):\n",
    "    axis_filed_len = len(axis_field)\n",
    "    offset = int(axis_filed_len/number_of_axes_needed)\n",
    "    return_list = []\n",
    "    if len(neuron_axis) > 0:\n",
    "        if neuron_axis is not None:\n",
    "            for i in range(len(axis_field)):\n",
    "                return_list.append(axis_field[i])\n",
    "                i = i + offset\n",
    "                if len(return_list) == number_of_axes_needed:\n",
    "                    return return_list\n",
    "        \n",
    "    else:\n",
    "        \n",
    "        for i in range(len(axis_field)):\n",
    "            return_list.append(axis_field[i])\n",
    "            i = i + offset\n",
    "            if len(return_list) == number_of_axes_needed:\n",
    "                return return_list"
   ]
  },
  {
   "cell_type": "markdown",
   "metadata": {},
   "source": [
    "### Using Clipped Surfaces"
   ]
  },
  {
   "cell_type": "code",
   "execution_count": null,
   "metadata": {
    "ExecuteTime": {
     "end_time": "2020-08-26T02:27:23.284266Z",
     "start_time": "2020-08-26T00:54:57.020270Z"
    },
    "scrolled": true
   },
   "outputs": [],
   "source": [
    "# avg_vm1_axis_field_sg = AmiraSpatialGraph(output_alignment_final+'/Clipped_Surfaces/'+'Avg_vM1_Axis_Field.am',\\\n",
    "#                                        generic_graph=True)\n",
    "# avg_vm1_axis_field = avg_vm1_axis_field_sg.graph_data.edge_list\n",
    "output_path = output_alignment_final+'Aligned_To_Clipped_Avg_Surface/'\n",
    "pathlib.Path((output_path)).mkdir(exist_ok=True)\n",
    "\n",
    "output_path_clipped_reg = output_path+'Clipped_Surfaces/'\n",
    "pathlib.Path((output_path_clipped_reg)).mkdir(exist_ok=True)\n",
    "\n",
    "ref_pia = Surface(output_alignment_final+'/Clipped_Surfaces/Avg_vM1_Pia.vtk')\n",
    "#ref_pia = Surface(input_path_avg_rf+'/Avg_vM1_Pia_50.vtk')\n",
    "ref_wm = Surface(output_alignment_final+'/Clipped_Surfaces/Avg_vM1_WM.vtk')\n",
    "ref_pia_wm_vm1 = Surface(output_alignment_final+'/Clipped_Surfaces/Avg_vM1_Pia.vtk')\n",
    "ref_pia_wm_vm1.append(ref_wm.surface)\n",
    "#print(len(avg_vm1_axis_field))\n",
    "for file in sorted(glob.glob(input_path_spatial_graphs+'*.am')):\n",
    "    #if os.path.basename(file)[:-3] == 'RA20130320_corrected_DONE':\n",
    "    pia = Surface(output_alignment_final+'Clipped_Surfaces/'+os.path.basename(file)[:-3]+'_pia.vtk')\n",
    "    wm = Surface(output_alignment_final+'Clipped_Surfaces/'+os.path.basename(file)[:-3]+'_WM.vtk')\n",
    "\n",
    "    pia_wm = Surface(polydata=pia.surface)\n",
    "    pia_wm.append(wm.surface)\n",
    "\n",
    "    ref_pia_wm = Surface(polydata=ref_pia.surface)\n",
    "    ref_pia_wm.append(ref_wm.surface)\n",
    "\n",
    "#     pia_wm_pts = []\n",
    "#     for pt in pia.get_surface_pts():\n",
    "#         pia_wm_pts.append(pt)\n",
    "#     for pt in wm.get_surface_pts():\n",
    "#         pia_wm_pts.append(pt)\n",
    "#     ref_pia_wm_pts = []\n",
    "#     for pt in ref_pia.get_surface_pts():\n",
    "#         ref_pia_wm_pts.append(pt)\n",
    "#     for pt in ref_wm.get_surface_pts():\n",
    "#         ref_pia_wm_pts.append(pt)\n",
    "\n",
    "#     pia_wm = Surface(pts=pia_wm_pts)\n",
    "#     ref_pia_wm = Surface(pts=ref_pia_wm_pts)\n",
    "    cleaned_pia_wm = clean_pdata(pia_wm.surface)\n",
    "    cleaned_ref_pia_wm = clean_pdata(ref_pia_wm.surface)\n",
    "\n",
    "    #moving_hull = Surface(polydata=cleaned_pia_wm).create_delunay_surface_3d(return_hull=True,output_filename=output_path_clipped_reg+'moving_hull.vtk')\n",
    "    #target_hull = Surface(polydata=cleaned_ref_pia_wm).create_delunay_surface_3d(return_hull=True,output_filename=output_path_clipped_reg+'target_hull.vtk')\n",
    "\n",
    "    aligner1 = Alignment(cleaned_ref_pia_wm,cleaned_pia_wm,nr_iterations=10000)\n",
    "    txmat = aligner1.get_transformation_matrix()\n",
    "    print(os.path.basename(file)[:-3])\n",
    "    print(txmat)\n",
    "    icp = aligner1.get_icp_transform()\n",
    "\n",
    "    aligner2 = Alignment() \n",
    "    aligner2.transform_folders(output_alignment_final+'Aligned_To_MaxY/',\\\n",
    "                              output_path,os.path.basename(file)[:-3],txmat=txmat,icp=icp)\n",
    "\n",
    "    aligner3 = Alignment() \n",
    "    aligner2.transform_files(output_alignment_final+'Clipped_Surfaces/',\\\n",
    "                              output_path_clipped_reg,os.path.basename(file)[:-3],txmat=txmat,icp=icp)\n",
    "\n",
    "    "
   ]
  },
  {
   "cell_type": "markdown",
   "metadata": {},
   "source": [
    "### Using Clipped Surfaces Hull"
   ]
  },
  {
   "cell_type": "code",
   "execution_count": null,
   "metadata": {
    "ExecuteTime": {
     "end_time": "2020-08-25T21:30:45.828197Z",
     "start_time": "2020-08-25T20:41:51.023773Z"
    },
    "scrolled": true
   },
   "outputs": [],
   "source": [
    "# avg_vm1_axis_field_sg = AmiraSpatialGraph(output_alignment_final+'/Clipped_Surfaces/'+'Avg_vM1_Axis_Field.am',\\\n",
    "#                                        generic_graph=True)\n",
    "# avg_vm1_axis_field = avg_vm1_axis_field_sg.graph_data.edge_list\n",
    "output_path = output_alignment_final+'Aligned_To_Clipped_Avg_Surface_Hull/'\n",
    "pathlib.Path((output_path)).mkdir(exist_ok=True)\n",
    "\n",
    "output_path_clipped_reg = output_path+'Clipped_Surfaces/'\n",
    "pathlib.Path((output_path_clipped_reg)).mkdir(exist_ok=True)\n",
    "\n",
    "ref_pia = Surface(output_alignment_final+'/Clipped_Surfaces/Avg_vM1_Pia.vtk')\n",
    "#ref_pia = Surface(input_path_avg_rf+'/Avg_vM1_Pia_50.vtk')\n",
    "ref_wm = Surface(output_alignment_final+'/Clipped_Surfaces/Avg_vM1_WM.vtk')\n",
    "ref_pia_wm_vm1 = Surface(output_alignment_final+'/Clipped_Surfaces/Avg_vM1_Pia.vtk')\n",
    "ref_pia_wm_vm1.append(ref_wm.surface)\n",
    "#print(len(avg_vm1_axis_field))\n",
    "for file in sorted(glob.glob(input_path_spatial_graphs+'*.am')):\n",
    "    #if os.path.basename(file)[:-3] == 'RA20130320_corrected_DONE':\n",
    "    pia = Surface(output_alignment_final+'Clipped_Surfaces/'+os.path.basename(file)[:-3]+'_pia.vtk')\n",
    "    wm = Surface(output_alignment_final+'Clipped_Surfaces/'+os.path.basename(file)[:-3]+'_WM.vtk')\n",
    "\n",
    "    pia_wm = Surface(polydata=pia.surface)\n",
    "    pia_wm.append(wm.surface)\n",
    "\n",
    "    ref_pia_wm = Surface(polydata=ref_pia.surface)\n",
    "    ref_pia_wm.append(ref_wm.surface)\n",
    "\n",
    "#     pia_wm_pts = []\n",
    "#     for pt in pia.get_surface_pts():\n",
    "#         pia_wm_pts.append(pt)\n",
    "#     for pt in wm.get_surface_pts():\n",
    "#         pia_wm_pts.append(pt)\n",
    "#     ref_pia_wm_pts = []\n",
    "#     for pt in ref_pia.get_surface_pts():\n",
    "#         ref_pia_wm_pts.append(pt)\n",
    "#     for pt in ref_wm.get_surface_pts():\n",
    "#         ref_pia_wm_pts.append(pt)\n",
    "\n",
    "#     pia_wm = Surface(pts=pia_wm_pts)\n",
    "#     ref_pia_wm = Surface(pts=ref_pia_wm_pts)\n",
    "    cleaned_pia_wm = clean_pdata(pia_wm.surface)\n",
    "    cleaned_ref_pia_wm = clean_pdata(ref_pia_wm.surface)\n",
    "\n",
    "    moving_hull = Surface(polydata=cleaned_pia_wm).create_delunay_surface_3d(return_hull=True,output_filename=output_path_clipped_reg+'moving_hull.vtk')\n",
    "    target_hull = Surface(polydata=cleaned_ref_pia_wm).create_delunay_surface_3d(return_hull=True,output_filename=output_path_clipped_reg+'target_hull.vtk')\n",
    "\n",
    "    aligner1 = Alignment(target_hull,moving_hull,nr_iterations=1000)\n",
    "    txmat = aligner1.get_transformation_matrix()\n",
    "    print(os.path.basename(file)[:-3])\n",
    "    print(txmat)\n",
    "    icp = aligner1.get_icp_transform()\n",
    "\n",
    "    aligner2 = Alignment() \n",
    "    aligner2.transform_folders(output_alignment_final+'Aligned_To_MaxY/',\\\n",
    "                              output_path,os.path.basename(file)[:-3],txmat=txmat,icp=icp)\n",
    "\n",
    "    aligner3 = Alignment() \n",
    "    aligner3.transform_files(output_alignment_final+'Clipped_Surfaces/',\\\n",
    "                              output_path_clipped_reg,os.path.basename(file)[:-3],txmat=txmat,icp=icp)\n",
    "\n",
    "    "
   ]
  },
  {
   "cell_type": "markdown",
   "metadata": {},
   "source": [
    "### Refine Using Original Neuron Axis and Nearest Avg Axis "
   ]
  },
  {
   "cell_type": "code",
   "execution_count": null,
   "metadata": {
    "ExecuteTime": {
     "end_time": "2020-08-26T13:16:51.636216Z",
     "start_time": "2020-08-26T13:12:33.125224Z"
    },
    "scrolled": true
   },
   "outputs": [],
   "source": [
    "# avg_vm1_axis_field_sg = AmiraSpatialGraph(output_alignment_final+'/Clipped_Surfaces/'+'Avg_vM1_Axis_Field.am',\\\n",
    "#                                        generic_graph=True)\n",
    "# avg_vm1_axis_field = avg_vm1_axis_field_sg.graph_data.edge_list\n",
    "# ref_pia_wm = Surface(pts=avg_vm1_axis_field_sg.graph_data.edge_pt_coords)\n",
    "\n",
    "input_path = output_alignment_final+'Aligned_To_Clipped_Avg_Surface/'\n",
    "\n",
    "output_path = output_alignment_final+'Aligned_To_Clipped_Avg_Surface_Refined_By_Neuron_Axis/'\n",
    "pathlib.Path((output_path)).mkdir(exist_ok=True)\n",
    "\n",
    "avg_vm1_axis_field_sg = AmiraSpatialGraph(input_path_avg_rf+'Avg_vM1_Axis_Field_50.am',\\\n",
    "                                        generic_graph=True)\n",
    "avg_vm1_axis_field =  avg_vm1_axis_field_sg.graph_data.edge_list                                    \n",
    "#print(len(avg_vm1_axis_field)) \n",
    "for file in sorted(glob.glob(input_path_spatial_graphs+'*.am')):\n",
    "    #if os.path.basename(file)[:-3] == 'RA20180109_1_Cell_A_done.am_Segmented_corrected_shifted_and_merged_DONE':\n",
    "        \n",
    "    print(os.path.basename(file)[:-3])\n",
    "    sg = AmiraSpatialGraph(input_path+'/1_Surfaces/'+os.path.basename(file)[:-3]+'_barrels.am')\n",
    "    soma_center = np.array(sg.neuron.soma.edge_pt_coords).mean(axis=0)\n",
    "#     nearest_edge_in_avg_vm1,min_dist, min_dist_from_wm, min_dist_from_pia, pt_on_vector = \\\n",
    "#         Vectors().get_nearest_axis_to_pt(soma_center,avg_vm1_axis_field,axis_validation_distance=3000)\n",
    "    \n",
    "    if os.path.exists(input_path+'/2_Local_Neuron_Axis/'+os.path.basename(file)[:-3]+'_soma_wm_axis.am'):\n",
    "        # wm proj exists... use the pia and wm to do this one now\n",
    "        original_soma_pia_axis_sg = AmiraSpatialGraph(input_path+'/2_Local_Neuron_Axis/'+os.path.basename(file)[:-3]+'_soma_pia_axis.am',\\\n",
    "                                    generic_graph=True)\n",
    "        original_soma_wm_axis_sg = AmiraSpatialGraph(input_path+'/2_Local_Neuron_Axis/'+os.path.basename(file)[:-3]+'_soma_wm_axis.am',\\\n",
    "                                    generic_graph=True)\n",
    "        original_neuron_axis = [original_soma_wm_axis_sg.graph_data.edge_list[0][1],\\\n",
    "                                original_soma_pia_axis_sg.graph_data.edge_list[0][1]]\n",
    "        ref_neuron_axis = [nearest_edge_in_avg_vm1[0],nearest_edge_in_avg_vm1[1]]\n",
    "    else:\n",
    "        original_soma_pia_axis_sg = AmiraSpatialGraph(input_path+'/2_Local_Neuron_Axis/'+os.path.basename(file)[:-3]+'_soma_pia_axis.am',\\\n",
    "                                    generic_graph=True)\n",
    "        original_neuron_axis = [original_soma_pia_axis_sg.graph_data.edge_list[0][0],\\\n",
    "                                original_soma_pia_axis_sg.graph_data.edge_list[0][1]]\n",
    "        soma_pia_dist = Vectors().get_vec_length(original_neuron_axis)\n",
    "        soma_pt_on_avg_axis = Vectors().create_pt_along_vector_at_given_distance(soma_pia_dist,nearest_edge_in_avg_vm1[1],nearest_edge_in_avg_vm1[0])\n",
    "        ref_neuron_axis = [soma_pt_on_avg_axis,nearest_edge_in_avg_vm1[1]]\n",
    "    \n",
    "    selected_axis_sg = AmiraSpatialGraph(generic_graph=True)\n",
    "    selected_axis_sg.graph_data.add_edge(nearest_edge_in_avg_vm1[0],nearest_edge_in_avg_vm1[1])\n",
    "    selected_axis_sg.write_spatial_graph(output_path+'selected_axis.am')\n",
    "    print(original_neuron_axis,ref_neuron_axis)\n",
    "    # align oginal neuron axis to the nearest axis in the avg \n",
    "    landmarks = Landmarks(pts=original_neuron_axis)\n",
    "    icp,txmat = landmarks.align_landmarks(ref_neuron_axis)\n",
    "    print(txmat)\n",
    "    \n",
    "    aligner2 = Alignment() \n",
    "    aligner2.transform_folders(input_path,output_path,os.path.basename(file)[:-3],txmat=txmat,icp=icp)\n",
    "\n",
    "    output_path_clipped_surf = output_path+'Clipped_Surfaces/'\n",
    "    pathlib.Path((output_path_clipped_surf)).mkdir(exist_ok=True)\n",
    "    aligner3 = Alignment() \n",
    "    aligner3.transform_files(input_path+'Clipped_Surfaces/',output_path_clipped_surf,os.path.basename(file)[:-3],txmat=txmat,icp=icp)\n",
    "    \n",
    "    "
   ]
  },
  {
   "cell_type": "markdown",
   "metadata": {},
   "source": [
    "### Refine Using Neuron Avg Axis and Nearest Local Avg Axis in Avg Surface"
   ]
  },
  {
   "cell_type": "code",
   "execution_count": null,
   "metadata": {
    "ExecuteTime": {
     "end_time": "2020-08-26T16:02:34.940218Z",
     "start_time": "2020-08-26T15:58:18.130307Z"
    },
    "scrolled": true
   },
   "outputs": [],
   "source": [
    "# avg_vm1_axis_field_sg = AmiraSpatialGraph(output_alignment_final+'/Clipped_Surfaces/'+'Avg_vM1_Axis_Field.am',\\\n",
    "#                                        generic_graph=True)\n",
    "# avg_vm1_axis_field = avg_vm1_axis_field_sg.graph_data.edge_list\n",
    "# ref_pia_wm = Surface(pts=avg_vm1_axis_field_sg.graph_data.edge_pt_coords)\n",
    "\n",
    "input_path = output_alignment_final+'Aligned_To_Clipped_Avg_Surface/'\n",
    "\n",
    "output_path = output_alignment_final+'Aligned_To_Clipped_Avg_Surface_Refined_By_Local_Avg_Axis/'\n",
    "pathlib.Path((output_path)).mkdir(exist_ok=True)\n",
    "\n",
    "avg_vm1_axis_field_sg = AmiraSpatialGraph(input_path_avg_rf+'Avg_vM1_Axis_Field_50.am',\\\n",
    "                                        generic_graph=True)\n",
    "avg_vm1_axis_field =  avg_vm1_axis_field_sg.graph_data.edge_list                                    \n",
    "#print(len(avg_vm1_axis_field)) \n",
    "for file in sorted(glob.glob(input_path_spatial_graphs+'*.am')):\n",
    "    #if os.path.basename(file)[:-3] == 'RA20180109_1_Cell_A_done.am_Segmented_corrected_shifted_and_merged_DONE':\n",
    "        \n",
    "    print(os.path.basename(file)[:-3])\n",
    "    sg = AmiraSpatialGraph(input_path+'/1_Surfaces/'+os.path.basename(file)[:-3]+'_barrels.am')\n",
    "    soma_center = np.array(sg.neuron.soma.edge_pt_coords).mean(axis=0)\n",
    "    nearest_edge_in_avg_vm1,min_dist, min_dist_from_wm, min_dist_from_pia, pt_on_vector = \\\n",
    "        Vectors().get_nearest_axis_to_pt(soma_center,avg_vm1_axis_field,axis_validation_distance=3000)\n",
    "    \n",
    "    if os.path.exists(input_path+'/2_Local_Neuron_Axis/'+os.path.basename(file)[:-3]+'_soma_wm_axis_local_avg.am'):\n",
    "        # wm proj exists... use the pia and wm to do this one now\n",
    "        original_soma_pia_axis_sg = AmiraSpatialGraph(input_path+'/2_Local_Neuron_Axis/'+os.path.basename(file)[:-3]+'_soma_pia_axis_local_avg.am',\\\n",
    "                                    generic_graph=True)\n",
    "        original_soma_wm_axis_sg = AmiraSpatialGraph(input_path+'/2_Local_Neuron_Axis/'+os.path.basename(file)[:-3]+'_soma_wm_axis_local_avg.am',\\\n",
    "                                    generic_graph=True)\n",
    "        original_neuron_axis = [original_soma_wm_axis_sg.graph_data.edge_list[0][1],\\\n",
    "                                original_soma_pia_axis_sg.graph_data.edge_list[0][1]]\n",
    "        ref_neuron_axis = [nearest_edge_in_avg_vm1[0],nearest_edge_in_avg_vm1[1]]\n",
    "    else:\n",
    "        original_soma_pia_axis_sg = AmiraSpatialGraph(input_path+'/2_Local_Neuron_Axis/'+os.path.basename(file)[:-3]+'_soma_pia_axis.am',\\\n",
    "                                    generic_graph=True)\n",
    "        original_neuron_axis = [original_soma_pia_axis_sg.graph_data.edge_list[0][0],\\\n",
    "                                original_soma_pia_axis_sg.graph_data.edge_list[0][1]]\n",
    "        soma_pia_dist = Vectors().get_vec_length(original_neuron_axis)\n",
    "        soma_pt_on_avg_axis = Vectors().create_pt_along_vector_at_given_distance(soma_pia_dist,nearest_edge_in_avg_vm1[1],nearest_edge_in_avg_vm1[0])\n",
    "        ref_neuron_axis = [soma_pt_on_avg_axis,nearest_edge_in_avg_vm1[1]]\n",
    "    \n",
    "    selected_axis_sg = AmiraSpatialGraph(generic_graph=True)\n",
    "    selected_axis_sg.graph_data.add_edge(nearest_edge_in_avg_vm1[0],nearest_edge_in_avg_vm1[1])\n",
    "    selected_axis_sg.write_spatial_graph(output_path+'selected_axis.am')\n",
    "    #print(original_neuron_axis,ref_neuron_axis)\n",
    "    # align oginal neuron axis to the nearest axis in the avg \n",
    "    landmarks = Landmarks(pts=original_neuron_axis)\n",
    "    icp,txmat = landmarks.align_landmarks(ref_neuron_axis)\n",
    "    #print(txmat)\n",
    "    \n",
    "    print('original_neuron_axis_length : {}, neuron_axis_length_in_ref_frame : {}, Diff:{} '.format(\\\n",
    "            Vectors().get_vec_length(original_neuron_axis),Vectors().get_vec_length(ref_neuron_axis),\n",
    "                            Vectors().get_vec_length(original_neuron_axis)-Vectors().get_vec_length(ref_neuron_axis)) )\n",
    "    \n",
    "    aligner2 = Alignment() \n",
    "    aligner2.transform_folders(input_path,output_path,os.path.basename(file)[:-3],txmat=txmat,icp=icp)\n",
    "\n",
    "    output_path_clipped_surf = output_path+'Clipped_Surfaces/'\n",
    "    pathlib.Path((output_path_clipped_surf)).mkdir(exist_ok=True)\n",
    "    aligner3 = Alignment() \n",
    "    aligner3.transform_files(input_path+'Clipped_Surfaces/',output_path_clipped_surf,os.path.basename(file)[:-3],txmat=txmat,icp=icp)\n",
    "    \n",
    "    "
   ]
  },
  {
   "cell_type": "markdown",
   "metadata": {},
   "source": [
    "### Refine Using Neuron Axis and Same Axis Extended in Avg Surface"
   ]
  },
  {
   "cell_type": "code",
   "execution_count": null,
   "metadata": {
    "ExecuteTime": {
     "end_time": "2020-08-26T14:35:23.876279Z",
     "start_time": "2020-08-26T14:35:23.839342Z"
    },
    "scrolled": true
   },
   "outputs": [],
   "source": [
    "# find the avg axis along the registered neuron\n",
    "def extend_neuron_axis_to_avg_vm1(input_path,exp_name,ref_pia,ref_wm):\n",
    "    \n",
    "    #if exp_name == 'RA20180412_2_Cell_A.am_Segmented_corrected_DONE':\n",
    "    print(exp_name)\n",
    "    sg = AmiraSpatialGraph(input_path+'/1_Surfaces/'+exp_name+'_barrels.am')\n",
    "\n",
    "    neuron_axis_path = input_path+'/2_Local_Neuron_Axis/'\n",
    "    soma_center = Landmarks(neuron_axis_path+exp_name+'_Soma_Centroid.landmarksAscii').pts[0]\n",
    "    soma_pia_axis = AmiraSpatialGraph(neuron_axis_path + exp_name + '_soma_pia_axis.am' , generic_graph=True)\\\n",
    "                    .graph_data.edge_list[0]\n",
    "    pia_intersec_pt_reg,b = ref_pia.get_vector_intersection_pt(soma_center,soma_pia_axis[1],extrapolation_len=10000)\n",
    "    print(pia_intersec_pt_reg)\n",
    "    if len(pia_intersec_pt_reg)>0:\n",
    "        soma_pia_axis_reg = [soma_center,pia_intersec_pt_reg]\n",
    "        #write_edge(soma_pia_axis_reg,reg_axis_path+exp_name+'_soma_pia_axis_reg.am')\n",
    "    else:\n",
    "        pia_intersec_pt_reg,b = ref_pia.get_vector_intersection_pt(soma_center,soma_pia_axis[1],extrapolation_len=-10000)\n",
    "        if len(pia_intersec_pt_reg)>0:\n",
    "            soma_pia_axis_reg = [soma_center,pia_intersec_pt_reg]\n",
    "        else:\n",
    "            print('pia intersection not found error')\n",
    "\n",
    "    if os.path.exists(neuron_axis_path+exp_name+'_soma_wm_axis.am') :\n",
    "        soma_wm_axis = AmiraSpatialGraph(neuron_axis_path + exp_name + '_soma_wm_axis.am' , generic_graph=True)\\\n",
    "                            .graph_data.edge_list[0]\n",
    "        wm_intersec_pt_reg,b = ref_wm.get_vector_intersection_pt(soma_center,soma_wm_axis[1],extrapolation_len=10000)\n",
    "        print(wm_intersec_pt_reg)\n",
    "        if len(wm_intersec_pt_reg)>0:\n",
    "            soma_wm_axis_reg = [soma_center,wm_intersec_pt_reg]\n",
    "            #write_edge(soma_wm_axis_reg,reg_axis_path+exp_name+'_soma_wm_axis_reg.am')\n",
    "        else:\n",
    "#             wm_intersec_pt_reg,b = ref_wm.get_vector_intersection_pt(soma_center,soma_wm_axis[1],extrapolation_len=-10000)\n",
    "#             soma_wm_axis_reg = [soma_center,wm_intersec_pt_reg]\n",
    "#         if len(wm_intersec_pt_reg)==0:\n",
    "            soma_wm_axis_reg = []\n",
    "            print('wm intersection not found error')            \n",
    "    else:\n",
    "        # No wm projection found in the original\n",
    "        soma_wm_axis = []\n",
    "        soma_wm_axis_reg = []\n",
    "\n",
    "    return soma_pia_axis_reg,soma_wm_axis_reg\n",
    "        "
   ]
  },
  {
   "cell_type": "code",
   "execution_count": null,
   "metadata": {
    "ExecuteTime": {
     "end_time": "2020-08-26T14:42:44.972273Z",
     "start_time": "2020-08-26T14:35:23.999186Z"
    },
    "scrolled": true
   },
   "outputs": [],
   "source": [
    "# avg_vm1_axis_field_sg = AmiraSpatialGraph(output_alignment_final+'/Clipped_Surfaces/'+'Avg_vM1_Axis_Field.am',\\\n",
    "#                                        generic_graph=True)\n",
    "# avg_vm1_axis_field = avg_vm1_axis_field_sg.graph_data.edge_list\n",
    "# ref_pia_wm = Surface(pts=avg_vm1_axis_field_sg.graph_data.edge_pt_coords)\n",
    "ref_pia = Surface(input_path_avg_rf+'Avg_Pia_50.vtk')\n",
    "ref_wm = Surface(input_path_avg_rf+'Avg_WM_50.vtk')\n",
    "\n",
    "input_path = output_alignment_final+'Aligned_To_Clipped_Avg_Surface/'\n",
    "\n",
    "output_path = output_alignment_final+'Aligned_To_Clipped_Avg_Surface_Refined_By_Neuron_Axis_2/'\n",
    "pathlib.Path((output_path)).mkdir(exist_ok=True)\n",
    "\n",
    "avg_vm1_axis_field_sg = AmiraSpatialGraph(input_path_avg_rf+'Avg_vM1_Axis_Field_50.am',\\\n",
    "                                        generic_graph=True)\n",
    "avg_vm1_axis_field =  avg_vm1_axis_field_sg.graph_data.edge_list                                    \n",
    "#print(len(avg_vm1_axis_field)) \n",
    "for file in sorted(glob.glob(input_path_spatial_graphs+'*.am')):\n",
    "    #if os.path.basename(file)[:-3] == 'RA20180109_1_Cell_A_done.am_Segmented_corrected_shifted_and_merged_DONE':\n",
    "        \n",
    "    print(os.path.basename(file)[:-3])\n",
    "    sg = AmiraSpatialGraph(input_path+'/1_Surfaces/'+os.path.basename(file)[:-3]+'_barrels.am')\n",
    "    soma_center = np.array(sg.neuron.soma.edge_pt_coords).mean(axis=0)\n",
    "    \n",
    "    soma_pia_axis_reg,soma_wm_axis_reg = extend_neuron_axis_to_avg_vm1(input_path,os.path.basename(file)[:-3],ref_pia,ref_wm)\n",
    "    \n",
    "    if os.path.exists(input_path+'/2_Local_Neuron_Axis/'+os.path.basename(file)[:-3]+'_soma_wm_axis.am') and \\\n",
    "        len(soma_wm_axis_reg) > 0:\n",
    "        # wm proj exists... use the pia and wm to do this one now\n",
    "        original_soma_pia_axis_sg = AmiraSpatialGraph(input_path+'/2_Local_Neuron_Axis/'+os.path.basename(file)[:-3]+'_soma_pia_axis.am',\\\n",
    "                                    generic_graph=True)\n",
    "        original_soma_wm_axis_sg = AmiraSpatialGraph(input_path+'/2_Local_Neuron_Axis/'+os.path.basename(file)[:-3]+'_soma_wm_axis.am',\\\n",
    "                                    generic_graph=True)\n",
    "        original_neuron_axis = [original_soma_wm_axis_sg.graph_data.edge_list[0][1],\\\n",
    "                                original_soma_pia_axis_sg.graph_data.edge_list[0][1]]\n",
    "        ref_neuron_axis = [soma_wm_axis_reg[1],soma_pia_axis_reg[1]]\n",
    "    else:\n",
    "        original_soma_pia_axis_sg = AmiraSpatialGraph(input_path+'/2_Local_Neuron_Axis/'+os.path.basename(file)[:-3]+'_soma_pia_axis.am',\\\n",
    "                                    generic_graph=True)\n",
    "        original_neuron_axis = [original_soma_pia_axis_sg.graph_data.edge_list[0][0],\\\n",
    "                                original_soma_pia_axis_sg.graph_data.edge_list[0][1]]\n",
    "        soma_pia_dist = Vectors().get_vec_length(original_neuron_axis)\n",
    "        soma_pt_on_avg_axis = Vectors().create_pt_along_vector_at_given_distance(soma_pia_dist,nearest_edge_in_avg_vm1[1],nearest_edge_in_avg_vm1[0])\n",
    "        ref_neuron_axis = [soma_pt_on_avg_axis,nearest_edge_in_avg_vm1[1]]\n",
    "    \n",
    "    selected_axis_sg = AmiraSpatialGraph(generic_graph=True)\n",
    "    selected_axis_sg.graph_data.add_edge(ref_neuron_axis[0],ref_neuron_axis[1])\n",
    "    selected_axis_sg.write_spatial_graph(output_path+'selected_axis.am')\n",
    "    print(original_neuron_axis,ref_neuron_axis)\n",
    "    # align oginal neuron axis to the nearest axis in the avg \n",
    "    landmarks = Landmarks(pts=original_neuron_axis)\n",
    "    icp,txmat = landmarks.align_landmarks(ref_neuron_axis)\n",
    "    print(txmat)\n",
    "    \n",
    "    aligner2 = Alignment() \n",
    "    aligner2.transform_folders(input_path,output_path,os.path.basename(file)[:-3],txmat=txmat,icp=icp)\n",
    "\n",
    "    output_path_clipped_surf = output_path+'Clipped_Surfaces/'\n",
    "    pathlib.Path((output_path_clipped_surf)).mkdir(exist_ok=True)\n",
    "    aligner3 = Alignment() \n",
    "    aligner3.transform_files(input_path+'Clipped_Surfaces/',output_path_clipped_surf,os.path.basename(file)[:-3],txmat=txmat,icp=icp)\n",
    "    \n",
    "    "
   ]
  },
  {
   "cell_type": "markdown",
   "metadata": {},
   "source": [
    "### Using Axes Surrounding The Neuron"
   ]
  },
  {
   "cell_type": "code",
   "execution_count": null,
   "metadata": {
    "ExecuteTime": {
     "end_time": "2020-08-25T00:40:38.224227Z",
     "start_time": "2020-08-25T00:40:37.779278Z"
    },
    "scrolled": true
   },
   "outputs": [],
   "source": [
    "avg_vm1_axis_field_sg = AmiraSpatialGraph(output_alignment_final+'/Clipped_Surfaces/'+'Avg_vM1_Axis_Field.am',\\\n",
    "                                       generic_graph=True)\n",
    "avg_vm1_axis_field = avg_vm1_axis_field_sg.graph_data.edge_list\n",
    "ref_pia_wm = Surface(pts=avg_vm1_axis_field_sg.graph_data.edge_pt_coords)\n",
    "output_path = output_alignment_final+'Aligned_To_Clipped_Avg_Surface_Refined/'\n",
    "pathlib.Path((output_path)).mkdir(exist_ok=True)\n",
    "#print(len(avg_vm1_axis_field)) \n",
    "for file in sorted(glob.glob(input_path_spatial_graphs+'*.am')):\n",
    "    if os.path.basename(file)[:-3] == 'RA20180109_1_Cell_A_done.am_Segmented_corrected_shifted_and_merged_DONE':\n",
    "        #pia = Surface(output_alignment_final+'Clipped_Surfaces/'+os.path.basename(file)[:-3]+'_pia.vtk')\n",
    "        #wm = Surface(output_alignment_final+'Clipped_Surfaces/'+os.path.basename(file)[:-3]+'_WM.vtk')\n",
    "        sg = AmiraSpatialGraph(output_alignment_final+'Aligned_To_MaxY/1_Surfaces/'+os.path.basename(file)[:-3]+'_barrels.am')\n",
    "        vm1_axis_field = AmiraSpatialGraph(output_alignment_final+'/Clipped_Surfaces/'+os.path.basename(file)[:-3]+\\\n",
    "                                           '_vM1_Axis_Field.am',generic_graph=True).graph_data.edge_list\n",
    "        soma_center = np.array(sg.neuron.soma.edge_pt_coords).mean(axis=0)\n",
    "        # clean up the axis field to only take the ones pointing upwards\n",
    "        clean_field_sg = clean_axis_field(vm1_axis_field)\n",
    "\n",
    "        print(os.path.basename(file)[:-3])\n",
    "        \n",
    "        # Get local axis field\n",
    "#         nearby_axes = Vectors().get_nearest_axes_to_pts_within_radius(clean_field_sg.graph_data.edge_list,[soma_center],1000,\\\n",
    "#                                                                       axis_validation_xy_distance=10000)\n",
    "#         nearby_axes_in_avg = Vectors().get_nearest_axes_to_pts_within_radius(avg_vm1_axis_field_sg.graph_data.edge_list,\\\n",
    "#                                                                              [soma_center],10000,\\\n",
    "#                                                                              axis_validation_xy_distance=10000,\\\n",
    "#                                                                             final_validation_distance=10000)\n",
    "        \n",
    "        print(len(nearby_axes_in_avg),len(nearby_axes))\n",
    "        # pick up the equal number of axes\n",
    "    #     if len(nearby_axes) > len(nearby_axes_in_avg):\n",
    "    #         nearby_axes = get_number_of_axes_from_field(nearby_axes,len(nearby_axes_in_avg))\n",
    "    #     elif len(nearby_axes) < len(nearby_axes_in_avg):\n",
    "    #         nearby_axes_in_avg = get_number_of_axes_from_field(nearby_axes_in_avg,len(nearby_axes))\n",
    "\n",
    "        nearby_axes_sg = get_sg_from_edge_list(nearby_axes)\n",
    "        nearby_axes_in_avg_sg = get_sg_from_edge_list(nearby_axes_in_avg)\n",
    "\n",
    "        ref_pia_wm = Surface(pts=nearby_axes_in_avg_sg.graph_data.edge_pt_coords)\n",
    "        pia_wm = Surface(pts=nearby_axes_sg.graph_data.edge_pt_coords)\n",
    "\n",
    "        aligner1 = Alignment(ref_pia_wm.surface,pia_wm.surface,nr_iterations=10000)\n",
    "        txmat = aligner1.get_transformation_matrix()\n",
    "        #print(txmat)\n",
    "        icp = aligner1.get_icp_transform()\n",
    "\n",
    "        aligner2 = Alignment() \n",
    "        aligner2.transform_folders(input_path,output_path,os.path.basename(file)[:-3],txmat=txmat,icp=icp)\n",
    "        \n",
    "    "
   ]
  },
  {
   "cell_type": "code",
   "execution_count": null,
   "metadata": {
    "ExecuteTime": {
     "end_time": "2020-08-25T01:19:52.440743Z",
     "start_time": "2020-08-25T01:19:52.432357Z"
    },
    "scrolled": true
   },
   "outputs": [],
   "source": [
    "angles = []\n",
    "\n",
    "for edge in avg_vm1_axis_field_sg.graph_data.edge_list:\n",
    "    angles.append(abs(Vectors().get_angle_between_vectors([[0,0,0],[0,0,1]],edge,ignore_opposite_direction=True)))\n",
    "    "
   ]
  },
  {
   "cell_type": "code",
   "execution_count": null,
   "metadata": {
    "ExecuteTime": {
     "end_time": "2020-08-25T01:20:26.116451Z",
     "start_time": "2020-08-25T01:20:26.109320Z"
    }
   },
   "outputs": [],
   "source": [
    "np.array(angles).max(),"
   ]
  },
  {
   "cell_type": "markdown",
   "metadata": {},
   "source": [
    "## Evaluate alignment"
   ]
  },
  {
   "cell_type": "code",
   "execution_count": null,
   "metadata": {
    "ExecuteTime": {
     "end_time": "2020-08-25T22:47:57.312230Z",
     "start_time": "2020-08-25T22:47:57.289311Z"
    },
    "collapsed": true
   },
   "outputs": [],
   "source": [
    "def get_local_avg_axis(avg_vm1_axis_field,soma_center,pia,wm,exp_name,output_path):\n",
    "    soma_wm_axis = []\n",
    "    nearby_axes = Vectors().get_nearest_axes_to_pts_within_radius(avg_vm1_axis_field.graph_data.edge_list,[soma_center],800)\n",
    "    nearby_axes_sg = AmiraSpatialGraph(generic_graph=True)\n",
    "    unit_vecs = []\n",
    "    for axis in nearby_axes:\n",
    "        nearby_axes_sg.graph_data.add_edge(axis[0],axis[1])\n",
    "        unit_vecs.append(Vectors().get_unit_vec(axis[0],axis[1]))\n",
    "    #nearby_axes_sg.write_spatial_graph(output_neuron_axis+os.path.basename(file)[:-3]+'_axis_field_selected.am')\n",
    "    avg_uv = np.array(unit_vecs).mean(axis=0)\n",
    "    end_pt = (avg_uv*6000 + soma_center)\n",
    "    pia_proj_pt_neuron_using_local_avg_axis,soma_depth_using_local_avg = pia.get_vector_intersection_pt(end_pt,soma_center,extrapolation_len=0)\n",
    "    write_edge([soma_center,pia_proj_pt_neuron_using_local_avg_axis],\\\n",
    "               output_path+exp_name+'_soma_pia_axis.am')\n",
    "    \n",
    "    wm_proj_pt_neuron_using_local_avg_axis,soma_depth_using_local_avg = wm.get_vector_intersection_pt(end_pt,soma_center,extrapolation_len=0)\n",
    "    if len(wm_proj_pt_neuron_using_local_avg_axis)>0:\n",
    "        soma_wm_axis = [soma_center,wm_proj_pt_neuron_using_local_avg_axis]\n",
    "        write_edge([soma_center,wm_proj_pt_neuron_using_local_avg_axis],\\\n",
    "               output_path+exp_name+'_soma_wm_axis.am')\n",
    "    \n",
    "    \n",
    "    return [soma_center,pia_proj_pt_neuron_using_local_avg_axis],soma_wm_axis"
   ]
  },
  {
   "cell_type": "code",
   "execution_count": null,
   "metadata": {
    "ExecuteTime": {
     "end_time": "2020-08-25T22:47:57.496222Z",
     "start_time": "2020-08-25T22:47:57.464962Z"
    },
    "collapsed": true
   },
   "outputs": [],
   "source": [
    "def get_dend_pca_axis(sg,soma_center,pia,wm,exp_name,output_path,original_neuron_axis):\n",
    "    soma_wm_axis = []\n",
    "    pca_components = get_pca_direction(sg.neuron.dendrite.apical_dendrite.edge_pt_coords)\n",
    "    #Landmarks(pts=resampled_pts).write_landmarks(output_root+'pts')\n",
    "    end_pt = Vectors().create_pt_along_vector_at_given_distance(6000,[0,0,0],pca_components[0,:])\n",
    "    #Landmarks(pts=[end_pt+soma_center]).write_landmarks(output_root+'end_pt')\n",
    "    #print(end_pt)\n",
    "    angle = Vectors().get_angle_between_vectors([soma_center,original_neuron_axis[1]],\\\n",
    "                     [soma_center,end_pt+soma_center],ignore_opposite_direction=False)\n",
    "    #print(angle)\n",
    "    pia_proj_pt_neuron = []\n",
    "    if angle < 90:\n",
    "        # pca direction is correct.. project to pia\n",
    "        end_pt = Vectors().create_pt_along_vector_at_given_distance(6000,[0,0,0],pca_components[0,:])\n",
    "        print(end_pt)\n",
    "        Landmarks(pts=[end_pt+soma_center]).write_landmarks(output_root+'end_pt')\n",
    "        pia_proj_pt_neuron,soma_depth  = pia.get_vector_intersection_pt(end_pt+soma_center,soma_center,extrapolation_len=0)\n",
    "        write_edge([soma_center,pia_proj_pt_neuron],output_path+exp_name+'_soma_pia_axis.am')\n",
    "    else:\n",
    "        # the pca is inverted, so straighten it\n",
    "        #print('opposite')\n",
    "        end_pt = Vectors().create_pt_along_vector_at_given_distance(-6000,[0,0,0],pca_components[0,:])\n",
    "        pia_proj_pt_neuron,soma_depth = pia.get_vector_intersection_pt(end_pt+soma_center,soma_center,extrapolation_len=0)\n",
    "        write_edge([soma_center,pia_proj_pt_neuron],output_path+exp_name+'_soma_pia_axis.am')\n",
    "\n",
    "    wm_proj_pt_neuron = get_wm_intersection_pt(wm,soma_center,pia_proj_pt_neuron)\n",
    "    if len (wm_proj_pt_neuron) > 0:\n",
    "        write_edge([soma_center,wm_proj_pt_neuron],output_path+exp_name+'_soma_wm_axis.am')\n",
    "    \n",
    "    \n",
    "    return [soma_center,pia_proj_pt_neuron_using_local_avg_axis],soma_wm_axis"
   ]
  },
  {
   "cell_type": "code",
   "execution_count": null,
   "metadata": {
    "ExecuteTime": {
     "end_time": "2020-08-26T10:55:52.168225Z",
     "start_time": "2020-08-26T10:55:52.071634Z"
    },
    "collapsed": true,
    "scrolled": true
   },
   "outputs": [],
   "source": [
    "# find the avg axis along the registered neuron\n",
    "def get_registered_neuron_stats(input_path,ref_pia,ref_wm):\n",
    "    cols = ['Exp_Name','Neuron_Depth_Original','Neuron_Depth_Registered',\\\n",
    "        'Neuron_Height_Original','Neuron_Height_Registered',\\\n",
    "        'Neuron_Cortical_Thickness_Original','Neuron_Cortical_Thickness_Registered',\\\n",
    "        'Neuron_Height_Original','Neuron_Height_Registered',\\\n",
    "        'Neuron_Depth_Difference','Neuron_Height_Difference','Neuron_Cortical_Thickness_Difference',\\\n",
    "        'Neuron_Depth_Difference_Abs','Neuron_Height_Difference_Abs','Neuron_Cortical_Thickness_Difference_Abs']\n",
    "    df_main = pd.DataFrame(columns=cols)\n",
    "    \n",
    "    reg_axis_path = input_path+'/Reg_Neuron_Axis/'\n",
    "    pathlib.Path((reg_axis_path)).mkdir(exist_ok=True)\n",
    "    for file in sorted(glob.glob(input_path_spatial_graphs+'*.am')):\n",
    "        exp_name = os.path.basename(file)[:-3]\n",
    "        #if exp_name == 'RA20180412_2_Cell_A.am_Segmented_corrected_DONE':\n",
    "        print(exp_name)\n",
    "        sg = AmiraSpatialGraph(input_path+'/1_Surfaces/'+exp_name+'_barrels.am')\n",
    "\n",
    "        neuron_axis_path = input_path+'/2_Local_Neuron_Axis/'\n",
    "        soma_center = Landmarks(neuron_axis_path+exp_name+'_Soma_Centroid.landmarksAscii').pts[0]\n",
    "        soma_pia_axis = AmiraSpatialGraph(neuron_axis_path + exp_name + '_soma_pia_axis.am' , generic_graph=True)\\\n",
    "                        .graph_data.edge_list[0]\n",
    "        pia_intersec_pt_reg,b = ref_pia.get_vector_intersection_pt(soma_center,soma_pia_axis[1],extrapolation_len=10000)\n",
    "        print(pia_intersec_pt_reg)\n",
    "        if len(pia_intersec_pt_reg)>0:\n",
    "            soma_pia_axis_reg = [soma_center,pia_intersec_pt_reg]\n",
    "            write_edge(soma_pia_axis_reg,reg_axis_path+exp_name+'_soma_pia_axis_reg.am')\n",
    "        else:\n",
    "            soma_pia_axis_reg = []\n",
    "            print('pia intersection not found error')\n",
    "\n",
    "        if os.path.exists(neuron_axis_path+exp_name+'_soma_wm_axis.am') :\n",
    "            soma_wm_axis = AmiraSpatialGraph(neuron_axis_path + exp_name + '_soma_wm_axis.am' , generic_graph=True)\\\n",
    "                                .graph_data.edge_list[0]\n",
    "            wm_intersec_pt_reg,b = ref_wm.get_vector_intersection_pt(soma_center,soma_wm_axis[1],extrapolation_len=10000)\n",
    "            print(wm_intersec_pt_reg)\n",
    "            if len(wm_intersec_pt_reg)>0:\n",
    "                soma_wm_axis_reg = [soma_center,wm_intersec_pt_reg]\n",
    "                write_edge(soma_wm_axis_reg,reg_axis_path+exp_name+'_soma_wm_axis_reg.am')\n",
    "            else:\n",
    "    #             wm_intersec_pt_reg,b = ref_wm.get_vector_intersection_pt(soma_center,soma_wm_axis[1],extrapolation_len=-10000)\n",
    "    #             soma_wm_axis_reg = [soma_center,wm_intersec_pt_reg]\n",
    "    #         if len(wm_intersec_pt_reg)==0:\n",
    "                soma_wm_axis_reg = []\n",
    "                print('wm intersection not found error')            \n",
    "        else:\n",
    "            # No wm projection found in the original\n",
    "            soma_wm_axis = []\n",
    "            soma_wm_axis_reg = []\n",
    "\n",
    "\n",
    "        # get the difference between original and other depth\n",
    "        df = pd.DataFrame(columns=cols)\n",
    "        df['Exp_Name'] = [exp_name]\n",
    "        if len(soma_pia_axis)>0:\n",
    "            df['Neuron_Depth_Original'] = [Vectors().get_vec_length(soma_pia_axis)]\n",
    "        if len(soma_pia_axis_reg)>0:\n",
    "            df['Neuron_Depth_Registered'] = [Vectors().get_vec_length(soma_pia_axis_reg)]\n",
    "        if len(soma_wm_axis)>0:\n",
    "            df['Neuron_Height_Original'] = [Vectors().get_vec_length(soma_wm_axis)]\n",
    "            df['Neuron_Cortical_Thickness_Original'] = df['Neuron_Depth_Original'].values+df['Neuron_Height_Original'].values\n",
    "        if len(soma_wm_axis_reg) > 0:\n",
    "            df['Neuron_Height_Registered'] = [Vectors().get_vec_length(soma_wm_axis_reg)]\n",
    "            df['Neuron_Cortical_Thickness_Registered'] = df['Neuron_Depth_Registered'].values+df['Neuron_Height_Registered'].values\n",
    "        df['Neuron_Depth_Difference'] = df['Neuron_Depth_Original'].values-df['Neuron_Depth_Registered'].values\n",
    "        df['Neuron_Height_Difference'] = df['Neuron_Height_Original'].values-df['Neuron_Height_Registered'].values\n",
    "        df['Neuron_Cortical_Thickness_Difference'] = df['Neuron_Cortical_Thickness_Original'].values-df['Neuron_Cortical_Thickness_Registered'].values\n",
    "        df['Neuron_Depth_Difference_Abs'] = abs(df['Neuron_Depth_Difference'])\n",
    "        df['Neuron_Height_Difference_Abs'] = abs(df['Neuron_Height_Difference'])\n",
    "        df['Neuron_Cortical_Thickness_Difference_Abs'] = abs(df['Neuron_Cortical_Thickness_Difference'])\n",
    "\n",
    "        df_main = df_main.append(df)\n",
    "\n",
    "        \n",
    "    df_main.to_csv(input_path+'Depth_Difference.csv')\n",
    "    \n",
    "    return df_main"
   ]
  },
  {
   "cell_type": "code",
   "execution_count": null,
   "metadata": {
    "ExecuteTime": {
     "end_time": "2020-08-26T16:29:34.052758Z",
     "start_time": "2020-08-26T16:26:26.627261Z"
    },
    "scrolled": true
   },
   "outputs": [],
   "source": [
    "#avg_vm1_axis_field = AmiraSpatialGraph(output_alignment_final+'Clipped_Surfaces/Avg_vM1_Axis_Field.am',generic_graph=True)\n",
    "ref_pia = Surface(input_path_avg_rf+'Avg_Pia_50.vtk')\n",
    "ref_wm = Surface(input_path_avg_rf+'Avg_WM_50.vtk')\n",
    "\n",
    "df_reg_clipped_surf_refined_local_avg = get_registered_neuron_stats(output_alignment_final+'Aligned_To_Clipped_Avg_Surface_Refined_By_Local_Avg_Axis/',\\\n",
    "                                     ref_pia,ref_wm)\n",
    "# df_reg_hull = get_registered_neuron_stats(output_alignment_final+'Aligned_To_Clipped_Avg_Surface_Hull/',\\\n",
    "#                                      ref_pia,ref_wm)\n",
    "# df_reg_full_surf = get_registered_neuron_stats(output_root+'3_Aligned_By_Surfaces/',\\\n",
    "#                                      ref_pia,ref_wm)\n",
    "#df_reg_refined.to_csv(output_path+'Reg_Refined_Stats.csv')"
   ]
  },
  {
   "cell_type": "code",
   "execution_count": null,
   "metadata": {
    "ExecuteTime": {
     "end_time": "2020-08-26T16:30:40.844195Z",
     "start_time": "2020-08-26T16:30:40.830541Z"
    }
   },
   "outputs": [],
   "source": [
    "#df_reg_hull[(df_reg_refined['Neuron_Depth_Difference_Abs']>300)]\n",
    "#df_reg_hull.dropna()\n",
    "#df_reg_clipped_surf.dropna()\n",
    "#df_reg_hull.sort_values(by='Neuron_Depth_Difference_Abs')\n",
    "#(df_reg_hull[(df_reg_hull['Neuron_Depth_Difference_Abs']>200)])\n",
    "#(df_reg_refined[(df_reg_refined['Neuron_Depth_Difference_Abs']>300)])\n",
    "#(df_reg_clipped_surf_refined[(df_reg_clipped_surf_refined['Neuron_Depth_Difference_Abs']>400)])\n",
    "#df_reg_clipped_surf_refined['Neuron_Height_Difference_Abs'].mean()\n",
    "#df_reg_refined['Neuron_Depth_Difference_Abs'].mean(),df_reg_refined['Neuron_Depth_Difference_Abs'].std()\n",
    "#df_reg_hull['Neuron_Depth_Difference_Abs'].mean(),df_reg_hull['Neuron_Depth_Difference_Abs'].std()\n",
    "#df_reg_full_surf['Neuron_Depth_Difference_Abs'].mean(),df_reg_full_surf['Neuron_Depth_Difference_Abs'].std()\n",
    "df_reg_clipped_surf_refined_local_avg['Neuron_Cortical_Thickness_Difference_Abs'].mean(),df_reg_clipped_surf_refined_local_avg['Neuron_Cortical_Thickness_Difference_Abs'].std()"
   ]
  },
  {
   "cell_type": "code",
   "execution_count": null,
   "metadata": {
    "ExecuteTime": {
     "end_time": "2020-08-26T15:15:32.620202Z",
     "start_time": "2020-08-26T15:15:32.603642Z"
    }
   },
   "outputs": [],
   "source": [
    "#df_reg_clipped_surf_refined[df_reg_clipped_surf_refined['Neuron_Cortical_Thickness_Difference_Abs'] > 500]\n",
    "dfref_surf = pd.read_csv(output_alignment_final+'Aligned_To_Clipped_Avg_Surface/Depth_Difference.csv')\n",
    "dfref_surf['Neuron_Cortical_Thickness_Original'].mean(),dfref_surf['Neuron_Cortical_Thickness_Original'].std(),\\\n",
    "dfref_surf['Neuron_Cortical_Thickness_Registered'].mean(),dfref_surf['Neuron_Cortical_Thickness_Registered'].std()"
   ]
  },
  {
   "cell_type": "code",
   "execution_count": null,
   "metadata": {
    "collapsed": true
   },
   "outputs": [],
   "source": []
  },
  {
   "cell_type": "markdown",
   "metadata": {},
   "source": [
    "# Write Registered Neurons"
   ]
  },
  {
   "cell_type": "code",
   "execution_count": null,
   "metadata": {
    "ExecuteTime": {
     "end_time": "2020-08-25T22:22:05.708378Z",
     "start_time": "2020-08-25T22:20:23.453211Z"
    }
   },
   "outputs": [],
   "source": [
    "## Combine Neurons for visualization\n",
    "apical = AmiraSpatialGraph()\n",
    "basal = AmiraSpatialGraph()\n",
    "dend = AmiraSpatialGraph()\n",
    "#axon = AmiraSpatialGraph()\n",
    "neuron = AmiraSpatialGraph()\n",
    "for file in sorted(glob.glob(input_path_spatial_graphs+'*.am')):\n",
    "    sg = AmiraSpatialGraph(output_alignment_final+'Aligned_To_Clipped_Avg_Surface/1_Surfaces/'+os.path.basename(file)[:-3]+'_barrels.am')\n",
    "    neuron.graph_data = neuron.combine_subgraphs([neuron.graph_data,sg.neuron.all_neurites_subgraphdata])\n",
    "    if len(sg.neuron.dendrite.apical_dendrite.edge_pt_coords)>0:\n",
    "        apical.graph_data = apical.combine_subgraphs([apical.graph_data,sg.neuron.dendrite.apical_dendrite])\n",
    "    if len(sg.neuron.dendrite.basal_dendrite.edge_pt_coords)>0:\n",
    "        basal.graph_data = basal.combine_subgraphs([basal.graph_data,sg.neuron.dendrite.basal_dendrite])\n",
    "    \n",
    "neuron.write_spatial_graph(output_root+'All_Neurons_Registered_To_vM1_Using_Clipped_Surface.am')\n",
    "apical.write_spatial_graph(output_root+'All_Apical_Dendrites_Registered_To_vM1_Using_Clipped_Surface.am')\n",
    "basal.write_spatial_graph(output_root+'All_Basal_Dendrites_Registered_To_vM1_Using_Clipped_Surface.am')"
   ]
  },
  {
   "cell_type": "code",
   "execution_count": null,
   "metadata": {
    "ExecuteTime": {
     "end_time": "2020-08-24T13:09:28.492381Z",
     "start_time": "2020-08-24T13:09:16.687740Z"
    },
    "collapsed": true
   },
   "outputs": [],
   "source": [
    "apical.write_spatial_graph(output_root+'All_Apical_Dendrites_Registered_To_vM1.am')\n",
    "basal.write_spatial_graph(output_root+'All_Basal_Dendrites_Registered_To_vM1.am')"
   ]
  },
  {
   "cell_type": "code",
   "execution_count": null,
   "metadata": {
    "ExecuteTime": {
     "end_time": "2020-08-24T13:42:51.452400Z",
     "start_time": "2020-08-24T13:41:10.971628Z"
    },
    "collapsed": true
   },
   "outputs": [],
   "source": [
    "apical = AmiraSpatialGraph()\n",
    "basal = AmiraSpatialGraph()\n",
    "dend = AmiraSpatialGraph()\n",
    "#axon = AmiraSpatialGraph()\n",
    "neuron = AmiraSpatialGraph()\n",
    "for file in sorted(glob.glob(input_path_spatial_graphs+'*.am')):\n",
    "    sg = AmiraSpatialGraph(output_root+'3_Aligned_By_Surfaces/1_Surfaces/'+os.path.basename(file)[:-3]+'_barrels.am')\n",
    "    neuron.graph_data = neuron.combine_subgraphs([neuron.graph_data,sg.neuron.all_neurites_subgraphdata])\n",
    "    if len(sg.neuron.dendrite.apical_dendrite.edge_pt_coords)>0:\n",
    "        apical.graph_data = apical.combine_subgraphs([apical.graph_data,sg.neuron.dendrite.apical_dendrite])\n",
    "    if len(sg.neuron.dendrite.basal_dendrite.edge_pt_coords)>0:\n",
    "        basal.graph_data = basal.combine_subgraphs([basal.graph_data,sg.neuron.dendrite.basal_dendrite])\n",
    "    \n",
    "neuron.write_spatial_graph(output_root+'All_Neurons_Registered_To_vM1_Using_Surfaces.am')\n",
    "apical.write_spatial_graph(output_root+'All_Apical_Dendrites_Registered_To_vM1_Using_Surfaces.am')\n",
    "basal.write_spatial_graph(output_root+'All_Basal_Dendrites_Registered_To_vM1_Using_Surfaces.am')"
   ]
  },
  {
   "cell_type": "code",
   "execution_count": null,
   "metadata": {
    "ExecuteTime": {
     "end_time": "2020-08-24T14:22:44.224275Z",
     "start_time": "2020-08-24T14:22:23.105859Z"
    }
   },
   "outputs": [],
   "source": [
    "apical = AmiraSpatialGraph()\n",
    "basal = AmiraSpatialGraph()\n",
    "dend = AmiraSpatialGraph()\n",
    "#axon = AmiraSpatialGraph()\n",
    "neuron = AmiraSpatialGraph()\n",
    "for file in sorted(glob.glob(input_path_spatial_graphs+'*.am')):\n",
    "    sg = AmiraSpatialGraph(output_root+'3_Aligned_By_Barrels/1_Surfaces/'+os.path.basename(file)[:-3]+'_barrels.am')\n",
    "    neuron.graph_data = neuron.combine_subgraphs([neuron.graph_data,sg.neuron.all_neurites_subgraphdata])\n",
    "    if len(sg.neuron.dendrite.apical_dendrite.edge_pt_coords)>0:\n",
    "        apical.graph_data = apical.combine_subgraphs([apical.graph_data,sg.neuron.dendrite.apical_dendrite])\n",
    "    if len(sg.neuron.dendrite.basal_dendrite.edge_pt_coords)>0:\n",
    "        basal.graph_data = basal.combine_subgraphs([basal.graph_data,sg.neuron.dendrite.basal_dendrite])\n",
    "    \n",
    "neuron.write_spatial_graph(output_root+'All_Neurons_Registered_To_vM1_Using_Barrels.am')\n",
    "apical.write_spatial_graph(output_root+'All_Apical_Dendrites_Registered_To_vM1_Using_Barrels.am')\n",
    "basal.write_spatial_graph(output_root+'All_Basal_Dendrites_Registered_To_vM1_Using_Barrels.am')"
   ]
  },
  {
   "cell_type": "code",
   "execution_count": null,
   "metadata": {
    "collapsed": true
   },
   "outputs": [],
   "source": []
  },
  {
   "cell_type": "code",
   "execution_count": null,
   "metadata": {
    "collapsed": true
   },
   "outputs": [],
   "source": []
  },
  {
   "cell_type": "code",
   "execution_count": null,
   "metadata": {
    "collapsed": true
   },
   "outputs": [],
   "source": []
  },
  {
   "cell_type": "code",
   "execution_count": null,
   "metadata": {
    "collapsed": true
   },
   "outputs": [],
   "source": []
  },
  {
   "cell_type": "code",
   "execution_count": null,
   "metadata": {
    "ExecuteTime": {
     "end_time": "2020-03-25T10:41:35.017137Z",
     "start_time": "2020-03-25T10:41:34.690338Z"
    },
    "collapsed": true
   },
   "outputs": [],
   "source": [
    "ref_path = '/nas1/Data_Mythreya/MotorCortexProject/V8/vM1_Ref_Frame/Outputs_200/Average/Using_vS1_vM1_Surface_Points/'\n",
    "ref_barrels_sg_file = '/nas1/Data_Mythreya/MotorCortexProject/V8/vM1_Ref_Frame/Outputs_200/Alignment/Using_vS1_vM1_Surface_Points/Spatial_Graphs/MG49_lhs_sbf.am'   \n",
    "ref_barrels_sg = AmiraSpatialGraph(ref_barrels_sg_file,barrel_projections_present=True)\n",
    "ref_pia = Surface(ref_path + 'Avg_Pia.vtk')\n",
    "ref_wm = Surface(ref_path + 'Avg_WM.vtk')\n",
    "ref_axis_field = AmiraSpatialGraph(ref_path + 'Avg_vM1_Axis_Field.am',generic_graph=True)\n",
    "\n",
    "ref_surf = ref_pia\n",
    "ref_surf.append(ref_wm.surface)"
   ]
  },
  {
   "cell_type": "code",
   "execution_count": null,
   "metadata": {
    "ExecuteTime": {
     "end_time": "2020-03-25T11:05:53.185218Z",
     "start_time": "2020-03-25T10:55:17.271539Z"
    },
    "collapsed": true
   },
   "outputs": [],
   "source": [
    "# surface alignment \n",
    "for i in range(len(sorted(glob.glob(output_valid+'/*.am')))):\n",
    "    file = sorted(glob.glob(output_valid+'/*.am'))[i]\n",
    "    sg = AmiraSpatialGraph(file,barrel_projections_present=True)\n",
    "    pia =  Surface(output_surfaces+os.path.basename(file)[0:-3]+'_pia_bottom_open.vtk')\n",
    "    wm =  Surface(output_surfaces+os.path.basename(file)[0:-3]+'_WM_bottom_open.vtk') \n",
    "\n",
    "    surf = pia\n",
    "    surf.append(wm.surface)\n",
    "\n",
    "    aligner = Alignment(ref_surf.surface,surf.surface)\n",
    "    txmat = aligner.get_transformation_matrix()\n",
    "    icp = aligner.get_icp_transform()\n",
    "    \n",
    "    sg.apply_transformation(txmat)\n",
    "    sg.write_spatial_graph(output_alignment_using_surfaces+os.path.basename(file))\n",
    "    surf.apply_icp_transform(icp)\n",
    "    surf.write_surface_mesh(output_alignment_using_surfaces+os.path.basename(file)[0:-3]+'.vtk')\n",
    "    "
   ]
  },
  {
   "cell_type": "code",
   "execution_count": null,
   "metadata": {
    "ExecuteTime": {
     "end_time": "2020-03-25T11:37:03.433185Z",
     "start_time": "2020-03-25T11:36:27.586101Z"
    },
    "collapsed": true
   },
   "outputs": [],
   "source": [
    "all_neurons = AmiraSpatialGraph(generic_graph=True)\n",
    "for neuron_file in glob.glob(output_alignment_using_surfaces+'/*.am'):\n",
    "    sg_neuron = AmiraSpatialGraph(neuron_file)\n",
    "    all_neurons.graph_data = all_neurons.combine_subgraphs([all_neurons.graph_data,sg_neuron.neuron.all_neurites_subgraphdata])\n",
    "\n",
    "    \n",
    "all_neurons.write_spatial_graph(output_root+'All_Neurons_Registered_To_vM1.am')"
   ]
  },
  {
   "cell_type": "markdown",
   "metadata": {},
   "source": [
    "# with Scaling"
   ]
  },
  {
   "cell_type": "code",
   "execution_count": null,
   "metadata": {
    "ExecuteTime": {
     "end_time": "2020-03-25T11:49:49.257083Z",
     "start_time": "2020-03-25T11:49:49.250700Z"
    },
    "collapsed": true
   },
   "outputs": [],
   "source": [
    "df = pd.read_csv(output_root+'1.Neuron_Stats.csv')"
   ]
  },
  {
   "cell_type": "code",
   "execution_count": null,
   "metadata": {
    "ExecuteTime": {
     "end_time": "2020-03-25T11:50:46.801350Z",
     "start_time": "2020-03-25T11:50:46.792847Z"
    },
    "collapsed": true
   },
   "outputs": [],
   "source": [
    "df[df['WM_Present_Below_Neuron']==True]['Pia_Area'].mean()"
   ]
  },
  {
   "cell_type": "code",
   "execution_count": null,
   "metadata": {
    "ExecuteTime": {
     "end_time": "2020-03-25T11:50:57.768513Z",
     "start_time": "2020-03-25T11:50:57.758175Z"
    },
    "collapsed": true
   },
   "outputs": [],
   "source": [
    "ref_pia.get_surface_properties(prop='area')\n",
    "#ref_wm.get_surface_properties(prop='area')/ df['WM_Area'].mean()\n"
   ]
  },
  {
   "cell_type": "code",
   "execution_count": null,
   "metadata": {
    "ExecuteTime": {
     "end_time": "2020-03-25T11:18:58.345124Z",
     "start_time": "2020-03-25T11:18:58.338052Z"
    },
    "collapsed": true
   },
   "outputs": [],
   "source": [
    "df['Pia_Area'].mean()"
   ]
  },
  {
   "cell_type": "code",
   "execution_count": null,
   "metadata": {
    "collapsed": true
   },
   "outputs": [],
   "source": [
    "# surface alignment scaling\n",
    "# \n",
    "for i in range(len(sorted(glob.glob(output_valid+'/*.am')))):\n",
    "    file = sorted(glob.glob(output_valid+'/*.am'))[i]\n",
    "    sg = AmiraSpatialGraph(file,barrel_projections_present=True)\n",
    "    pia =  Surface(output_surfaces+os.path.basename(file)[0:-3]+'_pia_bottom_open.vtk')\n",
    "    wm =  Surface(output_surfaces+os.path.basename(file)[0:-3]+'_WM_bottom_open.vtk') \n",
    "\n",
    "    surf = pia\n",
    "    surf.append(wm.surface)\n",
    "\n",
    "    aligner = Alignment(ref_surf.surface,surf.surface,mode='similarity')\n",
    "    txmat = aligner.get_transformation_matrix()\n",
    "    icp = aligner.get_icp_transform()\n",
    "    \n",
    "    sg.apply_transformation(txmat)\n",
    "    sg.write_spatial_graph(output_alignment_using_surfaces_scaling+os.path.basename(file))\n",
    "    surf.apply_icp_transform(icp)\n",
    "    surf.write_surface_mesh(output_alignment_using_surfaces_scaling+os.path.basename(file)[0:-3]+'.vtk')"
   ]
  },
  {
   "cell_type": "code",
   "execution_count": null,
   "metadata": {
    "ExecuteTime": {
     "end_time": "2020-03-25T10:04:29.621399Z",
     "start_time": "2020-03-25T10:04:24.207821Z"
    },
    "collapsed": true
   },
   "outputs": [],
   "source": [
    "# read valid neuron graphs\n",
    "# align using barrels and axis around neuron\n",
    "for i in range(len(sorted(glob.glob(output_valid+'/*.am')))):\n",
    "    file = sorted(glob.glob(output_valid+'/*.am'))[i]\n",
    "    sg = AmiraSpatialGraph(file,barrel_projections_present=True)\n",
    "    pia =  Surface(output_surfaces+os.path.basename(file)[0:-3]+'_pia_bottom_open.vtk')\n",
    "    wm =  Surface(output_surfaces+os.path.basename(file)[0:-3]+'_WM_bottom_open.vtk') \n",
    "    axis_field = AmiraSpatialGraph(output_surfaces+os.path.basename(file)[0:-3]+'_axis_field.am',generic_graph=True)\n",
    "    nearest_axis = AmiraSpatialGraph(output_surfaces+os.path.basename(file)[0:-3]+'_nearest_axis.am',generic_graph=True)\n",
    "    matching_barrels = MatchBarrels(ref_barrels_sg.barrels,sg.barrels,use_projections_alone=True)\n",
    "    ref_s1_pts,s1_pts = matching_barrels.get_matching_barrel_centroids()\n",
    "\n",
    "    selected_ref_axes = get_number_of_axes_from_field(ref_axis_field.graph_data.edge_list,len(ref_s1_pts))\n",
    "    selected_axes = get_number_of_axes_from_field(axis_field.graph_data.edge_list,len(s1_pts))\n",
    "\n",
    "    ref_selected_sg = AmiraSpatialGraph(generic_graph=True)\n",
    "    selected_sg = AmiraSpatialGraph(generic_graph=True)\n",
    "\n",
    "    print(len(selected_ref_axes))\n",
    "    ref_pts = []\n",
    "    pts = []\n",
    "    for pt in ref_s1_pts:\n",
    "        ref_pts.append(pt)\n",
    "    for axis in selected_ref_axes:\n",
    "        ref_pts.append(axis[0])\n",
    "        ref_pts.append(axis[1])\n",
    "        ref_selected_sg.graph_data.add_edge(axis[0],axis[1])\n",
    "    for pt in s1_pts:\n",
    "        pts.append(pt)\n",
    "    for axis in selected_axes:\n",
    "        pts.append(axis[0])\n",
    "        pts.append(axis[1])\n",
    "        selected_sg.graph_data.add_edge(axis[0],axis[1])\n",
    "    print(len(ref_pts),len(pts))\n",
    "    ref_selected_sg.write_spatial_graph(output_path_alignment+alignment_type+'/'+ref_exp+'ref_axes.am')\n",
    "    selected_sg.write_spatial_graph(output_path_alignment+alignment_type+'/'+exp+'axes.am')\n",
    "\n",
    "    landmarks = Landmarks(pts=pts)\n",
    "    icp,txmat = landmarks.align_landmarks(ref_pts)\n",
    "    \n",
    "    sg.apply_transformation(txmat)\n",
    "    sg.write_spatial_graph(output_root+os.path.basename(file))\n",
    "    break"
   ]
  },
  {
   "cell_type": "code",
   "execution_count": null,
   "metadata": {
    "collapsed": true
   },
   "outputs": [],
   "source": []
  },
  {
   "cell_type": "code",
   "execution_count": null,
   "metadata": {
    "collapsed": true
   },
   "outputs": [],
   "source": []
  },
  {
   "cell_type": "code",
   "execution_count": null,
   "metadata": {
    "ExecuteTime": {
     "end_time": "2020-03-11T08:32:15.836158Z",
     "start_time": "2020-03-11T08:32:15.792754Z"
    },
    "collapsed": true
   },
   "outputs": [],
   "source": [
    "def vm1_local_alignment(sg,pia,ref_pia,number_of_pts=1,ref_pca = []):\n",
    "    # locally align vm1 surface with the reference vm1 surface\n",
    "    # by taking ref pts that intersect the respictive pia along an axis\n",
    "    # axis 1 : vector along the neuron (apical dendrite direction)\n",
    "    # axis 2 : pca 2 of ref vm1\n",
    "    ref_pts= []\n",
    "    pts = []\n",
    "    soma_center = np.array(sg.neuron.soma.edge_pt_coords).mean(axis=0)\n",
    "    if (len(sg.neuron.dendrite.apical_dendrite.edge_pt_coords)) > 0:                         \n",
    "        apical_dend_center = np.array(sg.neuron.dendrite.apical_dendrite.edge_pt_coords).mean(axis=0)\n",
    "    else: # in case there is only basal dend\n",
    "        apical_dend_center = np.array(sg.neuron.dendrite.basal_dendrite.edge_pt_coords).mean(axis=0)\n",
    "\n",
    "    pia_proj_pt_neuron,depth = pia.get_vector_intersection_pt(soma_center,apical_dend_center,extrapolation_len=10000)\n",
    "\n",
    "    ref_pia_proj_pt_neuron,ref_depth = ref_pia.get_vector_intersection_pt(soma_center,apical_dend_center,\\\n",
    "                                                                        extrapolation_len=10000)\n",
    "    #print(ref_pia_proj_pt_neuron,pia_proj_pt_neuron)\n",
    "    if len(ref_pia_proj_pt_neuron) == 0 or len(pia_proj_pt_neuron)==0:\n",
    "        return [],[]\n",
    "    ref_pts.append(ref_pia_proj_pt_neuron)\n",
    "    pts.append(pia_proj_pt_neuron)\n",
    "\n",
    "    if number_of_pts ==2:\n",
    "        pia_proj_pt_center,depth = pia.get_vector_intersection_pt(ref_pca.graph_data.edge_list[0][0],\\\n",
    "                                                           ref_pca.graph_data.edge_list[0][1],\\\n",
    "                                                           extrapolation_len=-10000)\n",
    "        ref_pia_proj_pt_center,ref_depth = ref_pia.get_vector_intersection_pt(ref_pca.graph_data.edge_list[0][0],\\\n",
    "                                                           ref_pca.graph_data.edge_list[0][1],\\\n",
    "                                                           extrapolation_len=-10000)\n",
    "\n",
    "        #print(ref_pia_proj_pt_center,pia_proj_pt_center)\n",
    "        if len(ref_pia_proj_pt_center) == 0 or len(pia_proj_pt_center)==0:\n",
    "            return [],[]\n",
    "        ref_pts.append(ref_pia_proj_pt_center)\n",
    "        pts.append(pia_proj_pt_center)\n",
    "\n",
    "    print(ref_pts,pts)\n",
    "    if len(ref_pts) != len(pts) or len(ref_pts)==0 or len(pts)==0:\n",
    "        return [],[]\n",
    "    landmarks = Landmarks(pts=pts)\n",
    "    icp,txmat = landmarks.align_landmarks(ref_pts)\n",
    "    \n",
    "    return icp,txmat"
   ]
  },
  {
   "cell_type": "code",
   "execution_count": null,
   "metadata": {
    "ExecuteTime": {
     "end_time": "2020-03-11T08:32:15.928066Z",
     "start_time": "2020-03-11T08:32:15.920556Z"
    },
    "collapsed": true
   },
   "outputs": [],
   "source": [
    "def get_soma_to_apical_center_distance(sg,):\n",
    "    soma_center = np.array(sg.neuron.soma.edge_pt_coords).mean(axis=0)\n",
    "    if (len(sg.neuron.dendrite.apical_dendrite.edge_pt_coords)) > 0:                         \n",
    "        apical_dend_center = np.array(sg.neuron.dendrite.apical_dendrite.edge_pt_coords).mean(axis=0)\n",
    "    else: # in case there is only basal dend\n",
    "        apical_dend_center = np.array(sg.neuron.dendrite.basal_dendrite.edge_pt_coords).mean(axis=0)\n",
    "    \n",
    "    return distance.euclidean(soma_center,apical_dend_center)"
   ]
  },
  {
   "cell_type": "code",
   "execution_count": null,
   "metadata": {
    "ExecuteTime": {
     "end_time": "2020-03-11T08:32:16.444093Z",
     "start_time": "2020-03-11T08:32:16.437863Z"
    },
    "collapsed": true
   },
   "outputs": [],
   "source": [
    "def get_soma_and_apical_centers(sg):\n",
    "    soma_center = np.array(sg.neuron.soma.edge_pt_coords).mean(axis=0)\n",
    "    if (len(sg.neuron.dendrite.apical_dendrite.edge_pt_coords)) > 0:                         \n",
    "        apical_dend_center = np.array(sg.neuron.dendrite.apical_dendrite.edge_pt_coords).mean(axis=0)\n",
    "    else: # in case there is only basal dend\n",
    "        apical_dend_center = np.array(sg.neuron.dendrite.basal_dendrite.edge_pt_coords).mean(axis=0)\n",
    "    return soma_center[0:3],apical_dend_center[0:3]"
   ]
  },
  {
   "cell_type": "code",
   "execution_count": null,
   "metadata": {
    "ExecuteTime": {
     "end_time": "2020-03-11T08:32:17.836095Z",
     "start_time": "2020-03-11T08:32:17.806092Z"
    },
    "collapsed": true
   },
   "outputs": [],
   "source": [
    "def get_ref_and_neuron_axes(sg,pia,wm,ref_pia,ref_wm,ref_pca = []):\n",
    "    # locally align vm1 surface with the reference vm1 surface\n",
    "    # by taking ref pts that intersect the respictive pia along an axis\n",
    "    # axis 1 : vector along the neuron (apical dendrite direction)\n",
    "    # axis 2 : pca 2 of ref vm1\n",
    "    ref_pts= []\n",
    "    pts = []\n",
    "    soma_center = np.array(sg.neuron.soma.edge_pt_coords).mean(axis=0)\n",
    "    if (len(sg.neuron.dendrite.apical_dendrite.edge_pt_coords)) > 0:                         \n",
    "        apical_dend_center = np.array(sg.neuron.dendrite.apical_dendrite.edge_pt_coords).mean(axis=0)\n",
    "    else: # in case there is only basal dend\n",
    "        apical_dend_center = np.array(sg.neuron.dendrite.basal_dendrite.edge_pt_coords).mean(axis=0)\n",
    "\n",
    "    pia_proj_pt,depth = ref_pia.get_vector_intersection_pt(soma_center,apical_dend_center,extrapolation_len=10000)\n",
    "\n",
    "    ref_pia_proj_pt,ref_depth = ref_pia.get_vector_intersection_pt(ref_pca.graph_data.edge_list[0][0],\\\n",
    "                                                       ref_pca.graph_data.edge_list[0][1],\\\n",
    "                                                       extrapolation_len=-10000)\n",
    "    #print(ref_pia_proj_pt_neuron,pia_proj_pt_neuron)\n",
    "    ref_pts.append(ref_pia_proj_pt)\n",
    "    pts.append(pia_proj_pt)\n",
    "\n",
    "    \n",
    "    wm_proj_pt,depth = ref_wm.get_vector_intersection_pt(soma_center,apical_dend_center,extrapolation_len=-10000)\n",
    "    wm_ref_proj_pt,ref_depth = ref_wm.get_vector_intersection_pt(ref_pca.graph_data.edge_list[0][0],\\\n",
    "                                                       ref_pca.graph_data.edge_list[0][1],\\\n",
    "                                                       extrapolation_len=10000)\n",
    "\n",
    "    #print(ref_pia_proj_pt_center,pia_proj_pt_center)\n",
    "    ref_pts.append(wm_ref_proj_pt)\n",
    "    pts.append(wm_proj_pt)\n",
    "\n",
    "    #landmarks = Landmarks(pts=pts)\n",
    "    #icp,txmat = landmarks.align_landmarks(ref_pts)\n",
    "    \n",
    "    return ref_pts,pts"
   ]
  },
  {
   "cell_type": "code",
   "execution_count": null,
   "metadata": {
    "ExecuteTime": {
     "end_time": "2020-03-11T08:32:19.984071Z",
     "start_time": "2020-03-11T08:32:19.965993Z"
    },
    "collapsed": true
   },
   "outputs": [],
   "source": [
    "def push_back_sticking_out_neuron(pia,sg,output_filename=None,step_size=10):\n",
    "    if (pia.is_neuron_sticking_out(sg)):\n",
    "        soma_center = np.array(sg.neuron.soma.edge_pt_coords).mean(axis=0)\n",
    "        #print('found intersection')\n",
    "        if len(sg.neuron.dendrite.apical_dendrite.edge_pt_coords) > 0:\n",
    "            apical_center = np.array(sg.neuron.dendrite.apical_dendrite.edge_pt_coords).mean(axis=0)\n",
    "        else:\n",
    "            apical_center = np.array(sg.neuron.dendrite.basal_dendrite.edge_pt_coords).mean(axis=0)\n",
    "        new_soma_center = pia.create_pt_along_vector_at_given_distance(-step_size,soma_center,apical_center)\n",
    "        translation = soma_center - new_soma_center\n",
    "        txmat = [1,0,0,0, 0,1,0,0, 0,0,1,0, -translation[0],-translation[1],-translation[2],1]\n",
    "        sg.apply_transformation_to_labelled_subgraph(sg.neuron.all_neurites_subgraphdata,np.reshape(txmat,[4,4]))\n",
    "        sg.update_graph_data()\n",
    "    if output_filename is not None:\n",
    "        sg.write_spatial_graph(output_filename)\n",
    "    return sg"
   ]
  },
  {
   "cell_type": "code",
   "execution_count": null,
   "metadata": {
    "ExecuteTime": {
     "end_time": "2020-03-11T08:32:21.848691Z",
     "start_time": "2020-03-11T08:32:21.542791Z"
    },
    "collapsed": true
   },
   "outputs": [],
   "source": [
    "# Get reference surface \n",
    "alignment_type = 'Using_vS1_vM1_Surface_Points'\n",
    "ref_pia = Surface(filename = input_path_avg_rf+alignment_type+'/Avg_Pia.vtk')\n",
    "ref_wm = Surface(filename = input_path_avg_rf+alignment_type+'/Avg_WM.vtk')\n",
    "ref_pia_wm = Surface(filename = input_path_avg_rf+alignment_type+'/Avg_Pia.vtk')\n",
    "#ref_pia_wm.append(ref_wm.surface)\n",
    "\n",
    "ref_vM1 = Surface(filename = input_path_avg_rf+alignment_type+'/Avg_vM1.vtk')\n",
    "ref_vM1_pia = Surface(filename = input_path_avg_rf+alignment_type+'/Avg_vM1_Pia.vtk')\n",
    "ref_vM1_wm = Surface(filename = input_path_avg_rf+alignment_type+'/Avg_vM1_WM.vtk')\n",
    "ref_vM1_pia_wm = Surface(filename = input_path_avg_rf+'/'+alignment_type+'/'+'Avg_vM1_Pia.vtk')\n",
    "ref_vM1_pia_wm.append(ref_vM1_wm.surface)\n",
    "\n",
    "ref_barrels_sg = AmiraSpatialGraph(input_path_avg_rf+alignment_type+'/sbf_without_projections.am',\\\n",
    "                                   barrel_projections_present=False)\n",
    "\n",
    "ref_pca_0 = AmiraSpatialGraph(input_path_avg_rf+alignment_type+'/Avg_vM1_Pca_0',generic_graph=True)\n",
    "ref_pca_1 = AmiraSpatialGraph(input_path_avg_rf+alignment_type+'/Avg_vM1_Pca_1',generic_graph=True)\n",
    "ref_pca_2 = AmiraSpatialGraph(input_path_avg_rf+alignment_type+'/Avg_vM1_Pca_2',generic_graph=True)"
   ]
  },
  {
   "cell_type": "code",
   "execution_count": null,
   "metadata": {
    "ExecuteTime": {
     "end_time": "2020-03-11T12:34:08.804242Z",
     "start_time": "2020-03-11T12:34:08.349498Z"
    },
    "collapsed": true
   },
   "outputs": [],
   "source": [
    "#@delayed\n",
    "def register_neurons(sg_filename,alignment_type,check_neuron_sticking_out=False):\n",
    "    \n",
    "\n",
    "    # make surface\n",
    "    pia = Surface(filename = output_surfaces+sg_filename+'_pia_bottom_open.vtk')\n",
    "    wm = Surface(filename = output_surfaces+sg_filename+'_WM_bottom_open.vtk')\n",
    "    pia_wm = Surface(polydata = pia.surface)\n",
    "    #pia_wm.append(wm.surface)\n",
    "    \n",
    "    sg = AmiraSpatialGraph(filename=output_corrected_spatial_graphs+sg_filename+'.am',\\\n",
    "                           barrel_projections_present=False)\n",
    "    \n",
    "    ################ Step 0###################################\n",
    "    # check if neuron is sticking put of pia, if so push it back\n",
    "    ##########################################################\n",
    "    if check_neuron_sticking_out:\n",
    "        sg = push_back_sticking_out_neuron(pia,sg,output_registered_sticking_out_check+sg_filename+'.am',step_size=50)\n",
    "    else:\n",
    "        shutil.copyfile(output_corrected_spatial_graphs+sg_filename+'.am',\\\n",
    "                    output_registered_sticking_out_check+sg_filename+'.am')\n",
    "    shutil.copyfile(output_surfaces+sg_filename+'_pia_bottom_open.vtk',\\\n",
    "                    output_registered_sticking_out_check+sg_filename+'_pia.vtk')\n",
    "    shutil.copyfile(output_surfaces+sg_filename+'_WM_bottom_open.vtk',\\\n",
    "                    output_registered_sticking_out_check+sg_filename+'_WM.vtk')\n",
    "    \n",
    "    \n",
    "    ################ Step 1###################################\n",
    "    # Align barrels\n",
    "    ##########################################################\n",
    "    matching_barrels = MatchBarrels(ref_barrels_sg.barrels,sg.barrels,use_barrels_alone=True)\n",
    "    ref_s1_pts,s1_pts = matching_barrels.get_matching_barrel_centroids()\n",
    "    landmarks = Landmarks(pts=s1_pts)\n",
    "    icp,txmat = landmarks.align_landmarks(ref_s1_pts)\n",
    "    aligner = Alignment()\n",
    "    #print(txmat)\n",
    "    sg,sg_neuron,pia,wm,vM1_pia,vM1_wm = Alignment().transform_files(output_registered_sticking_out_check,output_registered_barrels,\\\n",
    "                                                  sg_filename,\\\n",
    "                            icp=icp,txmat = txmat,\\\n",
    "                            txfilename = output_registered_barrels+sg_filename+'_1_Barrel_Transformation_Matrix.txt')\n",
    "    \n",
    "    ################ Step 2###################################\n",
    "    # Find global transformation using alignemnt method of choice\n",
    "    ##########################################################\n",
    "#     txmat = []\n",
    "#     icp = vtk.vtkIterativeClosestPointTransform()\n",
    "\n",
    "#     # align by entire pia wm surfaces\n",
    "#     pia_wm = pia\n",
    "#     pia.append(wm.surface)\n",
    "#     aligner = Alignment(ref_pia_wm.surface,pia_wm.surface)\n",
    "#     txmat = aligner.get_transformation_matrix()\n",
    "#     icp = aligner.get_icp_transform()\n",
    "\n",
    "#     sg,sg_neuron,pia,wm,vM1_pia,vM1_wm = Alignment().transform_files(output_registered_barrels,output_registered_global,sg_filename,\\\n",
    "#                             icp=icp,txmat = txmat,\\\n",
    "#                             txfilename = output_registered_global+sg_filename+'_2_Global_Transformation_Matrix.txt')\n",
    "\n",
    "     \n",
    "    ################ Step 2.5 ###################################\n",
    "    # Clip to vM1 \n",
    "    ##########################################################\n",
    "    pia = Surface(output_registered_barrels+sg_filename+'_pia.vtk')\n",
    "    wm = Surface(output_registered_barrels+sg_filename+'_WM.vtk')\n",
    "    sg = AmiraSpatialGraph(output_registered_barrels+sg_filename+'.am')\n",
    "    pcas,vm1_final,vM1_hull,vm1_pia,vm1_wm = Surface().get_vm1(pia.surface,wm.surface,\\\n",
    "                                            given_pcas=[ref_pca_0.graph_data.edge_list[0],\\\n",
    "                                                        ref_pca_1.graph_data.edge_list[0],\\\n",
    "                                                        ref_pca_2.graph_data.edge_list[0]],pts=[])\n",
    "\n",
    "\n",
    "    Surface(polydata=vm1_pia).write_surface_mesh(output_registered_clipped_vm1+sg_filename+'_vM1_pia.vtk')\n",
    "    Surface(polydata=vm1_wm).write_surface_mesh(output_registered_clipped_vm1+sg_filename+'_vM1_WM.vtk')\n",
    "    sg.write_spatial_graph(output_registered_clipped_vm1+sg_filename+'.am')\n",
    "    shutil.copyfile(output_registered_barrels+sg_filename+'_pia.vtk',output_registered_clipped_vm1+sg_filename+'_pia.vtk')\n",
    "    shutil.copyfile(output_registered_barrels+sg_filename+'_WM.vtk',output_registered_clipped_vm1+sg_filename+'_WM.vtk')\n",
    "     \n",
    "    ################ Step 3 ###################################\n",
    "    # Align to vM1\n",
    "    ##########################################################\n",
    "    vm1_pia = Surface(output_registered_clipped_vm1+sg_filename+'_vM1_pia.vtk')\n",
    "    vm1_wm = Surface(output_registered_clipped_vm1+sg_filename+'_vM1_WM.vtk')\n",
    "    vm1_pia_wm = vm1_pia\n",
    "    vm1_pia_wm.append(vm1_wm.surface)\n",
    "\n",
    "    aligner = Alignment(ref_vM1_pia_wm.surface,vm1_pia_wm.surface)\n",
    "    txmat = aligner.get_transformation_matrix()\n",
    "    icp = aligner.get_icp_transform()\n",
    "    \n",
    "    sg,sg_neuron,pia,wm,vM1_pia,vM1_wm = Alignment().transform_files(output_registered_clipped_vm1,output_registered_local,sg_filename,\\\n",
    "                            icp=icp,txmat = txmat,\\\n",
    "                            txfilename = output_registered_local+sg_filename+'_3_Global_Transformation_Matrix.txt')\n",
    "    \n",
    "    \n",
    "    ################ Step 4 ###################################\n",
    "    # fine tune to vM1 around neuron\n",
    "    ##########################################################\n",
    "    \n",
    "    icp,txmat = vm1_local_alignment(sg,pia,ref_pia,number_of_pts=2,ref_pca=ref_pca_2)\n",
    "    \n",
    "    if len(txmat)==0:\n",
    "        print('{} exp has problems'.format(sg_filename))\n",
    "        return\n",
    "    sg,sg_neuron,pia,wm,vM1_pia,vM1_wm = Alignment().transform_files(output_registered_local,output_registered_fine_tune_1,\\\n",
    "                                                                 sg_filename,icp=icp,txmat = txmat,\\\n",
    "                                                                 txfilename = output_registered_fine_tune_1\\\n",
    "                                                                 +sg_filename+'_3_1_Global_Transformation_Matrix.txt')\n",
    "\n",
    "    #print(sg.neuron.dendrite.apical_dendrite.edge_list)\n",
    "    icp,txmat = vm1_local_alignment(sg,pia,ref_pia,number_of_pts=1)\n",
    "    if len(txmat)==0:\n",
    "        print('{} exp has problems'.format(sg_filename))\n",
    "        return\n",
    "    sg,sg_neuron,pia,wm,vM1_pia,vM1_wm = Alignment().transform_files(output_registered_fine_tune_1,output_registered_fine_tune_2,\\\n",
    "                                                                 sg_filename,icp=icp,txmat = txmat,\\\n",
    "                                                                 txfilename = output_registered_fine_tune_2+\\\n",
    "                                                                 sg_filename+'_3_2_Global_Transformation_Matrix.txt')\n",
    "    \n",
    "     \n",
    "    ################ Step 5 ###################################\n",
    "    # Move to Center of vM1\n",
    "    ##########################################################\n",
    "    # Ref Axis: central axis of ref vm1\n",
    "    # axis : apical vector - till intersects pia and wm\n",
    "    ref_axis,neuron_axis = get_ref_and_neuron_axes(sg,pia,wm,ref_pia,ref_wm,ref_pca=ref_pca_2)\n",
    "    if len(ref_axis)==0 or len(neuron_axis)==0:\n",
    "        return\n",
    "    aligner = Alignment(Surface(pts=ref_axis).surface,Surface(pts=neuron_axis).surface,mode='similarity')\n",
    "    txmat = aligner.get_transformation_matrix()\n",
    "    icp = aligner.get_icp_transform()\n",
    "    sg_neuron.apply_transformation(txmat)\n",
    "    sg_neuron.write_spatial_graph(output_registered_centered+sg_filename+'_reg_neuron.am')\n",
    "    \n",
    "    # Now unscale the neuron\n",
    "    height = get_soma_to_apical_center_distance(sg)\n",
    "    #print(height)\n",
    "    soma_center,apical_center = get_soma_and_apical_centers(sg_neuron)\n",
    "    if len(soma_center)==0 or len(apical_center)==0:\n",
    "        return\n",
    "    apical_target = Vectors().create_pt_along_vector_at_given_distance(height,soma_center,apical_center)\n",
    "    #print(apical_target)\n",
    "    soma_center_unscaled,apical_center_unscaled = get_soma_and_apical_centers(sg)\n",
    "    if len(soma_center_unscaled)==0 or len(apical_center_unscaled)==0:\n",
    "        return\n",
    "    landmarks = Landmarks(pts=[soma_center_unscaled,apical_center_unscaled])\n",
    "    icp,txmat = landmarks.align_landmarks([soma_center,apical_target])\n",
    "    sg_neuron = AmiraSpatialGraph(output_registered_fine_tune_2+sg_filename+'_reg_neuron.am')\n",
    "    sg_neuron.apply_transformation(txmat)\n",
    "    sg_neuron.write_spatial_graph(output_registered_centered_unscaled+sg_filename+'_reg_neuron.am')\n",
    "    \n",
    "    ################ Step 6 ###################################\n",
    "    # Transform to Local vM1 ref frame\n",
    "    ##########################################################\n",
    "    \n",
    "    return  "
   ]
  },
  {
   "cell_type": "code",
   "execution_count": null,
   "metadata": {
    "ExecuteTime": {
     "end_time": "2020-03-11T12:37:02.224512Z",
     "start_time": "2020-03-11T12:34:08.808400Z"
    },
    "collapsed": true,
    "scrolled": true
   },
   "outputs": [],
   "source": [
    "alignment_type = 'Using_vS1_vM1_Surface_Points'\n",
    "fn_list_surfs = []\n",
    "sg_files_list = sorted(glob.glob(output_corrected_spatial_graphs+'*.am'))\n",
    "for i in range(len(sg_files_list)):\n",
    "    sg_file = sg_files_list[i]\n",
    "    if i == 8:\n",
    "        print(i,sg_file)\n",
    "        #fn_list_surfs.append(register_neurons(os.path.basename(sg_file)[:-3],alignment_type,check_neuron_sticking_out=False))\n",
    "        register_neurons(os.path.basename(sg_file)[:-3],alignment_type,check_neuron_sticking_out=True)\n",
    "#compute(fn_list_surfs,scheduler='multiprocessing')"
   ]
  },
  {
   "cell_type": "markdown",
   "metadata": {},
   "source": [
    "# Merge Neurons for Visualization"
   ]
  },
  {
   "cell_type": "code",
   "execution_count": null,
   "metadata": {
    "ExecuteTime": {
     "end_time": "2020-03-11T10:08:26.348171Z",
     "start_time": "2020-03-11T10:07:35.447989Z"
    },
    "collapsed": true
   },
   "outputs": [],
   "source": [
    "all_neurons = AmiraSpatialGraph(generic_graph=True)\n",
    "for neuron_file in glob.glob(output_registered_fine_tune_2+'/*_reg_neuron.am'):\n",
    "    sg_neuron = AmiraSpatialGraph(neuron_file)\n",
    "    all_neurons.graph_data = all_neurons.combine_subgraphs([all_neurons.graph_data,sg_neuron.graph_data])\n",
    "\n",
    "    \n",
    "all_neurons.write_spatial_graph(output_root+'All_Neurons_Registered_To_vM1.am')\n"
   ]
  },
  {
   "cell_type": "code",
   "execution_count": null,
   "metadata": {
    "ExecuteTime": {
     "end_time": "2020-03-11T10:09:07.692209Z",
     "start_time": "2020-03-11T10:08:26.350413Z"
    },
    "collapsed": true
   },
   "outputs": [],
   "source": [
    "all_neurons = AmiraSpatialGraph(generic_graph=True)\n",
    "for neuron_file in glob.glob(output_registered_centered_unscaled+'/*_reg_neuron.am'):\n",
    "    sg_neuron = AmiraSpatialGraph(neuron_file)\n",
    "    all_neurons.graph_data = all_neurons.combine_subgraphs([all_neurons.graph_data,sg_neuron.graph_data])\n",
    "\n",
    "    \n",
    "all_neurons.write_spatial_graph(output_root+'All_Neurons_Registered_To_vM1_Central_Axis.am')"
   ]
  },
  {
   "cell_type": "code",
   "execution_count": null,
   "metadata": {
    "ExecuteTime": {
     "end_time": "2020-03-11T10:15:41.976167Z",
     "start_time": "2020-03-11T10:14:58.541359Z"
    },
    "collapsed": true
   },
   "outputs": [],
   "source": [
    "all_neurons = AmiraSpatialGraph(generic_graph=True)\n",
    "for neuron_file in glob.glob(output_registered_centered+'/*_reg_neuron.am'):\n",
    "    sg_neuron = AmiraSpatialGraph(neuron_file)\n",
    "    all_neurons.graph_data = all_neurons.combine_subgraphs([all_neurons.graph_data,sg_neuron.graph_data])\n",
    "\n",
    "    \n",
    "all_neurons.write_spatial_graph(output_root+'All_Neurons_Registered_To_vM1_Central_Axis_Scaled.am')"
   ]
  },
  {
   "cell_type": "code",
   "execution_count": null,
   "metadata": {
    "collapsed": true
   },
   "outputs": [],
   "source": []
  }
 ],
 "metadata": {
  "kernelspec": {
   "display_name": "Python 3",
   "language": "python",
   "name": "python3"
  },
  "language_info": {
   "codemirror_mode": {
    "name": "ipython",
    "version": 3
   },
   "file_extension": ".py",
   "mimetype": "text/x-python",
   "name": "python",
   "nbconvert_exporter": "python",
   "pygments_lexer": "ipython3",
   "version": "3.6.6"
  },
  "toc": {
   "base_numbering": 1,
   "nav_menu": {},
   "number_sections": true,
   "sideBar": true,
   "skip_h1_title": false,
   "title_cell": "Table of Contents",
   "title_sidebar": "Contents",
   "toc_cell": false,
   "toc_position": {
    "height": "calc(100% - 180px)",
    "left": "10px",
    "top": "150px",
    "width": "336px"
   },
   "toc_section_display": true,
   "toc_window_display": true
  }
 },
 "nbformat": 4,
 "nbformat_minor": 2
}
