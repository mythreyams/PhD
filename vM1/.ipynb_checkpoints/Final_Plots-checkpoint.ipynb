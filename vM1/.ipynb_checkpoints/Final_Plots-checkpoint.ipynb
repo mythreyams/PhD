{
 "cells": [
  {
   "cell_type": "code",
   "execution_count": 20,
   "id": "3e7e1cb1",
   "metadata": {},
   "outputs": [],
   "source": [
    "import numpy as np\n",
    "import pandas as pd\n",
    "import matplotlib.pyplot as plt\n",
    "import seaborn as sns\n",
    "import os"
   ]
  },
  {
   "cell_type": "code",
   "execution_count": 26,
   "id": "1ca62538",
   "metadata": {},
   "outputs": [],
   "source": [
    "input_path = '/Users/mysee/Documents/PhD/Projects/vM1/Figures/'\n",
    "cm = 1/2.54"
   ]
  },
  {
   "cell_type": "markdown",
   "id": "2072b3c0",
   "metadata": {},
   "source": [
    "# Clustering"
   ]
  },
  {
   "cell_type": "markdown",
   "id": "c7da1939",
   "metadata": {},
   "source": [
    "## Absolute rabies counts and cov"
   ]
  },
  {
   "cell_type": "code",
   "execution_count": 71,
   "id": "7fb3f824",
   "metadata": {},
   "outputs": [
    {
     "data": {
      "text/plain": [
       "(1452.0, 1295.5155987739656, 89.2228373811271)"
      ]
     },
     "execution_count": 71,
     "metadata": {},
     "output_type": "execute_result"
    }
   ],
   "source": [
    "# the total number of rabies labelled neurons varies a lot across 3 animals\n",
    "df_rabies_counts = pd.read_csv(input_path + 'Fig_1/Rabies_Distribution/Clustering/'+'landmarks_counts.csv',index_col=0)\n",
    "#mg48_count = df_rabies_counts['MG48_lhs_vM1']\n",
    "mg_48_count_total = df_rabies_counts[df_rabies_counts.index==0][['MG48_lhs_vM1','MG48_rhs_vM1','MG48_lhs_vS1','MG48_rhs_vS1']].values[0].sum()\n",
    "mg_48_count_total_lhs = df_rabies_counts[df_rabies_counts.index==0][['MG48_lhs_vM1','MG48_lhs_vS1']].values[0].sum()\n",
    "mg_48_count_total_rhs = df_rabies_counts[df_rabies_counts.index==0][['MG48_rhs_vM1','MG48_rhs_vS1']].values[0].sum()\n",
    "\n",
    "mg_49_count_total = df_rabies_counts[df_rabies_counts.index==0][['MG49_lhs_vM1','MG49_rhs_vM1','MG49_lhs_vS1','MG49_rhs_vS1']].values[0].sum()\n",
    "mg_49_count_total_lhs = df_rabies_counts[df_rabies_counts.index==0][['MG49_lhs_vM1','MG49_lhs_vS1']].values[0].sum()\n",
    "mg_49_count_total_rhs = df_rabies_counts[df_rabies_counts.index==0][['MG49_rhs_vM1','MG49_rhs_vS1']].values[0].sum()\n",
    "\n",
    "mg_50_count_total = df_rabies_counts[df_rabies_counts.index==0][['MG50_lhs_vM1','MG50_rhs_vM1','MG50_lhs_vS1','MG50_rhs_vS1']].values[0].sum()\n",
    "mg_50_count_total_lhs = df_rabies_counts[df_rabies_counts.index==0][['MG50_lhs_vM1','MG50_lhs_vS1']].values[0].sum()\n",
    "mg_50_count_total_rhs = df_rabies_counts[df_rabies_counts.index==0][['MG50_rhs_vM1','MG50_rhs_vS1']].values[0].sum()\n",
    "\n",
    "totals = np.array([mg_48_count_total,mg_49_count_total,mg_50_count_total])\n",
    "totals_lhs = np.array([mg_48_count_total_lhs,mg_49_count_total_lhs,mg_50_count_total_lhs,])\n",
    "totals_rhs = np.array([mg_48_count_total_rhs,mg_49_count_total_rhs,mg_50_count_total_rhs])\n",
    "\n",
    "totals.mean(),totals.std(),totals.std()/totals.mean()*100"
   ]
  },
  {
   "cell_type": "code",
   "execution_count": 72,
   "id": "4d3af5d6",
   "metadata": {
    "scrolled": false
   },
   "outputs": [
    {
     "data": {
      "image/png": "[encoded data removed]",
      "text/plain": [
       "<Figure size 850.394x330.709 with 4 Axes>"
      ]
     },
     "metadata": {
      "needs_background": "light"
     },
     "output_type": "display_data"
    }
   ],
   "source": [
    "fig, axes = plt.subplots(nrows=1,ncols=4, sharex=True,sharey=True,figsize=(18*cm,7*cm),dpi=120)\n",
    "axes[0].bar(['A1','A2','A3'],df_rabies_counts[df_rabies_counts.index==0][['MG48_lhs_vM1','MG49_lhs_vM1','MG50_lhs_vM1']].values[0],color=(0,0,0))\n",
    "axes[1].bar(['A1','A2','A3'],df_rabies_counts[df_rabies_counts.index==0][['MG48_rhs_vM1','MG49_rhs_vM1','MG50_rhs_vM1']].values[0],color=(0,0,0))\n",
    "axes[2].bar(['A1','A2','A3'],df_rabies_counts[df_rabies_counts.index==0][['MG48_lhs_vS1','MG49_lhs_vS1','MG50_lhs_vS1']].values[0],color=(0,0,0))\n",
    "axes[3].bar(['A1','A2','A3'],df_rabies_counts[df_rabies_counts.index==0][['MG48_rhs_vS1','MG49_rhs_vS1','MG50_rhs_vS1']].values[0],color=(0,0,0))\n",
    "fig.savefig(input_path + 'Fig_1/Rabies_Distribution/Clustering/total_counts.eps')"
   ]
  },
  {
   "cell_type": "code",
   "execution_count": 73,
   "id": "3d1e1bec",
   "metadata": {},
   "outputs": [
    {
     "data": {
      "text/html": [
       "<div>\n",
       "<style scoped>\n",
       "    .dataframe tbody tr th:only-of-type {\n",
       "        vertical-align: middle;\n",
       "    }\n",
       "\n",
       "    .dataframe tbody tr th {\n",
       "        vertical-align: top;\n",
       "    }\n",
       "\n",
       "    .dataframe thead th {\n",
       "        text-align: right;\n",
       "    }\n",
       "</style>\n",
       "<table border=\"1\" class=\"dataframe\">\n",
       "  <thead>\n",
       "    <tr style=\"text-align: right;\">\n",
       "      <th></th>\n",
       "      <th>MG48_lhs_vM1</th>\n",
       "      <th>MG49_lhs_vM1</th>\n",
       "      <th>MG50_lhs_vM1</th>\n",
       "    </tr>\n",
       "    <tr>\n",
       "      <th>Cutoff</th>\n",
       "      <th></th>\n",
       "      <th></th>\n",
       "      <th></th>\n",
       "    </tr>\n",
       "  </thead>\n",
       "  <tbody>\n",
       "    <tr>\n",
       "      <th>0</th>\n",
       "      <td>96</td>\n",
       "      <td>376</td>\n",
       "      <td>1292</td>\n",
       "    </tr>\n",
       "  </tbody>\n",
       "</table>\n",
       "</div>"
      ],
      "text/plain": [
       "        MG48_lhs_vM1  MG49_lhs_vM1  MG50_lhs_vM1\n",
       "Cutoff                                          \n",
       "0                 96           376          1292"
      ]
     },
     "execution_count": 73,
     "metadata": {},
     "output_type": "execute_result"
    }
   ],
   "source": [
    "df_rabies_counts[df_rabies_counts.index==0][['MG48_lhs_vM1','MG49_lhs_vM1','MG50_lhs_vM1']]"
   ]
  },
  {
   "cell_type": "code",
   "execution_count": 74,
   "id": "17342395",
   "metadata": {},
   "outputs": [
    {
     "data": {
      "text/plain": [
       "(Cutoff\n",
       " 0    588.0\n",
       " dtype: float64,\n",
       " Cutoff\n",
       " 0    625.549359\n",
       " dtype: float64,\n",
       " Cutoff\n",
       " 0    1.063859\n",
       " dtype: float64)"
      ]
     },
     "execution_count": 74,
     "metadata": {},
     "output_type": "execute_result"
    }
   ],
   "source": [
    "vm1_lhs = df_rabies_counts[df_rabies_counts.index==0][['MG48_lhs_vM1','MG49_lhs_vM1','MG50_lhs_vM1']]\n",
    "vm1_lhs.mean(axis=1),vm1_lhs.std(axis=1),vm1_lhs.std(axis=1)/vm1_lhs.mean(axis=1),"
   ]
  },
  {
   "cell_type": "code",
   "execution_count": 75,
   "id": "6904a6ef",
   "metadata": {},
   "outputs": [
    {
     "data": {
      "text/html": [
       "<div>\n",
       "<style scoped>\n",
       "    .dataframe tbody tr th:only-of-type {\n",
       "        vertical-align: middle;\n",
       "    }\n",
       "\n",
       "    .dataframe tbody tr th {\n",
       "        vertical-align: top;\n",
       "    }\n",
       "\n",
       "    .dataframe thead th {\n",
       "        text-align: right;\n",
       "    }\n",
       "</style>\n",
       "<table border=\"1\" class=\"dataframe\">\n",
       "  <thead>\n",
       "    <tr style=\"text-align: right;\">\n",
       "      <th></th>\n",
       "      <th>MG48_rhs_vM1</th>\n",
       "      <th>MG49_rhs_vM1</th>\n",
       "      <th>MG50_rhs_vM1</th>\n",
       "    </tr>\n",
       "    <tr>\n",
       "      <th>Cutoff</th>\n",
       "      <th></th>\n",
       "      <th></th>\n",
       "      <th></th>\n",
       "    </tr>\n",
       "  </thead>\n",
       "  <tbody>\n",
       "    <tr>\n",
       "      <th>0</th>\n",
       "      <td>58</td>\n",
       "      <td>245</td>\n",
       "      <td>653</td>\n",
       "    </tr>\n",
       "  </tbody>\n",
       "</table>\n",
       "</div>"
      ],
      "text/plain": [
       "        MG48_rhs_vM1  MG49_rhs_vM1  MG50_rhs_vM1\n",
       "Cutoff                                          \n",
       "0                 58           245           653"
      ]
     },
     "execution_count": 75,
     "metadata": {},
     "output_type": "execute_result"
    }
   ],
   "source": [
    "df_rabies_counts[df_rabies_counts.index==0][['MG48_rhs_vM1','MG49_rhs_vM1','MG50_rhs_vM1']]"
   ]
  },
  {
   "cell_type": "code",
   "execution_count": 76,
   "id": "7c7fd7ca",
   "metadata": {},
   "outputs": [
    {
     "data": {
      "text/plain": [
       "(Cutoff\n",
       " 0    318.666667\n",
       " dtype: float64,\n",
       " Cutoff\n",
       " 0    304.263592\n",
       " dtype: float64,\n",
       " Cutoff\n",
       " 0    0.954802\n",
       " dtype: float64)"
      ]
     },
     "execution_count": 76,
     "metadata": {},
     "output_type": "execute_result"
    }
   ],
   "source": [
    "vm1_lhs = df_rabies_counts[df_rabies_counts.index==0][['MG48_rhs_vM1','MG49_rhs_vM1','MG50_rhs_vM1']]\n",
    "vm1_lhs.mean(axis=1),vm1_lhs.std(axis=1),vm1_lhs.std(axis=1)/vm1_lhs.mean(axis=1),"
   ]
  },
  {
   "cell_type": "code",
   "execution_count": 77,
   "id": "ad063039",
   "metadata": {},
   "outputs": [
    {
     "data": {
      "text/html": [
       "<div>\n",
       "<style scoped>\n",
       "    .dataframe tbody tr th:only-of-type {\n",
       "        vertical-align: middle;\n",
       "    }\n",
       "\n",
       "    .dataframe tbody tr th {\n",
       "        vertical-align: top;\n",
       "    }\n",
       "\n",
       "    .dataframe thead th {\n",
       "        text-align: right;\n",
       "    }\n",
       "</style>\n",
       "<table border=\"1\" class=\"dataframe\">\n",
       "  <thead>\n",
       "    <tr style=\"text-align: right;\">\n",
       "      <th></th>\n",
       "      <th>MG48_lhs_vS1</th>\n",
       "      <th>MG49_lhs_vS1</th>\n",
       "      <th>MG50_lhs_vS1</th>\n",
       "    </tr>\n",
       "    <tr>\n",
       "      <th>Cutoff</th>\n",
       "      <th></th>\n",
       "      <th></th>\n",
       "      <th></th>\n",
       "    </tr>\n",
       "  </thead>\n",
       "  <tbody>\n",
       "    <tr>\n",
       "      <th>0</th>\n",
       "      <td>76</td>\n",
       "      <td>149</td>\n",
       "      <td>1066</td>\n",
       "    </tr>\n",
       "  </tbody>\n",
       "</table>\n",
       "</div>"
      ],
      "text/plain": [
       "        MG48_lhs_vS1  MG49_lhs_vS1  MG50_lhs_vS1\n",
       "Cutoff                                          \n",
       "0                 76           149          1066"
      ]
     },
     "execution_count": 77,
     "metadata": {},
     "output_type": "execute_result"
    }
   ],
   "source": [
    "df_rabies_counts[df_rabies_counts.index==0][['MG48_lhs_vS1','MG49_lhs_vS1','MG50_lhs_vS1']]"
   ]
  },
  {
   "cell_type": "code",
   "execution_count": 78,
   "id": "9f11bad8",
   "metadata": {},
   "outputs": [
    {
     "data": {
      "text/plain": [
       "(Cutoff\n",
       " 0    430.333333\n",
       " dtype: float64,\n",
       " Cutoff\n",
       " 0    551.712183\n",
       " dtype: float64,\n",
       " Cutoff\n",
       " 0    1.282058\n",
       " dtype: float64)"
      ]
     },
     "execution_count": 78,
     "metadata": {},
     "output_type": "execute_result"
    }
   ],
   "source": [
    "vm1_lhs = df_rabies_counts[df_rabies_counts.index==0][['MG48_lhs_vS1','MG49_lhs_vS1','MG50_lhs_vS1']]\n",
    "vm1_lhs.mean(axis=1),vm1_lhs.std(axis=1),vm1_lhs.std(axis=1)/vm1_lhs.mean(axis=1),"
   ]
  },
  {
   "cell_type": "code",
   "execution_count": 79,
   "id": "bf226679",
   "metadata": {},
   "outputs": [
    {
     "data": {
      "text/html": [
       "<div>\n",
       "<style scoped>\n",
       "    .dataframe tbody tr th:only-of-type {\n",
       "        vertical-align: middle;\n",
       "    }\n",
       "\n",
       "    .dataframe tbody tr th {\n",
       "        vertical-align: top;\n",
       "    }\n",
       "\n",
       "    .dataframe thead th {\n",
       "        text-align: right;\n",
       "    }\n",
       "</style>\n",
       "<table border=\"1\" class=\"dataframe\">\n",
       "  <thead>\n",
       "    <tr style=\"text-align: right;\">\n",
       "      <th></th>\n",
       "      <th>MG48_rhs_vS1</th>\n",
       "      <th>MG49_rhs_vS1</th>\n",
       "      <th>MG50_rhs_vS1</th>\n",
       "    </tr>\n",
       "    <tr>\n",
       "      <th>Cutoff</th>\n",
       "      <th></th>\n",
       "      <th></th>\n",
       "      <th></th>\n",
       "    </tr>\n",
       "  </thead>\n",
       "  <tbody>\n",
       "    <tr>\n",
       "      <th>0</th>\n",
       "      <td>43</td>\n",
       "      <td>57</td>\n",
       "      <td>245</td>\n",
       "    </tr>\n",
       "  </tbody>\n",
       "</table>\n",
       "</div>"
      ],
      "text/plain": [
       "        MG48_rhs_vS1  MG49_rhs_vS1  MG50_rhs_vS1\n",
       "Cutoff                                          \n",
       "0                 43            57           245"
      ]
     },
     "execution_count": 79,
     "metadata": {},
     "output_type": "execute_result"
    }
   ],
   "source": [
    "df_rabies_counts[df_rabies_counts.index==0][['MG48_rhs_vS1','MG49_rhs_vS1','MG50_rhs_vS1']]"
   ]
  },
  {
   "cell_type": "code",
   "execution_count": 80,
   "id": "7842538f",
   "metadata": {},
   "outputs": [
    {
     "data": {
      "text/plain": [
       "(Cutoff\n",
       " 0    115.0\n",
       " dtype: float64,\n",
       " Cutoff\n",
       " 0    112.800709\n",
       " dtype: float64,\n",
       " Cutoff\n",
       " 0    0.980876\n",
       " dtype: float64)"
      ]
     },
     "execution_count": 80,
     "metadata": {},
     "output_type": "execute_result"
    }
   ],
   "source": [
    "vm1_lhs = df_rabies_counts[df_rabies_counts.index==0][['MG48_rhs_vS1','MG49_rhs_vS1','MG50_rhs_vS1']]\n",
    "vm1_lhs.mean(axis=1),vm1_lhs.std(axis=1),vm1_lhs.std(axis=1)/vm1_lhs.mean(axis=1),"
   ]
  },
  {
   "cell_type": "code",
   "execution_count": 81,
   "id": "6c5d5271",
   "metadata": {},
   "outputs": [
    {
     "data": {
      "text/plain": [
       "1.07039875"
      ]
     },
     "execution_count": 81,
     "metadata": {},
     "output_type": "execute_result"
    }
   ],
   "source": [
    "np.array([1.063859,0.954802,1.282058,0.980876]).mean()"
   ]
  },
  {
   "cell_type": "code",
   "execution_count": 16,
   "id": "8ab3facb",
   "metadata": {},
   "outputs": [
    {
     "data": {
      "text/plain": [
       "(1.722808927130022, 0.18741294134292596, 0.1087833586137331)"
      ]
     },
     "execution_count": 16,
     "metadata": {},
     "output_type": "execute_result"
    }
   ],
   "source": [
    "import numpy as np\n",
    "np.array([(96-58)/58,(376-245)/245,(1292-653)/653]).mean(),np.array([(96-58)/58,(376-245)/245,(1292-653)/653]).std(),np.array([(96-58)/58,(376-245)/245,(1292-653)/653]).std() / np.array([(96-58)/58,(376-245)/245,(1292-653)/653]).mean(),\n",
    "np.array([(96)/58,(376)/245,(1292)/653]).mean(),np.array([(96)/58,(376)/245,(1292)/653]).std(),np.array([(96)/58,(376)/245,(1292)/653]).std() / np.array([(96)/58,(376)/245,(1292)/653]).mean(),\n",
    "\n",
    "\n"
   ]
  },
  {
   "cell_type": "code",
   "execution_count": 17,
   "id": "1e9d0544",
   "metadata": {},
   "outputs": [
    {
     "data": {
      "text/plain": [
       "(2.910832452115893, 1.0754180689902548, 0.3694537857060547)"
      ]
     },
     "execution_count": 17,
     "metadata": {},
     "output_type": "execute_result"
    }
   ],
   "source": [
    "import numpy as np\n",
    "np.array([(76-43)/43,(149-57)/57,(1066-245)/245]).mean(),np.array([(76-43)/43,(149-57)/57,(1066-245)/245]).std(),np.array([(76-43)/43,(149-57)/57,(1066-245)/245]).std() / np.array([(76-43)/43,(149-57)/57,(1066-245)/245]).mean()\n",
    "np.array([(76)/43,(149)/57,(1066)/245]).mean(),np.array([(76)/43,(149)/57,(1066)/245]).std(),np.array([(76)/43,(149)/57,(1066)/245]).std() / np.array([(76)/43,(149)/57,(1066)/245]).mean()\n"
   ]
  },
  {
   "cell_type": "code",
   "execution_count": 12,
   "id": "544590a8",
   "metadata": {},
   "outputs": [
    {
     "data": {
      "text/plain": [
       "0.8107777385437585"
      ]
     },
     "execution_count": 12,
     "metadata": {},
     "output_type": "execute_result"
    }
   ],
   "source": [
    "np.array([8,33,96]).std()/np.array([8,33,96]).mean()"
   ]
  },
  {
   "cell_type": "code",
   "execution_count": 13,
   "id": "a6a64d0a",
   "metadata": {},
   "outputs": [
    {
     "data": {
      "text/plain": [
       "0.7651560901022738"
      ]
     },
     "execution_count": 13,
     "metadata": {},
     "output_type": "execute_result"
    }
   ],
   "source": [
    "np.array([3,22,49]).std()/np.array([3,22,49]).mean()"
   ]
  },
  {
   "cell_type": "code",
   "execution_count": 14,
   "id": "694cc7ee",
   "metadata": {},
   "outputs": [
    {
     "data": {
      "text/plain": [
       "1.0113607912957832"
      ]
     },
     "execution_count": 14,
     "metadata": {},
     "output_type": "execute_result"
    }
   ],
   "source": [
    "np.array([6,11,72]).std()/np.array([6,11,72]).mean()"
   ]
  },
  {
   "cell_type": "code",
   "execution_count": 15,
   "id": "bfc52a63",
   "metadata": {},
   "outputs": [
    {
     "data": {
      "text/plain": [
       "0.5314201797141386"
      ]
     },
     "execution_count": 15,
     "metadata": {},
     "output_type": "execute_result"
    }
   ],
   "source": [
    "np.array([7,8,21]).std()/np.array([7,8,21]).mean()"
   ]
  },
  {
   "cell_type": "code",
   "execution_count": 18,
   "id": "a4e51de6",
   "metadata": {},
   "outputs": [
    {
     "data": {
      "text/plain": [
       "(2.0419501133786846, 0.4798718512681083, 0.23500664787255499)"
      ]
     },
     "execution_count": 18,
     "metadata": {},
     "output_type": "execute_result"
    }
   ],
   "source": [
    "np.array([(8)/3,(33)/22,(96)/49]).mean(),np.array([(8)/3,(33)/22,(96)/49]).std(),np.array([(8)/3,(33)/22,(96)/49]).std() / np.array([(8)/3,(33)/22,(96)/49]).mean()\n"
   ]
  },
  {
   "cell_type": "code",
   "execution_count": 19,
   "id": "4a25a512",
   "metadata": {},
   "outputs": [
    {
     "data": {
      "text/plain": [
       "(1.8869047619047619, 1.110434175877578, 0.5884950837458458)"
      ]
     },
     "execution_count": 19,
     "metadata": {},
     "output_type": "execute_result"
    }
   ],
   "source": [
    "np.array([(6)/7,(11)/8,(72)/21]).mean(),np.array([(6)/7,(11)/8,(72)/21]).std(),np.array([(6)/7,(11)/8,(72)/21]).std() / np.array([(6)/7,(11)/8,(72)/21]).mean()\n"
   ]
  },
  {
   "cell_type": "code",
   "execution_count": null,
   "id": "376e9f37",
   "metadata": {},
   "outputs": [],
   "source": []
  },
  {
   "cell_type": "markdown",
   "id": "8b4a8eda",
   "metadata": {},
   "source": [
    "## Clustered rabies volumes and cov"
   ]
  },
  {
   "cell_type": "code",
   "execution_count": 82,
   "id": "df157823",
   "metadata": {},
   "outputs": [
    {
     "data": {
      "text/plain": [
       "(29918853888.0, 6588226373.641311, 22.02031668159504)"
      ]
     },
     "execution_count": 82,
     "metadata": {},
     "output_type": "execute_result"
    }
   ],
   "source": [
    "df_surf_vols_amira = pd.read_csv(input_path + 'Fig_1/Rabies_Distribution/Clustering/surf_volumes_from_amira.csv',\\\n",
    "                                 sep=';',thousands='.',index_col=0)\n",
    "mg_48_volume_total = df_surf_vols_amira[df_surf_vols_amira.index==10][['MG48_lhs_vM1','MG48_rhs_vM1','MG48_lhs_vS1','MG48_rhs_vS1']].values[0].sum()\n",
    "mg_48_volume_total_lhs = df_surf_vols_amira[df_surf_vols_amira.index==10][['MG48_lhs_vM1','MG48_lhs_vS1']].values[0].sum()\n",
    "mg_48_volume_total_rhs = df_surf_vols_amira[df_surf_vols_amira.index==10][['MG48_rhs_vM1','MG48_rhs_vS1']].values[0].sum()\n",
    "\n",
    "mg_49_volume_total = df_surf_vols_amira[df_surf_vols_amira.index==10][['MG49_lhs_vM1','MG49_rhs_vM1','MG49_lhs_vS1','MG49_rhs_vS1']].values[0].sum()\n",
    "mg_49_volume_total_lhs = df_surf_vols_amira[df_surf_vols_amira.index==10][['MG49_lhs_vM1','MG49_lhs_vS1']].values[0].sum()\n",
    "mg_49_volume_total_rhs = df_surf_vols_amira[df_surf_vols_amira.index==10][['MG49_rhs_vM1','MG49_rhs_vS1']].values[0].sum()\n",
    "\n",
    "mg_50_volume_total = df_surf_vols_amira[df_surf_vols_amira.index==10][['MG50_lhs_vM1','MG50_rhs_vM1','MG50_lhs_vS1','MG50_rhs_vS1']].values[0].sum()\n",
    "mg_50_volume_total_lhs = df_surf_vols_amira[df_surf_vols_amira.index==10][['MG50_lhs_vM1','MG50_lhs_vS1']].values[0].sum()\n",
    "mg_50_volume_total_rhs = df_surf_vols_amira[df_surf_vols_amira.index==10][['MG50_rhs_vM1','MG50_rhs_vS1']].values[0].sum()\n",
    "\n",
    "totals = np.array([mg_48_volume_total,mg_49_volume_total,mg_50_volume_total])\n",
    "totals_lhs = np.array([mg_48_volume_total_lhs,mg_49_volume_total_lhs,mg_50_volume_total_lhs])\n",
    "totals_rhs = np.array([mg_48_volume_total_rhs,mg_49_volume_total_rhs,mg_50_volume_total_rhs])\n",
    "\n",
    "totals.mean(),totals.std(),totals.std()/totals.mean()*100"
   ]
  },
  {
   "cell_type": "code",
   "execution_count": 83,
   "id": "bf33efa7",
   "metadata": {},
   "outputs": [
    {
     "data": {
      "text/plain": [
       "(17738112000.0, 1535953136.6981075, 8.659056480746695)"
      ]
     },
     "execution_count": 83,
     "metadata": {},
     "output_type": "execute_result"
    }
   ],
   "source": [
    "totals_lhs.mean(),totals_lhs.std(),totals_lhs.std()/totals_lhs.mean()*100"
   ]
  },
  {
   "cell_type": "code",
   "execution_count": 84,
   "id": "953ba4d8",
   "metadata": {
    "scrolled": false
   },
   "outputs": [
    {
     "data": {
      "text/plain": [
       "(12180741888.0, 5207223830.138087, 42.749644299318454)"
      ]
     },
     "execution_count": 84,
     "metadata": {},
     "output_type": "execute_result"
    }
   ],
   "source": [
    "totals_rhs.mean(),totals_rhs.std(),totals_rhs.std()/totals_rhs.mean()*100"
   ]
  },
  {
   "cell_type": "code",
   "execution_count": 85,
   "id": "ccac0ba8",
   "metadata": {
    "scrolled": false
   },
   "outputs": [
    {
     "data": {
      "image/png": "[encoded data removed]",
      "text/plain": [
       "<Figure size 850.394x330.709 with 4 Axes>"
      ]
     },
     "metadata": {
      "needs_background": "light"
     },
     "output_type": "display_data"
    }
   ],
   "source": [
    "fig, axes = plt.subplots(nrows=1,ncols=4, sharex=True,sharey=True,figsize=(18*cm,7*cm),dpi=120)\n",
    "axes[0].bar(['A1','A2','A3'],df_surf_vols_amira[df_surf_vols_amira.index==10][['MG48_lhs_vM1','MG49_lhs_vM1','MG50_lhs_vM1']].values[0],color=(0,0,0))\n",
    "axes[1].bar(['A1','A2','A3'],df_surf_vols_amira[df_surf_vols_amira.index==10][['MG48_rhs_vM1','MG49_rhs_vM1','MG50_rhs_vM1']].values[0],color=(0,0,0))\n",
    "axes[2].bar(['A1','A2','A3'],df_surf_vols_amira[df_surf_vols_amira.index==10][['MG48_lhs_vS1','MG49_lhs_vS1','MG50_lhs_vS1']].values[0],color=(0,0,0))\n",
    "axes[3].bar(['A1','A2','A3'],df_surf_vols_amira[df_surf_vols_amira.index==10][['MG48_rhs_vS1','MG49_rhs_vS1','MG50_rhs_vS1']].values[0],color=(0,0,0))\n",
    "fig.savefig(input_path + 'Fig_1/Rabies_Distribution/Clustering/total_volumes.eps')"
   ]
  },
  {
   "cell_type": "code",
   "execution_count": 86,
   "id": "9383091c",
   "metadata": {},
   "outputs": [
    {
     "data": {
      "text/html": [
       "<div>\n",
       "<style scoped>\n",
       "    .dataframe tbody tr th:only-of-type {\n",
       "        vertical-align: middle;\n",
       "    }\n",
       "\n",
       "    .dataframe tbody tr th {\n",
       "        vertical-align: top;\n",
       "    }\n",
       "\n",
       "    .dataframe thead th {\n",
       "        text-align: right;\n",
       "    }\n",
       "</style>\n",
       "<table border=\"1\" class=\"dataframe\">\n",
       "  <thead>\n",
       "    <tr style=\"text-align: right;\">\n",
       "      <th></th>\n",
       "      <th>MG48_lhs_vM1</th>\n",
       "      <th>MG49_lhs_vM1</th>\n",
       "      <th>MG50_lhs_vM1</th>\n",
       "    </tr>\n",
       "    <tr>\n",
       "      <th>Cutoff</th>\n",
       "      <th></th>\n",
       "      <th></th>\n",
       "      <th></th>\n",
       "    </tr>\n",
       "  </thead>\n",
       "  <tbody>\n",
       "    <tr>\n",
       "      <th>10</th>\n",
       "      <td>7803322368</td>\n",
       "      <td>8817117184</td>\n",
       "      <td>10736518144</td>\n",
       "    </tr>\n",
       "  </tbody>\n",
       "</table>\n",
       "</div>"
      ],
      "text/plain": [
       "        MG48_lhs_vM1  MG49_lhs_vM1  MG50_lhs_vM1\n",
       "Cutoff                                          \n",
       "10        7803322368    8817117184   10736518144"
      ]
     },
     "execution_count": 86,
     "metadata": {},
     "output_type": "execute_result"
    }
   ],
   "source": [
    "df_surf_vols_amira[df_surf_vols_amira.index==10][['MG48_lhs_vM1','MG49_lhs_vM1','MG50_lhs_vM1']]"
   ]
  },
  {
   "cell_type": "code",
   "execution_count": 87,
   "id": "3f1a20ff",
   "metadata": {},
   "outputs": [
    {
     "data": {
      "text/plain": [
       "(Cutoff\n",
       " 10    9.118986e+09\n",
       " dtype: float64,\n",
       " Cutoff\n",
       " 10    1.489716e+09\n",
       " dtype: float64,\n",
       " Cutoff\n",
       " 10    0.163364\n",
       " dtype: float64)"
      ]
     },
     "execution_count": 87,
     "metadata": {},
     "output_type": "execute_result"
    }
   ],
   "source": [
    "bla = df_surf_vols_amira[df_surf_vols_amira.index==10][['MG48_lhs_vM1','MG49_lhs_vM1','MG50_lhs_vM1']]\n",
    "bla.mean(axis=1),bla.std(axis=1),bla.std(axis=1)/bla.mean(axis=1),"
   ]
  },
  {
   "cell_type": "code",
   "execution_count": 88,
   "id": "48ded90c",
   "metadata": {},
   "outputs": [
    {
     "data": {
      "text/html": [
       "<div>\n",
       "<style scoped>\n",
       "    .dataframe tbody tr th:only-of-type {\n",
       "        vertical-align: middle;\n",
       "    }\n",
       "\n",
       "    .dataframe tbody tr th {\n",
       "        vertical-align: top;\n",
       "    }\n",
       "\n",
       "    .dataframe thead th {\n",
       "        text-align: right;\n",
       "    }\n",
       "</style>\n",
       "<table border=\"1\" class=\"dataframe\">\n",
       "  <thead>\n",
       "    <tr style=\"text-align: right;\">\n",
       "      <th></th>\n",
       "      <th>MG48_rhs_vM1</th>\n",
       "      <th>MG49_rhs_vM1</th>\n",
       "      <th>MG50_rhs_vM1</th>\n",
       "    </tr>\n",
       "    <tr>\n",
       "      <th>Cutoff</th>\n",
       "      <th></th>\n",
       "      <th></th>\n",
       "      <th></th>\n",
       "    </tr>\n",
       "  </thead>\n",
       "  <tbody>\n",
       "    <tr>\n",
       "      <th>10</th>\n",
       "      <td>5000535552</td>\n",
       "      <td>5035372032</td>\n",
       "      <td>12209556480</td>\n",
       "    </tr>\n",
       "  </tbody>\n",
       "</table>\n",
       "</div>"
      ],
      "text/plain": [
       "        MG48_rhs_vM1  MG49_rhs_vM1  MG50_rhs_vM1\n",
       "Cutoff                                          \n",
       "10        5000535552    5035372032   12209556480"
      ]
     },
     "execution_count": 88,
     "metadata": {},
     "output_type": "execute_result"
    }
   ],
   "source": [
    "df_surf_vols_amira[df_surf_vols_amira.index==10][['MG48_rhs_vM1','MG49_rhs_vM1','MG50_rhs_vM1']]"
   ]
  },
  {
   "cell_type": "code",
   "execution_count": 89,
   "id": "ef28a8ff",
   "metadata": {},
   "outputs": [
    {
     "data": {
      "text/plain": [
       "(Cutoff\n",
       " 10    7.415155e+09\n",
       " dtype: float64,\n",
       " Cutoff\n",
       " 10    4.152110e+09\n",
       " dtype: float64,\n",
       " Cutoff\n",
       " 10    0.559949\n",
       " dtype: float64)"
      ]
     },
     "execution_count": 89,
     "metadata": {},
     "output_type": "execute_result"
    }
   ],
   "source": [
    "bla = df_surf_vols_amira[df_surf_vols_amira.index==10][['MG48_rhs_vM1','MG49_rhs_vM1','MG50_rhs_vM1']]\n",
    "bla.mean(axis=1),bla.std(axis=1),bla.std(axis=1)/bla.mean(axis=1),"
   ]
  },
  {
   "cell_type": "code",
   "execution_count": 90,
   "id": "347e2de9",
   "metadata": {},
   "outputs": [
    {
     "data": {
      "text/html": [
       "<div>\n",
       "<style scoped>\n",
       "    .dataframe tbody tr th:only-of-type {\n",
       "        vertical-align: middle;\n",
       "    }\n",
       "\n",
       "    .dataframe tbody tr th {\n",
       "        vertical-align: top;\n",
       "    }\n",
       "\n",
       "    .dataframe thead th {\n",
       "        text-align: right;\n",
       "    }\n",
       "</style>\n",
       "<table border=\"1\" class=\"dataframe\">\n",
       "  <thead>\n",
       "    <tr style=\"text-align: right;\">\n",
       "      <th></th>\n",
       "      <th>MG48_lhs_vS1</th>\n",
       "      <th>MG49_lhs_vS1</th>\n",
       "      <th>MG50_lhs_vS1</th>\n",
       "    </tr>\n",
       "    <tr>\n",
       "      <th>Cutoff</th>\n",
       "      <th></th>\n",
       "      <th></th>\n",
       "      <th></th>\n",
       "    </tr>\n",
       "  </thead>\n",
       "  <tbody>\n",
       "    <tr>\n",
       "      <th>10</th>\n",
       "      <td>8765255680</td>\n",
       "      <td>7920558080</td>\n",
       "      <td>9171564544</td>\n",
       "    </tr>\n",
       "  </tbody>\n",
       "</table>\n",
       "</div>"
      ],
      "text/plain": [
       "        MG48_lhs_vS1  MG49_lhs_vS1  MG50_lhs_vS1\n",
       "Cutoff                                          \n",
       "10        8765255680    7920558080    9171564544"
      ]
     },
     "execution_count": 90,
     "metadata": {},
     "output_type": "execute_result"
    }
   ],
   "source": [
    "df_surf_vols_amira[df_surf_vols_amira.index==10][['MG48_lhs_vS1','MG49_lhs_vS1','MG50_lhs_vS1']]"
   ]
  },
  {
   "cell_type": "code",
   "execution_count": 91,
   "id": "64f88c24",
   "metadata": {},
   "outputs": [
    {
     "data": {
      "text/plain": [
       "(Cutoff\n",
       " 10    8.619126e+09\n",
       " dtype: float64,\n",
       " Cutoff\n",
       " 10    6.381768e+08\n",
       " dtype: float64,\n",
       " Cutoff\n",
       " 10    0.074042\n",
       " dtype: float64)"
      ]
     },
     "execution_count": 91,
     "metadata": {},
     "output_type": "execute_result"
    }
   ],
   "source": [
    "bla = df_surf_vols_amira[df_surf_vols_amira.index==10][['MG48_lhs_vS1','MG49_lhs_vS1','MG50_lhs_vS1']]\n",
    "bla.mean(axis=1),bla.std(axis=1),bla.std(axis=1)/bla.mean(axis=1),"
   ]
  },
  {
   "cell_type": "code",
   "execution_count": 92,
   "id": "26b5805e",
   "metadata": {},
   "outputs": [
    {
     "data": {
      "text/html": [
       "<div>\n",
       "<style scoped>\n",
       "    .dataframe tbody tr th:only-of-type {\n",
       "        vertical-align: middle;\n",
       "    }\n",
       "\n",
       "    .dataframe tbody tr th {\n",
       "        vertical-align: top;\n",
       "    }\n",
       "\n",
       "    .dataframe thead th {\n",
       "        text-align: right;\n",
       "    }\n",
       "</style>\n",
       "<table border=\"1\" class=\"dataframe\">\n",
       "  <thead>\n",
       "    <tr style=\"text-align: right;\">\n",
       "      <th></th>\n",
       "      <th>MG48_rhs_vS1</th>\n",
       "      <th>MG49_rhs_vS1</th>\n",
       "      <th>MG50_rhs_vS1</th>\n",
       "    </tr>\n",
       "    <tr>\n",
       "      <th>Cutoff</th>\n",
       "      <th></th>\n",
       "      <th></th>\n",
       "      <th></th>\n",
       "    </tr>\n",
       "  </thead>\n",
       "  <tbody>\n",
       "    <tr>\n",
       "      <th>10</th>\n",
       "      <td>6777475072</td>\n",
       "      <td>978758912</td>\n",
       "      <td>6540527616</td>\n",
       "    </tr>\n",
       "  </tbody>\n",
       "</table>\n",
       "</div>"
      ],
      "text/plain": [
       "        MG48_rhs_vS1  MG49_rhs_vS1  MG50_rhs_vS1\n",
       "Cutoff                                          \n",
       "10        6777475072     978758912    6540527616"
      ]
     },
     "execution_count": 92,
     "metadata": {},
     "output_type": "execute_result"
    }
   ],
   "source": [
    "df_surf_vols_amira[df_surf_vols_amira.index==10][['MG48_rhs_vS1','MG49_rhs_vS1','MG50_rhs_vS1']]"
   ]
  },
  {
   "cell_type": "code",
   "execution_count": 93,
   "id": "f30558d0",
   "metadata": {},
   "outputs": [
    {
     "data": {
      "text/plain": [
       "(Cutoff\n",
       " 10    4.765587e+09\n",
       " dtype: float64,\n",
       " Cutoff\n",
       " 10    3.281629e+09\n",
       " dtype: float64,\n",
       " Cutoff\n",
       " 10    0.68861\n",
       " dtype: float64)"
      ]
     },
     "execution_count": 93,
     "metadata": {},
     "output_type": "execute_result"
    }
   ],
   "source": [
    "bla = df_surf_vols_amira[df_surf_vols_amira.index==10][['MG48_rhs_vS1','MG49_rhs_vS1','MG50_rhs_vS1']]\n",
    "bla.mean(axis=1),bla.std(axis=1),bla.std(axis=1)/bla.mean(axis=1),"
   ]
  },
  {
   "cell_type": "markdown",
   "id": "031e5a69",
   "metadata": {},
   "source": [
    "## Effect of density cutoff thersholds on clustering"
   ]
  },
  {
   "cell_type": "code",
   "execution_count": 94,
   "id": "f0ff8c98",
   "metadata": {},
   "outputs": [],
   "source": [
    "df_rabies_counts = pd.read_csv(input_path + 'Fig_1/Rabies_Distribution/Clustering/'+'landmarks_counts.csv',index_col=0)\n",
    "df_surf_areas = pd.read_csv(input_path + 'Fig_1/Rabies_Distribution/Clustering/'+'surf_areas.csv',index_col=0)\n",
    "df_surf_volumes_per = pd.read_csv(input_path + 'Fig_1/Rabies_Distribution/Clustering/'+'surf_volumes_from_amira_per.csv',index_col=0)\n"
   ]
  },
  {
   "cell_type": "code",
   "execution_count": 95,
   "id": "8db66329",
   "metadata": {
    "scrolled": false
   },
   "outputs": [
    {
     "data": {
      "image/png": "[encoded data removed]",
      "text/plain": [
       "<Figure size 850.394x330.709 with 2 Axes>"
      ]
     },
     "metadata": {
      "needs_background": "light"
     },
     "output_type": "display_data"
    }
   ],
   "source": [
    "df_counts = df_rabies_counts.filter(regex='per').transpose()\n",
    "df_surfs = df_surf_areas.filter(regex='per').transpose()\n",
    "fig, axes = plt.subplots(nrows=1,ncols=2, sharex=True,sharey=True,figsize=(18*cm,7*cm),dpi=120)\n",
    "b1 = axes[0].boxplot(df_counts[df_counts.columns[::-1]])\n",
    "eb2 = axes[0].errorbar(x=[1,2,3,4,5,6,7,8,9,10,11],y=np.array(df_counts[df_counts.columns[::-1]].transpose()).mean(axis=1),yerr=np.array(df_counts[df_counts.columns[::-1]].transpose()).std(axis=1),\\\n",
    "             color='blue',marker='.',fmt='.')\n",
    "b2 = axes[1].boxplot(df_surfs[df_surfs.columns[::-1]])\n",
    "eb2 = axes[1].errorbar(x=[1,2,3,4,5,6,7,8,9,10,11],y=np.array(df_surfs[df_surfs.columns[::-1]].transpose()).mean(axis=1),yerr=np.array(df_surfs[df_surfs.columns[::-1]].transpose()).std(axis=1),\\\n",
    "             color='blue',marker='.',fmt='.')\n",
    "plt.setp(b1['boxes'], color='black')\n",
    "plt.setp(b1['whiskers'], color='black')\n",
    "plt.setp(b1['medians'], color='black')\n",
    "plt.setp(b1['caps'], color='black')\n",
    "plt.setp(b2['boxes'], color='black')\n",
    "plt.setp(b2['whiskers'], color='black')\n",
    "plt.setp(b2['medians'], color='black')\n",
    "plt.setp(b2['caps'], color='black')\n",
    "\n",
    "fig.savefig(input_path + 'Fig_1/Rabies_Distribution/Clustering/density_cutoffs.eps')"
   ]
  },
  {
   "cell_type": "code",
   "execution_count": 96,
   "id": "58e274f0",
   "metadata": {},
   "outputs": [
    {
     "data": {
      "text/plain": [
       "(Cutoff\n",
       " 0      100.000000\n",
       " 10      78.972736\n",
       " 20      61.044467\n",
       " 30      52.317847\n",
       " 40      35.613992\n",
       " 50      30.848289\n",
       " 60      20.047840\n",
       " 70      15.788484\n",
       " 80      15.332909\n",
       " 90      12.629794\n",
       " 100     11.061912\n",
       " dtype: float64,\n",
       " Cutoff\n",
       " 0       0.000000\n",
       " 10     13.959851\n",
       " 20     21.806309\n",
       " 30     18.581325\n",
       " 40     12.173787\n",
       " 50     12.421827\n",
       " 60      9.206613\n",
       " 70      7.951789\n",
       " 80      7.135830\n",
       " 90      5.902816\n",
       " 100     5.772488\n",
       " dtype: float64,\n",
       " Cutoff\n",
       " 0      0.000000\n",
       " 10     0.176768\n",
       " 20     0.357220\n",
       " 30     0.355162\n",
       " 40     0.341826\n",
       " 50     0.402675\n",
       " 60     0.459232\n",
       " 70     0.503645\n",
       " 80     0.465393\n",
       " 90     0.467372\n",
       " 100    0.521835\n",
       " dtype: float64)"
      ]
     },
     "execution_count": 96,
     "metadata": {},
     "output_type": "execute_result"
    }
   ],
   "source": [
    "df_counts[df_counts.columns[::-1]].mean(),df_counts[df_counts.columns[::-1]].std(),df_counts[df_counts.columns[::-1]].std()/df_counts[df_counts.columns[::-1]].mean()"
   ]
  },
  {
   "cell_type": "code",
   "execution_count": 97,
   "id": "7bf3d51d",
   "metadata": {},
   "outputs": [
    {
     "data": {
      "text/plain": [
       "(Cutoff\n",
       " 0      100.000000\n",
       " 10      43.652848\n",
       " 20      26.505614\n",
       " 30      20.498617\n",
       " 40      10.416689\n",
       " 50       8.327781\n",
       " 60       4.837567\n",
       " 70       3.024383\n",
       " 80       2.952427\n",
       " 90       2.244578\n",
       " 100      2.007696\n",
       " dtype: float64,\n",
       " Cutoff\n",
       " 0       0.000000\n",
       " 10     16.398099\n",
       " 20     16.109189\n",
       " 30     15.614610\n",
       " 40      4.843768\n",
       " 50      5.562739\n",
       " 60      4.200960\n",
       " 70      1.617775\n",
       " 80      1.555020\n",
       " 90      1.361272\n",
       " 100     1.413926\n",
       " dtype: float64,\n",
       " Cutoff\n",
       " 0      0.000000\n",
       " 10     0.375648\n",
       " 20     0.607765\n",
       " 30     0.761740\n",
       " 40     0.465001\n",
       " 50     0.667974\n",
       " 60     0.868403\n",
       " 70     0.534911\n",
       " 80     0.526692\n",
       " 90     0.606471\n",
       " 100    0.704253\n",
       " dtype: float64)"
      ]
     },
     "execution_count": 97,
     "metadata": {},
     "output_type": "execute_result"
    }
   ],
   "source": [
    "df_surfs[df_surfs.columns[::-1]].mean(),df_surfs[df_surfs.columns[::-1]].std(),df_surfs[df_surfs.columns[::-1]].std()/df_surfs[df_surfs.columns[::-1]].mean()"
   ]
  },
  {
   "cell_type": "markdown",
   "id": "45c1e0c7",
   "metadata": {},
   "source": [
    "# Rabies Distribution in Atlas"
   ]
  },
  {
   "cell_type": "code",
   "execution_count": 98,
   "id": "8c862de1",
   "metadata": {
    "scrolled": true
   },
   "outputs": [],
   "source": [
    "df_atlas = pd.read_csv(input_path + 'Fig_1/Rabies_Distribution/Atlas/'+'Atlas_Counts_per.csv',index_col=0)\n",
    "df_atlas_clustered = pd.read_csv(input_path + 'Fig_1/Rabies_Distribution/Atlas_Clustered/'+'Atlas_Counts_per.csv',index_col=0)\n",
    "df = df_atlas_clustered"
   ]
  },
  {
   "cell_type": "code",
   "execution_count": 99,
   "id": "071f574a",
   "metadata": {
    "scrolled": true
   },
   "outputs": [
    {
     "data": {
      "text/plain": [
       "Index(['M1', 'M2', 'S1_ULp', 'SBF', 'S2', 'S1_fl', 'Insular', 'Others'], dtype='object', name='Atlas_Region')"
      ]
     },
     "execution_count": 99,
     "metadata": {},
     "output_type": "execute_result"
    }
   ],
   "source": [
    "df_atlas_clustered.index"
   ]
  },
  {
   "cell_type": "code",
   "execution_count": 100,
   "id": "ec3779e6",
   "metadata": {
    "scrolled": false
   },
   "outputs": [
    {
     "data": {
      "image/png": "[encoded data removed]",
      "text/plain": [
       "<Figure size 850.394x330.709 with 2 Axes>"
      ]
     },
     "metadata": {
      "needs_background": "light"
     },
     "output_type": "display_data"
    }
   ],
   "source": [
    "df_lhs = df[['lhs_MG48','lhs_MG49','lhs_MG50']]\n",
    "df_rhs = df[['rhs_MG48','rhs_MG49','rhs_MG50']]\n",
    "#df_lhs.mean(axis=1),df_lhs.std(axis=1),df_rhs.mean(axis=1),df_rhs.std(axis=1)\n",
    "\n",
    "#df = pd.DataFrame()\n",
    "#df = df.append(df_lhs)\n",
    "#df = df.append(df_rhs)\n",
    "#df_lhs.transpose().plot(kind='box', stacked=True)\n",
    "#df_rhs.transpose().plot(kind='box', stacked=True)\n",
    "#axes.boxplot(df_lhs.transpose(),)\n",
    "#axes.boxplot(df_rhs.transpose())\n",
    "#axes.set_edgecolor('red')\n",
    "fig, axes = plt.subplots(nrows=1,ncols=2, sharex=True,sharey=True,figsize=(18*cm,7*cm),dpi=120)\n",
    "#axes.errorbar(df_lhs.index.values,df_lhs.transpose().mean(axis=0),yerr=df_lhs.transpose().std(axis=0))\n",
    "#axes.errorbar(df_rhs.index.values,df_rhs.transpose().mean(axis=0),yerr=df_rhs.transpose().std(axis=0))\n",
    "b1 = axes[0].boxplot(df_lhs.transpose())\n",
    "eb1 = axes[0].errorbar(x=[1,2,3,4,5,6,7,8],y=np.array(df_lhs).mean(axis=1),yerr=np.array(df_lhs).std(axis=1),\\\n",
    "             color='blue',marker='.',fmt='.')\n",
    "plt.setp(b1['boxes'], color='black')\n",
    "plt.setp(b1['whiskers'], color='black')\n",
    "plt.setp(b1['medians'], color='black')\n",
    "plt.setp(b1['caps'], color='black')\n",
    "\n",
    "b2 = axes[1].boxplot(df_rhs.transpose())\n",
    "eb2 = axes[1].errorbar(x=[1,2,3,4,5,6,7,8],y=np.array(df_rhs).mean(axis=1),yerr=np.array(df_rhs).std(axis=1),\\\n",
    "             color='blue',marker='.',fmt='.')\n",
    "plt.setp(b2['boxes'], color='black')\n",
    "plt.setp(b2['whiskers'], color='black')\n",
    "plt.setp(b2['medians'], color='black')\n",
    "plt.setp(b2['caps'], color='black')\n",
    "\n",
    "fig.savefig(input_path + 'Fig_1/Rabies_Distribution/Atlas_Clustered/atlas_counts.eps')"
   ]
  },
  {
   "cell_type": "code",
   "execution_count": 101,
   "id": "21d74f36",
   "metadata": {},
   "outputs": [
    {
     "data": {
      "text/plain": [
       "(Atlas_Region\n",
       " M1         30.680840\n",
       " M2          9.421677\n",
       " S1_ULp     10.981062\n",
       " SBF        16.776272\n",
       " S2          6.984500\n",
       " S1_fl       1.936321\n",
       " Insular     3.236422\n",
       " Others     19.982906\n",
       " dtype: float64,\n",
       " Atlas_Region\n",
       " M1         5.633135\n",
       " M2         5.020520\n",
       " S1_ULp     0.169554\n",
       " SBF        9.290977\n",
       " S2         0.469766\n",
       " S1_fl      2.059179\n",
       " Insular    2.252403\n",
       " Others     6.977257\n",
       " dtype: float64,\n",
       " Atlas_Region\n",
       " M1         0.183604\n",
       " M2         0.532869\n",
       " S1_ULp     0.015441\n",
       " SBF        0.553817\n",
       " S2         0.067258\n",
       " S1_fl      1.063449\n",
       " Insular    0.695955\n",
       " Others     0.349161\n",
       " dtype: float64)"
      ]
     },
     "execution_count": 101,
     "metadata": {},
     "output_type": "execute_result"
    }
   ],
   "source": [
    "df_lhs.mean(axis=1),df_lhs.std(axis=1),df_lhs.std(axis=1)/df_lhs.mean(axis=1)"
   ]
  },
  {
   "cell_type": "code",
   "execution_count": 102,
   "id": "a534d55f",
   "metadata": {},
   "outputs": [
    {
     "data": {
      "text/plain": [
       "(Atlas_Region\n",
       " M1         33.224430\n",
       " M2         13.061121\n",
       " S1_ULp      4.231139\n",
       " SBF         2.077323\n",
       " S2          5.767550\n",
       " S1_fl       1.612903\n",
       " Insular    20.864665\n",
       " Others     19.160868\n",
       " dtype: float64,\n",
       " Atlas_Region\n",
       " M1         13.159230\n",
       " M2         10.152341\n",
       " S1_ULp      3.790582\n",
       " SBF         3.482277\n",
       " S2          6.124294\n",
       " S1_fl       2.793630\n",
       " Insular     9.460580\n",
       " Others      6.298316\n",
       " dtype: float64,\n",
       " Atlas_Region\n",
       " M1         0.396071\n",
       " M2         0.777295\n",
       " S1_ULp     0.895877\n",
       " SBF        1.676329\n",
       " S2         1.061854\n",
       " S1_fl      1.732051\n",
       " Insular    0.453426\n",
       " Others     0.328707\n",
       " dtype: float64)"
      ]
     },
     "execution_count": 102,
     "metadata": {},
     "output_type": "execute_result"
    }
   ],
   "source": [
    "df_rhs.mean(axis=1),df_rhs.std(axis=1),df_rhs.std(axis=1)/df_rhs.mean(axis=1)"
   ]
  },
  {
   "cell_type": "code",
   "execution_count": null,
   "id": "ef91e292",
   "metadata": {},
   "outputs": [],
   "source": []
  },
  {
   "cell_type": "markdown",
   "id": "5cb868ed",
   "metadata": {},
   "source": [
    "# Variability"
   ]
  },
  {
   "cell_type": "code",
   "execution_count": 113,
   "id": "f20d7366",
   "metadata": {},
   "outputs": [],
   "source": [
    "input_path='/Users/mysee/Documents/PhD/Projects/vM1/Figures/'\n",
    "df = pd.read_csv(input_path + 'Fig_1/Rabies_Distribution/Variability/'+'variability.csv',index_col=0,sep=';')"
   ]
  },
  {
   "cell_type": "code",
   "execution_count": 114,
   "id": "e37d1145",
   "metadata": {
    "scrolled": true
   },
   "outputs": [
    {
     "data": {
      "text/html": [
       "<div>\n",
       "<style scoped>\n",
       "    .dataframe tbody tr th:only-of-type {\n",
       "        vertical-align: middle;\n",
       "    }\n",
       "\n",
       "    .dataframe tbody tr th {\n",
       "        vertical-align: top;\n",
       "    }\n",
       "\n",
       "    .dataframe thead th {\n",
       "        text-align: right;\n",
       "    }\n",
       "</style>\n",
       "<table border=\"1\" class=\"dataframe\">\n",
       "  <thead>\n",
       "    <tr style=\"text-align: right;\">\n",
       "      <th></th>\n",
       "      <th>Hem</th>\n",
       "      <th>BR</th>\n",
       "      <th>rabies_surf_area</th>\n",
       "      <th>surf_area</th>\n",
       "      <th>rabies_surf_vol</th>\n",
       "      <th>surf_vol</th>\n",
       "      <th>pia_surf_area</th>\n",
       "      <th>wm_surf_area</th>\n",
       "      <th>pca0_extent</th>\n",
       "      <th>pca1_extent</th>\n",
       "      <th>...</th>\n",
       "      <th>pca0_angle_Z_axis</th>\n",
       "      <th>pca1_angle_X_axis</th>\n",
       "      <th>pca1_angle_Y_axis</th>\n",
       "      <th>pca1_angle_Z_axis</th>\n",
       "      <th>pca2_angle_X_axis</th>\n",
       "      <th>pca2_angle_Y_axis</th>\n",
       "      <th>pca2_angle_Z_axis</th>\n",
       "      <th>Dist_From_Bregma_X</th>\n",
       "      <th>Dist_From_Bregma_Y</th>\n",
       "      <th>Dist_From_Bregma_Z</th>\n",
       "    </tr>\n",
       "    <tr>\n",
       "      <th>Exp</th>\n",
       "      <th></th>\n",
       "      <th></th>\n",
       "      <th></th>\n",
       "      <th></th>\n",
       "      <th></th>\n",
       "      <th></th>\n",
       "      <th></th>\n",
       "      <th></th>\n",
       "      <th></th>\n",
       "      <th></th>\n",
       "      <th></th>\n",
       "      <th></th>\n",
       "      <th></th>\n",
       "      <th></th>\n",
       "      <th></th>\n",
       "      <th></th>\n",
       "      <th></th>\n",
       "      <th></th>\n",
       "      <th></th>\n",
       "      <th></th>\n",
       "      <th></th>\n",
       "    </tr>\n",
       "  </thead>\n",
       "  <tbody>\n",
       "    <tr>\n",
       "      <th>MG48</th>\n",
       "      <td>lhs</td>\n",
       "      <td>vM1</td>\n",
       "      <td>3.864979e+07</td>\n",
       "      <td>5.949542e+07</td>\n",
       "      <td>9.998786e+09</td>\n",
       "      <td>2.933011e+10</td>\n",
       "      <td>3.405203e+07</td>\n",
       "      <td>7.648197e+06</td>\n",
       "      <td>5495.218316</td>\n",
       "      <td>2438.709082</td>\n",
       "      <td>...</td>\n",
       "      <td>130.450097</td>\n",
       "      <td>13.544005</td>\n",
       "      <td>76.455995</td>\n",
       "      <td>170.874873</td>\n",
       "      <td>95.607085</td>\n",
       "      <td>5.607085</td>\n",
       "      <td>41.621342</td>\n",
       "      <td>2108.854392</td>\n",
       "      <td>3243.377530</td>\n",
       "      <td>2762.964212</td>\n",
       "    </tr>\n",
       "    <tr>\n",
       "      <th>MG49</th>\n",
       "      <td>lhs</td>\n",
       "      <td>vM1</td>\n",
       "      <td>3.100946e+07</td>\n",
       "      <td>5.446138e+07</td>\n",
       "      <td>8.817117e+09</td>\n",
       "      <td>2.770998e+10</td>\n",
       "      <td>3.153497e+07</td>\n",
       "      <td>6.590995e+06</td>\n",
       "      <td>4363.242266</td>\n",
       "      <td>2817.266806</td>\n",
       "      <td>...</td>\n",
       "      <td>124.009155</td>\n",
       "      <td>2.757566</td>\n",
       "      <td>87.242434</td>\n",
       "      <td>168.582760</td>\n",
       "      <td>88.529888</td>\n",
       "      <td>1.470112</td>\n",
       "      <td>34.622195</td>\n",
       "      <td>2231.130414</td>\n",
       "      <td>3088.905952</td>\n",
       "      <td>2745.502601</td>\n",
       "    </tr>\n",
       "    <tr>\n",
       "      <th>MG50</th>\n",
       "      <td>lhs</td>\n",
       "      <td>vM1</td>\n",
       "      <td>4.487086e+07</td>\n",
       "      <td>6.644812e+07</td>\n",
       "      <td>1.073652e+10</td>\n",
       "      <td>3.424272e+10</td>\n",
       "      <td>3.756157e+07</td>\n",
       "      <td>1.037292e+07</td>\n",
       "      <td>5190.418578</td>\n",
       "      <td>3059.023762</td>\n",
       "      <td>...</td>\n",
       "      <td>125.523610</td>\n",
       "      <td>8.952160</td>\n",
       "      <td>81.047840</td>\n",
       "      <td>186.103461</td>\n",
       "      <td>102.546421</td>\n",
       "      <td>12.546421</td>\n",
       "      <td>35.552018</td>\n",
       "      <td>2210.779601</td>\n",
       "      <td>2989.982653</td>\n",
       "      <td>2677.345192</td>\n",
       "    </tr>\n",
       "    <tr>\n",
       "      <th>MG48</th>\n",
       "      <td>rhs</td>\n",
       "      <td>vM1</td>\n",
       "      <td>4.027432e+07</td>\n",
       "      <td>5.095105e+07</td>\n",
       "      <td>8.319941e+09</td>\n",
       "      <td>2.491589e+10</td>\n",
       "      <td>2.965448e+07</td>\n",
       "      <td>4.680838e+06</td>\n",
       "      <td>4566.534440</td>\n",
       "      <td>2312.278507</td>\n",
       "      <td>...</td>\n",
       "      <td>117.988712</td>\n",
       "      <td>170.214887</td>\n",
       "      <td>80.214887</td>\n",
       "      <td>8.778636</td>\n",
       "      <td>85.023098</td>\n",
       "      <td>4.976902</td>\n",
       "      <td>28.937604</td>\n",
       "      <td>2382.954455</td>\n",
       "      <td>3379.329850</td>\n",
       "      <td>2839.165783</td>\n",
       "    </tr>\n",
       "    <tr>\n",
       "      <th>MG49</th>\n",
       "      <td>rhs</td>\n",
       "      <td>vM1</td>\n",
       "      <td>2.457457e+07</td>\n",
       "      <td>4.002189e+07</td>\n",
       "      <td>8.473321e+09</td>\n",
       "      <td>1.525190e+10</td>\n",
       "      <td>1.924605e+07</td>\n",
       "      <td>4.796520e+06</td>\n",
       "      <td>3853.662749</td>\n",
       "      <td>1645.224640</td>\n",
       "      <td>...</td>\n",
       "      <td>94.926912</td>\n",
       "      <td>175.890868</td>\n",
       "      <td>85.890868</td>\n",
       "      <td>30.609510</td>\n",
       "      <td>87.485591</td>\n",
       "      <td>2.514409</td>\n",
       "      <td>2.115601</td>\n",
       "      <td>2285.709061</td>\n",
       "      <td>3883.483915</td>\n",
       "      <td>3213.812551</td>\n",
       "    </tr>\n",
       "    <tr>\n",
       "      <th>MG50</th>\n",
       "      <td>rhs</td>\n",
       "      <td>vM1</td>\n",
       "      <td>4.538989e+07</td>\n",
       "      <td>7.190225e+07</td>\n",
       "      <td>1.220956e+10</td>\n",
       "      <td>3.769797e+10</td>\n",
       "      <td>4.467729e+07</td>\n",
       "      <td>1.128978e+07</td>\n",
       "      <td>4991.162955</td>\n",
       "      <td>2963.189153</td>\n",
       "      <td>...</td>\n",
       "      <td>109.686205</td>\n",
       "      <td>166.053442</td>\n",
       "      <td>76.053442</td>\n",
       "      <td>21.252799</td>\n",
       "      <td>90.253644</td>\n",
       "      <td>0.253644</td>\n",
       "      <td>21.421980</td>\n",
       "      <td>2627.218475</td>\n",
       "      <td>2788.760230</td>\n",
       "      <td>2462.813891</td>\n",
       "    </tr>\n",
       "    <tr>\n",
       "      <th>MG48</th>\n",
       "      <td>lhs</td>\n",
       "      <td>vS1</td>\n",
       "      <td>3.517157e+07</td>\n",
       "      <td>7.991888e+07</td>\n",
       "      <td>8.765256e+09</td>\n",
       "      <td>2.227071e+10</td>\n",
       "      <td>3.345650e+07</td>\n",
       "      <td>3.569468e+07</td>\n",
       "      <td>4670.086117</td>\n",
       "      <td>3047.370760</td>\n",
       "      <td>...</td>\n",
       "      <td>125.021209</td>\n",
       "      <td>59.618737</td>\n",
       "      <td>30.381263</td>\n",
       "      <td>32.448471</td>\n",
       "      <td>160.362035</td>\n",
       "      <td>70.362035</td>\n",
       "      <td>160.158370</td>\n",
       "      <td>4810.509570</td>\n",
       "      <td>-1019.393555</td>\n",
       "      <td>3584.832360</td>\n",
       "    </tr>\n",
       "    <tr>\n",
       "      <th>MG49</th>\n",
       "      <td>lhs</td>\n",
       "      <td>vS1</td>\n",
       "      <td>3.440360e+07</td>\n",
       "      <td>5.075986e+07</td>\n",
       "      <td>7.920558e+09</td>\n",
       "      <td>2.250900e+10</td>\n",
       "      <td>1.796299e+07</td>\n",
       "      <td>9.505442e+06</td>\n",
       "      <td>3733.429637</td>\n",
       "      <td>3224.832867</td>\n",
       "      <td>...</td>\n",
       "      <td>117.787791</td>\n",
       "      <td>56.662826</td>\n",
       "      <td>33.337174</td>\n",
       "      <td>17.305465</td>\n",
       "      <td>160.358336</td>\n",
       "      <td>70.358336</td>\n",
       "      <td>138.652532</td>\n",
       "      <td>4607.222303</td>\n",
       "      <td>-290.536024</td>\n",
       "      <td>3648.417585</td>\n",
       "    </tr>\n",
       "    <tr>\n",
       "      <th>MG50</th>\n",
       "      <td>lhs</td>\n",
       "      <td>vS1</td>\n",
       "      <td>3.654979e+07</td>\n",
       "      <td>6.439866e+07</td>\n",
       "      <td>1.155127e+10</td>\n",
       "      <td>3.034522e+10</td>\n",
       "      <td>2.672434e+07</td>\n",
       "      <td>1.409410e+07</td>\n",
       "      <td>4993.667943</td>\n",
       "      <td>3630.501278</td>\n",
       "      <td>...</td>\n",
       "      <td>130.446944</td>\n",
       "      <td>52.095473</td>\n",
       "      <td>37.904527</td>\n",
       "      <td>34.382812</td>\n",
       "      <td>166.764675</td>\n",
       "      <td>76.764675</td>\n",
       "      <td>153.548737</td>\n",
       "      <td>4615.292784</td>\n",
       "      <td>-860.982242</td>\n",
       "      <td>3333.408306</td>\n",
       "    </tr>\n",
       "    <tr>\n",
       "      <th>MG48</th>\n",
       "      <td>rhs</td>\n",
       "      <td>vS1</td>\n",
       "      <td>3.642832e+07</td>\n",
       "      <td>5.875139e+07</td>\n",
       "      <td>5.389144e+09</td>\n",
       "      <td>2.025440e+10</td>\n",
       "      <td>3.147497e+07</td>\n",
       "      <td>1.746175e+07</td>\n",
       "      <td>3855.213838</td>\n",
       "      <td>2663.134437</td>\n",
       "      <td>...</td>\n",
       "      <td>110.233981</td>\n",
       "      <td>86.120410</td>\n",
       "      <td>3.879590</td>\n",
       "      <td>18.424177</td>\n",
       "      <td>5.416217</td>\n",
       "      <td>84.583783</td>\n",
       "      <td>153.978686</td>\n",
       "      <td>5369.017905</td>\n",
       "      <td>-1163.679269</td>\n",
       "      <td>5010.493602</td>\n",
       "    </tr>\n",
       "    <tr>\n",
       "      <th>MG49</th>\n",
       "      <td>rhs</td>\n",
       "      <td>vS1</td>\n",
       "      <td>7.360863e+06</td>\n",
       "      <td>8.591115e+06</td>\n",
       "      <td>9.787589e+08</td>\n",
       "      <td>1.421633e+09</td>\n",
       "      <td>1.872575e+06</td>\n",
       "      <td>6.059152e+05</td>\n",
       "      <td>1631.573866</td>\n",
       "      <td>1442.449528</td>\n",
       "      <td>...</td>\n",
       "      <td>121.481232</td>\n",
       "      <td>101.552473</td>\n",
       "      <td>11.552473</td>\n",
       "      <td>7.722050</td>\n",
       "      <td>0.068894</td>\n",
       "      <td>89.931106</td>\n",
       "      <td>136.819901</td>\n",
       "      <td>5290.379033</td>\n",
       "      <td>-1274.961181</td>\n",
       "      <td>6123.180491</td>\n",
       "    </tr>\n",
       "    <tr>\n",
       "      <th>MG50</th>\n",
       "      <td>rhs</td>\n",
       "      <td>vS1</td>\n",
       "      <td>2.953847e+07</td>\n",
       "      <td>6.121407e+07</td>\n",
       "      <td>6.540527e+09</td>\n",
       "      <td>2.753162e+10</td>\n",
       "      <td>2.593566e+07</td>\n",
       "      <td>1.260094e+07</td>\n",
       "      <td>5237.160116</td>\n",
       "      <td>3096.969710</td>\n",
       "      <td>...</td>\n",
       "      <td>74.921986</td>\n",
       "      <td>110.241371</td>\n",
       "      <td>20.241371</td>\n",
       "      <td>-13.800000</td>\n",
       "      <td>20.395848</td>\n",
       "      <td>69.604152</td>\n",
       "      <td>181.236915</td>\n",
       "      <td>5196.967151</td>\n",
       "      <td>-685.370806</td>\n",
       "      <td>5292.105781</td>\n",
       "    </tr>\n",
       "  </tbody>\n",
       "</table>\n",
       "<p>12 rows × 23 columns</p>\n",
       "</div>"
      ],
      "text/plain": [
       "      Hem   BR  rabies_surf_area     surf_area  rabies_surf_vol      surf_vol  \\\n",
       "Exp                                                                             \n",
       "MG48  lhs  vM1      3.864979e+07  5.949542e+07     9.998786e+09  2.933011e+10   \n",
       "MG49  lhs  vM1      3.100946e+07  5.446138e+07     8.817117e+09  2.770998e+10   \n",
       "MG50  lhs  vM1      4.487086e+07  6.644812e+07     1.073652e+10  3.424272e+10   \n",
       "MG48  rhs  vM1      4.027432e+07  5.095105e+07     8.319941e+09  2.491589e+10   \n",
       "MG49  rhs  vM1      2.457457e+07  4.002189e+07     8.473321e+09  1.525190e+10   \n",
       "MG50  rhs  vM1      4.538989e+07  7.190225e+07     1.220956e+10  3.769797e+10   \n",
       "MG48  lhs  vS1      3.517157e+07  7.991888e+07     8.765256e+09  2.227071e+10   \n",
       "MG49  lhs  vS1      3.440360e+07  5.075986e+07     7.920558e+09  2.250900e+10   \n",
       "MG50  lhs  vS1      3.654979e+07  6.439866e+07     1.155127e+10  3.034522e+10   \n",
       "MG48  rhs  vS1      3.642832e+07  5.875139e+07     5.389144e+09  2.025440e+10   \n",
       "MG49  rhs  vS1      7.360863e+06  8.591115e+06     9.787589e+08  1.421633e+09   \n",
       "MG50  rhs  vS1      2.953847e+07  6.121407e+07     6.540527e+09  2.753162e+10   \n",
       "\n",
       "      pia_surf_area  wm_surf_area  pca0_extent  pca1_extent  ...  \\\n",
       "Exp                                                          ...   \n",
       "MG48   3.405203e+07  7.648197e+06  5495.218316  2438.709082  ...   \n",
       "MG49   3.153497e+07  6.590995e+06  4363.242266  2817.266806  ...   \n",
       "MG50   3.756157e+07  1.037292e+07  5190.418578  3059.023762  ...   \n",
       "MG48   2.965448e+07  4.680838e+06  4566.534440  2312.278507  ...   \n",
       "MG49   1.924605e+07  4.796520e+06  3853.662749  1645.224640  ...   \n",
       "MG50   4.467729e+07  1.128978e+07  4991.162955  2963.189153  ...   \n",
       "MG48   3.345650e+07  3.569468e+07  4670.086117  3047.370760  ...   \n",
       "MG49   1.796299e+07  9.505442e+06  3733.429637  3224.832867  ...   \n",
       "MG50   2.672434e+07  1.409410e+07  4993.667943  3630.501278  ...   \n",
       "MG48   3.147497e+07  1.746175e+07  3855.213838  2663.134437  ...   \n",
       "MG49   1.872575e+06  6.059152e+05  1631.573866  1442.449528  ...   \n",
       "MG50   2.593566e+07  1.260094e+07  5237.160116  3096.969710  ...   \n",
       "\n",
       "      pca0_angle_Z_axis  pca1_angle_X_axis  pca1_angle_Y_axis  \\\n",
       "Exp                                                             \n",
       "MG48         130.450097          13.544005          76.455995   \n",
       "MG49         124.009155           2.757566          87.242434   \n",
       "MG50         125.523610           8.952160          81.047840   \n",
       "MG48         117.988712         170.214887          80.214887   \n",
       "MG49          94.926912         175.890868          85.890868   \n",
       "MG50         109.686205         166.053442          76.053442   \n",
       "MG48         125.021209          59.618737          30.381263   \n",
       "MG49         117.787791          56.662826          33.337174   \n",
       "MG50         130.446944          52.095473          37.904527   \n",
       "MG48         110.233981          86.120410           3.879590   \n",
       "MG49         121.481232         101.552473          11.552473   \n",
       "MG50          74.921986         110.241371          20.241371   \n",
       "\n",
       "      pca1_angle_Z_axis  pca2_angle_X_axis  pca2_angle_Y_axis  \\\n",
       "Exp                                                             \n",
       "MG48         170.874873          95.607085           5.607085   \n",
       "MG49         168.582760          88.529888           1.470112   \n",
       "MG50         186.103461         102.546421          12.546421   \n",
       "MG48           8.778636          85.023098           4.976902   \n",
       "MG49          30.609510          87.485591           2.514409   \n",
       "MG50          21.252799          90.253644           0.253644   \n",
       "MG48          32.448471         160.362035          70.362035   \n",
       "MG49          17.305465         160.358336          70.358336   \n",
       "MG50          34.382812         166.764675          76.764675   \n",
       "MG48          18.424177           5.416217          84.583783   \n",
       "MG49           7.722050           0.068894          89.931106   \n",
       "MG50         -13.800000          20.395848          69.604152   \n",
       "\n",
       "      pca2_angle_Z_axis  Dist_From_Bregma_X  Dist_From_Bregma_Y  \\\n",
       "Exp                                                               \n",
       "MG48          41.621342         2108.854392         3243.377530   \n",
       "MG49          34.622195         2231.130414         3088.905952   \n",
       "MG50          35.552018         2210.779601         2989.982653   \n",
       "MG48          28.937604         2382.954455         3379.329850   \n",
       "MG49           2.115601         2285.709061         3883.483915   \n",
       "MG50          21.421980         2627.218475         2788.760230   \n",
       "MG48         160.158370         4810.509570        -1019.393555   \n",
       "MG49         138.652532         4607.222303         -290.536024   \n",
       "MG50         153.548737         4615.292784         -860.982242   \n",
       "MG48         153.978686         5369.017905        -1163.679269   \n",
       "MG49         136.819901         5290.379033        -1274.961181   \n",
       "MG50         181.236915         5196.967151         -685.370806   \n",
       "\n",
       "      Dist_From_Bregma_Z  \n",
       "Exp                       \n",
       "MG48         2762.964212  \n",
       "MG49         2745.502601  \n",
       "MG50         2677.345192  \n",
       "MG48         2839.165783  \n",
       "MG49         3213.812551  \n",
       "MG50         2462.813891  \n",
       "MG48         3584.832360  \n",
       "MG49         3648.417585  \n",
       "MG50         3333.408306  \n",
       "MG48         5010.493602  \n",
       "MG49         6123.180491  \n",
       "MG50         5292.105781  \n",
       "\n",
       "[12 rows x 23 columns]"
      ]
     },
     "execution_count": 114,
     "metadata": {},
     "output_type": "execute_result"
    }
   ],
   "source": [
    "df"
   ]
  },
  {
   "cell_type": "code",
   "execution_count": 120,
   "id": "0f4d0f39",
   "metadata": {
    "scrolled": false
   },
   "outputs": [],
   "source": [
    "# surf areas and volumes\n",
    "df_lhs_vm1 = df[((df['Hem']=='lhs') & (df['BR']=='vM1'))]\n",
    "df_rhs_vm1 = df[((df['Hem']=='rhs') & (df['BR']=='vM1'))]\n",
    "df_lhs_vs1 = df[((df['Hem']=='lhs') & (df['BR']=='vS1'))]\n",
    "df_rhs_vs1 = df[((df['Hem']=='rhs') & (df['BR']=='vS1'))]"
   ]
  },
  {
   "cell_type": "code",
   "execution_count": 106,
   "id": "04341233",
   "metadata": {
    "scrolled": true
   },
   "outputs": [
    {
     "data": {
      "image/png": "[encoded data removed]",
      "text/plain": [
       "<Figure size 566.929x330.709 with 2 Axes>"
      ]
     },
     "metadata": {
      "needs_background": "light"
     },
     "output_type": "display_data"
    }
   ],
   "source": [
    "\n",
    "surf_areas = [df_lhs_vm1['surf_area'].values,df_rhs_vm1['surf_area'].values,df_lhs_vs1['surf_area'].values,df_rhs_vs1['surf_area'].values]\n",
    "pia_areas = [df_lhs_vm1['pia_surf_area'].values,df_rhs_vm1['pia_surf_area'].values,df_lhs_vs1['pia_surf_area'].values,df_rhs_vs1['pia_surf_area'].values]\n",
    "wm_areas = [df_lhs_vm1['wm_surf_area'].values,df_rhs_vm1['wm_surf_area'].values,df_lhs_vs1['wm_surf_area'].values,df_rhs_vs1['wm_surf_area'].values]\n",
    "\n",
    "\n",
    "fig, axes = plt.subplots(nrows=1,ncols=2, sharex=True,sharey=True,figsize=(12*cm,7*cm),dpi=120)\n",
    "b1 = axes[0].boxplot(surf_areas)\n",
    "eb1 = axes[0].errorbar(x=[1,2,3,4],y=np.array(surf_areas).mean(axis=1),yerr=np.array(surf_areas).std(axis=1),\\\n",
    "             color='blue',marker='.',fmt='.')\n",
    "b2 = axes[1].boxplot(pia_areas)\n",
    "eb2 = axes[1].errorbar(x=[1,2,3,4],y=np.array(pia_areas).mean(axis=1),yerr=np.array(pia_areas).std(axis=1),\\\n",
    "             color='blue',marker='.',fmt='.')\n",
    "#b3 = axes[2].boxplot(wm_areas)\n",
    "#eb3 = axes[2].errorbar(x=[1,2,3,4],y=np.array(wm_areas).mean(axis=1),yerr=np.array(wm_areas).std(axis=1),\\\n",
    "#             color='blue',marker='.',fmt='.')\n",
    "#b4 = axes[3].boxplot(surf_vols)\n",
    "\n",
    "plt.setp(b1['boxes'], color='black')\n",
    "plt.setp(b1['whiskers'], color='black')\n",
    "plt.setp(b1['medians'], color='black')\n",
    "plt.setp(b1['caps'], color='black')\n",
    "plt.setp(b2['boxes'], color='black')\n",
    "plt.setp(b2['whiskers'], color='black')\n",
    "plt.setp(b2['medians'], color='black')\n",
    "plt.setp(b2['caps'], color='black')\n",
    "#plt.setp(b3['boxes'], color='black')\n",
    "#plt.setp(b3['whiskers'], color='black')\n",
    "#plt.setp(b3['medians'], color='black')\n",
    "#plt.setp(b3['caps'], color='black')\n",
    "\n",
    "fig.savefig(input_path + 'Fig_1/Rabies_Distribution/variability/surf_areas.eps')"
   ]
  },
  {
   "cell_type": "code",
   "execution_count": 136,
   "id": "83da876f",
   "metadata": {},
   "outputs": [
    {
     "data": {
      "text/plain": [
       "[array([34052026.93275076, 31534973.0764531 , 37561573.11399295]),\n",
       " array([29654479.14723352, 19246054.16929449, 44677287.09167311]),\n",
       " array([33456498.92602595, 17962988.68771008, 26724336.97520298]),\n",
       " array([31474974.9543282 ,  1872575.08959188, 25935659.73541536])]"
      ]
     },
     "execution_count": 136,
     "metadata": {},
     "output_type": "execute_result"
    }
   ],
   "source": [
    "pia_areas"
   ]
  },
  {
   "cell_type": "code",
   "execution_count": 107,
   "id": "5ef797a4",
   "metadata": {},
   "outputs": [
    {
     "data": {
      "text/plain": [
       "(array([60134974.32372921, 54291731.92702731, 65025796.55837191,\n",
       "        42852192.23701403]),\n",
       " array([ 4914419.41713892, 13227734.75623022, 11912375.74921831,\n",
       "        24247092.5934162 ]),\n",
       " array([0.08172315, 0.24364179, 0.18319461, 0.56583086]))"
      ]
     },
     "execution_count": 107,
     "metadata": {},
     "output_type": "execute_result"
    }
   ],
   "source": [
    "np.array(surf_areas).mean(axis=1),np.array(surf_areas).std(axis=1),np.array(surf_areas).std(axis=1)/np.array(surf_areas).mean(axis=1)"
   ]
  },
  {
   "cell_type": "code",
   "execution_count": 108,
   "id": "26a9bbf6",
   "metadata": {},
   "outputs": [
    {
     "data": {
      "text/plain": [
       "(array([34382857.70773227, 31192606.80273371, 26047941.52964634,\n",
       "        19761069.92644515]),\n",
       " array([ 2471445.42786537, 10439070.18533514,  6343256.15517651,\n",
       "        12849635.24565877]),\n",
       " array([0.07188016, 0.33466489, 0.24352236, 0.65024998]))"
      ]
     },
     "execution_count": 108,
     "metadata": {},
     "output_type": "execute_result"
    }
   ],
   "source": [
    "np.array(pia_areas).mean(axis=1),np.array(pia_areas).std(axis=1),np.array(pia_areas).std(axis=1)/np.array(pia_areas).mean(axis=1)"
   ]
  },
  {
   "cell_type": "code",
   "execution_count": 109,
   "id": "39a6622b",
   "metadata": {
    "scrolled": true
   },
   "outputs": [
    {
     "data": {
      "text/plain": [
       "(array([ 8204036.0609121 ,  6922380.77612065, 19764739.79579503,\n",
       "        10222870.92297374]),\n",
       " array([ 1593203.8704809 ,  3088582.06154907, 11418876.31084508,\n",
       "         7083843.11825806]),\n",
       " array([0.19419757, 0.44617338, 0.57773977, 0.69294068]))"
      ]
     },
     "execution_count": 109,
     "metadata": {},
     "output_type": "execute_result"
    }
   ],
   "source": [
    "np.array(wm_areas).mean(axis=1),np.array(wm_areas).std(axis=1),np.array(wm_areas).std(axis=1)/np.array(wm_areas).mean(axis=1)"
   ]
  },
  {
   "cell_type": "code",
   "execution_count": 110,
   "id": "a0538271",
   "metadata": {
    "scrolled": false
   },
   "outputs": [
    {
     "data": {
      "image/png": "[encoded data removed]",
      "text/plain": [
       "<Figure size 283.465x330.709 with 1 Axes>"
      ]
     },
     "metadata": {
      "needs_background": "light"
     },
     "output_type": "display_data"
    }
   ],
   "source": [
    "surf_vols = [df_lhs_vm1['surf_vol'].values,df_rhs_vm1['surf_vol'].values,df_lhs_vs1['surf_vol'].values,df_rhs_vs1['surf_vol'].values]\n",
    "\n",
    "fig, axes = plt.subplots(nrows=1,ncols=1, sharex=True,sharey=True,figsize=(6*cm,7*cm),dpi=120)\n",
    "b1 = axes.boxplot(surf_vols)\n",
    "#print(b1)\n",
    "eb = axes.errorbar(x=[1,2,3,4],y=np.array(surf_vols).mean(axis=1),yerr=np.array(surf_vols).std(axis=1),\\\n",
    "             color='blue',marker='.',fmt='.')\n",
    "plt.setp(b1['boxes'], color='black')\n",
    "plt.setp(b1['whiskers'], color='black')\n",
    "plt.setp(b1['medians'], color='black')\n",
    "plt.setp(b1['caps'], color='black')\n",
    "plt.tight_layout()\n",
    "fig.savefig(input_path + 'Fig_1/Rabies_Distribution/variability/surf_vols.eps')"
   ]
  },
  {
   "cell_type": "code",
   "execution_count": 111,
   "id": "2d6a96be",
   "metadata": {},
   "outputs": [
    {
     "data": {
      "text/plain": [
       "(array([3.04276071e+10, 2.59552539e+10, 2.50416434e+10, 1.64025540e+10]),\n",
       " array([2.77759451e+09, 9.19299494e+09, 3.75145557e+09, 1.10018323e+10]),\n",
       " array([0.09128534, 0.35418628, 0.14980868, 0.67073898]))"
      ]
     },
     "execution_count": 111,
     "metadata": {},
     "output_type": "execute_result"
    }
   ],
   "source": [
    "np.array(surf_vols).mean(axis=1),np.array(surf_vols).std(axis=1),np.array(surf_vols).std(axis=1)/np.array(surf_vols).mean(axis=1)"
   ]
  },
  {
   "cell_type": "code",
   "execution_count": 115,
   "id": "c4ec7743",
   "metadata": {
    "scrolled": true
   },
   "outputs": [
    {
     "name": "stderr",
     "output_type": "stream",
     "text": [
      "/var/folders/gj/gf0lslx93p90wf8h0h6z01qm0000gn/T/ipykernel_70072/3960730409.py:7: UserWarning: marker is redundantly defined by the 'marker' keyword argument and the fmt string \".\" (-> marker='.'). The keyword argument will take precedence.\n",
      "  eb1 = axes[0].errorbar(x=[1,2,3,4],y=np.array(pca0_extent).mean(axis=1),yerr=np.array(pca0_extent).std(axis=1),\\\n",
      "/var/folders/gj/gf0lslx93p90wf8h0h6z01qm0000gn/T/ipykernel_70072/3960730409.py:10: UserWarning: marker is redundantly defined by the 'marker' keyword argument and the fmt string \".\" (-> marker='.'). The keyword argument will take precedence.\n",
      "  eb2 = axes[1].errorbar(x=[1,2,3,4],y=np.array(pca1_extent).mean(axis=1),yerr=np.array(pca1_extent).std(axis=1),\\\n",
      "/var/folders/gj/gf0lslx93p90wf8h0h6z01qm0000gn/T/ipykernel_70072/3960730409.py:13: UserWarning: marker is redundantly defined by the 'marker' keyword argument and the fmt string \".\" (-> marker='.'). The keyword argument will take precedence.\n",
      "  eb3 = axes[2].errorbar(x=[1,2,3,4],y=np.array(pca2_extent).mean(axis=1),yerr=np.array(pca2_extent).std(axis=1),\\\n"
     ]
    },
    {
     "data": {
      "image/png": "[encoded data removed]",
      "text/plain": [
       "<Figure size 850.394x330.709 with 3 Axes>"
      ]
     },
     "metadata": {
      "needs_background": "light"
     },
     "output_type": "display_data"
    }
   ],
   "source": [
    "pca0_extent = [df_lhs_vm1['pca0_extent'].values,df_rhs_vm1['pca0_extent'].values,df_lhs_vs1['pca0_extent'].values,df_rhs_vs1['pca0_extent'].values]\n",
    "pca1_extent = [df_lhs_vm1['pca1_extent'].values,df_rhs_vm1['pca1_extent'].values,df_lhs_vs1['pca1_extent'].values,df_rhs_vs1['pca1_extent'].values]\n",
    "pca2_extent = [df_lhs_vm1['pca2_extent'].values,df_rhs_vm1['pca2_extent'].values,df_lhs_vs1['pca2_extent'].values,df_rhs_vs1['pca2_extent'].values]\n",
    "\n",
    "fig, axes = plt.subplots(nrows=1,ncols=3, sharex=True,sharey=True,figsize=(18*cm,7*cm),dpi=120)\n",
    "b1 = axes[0].boxplot(pca0_extent)\n",
    "eb1 = axes[0].errorbar(x=[1,2,3,4],y=np.array(pca0_extent).mean(axis=1),yerr=np.array(pca0_extent).std(axis=1),\\\n",
    "             color='blue',marker='.',fmt='.')\n",
    "b2 = axes[1].boxplot(pca1_extent)\n",
    "eb2 = axes[1].errorbar(x=[1,2,3,4],y=np.array(pca1_extent).mean(axis=1),yerr=np.array(pca1_extent).std(axis=1),\\\n",
    "             color='blue',marker='.',fmt='.')\n",
    "b3 = axes[2].boxplot(pca2_extent)\n",
    "eb3 = axes[2].errorbar(x=[1,2,3,4],y=np.array(pca2_extent).mean(axis=1),yerr=np.array(pca2_extent).std(axis=1),\\\n",
    "             color='blue',marker='.',fmt='.')\n",
    "\n",
    "plt.setp(b1['boxes'], color='black')\n",
    "plt.setp(b1['whiskers'], color='black')\n",
    "plt.setp(b1['medians'], color='black')\n",
    "plt.setp(b1['caps'], color='black')\n",
    "plt.setp(b2['boxes'], color='black')\n",
    "plt.setp(b2['whiskers'], color='black')\n",
    "plt.setp(b2['medians'], color='black')\n",
    "plt.setp(b2['caps'], color='black')\n",
    "plt.setp(b3['boxes'], color='black')\n",
    "plt.setp(b3['whiskers'], color='black')\n",
    "plt.setp(b3['medians'], color='black')\n",
    "plt.setp(b3['caps'], color='black')\n",
    "plt.tight_layout()\n",
    "fig.savefig(input_path + 'Fig_1/Rabies_Distribution/variability/pca_extents.eps')"
   ]
  },
  {
   "cell_type": "code",
   "execution_count": 116,
   "id": "7d0729e4",
   "metadata": {},
   "outputs": [
    {
     "data": {
      "text/plain": [
       "(array([5016.2930534 , 4470.45338165, 4465.72789911, 3574.64927344]),\n",
       " array([ 478.24834437,  469.32601095,  534.39801517, 1485.28345369]),\n",
       " array([0.095339  , 0.10498399, 0.1196665 , 0.41550467]))"
      ]
     },
     "execution_count": 116,
     "metadata": {},
     "output_type": "execute_result"
    }
   ],
   "source": [
    "np.array(pca0_extent).mean(axis=1),np.array(pca0_extent).std(axis=1),np.array(pca0_extent).std(axis=1)/np.array(pca0_extent).mean(axis=1)"
   ]
  },
  {
   "cell_type": "code",
   "execution_count": 117,
   "id": "b08954d1",
   "metadata": {},
   "outputs": [
    {
     "data": {
      "text/plain": [
       "(array([2771.6665499 , 2306.89743336, 3300.90163484, 2400.85122542]),\n",
       " array([255.28691462, 538.07021295, 244.06302915, 700.4539579 ]),\n",
       " array([0.09210593, 0.2332441 , 0.07393829, 0.29175234]))"
      ]
     },
     "execution_count": 117,
     "metadata": {},
     "output_type": "execute_result"
    }
   ],
   "source": [
    "np.array(pca1_extent).mean(axis=1),np.array(pca1_extent).std(axis=1),np.array(pca1_extent).std(axis=1)/np.array(pca1_extent).mean(axis=1)"
   ]
  },
  {
   "cell_type": "code",
   "execution_count": 118,
   "id": "47b81417",
   "metadata": {},
   "outputs": [
    {
     "data": {
      "text/plain": [
       "(array([2692.52605639, 2772.80077258, 1771.99340483, 1329.11796089]),\n",
       " array([172.5738613 , 169.59636646,  26.36089975, 588.59135003]),\n",
       " array([0.06409366, 0.06116428, 0.01487641, 0.44284358]))"
      ]
     },
     "execution_count": 118,
     "metadata": {},
     "output_type": "execute_result"
    }
   ],
   "source": [
    "np.array(pca2_extent).mean(axis=1),np.array(pca2_extent).std(axis=1),np.array(pca2_extent).std(axis=1)/np.array(pca2_extent).mean(axis=1)"
   ]
  },
  {
   "cell_type": "code",
   "execution_count": 121,
   "id": "614aa95d",
   "metadata": {
    "scrolled": true
   },
   "outputs": [
    {
     "name": "stderr",
     "output_type": "stream",
     "text": [
      "/var/folders/gj/gf0lslx93p90wf8h0h6z01qm0000gn/T/ipykernel_70072/1962991374.py:13: UserWarning: marker is redundantly defined by the 'marker' keyword argument and the fmt string \".\" (-> marker='.'). The keyword argument will take precedence.\n",
      "  eb1 =axes[0].errorbar(x=[1,2,3,4],y=np.array(pca0_angle_X_axis).mean(axis=1),yerr=np.array(pca0_angle_X_axis).std(axis=1),\\\n",
      "/var/folders/gj/gf0lslx93p90wf8h0h6z01qm0000gn/T/ipykernel_70072/1962991374.py:16: UserWarning: marker is redundantly defined by the 'marker' keyword argument and the fmt string \".\" (-> marker='.'). The keyword argument will take precedence.\n",
      "  eb2 =axes[1].errorbar(x=[1,2,3,4],y=np.array(pca0_angle_Z_axis).mean(axis=1),yerr=np.array(pca0_angle_Z_axis).std(axis=1),\\\n",
      "/var/folders/gj/gf0lslx93p90wf8h0h6z01qm0000gn/T/ipykernel_70072/1962991374.py:19: UserWarning: marker is redundantly defined by the 'marker' keyword argument and the fmt string \".\" (-> marker='.'). The keyword argument will take precedence.\n",
      "  eb3 = axes[2].errorbar(x=[1,2,3,4],y=np.array(pca1_angle_X_axis).mean(axis=1),yerr=np.array(pca1_angle_X_axis).std(axis=1),\\\n",
      "/var/folders/gj/gf0lslx93p90wf8h0h6z01qm0000gn/T/ipykernel_70072/1962991374.py:22: UserWarning: marker is redundantly defined by the 'marker' keyword argument and the fmt string \".\" (-> marker='.'). The keyword argument will take precedence.\n",
      "  eb4 = axes[3].errorbar(x=[1,2,3,4],y=np.array(pca1_angle_Z_axis).mean(axis=1),yerr=np.array(pca1_angle_Z_axis).std(axis=1),\\\n",
      "/var/folders/gj/gf0lslx93p90wf8h0h6z01qm0000gn/T/ipykernel_70072/1962991374.py:25: UserWarning: marker is redundantly defined by the 'marker' keyword argument and the fmt string \".\" (-> marker='.'). The keyword argument will take precedence.\n",
      "  eb5 = axes[4].errorbar(x=[1,2,3,4],y=np.array(pca2_angle_X_axis).mean(axis=1),yerr=np.array(pca2_angle_X_axis).std(axis=1),\\\n",
      "/var/folders/gj/gf0lslx93p90wf8h0h6z01qm0000gn/T/ipykernel_70072/1962991374.py:28: UserWarning: marker is redundantly defined by the 'marker' keyword argument and the fmt string \".\" (-> marker='.'). The keyword argument will take precedence.\n",
      "  eb6 = axes[5].errorbar(x=[1,2,3,4],y=np.array(pca2_angle_Z_axis).mean(axis=1),yerr=np.array(pca2_angle_Z_axis).std(axis=1),\\\n"
     ]
    },
    {
     "data": {
      "image/png": "[encoded data removed]",
      "text/plain": [
       "<Figure size 850.394x330.709 with 6 Axes>"
      ]
     },
     "metadata": {
      "needs_background": "light"
     },
     "output_type": "display_data"
    }
   ],
   "source": [
    "pca0_angle_X_axis = [df_lhs_vm1['pca0_angle_X_axis'].values,df_rhs_vm1['pca0_angle_X_axis'].values,df_lhs_vs1['pca0_angle_X_axis'].values,df_rhs_vs1['pca0_angle_X_axis'].values]\n",
    "#pca0_angle_Y_axis = [df_lhs_vm1['pca0_angle_Y_axis'].values,df_rhs_vm1['pca0_angle_Y_axis'].values,df_lhs_vs1['pca0_angle_Y_axis'].values,df_rhs_vs1['pca0_angle_Y_axis'].values]\n",
    "pca0_angle_Z_axis = [df_lhs_vm1['pca0_angle_Z_axis'].values,df_rhs_vm1['pca0_angle_Z_axis'].values,df_lhs_vs1['pca0_angle_Z_axis'].values,df_rhs_vs1['pca0_angle_Z_axis'].values]\n",
    "pca1_angle_X_axis = [df_lhs_vm1['pca1_angle_X_axis'].values,df_rhs_vm1['pca1_angle_X_axis'].values,df_lhs_vs1['pca1_angle_X_axis'].values,df_rhs_vs1['pca1_angle_X_axis'].values]\n",
    "#pca0_angle_Y_axis = [df_lhs_vm1['pca0_angle_Y_axis'].values,df_rhs_vm1['pca0_angle_Y_axis'].values,df_lhs_vs1['pca0_angle_Y_axis'].values,df_rhs_vs1['pca0_angle_Y_axis'].values]\n",
    "pca1_angle_Z_axis = [df_lhs_vm1['pca1_angle_Z_axis'].values,df_rhs_vm1['pca1_angle_Z_axis'].values,df_lhs_vs1['pca1_angle_Z_axis'].values,df_rhs_vs1['pca1_angle_Z_axis'].values]\n",
    "pca2_angle_X_axis = [df_lhs_vm1['pca2_angle_X_axis'].values,df_rhs_vm1['pca2_angle_X_axis'].values,df_lhs_vs1['pca2_angle_X_axis'].values,df_rhs_vs1['pca2_angle_X_axis'].values]\n",
    "#pca0_angle_Y_axis = [df_lhs_vm1['pca0_angle_Y_axis'].values,df_rhs_vm1['pca0_angle_Y_axis'].values,df_lhs_vs1['pca0_angle_Y_axis'].values,df_rhs_vs1['pca0_angle_Y_axis'].values]\n",
    "pca2_angle_Z_axis = [df_lhs_vm1['pca2_angle_Z_axis'].values,df_rhs_vm1['pca2_angle_Z_axis'].values,df_lhs_vs1['pca2_angle_Z_axis'].values,df_rhs_vs1['pca2_angle_Z_axis'].values]\n",
    "\n",
    "fig, axes = plt.subplots(nrows=1,ncols=6, sharex=True,sharey=True,figsize=(18*cm,7*cm),dpi=120)\n",
    "b1 = axes[0].boxplot(pca0_angle_X_axis)\n",
    "eb1 =axes[0].errorbar(x=[1,2,3,4],y=np.array(pca0_angle_X_axis).mean(axis=1),yerr=np.array(pca0_angle_X_axis).std(axis=1),\\\n",
    "             color='blue',marker='.',fmt='.')\n",
    "b2 = axes[1].boxplot(pca0_angle_Z_axis)\n",
    "eb2 =axes[1].errorbar(x=[1,2,3,4],y=np.array(pca0_angle_Z_axis).mean(axis=1),yerr=np.array(pca0_angle_Z_axis).std(axis=1),\\\n",
    "             color='blue',marker='.',fmt='.')\n",
    "b3 = axes[2].boxplot(pca1_angle_X_axis)\n",
    "eb3 = axes[2].errorbar(x=[1,2,3,4],y=np.array(pca1_angle_X_axis).mean(axis=1),yerr=np.array(pca1_angle_X_axis).std(axis=1),\\\n",
    "             color='blue',marker='.',fmt='.')\n",
    "b4 = axes[3].boxplot(pca1_angle_Z_axis)\n",
    "eb4 = axes[3].errorbar(x=[1,2,3,4],y=np.array(pca1_angle_Z_axis).mean(axis=1),yerr=np.array(pca1_angle_Z_axis).std(axis=1),\\\n",
    "             color='blue',marker='.',fmt='.')\n",
    "b5 = axes[4].boxplot(pca2_angle_X_axis)\n",
    "eb5 = axes[4].errorbar(x=[1,2,3,4],y=np.array(pca2_angle_X_axis).mean(axis=1),yerr=np.array(pca2_angle_X_axis).std(axis=1),\\\n",
    "             color='blue',marker='.',fmt='.')\n",
    "b6 = axes[5].boxplot(pca2_angle_Z_axis)\n",
    "eb6 = axes[5].errorbar(x=[1,2,3,4],y=np.array(pca2_angle_Z_axis).mean(axis=1),yerr=np.array(pca2_angle_Z_axis).std(axis=1),\\\n",
    "             color='blue',marker='.',fmt='.')\n",
    "\n",
    "plt.setp(b1['boxes'], color='black')\n",
    "plt.setp(b1['whiskers'], color='black')\n",
    "plt.setp(b1['medians'], color='black')\n",
    "plt.setp(b1['caps'], color='black')\n",
    "plt.setp(b2['boxes'], color='black')\n",
    "plt.setp(b2['whiskers'], color='black')\n",
    "plt.setp(b2['medians'], color='black')\n",
    "plt.setp(b2['caps'], color='black')\n",
    "plt.setp(b3['boxes'], color='black')\n",
    "plt.setp(b3['whiskers'], color='black')\n",
    "plt.setp(b3['medians'], color='black')\n",
    "plt.setp(b3['caps'], color='black')\n",
    "plt.setp(b4['boxes'], color='black')\n",
    "plt.setp(b4['whiskers'], color='black')\n",
    "plt.setp(b4['medians'], color='black')\n",
    "plt.setp(b4['caps'], color='black')\n",
    "plt.setp(b5['boxes'], color='black')\n",
    "plt.setp(b5['whiskers'], color='black')\n",
    "plt.setp(b5['medians'], color='black')\n",
    "plt.setp(b5['caps'], color='black')\n",
    "plt.setp(b6['boxes'], color='black')\n",
    "plt.setp(b6['whiskers'], color='black')\n",
    "plt.setp(b6['medians'], color='black')\n",
    "plt.setp(b6['caps'], color='black')\n",
    "plt.tight_layout()\n",
    "fig.savefig(input_path + 'Fig_1/Rabies_Distribution/variability/pca_orientations.eps')"
   ]
  },
  {
   "cell_type": "code",
   "execution_count": 63,
   "id": "0e589859",
   "metadata": {},
   "outputs": [
    {
     "data": {
      "text/plain": [
       "array([153.97868583, 136.81990118,   1.23691486])"
      ]
     },
     "execution_count": 63,
     "metadata": {},
     "output_type": "execute_result"
    }
   ],
   "source": [
    "df_rhs_vs1['pca2_angle_Z_axis'].values"
   ]
  },
  {
   "cell_type": "code",
   "execution_count": 66,
   "id": "430e0276",
   "metadata": {},
   "outputs": [
    {
     "data": {
      "text/plain": [
       "(157.33333333333334, 18.116904322268255, 0.11514981560763721)"
      ]
     },
     "execution_count": 66,
     "metadata": {},
     "output_type": "execute_result"
    }
   ],
   "source": [
    "np.array([154,137,181]).mean(),np.array([154,137,181]).std(),np.array([154,137,181]).std()/np.array([154,137,181]).mean()"
   ]
  },
  {
   "cell_type": "code",
   "execution_count": 60,
   "id": "7a672971",
   "metadata": {},
   "outputs": [
    {
     "data": {
      "text/plain": [
       "array([ 18.4241768 ,   7.72204996, 166.21206472])"
      ]
     },
     "execution_count": 60,
     "metadata": {},
     "output_type": "execute_result"
    }
   ],
   "source": [
    "df_rhs_vs1['pca1_angle_Z_axis'].values"
   ]
  },
  {
   "cell_type": "code",
   "execution_count": 62,
   "id": "dc595d7b",
   "metadata": {},
   "outputs": [
    {
     "data": {
      "text/plain": [
       "(4.0, 13.366625103842281, 3.3416562759605704)"
      ]
     },
     "execution_count": 62,
     "metadata": {},
     "output_type": "execute_result"
    }
   ],
   "source": [
    "np.array([18,8,-14]).mean(),np.array([18,8,-14]).std(),np.array([18,8,-14]).std()/np.array([18,8,-14]).mean()"
   ]
  },
  {
   "cell_type": "code",
   "execution_count": 53,
   "id": "0a4a682d",
   "metadata": {},
   "outputs": [
    {
     "data": {
      "text/plain": [
       "array([13.54400522,  2.75756613,  8.95215973])"
      ]
     },
     "execution_count": 53,
     "metadata": {},
     "output_type": "execute_result"
    }
   ],
   "source": [
    "df_lhs_vm1['pca1_angle_X_axis'].values"
   ]
  },
  {
   "cell_type": "code",
   "execution_count": 55,
   "id": "7fd65fef",
   "metadata": {},
   "outputs": [
    {
     "data": {
      "text/plain": [
       "array([144.83176086,  16.16559246, 174.54857299])"
      ]
     },
     "execution_count": 55,
     "metadata": {},
     "output_type": "execute_result"
    }
   ],
   "source": [
    "df_rhs_vs1['pca0_angle_X_axis'].values"
   ]
  },
  {
   "cell_type": "code",
   "execution_count": 67,
   "id": "1b12e2e9",
   "metadata": {},
   "outputs": [
    {
     "data": {
      "text/plain": [
       "(172.33333333333334, 20.98147330914162, 0.1217493615617502)"
      ]
     },
     "execution_count": 67,
     "metadata": {},
     "output_type": "execute_result"
    }
   ],
   "source": [
    "np.array([145,196,176]).mean(),np.array([145,196,176]).std(),np.array([145,196,176]).std()/np.array([145,196,176]).mean()"
   ]
  },
  {
   "cell_type": "code",
   "execution_count": 51,
   "id": "b2c897b7",
   "metadata": {},
   "outputs": [
    {
     "data": {
      "text/plain": [
       "(175.33333333333334, 7.586537784494028, 0.04326922690776061)"
      ]
     },
     "execution_count": 51,
     "metadata": {},
     "output_type": "execute_result"
    }
   ],
   "source": [
    "np.array([171,169,186]).mean(),np.array([171,169,186]).std(),np.array([171,169,186]).std()/np.array([171,169,186]).mean(),"
   ]
  },
  {
   "cell_type": "code",
   "execution_count": 122,
   "id": "41005711",
   "metadata": {
    "scrolled": false
   },
   "outputs": [
    {
     "data": {
      "text/plain": [
       "(array([102.29198451,  40.35601563, 108.01072233, 171.84864211]),\n",
       " array([ 7.84102708, 28.60588025,  8.03867268, 21.04372887]),\n",
       " array([0.07665339, 0.70883807, 0.07442477, 0.12245502]))"
      ]
     },
     "execution_count": 122,
     "metadata": {},
     "output_type": "execute_result"
    }
   ],
   "source": [
    "np.array(pca0_angle_X_axis).mean(axis=1),np.array(pca0_angle_X_axis).std(axis=1),np.array(pca0_angle_X_axis).std(axis=1)/np.array(pca0_angle_X_axis).mean(axis=1)"
   ]
  },
  {
   "cell_type": "code",
   "execution_count": 123,
   "id": "71323a16",
   "metadata": {
    "scrolled": false
   },
   "outputs": [
    {
     "data": {
      "text/plain": [
       "(array([126.66095436, 107.53394327, 124.41864802, 102.21239963]),\n",
       " array([ 2.74973905,  9.53714962,  5.18561173, 19.83599734]),\n",
       " array([0.02170945, 0.08868967, 0.04167873, 0.19406645]))"
      ]
     },
     "execution_count": 123,
     "metadata": {},
     "output_type": "execute_result"
    }
   ],
   "source": [
    "np.array(pca0_angle_Z_axis).mean(axis=1),np.array(pca0_angle_Z_axis).std(axis=1),np.array(pca0_angle_Z_axis).std(axis=1)/np.array(pca0_angle_Z_axis).mean(axis=1)"
   ]
  },
  {
   "cell_type": "code",
   "execution_count": 124,
   "id": "01c6329e",
   "metadata": {
    "scrolled": false
   },
   "outputs": [
    {
     "data": {
      "text/plain": [
       "(array([  8.41791036, 170.71973246,  56.12567879,  99.30475142]),\n",
       " array([4.41971974, 4.03194657, 3.09475575, 9.97478084]),\n",
       " array([0.52503763, 0.02361734, 0.05513975, 0.10044616]))"
      ]
     },
     "execution_count": 124,
     "metadata": {},
     "output_type": "execute_result"
    }
   ],
   "source": [
    "np.array(pca1_angle_X_axis).mean(axis=1),np.array(pca1_angle_X_axis).std(axis=1),np.array(pca1_angle_X_axis).std(axis=1)/np.array(pca1_angle_X_axis).mean(axis=1)"
   ]
  },
  {
   "cell_type": "code",
   "execution_count": 125,
   "id": "d6ce5e05",
   "metadata": {
    "scrolled": false
   },
   "outputs": [
    {
     "data": {
      "text/plain": [
       "(array([175.18703146,  20.21364853,  28.04558306,   4.11540892]),\n",
       " array([ 7.7755931 ,  8.94265571,  7.63535702, 13.40038028]),\n",
       " array([0.04438452, 0.44240681, 0.27224811, 3.25614794]))"
      ]
     },
     "execution_count": 125,
     "metadata": {},
     "output_type": "execute_result"
    }
   ],
   "source": [
    "np.array(pca1_angle_Z_axis).mean(axis=1),np.array(pca1_angle_Z_axis).std(axis=1),np.array(pca1_angle_Z_axis).std(axis=1)/np.array(pca1_angle_Z_axis).mean(axis=1)"
   ]
  },
  {
   "cell_type": "code",
   "execution_count": 126,
   "id": "fc0fe36f",
   "metadata": {
    "scrolled": false
   },
   "outputs": [
    {
     "data": {
      "text/plain": [
       "(array([ 95.56113108,  87.58744438, 162.49501569,   8.62698631]),\n",
       " array([5.72231793, 2.13657571, 3.01910558, 8.60341186]),\n",
       " array([0.05988123, 0.02439363, 0.01857968, 0.99726736]))"
      ]
     },
     "execution_count": 126,
     "metadata": {},
     "output_type": "execute_result"
    }
   ],
   "source": [
    "np.array(pca2_angle_X_axis).mean(axis=1),np.array(pca2_angle_X_axis).std(axis=1),np.array(pca2_angle_X_axis).std(axis=1)/np.array(pca2_angle_X_axis).mean(axis=1)"
   ]
  },
  {
   "cell_type": "code",
   "execution_count": 127,
   "id": "9e12a955",
   "metadata": {
    "scrolled": false
   },
   "outputs": [
    {
     "data": {
      "text/plain": [
       "(array([ 37.26518465,  17.49172831, 150.78654658, 157.34516729]),\n",
       " array([ 3.10357   , 11.29720117,  8.99435146, 18.28875199]),\n",
       " array([0.08328337, 0.64585963, 0.05964956, 0.11623333]))"
      ]
     },
     "execution_count": 127,
     "metadata": {},
     "output_type": "execute_result"
    }
   ],
   "source": [
    "np.array(pca2_angle_Z_axis).mean(axis=1),np.array(pca2_angle_Z_axis).std(axis=1),np.array(pca2_angle_Z_axis).std(axis=1)/np.array(pca2_angle_Z_axis).mean(axis=1)"
   ]
  },
  {
   "cell_type": "code",
   "execution_count": 130,
   "id": "1f54626a",
   "metadata": {
    "scrolled": false
   },
   "outputs": [
    {
     "data": {
      "image/png": "[encoded data removed]",
      "text/plain": [
       "<Figure size 283.465x330.709 with 1 Axes>"
      ]
     },
     "metadata": {
      "needs_background": "light"
     },
     "output_type": "display_data"
    }
   ],
   "source": [
    "bregma_dist_X = [df_lhs_vm1['Dist_From_Bregma_X'].values,df_rhs_vm1['Dist_From_Bregma_X'].values,df_lhs_vs1['Dist_From_Bregma_X'].values,df_rhs_vs1['Dist_From_Bregma_X'].values]\n",
    "\n",
    "fig, axes = plt.subplots(nrows=1,ncols=1, sharex=True,sharey=True,figsize=(6*cm,7*cm),dpi=120)\n",
    "b1 = axes.boxplot(bregma_dist_X)\n",
    "eb1 =axes.errorbar(x=[1,2,3,4],y=np.array(bregma_dist_X).mean(axis=1),yerr=np.array(bregma_dist_X).std(axis=1),\\\n",
    "             color='blue',marker='.',fmt='.')\n",
    "\n",
    "plt.setp(b1['boxes'], color='black')\n",
    "plt.setp(b1['whiskers'], color='black')\n",
    "plt.setp(b1['medians'], color='black')\n",
    "plt.setp(b1['caps'], color='black')\n",
    "plt.tight_layout()\n",
    "fig.savefig(input_path + 'Fig_1/Rabies_Distribution/variability/bregma_dist_X.eps')"
   ]
  },
  {
   "cell_type": "code",
   "execution_count": 131,
   "id": "f2ab2d86",
   "metadata": {},
   "outputs": [
    {
     "data": {
      "text/plain": [
       "(array([2183.58813574, 2431.96066365, 4677.67488569, 5285.45469656]),\n",
       " array([ 53.49385142, 143.66251302,  93.98607431,  70.32568205]),\n",
       " array([0.02449814, 0.05907271, 0.02009248, 0.01330551]))"
      ]
     },
     "execution_count": 131,
     "metadata": {},
     "output_type": "execute_result"
    }
   ],
   "source": [
    "np.array(bregma_dist_X).mean(axis=1),np.array(bregma_dist_X).std(axis=1),np.array(bregma_dist_X).std(axis=1)/np.array(bregma_dist_X).mean(axis=1)"
   ]
  },
  {
   "cell_type": "code",
   "execution_count": 132,
   "id": "0b50fbea",
   "metadata": {
    "scrolled": false
   },
   "outputs": [
    {
     "data": {
      "image/png": "[encoded data removed]",
      "text/plain": [
       "<Figure size 283.465x330.709 with 1 Axes>"
      ]
     },
     "metadata": {
      "needs_background": "light"
     },
     "output_type": "display_data"
    }
   ],
   "source": [
    "bregma_dist_Y = [df_lhs_vm1['Dist_From_Bregma_Y'].values,df_rhs_vm1['Dist_From_Bregma_Y'].values,df_lhs_vs1['Dist_From_Bregma_Y'].values,df_rhs_vs1['Dist_From_Bregma_Y'].values]\n",
    "\n",
    "fig, axes = plt.subplots(nrows=1,ncols=1, sharex=True,sharey=True,figsize=(6*cm,7*cm),dpi=120)\n",
    "b1 = axes.boxplot(bregma_dist_Y)\n",
    "eb1 =axes.errorbar(x=[1,2,3,4],y=np.array(bregma_dist_Y).mean(axis=1),yerr=np.array(bregma_dist_Y).std(axis=1),\\\n",
    "             color='blue',marker='.',fmt='.')\n",
    "plt.setp(b1['boxes'], color='black')\n",
    "plt.setp(b1['whiskers'], color='black')\n",
    "plt.setp(b1['medians'], color='black')\n",
    "plt.setp(b1['caps'], color='black')\n",
    "plt.tight_layout()\n",
    "fig.savefig(input_path + 'Fig_1/Rabies_Distribution/variability/bregma_dist_Y.eps')"
   ]
  },
  {
   "cell_type": "code",
   "execution_count": 133,
   "id": "454c4901",
   "metadata": {},
   "outputs": [
    {
     "data": {
      "text/plain": [
       "(array([ 3107.42204459,  3350.52466476,  -723.63727363, -1041.33708555]),\n",
       " array([104.27327944, 447.38297608, 313.00272124, 255.77321977]),\n",
       " array([ 0.0335562 ,  0.13352624, -0.43254091, -0.24562   ]))"
      ]
     },
     "execution_count": 133,
     "metadata": {},
     "output_type": "execute_result"
    }
   ],
   "source": [
    "np.array(bregma_dist_Y).mean(axis=1),np.array(bregma_dist_Y).std(axis=1),np.array(bregma_dist_Y).std(axis=1)/np.array(bregma_dist_Y).mean(axis=1)"
   ]
  },
  {
   "cell_type": "code",
   "execution_count": 134,
   "id": "7c7aa91e",
   "metadata": {
    "scrolled": true
   },
   "outputs": [
    {
     "data": {
      "image/png": "[encoded data removed]",
      "text/plain": [
       "<Figure size 283.465x330.709 with 1 Axes>"
      ]
     },
     "metadata": {
      "needs_background": "light"
     },
     "output_type": "display_data"
    }
   ],
   "source": [
    "bregma_dist_Z = [df_lhs_vm1['Dist_From_Bregma_Z'].values,df_rhs_vm1['Dist_From_Bregma_Z'].values,df_lhs_vs1['Dist_From_Bregma_Z'].values,df_rhs_vs1['Dist_From_Bregma_Z'].values]\n",
    "\n",
    "fig, axes = plt.subplots(nrows=1,ncols=1, sharex=True,sharey=True,figsize=(6*cm,7*cm),dpi=120)\n",
    "b1 = axes.boxplot(bregma_dist_Z)\n",
    "eb1 =axes.errorbar(x=[1,2,3,4],y=np.array(bregma_dist_Z).mean(axis=1),yerr=np.array(bregma_dist_Z).std(axis=1),\\\n",
    "             color='blue',marker='.',fmt='.')\n",
    "plt.setp(b1['boxes'], color='black')\n",
    "plt.setp(b1['whiskers'], color='black')\n",
    "plt.setp(b1['medians'], color='black')\n",
    "plt.setp(b1['caps'], color='black')\n",
    "plt.tight_layout()\n",
    "fig.savefig(input_path + 'Fig_1/Rabies_Distribution/variability/bregma_dist_Z.eps')"
   ]
  },
  {
   "cell_type": "code",
   "execution_count": 135,
   "id": "f6aa56ff",
   "metadata": {},
   "outputs": [
    {
     "data": {
      "text/plain": [
       "(array([2728.60400171, 2838.59740857, 3522.2194169 , 5475.25995822]),\n",
       " array([ 36.93982638, 306.59418259, 136.00979609, 472.35376431]),\n",
       " array([0.01353799, 0.10800904, 0.0386148 , 0.08627056]))"
      ]
     },
     "execution_count": 135,
     "metadata": {},
     "output_type": "execute_result"
    }
   ],
   "source": [
    "np.array(bregma_dist_Z).mean(axis=1),np.array(bregma_dist_Z).std(axis=1),np.array(bregma_dist_Z).std(axis=1)/np.array(bregma_dist_Z).mean(axis=1)"
   ]
  },
  {
   "cell_type": "code",
   "execution_count": 129,
   "id": "c87131a5",
   "metadata": {},
   "outputs": [],
   "source": [
    "# Comparing location with others\n"
   ]
  },
  {
   "cell_type": "markdown",
   "id": "e881bbac",
   "metadata": {},
   "source": [
    "# Layer Borders"
   ]
  },
  {
   "cell_type": "markdown",
   "id": "8ce99114",
   "metadata": {},
   "source": [
    "## Comparison of layer borders with others"
   ]
  },
  {
   "cell_type": "markdown",
   "id": "f7b33d8d",
   "metadata": {},
   "source": [
    "### vS1"
   ]
  },
  {
   "cell_type": "code",
   "execution_count": 24,
   "id": "9affce5c",
   "metadata": {},
   "outputs": [],
   "source": [
    "# vS1\n",
    "df = pd.DataFrame()\n",
    "df['Layers'] = ['L1','L2/3','L4','L5','L6']\n",
    "\n",
    "df['Mean'] = [4,26,40,66,100]\n",
    "df['STD'] = [0.8,2,2,1,0]\n",
    "\n",
    "df.to_csv(input_path+'Fig_2/vS1_Layer_Borders_Meyer.csv')"
   ]
  },
  {
   "cell_type": "code",
   "execution_count": 25,
   "id": "0687cf91",
   "metadata": {},
   "outputs": [],
   "source": [
    "df_meyer = pd.read_csv(input_path+'Fig_2/vS1_Layer_Borders_Meyer.csv',index_col=0)"
   ]
  },
  {
   "cell_type": "code",
   "execution_count": 26,
   "id": "38955178",
   "metadata": {},
   "outputs": [
    {
     "data": {
      "text/plain": [
       "array([  4,  26,  40,  66, 100], dtype=int64)"
      ]
     },
     "execution_count": 26,
     "metadata": {},
     "output_type": "execute_result"
    }
   ],
   "source": [
    "df_meyer['Mean'].values"
   ]
  },
  {
   "cell_type": "code",
   "execution_count": 18,
   "id": "0808018d",
   "metadata": {},
   "outputs": [
    {
     "data": {
      "text/plain": [
       "L1_Border           -75.000000\n",
       "L2_3_Border        -470.833333\n",
       "L4_Border          -879.166667\n",
       "L5_Border         -1520.833333\n",
       "L1_Border_Per         0.034884\n",
       "L2_3_Border_Per       0.218992\n",
       "L4_Border_Per         0.408915\n",
       "L5_Border_Per         0.707364\n",
       "dtype: float64"
      ]
     },
     "execution_count": 18,
     "metadata": {},
     "output_type": "execute_result"
    }
   ],
   "source": [
    "df_mine = pd.read_csv(input_path+'Final_Data/Layer_Borders_V2/vS1_Borders.csv',index_col=0)\n",
    "df_mine.mean()"
   ]
  },
  {
   "cell_type": "code",
   "execution_count": 34,
   "id": "757bb83c",
   "metadata": {
    "scrolled": false
   },
   "outputs": [
    {
     "name": "stderr",
     "output_type": "stream",
     "text": [
      "The PostScript backend does not support transparency; partially transparent artists will be rendered opaque.\n",
      "The PostScript backend does not support transparency; partially transparent artists will be rendered opaque.\n"
     ]
    },
    {
     "data": {
      "image/png": "[encoded data removed]",
      "text/plain": [
       "<Figure size 283.465x330.709 with 1 Axes>"
      ]
     },
     "metadata": {
      "needs_background": "light"
     },
     "output_type": "display_data"
    }
   ],
   "source": [
    "N=5\n",
    "nd = np.arange(N)\n",
    "width = 0.35\n",
    "\n",
    "fig = plt.figure(figsize=(6*cm,7*cm),dpi=120)\n",
    "ax = fig.add_subplot(111)\n",
    "\n",
    "rects1 = ax.bar(ind, [df_mine.mean()['L1_Border_Per']*100,df_mine.mean()['L2_3_Border_Per']*100,df_mine.mean()['L4_Border_Per']*100,\\\n",
    "                     df_mine.mean()['L5_Border_Per']*100,100], width, color='red', \\\n",
    "                yerr=[df_mine.std()['L1_Border_Per']*100,df_mine.std()['L2_3_Border_Per']*100,df_mine.std()['L4_Border_Per']*100,\\\n",
    "                     df_mine.std()['L5_Border_Per']*100,0])\n",
    "\n",
    "rects2 = ax.bar(ind+width, df_meyer['Mean'].values, width, color='blue', yerr=df_meyer['STD'].values)\n",
    "\n",
    "# add some\n",
    "ax.set_ylabel('Layer border as % depth from Pia')\n",
    "#ax.set_title('BF Layer border comparison')\n",
    "ax.set_xticks(ind + width / 2)\n",
    "ax.set_xticklabels( ('L1', 'L2/3', 'L4', 'L5', 'L6') )\n",
    "\n",
    "ax.legend( (rects1[0], rects2[0]), ('Present', 'Meyer') )\n",
    "plt.tight_layout()\n",
    "fig.savefig(input_path + 'Fig_2/vS1_Border_Comparison.eps')"
   ]
  },
  {
   "cell_type": "markdown",
   "id": "e5716233",
   "metadata": {},
   "source": [
    "### vM1"
   ]
  },
  {
   "cell_type": "code",
   "execution_count": 35,
   "id": "521d0cdd",
   "metadata": {},
   "outputs": [],
   "source": [
    "# vS1\n",
    "df = pd.DataFrame()\n",
    "df['Layers'] = ['L1','L2/3','LA','LB','L6']\n",
    "\n",
    "df['Mean'] = [10,16,34,67,100]\n",
    "df['STD'] = [1,1,2,0,0]\n",
    "\n",
    "df.to_csv(input_path+'Fig_2/vM1_Layer_Borders_Shepherd.csv')"
   ]
  },
  {
   "cell_type": "code",
   "execution_count": 39,
   "id": "64799c98",
   "metadata": {},
   "outputs": [],
   "source": [
    "df_hooks = pd.read_csv(input_path+'Fig_2/vM1_Layer_Borders_Shepherd.csv',index_col=0)"
   ]
  },
  {
   "cell_type": "code",
   "execution_count": 40,
   "id": "a9ea2e46",
   "metadata": {},
   "outputs": [
    {
     "data": {
      "text/html": [
       "<div>\n",
       "<style scoped>\n",
       "    .dataframe tbody tr th:only-of-type {\n",
       "        vertical-align: middle;\n",
       "    }\n",
       "\n",
       "    .dataframe tbody tr th {\n",
       "        vertical-align: top;\n",
       "    }\n",
       "\n",
       "    .dataframe thead th {\n",
       "        text-align: right;\n",
       "    }\n",
       "</style>\n",
       "<table border=\"1\" class=\"dataframe\">\n",
       "  <thead>\n",
       "    <tr style=\"text-align: right;\">\n",
       "      <th></th>\n",
       "      <th>Layers</th>\n",
       "      <th>Mean</th>\n",
       "      <th>STD</th>\n",
       "    </tr>\n",
       "  </thead>\n",
       "  <tbody>\n",
       "    <tr>\n",
       "      <th>0</th>\n",
       "      <td>L1</td>\n",
       "      <td>10</td>\n",
       "      <td>1</td>\n",
       "    </tr>\n",
       "    <tr>\n",
       "      <th>1</th>\n",
       "      <td>L2/3</td>\n",
       "      <td>16</td>\n",
       "      <td>1</td>\n",
       "    </tr>\n",
       "    <tr>\n",
       "      <th>2</th>\n",
       "      <td>LA</td>\n",
       "      <td>34</td>\n",
       "      <td>2</td>\n",
       "    </tr>\n",
       "    <tr>\n",
       "      <th>3</th>\n",
       "      <td>LB</td>\n",
       "      <td>67</td>\n",
       "      <td>0</td>\n",
       "    </tr>\n",
       "    <tr>\n",
       "      <th>4</th>\n",
       "      <td>L6</td>\n",
       "      <td>100</td>\n",
       "      <td>0</td>\n",
       "    </tr>\n",
       "  </tbody>\n",
       "</table>\n",
       "</div>"
      ],
      "text/plain": [
       "  Layers  Mean  STD\n",
       "0     L1    10    1\n",
       "1   L2/3    16    1\n",
       "2     LA    34    2\n",
       "3     LB    67    0\n",
       "4     L6   100    0"
      ]
     },
     "execution_count": 40,
     "metadata": {},
     "output_type": "execute_result"
    }
   ],
   "source": [
    "df_hooks"
   ]
  },
  {
   "cell_type": "code",
   "execution_count": 41,
   "id": "f676dedc",
   "metadata": {},
   "outputs": [
    {
     "data": {
      "text/plain": [
       "L1_Border          -222.093023\n",
       "L2_3_Border        -544.186047\n",
       "L5A_Border        -1017.571059\n",
       "L5B_Border        -2025.968992\n",
       "L1_Border_Per         0.085420\n",
       "L2_3_Border_Per       0.209302\n",
       "L5A_Border_Per        0.391373\n",
       "L5B_Border_Per        0.779219\n",
       "dtype: float64"
      ]
     },
     "execution_count": 41,
     "metadata": {},
     "output_type": "execute_result"
    }
   ],
   "source": [
    "df_mine = pd.read_csv(input_path+'Final_Data/Layer_Borders/vM1_Borders.csv',index_col=0)\n",
    "df_mine.mean()"
   ]
  },
  {
   "cell_type": "code",
   "execution_count": 42,
   "id": "c5fc9e24",
   "metadata": {},
   "outputs": [
    {
     "name": "stderr",
     "output_type": "stream",
     "text": [
      "The PostScript backend does not support transparency; partially transparent artists will be rendered opaque.\n",
      "The PostScript backend does not support transparency; partially transparent artists will be rendered opaque.\n"
     ]
    },
    {
     "data": {
      "image/png": "[encoded data removed]",
      "text/plain": [
       "<Figure size 283.465x330.709 with 1 Axes>"
      ]
     },
     "metadata": {
      "needs_background": "light"
     },
     "output_type": "display_data"
    }
   ],
   "source": [
    "N=5\n",
    "nd = np.arange(N)\n",
    "width = 0.35\n",
    "\n",
    "fig = plt.figure(figsize=(6*cm,7*cm),dpi=120)\n",
    "ax = fig.add_subplot(111)\n",
    "\n",
    "rects1 = ax.bar(ind, [df_mine.mean()['L1_Border_Per']*100,df_mine.mean()['L2_3_Border_Per']*100,df_mine.mean()['L5A_Border_Per']*100,\\\n",
    "                     df_mine.mean()['L5B_Border_Per']*100,100], width, color='red', \\\n",
    "                yerr=[df_mine.std()['L1_Border_Per']*100,df_mine.std()['L2_3_Border_Per']*100,df_mine.std()['L5A_Border_Per']*100,\\\n",
    "                     df_mine.std()['L5B_Border_Per']*100,0])\n",
    "\n",
    "rects2 = ax.bar(ind+width, df_hooks['Mean'].values, width, color='blue', yerr=df_hooks['STD'].values)\n",
    "\n",
    "# add some\n",
    "ax.set_ylabel('Layer border as % depth from Pia')\n",
    "#ax.set_title('BF Layer border comparison')\n",
    "ax.set_xticks(ind + width / 2)\n",
    "ax.set_xticklabels( ('L1', 'L2/3', 'L4', 'L5', 'L6') )\n",
    "\n",
    "ax.legend( (rects1[0], rects2[0]), ('Present', 'Hooks') )\n",
    "plt.tight_layout()\n",
    "fig.savefig(input_path + 'Fig_2/vM1_Border_Comparison.eps')"
   ]
  },
  {
   "cell_type": "markdown",
   "id": "fcd44498",
   "metadata": {},
   "source": [
    "# vM1 Laminar organization"
   ]
  },
  {
   "cell_type": "code",
   "execution_count": 48,
   "id": "9410f62c",
   "metadata": {},
   "outputs": [
    {
     "data": {
      "text/plain": [
       "Index(['Exp_Name', 'L1_Border', 'L2_3_Border', 'L5A_Border', 'L5B_Border',\n",
       "       'L1_Border_Per', 'L2_3_Border_Per', 'L5A_Border_Per', 'L5B_Border_Per'],\n",
       "      dtype='object')"
      ]
     },
     "execution_count": 48,
     "metadata": {},
     "output_type": "execute_result"
    }
   ],
   "source": [
    "# show layer border variability\n",
    "df = pd.read_csv(input_path+'Final_Data/Layer_Borders/vM1_Borders.csv',index_col=0)\n",
    "df.columns"
   ]
  },
  {
   "cell_type": "code",
   "execution_count": 121,
   "id": "99510624",
   "metadata": {},
   "outputs": [],
   "source": [
    "mg48_lhs_df = df[df['Exp_Name']=='MG48_lhs']\n",
    "mg48_rhs_df = df[df['Exp_Name']=='MG48_rhs']\n",
    "mg49_lhs_df = df[df['Exp_Name']=='MG49_lhs']\n",
    "mg49_rhs_df = df[df['Exp_Name']=='MG49_rhs']\n",
    "mg50_lhs_df = df[df['Exp_Name']=='MG50_lhs']\n",
    "mg50_rhs_df = df[df['Exp_Name']=='MG50_rhs']"
   ]
  },
  {
   "cell_type": "code",
   "execution_count": 122,
   "id": "69035edd",
   "metadata": {
    "scrolled": false
   },
   "outputs": [],
   "source": [
    "l1_means = [mg48_lhs_df['L1_Border_Per'].mean(),mg48_rhs_df['L1_Border_Per'].mean(),mg49_lhs_df['L1_Border_Per'].mean(),\\\n",
    "            mg49_rhs_df['L1_Border_Per'].mean(),mg50_lhs_df['L1_Border_Per'].mean(),mg50_rhs_df['L1_Border_Per'].mean()]\n",
    "\n",
    "l2_3_means = [mg48_lhs_df['L2_3_Border_Per'].mean(),mg48_rhs_df['L2_3_Border_Per'].mean(),mg49_lhs_df['L2_3_Border_Per'].mean(),\\\n",
    "            mg49_rhs_df['L2_3_Border_Per'].mean(),mg50_lhs_df['L2_3_Border_Per'].mean(),mg50_rhs_df['L2_3_Border_Per'].mean()]\n",
    "\n",
    "l5A_means = [mg48_lhs_df['L5A_Border_Per'].mean(),mg48_rhs_df['L5A_Border_Per'].mean(),mg49_lhs_df['L5A_Border_Per'].mean(),\\\n",
    "            mg49_rhs_df['L5A_Border_Per'].mean(),mg50_lhs_df['L5A_Border_Per'].mean(),mg50_rhs_df['L5A_Border_Per'].mean()]\n",
    "\n",
    "l5B_means = [mg48_lhs_df['L5B_Border_Per'].mean(),mg48_rhs_df['L5B_Border_Per'].mean(),mg49_lhs_df['L5B_Border_Per'].mean(),\\\n",
    "            mg49_rhs_df['L5B_Border_Per'].mean(),mg50_lhs_df['L5B_Border_Per'].mean(),mg50_rhs_df['L5B_Border_Per'].mean()]\n",
    "\n"
   ]
  },
  {
   "cell_type": "code",
   "execution_count": 133,
   "id": "4b2dc8c9",
   "metadata": {
    "scrolled": false
   },
   "outputs": [
    {
     "data": {
      "image/png": "[encoded data removed]",
      "text/plain": [
       "<Figure size 330.709x330.709 with 1 Axes>"
      ]
     },
     "metadata": {
      "needs_background": "light"
     },
     "output_type": "display_data"
    }
   ],
   "source": [
    "per_layer_borders_df = df[['L1_Border_Per', 'L2_3_Border_Per', 'L5A_Border_Per', 'L5B_Border_Per']]*100\n",
    "fig, axes = plt.subplots(nrows=1,ncols=1, sharex=True,sharey=True,figsize=(7*cm,7*cm),dpi=120)\n",
    "b1 = axes.boxplot(per_layer_borders_df)\n",
    "\n",
    "eb1 =axes.errorbar(x=[1,2,3,4],y=[np.array(l1_means).mean()*100,np.array(l2_3_means).mean()*100,np.array(l5A_means).mean()*100,np.array(l5B_means).mean()*100],\\\n",
    "                   yerr=[np.array(l1_means).std()*100,np.array(l2_3_means).std()*100,np.array(l5A_means).std()*100,np.array(l5B_means).std()*100],\\\n",
    "             color='blue',marker='.',fmt='.')\n",
    "\n",
    "plt.yticks(np.arange(0,110,10))\n",
    "plt.xlabel(['L1','L2/3','L5A','L5B'])\n",
    "\n",
    "plt.setp(b1['boxes'], color='black')\n",
    "plt.setp(b1['whiskers'], color='black')\n",
    "plt.setp(b1['medians'], color='black')\n",
    "plt.setp(b1['caps'], color='black')\n",
    "plt.tight_layout()\n",
    "fig.savefig(input_path + 'Fig_2/laminar_variability.eps')"
   ]
  },
  {
   "cell_type": "code",
   "execution_count": 126,
   "id": "e6530d77",
   "metadata": {
    "scrolled": true
   },
   "outputs": [
    {
     "data": {
      "text/plain": [
       "(0.08623863020839255, 0.011960957728402168)"
      ]
     },
     "execution_count": 126,
     "metadata": {},
     "output_type": "execute_result"
    }
   ],
   "source": [
    "np.array(l1_means).mean(),np.array(l1_means).std()"
   ]
  },
  {
   "cell_type": "markdown",
   "id": "cf28754e",
   "metadata": {},
   "source": [
    "## 3d counts and densities"
   ]
  },
  {
   "cell_type": "code",
   "execution_count": 47,
   "id": "4ec1b525",
   "metadata": {},
   "outputs": [],
   "source": [
    "df_2d_counts = pd.read_csv(input_path+'Fig_2/Layerwise_2D_Cell_Counts.csv')\n",
    "df_3d_counts = pd.read_csv(input_path+'Fig_2/Layerwise_3D_Cell_Counts.csv')\n",
    "df_3d_densities = pd.read_csv(input_path+'Fig_2/Layerwise_3D_Densities.csv')\n",
    "df_layerwise_volumes = pd.read_csv(input_path+'Fig_2/Layer_Volumes.csv')\n",
    "\n",
    "df_3d_counts_lhs = df_3d_counts[df_3d_counts['Hem']=='lhs']\n",
    "df_3d_counts_rhs = df_3d_counts[df_3d_counts['Hem']=='rhs']\n",
    "\n",
    "df_3d_densities_lhs = df_3d_densities[df_3d_densities['Hem']=='lhs']\n",
    "df_3d_densities_rhs = df_3d_densities[df_3d_densities['Hem']=='rhs']\n",
    "\n",
    "df_layerwise_volumes_lhs = df_layerwise_volumes[(df_layerwise_volumes['Exp']=='MG48_lhs') | (df_layerwise_volumes['Exp']=='MG49_lhs') | (df_layerwise_volumes['Exp']=='MG50_lhs')]\n",
    "df_layerwise_volumes_rhs = df_layerwise_volumes[(df_layerwise_volumes['Exp']=='MG48_rhs') | (df_layerwise_volumes['Exp']=='MG49_rhs') | (df_layerwise_volumes['Exp']=='MG50_rhs')]\n"
   ]
  },
  {
   "cell_type": "code",
   "execution_count": 48,
   "id": "da3814b7",
   "metadata": {
    "scrolled": false
   },
   "outputs": [
    {
     "data": {
      "image/png": "[encoded data removed]",
      "text/plain": [
       "<Figure size 425.197x330.709 with 2 Axes>"
      ]
     },
     "metadata": {
      "needs_background": "light"
     },
     "output_type": "display_data"
    }
   ],
   "source": [
    "fig, axes = plt.subplots(nrows=1,ncols=2, sharex=True,sharey=True,figsize=(9*cm,7*cm),dpi=120)\n",
    "b1 = axes[0].boxplot(df_layerwise_volumes_lhs[['L1','L2_3','L5A','L5B','L6']])\n",
    "eb1 =axes[0].errorbar(x=[1,2,3,4,5],y=df_layerwise_volumes_lhs[['L1','L2_3','L5A','L5B','L6']].mean(),\\\n",
    "                   yerr=df_layerwise_volumes_lhs[['L1','L2_3','L5A','L5B','L6']].std(),\\\n",
    "             color='blue',marker='.',fmt='.')\n",
    "\n",
    "b2 = axes[1].boxplot(df_layerwise_volumes_rhs[['L1','L2_3','L5A','L5B','L6']])\n",
    "eb2 =axes[1].errorbar(x=[1,2,3,4,5],y=df_layerwise_volumes_rhs[['L1','L2_3','L5A','L5B','L6']].mean(),\\\n",
    "                   yerr=df_layerwise_volumes_rhs[['L1','L2_3','L5A','L5B','L6']].std(),\\\n",
    "             color='blue',marker='.',fmt='.')\n",
    "\n",
    "#plt.yticks(np.arange(0,110,10))\n",
    "#plt.xlabel(['L1','L2/3','L5A','L5B'])\n",
    "\n",
    "plt.setp(b1['boxes'], color='black')\n",
    "plt.setp(b1['whiskers'], color='black')\n",
    "plt.setp(b1['medians'], color='black')\n",
    "plt.setp(b1['caps'], color='black')\n",
    "plt.tight_layout()\n",
    "\n",
    "plt.setp(b2['boxes'], color='black')\n",
    "plt.setp(b2['whiskers'], color='black')\n",
    "plt.setp(b2['medians'], color='black')\n",
    "plt.setp(b2['caps'], color='black')\n",
    "plt.tight_layout()\n",
    "fig.savefig(input_path + 'Fig_2/layerwise_volumes.eps')"
   ]
  },
  {
   "cell_type": "code",
   "execution_count": 49,
   "id": "70bb0cd6",
   "metadata": {
    "scrolled": false
   },
   "outputs": [
    {
     "data": {
      "image/png": "[encoded data removed]",
      "text/plain": [
       "<Figure size 425.197x330.709 with 2 Axes>"
      ]
     },
     "metadata": {
      "needs_background": "light"
     },
     "output_type": "display_data"
    }
   ],
   "source": [
    "fig, axes = plt.subplots(nrows=1,ncols=2, sharex=True,sharey=True,figsize=(9*cm,7*cm),dpi=120)\n",
    "b1 = axes[0].boxplot(df_3d_counts_lhs[['L1','L2_3','L5A','L5B','L6']])\n",
    "eb1 =axes[0].errorbar(x=[1,2,3,4,5],y=df_3d_counts_lhs[['L1','L2_3','L5A','L5B','L6']].mean(),\\\n",
    "                   yerr=df_3d_counts_lhs[['L1','L2_3','L5A','L5B','L6']].std(),\\\n",
    "             color='blue',marker='.',fmt='.')\n",
    "\n",
    "b2 = axes[1].boxplot(df_3d_counts_rhs[['L1','L2_3','L5A','L5B','L6']])\n",
    "eb2 =axes[1].errorbar(x=[1,2,3,4,5],y=df_3d_counts_rhs[['L1','L2_3','L5A','L5B','L6']].mean(),\\\n",
    "                   yerr=df_3d_counts_rhs[['L1','L2_3','L5A','L5B','L6']].std(),\\\n",
    "             color='blue',marker='.',fmt='.')\n",
    "\n",
    "#plt.yticks(np.arange(0,110,10))\n",
    "#plt.xlabel(['L1','L2/3','L5A','L5B'])\n",
    "\n",
    "plt.setp(b1['boxes'], color='black')\n",
    "plt.setp(b1['whiskers'], color='black')\n",
    "plt.setp(b1['medians'], color='black')\n",
    "plt.setp(b1['caps'], color='black')\n",
    "plt.tight_layout()\n",
    "\n",
    "plt.setp(b2['boxes'], color='black')\n",
    "plt.setp(b2['whiskers'], color='black')\n",
    "plt.setp(b2['medians'], color='black')\n",
    "plt.setp(b2['caps'], color='black')\n",
    "plt.tight_layout()\n",
    "fig.savefig(input_path + 'Fig_2/layerwise_3d_cellcounts.eps')"
   ]
  },
  {
   "cell_type": "code",
   "execution_count": 50,
   "id": "5729abc5",
   "metadata": {
    "scrolled": false
   },
   "outputs": [
    {
     "data": {
      "image/png": "[encoded data removed]",
      "text/plain": [
       "<Figure size 425.197x330.709 with 2 Axes>"
      ]
     },
     "metadata": {
      "needs_background": "light"
     },
     "output_type": "display_data"
    }
   ],
   "source": [
    "fig, axes = plt.subplots(nrows=1,ncols=2, sharex=True,sharey=True,figsize=(9*cm,7*cm),dpi=120)\n",
    "b1 = axes[0].boxplot(df_3d_densities_lhs[['L1','L2_3','L5A','L5B','L6']])\n",
    "eb1 =axes[0].errorbar(x=[1,2,3,4,5],y=df_3d_densities_lhs[['L1','L2_3','L5A','L5B','L6']].mean(),\\\n",
    "                   yerr=df_3d_densities_lhs[['L1','L2_3','L5A','L5B','L6']].std(),\\\n",
    "             color='blue',marker='.',fmt='.')\n",
    "\n",
    "b2 = axes[1].boxplot(df_3d_densities_rhs[['L1','L2_3','L5A','L5B','L6']])\n",
    "eb2 =axes[1].errorbar(x=[1,2,3,4,5],y=df_3d_densities_rhs[['L1','L2_3','L5A','L5B','L6']].mean(),\\\n",
    "                   yerr=df_3d_densities_rhs[['L1','L2_3','L5A','L5B','L6']].std(),\\\n",
    "             color='blue',marker='.',fmt='.')\n",
    "\n",
    "#plt.yticks(np.arange(0,110,10))\n",
    "#plt.xlabel(['L1','L2/3','L5A','L5B'])\n",
    "\n",
    "plt.setp(b1['boxes'], color='black')\n",
    "plt.setp(b1['whiskers'], color='black')\n",
    "plt.setp(b1['medians'], color='black')\n",
    "plt.setp(b1['caps'], color='black')\n",
    "plt.tight_layout()\n",
    "\n",
    "plt.setp(b2['boxes'], color='black')\n",
    "plt.setp(b2['whiskers'], color='black')\n",
    "plt.setp(b2['medians'], color='black')\n",
    "plt.setp(b2['caps'], color='black')\n",
    "plt.tight_layout()\n",
    "fig.savefig(input_path + 'Fig_2/layerwise_3d_densities.eps')"
   ]
  },
  {
   "cell_type": "markdown",
   "id": "f0397dcd",
   "metadata": {},
   "source": [
    "## Comapare counts with vS1 counts"
   ]
  },
  {
   "cell_type": "code",
   "execution_count": 55,
   "id": "98669a14",
   "metadata": {
    "scrolled": true
   },
   "outputs": [
    {
     "data": {
      "image/png": "[encoded data removed]",
      "text/plain": [
       "<Figure size 141.732x330.709 with 1 Axes>"
      ]
     },
     "metadata": {
      "needs_background": "light"
     },
     "output_type": "display_data"
    }
   ],
   "source": [
    "\n",
    "N=1\n",
    "ind = np.arange(N)\n",
    "width = 0.35\n",
    "\n",
    "fig = plt.figure(figsize=(3*cm,7*cm),dpi=120)\n",
    "ax = fig.add_subplot(111)\n",
    "\n",
    "rects1 = ax.bar(ind, df_3d_counts.sum(axis=1).mean(), width, color='red', yerr=df_3d_counts.sum(axis=1).std())\n",
    "\n",
    "rects2 = ax.bar(ind+width, 529715, width, color='blue', yerr=39104)\n",
    "\n",
    "# add some\n",
    "plt.tight_layout()\n",
    "fig.savefig(input_path + 'Fig_2/3D_Count_Comparison.eps')"
   ]
  },
  {
   "cell_type": "code",
   "execution_count": 61,
   "id": "d2e44671",
   "metadata": {
    "scrolled": false
   },
   "outputs": [
    {
     "data": {
      "image/png": "[encoded data removed]",
      "text/plain": [
       "<Figure size 141.732x330.709 with 1 Axes>"
      ]
     },
     "metadata": {
      "needs_background": "light"
     },
     "output_type": "display_data"
    }
   ],
   "source": [
    "volumes = df_volumes[df_volumes['BR']=='vM1']['surf_vol'].values\n",
    "\n",
    "N=1\n",
    "ind = np.arange(N)\n",
    "width = 0.35\n",
    "\n",
    "fig = plt.figure(figsize=(3*cm,7*cm),dpi=120)\n",
    "ax = fig.add_subplot(111)\n",
    "\n",
    "rects1 = ax.bar(ind, volumes.mean(), width, color='red', yerr=volumes.std())\n",
    "\n",
    "rects2 = ax.bar(ind+width, 6.6*1e9, width, color='blue', yerr=0.58*1e9)\n",
    "\n",
    "# add some\n",
    "plt.tight_layout()\n",
    "fig.savefig(input_path + 'Fig_2/Volume_Comparison.eps')"
   ]
  },
  {
   "cell_type": "code",
   "execution_count": 64,
   "id": "760bfdda",
   "metadata": {
    "scrolled": false
   },
   "outputs": [
    {
     "data": {
      "image/png": "[encoded data removed]",
      "text/plain": [
       "<Figure size 188.976x330.709 with 1 Axes>"
      ]
     },
     "metadata": {
      "needs_background": "light"
     },
     "output_type": "display_data"
    }
   ],
   "source": [
    "densities = []\n",
    "df_volumes = pd.read_csv(input_path+'Fig_1/Rabies_Distribution/Variability/variability.csv')\n",
    "for exp in ['MG48','MG49','MG50']:\n",
    "    for hem in ['lhs','rhs']:\n",
    "        vol = df_volumes[(df_volumes['Exp']==exp) & (df_volumes['Hem']==hem) & (df_volumes['BR']=='vM1')]['surf_vol'].values[0]\n",
    "        counts = df_3d_counts[(df_3d_counts['Exp']==exp) & (df_3d_counts['Hem']==hem) ].sum(axis=1).values[0]\n",
    "        densities.append(counts*1e9/vol)\n",
    "\n",
    "N=1\n",
    "ind = np.arange(N)\n",
    "width = 0.35\n",
    "\n",
    "fig = plt.figure(figsize=(4*cm,7*cm),dpi=120)\n",
    "ax = fig.add_subplot(111)\n",
    "\n",
    "rects1 = ax.bar(ind, np.array(densities).mean(), width, color='red', yerr=np.array(densities).std())\n",
    "\n",
    "rects2 = ax.bar(ind+width, 80419, width, color='blue', yerr=3688)\n",
    "\n",
    "# add some\n",
    "plt.tight_layout()\n",
    "fig.savefig(input_path + 'Fig_2/Densities_Comparison.eps')\n",
    "\n"
   ]
  },
  {
   "cell_type": "markdown",
   "id": "044711d8",
   "metadata": {},
   "source": [
    "# Global v/s Local Ref Frame Comparison"
   ]
  },
  {
   "cell_type": "code",
   "execution_count": 227,
   "id": "573ac549",
   "metadata": {},
   "outputs": [],
   "source": [
    "input_path='/Users/mysee/Documents/PhD/Projects/vM1/Final_Data/'\n",
    "df_vm1_ =pd.read_csv(input_path+'Alignment_Analysis/vM1_stats.csv')\n",
    "df_vs1_ =pd.read_csv(input_path+'Alignment_Analysis/vS1_stats.csv')"
   ]
  },
  {
   "cell_type": "code",
   "execution_count": 228,
   "id": "074820ba",
   "metadata": {},
   "outputs": [
    {
     "data": {
      "text/plain": [
       "Index(['Unnamed: 0', 'Angular_Error_SEM', 'Angular_Precision_Mean',\n",
       "       'Angular_Precision_Std', 'BR', 'Barrel_Cortex_Center_Ellipsoid',\n",
       "       'Barrel_Cortex_Center_Ellipsoid_Norm',\n",
       "       'Barrel_Cortex_Center_Error_Dists_SEM',\n",
       "       'Barrel_Cortex_Center_Precision_Mean',\n",
       "       'Barrel_Cortex_Center_Precision_Std', 'Barrels_Angular_Error_SEM',\n",
       "       'Barrels_Angular_Precision_Mean', 'Barrels_Angular_Precision_Std',\n",
       "       'Barrels_Barrel_Center_Precision_Mean',\n",
       "       'Barrels_Barrel_Center_Precision_Std',\n",
       "       'Barrels_Barrel_Centers_Error_Ellipsoid_Mean',\n",
       "       'Barrels_Barrel_Centers_Error_Ellipsoid_Mean_Norm',\n",
       "       'Barrels_Barrel_Centers_Error_Ellipsoid_Std',\n",
       "       'Barrels_Barrel_Centers_Error_Ellipsoid_Std_Norm',\n",
       "       'Barrels_Column_Center_Precision_Mean',\n",
       "       'Barrels_Column_Center_Precision_Std',\n",
       "       'Barrels_Column_Error_Ellipsoid_Mean',\n",
       "       'Barrels_Column_Error_Ellipsoid_Mean_Norm',\n",
       "       'Barrels_Column_Error_Ellipsoid_Std',\n",
       "       'Barrels_Column_Error_Ellipsoid_Std_Norm',\n",
       "       'Barrels_Pia_Error_Ellipsoid_Mean',\n",
       "       'Barrels_Pia_Error_Ellipsoid_Mean_Norm',\n",
       "       'Barrels_Pia_Error_Ellipsoid_Std',\n",
       "       'Barrels_Pia_Error_Ellipsoid_Std_Norm', 'Barrels_Pia_Precision_Mean',\n",
       "       'Barrels_Pia_Precision_std', 'Barrels_WM_Error_Ellipsoid_Mean',\n",
       "       'Barrels_WM_Error_Ellipsoid_Mean_Norm',\n",
       "       'Barrels_WM_Error_Ellipsoid_Std', 'Barrels_WM_Error_Ellipsoid_Std_Norm',\n",
       "       'Barrels_WM_Precision_Mean', 'Barrels_WM_Precision_Std', 'Hem',\n",
       "       'Inner_Alignment_Type', 'Number_Of_Axis_Used', 'Outer_Alignment_Type',\n",
       "       'Overall_Rabies_landmarks', 'Overall_Volume',\n",
       "       'Overlap_Rabies_landmarks', 'Overlap_Volume',\n",
       "       'PCA_0_Angle_Between_Axes_Mean', 'PCA_0_Angle_Between_Axes_Std',\n",
       "       'PCA_1_Angle_Between_Axes_Mean', 'PCA_1_Angle_Between_Axes_Std',\n",
       "       'PCA_2_Angle_Between_Axes_Mean', 'PCA_2_Angle_Between_Axes_Std',\n",
       "       'PCA_Angular_Precision_Mean', 'PCA_Angular_Precision_SEM',\n",
       "       'PCA_Angular_Precision_Std', 'Pia_Error_Dist_SEM',\n",
       "       'Pia_Error_Ellipsoid_Mean', 'Pia_Error_Ellipsoid_Mean_Norm',\n",
       "       'Pia_Error_Ellipsoid_Std', 'Pia_Error_Ellipsoid_Std_Norm',\n",
       "       'Pia_Precision_Mean', 'Pia_Precision_Std', 'Rabies_Center_Ellipsoid',\n",
       "       'Rabies_Center_Ellipsoid_Norm', 'Rabies_Center_Error_Dists_SEM',\n",
       "       'Rabies_Center_Precision_Mean', 'Rabies_Center_Precision_Std',\n",
       "       'Rabies_Landmarks_Overlap_Percentage', 'Rabies_Surf_Center_Dists_Mean',\n",
       "       'Rabies_Surf_Center_Dists_Std', 'Rabies_Surf_Center_Ellipsoid',\n",
       "       'Rabies_Surf_Center_Ellipsoid_Norm',\n",
       "       'Rabies_Surf_Center_Error_Dists_SEM', 'Surf_Center_Ellipsoid',\n",
       "       'Surf_Center_Ellipsoid_Norm', 'Surf_Center_Error_Dists_SEM',\n",
       "       'Surf_Center_Precision_Mean', 'Surf_Center_Precision_Std',\n",
       "       'Volume_Overlap_Percentage', 'WM_Error_Dist_SEM',\n",
       "       'WM_Error_Ellipsoid_Mean', 'WM_Error_Ellipsoid_Mean_Norm',\n",
       "       'WM_Precision_Mean', 'WM_Precision_Std'],\n",
       "      dtype='object')"
      ]
     },
     "execution_count": 228,
     "metadata": {},
     "output_type": "execute_result"
    }
   ],
   "source": [
    "df_vm1_.columns"
   ]
  },
  {
   "cell_type": "code",
   "execution_count": 240,
   "id": "8905db96",
   "metadata": {},
   "outputs": [],
   "source": [
    "df = df_vm1_\n",
    "hem='lhs'"
   ]
  },
  {
   "cell_type": "code",
   "execution_count": 253,
   "id": "0e38abee",
   "metadata": {},
   "outputs": [
    {
     "data": {
      "text/html": [
       "<div>\n",
       "<style scoped>\n",
       "    .dataframe tbody tr th:only-of-type {\n",
       "        vertical-align: middle;\n",
       "    }\n",
       "\n",
       "    .dataframe tbody tr th {\n",
       "        vertical-align: top;\n",
       "    }\n",
       "\n",
       "    .dataframe thead th {\n",
       "        text-align: right;\n",
       "    }\n",
       "</style>\n",
       "<table border=\"1\" class=\"dataframe\">\n",
       "  <thead>\n",
       "    <tr style=\"text-align: right;\">\n",
       "      <th></th>\n",
       "      <th>Inner_Alignment_Type</th>\n",
       "      <th>Hem</th>\n",
       "      <th>PCA_0_Angle_Between_Axes_Mean</th>\n",
       "      <th>PCA_1_Angle_Between_Axes_Mean</th>\n",
       "      <th>PCA_2_Angle_Between_Axes_Mean</th>\n",
       "      <th>PCA_Angular_Precision_Mean</th>\n",
       "      <th>PCA_Angular_Precision_Std</th>\n",
       "    </tr>\n",
       "  </thead>\n",
       "  <tbody>\n",
       "    <tr>\n",
       "      <th>4</th>\n",
       "      <td>Using_Center</td>\n",
       "      <td>lhs</td>\n",
       "      <td>20.632720</td>\n",
       "      <td>57.514339</td>\n",
       "      <td>9.771414</td>\n",
       "      <td>29.306158</td>\n",
       "      <td>7.740042</td>\n",
       "    </tr>\n",
       "    <tr>\n",
       "      <th>5</th>\n",
       "      <td>Using_Center</td>\n",
       "      <td>rhs</td>\n",
       "      <td>23.964676</td>\n",
       "      <td>9.638138</td>\n",
       "      <td>12.653392</td>\n",
       "      <td>15.418735</td>\n",
       "      <td>5.851726</td>\n",
       "    </tr>\n",
       "    <tr>\n",
       "      <th>10</th>\n",
       "      <td>Using_Rabies_Surface</td>\n",
       "      <td>lhs</td>\n",
       "      <td>6.192462</td>\n",
       "      <td>7.259380</td>\n",
       "      <td>3.934340</td>\n",
       "      <td>5.795394</td>\n",
       "      <td>1.775126</td>\n",
       "    </tr>\n",
       "    <tr>\n",
       "      <th>11</th>\n",
       "      <td>Using_Rabies_Surface</td>\n",
       "      <td>rhs</td>\n",
       "      <td>16.485239</td>\n",
       "      <td>6.518625</td>\n",
       "      <td>8.405858</td>\n",
       "      <td>10.469907</td>\n",
       "      <td>3.345872</td>\n",
       "    </tr>\n",
       "    <tr>\n",
       "      <th>16</th>\n",
       "      <td>Using_Surface</td>\n",
       "      <td>lhs</td>\n",
       "      <td>1.238522</td>\n",
       "      <td>2.437376</td>\n",
       "      <td>1.972945</td>\n",
       "      <td>1.882948</td>\n",
       "      <td>0.838526</td>\n",
       "    </tr>\n",
       "    <tr>\n",
       "      <th>17</th>\n",
       "      <td>Using_Surface</td>\n",
       "      <td>rhs</td>\n",
       "      <td>11.479225</td>\n",
       "      <td>6.210224</td>\n",
       "      <td>8.667873</td>\n",
       "      <td>8.785774</td>\n",
       "      <td>5.216148</td>\n",
       "    </tr>\n",
       "  </tbody>\n",
       "</table>\n",
       "</div>"
      ],
      "text/plain": [
       "    Inner_Alignment_Type  Hem  PCA_0_Angle_Between_Axes_Mean  \\\n",
       "4           Using_Center  lhs                      20.632720   \n",
       "5           Using_Center  rhs                      23.964676   \n",
       "10  Using_Rabies_Surface  lhs                       6.192462   \n",
       "11  Using_Rabies_Surface  rhs                      16.485239   \n",
       "16         Using_Surface  lhs                       1.238522   \n",
       "17         Using_Surface  rhs                      11.479225   \n",
       "\n",
       "    PCA_1_Angle_Between_Axes_Mean  PCA_2_Angle_Between_Axes_Mean  \\\n",
       "4                       57.514339                       9.771414   \n",
       "5                        9.638138                      12.653392   \n",
       "10                       7.259380                       3.934340   \n",
       "11                       6.518625                       8.405858   \n",
       "16                       2.437376                       1.972945   \n",
       "17                       6.210224                       8.667873   \n",
       "\n",
       "    PCA_Angular_Precision_Mean  PCA_Angular_Precision_Std  \n",
       "4                    29.306158                   7.740042  \n",
       "5                    15.418735                   5.851726  \n",
       "10                    5.795394                   1.775126  \n",
       "11                   10.469907                   3.345872  \n",
       "16                    1.882948                   0.838526  \n",
       "17                    8.785774                   5.216148  "
      ]
     },
     "execution_count": 253,
     "metadata": {},
     "output_type": "execute_result"
    }
   ],
   "source": [
    "df = df_vm1_\n",
    "df[(df['BR']=='vM1')][['Inner_Alignment_Type','Hem','PCA_0_Angle_Between_Axes_Mean','PCA_1_Angle_Between_Axes_Mean','PCA_2_Angle_Between_Axes_Mean',\\\n",
    "                      'PCA_Angular_Precision_Mean','PCA_Angular_Precision_Std']]"
   ]
  },
  {
   "cell_type": "code",
   "execution_count": 254,
   "id": "be1974ce",
   "metadata": {},
   "outputs": [
    {
     "data": {
      "text/html": [
       "<div>\n",
       "<style scoped>\n",
       "    .dataframe tbody tr th:only-of-type {\n",
       "        vertical-align: middle;\n",
       "    }\n",
       "\n",
       "    .dataframe tbody tr th {\n",
       "        vertical-align: top;\n",
       "    }\n",
       "\n",
       "    .dataframe thead th {\n",
       "        text-align: right;\n",
       "    }\n",
       "</style>\n",
       "<table border=\"1\" class=\"dataframe\">\n",
       "  <thead>\n",
       "    <tr style=\"text-align: right;\">\n",
       "      <th></th>\n",
       "      <th>Inner_Alignment_Type</th>\n",
       "      <th>Hem</th>\n",
       "      <th>PCA_0_Angle_Between_Axes_Mean</th>\n",
       "      <th>PCA_1_Angle_Between_Axes_Mean</th>\n",
       "      <th>PCA_2_Angle_Between_Axes_Mean</th>\n",
       "      <th>PCA_Angular_Precision_Mean</th>\n",
       "      <th>PCA_Angular_Precision_Std</th>\n",
       "    </tr>\n",
       "  </thead>\n",
       "  <tbody>\n",
       "    <tr>\n",
       "      <th>0</th>\n",
       "      <td>Using_Center</td>\n",
       "      <td>lhs</td>\n",
       "      <td>25.697998</td>\n",
       "      <td>11.578036</td>\n",
       "      <td>9.465754</td>\n",
       "      <td>15.580596</td>\n",
       "      <td>5.837231</td>\n",
       "    </tr>\n",
       "    <tr>\n",
       "      <th>1</th>\n",
       "      <td>Using_Center</td>\n",
       "      <td>rhs</td>\n",
       "      <td>22.600856</td>\n",
       "      <td>44.763548</td>\n",
       "      <td>25.563966</td>\n",
       "      <td>30.976123</td>\n",
       "      <td>13.030081</td>\n",
       "    </tr>\n",
       "    <tr>\n",
       "      <th>6</th>\n",
       "      <td>Using_Rabies_Surface</td>\n",
       "      <td>lhs</td>\n",
       "      <td>16.267181</td>\n",
       "      <td>7.010900</td>\n",
       "      <td>5.552164</td>\n",
       "      <td>9.610082</td>\n",
       "      <td>3.928035</td>\n",
       "    </tr>\n",
       "    <tr>\n",
       "      <th>7</th>\n",
       "      <td>Using_Rabies_Surface</td>\n",
       "      <td>rhs</td>\n",
       "      <td>14.579235</td>\n",
       "      <td>42.172827</td>\n",
       "      <td>17.717607</td>\n",
       "      <td>24.823223</td>\n",
       "      <td>6.317750</td>\n",
       "    </tr>\n",
       "    <tr>\n",
       "      <th>12</th>\n",
       "      <td>Using_Surface</td>\n",
       "      <td>lhs</td>\n",
       "      <td>2.445302</td>\n",
       "      <td>2.631806</td>\n",
       "      <td>2.399850</td>\n",
       "      <td>2.492319</td>\n",
       "      <td>0.423813</td>\n",
       "    </tr>\n",
       "    <tr>\n",
       "      <th>13</th>\n",
       "      <td>Using_Surface</td>\n",
       "      <td>rhs</td>\n",
       "      <td>10.766958</td>\n",
       "      <td>21.015703</td>\n",
       "      <td>13.939153</td>\n",
       "      <td>15.240605</td>\n",
       "      <td>5.079990</td>\n",
       "    </tr>\n",
       "  </tbody>\n",
       "</table>\n",
       "</div>"
      ],
      "text/plain": [
       "    Inner_Alignment_Type  Hem  PCA_0_Angle_Between_Axes_Mean  \\\n",
       "0           Using_Center  lhs                      25.697998   \n",
       "1           Using_Center  rhs                      22.600856   \n",
       "6   Using_Rabies_Surface  lhs                      16.267181   \n",
       "7   Using_Rabies_Surface  rhs                      14.579235   \n",
       "12         Using_Surface  lhs                       2.445302   \n",
       "13         Using_Surface  rhs                      10.766958   \n",
       "\n",
       "    PCA_1_Angle_Between_Axes_Mean  PCA_2_Angle_Between_Axes_Mean  \\\n",
       "0                       11.578036                       9.465754   \n",
       "1                       44.763548                      25.563966   \n",
       "6                        7.010900                       5.552164   \n",
       "7                       42.172827                      17.717607   \n",
       "12                       2.631806                       2.399850   \n",
       "13                      21.015703                      13.939153   \n",
       "\n",
       "    PCA_Angular_Precision_Mean  PCA_Angular_Precision_Std  \n",
       "0                    15.580596                   5.837231  \n",
       "1                    30.976123                  13.030081  \n",
       "6                     9.610082                   3.928035  \n",
       "7                    24.823223                   6.317750  \n",
       "12                    2.492319                   0.423813  \n",
       "13                   15.240605                   5.079990  "
      ]
     },
     "execution_count": 254,
     "metadata": {},
     "output_type": "execute_result"
    }
   ],
   "source": [
    "df=df_vs1_\n",
    "df[(df['BR']=='vS1')][['Inner_Alignment_Type','Hem','PCA_0_Angle_Between_Axes_Mean','PCA_1_Angle_Between_Axes_Mean','PCA_2_Angle_Between_Axes_Mean',\\\n",
    "                      'PCA_Angular_Precision_Mean','PCA_Angular_Precision_Std']]"
   ]
  },
  {
   "cell_type": "code",
   "execution_count": 246,
   "id": "3b6c8276",
   "metadata": {},
   "outputs": [
    {
     "data": {
      "text/html": [
       "<div>\n",
       "<style scoped>\n",
       "    .dataframe tbody tr th:only-of-type {\n",
       "        vertical-align: middle;\n",
       "    }\n",
       "\n",
       "    .dataframe tbody tr th {\n",
       "        vertical-align: top;\n",
       "    }\n",
       "\n",
       "    .dataframe thead th {\n",
       "        text-align: right;\n",
       "    }\n",
       "</style>\n",
       "<table border=\"1\" class=\"dataframe\">\n",
       "  <thead>\n",
       "    <tr style=\"text-align: right;\">\n",
       "      <th></th>\n",
       "      <th>Inner_Alignment_Type</th>\n",
       "      <th>Hem</th>\n",
       "      <th>Rabies_Center_Precision_Mean</th>\n",
       "      <th>Rabies_Surf_Center_Dists_Mean</th>\n",
       "      <th>Surf_Center_Precision_Mean</th>\n",
       "      <th>Rabies_Center_Precision_Std</th>\n",
       "      <th>Rabies_Surf_Center_Dists_Std</th>\n",
       "      <th>Surf_Center_Precision_Std</th>\n",
       "      <th>Pia_Precision_Mean</th>\n",
       "      <th>Pia_Precision_Std</th>\n",
       "      <th>WM_Precision_Mean</th>\n",
       "      <th>WM_Precision_Std</th>\n",
       "    </tr>\n",
       "  </thead>\n",
       "  <tbody>\n",
       "    <tr>\n",
       "      <th>4</th>\n",
       "      <td>Using_Center</td>\n",
       "      <td>lhs</td>\n",
       "      <td>0.000108</td>\n",
       "      <td>136.535704</td>\n",
       "      <td>289.590238</td>\n",
       "      <td>0.000025</td>\n",
       "      <td>48.671272</td>\n",
       "      <td>108.802459</td>\n",
       "      <td>246.657175</td>\n",
       "      <td>59.599135</td>\n",
       "      <td>255.924000</td>\n",
       "      <td>59.229022</td>\n",
       "    </tr>\n",
       "    <tr>\n",
       "      <th>5</th>\n",
       "      <td>Using_Center</td>\n",
       "      <td>rhs</td>\n",
       "      <td>0.000022</td>\n",
       "      <td>107.005035</td>\n",
       "      <td>259.335496</td>\n",
       "      <td>0.000004</td>\n",
       "      <td>34.940611</td>\n",
       "      <td>83.237123</td>\n",
       "      <td>332.728409</td>\n",
       "      <td>102.137464</td>\n",
       "      <td>331.449576</td>\n",
       "      <td>117.181951</td>\n",
       "    </tr>\n",
       "    <tr>\n",
       "      <th>10</th>\n",
       "      <td>Using_Rabies_Surface</td>\n",
       "      <td>lhs</td>\n",
       "      <td>179.804645</td>\n",
       "      <td>158.031143</td>\n",
       "      <td>334.095551</td>\n",
       "      <td>68.653145</td>\n",
       "      <td>55.124632</td>\n",
       "      <td>34.233680</td>\n",
       "      <td>179.787428</td>\n",
       "      <td>49.865592</td>\n",
       "      <td>170.367024</td>\n",
       "      <td>40.247299</td>\n",
       "    </tr>\n",
       "    <tr>\n",
       "      <th>11</th>\n",
       "      <td>Using_Rabies_Surface</td>\n",
       "      <td>rhs</td>\n",
       "      <td>169.804606</td>\n",
       "      <td>207.269754</td>\n",
       "      <td>202.721241</td>\n",
       "      <td>53.192245</td>\n",
       "      <td>77.062196</td>\n",
       "      <td>68.896934</td>\n",
       "      <td>276.867167</td>\n",
       "      <td>69.790569</td>\n",
       "      <td>289.190341</td>\n",
       "      <td>79.865011</td>\n",
       "    </tr>\n",
       "    <tr>\n",
       "      <th>16</th>\n",
       "      <td>Using_Surface</td>\n",
       "      <td>lhs</td>\n",
       "      <td>209.513442</td>\n",
       "      <td>194.716890</td>\n",
       "      <td>334.788247</td>\n",
       "      <td>28.590642</td>\n",
       "      <td>86.294306</td>\n",
       "      <td>57.403374</td>\n",
       "      <td>161.098215</td>\n",
       "      <td>52.278172</td>\n",
       "      <td>124.848365</td>\n",
       "      <td>25.662729</td>\n",
       "    </tr>\n",
       "    <tr>\n",
       "      <th>17</th>\n",
       "      <td>Using_Surface</td>\n",
       "      <td>rhs</td>\n",
       "      <td>290.965047</td>\n",
       "      <td>270.529899</td>\n",
       "      <td>316.122526</td>\n",
       "      <td>90.421076</td>\n",
       "      <td>74.590864</td>\n",
       "      <td>176.164877</td>\n",
       "      <td>289.440849</td>\n",
       "      <td>78.613942</td>\n",
       "      <td>227.577627</td>\n",
       "      <td>70.938531</td>\n",
       "    </tr>\n",
       "  </tbody>\n",
       "</table>\n",
       "</div>"
      ],
      "text/plain": [
       "    Inner_Alignment_Type  Hem  Rabies_Center_Precision_Mean  \\\n",
       "4           Using_Center  lhs                      0.000108   \n",
       "5           Using_Center  rhs                      0.000022   \n",
       "10  Using_Rabies_Surface  lhs                    179.804645   \n",
       "11  Using_Rabies_Surface  rhs                    169.804606   \n",
       "16         Using_Surface  lhs                    209.513442   \n",
       "17         Using_Surface  rhs                    290.965047   \n",
       "\n",
       "    Rabies_Surf_Center_Dists_Mean  Surf_Center_Precision_Mean  \\\n",
       "4                      136.535704                  289.590238   \n",
       "5                      107.005035                  259.335496   \n",
       "10                     158.031143                  334.095551   \n",
       "11                     207.269754                  202.721241   \n",
       "16                     194.716890                  334.788247   \n",
       "17                     270.529899                  316.122526   \n",
       "\n",
       "    Rabies_Center_Precision_Std  Rabies_Surf_Center_Dists_Std  \\\n",
       "4                      0.000025                     48.671272   \n",
       "5                      0.000004                     34.940611   \n",
       "10                    68.653145                     55.124632   \n",
       "11                    53.192245                     77.062196   \n",
       "16                    28.590642                     86.294306   \n",
       "17                    90.421076                     74.590864   \n",
       "\n",
       "    Surf_Center_Precision_Std  Pia_Precision_Mean  Pia_Precision_Std  \\\n",
       "4                  108.802459          246.657175          59.599135   \n",
       "5                   83.237123          332.728409         102.137464   \n",
       "10                  34.233680          179.787428          49.865592   \n",
       "11                  68.896934          276.867167          69.790569   \n",
       "16                  57.403374          161.098215          52.278172   \n",
       "17                 176.164877          289.440849          78.613942   \n",
       "\n",
       "    WM_Precision_Mean  WM_Precision_Std  \n",
       "4          255.924000         59.229022  \n",
       "5          331.449576        117.181951  \n",
       "10         170.367024         40.247299  \n",
       "11         289.190341         79.865011  \n",
       "16         124.848365         25.662729  \n",
       "17         227.577627         70.938531  "
      ]
     },
     "execution_count": 246,
     "metadata": {},
     "output_type": "execute_result"
    }
   ],
   "source": [
    "df = df_vm1_\n",
    "df[(df['BR']=='vM1')][['Inner_Alignment_Type','Hem','Rabies_Center_Precision_Mean','Rabies_Surf_Center_Dists_Mean','Surf_Center_Precision_Mean',\\\n",
    "                      'Rabies_Center_Precision_Std','Rabies_Surf_Center_Dists_Std','Surf_Center_Precision_Std','Pia_Precision_Mean','Pia_Precision_Std',\\\n",
    "                      'WM_Precision_Mean','WM_Precision_Std']]"
   ]
  },
  {
   "cell_type": "code",
   "execution_count": 245,
   "id": "0325043d",
   "metadata": {},
   "outputs": [
    {
     "data": {
      "text/html": [
       "<div>\n",
       "<style scoped>\n",
       "    .dataframe tbody tr th:only-of-type {\n",
       "        vertical-align: middle;\n",
       "    }\n",
       "\n",
       "    .dataframe tbody tr th {\n",
       "        vertical-align: top;\n",
       "    }\n",
       "\n",
       "    .dataframe thead th {\n",
       "        text-align: right;\n",
       "    }\n",
       "</style>\n",
       "<table border=\"1\" class=\"dataframe\">\n",
       "  <thead>\n",
       "    <tr style=\"text-align: right;\">\n",
       "      <th></th>\n",
       "      <th>Inner_Alignment_Type</th>\n",
       "      <th>Hem</th>\n",
       "      <th>Rabies_Center_Precision_Mean</th>\n",
       "      <th>Rabies_Surf_Center_Dists_Mean</th>\n",
       "      <th>Surf_Center_Precision_Mean</th>\n",
       "      <th>Rabies_Center_Precision_Std</th>\n",
       "      <th>Rabies_Surf_Center_Dists_Std</th>\n",
       "      <th>Surf_Center_Precision_Std</th>\n",
       "      <th>Pia_Precision_Mean</th>\n",
       "      <th>Pia_Precision_Std</th>\n",
       "      <th>WM_Precision_Mean</th>\n",
       "      <th>WM_Precision_Std</th>\n",
       "    </tr>\n",
       "  </thead>\n",
       "  <tbody>\n",
       "    <tr>\n",
       "      <th>0</th>\n",
       "      <td>Using_Center</td>\n",
       "      <td>lhs</td>\n",
       "      <td>0.000255</td>\n",
       "      <td>174.770052</td>\n",
       "      <td>275.154614</td>\n",
       "      <td>0.000069</td>\n",
       "      <td>64.001058</td>\n",
       "      <td>141.089554</td>\n",
       "      <td>336.542373</td>\n",
       "      <td>120.193650</td>\n",
       "      <td>411.177753</td>\n",
       "      <td>154.537712</td>\n",
       "    </tr>\n",
       "    <tr>\n",
       "      <th>1</th>\n",
       "      <td>Using_Center</td>\n",
       "      <td>rhs</td>\n",
       "      <td>0.000116</td>\n",
       "      <td>160.503011</td>\n",
       "      <td>410.403282</td>\n",
       "      <td>0.000040</td>\n",
       "      <td>63.933544</td>\n",
       "      <td>51.040078</td>\n",
       "      <td>374.026702</td>\n",
       "      <td>136.086456</td>\n",
       "      <td>391.371841</td>\n",
       "      <td>82.013406</td>\n",
       "    </tr>\n",
       "    <tr>\n",
       "      <th>6</th>\n",
       "      <td>Using_Rabies_Surface</td>\n",
       "      <td>lhs</td>\n",
       "      <td>166.291761</td>\n",
       "      <td>111.442778</td>\n",
       "      <td>316.298504</td>\n",
       "      <td>58.768406</td>\n",
       "      <td>28.874837</td>\n",
       "      <td>72.736020</td>\n",
       "      <td>166.249451</td>\n",
       "      <td>56.373906</td>\n",
       "      <td>262.776180</td>\n",
       "      <td>95.796643</td>\n",
       "    </tr>\n",
       "    <tr>\n",
       "      <th>7</th>\n",
       "      <td>Using_Rabies_Surface</td>\n",
       "      <td>rhs</td>\n",
       "      <td>336.291844</td>\n",
       "      <td>168.163943</td>\n",
       "      <td>526.349131</td>\n",
       "      <td>114.370322</td>\n",
       "      <td>77.104297</td>\n",
       "      <td>165.279491</td>\n",
       "      <td>NaN</td>\n",
       "      <td>NaN</td>\n",
       "      <td>NaN</td>\n",
       "      <td>NaN</td>\n",
       "    </tr>\n",
       "    <tr>\n",
       "      <th>12</th>\n",
       "      <td>Using_Surface</td>\n",
       "      <td>lhs</td>\n",
       "      <td>432.971896</td>\n",
       "      <td>268.238999</td>\n",
       "      <td>290.450014</td>\n",
       "      <td>188.341793</td>\n",
       "      <td>130.203701</td>\n",
       "      <td>102.102797</td>\n",
       "      <td>190.984770</td>\n",
       "      <td>58.139692</td>\n",
       "      <td>211.490983</td>\n",
       "      <td>68.783411</td>\n",
       "    </tr>\n",
       "    <tr>\n",
       "      <th>13</th>\n",
       "      <td>Using_Surface</td>\n",
       "      <td>rhs</td>\n",
       "      <td>588.454376</td>\n",
       "      <td>525.887349</td>\n",
       "      <td>488.216692</td>\n",
       "      <td>225.085768</td>\n",
       "      <td>141.648338</td>\n",
       "      <td>187.031103</td>\n",
       "      <td>NaN</td>\n",
       "      <td>NaN</td>\n",
       "      <td>NaN</td>\n",
       "      <td>NaN</td>\n",
       "    </tr>\n",
       "  </tbody>\n",
       "</table>\n",
       "</div>"
      ],
      "text/plain": [
       "    Inner_Alignment_Type  Hem  Rabies_Center_Precision_Mean  \\\n",
       "0           Using_Center  lhs                      0.000255   \n",
       "1           Using_Center  rhs                      0.000116   \n",
       "6   Using_Rabies_Surface  lhs                    166.291761   \n",
       "7   Using_Rabies_Surface  rhs                    336.291844   \n",
       "12         Using_Surface  lhs                    432.971896   \n",
       "13         Using_Surface  rhs                    588.454376   \n",
       "\n",
       "    Rabies_Surf_Center_Dists_Mean  Surf_Center_Precision_Mean  \\\n",
       "0                      174.770052                  275.154614   \n",
       "1                      160.503011                  410.403282   \n",
       "6                      111.442778                  316.298504   \n",
       "7                      168.163943                  526.349131   \n",
       "12                     268.238999                  290.450014   \n",
       "13                     525.887349                  488.216692   \n",
       "\n",
       "    Rabies_Center_Precision_Std  Rabies_Surf_Center_Dists_Std  \\\n",
       "0                      0.000069                     64.001058   \n",
       "1                      0.000040                     63.933544   \n",
       "6                     58.768406                     28.874837   \n",
       "7                    114.370322                     77.104297   \n",
       "12                   188.341793                    130.203701   \n",
       "13                   225.085768                    141.648338   \n",
       "\n",
       "    Surf_Center_Precision_Std  Pia_Precision_Mean  Pia_Precision_Std  \\\n",
       "0                  141.089554          336.542373         120.193650   \n",
       "1                   51.040078          374.026702         136.086456   \n",
       "6                   72.736020          166.249451          56.373906   \n",
       "7                  165.279491                 NaN                NaN   \n",
       "12                 102.102797          190.984770          58.139692   \n",
       "13                 187.031103                 NaN                NaN   \n",
       "\n",
       "    WM_Precision_Mean  WM_Precision_Std  \n",
       "0          411.177753        154.537712  \n",
       "1          391.371841         82.013406  \n",
       "6          262.776180         95.796643  \n",
       "7                 NaN               NaN  \n",
       "12         211.490983         68.783411  \n",
       "13                NaN               NaN  "
      ]
     },
     "execution_count": 245,
     "metadata": {},
     "output_type": "execute_result"
    }
   ],
   "source": [
    "df=df_vs1_\n",
    "df[(df['BR']=='vS1')][['Inner_Alignment_Type','Hem','Rabies_Center_Precision_Mean','Rabies_Surf_Center_Dists_Mean','Surf_Center_Precision_Mean',\\\n",
    "                      'Rabies_Center_Precision_Std','Rabies_Surf_Center_Dists_Std','Surf_Center_Precision_Std',\\\n",
    "                      'Pia_Precision_Mean','Pia_Precision_Std','WM_Precision_Mean','WM_Precision_Std']]"
   ]
  },
  {
   "cell_type": "code",
   "execution_count": 312,
   "id": "663f6aae",
   "metadata": {},
   "outputs": [],
   "source": [
    "input_path='/Users/mysee/Documents/PhD/Projects/vM1/Final_Data/'\n",
    "df_global =pd.read_csv(input_path+'Alignment_Analysis/Global_Alignment_stats.csv')\n",
    "df_vm1 =pd.read_csv(input_path+'Alignment_Analysis/vM1_stats.csv')\n",
    "df_s1bf =pd.read_csv(input_path+'Alignment_Analysis/S1BF_stats.csv')"
   ]
  },
  {
   "cell_type": "code",
   "execution_count": 313,
   "id": "06d56e29",
   "metadata": {},
   "outputs": [],
   "source": [
    "df_global=df_global[df_global['Hem']=='lhs']\n",
    "df_vm1=df_vm1[df_vm1['Hem']=='lhs']\n",
    "df_s1bf=df_s1bf[df_s1bf['Hem']=='lhs']"
   ]
  },
  {
   "cell_type": "code",
   "execution_count": 314,
   "id": "97076d70",
   "metadata": {
    "scrolled": true
   },
   "outputs": [
    {
     "data": {
      "text/plain": [
       "Index(['Unnamed: 0', 'Angular_Error_SEM', 'Angular_Precision_Mean',\n",
       "       'Angular_Precision_Std', 'BR', 'Barrel_Cortex_Center_Ellipsoid',\n",
       "       'Barrel_Cortex_Center_Ellipsoid_Norm',\n",
       "       'Barrel_Cortex_Center_Error_Dists_SEM',\n",
       "       'Barrel_Cortex_Center_Precision_Mean',\n",
       "       'Barrel_Cortex_Center_Precision_Std', 'Barrels_Angular_Error_SEM',\n",
       "       'Barrels_Angular_Precision_Mean', 'Barrels_Angular_Precision_Std',\n",
       "       'Barrels_Barrel_Center_Precision_Mean',\n",
       "       'Barrels_Barrel_Center_Precision_Std',\n",
       "       'Barrels_Barrel_Centers_Error_Ellipsoid_Mean',\n",
       "       'Barrels_Barrel_Centers_Error_Ellipsoid_Mean_Norm',\n",
       "       'Barrels_Barrel_Centers_Error_Ellipsoid_Std',\n",
       "       'Barrels_Barrel_Centers_Error_Ellipsoid_Std_Norm',\n",
       "       'Barrels_Column_Center_Precision_Mean',\n",
       "       'Barrels_Column_Center_Precision_Std',\n",
       "       'Barrels_Column_Error_Ellipsoid_Mean',\n",
       "       'Barrels_Column_Error_Ellipsoid_Mean_Norm',\n",
       "       'Barrels_Column_Error_Ellipsoid_Std',\n",
       "       'Barrels_Column_Error_Ellipsoid_Std_Norm',\n",
       "       'Barrels_Pia_Error_Ellipsoid_Mean',\n",
       "       'Barrels_Pia_Error_Ellipsoid_Mean_Norm',\n",
       "       'Barrels_Pia_Error_Ellipsoid_Std',\n",
       "       'Barrels_Pia_Error_Ellipsoid_Std_Norm', 'Barrels_Pia_Precision_Mean',\n",
       "       'Barrels_Pia_Precision_std', 'Barrels_WM_Error_Ellipsoid_Mean',\n",
       "       'Barrels_WM_Error_Ellipsoid_Mean_Norm',\n",
       "       'Barrels_WM_Error_Ellipsoid_Std', 'Barrels_WM_Error_Ellipsoid_Std_Norm',\n",
       "       'Barrels_WM_Precision_Mean', 'Barrels_WM_Precision_Std', 'Hem',\n",
       "       'Inner_Alignment_Type', 'Number_Of_Axis_Used', 'Outer_Alignment_Type',\n",
       "       'Overall_Rabies_landmarks', 'Overall_Volume',\n",
       "       'Overlap_Rabies_landmarks', 'Overlap_Volume',\n",
       "       'PCA_0_Angle_Between_Axes_Mean', 'PCA_0_Angle_Between_Axes_Std',\n",
       "       'PCA_1_Angle_Between_Axes_Mean', 'PCA_1_Angle_Between_Axes_Std',\n",
       "       'PCA_2_Angle_Between_Axes_Mean', 'PCA_2_Angle_Between_Axes_Std',\n",
       "       'PCA_Angular_Precision_Mean', 'PCA_Angular_Precision_SEM',\n",
       "       'PCA_Angular_Precision_Std', 'Pia_Error_Dist_SEM',\n",
       "       'Pia_Error_Ellipsoid_Mean', 'Pia_Error_Ellipsoid_Mean_Norm',\n",
       "       'Pia_Error_Ellipsoid_Std', 'Pia_Error_Ellipsoid_Std_Norm',\n",
       "       'Pia_Precision_Mean', 'Pia_Precision_Std', 'Rabies_Center_Ellipsoid',\n",
       "       'Rabies_Center_Ellipsoid_Norm', 'Rabies_Center_Error_Dists_SEM',\n",
       "       'Rabies_Center_Precision_Mean', 'Rabies_Center_Precision_Std',\n",
       "       'Rabies_Landmarks_Overlap_Percentage', 'Rabies_Surf_Center_Dists_Mean',\n",
       "       'Rabies_Surf_Center_Dists_Std', 'Rabies_Surf_Center_Ellipsoid',\n",
       "       'Rabies_Surf_Center_Ellipsoid_Norm',\n",
       "       'Rabies_Surf_Center_Error_Dists_SEM', 'Surf_Center_Ellipsoid',\n",
       "       'Surf_Center_Ellipsoid_Norm', 'Surf_Center_Error_Dists_SEM',\n",
       "       'Surf_Center_Precision_Mean', 'Surf_Center_Precision_Std',\n",
       "       'Volume_Overlap_Percentage', 'WM_Error_Dist_SEM',\n",
       "       'WM_Error_Ellipsoid_Mean', 'WM_Error_Ellipsoid_Mean_Norm',\n",
       "       'WM_Precision_Mean', 'WM_Precision_Std'],\n",
       "      dtype='object')"
      ]
     },
     "execution_count": 314,
     "metadata": {},
     "output_type": "execute_result"
    }
   ],
   "source": [
    "df_global.columns"
   ]
  },
  {
   "cell_type": "markdown",
   "id": "a1912791",
   "metadata": {},
   "source": [
    "## Center Precisions"
   ]
  },
  {
   "cell_type": "code",
   "execution_count": 371,
   "id": "b8ce3a6e",
   "metadata": {},
   "outputs": [
    {
     "data": {
      "text/html": [
       "<div>\n",
       "<style scoped>\n",
       "    .dataframe tbody tr th:only-of-type {\n",
       "        vertical-align: middle;\n",
       "    }\n",
       "\n",
       "    .dataframe tbody tr th {\n",
       "        vertical-align: top;\n",
       "    }\n",
       "\n",
       "    .dataframe thead th {\n",
       "        text-align: right;\n",
       "    }\n",
       "</style>\n",
       "<table border=\"1\" class=\"dataframe\">\n",
       "  <thead>\n",
       "    <tr style=\"text-align: right;\">\n",
       "      <th></th>\n",
       "      <th>Surf_Center_Precision_Mean</th>\n",
       "    </tr>\n",
       "  </thead>\n",
       "  <tbody>\n",
       "    <tr>\n",
       "      <th>22</th>\n",
       "      <td>623.002771</td>\n",
       "    </tr>\n",
       "  </tbody>\n",
       "</table>\n",
       "</div>"
      ],
      "text/plain": [
       "    Surf_Center_Precision_Mean\n",
       "22                  623.002771"
      ]
     },
     "execution_count": 371,
     "metadata": {},
     "output_type": "execute_result"
    }
   ],
   "source": [
    "df_global[(df_global['Inner_Alignment_Type']=='Using_Surface') & (df_global['BR']=='vM1')][['Surf_Center_Precision_Mean',]\n",
    "                                                                                          ]"
   ]
  },
  {
   "cell_type": "code",
   "execution_count": 316,
   "id": "253cfa3f",
   "metadata": {},
   "outputs": [
    {
     "data": {
      "text/html": [
       "<div>\n",
       "<style scoped>\n",
       "    .dataframe tbody tr th:only-of-type {\n",
       "        vertical-align: middle;\n",
       "    }\n",
       "\n",
       "    .dataframe tbody tr th {\n",
       "        vertical-align: top;\n",
       "    }\n",
       "\n",
       "    .dataframe thead th {\n",
       "        text-align: right;\n",
       "    }\n",
       "</style>\n",
       "<table border=\"1\" class=\"dataframe\">\n",
       "  <thead>\n",
       "    <tr style=\"text-align: right;\">\n",
       "      <th></th>\n",
       "      <th>Surf_Center_Precision_Mean</th>\n",
       "    </tr>\n",
       "  </thead>\n",
       "  <tbody>\n",
       "    <tr>\n",
       "      <th>16</th>\n",
       "      <td>353.425616</td>\n",
       "    </tr>\n",
       "  </tbody>\n",
       "</table>\n",
       "</div>"
      ],
      "text/plain": [
       "    Surf_Center_Precision_Mean\n",
       "16                  353.425616"
      ]
     },
     "execution_count": 316,
     "metadata": {},
     "output_type": "execute_result"
    }
   ],
   "source": [
    "df_global[(df_global['Inner_Alignment_Type']=='Using_Local_Centers') & (df_global['BR']=='vM1')][['Surf_Center_Precision_Mean',]]\n",
    "                     "
   ]
  },
  {
   "cell_type": "code",
   "execution_count": 317,
   "id": "e62f339b",
   "metadata": {},
   "outputs": [
    {
     "data": {
      "text/html": [
       "<div>\n",
       "<style scoped>\n",
       "    .dataframe tbody tr th:only-of-type {\n",
       "        vertical-align: middle;\n",
       "    }\n",
       "\n",
       "    .dataframe tbody tr th {\n",
       "        vertical-align: top;\n",
       "    }\n",
       "\n",
       "    .dataframe thead th {\n",
       "        text-align: right;\n",
       "    }\n",
       "</style>\n",
       "<table border=\"1\" class=\"dataframe\">\n",
       "  <thead>\n",
       "    <tr style=\"text-align: right;\">\n",
       "      <th></th>\n",
       "      <th>Surf_Center_Precision_Mean</th>\n",
       "    </tr>\n",
       "  </thead>\n",
       "  <tbody>\n",
       "    <tr>\n",
       "      <th>10</th>\n",
       "      <td>225.985713</td>\n",
       "    </tr>\n",
       "  </tbody>\n",
       "</table>\n",
       "</div>"
      ],
      "text/plain": [
       "    Surf_Center_Precision_Mean\n",
       "10                  225.985713"
      ]
     },
     "execution_count": 317,
     "metadata": {},
     "output_type": "execute_result"
    }
   ],
   "source": [
    "df_global[(df_global['Inner_Alignment_Type']=='Using_Local_Rabies_Surfaces') & (df_global['BR']=='vM1')][['Surf_Center_Precision_Mean',]]\n"
   ]
  },
  {
   "cell_type": "code",
   "execution_count": 318,
   "id": "67defdd3",
   "metadata": {},
   "outputs": [
    {
     "data": {
      "text/html": [
       "<div>\n",
       "<style scoped>\n",
       "    .dataframe tbody tr th:only-of-type {\n",
       "        vertical-align: middle;\n",
       "    }\n",
       "\n",
       "    .dataframe tbody tr th {\n",
       "        vertical-align: top;\n",
       "    }\n",
       "\n",
       "    .dataframe thead th {\n",
       "        text-align: right;\n",
       "    }\n",
       "</style>\n",
       "<table border=\"1\" class=\"dataframe\">\n",
       "  <thead>\n",
       "    <tr style=\"text-align: right;\">\n",
       "      <th></th>\n",
       "      <th>Rabies_Surf_Center_Dists_Mean</th>\n",
       "    </tr>\n",
       "  </thead>\n",
       "  <tbody>\n",
       "    <tr>\n",
       "      <th>4</th>\n",
       "      <td>136.535704</td>\n",
       "    </tr>\n",
       "  </tbody>\n",
       "</table>\n",
       "</div>"
      ],
      "text/plain": [
       "   Rabies_Surf_Center_Dists_Mean\n",
       "4                     136.535704"
      ]
     },
     "execution_count": 318,
     "metadata": {},
     "output_type": "execute_result"
    }
   ],
   "source": [
    "df_vm1[(df_vm1['Inner_Alignment_Type']=='Using_Center') & (df_vm1['BR']=='vM1')][['Rabies_Surf_Center_Dists_Mean',]]\n",
    "                                          "
   ]
  },
  {
   "cell_type": "code",
   "execution_count": 379,
   "id": "83925602",
   "metadata": {},
   "outputs": [
    {
     "data": {
      "text/html": [
       "<div>\n",
       "<style scoped>\n",
       "    .dataframe tbody tr th:only-of-type {\n",
       "        vertical-align: middle;\n",
       "    }\n",
       "\n",
       "    .dataframe tbody tr th {\n",
       "        vertical-align: top;\n",
       "    }\n",
       "\n",
       "    .dataframe thead th {\n",
       "        text-align: right;\n",
       "    }\n",
       "</style>\n",
       "<table border=\"1\" class=\"dataframe\">\n",
       "  <thead>\n",
       "    <tr style=\"text-align: right;\">\n",
       "      <th></th>\n",
       "      <th>Surf_Center_Precision_Mean</th>\n",
       "    </tr>\n",
       "  </thead>\n",
       "  <tbody>\n",
       "    <tr>\n",
       "      <th>10</th>\n",
       "      <td>475.663891</td>\n",
       "    </tr>\n",
       "  </tbody>\n",
       "</table>\n",
       "</div>"
      ],
      "text/plain": [
       "    Surf_Center_Precision_Mean\n",
       "10                  475.663891"
      ]
     },
     "execution_count": 379,
     "metadata": {},
     "output_type": "execute_result"
    }
   ],
   "source": [
    "df_s1bf[(df_s1bf['Inner_Alignment_Type']=='Use_Projections_Alone') & (df_s1bf['BR']=='vM1')][['Surf_Center_Precision_Mean',]]\n",
    "                    "
   ]
  },
  {
   "cell_type": "code",
   "execution_count": null,
   "id": "e6ed6c94",
   "metadata": {},
   "outputs": [],
   "source": []
  },
  {
   "cell_type": "code",
   "execution_count": 369,
   "id": "c1e562cf",
   "metadata": {},
   "outputs": [
    {
     "data": {
      "text/html": [
       "<div>\n",
       "<style scoped>\n",
       "    .dataframe tbody tr th:only-of-type {\n",
       "        vertical-align: middle;\n",
       "    }\n",
       "\n",
       "    .dataframe tbody tr th {\n",
       "        vertical-align: top;\n",
       "    }\n",
       "\n",
       "    .dataframe thead th {\n",
       "        text-align: right;\n",
       "    }\n",
       "</style>\n",
       "<table border=\"1\" class=\"dataframe\">\n",
       "  <thead>\n",
       "    <tr style=\"text-align: right;\">\n",
       "      <th></th>\n",
       "      <th>Barrels_Barrel_Center_Precision_Mean</th>\n",
       "    </tr>\n",
       "  </thead>\n",
       "  <tbody>\n",
       "    <tr>\n",
       "      <th>18</th>\n",
       "      <td>723.841544</td>\n",
       "    </tr>\n",
       "  </tbody>\n",
       "</table>\n",
       "</div>"
      ],
      "text/plain": [
       "    Barrels_Barrel_Center_Precision_Mean\n",
       "18                            723.841544"
      ]
     },
     "execution_count": 369,
     "metadata": {},
     "output_type": "execute_result"
    }
   ],
   "source": [
    "df_global[(df_global['Inner_Alignment_Type']=='Using_Surface') & (df_global['BR']=='vS1')][['Barrels_Barrel_Center_Precision_Mean',]]"
   ]
  },
  {
   "cell_type": "code",
   "execution_count": 322,
   "id": "0ea085b4",
   "metadata": {},
   "outputs": [
    {
     "data": {
      "text/html": [
       "<div>\n",
       "<style scoped>\n",
       "    .dataframe tbody tr th:only-of-type {\n",
       "        vertical-align: middle;\n",
       "    }\n",
       "\n",
       "    .dataframe tbody tr th {\n",
       "        vertical-align: top;\n",
       "    }\n",
       "\n",
       "    .dataframe thead th {\n",
       "        text-align: right;\n",
       "    }\n",
       "</style>\n",
       "<table border=\"1\" class=\"dataframe\">\n",
       "  <thead>\n",
       "    <tr style=\"text-align: right;\">\n",
       "      <th></th>\n",
       "      <th>Barrels_Barrel_Center_Precision_Mean</th>\n",
       "    </tr>\n",
       "  </thead>\n",
       "  <tbody>\n",
       "    <tr>\n",
       "      <th>12</th>\n",
       "      <td>344.582929</td>\n",
       "    </tr>\n",
       "  </tbody>\n",
       "</table>\n",
       "</div>"
      ],
      "text/plain": [
       "    Barrels_Barrel_Center_Precision_Mean\n",
       "12                            344.582929"
      ]
     },
     "execution_count": 322,
     "metadata": {},
     "output_type": "execute_result"
    }
   ],
   "source": [
    "df_global[(df_global['Inner_Alignment_Type']=='Using_Local_Centers') & (df_global['BR']=='vS1')][['Barrels_Barrel_Center_Precision_Mean',]]"
   ]
  },
  {
   "cell_type": "code",
   "execution_count": 323,
   "id": "7c07c383",
   "metadata": {},
   "outputs": [
    {
     "data": {
      "text/html": [
       "<div>\n",
       "<style scoped>\n",
       "    .dataframe tbody tr th:only-of-type {\n",
       "        vertical-align: middle;\n",
       "    }\n",
       "\n",
       "    .dataframe tbody tr th {\n",
       "        vertical-align: top;\n",
       "    }\n",
       "\n",
       "    .dataframe thead th {\n",
       "        text-align: right;\n",
       "    }\n",
       "</style>\n",
       "<table border=\"1\" class=\"dataframe\">\n",
       "  <thead>\n",
       "    <tr style=\"text-align: right;\">\n",
       "      <th></th>\n",
       "      <th>Barrels_Barrel_Center_Precision_Mean</th>\n",
       "    </tr>\n",
       "  </thead>\n",
       "  <tbody>\n",
       "    <tr>\n",
       "      <th>6</th>\n",
       "      <td>255.764975</td>\n",
       "    </tr>\n",
       "  </tbody>\n",
       "</table>\n",
       "</div>"
      ],
      "text/plain": [
       "   Barrels_Barrel_Center_Precision_Mean\n",
       "6                            255.764975"
      ]
     },
     "execution_count": 323,
     "metadata": {},
     "output_type": "execute_result"
    }
   ],
   "source": [
    "df_global[(df_global['Inner_Alignment_Type']=='Using_Local_Rabies_Surfaces') & (df_global['BR']=='vS1')][['Barrels_Barrel_Center_Precision_Mean',]]"
   ]
  },
  {
   "cell_type": "code",
   "execution_count": 378,
   "id": "19ce435f",
   "metadata": {},
   "outputs": [
    {
     "data": {
      "text/html": [
       "<div>\n",
       "<style scoped>\n",
       "    .dataframe tbody tr th:only-of-type {\n",
       "        vertical-align: middle;\n",
       "    }\n",
       "\n",
       "    .dataframe tbody tr th {\n",
       "        vertical-align: top;\n",
       "    }\n",
       "\n",
       "    .dataframe thead th {\n",
       "        text-align: right;\n",
       "    }\n",
       "</style>\n",
       "<table border=\"1\" class=\"dataframe\">\n",
       "  <thead>\n",
       "    <tr style=\"text-align: right;\">\n",
       "      <th></th>\n",
       "      <th>Barrels_Barrel_Center_Precision_Mean</th>\n",
       "    </tr>\n",
       "  </thead>\n",
       "  <tbody>\n",
       "    <tr>\n",
       "      <th>12</th>\n",
       "      <td>685.206611</td>\n",
       "    </tr>\n",
       "  </tbody>\n",
       "</table>\n",
       "</div>"
      ],
      "text/plain": [
       "    Barrels_Barrel_Center_Precision_Mean\n",
       "12                            685.206611"
      ]
     },
     "execution_count": 378,
     "metadata": {},
     "output_type": "execute_result"
    }
   ],
   "source": [
    "df_vm1[(df_vm1['Inner_Alignment_Type']=='Using_Surface') & (df_vm1['BR']=='vS1')][['Barrels_Barrel_Center_Precision_Mean',]]\n",
    "                     "
   ]
  },
  {
   "cell_type": "code",
   "execution_count": 372,
   "id": "20daa910",
   "metadata": {},
   "outputs": [
    {
     "data": {
      "text/html": [
       "<div>\n",
       "<style scoped>\n",
       "    .dataframe tbody tr th:only-of-type {\n",
       "        vertical-align: middle;\n",
       "    }\n",
       "\n",
       "    .dataframe tbody tr th {\n",
       "        vertical-align: top;\n",
       "    }\n",
       "\n",
       "    .dataframe thead th {\n",
       "        text-align: right;\n",
       "    }\n",
       "</style>\n",
       "<table border=\"1\" class=\"dataframe\">\n",
       "  <thead>\n",
       "    <tr style=\"text-align: right;\">\n",
       "      <th></th>\n",
       "      <th>Barrels_Barrel_Center_Precision_Mean</th>\n",
       "    </tr>\n",
       "  </thead>\n",
       "  <tbody>\n",
       "    <tr>\n",
       "      <th>6</th>\n",
       "      <td>103.309921</td>\n",
       "    </tr>\n",
       "  </tbody>\n",
       "</table>\n",
       "</div>"
      ],
      "text/plain": [
       "   Barrels_Barrel_Center_Precision_Mean\n",
       "6                            103.309921"
      ]
     },
     "execution_count": 372,
     "metadata": {},
     "output_type": "execute_result"
    }
   ],
   "source": [
    "df_s1bf[(df_s1bf['Inner_Alignment_Type']=='Use_Projections_Alone') & (df_s1bf['BR']=='vS1')][['Barrels_Barrel_Center_Precision_Mean',]]\n",
    "                   "
   ]
  },
  {
   "cell_type": "code",
   "execution_count": 555,
   "id": "0372eee2",
   "metadata": {
    "scrolled": false
   },
   "outputs": [
    {
     "data": {
      "image/png": "[encoded data removed]",
      "text/plain": [
       "<Figure size 472.441x330.709 with 1 Axes>"
      ]
     },
     "metadata": {
      "needs_background": "light"
     },
     "output_type": "display_data"
    }
   ],
   "source": [
    "N=5\n",
    "ind = np.arange(N)\n",
    "width = 0.25\n",
    "\n",
    "fig = plt.figure(figsize=(10*cm,7*cm),dpi=120)\n",
    "ax = fig.add_subplot(111)\n",
    "\n",
    "rects1 = ax.bar(ind,[df_global[(df_global['Inner_Alignment_Type']=='Using_Surface') & (df_global['BR']=='WB')][['Surf_Center_Precision_Mean',]].mean().values[0],\\\n",
    "                     df_global[(df_global['Inner_Alignment_Type']=='Using_Local_Rabies_Surfaces') & (df_global['BR']=='WB')][['Surf_Center_Precision_Mean',]].mean().values[0],\\\n",
    "                     df_global[(df_global['Inner_Alignment_Type']=='Using_Local_Surfaces') & (df_global['BR']=='WB')][['Surf_Center_Precision_Mean',]].mean().values[0],\\\n",
    "                     df_vm1[(df_vm1['Inner_Alignment_Type']=='Using_Surface') & (df_vm1['BR']=='WB')][['Surf_Center_Precision_Mean',]].mean().values[0],\\\n",
    "                     df_s1bf[(df_s1bf['Inner_Alignment_Type']=='Use_Barrels_Alone') & (df_s1bf['BR']=='WB')][['Surf_Center_Precision_Mean',]].mean().values[0],\\\n",
    "                    ],\\\n",
    "                     width, color='red', \\\n",
    "                yerr=[df_global[(df_global['Inner_Alignment_Type']=='Using_Surface') & (df_global['BR']=='WB')][['Surf_Center_Precision_Std',]].mean().values[0],\\\n",
    "                     df_global[(df_global['Inner_Alignment_Type']=='Using_Local_Rabies_Surfaces') & (df_global['BR']=='WB')][['Surf_Center_Precision_Std',]].mean().values[0],\\\n",
    "                     df_global[(df_global['Inner_Alignment_Type']=='Using_Local_Surfaces') & (df_global['BR']=='WB')][['Surf_Center_Precision_Std',]].mean().values[0],\\\n",
    "                     df_vm1[(df_vm1['Inner_Alignment_Type']=='Using_Surface') & (df_vm1['BR']=='WB')][['Surf_Center_Precision_Std',]].mean().values[0],\\\n",
    "                     df_s1bf[(df_s1bf['Inner_Alignment_Type']=='Use_Barrels_Alone') & (df_s1bf['BR']=='WB')][['Surf_Center_Precision_Std',]].mean().values[0],\\\n",
    "                    ],\\\n",
    "                     )\n",
    "\n",
    "rects2 = ax.bar(ind+width,[df_global[(df_global['Inner_Alignment_Type']=='Using_Surface') & (df_global['BR']=='vM1')][['Surf_Center_Precision_Mean',]].mean().values[0],\\\n",
    "                     df_global[(df_global['Inner_Alignment_Type']=='Using_Local_Centers') & (df_global['BR']=='vM1')][['Surf_Center_Precision_Mean',]].mean().values[0],\\\n",
    "                     df_global[(df_global['Inner_Alignment_Type']=='Using_Local_Rabies_Surfaces') & (df_global['BR']=='vM1')][['Surf_Center_Precision_Mean',]].mean().values[0],\\\n",
    "                     df_vm1[(df_vm1['Inner_Alignment_Type']=='Using_Center') & (df_vm1['BR']=='vM1')][['Rabies_Surf_Center_Dists_Mean',]].mean().values[0],\\\n",
    "                     df_s1bf[(df_s1bf['Inner_Alignment_Type']=='Use_Barrels_Alone') & (df_s1bf['BR']=='vM1')][['Surf_Center_Precision_Mean',]].mean().values[0],\\\n",
    "                    ],\\\n",
    "                     width, color='green', \\\n",
    "                yerr=[df_global[(df_global['Inner_Alignment_Type']=='Using_Surface') & (df_global['BR']=='vM1')][['Surf_Center_Precision_Std',]].mean().values[0],\\\n",
    "                     df_global[(df_global['Inner_Alignment_Type']=='Using_Local_Centers') & (df_global['BR']=='vM1')][['Surf_Center_Precision_Std',]].mean().values[0],\\\n",
    "                     df_global[(df_global['Inner_Alignment_Type']=='Using_Local_Rabies_Surfaces') & (df_global['BR']=='vM1')][['Surf_Center_Precision_Std',]].mean().values[0],\\\n",
    "                     df_vm1[(df_vm1['Inner_Alignment_Type']=='Using_Center') & (df_vm1['BR']=='vM1')][['Rabies_Surf_Center_Dists_Std',]].mean().values[0],\\\n",
    "                     df_s1bf[(df_s1bf['Inner_Alignment_Type']=='Use_Barrels_Alone') & (df_s1bf['BR']=='vM1')][['Surf_Center_Precision_Std',]].mean().values[0],\\\n",
    "                    ],\\\n",
    "                     )\n",
    "\n",
    "rects3 = ax.bar(ind+2*width,[df_global[(df_global['Inner_Alignment_Type']=='Using_Surface') & (df_global['BR']=='vS1')][['Barrels_Barrel_Center_Precision_Mean',]].mean().values[0],\\\n",
    "                     df_global[(df_global['Inner_Alignment_Type']=='Using_Local_Centers') & (df_global['BR']=='vS1')][['Barrels_Barrel_Center_Precision_Mean',]].mean().values[0],\\\n",
    "                     df_global[(df_global['Inner_Alignment_Type']=='Using_Local_Rabies_Surfaces') & (df_global['BR']=='vS1')][['Barrels_Barrel_Center_Precision_Mean',]].mean().values[0],\\\n",
    "                     df_vm1[(df_vm1['Inner_Alignment_Type']=='Using_Rabies_Surface') & (df_vm1['BR']=='vS1')][['Barrels_Column_Center_Precision_Mean',]].mean().values[0],\\\n",
    "                     df_s1bf[(df_s1bf['Inner_Alignment_Type']=='Use_Projections_Alone') & (df_s1bf['BR']=='vS1')][['Barrels_Barrel_Center_Precision_Mean',]].mean().values[0],\\\n",
    "                    ],\\\n",
    "                     width, color='blue', \\\n",
    "                yerr=[df_global[(df_global['Inner_Alignment_Type']=='Using_Surface') & (df_global['BR']=='vS1')][['Barrels_Barrel_Center_Precision_Std',]].mean().values[0],\\\n",
    "                     df_global[(df_global['Inner_Alignment_Type']=='Using_Local_Centers') & (df_global['BR']=='vS1')][['Barrels_Barrel_Center_Precision_Std',]].mean().values[0],\\\n",
    "                     df_global[(df_global['Inner_Alignment_Type']=='Using_Local_Rabies_Surfaces') & (df_global['BR']=='vS1')][['Barrels_Barrel_Center_Precision_Std',]].mean().values[0],\\\n",
    "                     df_vm1[(df_vm1['Inner_Alignment_Type']=='Using_Rabies_Surface') & (df_vm1['BR']=='vS1')][['Barrels_Column_Center_Precision_Std',]].mean().values[0],\\\n",
    "                     df_s1bf[(df_s1bf['Inner_Alignment_Type']=='Use_Projections_Alone') & (df_s1bf['BR']=='vS1')][['Barrels_Barrel_Center_Precision_Std',]].mean().values[0],\\\n",
    "                    ],\\\n",
    "                     )\n",
    "\n",
    "ticks = plt.yticks(np.arange(0,1500,100))\n",
    "#rects2 = ax.bar(ind+width, df_global[(df_global['Inner_Alignment_Type']=='Using_Local_Centers') & (df_global['BR']=='WB')][['Surf_Center_Precision_Mean',]].mean().values[0], width, color='blue', \\\n",
    "#                yerr=df_global[(df_global['Inner_Alignment_Type']=='Using_Local_Centers') & (df_global['BR']=='WB')][['Surf_Center_Precision_Std',]].mean().values[0])\n",
    "\n",
    "#rects1 = ax.bar(ind, df_global[(df_global['Inner_Alignment_Type']=='Using_Surface') & (df_global['BR']=='WB')][['Surf_Center_Precision_Mean',]].mean().values[0], width, color='red', \\\n",
    "#                yerr=df_global[(df_global['Inner_Alignment_Type']=='Using_Surface') & (df_global['BR']=='WB')][['Surf_Center_Precision_Std',]].mean().values[0])\n",
    "\n",
    "#rects2 = ax.bar(ind+width, df_global[(df_global['Inner_Alignment_Type']=='Using_Local_Centers') & (df_global['BR']=='WB')][['Surf_Center_Precision_Mean',]].mean().values[0], width, color='blue', \\\n",
    "#                yerr=df_global[(df_global['Inner_Alignment_Type']=='Using_Local_Centers') & (df_global['BR']=='WB')][['Surf_Center_Precision_Std',]].mean().values[0])\n",
    "\n",
    "plt.tight_layout()\n",
    "fig.savefig(input_path + 'Centers_Precision_new.eps')"
   ]
  },
  {
   "cell_type": "code",
   "execution_count": 638,
   "id": "b7bd85f6",
   "metadata": {},
   "outputs": [
    {
     "data": {
      "text/plain": [
       "[381.8890948044372,\n",
       " 543.8293471490082,\n",
       " 500.5925030475408,\n",
       " 907.1234296357976,\n",
       " 803.0753681550113]"
      ]
     },
     "execution_count": 638,
     "metadata": {},
     "output_type": "execute_result"
    }
   ],
   "source": [
    "[df_global[(df_global['Inner_Alignment_Type']=='Using_Surface') & (df_global['BR']=='WB')][['Surf_Center_Precision_Mean',]].mean().values[0],\\\n",
    "                     df_global[(df_global['Inner_Alignment_Type']=='Using_Local_Rabies_Surfaces') & (df_global['BR']=='WB')][['Surf_Center_Precision_Mean',]].mean().values[0],\\\n",
    "                     df_global[(df_global['Inner_Alignment_Type']=='Using_Local_Surfaces') & (df_global['BR']=='WB')][['Surf_Center_Precision_Mean',]].mean().values[0],\\\n",
    "                     df_vm1[(df_vm1['Inner_Alignment_Type']=='Using_Surface') & (df_vm1['BR']=='WB')][['Surf_Center_Precision_Mean',]].mean().values[0],\\\n",
    "                     df_s1bf[(df_s1bf['Inner_Alignment_Type']=='Use_Barrels_Alone') & (df_s1bf['BR']=='WB')][['Surf_Center_Precision_Mean',]].mean().values[0],\\\n",
    "                    ]                     "
   ]
  },
  {
   "cell_type": "code",
   "execution_count": 639,
   "id": "23fd9bc5",
   "metadata": {},
   "outputs": [
    {
     "data": {
      "text/plain": [
       "[77.73867310945599,\n",
       " 253.81853359458017,\n",
       " 230.0720504627181,\n",
       " 274.3069740823401,\n",
       " 380.5135312202003]"
      ]
     },
     "execution_count": 639,
     "metadata": {},
     "output_type": "execute_result"
    }
   ],
   "source": [
    "[df_global[(df_global['Inner_Alignment_Type']=='Using_Surface') & (df_global['BR']=='WB')][['Surf_Center_Precision_Std',]].mean().values[0],\\\n",
    "                     df_global[(df_global['Inner_Alignment_Type']=='Using_Local_Rabies_Surfaces') & (df_global['BR']=='WB')][['Surf_Center_Precision_Std',]].mean().values[0],\\\n",
    "                     df_global[(df_global['Inner_Alignment_Type']=='Using_Local_Surfaces') & (df_global['BR']=='WB')][['Surf_Center_Precision_Std',]].mean().values[0],\\\n",
    "                     df_vm1[(df_vm1['Inner_Alignment_Type']=='Using_Surface') & (df_vm1['BR']=='WB')][['Surf_Center_Precision_Std',]].mean().values[0],\\\n",
    "                     df_s1bf[(df_s1bf['Inner_Alignment_Type']=='Use_Barrels_Alone') & (df_s1bf['BR']=='WB')][['Surf_Center_Precision_Std',]].mean().values[0],\\\n",
    "                    ]"
   ]
  },
  {
   "cell_type": "code",
   "execution_count": 640,
   "id": "91fa0755",
   "metadata": {},
   "outputs": [
    {
     "data": {
      "text/plain": [
       "[623.0027709931687,\n",
       " 353.4256162898369,\n",
       " 225.98571296802265,\n",
       " 136.535704447395,\n",
       " 632.2867815707722]"
      ]
     },
     "execution_count": 640,
     "metadata": {},
     "output_type": "execute_result"
    }
   ],
   "source": [
    "[df_global[(df_global['Inner_Alignment_Type']=='Using_Surface') & (df_global['BR']=='vM1')][['Surf_Center_Precision_Mean',]].mean().values[0],\\\n",
    "                     df_global[(df_global['Inner_Alignment_Type']=='Using_Local_Centers') & (df_global['BR']=='vM1')][['Surf_Center_Precision_Mean',]].mean().values[0],\\\n",
    "                     df_global[(df_global['Inner_Alignment_Type']=='Using_Local_Rabies_Surfaces') & (df_global['BR']=='vM1')][['Surf_Center_Precision_Mean',]].mean().values[0],\\\n",
    "                     df_vm1[(df_vm1['Inner_Alignment_Type']=='Using_Center') & (df_vm1['BR']=='vM1')][['Rabies_Surf_Center_Dists_Mean',]].mean().values[0],\\\n",
    "                     df_s1bf[(df_s1bf['Inner_Alignment_Type']=='Use_Barrels_Alone') & (df_s1bf['BR']=='vM1')][['Surf_Center_Precision_Mean',]].mean().values[0],\\\n",
    "                    ]\n"
   ]
  },
  {
   "cell_type": "code",
   "execution_count": 641,
   "id": "15eb6005",
   "metadata": {},
   "outputs": [
    {
     "data": {
      "text/plain": [
       "[148.90058381333162,\n",
       " 104.56646332824376,\n",
       " 58.00650721017087,\n",
       " 48.67127191520662,\n",
       " 202.7292317244446]"
      ]
     },
     "execution_count": 641,
     "metadata": {},
     "output_type": "execute_result"
    }
   ],
   "source": [
    "[df_global[(df_global['Inner_Alignment_Type']=='Using_Surface') & (df_global['BR']=='vM1')][['Surf_Center_Precision_Std',]].mean().values[0],\\\n",
    "                     df_global[(df_global['Inner_Alignment_Type']=='Using_Local_Centers') & (df_global['BR']=='vM1')][['Surf_Center_Precision_Std',]].mean().values[0],\\\n",
    "                     df_global[(df_global['Inner_Alignment_Type']=='Using_Local_Rabies_Surfaces') & (df_global['BR']=='vM1')][['Surf_Center_Precision_Std',]].mean().values[0],\\\n",
    "                     df_vm1[(df_vm1['Inner_Alignment_Type']=='Using_Center') & (df_vm1['BR']=='vM1')][['Rabies_Surf_Center_Dists_Std',]].mean().values[0],\\\n",
    "                     df_s1bf[(df_s1bf['Inner_Alignment_Type']=='Use_Barrels_Alone') & (df_s1bf['BR']=='vM1')][['Surf_Center_Precision_Std',]].mean().values[0],\\\n",
    "                    ]\n"
   ]
  },
  {
   "cell_type": "code",
   "execution_count": 642,
   "id": "f43fad31",
   "metadata": {},
   "outputs": [
    {
     "data": {
      "text/plain": [
       "[723.8415444528318,\n",
       " 344.58292881953645,\n",
       " 255.76497488793296,\n",
       " 1028.6098586408511,\n",
       " 103.30992077450374]"
      ]
     },
     "execution_count": 642,
     "metadata": {},
     "output_type": "execute_result"
    }
   ],
   "source": [
    "[df_global[(df_global['Inner_Alignment_Type']=='Using_Surface') & (df_global['BR']=='vS1')][['Barrels_Barrel_Center_Precision_Mean',]].mean().values[0],\\\n",
    "                     df_global[(df_global['Inner_Alignment_Type']=='Using_Local_Centers') & (df_global['BR']=='vS1')][['Barrels_Barrel_Center_Precision_Mean',]].mean().values[0],\\\n",
    "                     df_global[(df_global['Inner_Alignment_Type']=='Using_Local_Rabies_Surfaces') & (df_global['BR']=='vS1')][['Barrels_Barrel_Center_Precision_Mean',]].mean().values[0],\\\n",
    "                     df_vm1[(df_vm1['Inner_Alignment_Type']=='Using_Rabies_Surface') & (df_vm1['BR']=='vS1')][['Barrels_Column_Center_Precision_Mean',]].mean().values[0],\\\n",
    "                     df_s1bf[(df_s1bf['Inner_Alignment_Type']=='Use_Projections_Alone') & (df_s1bf['BR']=='vS1')][['Barrels_Barrel_Center_Precision_Mean',]].mean().values[0],\\\n",
    "                    ]"
   ]
  },
  {
   "cell_type": "code",
   "execution_count": 643,
   "id": "af6658b2",
   "metadata": {},
   "outputs": [
    {
     "data": {
      "text/plain": [
       "[55.9492054120016,\n",
       " 86.14009025854041,\n",
       " 58.09681675291234,\n",
       " 88.25878203682116,\n",
       " 43.75933505951682]"
      ]
     },
     "execution_count": 643,
     "metadata": {},
     "output_type": "execute_result"
    }
   ],
   "source": [
    "[df_global[(df_global['Inner_Alignment_Type']=='Using_Surface') & (df_global['BR']=='vS1')][['Barrels_Barrel_Center_Precision_Std',]].mean().values[0],\\\n",
    "                     df_global[(df_global['Inner_Alignment_Type']=='Using_Local_Centers') & (df_global['BR']=='vS1')][['Barrels_Barrel_Center_Precision_Std',]].mean().values[0],\\\n",
    "                     df_global[(df_global['Inner_Alignment_Type']=='Using_Local_Rabies_Surfaces') & (df_global['BR']=='vS1')][['Barrels_Barrel_Center_Precision_Std',]].mean().values[0],\\\n",
    "                     df_vm1[(df_vm1['Inner_Alignment_Type']=='Using_Rabies_Surface') & (df_vm1['BR']=='vS1')][['Barrels_Column_Center_Precision_Std',]].mean().values[0],\\\n",
    "                     df_s1bf[(df_s1bf['Inner_Alignment_Type']=='Use_Projections_Alone') & (df_s1bf['BR']=='vS1')][['Barrels_Barrel_Center_Precision_Std',]].mean().values[0],\\\n",
    "                    ]"
   ]
  },
  {
   "cell_type": "markdown",
   "id": "2c82460b",
   "metadata": {},
   "source": [
    "#### Pia Precisions"
   ]
  },
  {
   "cell_type": "code",
   "execution_count": 374,
   "id": "69527025",
   "metadata": {},
   "outputs": [
    {
     "data": {
      "text/html": [
       "<div>\n",
       "<style scoped>\n",
       "    .dataframe tbody tr th:only-of-type {\n",
       "        vertical-align: middle;\n",
       "    }\n",
       "\n",
       "    .dataframe tbody tr th {\n",
       "        vertical-align: top;\n",
       "    }\n",
       "\n",
       "    .dataframe thead th {\n",
       "        text-align: right;\n",
       "    }\n",
       "</style>\n",
       "<table border=\"1\" class=\"dataframe\">\n",
       "  <thead>\n",
       "    <tr style=\"text-align: right;\">\n",
       "      <th></th>\n",
       "      <th>Pia_Precision_Mean</th>\n",
       "    </tr>\n",
       "  </thead>\n",
       "  <tbody>\n",
       "    <tr>\n",
       "      <th>34</th>\n",
       "      <td>495.050786</td>\n",
       "    </tr>\n",
       "  </tbody>\n",
       "</table>\n",
       "</div>"
      ],
      "text/plain": [
       "    Pia_Precision_Mean\n",
       "34          495.050786"
      ]
     },
     "execution_count": 374,
     "metadata": {},
     "output_type": "execute_result"
    }
   ],
   "source": [
    "df_global[(df_global['Inner_Alignment_Type']=='Using_Center') & (df_global['BR']=='vM1')][['Pia_Precision_Mean',]]"
   ]
  },
  {
   "cell_type": "code",
   "execution_count": 338,
   "id": "f87773ed",
   "metadata": {},
   "outputs": [
    {
     "data": {
      "text/plain": [
       "(285.2852269413624,)"
      ]
     },
     "execution_count": 338,
     "metadata": {},
     "output_type": "execute_result"
    }
   ],
   "source": [
    "df_global[(df_global['Inner_Alignment_Type']=='Using_Local_Centers') & (df_global['BR']=='vM1')][['Pia_Precision_Mean',]].mean().values[0],\\\n",
    "                     "
   ]
  },
  {
   "cell_type": "code",
   "execution_count": 349,
   "id": "178cfd72",
   "metadata": {},
   "outputs": [
    {
     "data": {
      "text/plain": [
       "(165.86866981088116,)"
      ]
     },
     "execution_count": 349,
     "metadata": {},
     "output_type": "execute_result"
    }
   ],
   "source": [
    "df_global[(df_global['Inner_Alignment_Type']=='Using_Local_Surfaces') & (df_global['BR']=='vM1')][['Pia_Precision_Mean',]].mean().values[0],\\\n",
    "                     "
   ]
  },
  {
   "cell_type": "code",
   "execution_count": 345,
   "id": "6d50bd0d",
   "metadata": {},
   "outputs": [
    {
     "data": {
      "text/plain": [
       "(161.09821482017307,)"
      ]
     },
     "execution_count": 345,
     "metadata": {},
     "output_type": "execute_result"
    }
   ],
   "source": [
    "df_vm1[(df_vm1['Inner_Alignment_Type']=='Using_Surface') & (df_vm1['BR']=='vM1')][['Pia_Precision_Mean',]].values[0][0],\\\n",
    "                     "
   ]
  },
  {
   "cell_type": "code",
   "execution_count": 354,
   "id": "4e4d0b1b",
   "metadata": {},
   "outputs": [
    {
     "data": {
      "text/plain": [
       "(436.7761558899022,)"
      ]
     },
     "execution_count": 354,
     "metadata": {},
     "output_type": "execute_result"
    }
   ],
   "source": [
    "df_s1bf[(df_s1bf['Inner_Alignment_Type']=='Use_Barrels_Alone') & (df_s1bf['BR']=='vM1')][['Pia_Precision_Mean',]].mean().values[0],\\\n",
    "                    "
   ]
  },
  {
   "cell_type": "code",
   "execution_count": null,
   "id": "26d79e6a",
   "metadata": {},
   "outputs": [],
   "source": []
  },
  {
   "cell_type": "code",
   "execution_count": 376,
   "id": "f527202b",
   "metadata": {},
   "outputs": [
    {
     "data": {
      "text/plain": [
       "(800.255887674396,)"
      ]
     },
     "execution_count": 376,
     "metadata": {},
     "output_type": "execute_result"
    }
   ],
   "source": [
    "df_global[(df_global['Inner_Alignment_Type']=='Using_Surface') & (df_global['BR']=='vM1')][['Barrels_Pia_Precision_Mean',]].mean().values[0],\\\n",
    "                     "
   ]
  },
  {
   "cell_type": "code",
   "execution_count": 359,
   "id": "6ed4562b",
   "metadata": {},
   "outputs": [
    {
     "data": {
      "text/plain": [
       "(500.2150353759552,)"
      ]
     },
     "execution_count": 359,
     "metadata": {},
     "output_type": "execute_result"
    }
   ],
   "source": [
    "df_global[(df_global['Inner_Alignment_Type']=='Using_Local_Centers') & (df_global['BR']=='vM1')][['Barrels_Pia_Precision_Mean',]].mean().values[0],\\\n",
    "                     "
   ]
  },
  {
   "cell_type": "code",
   "execution_count": 360,
   "id": "4965660a",
   "metadata": {},
   "outputs": [
    {
     "data": {
      "text/plain": [
       "(343.73235784883565,)"
      ]
     },
     "execution_count": 360,
     "metadata": {},
     "output_type": "execute_result"
    }
   ],
   "source": [
    "df_global[(df_global['Inner_Alignment_Type']=='Using_Local_Rabies_Surfaces') & (df_global['BR']=='vM1')][['Barrels_Pia_Precision_Mean',]].mean().values[0],\\\n",
    "                     "
   ]
  },
  {
   "cell_type": "code",
   "execution_count": 377,
   "id": "04725bee",
   "metadata": {},
   "outputs": [
    {
     "data": {
      "text/plain": [
       "(690.248976763526,)"
      ]
     },
     "execution_count": 377,
     "metadata": {},
     "output_type": "execute_result"
    }
   ],
   "source": [
    "df_vm1[(df_vm1['Inner_Alignment_Type']=='Using_Surface') & (df_vm1['BR']=='vM1')][['Barrels_Pia_Precision_Mean',]].mean().values[0],\\\n",
    "                     "
   ]
  },
  {
   "cell_type": "code",
   "execution_count": 362,
   "id": "ff14371e",
   "metadata": {},
   "outputs": [
    {
     "data": {
      "text/plain": [
       "(112.00115399231362,)"
      ]
     },
     "execution_count": 362,
     "metadata": {},
     "output_type": "execute_result"
    }
   ],
   "source": [
    "df_s1bf[(df_s1bf['Inner_Alignment_Type']=='Use_Projections_Alone') & (df_s1bf['BR']=='vM1')][['Barrels_Pia_Precision_Mean',]].mean().values[0],\\\n",
    "                    "
   ]
  },
  {
   "cell_type": "code",
   "execution_count": 690,
   "id": "2289a153",
   "metadata": {
    "scrolled": false
   },
   "outputs": [
    {
     "data": {
      "image/png": "[encoded data removed]",
      "text/plain": [
       "<Figure size 472.441x330.709 with 1 Axes>"
      ]
     },
     "metadata": {
      "needs_background": "light"
     },
     "output_type": "display_data"
    }
   ],
   "source": [
    "N=5\n",
    "ind = np.arange(N)\n",
    "width = 0.25\n",
    "\n",
    "fig = plt.figure(figsize=(10*cm,7*cm),dpi=120)\n",
    "ax = fig.add_subplot(111)\n",
    "\n",
    "rects1 = ax.bar(ind,[df_global[(df_global['Inner_Alignment_Type']=='Using_Surface') & (df_global['BR']=='WB')][['Pia_Precision_Mean',]].mean().values[0],\\\n",
    "                     df_global[(df_global['Inner_Alignment_Type']=='Using_Local_Centers') & (df_global['BR']=='WB')][['Pia_Error_Ellipsoid_Mean_Norm',]].mean().values[0],\\\n",
    "                     df_global[(df_global['Inner_Alignment_Type']=='Using_Local_Surfaces') & (df_global['BR']=='WB')][['Pia_Precision_Mean',]].mean().values[0],\\\n",
    "                     df_vm1[(df_vm1['Inner_Alignment_Type']=='Using_Center') & (df_vm1['BR']=='WB')][['Pia_Precision_Mean',]].mean().values[0],\\\n",
    "                     df_s1bf[(df_s1bf['Inner_Alignment_Type']=='Use_Barrels_Alone') & (df_s1bf['BR']=='WB')][['Pia_Precision_Mean',]].mean().values[0],\\\n",
    "                    ],\\\n",
    "                     width, color='red', \\\n",
    "                yerr=[df_global[(df_global['Inner_Alignment_Type']=='Using_Surface') & (df_global['BR']=='WB')][['Pia_Precision_Std',]].mean().values[0],\\\n",
    "                     df_global[(df_global['Inner_Alignment_Type']=='Using_Local_Centers') & (df_global['BR']=='WB')][['Pia_Precision_Std',]].mean().values[0],\\\n",
    "                     df_global[(df_global['Inner_Alignment_Type']=='Using_Local_Surfaces') & (df_global['BR']=='WB')][['Pia_Precision_Std',]].mean().values[0],\\\n",
    "                     df_vm1[(df_vm1['Inner_Alignment_Type']=='Using_Center') & (df_vm1['BR']=='WB')][['Pia_Precision_Std',]].mean().values[0],\\\n",
    "                     df_s1bf[(df_s1bf['Inner_Alignment_Type']=='Use_Barrels_Alone') & (df_s1bf['BR']=='WB')][['Pia_Precision_Std',]].mean().values[0],\\\n",
    "                    ],\\\n",
    "                     )\n",
    "\n",
    "rects2 = ax.bar(ind+width,[df_global[(df_global['Inner_Alignment_Type']=='Using_Center') & (df_global['BR']=='vM1')][['Pia_Precision_Mean',]].mean().values[0],\\\n",
    "                     df_global[(df_global['Inner_Alignment_Type']=='Using_Local_Centers') & (df_global['BR']=='vM1')][['Pia_Precision_Mean',]].mean().values[0],\\\n",
    "                     df_global[(df_global['Inner_Alignment_Type']=='Using_Local_Surfaces') & (df_global['BR']=='vM1')][['Pia_Precision_Mean',]].mean().values[0],\\\n",
    "                     df_vm1[(df_vm1['Inner_Alignment_Type']=='Using_Surface') & (df_vm1['BR']=='vM1')][['Pia_Precision_Mean',]].mean().values[0],\\\n",
    "                     df_s1bf[(df_s1bf['Inner_Alignment_Type']=='Use_Barrels_Alone') & (df_s1bf['BR']=='vM1')][['Pia_Precision_Mean',]].mean().values[0],\\\n",
    "                    ],\\\n",
    "                     width, color='green', \\\n",
    "                yerr=[df_global[(df_global['Inner_Alignment_Type']=='Using_Center') & (df_global['BR']=='vM1')][['Pia_Precision_Std',]].mean().values[0],\\\n",
    "                     df_global[(df_global['Inner_Alignment_Type']=='Using_Local_Centers') & (df_global['BR']=='vM1')][['Pia_Precision_Std',]].mean().values[0],\\\n",
    "                     df_global[(df_global['Inner_Alignment_Type']=='Using_Local_Surfaces') & (df_global['BR']=='vM1')][['Pia_Precision_Std',]].mean().values[0],\\\n",
    "                     df_vm1[(df_vm1['Inner_Alignment_Type']=='Using_Surface') & (df_vm1['BR']=='vM1')][['Pia_Precision_Std',]].mean().values[0],\\\n",
    "                     df_s1bf[(df_s1bf['Inner_Alignment_Type']=='Use_Barrels_Alone') & (df_s1bf['BR']=='vM1')][['Pia_Precision_Std',]].mean().values[0],\\\n",
    "                    ],\\\n",
    "                     )\n",
    "\n",
    "rects3 = ax.bar(ind+2*width,[df_global[(df_global['Inner_Alignment_Type']=='Using_Surface') & (df_global['BR']=='vS1')][['Barrels_Pia_Error_Ellipsoid_Mean_Norm',]].mean().values[0],\\\n",
    "                     df_global[(df_global['Inner_Alignment_Type']=='Using_Local_Rabies_Surfaces') & (df_global['BR']=='vS1')][['Barrels_Pia_Error_Ellipsoid_Mean_Norm',]].mean().values[0],\\\n",
    "                     df_global[(df_global['Inner_Alignment_Type']=='Using_Local_Surfaces') & (df_global['BR']=='vS1')][['Barrels_Pia_Error_Ellipsoid_Mean_Norm',]].mean().values[0],\\\n",
    "                     df_vm1[(df_vm1['Inner_Alignment_Type']=='Using_Rabies_Surface') & (df_vm1['BR']=='vS1')][['Barrels_Pia_Precision_Mean',]].mean().values[0],\\\n",
    "                     df_s1bf[(df_s1bf['Inner_Alignment_Type']=='Use_Projections_Alone') & (df_s1bf['BR']=='vS1')][['Barrels_Pia_Precision_Mean',]].mean().values[0],\\\n",
    "                    ],\\\n",
    "                     width, color='blue', \\\n",
    "                yerr=[df_global[(df_global['Inner_Alignment_Type']=='Using_Surface') & (df_global['BR']=='vS1')][['Barrels_Pia_Precision_std',]].mean().values[0],\\\n",
    "                     df_global[(df_global['Inner_Alignment_Type']=='Using_Local_Rabies_Surfaces') & (df_global['BR']=='vS1')][['Barrels_Pia_Precision_std',]].mean().values[0],\\\n",
    "                     df_global[(df_global['Inner_Alignment_Type']=='Using_Local_Surfaces') & (df_global['BR']=='vS1')][['Barrels_Pia_Precision_std',]].mean().values[0],\\\n",
    "                     df_vm1[(df_vm1['Inner_Alignment_Type']=='Using_Rabies_Surface') & (df_vm1['BR']=='vS1')][['Barrels_Pia_Precision_std',]].mean().values[0],\\\n",
    "                     df_s1bf[(df_s1bf['Inner_Alignment_Type']=='Use_Projections_Alone') & (df_s1bf['BR']=='vS1')][['Barrels_Pia_Precision_std',]].mean().values[0],\\\n",
    "                    ],\\\n",
    "                     )\n",
    "\n",
    "ticks = plt.yticks(np.arange(0,1500,100))\n",
    "#rects2 = ax.bar(ind+width, df_global[(df_global['Inner_Alignment_Type']=='Using_Local_Centers') & (df_global['BR']=='WB')][['Surf_Center_Precision_Mean',]].mean().values[0], width, color='blue', \\\n",
    "#                yerr=df_global[(df_global['Inner_Alignment_Type']=='Using_Local_Centers') & (df_global['BR']=='WB')][['Surf_Center_Precision_Std',]].mean().values[0])\n",
    "\n",
    "#rects1 = ax.bar(ind, df_global[(df_global['Inner_Alignment_Type']=='Using_Surface') & (df_global['BR']=='WB')][['Surf_Center_Precision_Mean',]].mean().values[0], width, color='red', \\\n",
    "#                yerr=df_global[(df_global['Inner_Alignment_Type']=='Using_Surface') & (df_global['BR']=='WB')][['Surf_Center_Precision_Std',]].mean().values[0])\n",
    "\n",
    "#rects2 = ax.bar(ind+width, df_global[(df_global['Inner_Alignment_Type']=='Using_Local_Centers') & (df_global['BR']=='WB')][['Surf_Center_Precision_Mean',]].mean().values[0], width, color='blue', \\\n",
    "#                yerr=df_global[(df_global['Inner_Alignment_Type']=='Using_Local_Centers') & (df_global['BR']=='WB')][['Surf_Center_Precision_Std',]].mean().values[0])\n",
    "\n",
    "plt.tight_layout()\n",
    "fig.savefig(input_path + 'Pia_Precision_new.eps')"
   ]
  },
  {
   "cell_type": "code",
   "execution_count": 649,
   "id": "0bd0f5a0",
   "metadata": {},
   "outputs": [
    {
     "data": {
      "text/plain": [
       "[357.94659256203875,\n",
       " 512.7674357952842,\n",
       " 425.9668082059974,\n",
       " 582.5992442600015,\n",
       " 521.2181851511093]"
      ]
     },
     "execution_count": 649,
     "metadata": {},
     "output_type": "execute_result"
    }
   ],
   "source": [
    "[df_global[(df_global['Inner_Alignment_Type']=='Using_Surface') & (df_global['BR']=='WB')][['Pia_Precision_Mean',]].mean().values[0],\\\n",
    "                     df_global[(df_global['Inner_Alignment_Type']=='Using_Local_Centers') & (df_global['BR']=='WB')][['Pia_Error_Ellipsoid_Mean_Norm',]].mean().values[0],\\\n",
    "                     df_global[(df_global['Inner_Alignment_Type']=='Using_Local_Surfaces') & (df_global['BR']=='WB')][['Pia_Precision_Mean',]].mean().values[0],\\\n",
    "                     df_vm1[(df_vm1['Inner_Alignment_Type']=='Using_Center') & (df_vm1['BR']=='WB')][['Pia_Precision_Mean',]].mean().values[0],\\\n",
    "                     df_s1bf[(df_s1bf['Inner_Alignment_Type']=='Use_Barrels_Alone') & (df_s1bf['BR']=='WB')][['Pia_Precision_Mean',]].mean().values[0],\\\n",
    "                    ]                                          "
   ]
  },
  {
   "cell_type": "code",
   "execution_count": 650,
   "id": "25358261",
   "metadata": {},
   "outputs": [
    {
     "data": {
      "text/plain": [
       "[117.27895367040432,\n",
       " 195.9921176799105,\n",
       " 157.43654215347124,\n",
       " 193.9247879601756,\n",
       " 180.20618393984688]"
      ]
     },
     "execution_count": 650,
     "metadata": {},
     "output_type": "execute_result"
    }
   ],
   "source": [
    "[df_global[(df_global['Inner_Alignment_Type']=='Using_Surface') & (df_global['BR']=='WB')][['Pia_Precision_Std',]].mean().values[0],\\\n",
    "                     df_global[(df_global['Inner_Alignment_Type']=='Using_Local_Centers') & (df_global['BR']=='WB')][['Pia_Precision_Std',]].mean().values[0],\\\n",
    "                     df_global[(df_global['Inner_Alignment_Type']=='Using_Local_Surfaces') & (df_global['BR']=='WB')][['Pia_Precision_Std',]].mean().values[0],\\\n",
    "                     df_vm1[(df_vm1['Inner_Alignment_Type']=='Using_Center') & (df_vm1['BR']=='WB')][['Pia_Precision_Std',]].mean().values[0],\\\n",
    "                     df_s1bf[(df_s1bf['Inner_Alignment_Type']=='Use_Barrels_Alone') & (df_s1bf['BR']=='WB')][['Pia_Precision_Std',]].mean().values[0],\\\n",
    "                    ]                     "
   ]
  },
  {
   "cell_type": "code",
   "execution_count": 651,
   "id": "ab5a8020",
   "metadata": {},
   "outputs": [
    {
     "data": {
      "text/plain": [
       "[495.05078626602096,\n",
       " 285.2852269413624,\n",
       " 165.86866981088116,\n",
       " 161.09821482017307,\n",
       " 436.7761558899022]"
      ]
     },
     "execution_count": 651,
     "metadata": {},
     "output_type": "execute_result"
    }
   ],
   "source": [
    "[df_global[(df_global['Inner_Alignment_Type']=='Using_Center') & (df_global['BR']=='vM1')][['Pia_Precision_Mean',]].mean().values[0],\\\n",
    "                     df_global[(df_global['Inner_Alignment_Type']=='Using_Local_Centers') & (df_global['BR']=='vM1')][['Pia_Precision_Mean',]].mean().values[0],\\\n",
    "                     df_global[(df_global['Inner_Alignment_Type']=='Using_Local_Surfaces') & (df_global['BR']=='vM1')][['Pia_Precision_Mean',]].mean().values[0],\\\n",
    "                     df_vm1[(df_vm1['Inner_Alignment_Type']=='Using_Surface') & (df_vm1['BR']=='vM1')][['Pia_Precision_Mean',]].mean().values[0],\\\n",
    "                     df_s1bf[(df_s1bf['Inner_Alignment_Type']=='Use_Barrels_Alone') & (df_s1bf['BR']=='vM1')][['Pia_Precision_Mean',]].mean().values[0],\\\n",
    "                    ]"
   ]
  },
  {
   "cell_type": "code",
   "execution_count": 684,
   "id": "fe02b0f4",
   "metadata": {},
   "outputs": [
    {
     "data": {
      "text/plain": [
       "[167.85401947343726,\n",
       " 102.40156057815884,\n",
       " 59.2851840228856,\n",
       " 52.278172331356,\n",
       " 159.8248735023562]"
      ]
     },
     "execution_count": 684,
     "metadata": {},
     "output_type": "execute_result"
    }
   ],
   "source": [
    "[df_global[(df_global['Inner_Alignment_Type']=='Using_Center') & (df_global['BR']=='vM1')][['Pia_Precision_Std',]].mean().values[0],\\\n",
    "                     df_global[(df_global['Inner_Alignment_Type']=='Using_Local_Centers') & (df_global['BR']=='vM1')][['Pia_Precision_Std',]].mean().values[0],\\\n",
    "                     df_global[(df_global['Inner_Alignment_Type']=='Using_Local_Surfaces') & (df_global['BR']=='vM1')][['Pia_Precision_Std',]].mean().values[0],\\\n",
    "                     df_vm1[(df_vm1['Inner_Alignment_Type']=='Using_Surface') & (df_vm1['BR']=='vM1')][['Pia_Precision_Std',]].mean().values[0],\\\n",
    "                     df_s1bf[(df_s1bf['Inner_Alignment_Type']=='Use_Barrels_Alone') & (df_s1bf['BR']=='vM1')][['Pia_Precision_Std',]].mean().values[0],\\\n",
    "                    ]"
   ]
  },
  {
   "cell_type": "code",
   "execution_count": 652,
   "id": "f642f2e5",
   "metadata": {},
   "outputs": [
    {
     "data": {
      "text/plain": [
       "[729.3452267719515,\n",
       " 328.6470677601913,\n",
       " 317.6270441095417,\n",
       " 915.4072959542664,\n",
       " 112.00115399231362]"
      ]
     },
     "execution_count": 652,
     "metadata": {},
     "output_type": "execute_result"
    }
   ],
   "source": [
    "[df_global[(df_global['Inner_Alignment_Type']=='Using_Surface') & (df_global['BR']=='vS1')][['Barrels_Pia_Error_Ellipsoid_Mean_Norm',]].mean().values[0],\\\n",
    "                     df_global[(df_global['Inner_Alignment_Type']=='Using_Local_Rabies_Surfaces') & (df_global['BR']=='vS1')][['Barrels_Pia_Error_Ellipsoid_Mean_Norm',]].mean().values[0],\\\n",
    "                     df_global[(df_global['Inner_Alignment_Type']=='Using_Local_Surfaces') & (df_global['BR']=='vS1')][['Barrels_Pia_Error_Ellipsoid_Mean_Norm',]].mean().values[0],\\\n",
    "                     df_vm1[(df_vm1['Inner_Alignment_Type']=='Using_Rabies_Surface') & (df_vm1['BR']=='vS1')][['Barrels_Pia_Precision_Mean',]].mean().values[0],\\\n",
    "                     df_s1bf[(df_s1bf['Inner_Alignment_Type']=='Use_Projections_Alone') & (df_s1bf['BR']=='vS1')][['Barrels_Pia_Precision_Mean',]].mean().values[0],\\\n",
    "                    ]                                                              "
   ]
  },
  {
   "cell_type": "code",
   "execution_count": 653,
   "id": "084a2fc5",
   "metadata": {},
   "outputs": [
    {
     "data": {
      "text/plain": [
       "[265.1474005705884,\n",
       " 52.56257796070151,\n",
       " 52.72950683878156,\n",
       " 81.24651437626184,\n",
       " 39.87419333984327]"
      ]
     },
     "execution_count": 653,
     "metadata": {},
     "output_type": "execute_result"
    }
   ],
   "source": [
    "[df_global[(df_global['Inner_Alignment_Type']=='Using_Surface') & (df_global['BR']=='vS1')][['Barrels_Pia_Precision_std',]].mean().values[0],\\\n",
    "                     df_global[(df_global['Inner_Alignment_Type']=='Using_Local_Rabies_Surfaces') & (df_global['BR']=='vS1')][['Barrels_Pia_Precision_std',]].mean().values[0],\\\n",
    "                     df_global[(df_global['Inner_Alignment_Type']=='Using_Local_Surfaces') & (df_global['BR']=='vS1')][['Barrels_Pia_Precision_std',]].mean().values[0],\\\n",
    "                     df_vm1[(df_vm1['Inner_Alignment_Type']=='Using_Rabies_Surface') & (df_vm1['BR']=='vS1')][['Barrels_Pia_Precision_std',]].mean().values[0],\\\n",
    "                     df_s1bf[(df_s1bf['Inner_Alignment_Type']=='Use_Projections_Alone') & (df_s1bf['BR']=='vS1')][['Barrels_Pia_Precision_std',]].mean().values[0],\\\n",
    "                    ]                                                             "
   ]
  },
  {
   "cell_type": "markdown",
   "id": "38113cb7",
   "metadata": {},
   "source": [
    "## WM Precisions"
   ]
  },
  {
   "cell_type": "code",
   "execution_count": 557,
   "id": "47b6aaac",
   "metadata": {
    "scrolled": true
   },
   "outputs": [
    {
     "data": {
      "image/png": "[encoded data removed]",
      "text/plain": [
       "<Figure size 472.441x330.709 with 1 Axes>"
      ]
     },
     "metadata": {
      "needs_background": "light"
     },
     "output_type": "display_data"
    }
   ],
   "source": [
    "N=5\n",
    "ind = np.arange(N)\n",
    "width = 0.25\n",
    "\n",
    "fig = plt.figure(figsize=(10*cm,7*cm),dpi=120)\n",
    "ax = fig.add_subplot(111)\n",
    "\n",
    "rects1 = ax.bar(ind,[df_global[(df_global['Inner_Alignment_Type']=='Using_Surface') & (df_global['BR']=='WB')][['WM_Precision_Mean',]].mean().values[0],\\\n",
    "                     df_global[(df_global['Inner_Alignment_Type']=='Using_Local_Rabies_Surfaces') & (df_global['BR']=='WB')][['WM_Precision_Mean',]].mean().values[0],\\\n",
    "                     df_global[(df_global['Inner_Alignment_Type']=='Using_Local_Surfaces') & (df_global['BR']=='WB')][['WM_Precision_Mean',]].mean().values[0],\\\n",
    "                     df_vm1[(df_vm1['Inner_Alignment_Type']=='Using_Center') & (df_vm1['BR']=='WB')][['WM_Precision_Mean',]].mean().values[0],\\\n",
    "                     df_s1bf[(df_s1bf['Inner_Alignment_Type']=='Use_Projections_Alone') & (df_s1bf['BR']=='WB')][['WM_Precision_Mean',]].mean().values[0],\\\n",
    "                    ],\\\n",
    "                     width, color='red', \\\n",
    "                yerr=[df_global[(df_global['Inner_Alignment_Type']=='Using_Surface') & (df_global['BR']=='WB')][['WM_Precision_Std',]].mean().values[0],\\\n",
    "                     df_global[(df_global['Inner_Alignment_Type']=='Using_Local_Rabies_Surfaces') & (df_global['BR']=='WB')][['WM_Precision_Std',]].mean().values[0],\\\n",
    "                     df_global[(df_global['Inner_Alignment_Type']=='Using_Local_Surfaces') & (df_global['BR']=='WB')][['WM_Precision_Std',]].mean().values[0],\\\n",
    "                     df_vm1[(df_vm1['Inner_Alignment_Type']=='Using_Center') & (df_vm1['BR']=='WB')][['WM_Precision_Std',]].mean().values[0],\\\n",
    "                     df_s1bf[(df_s1bf['Inner_Alignment_Type']=='Use_Projections_Alone') & (df_s1bf['BR']=='WB')][['WM_Precision_Std',]].mean().values[0],\\\n",
    "                     ],\\\n",
    "                     )\n",
    "\n",
    "rects2 = ax.bar(ind+width,[df_global[(df_global['Inner_Alignment_Type']=='Using_Center') & (df_global['BR']=='vM1')][['WM_Precision_Mean',]].mean().values[0],\\\n",
    "                     df_global[(df_global['Inner_Alignment_Type']=='Using_Local_Centers') & (df_global['BR']=='vM1')][['WM_Precision_Mean',]].mean().values[0],\\\n",
    "                     df_global[(df_global['Inner_Alignment_Type']=='Using_Local_Rabies_Surfaces') & (df_global['BR']=='vM1')][['WM_Precision_Mean',]].mean().values[0],\\\n",
    "                     df_vm1[(df_vm1['Inner_Alignment_Type']=='Using_Surface') & (df_vm1['BR']=='vM1')][['WM_Precision_Mean',]].values[0][0],\\\n",
    "                     df_s1bf[(df_s1bf['Inner_Alignment_Type']=='Use_Projections_Alone') & (df_s1bf['BR']=='vM1')][['WM_Precision_Mean',]].mean().values[0],\\\n",
    "                    ],\\\n",
    "                     width, color='green', \\\n",
    "                yerr=[df_global[(df_global['Inner_Alignment_Type']=='Using_Center') & (df_global['BR']=='vM1')][['WM_Precision_Std',]].mean().values[0],\\\n",
    "                     df_global[(df_global['Inner_Alignment_Type']=='Using_Local_Centers') & (df_global['BR']=='vM1')][['WM_Precision_Std',]].mean().values[0],\\\n",
    "                     df_global[(df_global['Inner_Alignment_Type']=='Using_Local_Rabies_Surfaces') & (df_global['BR']=='vM1')][['WM_Precision_Std',]].mean().values[0],\\\n",
    "                     df_vm1[(df_vm1['Inner_Alignment_Type']=='Using_Surface') & (df_vm1['BR']=='vM1')][['WM_Precision_Std',]].values[0][0],\\\n",
    "                     df_s1bf[(df_s1bf['Inner_Alignment_Type']=='Use_Projections_Alone') & (df_s1bf['BR']=='vM1')][['WM_Precision_Std',]].mean().values[0],\\\n",
    "                     ],\\\n",
    "                     )\n",
    "\n",
    "rects3 = ax.bar(ind+2*width,[df_global[(df_global['Inner_Alignment_Type']=='Using_Surface') & (df_global['BR']=='vM1')][['Barrels_WM_Precision_Mean',]].mean().values[0],\\\n",
    "                     df_global[(df_global['Inner_Alignment_Type']=='Using_Local_Centers') & (df_global['BR']=='vM1')][['Barrels_WM_Precision_Mean',]].mean().values[0],\\\n",
    "                     df_global[(df_global['Inner_Alignment_Type']=='Using_Local_Rabies_Surfaces') & (df_global['BR']=='vM1')][['Barrels_WM_Precision_Mean',]].mean().values[0],\\\n",
    "                     df_vm1[(df_vm1['Inner_Alignment_Type']=='Using_Rabies_Surface') & (df_vm1['BR']=='vM1')][['Barrels_WM_Precision_Mean',]].mean().values[0],\\\n",
    "                     df_s1bf[(df_s1bf['Inner_Alignment_Type']=='Use_Projections_Alone') & (df_s1bf['BR']=='vM1')][['Barrels_WM_Precision_Mean',]].mean().values[0],\\\n",
    "                    ],\\\n",
    "                     width, color='blue', \\\n",
    "                yerr=[df_global[(df_global['Inner_Alignment_Type']=='Using_Surface') & (df_global['BR']=='vS1')][['Barrels_WM_Precision_Std',]].mean().values[0],\\\n",
    "                     df_global[(df_global['Inner_Alignment_Type']=='Using_Local_Centers') & (df_global['BR']=='vS1')][['Barrels_WM_Precision_Std',]].mean().values[0],\\\n",
    "                     df_global[(df_global['Inner_Alignment_Type']=='Using_Local_Rabies_Surfaces') & (df_global['BR']=='vS1')][['Barrels_WM_Precision_Std',]].mean().values[0],\\\n",
    "                     df_vm1[(df_vm1['Inner_Alignment_Type']=='Using_Rabies_Surface') & (df_vm1['BR']=='vS1')][['Barrels_WM_Precision_Std',]].mean().values[0],\\\n",
    "                     df_s1bf[(df_s1bf['Inner_Alignment_Type']=='Use_Projections_Alone') & (df_s1bf['BR']=='vS1')][['Barrels_WM_Precision_Std',]].mean().values[0],\\\n",
    "                     ],\\\n",
    "                     )\n",
    "\n",
    "ticks = plt.yticks(np.arange(0,1500,100))\n",
    "#rects2 = ax.bar(ind+width, df_global[(df_global['Inner_Alignment_Type']=='Using_Local_Centers') & (df_global['BR']=='WB')][['Surf_Center_Precision_Mean',]].mean().values[0], width, color='blue', \\\n",
    "#                yerr=df_global[(df_global['Inner_Alignment_Type']=='Using_Local_Centers') & (df_global['BR']=='WB')][['Surf_Center_Precision_Std',]].mean().values[0])\n",
    "\n",
    "#rects1 = ax.bar(ind, df_global[(df_global['Inner_Alignment_Type']=='Using_Surface') & (df_global['BR']=='WB')][['Surf_Center_Precision_Mean',]].mean().values[0], width, color='red', \\\n",
    "#                yerr=df_global[(df_global['Inner_Alignment_Type']=='Using_Surface') & (df_global['BR']=='WB')][['Surf_Center_Precision_Std',]].mean().values[0])\n",
    "\n",
    "#rects2 = ax.bar(ind+width, df_global[(df_global['Inner_Alignment_Type']=='Using_Local_Centers') & (df_global['BR']=='WB')][['Surf_Center_Precision_Mean',]].mean().values[0], width, color='blue', \\\n",
    "#                yerr=df_global[(df_global['Inner_Alignment_Type']=='Using_Local_Centers') & (df_global['BR']=='WB')][['Surf_Center_Precision_Std',]].mean().values[0])\n",
    "\n",
    "plt.tight_layout()\n",
    "fig.savefig(input_path + 'WM_Precision_new.eps')"
   ]
  },
  {
   "cell_type": "code",
   "execution_count": 654,
   "id": "5cef637f",
   "metadata": {},
   "outputs": [
    {
     "data": {
      "text/plain": [
       "[290.7323480661779,\n",
       " 420.8908688097384,\n",
       " 358.0528628674926,\n",
       " 494.1272659326582,\n",
       " 486.5707175258687]"
      ]
     },
     "execution_count": 654,
     "metadata": {},
     "output_type": "execute_result"
    }
   ],
   "source": [
    "[df_global[(df_global['Inner_Alignment_Type']=='Using_Surface') & (df_global['BR']=='WB')][['WM_Precision_Mean',]].mean().values[0],\\\n",
    "                     df_global[(df_global['Inner_Alignment_Type']=='Using_Local_Rabies_Surfaces') & (df_global['BR']=='WB')][['WM_Precision_Mean',]].mean().values[0],\\\n",
    "                     df_global[(df_global['Inner_Alignment_Type']=='Using_Local_Surfaces') & (df_global['BR']=='WB')][['WM_Precision_Mean',]].mean().values[0],\\\n",
    "                     df_vm1[(df_vm1['Inner_Alignment_Type']=='Using_Center') & (df_vm1['BR']=='WB')][['WM_Precision_Mean',]].mean().values[0],\\\n",
    "                     df_s1bf[(df_s1bf['Inner_Alignment_Type']=='Use_Projections_Alone') & (df_s1bf['BR']=='WB')][['WM_Precision_Mean',]].mean().values[0],\\\n",
    "                    ]                                                                                                         "
   ]
  },
  {
   "cell_type": "code",
   "execution_count": 655,
   "id": "f83eb80a",
   "metadata": {},
   "outputs": [
    {
     "data": {
      "text/plain": [
       "[95.85548413772555,\n",
       " 148.4551096378406,\n",
       " 127.10359045211833,\n",
       " 161.74196512622004,\n",
       " 166.51813687436083]"
      ]
     },
     "execution_count": 655,
     "metadata": {},
     "output_type": "execute_result"
    }
   ],
   "source": [
    "[df_global[(df_global['Inner_Alignment_Type']=='Using_Surface') & (df_global['BR']=='WB')][['WM_Precision_Std',]].mean().values[0],\\\n",
    "                     df_global[(df_global['Inner_Alignment_Type']=='Using_Local_Rabies_Surfaces') & (df_global['BR']=='WB')][['WM_Precision_Std',]].mean().values[0],\\\n",
    "                     df_global[(df_global['Inner_Alignment_Type']=='Using_Local_Surfaces') & (df_global['BR']=='WB')][['WM_Precision_Std',]].mean().values[0],\\\n",
    "                     df_vm1[(df_vm1['Inner_Alignment_Type']=='Using_Center') & (df_vm1['BR']=='WB')][['WM_Precision_Std',]].mean().values[0],\\\n",
    "                     df_s1bf[(df_s1bf['Inner_Alignment_Type']=='Use_Projections_Alone') & (df_s1bf['BR']=='WB')][['WM_Precision_Std',]].mean().values[0],\\\n",
    "                     ]"
   ]
  },
  {
   "cell_type": "code",
   "execution_count": 656,
   "id": "f972ee9d",
   "metadata": {},
   "outputs": [
    {
     "data": {
      "text/plain": [
       "[562.3453601603921,\n",
       " 326.447725774041,\n",
       " 192.65274411694523,\n",
       " 124.84836486816695,\n",
       " 430.1805410980091]"
      ]
     },
     "execution_count": 656,
     "metadata": {},
     "output_type": "execute_result"
    }
   ],
   "source": [
    "[df_global[(df_global['Inner_Alignment_Type']=='Using_Center') & (df_global['BR']=='vM1')][['WM_Precision_Mean',]].mean().values[0],\\\n",
    "                     df_global[(df_global['Inner_Alignment_Type']=='Using_Local_Centers') & (df_global['BR']=='vM1')][['WM_Precision_Mean',]].mean().values[0],\\\n",
    "                     df_global[(df_global['Inner_Alignment_Type']=='Using_Local_Rabies_Surfaces') & (df_global['BR']=='vM1')][['WM_Precision_Mean',]].mean().values[0],\\\n",
    "                     df_vm1[(df_vm1['Inner_Alignment_Type']=='Using_Surface') & (df_vm1['BR']=='vM1')][['WM_Precision_Mean',]].values[0][0],\\\n",
    "                     df_s1bf[(df_s1bf['Inner_Alignment_Type']=='Use_Projections_Alone') & (df_s1bf['BR']=='vM1')][['WM_Precision_Mean',]].mean().values[0],\\\n",
    "                    ]"
   ]
  },
  {
   "cell_type": "code",
   "execution_count": 657,
   "id": "a28dac97",
   "metadata": {},
   "outputs": [
    {
     "data": {
      "text/plain": [
       "[294.0888617196167,\n",
       " 129.70720684465962,\n",
       " 70.78972693753654,\n",
       " 25.66272941468089,\n",
       " 159.77331341925]"
      ]
     },
     "execution_count": 657,
     "metadata": {},
     "output_type": "execute_result"
    }
   ],
   "source": [
    "[df_global[(df_global['Inner_Alignment_Type']=='Using_Center') & (df_global['BR']=='vM1')][['WM_Precision_Std',]].mean().values[0],\\\n",
    "                     df_global[(df_global['Inner_Alignment_Type']=='Using_Local_Centers') & (df_global['BR']=='vM1')][['WM_Precision_Std',]].mean().values[0],\\\n",
    "                     df_global[(df_global['Inner_Alignment_Type']=='Using_Local_Rabies_Surfaces') & (df_global['BR']=='vM1')][['WM_Precision_Std',]].mean().values[0],\\\n",
    "                     df_vm1[(df_vm1['Inner_Alignment_Type']=='Using_Surface') & (df_vm1['BR']=='vM1')][['WM_Precision_Std',]].values[0][0],\\\n",
    "                     df_s1bf[(df_s1bf['Inner_Alignment_Type']=='Use_Projections_Alone') & (df_s1bf['BR']=='vM1')][['WM_Precision_Std',]].mean().values[0],\\\n",
    "                     ]"
   ]
  },
  {
   "cell_type": "code",
   "execution_count": 658,
   "id": "5be4144e",
   "metadata": {},
   "outputs": [
    {
     "data": {
      "text/plain": [
       "[699.6584754960429,\n",
       " 314.129224608356,\n",
       " 243.63546480874209,\n",
       " 1163.1605777792563,\n",
       " 118.9386182339614]"
      ]
     },
     "execution_count": 658,
     "metadata": {},
     "output_type": "execute_result"
    }
   ],
   "source": [
    "[df_global[(df_global['Inner_Alignment_Type']=='Using_Surface') & (df_global['BR']=='vM1')][['Barrels_WM_Precision_Mean',]].mean().values[0],\\\n",
    "                     df_global[(df_global['Inner_Alignment_Type']=='Using_Local_Centers') & (df_global['BR']=='vM1')][['Barrels_WM_Precision_Mean',]].mean().values[0],\\\n",
    "                     df_global[(df_global['Inner_Alignment_Type']=='Using_Local_Rabies_Surfaces') & (df_global['BR']=='vM1')][['Barrels_WM_Precision_Mean',]].mean().values[0],\\\n",
    "                     df_vm1[(df_vm1['Inner_Alignment_Type']=='Using_Rabies_Surface') & (df_vm1['BR']=='vM1')][['Barrels_WM_Precision_Mean',]].mean().values[0],\\\n",
    "                     df_s1bf[(df_s1bf['Inner_Alignment_Type']=='Use_Projections_Alone') & (df_s1bf['BR']=='vM1')][['Barrels_WM_Precision_Mean',]].mean().values[0],\\\n",
    "                    ]"
   ]
  },
  {
   "cell_type": "code",
   "execution_count": 659,
   "id": "202d3635",
   "metadata": {},
   "outputs": [
    {
     "data": {
      "text/plain": [
       "[69.22047535019927,\n",
       " 40.47196476357067,\n",
       " 57.38927156750269,\n",
       " 97.74552296658167,\n",
       " 99.3263378468945]"
      ]
     },
     "execution_count": 659,
     "metadata": {},
     "output_type": "execute_result"
    }
   ],
   "source": [
    "[df_global[(df_global['Inner_Alignment_Type']=='Using_Surface') & (df_global['BR']=='vS1')][['Barrels_WM_Precision_Std',]].mean().values[0],\\\n",
    "                     df_global[(df_global['Inner_Alignment_Type']=='Using_Local_Centers') & (df_global['BR']=='vS1')][['Barrels_WM_Precision_Std',]].mean().values[0],\\\n",
    "                     df_global[(df_global['Inner_Alignment_Type']=='Using_Local_Rabies_Surfaces') & (df_global['BR']=='vS1')][['Barrels_WM_Precision_Std',]].mean().values[0],\\\n",
    "                     df_vm1[(df_vm1['Inner_Alignment_Type']=='Using_Rabies_Surface') & (df_vm1['BR']=='vS1')][['Barrels_WM_Precision_Std',]].mean().values[0],\\\n",
    "                     df_s1bf[(df_s1bf['Inner_Alignment_Type']=='Use_Projections_Alone') & (df_s1bf['BR']=='vS1')][['Barrels_WM_Precision_Std',]].mean().values[0],\\\n",
    "                     ]"
   ]
  },
  {
   "cell_type": "markdown",
   "id": "dada83e5",
   "metadata": {},
   "source": [
    "## Avg center, pia, wm"
   ]
  },
  {
   "cell_type": "code",
   "execution_count": 669,
   "id": "103cbc64",
   "metadata": {},
   "outputs": [
    {
     "data": {
      "text/plain": [
       "(343.6666666666667, 97.0)"
      ]
     },
     "execution_count": 669,
     "metadata": {},
     "output_type": "execute_result"
    }
   ],
   "source": [
    "np.array([382,358,291]).mean(),np.array([78,117,96]).mean()"
   ]
  },
  {
   "cell_type": "code",
   "execution_count": 671,
   "id": "4786f177",
   "metadata": {},
   "outputs": [
    {
     "data": {
      "text/plain": [
       "(492.6666666666667, 199.33333333333334)"
      ]
     },
     "execution_count": 671,
     "metadata": {},
     "output_type": "execute_result"
    }
   ],
   "source": [
    "np.array([544,513,421]).mean(),np.array([254,196,148]).mean()"
   ]
  },
  {
   "cell_type": "code",
   "execution_count": 672,
   "id": "a75aac48",
   "metadata": {},
   "outputs": [
    {
     "data": {
      "text/plain": [
       "(428.3333333333333, 171.33333333333334)"
      ]
     },
     "execution_count": 672,
     "metadata": {},
     "output_type": "execute_result"
    }
   ],
   "source": [
    "np.array([501,426,358]).mean(),np.array([230,157,127]).mean()"
   ]
  },
  {
   "cell_type": "code",
   "execution_count": 673,
   "id": "ab13a537",
   "metadata": {},
   "outputs": [
    {
     "data": {
      "text/plain": [
       "(661.3333333333334, 210.0)"
      ]
     },
     "execution_count": 673,
     "metadata": {},
     "output_type": "execute_result"
    }
   ],
   "source": [
    "np.array([907,583,494]).mean(),np.array([274,194,162]).mean()"
   ]
  },
  {
   "cell_type": "code",
   "execution_count": 674,
   "id": "7d977302",
   "metadata": {},
   "outputs": [
    {
     "data": {
      "text/plain": [
       "(603.6666666666666, 242.66666666666666)"
      ]
     },
     "execution_count": 674,
     "metadata": {},
     "output_type": "execute_result"
    }
   ],
   "source": [
    "np.array([803,521,487]).mean(),np.array([381,180,167]).mean()"
   ]
  },
  {
   "cell_type": "code",
   "execution_count": null,
   "id": "8d2fcddb",
   "metadata": {},
   "outputs": [],
   "source": []
  },
  {
   "cell_type": "code",
   "execution_count": 685,
   "id": "7aa227e6",
   "metadata": {},
   "outputs": [
    {
     "data": {
      "text/plain": [
       "(560.0, 203.66666666666666)"
      ]
     },
     "execution_count": 685,
     "metadata": {},
     "output_type": "execute_result"
    }
   ],
   "source": [
    "np.array([623,495,562]).mean(),np.array([149,168,294]).mean()"
   ]
  },
  {
   "cell_type": "code",
   "execution_count": 686,
   "id": "04b95e21",
   "metadata": {},
   "outputs": [
    {
     "data": {
      "text/plain": [
       "(321.3333333333333, 112.33333333333333)"
      ]
     },
     "execution_count": 686,
     "metadata": {},
     "output_type": "execute_result"
    }
   ],
   "source": [
    "np.array([353,285,326]).mean(),np.array([105,102,130]).mean()"
   ]
  },
  {
   "cell_type": "code",
   "execution_count": 687,
   "id": "0e5498d4",
   "metadata": {},
   "outputs": [
    {
     "data": {
      "text/plain": [
       "(195.0, 62.666666666666664)"
      ]
     },
     "execution_count": 687,
     "metadata": {},
     "output_type": "execute_result"
    }
   ],
   "source": [
    "np.array([226,166,193]).mean(),np.array([58,59,71]).mean()"
   ]
  },
  {
   "cell_type": "code",
   "execution_count": 688,
   "id": "960bbce4",
   "metadata": {},
   "outputs": [
    {
     "data": {
      "text/plain": [
       "(141.0, 42.333333333333336)"
      ]
     },
     "execution_count": 688,
     "metadata": {},
     "output_type": "execute_result"
    }
   ],
   "source": [
    "np.array([137,161,125]).mean(),np.array([49,52,26]).mean()"
   ]
  },
  {
   "cell_type": "code",
   "execution_count": 689,
   "id": "7a44cceb",
   "metadata": {},
   "outputs": [
    {
     "data": {
      "text/plain": [
       "(499.6666666666667, 174.33333333333334)"
      ]
     },
     "execution_count": 689,
     "metadata": {},
     "output_type": "execute_result"
    }
   ],
   "source": [
    "np.array([632,437,430]).mean(),np.array([203,160,160]).mean()"
   ]
  },
  {
   "cell_type": "code",
   "execution_count": null,
   "id": "b61e70a3",
   "metadata": {},
   "outputs": [],
   "source": []
  },
  {
   "cell_type": "code",
   "execution_count": 692,
   "id": "9a9bfca8",
   "metadata": {},
   "outputs": [
    {
     "data": {
      "text/plain": [
       "(717.6666666666666, 130.0)"
      ]
     },
     "execution_count": 692,
     "metadata": {},
     "output_type": "execute_result"
    }
   ],
   "source": [
    "np.array([724,729,700]).mean(),np.array([56,265,69]).mean()"
   ]
  },
  {
   "cell_type": "code",
   "execution_count": 693,
   "id": "d0d9f0f0",
   "metadata": {},
   "outputs": [
    {
     "data": {
      "text/plain": [
       "(329.3333333333333, 59.666666666666664)"
      ]
     },
     "execution_count": 693,
     "metadata": {},
     "output_type": "execute_result"
    }
   ],
   "source": [
    "np.array([345,329,314]).mean(),np.array([86,53,40]).mean()"
   ]
  },
  {
   "cell_type": "code",
   "execution_count": 694,
   "id": "17c05f86",
   "metadata": {},
   "outputs": [
    {
     "data": {
      "text/plain": [
       "(272.6666666666667, 56.0)"
      ]
     },
     "execution_count": 694,
     "metadata": {},
     "output_type": "execute_result"
    }
   ],
   "source": [
    "np.array([256,318,244]).mean(),np.array([58,53,57]).mean()"
   ]
  },
  {
   "cell_type": "code",
   "execution_count": 695,
   "id": "d5e7f734",
   "metadata": {},
   "outputs": [
    {
     "data": {
      "text/plain": [
       "(1035.6666666666667, 89.0)"
      ]
     },
     "execution_count": 695,
     "metadata": {},
     "output_type": "execute_result"
    }
   ],
   "source": [
    "np.array([1029,915,1163]).mean(),np.array([88,81,98]).mean()"
   ]
  },
  {
   "cell_type": "code",
   "execution_count": 697,
   "id": "dae3a3bf",
   "metadata": {},
   "outputs": [
    {
     "data": {
      "text/plain": [
       "(111.33333333333333, 61.0)"
      ]
     },
     "execution_count": 697,
     "metadata": {},
     "output_type": "execute_result"
    }
   ],
   "source": [
    "np.array([103,112,119]).mean(),np.array([44,40,99]).mean()"
   ]
  },
  {
   "cell_type": "markdown",
   "id": "7fbf729c",
   "metadata": {},
   "source": [
    "## Angular Precisions"
   ]
  },
  {
   "cell_type": "code",
   "execution_count": 637,
   "id": "cb72c4db",
   "metadata": {
    "scrolled": false
   },
   "outputs": [
    {
     "data": {
      "image/png": "[encoded data removed]",
      "text/plain": [
       "<Figure size 472.441x330.709 with 1 Axes>"
      ]
     },
     "metadata": {
      "needs_background": "light"
     },
     "output_type": "display_data"
    }
   ],
   "source": [
    "N=5\n",
    "ind = np.arange(N)\n",
    "width = 0.25\n",
    "\n",
    "fig = plt.figure(figsize=(10*cm,7*cm),dpi=120)\n",
    "ax = fig.add_subplot(111)\n",
    "\n",
    "rects1 = ax.bar(ind,[df_global[(df_global['Inner_Alignment_Type']=='Using_Surface') & (df_global['BR']=='WB')][['PCA_Angular_Precision_Mean',]].mean().values[0],\\\n",
    "                     df_global[(df_global['Inner_Alignment_Type']=='Using_Local_Centers') & (df_global['BR']=='WB')][['PCA_Angular_Precision_Mean',]].mean().values[0],\\\n",
    "                     df_global[(df_global['Inner_Alignment_Type']=='Using_Local_Surfaces') & (df_global['BR']=='WB')][['PCA_Angular_Precision_Mean',]].mean().values[0],\\\n",
    "                     df_vm1[(df_vm1['Inner_Alignment_Type']=='Using_Surface') & (df_vm1['BR']=='WB')][['PCA_Angular_Precision_Mean',]].mean().values[0],\\\n",
    "                     df_s1bf[(df_s1bf['Inner_Alignment_Type']=='Use_Both') & (df_s1bf['BR']=='WB')][['PCA_Angular_Precision_Mean',]].mean().values[0],\\\n",
    "                    ],\\\n",
    "                     width, color='red', \\\n",
    "                yerr=[df_global[(df_global['Inner_Alignment_Type']=='Using_Surface') & (df_global['BR']=='WB')][['PCA_Angular_Precision_Std',]].mean().values[0],\\\n",
    "                     df_global[(df_global['Inner_Alignment_Type']=='Using_Local_Centers') & (df_global['BR']=='WB')][['PCA_Angular_Precision_Std',]].mean().values[0],\\\n",
    "                     df_global[(df_global['Inner_Alignment_Type']=='Using_Local_Surfaces') & (df_global['BR']=='WB')][['PCA_Angular_Precision_Std',]].mean().values[0],\\\n",
    "                     df_vm1[(df_vm1['Inner_Alignment_Type']=='Using_Surface') & (df_vm1['BR']=='WB')][['PCA_Angular_Precision_Std',]].mean().values[0],\\\n",
    "                     df_s1bf[(df_s1bf['Inner_Alignment_Type']=='Use_Both') & (df_s1bf['BR']=='WB')][['PCA_Angular_Precision_Std',]].mean().values[0],\\\n",
    "                     ],\\\n",
    "                     )\n",
    "\n",
    "rects2 = ax.bar(ind+width,[df_global[(df_global['Inner_Alignment_Type']=='Using_Local_Centers') & (df_global['BR']=='vM1')][['PCA_Angular_Precision_Mean',]].mean().values[0],\\\n",
    "                     df_global[(df_global['Inner_Alignment_Type']=='Using_Local_Surfaces') & (df_global['BR']=='vM1')][['PCA_Angular_Precision_Mean',]].mean().values[0],\\\n",
    "                     df_global[(df_global['Inner_Alignment_Type']=='Using_Local_Rabies_Surfaces') & (df_global['BR']=='vM1')][['PCA_Angular_Precision_Mean',]].mean().values[0],\\\n",
    "                     df_vm1[(df_vm1['Inner_Alignment_Type']=='Using_Surface') & (df_vm1['BR']=='vM1')][['PCA_Angular_Precision_Mean',]].values[0][0],\\\n",
    "                     df_s1bf[(df_s1bf['Inner_Alignment_Type']=='Use_Barrels_Alone') & (df_s1bf['BR']=='vM1')][['Angular_Precision_Mean',]].mean().values[0],\\\n",
    "                    ],\\\n",
    "                     width, color='green', \\\n",
    "                yerr=[df_global[(df_global['Inner_Alignment_Type']=='Using_Local_Centers') & (df_global['BR']=='vM1')][['PCA_Angular_Precision_Std',]].mean().values[0],\\\n",
    "                     df_global[(df_global['Inner_Alignment_Type']=='Using_Local_Surfaces') & (df_global['BR']=='vM1')][['PCA_Angular_Precision_Std',]].mean().values[0],\\\n",
    "                     df_global[(df_global['Inner_Alignment_Type']=='Using_Local_Rabies_Surfaces') & (df_global['BR']=='vM1')][['PCA_Angular_Precision_Std',]].mean().values[0],\\\n",
    "                     df_vm1[(df_vm1['Inner_Alignment_Type']=='Using_Surface') & (df_vm1['BR']=='vM1')][['PCA_Angular_Precision_Std',]].values[0][0],\\\n",
    "                     df_s1bf[(df_s1bf['Inner_Alignment_Type']=='Use_Barrels_Alone') & (df_s1bf['BR']=='vM1')][['Angular_Precision_Std',]].mean().values[0],\\\n",
    "                     ],\\\n",
    "                     )\n",
    "\n",
    "rects3 = ax.bar(ind+2*width,[df_global[(df_global['Inner_Alignment_Type']=='Using_Surface') & (df_global['BR']=='vS1')][['Angular_Precision_Mean',]].mean().values[0],\\\n",
    "                     df_global[(df_global['Inner_Alignment_Type']=='Using_Local_Centers') & (df_global['BR']=='vS1')][['Barrels_Angular_Precision_Mean',]].mean().values[0],\\\n",
    "                     df_global[(df_global['Inner_Alignment_Type']=='Using_Local_Surfaces') & (df_global['BR']=='vS1')][['Barrels_Angular_Precision_Mean',]].mean().values[0],\\\n",
    "                     df_vm1[(df_vm1['Inner_Alignment_Type']=='Using_Center') & (df_vm1['BR']=='vS1')][['Angular_Precision_Mean',]].mean().values[0],\\\n",
    "                     df_s1bf[(df_s1bf['Inner_Alignment_Type']=='Use_Projections_Alone') & (df_s1bf['BR']=='vS1')][['Barrels_Angular_Precision_Mean',]].mean().values[0],\\\n",
    "                    ],\\\n",
    "                     width, color='blue', \\\n",
    "                yerr=[df_global[(df_global['Inner_Alignment_Type']=='Using_Surface') & (df_global['BR']=='vS1')][['Angular_Precision_Std',]].mean().values[0],\\\n",
    "                     df_global[(df_global['Inner_Alignment_Type']=='Using_Local_Centers') & (df_global['BR']=='vS1')][['Barrels_Angular_Precision_Std',]].mean().values[0],\\\n",
    "                     df_global[(df_global['Inner_Alignment_Type']=='Using_Local_Surfaces') & (df_global['BR']=='vS1')][['Barrels_Angular_Precision_Std',]].mean().values[0],\\\n",
    "                     df_vm1[(df_vm1['Inner_Alignment_Type']=='Using_Center') & (df_vm1['BR']=='vS1')][['Angular_Precision_Std',]].mean().values[0],\\\n",
    "                     df_s1bf[(df_s1bf['Inner_Alignment_Type']=='Use_Projections_Alone') & (df_s1bf['BR']=='vS1')][['Barrels_Angular_Precision_Std',]].mean().values[0],\\\n",
    "                     ],\\\n",
    "                     )\n",
    "\n",
    "#ticks = plt.yticks(np.arange(0,1300,100))\n",
    "#rects2 = ax.bar(ind+width, df_global[(df_global['Inner_Alignment_Type']=='Using_Local_Centers') & (df_global['BR']=='WB')][['Surf_Center_Precision_Mean',]].mean().values[0], width, color='blue', \\\n",
    "#                yerr=df_global[(df_global['Inner_Alignment_Type']=='Using_Local_Centers') & (df_global['BR']=='WB')][['Surf_Center_Precision_Std',]].mean().values[0])\n",
    "\n",
    "#rects1 = ax.bar(ind, df_global[(df_global['Inner_Alignment_Type']=='Using_Surface') & (df_global['BR']=='WB')][['Surf_Center_Precision_Mean',]].mean().values[0], width, color='red', \\\n",
    "#                yerr=df_global[(df_global['Inner_Alignment_Type']=='Using_Surface') & (df_global['BR']=='WB')][['Surf_Center_Precision_Std',]].mean().values[0])\n",
    "\n",
    "#rects2 = ax.bar(ind+width, df_global[(df_global['Inner_Alignment_Type']=='Using_Local_Centers') & (df_global['BR']=='WB')][['Surf_Center_Precision_Mean',]].mean().values[0], width, color='blue', \\\n",
    "#                yerr=df_global[(df_global['Inner_Alignment_Type']=='Using_Local_Centers') & (df_global['BR']=='WB')][['Surf_Center_Precision_Std',]].mean().values[0])\n",
    "\n",
    "plt.tight_layout()\n",
    "fig.savefig(input_path + 'Angular_Precision_new.eps')"
   ]
  },
  {
   "cell_type": "code",
   "execution_count": 660,
   "id": "eaa4e48a",
   "metadata": {},
   "outputs": [
    {
     "data": {
      "text/plain": [
       "[9.756637469090514,\n",
       " 14.663872919155056,\n",
       " 12.914315363185004,\n",
       " 22.64793775415058,\n",
       " 19.115984186833387]"
      ]
     },
     "execution_count": 660,
     "metadata": {},
     "output_type": "execute_result"
    }
   ],
   "source": [
    "[df_global[(df_global['Inner_Alignment_Type']=='Using_Surface') & (df_global['BR']=='WB')][['PCA_Angular_Precision_Mean',]].mean().values[0],\\\n",
    "                     df_global[(df_global['Inner_Alignment_Type']=='Using_Local_Centers') & (df_global['BR']=='WB')][['PCA_Angular_Precision_Mean',]].mean().values[0],\\\n",
    "                     df_global[(df_global['Inner_Alignment_Type']=='Using_Local_Surfaces') & (df_global['BR']=='WB')][['PCA_Angular_Precision_Mean',]].mean().values[0],\\\n",
    "                     df_vm1[(df_vm1['Inner_Alignment_Type']=='Using_Surface') & (df_vm1['BR']=='WB')][['PCA_Angular_Precision_Mean',]].mean().values[0],\\\n",
    "                     df_s1bf[(df_s1bf['Inner_Alignment_Type']=='Use_Both') & (df_s1bf['BR']=='WB')][['PCA_Angular_Precision_Mean',]].mean().values[0],\\\n",
    "                    ]                                                                                                                                                                                                                                    "
   ]
  },
  {
   "cell_type": "code",
   "execution_count": 661,
   "id": "d368f59f",
   "metadata": {},
   "outputs": [
    {
     "data": {
      "text/plain": [
       "[3.617329821210943,\n",
       " 5.267005699073895,\n",
       " 3.9437533086460537,\n",
       " 9.254208999074793,\n",
       " 8.154627667470415]"
      ]
     },
     "execution_count": 661,
     "metadata": {},
     "output_type": "execute_result"
    }
   ],
   "source": [
    "[df_global[(df_global['Inner_Alignment_Type']=='Using_Surface') & (df_global['BR']=='WB')][['PCA_Angular_Precision_Std',]].mean().values[0],\\\n",
    "                     df_global[(df_global['Inner_Alignment_Type']=='Using_Local_Centers') & (df_global['BR']=='WB')][['PCA_Angular_Precision_Std',]].mean().values[0],\\\n",
    "                     df_global[(df_global['Inner_Alignment_Type']=='Using_Local_Surfaces') & (df_global['BR']=='WB')][['PCA_Angular_Precision_Std',]].mean().values[0],\\\n",
    "                     df_vm1[(df_vm1['Inner_Alignment_Type']=='Using_Surface') & (df_vm1['BR']=='WB')][['PCA_Angular_Precision_Std',]].mean().values[0],\\\n",
    "                     df_s1bf[(df_s1bf['Inner_Alignment_Type']=='Use_Both') & (df_s1bf['BR']=='WB')][['PCA_Angular_Precision_Std',]].mean().values[0],\\\n",
    "                     ]                                                                                                                                                                                                                                    "
   ]
  },
  {
   "cell_type": "code",
   "execution_count": 662,
   "id": "cc45c42a",
   "metadata": {},
   "outputs": [
    {
     "data": {
      "text/plain": [
       "[14.420870790992332,\n",
       " 7.123981927864564,\n",
       " 4.5748204979913485,\n",
       " 1.8829475731239365,\n",
       " 17.54023453697666]"
      ]
     },
     "execution_count": 662,
     "metadata": {},
     "output_type": "execute_result"
    }
   ],
   "source": [
    "[df_global[(df_global['Inner_Alignment_Type']=='Using_Local_Centers') & (df_global['BR']=='vM1')][['PCA_Angular_Precision_Mean',]].mean().values[0],\\\n",
    "                     df_global[(df_global['Inner_Alignment_Type']=='Using_Local_Surfaces') & (df_global['BR']=='vM1')][['PCA_Angular_Precision_Mean',]].mean().values[0],\\\n",
    "                     df_global[(df_global['Inner_Alignment_Type']=='Using_Local_Rabies_Surfaces') & (df_global['BR']=='vM1')][['PCA_Angular_Precision_Mean',]].mean().values[0],\\\n",
    "                     df_vm1[(df_vm1['Inner_Alignment_Type']=='Using_Surface') & (df_vm1['BR']=='vM1')][['PCA_Angular_Precision_Mean',]].values[0][0],\\\n",
    "                     df_s1bf[(df_s1bf['Inner_Alignment_Type']=='Use_Barrels_Alone') & (df_s1bf['BR']=='vM1')][['Angular_Precision_Mean',]].mean().values[0],\\\n",
    "                    ]                                                                                                                                                                                                                                    "
   ]
  },
  {
   "cell_type": "code",
   "execution_count": 663,
   "id": "19f65d22",
   "metadata": {},
   "outputs": [
    {
     "data": {
      "text/plain": [
       "[5.953308906823444,\n",
       " 3.7623441308733945,\n",
       " 2.025720542625828,\n",
       " 0.8385259166255888,\n",
       " 2.1750259833266026]"
      ]
     },
     "execution_count": 663,
     "metadata": {},
     "output_type": "execute_result"
    }
   ],
   "source": [
    "[df_global[(df_global['Inner_Alignment_Type']=='Using_Local_Centers') & (df_global['BR']=='vM1')][['PCA_Angular_Precision_Std',]].mean().values[0],\\\n",
    "                     df_global[(df_global['Inner_Alignment_Type']=='Using_Local_Surfaces') & (df_global['BR']=='vM1')][['PCA_Angular_Precision_Std',]].mean().values[0],\\\n",
    "                     df_global[(df_global['Inner_Alignment_Type']=='Using_Local_Rabies_Surfaces') & (df_global['BR']=='vM1')][['PCA_Angular_Precision_Std',]].mean().values[0],\\\n",
    "                     df_vm1[(df_vm1['Inner_Alignment_Type']=='Using_Surface') & (df_vm1['BR']=='vM1')][['PCA_Angular_Precision_Std',]].values[0][0],\\\n",
    "                     df_s1bf[(df_s1bf['Inner_Alignment_Type']=='Use_Barrels_Alone') & (df_s1bf['BR']=='vM1')][['Angular_Precision_Std',]].mean().values[0],\\\n",
    "                     ]"
   ]
  },
  {
   "cell_type": "code",
   "execution_count": 664,
   "id": "c9d0d8d0",
   "metadata": {},
   "outputs": [
    {
     "data": {
      "text/plain": [
       "[14.82514543130911,\n",
       " 5.331505875423327,\n",
       " 4.610028639242831,\n",
       " 14.96621510879694,\n",
       " 3.2498923909739514]"
      ]
     },
     "execution_count": 664,
     "metadata": {},
     "output_type": "execute_result"
    }
   ],
   "source": [
    "[df_global[(df_global['Inner_Alignment_Type']=='Using_Surface') & (df_global['BR']=='vS1')][['Angular_Precision_Mean',]].mean().values[0],\\\n",
    "                     df_global[(df_global['Inner_Alignment_Type']=='Using_Local_Centers') & (df_global['BR']=='vS1')][['Barrels_Angular_Precision_Mean',]].mean().values[0],\\\n",
    "                     df_global[(df_global['Inner_Alignment_Type']=='Using_Local_Surfaces') & (df_global['BR']=='vS1')][['Barrels_Angular_Precision_Mean',]].mean().values[0],\\\n",
    "                     df_vm1[(df_vm1['Inner_Alignment_Type']=='Using_Center') & (df_vm1['BR']=='vS1')][['Angular_Precision_Mean',]].mean().values[0],\\\n",
    "                     df_s1bf[(df_s1bf['Inner_Alignment_Type']=='Use_Projections_Alone') & (df_s1bf['BR']=='vS1')][['Barrels_Angular_Precision_Mean',]].mean().values[0],\\\n",
    "                    ]"
   ]
  },
  {
   "cell_type": "code",
   "execution_count": 665,
   "id": "8651fac8",
   "metadata": {},
   "outputs": [
    {
     "data": {
      "text/plain": [
       "[1.4582029824057714,\n",
       " 1.2258760918313596,\n",
       " 0.3955101275100143,\n",
       " 1.4958525989490974,\n",
       " 0.262634916589077]"
      ]
     },
     "execution_count": 665,
     "metadata": {},
     "output_type": "execute_result"
    }
   ],
   "source": [
    "[df_global[(df_global['Inner_Alignment_Type']=='Using_Surface') & (df_global['BR']=='vS1')][['Angular_Precision_Std',]].mean().values[0],\\\n",
    "                     df_global[(df_global['Inner_Alignment_Type']=='Using_Local_Centers') & (df_global['BR']=='vS1')][['Barrels_Angular_Precision_Std',]].mean().values[0],\\\n",
    "                     df_global[(df_global['Inner_Alignment_Type']=='Using_Local_Surfaces') & (df_global['BR']=='vS1')][['Barrels_Angular_Precision_Std',]].mean().values[0],\\\n",
    "                     df_vm1[(df_vm1['Inner_Alignment_Type']=='Using_Center') & (df_vm1['BR']=='vS1')][['Angular_Precision_Std',]].mean().values[0],\\\n",
    "                     df_s1bf[(df_s1bf['Inner_Alignment_Type']=='Use_Projections_Alone') & (df_s1bf['BR']=='vS1')][['Barrels_Angular_Precision_Std',]].mean().values[0],\\\n",
    "                     ]"
   ]
  },
  {
   "cell_type": "code",
   "execution_count": 532,
   "id": "8c4f8891",
   "metadata": {
    "scrolled": true
   },
   "outputs": [
    {
     "data": {
      "text/plain": [
       "Index(['Unnamed: 0', 'Angular_Error_SEM', 'Angular_Precision_Mean',\n",
       "       'Angular_Precision_Std', 'BR', 'Barrel_Cortex_Center_Ellipsoid',\n",
       "       'Barrel_Cortex_Center_Ellipsoid_Norm',\n",
       "       'Barrel_Cortex_Center_Error_Dists_SEM',\n",
       "       'Barrel_Cortex_Center_Precision_Mean',\n",
       "       'Barrel_Cortex_Center_Precision_Std', 'Barrels_Angular_Error_SEM',\n",
       "       'Barrels_Angular_Precision_Mean', 'Barrels_Angular_Precision_Std',\n",
       "       'Barrels_Barrel_Center_Precision_Mean',\n",
       "       'Barrels_Barrel_Center_Precision_Std',\n",
       "       'Barrels_Barrel_Centers_Error_Ellipsoid_Mean',\n",
       "       'Barrels_Barrel_Centers_Error_Ellipsoid_Mean_Norm',\n",
       "       'Barrels_Barrel_Centers_Error_Ellipsoid_Std',\n",
       "       'Barrels_Barrel_Centers_Error_Ellipsoid_Std_Norm',\n",
       "       'Barrels_Column_Center_Precision_Mean',\n",
       "       'Barrels_Column_Center_Precision_Std',\n",
       "       'Barrels_Column_Error_Ellipsoid_Mean',\n",
       "       'Barrels_Column_Error_Ellipsoid_Mean_Norm',\n",
       "       'Barrels_Column_Error_Ellipsoid_Std',\n",
       "       'Barrels_Column_Error_Ellipsoid_Std_Norm',\n",
       "       'Barrels_Pia_Error_Ellipsoid_Mean',\n",
       "       'Barrels_Pia_Error_Ellipsoid_Mean_Norm',\n",
       "       'Barrels_Pia_Error_Ellipsoid_Std',\n",
       "       'Barrels_Pia_Error_Ellipsoid_Std_Norm', 'Barrels_Pia_Precision_Mean',\n",
       "       'Barrels_Pia_Precision_std', 'Barrels_WM_Error_Ellipsoid_Mean',\n",
       "       'Barrels_WM_Error_Ellipsoid_Mean_Norm',\n",
       "       'Barrels_WM_Error_Ellipsoid_Std', 'Barrels_WM_Error_Ellipsoid_Std_Norm',\n",
       "       'Barrels_WM_Precision_Mean', 'Barrels_WM_Precision_Std', 'Hem',\n",
       "       'Inner_Alignment_Type', 'Number_Of_Axis_Used', 'Outer_Alignment_Type',\n",
       "       'Overall_Rabies_landmarks', 'Overall_Volume',\n",
       "       'Overlap_Rabies_landmarks', 'Overlap_Volume',\n",
       "       'PCA_0_Angle_Between_Axes_Mean', 'PCA_0_Angle_Between_Axes_Std',\n",
       "       'PCA_1_Angle_Between_Axes_Mean', 'PCA_1_Angle_Between_Axes_Std',\n",
       "       'PCA_2_Angle_Between_Axes_Mean', 'PCA_2_Angle_Between_Axes_Std',\n",
       "       'PCA_Angular_Precision_Mean', 'PCA_Angular_Precision_SEM',\n",
       "       'PCA_Angular_Precision_Std', 'Pia_Error_Dist_SEM',\n",
       "       'Pia_Error_Ellipsoid_Mean', 'Pia_Error_Ellipsoid_Mean_Norm',\n",
       "       'Pia_Error_Ellipsoid_Std', 'Pia_Error_Ellipsoid_Std_Norm',\n",
       "       'Pia_Precision_Mean', 'Pia_Precision_Std', 'Rabies_Center_Ellipsoid',\n",
       "       'Rabies_Center_Ellipsoid_Norm', 'Rabies_Center_Error_Dists_SEM',\n",
       "       'Rabies_Center_Precision_Mean', 'Rabies_Center_Precision_Std',\n",
       "       'Rabies_Landmarks_Overlap_Percentage', 'Rabies_Surf_Center_Dists_Mean',\n",
       "       'Rabies_Surf_Center_Dists_Std', 'Rabies_Surf_Center_Ellipsoid',\n",
       "       'Rabies_Surf_Center_Ellipsoid_Norm',\n",
       "       'Rabies_Surf_Center_Error_Dists_SEM', 'Surf_Center_Ellipsoid',\n",
       "       'Surf_Center_Ellipsoid_Norm', 'Surf_Center_Error_Dists_SEM',\n",
       "       'Surf_Center_Precision_Mean', 'Surf_Center_Precision_Std',\n",
       "       'Volume_Overlap_Percentage', 'WM_Error_Dist_SEM',\n",
       "       'WM_Error_Ellipsoid_Mean', 'WM_Error_Ellipsoid_Mean_Norm',\n",
       "       'WM_Precision_Mean', 'WM_Precision_Std'],\n",
       "      dtype='object')"
      ]
     },
     "execution_count": 532,
     "metadata": {},
     "output_type": "execute_result"
    }
   ],
   "source": [
    "df_vm1.columns"
   ]
  },
  {
   "cell_type": "code",
   "execution_count": 546,
   "id": "499583fc",
   "metadata": {},
   "outputs": [
    {
     "data": {
      "text/html": [
       "<div>\n",
       "<style scoped>\n",
       "    .dataframe tbody tr th:only-of-type {\n",
       "        vertical-align: middle;\n",
       "    }\n",
       "\n",
       "    .dataframe tbody tr th {\n",
       "        vertical-align: top;\n",
       "    }\n",
       "\n",
       "    .dataframe thead th {\n",
       "        text-align: right;\n",
       "    }\n",
       "</style>\n",
       "<table border=\"1\" class=\"dataframe\">\n",
       "  <thead>\n",
       "    <tr style=\"text-align: right;\">\n",
       "      <th></th>\n",
       "      <th>WM_Error_Ellipsoid_Mean</th>\n",
       "    </tr>\n",
       "  </thead>\n",
       "  <tbody>\n",
       "    <tr>\n",
       "      <th>16</th>\n",
       "      <td>[49.1533137  77.38980311 78.4623976 ]</td>\n",
       "    </tr>\n",
       "    <tr>\n",
       "      <th>17</th>\n",
       "      <td>[ 84.96801149 108.21712732 179.83579373]</td>\n",
       "    </tr>\n",
       "  </tbody>\n",
       "</table>\n",
       "</div>"
      ],
      "text/plain": [
       "                     WM_Error_Ellipsoid_Mean\n",
       "16     [49.1533137  77.38980311 78.4623976 ]\n",
       "17  [ 84.96801149 108.21712732 179.83579373]"
      ]
     },
     "execution_count": 546,
     "metadata": {},
     "output_type": "execute_result"
    }
   ],
   "source": [
    "df_vm1[(df_vm1['Inner_Alignment_Type']=='Using_Surface') & (df_vm1['BR']=='vM1')][['WM_Error_Ellipsoid_Mean',]]\n",
    "#[(30.8+59.1)/2,( 54.5+106.7)/2,(61.9+51.3)/2]"
   ]
  },
  {
   "cell_type": "code",
   "execution_count": 557,
   "id": "e2205c9b",
   "metadata": {},
   "outputs": [
    {
     "data": {
      "text/plain": [
       "1.1636363636363636"
      ]
     },
     "execution_count": 557,
     "metadata": {},
     "output_type": "execute_result"
    }
   ],
   "source": []
  },
  {
   "cell_type": "code",
   "execution_count": 551,
   "id": "1cf5c030",
   "metadata": {},
   "outputs": [
    {
     "data": {
      "text/html": [
       "<div>\n",
       "<style scoped>\n",
       "    .dataframe tbody tr th:only-of-type {\n",
       "        vertical-align: middle;\n",
       "    }\n",
       "\n",
       "    .dataframe tbody tr th {\n",
       "        vertical-align: top;\n",
       "    }\n",
       "\n",
       "    .dataframe thead th {\n",
       "        text-align: right;\n",
       "    }\n",
       "</style>\n",
       "<table border=\"1\" class=\"dataframe\">\n",
       "  <thead>\n",
       "    <tr style=\"text-align: right;\">\n",
       "      <th></th>\n",
       "      <th>Rabies_Surf_Center_Ellipsoid</th>\n",
       "    </tr>\n",
       "  </thead>\n",
       "  <tbody>\n",
       "    <tr>\n",
       "      <th>4</th>\n",
       "      <td>[ 42.27441856 110.01097201  84.38809675]</td>\n",
       "    </tr>\n",
       "    <tr>\n",
       "      <th>5</th>\n",
       "      <td>[58.50609879 14.00859704 95.14052509]</td>\n",
       "    </tr>\n",
       "  </tbody>\n",
       "</table>\n",
       "</div>"
      ],
      "text/plain": [
       "               Rabies_Surf_Center_Ellipsoid\n",
       "4  [ 42.27441856 110.01097201  84.38809675]\n",
       "5     [58.50609879 14.00859704 95.14052509]"
      ]
     },
     "execution_count": 551,
     "metadata": {},
     "output_type": "execute_result"
    }
   ],
   "source": [
    "df_vm1[(df_vm1['Inner_Alignment_Type']=='Using_Center') & (df_vm1['BR']=='vM1')][['Rabies_Surf_Center_Ellipsoid',]]\n"
   ]
  },
  {
   "cell_type": "code",
   "execution_count": 535,
   "id": "5e0e3231",
   "metadata": {
    "scrolled": true
   },
   "outputs": [
    {
     "data": {
      "text/plain": [
       "289.59023782377807"
      ]
     },
     "execution_count": 535,
     "metadata": {},
     "output_type": "execute_result"
    }
   ],
   "source": [
    "df_vm1[(df_vm1['Inner_Alignment_Type']=='Using_Center') & (df_vm1['BR']=='vM1')][['Surf_Center_Precision_Mean',]].values[0][0]\n"
   ]
  },
  {
   "cell_type": "code",
   "execution_count": 536,
   "id": "9ba7387c",
   "metadata": {},
   "outputs": [
    {
     "data": {
      "text/html": [
       "<div>\n",
       "<style scoped>\n",
       "    .dataframe tbody tr th:only-of-type {\n",
       "        vertical-align: middle;\n",
       "    }\n",
       "\n",
       "    .dataframe tbody tr th {\n",
       "        vertical-align: top;\n",
       "    }\n",
       "\n",
       "    .dataframe thead th {\n",
       "        text-align: right;\n",
       "    }\n",
       "</style>\n",
       "<table border=\"1\" class=\"dataframe\">\n",
       "  <thead>\n",
       "    <tr style=\"text-align: right;\">\n",
       "      <th></th>\n",
       "      <th>Barrels_Pia_Precision_Mean</th>\n",
       "    </tr>\n",
       "  </thead>\n",
       "  <tbody>\n",
       "    <tr>\n",
       "      <th>10</th>\n",
       "      <td>112.001154</td>\n",
       "    </tr>\n",
       "    <tr>\n",
       "      <th>11</th>\n",
       "      <td>87.909474</td>\n",
       "    </tr>\n",
       "  </tbody>\n",
       "</table>\n",
       "</div>"
      ],
      "text/plain": [
       "    Barrels_Pia_Precision_Mean\n",
       "10                  112.001154\n",
       "11                   87.909474"
      ]
     },
     "execution_count": 536,
     "metadata": {},
     "output_type": "execute_result"
    }
   ],
   "source": [
    "df_s1bf[(df_s1bf['Inner_Alignment_Type']=='Use_Projections_Alone') & (df_s1bf['BR']=='vM1')][['Barrels_Pia_Precision_Mean',]]\n"
   ]
  },
  {
   "cell_type": "code",
   "execution_count": 537,
   "id": "8d32258c",
   "metadata": {
    "scrolled": true
   },
   "outputs": [
    {
     "data": {
      "text/html": [
       "<div>\n",
       "<style scoped>\n",
       "    .dataframe tbody tr th:only-of-type {\n",
       "        vertical-align: middle;\n",
       "    }\n",
       "\n",
       "    .dataframe tbody tr th {\n",
       "        vertical-align: top;\n",
       "    }\n",
       "\n",
       "    .dataframe thead th {\n",
       "        text-align: right;\n",
       "    }\n",
       "</style>\n",
       "<table border=\"1\" class=\"dataframe\">\n",
       "  <thead>\n",
       "    <tr style=\"text-align: right;\">\n",
       "      <th></th>\n",
       "      <th>Barrels_WM_Precision_Mean</th>\n",
       "    </tr>\n",
       "  </thead>\n",
       "  <tbody>\n",
       "    <tr>\n",
       "      <th>10</th>\n",
       "      <td>118.938618</td>\n",
       "    </tr>\n",
       "    <tr>\n",
       "      <th>11</th>\n",
       "      <td>85.799177</td>\n",
       "    </tr>\n",
       "  </tbody>\n",
       "</table>\n",
       "</div>"
      ],
      "text/plain": [
       "    Barrels_WM_Precision_Mean\n",
       "10                 118.938618\n",
       "11                  85.799177"
      ]
     },
     "execution_count": 537,
     "metadata": {},
     "output_type": "execute_result"
    }
   ],
   "source": [
    "df_s1bf[(df_s1bf['Inner_Alignment_Type']=='Use_Projections_Alone') & (df_s1bf['BR']=='vM1')][['Barrels_WM_Precision_Mean']]\n"
   ]
  },
  {
   "cell_type": "code",
   "execution_count": 538,
   "id": "c1eeace2",
   "metadata": {},
   "outputs": [
    {
     "data": {
      "text/html": [
       "<div>\n",
       "<style scoped>\n",
       "    .dataframe tbody tr th:only-of-type {\n",
       "        vertical-align: middle;\n",
       "    }\n",
       "\n",
       "    .dataframe tbody tr th {\n",
       "        vertical-align: top;\n",
       "    }\n",
       "\n",
       "    .dataframe thead th {\n",
       "        text-align: right;\n",
       "    }\n",
       "</style>\n",
       "<table border=\"1\" class=\"dataframe\">\n",
       "  <thead>\n",
       "    <tr style=\"text-align: right;\">\n",
       "      <th></th>\n",
       "      <th>Barrels_Angular_Precision_Mean</th>\n",
       "    </tr>\n",
       "  </thead>\n",
       "  <tbody>\n",
       "    <tr>\n",
       "      <th>4</th>\n",
       "      <td>6.085805</td>\n",
       "    </tr>\n",
       "    <tr>\n",
       "      <th>5</th>\n",
       "      <td>3.800505</td>\n",
       "    </tr>\n",
       "  </tbody>\n",
       "</table>\n",
       "</div>"
      ],
      "text/plain": [
       "   Barrels_Angular_Precision_Mean\n",
       "4                        6.085805\n",
       "5                        3.800505"
      ]
     },
     "execution_count": 538,
     "metadata": {},
     "output_type": "execute_result"
    }
   ],
   "source": [
    "df_s1bf[(df_s1bf['Inner_Alignment_Type']=='Use_Barrels_Alone') & (df_s1bf['BR']=='vM1')][['Barrels_Angular_Precision_Mean',]]\n",
    "#[(30.8+59.1)/2,( 54.5+106.7)/2,(61.9+51.3)/2]"
   ]
  },
  {
   "cell_type": "code",
   "execution_count": 539,
   "id": "26ad5ac9",
   "metadata": {},
   "outputs": [
    {
     "data": {
      "text/html": [
       "<div>\n",
       "<style scoped>\n",
       "    .dataframe tbody tr th:only-of-type {\n",
       "        vertical-align: middle;\n",
       "    }\n",
       "\n",
       "    .dataframe tbody tr th {\n",
       "        vertical-align: top;\n",
       "    }\n",
       "\n",
       "    .dataframe thead th {\n",
       "        text-align: right;\n",
       "    }\n",
       "</style>\n",
       "<table border=\"1\" class=\"dataframe\">\n",
       "  <thead>\n",
       "    <tr style=\"text-align: right;\">\n",
       "      <th></th>\n",
       "      <th>Barrels_Angular_Precision_Mean</th>\n",
       "    </tr>\n",
       "  </thead>\n",
       "  <tbody>\n",
       "    <tr>\n",
       "      <th>10</th>\n",
       "      <td>3.249892</td>\n",
       "    </tr>\n",
       "    <tr>\n",
       "      <th>11</th>\n",
       "      <td>3.805283</td>\n",
       "    </tr>\n",
       "  </tbody>\n",
       "</table>\n",
       "</div>"
      ],
      "text/plain": [
       "    Barrels_Angular_Precision_Mean\n",
       "10                        3.249892\n",
       "11                        3.805283"
      ]
     },
     "execution_count": 539,
     "metadata": {},
     "output_type": "execute_result"
    }
   ],
   "source": [
    "df_s1bf[(df_s1bf['Inner_Alignment_Type']=='Use_Projections_Alone') & (df_s1bf['BR']=='vM1')][['Barrels_Angular_Precision_Mean',]]\n",
    "#[("
   ]
  },
  {
   "cell_type": "markdown",
   "id": "c6bbbe20",
   "metadata": {},
   "source": [
    "# Density Cluster Analysis for Registration"
   ]
  },
  {
   "cell_type": "code",
   "execution_count": 578,
   "id": "3daa94fd",
   "metadata": {},
   "outputs": [],
   "source": [
    "df = pd.read_csv('Z:/V11/Registration_Final_Coronal_Ref_Frame/Input_Ref_Frame/Local_Ref_Frame_View/density_clusters.csv')"
   ]
  },
  {
   "cell_type": "code",
   "execution_count": 580,
   "id": "762270db",
   "metadata": {},
   "outputs": [
    {
     "data": {
      "text/html": [
       "<div>\n",
       "<style scoped>\n",
       "    .dataframe tbody tr th:only-of-type {\n",
       "        vertical-align: middle;\n",
       "    }\n",
       "\n",
       "    .dataframe tbody tr th {\n",
       "        vertical-align: top;\n",
       "    }\n",
       "\n",
       "    .dataframe thead th {\n",
       "        text-align: right;\n",
       "    }\n",
       "</style>\n",
       "<table border=\"1\" class=\"dataframe\">\n",
       "  <thead>\n",
       "    <tr style=\"text-align: right;\">\n",
       "      <th></th>\n",
       "      <th>Unnamed: 0</th>\n",
       "      <th>dens_cutoff</th>\n",
       "      <th>morph_count</th>\n",
       "      <th>morph_count_per</th>\n",
       "      <th>rabies_count</th>\n",
       "      <th>rabies_count_per</th>\n",
       "    </tr>\n",
       "  </thead>\n",
       "  <tbody>\n",
       "    <tr>\n",
       "      <th>0</th>\n",
       "      <td>0</td>\n",
       "      <td>0.0</td>\n",
       "      <td>90</td>\n",
       "      <td>1.000000</td>\n",
       "      <td>1567</td>\n",
       "      <td>1.000000</td>\n",
       "    </tr>\n",
       "    <tr>\n",
       "      <th>1</th>\n",
       "      <td>0</td>\n",
       "      <td>0.1</td>\n",
       "      <td>76</td>\n",
       "      <td>0.844444</td>\n",
       "      <td>1462</td>\n",
       "      <td>0.932993</td>\n",
       "    </tr>\n",
       "    <tr>\n",
       "      <th>2</th>\n",
       "      <td>0</td>\n",
       "      <td>0.2</td>\n",
       "      <td>57</td>\n",
       "      <td>0.633333</td>\n",
       "      <td>1252</td>\n",
       "      <td>0.798979</td>\n",
       "    </tr>\n",
       "    <tr>\n",
       "      <th>3</th>\n",
       "      <td>0</td>\n",
       "      <td>0.3</td>\n",
       "      <td>52</td>\n",
       "      <td>0.577778</td>\n",
       "      <td>976</td>\n",
       "      <td>0.622846</td>\n",
       "    </tr>\n",
       "    <tr>\n",
       "      <th>4</th>\n",
       "      <td>0</td>\n",
       "      <td>0.4</td>\n",
       "      <td>34</td>\n",
       "      <td>0.377778</td>\n",
       "      <td>804</td>\n",
       "      <td>0.513082</td>\n",
       "    </tr>\n",
       "    <tr>\n",
       "      <th>5</th>\n",
       "      <td>0</td>\n",
       "      <td>0.5</td>\n",
       "      <td>24</td>\n",
       "      <td>0.266667</td>\n",
       "      <td>743</td>\n",
       "      <td>0.474154</td>\n",
       "    </tr>\n",
       "    <tr>\n",
       "      <th>6</th>\n",
       "      <td>0</td>\n",
       "      <td>0.6</td>\n",
       "      <td>8</td>\n",
       "      <td>0.088889</td>\n",
       "      <td>303</td>\n",
       "      <td>0.193363</td>\n",
       "    </tr>\n",
       "    <tr>\n",
       "      <th>7</th>\n",
       "      <td>0</td>\n",
       "      <td>0.7</td>\n",
       "      <td>8</td>\n",
       "      <td>0.088889</td>\n",
       "      <td>148</td>\n",
       "      <td>0.094448</td>\n",
       "    </tr>\n",
       "    <tr>\n",
       "      <th>8</th>\n",
       "      <td>0</td>\n",
       "      <td>0.8</td>\n",
       "      <td>8</td>\n",
       "      <td>0.088889</td>\n",
       "      <td>143</td>\n",
       "      <td>0.091257</td>\n",
       "    </tr>\n",
       "    <tr>\n",
       "      <th>9</th>\n",
       "      <td>0</td>\n",
       "      <td>0.9</td>\n",
       "      <td>6</td>\n",
       "      <td>0.066667</td>\n",
       "      <td>72</td>\n",
       "      <td>0.045948</td>\n",
       "    </tr>\n",
       "    <tr>\n",
       "      <th>10</th>\n",
       "      <td>0</td>\n",
       "      <td>1.0</td>\n",
       "      <td>6</td>\n",
       "      <td>0.066667</td>\n",
       "      <td>72</td>\n",
       "      <td>0.045948</td>\n",
       "    </tr>\n",
       "  </tbody>\n",
       "</table>\n",
       "</div>"
      ],
      "text/plain": [
       "    Unnamed: 0  dens_cutoff  morph_count  morph_count_per  rabies_count  \\\n",
       "0            0          0.0           90         1.000000          1567   \n",
       "1            0          0.1           76         0.844444          1462   \n",
       "2            0          0.2           57         0.633333          1252   \n",
       "3            0          0.3           52         0.577778           976   \n",
       "4            0          0.4           34         0.377778           804   \n",
       "5            0          0.5           24         0.266667           743   \n",
       "6            0          0.6            8         0.088889           303   \n",
       "7            0          0.7            8         0.088889           148   \n",
       "8            0          0.8            8         0.088889           143   \n",
       "9            0          0.9            6         0.066667            72   \n",
       "10           0          1.0            6         0.066667            72   \n",
       "\n",
       "    rabies_count_per  \n",
       "0           1.000000  \n",
       "1           0.932993  \n",
       "2           0.798979  \n",
       "3           0.622846  \n",
       "4           0.513082  \n",
       "5           0.474154  \n",
       "6           0.193363  \n",
       "7           0.094448  \n",
       "8           0.091257  \n",
       "9           0.045948  \n",
       "10          0.045948  "
      ]
     },
     "execution_count": 580,
     "metadata": {},
     "output_type": "execute_result"
    }
   ],
   "source": [
    "df"
   ]
  },
  {
   "cell_type": "code",
   "execution_count": 592,
   "id": "221e5ce1",
   "metadata": {
    "scrolled": true
   },
   "outputs": [
    {
     "data": {
      "image/png": "[encoded data removed]",
      "text/plain": [
       "<Figure size 472.441x330.709 with 1 Axes>"
      ]
     },
     "metadata": {
      "needs_background": "light"
     },
     "output_type": "display_data"
    }
   ],
   "source": [
    "N=11\n",
    "ind = np.arange(N)\n",
    "width = 0.4\n",
    "\n",
    "fig = plt.figure(figsize=(10*cm,7*cm),dpi=120)\n",
    "ax = fig.add_subplot(111)\n",
    "\n",
    "rects1 = ax.bar(ind,df['rabies_count_per'].values,width, color='red',)\n",
    "\n",
    "rects2 = ax.bar(ind+width,df['morph_count_per'].values,width, color='blue',)\n",
    "\n",
    "plt.yticks(np.arange(0,1.1,0.1)) \n",
    "\n",
    "plt.tight_layout()\n",
    "fig.savefig(input_path + 'Fig_4/density_clustering.eps')"
   ]
  },
  {
   "cell_type": "code",
   "execution_count": null,
   "id": "c35b93aa",
   "metadata": {},
   "outputs": [],
   "source": [
    "\t\t\t\t\t\t\tSurface\t\t\t\t\tvM1\t\t\t\t   \t\tvS1\n",
    "center\t\t\t\t\t\n",
    "global  - \t\t\t\t\t382±78\t\t\t\t\t\t623±149\t\t\t\t\t724±56\n",
    "global centers - \t\t\t544±254\t\t\t\t\t\t353±105\t\t\t\t\t345±86\n",
    "global surfaces - \t\t\t501±230\t\t\t\t\t\t226±58\t\t\t\t\t256±58\n",
    "vm1\t\t\t\t\t\t907±274\t\t\t\t\t\t137±49\t\t\t\t\t1029±88\n",
    "vs1\t\t\t\t\t\t803±381\t\t\t\t\t\t632±203\t\t\t\t\t103±44\n",
    "\n",
    "pia\t\t\t\t\t\t\n",
    "global  - \t\t\t\t\t358±117\t\t\t\t\t\t495±168\t\t\t\t\t729±265\n",
    "global centers - \t\t\t513±196\t\t\t\t\t\t285±102\t\t\t\t\t329±53\n",
    "global surfaces - \t\t\t426±157\t\t\t\t\t\t166±59\t\t\t\t\t318±53\n",
    "vm1\t\t\t\t\t\t583±194\t\t\t\t\t\t161±52\t\t\t\t\t915±81\n",
    "vs1\t\t\t\t\t\t521±180\t\t\t\t\t\t437±160\t\t\t\t\t112±40\n",
    "\n",
    "wm\t\t\t\t\t\t\n",
    "global  - \t\t\t\t\t291±\t96\t\t\t\t\t\t562±294\t\t\t\t\t700±\t69\n",
    "global centers - \t\t\t421±148\t\t\t\t\t\t326±130\t\t\t\t\t314±40\n",
    "global surfaces - \t\t\t358±127\t\t\t\t\t\t193±71\t\t\t\t\t244±57\n",
    "vm1\t\t\t\t\t\t494±162\t\t\t\t\t\t125±26\t\t\t\t\t1163±98\n",
    "vs1\t\t\t\t\t\t487±167\t\t\t\t\t\t430±160\t\t\t\t\t119±99\n",
    "\n",
    "avg\t\t\t\t\t\t\n",
    "global  - \t\t\t\t\t344±97\t\t\t\t\t\t560±204\t\t\t\t\t718±130\n",
    "global centers - \t\t\t493±199\t\t\t\t\t\t321±112\t\t\t\t\t329±60\n",
    "global surfaces - \t\t\t428±171\t\t\t\t\t\t195±63\t\t\t\t\t273±56\n",
    "vm1\t\t\t\t\t\t661±210\t\t\t\t\t\t141±42 (4x)\t\t\t\t1036±89\n",
    "vs1\t\t\t\t\t\t604±243\t\t\t\t\t\t500±174\t\t\t\t\t111±61 (6.5x)\n",
    "\n",
    "angles\t\t\t\t\t\t\n",
    "global  - \t\t\t\t\t10±4\t\t\t\t\t\t\t14±6\t\t\t\t\t\t15±1\t\t\t\t\t\t\t\t\t\n",
    "global centers - \t\t\t15±5\t\t\t\t\t\t\t7±4\t\t\t\t\t\t5±1\n",
    "global surfaces - \t\t\t13±4\t\t\t\t\t\t\t5±2\t\t\t\t\t\t5±0.4\n",
    "vm1\t\t\t\t\t\t23±9\t\t\t\t\t\t\t2±1\t(7x)\t\t\t\t\t15±2\n",
    "vs1\t\t\t\t\t\t19±8\t\t\t\t\t\t\t18±2\t\t\t\t\t\t3±0.3 (5x)\n"
   ]
  }
 ],
 "metadata": {
  "kernelspec": {
   "display_name": "Python 3 (ipykernel)",
   "language": "python",
   "name": "python3"
  },
  "language_info": {
   "codemirror_mode": {
    "name": "ipython",
    "version": 3
   },
   "file_extension": ".py",
   "mimetype": "text/x-python",
   "name": "python",
   "nbconvert_exporter": "python",
   "pygments_lexer": "ipython3",
   "version": "3.9.7"
  },
  "toc": {
   "base_numbering": 1,
   "nav_menu": {},
   "number_sections": true,
   "sideBar": true,
   "skip_h1_title": false,
   "title_cell": "Table of Contents",
   "title_sidebar": "Contents",
   "toc_cell": false,
   "toc_position": {},
   "toc_section_display": true,
   "toc_window_display": false
  }
 },
 "nbformat": 4,
 "nbformat_minor": 5
}
