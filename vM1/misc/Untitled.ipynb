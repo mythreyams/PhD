{
 "cells": [
  {
   "cell_type": "code",
   "execution_count": 32,
   "metadata": {
    "ExecuteTime": {
     "end_time": "2020-05-04T14:13:49.701086Z",
     "start_time": "2020-05-04T14:13:49.694187Z"
    },
    "collapsed": true
   },
   "outputs": [],
   "source": [
    "import vtk"
   ]
  },
  {
   "cell_type": "code",
   "execution_count": 33,
   "metadata": {
    "ExecuteTime": {
     "end_time": "2020-05-04T14:13:49.717079Z",
     "start_time": "2020-05-04T14:13:49.703121Z"
    },
    "collapsed": true
   },
   "outputs": [],
   "source": [
    "def read_landmarks(filename):\n",
    "    manual_landmark_list = []\n",
    "    lines = []\n",
    "    with open(filename, 'r') as csb:\n",
    "        lines = csb.readlines()\n",
    "    number = 0\n",
    "\n",
    "    # for each manual landmark\n",
    "    for line in lines:\n",
    "        #print line\n",
    "        if line.startswith(\"@1\"):\n",
    "            number = 1\n",
    "            continue\n",
    "        if number == 1 and line.isspace() == False:\n",
    "            #print line.split()\n",
    "            pt = list(map(float,line.split()))\n",
    "            pt = [pt[0],pt[1],pt[2]]\n",
    "            manual_landmark_list.append(pt)\n",
    "\n",
    "    return manual_landmark_list"
   ]
  },
  {
   "cell_type": "code",
   "execution_count": 34,
   "metadata": {
    "ExecuteTime": {
     "end_time": "2020-05-04T14:13:49.729078Z",
     "start_time": "2020-05-04T14:13:49.719191Z"
    },
    "collapsed": true
   },
   "outputs": [],
   "source": [
    "def convert_points_to_polydata(pts):\n",
    "    points = vtk.vtkPoints()\n",
    "    points.SetDataTypeToFloat()\n",
    "    vertices = vtk.vtkCellArray()\n",
    "\n",
    "    for i in range(len(pts)):\n",
    "        ##print(len(pts[i]))\n",
    "        ids = points.InsertNextPoint([pts[i][0],pts[i][1],pts[i][2]])\n",
    "\n",
    "        vertices.InsertNextCell(1,[i])\n",
    "    polydata = vtk.vtkPolyData()\n",
    "    polydata.SetPoints(points)\n",
    "    polydata.SetVerts(vertices)\n",
    "    return polydata"
   ]
  },
  {
   "cell_type": "code",
   "execution_count": 44,
   "metadata": {
    "ExecuteTime": {
     "end_time": "2020-05-04T14:17:53.540606Z",
     "start_time": "2020-05-04T14:17:53.532688Z"
    },
    "collapsed": true
   },
   "outputs": [],
   "source": [
    "def create_delunay_surface_3d(surf):\n",
    "    hull = vtk.vtkDelaunay3D()\n",
    "    hull.SetInputData(surf)\n",
    "    hull.Update()\n",
    "    \n",
    "    surf = vtk.vtkDataSetSurfaceFilter()\n",
    "    surf.SetInputData(hull.GetOutput())\n",
    "    surf.Update()\n",
    "    return surf.GetOutput()"
   ]
  },
  {
   "cell_type": "code",
   "execution_count": 45,
   "metadata": {
    "ExecuteTime": {
     "end_time": "2020-05-04T14:17:53.688566Z",
     "start_time": "2020-05-04T14:17:53.684084Z"
    },
    "collapsed": true
   },
   "outputs": [],
   "source": [
    "def write_surface_mesh(surface,filename):\n",
    "    writer = vtk.vtkPolyDataWriter()\n",
    "    writer.SetInputData(surface)\n",
    "    writer.SetFileName(filename)\n",
    "    writer.Write()"
   ]
  },
  {
   "cell_type": "code",
   "execution_count": null,
   "metadata": {
    "collapsed": true
   },
   "outputs": [],
   "source": []
  },
  {
   "cell_type": "code",
   "execution_count": 46,
   "metadata": {
    "ExecuteTime": {
     "end_time": "2020-05-04T14:17:54.568580Z",
     "start_time": "2020-05-04T14:17:54.562916Z"
    },
    "collapsed": true
   },
   "outputs": [],
   "source": [
    "surface_landmarks_file = '/nas1/Data_Mythreya/MotorCortexProject/4_Registered_FN_surface_Canonical.landmarkAscii'"
   ]
  },
  {
   "cell_type": "code",
   "execution_count": 47,
   "metadata": {
    "ExecuteTime": {
     "end_time": "2020-05-04T14:17:55.117189Z",
     "start_time": "2020-05-04T14:17:55.094802Z"
    }
   },
   "outputs": [],
   "source": [
    "landmarks = read_landmarks(surface_landmarks_file)"
   ]
  },
  {
   "cell_type": "code",
   "execution_count": 48,
   "metadata": {
    "ExecuteTime": {
     "end_time": "2020-05-04T14:18:00.477132Z",
     "start_time": "2020-05-04T14:17:55.532673Z"
    }
   },
   "outputs": [],
   "source": [
    "pdata = convert_points_to_polydata(landmarks)\n",
    "hull = create_delunay_surface_3d(pdata)\n",
    "write_surface_mesh(hull , '/nas1/Data_Mythreya/MotorCortexProject/surf.vtk')"
   ]
  },
  {
   "cell_type": "code",
   "execution_count": null,
   "metadata": {
    "collapsed": true
   },
   "outputs": [],
   "source": []
  }
 ],
 "metadata": {
  "kernelspec": {
   "display_name": "Python 3",
   "language": "python",
   "name": "python3"
  },
  "language_info": {
   "codemirror_mode": {
    "name": "ipython",
    "version": 3
   },
   "file_extension": ".py",
   "mimetype": "text/x-python",
   "name": "python",
   "nbconvert_exporter": "python",
   "pygments_lexer": "ipython3",
   "version": "3.6.6"
  },
  "toc": {
   "base_numbering": 1,
   "nav_menu": {},
   "number_sections": true,
   "sideBar": true,
   "skip_h1_title": false,
   "title_cell": "Table of Contents",
   "title_sidebar": "Contents",
   "toc_cell": false,
   "toc_position": {},
   "toc_section_display": true,
   "toc_window_display": false
  }
 },
 "nbformat": 4,
 "nbformat_minor": 2
}
