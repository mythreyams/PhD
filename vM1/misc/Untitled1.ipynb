{
 "cells": [
  {
   "cell_type": "code",
   "execution_count": 48,
   "metadata": {
    "ExecuteTime": {
     "end_time": "2020-04-21T11:16:31.720503Z",
     "start_time": "2020-04-21T11:16:31.716155Z"
    }
   },
   "outputs": [],
   "source": [
    "import SimpleITK as sitk\n",
    "import glob\n",
    "import os\n",
    "from scipy.ndimage import distance_transform_cdt\n",
    "import numpy as np"
   ]
  },
  {
   "cell_type": "code",
   "execution_count": 36,
   "metadata": {
    "ExecuteTime": {
     "end_time": "2020-04-21T11:08:00.257199Z",
     "start_time": "2020-04-21T11:08:00.251715Z"
    },
    "collapsed": true
   },
   "outputs": [],
   "source": [
    "path = '/nas1/Data_Mythreya/tmp/images/*'\n",
    "output_path = '/nas1/Data_Mythreya/tmp/'"
   ]
  },
  {
   "cell_type": "code",
   "execution_count": 60,
   "metadata": {
    "ExecuteTime": {
     "end_time": "2020-04-21T11:21:03.877153Z",
     "start_time": "2020-04-21T11:21:03.777195Z"
    }
   },
   "outputs": [
    {
     "name": "stdout",
     "output_type": "stream",
     "text": [
      "/nas1/Data_Mythreya/tmp/images/4658.tif\n",
      "[22.70065075921909, 28.524945770065077]\n",
      "/nas1/Data_Mythreya/tmp/images/4661.tif\n",
      "[20.553977272727273, 28.19034090909091]\n",
      "/nas1/Data_Mythreya/tmp/images/4951.tif\n",
      "[18.216589861751153, 13.341013824884792]\n",
      "/nas1/Data_Mythreya/tmp/images/5442.tif\n",
      "[28.69889502762431, 33.61602209944751]\n",
      "/nas1/Data_Mythreya/tmp/images/1618.tif\n",
      "[22.549418604651162, 30.694767441860463]\n",
      "/nas1/Data_Mythreya/tmp/images/2076.tif\n",
      "[20.412993039443155, 25.719257540603248]\n",
      "/nas1/Data_Mythreya/tmp/images/2226.tif\n",
      "[25.532299741602067, 29.1343669250646]\n",
      "/nas1/Data_Mythreya/tmp/images/2395.tif\n",
      "[31.41176470588235, 36.58455882352941]\n",
      "/nas1/Data_Mythreya/tmp/images/3000.tif\n",
      "[24.608996539792386, 14.512110726643598]\n",
      "/nas1/Data_Mythreya/tmp/images/3606.tif\n",
      "[27.9244060475162, 32.926565874730024]\n",
      "/nas1/Data_Mythreya/tmp/images/4520.tif\n",
      "[23.57608695652174, 35.817934782608695]\n"
     ]
    }
   ],
   "source": [
    "for file in glob.glob(path):\n",
    "    print(file)\n",
    "    im = sitk.ReadImage(file)\n",
    "    fil = sitk.OtsuThresholdImageFilter()\n",
    "    fil.SetInsideValue(0)\n",
    "    fil.SetOutsideValue(255)\n",
    "    binim = fil.Execute(im)\n",
    "    sitk.WriteImage(binim,output_path+os.path.basename(file)+'bin.tif')\n",
    "    npimage = sitk.GetArrayFromImage(binim)\n",
    "    #dists = distance_transform_cdt(npimage,return_distances=True)\n",
    "    indsx,indsy = np.where(npimage>0)\n",
    "    centroid = [indsy.mean(),indsx.mean()]\n",
    "    print(centroid)\n",
    "    "
   ]
  },
  {
   "cell_type": "code",
   "execution_count": 58,
   "metadata": {
    "ExecuteTime": {
     "end_time": "2020-04-21T11:18:54.285120Z",
     "start_time": "2020-04-21T11:18:54.276970Z"
    }
   },
   "outputs": [
    {
     "data": {
      "text/plain": [
       "[28.524945770065077, 22.70065075921909]"
      ]
     },
     "execution_count": 58,
     "metadata": {},
     "output_type": "execute_result"
    }
   ],
   "source": [
    "centroid"
   ]
  },
  {
   "cell_type": "code",
   "execution_count": null,
   "metadata": {
    "collapsed": true
   },
   "outputs": [],
   "source": []
  }
 ],
 "metadata": {
  "kernelspec": {
   "display_name": "Python 3",
   "language": "python",
   "name": "python3"
  },
  "language_info": {
   "codemirror_mode": {
    "name": "ipython",
    "version": 3
   },
   "file_extension": ".py",
   "mimetype": "text/x-python",
   "name": "python",
   "nbconvert_exporter": "python",
   "pygments_lexer": "ipython3",
   "version": "3.6.6"
  },
  "toc": {
   "base_numbering": 1,
   "nav_menu": {},
   "number_sections": true,
   "sideBar": true,
   "skip_h1_title": false,
   "title_cell": "Table of Contents",
   "title_sidebar": "Contents",
   "toc_cell": false,
   "toc_position": {},
   "toc_section_display": true,
   "toc_window_display": false
  }
 },
 "nbformat": 4,
 "nbformat_minor": 2
}
