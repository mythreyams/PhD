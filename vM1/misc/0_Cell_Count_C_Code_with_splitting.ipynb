{
 "cells": [
  {
   "cell_type": "code",
   "execution_count": 38,
   "metadata": {
    "ExecuteTime": {
     "end_time": "2020-05-21T13:35:25.380877Z",
     "start_time": "2020-05-21T13:35:25.372001Z"
    }
   },
   "outputs": [],
   "source": [
    "import os\n",
    "import glob\n",
    "import numpy as np\n",
    "import pathlib\n",
    "import SimpleITK as sitk\n",
    "import scipy.spatial.distance as distance\n",
    "import shutil\n",
    "from dask import compute,multiprocessing,delayed\n",
    "import sys\n",
    "sys.path.insert(0,os.path.abspath('..'))\n",
    "from spatial_graphs.Landmarks import Landmarks"
   ]
  },
  {
   "cell_type": "code",
   "execution_count": 51,
   "metadata": {
    "ExecuteTime": {
     "end_time": "2020-05-21T23:01:15.281339Z",
     "start_time": "2020-05-21T23:01:15.269317Z"
    },
    "collapsed": true
   },
   "outputs": [],
   "source": [
    "XY_RES = 0.868\n",
    "Z_RES = 50\n",
    "\n",
    "exp_name = 'MG49_rhs/'\n",
    "input_image_path =  '/nas1/Data_Mythreya/MotorCortexProject/Images_For_NeuN_Count_For_Missing/{}'.format(exp_name)\n",
    "#input_contours_path = '/nas1/Data_Mythreya/MotorCortexProject/V0/0_Inputs/Contours/Rabies/' + exp_name\n",
    "final_path = '/nas1/Data_Mythreya/MotorCortexProject/NeuN_Counts_Missing_Parts/{}/'.format(exp_name)\n",
    "pathlib.Path(final_path).mkdir(exist_ok= True)\n",
    "\n",
    "output_path = '/usr/tmp_cell_count/'\n",
    "pathlib.Path(output_path).mkdir(exist_ok= True)\n",
    "sec_num_start = 37\n",
    "sec_num_end = 40\n",
    "#sec_num = 45\n"
   ]
  },
  {
   "cell_type": "code",
   "execution_count": 52,
   "metadata": {
    "ExecuteTime": {
     "end_time": "2020-05-21T23:01:15.477140Z",
     "start_time": "2020-05-21T23:01:15.431310Z"
    },
    "scrolled": false
   },
   "outputs": [],
   "source": [
    "@delayed\n",
    "def count_cells(i):\n",
    "    print(i)\n",
    "    if os.path.exists(final_path+'S_{}/landmarks.landmarkAscii'.format(i)):\n",
    "        landmarks = Landmarks(final_path+'S_{}/landmarks.landmarkAscii'.format(i)).pts\n",
    "        #landmarks = getLandmarkCoords(final_path+'S_{}/landmarks.landmarkAscii'.format(i))\n",
    "        if len(landmarks) > 0:\n",
    "            # count already exists... so skip this section\n",
    "            return\n",
    "    \n",
    "    try:\n",
    "        pathlib.Path(output_path+'S_{}/'.format(i)).mkdir(exist_ok= True)\n",
    "        pathlib.Path(final_path+'S_{}/'.format(i)).mkdir(exist_ok= True)\n",
    "        \n",
    "        # mask the image so that only cortex is used for counting\n",
    "        filename = glob.glob(input_image_path+'S{}_masked*.tif'.format(i))\n",
    "        #filename = glob.glob(input_image_path+'buffer_Image_0000.tif')#.format(i))\n",
    "        if len(filename) > 0:\n",
    "            im = sitk.ReadImage(filename[0])\n",
    "    #         spatial_graph_file = input_contours_path + 'S{:03d}.am'.format(i)\n",
    "    #         sg = AmiraSpatialGraph(spatial_graph_file)\n",
    "    #         wm_surf = Surface(pts=sg.wm.edge_pt_coords)\n",
    "    #         bounds = wm_surf.surface.GetBounds()\n",
    "    #         print(len(sg.wm.edge_pt_coords))\n",
    "    #         #pia,wm = getSectionPiaWMPoints(spatial_graph_file)\n",
    "    #         pia_bin = convertContourCoordsIntoBinaryImage(sg.pia.edge_pt_coords,im,resample_res=0.1)\n",
    "    #         wm_bin = convertContourCoordsIntoBinaryImage(sg.wm.edge_pt_coords,im,resample_res=0.1)\n",
    "\n",
    "\n",
    "    #         pia_only = sitk.Mask(im,pia_bin)\n",
    "    #         cortex_im = sitk.Mask(pia_only,sitk.Not(wm_bin))\n",
    "            sitk.WriteImage(im,output_path+'S_{}/S_{}.tif'.format(i,i))\n",
    "            with open(output_path+'S_{}'.format(i)+'/arguments_{}.txt'.format(i),'w') as f:\n",
    "                f.write('<command> CMD_COUNT \\n')\n",
    "                f.write('<ifilename> {}S_{}/S_{}.tif\\n'.format(output_path,i,i))\n",
    "                f.write('<ofilename>    {}\\n'.format(output_path+'S_{}/'.format(i)))\n",
    "                f.write('<cfilename>    {}/CellClusterList.csv\\n'.format(output_path+'section_{}/'.format(i)))\n",
    "                f.write('<scantype> 1\\n')\n",
    "                f.write('<xysampling> 0.868\\n')\n",
    "                f.write('<zsampling> 1\\n')\n",
    "                f.write('<bricksize>  300 m\\n')\n",
    "                f.write('<somaradius> 4\\n')\n",
    "                f.close()\n",
    "\n",
    "            print('/home/mythreya/projects/CellCount/source_code/bugfix/Version20120306_ColocV2_without_clustering/Version20120306_ColocV2_Copy//CellCount \\\n",
    "            {} > {}'.format(output_path+'S_{}'.format(i)+'/arguments_{}.txt'.format(i),output_path+'S_{}'.format(i)+'/screen_outputs{}.txt'.format(i)))\n",
    "            \n",
    "            os.system('/home/mythreya/projects/CellCount/source_code/bugfix/Version20120306_ColocV2_without_clustering/Version20120306_ColocV2_Copy/CellCount \\\n",
    "            {} > {} 2>&1'.format(output_path+'S_{}'.format(i)+'/arguments_{}.txt'.format(i),output_path+'S_{}'.format(i)+'/screen_outputs{}.txt'.format(i)))\n",
    "\n",
    "#             os.system('/home/mythreya/projects/CellCount/source_code/bugfix/Version20120306_ColocV2_without_clustering/Version20120306_ColocV2_Copy/CellCount \\\n",
    "#             {} '.format(output_path+'S_{}'.format(i)+'/arguments_{}.txt'.format(i)))\n",
    "\n",
    "            # copy the final landmarks results into the final result folder\n",
    "            shutil.copyfile(output_path+'S_{}/screen_outputs{}.txt'.format(i,i), final_path+'S_{}/screen_outputs{}.txt'.format(i,i))\n",
    "            shutil.copyfile(output_path+'S_{}/landmarks.landmarkAscii'.format(i), final_path+'S_{}/landmarks.landmarkAscii'.format(i))\n",
    "            #shutil.copyfile(output_path+'S_{}/_probs.csv'.format(i), final_path+'S_{}/_probs.csv'.format(i))\n",
    "            #shutil.copyfile(output_path+'S_{}/_histo.csv'.format(i), final_path+'S_{}/_histo.csv'.format(i))\n",
    "\n",
    "            shutil.rmtree(output_path+'S_{}'.format(i))\n",
    "        \n",
    "                  \n",
    "    except RuntimeError:\n",
    "        print('Image file not found')"
   ]
  },
  {
   "cell_type": "code",
   "execution_count": 53,
   "metadata": {
    "ExecuteTime": {
     "end_time": "2020-05-22T00:46:42.729267Z",
     "start_time": "2020-05-21T23:01:15.592243Z"
    },
    "scrolled": true
   },
   "outputs": [
    {
     "name": "stdout",
     "output_type": "stream",
     "text": [
      "3839\n",
      "40\n",
      "37\n",
      "\n",
      "/home/mythreya/projects/CellCount/source_code/bugfix/Version20120306_ColocV2_without_clustering/Version20120306_ColocV2_Copy//CellCount             /usr/tmp_cell_count/S_37/arguments_37.txt > /usr/tmp_cell_count/S_37/screen_outputs37.txt\n",
      "/home/mythreya/projects/CellCount/source_code/bugfix/Version20120306_ColocV2_without_clustering/Version20120306_ColocV2_Copy//CellCount             /usr/tmp_cell_count/S_38/arguments_38.txt > /usr/tmp_cell_count/S_38/screen_outputs38.txt\n",
      "/home/mythreya/projects/CellCount/source_code/bugfix/Version20120306_ColocV2_without_clustering/Version20120306_ColocV2_Copy//CellCount             /usr/tmp_cell_count/S_40/arguments_40.txt > /usr/tmp_cell_count/S_40/screen_outputs40.txt\n",
      "/home/mythreya/projects/CellCount/source_code/bugfix/Version20120306_ColocV2_without_clustering/Version20120306_ColocV2_Copy//CellCount             /usr/tmp_cell_count/S_39/arguments_39.txt > /usr/tmp_cell_count/S_39/screen_outputs39.txt\n"
     ]
    }
   ],
   "source": [
    "fun_list = []\n",
    "for i in range(sec_num_start,sec_num_end+1):\n",
    "#     count_cells(i)\n",
    "#     break\n",
    "    fun_list.append(count_cells(i))\n",
    "    if (len(fun_list)%4)==0:\n",
    "        compute(fun_list)\n",
    "        fun_list = []\n"
   ]
  },
  {
   "cell_type": "code",
   "execution_count": null,
   "metadata": {
    "collapsed": true
   },
   "outputs": [],
   "source": []
  }
 ],
 "metadata": {
  "kernelspec": {
   "display_name": "Python 3",
   "language": "python",
   "name": "python3"
  },
  "language_info": {
   "codemirror_mode": {
    "name": "ipython",
    "version": 3
   },
   "file_extension": ".py",
   "mimetype": "text/x-python",
   "name": "python",
   "nbconvert_exporter": "python",
   "pygments_lexer": "ipython3",
   "version": "3.6.6"
  },
  "toc": {
   "base_numbering": 1,
   "nav_menu": {},
   "number_sections": true,
   "sideBar": true,
   "skip_h1_title": false,
   "title_cell": "Table of Contents",
   "title_sidebar": "Contents",
   "toc_cell": false,
   "toc_position": {},
   "toc_section_display": true,
   "toc_window_display": false
  },
  "varInspector": {
   "cols": {
    "lenName": 16,
    "lenType": 16,
    "lenVar": 40
   },
   "kernels_config": {
    "python": {
     "delete_cmd_postfix": "",
     "delete_cmd_prefix": "del ",
     "library": "var_list.py",
     "varRefreshCmd": "print(var_dic_list())"
    },
    "r": {
     "delete_cmd_postfix": ") ",
     "delete_cmd_prefix": "rm(",
     "library": "var_list.r",
     "varRefreshCmd": "cat(var_dic_list()) "
    }
   },
   "types_to_exclude": [
    "module",
    "function",
    "builtin_function_or_method",
    "instance",
    "_Feature"
   ],
   "window_display": false
  }
 },
 "nbformat": 4,
 "nbformat_minor": 2
}
