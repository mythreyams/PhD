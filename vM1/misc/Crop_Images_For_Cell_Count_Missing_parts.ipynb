{
 "cells": [
  {
   "cell_type": "code",
   "execution_count": 32,
   "metadata": {
    "ExecuteTime": {
     "end_time": "2020-05-21T11:16:02.096308Z",
     "start_time": "2020-05-21T11:16:02.081711Z"
    },
    "collapsed": true
   },
   "outputs": [],
   "source": [
    "import sys\n",
    "import os\n",
    "sys.path.insert(0,os.path.abspath('..'))\n",
    "from spatial_graphs.AmiraSpatialGraph import AmiraSpatialGraph,MatchBarrels\n",
    "from spatial_graphs.Landmarks import Landmarks\n",
    "from spatial_graphs.Surfaces import Surface\n",
    "from spatial_graphs.Vectors import Vectors\n",
    "from spatial_graphs.Alignment import Alignment\n",
    "from dask import compute,multiprocessing,delayed\n",
    "import pathlib\n",
    "import shutil\n",
    "import glob\n",
    "import pandas as pd\n",
    "import vtk\n",
    "from scipy.spatial import distance\n",
    "import numpy as np\n",
    "import SimpleITK as sitk\n",
    "import itk"
   ]
  },
  {
   "cell_type": "markdown",
   "metadata": {},
   "source": [
    "# Mask missing images by using a 500um hull for vs1 using 50um vS1"
   ]
  },
  {
   "cell_type": "code",
   "execution_count": 33,
   "metadata": {
    "ExecuteTime": {
     "end_time": "2020-05-21T11:16:02.108239Z",
     "start_time": "2020-05-21T11:16:02.098466Z"
    },
    "collapsed": true
   },
   "outputs": [],
   "source": [
    "def add_z_pt_above_below(pt,z_offset,pt_list):\n",
    "    above = [pt[0],pt[1],pt[2]+z_offset]\n",
    "    below = [pt[0],pt[1],pt[2]-z_offset]\n",
    "    pt_list.append(below)\n",
    "    pt_list.append(above)\n",
    "    pt_list.append(pt)\n",
    "    return pt_list"
   ]
  },
  {
   "cell_type": "code",
   "execution_count": 34,
   "metadata": {
    "ExecuteTime": {
     "end_time": "2020-05-21T11:16:02.124215Z",
     "start_time": "2020-05-21T11:16:02.110454Z"
    },
    "collapsed": true
   },
   "outputs": [],
   "source": [
    "def validate_pt(pt,im):\n",
    "    if pt[0]<0:\n",
    "        pt[0] = 0\n",
    "    if pt[0]>im.GetSize()[0]:\n",
    "        pt[0] = im.GetSize()[0]\n",
    "    if pt[1] < 0:\n",
    "        pt[1] = 0\n",
    "    if pt[1] > im.GetSize()[1]:\n",
    "        pt[1] = im.GetSize()[1]\n",
    "        \n",
    "    return pt"
   ]
  },
  {
   "cell_type": "code",
   "execution_count": 35,
   "metadata": {
    "ExecuteTime": {
     "end_time": "2020-05-21T11:16:02.136168Z",
     "start_time": "2020-05-21T11:16:02.126340Z"
    },
    "collapsed": true
   },
   "outputs": [],
   "source": [
    "def get_min_max(pts):\n",
    "    min_x = 9999\n",
    "    max_x = 0\n",
    "    min_y = 9999\n",
    "    max_y = 0\n",
    "    \n",
    "    for pt in pts:\n",
    "        if pt[0] < min_x:\n",
    "            min_x = pt[0]\n",
    "        if pt[0] > max_x:\n",
    "            max_x = pt[0]\n",
    "        if pt[1] < min_y:\n",
    "            min_y = pt[1]\n",
    "        if pt[1] > max_y:\n",
    "            max_y = pt[1]\n",
    "    return min_x,max_x,min_y,max_y"
   ]
  },
  {
   "cell_type": "code",
   "execution_count": 36,
   "metadata": {
    "ExecuteTime": {
     "end_time": "2020-05-21T11:16:02.156245Z",
     "start_time": "2020-05-21T11:16:02.138216Z"
    },
    "collapsed": true
   },
   "outputs": [],
   "source": [
    "def get_real_foreground_im(bb_pts,masked_im):\n",
    "    # get actual ROI as foreground\n",
    "    pt_list=[]\n",
    "    pt_list = add_z_pt_above_below(bb_pts[0],0.5,pt_list)\n",
    "    pt_list = add_z_pt_above_below(bb_pts[1],0.5,pt_list)\n",
    "    pt_list = add_z_pt_above_below(bb_pts[2],0.5,pt_list)\n",
    "    pt_list = add_z_pt_above_below(bb_pts[3],0.5,pt_list)\n",
    "\n",
    "    surf=Surface(pts=pt_list).create_delunay_surface_3d(return_hull=True,output_filename=output_path+'bla.vtk')\n",
    "\n",
    "    np_im = sitk.GetArrayFromImage(masked_im)\n",
    "    nonzeros = np.where(np_im>0)\n",
    "    inds_pts = np.array([nonzeros[0],nonzeros[1],np.zeros_like(nonzeros[0])]).transpose()\n",
    "\n",
    "    l = Landmarks(pts=inds_pts)\n",
    "    selected = l.get_landmarks_within_given_surface(surf)\n",
    "    print(selected)\n",
    "    \n",
    "    return selected"
   ]
  },
  {
   "cell_type": "code",
   "execution_count": 72,
   "metadata": {
    "ExecuteTime": {
     "end_time": "2020-05-21T12:18:12.160263Z",
     "start_time": "2020-05-21T12:18:12.123885Z"
    },
    "collapsed": true
   },
   "outputs": [],
   "source": [
    "def get_bounding_plane(cube,z_coord,tx_mat,im,neg_x=False,coronal=False):\n",
    "    \n",
    "    intersectoin_plane = Surface(polydata=cube.get_intersection_plane(z_coord))\n",
    "    #intersectoin_plane.write_surface_mesh(output_path+'{}_before.vtk'.format(sec_num))\n",
    "    if intersectoin_plane.surface.GetNumberOfPoints() > 3:\n",
    "        print('found cutting plane')\n",
    "        if neg_x:\n",
    "            neg_mat = [-1, 0, 0, 0, 0, 1, 0, 0, 0, 0, 1, 0, 0, 0, 0, 1]\n",
    "            intersectoin_plane.apply_transformation(neg_mat,inverse=True)\n",
    "        if coronal:\n",
    "            coronal_tr_mat = [-1, 0, 0, 0, 0, 0, 1, 0, 0, 1, 0, 0, 0, 0, 0, 1]\n",
    "            intersectoin_plane.apply_transformation(coronal_tr_mat,inverse=True)\n",
    "            intersectoin_plane.write_surface_mesh(output_path+'before.vtk')\n",
    "        intersectoin_plane.apply_transformation(tx_mat,inverse=True)\n",
    "#         intersectoin_plane_cube = Surface(polydata=intersectoin_plane.create_delunay_surface_3d(return_hull=True,\\\n",
    "#                                                              output_filename=output_path+'vS1_plane.vtk'))\n",
    "        #intersectoin_plane.write_surface_mesh(output_path+'{}_sec_cutting_plane.vtk'.format(sec_num))\n",
    "        bounds = intersectoin_plane.surface.GetBounds()\n",
    "        #pt_list = []\n",
    "        \n",
    "        #vtkpts = intersectoin_plane.surface.GetPoints()\n",
    "        #print(selected)\n",
    "        #XY_RES = 1\n",
    "         \n",
    "#         pt1 = [int(vtkpts.GetPoint(0)[0]/XY_RES),int(vtkpts.GetPoint(0)[1]),0]\n",
    "#         pt2 = [int(vtkpts.GetPoint(1)[0]/XY_RES),int(vtkpts.GetPoint(1)[1]),0]\n",
    "#         pt3 = [int(vtkpts.GetPoint(2)[0]/XY_RES),int(vtkpts.GetPoint(2)[1]),0]\n",
    "#         pt4 = [int(vtkpts.GetPoint(3)[0]/XY_RES),int(vtkpts.GetPoint(3)[1]),0]\n",
    "        \n",
    "        # get im inds within the BB of ROI\n",
    "#         if neg_x:\n",
    "#             pt1 = validate_pt([-int(bounds[0]/XY_RES),int(bounds[2]/XY_RES),0],im)\n",
    "#             pt2 = validate_pt([-int(bounds[1]/XY_RES),int(bounds[3]/XY_RES),0],im)\n",
    "#         else:\n",
    "        pt1 = validate_pt([int(bounds[0]/XY_RES),int(bounds[2]/XY_RES),0],im)\n",
    "        pt2 = validate_pt([int(bounds[1]/XY_RES),int(bounds[3]/XY_RES),0],im)\n",
    "        #pt3 = validate_pt(pt3,im)\n",
    "        #pt4 = validate_pt(pt4,im)\n",
    "        \n",
    "        return [pt1,pt2]\n",
    "    else:\n",
    "        return None"
   ]
  },
  {
   "cell_type": "code",
   "execution_count": 63,
   "metadata": {
    "ExecuteTime": {
     "end_time": "2020-05-21T12:03:29.676763Z",
     "start_time": "2020-05-21T12:03:29.666941Z"
    },
    "collapsed": true
   },
   "outputs": [],
   "source": [
    "def mask_im_region_from_bb(np_im,bb_pts,invert=False):\n",
    "    #np_im = sitk.GetArrayFromImage(im)\n",
    "    #np_im[:,:] = 0\n",
    "    \n",
    "    min_x,max_x,min_y,max_y = get_min_max(bb_pts)\n",
    "    print(min_x,max_x,min_y,max_y)\n",
    "    if invert:\n",
    "        np_im[bb_pts[0][1]:bb_pts[1][1],bb_pts[0][0]:bb_pts[1][0]] = 0\n",
    "    else:\n",
    "        np_im[bb_pts[0][1]:bb_pts[1][1],bb_pts[0][0]:bb_pts[1][0]] = 255\n",
    "    masked_im = sitk.GetImageFromArray(np_im)\n",
    "    #sitk.WriteImage(masked_im,'{}_binary_masked.tif'.format(op_filename))\n",
    "    \n",
    "    return np_im"
   ]
  },
  {
   "cell_type": "code",
   "execution_count": 64,
   "metadata": {
    "ExecuteTime": {
     "end_time": "2020-05-21T12:03:30.548785Z",
     "start_time": "2020-05-21T12:03:30.541477Z"
    },
    "collapsed": true
   },
   "outputs": [],
   "source": [
    "def mark_binary_im(masked_im):\n",
    "    contour_im = sitk.BinaryContour(masked_im,backgroundValue=0,foregroundValue=255)\n",
    "    dil = sitk.BinaryDilateImageFilter()\n",
    "    dil.SetKernelRadius(10)\n",
    "    dil.SetBackgroundValue(0)\n",
    "    dil.SetForegroundValue(255)\n",
    "    contour_dilated = dil.Execute(contour_im)\n",
    "    marked_im = sitk.Or(im,contour_dilated)\n",
    "    return marked_im\n",
    "    "
   ]
  },
  {
   "cell_type": "code",
   "execution_count": 74,
   "metadata": {
    "ExecuteTime": {
     "end_time": "2020-05-21T13:47:26.192682Z",
     "start_time": "2020-05-21T13:47:26.176997Z"
    },
    "collapsed": true
   },
   "outputs": [],
   "source": [
    "animal_name = 'MG50_lhs'\n",
    "image_name = 'MG50_3Day_lhs'\n",
    "section_sg_path = '/nas1/Data_Mythreya/MotorCortexProject/V9/vM1_Ref_Frame/Original_Data/Spatial_Graphs/misc/Section_Graphs/{}.am/'.format(animal_name)\n",
    "\n",
    "tx_file = section_sg_path +'aligntobarrel.hx'\n",
    "file_pattern = '*S*_ct.am'\n",
    "images_path = '/nas1/Data_aman/00_Rabies/{}/00_Images/00_Confocal/ch_01_stacks/'.format(image_name)\n",
    "image_file_pattern = 'S*_01.tif'\n",
    "#rabies_landmarks_path = '/nas1/Data_Mythreya/MotorCortexProject/V4/0_Inputs/SpatialGraphs/Section_Graphs/Rabies/{}/rabies/'.format(animal_name)\n",
    "#neun_landmarks_path = '/nas1/Data_Mythreya/MotorCortexProject/V0/0_Inputs/Landmarks/Manual/Rabies/NeuN/{}/'.format(animal_name)\n",
    "\n",
    "surface_path_vS1_500 = '/nas1/Data_Mythreya/MotorCortexProject/V9/vM1_Ref_Frame/Outputs/Surfaces/{}_s1_hull.vtk'.format(animal_name)\n",
    "surface_path_vS1_50 = '/nas1/Data_Mythreya/MotorCortexProject/V9/vM1_Ref_Frame/Outputs/Surfaces/{}_s1_hull_50.vtk'.format(animal_name)\n",
    "\n",
    "#surface_path_vM1 = '/nas1/Data_Mythreya/MotorCortexProject/V9/vM1_Ref_Frame/Outputs/vM1_Ref_Surfaces/{}_vM1.vtk'.format(animal_name)\n",
    "\n",
    "output_path = '/nas1/Data_Mythreya/MotorCortexProject/Images_For_NeuN_Count_For_Missing/{}/'.format(animal_name)\n",
    "\n",
    "XY_RES = 0.868"
   ]
  },
  {
   "cell_type": "code",
   "execution_count": 75,
   "metadata": {
    "ExecuteTime": {
     "end_time": "2020-05-21T14:40:04.001129Z",
     "start_time": "2020-05-21T13:47:27.002760Z"
    },
    "scrolled": true
   },
   "outputs": [
    {
     "name": "stdout",
     "output_type": "stream",
     "text": [
      "100\n",
      "101\n",
      "102\n",
      "103\n",
      "104\n",
      "105\n",
      "106\n",
      "107\n",
      "108\n",
      "109\n",
      "10\n",
      "found cutting plane\n",
      "found cutting plane\n",
      "[[2228, 4008, 0], [5197, 7267, 0]]\n",
      "[[2336, 3962, 0], [5094, 7215, 0]]\n",
      "2228 5197 4008 7267\n",
      "2336 5094 3962 7215\n",
      "110\n",
      "111\n",
      "112\n",
      "113\n",
      "114\n",
      "115\n",
      "116\n",
      "117\n",
      "118\n",
      "119\n",
      "11\n",
      "found cutting plane\n",
      "found cutting plane\n",
      "[[2443, 3746, 0], [5448, 6966, 0]]\n",
      "[[2552, 3714, 0], [5315, 6919, 0]]\n",
      "2443 5448 3746 6966\n",
      "2552 5315 3714 6919\n",
      "120\n",
      "12\n",
      "found cutting plane\n",
      "found cutting plane\n",
      "[[2823, 4459, 0], [5775, 7662, 0]]\n",
      "[[2930, 4429, 0], [5664, 7623, 0]]\n",
      "2823 5775 4459 7662\n",
      "2930 5664 4429 7623\n",
      "13\n",
      "found cutting plane\n",
      "found cutting plane\n",
      "[[2741, 4357, 0], [5560, 7547, 0]]\n",
      "[[2849, 4323, 0], [5516, 7523, 0]]\n",
      "2741 5560 4357 7547\n",
      "2849 5516 4323 7523\n",
      "14\n",
      "found cutting plane\n",
      "found cutting plane\n",
      "[[2960, 4136, 0], [5903, 7204, 0]]\n",
      "[[3050, 4127, 0], [5823, 7193, 0]]\n",
      "2960 5903 4136 7204\n",
      "3050 5823 4127 7193\n",
      "15\n",
      "found cutting plane\n",
      "found cutting plane\n",
      "[[2756, 4136, 0], [5318, 7228, 0]]\n",
      "[[2838, 4106, 0], [5367, 7222, 0]]\n",
      "2756 5318 4136 7228\n",
      "2838 5367 4106 7222\n",
      "16\n",
      "found cutting plane\n",
      "found cutting plane\n",
      "[[3467, 4951, 0], [5909, 7984, 0]]\n",
      "[[3503, 4913, 0], [5959, 7993, 0]]\n",
      "3467 5909 4951 7984\n",
      "3503 5959 4913 7993\n",
      "17\n",
      "found cutting plane\n",
      "found cutting plane\n",
      "[[3124, 5008, 0], [5767, 8109, 0]]\n",
      "[[3237, 4996, 0], [5793, 8118, 0]]\n",
      "3124 5767 5008 8109\n",
      "3237 5793 4996 8118\n",
      "18\n",
      "found cutting plane\n",
      "found cutting plane\n",
      "[[3106, 5417, 0], [5811, 8486, 0]]\n",
      "[[3200, 5413, 0], [5806, 8500, 0]]\n",
      "3106 5811 5417 8486\n",
      "3200 5806 5413 8500\n",
      "19\n",
      "found cutting plane\n",
      "found cutting plane\n",
      "[[2963, 5525, 0], [5368, 8537, 0]]\n",
      "[[3046, 5525, 0], [5465, 8573, 0]]\n",
      "2963 5368 5525 8537\n",
      "3046 5465 5525 8573\n",
      "1\n",
      "found cutting plane\n",
      "found cutting plane\n",
      "[[252, 662, 0], [1436, 2436, 0]]\n",
      "[[0, 67, 0], [1955, 3209, 0]]\n",
      "252 1436 662 2436\n",
      "0 1955 67 3209\n",
      "20\n",
      "found cutting plane\n",
      "found cutting plane\n",
      "[[2630, 5608, 0], [5100, 8641, 0]]\n",
      "[[2749, 5614, 0], [5185, 8677, 0]]\n",
      "2630 5100 5608 8641\n",
      "2749 5185 5614 8677\n",
      "21\n",
      "found cutting plane\n",
      "found cutting plane\n",
      "[[3424, 5645, 0], [6103, 8529, 0]]\n",
      "[[3459, 5648, 0], [6117, 8550, 0]]\n",
      "3424 6103 5645 8529\n",
      "3459 6117 5648 8550\n",
      "22\n",
      "found cutting plane\n",
      "found cutting plane\n",
      "[[3027, 5317, 0], [5331, 8279, 0]]\n",
      "[[3119, 5339, 0], [5466, 8340, 0]]\n",
      "3027 5331 5317 8279\n",
      "3119 5466 5339 8340\n",
      "23\n",
      "found cutting plane\n",
      "found cutting plane\n",
      "[[3967, 5510, 0], [6162, 8420, 0]]\n",
      "[[4004, 5521, 0], [6283, 8496, 0]]\n",
      "3967 6162 5510 8420\n",
      "4004 6283 5521 8496\n",
      "24\n",
      "found cutting plane\n",
      "found cutting plane\n",
      "[[3283, 6195, 0], [5757, 9124, 0]]\n",
      "[[3359, 6215, 0], [5847, 9180, 0]]\n",
      "3283 5757 6195 9124\n",
      "3359 5847 6215 9180\n",
      "25\n",
      "found cutting plane\n",
      "found cutting plane\n",
      "[[3583, 6057, 0], [5964, 8986, 0]]\n",
      "[[3680, 6087, 0], [6095, 9055, 0]]\n",
      "3583 5964 6057 8986\n",
      "3680 6095 6087 9055\n",
      "26\n",
      "found cutting plane\n",
      "found cutting plane\n",
      "[[3542, 6120, 0], [5818, 9034, 0]]\n",
      "[[3667, 6161, 0], [5987, 9120, 0]]\n",
      "3542 5818 6120 9034\n",
      "3667 5987 6161 9120\n",
      "27\n",
      "found cutting plane\n",
      "found cutting plane\n",
      "[[3599, 5992, 0], [5785, 8881, 0]]\n",
      "[[3728, 6044, 0], [5981, 8981, 0]]\n",
      "3599 5785 5992 8881\n",
      "3728 5981 6044 8981\n",
      "28\n",
      "found cutting plane\n",
      "found cutting plane\n",
      "[[3373, 7211, 0], [5617, 10078, 0]]\n",
      "[[3473, 7257, 0], [5804, 10173, 0]]\n",
      "3373 5617 7211 10078\n",
      "3473 5804 7257 10173\n",
      "29\n",
      "found cutting plane\n",
      "found cutting plane\n",
      "[[3658, 6803, 0], [5728, 9644, 0]]\n",
      "[[3780, 6873, 0], [5953, 9769, 0]]\n",
      "3658 5728 6803 9644\n",
      "3780 5953 6873 9769\n",
      "2\n",
      "found cutting plane\n",
      "found cutting plane\n",
      "[[764, 1202, 0], [2263, 3749, 0]]\n",
      "[[505, 590, 0], [2860, 3961, 0]]\n",
      "764 2263 1202 3749\n",
      "505 2860 590 3961\n",
      "30\n",
      "found cutting plane\n",
      "found cutting plane\n",
      "[[3667, 6722, 0], [5759, 9552, 0]]\n",
      "[[3798, 6790, 0], [5995, 9676, 0]]\n",
      "3667 5759 6722 9552\n",
      "3798 5995 6790 9676\n",
      "31\n",
      "found cutting plane\n",
      "found cutting plane\n",
      "[[4318, 6713, 0], [6430, 9518, 0]]\n",
      "[[4424, 6777, 0], [6670, 9639, 0]]\n",
      "4318 6430 6713 9518\n",
      "4424 6670 6777 9639\n",
      "32\n",
      "found cutting plane\n",
      "found cutting plane\n",
      "[[4696, 6653, 0], [6656, 9438, 0]]\n",
      "[[4827, 6744, 0], [6922, 9519, 0]]\n",
      "4696 6656 6653 9438\n",
      "4827 6922 6744 9519\n",
      "33\n",
      "found cutting plane\n",
      "found cutting plane\n",
      "[[4441, 6567, 0], [6432, 9336, 0]]\n",
      "[[4575, 6650, 0], [6712, 9309, 0]]\n",
      "4441 6432 6567 9336\n",
      "4575 6712 6650 9309\n",
      "34\n",
      "found cutting plane\n",
      "found cutting plane\n",
      "[[4504, 7394, 0], [6478, 10133, 0]]\n",
      "[[4622, 7477, 0], [6770, 10006, 0]]\n",
      "4504 6478 7394 10133\n",
      "4622 6770 7477 10006\n",
      "35\n",
      "found cutting plane\n",
      "found cutting plane\n",
      "[[4077, 7494, 0], [6077, 10133, 0]]\n",
      "[[4149, 7567, 0], [6364, 9922, 0]]\n",
      "4077 6077 7494 10133\n",
      "4149 6364 7567 9922\n",
      "36\n",
      "found cutting plane\n",
      "found cutting plane\n",
      "[[4645, 7327, 0], [6451, 9964, 0]]\n",
      "[[4854, 7447, 0], [6770, 9802, 0]]\n",
      "4645 6451 7327 9964\n",
      "4854 6770 7447 9802\n",
      "37\n",
      "found cutting plane\n",
      "found cutting plane\n",
      "[[5030, 7186, 0], [6986, 9638, 0]]\n",
      "[[5301, 7259, 0], [7294, 9300, 0]]\n",
      "5030 6986 7186 9638\n",
      "5301 7294 7259 9300\n",
      "38\n",
      "found cutting plane\n",
      "found cutting plane\n",
      "[[4646, 7249, 0], [6366, 9754, 0]]\n",
      "[[5318, 7386, 0], [6707, 9514, 0]]\n",
      "4646 6366 7249 9754\n",
      "5318 6707 7386 9514\n",
      "39\n",
      "found cutting plane\n",
      "found cutting plane\n",
      "[[5459, 7096, 0], [7039, 9544, 0]]\n",
      "[[6353, 7253, 0], [7360, 9273, 0]]\n",
      "5459 7039 7096 9544\n",
      "6353 7360 7253 9273\n",
      "3\n",
      "found cutting plane\n",
      "found cutting plane\n",
      "[[518, 1625, 0], [2274, 4586, 0]]\n",
      "[[389, 1197, 0], [2855, 4590, 0]]\n",
      "518 2274 1625 4586\n",
      "389 2855 1197 4590\n",
      "40\n",
      "found cutting plane\n",
      "found cutting plane\n",
      "[[5499, 7244, 0], [6923, 9623, 0]]\n",
      "[[6639, 7725, 0], [7255, 9282, 0]]\n",
      "5499 6923 7244 9623\n",
      "6639 7255 7725 9282\n",
      "41\n",
      "found cutting plane\n",
      "found cutting plane\n",
      "[[5393, 7101, 0], [6843, 9227, 0]]\n",
      "[[6800, 7850, 0], [6857, 7974, 0]]\n",
      "5393 6843 7101 9227\n",
      "6800 6857 7850 7974\n",
      "42\n",
      "found cutting plane\n",
      "[[5533, 7170, 0], [6700, 9051, 0]]\n",
      "None\n",
      "5533 6700 7170 9051\n",
      "43\n",
      "found cutting plane\n",
      "[[5839, 8050, 0], [6745, 9560, 0]]\n",
      "None\n",
      "5839 6745 8050 9560\n",
      "44\n",
      "found cutting plane\n",
      "[[6335, 7504, 0], [6626, 8531, 0]]\n",
      "None\n",
      "6335 6626 7504 8531\n",
      "45\n",
      "46\n",
      "47\n",
      "48\n",
      "49\n",
      "4\n",
      "found cutting plane\n",
      "found cutting plane\n",
      "[[1229, 1090, 0], [3221, 4322, 0]]\n",
      "[[1225, 852, 0], [3808, 4237, 0]]\n",
      "1229 3221 1090 4322\n",
      "1225 3808 852 4237\n",
      "50\n",
      "51\n",
      "52\n",
      "53\n",
      "54\n",
      "55\n",
      "56\n",
      "57\n",
      "58\n",
      "59\n",
      "5\n",
      "found cutting plane\n",
      "found cutting plane\n",
      "[[924, 2201, 0], [3155, 5555, 0]]\n",
      "[[1022, 2108, 0], [3746, 5473, 0]]\n",
      "924 3155 2201 5555\n",
      "1022 3746 2108 5473\n",
      "60\n",
      "61\n",
      "62\n",
      "63\n",
      "64\n",
      "65\n",
      "66\n",
      "67\n",
      "68\n",
      "69\n",
      "6\n",
      "found cutting plane\n",
      "found cutting plane\n",
      "[[2199, 2716, 0], [4367, 5778, 0]]\n",
      "[[2188, 2561, 0], [4730, 5754, 0]]\n",
      "2199 4367 2716 5778\n",
      "2188 4730 2561 5754\n",
      "70\n",
      "71\n",
      "72\n",
      "73\n",
      "74\n",
      "75\n",
      "76\n",
      "77\n",
      "78\n",
      "79\n",
      "7\n",
      "found cutting plane\n",
      "found cutting plane\n",
      "[[1541, 3888, 0], [3932, 7097, 0]]\n",
      "[[1580, 3786, 0], [4265, 7065, 0]]\n",
      "1541 3932 3888 7097\n",
      "1580 4265 3786 7065\n",
      "80\n",
      "81\n",
      "82\n",
      "83\n",
      "84\n",
      "85\n",
      "86\n",
      "87\n",
      "88\n",
      "89\n",
      "8\n",
      "found cutting plane\n",
      "found cutting plane\n",
      "[[2107, 4342, 0], [4793, 7640, 0]]\n",
      "[[2211, 4277, 0], [4989, 7579, 0]]\n",
      "2107 4793 4342 7640\n",
      "2211 4989 4277 7579\n",
      "90\n",
      "91\n",
      "92\n",
      "93\n",
      "94\n",
      "95\n",
      "96\n",
      "97\n",
      "98\n",
      "99\n",
      "9\n",
      "found cutting plane\n",
      "found cutting plane\n",
      "[[2102, 4122, 0], [4952, 7402, 0]]\n",
      "[[2209, 4066, 0], [4979, 7345, 0]]\n",
      "2102 4952 4122 7402\n",
      "2209 4979 4066 7345\n"
     ]
    }
   ],
   "source": [
    "#sg_3d = AmiraSpatialGraph(glob.glob(path + file_pattern)[0],read_header_only=True)\n",
    "#landmarks3d = Landmarks()\n",
    "#landmarks3d_neun = Landmarks()\n",
    "z_cood_offset = 50\n",
    "\n",
    "vs1_hull_500 = Surface(surface_path_vS1_500)\n",
    "vs1_hull_50 = Surface(surface_path_vS1_50)\n",
    "#s1_cube = Surface(polydata=s1_hull.create_delunay_surface_3d(make_cube=True,return_hull=True,\\\n",
    "#                                                             output_filename=output_path+'vS1_Cube.vtk'))\n",
    "\n",
    "#vm1_hull = Surface(surface_path_vM1)\n",
    "#vm1_cube = Surface(polydata=vm1_hull.create_delunay_surface_3d(make_cube=True,return_hull=True,\\\n",
    "#                                                               output_filename=output_path+'vM1_Cube.vtk'))\n",
    "#write_cube(vm1_cube.surface,output_path+'vM1_Cube.vtk')\n",
    "\n",
    "\n",
    "for file in sorted(glob.glob(images_path + image_file_pattern)):\n",
    "    #sg = AmiraSpatialGraph(file,axis_directions=[1,1,1])\n",
    "    #print(file,tx_file)\n",
    "    \n",
    "    # read tx mat from the file\n",
    "    with open(tx_file,'r') as f:\n",
    "        lines = f.readlines()\n",
    "        \n",
    "    sec_num = int(os.path.basename(file)[1:-7])\n",
    "    print(sec_num)\n",
    "    #sec_num = 49\n",
    "    \n",
    "    str_to_compare = '\"S{:03d}_ct.am\" setTransform '.format(sec_num)\n",
    "    #print(str_to_compare)\n",
    "    tx_mat = []\n",
    "    tx_mat_np = np.array([[1,0,0,0],[0,1,0,0],[0,0,1,0],[0,0,0,1]]).reshape(4,4)\n",
    "    for line in lines:\n",
    "        if line.startswith(str_to_compare):\n",
    "            #tx_mat = (line[len(str_to_compare):-1].split(' '))\n",
    "            for num in (line[len(str_to_compare):-1].split(' ')):\n",
    "                tx_mat.append(float(num))\n",
    "            tx_mat_np = np.array(tx_mat).reshape(4,4)\n",
    "            break\n",
    "    \n",
    "    if os.path.exists(images_path+'S{}_01.tif'.format(sec_num)):\n",
    "        im = sitk.ReadImage(images_path+'S{}_01.tif'.format(sec_num))\n",
    "        npim = sitk.GetArrayFromImage(im)\n",
    "        npim[:] = 0\n",
    "        # get s1 and m1 bounding box for this plane\n",
    "        s1_bb_pts_500 = get_bounding_plane(vs1_hull_500,(sec_num-1) * z_cood_offset,tx_mat_np,im, neg_x=False,coronal=False)\n",
    "        s1_bb_pts_50 = get_bounding_plane(vs1_hull_50,(sec_num-1) * z_cood_offset,tx_mat_np,im, neg_x=False,coronal=False)\n",
    "        #m1_bb_pts = get_bounding_plane(vm1_hull,(sec_num-1) * z_cood_offset,tx_mat,im, neg_x=True,coronal=False)\n",
    "        \n",
    "        if s1_bb_pts_50 is not None:\n",
    "            print(s1_bb_pts_50)\n",
    "            print(s1_bb_pts_500)\n",
    "            Landmarks(pts=[s1_bb_pts_50[0]]).write_landmarks(output_path+'{}_lower.landmarksAscii'.format(sec_num))\n",
    "            Landmarks(pts=[s1_bb_pts_50[1]]).write_landmarks(output_path+'{}_upper.landmarksAscii'.format(sec_num))\n",
    "            \n",
    "        if s1_bb_pts_50 is not None :\n",
    "            npim = mask_im_region_from_bb(npim,s1_bb_pts_50,invert=False)#output_path+'S'+str(sec_num)+'_vM1')\n",
    "            sitk.WriteImage(sitk.GetImageFromArray(npim),output_path+'S{}_50.tif'.format(sec_num))\n",
    "        \n",
    "        if s1_bb_pts_500 is not None :\n",
    "            npim = mask_im_region_from_bb(npim,s1_bb_pts_500,invert=True)#output_path+'S'+str(sec_num)+'_vS1')\n",
    "            sitk.WriteImage(sitk.GetImageFromArray(npim),output_path+'S{}_500.tif'.format(sec_num))\n",
    "            #pixel_inds = get_real_foreground_im(s1_bb_pts,s1_masked_im)\n",
    "            #Landmarks(pts=pixel_inds).write_landmarks(output_path+'s1_im_inds')\n",
    "            #sitk.WriteImage(cropped_im,output_path+'{}_01_cropped.tif'.format(sec_num))\n",
    "        #else:\n",
    "        if s1_bb_pts_500 is not None or s1_bb_pts_50 is not None:\n",
    "            sitk.WriteImage(sitk.GetImageFromArray(npim),output_path+'S{}_binary.tif'.format(sec_num))\n",
    "            marked_im = mark_binary_im(sitk.GetImageFromArray(npim))\n",
    "            sitk.WriteImage(marked_im,output_path+'S{}_boundary_marked.tif'.format(sec_num))\n",
    "            \n",
    "            masked_im = sitk.Mask(im,sitk.GetImageFromArray(npim))\n",
    "            sitk.WriteImage(masked_im,output_path+'S{}_masked.tif'.format(sec_num))\n",
    "    \n",
    "    "
   ]
  },
  {
   "cell_type": "code",
   "execution_count": null,
   "metadata": {
    "collapsed": true
   },
   "outputs": [],
   "source": []
  },
  {
   "cell_type": "code",
   "execution_count": null,
   "metadata": {
    "collapsed": true
   },
   "outputs": [],
   "source": []
  },
  {
   "cell_type": "code",
   "execution_count": 6,
   "metadata": {
    "ExecuteTime": {
     "end_time": "2020-05-21T09:55:13.264358Z",
     "start_time": "2020-05-21T09:55:13.244677Z"
    }
   },
   "outputs": [
    {
     "data": {
      "text/plain": [
       "438110.3515625"
      ]
     },
     "execution_count": 6,
     "metadata": {},
     "output_type": "execute_result"
    }
   ],
   "source": [
    "nr_yr = 15\n",
    "init = [25000,25000,50000,50000,100000,100000,150000,150000,200000,200000,\\\n",
    "        300000,300000,350000,350000,40000,0,0,0,0,0,\\\n",
    "        0,0,0,0,0,0,0,0,0,0,0,0,0,0,0]\n",
    "final = 0\n",
    "interest = 1.25\n",
    "for i in range(5):\n",
    "    saving = init[i]\n",
    "    final = (final +  saving) * interest\n",
    "final"
   ]
  },
  {
   "cell_type": "code",
   "execution_count": null,
   "metadata": {
    "ExecuteTime": {
     "end_time": "2020-04-26T04:06:17.065084Z",
     "start_time": "2020-04-26T04:06:17.039961Z"
    },
    "collapsed": true
   },
   "outputs": [],
   "source": [
    "cutPlane = vtk.vtkPlane()\n",
    "center = Surface(surface_path_vS1).surface.GetCenter()\n",
    "cutPlane.SetOrigin([center[0],center[1],30])\n",
    "cutPlane.SetNormal(0, 0, 1)\n",
    "\n",
    "cutter = vtk.vtkCutter()\n",
    "cutter.SetInputData(Surface(surface_path_vS1).surface)\n",
    "cutter.SetCutFunction(cutPlane)\n",
    "cutter.SetValue(0,0)\n",
    "cutter.Update()\n",
    "\n",
    "stripper = vtk.vtkStripper()\n",
    "stripper.SetInputData(cutter.GetOutput())\n",
    "stripper.Update()\n",
    "Surface(polydata=stripper.GetOutput()).write_surface_mesh(output_path+'plane.vtk')\n",
    "circle = cutter.GetOutput()"
   ]
  },
  {
   "cell_type": "code",
   "execution_count": null,
   "metadata": {
    "ExecuteTime": {
     "end_time": "2020-04-26T04:12:58.137105Z",
     "start_time": "2020-04-26T04:12:58.121542Z"
    },
    "collapsed": true
   },
   "outputs": [],
   "source": [
    "whiteImage =vtk.vtkImageData()\n",
    "bounds = circle.GetBounds()\n",
    "whiteImage.SetSpacing([1,1,1])\n",
    "dim = [int(bounds[1] - bounds[0]),int(bounds[1] - bounds[0]),1 ]\n",
    "whiteImage.SetDimensions(dim)\n",
    "whiteImage.SetExtent(0, dim[0] - 1, 0, dim[1] - 1, 0, dim[2] - 1)\n",
    "whiteImage.SetOrigin([bounds[0],bounds[1],0])\n",
    "whiteImage.AllocateScalars(vtk.VTK_UNSIGNED_CHAR,1)\n",
    "inval = 255\n",
    "outval = 0\n",
    "count = whiteImage.GetNumberOfPoints()\n",
    "for i in range(count):\n",
    "    whiteImage.GetPointData().GetScalars().SetTuple1(i, inval)\n",
    "\n",
    "extruder =vtk.vtkLinearExtrusionFilter()\n",
    "extruder.SetInputData(circle)\n",
    "extruder.SetScaleFactor(1.)\n",
    "extruder.SetExtrusionTypeToNormalExtrusion()\n",
    "extruder.SetVector(1, 1, 0)\n",
    "extruder.Update()\n",
    "Surface(polydata = extruder.GetOutput()).write_surface_mesh(output_path+'extrusion.vtk')"
   ]
  },
  {
   "cell_type": "code",
   "execution_count": null,
   "metadata": {
    "ExecuteTime": {
     "start_time": "2020-04-26T04:19:54.840Z"
    },
    "collapsed": true
   },
   "outputs": [],
   "source": [
    "pol2stenc =vtk.vtkPolyDataToImageStencil()\n",
    "pol2stenc.SetTolerance(0) \n",
    "pol2stenc.SetInputConnection(extruder.GetOutputPort())\n",
    "pol2stenc.SetOutputOrigin([bounds[0],bounds[1],0])\n",
    "pol2stenc.SetOutputSpacing([1,1,1])\n",
    "pol2stenc.SetOutputWholeExtent(whiteImage.GetExtent())\n",
    "pol2stenc.Update()\n",
    "\n",
    "imgstenc = vtk.vtkImageStencil()\n",
    "imgstenc.SetInputData(whiteImage)\n",
    "imgstenc.SetStencilConnection(pol2stenc.GetOutputPort())\n",
    "imgstenc.ReverseStencilOff()\n",
    "imgstenc.SetBackgroundValue(outval)\n",
    "imgstenc.Update()\n",
    "\n",
    "imageWriter = vtk.vtkMetaImageWriter()\n",
    "imageWriter.SetFileName(\"labelImage.mhd\")\n",
    "imageWriter.SetInputConnection(imgstenc.GetOutputPort())\n",
    "imageWriter.Write()"
   ]
  },
  {
   "cell_type": "code",
   "execution_count": null,
   "metadata": {
    "ExecuteTime": {
     "end_time": "2020-04-26T03:23:01.281177Z",
     "start_time": "2020-04-26T03:23:01.270926Z"
    },
    "collapsed": true
   },
   "outputs": [],
   "source": [
    "Surface(polydata=surf).write_surface_mesh(output_path+'plane.vtk')"
   ]
  },
  {
   "cell_type": "code",
   "execution_count": null,
   "metadata": {
    "ExecuteTime": {
     "end_time": "2020-04-26T03:20:04.156589Z",
     "start_time": "2020-04-26T03:20:04.142446Z"
    },
    "collapsed": true
   },
   "outputs": [],
   "source": [
    "surf.get_intersection_plane(30)\n"
   ]
  },
  {
   "cell_type": "code",
   "execution_count": null,
   "metadata": {
    "ExecuteTime": {
     "end_time": "2020-04-25T20:15:32.073124Z",
     "start_time": "2020-04-25T20:15:32.063602Z"
    },
    "collapsed": true
   },
   "outputs": [],
   "source": [
    "Landmarks(pts=s1_bb_pts).write_landmarks(output_path+'s1_bb_pts')"
   ]
  },
  {
   "cell_type": "code",
   "execution_count": null,
   "metadata": {
    "ExecuteTime": {
     "end_time": "2020-04-20T07:56:42.222107Z",
     "start_time": "2020-04-20T07:50:24.447Z"
    },
    "collapsed": true
   },
   "outputs": [],
   "source": [
    "intersectoin_plane = Surface(polydata=vm1_cube.get_intersection_plane((sec_num-1) * z_cood_offset))\n",
    "intersectoin_plane.surface.GetPoints().GetPoint(0)\n",
    "pt1 = [int(GetPoint(0)[0]/XY_RES),int(GetPoint(0)[1])]\n",
    "pt2 = [int(GetPoint(1)[0]/XY_RES),int(GetPoint(1)[1])]\n",
    "pt3 = [int(GetPoint(2)[0]/XY_RES),int(GetPoint(2)[1])]\n",
    "pt4 = [int(GetPoint(3)[0]/XY_RES),int(GetPoint(3)[1])]\n",
    "\n",
    "\n",
    "# boundary check and clip if exceeding image boudaries\n",
    "if pt1 < 0:\n",
    "    lower[0] = 0\n",
    "if lower[1] < 0:\n",
    "    lower[1] = 0\n",
    "if upper[0] > im.GetWidth():\n",
    "    upper[0] = im.GetWidth()\n",
    "if upper[1] > im.GetHeight():\n",
    "    upper[1] = im.GetHeight()"
   ]
  },
  {
   "cell_type": "code",
   "execution_count": null,
   "metadata": {
    "ExecuteTime": {
     "end_time": "2020-04-20T06:52:18.957180Z",
     "start_time": "2020-04-20T06:52:18.948276Z"
    },
    "collapsed": true
   },
   "outputs": [],
   "source": [
    "5000/XY_RES,1200/XY_RES"
   ]
  },
  {
   "cell_type": "code",
   "execution_count": null,
   "metadata": {
    "ExecuteTime": {
     "end_time": "2020-04-20T05:50:19.921219Z",
     "start_time": "2020-04-20T05:50:18.223953Z"
    },
    "collapsed": true
   },
   "outputs": [],
   "source": [
    "im = sitk.ReadImage(images_path+'S{}_01.tif'.format(sec_num))\n",
    "transform = sitk.Transform()\n",
    "transform.SetParameters(tx_mat)\n",
    "txed_im = sitk.Resample(im,  transform, sitk.sitkLinear, 0.0, sitk.sitkUInt8)\n",
    "sitk.WriteImage(txed_im,output_path+'S{}.tif'.format(sec_num))"
   ]
  },
  {
   "cell_type": "code",
   "execution_count": null,
   "metadata": {
    "ExecuteTime": {
     "end_time": "2020-04-20T06:11:43.340842Z",
     "start_time": "2020-04-20T06:11:43.335348Z"
    },
    "collapsed": true
   },
   "outputs": [],
   "source": [
    "transform = sitk.Euler2DTransform()\n",
    "transform.SetTranslation([2592.38,532.041])\n",
    "transform.SetParameters([tx_mat[0],tx_mat[4],tx_mat[1],tx_mat[5]])"
   ]
  },
  {
   "cell_type": "code",
   "execution_count": null,
   "metadata": {
    "ExecuteTime": {
     "end_time": "2020-04-20T06:11:46.536575Z",
     "start_time": "2020-04-20T06:11:44.153008Z"
    },
    "collapsed": true
   },
   "outputs": [],
   "source": [
    "im = sitk.ReadImage(images_path+'S{}_01.tif'.format(sec_num))\n",
    "fil = sitk.ResampleImageFilter()\n",
    "fil.SetInterpolator(sitk.sitkLinear)\n",
    "fil.SetTransform(transform)\n",
    "fil.SetDefaultPixelValue(0)\n",
    "fil.SetOutputPixelType(sitk.sitkUInt8)\n",
    "fil.SetSize([im.GetWidth()+2000,im.GetHeight()+2000])\n",
    "#fil.SetOutputOrigin([-2592.38,-532.041,0])\n",
    "#fil.SetOutputDirection()\n",
    "txed_im = fil.Execute(im)\n",
    "sitk.WriteImage(txed_im,output_path+'S{}.tif'.format(sec_num))"
   ]
  },
  {
   "cell_type": "code",
   "execution_count": null,
   "metadata": {
    "ExecuteTime": {
     "end_time": "2020-04-20T05:51:52.360601Z",
     "start_time": "2020-04-20T05:51:52.344349Z"
    },
    "collapsed": true
   },
   "outputs": [],
   "source": [
    "tx_mat"
   ]
  },
  {
   "cell_type": "code",
   "execution_count": null,
   "metadata": {
    "ExecuteTime": {
     "end_time": "2020-04-20T06:03:58.881091Z",
     "start_time": "2020-04-20T06:03:58.873072Z"
    },
    "collapsed": true
   },
   "outputs": [],
   "source": [
    "tx_mat[0],tx_mat[1],tx_mat[4],tx_mat[5]"
   ]
  },
  {
   "cell_type": "code",
   "execution_count": null,
   "metadata": {
    "ExecuteTime": {
     "end_time": "2020-04-20T07:48:32.933178Z",
     "start_time": "2020-04-20T07:48:28.496234Z"
    },
    "collapsed": true
   },
   "outputs": [],
   "source": []
  },
  {
   "cell_type": "code",
   "execution_count": null,
   "metadata": {
    "collapsed": true
   },
   "outputs": [],
   "source": []
  }
 ],
 "metadata": {
  "kernelspec": {
   "display_name": "Python 3",
   "language": "python",
   "name": "python3"
  },
  "language_info": {
   "codemirror_mode": {
    "name": "ipython",
    "version": 3
   },
   "file_extension": ".py",
   "mimetype": "text/x-python",
   "name": "python",
   "nbconvert_exporter": "python",
   "pygments_lexer": "ipython3",
   "version": "3.6.6"
  },
  "toc": {
   "base_numbering": 1,
   "nav_menu": {},
   "number_sections": true,
   "sideBar": true,
   "skip_h1_title": false,
   "title_cell": "Table of Contents",
   "title_sidebar": "Contents",
   "toc_cell": false,
   "toc_position": {},
   "toc_section_display": true,
   "toc_window_display": false
  }
 },
 "nbformat": 4,
 "nbformat_minor": 2
}
