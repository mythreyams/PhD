{
 "cells": [
  {
   "cell_type": "code",
   "execution_count": 2,
   "metadata": {
    "ExecuteTime": {
     "end_time": "2020-04-03T09:13:31.944698Z",
     "start_time": "2020-04-03T09:13:31.928950Z"
    }
   },
   "outputs": [
    {
     "ename": "ModuleNotFoundError",
     "evalue": "No module named 'spatial_graphs'",
     "output_type": "error",
     "traceback": [
      "\u001b[0;31m---------------------------------------------------------------------------\u001b[0m",
      "\u001b[0;31mModuleNotFoundError\u001b[0m                       Traceback (most recent call last)",
      "\u001b[0;32m<ipython-input-2-254c9f1e0fa0>\u001b[0m in \u001b[0;36m<module>\u001b[0;34m()\u001b[0m\n\u001b[1;32m      6\u001b[0m \u001b[0;32mimport\u001b[0m \u001b[0mscipy\u001b[0m\u001b[0;34m.\u001b[0m\u001b[0mspatial\u001b[0m\u001b[0;34m.\u001b[0m\u001b[0mdistance\u001b[0m \u001b[0;32mas\u001b[0m \u001b[0mdistance\u001b[0m\u001b[0;34m\u001b[0m\u001b[0m\n\u001b[1;32m      7\u001b[0m \u001b[0;32mimport\u001b[0m \u001b[0mshutil\u001b[0m\u001b[0;34m\u001b[0m\u001b[0m\n\u001b[0;32m----> 8\u001b[0;31m \u001b[0;32mfrom\u001b[0m \u001b[0mspatial_graphs\u001b[0m\u001b[0;34m.\u001b[0m\u001b[0mAmiraSpatialGraph\u001b[0m \u001b[0;32mimport\u001b[0m \u001b[0mAmiraSpatialGraph\u001b[0m\u001b[0;34m,\u001b[0m\u001b[0mSpatialGraphData\u001b[0m\u001b[0;34m\u001b[0m\u001b[0m\n\u001b[0m\u001b[1;32m      9\u001b[0m \u001b[0;32mfrom\u001b[0m \u001b[0mspatial_graphs\u001b[0m\u001b[0;34m.\u001b[0m\u001b[0mLandmarks\u001b[0m \u001b[0;32mimport\u001b[0m \u001b[0mLandmarks\u001b[0m\u001b[0;34m\u001b[0m\u001b[0m\n\u001b[1;32m     10\u001b[0m \u001b[0;32mfrom\u001b[0m \u001b[0mspatial_graphs\u001b[0m\u001b[0;34m.\u001b[0m\u001b[0mSurfaces\u001b[0m \u001b[0;32mimport\u001b[0m \u001b[0mSurface\u001b[0m\u001b[0;34m\u001b[0m\u001b[0m\n",
      "\u001b[0;31mModuleNotFoundError\u001b[0m: No module named 'spatial_graphs'"
     ]
    }
   ],
   "source": [
    "import os\n",
    "import glob\n",
    "import numpy as np\n",
    "import pathlib\n",
    "import SimpleITK as sitk\n",
    "import scipy.spatial.distance as distance\n",
    "import shutil\n",
    "from spatial_graphs.AmiraSpatialGraph import AmiraSpatialGraph,SpatialGraphData\n",
    "from spatial_graphs.Landmarks import Landmarks\n",
    "from spatial_graphs.Surfaces import Surface"
   ]
  },
  {
   "cell_type": "code",
   "execution_count": 2,
   "metadata": {
    "ExecuteTime": {
     "end_time": "2020-04-03T08:39:46.229132Z",
     "start_time": "2020-04-03T08:39:46.215749Z"
    },
    "collapsed": true
   },
   "outputs": [],
   "source": [
    "XY_RES = 0.868\n",
    "Z_RES = 50\n",
    "\n",
    "exp_name = 'MG48/'\n",
    "input_image_path =  '/nas1/Data_Mythreya/MotorCortexProject/V0/0_Inputs/Images/Rabies/NeuN/' + exp_name\n",
    "input_contours_path = '/nas1/Data_Mythreya/MotorCortexProject/V0/0_Inputs/Contours/Rabies/' + exp_name\n",
    "final_path = '/nas1/Data_Mythreya/MotorCortexProject/V0/0_Inputs/Landmarks/Manual/Rabies/NeuN/' + exp_name\n",
    "pathlib.Path(final_path).mkdir(exist_ok= True)\n",
    "\n",
    "output_path = '/usr/tmp_cell_count/'\n",
    "pathlib.Path(output_path).mkdir(exist_ok= True)\n",
    "sec_num_start = 136\n",
    "sec_num_end = 200\n",
    "#sec_num = 45\n"
   ]
  },
  {
   "cell_type": "code",
   "execution_count": 7,
   "metadata": {
    "ExecuteTime": {
     "end_time": "2020-04-03T08:48:42.536601Z",
     "start_time": "2020-04-03T08:48:42.497784Z"
    },
    "collapsed": true,
    "scrolled": false
   },
   "outputs": [],
   "source": [
    "#@delayed\n",
    "def count_cells(i):\n",
    "    #print(i)\n",
    "    if os.path.exists(final_path+'S_{}/landmarks.landmarkAscii'.format(i)):\n",
    "        landmarks = getLandmarkCoords(final_path+'S_{}/landmarks.landmarkAscii'.format(i))\n",
    "        if len(landmarks) > 0:\n",
    "            # count already exists... so skip this section\n",
    "            return\n",
    "    print(i)\n",
    "    \n",
    "    try:\n",
    "        pathlib.Path(output_path+'S_{}/'.format(i)).mkdir(exist_ok= True)\n",
    "        pathlib.Path(final_path+'S_{}/'.format(i)).mkdir(exist_ok= True)\n",
    "        \n",
    "        # mask the image so that only cortex is used for counting\n",
    "        filename = glob.glob(input_image_path+'S{}_*.tif'.format(i))\n",
    "        im = sitk.ReadImage(filename[0])\n",
    "        spatial_graph_file = input_contours_path + 'S{:03d}.am'.format(i)\n",
    "        sg = AmiraSpatialGraph(spatial_graph_file)\n",
    "        print(len(sg.wm.edge_pt_coords))\n",
    "        #pia,wm = getSectionPiaWMPoints(spatial_graph_file)\n",
    "        pia_bin = convertContourCoordsIntoBinaryImage(sg.pia.edge_pt_coords,im,resample_res=0.1)\n",
    "        wm_bin = convertContourCoordsIntoBinaryImage(sg.wm.edge_pt_coords,im,resample_res=0.1)\n",
    "\n",
    "        \n",
    "        \n",
    "        pia_only = sitk.Mask(im,pia_bin)\n",
    "        cortex_im = sitk.Mask(pia_only,sitk.Not(wm_bin))\n",
    "        sitk.WriteImage(cortex_im,output_path+'S_{}/S_{}.tif'.format(i,i))\n",
    "        with open(output_path+'S_{}'.format(i)+'/arguments_{}.txt'.format(i),'w') as f:\n",
    "            f.write('<command> CMD_COUNT \\n')\n",
    "            f.write('<ifilename> {}S_{}/S_{}.tif\\n'.format(output_path,i,i))\n",
    "            f.write('<ofilename>    {}\\n'.format(output_path+'S_{}/'.format(i)))\n",
    "            f.write('<cfilename>    {}/CellClusterList.csv\\n'.format(output_path+'section_{}/'.format(i)))\n",
    "            f.write('<scantype> 1\\n')\n",
    "            f.write('<xysampling> 0.868\\n')\n",
    "            f.write('<zsampling> 1\\n')\n",
    "            f.write('<bricksize>  300 m\\n')\n",
    "            f.write('<somaradius> 4\\n')\n",
    "            f.close()\n",
    "#         os.system('/home/mythreya//projects/CellCount/source_code/bugfix/Version20120306_ColocV2_without_clustering/Version20120306_ColocV2_Copy/build/CellCount \\\n",
    "#         {} > {}'.format(output_path+'S_{}'.format(i)+'/arguments_{}.txt'.format(i),output_path+'S_{}'.format(i)+'/screen_outputs{}.txt'.format(i)))\n",
    "    \n",
    "        # copy the final landmarks results into the final result folder\n",
    "#         shutil.copyfile(output_path+'S_{}/landmarks.landmarkAscii'.format(i), final_path+'S_{}/landmarks.landmarkAscii'.format(i))\n",
    "#         shutil.rmtree(output_path+'S_{}'.format(i))\n",
    "        \n",
    "                  \n",
    "    except RuntimeError:\n",
    "        print('Image file not found')"
   ]
  },
  {
   "cell_type": "code",
   "execution_count": 8,
   "metadata": {
    "ExecuteTime": {
     "end_time": "2020-04-03T08:49:14.697288Z",
     "start_time": "2020-04-03T08:48:42.624115Z"
    },
    "scrolled": true
   },
   "outputs": [
    {
     "name": "stdout",
     "output_type": "stream",
     "text": [
      "136\n",
      "124\n"
     ]
    },
    {
     "ename": "SystemError",
     "evalue": "<built-in function BinaryErodeImageFilter_Execute> returned a result with an error set",
     "output_type": "error",
     "traceback": [
      "\u001b[0;31m---------------------------------------------------------------------------\u001b[0m",
      "\u001b[0;31mKeyboardInterrupt\u001b[0m                         Traceback (most recent call last)",
      "\u001b[0;32m/home/mythreya/conda_envs/anaconda3_4.4_tuebingen_servers/lib/python3.6/site-packages/SimpleITK/SimpleITK.py\u001b[0m in \u001b[0;36m<lambda>\u001b[0;34m(self, name, value)\u001b[0m\n\u001b[1;32m   3676\u001b[0m     \u001b[0m__swig_setmethods__\u001b[0m \u001b[0;34m=\u001b[0m \u001b[0;34m{\u001b[0m\u001b[0;34m}\u001b[0m\u001b[0;34m\u001b[0m\u001b[0m\n\u001b[0;32m-> 3677\u001b[0;31m     \u001b[0m__setattr__\u001b[0m \u001b[0;34m=\u001b[0m \u001b[0;32mlambda\u001b[0m \u001b[0mself\u001b[0m\u001b[0;34m,\u001b[0m \u001b[0mname\u001b[0m\u001b[0;34m,\u001b[0m \u001b[0mvalue\u001b[0m\u001b[0;34m:\u001b[0m \u001b[0m_swig_setattr\u001b[0m\u001b[0;34m(\u001b[0m\u001b[0mself\u001b[0m\u001b[0;34m,\u001b[0m \u001b[0mImage\u001b[0m\u001b[0;34m,\u001b[0m \u001b[0mname\u001b[0m\u001b[0;34m,\u001b[0m \u001b[0mvalue\u001b[0m\u001b[0;34m)\u001b[0m\u001b[0;34m\u001b[0m\u001b[0m\n\u001b[0m\u001b[1;32m   3678\u001b[0m     \u001b[0m__swig_getmethods__\u001b[0m \u001b[0;34m=\u001b[0m \u001b[0;34m{\u001b[0m\u001b[0;34m}\u001b[0m\u001b[0;34m\u001b[0m\u001b[0m\n",
      "\u001b[0;31mKeyboardInterrupt\u001b[0m: ",
      "\nThe above exception was the direct cause of the following exception:\n",
      "\u001b[0;31mSystemError\u001b[0m                               Traceback (most recent call last)",
      "\u001b[0;32m<ipython-input-8-3cedfeace99c>\u001b[0m in \u001b[0;36m<module>\u001b[0;34m()\u001b[0m\n\u001b[1;32m      1\u001b[0m \u001b[0mfun_list\u001b[0m \u001b[0;34m=\u001b[0m \u001b[0;34m[\u001b[0m\u001b[0;34m]\u001b[0m\u001b[0;34m\u001b[0m\u001b[0m\n\u001b[1;32m      2\u001b[0m \u001b[0;32mfor\u001b[0m \u001b[0mi\u001b[0m \u001b[0;32min\u001b[0m \u001b[0mrange\u001b[0m\u001b[0;34m(\u001b[0m\u001b[0msec_num_start\u001b[0m\u001b[0;34m,\u001b[0m\u001b[0msec_num_end\u001b[0m\u001b[0;34m+\u001b[0m\u001b[0;36m1\u001b[0m\u001b[0;34m)\u001b[0m\u001b[0;34m:\u001b[0m\u001b[0;34m\u001b[0m\u001b[0m\n\u001b[0;32m----> 3\u001b[0;31m     \u001b[0mcount_cells\u001b[0m\u001b[0;34m(\u001b[0m\u001b[0mi\u001b[0m\u001b[0;34m)\u001b[0m\u001b[0;34m\u001b[0m\u001b[0m\n\u001b[0m\u001b[1;32m      4\u001b[0m \u001b[0;31m#     fun_list.append(count_cells(i))\u001b[0m\u001b[0;34m\u001b[0m\u001b[0;34m\u001b[0m\u001b[0m\n\u001b[1;32m      5\u001b[0m \u001b[0;31m#     if (len(fun_list)%5)==0:\u001b[0m\u001b[0;34m\u001b[0m\u001b[0;34m\u001b[0m\u001b[0m\n",
      "\u001b[0;32m<ipython-input-7-2f6440284236>\u001b[0m in \u001b[0;36mcount_cells\u001b[0;34m(i)\u001b[0m\n\u001b[1;32m     20\u001b[0m         \u001b[0mprint\u001b[0m\u001b[0;34m(\u001b[0m\u001b[0mlen\u001b[0m\u001b[0;34m(\u001b[0m\u001b[0msg\u001b[0m\u001b[0;34m.\u001b[0m\u001b[0mwm\u001b[0m\u001b[0;34m.\u001b[0m\u001b[0medge_pt_coords\u001b[0m\u001b[0;34m)\u001b[0m\u001b[0;34m)\u001b[0m\u001b[0;34m\u001b[0m\u001b[0m\n\u001b[1;32m     21\u001b[0m         \u001b[0;31m#pia,wm = getSectionPiaWMPoints(spatial_graph_file)\u001b[0m\u001b[0;34m\u001b[0m\u001b[0;34m\u001b[0m\u001b[0m\n\u001b[0;32m---> 22\u001b[0;31m         \u001b[0mpia_bin\u001b[0m \u001b[0;34m=\u001b[0m \u001b[0mconvertContourCoordsIntoBinaryImage\u001b[0m\u001b[0;34m(\u001b[0m\u001b[0msg\u001b[0m\u001b[0;34m.\u001b[0m\u001b[0mpia\u001b[0m\u001b[0;34m.\u001b[0m\u001b[0medge_pt_coords\u001b[0m\u001b[0;34m,\u001b[0m\u001b[0mim\u001b[0m\u001b[0;34m,\u001b[0m\u001b[0mresample_res\u001b[0m\u001b[0;34m=\u001b[0m\u001b[0;36m0.1\u001b[0m\u001b[0;34m)\u001b[0m\u001b[0;34m\u001b[0m\u001b[0m\n\u001b[0m\u001b[1;32m     23\u001b[0m         \u001b[0mwm_bin\u001b[0m \u001b[0;34m=\u001b[0m \u001b[0mconvertContourCoordsIntoBinaryImage\u001b[0m\u001b[0;34m(\u001b[0m\u001b[0msg\u001b[0m\u001b[0;34m.\u001b[0m\u001b[0mwm\u001b[0m\u001b[0;34m.\u001b[0m\u001b[0medge_pt_coords\u001b[0m\u001b[0;34m,\u001b[0m\u001b[0mim\u001b[0m\u001b[0;34m,\u001b[0m\u001b[0mresample_res\u001b[0m\u001b[0;34m=\u001b[0m\u001b[0;36m0.1\u001b[0m\u001b[0;34m)\u001b[0m\u001b[0;34m\u001b[0m\u001b[0m\n\u001b[1;32m     24\u001b[0m \u001b[0;34m\u001b[0m\u001b[0m\n",
      "\u001b[0;32m<ipython-input-1-f70d3f6e96fa>\u001b[0m in \u001b[0;36mconvertContourCoordsIntoBinaryImage\u001b[0;34m(cont, im, resample_res)\u001b[0m\n\u001b[1;32m      5\u001b[0m     \u001b[0mpia_cont_im\u001b[0m \u001b[0;34m=\u001b[0m \u001b[0mconvertPointsToImage2D\u001b[0m\u001b[0;34m(\u001b[0m\u001b[0mpia_imcords\u001b[0m\u001b[0;34m,\u001b[0m\u001b[0mim\u001b[0m\u001b[0;34m)\u001b[0m\u001b[0;34m\u001b[0m\u001b[0m\n\u001b[1;32m      6\u001b[0m     \u001b[0mpia_cont_im\u001b[0m\u001b[0;34m.\u001b[0m\u001b[0mSetOrigin\u001b[0m\u001b[0;34m(\u001b[0m\u001b[0mim\u001b[0m\u001b[0;34m.\u001b[0m\u001b[0mGetOrigin\u001b[0m\u001b[0;34m(\u001b[0m\u001b[0;34m)\u001b[0m\u001b[0;34m)\u001b[0m\u001b[0;34m\u001b[0m\u001b[0m\n\u001b[0;32m----> 7\u001b[0;31m     \u001b[0mpia_hole_filled\u001b[0m \u001b[0;34m=\u001b[0m \u001b[0merode_image\u001b[0m\u001b[0;34m(\u001b[0m\u001b[0msitk\u001b[0m\u001b[0;34m.\u001b[0m\u001b[0mBinaryFillhole\u001b[0m\u001b[0;34m(\u001b[0m\u001b[0mdilate_image\u001b[0m\u001b[0;34m(\u001b[0m\u001b[0mpia_cont_im\u001b[0m\u001b[0;34m,\u001b[0m\u001b[0;36m1\u001b[0m\u001b[0;34m)\u001b[0m\u001b[0;34m,\u001b[0m\u001b[0mforegroundValue\u001b[0m\u001b[0;34m=\u001b[0m\u001b[0;36m255\u001b[0m\u001b[0;34m,\u001b[0m\u001b[0mfullyConnected\u001b[0m\u001b[0;34m=\u001b[0m\u001b[0;32mFalse\u001b[0m\u001b[0;34m)\u001b[0m\u001b[0;34m,\u001b[0m\u001b[0;36m1\u001b[0m\u001b[0;34m)\u001b[0m\u001b[0;34m\u001b[0m\u001b[0m\n\u001b[0m\u001b[1;32m      8\u001b[0m \u001b[0;34m\u001b[0m\u001b[0m\n\u001b[1;32m      9\u001b[0m     \u001b[0;32mreturn\u001b[0m \u001b[0mpia_hole_filled\u001b[0m\u001b[0;34m\u001b[0m\u001b[0m\n",
      "\u001b[0;32m<ipython-input-1-a6b4b38811fe>\u001b[0m in \u001b[0;36merode_image\u001b[0;34m(im, radius)\u001b[0m\n\u001b[1;32m      5\u001b[0m     \u001b[0merode\u001b[0m\u001b[0;34m.\u001b[0m\u001b[0mSetBackgroundValue\u001b[0m\u001b[0;34m(\u001b[0m\u001b[0;36m0\u001b[0m\u001b[0;34m)\u001b[0m\u001b[0;34m\u001b[0m\u001b[0m\n\u001b[1;32m      6\u001b[0m     \u001b[0merode\u001b[0m\u001b[0;34m.\u001b[0m\u001b[0mSetForegroundValue\u001b[0m\u001b[0;34m(\u001b[0m\u001b[0;36m255\u001b[0m\u001b[0;34m)\u001b[0m\u001b[0;34m\u001b[0m\u001b[0m\n\u001b[0;32m----> 7\u001b[0;31m     \u001b[0meroded\u001b[0m \u001b[0;34m=\u001b[0m \u001b[0merode\u001b[0m\u001b[0;34m.\u001b[0m\u001b[0mExecute\u001b[0m\u001b[0;34m(\u001b[0m\u001b[0mim\u001b[0m\u001b[0;34m)\u001b[0m\u001b[0;34m\u001b[0m\u001b[0m\n\u001b[0m\u001b[1;32m      8\u001b[0m \u001b[0;34m\u001b[0m\u001b[0m\n\u001b[1;32m      9\u001b[0m     \u001b[0;32mreturn\u001b[0m \u001b[0meroded\u001b[0m\u001b[0;34m\u001b[0m\u001b[0m\n",
      "\u001b[0;32m/home/mythreya/conda_envs/anaconda3_4.4_tuebingen_servers/lib/python3.6/site-packages/SimpleITK/SimpleITK.py\u001b[0m in \u001b[0;36mExecute\u001b[0;34m(self, *args)\u001b[0m\n\u001b[1;32m  13899\u001b[0m \u001b[0;34m\u001b[0m\u001b[0m\n\u001b[1;32m  13900\u001b[0m         \"\"\"\n\u001b[0;32m> 13901\u001b[0;31m         \u001b[0;32mreturn\u001b[0m \u001b[0m_SimpleITK\u001b[0m\u001b[0;34m.\u001b[0m\u001b[0mBinaryErodeImageFilter_Execute\u001b[0m\u001b[0;34m(\u001b[0m\u001b[0mself\u001b[0m\u001b[0;34m,\u001b[0m \u001b[0;34m*\u001b[0m\u001b[0margs\u001b[0m\u001b[0;34m)\u001b[0m\u001b[0;34m\u001b[0m\u001b[0m\n\u001b[0m\u001b[1;32m  13902\u001b[0m \u001b[0;34m\u001b[0m\u001b[0m\n\u001b[1;32m  13903\u001b[0m \u001b[0mBinaryErodeImageFilter_swigregister\u001b[0m \u001b[0;34m=\u001b[0m \u001b[0m_SimpleITK\u001b[0m\u001b[0;34m.\u001b[0m\u001b[0mBinaryErodeImageFilter_swigregister\u001b[0m\u001b[0;34m\u001b[0m\u001b[0m\n",
      "\u001b[0;31mSystemError\u001b[0m: <built-in function BinaryErodeImageFilter_Execute> returned a result with an error set"
     ]
    }
   ],
   "source": [
    "fun_list = []\n",
    "for i in range(sec_num_start,sec_num_end+1):\n",
    "    count_cells(i)\n",
    "#     fun_list.append(count_cells(i))\n",
    "#     if (len(fun_list)%5)==0:\n",
    "#         compute(fun_list)\n",
    "#         fun_list = []\n"
   ]
  },
  {
   "cell_type": "code",
   "execution_count": null,
   "metadata": {
    "collapsed": true
   },
   "outputs": [],
   "source": []
  }
 ],
 "metadata": {
  "kernelspec": {
   "display_name": "Python 3",
   "language": "python",
   "name": "python3"
  },
  "language_info": {
   "codemirror_mode": {
    "name": "ipython",
    "version": 3
   },
   "file_extension": ".py",
   "mimetype": "text/x-python",
   "name": "python",
   "nbconvert_exporter": "python",
   "pygments_lexer": "ipython3",
   "version": "3.6.6"
  },
  "toc": {
   "base_numbering": 1,
   "nav_menu": {},
   "number_sections": true,
   "sideBar": true,
   "skip_h1_title": false,
   "title_cell": "Table of Contents",
   "title_sidebar": "Contents",
   "toc_cell": false,
   "toc_position": {},
   "toc_section_display": true,
   "toc_window_display": false
  },
  "varInspector": {
   "cols": {
    "lenName": 16,
    "lenType": 16,
    "lenVar": 40
   },
   "kernels_config": {
    "python": {
     "delete_cmd_postfix": "",
     "delete_cmd_prefix": "del ",
     "library": "var_list.py",
     "varRefreshCmd": "print(var_dic_list())"
    },
    "r": {
     "delete_cmd_postfix": ") ",
     "delete_cmd_prefix": "rm(",
     "library": "var_list.r",
     "varRefreshCmd": "cat(var_dic_list()) "
    }
   },
   "types_to_exclude": [
    "module",
    "function",
    "builtin_function_or_method",
    "instance",
    "_Feature"
   ],
   "window_display": false
  }
 },
 "nbformat": 4,
 "nbformat_minor": 2
}
