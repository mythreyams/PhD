{
 "cells": [
  {
   "cell_type": "code",
   "execution_count": 220,
   "metadata": {
    "ExecuteTime": {
     "end_time": "2020-04-28T01:16:11.757249Z",
     "start_time": "2020-04-28T01:16:11.742813Z"
    },
    "collapsed": true
   },
   "outputs": [],
   "source": [
    "import sys\n",
    "import os\n",
    "sys.path.insert(0,os.path.abspath('..'))\n",
    "from spatial_graphs.AmiraSpatialGraph import AmiraSpatialGraph,MatchBarrels\n",
    "from spatial_graphs.Landmarks import Landmarks\n",
    "from spatial_graphs.Surfaces import Surface\n",
    "from spatial_graphs.Vectors import Vectors\n",
    "from spatial_graphs.Alignment import Alignment\n",
    "from dask import compute,multiprocessing,delayed\n",
    "import pathlib\n",
    "import shutil\n",
    "import glob\n",
    "import pandas as pd\n",
    "import vtk\n",
    "from scipy.spatial import distance\n",
    "import numpy as np\n",
    "import SimpleITK as sitk\n",
    "import itk"
   ]
  },
  {
   "cell_type": "code",
   "execution_count": 360,
   "metadata": {
    "ExecuteTime": {
     "end_time": "2020-04-28T09:18:06.493244Z",
     "start_time": "2020-04-28T09:18:06.479255Z"
    },
    "collapsed": true
   },
   "outputs": [],
   "source": [
    "animal_name = 'MG49_lhs'\n",
    "image_name = 'MG49_3Day_lhs'\n",
    "section_sg_path = '/nas1/Data_Mythreya/MotorCortexProject/V9/vM1_Ref_Frame/Original_Data/Spatial_Graphs/misc/Section_Graphs/{}.am/'.format(animal_name)\n",
    "\n",
    "tx_file = section_sg_path +'aligntobarrel.hx'\n",
    "file_pattern = '*S*_ct.am'\n",
    "images_path = '/nas1/Data_aman/00_Rabies/{}/00_Images/00_Confocal/ch_01_stacks/'.format(image_name)\n",
    "image_file_pattern = 'S*_01.tif'\n",
    "#rabies_landmarks_path = '/nas1/Data_Mythreya/MotorCortexProject/V4/0_Inputs/SpatialGraphs/Section_Graphs/Rabies/{}/rabies/'.format(animal_name)\n",
    "#neun_landmarks_path = '/nas1/Data_Mythreya/MotorCortexProject/V0/0_Inputs/Landmarks/Manual/Rabies/NeuN/{}/'.format(animal_name)\n",
    "\n",
    "surface_path_vS1 = '/nas1/Data_Mythreya/MotorCortexProject/V9/vM1_Ref_Frame/Outputs/Surfaces/{}_s1_hull.vtk'.format(animal_name)\n",
    "surface_path_vM1 = '/nas1/Data_Mythreya/MotorCortexProject/V9/vM1_Ref_Frame/Outputs/vM1_Ref_Surfaces/{}_vM1.vtk'.format(animal_name)\n",
    "\n",
    "output_path = '/nas1/Data_Mythreya/MotorCortexProject/Images_For_NeuN_Count/{}/'.format(animal_name)\n",
    "\n",
    "XY_RES = 0.868"
   ]
  },
  {
   "cell_type": "code",
   "execution_count": 361,
   "metadata": {
    "ExecuteTime": {
     "end_time": "2020-04-28T09:18:17.572580Z",
     "start_time": "2020-04-28T09:18:17.565364Z"
    },
    "collapsed": true
   },
   "outputs": [],
   "source": [
    "def add_z_pt_above_below(pt,z_offset,pt_list):\n",
    "    above = [pt[0],pt[1],pt[2]+z_offset]\n",
    "    below = [pt[0],pt[1],pt[2]-z_offset]\n",
    "    pt_list.append(below)\n",
    "    pt_list.append(above)\n",
    "    pt_list.append(pt)\n",
    "    return pt_list"
   ]
  },
  {
   "cell_type": "code",
   "execution_count": 362,
   "metadata": {
    "ExecuteTime": {
     "end_time": "2020-04-28T09:18:17.804516Z",
     "start_time": "2020-04-28T09:18:17.795380Z"
    },
    "collapsed": true
   },
   "outputs": [],
   "source": [
    "def validate_pt(pt,im):\n",
    "    if pt[0]<0:\n",
    "        pt[0] = 0\n",
    "    if pt[0]>im.GetSize()[0]:\n",
    "        pt[0] = im.GetSize()[0]\n",
    "    if pt[1] < 0:\n",
    "        pt[1] = 0\n",
    "    if pt[1] > im.GetSize()[1]:\n",
    "        pt[1] = im.GetSize()[1]\n",
    "        \n",
    "    return pt"
   ]
  },
  {
   "cell_type": "code",
   "execution_count": 363,
   "metadata": {
    "ExecuteTime": {
     "end_time": "2020-04-28T09:18:18.525239Z",
     "start_time": "2020-04-28T09:18:18.514562Z"
    },
    "collapsed": true
   },
   "outputs": [],
   "source": [
    "def get_min_max(pts):\n",
    "    min_x = 9999\n",
    "    max_x = 0\n",
    "    min_y = 9999\n",
    "    max_y = 0\n",
    "    \n",
    "    for pt in pts:\n",
    "        if pt[0] < min_x:\n",
    "            min_x = pt[0]\n",
    "        if pt[0] > max_x:\n",
    "            max_x = pt[0]\n",
    "        if pt[1] < min_y:\n",
    "            min_y = pt[1]\n",
    "        if pt[1] > max_y:\n",
    "            max_y = pt[1]\n",
    "    return min_x,max_x,min_y,max_y"
   ]
  },
  {
   "cell_type": "code",
   "execution_count": 364,
   "metadata": {
    "ExecuteTime": {
     "end_time": "2020-04-28T09:18:19.193099Z",
     "start_time": "2020-04-28T09:18:19.176747Z"
    },
    "collapsed": true
   },
   "outputs": [],
   "source": [
    "def get_real_foreground_im(bb_pts,masked_im):\n",
    "    # get actual ROI as foreground\n",
    "    pt_list=[]\n",
    "    pt_list = add_z_pt_above_below(bb_pts[0],0.5,pt_list)\n",
    "    pt_list = add_z_pt_above_below(bb_pts[1],0.5,pt_list)\n",
    "    pt_list = add_z_pt_above_below(bb_pts[2],0.5,pt_list)\n",
    "    pt_list = add_z_pt_above_below(bb_pts[3],0.5,pt_list)\n",
    "\n",
    "    surf=Surface(pts=pt_list).create_delunay_surface_3d(return_hull=True,output_filename=output_path+'bla.vtk')\n",
    "\n",
    "    np_im = sitk.GetArrayFromImage(masked_im)\n",
    "    nonzeros = np.where(np_im>0)\n",
    "    inds_pts = np.array([nonzeros[0],nonzeros[1],np.zeros_like(nonzeros[0])]).transpose()\n",
    "\n",
    "    l = Landmarks(pts=inds_pts)\n",
    "    selected = l.get_landmarks_within_given_surface(surf)\n",
    "    print(selected)\n",
    "    \n",
    "    return selected"
   ]
  },
  {
   "cell_type": "code",
   "execution_count": 373,
   "metadata": {
    "ExecuteTime": {
     "end_time": "2020-04-28T09:24:47.260543Z",
     "start_time": "2020-04-28T09:24:47.225113Z"
    },
    "collapsed": true
   },
   "outputs": [],
   "source": [
    "def get_bounding_plane(cube,z_coord,tx_mat,im,neg_x=False,coronal=False):\n",
    "    \n",
    "    intersectoin_plane = Surface(polydata=cube.get_intersection_plane(z_coord))\n",
    "    \n",
    "    if intersectoin_plane.surface.GetNumberOfPoints() > 3:\n",
    "        \n",
    "        \n",
    "        if neg_x:\n",
    "            neg_mat = [-1, 0, 0, 0, 0, 1, 0, 0, 0, 0, 1, 0, 0, 0, 0, 1]\n",
    "            intersectoin_plane.apply_transformation(neg_mat,inverse=True)\n",
    "        if coronal:\n",
    "            coronal_tr_mat = [-1, 0, 0, 0, 0, 0, 1, 0, 0, 1, 0, 0, 0, 0, 0, 1]\n",
    "            intersectoin_plane.apply_transformation(coronal_tr_mat,inverse=True)\n",
    "            #intersectoin_plane.write_surface_mesh(output_path+'before.vtk')\n",
    "        intersectoin_plane.apply_transformation(tx_mat,inverse=True)\n",
    "#         intersectoin_plane_cube = Surface(polydata=intersectoin_plane.create_delunay_surface_3d(return_hull=True,\\\n",
    "#                                                              output_filename=output_path+'vS1_plane.vtk'))\n",
    "        #intersectoin_plane.write_surface_mesh(output_path+'{}_sec_cutting_plane.vtk'.format(sec_num))\n",
    "        bounds = intersectoin_plane.surface.GetBounds()\n",
    "        #pt_list = []\n",
    "        \n",
    "        #vtkpts = intersectoin_plane.surface.GetPoints()\n",
    "        #print(selected)\n",
    "        #XY_RES = 1\n",
    "         \n",
    "#         pt1 = [int(vtkpts.GetPoint(0)[0]/XY_RES),int(vtkpts.GetPoint(0)[1]),0]\n",
    "#         pt2 = [int(vtkpts.GetPoint(1)[0]/XY_RES),int(vtkpts.GetPoint(1)[1]),0]\n",
    "#         pt3 = [int(vtkpts.GetPoint(2)[0]/XY_RES),int(vtkpts.GetPoint(2)[1]),0]\n",
    "#         pt4 = [int(vtkpts.GetPoint(3)[0]/XY_RES),int(vtkpts.GetPoint(3)[1]),0]\n",
    "        \n",
    "        # get im inds within the BB of ROI\n",
    "#         if neg_x:\n",
    "#             pt1 = validate_pt([-int(bounds[0]/XY_RES),int(bounds[2]/XY_RES),0],im)\n",
    "#             pt2 = validate_pt([-int(bounds[1]/XY_RES),int(bounds[3]/XY_RES),0],im)\n",
    "#         else:\n",
    "        pt1 = validate_pt([int(bounds[0]/XY_RES),int(bounds[2]/XY_RES),0],im)\n",
    "        pt2 = validate_pt([int(bounds[1]/XY_RES),int(bounds[3]/XY_RES),0],im)\n",
    "        #pt3 = validate_pt(pt3,im)\n",
    "        #pt4 = validate_pt(pt4,im)\n",
    "        \n",
    "        return [pt1,pt2]\n",
    "    else:\n",
    "        return None"
   ]
  },
  {
   "cell_type": "code",
   "execution_count": 376,
   "metadata": {
    "ExecuteTime": {
     "end_time": "2020-04-28T09:29:10.196581Z",
     "start_time": "2020-04-28T09:29:10.185935Z"
    },
    "collapsed": true
   },
   "outputs": [],
   "source": [
    "def mask_im_region_from_bb(np_im,bb_pts):\n",
    "    #np_im = sitk.GetArrayFromImage(im)\n",
    "    #np_im[:,:] = 0\n",
    "    \n",
    "    min_x,max_x,min_y,max_y = get_min_max(bb_pts)\n",
    "    print(min_x,max_x,min_y,max_y)\n",
    "    np_im[bb_pts[0][1]:bb_pts[1][1],bb_pts[0][0]:bb_pts[1][0]] = 255\n",
    "    masked_im = sitk.GetImageFromArray(np_im)\n",
    "    #sitk.WriteImage(masked_im,'{}_binary_masked.tif'.format(op_filename))\n",
    "    \n",
    "    return np_im"
   ]
  },
  {
   "cell_type": "code",
   "execution_count": 377,
   "metadata": {
    "ExecuteTime": {
     "end_time": "2020-04-28T09:29:10.572655Z",
     "start_time": "2020-04-28T09:29:10.564930Z"
    }
   },
   "outputs": [],
   "source": [
    "def mark_binary_im(masked_im):\n",
    "    contour_im = sitk.BinaryContour(masked_im,backgroundValue=0,foregroundValue=255)\n",
    "    dil = sitk.BinaryDilateImageFilter()\n",
    "    dil.SetKernelRadius(10)\n",
    "    dil.SetBackgroundValue(0)\n",
    "    dil.SetForegroundValue(255)\n",
    "    contour_dilated = dil.Execute(contour_im)\n",
    "    marked_im = sitk.Or(im,contour_dilated)\n",
    "    return marked_im\n",
    "    "
   ]
  },
  {
   "cell_type": "code",
   "execution_count": 384,
   "metadata": {
    "ExecuteTime": {
     "end_time": "2020-04-28T10:17:14.321201Z",
     "start_time": "2020-04-28T09:50:05.471762Z"
    },
    "scrolled": true
   },
   "outputs": [
    {
     "name": "stdout",
     "output_type": "stream",
     "text": [
      "100\n",
      "None\n",
      "None\n",
      "101\n",
      "None\n",
      "None\n",
      "102\n",
      "None\n",
      "None\n",
      "10\n",
      "[[3109, 1433, 0], [5294, 4781, 0]]\n",
      "None\n",
      "3109 5294 1433 4781\n",
      "11\n",
      "[[2515, 1428, 0], [4718, 4708, 0]]\n",
      "None\n",
      "2515 4718 1428 4708\n",
      "12\n",
      "[[2434, 2201, 0], [4625, 5463, 0]]\n",
      "None\n",
      "2434 4625 2201 5463\n",
      "13\n",
      "[[3611, 2135, 0], [5733, 5467, 0]]\n",
      "None\n",
      "3611 5733 2135 5467\n",
      "14\n",
      "[[3037, 1914, 0], [5203, 5141, 0]]\n",
      "None\n",
      "3037 5203 1914 5141\n",
      "15\n",
      "[[3725, 3011, 0], [5694, 6378, 0]]\n",
      "None\n",
      "3725 5694 3011 6378\n",
      "16\n",
      "[[3381, 2989, 0], [5380, 6328, 0]]\n",
      "None\n",
      "3381 5380 2989 6328\n",
      "17\n",
      "[[3565, 3578, 0], [5556, 6899, 0]]\n",
      "None\n",
      "3565 5556 3578 6899\n",
      "18\n",
      "[[3109, 3531, 0], [5084, 6837, 0]]\n",
      "None\n",
      "3109 5084 3531 6837\n",
      "19\n",
      "[[2796, 3430, 0], [4819, 6668, 0]]\n",
      "None\n",
      "2796 4819 3430 6668\n",
      "1\n",
      "[[0, 932, 0], [0, 3223, 0]]\n",
      "None\n",
      "0 0 932 3223\n",
      "20\n",
      "[[4097, 3330, 0], [6046, 6600, 0]]\n",
      "[[4861, 422, 0], [5576, 901, 0]]\n",
      "4097 6046 3330 6600\n",
      "4861 5576 422 901\n",
      "21\n",
      "[[4014, 4441, 0], [5948, 7692, 0]]\n",
      "[[4498, 1357, 0], [5774, 2289, 0]]\n",
      "4014 5948 4441 7692\n",
      "4498 5774 1357 2289\n",
      "22\n",
      "[[3712, 3411, 0], [5780, 6505, 0]]\n",
      "[[3019, 270, 0], [4826, 1275, 0]]\n",
      "3712 5780 3411 6505\n",
      "3019 4826 270 1275\n",
      "23\n",
      "[[4020, 4100, 0], [5965, 7289, 0]]\n",
      "[[3892, 782, 0], [5923, 2250, 0]]\n",
      "4020 5965 4100 7289\n",
      "3892 5923 782 2250\n",
      "24\n",
      "[[4284, 4137, 0], [6116, 7359, 0]]\n",
      "[[4763, 715, 0], [6918, 2679, 0]]\n",
      "4284 6116 4137 7359\n",
      "4763 6918 715 2679\n",
      "25\n",
      "[[3883, 3836, 0], [5794, 6991, 0]]\n",
      "[[3490, 274, 0], [6202, 2337, 0]]\n",
      "3883 5794 3836 6991\n",
      "3490 6202 274 2337\n",
      "26\n",
      "[[4381, 3785, 0], [6168, 6977, 0]]\n",
      "[[4703, 139, 0], [7328, 2704, 0]]\n",
      "4381 6168 3785 6977\n",
      "4703 7328 139 2704\n",
      "27\n",
      "[[3559, 4849, 0], [5475, 7913, 0]]\n",
      "[[2537, 1055, 0], [5806, 3436, 0]]\n",
      "3559 5475 4849 7913\n",
      "2537 5806 1055 3436\n",
      "28\n",
      "[[3668, 4448, 0], [5543, 7536, 0]]\n",
      "[[2816, 522, 0], [6186, 3218, 0]]\n",
      "3668 5543 4448 7536\n",
      "2816 6186 522 3218\n",
      "29\n",
      "[[4587, 4589, 0], [6442, 7665, 0]]\n",
      "[[3667, 550, 0], [7175, 3398, 0]]\n",
      "4587 6442 4589 7665\n",
      "3667 7175 550 3398\n",
      "2\n",
      "[[3154, 0, 0], [4741, 1215, 0]]\n",
      "None\n",
      "3154 4741 0 1215\n",
      "30\n",
      "[[4692, 4367, 0], [6451, 7487, 0]]\n",
      "[[4337, 293, 0], [7727, 3446, 0]]\n",
      "4692 6451 4367 7487\n",
      "4337 7727 293 3446\n",
      "31\n",
      "[[3738, 4505, 0], [5717, 7444, 0]]\n",
      "[[2041, 360, 0], [6001, 3124, 0]]\n",
      "3738 5717 4505 7444\n",
      "2041 6001 360 3124\n",
      "32\n",
      "[[4762, 5056, 0], [6470, 8150, 0]]\n",
      "[[4335, 869, 0], [7943, 4216, 0]]\n",
      "4762 6470 5056 8150\n",
      "4335 7943 869 4216\n",
      "33\n",
      "[[4553, 5130, 0], [6251, 8206, 0]]\n",
      "[[4009, 875, 0], [7748, 4292, 0]]\n",
      "4553 6251 5130 8206\n",
      "4009 7748 875 4292\n",
      "34\n",
      "[[4201, 5119, 0], [5967, 8117, 0]]\n",
      "[[2914, 751, 0], [6998, 4065, 0]]\n",
      "4201 5967 5119 8117\n",
      "2914 6998 751 4065\n",
      "35\n",
      "[[4281, 5248, 0], [6040, 8217, 0]]\n",
      "[[2842, 813, 0], [7046, 4189, 0]]\n",
      "4281 6040 5248 8217\n",
      "2842 7046 813 4189\n",
      "36\n",
      "[[4603, 5406, 0], [6456, 8285, 0]]\n",
      "[[2721, 915, 0], [7121, 4228, 0]]\n",
      "4603 6456 5406 8285\n",
      "2721 7121 915 4228\n",
      "37\n",
      "[[4028, 5142, 0], [5761, 8060, 0]]\n",
      "[[2341, 575, 0], [6753, 4095, 0]]\n",
      "4028 5761 5142 8060\n",
      "2341 6753 575 4095\n",
      "38\n",
      "[[5088, 5096, 0], [6775, 8008, 0]]\n",
      "[[3457, 466, 0], [7921, 4118, 0]]\n",
      "5088 6775 5096 8008\n",
      "3457 7921 466 4118\n",
      "39\n",
      "[[5051, 5022, 0], [6703, 7876, 0]]\n",
      "[[3359, 326, 0], [7906, 4073, 0]]\n",
      "5051 6703 5022 7876\n",
      "3359 7906 326 4073\n",
      "3\n",
      "[[2127, 0, 0], [4335, 1747, 0]]\n",
      "None\n",
      "2127 4335 0 1747\n",
      "40\n",
      "[[5622, 5889, 0], [7134, 8754, 0]]\n",
      "[[4258, 1166, 0], [8764, 5105, 0]]\n",
      "5622 7134 5889 8754\n",
      "4258 8764 1166 5105\n",
      "41\n",
      "[[5207, 4958, 0], [6725, 7741, 0]]\n",
      "[[3573, 167, 0], [8229, 4135, 0]]\n",
      "5207 6725 4958 7741\n",
      "3573 8229 167 4135\n",
      "42\n",
      "[[5247, 5822, 0], [6730, 8551, 0]]\n",
      "[[3529, 986, 0], [8275, 5023, 0]]\n",
      "5247 6730 5822 8551\n",
      "3529 8275 986 5023\n",
      "43\n",
      "[[4500, 5094, 0], [6189, 7626, 0]]\n",
      "[[2277, 185, 0], [7235, 4149, 0]]\n",
      "4500 6189 5094 7626\n",
      "2277 7235 185 4149\n",
      "44\n",
      "[[5457, 5768, 0], [6865, 8359, 0]]\n",
      "[[3616, 844, 0], [8532, 5027, 0]]\n",
      "5457 6865 5768 8359\n",
      "3616 8532 844 5027\n",
      "45\n",
      "[[4463, 5229, 0], [6009, 7204, 0]]\n",
      "[[2064, 223, 0], [7202, 4319, 0]]\n",
      "4463 6009 5229 7204\n",
      "2064 7202 223 4319\n",
      "46\n",
      "[[6340, 5977, 0], [7392, 7786, 0]]\n",
      "[[4490, 988, 0], [9520, 5348, 0]]\n",
      "6340 7392 5977 7786\n",
      "4490 9520 988 5348\n",
      "47\n",
      "[[5146, 5264, 0], [6295, 6432, 0]]\n",
      "[[2425, 167, 0], [7746, 4363, 0]]\n",
      "5146 6295 5264 6432\n",
      "2425 7746 167 4363\n",
      "48\n",
      "None\n",
      "[[2516, 105, 0], [7918, 4394, 0]]\n",
      "2516 7918 105 4394\n",
      "49\n",
      "None\n",
      "[[2685, 833, 0], [8168, 5226, 0]]\n",
      "2685 8168 833 5226\n",
      "4\n",
      "[[1097, 0, 0], [3479, 2780, 0]]\n",
      "None\n",
      "1097 3479 0 2780\n",
      "50\n",
      "None\n",
      "[[3274, 949, 0], [8809, 5482, 0]]\n",
      "3274 8809 949 5482\n",
      "51\n",
      "None\n",
      "[[3079, 473, 0], [8684, 5076, 0]]\n",
      "3079 8684 473 5076\n",
      "52\n",
      "None\n",
      "[[1592, 813, 0], [7249, 5320, 0]]\n",
      "1592 7249 813 5320\n",
      "53\n",
      "None\n",
      "[[3020, 904, 0], [8697, 5645, 0]]\n",
      "3020 8697 904 5645\n",
      "54\n",
      "None\n",
      "[[2403, 928, 0], [8138, 5688, 0]]\n",
      "2403 8138 928 5688\n",
      "55\n",
      "None\n",
      "[[3972, 565, 0], [9581, 5479, 0]]\n",
      "3972 9581 565 5479\n",
      "56\n",
      "None\n",
      "[[2314, 881, 0], [8067, 5738, 0]]\n",
      "2314 8067 881 5738\n",
      "57\n",
      "None\n",
      "[[3738, 978, 0], [9464, 5922, 0]]\n",
      "3738 9464 978 5922\n",
      "58\n",
      "None\n",
      "[[3183, 667, 0], [8895, 5655, 0]]\n",
      "3183 8895 667 5655\n",
      "59\n",
      "None\n",
      "[[3106, 932, 0], [8870, 5854, 0]]\n",
      "3106 8870 932 5854\n",
      "5\n",
      "[[1440, 0, 0], [3694, 2785, 0]]\n",
      "None\n",
      "1440 3694 0 2785\n",
      "60\n",
      "None\n",
      "[[3155, 898, 0], [8927, 5771, 0]]\n",
      "3155 8927 898 5771\n",
      "61\n",
      "None\n",
      "[[3280, 1006, 0], [9063, 5826, 0]]\n",
      "3280 9063 1006 5826\n",
      "62\n",
      "None\n",
      "[[3379, 930, 0], [9164, 5732, 0]]\n",
      "3379 9164 930 5732\n",
      "63\n",
      "None\n",
      "[[4325, 604, 0], [10030, 5467, 0]]\n",
      "4325 10030 604 5467\n",
      "64\n",
      "None\n",
      "[[3071, 696, 0], [8877, 5459, 0]]\n",
      "3071 8877 696 5459\n",
      "65\n",
      "None\n",
      "[[2300, 756, 0], [8122, 5434, 0]]\n",
      "2300 8122 756 5434\n",
      "66\n",
      "None\n",
      "[[2758, 751, 0], [8564, 5498, 0]]\n",
      "2758 8564 751 5498\n",
      "67\n",
      "None\n",
      "[[2947, 629, 0], [8759, 5346, 0]]\n",
      "2947 8759 629 5346\n",
      "68\n",
      "None\n",
      "[[3674, 775, 0], [9430, 5542, 0]]\n",
      "3674 9430 775 5542\n",
      "69\n",
      "None\n",
      "[[4020, 695, 0], [9712, 5483, 0]]\n",
      "4020 9712 695 5483\n",
      "6\n",
      "[[2007, 0, 0], [4272, 3319, 0]]\n",
      "None\n",
      "2007 4272 0 3319\n",
      "70\n",
      "None\n",
      "[[3646, 742, 0], [9381, 5463, 0]]\n",
      "3646 9381 742 5463\n",
      "71\n",
      "None\n",
      "[[3320, 415, 0], [8981, 5137, 0]]\n",
      "3320 8981 415 5137\n",
      "72\n",
      "None\n",
      "[[4311, 483, 0], [9958, 5167, 0]]\n",
      "4311 9958 483 5167\n",
      "73\n",
      "None\n",
      "[[3724, 442, 0], [9433, 5064, 0]]\n",
      "3724 9433 442 5064\n",
      "74\n",
      "None\n",
      "[[3289, 328, 0], [9031, 4910, 0]]\n",
      "3289 9031 328 4910\n",
      "75\n",
      "None\n",
      "[[5396, 252, 0], [10837, 4899, 0]]\n",
      "5396 10837 252 4899\n",
      "76\n",
      "None\n",
      "[[5399, 781, 0], [10851, 5374, 0]]\n",
      "5399 10851 781 5374\n",
      "77\n",
      "None\n",
      "[[5626, 244, 0], [11010, 4831, 0]]\n",
      "5626 11010 244 4831\n",
      "78\n",
      "None\n",
      "[[3014, 333, 0], [8765, 4773, 0]]\n",
      "3014 8765 333 4773\n",
      "79\n",
      "None\n",
      "[[4086, 979, 0], [9751, 5525, 0]]\n",
      "4086 9751 979 5525\n",
      "7\n",
      "[[2193, 913, 0], [4387, 4369, 0]]\n",
      "None\n",
      "2193 4387 913 4369\n",
      "80\n",
      "None\n",
      "[[5316, 1028, 0], [10664, 5610, 0]]\n",
      "5316 10664 1028 5610\n",
      "81\n",
      "None\n",
      "[[4233, 446, 0], [9616, 4994, 0]]\n",
      "4233 9616 446 4994\n",
      "82\n",
      "None\n",
      "[[2651, 692, 0], [8361, 5074, 0]]\n",
      "2651 8361 692 5074\n",
      "83\n",
      "None\n",
      "[[4616, 85, 0], [10067, 4650, 0]]\n",
      "4616 10067 85 4650\n",
      "84\n",
      "None\n",
      "[[4247, 1007, 0], [9693, 5567, 0]]\n",
      "4247 9693 1007 5567\n",
      "85\n",
      "None\n",
      "[[5313, 881, 0], [10354, 5506, 0]]\n",
      "5313 10354 881 5506\n",
      "86\n",
      "None\n",
      "[[2606, 575, 0], [8211, 4887, 0]]\n",
      "2606 8211 575 4887\n",
      "87\n",
      "None\n",
      "[[6060, 1026, 0], [10595, 5419, 0]]\n",
      "6060 10595 1026 5419\n",
      "88\n",
      "None\n",
      "[[2773, 977, 0], [8238, 5066, 0]]\n",
      "2773 8238 977 5066\n",
      "89\n",
      "None\n",
      "[[6475, 1501, 0], [10722, 5709, 0]]\n",
      "6475 10722 1501 5709\n",
      "8\n",
      "[[996, 517, 0], [3984, 3261, 0]]\n",
      "None\n",
      "996 3984 517 3261\n",
      "90\n",
      "None\n",
      "[[4621, 1284, 0], [9775, 5124, 0]]\n",
      "4621 9775 1284 5124\n",
      "91\n",
      "None\n",
      "[[4325, 794, 0], [9172, 4350, 0]]\n",
      "4325 9172 794 4350\n",
      "92\n",
      "None\n",
      "[[4629, 1176, 0], [9564, 4840, 0]]\n",
      "4629 9564 1176 4840\n",
      "93\n",
      "None\n",
      "[[5120, 814, 0], [9642, 3877, 0]]\n",
      "5120 9642 814 3877\n",
      "94\n",
      "None\n",
      "[[4769, 987, 0], [9379, 4189, 0]]\n",
      "4769 9379 987 4189\n",
      "95\n",
      "None\n",
      "[[4312, 1052, 0], [8720, 3829, 0]]\n",
      "4312 8720 1052 3829\n",
      "96\n",
      "None\n",
      "[[3240, 576, 0], [7472, 3727, 0]]\n",
      "3240 7472 576 3727\n",
      "97\n",
      "None\n",
      "[[4364, 1277, 0], [8495, 3931, 0]]\n",
      "4364 8495 1277 3931\n",
      "98\n",
      "None\n",
      "[[3935, 679, 0], [7808, 3205, 0]]\n",
      "3935 7808 679 3205\n",
      "99\n",
      "None\n",
      "[[3466, 1388, 0], [6980, 3699, 0]]\n",
      "3466 6980 1388 3699\n",
      "9\n",
      "[[2952, 1599, 0], [5154, 4960, 0]]\n",
      "None\n",
      "2952 5154 1599 4960\n"
     ]
    }
   ],
   "source": [
    "#sg_3d = AmiraSpatialGraph(glob.glob(path + file_pattern)[0],read_header_only=True)\n",
    "#landmarks3d = Landmarks()\n",
    "#landmarks3d_neun = Landmarks()\n",
    "z_cood_offset = 50\n",
    "vs1_hull = Surface(surface_path_vS1)\n",
    "#s1_cube = Surface(polydata=s1_hull.create_delunay_surface_3d(make_cube=True,return_hull=True,\\\n",
    "#                                                             output_filename=output_path+'vS1_Cube.vtk'))\n",
    "\n",
    "vm1_hull = Surface(surface_path_vM1)\n",
    "#vm1_cube = Surface(polydata=vm1_hull.create_delunay_surface_3d(make_cube=True,return_hull=True,\\\n",
    "#                                                               output_filename=output_path+'vM1_Cube.vtk'))\n",
    "#write_cube(vm1_cube.surface,output_path+'vM1_Cube.vtk')\n",
    "\n",
    "\n",
    "for file in sorted(glob.glob(images_path + image_file_pattern)):\n",
    "    #sg = AmiraSpatialGraph(file,axis_directions=[1,1,1])\n",
    "    #print(file,tx_file)\n",
    "    \n",
    "    # read tx mat from the file\n",
    "    with open(tx_file,'r') as f:\n",
    "        lines = f.readlines()\n",
    "        \n",
    "    sec_num = int(os.path.basename(file)[1:-7])\n",
    "    print(sec_num)\n",
    "    #sec_num = 49\n",
    "    \n",
    "    str_to_compare = '\"S{:03d}_ct.am\" setTransform '.format(sec_num)\n",
    "    #print(str_to_compare)\n",
    "    tx_mat = []\n",
    "    tx_mat_np = np.array([[1,0,0,0],[0,1,0,0],[0,0,1,0],[0,0,0,1]]).reshape(4,4)\n",
    "    for line in lines:\n",
    "        if line.startswith(str_to_compare):\n",
    "            #tx_mat = (line[len(str_to_compare):-1].split(' '))\n",
    "            for num in (line[len(str_to_compare):-1].split(' ')):\n",
    "                tx_mat.append(float(num))\n",
    "            tx_mat_np = np.array(tx_mat).reshape(4,4)\n",
    "            break\n",
    "    \n",
    "    if os.path.exists(images_path+'S{}_01.tif'.format(sec_num)):\n",
    "        im = sitk.ReadImage(images_path+'S{}_01.tif'.format(sec_num))\n",
    "        npim = sitk.GetArrayFromImage(im)\n",
    "        npim[:] = 0\n",
    "        # get s1 and m1 bounding box for this plane\n",
    "        s1_bb_pts = get_bounding_plane(vs1_hull,(sec_num-1) * z_cood_offset,tx_mat_np,im, neg_x=False,coronal=False)\n",
    "        m1_bb_pts = get_bounding_plane(vm1_hull,(sec_num-1) * z_cood_offset,tx_mat,im, neg_x=False,coronal=False)\n",
    "        print(s1_bb_pts)\n",
    "        print(m1_bb_pts)\n",
    "        #Landmarks(pts=[s1_bb_pts[0]]).write_landmarks(output_path+'{}_lower.landmarksAscii'.format(sec_num))\n",
    "        #Landmarks(pts=[s1_bb_pts[1]]).write_landmarks(output_path+'{}_upper.landmarksAscii'.format(sec_num))\n",
    "        if s1_bb_pts is not None :\n",
    "            \n",
    "            npim = mask_im_region_from_bb(npim,s1_bb_pts,)#output_path+'S'+str(sec_num)+'_vS1')\n",
    "            #pixel_inds = get_real_foreground_im(s1_bb_pts,s1_masked_im)\n",
    "            #Landmarks(pts=pixel_inds).write_landmarks(output_path+'s1_im_inds')\n",
    "            #sitk.WriteImage(cropped_im,output_path+'{}_01_cropped.tif'.format(sec_num))\n",
    "            \n",
    "        if m1_bb_pts is not None :\n",
    "            npim = mask_im_region_from_bb(npim,m1_bb_pts,)#output_path+'S'+str(sec_num)+'_vM1')\n",
    "            #sitk.WriteImage(cropped_im,output_path+'{}_01_cropped.tif'.format(sec_num))\n",
    "        \n",
    "        #else:\n",
    "        if s1_bb_pts is not None or m1_bb_pts is not None:\n",
    "            sitk.WriteImage(sitk.GetImageFromArray(npim),output_path+'S{}_binary.tif'.format(sec_num))\n",
    "            marked_im = mark_binary_im(sitk.GetImageFromArray(npim))\n",
    "            sitk.WriteImage(marked_im,output_path+'S{}_boundary_marked.tif'.format(sec_num))\n",
    "            \n",
    "            masked_im = sitk.Mask(im,sitk.GetImageFromArray(npim))\n",
    "            sitk.WriteImage(masked_im,output_path+'S{}_masked.tif'.format(sec_num))\n",
    "    \n",
    "    "
   ]
  },
  {
   "cell_type": "code",
   "execution_count": null,
   "metadata": {
    "collapsed": true
   },
   "outputs": [],
   "source": []
  },
  {
   "cell_type": "code",
   "execution_count": null,
   "metadata": {
    "collapsed": true
   },
   "outputs": [],
   "source": []
  },
  {
   "cell_type": "code",
   "execution_count": 115,
   "metadata": {
    "ExecuteTime": {
     "end_time": "2020-04-26T23:14:21.632411Z",
     "start_time": "2020-04-26T23:14:21.622034Z"
    }
   },
   "outputs": [
    {
     "data": {
      "text/plain": [
       "1012057770.9125042"
      ]
     },
     "execution_count": 115,
     "metadata": {},
     "output_type": "execute_result"
    }
   ],
   "source": [
    "nr_yr = 15\n",
    "init = [25000,25000,50000,50000,100000,100000,150000,150000,200000,200000,\\\n",
    "        300000,300000,350000,350000,40000,0,0,0,0,0,\\\n",
    "        0,0,0,0,0,0,0,0,0,0,0,0,0,0,0]\n",
    "final = 0\n",
    "interest = 1.25\n",
    "for i in range(35):\n",
    "    saving = init[i]\n",
    "    final = (final +  saving) * interest\n",
    "final"
   ]
  },
  {
   "cell_type": "code",
   "execution_count": null,
   "metadata": {
    "ExecuteTime": {
     "end_time": "2020-04-26T04:06:17.065084Z",
     "start_time": "2020-04-26T04:06:17.039961Z"
    },
    "collapsed": true
   },
   "outputs": [],
   "source": [
    "cutPlane = vtk.vtkPlane()\n",
    "center = Surface(surface_path_vS1).surface.GetCenter()\n",
    "cutPlane.SetOrigin([center[0],center[1],30])\n",
    "cutPlane.SetNormal(0, 0, 1)\n",
    "\n",
    "cutter = vtk.vtkCutter()\n",
    "cutter.SetInputData(Surface(surface_path_vS1).surface)\n",
    "cutter.SetCutFunction(cutPlane)\n",
    "cutter.SetValue(0,0)\n",
    "cutter.Update()\n",
    "\n",
    "stripper = vtk.vtkStripper()\n",
    "stripper.SetInputData(cutter.GetOutput())\n",
    "stripper.Update()\n",
    "Surface(polydata=stripper.GetOutput()).write_surface_mesh(output_path+'plane.vtk')\n",
    "circle = cutter.GetOutput()"
   ]
  },
  {
   "cell_type": "code",
   "execution_count": null,
   "metadata": {
    "ExecuteTime": {
     "end_time": "2020-04-26T04:12:58.137105Z",
     "start_time": "2020-04-26T04:12:58.121542Z"
    },
    "collapsed": true
   },
   "outputs": [],
   "source": [
    "whiteImage =vtk.vtkImageData()\n",
    "bounds = circle.GetBounds()\n",
    "whiteImage.SetSpacing([1,1,1])\n",
    "dim = [int(bounds[1] - bounds[0]),int(bounds[1] - bounds[0]),1 ]\n",
    "whiteImage.SetDimensions(dim)\n",
    "whiteImage.SetExtent(0, dim[0] - 1, 0, dim[1] - 1, 0, dim[2] - 1)\n",
    "whiteImage.SetOrigin([bounds[0],bounds[1],0])\n",
    "whiteImage.AllocateScalars(vtk.VTK_UNSIGNED_CHAR,1)\n",
    "inval = 255\n",
    "outval = 0\n",
    "count = whiteImage.GetNumberOfPoints()\n",
    "for i in range(count):\n",
    "    whiteImage.GetPointData().GetScalars().SetTuple1(i, inval)\n",
    "\n",
    "extruder =vtk.vtkLinearExtrusionFilter()\n",
    "extruder.SetInputData(circle)\n",
    "extruder.SetScaleFactor(1.)\n",
    "extruder.SetExtrusionTypeToNormalExtrusion()\n",
    "extruder.SetVector(1, 1, 0)\n",
    "extruder.Update()\n",
    "Surface(polydata = extruder.GetOutput()).write_surface_mesh(output_path+'extrusion.vtk')"
   ]
  },
  {
   "cell_type": "code",
   "execution_count": null,
   "metadata": {
    "ExecuteTime": {
     "start_time": "2020-04-26T04:19:54.840Z"
    },
    "collapsed": true
   },
   "outputs": [],
   "source": [
    "pol2stenc =vtk.vtkPolyDataToImageStencil()\n",
    "pol2stenc.SetTolerance(0) \n",
    "pol2stenc.SetInputConnection(extruder.GetOutputPort())\n",
    "pol2stenc.SetOutputOrigin([bounds[0],bounds[1],0])\n",
    "pol2stenc.SetOutputSpacing([1,1,1])\n",
    "pol2stenc.SetOutputWholeExtent(whiteImage.GetExtent())\n",
    "pol2stenc.Update()\n",
    "\n",
    "imgstenc = vtk.vtkImageStencil()\n",
    "imgstenc.SetInputData(whiteImage)\n",
    "imgstenc.SetStencilConnection(pol2stenc.GetOutputPort())\n",
    "imgstenc.ReverseStencilOff()\n",
    "imgstenc.SetBackgroundValue(outval)\n",
    "imgstenc.Update()\n",
    "\n",
    "imageWriter = vtk.vtkMetaImageWriter()\n",
    "imageWriter.SetFileName(\"labelImage.mhd\")\n",
    "imageWriter.SetInputConnection(imgstenc.GetOutputPort())\n",
    "imageWriter.Write()"
   ]
  },
  {
   "cell_type": "code",
   "execution_count": null,
   "metadata": {
    "ExecuteTime": {
     "end_time": "2020-04-26T03:23:01.281177Z",
     "start_time": "2020-04-26T03:23:01.270926Z"
    },
    "collapsed": true
   },
   "outputs": [],
   "source": [
    "Surface(polydata=surf).write_surface_mesh(output_path+'plane.vtk')"
   ]
  },
  {
   "cell_type": "code",
   "execution_count": null,
   "metadata": {
    "ExecuteTime": {
     "end_time": "2020-04-26T03:20:04.156589Z",
     "start_time": "2020-04-26T03:20:04.142446Z"
    },
    "collapsed": true
   },
   "outputs": [],
   "source": [
    "surf.get_intersection_plane(30)\n"
   ]
  },
  {
   "cell_type": "code",
   "execution_count": null,
   "metadata": {
    "ExecuteTime": {
     "end_time": "2020-04-25T20:15:32.073124Z",
     "start_time": "2020-04-25T20:15:32.063602Z"
    },
    "collapsed": true
   },
   "outputs": [],
   "source": [
    "Landmarks(pts=s1_bb_pts).write_landmarks(output_path+'s1_bb_pts')"
   ]
  },
  {
   "cell_type": "code",
   "execution_count": null,
   "metadata": {
    "ExecuteTime": {
     "end_time": "2020-04-20T07:56:42.222107Z",
     "start_time": "2020-04-20T07:50:24.447Z"
    },
    "collapsed": true
   },
   "outputs": [],
   "source": [
    "intersectoin_plane = Surface(polydata=vm1_cube.get_intersection_plane((sec_num-1) * z_cood_offset))\n",
    "intersectoin_plane.surface.GetPoints().GetPoint(0)\n",
    "pt1 = [int(GetPoint(0)[0]/XY_RES),int(GetPoint(0)[1])]\n",
    "pt2 = [int(GetPoint(1)[0]/XY_RES),int(GetPoint(1)[1])]\n",
    "pt3 = [int(GetPoint(2)[0]/XY_RES),int(GetPoint(2)[1])]\n",
    "pt4 = [int(GetPoint(3)[0]/XY_RES),int(GetPoint(3)[1])]\n",
    "\n",
    "\n",
    "# boundary check and clip if exceeding image boudaries\n",
    "if pt1 < 0:\n",
    "    lower[0] = 0\n",
    "if lower[1] < 0:\n",
    "    lower[1] = 0\n",
    "if upper[0] > im.GetWidth():\n",
    "    upper[0] = im.GetWidth()\n",
    "if upper[1] > im.GetHeight():\n",
    "    upper[1] = im.GetHeight()"
   ]
  },
  {
   "cell_type": "code",
   "execution_count": null,
   "metadata": {
    "ExecuteTime": {
     "end_time": "2020-04-20T06:52:18.957180Z",
     "start_time": "2020-04-20T06:52:18.948276Z"
    },
    "collapsed": true
   },
   "outputs": [],
   "source": [
    "5000/XY_RES,1200/XY_RES"
   ]
  },
  {
   "cell_type": "code",
   "execution_count": null,
   "metadata": {
    "ExecuteTime": {
     "end_time": "2020-04-20T05:50:19.921219Z",
     "start_time": "2020-04-20T05:50:18.223953Z"
    },
    "collapsed": true
   },
   "outputs": [],
   "source": [
    "im = sitk.ReadImage(images_path+'S{}_01.tif'.format(sec_num))\n",
    "transform = sitk.Transform()\n",
    "transform.SetParameters(tx_mat)\n",
    "txed_im = sitk.Resample(im,  transform, sitk.sitkLinear, 0.0, sitk.sitkUInt8)\n",
    "sitk.WriteImage(txed_im,output_path+'S{}.tif'.format(sec_num))"
   ]
  },
  {
   "cell_type": "code",
   "execution_count": null,
   "metadata": {
    "ExecuteTime": {
     "end_time": "2020-04-20T06:11:43.340842Z",
     "start_time": "2020-04-20T06:11:43.335348Z"
    },
    "collapsed": true
   },
   "outputs": [],
   "source": [
    "transform = sitk.Euler2DTransform()\n",
    "transform.SetTranslation([2592.38,532.041])\n",
    "transform.SetParameters([tx_mat[0],tx_mat[4],tx_mat[1],tx_mat[5]])"
   ]
  },
  {
   "cell_type": "code",
   "execution_count": null,
   "metadata": {
    "ExecuteTime": {
     "end_time": "2020-04-20T06:11:46.536575Z",
     "start_time": "2020-04-20T06:11:44.153008Z"
    },
    "collapsed": true
   },
   "outputs": [],
   "source": [
    "im = sitk.ReadImage(images_path+'S{}_01.tif'.format(sec_num))\n",
    "fil = sitk.ResampleImageFilter()\n",
    "fil.SetInterpolator(sitk.sitkLinear)\n",
    "fil.SetTransform(transform)\n",
    "fil.SetDefaultPixelValue(0)\n",
    "fil.SetOutputPixelType(sitk.sitkUInt8)\n",
    "fil.SetSize([im.GetWidth()+2000,im.GetHeight()+2000])\n",
    "#fil.SetOutputOrigin([-2592.38,-532.041,0])\n",
    "#fil.SetOutputDirection()\n",
    "txed_im = fil.Execute(im)\n",
    "sitk.WriteImage(txed_im,output_path+'S{}.tif'.format(sec_num))"
   ]
  },
  {
   "cell_type": "code",
   "execution_count": null,
   "metadata": {
    "ExecuteTime": {
     "end_time": "2020-04-20T05:51:52.360601Z",
     "start_time": "2020-04-20T05:51:52.344349Z"
    },
    "collapsed": true
   },
   "outputs": [],
   "source": [
    "tx_mat"
   ]
  },
  {
   "cell_type": "code",
   "execution_count": null,
   "metadata": {
    "ExecuteTime": {
     "end_time": "2020-04-20T06:03:58.881091Z",
     "start_time": "2020-04-20T06:03:58.873072Z"
    },
    "collapsed": true
   },
   "outputs": [],
   "source": [
    "tx_mat[0],tx_mat[1],tx_mat[4],tx_mat[5]"
   ]
  },
  {
   "cell_type": "code",
   "execution_count": null,
   "metadata": {
    "ExecuteTime": {
     "end_time": "2020-04-20T07:48:32.933178Z",
     "start_time": "2020-04-20T07:48:28.496234Z"
    },
    "collapsed": true
   },
   "outputs": [],
   "source": []
  },
  {
   "cell_type": "code",
   "execution_count": null,
   "metadata": {
    "collapsed": true
   },
   "outputs": [],
   "source": []
  }
 ],
 "metadata": {
  "kernelspec": {
   "display_name": "Python 3",
   "language": "python",
   "name": "python3"
  },
  "language_info": {
   "codemirror_mode": {
    "name": "ipython",
    "version": 3
   },
   "file_extension": ".py",
   "mimetype": "text/x-python",
   "name": "python",
   "nbconvert_exporter": "python",
   "pygments_lexer": "ipython3",
   "version": "3.6.6"
  },
  "toc": {
   "base_numbering": 1,
   "nav_menu": {},
   "number_sections": true,
   "sideBar": true,
   "skip_h1_title": false,
   "title_cell": "Table of Contents",
   "title_sidebar": "Contents",
   "toc_cell": false,
   "toc_position": {},
   "toc_section_display": true,
   "toc_window_display": false
  }
 },
 "nbformat": 4,
 "nbformat_minor": 2
}
