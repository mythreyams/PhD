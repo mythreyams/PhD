{
 "cells": [
  {
   "cell_type": "code",
   "execution_count": 8,
   "metadata": {
    "ExecuteTime": {
     "end_time": "2020-05-19T17:22:23.636840Z",
     "start_time": "2020-05-19T17:22:23.628329Z"
    }
   },
   "outputs": [],
   "source": [
    "import os\n",
    "import sys\n",
    "import glob\n",
    "sys.path.insert(0,os.path.abspath('..'))\n",
    "from spatial_graphs.Landmarks import Landmarks\n",
    "from spatial_graphs.AmiraSpatialGraph import AmiraSpatialGraph,MatchBarrels"
   ]
  },
  {
   "cell_type": "markdown",
   "metadata": {},
   "source": [
    "# Convert Landmarks to Spatial Graphs"
   ]
  },
  {
   "cell_type": "code",
   "execution_count": 41,
   "metadata": {
    "ExecuteTime": {
     "end_time": "2020-05-23T23:27:43.864873Z",
     "start_time": "2020-05-23T23:27:42.423529Z"
    }
   },
   "outputs": [],
   "source": [
    "exp_name = 'MG49_rhs/'\n",
    "path = '/nas1/Data_Mythreya/MotorCortexProject/NeuN_Counts_Missing_Parts/'+exp_name\n",
    "\n",
    "for sec_folder in glob.glob(path+'/*'):\n",
    "    if os.path.exists(sec_folder+'/landmarks.landmarkAscii'):\n",
    "        landmarks = Landmarks((sec_folder+'/landmarks.landmarkAscii'))\n",
    "        \n",
    "        sg = AmiraSpatialGraph(generic_graph=True)\n",
    "        for pt in landmarks.pts:\n",
    "            sg.graph_data.add_edge(pt,pt)\n",
    "        sg.write_spatial_graph(sec_folder+'/landmarks.am')\n",
    "        "
   ]
  },
  {
   "cell_type": "markdown",
   "metadata": {},
   "source": [
    "# Convert Spatial Graphs to Landmarks"
   ]
  },
  {
   "cell_type": "code",
   "execution_count": 43,
   "metadata": {
    "ExecuteTime": {
     "end_time": "2020-05-23T23:51:14.264878Z",
     "start_time": "2020-05-23T23:51:14.178425Z"
    },
    "scrolled": true
   },
   "outputs": [
    {
     "name": "stdout",
     "output_type": "stream",
     "text": [
      "40\n"
     ]
    }
   ],
   "source": [
    "exp_name = 'MG49_rhs/'\n",
    "path = '/nas1/Data_Mythreya/MotorCortexProject/NeuN_Counts_Missing_Parts/'+exp_name\n",
    "\n",
    "for i in range(40,41):\n",
    "    if os.path.exists(path+'S_{}'.format(i)+'/landmarks.am'):\n",
    "        print(i)\n",
    "        \n",
    "        sg = AmiraSpatialGraph(path+'S_{}'.format(i)+'/landmarks.am',generic_graph=True)\n",
    "        pts = []\n",
    "        for edge in sg.graph_data.edge_list:\n",
    "            pts.append(edge[0])\n",
    "            \n",
    "        Landmarks(pts=pts).write_landmarks(path+'S_{}'.format(i)+'/landmarks.landmarkAscii')\n",
    "    "
   ]
  },
  {
   "cell_type": "code",
   "execution_count": null,
   "metadata": {
    "collapsed": true
   },
   "outputs": [],
   "source": []
  },
  {
   "cell_type": "code",
   "execution_count": 46,
   "metadata": {
    "ExecuteTime": {
     "end_time": "2020-05-26T00:08:27.956805Z",
     "start_time": "2020-05-26T00:08:27.950908Z"
    },
    "collapsed": true
   },
   "outputs": [],
   "source": [
    "# Append section neun landmarks with missing one\n",
    "original = '/nas1/Data_Mythreya/MotorCortexProject/NeuN_Counts/'\n",
    "missing = '/nas1/Data_Mythreya/MotorCortexProject/NeuN_Counts_Missing_Parts/'"
   ]
  },
  {
   "cell_type": "code",
   "execution_count": 59,
   "metadata": {
    "ExecuteTime": {
     "end_time": "2020-05-26T00:22:57.332852Z",
     "start_time": "2020-05-26T00:22:48.596817Z"
    },
    "scrolled": true
   },
   "outputs": [
    {
     "name": "stdout",
     "output_type": "stream",
     "text": [
      "S_51 492 27103\n",
      "S_53 179 31236\n",
      "S_47 1543 23577\n",
      "S_48 2963 25117\n",
      "S_50 1835 25575\n",
      "S_52 735 26324\n",
      "S_46 555 34350\n",
      "S_49 3136 30300\n",
      "S_34 1903 12711\n",
      "S_33 1175 9942\n",
      "S_35 2954 11342\n",
      "S_29 277 15000\n",
      "S_32 1432 12165\n",
      "S_30 494 14969\n",
      "S_36 2714 9285\n",
      "S_31 896 11556\n",
      "S_37 4009 8312\n",
      "S_40 218 12665\n",
      "S_38 2664 7682\n",
      "S_39 1671 10810\n",
      "S_31 799 27420\n",
      "S_32 983 25346\n",
      "S_30 944 38075\n",
      "S_34 837 34853\n",
      "S_29 935 29565\n",
      "S_35 452 31471\n",
      "S_33 1301 26257\n",
      "S_36 879 30810\n",
      "S_40 2629 26469\n",
      "S_42 1616 27224\n",
      "S_39 1058 28866\n",
      "S_38 1252 27397\n",
      "S_43 1123 36020\n",
      "S_41 2691 34045\n",
      "S_37 1088 45131\n",
      "S_44 247 25163\n",
      "S_34 875 36342\n",
      "S_33 1168 37577\n",
      "S_30 925 39576\n",
      "S_31 960 33699\n",
      "S_35 991 39889\n",
      "S_32 1162 30568\n",
      "S_36 863 35435\n",
      "S_29 915 37694\n",
      "S_41 1076 29079\n",
      "S_37 1223 42311\n",
      "S_42 1118 31716\n",
      "S_44 403 34654\n",
      "S_39 1922 35400\n",
      "S_40 870 30561\n",
      "S_43 1267 39465\n",
      "S_38 963 33003\n",
      "S_45 60 34659\n"
     ]
    }
   ],
   "source": [
    "for exp in ['MG49_lhs','MG49_rhs','MG50_lhs','MG50_rhs']:\n",
    "    for sec_path in (glob.glob(missing+exp+'/*')):\n",
    "        sec_folder = (os.path.basename(sec_path))\n",
    "        missing_landmarks = Landmarks((sec_path+'/landmarks.landmarkAscii'))\n",
    "        original_landmarks = Landmarks(original+exp+'/'+sec_folder+'/landmarks.landmarkAscii')\n",
    "        #print(sec_folder,len(missing_landmarks.pts),len(original_landmarks.pts))\n",
    "        pts = []\n",
    "        for pt in original_landmarks.pts:\n",
    "            pts.append(pt)\n",
    "        for pt in missing_landmarks.pts:\n",
    "            pts.append(pt)\n",
    "        "
   ]
  },
  {
   "cell_type": "code",
   "execution_count": null,
   "metadata": {
    "collapsed": true
   },
   "outputs": [],
   "source": []
  }
 ],
 "metadata": {
  "kernelspec": {
   "display_name": "Python 3",
   "language": "python",
   "name": "python3"
  },
  "language_info": {
   "codemirror_mode": {
    "name": "ipython",
    "version": 3
   },
   "file_extension": ".py",
   "mimetype": "text/x-python",
   "name": "python",
   "nbconvert_exporter": "python",
   "pygments_lexer": "ipython3",
   "version": "3.6.6"
  },
  "toc": {
   "base_numbering": 1,
   "nav_menu": {},
   "number_sections": true,
   "sideBar": true,
   "skip_h1_title": false,
   "title_cell": "Table of Contents",
   "title_sidebar": "Contents",
   "toc_cell": false,
   "toc_position": {},
   "toc_section_display": true,
   "toc_window_display": false
  }
 },
 "nbformat": 4,
 "nbformat_minor": 2
}
