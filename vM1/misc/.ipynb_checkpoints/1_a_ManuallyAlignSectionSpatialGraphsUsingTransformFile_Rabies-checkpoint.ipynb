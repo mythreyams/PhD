{
 "cells": [
  {
   "cell_type": "code",
   "execution_count": 3,
   "metadata": {
    "ExecuteTime": {
     "end_time": "2020-05-12T23:03:51.765495Z",
     "start_time": "2020-05-12T23:03:48.663191Z"
    },
    "collapsed": true
   },
   "outputs": [],
   "source": [
    "import sys\n",
    "import os\n",
    "sys.path.insert(0,os.path.abspath('..'))\n",
    "from spatial_graphs.AmiraSpatialGraph import AmiraSpatialGraph,SpatialGraphData\n",
    "from spatial_graphs.Landmarks import Landmarks\n",
    "import pathlib\n",
    "import glob\n",
    "import numpy as np"
   ]
  },
  {
   "cell_type": "code",
   "execution_count": 4,
   "metadata": {
    "ExecuteTime": {
     "end_time": "2020-05-12T23:03:57.529367Z",
     "start_time": "2020-05-12T23:03:57.516559Z"
    },
    "collapsed": true
   },
   "outputs": [],
   "source": [
    "def get_tx_mat_from_hx_file(file, lines):\n",
    "    str_to_compare = '\"'+os.path.basename(file)+'\"'+ ' setTransform '\n",
    "    tx_mat = []\n",
    "    tx_mat_np = np.array([[1,0,0,0],[0,1,0,0],[0,0,1,0],[0,0,0,1]]).reshape(4,4)\n",
    "    for line in lines:\n",
    "        if line.startswith(str_to_compare):\n",
    "            #tx_mat = (line[len(str_to_compare):-1].split(' '))\n",
    "            for num in (line[len(str_to_compare):-1].split(' ')):\n",
    "                tx_mat.append(float(num))\n",
    "            tx_mat_np = np.array(tx_mat).reshape(4,4)\n",
    "            break\n",
    "        \n",
    "    return tx_mat_np"
   ]
  },
  {
   "cell_type": "code",
   "execution_count": 91,
   "metadata": {
    "ExecuteTime": {
     "end_time": "2020-03-31T12:25:12.273228Z",
     "start_time": "2020-03-31T12:25:12.262409Z"
    },
    "collapsed": true
   },
   "outputs": [],
   "source": [
    "# basepath = '/nas1/MotorCortex/Data/2_Morphologies_ASCs_and_Hocs/Finalround_newly_added/RA_20160307/'\n",
    "# animal_name = 'RA_20160307_4x_for_merge'\n",
    "\n",
    "# cell_name = ''\n",
    "\n",
    "# full_path = basepath + animal_name + '/' + cell_name  + 'ascii/'\n",
    "\n",
    "# file_pattern = 'S{:02d}*.am'\n",
    "\n",
    "# tx_file = basepath + animal_name + '/' + cell_name + 'Untitled2.hx'\n",
    "\n",
    "# op_path = '/nas1/Data_Mythreya/MotorCortexProject/Auto_Merged_Spatial_Graphs/'\n",
    "\n",
    "# pathlib.Path(op_path).mkdir(exist_ok=True)\n",
    "\n",
    "#path = path + 'ascii/'\n",
    "\n",
    "\n"
   ]
  },
  {
   "cell_type": "code",
   "execution_count": 5,
   "metadata": {
    "ExecuteTime": {
     "end_time": "2020-05-12T23:04:10.893150Z",
     "start_time": "2020-05-12T23:04:10.885826Z"
    },
    "collapsed": true
   },
   "outputs": [],
   "source": [
    "animal_name = 'MG49_lhs'\n",
    "tx_file = '/nas1/Data_Mythreya/MotorCortexProject/V9/vM1_Ref_Frame/Original_Data/Spatial_Graphs/misc/Section_Graphs/{}.am/aligntobarrel.hx'.format(animal_name)\n",
    "\n",
    "#rabies_landmarks_path = '/nas1/Data_Mythreya/MotorCortexProject/V2/0_Inputs/SpatialGraphs/Section_Graphs/Rabies/{}/rabies/'.format(animal_name)\n",
    "neun_landmarks_path = '/nas1/Data_Mythreya/MotorCortexProject/NeuN_Counts/{}/'.format(animal_name)\n"
   ]
  },
  {
   "cell_type": "code",
   "execution_count": 6,
   "metadata": {
    "ExecuteTime": {
     "end_time": "2020-05-12T23:05:33.569403Z",
     "start_time": "2020-05-12T23:05:33.124119Z"
    },
    "scrolled": true
   },
   "outputs": [
    {
     "ename": "NameError",
     "evalue": "name 'full_path' is not defined",
     "output_type": "error",
     "traceback": [
      "\u001b[0;31m---------------------------------------------------------------------------\u001b[0m",
      "\u001b[0;31mNameError\u001b[0m                                 Traceback (most recent call last)",
      "\u001b[0;32m<ipython-input-6-5dec4a10c630>\u001b[0m in \u001b[0;36m<module>\u001b[0;34m()\u001b[0m\n\u001b[1;32m     10\u001b[0m \u001b[0;34m\u001b[0m\u001b[0m\n\u001b[1;32m     11\u001b[0m \u001b[0;32mfor\u001b[0m \u001b[0ms\u001b[0m \u001b[0;32min\u001b[0m \u001b[0mrange\u001b[0m\u001b[0;34m(\u001b[0m\u001b[0;36m120\u001b[0m\u001b[0;34m)\u001b[0m\u001b[0;34m:\u001b[0m\u001b[0;34m\u001b[0m\u001b[0m\n\u001b[0;32m---> 12\u001b[0;31m     \u001b[0;32mif\u001b[0m \u001b[0mlen\u001b[0m\u001b[0;34m(\u001b[0m\u001b[0mglob\u001b[0m\u001b[0;34m.\u001b[0m\u001b[0mglob\u001b[0m\u001b[0;34m(\u001b[0m\u001b[0mfull_path\u001b[0m \u001b[0;34m+\u001b[0m \u001b[0mfile_pattern\u001b[0m\u001b[0;34m.\u001b[0m\u001b[0mformat\u001b[0m\u001b[0;34m(\u001b[0m\u001b[0ms\u001b[0m\u001b[0;34m)\u001b[0m\u001b[0;34m)\u001b[0m\u001b[0;34m)\u001b[0m\u001b[0;34m>\u001b[0m\u001b[0;36m0\u001b[0m\u001b[0;34m:\u001b[0m\u001b[0;34m\u001b[0m\u001b[0m\n\u001b[0m\u001b[1;32m     13\u001b[0m         \u001b[0mfile\u001b[0m \u001b[0;34m=\u001b[0m \u001b[0mglob\u001b[0m\u001b[0;34m.\u001b[0m\u001b[0mglob\u001b[0m\u001b[0;34m(\u001b[0m\u001b[0mfull_path\u001b[0m \u001b[0;34m+\u001b[0m \u001b[0mfile_pattern\u001b[0m\u001b[0;34m.\u001b[0m\u001b[0mformat\u001b[0m\u001b[0;34m(\u001b[0m\u001b[0ms\u001b[0m\u001b[0;34m)\u001b[0m\u001b[0;34m)\u001b[0m\u001b[0;34m[\u001b[0m\u001b[0;36m0\u001b[0m\u001b[0;34m]\u001b[0m\u001b[0;34m\u001b[0m\u001b[0m\n\u001b[1;32m     14\u001b[0m         \u001b[0mprint\u001b[0m\u001b[0;34m(\u001b[0m\u001b[0mfile\u001b[0m\u001b[0;34m)\u001b[0m\u001b[0;34m\u001b[0m\u001b[0m\n",
      "\u001b[0;31mNameError\u001b[0m: name 'full_path' is not defined"
     ]
    }
   ],
   "source": [
    "sg_3d = AmiraSpatialGraph(glob.glob(full_path + file_pattern.format(1))[0],read_header_only=True)\n",
    "#landmarks3d = Landmarks()\n",
    "landmarks3d_neun = Landmarks()\n",
    "\n",
    "z_coord = 0\n",
    "z_cood_offset = 100\n",
    "\n",
    "with open(tx_file,'r') as f:\n",
    "    lines = f.readlines()\n",
    "        \n",
    "for s in range(120):\n",
    "    if len(glob.glob(full_path + file_pattern.format(s)))>0:\n",
    "        file = glob.glob(full_path + file_pattern.format(s))[0]\n",
    "        print(file)\n",
    "        sg = AmiraSpatialGraph(file,axis_directions=[1,1,1])\n",
    "\n",
    "        # read tx mat from the file\n",
    "        tx_mat_np = get_tx_mat_from_hx_file(file,lines)\n",
    "        print(tx_mat_np)\n",
    "        print(len(sg.barrels.all_rows_graphdata.edge_pt_coords))\n",
    "        #sg.set_z_coord(z_coord)\n",
    "        sg.apply_transformation((tx_mat_np),z_coord,trans_2d_only=True)\n",
    "        #sg.graph_data = sg.combine_subgraphs([sg.pia,sg.wm,\\\n",
    "        #                                               sg.bvs,sg.barrels.all_rows_graphdata,\\\n",
    "        #                                               sg.neuron.all_neurites_subgraphdata])\n",
    "        z_coord+=z_cood_offset\n",
    "\n",
    "        sg_3d.graph_data = sg_3d.combine_subgraphs([sg_3d.graph_data,sg.graph_data])\n",
    "        \n",
    "        l = Landmarks( neun_landmarks_path + 'S{}'.format(s) + '/landmarks.landmarkAscii' )\n",
    "        landmarks3d_neun.append(l.pts)\n",
    "        \n",
    "        break\n",
    "        #if z_coord == 4000:\n",
    "        #    break\n",
    "\n",
    "landmarks3d_neun.write_landmarks(neun_landmarks_path+animal_name+'/{}_NeuN_Landmarks.landmarksAscii'.format(animal_name))\n",
    "\n",
    "# merge the neuron morph\n",
    "# sg = AmiraSpatialGraph(glob.glob(full_path+'RA*.am')[0],axis_directions=[1,1,1])\n",
    "# #tx_mat_np = get_tx_mat_from_hx_file(cell_name,lines)\n",
    "# #print(tx_mat_np)\n",
    "# #sg.set_z_coord(0)\n",
    "# #sg.apply_transformation(np.transpose(tx_mat_np),z_coord,trans_2d_only=True)\n",
    "# sg_3d.graph_data = sg_3d.combine_subgraphs([sg_3d.graph_data,sg.graph_data])\n",
    "\n",
    "# write it\n",
    "# sg_3d.write_spatial_graph(op_path+animal_name+'_'+cell_name+'.am')\n",
    "    "
   ]
  },
  {
   "cell_type": "code",
   "execution_count": null,
   "metadata": {
    "collapsed": true
   },
   "outputs": [],
   "source": []
  },
  {
   "cell_type": "code",
   "execution_count": 60,
   "metadata": {
    "ExecuteTime": {
     "end_time": "2019-11-19T14:56:44.108671Z",
     "start_time": "2019-11-19T14:56:42.718822Z"
    },
    "collapsed": true
   },
   "outputs": [],
   "source": [
    "sg_3d.write_spatial_graph(op_path+animal_name+'_'+cell_name+'_temp.am')"
   ]
  },
  {
   "cell_type": "code",
   "execution_count": 422,
   "metadata": {
    "ExecuteTime": {
     "end_time": "2019-11-12T10:20:13.231996Z",
     "start_time": "2019-11-12T10:20:11.375297Z"
    },
    "collapsed": true
   },
   "outputs": [],
   "source": [
    "#sg.graph_data.edge_labels\n",
    "#%run AmiraSpatialGraph.ipynb\n",
    "sg_3d.write_spatial_graph(op_path+animal_name+'_'+cell_name+'.am')"
   ]
  },
  {
   "cell_type": "code",
   "execution_count": 423,
   "metadata": {
    "ExecuteTime": {
     "end_time": "2019-11-12T10:20:37.536751Z",
     "start_time": "2019-11-12T10:20:37.526968Z"
    }
   },
   "outputs": [
    {
     "data": {
      "text/plain": [
       "'/nas1/Data_Mythreya/MotorCortexProject/Auto_Merged_Spatial_Graphs/RA_20171214_1_Cell_A.am'"
      ]
     },
     "execution_count": 423,
     "metadata": {},
     "output_type": "execute_result"
    }
   ],
   "source": [
    "op_path+animal_name+'_'+cell_name+'.am'"
   ]
  },
  {
   "cell_type": "code",
   "execution_count": null,
   "metadata": {
    "collapsed": true
   },
   "outputs": [],
   "source": []
  },
  {
   "cell_type": "code",
   "execution_count": null,
   "metadata": {
    "collapsed": true
   },
   "outputs": [],
   "source": []
  },
  {
   "cell_type": "code",
   "execution_count": null,
   "metadata": {
    "collapsed": true
   },
   "outputs": [],
   "source": []
  },
  {
   "cell_type": "code",
   "execution_count": 151,
   "metadata": {
    "ExecuteTime": {
     "end_time": "2019-11-06T14:53:04.900611Z",
     "start_time": "2019-11-06T14:52:55.365727Z"
    },
    "scrolled": true
   },
   "outputs": [
    {
     "name": "stdout",
     "output_type": "stream",
     "text": [
      "/nas1/Data_Mythreya/MotorCortexProject/V4/auto_merge_test/Cell_B_contour_cell_merging/section_graphs/ascii/S01.am\n",
      "[]\n",
      "[1.0, 0.0, 0.0, 0.0, 0.0, 1.0, 0.0, 0.0, 0.0, 0.0, 1.0, 0.0, 0.0, 0.0, 100.0, 1.0]\n",
      "/nas1/Data_Mythreya/MotorCortexProject/V4/auto_merge_test/Cell_B_contour_cell_merging/section_graphs/ascii/S02.am\n",
      "[1.0, 0.0, 0.0, 0.0, 0.0, 1.0, 0.0, 0.0, 0.0, 0.0, 1.0, 0.0, 0.0, 0.0, 100.0, 1.0]\n",
      "[0.983868, 0.178893, 0.0, 0.0, -0.178893, 0.983868, 0.0, 0.0, 0.0, 0.0, 1.0, 0.0, 942.097, -1574.59, 200.0, 1.0]\n",
      "/nas1/Data_Mythreya/MotorCortexProject/V4/auto_merge_test/Cell_B_contour_cell_merging/section_graphs/ascii/S03.am\n",
      "[0.983868, 0.178893, 0.0, 0.0, -0.178893, 0.983868, 0.0, 0.0, 0.0, 0.0, 1.0, 0.0, 942.097, -1574.59, 200.0, 1.0]\n",
      "[0.990497, 0.137535, 0.0, 0.0, -0.137535, 0.990497, 0.0, 0.0, 0.0, 0.0, 1.0, 0.0, 807.53, -1754.88, 300.0, 1.0]\n",
      "/nas1/Data_Mythreya/MotorCortexProject/V4/auto_merge_test/Cell_B_contour_cell_merging/section_graphs/ascii/S04.am\n",
      "[0.990497, 0.137535, 0.0, 0.0, -0.137535, 0.990497, 0.0, 0.0, 0.0, 0.0, 1.0, 0.0, 807.53, -1754.88, 300.0, 1.0]\n",
      "[0.998264, 0.0588945, 0.0, 0.0, -0.0588945, 0.998264, 0.0, 0.0, 0.0, 0.0, 1.0, 0.0, 305.64, -1588.31, 400.0, 1.0]\n",
      "/nas1/Data_Mythreya/MotorCortexProject/V4/auto_merge_test/Cell_B_contour_cell_merging/section_graphs/ascii/S05.am\n",
      "[0.998264, 0.0588945, 0.0, 0.0, -0.0588945, 0.998264, 0.0, 0.0, 0.0, 0.0, 1.0, 0.0, 305.64, -1588.31, 400.0, 1.0]\n",
      "[0.98541, 0.170201, 0.0, 0.0, -0.170201, 0.98541, 0.0, 0.0, 0.0, 0.0, 1.0, 0.0, 1084.35, -2967.0, 500.0, 1.0]\n",
      "/nas1/Data_Mythreya/MotorCortexProject/V4/auto_merge_test/Cell_B_contour_cell_merging/section_graphs/ascii/S06.am\n",
      "[0.98541, 0.170201, 0.0, 0.0, -0.170201, 0.98541, 0.0, 0.0, 0.0, 0.0, 1.0, 0.0, 1084.35, -2967.0, 500.0, 1.0]\n",
      "[0.965639, 0.259887, 0.0, 0.0, -0.259887, 0.965639, 0.0, 0.0, 0.0, 0.0, 1.0, 0.0, 2059.22, -3206.21, 600.0, 1.0]\n",
      "/nas1/Data_Mythreya/MotorCortexProject/V4/auto_merge_test/Cell_B_contour_cell_merging/section_graphs/ascii/S07.am\n",
      "[0.965639, 0.259887, 0.0, 0.0, -0.259887, 0.965639, 0.0, 0.0, 0.0, 0.0, 1.0, 0.0, 2059.22, -3206.21, 600.0, 1.0]\n",
      "[0.995754, 0.0920514, 0.0, 0.0, -0.0920514, 0.995754, 0.0, 0.0, 0.0, 0.0, 1.0, 0.0, 763.627, -3092.29, 700.0, 1.0]\n",
      "/nas1/Data_Mythreya/MotorCortexProject/V4/auto_merge_test/Cell_B_contour_cell_merging/section_graphs/ascii/S08.am\n",
      "[0.995754, 0.0920514, 0.0, 0.0, -0.0920514, 0.995754, 0.0, 0.0, 0.0, 0.0, 1.0, 0.0, 763.627, -3092.29, 700.0, 1.0]\n",
      "[0.994344, 0.106209, 0.0, 0.0, -0.106209, 0.994344, 0.0, 0.0, 0.0, 0.0, 1.0, 0.0, -364.391, -3178.01, 800.0, 1.0]\n",
      "/nas1/Data_Mythreya/MotorCortexProject/V4/auto_merge_test/Cell_B_contour_cell_merging/section_graphs/ascii/S09.am\n",
      "[0.994344, 0.106209, 0.0, 0.0, -0.106209, 0.994344, 0.0, 0.0, 0.0, 0.0, 1.0, 0.0, -364.391, -3178.01, 800.0, 1.0]\n",
      "[0.980803, 0.194998, 0.0, 0.0, -0.194998, 0.980803, 0.0, 0.0, 0.0, 0.0, 1.0, 0.0, -415.623, -3791.18, 900.0, 1.0]\n",
      "/nas1/Data_Mythreya/MotorCortexProject/V4/auto_merge_test/Cell_B_contour_cell_merging/section_graphs/ascii/S10.am\n",
      "[0.980803, 0.194998, 0.0, 0.0, -0.194998, 0.980803, 0.0, 0.0, 0.0, 0.0, 1.0, 0.0, -415.623, -3791.18, 900.0, 1.0]\n",
      "[0.984116, 0.177527, 0.0, 0.0, -0.177527, 0.984116, 0.0, 0.0, 0.0, 0.0, 1.0, 0.0, -338.862, -4741.6, 1000.0, 1.0]\n",
      "/nas1/Data_Mythreya/MotorCortexProject/V4/auto_merge_test/Cell_B_contour_cell_merging/section_graphs/ascii/S11.am\n",
      "[0.984116, 0.177527, 0.0, 0.0, -0.177527, 0.984116, 0.0, 0.0, 0.0, 0.0, 1.0, 0.0, -338.862, -4741.6, 1000.0, 1.0]\n",
      "[0.96974, 0.24414, 0.0, 0.0, -0.24414, 0.96974, 0.0, 0.0, 0.0, 0.0, 1.0, 0.0, 253.452, -4879.88, 1100.0, 1.0]\n",
      "/nas1/Data_Mythreya/MotorCortexProject/V4/auto_merge_test/Cell_B_contour_cell_merging/section_graphs/ascii/S12.am\n",
      "[0.96974, 0.24414, 0.0, 0.0, -0.24414, 0.96974, 0.0, 0.0, 0.0, 0.0, 1.0, 0.0, 253.452, -4879.88, 1100.0, 1.0]\n",
      "[0.980341, 0.197308, 0.0, 0.0, -0.197308, 0.980341, 0.0, 0.0, 0.0, 0.0, 0.999999, 0.0, -145.065, -5025.4, 1200.0, 1.0]\n",
      "/nas1/Data_Mythreya/MotorCortexProject/V4/auto_merge_test/Cell_B_contour_cell_merging/section_graphs/ascii/S13.am\n",
      "[0.980341, 0.197308, 0.0, 0.0, -0.197308, 0.980341, 0.0, 0.0, 0.0, 0.0, 0.999999, 0.0, -145.065, -5025.4, 1200.0, 1.0]\n",
      "[0.9921, 0.125451, 0.0, 0.0, -0.125451, 0.9921, 0.0, 0.0, 0.0, 0.0, 1.0, 0.0, -515.121, -4576.87, 1300.0, 1.0]\n",
      "/nas1/Data_Mythreya/MotorCortexProject/V4/auto_merge_test/Cell_B_contour_cell_merging/section_graphs/ascii/S14.am\n",
      "[0.9921, 0.125451, 0.0, 0.0, -0.125451, 0.9921, 0.0, 0.0, 0.0, 0.0, 1.0, 0.0, -515.121, -4576.87, 1300.0, 1.0]\n",
      "[0.999433, -0.0336524, 0.0, 0.0, 0.0336524, 0.999433, 0.0, 0.0, 0.0, 0.0, 1.0, 0.0, -1776.85, -4119.18, 1400.0, 1.0]\n",
      "/nas1/Data_Mythreya/MotorCortexProject/V4/auto_merge_test/Cell_B_contour_cell_merging/section_graphs/ascii/S15.am\n",
      "[0.999433, -0.0336524, 0.0, 0.0, 0.0336524, 0.999433, 0.0, 0.0, 0.0, 0.0, 1.0, 0.0, -1776.85, -4119.18, 1400.0, 1.0]\n",
      "[0.980079, 0.198607, 0.0, 0.0, -0.198607, 0.980079, 0.0, 0.0, 0.0, 0.0, 1.0, 0.0, 353.143, -4818.31, 1500.0, 1.0]\n",
      "/nas1/Data_Mythreya/MotorCortexProject/V4/auto_merge_test/Cell_B_contour_cell_merging/section_graphs/ascii/S16.am\n",
      "[0.980079, 0.198607, 0.0, 0.0, -0.198607, 0.980079, 0.0, 0.0, 0.0, 0.0, 1.0, 0.0, 353.143, -4818.31, 1500.0, 1.0]\n",
      "[0.9986, 0.0529066, 0.0, 0.0, -0.0529066, 0.9986, 0.0, 0.0, 0.0, 0.0, 1.0, 0.0, -944.815, -4197.63, 1600.0, 1.0]\n",
      "/nas1/Data_Mythreya/MotorCortexProject/V4/auto_merge_test/Cell_B_contour_cell_merging/section_graphs/ascii/S17.am\n",
      "[0.9986, 0.0529066, 0.0, 0.0, -0.0529066, 0.9986, 0.0, 0.0, 0.0, 0.0, 1.0, 0.0, -944.815, -4197.63, 1600.0, 1.0]\n",
      "[0.984152, 0.177324, 0.0, 0.0, -0.177324, 0.984152, 0.0, 0.0, 0.0, 0.0, 1.0, 0.0, 45.4971, -4917.92, 1700.0, 1.0]\n",
      "/nas1/Data_Mythreya/MotorCortexProject/V4/auto_merge_test/Cell_B_contour_cell_merging/section_graphs/ascii/S18.am\n",
      "[0.984152, 0.177324, 0.0, 0.0, -0.177324, 0.984152, 0.0, 0.0, 0.0, 0.0, 1.0, 0.0, 45.4971, -4917.92, 1700.0, 1.0]\n",
      "[0.933014, 0.359842, 0.0, 0.0, -0.359842, 0.933014, 0.0, 0.0, 0.0, 0.0, 1.0, 0.0, 2090.3, -5311.6, 1800.0, 1.0]\n",
      "/nas1/Data_Mythreya/MotorCortexProject/V4/auto_merge_test/Cell_B_contour_cell_merging/section_graphs/ascii/S19.am\n",
      "[0.933014, 0.359842, 0.0, 0.0, -0.359842, 0.933014, 0.0, 0.0, 0.0, 0.0, 1.0, 0.0, 2090.3, -5311.6, 1800.0, 1.0]\n",
      "[0.985927, 0.167172, 0.0, 0.0, -0.167172, 0.985927, 0.0, 0.0, 0.0, 0.0, 1.0, 0.0, -157.48, -4943.42, 1900.0, 1.0]\n",
      "/nas1/Data_Mythreya/MotorCortexProject/V4/auto_merge_test/Cell_B_contour_cell_merging/section_graphs/ascii/S20.am\n",
      "[0.985927, 0.167172, 0.0, 0.0, -0.167172, 0.985927, 0.0, 0.0, 0.0, 0.0, 1.0, 0.0, -157.48, -4943.42, 1900.0, 1.0]\n",
      "[0.997262, 0.0739541, 0.0, 0.0, -0.0739541, 0.997262, 0.0, 0.0, 0.0, 0.0, 1.0, 0.0, -844.448, -4456.01, 2000.0, 1.0]\n",
      "/nas1/Data_Mythreya/MotorCortexProject/V4/auto_merge_test/Cell_B_contour_cell_merging/section_graphs/ascii/S21.am\n",
      "[0.997262, 0.0739541, 0.0, 0.0, -0.0739541, 0.997262, 0.0, 0.0, 0.0, 0.0, 1.0, 0.0, -844.448, -4456.01, 2000.0, 1.0]\n",
      "[0.999443, 0.0333581, 0.0, 0.0, -0.0333581, 0.999443, 0.0, 0.0, 0.0, 0.0, 1.0, 0.0, -1359.88, -4280.27, 2100.0, 1.0]\n",
      "/nas1/Data_Mythreya/MotorCortexProject/V4/auto_merge_test/Cell_B_contour_cell_merging/section_graphs/ascii/S22.am\n",
      "[0.999443, 0.0333581, 0.0, 0.0, -0.0333581, 0.999443, 0.0, 0.0, 0.0, 0.0, 1.0, 0.0, -1359.88, -4280.27, 2100.0, 1.0]\n",
      "[0.983703, 0.179799, 0.0, 0.0, -0.179799, 0.983703, 0.0, 0.0, 0.0, 0.0, 1.0, 0.0, 146.097, -4972.95, 2200.0, 1.0]\n",
      "/nas1/Data_Mythreya/MotorCortexProject/V4/auto_merge_test/Cell_B_contour_cell_merging/section_graphs/ascii/S23.am\n",
      "[0.983703, 0.179799, 0.0, 0.0, -0.179799, 0.983703, 0.0, 0.0, 0.0, 0.0, 1.0, 0.0, 146.097, -4972.95, 2200.0, 1.0]\n",
      "[0.992316, -0.123728, 0.0, 0.0, 0.123728, 0.992316, 0.0, 0.0, 0.0, 0.0, 1.0, 0.0, -2475.35, -3395.96, 2300.0, 1.0]\n",
      "/nas1/Data_Mythreya/MotorCortexProject/V4/auto_merge_test/Cell_B_contour_cell_merging/section_graphs/ascii/S24.am\n",
      "[0.992316, -0.123728, 0.0, 0.0, 0.123728, 0.992316, 0.0, 0.0, 0.0, 0.0, 1.0, 0.0, -2475.35, -3395.96, 2300.0, 1.0]\n",
      "[0.999759, -0.0219469, 0.0, 0.0, 0.0219469, 0.999759, 0.0, 0.0, 0.0, 0.0, 1.0, 0.0, -1586.59, -3896.77, 2400.0, 1.0]\n",
      "/nas1/Data_Mythreya/MotorCortexProject/V4/auto_merge_test/Cell_B_contour_cell_merging/section_graphs/ascii/S25.am\n",
      "[0.999759, -0.0219469, 0.0, 0.0, 0.0219469, 0.999759, 0.0, 0.0, 0.0, 0.0, 1.0, 0.0, -1586.59, -3896.77, 2400.0, 1.0]\n"
     ]
    },
    {
     "name": "stdout",
     "output_type": "stream",
     "text": [
      "[0.999645, 0.0266571, 0.0, 0.0, -0.0266571, 0.999645, 0.0, 0.0, 0.0, 0.0, 1.0, 0.0, -2128.5, -5033.76, 2500.0, 1.0]\n",
      "/nas1/Data_Mythreya/MotorCortexProject/V4/auto_merge_test/Cell_B_contour_cell_merging/section_graphs/ascii/S26.am\n",
      "[0.999645, 0.0266571, 0.0, 0.0, -0.0266571, 0.999645, 0.0, 0.0, 0.0, 0.0, 1.0, 0.0, -2128.5, -5033.76, 2500.0, 1.0]\n",
      "[1.0, 0.0, 0.0, 0.0, 0.0, 1.0, 0.0, 0.0, 0.0, 0.0, 1.0, 0.0, -3169.85, -5549.42, 2600.0, 1.0]\n",
      "/nas1/Data_Mythreya/MotorCortexProject/V4/auto_merge_test/Cell_B_contour_cell_merging/section_graphs/ascii/S27.am\n",
      "[1.0, 0.0, 0.0, 0.0, 0.0, 1.0, 0.0, 0.0, 0.0, 0.0, 1.0, 0.0, -3169.85, -5549.42, 2600.0, 1.0]\n",
      "[0.999779, 0.0210083, 0.0, 0.0, -0.0210083, 0.999779, 0.0, 0.0, 0.0, 0.0, 1.0, 0.0, -2042.79, -5675.1, 2700.0, 1.0]\n",
      "/nas1/Data_Mythreya/MotorCortexProject/V4/auto_merge_test/Cell_B_contour_cell_merging/section_graphs/ascii/S28.am\n",
      "[0.999779, 0.0210083, 0.0, 0.0, -0.0210083, 0.999779, 0.0, 0.0, 0.0, 0.0, 1.0, 0.0, -2042.79, -5675.1, 2700.0, 1.0]\n",
      "[0.999983, -0.00580025, 0.0, 0.0, 0.00580025, 0.999983, 0.0, 0.0, 0.0, 0.0, 1.0, 0.0, -3000.58, -5760.52, 2800.0, 1.0]\n",
      "/nas1/Data_Mythreya/MotorCortexProject/V4/auto_merge_test/Cell_B_contour_cell_merging/section_graphs/ascii/S29.am\n",
      "[0.999983, -0.00580025, 0.0, 0.0, 0.00580025, 0.999983, 0.0, 0.0, 0.0, 0.0, 1.0, 0.0, -3000.58, -5760.52, 2800.0, 1.0]\n",
      "[0.999972, 0.00751125, 0.0, 0.0, -0.00751125, 0.999972, 0.0, 0.0, 0.0, 0.0, 1.0, 0.0, -2494.83, -5117.84, 2900.0, 1.0]\n",
      "/nas1/Data_Mythreya/MotorCortexProject/V4/auto_merge_test/Cell_B_contour_cell_merging/section_graphs/ascii/S30.am\n",
      "[0.999972, 0.00751125, 0.0, 0.0, -0.00751125, 0.999972, 0.0, 0.0, 0.0, 0.0, 1.0, 0.0, -2494.83, -5117.84, 2900.0, 1.0]\n",
      "[0.998722, -0.0505176, 0.0, 0.0, 0.0505176, 0.998722, 0.0, 0.0, 0.0, 0.0, 1.0, 0.0, -3063.84, -5087.99, 3000.0, 1.0]\n",
      "/nas1/Data_Mythreya/MotorCortexProject/V4/auto_merge_test/Cell_B_contour_cell_merging/section_graphs/ascii/S31.am\n",
      "[0.998722, -0.0505176, 0.0, 0.0, 0.0505176, 0.998722, 0.0, 0.0, 0.0, 0.0, 1.0, 0.0, -3063.84, -5087.99, 3000.0, 1.0]\n",
      "[0.998902, -0.0468551, 0.0, 0.0, 0.0468551, 0.998902, 0.0, 0.0, 0.0, 0.0, 1.0, 0.0, -3359.47, -5320.95, 3100.0, 1.0]\n",
      "/nas1/Data_Mythreya/MotorCortexProject/V4/auto_merge_test/Cell_B_contour_cell_merging/section_graphs/ascii/S32.am\n",
      "[0.998902, -0.0468551, 0.0, 0.0, 0.0468551, 0.998902, 0.0, 0.0, 0.0, 0.0, 1.0, 0.0, -3359.47, -5320.95, 3100.0, 1.0]\n",
      "[0.99927, 0.0382137, 0.0, 0.0, -0.0382137, 0.99927, 0.0, 0.0, 0.0, 0.0, 1.0, 0.0, -2686.05, -5815.95, 3200.0, 1.0]\n",
      "/nas1/Data_Mythreya/MotorCortexProject/V4/auto_merge_test/Cell_B_contour_cell_merging/section_graphs/ascii/S33.am\n",
      "[0.99927, 0.0382137, 0.0, 0.0, -0.0382137, 0.99927, 0.0, 0.0, 0.0, 0.0, 1.0, 0.0, -2686.05, -5815.95, 3200.0, 1.0]\n",
      "[0.998949, -0.0458254, 0.0, 0.0, 0.0458254, 0.998949, 0.0, 0.0, 0.0, 0.0, 1.0, 0.0, -3279.33, -5143.6, 3300.0, 1.0]\n",
      "/nas1/Data_Mythreya/MotorCortexProject/V4/auto_merge_test/Cell_B_contour_cell_merging/section_graphs/ascii/S34.am\n",
      "[0.998949, -0.0458254, 0.0, 0.0, 0.0458254, 0.998949, 0.0, 0.0, 0.0, 0.0, 1.0, 0.0, -3279.33, -5143.6, 3300.0, 1.0]\n",
      "[0.991071, -0.133335, 0.0, 0.0, 0.133335, 0.991071, 0.0, 0.0, 0.0, 0.0, 1.0, 0.0, -4022.92, -4640.6, 3400.0, 1.0]\n",
      "/nas1/Data_Mythreya/MotorCortexProject/V4/auto_merge_test/Cell_B_contour_cell_merging/section_graphs/ascii/S35.am\n",
      "[0.991071, -0.133335, 0.0, 0.0, 0.133335, 0.991071, 0.0, 0.0, 0.0, 0.0, 1.0, 0.0, -4022.92, -4640.6, 3400.0, 1.0]\n",
      "[0.998319, 0.0579507, 0.0, 0.0, -0.0579507, 0.998319, 0.0, 0.0, 0.0, 0.0, 1.0, 0.0, -1939.04, -6110.43, 3500.0, 1.0]\n",
      "/nas1/Data_Mythreya/MotorCortexProject/V4/auto_merge_test/Cell_B_contour_cell_merging/section_graphs/ascii/S36.am\n",
      "[0.998319, 0.0579507, 0.0, 0.0, -0.0579507, 0.998319, 0.0, 0.0, 0.0, 0.0, 1.0, 0.0, -1939.04, -6110.43, 3500.0, 1.0]\n",
      "[0.999011, -0.0444634, 0.0, 0.0, 0.0444634, 0.999011, 0.0, 0.0, 0.0, 0.0, 1.0, 0.0, -3234.6, -5582.35, 3600.0, 1.0]\n",
      "/nas1/Data_Mythreya/MotorCortexProject/V4/auto_merge_test/Cell_B_contour_cell_merging/section_graphs/ascii/S37.am\n",
      "[0.999011, -0.0444634, 0.0, 0.0, 0.0444634, 0.999011, 0.0, 0.0, 0.0, 0.0, 1.0, 0.0, -3234.6, -5582.35, 3600.0, 1.0]\n",
      "[0.996698, -0.0811815, 0.0, 0.0, 0.0811815, 0.996698, 0.0, 0.0, 0.0, 0.0, 0.999998, 0.0, -3548.31, -5191.37, 3700.0, 1.0]\n",
      "/nas1/Data_Mythreya/MotorCortexProject/V4/auto_merge_test/Cell_B_contour_cell_merging/section_graphs/ascii/S38.am\n",
      "[0.996698, -0.0811815, 0.0, 0.0, 0.0811815, 0.996698, 0.0, 0.0, 0.0, 0.0, 0.999998, 0.0, -3548.31, -5191.37, 3700.0, 1.0]\n",
      "[0.999666, -0.0258264, 0.0, 0.0, 0.0258264, 0.999666, 0.0, 0.0, 0.0, 0.0, 1.0, 0.0, -3079.37, -5390.26, 3800.0, 1.0]\n",
      "/nas1/Data_Mythreya/MotorCortexProject/V4/auto_merge_test/Cell_B_contour_cell_merging/section_graphs/ascii/S39.am\n",
      "[0.999666, -0.0258264, 0.0, 0.0, 0.0258264, 0.999666, 0.0, 0.0, 0.0, 0.0, 1.0, 0.0, -3079.37, -5390.26, 3800.0, 1.0]\n",
      "[0.995262, -0.0972276, 0.0, 0.0, 0.0972276, 0.995262, 0.0, 0.0, 0.0, 0.0, 1.0, 0.0, -4028.29, -4793.13, 3900.0, 1.0]\n",
      "/nas1/Data_Mythreya/MotorCortexProject/V4/auto_merge_test/Cell_B_contour_cell_merging/section_graphs/ascii/S40.am\n",
      "[0.995262, -0.0972276, 0.0, 0.0, 0.0972276, 0.995262, 0.0, 0.0, 0.0, 0.0, 1.0, 0.0, -4028.29, -4793.13, 3900.0, 1.0]\n",
      "[0.998114, -0.0613846, 0.0, 0.0, 0.0613846, 0.998114, 0.0, 0.0, 0.0, 0.0, 1.0, 0.0, -3797.52, -5409.19, 4000.0, 1.0]\n",
      "/nas1/Data_Mythreya/MotorCortexProject/V4/auto_merge_test/Cell_B_contour_cell_merging/section_graphs/ascii/S41.am\n",
      "[0.998114, -0.0613846, 0.0, 0.0, 0.0613846, 0.998114, 0.0, 0.0, 0.0, 0.0, 1.0, 0.0, -3797.52, -5409.19, 4000.0, 1.0]\n",
      "[0.998786, -0.0492543, 0.0, 0.0, 0.0492543, 0.998786, 0.0, 0.0, 0.0, 0.0, 1.0, 0.0, -3704.88, -5050.07, 4100.0, 1.0]\n",
      "/nas1/Data_Mythreya/MotorCortexProject/V4/auto_merge_test/Cell_B_contour_cell_merging/section_graphs/ascii/S42.am\n",
      "[0.998786, -0.0492543, 0.0, 0.0, 0.0492543, 0.998786, 0.0, 0.0, 0.0, 0.0, 1.0, 0.0, -3704.88, -5050.07, 4100.0, 1.0]\n"
     ]
    }
   ],
   "source": [
    "sg_3d = AmiraSpatialGraph(glob.glob(path + file_pattern.format(1))[0],read_header_only=True)\n",
    "#landmarks3d = Landmarks()\n",
    "#landmarks3d_neun = Landmarks()\n",
    "\n",
    "z_coord = 0\n",
    "z_cood_offset = 100\n",
    "for s in range(100):\n",
    "    if len(glob.glob(path + file_pattern.format(s)))>0:\n",
    "        file = glob.glob(path + file_pattern.format(s))[0]\n",
    "        sg = AmiraSpatialGraph(file,axis_directions=[1,1,1],read_transformation_matrix=True)\n",
    "        \n",
    "        print(file)\n",
    "        print(sg.transformation_matrix)\n",
    "\n",
    "        sg.apply_transformation()\n",
    "        \n",
    "        z_coord+=z_cood_offset\n",
    "\n",
    "        #sg.set_z_coord(z_coord)\n",
    "        \n",
    "        sg_3d.graph_data = sg_3d.combine_subgraphs([sg_3d.graph_data,sg.graph_data])\n",
    "\n",
    "        \n",
    "        #if z_coord == 4000:\n",
    "        #    break\n",
    "        \n",
    "\n",
    "\n",
    "sg_3d.write_spatial_graph(op_path+'{}.am'.format(animal_name))\n",
    "    "
   ]
  },
  {
   "cell_type": "code",
   "execution_count": null,
   "metadata": {
    "collapsed": true
   },
   "outputs": [],
   "source": []
  },
  {
   "cell_type": "code",
   "execution_count": null,
   "metadata": {
    "collapsed": true
   },
   "outputs": [],
   "source": []
  },
  {
   "cell_type": "code",
   "execution_count": null,
   "metadata": {
    "collapsed": true
   },
   "outputs": [],
   "source": []
  },
  {
   "cell_type": "code",
   "execution_count": null,
   "metadata": {
    "collapsed": true
   },
   "outputs": [],
   "source": []
  },
  {
   "cell_type": "code",
   "execution_count": null,
   "metadata": {
    "collapsed": true
   },
   "outputs": [],
   "source": []
  },
  {
   "cell_type": "code",
   "execution_count": 4,
   "metadata": {
    "scrolled": true
   },
   "outputs": [
    {
     "name": "stdout",
     "output_type": "stream",
     "text": [
      "A1 Barrel height 50.0\n",
      "B1 Barrel height 100.0\n",
      "B2 Barrel height 50.0\n",
      "B3 Barrel height 100.0\n",
      "B4 Barrel height 50.0\n",
      "C1 Barrel height 50.0\n",
      "C2 Barrel height 150.0\n",
      "C3 Barrel height 100.0\n",
      "C4 Barrel height 100.0\n",
      "C5 Barrel height 50.0\n",
      "C6 Barrel height 0.0\n",
      "D1 Barrel height 0.0\n",
      "D2 Barrel height 0.0\n",
      "D3 Barrel height 0.0\n",
      "D4 Barrel height 50.0\n",
      "D5 Barrel height 50.0\n",
      "E1 Barrel height 0.0\n",
      "E2 Barrel height 0.0\n",
      "E3 Barrel height 0.0\n",
      "E4 Barrel height 0.0\n",
      "Alpha Barrel height 0.0\n",
      "Beta Barrel height 50.0\n",
      "Gamma Barrel height 50.0\n",
      "Delta Barrel height 0.0\n"
     ]
    }
   ],
   "source": [
    "#op_path = '/nas1/Data_Mythreya/MotorCortexProject/V2/0_Inputs/SpatialGraphs/Manually_Aligned/Rabies/'\n",
    "axis_direction = [1,-1,-1]\n",
    "sg_3d_mirrored = AmiraSpatialGraph(op_path+'{}.am'.format(animal_name),axis_directions=axis_direction)\n",
    "sg_3d_mirrored.write_spatial_graph(op_path+'{}.am'.format(animal_name))\n",
    "\n",
    "landmarks3d.set_axis_directions(axis=axis_direction)\n",
    "landmarks3d.write_landmarks(op_path+'{}_rabies_landmarks.LandmarkAscii'.format(animal_name))\n",
    "landmarks3d_neun.set_axis_directions(axis=axis_direction)\n",
    "landmarks3d_neun.write_landmarks(op_path+'{}_neun_landmarks.LandmarkAscii'.format(animal_name))"
   ]
  },
  {
   "cell_type": "code",
   "execution_count": null,
   "metadata": {
    "collapsed": true
   },
   "outputs": [],
   "source": []
  }
 ],
 "metadata": {
  "kernelspec": {
   "display_name": "Python 3",
   "language": "python",
   "name": "python3"
  },
  "language_info": {
   "codemirror_mode": {
    "name": "ipython",
    "version": 3
   },
   "file_extension": ".py",
   "mimetype": "text/x-python",
   "name": "python",
   "nbconvert_exporter": "python",
   "pygments_lexer": "ipython3",
   "version": "3.6.6"
  },
  "toc": {
   "base_numbering": 1,
   "nav_menu": {},
   "number_sections": true,
   "sideBar": true,
   "skip_h1_title": false,
   "title_cell": "Table of Contents",
   "title_sidebar": "Contents",
   "toc_cell": false,
   "toc_position": {},
   "toc_section_display": true,
   "toc_window_display": false
  }
 },
 "nbformat": 4,
 "nbformat_minor": 2
}
