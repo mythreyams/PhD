{
 "cells": [
  {
   "cell_type": "code",
   "execution_count": 12,
   "metadata": {
    "ExecuteTime": {
     "end_time": "2020-05-01T05:39:16.916609Z",
     "start_time": "2020-05-01T05:39:16.900941Z"
    },
    "collapsed": true
   },
   "outputs": [],
   "source": [
    "import sys\n",
    "import os\n",
    "sys.path.insert(0,os.path.abspath('..'))\n",
    "from spatial_graphs.AmiraSpatialGraph import AmiraSpatialGraph,MatchBarrels\n",
    "from spatial_graphs.Landmarks import Landmarks\n",
    "from spatial_graphs.Surfaces import Surface\n",
    "from spatial_graphs.Vectors import Vectors\n",
    "from spatial_graphs.Alignment import Alignment\n",
    "from dask import compute,multiprocessing,delayed\n",
    "import pathlib\n",
    "import shutil\n",
    "import glob\n",
    "import pandas as pd\n",
    "import vtk\n",
    "from scipy.spatial import distance\n",
    "import numpy as np\n",
    "import SimpleITK as sitk\n",
    "import itk"
   ]
  },
  {
   "cell_type": "code",
   "execution_count": 4,
   "metadata": {
    "ExecuteTime": {
     "end_time": "2020-04-28T10:22:06.341078Z",
     "start_time": "2020-04-28T10:22:06.335258Z"
    },
    "collapsed": true
   },
   "outputs": [],
   "source": [
    "def add_z_pt_above_below(pt,z_offset,pt_list):\n",
    "    above = [pt[0],pt[1],pt[2]+z_offset]\n",
    "    below = [pt[0],pt[1],pt[2]-z_offset]\n",
    "    pt_list.append(below)\n",
    "    pt_list.append(above)\n",
    "    pt_list.append(pt)\n",
    "    return pt_list"
   ]
  },
  {
   "cell_type": "code",
   "execution_count": 5,
   "metadata": {
    "ExecuteTime": {
     "end_time": "2020-04-28T10:22:06.349089Z",
     "start_time": "2020-04-28T10:22:06.342936Z"
    },
    "collapsed": true
   },
   "outputs": [],
   "source": [
    "def validate_pt(pt,im):\n",
    "    if pt[0]<0:\n",
    "        pt[0] = 0\n",
    "    if pt[0]>im.GetSize()[0]:\n",
    "        pt[0] = im.GetSize()[0]\n",
    "    if pt[1] < 0:\n",
    "        pt[1] = 0\n",
    "    if pt[1] > im.GetSize()[1]:\n",
    "        pt[1] = im.GetSize()[1]\n",
    "        \n",
    "    return pt"
   ]
  },
  {
   "cell_type": "code",
   "execution_count": 6,
   "metadata": {
    "ExecuteTime": {
     "end_time": "2020-04-28T10:22:06.361070Z",
     "start_time": "2020-04-28T10:22:06.350965Z"
    },
    "collapsed": true
   },
   "outputs": [],
   "source": [
    "def get_min_max(pts):\n",
    "    min_x = 9999\n",
    "    max_x = 0\n",
    "    min_y = 9999\n",
    "    max_y = 0\n",
    "    \n",
    "    for pt in pts:\n",
    "        if pt[0] < min_x:\n",
    "            min_x = pt[0]\n",
    "        if pt[0] > max_x:\n",
    "            max_x = pt[0]\n",
    "        if pt[1] < min_y:\n",
    "            min_y = pt[1]\n",
    "        if pt[1] > max_y:\n",
    "            max_y = pt[1]\n",
    "    return min_x,max_x,min_y,max_y"
   ]
  },
  {
   "cell_type": "code",
   "execution_count": 7,
   "metadata": {
    "ExecuteTime": {
     "end_time": "2020-04-28T10:22:06.377144Z",
     "start_time": "2020-04-28T10:22:06.362901Z"
    },
    "collapsed": true
   },
   "outputs": [],
   "source": [
    "def get_real_foreground_im(bb_pts,masked_im):\n",
    "    # get actual ROI as foreground\n",
    "    pt_list=[]\n",
    "    pt_list = add_z_pt_above_below(bb_pts[0],0.5,pt_list)\n",
    "    pt_list = add_z_pt_above_below(bb_pts[1],0.5,pt_list)\n",
    "    pt_list = add_z_pt_above_below(bb_pts[2],0.5,pt_list)\n",
    "    pt_list = add_z_pt_above_below(bb_pts[3],0.5,pt_list)\n",
    "\n",
    "    surf=Surface(pts=pt_list).create_delunay_surface_3d(return_hull=True,output_filename=output_path+'bla.vtk')\n",
    "\n",
    "    np_im = sitk.GetArrayFromImage(masked_im)\n",
    "    nonzeros = np.where(np_im>0)\n",
    "    inds_pts = np.array([nonzeros[0],nonzeros[1],np.zeros_like(nonzeros[0])]).transpose()\n",
    "\n",
    "    l = Landmarks(pts=inds_pts)\n",
    "    selected = l.get_landmarks_within_given_surface(surf)\n",
    "    print(selected)\n",
    "    \n",
    "    return selected"
   ]
  },
  {
   "cell_type": "code",
   "execution_count": 8,
   "metadata": {
    "ExecuteTime": {
     "end_time": "2020-04-28T10:22:06.408481Z",
     "start_time": "2020-04-28T10:22:06.379042Z"
    },
    "collapsed": true
   },
   "outputs": [],
   "source": [
    "def get_bounding_plane(cube,z_coord,tx_mat,im,neg_x=False,coronal=False):\n",
    "    \n",
    "    intersectoin_plane = Surface(polydata=cube.get_intersection_plane(z_coord))\n",
    "    \n",
    "    if intersectoin_plane.surface.GetNumberOfPoints() > 3:\n",
    "        \n",
    "        \n",
    "        if neg_x:\n",
    "            neg_mat = [-1, 0, 0, 0, 0, 1, 0, 0, 0, 0, 1, 0, 0, 0, 0, 1]\n",
    "            intersectoin_plane.apply_transformation(neg_mat,inverse=True)\n",
    "        if coronal:\n",
    "            coronal_tr_mat = [-1, 0, 0, 0, 0, 0, 1, 0, 0, 1, 0, 0, 0, 0, 0, 1]\n",
    "            intersectoin_plane.apply_transformation(coronal_tr_mat,inverse=True)\n",
    "            #intersectoin_plane.write_surface_mesh(output_path+'before.vtk')\n",
    "        intersectoin_plane.apply_transformation(tx_mat,inverse=True)\n",
    "#         intersectoin_plane_cube = Surface(polydata=intersectoin_plane.create_delunay_surface_3d(return_hull=True,\\\n",
    "#                                                              output_filename=output_path+'vS1_plane.vtk'))\n",
    "        #intersectoin_plane.write_surface_mesh(output_path+'{}_sec_cutting_plane.vtk'.format(sec_num))\n",
    "        bounds = intersectoin_plane.surface.GetBounds()\n",
    "        #pt_list = []\n",
    "        \n",
    "        #vtkpts = intersectoin_plane.surface.GetPoints()\n",
    "        #print(selected)\n",
    "        #XY_RES = 1\n",
    "         \n",
    "#         pt1 = [int(vtkpts.GetPoint(0)[0]/XY_RES),int(vtkpts.GetPoint(0)[1]),0]\n",
    "#         pt2 = [int(vtkpts.GetPoint(1)[0]/XY_RES),int(vtkpts.GetPoint(1)[1]),0]\n",
    "#         pt3 = [int(vtkpts.GetPoint(2)[0]/XY_RES),int(vtkpts.GetPoint(2)[1]),0]\n",
    "#         pt4 = [int(vtkpts.GetPoint(3)[0]/XY_RES),int(vtkpts.GetPoint(3)[1]),0]\n",
    "        \n",
    "        # get im inds within the BB of ROI\n",
    "#         if neg_x:\n",
    "#             pt1 = validate_pt([-int(bounds[0]/XY_RES),int(bounds[2]/XY_RES),0],im)\n",
    "#             pt2 = validate_pt([-int(bounds[1]/XY_RES),int(bounds[3]/XY_RES),0],im)\n",
    "#         else:\n",
    "        pt1 = validate_pt([int(bounds[0]/XY_RES),int(bounds[2]/XY_RES),0],im)\n",
    "        pt2 = validate_pt([int(bounds[1]/XY_RES),int(bounds[3]/XY_RES),0],im)\n",
    "        #pt3 = validate_pt(pt3,im)\n",
    "        #pt4 = validate_pt(pt4,im)\n",
    "        \n",
    "        return [pt1,pt2]\n",
    "    else:\n",
    "        return None"
   ]
  },
  {
   "cell_type": "code",
   "execution_count": 9,
   "metadata": {
    "ExecuteTime": {
     "end_time": "2020-04-28T10:22:07.992725Z",
     "start_time": "2020-04-28T10:22:07.985218Z"
    },
    "collapsed": true
   },
   "outputs": [],
   "source": [
    "def mask_im_region_from_bb(np_im,bb_pts):\n",
    "    #np_im = sitk.GetArrayFromImage(im)\n",
    "    #np_im[:,:] = 0\n",
    "    \n",
    "    min_x,max_x,min_y,max_y = get_min_max(bb_pts)\n",
    "    print(min_x,max_x,min_y,max_y)\n",
    "    np_im[bb_pts[0][1]:bb_pts[1][1],bb_pts[0][0]:bb_pts[1][0]] = 255\n",
    "    masked_im = sitk.GetImageFromArray(np_im)\n",
    "    #sitk.WriteImage(masked_im,'{}_binary_masked.tif'.format(op_filename))\n",
    "    \n",
    "    return np_im"
   ]
  },
  {
   "cell_type": "code",
   "execution_count": 10,
   "metadata": {
    "ExecuteTime": {
     "end_time": "2020-04-28T10:22:08.925102Z",
     "start_time": "2020-04-28T10:22:08.915183Z"
    },
    "collapsed": true
   },
   "outputs": [],
   "source": [
    "def mark_binary_im(masked_im):\n",
    "    contour_im = sitk.BinaryContour(masked_im,backgroundValue=0,foregroundValue=255)\n",
    "    dil = sitk.BinaryDilateImageFilter()\n",
    "    dil.SetKernelRadius(10)\n",
    "    dil.SetBackgroundValue(0)\n",
    "    dil.SetForegroundValue(255)\n",
    "    contour_dilated = dil.Execute(contour_im)\n",
    "    marked_im = sitk.Or(im,contour_dilated)\n",
    "    return marked_im\n",
    "    "
   ]
  },
  {
   "cell_type": "code",
   "execution_count": 3,
   "metadata": {
    "ExecuteTime": {
     "end_time": "2020-04-28T10:22:06.333126Z",
     "start_time": "2020-04-28T10:22:06.323518Z"
    },
    "collapsed": true
   },
   "outputs": [],
   "source": [
    "animal_name = 'MG49_rhs'\n",
    "image_name = 'MG49_3Day_rhs'\n",
    "section_sg_path = '/nas1/Data_Mythreya/MotorCortexProject/V9/vM1_Ref_Frame/Original_Data/Spatial_Graphs/misc/Section_Graphs/{}.am/'.format(animal_name)\n",
    "\n",
    "tx_file = section_sg_path +'aligntobarrel.hx'\n",
    "file_pattern = '*S*_ct.am'\n",
    "images_path = '/nas1/Data_aman/00_Rabies/{}/00_Images/00_Confocal/ch_01_stacks/'.format(image_name)\n",
    "image_file_pattern = 'S*_01.tif'\n",
    "#rabies_landmarks_path = '/nas1/Data_Mythreya/MotorCortexProject/V4/0_Inputs/SpatialGraphs/Section_Graphs/Rabies/{}/rabies/'.format(animal_name)\n",
    "#neun_landmarks_path = '/nas1/Data_Mythreya/MotorCortexProject/V0/0_Inputs/Landmarks/Manual/Rabies/NeuN/{}/'.format(animal_name)\n",
    "\n",
    "surface_path_vS1 = '/nas1/Data_Mythreya/MotorCortexProject/V9/vM1_Ref_Frame/Outputs/Surfaces/{}_s1_hull.vtk'.format(animal_name)\n",
    "surface_path_vM1 = '/nas1/Data_Mythreya/MotorCortexProject/V9/vM1_Ref_Frame/Outputs/vM1_Ref_Surfaces/{}_vM1.vtk'.format(animal_name)\n",
    "\n",
    "output_path = '/nas1/Data_Mythreya/MotorCortexProject/Images_For_NeuN_Count/{}/'.format(animal_name)\n",
    "\n",
    "XY_RES = 0.868"
   ]
  },
  {
   "cell_type": "code",
   "execution_count": 11,
   "metadata": {
    "ExecuteTime": {
     "end_time": "2020-04-28T10:51:55.401354Z",
     "start_time": "2020-04-28T10:22:27.824404Z"
    },
    "scrolled": true
   },
   "outputs": [
    {
     "name": "stdout",
     "output_type": "stream",
     "text": [
      "100\n",
      "None\n",
      "None\n",
      "101\n",
      "None\n",
      "None\n",
      "102\n",
      "None\n",
      "None\n",
      "10\n",
      "[[2165, 2824, 0], [4663, 6107, 0]]\n",
      "None\n",
      "2165 4663 2824 6107\n",
      "11\n",
      "[[2227, 2847, 0], [4703, 6111, 0]]\n",
      "None\n",
      "2227 4703 2847 6111\n",
      "13\n",
      "[[2676, 3485, 0], [5069, 6694, 0]]\n",
      "None\n",
      "2676 5069 3485 6694\n",
      "14\n",
      "[[3002, 4311, 0], [5445, 7516, 0]]\n",
      "None\n",
      "3002 5445 4311 7516\n",
      "15\n",
      "[[2846, 4248, 0], [5237, 7436, 0]]\n",
      "None\n",
      "2846 5237 4248 7436\n",
      "16\n",
      "[[2872, 5023, 0], [5180, 8154, 0]]\n",
      "None\n",
      "2872 5180 5023 8154\n",
      "17\n",
      "[[2513, 4952, 0], [4780, 8065, 0]]\n",
      "None\n",
      "2513 4780 4952 8065\n",
      "18\n",
      "[[3510, 4713, 0], [5839, 7849, 0]]\n",
      "None\n",
      "3510 5839 4713 7849\n",
      "19\n",
      "[[3559, 4955, 0], [5934, 8065, 0]]\n",
      "None\n",
      "3559 5934 4955 8065\n",
      "20\n",
      "[[3044, 5451, 0], [5335, 8552, 0]]\n",
      "None\n",
      "3044 5335 5451 8552\n",
      "21\n",
      "[[3615, 5626, 0], [5994, 8689, 0]]\n",
      "None\n",
      "3615 5994 5626 8689\n",
      "22\n",
      "[[3287, 5474, 0], [5587, 8526, 0]]\n",
      "None\n",
      "3287 5587 5474 8526\n",
      "23\n",
      "[[4042, 6497, 0], [6309, 9537, 0]]\n",
      "[[4079, 1287, 0], [5143, 1443, 0]]\n",
      "4042 6309 6497 9537\n",
      "4079 5143 1287 1443\n",
      "24\n",
      "[[4132, 5573, 0], [6465, 8567, 0]]\n",
      "[[4949, 207, 0], [6529, 638, 0]]\n",
      "4132 6465 5573 8567\n",
      "4949 6529 207 638\n",
      "25\n",
      "[[4350, 6362, 0], [6621, 9353, 0]]\n",
      "[[4246, 865, 0], [6346, 1401, 0]]\n",
      "4350 6621 6362 9353\n",
      "4246 6346 865 1401\n",
      "26\n",
      "[[3922, 6365, 0], [6102, 9362, 0]]\n",
      "[[2941, 806, 0], [5401, 1555, 0]]\n",
      "3922 6102 6365 9362\n",
      "2941 5401 806 1555\n",
      "27\n",
      "[[4020, 6111, 0], [6214, 9078, 0]]\n",
      "[[3161, 381, 0], [5969, 1245, 0]]\n",
      "4020 6214 6111 9078\n",
      "3161 5969 381 1245\n",
      "28\n",
      "[[3992, 6426, 0], [6221, 9355, 0]]\n",
      "[[3575, 537, 0], [6718, 1677, 0]]\n",
      "3992 6221 6426 9355\n",
      "3575 6718 537 1677\n",
      "29\n",
      "[[4422, 6333, 0], [6640, 9238, 0]]\n",
      "[[3973, 315, 0], [7408, 1677, 0]]\n",
      "4422 6640 6333 9238\n",
      "3973 7408 315 1677\n",
      "2\n",
      "[[0, 0, 0], [2277, 2867, 0]]\n",
      "None\n",
      "0 2277 0 2867\n",
      "30\n",
      "[[4832, 6027, 0], [6927, 8862, 0]]\n",
      "[[3149, 0, 0], [6841, 1476, 0]]\n",
      "4832 6927 6027 8862\n",
      "3149 6841 0 1476\n",
      "31\n",
      "[[3953, 6999, 0], [6101, 9623, 0]]\n",
      "[[2810, 729, 0], [6744, 2337, 0]]\n",
      "3953 6101 6999 9623\n",
      "2810 6744 729 2337\n",
      "32\n",
      "[[4251, 6857, 0], [6255, 9245, 0]]\n",
      "[[1790, 698, 0], [5910, 2716, 0]]\n",
      "4251 6255 6857 9245\n",
      "1790 5910 698 2716\n",
      "33\n",
      "[[4931, 7053, 0], [6870, 9295, 0]]\n",
      "[[3273, 591, 0], [7677, 2474, 0]]\n",
      "4931 6870 7053 9295\n",
      "3273 7677 591 2474\n",
      "34\n",
      "[[4431, 6524, 0], [6179, 8428, 0]]\n",
      "[[1394, 214, 0], [5959, 2586, 0]]\n",
      "4431 6179 6524 8428\n",
      "1394 5959 214 2586\n",
      "35\n",
      "[[4935, 7008, 0], [6338, 8505, 0]]\n",
      "[[1687, 538, 0], [6489, 2971, 0]]\n",
      "4935 6338 7008 8505\n",
      "1687 6489 538 2971\n",
      "36\n",
      "[[5670, 6972, 0], [6681, 8060, 0]]\n",
      "[[2109, 396, 0], [7142, 2840, 0]]\n",
      "5670 6681 6972 8060\n",
      "2109 7142 396 2840\n",
      "37\n",
      "[[6047, 7241, 0], [6279, 7474, 0]]\n",
      "[[2509, 457, 0], [7772, 2777, 0]]\n",
      "6047 6279 7241 7474\n",
      "2509 7772 457 2777\n",
      "38\n",
      "None\n",
      "[[2077, 461, 0], [7513, 2833, 0]]\n",
      "2077 7513 461 2833\n",
      "39\n",
      "None\n",
      "[[3021, 341, 0], [8586, 2894, 0]]\n",
      "3021 8586 341 2894\n",
      "3\n",
      "[[45, 0, 0], [2609, 3204, 0]]\n",
      "None\n",
      "45 2609 0 3204\n",
      "40\n",
      "None\n",
      "[[1356, 375, 0], [7024, 3162, 0]]\n",
      "1356 7024 375 3162\n",
      "41\n",
      "None\n",
      "[[2987, 476, 0], [8744, 3204, 0]]\n",
      "2987 8744 476 3204\n",
      "42\n",
      "None\n",
      "[[3012, 393, 0], [8824, 3164, 0]]\n",
      "3012 8824 393 3164\n",
      "43\n",
      "None\n",
      "[[2923, 228, 0], [8737, 3098, 0]]\n",
      "2923 8737 228 3098\n",
      "44\n",
      "None\n",
      "[[2683, 188, 0], [8503, 3128, 0]]\n",
      "2683 8503 188 3128\n",
      "45\n",
      "None\n",
      "[[1922, 256, 0], [7757, 3321, 0]]\n",
      "1922 7757 256 3321\n",
      "46\n",
      "None\n",
      "[[2318, 938, 0], [8154, 3996, 0]]\n",
      "2318 8154 938 3996\n",
      "47\n",
      "None\n",
      "[[1956, 976, 0], [7792, 4293, 0]]\n",
      "1956 7792 976 4293\n",
      "48\n",
      "None\n",
      "[[2785, 897, 0], [8614, 4246, 0]]\n",
      "2785 8614 897 4246\n",
      "49\n",
      "None\n",
      "[[3030, 210, 0], [8864, 3647, 0]]\n",
      "3030 8864 210 3647\n",
      "4\n",
      "[[893, 0, 0], [3671, 3154, 0]]\n",
      "None\n",
      "893 3671 0 3154\n",
      "50\n",
      "None\n",
      "[[1722, 1032, 0], [7553, 4664, 0]]\n",
      "1722 7553 1032 4664\n",
      "51\n",
      "None\n",
      "[[1930, 883, 0], [7769, 4541, 0]]\n",
      "1930 7769 883 4541\n",
      "52\n",
      "None\n",
      "[[1762, 1118, 0], [7591, 4865, 0]]\n",
      "1762 7591 1118 4865\n",
      "53\n",
      "None\n",
      "[[1647, 886, 0], [7451, 4769, 0]]\n",
      "1647 7451 886 4769\n",
      "54\n",
      "None\n",
      "[[1009, 829, 0], [6768, 4870, 0]]\n",
      "1009 6768 829 4870\n",
      "55\n",
      "None\n",
      "[[2851, 823, 0], [8634, 4806, 0]]\n",
      "2851 8634 823 4806\n",
      "56\n",
      "None\n",
      "[[964, 879, 0], [6703, 5068, 0]]\n",
      "964 6703 879 5068\n",
      "57\n",
      "None\n",
      "[[2509, 1069, 0], [8302, 5109, 0]]\n",
      "2509 8302 1069 5109\n",
      "58\n",
      "None\n",
      "[[2696, 1002, 0], [8481, 5108, 0]]\n",
      "2696 8481 1002 5108\n",
      "59\n",
      "None\n",
      "[[2711, 1102, 0], [8493, 5234, 0]]\n",
      "2711 8493 1102 5234\n",
      "5\n",
      "[[61, 491, 0], [2547, 3762, 0]]\n",
      "None\n",
      "61 2547 491 3762\n",
      "60\n",
      "None\n",
      "[[2178, 1117, 0], [7956, 5360, 0]]\n",
      "2178 7956 1117 5360\n",
      "61\n",
      "None\n",
      "[[1805, 1075, 0], [7558, 5452, 0]]\n",
      "1805 7558 1075 5452\n",
      "62\n",
      "None\n",
      "[[1615, 981, 0], [7350, 5363, 0]]\n",
      "1615 7350 981 5363\n",
      "63\n",
      "None\n",
      "[[626, 0, 0], [6267, 4366, 0]]\n",
      "626 6267 0 4366\n",
      "64\n",
      "None\n",
      "[[2427, 1132, 0], [8172, 5353, 0]]\n",
      "2427 8172 1132 5353\n",
      "65\n",
      "None\n",
      "[[1831, 248, 0], [7563, 4507, 0]]\n",
      "1831 7563 248 4507\n",
      "66\n",
      "None\n",
      "[[1463, 321, 0], [7176, 4575, 0]]\n",
      "1463 7176 321 4575\n",
      "67\n",
      "None\n",
      "[[1217, 519, 0], [6902, 4778, 0]]\n",
      "1217 6902 519 4778\n",
      "68\n",
      "None\n",
      "[[4104, 866, 0], [9751, 5144, 0]]\n",
      "4104 9751 866 5144\n",
      "69\n",
      "None\n",
      "[[2622, 1108, 0], [8307, 5276, 0]]\n",
      "2622 8307 1108 5276\n",
      "6\n",
      "[[1225, 1637, 0], [3892, 5006, 0]]\n",
      "None\n",
      "1225 3892 1637 5006\n",
      "70\n",
      "None\n",
      "[[1694, 1255, 0], [7354, 5493, 0]]\n",
      "1694 7354 1255 5493\n",
      "71\n",
      "None\n",
      "[[1595, 887, 0], [7237, 5129, 0]]\n",
      "1595 7237 887 5129\n",
      "72\n",
      "None\n",
      "[[1763, 1200, 0], [7392, 5433, 0]]\n",
      "1763 7392 1200 5433\n",
      "73\n",
      "None\n",
      "[[2354, 752, 0], [7952, 4927, 0]]\n",
      "2354 7952 752 4927\n",
      "74\n",
      "None\n",
      "[[2017, 1174, 0], [7573, 5291, 0]]\n",
      "2017 7573 1174 5291\n",
      "75\n",
      "None\n",
      "[[2529, 1320, 0], [8047, 5452, 0]]\n",
      "2529 8047 1320 5452\n",
      "76\n",
      "None\n",
      "[[1892, 1194, 0], [7360, 5229, 0]]\n",
      "1892 7360 1194 5229\n",
      "77\n",
      "None\n",
      "[[2915, 1022, 0], [8356, 4811, 0]]\n",
      "2915 8356 1022 4811\n",
      "78\n",
      "None\n",
      "[[1963, 1273, 0], [7348, 4926, 0]]\n",
      "1963 7348 1273 4926\n",
      "79\n",
      "None\n",
      "[[2992, 1014, 0], [8354, 4383, 0]]\n",
      "2992 8354 1014 4383\n",
      "7\n",
      "[[1073, 1312, 0], [3633, 4651, 0]]\n",
      "None\n",
      "1073 3633 1312 4651\n",
      "80\n",
      "None\n",
      "[[1304, 1787, 0], [6613, 5017, 0]]\n",
      "1304 6613 1787 5017\n",
      "81\n",
      "None\n",
      "[[1632, 2086, 0], [6881, 5071, 0]]\n",
      "1632 6881 2086 5071\n",
      "82\n",
      "None\n",
      "[[1968, 1099, 0], [7143, 3823, 0]]\n",
      "1968 7143 1099 3823\n",
      "83\n",
      "None\n",
      "[[1053, 1982, 0], [5963, 4624, 0]]\n",
      "1053 5963 1982 4624\n",
      "84\n",
      "None\n",
      "[[2502, 1301, 0], [7048, 3639, 0]]\n",
      "2502 7048 1301 3639\n",
      "85\n",
      "None\n",
      "[[2735, 1121, 0], [6840, 3196, 0]]\n",
      "2735 6840 1121 3196\n",
      "86\n",
      "None\n",
      "[[2706, 1268, 0], [6362, 3136, 0]]\n",
      "2706 6362 1268 3136\n",
      "87\n",
      "None\n",
      "[[4421, 1569, 0], [7653, 3202, 0]]\n",
      "4421 7653 1569 3202\n",
      "88\n",
      "None\n",
      "[[1636, 1907, 0], [4394, 3345, 0]]\n",
      "1636 4394 1907 3345\n",
      "89\n",
      "None\n",
      "[[2839, 1395, 0], [5189, 2483, 0]]\n",
      "2839 5189 1395 2483\n",
      "8\n",
      "[[1710, 2066, 0], [4183, 5336, 0]]\n",
      "None\n",
      "1710 4183 2066 5336\n",
      "90\n",
      "None\n",
      "[[3724, 1521, 0], [5661, 2280, 0]]\n",
      "3724 5661 1521 2280\n",
      "91\n",
      "None\n",
      "[[1726, 2068, 0], [3150, 2674, 0]]\n",
      "1726 3150 2068 2674\n",
      "92\n",
      "None\n",
      "[[4853, 1710, 0], [5724, 1915, 0]]\n",
      "4853 5724 1710 1915\n",
      "93\n",
      "None\n",
      "None\n",
      "94\n",
      "None\n",
      "None\n",
      "95\n",
      "None\n",
      "None\n",
      "96\n",
      "None\n",
      "None\n",
      "97\n",
      "None\n",
      "None\n",
      "98\n",
      "None\n",
      "None\n",
      "99\n",
      "None\n",
      "None\n",
      "9\n",
      "[[1742, 1950, 0], [4206, 5212, 0]]\n",
      "None\n",
      "1742 4206 1950 5212\n"
     ]
    }
   ],
   "source": [
    "#sg_3d = AmiraSpatialGraph(glob.glob(path + file_pattern)[0],read_header_only=True)\n",
    "#landmarks3d = Landmarks()\n",
    "#landmarks3d_neun = Landmarks()\n",
    "z_cood_offset = 50\n",
    "vs1_hull = Surface(surface_path_vS1)\n",
    "#s1_cube = Surface(polydata=s1_hull.create_delunay_surface_3d(make_cube=True,return_hull=True,\\\n",
    "#                                                             output_filename=output_path+'vS1_Cube.vtk'))\n",
    "\n",
    "vm1_hull = Surface(surface_path_vM1)\n",
    "#vm1_cube = Surface(polydata=vm1_hull.create_delunay_surface_3d(make_cube=True,return_hull=True,\\\n",
    "#                                                               output_filename=output_path+'vM1_Cube.vtk'))\n",
    "#write_cube(vm1_cube.surface,output_path+'vM1_Cube.vtk')\n",
    "\n",
    "\n",
    "for file in sorted(glob.glob(images_path + image_file_pattern)):\n",
    "    #sg = AmiraSpatialGraph(file,axis_directions=[1,1,1])\n",
    "    #print(file,tx_file)\n",
    "    \n",
    "    # read tx mat from the file\n",
    "    with open(tx_file,'r') as f:\n",
    "        lines = f.readlines()\n",
    "        \n",
    "    sec_num = int(os.path.basename(file)[1:-7])\n",
    "    print(sec_num)\n",
    "    #sec_num = 49\n",
    "    \n",
    "    str_to_compare = '\"S{:03d}_ct.am\" setTransform '.format(sec_num)\n",
    "    #print(str_to_compare)\n",
    "    tx_mat = []\n",
    "    tx_mat_np = np.array([[1,0,0,0],[0,1,0,0],[0,0,1,0],[0,0,0,1]]).reshape(4,4)\n",
    "    for line in lines:\n",
    "        if line.startswith(str_to_compare):\n",
    "            #tx_mat = (line[len(str_to_compare):-1].split(' '))\n",
    "            for num in (line[len(str_to_compare):-1].split(' ')):\n",
    "                tx_mat.append(float(num))\n",
    "            tx_mat_np = np.array(tx_mat).reshape(4,4)\n",
    "            break\n",
    "    \n",
    "    if os.path.exists(images_path+'S{}_01.tif'.format(sec_num)):\n",
    "        im = sitk.ReadImage(images_path+'S{}_01.tif'.format(sec_num))\n",
    "        npim = sitk.GetArrayFromImage(im)\n",
    "        npim[:] = 0\n",
    "        # get s1 and m1 bounding box for this plane\n",
    "        s1_bb_pts = get_bounding_plane(vs1_hull,(sec_num-1) * z_cood_offset,tx_mat_np,im, neg_x=True,coronal=False)\n",
    "        m1_bb_pts = get_bounding_plane(vm1_hull,(sec_num-1) * z_cood_offset,tx_mat,im, neg_x=True,coronal=False)\n",
    "        print(s1_bb_pts)\n",
    "        print(m1_bb_pts)\n",
    "        #Landmarks(pts=[s1_bb_pts[0]]).write_landmarks(output_path+'{}_lower.landmarksAscii'.format(sec_num))\n",
    "        #Landmarks(pts=[s1_bb_pts[1]]).write_landmarks(output_path+'{}_upper.landmarksAscii'.format(sec_num))\n",
    "        if s1_bb_pts is not None :\n",
    "            \n",
    "            npim = mask_im_region_from_bb(npim,s1_bb_pts,)#output_path+'S'+str(sec_num)+'_vS1')\n",
    "            #pixel_inds = get_real_foreground_im(s1_bb_pts,s1_masked_im)\n",
    "            #Landmarks(pts=pixel_inds).write_landmarks(output_path+'s1_im_inds')\n",
    "            #sitk.WriteImage(cropped_im,output_path+'{}_01_cropped.tif'.format(sec_num))\n",
    "            \n",
    "        if m1_bb_pts is not None :\n",
    "            npim = mask_im_region_from_bb(npim,m1_bb_pts,)#output_path+'S'+str(sec_num)+'_vM1')\n",
    "            #sitk.WriteImage(cropped_im,output_path+'{}_01_cropped.tif'.format(sec_num))\n",
    "        \n",
    "        #else:\n",
    "        if s1_bb_pts is not None or m1_bb_pts is not None:\n",
    "            sitk.WriteImage(sitk.GetImageFromArray(npim),output_path+'S{}_binary.tif'.format(sec_num))\n",
    "            marked_im = mark_binary_im(sitk.GetImageFromArray(npim))\n",
    "            sitk.WriteImage(marked_im,output_path+'S{}_boundary_marked.tif'.format(sec_num))\n",
    "            \n",
    "            masked_im = sitk.Mask(im,sitk.GetImageFromArray(npim))\n",
    "            sitk.WriteImage(masked_im,output_path+'S{}_masked.tif'.format(sec_num))\n",
    "    \n",
    "    "
   ]
  },
  {
   "cell_type": "code",
   "execution_count": null,
   "metadata": {
    "collapsed": true
   },
   "outputs": [],
   "source": []
  },
  {
   "cell_type": "code",
   "execution_count": null,
   "metadata": {
    "collapsed": true
   },
   "outputs": [],
   "source": []
  },
  {
   "cell_type": "code",
   "execution_count": 115,
   "metadata": {
    "ExecuteTime": {
     "end_time": "2020-04-26T23:14:21.632411Z",
     "start_time": "2020-04-26T23:14:21.622034Z"
    }
   },
   "outputs": [
    {
     "data": {
      "text/plain": [
       "1012057770.9125042"
      ]
     },
     "execution_count": 115,
     "metadata": {},
     "output_type": "execute_result"
    }
   ],
   "source": [
    "nr_yr = 15\n",
    "init = [25000,25000,50000,50000,100000,100000,150000,150000,200000,200000,\\\n",
    "        300000,300000,350000,350000,40000,0,0,0,0,0,\\\n",
    "        0,0,0,0,0,0,0,0,0,0,0,0,0,0,0]\n",
    "final = 0\n",
    "interest = 1.25\n",
    "for i in range(35):\n",
    "    saving = init[i]\n",
    "    final = (final +  saving) * interest\n",
    "final"
   ]
  },
  {
   "cell_type": "code",
   "execution_count": null,
   "metadata": {
    "ExecuteTime": {
     "end_time": "2020-04-26T04:06:17.065084Z",
     "start_time": "2020-04-26T04:06:17.039961Z"
    },
    "collapsed": true
   },
   "outputs": [],
   "source": [
    "cutPlane = vtk.vtkPlane()\n",
    "center = Surface(surface_path_vS1).surface.GetCenter()\n",
    "cutPlane.SetOrigin([center[0],center[1],30])\n",
    "cutPlane.SetNormal(0, 0, 1)\n",
    "\n",
    "cutter = vtk.vtkCutter()\n",
    "cutter.SetInputData(Surface(surface_path_vS1).surface)\n",
    "cutter.SetCutFunction(cutPlane)\n",
    "cutter.SetValue(0,0)\n",
    "cutter.Update()\n",
    "\n",
    "stripper = vtk.vtkStripper()\n",
    "stripper.SetInputData(cutter.GetOutput())\n",
    "stripper.Update()\n",
    "Surface(polydata=stripper.GetOutput()).write_surface_mesh(output_path+'plane.vtk')\n",
    "circle = cutter.GetOutput()"
   ]
  },
  {
   "cell_type": "code",
   "execution_count": null,
   "metadata": {
    "ExecuteTime": {
     "end_time": "2020-04-26T04:12:58.137105Z",
     "start_time": "2020-04-26T04:12:58.121542Z"
    },
    "collapsed": true
   },
   "outputs": [],
   "source": [
    "whiteImage =vtk.vtkImageData()\n",
    "bounds = circle.GetBounds()\n",
    "whiteImage.SetSpacing([1,1,1])\n",
    "dim = [int(bounds[1] - bounds[0]),int(bounds[1] - bounds[0]),1 ]\n",
    "whiteImage.SetDimensions(dim)\n",
    "whiteImage.SetExtent(0, dim[0] - 1, 0, dim[1] - 1, 0, dim[2] - 1)\n",
    "whiteImage.SetOrigin([bounds[0],bounds[1],0])\n",
    "whiteImage.AllocateScalars(vtk.VTK_UNSIGNED_CHAR,1)\n",
    "inval = 255\n",
    "outval = 0\n",
    "count = whiteImage.GetNumberOfPoints()\n",
    "for i in range(count):\n",
    "    whiteImage.GetPointData().GetScalars().SetTuple1(i, inval)\n",
    "\n",
    "extruder =vtk.vtkLinearExtrusionFilter()\n",
    "extruder.SetInputData(circle)\n",
    "extruder.SetScaleFactor(1.)\n",
    "extruder.SetExtrusionTypeToNormalExtrusion()\n",
    "extruder.SetVector(1, 1, 0)\n",
    "extruder.Update()\n",
    "Surface(polydata = extruder.GetOutput()).write_surface_mesh(output_path+'extrusion.vtk')"
   ]
  },
  {
   "cell_type": "code",
   "execution_count": null,
   "metadata": {
    "ExecuteTime": {
     "start_time": "2020-04-26T04:19:54.840Z"
    },
    "collapsed": true
   },
   "outputs": [],
   "source": [
    "pol2stenc =vtk.vtkPolyDataToImageStencil()\n",
    "pol2stenc.SetTolerance(0) \n",
    "pol2stenc.SetInputConnection(extruder.GetOutputPort())\n",
    "pol2stenc.SetOutputOrigin([bounds[0],bounds[1],0])\n",
    "pol2stenc.SetOutputSpacing([1,1,1])\n",
    "pol2stenc.SetOutputWholeExtent(whiteImage.GetExtent())\n",
    "pol2stenc.Update()\n",
    "\n",
    "imgstenc = vtk.vtkImageStencil()\n",
    "imgstenc.SetInputData(whiteImage)\n",
    "imgstenc.SetStencilConnection(pol2stenc.GetOutputPort())\n",
    "imgstenc.ReverseStencilOff()\n",
    "imgstenc.SetBackgroundValue(outval)\n",
    "imgstenc.Update()\n",
    "\n",
    "imageWriter = vtk.vtkMetaImageWriter()\n",
    "imageWriter.SetFileName(\"labelImage.mhd\")\n",
    "imageWriter.SetInputConnection(imgstenc.GetOutputPort())\n",
    "imageWriter.Write()"
   ]
  },
  {
   "cell_type": "code",
   "execution_count": null,
   "metadata": {
    "ExecuteTime": {
     "end_time": "2020-04-26T03:23:01.281177Z",
     "start_time": "2020-04-26T03:23:01.270926Z"
    },
    "collapsed": true
   },
   "outputs": [],
   "source": [
    "Surface(polydata=surf).write_surface_mesh(output_path+'plane.vtk')"
   ]
  },
  {
   "cell_type": "code",
   "execution_count": null,
   "metadata": {
    "ExecuteTime": {
     "end_time": "2020-04-26T03:20:04.156589Z",
     "start_time": "2020-04-26T03:20:04.142446Z"
    },
    "collapsed": true
   },
   "outputs": [],
   "source": [
    "surf.get_intersection_plane(30)\n"
   ]
  },
  {
   "cell_type": "code",
   "execution_count": null,
   "metadata": {
    "ExecuteTime": {
     "end_time": "2020-04-25T20:15:32.073124Z",
     "start_time": "2020-04-25T20:15:32.063602Z"
    },
    "collapsed": true
   },
   "outputs": [],
   "source": [
    "Landmarks(pts=s1_bb_pts).write_landmarks(output_path+'s1_bb_pts')"
   ]
  },
  {
   "cell_type": "code",
   "execution_count": null,
   "metadata": {
    "ExecuteTime": {
     "end_time": "2020-04-20T07:56:42.222107Z",
     "start_time": "2020-04-20T07:50:24.447Z"
    },
    "collapsed": true
   },
   "outputs": [],
   "source": [
    "intersectoin_plane = Surface(polydata=vm1_cube.get_intersection_plane((sec_num-1) * z_cood_offset))\n",
    "intersectoin_plane.surface.GetPoints().GetPoint(0)\n",
    "pt1 = [int(GetPoint(0)[0]/XY_RES),int(GetPoint(0)[1])]\n",
    "pt2 = [int(GetPoint(1)[0]/XY_RES),int(GetPoint(1)[1])]\n",
    "pt3 = [int(GetPoint(2)[0]/XY_RES),int(GetPoint(2)[1])]\n",
    "pt4 = [int(GetPoint(3)[0]/XY_RES),int(GetPoint(3)[1])]\n",
    "\n",
    "\n",
    "# boundary check and clip if exceeding image boudaries\n",
    "if pt1 < 0:\n",
    "    lower[0] = 0\n",
    "if lower[1] < 0:\n",
    "    lower[1] = 0\n",
    "if upper[0] > im.GetWidth():\n",
    "    upper[0] = im.GetWidth()\n",
    "if upper[1] > im.GetHeight():\n",
    "    upper[1] = im.GetHeight()"
   ]
  },
  {
   "cell_type": "code",
   "execution_count": null,
   "metadata": {
    "ExecuteTime": {
     "end_time": "2020-04-20T06:52:18.957180Z",
     "start_time": "2020-04-20T06:52:18.948276Z"
    },
    "collapsed": true
   },
   "outputs": [],
   "source": [
    "5000/XY_RES,1200/XY_RES"
   ]
  },
  {
   "cell_type": "code",
   "execution_count": null,
   "metadata": {
    "ExecuteTime": {
     "end_time": "2020-04-20T05:50:19.921219Z",
     "start_time": "2020-04-20T05:50:18.223953Z"
    },
    "collapsed": true
   },
   "outputs": [],
   "source": [
    "im = sitk.ReadImage(images_path+'S{}_01.tif'.format(sec_num))\n",
    "transform = sitk.Transform()\n",
    "transform.SetParameters(tx_mat)\n",
    "txed_im = sitk.Resample(im,  transform, sitk.sitkLinear, 0.0, sitk.sitkUInt8)\n",
    "sitk.WriteImage(txed_im,output_path+'S{}.tif'.format(sec_num))"
   ]
  },
  {
   "cell_type": "code",
   "execution_count": null,
   "metadata": {
    "ExecuteTime": {
     "end_time": "2020-04-20T06:11:43.340842Z",
     "start_time": "2020-04-20T06:11:43.335348Z"
    },
    "collapsed": true
   },
   "outputs": [],
   "source": [
    "transform = sitk.Euler2DTransform()\n",
    "transform.SetTranslation([2592.38,532.041])\n",
    "transform.SetParameters([tx_mat[0],tx_mat[4],tx_mat[1],tx_mat[5]])"
   ]
  },
  {
   "cell_type": "code",
   "execution_count": null,
   "metadata": {
    "ExecuteTime": {
     "end_time": "2020-04-20T06:11:46.536575Z",
     "start_time": "2020-04-20T06:11:44.153008Z"
    },
    "collapsed": true
   },
   "outputs": [],
   "source": [
    "im = sitk.ReadImage(images_path+'S{}_01.tif'.format(sec_num))\n",
    "fil = sitk.ResampleImageFilter()\n",
    "fil.SetInterpolator(sitk.sitkLinear)\n",
    "fil.SetTransform(transform)\n",
    "fil.SetDefaultPixelValue(0)\n",
    "fil.SetOutputPixelType(sitk.sitkUInt8)\n",
    "fil.SetSize([im.GetWidth()+2000,im.GetHeight()+2000])\n",
    "#fil.SetOutputOrigin([-2592.38,-532.041,0])\n",
    "#fil.SetOutputDirection()\n",
    "txed_im = fil.Execute(im)\n",
    "sitk.WriteImage(txed_im,output_path+'S{}.tif'.format(sec_num))"
   ]
  },
  {
   "cell_type": "code",
   "execution_count": null,
   "metadata": {
    "ExecuteTime": {
     "end_time": "2020-04-20T05:51:52.360601Z",
     "start_time": "2020-04-20T05:51:52.344349Z"
    },
    "collapsed": true
   },
   "outputs": [],
   "source": [
    "tx_mat"
   ]
  },
  {
   "cell_type": "code",
   "execution_count": null,
   "metadata": {
    "ExecuteTime": {
     "end_time": "2020-04-20T06:03:58.881091Z",
     "start_time": "2020-04-20T06:03:58.873072Z"
    },
    "collapsed": true
   },
   "outputs": [],
   "source": [
    "tx_mat[0],tx_mat[1],tx_mat[4],tx_mat[5]"
   ]
  },
  {
   "cell_type": "code",
   "execution_count": null,
   "metadata": {
    "ExecuteTime": {
     "end_time": "2020-04-20T07:48:32.933178Z",
     "start_time": "2020-04-20T07:48:28.496234Z"
    },
    "collapsed": true
   },
   "outputs": [],
   "source": []
  },
  {
   "cell_type": "code",
   "execution_count": null,
   "metadata": {
    "collapsed": true
   },
   "outputs": [],
   "source": []
  }
 ],
 "metadata": {
  "kernelspec": {
   "display_name": "Python 3",
   "language": "python",
   "name": "python3"
  },
  "language_info": {
   "codemirror_mode": {
    "name": "ipython",
    "version": 3
   },
   "file_extension": ".py",
   "mimetype": "text/x-python",
   "name": "python",
   "nbconvert_exporter": "python",
   "pygments_lexer": "ipython3",
   "version": "3.6.6"
  },
  "toc": {
   "base_numbering": 1,
   "nav_menu": {},
   "number_sections": true,
   "sideBar": true,
   "skip_h1_title": false,
   "title_cell": "Table of Contents",
   "title_sidebar": "Contents",
   "toc_cell": false,
   "toc_position": {},
   "toc_section_display": true,
   "toc_window_display": false
  }
 },
 "nbformat": 4,
 "nbformat_minor": 2
}
