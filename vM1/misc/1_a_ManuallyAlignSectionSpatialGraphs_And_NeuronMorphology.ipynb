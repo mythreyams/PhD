{
 "cells": [
  {
   "cell_type": "code",
   "execution_count": 1,
   "metadata": {
    "ExecuteTime": {
     "end_time": "2020-05-12T21:22:25.689540Z",
     "start_time": "2020-05-12T21:22:24.394395Z"
    },
    "collapsed": true
   },
   "outputs": [],
   "source": [
    "import sys\n",
    "import os\n",
    "sys.path.insert(0,os.path.abspath('..'))\n",
    "from spatial_graphs.AmiraSpatialGraph import AmiraSpatialGraph,SpatialGraphData\n",
    "import pathlib\n",
    "import glob\n",
    "import numpy as np"
   ]
  },
  {
   "cell_type": "code",
   "execution_count": 2,
   "metadata": {
    "ExecuteTime": {
     "end_time": "2020-05-12T21:22:25.704820Z",
     "start_time": "2020-05-12T21:22:25.692183Z"
    },
    "collapsed": true
   },
   "outputs": [],
   "source": [
    "def get_tx_mat_from_hx_file(file, lines):\n",
    "    str_to_compare = '\"'+os.path.basename(file)+'\"'+ ' setTransform '\n",
    "    tx_mat = []\n",
    "    tx_mat_np = np.array([[1,0,0,0],[0,1,0,0],[0,0,1,0],[0,0,0,1]]).reshape(4,4)\n",
    "    for line in lines:\n",
    "        if line.startswith(str_to_compare):\n",
    "            #tx_mat = (line[len(str_to_compare):-1].split(' '))\n",
    "            for num in (line[len(str_to_compare):-1].split(' ')):\n",
    "                tx_mat.append(float(num))\n",
    "            tx_mat_np = np.array(tx_mat).reshape(4,4)\n",
    "            break\n",
    "        \n",
    "    return tx_mat_np"
   ]
  },
  {
   "cell_type": "code",
   "execution_count": 91,
   "metadata": {
    "ExecuteTime": {
     "end_time": "2020-03-31T12:25:12.273228Z",
     "start_time": "2020-03-31T12:25:12.262409Z"
    },
    "collapsed": true
   },
   "outputs": [],
   "source": [
    "# basepath = '/nas1/MotorCortex/Data/2_Morphologies_ASCs_and_Hocs/Finalround_newly_added/RA_20160307/'\n",
    "# animal_name = 'RA_20160307_4x_for_merge'\n",
    "\n",
    "# cell_name = ''\n",
    "\n",
    "# full_path = basepath + animal_name + '/' + cell_name  + 'ascii/'\n",
    "\n",
    "# file_pattern = 'S{:02d}*.am'\n",
    "\n",
    "# tx_file = basepath + animal_name + '/' + cell_name + 'Untitled2.hx'\n",
    "\n",
    "# op_path = '/nas1/Data_Mythreya/MotorCortexProject/Auto_Merged_Spatial_Graphs/'\n",
    "\n",
    "# pathlib.Path(op_path).mkdir(exist_ok=True)\n",
    "\n",
    "#path = path + 'ascii/'\n",
    "\n",
    "\n"
   ]
  },
  {
   "cell_type": "code",
   "execution_count": null,
   "metadata": {
    "collapsed": true
   },
   "outputs": [],
   "source": [
    "#\n",
    "tx_file = '/nas1/Data_Mythreya/MotorCortexProject/V2/0_Inputs/SpatialGraphs/Section_Graphs/Rabies/{}/contours/aligntobarrel.hx'.format(animal_name)\n",
    "\n",
    "rabies_landmarks_path = '/nas1/Data_Mythreya/MotorCortexProject/V2/0_Inputs/SpatialGraphs/Section_Graphs/Rabies/{}/rabies/'.format(animal_name)\n",
    "neun_landmarks_path = '/nas1/Data_Mythreya/MotorCortexProject/V0/0_Inputs/Landmarks/Manual/Rabies/NeuN/{}/'.format(animal_name)\n"
   ]
  },
  {
   "cell_type": "code",
   "execution_count": 96,
   "metadata": {
    "ExecuteTime": {
     "end_time": "2020-03-31T12:25:38.781149Z",
     "start_time": "2020-03-31T12:25:35.962448Z"
    },
    "scrolled": true
   },
   "outputs": [
    {
     "name": "stdout",
     "output_type": "stream",
     "text": [
      "/nas1/MotorCortex/Data/2_Morphologies_ASCs_and_Hocs/Finalround_newly_added/RA_20160307/RA_20160307_4x_for_merge/ascii/S01.am\n",
      "[[ 9.71817e-01  2.35734e-01  0.00000e+00  0.00000e+00]\n",
      " [-2.35734e-01  9.71817e-01  0.00000e+00  0.00000e+00]\n",
      " [ 0.00000e+00  0.00000e+00  1.00000e+00  0.00000e+00]\n",
      " [ 9.42027e+02 -7.10669e+02 -3.81470e-06  1.00000e+00]]\n",
      "0\n",
      "/nas1/MotorCortex/Data/2_Morphologies_ASCs_and_Hocs/Finalround_newly_added/RA_20160307/RA_20160307_4x_for_merge/ascii/S02.am\n",
      "[[ 9.80600e-01  1.96020e-01  0.00000e+00  0.00000e+00]\n",
      " [-1.96020e-01  9.80600e-01  0.00000e+00  0.00000e+00]\n",
      " [ 0.00000e+00  0.00000e+00  9.99999e-01  0.00000e+00]\n",
      " [ 7.81992e+02 -2.24623e+03  1.00000e+02  1.00000e+00]]\n",
      "0\n",
      "/nas1/MotorCortex/Data/2_Morphologies_ASCs_and_Hocs/Finalround_newly_added/RA_20160307/RA_20160307_4x_for_merge/ascii/S03.am\n",
      "[[ 9.52513e-01  3.04498e-01  0.00000e+00  0.00000e+00]\n",
      " [-3.04498e-01  9.52513e-01  0.00000e+00  0.00000e+00]\n",
      " [ 0.00000e+00  0.00000e+00  1.00000e+00  0.00000e+00]\n",
      " [ 1.76556e+03 -2.83136e+03  2.00000e+02  1.00000e+00]]\n",
      "0\n",
      "/nas1/MotorCortex/Data/2_Morphologies_ASCs_and_Hocs/Finalround_newly_added/RA_20160307/RA_20160307_4x_for_merge/ascii/S04.am\n",
      "[[ 9.86528e-01  1.63593e-01  0.00000e+00  0.00000e+00]\n",
      " [-1.63593e-01  9.86528e-01  0.00000e+00  0.00000e+00]\n",
      " [ 0.00000e+00  0.00000e+00  1.00000e+00  0.00000e+00]\n",
      " [ 8.96030e+02 -2.72512e+03  3.00000e+02  1.00000e+00]]\n",
      "0\n",
      "/nas1/MotorCortex/Data/2_Morphologies_ASCs_and_Hocs/Finalround_newly_added/RA_20160307/RA_20160307_4x_for_merge/ascii/S05.am\n",
      "[[ 9.78343e-01  2.06993e-01  0.00000e+00  0.00000e+00]\n",
      " [-2.06993e-01  9.78343e-01  0.00000e+00  0.00000e+00]\n",
      " [ 0.00000e+00  0.00000e+00  1.00000e+00  0.00000e+00]\n",
      " [ 1.51535e+03 -3.91268e+03  4.00000e+02  1.00000e+00]]\n",
      "0\n",
      "/nas1/MotorCortex/Data/2_Morphologies_ASCs_and_Hocs/Finalround_newly_added/RA_20160307/RA_20160307_4x_for_merge/ascii/S06.am\n",
      "[[ 9.64836e-01  2.62853e-01  0.00000e+00  0.00000e+00]\n",
      " [-2.62853e-01  9.64836e-01  0.00000e+00  0.00000e+00]\n",
      " [ 0.00000e+00  0.00000e+00  1.00000e+00  0.00000e+00]\n",
      " [ 2.03337e+03 -4.20878e+03  5.00000e+02  1.00000e+00]]\n",
      "0\n",
      "/nas1/MotorCortex/Data/2_Morphologies_ASCs_and_Hocs/Finalround_newly_added/RA_20160307/RA_20160307_4x_for_merge/ascii/S07.am\n",
      "[[ 9.99400e-01  3.46239e-02  0.00000e+00  0.00000e+00]\n",
      " [-3.46239e-02  9.99400e-01  0.00000e+00  0.00000e+00]\n",
      " [ 0.00000e+00  0.00000e+00  1.00000e+00  0.00000e+00]\n",
      " [ 1.42861e+02 -4.06755e+03  6.00000e+02  1.00000e+00]]\n",
      "0\n",
      "/nas1/MotorCortex/Data/2_Morphologies_ASCs_and_Hocs/Finalround_newly_added/RA_20160307/RA_20160307_4x_for_merge/ascii/S08.am\n",
      "[[ 9.96142e-01  8.77521e-02  0.00000e+00  0.00000e+00]\n",
      " [-8.77521e-02  9.96142e-01  0.00000e+00  0.00000e+00]\n",
      " [ 0.00000e+00  0.00000e+00  1.00000e+00  0.00000e+00]\n",
      " [ 8.70896e+02 -5.07295e+03  7.00000e+02  1.00000e+00]]\n",
      "0\n",
      "/nas1/MotorCortex/Data/2_Morphologies_ASCs_and_Hocs/Finalround_newly_added/RA_20160307/RA_20160307_4x_for_merge/ascii/S09.am\n",
      "[[ 9.94952e-01  1.00357e-01  0.00000e+00  0.00000e+00]\n",
      " [-1.00357e-01  9.94952e-01  0.00000e+00  0.00000e+00]\n",
      " [ 0.00000e+00  0.00000e+00  1.00000e+00  0.00000e+00]\n",
      " [-5.86705e+02 -4.43097e+03  8.00000e+02  1.00000e+00]]\n",
      "0\n",
      "/nas1/MotorCortex/Data/2_Morphologies_ASCs_and_Hocs/Finalround_newly_added/RA_20160307/RA_20160307_4x_for_merge/ascii/S10.am\n",
      "[[ 9.97093e-01  7.61933e-02  0.00000e+00  0.00000e+00]\n",
      " [-7.61933e-02  9.97093e-01  0.00000e+00  0.00000e+00]\n",
      " [ 0.00000e+00  0.00000e+00  1.00000e+00  0.00000e+00]\n",
      " [-6.82529e+02 -4.86324e+03  9.00000e+02  1.00000e+00]]\n",
      "0\n",
      "/nas1/MotorCortex/Data/2_Morphologies_ASCs_and_Hocs/Finalround_newly_added/RA_20160307/RA_20160307_4x_for_merge/ascii/S11.am\n",
      "[[ 9.66463e-01 -2.56801e-01  0.00000e+00  0.00000e+00]\n",
      " [ 2.56801e-01  9.66463e-01  0.00000e+00  0.00000e+00]\n",
      " [ 0.00000e+00  0.00000e+00  1.00000e+00  0.00000e+00]\n",
      " [-3.53085e+03 -2.86403e+03  1.00000e+03  1.00000e+00]]\n",
      "0\n",
      "/nas1/MotorCortex/Data/2_Morphologies_ASCs_and_Hocs/Finalround_newly_added/RA_20160307/RA_20160307_4x_for_merge/ascii/S12.am\n",
      "[[ 9.93377e-01  1.14903e-01  0.00000e+00  0.00000e+00]\n",
      " [-1.14903e-01  9.93377e-01  0.00000e+00  0.00000e+00]\n",
      " [ 0.00000e+00  0.00000e+00  1.00000e+00  0.00000e+00]\n",
      " [-4.31780e+02 -4.85596e+03  1.10000e+03  1.00000e+00]]\n",
      "0\n",
      "/nas1/MotorCortex/Data/2_Morphologies_ASCs_and_Hocs/Finalround_newly_added/RA_20160307/RA_20160307_4x_for_merge/ascii/S13.am\n",
      "[[ 9.96023e-01  8.90982e-02  0.00000e+00  0.00000e+00]\n",
      " [-8.90982e-02  9.96023e-01  0.00000e+00  0.00000e+00]\n",
      " [ 0.00000e+00  0.00000e+00  1.00000e+00  0.00000e+00]\n",
      " [-6.98979e+02 -4.79729e+03  1.20000e+03  1.00000e+00]]\n",
      "0\n",
      "/nas1/MotorCortex/Data/2_Morphologies_ASCs_and_Hocs/Finalround_newly_added/RA_20160307/RA_20160307_4x_for_merge/ascii/S14.am\n",
      "[[ 9.99563e-01 -2.95614e-02  0.00000e+00  0.00000e+00]\n",
      " [ 2.95614e-02  9.99563e-01  0.00000e+00  0.00000e+00]\n",
      " [ 0.00000e+00  0.00000e+00  1.00000e+00  0.00000e+00]\n",
      " [-1.64957e+03 -4.46241e+03  1.30000e+03  1.00000e+00]]\n",
      "0\n",
      "/nas1/MotorCortex/Data/2_Morphologies_ASCs_and_Hocs/Finalround_newly_added/RA_20160307/RA_20160307_4x_for_merge/ascii/S15.am\n",
      "[[ 9.99490e-01  3.19132e-02  0.00000e+00  0.00000e+00]\n",
      " [-3.19132e-02  9.99490e-01  0.00000e+00  0.00000e+00]\n",
      " [ 0.00000e+00  0.00000e+00  1.00000e+00  0.00000e+00]\n",
      " [-1.19651e+03 -4.56736e+03  1.40000e+03  1.00000e+00]]\n",
      "0\n",
      "/nas1/MotorCortex/Data/2_Morphologies_ASCs_and_Hocs/Finalround_newly_added/RA_20160307/RA_20160307_4x_for_merge/ascii/S16.am\n",
      "[[ 9.95009e-01  9.97836e-02  0.00000e+00  0.00000e+00]\n",
      " [-9.97836e-02  9.95009e-01  0.00000e+00  0.00000e+00]\n",
      " [ 0.00000e+00  0.00000e+00  1.00000e+00  0.00000e+00]\n",
      " [-7.35926e+02 -5.14108e+03  1.50000e+03  1.00000e+00]]\n",
      "0\n",
      "/nas1/MotorCortex/Data/2_Morphologies_ASCs_and_Hocs/Finalround_newly_added/RA_20160307/RA_20160307_4x_for_merge/ascii/S17.am\n",
      "[[ 9.99994e-01 -3.45266e-03  0.00000e+00  0.00000e+00]\n",
      " [ 3.45266e-03  9.99994e-01  0.00000e+00  0.00000e+00]\n",
      " [ 0.00000e+00  0.00000e+00  1.00000e+00  0.00000e+00]\n",
      " [-1.38579e+03 -4.37541e+03  1.60000e+03  1.00000e+00]]\n",
      "0\n",
      "/nas1/MotorCortex/Data/2_Morphologies_ASCs_and_Hocs/Finalround_newly_added/RA_20160307/RA_20160307_4x_for_merge/ascii/S18.am\n",
      "[[ 9.99673e-01  2.55752e-02  0.00000e+00  0.00000e+00]\n",
      " [-2.55752e-02  9.99673e-01  0.00000e+00  0.00000e+00]\n",
      " [ 0.00000e+00  0.00000e+00  1.00000e+00  0.00000e+00]\n",
      " [-1.14100e+03 -4.41346e+03  1.70000e+03  1.00000e+00]]\n",
      "0\n",
      "/nas1/MotorCortex/Data/2_Morphologies_ASCs_and_Hocs/Finalround_newly_added/RA_20160307/RA_20160307_4x_for_merge/ascii/S19.am\n",
      "[[ 9.78517e-01 -2.06165e-01  0.00000e+00  0.00000e+00]\n",
      " [ 2.06165e-01  9.78517e-01  0.00000e+00  0.00000e+00]\n",
      " [ 0.00000e+00  0.00000e+00  1.00000e+00  0.00000e+00]\n",
      " [-2.67531e+03 -3.11905e+03  1.80000e+03  1.00000e+00]]\n",
      "0\n",
      "/nas1/MotorCortex/Data/2_Morphologies_ASCs_and_Hocs/Finalround_newly_added/RA_20160307/RA_20160307_4x_for_merge/ascii/S20.am\n",
      "[[ 9.94880e-01  1.01060e-01  0.00000e+00  0.00000e+00]\n",
      " [-1.01060e-01  9.94880e-01  0.00000e+00  0.00000e+00]\n",
      " [ 0.00000e+00  0.00000e+00  1.00000e+00  0.00000e+00]\n",
      " [-4.26697e+02 -5.05089e+03  1.90000e+03  1.00000e+00]]\n",
      "0\n",
      "/nas1/MotorCortex/Data/2_Morphologies_ASCs_and_Hocs/Finalround_newly_added/RA_20160307/RA_20160307_4x_for_merge/ascii/S21.am\n",
      "[[ 9.92861e-01  1.19273e-01  0.00000e+00  0.00000e+00]\n",
      " [-1.19273e-01  9.92861e-01  0.00000e+00  0.00000e+00]\n",
      " [ 0.00000e+00  0.00000e+00  1.00000e+00  0.00000e+00]\n",
      " [-5.05683e+02 -5.02406e+03  2.00000e+03  1.00000e+00]]\n",
      "0\n",
      "/nas1/MotorCortex/Data/2_Morphologies_ASCs_and_Hocs/Finalround_newly_added/RA_20160307/RA_20160307_4x_for_merge/ascii/S22.am\n",
      "[[ 9.97855e-01  6.54695e-02  0.00000e+00  0.00000e+00]\n",
      " [-6.54695e-02  9.97855e-01  0.00000e+00  0.00000e+00]\n",
      " [ 0.00000e+00  0.00000e+00  1.00000e+00  0.00000e+00]\n",
      " [-6.39374e+02 -5.01264e+03  2.10000e+03  1.00000e+00]]\n",
      "0\n",
      "/nas1/MotorCortex/Data/2_Morphologies_ASCs_and_Hocs/Finalround_newly_added/RA_20160307/RA_20160307_4x_for_merge/ascii/S23.am\n",
      "[[ 9.97070e-01  7.65001e-02  0.00000e+00  0.00000e+00]\n",
      " [-7.65001e-02  9.97070e-01  0.00000e+00  0.00000e+00]\n",
      " [ 0.00000e+00  0.00000e+00  1.00000e+00  0.00000e+00]\n",
      " [-6.96403e+02 -5.08321e+03  2.20000e+03  1.00000e+00]]\n",
      "0\n",
      "/nas1/MotorCortex/Data/2_Morphologies_ASCs_and_Hocs/Finalround_newly_added/RA_20160307/RA_20160307_4x_for_merge/ascii/S24.am\n",
      "[[ 1.00000e+00  0.00000e+00  0.00000e+00  0.00000e+00]\n",
      " [ 0.00000e+00  1.00000e+00  0.00000e+00  0.00000e+00]\n",
      " [ 0.00000e+00  0.00000e+00  1.00000e+00  0.00000e+00]\n",
      " [-1.27122e+03 -4.51494e+03  2.30000e+03  1.00000e+00]]\n",
      "0\n",
      "/nas1/MotorCortex/Data/2_Morphologies_ASCs_and_Hocs/Finalround_newly_added/RA_20160307/RA_20160307_4x_for_merge/ascii/S25.am\n",
      "[[ 9.98846e-01  4.80182e-02  0.00000e+00  0.00000e+00]\n",
      " [-4.80182e-02  9.98846e-01  0.00000e+00  0.00000e+00]\n",
      " [ 0.00000e+00  0.00000e+00  1.00000e+00  0.00000e+00]\n",
      " [-1.04731e+03 -4.61847e+03  2.40000e+03  1.00000e+00]]\n",
      "0\n",
      "/nas1/MotorCortex/Data/2_Morphologies_ASCs_and_Hocs/Finalround_newly_added/RA_20160307/RA_20160307_4x_for_merge/ascii/S26.am\n",
      "[[ 9.82178e-01  1.87952e-01  0.00000e+00  0.00000e+00]\n",
      " [-1.87952e-01  9.82178e-01  0.00000e+00  0.00000e+00]\n",
      " [ 0.00000e+00  0.00000e+00  1.00000e+00  0.00000e+00]\n",
      " [ 3.96530e+02 -5.04589e+03  2.50000e+03  1.00000e+00]]\n",
      "0\n",
      "/nas1/MotorCortex/Data/2_Morphologies_ASCs_and_Hocs/Finalround_newly_added/RA_20160307/RA_20160307_4x_for_merge/ascii/S27.am\n",
      "[[ 9.98627e-01  5.23762e-02  0.00000e+00  0.00000e+00]\n",
      " [-5.23762e-02  9.98627e-01  0.00000e+00  0.00000e+00]\n",
      " [ 0.00000e+00  0.00000e+00  1.00000e+00  0.00000e+00]\n",
      " [-1.10543e+03 -4.61537e+03  2.60000e+03  1.00000e+00]]\n",
      "0\n",
      "/nas1/MotorCortex/Data/2_Morphologies_ASCs_and_Hocs/Finalround_newly_added/RA_20160307/RA_20160307_4x_for_merge/ascii/S28.am\n",
      "[[ 9.98524e-01 -5.43212e-02  0.00000e+00  0.00000e+00]\n",
      " [ 5.43212e-02  9.98524e-01  0.00000e+00  0.00000e+00]\n",
      " [ 0.00000e+00  0.00000e+00  1.00000e+00  0.00000e+00]\n",
      " [-1.84962e+03 -3.93555e+03  2.70000e+03  1.00000e+00]]\n",
      "0\n",
      "/nas1/MotorCortex/Data/2_Morphologies_ASCs_and_Hocs/Finalround_newly_added/RA_20160307/RA_20160307_4x_for_merge/ascii/S29.am\n"
     ]
    },
    {
     "name": "stdout",
     "output_type": "stream",
     "text": [
      "[[ 9.91716e-01 -1.28452e-01  0.00000e+00  0.00000e+00]\n",
      " [ 1.28452e-01  9.91716e-01  0.00000e+00  0.00000e+00]\n",
      " [ 0.00000e+00  0.00000e+00  1.00000e+00  0.00000e+00]\n",
      " [-2.45370e+03 -3.47043e+03  2.80000e+03  1.00000e+00]]\n",
      "0\n",
      "/nas1/MotorCortex/Data/2_Morphologies_ASCs_and_Hocs/Finalround_newly_added/RA_20160307/RA_20160307_4x_for_merge/ascii/S30.am\n",
      "[[ 1.00000e+00  0.00000e+00  0.00000e+00  0.00000e+00]\n",
      " [ 0.00000e+00  1.00000e+00  0.00000e+00  0.00000e+00]\n",
      " [ 0.00000e+00  0.00000e+00  1.00000e+00  0.00000e+00]\n",
      " [-2.93266e+03 -5.28821e+03  2.90000e+03  1.00000e+00]]\n",
      "0\n",
      "/nas1/MotorCortex/Data/2_Morphologies_ASCs_and_Hocs/Finalround_newly_added/RA_20160307/RA_20160307_4x_for_merge/ascii/S31.am\n",
      "[[ 9.90656e-01  1.36387e-01  0.00000e+00  0.00000e+00]\n",
      " [-1.36387e-01  9.90656e-01  0.00000e+00  0.00000e+00]\n",
      " [ 0.00000e+00  0.00000e+00  1.00000e+00  0.00000e+00]\n",
      " [-2.04810e+03 -6.26235e+03  3.00000e+03  1.00000e+00]]\n",
      "0\n",
      "/nas1/MotorCortex/Data/2_Morphologies_ASCs_and_Hocs/Finalround_newly_added/RA_20160307/RA_20160307_4x_for_merge/ascii/S32.am\n",
      "[[ 9.93562e-01 -1.13290e-01  0.00000e+00  0.00000e+00]\n",
      " [ 1.13290e-01  9.93562e-01  0.00000e+00  0.00000e+00]\n",
      " [ 0.00000e+00  0.00000e+00  1.00000e+00  0.00000e+00]\n",
      " [-4.02499e+03 -4.37900e+03  3.10000e+03  1.00000e+00]]\n",
      "0\n",
      "/nas1/MotorCortex/Data/2_Morphologies_ASCs_and_Hocs/Finalround_newly_added/RA_20160307/RA_20160307_4x_for_merge/ascii/S33.am\n",
      "[[ 9.93261e-01  1.15901e-01  0.00000e+00  0.00000e+00]\n",
      " [-1.15901e-01  9.93261e-01  0.00000e+00  0.00000e+00]\n",
      " [ 0.00000e+00  0.00000e+00  1.00000e+00  0.00000e+00]\n",
      " [-1.97996e+03 -6.41986e+03  3.20000e+03  1.00000e+00]]\n",
      "0\n",
      "/nas1/MotorCortex/Data/2_Morphologies_ASCs_and_Hocs/Finalround_newly_added/RA_20160307/RA_20160307_4x_for_merge/ascii/S34.am\n",
      "[[ 9.85719e-01 -1.68398e-01  0.00000e+00  0.00000e+00]\n",
      " [ 1.68398e-01  9.85719e-01  0.00000e+00  0.00000e+00]\n",
      " [ 0.00000e+00  0.00000e+00  9.99999e-01  0.00000e+00]\n",
      " [-5.02075e+03 -4.05326e+03  3.30000e+03  1.00000e+00]]\n",
      "0\n",
      "/nas1/MotorCortex/Data/2_Morphologies_ASCs_and_Hocs/Finalround_newly_added/RA_20160307/RA_20160307_4x_for_merge/ascii/S35.am\n",
      "[[ 9.87544e-01 -1.57343e-01  0.00000e+00  0.00000e+00]\n",
      " [ 1.57343e-01  9.87544e-01  0.00000e+00  0.00000e+00]\n",
      " [ 0.00000e+00  0.00000e+00  1.00000e+00  0.00000e+00]\n",
      " [-4.63816e+03 -4.24190e+03  3.40000e+03  1.00000e+00]]\n",
      "0\n",
      "/nas1/MotorCortex/Data/2_Morphologies_ASCs_and_Hocs/Finalround_newly_added/RA_20160307/RA_20160307_4x_for_merge/ascii/S36.am\n",
      "[[ 9.89369e-01 -1.45425e-01  0.00000e+00  0.00000e+00]\n",
      " [ 1.45425e-01  9.89369e-01  0.00000e+00  0.00000e+00]\n",
      " [ 0.00000e+00  0.00000e+00  1.00000e+00  0.00000e+00]\n",
      " [-4.66144e+03 -4.13483e+03  3.50000e+03  1.00000e+00]]\n",
      "0\n",
      "/nas1/MotorCortex/Data/2_Morphologies_ASCs_and_Hocs/Finalround_newly_added/RA_20160307/RA_20160307_4x_for_merge/ascii/S37.am\n",
      "[[ 9.92040e-01 -1.25921e-01  0.00000e+00  0.00000e+00]\n",
      " [ 1.25921e-01  9.92040e-01  0.00000e+00  0.00000e+00]\n",
      " [ 0.00000e+00  0.00000e+00  1.00000e+00  0.00000e+00]\n",
      " [-4.58671e+03 -4.64568e+03  3.60000e+03  1.00000e+00]]\n",
      "0\n",
      "/nas1/MotorCortex/Data/2_Morphologies_ASCs_and_Hocs/Finalround_newly_added/RA_20160307/RA_20160307_4x_for_merge/ascii/S38.am\n",
      "[[ 9.90783e-01 -1.35461e-01  0.00000e+00  0.00000e+00]\n",
      " [ 1.35461e-01  9.90783e-01  0.00000e+00  0.00000e+00]\n",
      " [ 0.00000e+00  0.00000e+00  1.00000e+00  0.00000e+00]\n",
      " [-4.46428e+03 -4.88292e+03  3.70000e+03  1.00000e+00]]\n",
      "0\n"
     ]
    }
   ],
   "source": [
    "sg_3d = AmiraSpatialGraph(glob.glob(full_path + file_pattern.format(1))[0],read_header_only=True)\n",
    "#landmarks3d = Landmarks()\n",
    "#landmarks3d_neun = Landmarks()\n",
    "\n",
    "z_coord = 0\n",
    "z_cood_offset = 100\n",
    "\n",
    "with open(tx_file,'r') as f:\n",
    "    lines = f.readlines()\n",
    "        \n",
    "for s in range(100):\n",
    "    if len(glob.glob(full_path + file_pattern.format(s)))>0:\n",
    "        file = glob.glob(full_path + file_pattern.format(s))[0]\n",
    "        print(file)\n",
    "        sg = AmiraSpatialGraph(file,axis_directions=[1,1,1])\n",
    "        \n",
    "\n",
    "        # read tx mat from the file\n",
    "        tx_mat_np = get_tx_mat_from_hx_file(file,lines)\n",
    "        print(tx_mat_np)\n",
    "        print(len(sg.barrels.all_rows_graphdata.edge_pt_coords))\n",
    "        #sg.set_z_coord(z_coord)\n",
    "        sg.apply_transformation((tx_mat_np),z_coord,trans_2d_only=True)\n",
    "        #sg.graph_data = sg.combine_subgraphs([sg.pia,sg.wm,\\\n",
    "        #                                               sg.bvs,sg.barrels.all_rows_graphdata,\\\n",
    "        #                                               sg.neuron.all_neurites_subgraphdata])\n",
    "        z_coord+=z_cood_offset\n",
    "\n",
    "        sg_3d.graph_data = sg_3d.combine_subgraphs([sg_3d.graph_data,sg.graph_data])\n",
    "        \n",
    "        #if z_coord == 4000:\n",
    "        #    break\n",
    "        \n",
    "# merge the neuron morph\n",
    "sg = AmiraSpatialGraph(glob.glob(full_path+'RA*.am')[0],axis_directions=[1,1,1])\n",
    "#tx_mat_np = get_tx_mat_from_hx_file(cell_name,lines)\n",
    "#print(tx_mat_np)\n",
    "#sg.set_z_coord(0)\n",
    "#sg.apply_transformation(np.transpose(tx_mat_np),z_coord,trans_2d_only=True)\n",
    "sg_3d.graph_data = sg_3d.combine_subgraphs([sg_3d.graph_data,sg.graph_data])\n",
    "\n",
    "# write it\n",
    "sg_3d.write_spatial_graph(op_path+animal_name+'_'+cell_name+'.am')\n",
    "    "
   ]
  },
  {
   "cell_type": "code",
   "execution_count": null,
   "metadata": {
    "collapsed": true
   },
   "outputs": [],
   "source": []
  },
  {
   "cell_type": "code",
   "execution_count": 60,
   "metadata": {
    "ExecuteTime": {
     "end_time": "2019-11-19T14:56:44.108671Z",
     "start_time": "2019-11-19T14:56:42.718822Z"
    },
    "collapsed": true
   },
   "outputs": [],
   "source": [
    "sg_3d.write_spatial_graph(op_path+animal_name+'_'+cell_name+'_temp.am')"
   ]
  },
  {
   "cell_type": "code",
   "execution_count": 422,
   "metadata": {
    "ExecuteTime": {
     "end_time": "2019-11-12T10:20:13.231996Z",
     "start_time": "2019-11-12T10:20:11.375297Z"
    },
    "collapsed": true
   },
   "outputs": [],
   "source": [
    "#sg.graph_data.edge_labels\n",
    "#%run AmiraSpatialGraph.ipynb\n",
    "sg_3d.write_spatial_graph(op_path+animal_name+'_'+cell_name+'.am')"
   ]
  },
  {
   "cell_type": "code",
   "execution_count": 423,
   "metadata": {
    "ExecuteTime": {
     "end_time": "2019-11-12T10:20:37.536751Z",
     "start_time": "2019-11-12T10:20:37.526968Z"
    }
   },
   "outputs": [
    {
     "data": {
      "text/plain": [
       "'/nas1/Data_Mythreya/MotorCortexProject/Auto_Merged_Spatial_Graphs/RA_20171214_1_Cell_A.am'"
      ]
     },
     "execution_count": 423,
     "metadata": {},
     "output_type": "execute_result"
    }
   ],
   "source": [
    "op_path+animal_name+'_'+cell_name+'.am'"
   ]
  },
  {
   "cell_type": "code",
   "execution_count": null,
   "metadata": {
    "collapsed": true
   },
   "outputs": [],
   "source": []
  },
  {
   "cell_type": "code",
   "execution_count": null,
   "metadata": {
    "collapsed": true
   },
   "outputs": [],
   "source": []
  },
  {
   "cell_type": "code",
   "execution_count": null,
   "metadata": {
    "collapsed": true
   },
   "outputs": [],
   "source": []
  },
  {
   "cell_type": "code",
   "execution_count": 151,
   "metadata": {
    "ExecuteTime": {
     "end_time": "2019-11-06T14:53:04.900611Z",
     "start_time": "2019-11-06T14:52:55.365727Z"
    },
    "scrolled": true
   },
   "outputs": [
    {
     "name": "stdout",
     "output_type": "stream",
     "text": [
      "/nas1/Data_Mythreya/MotorCortexProject/V4/auto_merge_test/Cell_B_contour_cell_merging/section_graphs/ascii/S01.am\n",
      "[]\n",
      "[1.0, 0.0, 0.0, 0.0, 0.0, 1.0, 0.0, 0.0, 0.0, 0.0, 1.0, 0.0, 0.0, 0.0, 100.0, 1.0]\n",
      "/nas1/Data_Mythreya/MotorCortexProject/V4/auto_merge_test/Cell_B_contour_cell_merging/section_graphs/ascii/S02.am\n",
      "[1.0, 0.0, 0.0, 0.0, 0.0, 1.0, 0.0, 0.0, 0.0, 0.0, 1.0, 0.0, 0.0, 0.0, 100.0, 1.0]\n",
      "[0.983868, 0.178893, 0.0, 0.0, -0.178893, 0.983868, 0.0, 0.0, 0.0, 0.0, 1.0, 0.0, 942.097, -1574.59, 200.0, 1.0]\n",
      "/nas1/Data_Mythreya/MotorCortexProject/V4/auto_merge_test/Cell_B_contour_cell_merging/section_graphs/ascii/S03.am\n",
      "[0.983868, 0.178893, 0.0, 0.0, -0.178893, 0.983868, 0.0, 0.0, 0.0, 0.0, 1.0, 0.0, 942.097, -1574.59, 200.0, 1.0]\n",
      "[0.990497, 0.137535, 0.0, 0.0, -0.137535, 0.990497, 0.0, 0.0, 0.0, 0.0, 1.0, 0.0, 807.53, -1754.88, 300.0, 1.0]\n",
      "/nas1/Data_Mythreya/MotorCortexProject/V4/auto_merge_test/Cell_B_contour_cell_merging/section_graphs/ascii/S04.am\n",
      "[0.990497, 0.137535, 0.0, 0.0, -0.137535, 0.990497, 0.0, 0.0, 0.0, 0.0, 1.0, 0.0, 807.53, -1754.88, 300.0, 1.0]\n",
      "[0.998264, 0.0588945, 0.0, 0.0, -0.0588945, 0.998264, 0.0, 0.0, 0.0, 0.0, 1.0, 0.0, 305.64, -1588.31, 400.0, 1.0]\n",
      "/nas1/Data_Mythreya/MotorCortexProject/V4/auto_merge_test/Cell_B_contour_cell_merging/section_graphs/ascii/S05.am\n",
      "[0.998264, 0.0588945, 0.0, 0.0, -0.0588945, 0.998264, 0.0, 0.0, 0.0, 0.0, 1.0, 0.0, 305.64, -1588.31, 400.0, 1.0]\n",
      "[0.98541, 0.170201, 0.0, 0.0, -0.170201, 0.98541, 0.0, 0.0, 0.0, 0.0, 1.0, 0.0, 1084.35, -2967.0, 500.0, 1.0]\n",
      "/nas1/Data_Mythreya/MotorCortexProject/V4/auto_merge_test/Cell_B_contour_cell_merging/section_graphs/ascii/S06.am\n",
      "[0.98541, 0.170201, 0.0, 0.0, -0.170201, 0.98541, 0.0, 0.0, 0.0, 0.0, 1.0, 0.0, 1084.35, -2967.0, 500.0, 1.0]\n",
      "[0.965639, 0.259887, 0.0, 0.0, -0.259887, 0.965639, 0.0, 0.0, 0.0, 0.0, 1.0, 0.0, 2059.22, -3206.21, 600.0, 1.0]\n",
      "/nas1/Data_Mythreya/MotorCortexProject/V4/auto_merge_test/Cell_B_contour_cell_merging/section_graphs/ascii/S07.am\n",
      "[0.965639, 0.259887, 0.0, 0.0, -0.259887, 0.965639, 0.0, 0.0, 0.0, 0.0, 1.0, 0.0, 2059.22, -3206.21, 600.0, 1.0]\n",
      "[0.995754, 0.0920514, 0.0, 0.0, -0.0920514, 0.995754, 0.0, 0.0, 0.0, 0.0, 1.0, 0.0, 763.627, -3092.29, 700.0, 1.0]\n",
      "/nas1/Data_Mythreya/MotorCortexProject/V4/auto_merge_test/Cell_B_contour_cell_merging/section_graphs/ascii/S08.am\n",
      "[0.995754, 0.0920514, 0.0, 0.0, -0.0920514, 0.995754, 0.0, 0.0, 0.0, 0.0, 1.0, 0.0, 763.627, -3092.29, 700.0, 1.0]\n",
      "[0.994344, 0.106209, 0.0, 0.0, -0.106209, 0.994344, 0.0, 0.0, 0.0, 0.0, 1.0, 0.0, -364.391, -3178.01, 800.0, 1.0]\n",
      "/nas1/Data_Mythreya/MotorCortexProject/V4/auto_merge_test/Cell_B_contour_cell_merging/section_graphs/ascii/S09.am\n",
      "[0.994344, 0.106209, 0.0, 0.0, -0.106209, 0.994344, 0.0, 0.0, 0.0, 0.0, 1.0, 0.0, -364.391, -3178.01, 800.0, 1.0]\n",
      "[0.980803, 0.194998, 0.0, 0.0, -0.194998, 0.980803, 0.0, 0.0, 0.0, 0.0, 1.0, 0.0, -415.623, -3791.18, 900.0, 1.0]\n",
      "/nas1/Data_Mythreya/MotorCortexProject/V4/auto_merge_test/Cell_B_contour_cell_merging/section_graphs/ascii/S10.am\n",
      "[0.980803, 0.194998, 0.0, 0.0, -0.194998, 0.980803, 0.0, 0.0, 0.0, 0.0, 1.0, 0.0, -415.623, -3791.18, 900.0, 1.0]\n",
      "[0.984116, 0.177527, 0.0, 0.0, -0.177527, 0.984116, 0.0, 0.0, 0.0, 0.0, 1.0, 0.0, -338.862, -4741.6, 1000.0, 1.0]\n",
      "/nas1/Data_Mythreya/MotorCortexProject/V4/auto_merge_test/Cell_B_contour_cell_merging/section_graphs/ascii/S11.am\n",
      "[0.984116, 0.177527, 0.0, 0.0, -0.177527, 0.984116, 0.0, 0.0, 0.0, 0.0, 1.0, 0.0, -338.862, -4741.6, 1000.0, 1.0]\n",
      "[0.96974, 0.24414, 0.0, 0.0, -0.24414, 0.96974, 0.0, 0.0, 0.0, 0.0, 1.0, 0.0, 253.452, -4879.88, 1100.0, 1.0]\n",
      "/nas1/Data_Mythreya/MotorCortexProject/V4/auto_merge_test/Cell_B_contour_cell_merging/section_graphs/ascii/S12.am\n",
      "[0.96974, 0.24414, 0.0, 0.0, -0.24414, 0.96974, 0.0, 0.0, 0.0, 0.0, 1.0, 0.0, 253.452, -4879.88, 1100.0, 1.0]\n",
      "[0.980341, 0.197308, 0.0, 0.0, -0.197308, 0.980341, 0.0, 0.0, 0.0, 0.0, 0.999999, 0.0, -145.065, -5025.4, 1200.0, 1.0]\n",
      "/nas1/Data_Mythreya/MotorCortexProject/V4/auto_merge_test/Cell_B_contour_cell_merging/section_graphs/ascii/S13.am\n",
      "[0.980341, 0.197308, 0.0, 0.0, -0.197308, 0.980341, 0.0, 0.0, 0.0, 0.0, 0.999999, 0.0, -145.065, -5025.4, 1200.0, 1.0]\n",
      "[0.9921, 0.125451, 0.0, 0.0, -0.125451, 0.9921, 0.0, 0.0, 0.0, 0.0, 1.0, 0.0, -515.121, -4576.87, 1300.0, 1.0]\n",
      "/nas1/Data_Mythreya/MotorCortexProject/V4/auto_merge_test/Cell_B_contour_cell_merging/section_graphs/ascii/S14.am\n",
      "[0.9921, 0.125451, 0.0, 0.0, -0.125451, 0.9921, 0.0, 0.0, 0.0, 0.0, 1.0, 0.0, -515.121, -4576.87, 1300.0, 1.0]\n",
      "[0.999433, -0.0336524, 0.0, 0.0, 0.0336524, 0.999433, 0.0, 0.0, 0.0, 0.0, 1.0, 0.0, -1776.85, -4119.18, 1400.0, 1.0]\n",
      "/nas1/Data_Mythreya/MotorCortexProject/V4/auto_merge_test/Cell_B_contour_cell_merging/section_graphs/ascii/S15.am\n",
      "[0.999433, -0.0336524, 0.0, 0.0, 0.0336524, 0.999433, 0.0, 0.0, 0.0, 0.0, 1.0, 0.0, -1776.85, -4119.18, 1400.0, 1.0]\n",
      "[0.980079, 0.198607, 0.0, 0.0, -0.198607, 0.980079, 0.0, 0.0, 0.0, 0.0, 1.0, 0.0, 353.143, -4818.31, 1500.0, 1.0]\n",
      "/nas1/Data_Mythreya/MotorCortexProject/V4/auto_merge_test/Cell_B_contour_cell_merging/section_graphs/ascii/S16.am\n",
      "[0.980079, 0.198607, 0.0, 0.0, -0.198607, 0.980079, 0.0, 0.0, 0.0, 0.0, 1.0, 0.0, 353.143, -4818.31, 1500.0, 1.0]\n",
      "[0.9986, 0.0529066, 0.0, 0.0, -0.0529066, 0.9986, 0.0, 0.0, 0.0, 0.0, 1.0, 0.0, -944.815, -4197.63, 1600.0, 1.0]\n",
      "/nas1/Data_Mythreya/MotorCortexProject/V4/auto_merge_test/Cell_B_contour_cell_merging/section_graphs/ascii/S17.am\n",
      "[0.9986, 0.0529066, 0.0, 0.0, -0.0529066, 0.9986, 0.0, 0.0, 0.0, 0.0, 1.0, 0.0, -944.815, -4197.63, 1600.0, 1.0]\n",
      "[0.984152, 0.177324, 0.0, 0.0, -0.177324, 0.984152, 0.0, 0.0, 0.0, 0.0, 1.0, 0.0, 45.4971, -4917.92, 1700.0, 1.0]\n",
      "/nas1/Data_Mythreya/MotorCortexProject/V4/auto_merge_test/Cell_B_contour_cell_merging/section_graphs/ascii/S18.am\n",
      "[0.984152, 0.177324, 0.0, 0.0, -0.177324, 0.984152, 0.0, 0.0, 0.0, 0.0, 1.0, 0.0, 45.4971, -4917.92, 1700.0, 1.0]\n",
      "[0.933014, 0.359842, 0.0, 0.0, -0.359842, 0.933014, 0.0, 0.0, 0.0, 0.0, 1.0, 0.0, 2090.3, -5311.6, 1800.0, 1.0]\n",
      "/nas1/Data_Mythreya/MotorCortexProject/V4/auto_merge_test/Cell_B_contour_cell_merging/section_graphs/ascii/S19.am\n",
      "[0.933014, 0.359842, 0.0, 0.0, -0.359842, 0.933014, 0.0, 0.0, 0.0, 0.0, 1.0, 0.0, 2090.3, -5311.6, 1800.0, 1.0]\n",
      "[0.985927, 0.167172, 0.0, 0.0, -0.167172, 0.985927, 0.0, 0.0, 0.0, 0.0, 1.0, 0.0, -157.48, -4943.42, 1900.0, 1.0]\n",
      "/nas1/Data_Mythreya/MotorCortexProject/V4/auto_merge_test/Cell_B_contour_cell_merging/section_graphs/ascii/S20.am\n",
      "[0.985927, 0.167172, 0.0, 0.0, -0.167172, 0.985927, 0.0, 0.0, 0.0, 0.0, 1.0, 0.0, -157.48, -4943.42, 1900.0, 1.0]\n",
      "[0.997262, 0.0739541, 0.0, 0.0, -0.0739541, 0.997262, 0.0, 0.0, 0.0, 0.0, 1.0, 0.0, -844.448, -4456.01, 2000.0, 1.0]\n",
      "/nas1/Data_Mythreya/MotorCortexProject/V4/auto_merge_test/Cell_B_contour_cell_merging/section_graphs/ascii/S21.am\n",
      "[0.997262, 0.0739541, 0.0, 0.0, -0.0739541, 0.997262, 0.0, 0.0, 0.0, 0.0, 1.0, 0.0, -844.448, -4456.01, 2000.0, 1.0]\n",
      "[0.999443, 0.0333581, 0.0, 0.0, -0.0333581, 0.999443, 0.0, 0.0, 0.0, 0.0, 1.0, 0.0, -1359.88, -4280.27, 2100.0, 1.0]\n",
      "/nas1/Data_Mythreya/MotorCortexProject/V4/auto_merge_test/Cell_B_contour_cell_merging/section_graphs/ascii/S22.am\n",
      "[0.999443, 0.0333581, 0.0, 0.0, -0.0333581, 0.999443, 0.0, 0.0, 0.0, 0.0, 1.0, 0.0, -1359.88, -4280.27, 2100.0, 1.0]\n",
      "[0.983703, 0.179799, 0.0, 0.0, -0.179799, 0.983703, 0.0, 0.0, 0.0, 0.0, 1.0, 0.0, 146.097, -4972.95, 2200.0, 1.0]\n",
      "/nas1/Data_Mythreya/MotorCortexProject/V4/auto_merge_test/Cell_B_contour_cell_merging/section_graphs/ascii/S23.am\n",
      "[0.983703, 0.179799, 0.0, 0.0, -0.179799, 0.983703, 0.0, 0.0, 0.0, 0.0, 1.0, 0.0, 146.097, -4972.95, 2200.0, 1.0]\n",
      "[0.992316, -0.123728, 0.0, 0.0, 0.123728, 0.992316, 0.0, 0.0, 0.0, 0.0, 1.0, 0.0, -2475.35, -3395.96, 2300.0, 1.0]\n",
      "/nas1/Data_Mythreya/MotorCortexProject/V4/auto_merge_test/Cell_B_contour_cell_merging/section_graphs/ascii/S24.am\n",
      "[0.992316, -0.123728, 0.0, 0.0, 0.123728, 0.992316, 0.0, 0.0, 0.0, 0.0, 1.0, 0.0, -2475.35, -3395.96, 2300.0, 1.0]\n",
      "[0.999759, -0.0219469, 0.0, 0.0, 0.0219469, 0.999759, 0.0, 0.0, 0.0, 0.0, 1.0, 0.0, -1586.59, -3896.77, 2400.0, 1.0]\n",
      "/nas1/Data_Mythreya/MotorCortexProject/V4/auto_merge_test/Cell_B_contour_cell_merging/section_graphs/ascii/S25.am\n",
      "[0.999759, -0.0219469, 0.0, 0.0, 0.0219469, 0.999759, 0.0, 0.0, 0.0, 0.0, 1.0, 0.0, -1586.59, -3896.77, 2400.0, 1.0]\n"
     ]
    },
    {
     "name": "stdout",
     "output_type": "stream",
     "text": [
      "[0.999645, 0.0266571, 0.0, 0.0, -0.0266571, 0.999645, 0.0, 0.0, 0.0, 0.0, 1.0, 0.0, -2128.5, -5033.76, 2500.0, 1.0]\n",
      "/nas1/Data_Mythreya/MotorCortexProject/V4/auto_merge_test/Cell_B_contour_cell_merging/section_graphs/ascii/S26.am\n",
      "[0.999645, 0.0266571, 0.0, 0.0, -0.0266571, 0.999645, 0.0, 0.0, 0.0, 0.0, 1.0, 0.0, -2128.5, -5033.76, 2500.0, 1.0]\n",
      "[1.0, 0.0, 0.0, 0.0, 0.0, 1.0, 0.0, 0.0, 0.0, 0.0, 1.0, 0.0, -3169.85, -5549.42, 2600.0, 1.0]\n",
      "/nas1/Data_Mythreya/MotorCortexProject/V4/auto_merge_test/Cell_B_contour_cell_merging/section_graphs/ascii/S27.am\n",
      "[1.0, 0.0, 0.0, 0.0, 0.0, 1.0, 0.0, 0.0, 0.0, 0.0, 1.0, 0.0, -3169.85, -5549.42, 2600.0, 1.0]\n",
      "[0.999779, 0.0210083, 0.0, 0.0, -0.0210083, 0.999779, 0.0, 0.0, 0.0, 0.0, 1.0, 0.0, -2042.79, -5675.1, 2700.0, 1.0]\n",
      "/nas1/Data_Mythreya/MotorCortexProject/V4/auto_merge_test/Cell_B_contour_cell_merging/section_graphs/ascii/S28.am\n",
      "[0.999779, 0.0210083, 0.0, 0.0, -0.0210083, 0.999779, 0.0, 0.0, 0.0, 0.0, 1.0, 0.0, -2042.79, -5675.1, 2700.0, 1.0]\n",
      "[0.999983, -0.00580025, 0.0, 0.0, 0.00580025, 0.999983, 0.0, 0.0, 0.0, 0.0, 1.0, 0.0, -3000.58, -5760.52, 2800.0, 1.0]\n",
      "/nas1/Data_Mythreya/MotorCortexProject/V4/auto_merge_test/Cell_B_contour_cell_merging/section_graphs/ascii/S29.am\n",
      "[0.999983, -0.00580025, 0.0, 0.0, 0.00580025, 0.999983, 0.0, 0.0, 0.0, 0.0, 1.0, 0.0, -3000.58, -5760.52, 2800.0, 1.0]\n",
      "[0.999972, 0.00751125, 0.0, 0.0, -0.00751125, 0.999972, 0.0, 0.0, 0.0, 0.0, 1.0, 0.0, -2494.83, -5117.84, 2900.0, 1.0]\n",
      "/nas1/Data_Mythreya/MotorCortexProject/V4/auto_merge_test/Cell_B_contour_cell_merging/section_graphs/ascii/S30.am\n",
      "[0.999972, 0.00751125, 0.0, 0.0, -0.00751125, 0.999972, 0.0, 0.0, 0.0, 0.0, 1.0, 0.0, -2494.83, -5117.84, 2900.0, 1.0]\n",
      "[0.998722, -0.0505176, 0.0, 0.0, 0.0505176, 0.998722, 0.0, 0.0, 0.0, 0.0, 1.0, 0.0, -3063.84, -5087.99, 3000.0, 1.0]\n",
      "/nas1/Data_Mythreya/MotorCortexProject/V4/auto_merge_test/Cell_B_contour_cell_merging/section_graphs/ascii/S31.am\n",
      "[0.998722, -0.0505176, 0.0, 0.0, 0.0505176, 0.998722, 0.0, 0.0, 0.0, 0.0, 1.0, 0.0, -3063.84, -5087.99, 3000.0, 1.0]\n",
      "[0.998902, -0.0468551, 0.0, 0.0, 0.0468551, 0.998902, 0.0, 0.0, 0.0, 0.0, 1.0, 0.0, -3359.47, -5320.95, 3100.0, 1.0]\n",
      "/nas1/Data_Mythreya/MotorCortexProject/V4/auto_merge_test/Cell_B_contour_cell_merging/section_graphs/ascii/S32.am\n",
      "[0.998902, -0.0468551, 0.0, 0.0, 0.0468551, 0.998902, 0.0, 0.0, 0.0, 0.0, 1.0, 0.0, -3359.47, -5320.95, 3100.0, 1.0]\n",
      "[0.99927, 0.0382137, 0.0, 0.0, -0.0382137, 0.99927, 0.0, 0.0, 0.0, 0.0, 1.0, 0.0, -2686.05, -5815.95, 3200.0, 1.0]\n",
      "/nas1/Data_Mythreya/MotorCortexProject/V4/auto_merge_test/Cell_B_contour_cell_merging/section_graphs/ascii/S33.am\n",
      "[0.99927, 0.0382137, 0.0, 0.0, -0.0382137, 0.99927, 0.0, 0.0, 0.0, 0.0, 1.0, 0.0, -2686.05, -5815.95, 3200.0, 1.0]\n",
      "[0.998949, -0.0458254, 0.0, 0.0, 0.0458254, 0.998949, 0.0, 0.0, 0.0, 0.0, 1.0, 0.0, -3279.33, -5143.6, 3300.0, 1.0]\n",
      "/nas1/Data_Mythreya/MotorCortexProject/V4/auto_merge_test/Cell_B_contour_cell_merging/section_graphs/ascii/S34.am\n",
      "[0.998949, -0.0458254, 0.0, 0.0, 0.0458254, 0.998949, 0.0, 0.0, 0.0, 0.0, 1.0, 0.0, -3279.33, -5143.6, 3300.0, 1.0]\n",
      "[0.991071, -0.133335, 0.0, 0.0, 0.133335, 0.991071, 0.0, 0.0, 0.0, 0.0, 1.0, 0.0, -4022.92, -4640.6, 3400.0, 1.0]\n",
      "/nas1/Data_Mythreya/MotorCortexProject/V4/auto_merge_test/Cell_B_contour_cell_merging/section_graphs/ascii/S35.am\n",
      "[0.991071, -0.133335, 0.0, 0.0, 0.133335, 0.991071, 0.0, 0.0, 0.0, 0.0, 1.0, 0.0, -4022.92, -4640.6, 3400.0, 1.0]\n",
      "[0.998319, 0.0579507, 0.0, 0.0, -0.0579507, 0.998319, 0.0, 0.0, 0.0, 0.0, 1.0, 0.0, -1939.04, -6110.43, 3500.0, 1.0]\n",
      "/nas1/Data_Mythreya/MotorCortexProject/V4/auto_merge_test/Cell_B_contour_cell_merging/section_graphs/ascii/S36.am\n",
      "[0.998319, 0.0579507, 0.0, 0.0, -0.0579507, 0.998319, 0.0, 0.0, 0.0, 0.0, 1.0, 0.0, -1939.04, -6110.43, 3500.0, 1.0]\n",
      "[0.999011, -0.0444634, 0.0, 0.0, 0.0444634, 0.999011, 0.0, 0.0, 0.0, 0.0, 1.0, 0.0, -3234.6, -5582.35, 3600.0, 1.0]\n",
      "/nas1/Data_Mythreya/MotorCortexProject/V4/auto_merge_test/Cell_B_contour_cell_merging/section_graphs/ascii/S37.am\n",
      "[0.999011, -0.0444634, 0.0, 0.0, 0.0444634, 0.999011, 0.0, 0.0, 0.0, 0.0, 1.0, 0.0, -3234.6, -5582.35, 3600.0, 1.0]\n",
      "[0.996698, -0.0811815, 0.0, 0.0, 0.0811815, 0.996698, 0.0, 0.0, 0.0, 0.0, 0.999998, 0.0, -3548.31, -5191.37, 3700.0, 1.0]\n",
      "/nas1/Data_Mythreya/MotorCortexProject/V4/auto_merge_test/Cell_B_contour_cell_merging/section_graphs/ascii/S38.am\n",
      "[0.996698, -0.0811815, 0.0, 0.0, 0.0811815, 0.996698, 0.0, 0.0, 0.0, 0.0, 0.999998, 0.0, -3548.31, -5191.37, 3700.0, 1.0]\n",
      "[0.999666, -0.0258264, 0.0, 0.0, 0.0258264, 0.999666, 0.0, 0.0, 0.0, 0.0, 1.0, 0.0, -3079.37, -5390.26, 3800.0, 1.0]\n",
      "/nas1/Data_Mythreya/MotorCortexProject/V4/auto_merge_test/Cell_B_contour_cell_merging/section_graphs/ascii/S39.am\n",
      "[0.999666, -0.0258264, 0.0, 0.0, 0.0258264, 0.999666, 0.0, 0.0, 0.0, 0.0, 1.0, 0.0, -3079.37, -5390.26, 3800.0, 1.0]\n",
      "[0.995262, -0.0972276, 0.0, 0.0, 0.0972276, 0.995262, 0.0, 0.0, 0.0, 0.0, 1.0, 0.0, -4028.29, -4793.13, 3900.0, 1.0]\n",
      "/nas1/Data_Mythreya/MotorCortexProject/V4/auto_merge_test/Cell_B_contour_cell_merging/section_graphs/ascii/S40.am\n",
      "[0.995262, -0.0972276, 0.0, 0.0, 0.0972276, 0.995262, 0.0, 0.0, 0.0, 0.0, 1.0, 0.0, -4028.29, -4793.13, 3900.0, 1.0]\n",
      "[0.998114, -0.0613846, 0.0, 0.0, 0.0613846, 0.998114, 0.0, 0.0, 0.0, 0.0, 1.0, 0.0, -3797.52, -5409.19, 4000.0, 1.0]\n",
      "/nas1/Data_Mythreya/MotorCortexProject/V4/auto_merge_test/Cell_B_contour_cell_merging/section_graphs/ascii/S41.am\n",
      "[0.998114, -0.0613846, 0.0, 0.0, 0.0613846, 0.998114, 0.0, 0.0, 0.0, 0.0, 1.0, 0.0, -3797.52, -5409.19, 4000.0, 1.0]\n",
      "[0.998786, -0.0492543, 0.0, 0.0, 0.0492543, 0.998786, 0.0, 0.0, 0.0, 0.0, 1.0, 0.0, -3704.88, -5050.07, 4100.0, 1.0]\n",
      "/nas1/Data_Mythreya/MotorCortexProject/V4/auto_merge_test/Cell_B_contour_cell_merging/section_graphs/ascii/S42.am\n",
      "[0.998786, -0.0492543, 0.0, 0.0, 0.0492543, 0.998786, 0.0, 0.0, 0.0, 0.0, 1.0, 0.0, -3704.88, -5050.07, 4100.0, 1.0]\n"
     ]
    }
   ],
   "source": [
    "sg_3d = AmiraSpatialGraph(glob.glob(path + file_pattern.format(1))[0],read_header_only=True)\n",
    "#landmarks3d = Landmarks()\n",
    "#landmarks3d_neun = Landmarks()\n",
    "\n",
    "z_coord = 0\n",
    "z_cood_offset = 100\n",
    "for s in range(100):\n",
    "    if len(glob.glob(path + file_pattern.format(s)))>0:\n",
    "        file = glob.glob(path + file_pattern.format(s))[0]\n",
    "        sg = AmiraSpatialGraph(file,axis_directions=[1,1,1],read_transformation_matrix=True)\n",
    "        \n",
    "        print(file)\n",
    "        print(sg.transformation_matrix)\n",
    "\n",
    "        sg.apply_transformation()\n",
    "        \n",
    "        z_coord+=z_cood_offset\n",
    "\n",
    "        #sg.set_z_coord(z_coord)\n",
    "        \n",
    "        sg_3d.graph_data = sg_3d.combine_subgraphs([sg_3d.graph_data,sg.graph_data])\n",
    "\n",
    "        \n",
    "        #if z_coord == 4000:\n",
    "        #    break\n",
    "        \n",
    "\n",
    "\n",
    "sg_3d.write_spatial_graph(op_path+'{}.am'.format(animal_name))\n",
    "    "
   ]
  },
  {
   "cell_type": "code",
   "execution_count": null,
   "metadata": {
    "collapsed": true
   },
   "outputs": [],
   "source": []
  },
  {
   "cell_type": "code",
   "execution_count": null,
   "metadata": {
    "collapsed": true
   },
   "outputs": [],
   "source": []
  },
  {
   "cell_type": "code",
   "execution_count": null,
   "metadata": {
    "collapsed": true
   },
   "outputs": [],
   "source": []
  },
  {
   "cell_type": "code",
   "execution_count": null,
   "metadata": {
    "collapsed": true
   },
   "outputs": [],
   "source": []
  },
  {
   "cell_type": "code",
   "execution_count": null,
   "metadata": {
    "collapsed": true
   },
   "outputs": [],
   "source": []
  },
  {
   "cell_type": "code",
   "execution_count": 4,
   "metadata": {
    "scrolled": true
   },
   "outputs": [
    {
     "name": "stdout",
     "output_type": "stream",
     "text": [
      "A1 Barrel height 50.0\n",
      "B1 Barrel height 100.0\n",
      "B2 Barrel height 50.0\n",
      "B3 Barrel height 100.0\n",
      "B4 Barrel height 50.0\n",
      "C1 Barrel height 50.0\n",
      "C2 Barrel height 150.0\n",
      "C3 Barrel height 100.0\n",
      "C4 Barrel height 100.0\n",
      "C5 Barrel height 50.0\n",
      "C6 Barrel height 0.0\n",
      "D1 Barrel height 0.0\n",
      "D2 Barrel height 0.0\n",
      "D3 Barrel height 0.0\n",
      "D4 Barrel height 50.0\n",
      "D5 Barrel height 50.0\n",
      "E1 Barrel height 0.0\n",
      "E2 Barrel height 0.0\n",
      "E3 Barrel height 0.0\n",
      "E4 Barrel height 0.0\n",
      "Alpha Barrel height 0.0\n",
      "Beta Barrel height 50.0\n",
      "Gamma Barrel height 50.0\n",
      "Delta Barrel height 0.0\n"
     ]
    }
   ],
   "source": [
    "#op_path = '/nas1/Data_Mythreya/MotorCortexProject/V2/0_Inputs/SpatialGraphs/Manually_Aligned/Rabies/'\n",
    "axis_direction = [1,-1,-1]\n",
    "sg_3d_mirrored = AmiraSpatialGraph(op_path+'{}.am'.format(animal_name),axis_directions=axis_direction)\n",
    "sg_3d_mirrored.write_spatial_graph(op_path+'{}.am'.format(animal_name))\n",
    "\n",
    "landmarks3d.set_axis_directions(axis=axis_direction)\n",
    "landmarks3d.write_landmarks(op_path+'{}_rabies_landmarks.LandmarkAscii'.format(animal_name))\n",
    "landmarks3d_neun.set_axis_directions(axis=axis_direction)\n",
    "landmarks3d_neun.write_landmarks(op_path+'{}_neun_landmarks.LandmarkAscii'.format(animal_name))"
   ]
  },
  {
   "cell_type": "code",
   "execution_count": null,
   "metadata": {
    "collapsed": true
   },
   "outputs": [],
   "source": []
  }
 ],
 "metadata": {
  "kernelspec": {
   "display_name": "Python 3",
   "language": "python",
   "name": "python3"
  },
  "language_info": {
   "codemirror_mode": {
    "name": "ipython",
    "version": 3
   },
   "file_extension": ".py",
   "mimetype": "text/x-python",
   "name": "python",
   "nbconvert_exporter": "python",
   "pygments_lexer": "ipython3",
   "version": "3.6.6"
  },
  "toc": {
   "base_numbering": 1,
   "nav_menu": {},
   "number_sections": true,
   "sideBar": true,
   "skip_h1_title": false,
   "title_cell": "Table of Contents",
   "title_sidebar": "Contents",
   "toc_cell": false,
   "toc_position": {},
   "toc_section_display": true,
   "toc_window_display": false
  }
 },
 "nbformat": 4,
 "nbformat_minor": 2
}
