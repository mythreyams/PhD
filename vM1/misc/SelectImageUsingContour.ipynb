{
 "cells": [
  {
   "cell_type": "code",
   "execution_count": 1,
   "metadata": {
    "ExecuteTime": {
     "end_time": "2020-08-17T13:24:10.813314Z",
     "start_time": "2020-08-17T13:24:07.091052Z"
    },
    "collapsed": true
   },
   "outputs": [],
   "source": [
    "import sys\n",
    "import os\n",
    "sys.path.insert(0,os.path.abspath('..'))\n",
    "from spatial_graphs.AmiraSpatialGraph import AmiraSpatialGraph,MatchBarrels\n",
    "from spatial_graphs.Landmarks import Landmarks\n",
    "from spatial_graphs.Surfaces import Surface\n",
    "from spatial_graphs.Vectors import Vectors\n",
    "from spatial_graphs.Alignment import Alignment\n",
    "from dask import compute,multiprocessing,delayed\n",
    "import pathlib\n",
    "import shutil\n",
    "import glob\n",
    "import pandas as pd\n",
    "import vtk\n",
    "from scipy.spatial import distance\n",
    "import numpy as np\n",
    "from sklearn.decomposition import PCA\n",
    "import SimpleITK as sitk"
   ]
  },
  {
   "cell_type": "code",
   "execution_count": null,
   "metadata": {
    "collapsed": true
   },
   "outputs": [],
   "source": []
  },
  {
   "cell_type": "code",
   "execution_count": 2,
   "metadata": {
    "ExecuteTime": {
     "end_time": "2020-08-17T13:24:10.825098Z",
     "start_time": "2020-08-17T13:24:10.816121Z"
    },
    "collapsed": true
   },
   "outputs": [],
   "source": [
    "def erode_image(im,radius):\n",
    "    erode = sitk.BinaryErodeImageFilter()\n",
    "    erode.SetKernelRadius(radius)\n",
    "    erode.SetKernelType(sitk.sitkAnnulus)\n",
    "    erode.SetBackgroundValue(0)\n",
    "    erode.SetForegroundValue(255)\n",
    "    eroded = erode.Execute(im)\n",
    "    \n",
    "    return eroded"
   ]
  },
  {
   "cell_type": "code",
   "execution_count": 111,
   "metadata": {
    "ExecuteTime": {
     "end_time": "2020-08-17T15:19:42.932364Z",
     "start_time": "2020-08-17T15:19:42.921183Z"
    },
    "collapsed": true
   },
   "outputs": [],
   "source": [
    "def convertPointsToImage2D(pts,templateimg):\n",
    "    arrim = sitk.Image(templateimg.GetWidth(),templateimg.GetHeight(),templateimg.GetPixelID())\n",
    "    #npim = sitk.GetArrayFromImage(templateimg)\n",
    "    #arr = np.zeros_like(npim,dtype=np.uint8)\n",
    "    arr = sitk.GetArrayFromImage(arrim)\n",
    "    if len(pts)>0:\n",
    "        apts = np.transpose([list(map(int,np.array(pts)[:,0])),list(map(int,np.array(pts)[:,1]))])\n",
    "        arr[apts[:,1],apts[:,0]] = 255\n",
    "    im = sitk.GetImageFromArray(arr,isVector=True)\n",
    "    print(im.GetDimension())\n",
    "    im.SetOrigin([templateimg.GetWidth(),templateimg.GetHeight()])\n",
    "    return im"
   ]
  },
  {
   "cell_type": "code",
   "execution_count": 112,
   "metadata": {
    "ExecuteTime": {
     "end_time": "2020-08-17T15:19:43.128252Z",
     "start_time": "2020-08-17T15:19:43.119694Z"
    },
    "collapsed": true
   },
   "outputs": [],
   "source": [
    "def scaleToImageCoords2D(points,XY_RESOLUTION=1,Z_RESOLUTION=1):\n",
    "    _points = np.reshape(np.array(points,dtype=np.int64),[len(points),2])\n",
    "    _points[:,0] = list(map(round,(_points[:,0] / XY_RESOLUTION)))\n",
    "    _points[:,1] = list(map(round,(_points[:,1] / XY_RESOLUTION)))\n",
    "    #_points[:,2] = list(map(round,(_points[:,2] / Z_RESOLUTION)))\n",
    "   \n",
    "    return _points"
   ]
  },
  {
   "cell_type": "code",
   "execution_count": 113,
   "metadata": {
    "ExecuteTime": {
     "end_time": "2020-08-17T15:19:43.268159Z",
     "start_time": "2020-08-17T15:19:43.253060Z"
    },
    "collapsed": true
   },
   "outputs": [],
   "source": [
    "def getMidLine(ptlist,limit):\n",
    "    newptlist = []\n",
    "    #print(ptlist)\n",
    "    if len(ptlist) < (limit/2):\n",
    "        for i in range(len(ptlist)-1):\n",
    "            newptlist.append(ptlist[i])\n",
    "            newptlist.append([(ptlist[i][0]+ptlist[i+1][0])/2,(ptlist[i][1]+ptlist[i+1][1])/2])\n",
    "        newptlist.append(ptlist[i+1])\n",
    "        ptlist = newptlist\n",
    "        #print(ptlist)\n",
    "        return getMidLine(ptlist,limit)\n",
    "        #return newptlist\n",
    "    else:\n",
    "        return (ptlist)"
   ]
  },
  {
   "cell_type": "code",
   "execution_count": 114,
   "metadata": {
    "ExecuteTime": {
     "end_time": "2020-08-17T15:19:43.456189Z",
     "start_time": "2020-08-17T15:19:43.425486Z"
    },
    "collapsed": true
   },
   "outputs": [],
   "source": [
    "def resample_contours(contours,res,downscale=1):\n",
    "    resampled_conts_list = []\n",
    "    for cnt in contours:\n",
    "        resampled_cont_list = []\n",
    "        for i in range(len(cnt)):\n",
    "            if i == len(cnt)-1:\n",
    "                pt1 = np.reshape(np.array(cnt)[i,:],[1,3])\n",
    "                pt2 = np.reshape(np.array(cnt)[0,:],[1,3])\n",
    "            else:\n",
    "                pt1 = np.reshape(np.array(cnt)[i,:],[1,3])\n",
    "                pt2 = np.reshape(np.array(cnt)[i+1,:],[1,3])\n",
    "            \n",
    "            dist = (distance.cdist(pt1,pt2))\n",
    "            num_pts_inserted = int(dist / res)\n",
    "            #print('num_pts_inserted: {}'.format(num_pts_inserted))\n",
    "            m = (pt2[:,1]-pt2[:,0]) / (pt1[:,1]-pt1[:,0])\n",
    "\n",
    "            #print('needed_{}'.format(num_pts_inserted))\n",
    "            ptlist = []\n",
    "            ptlist.append(cnt[i])\n",
    "            if i == len(cnt)-1:\n",
    "                ptlist.append(cnt[0])\n",
    "            else:\n",
    "                ptlist.append(cnt[i+1])\n",
    "            ptlist = getMidLine(ptlist,num_pts_inserted)\n",
    "            #print('added{}'.format(len(ptlist)))\n",
    "            for pt in ptlist:\n",
    "                resampled_cont_list.append([pt[0]/downscale,pt[1]/downscale,])\n",
    "        resampled_conts_list.append(resampled_cont_list)\n",
    "    return resampled_conts_list"
   ]
  },
  {
   "cell_type": "code",
   "execution_count": 115,
   "metadata": {
    "ExecuteTime": {
     "end_time": "2020-08-17T15:19:43.556349Z",
     "start_time": "2020-08-17T15:19:43.550927Z"
    },
    "collapsed": true
   },
   "outputs": [],
   "source": [
    "def dilate_image(im,radius):\n",
    "    dilate = sitk.BinaryDilateImageFilter()\n",
    "    dilate.SetKernelRadius(radius)\n",
    "    dilate.SetKernelType(sitk.sitkAnnulus)\n",
    "    dilate.SetBackgroundValue(0)\n",
    "    dilate.SetForegroundValue(255)\n",
    "    dilated = dilate.Execute(im)\n",
    "    \n",
    "    return dilated"
   ]
  },
  {
   "cell_type": "code",
   "execution_count": 116,
   "metadata": {
    "ExecuteTime": {
     "end_time": "2020-08-17T15:19:43.644166Z",
     "start_time": "2020-08-17T15:19:43.640387Z"
    },
    "collapsed": true
   },
   "outputs": [],
   "source": [
    "dilate = sitk.BinaryDilateImageFilter()"
   ]
  },
  {
   "cell_type": "code",
   "execution_count": 117,
   "metadata": {
    "ExecuteTime": {
     "end_time": "2020-08-17T15:19:43.832198Z",
     "start_time": "2020-08-17T15:19:43.825277Z"
    }
   },
   "outputs": [
    {
     "data": {
      "text/plain": [
       "<SimpleITK.SimpleITK.BinaryDilateImageFilter; proxy of <Swig Object of type 'itk::simple::BinaryDilateImageFilter *' at 0x7f0d47733c30> >"
      ]
     },
     "execution_count": 117,
     "metadata": {},
     "output_type": "execute_result"
    }
   ],
   "source": [
    "dilate"
   ]
  },
  {
   "cell_type": "code",
   "execution_count": 133,
   "metadata": {
    "ExecuteTime": {
     "end_time": "2020-08-17T15:40:27.528386Z",
     "start_time": "2020-08-17T15:40:27.517762Z"
    },
    "collapsed": true
   },
   "outputs": [],
   "source": [
    "def convertContourCoordsIntoBinaryImage(cont,im,resample_res = 0):\n",
    "    if resample_res != 0:\n",
    "        [resampled_pia] = resample_contours([cont],resample_res)\n",
    "    pia_imcords = scaleToImageCoords2D(resampled_pia,XY_RESOLUTION=XY_RES)\n",
    "    print(pia_imcords)\n",
    "    pia_cont_im = convertPointsToImage2D(pia_imcords,im)\n",
    "    print(pia_cont_im.GetDimension())\n",
    "    print(pia_cont_im.GetPixelIDTypeAsString())\n",
    "    pia_cont_im.SetOrigin([im.GetOrigin()[0],im.GetOrigin()[1]])\n",
    "    pia_hole_filled = erode_image(sitk.BinaryFillhole(dilate_image(pia_cont_im,1),foregroundValue=255,fullyConnected=False),1)\n",
    "    \n",
    "    return pia_hole_filled"
   ]
  },
  {
   "cell_type": "code",
   "execution_count": 134,
   "metadata": {
    "ExecuteTime": {
     "end_time": "2020-08-17T15:40:27.660336Z",
     "start_time": "2020-08-17T15:40:27.656410Z"
    }
   },
   "outputs": [
    {
     "data": {
      "text/plain": [
       "2"
      ]
     },
     "execution_count": 134,
     "metadata": {},
     "output_type": "execute_result"
    }
   ],
   "source": [
    "sitk.Image().GetDimension()"
   ]
  },
  {
   "cell_type": "code",
   "execution_count": 141,
   "metadata": {
    "ExecuteTime": {
     "end_time": "2020-08-17T15:44:45.837138Z",
     "start_time": "2020-08-17T15:44:45.823308Z"
    }
   },
   "outputs": [],
   "source": [
    "XY_RES = 0.868\n",
    "Z_RES = 50\n",
    "\n",
    "#exp_name = 'MG50_rhs/'\n",
    "#exp_name = 'MG48_bs'\n",
    "exp_name = 'MG23_bs'\n",
    "#input_image_path =  '/nas1/Data_Mythreya/MotorCortexProject/V0/0_Inputs/Images/Rabies/NeuN/' + exp_name\n",
    "#input_contours_path = '/nas1/Data_Mythreya/MotorCortexProject/V0/0_Inputs/Contours/Rabies/' + exp_name\n",
    "#output_path = '/nas1/Data_Mythreya/MotorCortexProject/V0/0_Inputs/Landmarks/Rabies/NeuN/' + exp_name\n",
    "\n",
    "input_image_path =  '/nas1/Data_aman/00_Rabies/{}/00_Images/00_Confocal/ch_00_stacks/'.format(exp_name)\n",
    "input_contours_path = '/nas1/Data_Keshav/masked_for_rabies_auto_detection/{}/contour/'.format(exp_name)\n",
    "output_path = '/nas1/Data_aman/00_Rabies/{}/00_Images/00_Confocal/masked_for_rabies_auto_detection/'.format(exp_name)\n",
    "\n",
    "# output_path = '/rall/rabies_neun_counts/' + exp_name\n",
    "pathlib.Path(output_path).mkdir(exist_ok= True)\n",
    "#sec_num_start = 1\n",
    "#sec_num_end = 1\n",
    "sec_num = 1"
   ]
  },
  {
   "cell_type": "code",
   "execution_count": 146,
   "metadata": {
    "ExecuteTime": {
     "end_time": "2020-08-17T15:46:06.664294Z",
     "start_time": "2020-08-17T15:45:56.791852Z"
    },
    "scrolled": true
   },
   "outputs": [
    {
     "name": "stdout",
     "output_type": "stream",
     "text": [
      "2\n",
      "[[1945 1008]\n",
      " [1944 1008]\n",
      " [1944 1009]\n",
      " ...\n",
      " [1945 1008]\n",
      " [1945 1008]\n",
      " [1945 1008]]\n",
      "2\n",
      "2\n",
      "8-bit unsigned integer\n"
     ]
    }
   ],
   "source": [
    "for im_file in sorted(glob.glob(input_image_path+'/*00_00.tif')):\n",
    "    #im = sitk.ReadImage(input_image_path+'S{:03d}_00.tif'.format(sec_num))\n",
    "    im = sitk.ReadImage(im_file)       \n",
    "    print(im.GetDimension())\n",
    "    \n",
    "    spatial_graph_file = input_contours_path + 'S{:03d}.am'.format(sec_num)\n",
    "    sg = AmiraSpatialGraph(spatial_graph_file)\n",
    "    #print(sg.pia.edge_pt_coords)\n",
    "    pia_bin = convertContourCoordsIntoBinaryImage(sg.pia.edge_pt_coords,im,resample_res=0.1)\n",
    "    pia_only = sitk.Mask(im,pia_bin)\n",
    "    sitk.WriteImage(pia_only,output_path+'S{}_Pia_Only.tif'.format(sec_num))\n",
    "    \n",
    "    break\n",
    "    "
   ]
  },
  {
   "cell_type": "code",
   "execution_count": 147,
   "metadata": {
    "ExecuteTime": {
     "end_time": "2020-08-17T15:46:06.676201Z",
     "start_time": "2020-08-17T15:46:06.666764Z"
    }
   },
   "outputs": [
    {
     "data": {
      "text/plain": [
       "'/nas1/Data_aman/00_Rabies/MG23_bs/00_Images/00_Confocal/ch_00_stacks/S001_00_00.tif'"
      ]
     },
     "execution_count": 147,
     "metadata": {},
     "output_type": "execute_result"
    }
   ],
   "source": [
    "im_file"
   ]
  },
  {
   "cell_type": "code",
   "execution_count": 144,
   "metadata": {
    "ExecuteTime": {
     "end_time": "2020-08-17T15:45:29.069043Z",
     "start_time": "2020-08-17T15:45:29.060623Z"
    }
   },
   "outputs": [
    {
     "data": {
      "text/plain": [
       "'vector of 16-bit unsigned integer'"
      ]
     },
     "execution_count": 144,
     "metadata": {},
     "output_type": "execute_result"
    }
   ],
   "source": [
    "im.GetPixelIDTypeAsString()"
   ]
  },
  {
   "cell_type": "code",
   "execution_count": null,
   "metadata": {
    "ExecuteTime": {
     "end_time": "2020-08-17T15:40:31.861162Z",
     "start_time": "2020-08-17T15:40:29.891Z"
    }
   },
   "outputs": [],
   "source": [
    "\n",
    "i = sitk.Image()\n",
    "i.GetPixelIDTypeAsString()"
   ]
  },
  {
   "cell_type": "code",
   "execution_count": null,
   "metadata": {
    "ExecuteTime": {
     "end_time": "2020-05-06T10:11:15.265327Z",
     "start_time": "2020-05-06T10:11:14.879949Z"
    },
    "collapsed": true
   },
   "outputs": [],
   "source": []
  },
  {
   "cell_type": "code",
   "execution_count": null,
   "metadata": {
    "collapsed": true
   },
   "outputs": [],
   "source": []
  }
 ],
 "metadata": {
  "kernelspec": {
   "display_name": "Python 3",
   "language": "python",
   "name": "python3"
  },
  "language_info": {
   "codemirror_mode": {
    "name": "ipython",
    "version": 3
   },
   "file_extension": ".py",
   "mimetype": "text/x-python",
   "name": "python",
   "nbconvert_exporter": "python",
   "pygments_lexer": "ipython3",
   "version": "3.6.6"
  },
  "toc": {
   "base_numbering": 1,
   "nav_menu": {},
   "number_sections": true,
   "sideBar": true,
   "skip_h1_title": false,
   "title_cell": "Table of Contents",
   "title_sidebar": "Contents",
   "toc_cell": false,
   "toc_position": {},
   "toc_section_display": true,
   "toc_window_display": false
  }
 },
 "nbformat": 4,
 "nbformat_minor": 2
}
