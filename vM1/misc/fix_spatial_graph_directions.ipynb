{
 "cells": [
  {
   "cell_type": "code",
   "execution_count": 1,
   "metadata": {
    "ExecuteTime": {
     "end_time": "2020-04-06T07:06:49.689321Z",
     "start_time": "2020-04-06T07:06:46.977357Z"
    },
    "collapsed": true,
    "scrolled": true
   },
   "outputs": [],
   "source": [
    "import sys\n",
    "import os\n",
    "sys.path.insert(0,os.path.abspath('..'))\n",
    "from spatial_graphs.AmiraSpatialGraph import AmiraSpatialGraph,SpatialGraphData\n",
    "from spatial_graphs.Landmarks import Landmarks\n",
    "from spatial_graphs.Surfaces import Surface\n",
    "import numpy as np\n",
    "import pathlib"
   ]
  },
  {
   "cell_type": "code",
   "execution_count": 8,
   "metadata": {
    "ExecuteTime": {
     "end_time": "2020-04-06T23:46:09.085170Z",
     "start_time": "2020-04-06T23:46:03.567585Z"
    },
    "scrolled": true
   },
   "outputs": [
    {
     "name": "stdout",
     "output_type": "stream",
     "text": [
      "3 1 2 0 0\n",
      "4 1 2 0 0\n",
      "5 1 2 0 0\n",
      "6 1 2 0 0\n",
      "7 1 2 0 0\n",
      "8 1 2 0 0\n",
      "9 1 2 0 0\n",
      "10 1 2 0 0\n",
      "11 1 2 0 0\n",
      "12 1 2 0 0\n",
      "13 1 2 0 0\n",
      "14 1 2 0 0\n",
      "15 1 2 0 0\n",
      "16 1 2 0 0\n",
      "17 1 2 0 0\n",
      "18 1 2 0 0\n",
      "19 1 2 0 0\n",
      "20 1 2 0 0\n",
      "21 1 2 0 0\n",
      "22 1 2 0 0\n",
      "23 1 2 0 0\n",
      "24 1 2 0 0\n",
      "25 1 2 0 0\n",
      "26 1 2 0 0\n",
      "27 1 2 0 0\n",
      "28 1 2 0 0\n",
      "29 1 2 0 0\n",
      "30 1 2 0 0\n",
      "31 1 2 0 0\n",
      "32 1 2 0 0\n",
      "33 1 2 0 0\n",
      "34 1 2 0 0\n",
      "35 1 2 0 0\n",
      "36 1 2 0 0\n",
      "37 1 2 0 0\n",
      "38 1 2 0 0\n",
      "39 1 2 0 0\n",
      "40 1 2 0 0\n",
      "41 1 2 0 0\n",
      "42 1 2 0 0\n",
      "43 1 2 0 0\n",
      "44 1 2 0 0\n",
      "223 1 2 0 0\n",
      "224 1 2 0 0\n",
      "225 1 2 0 0\n",
      "226 1 2 0 0\n",
      "227 1 2 0 0\n",
      "228 1 2 0 0\n",
      "229 1 2 0 0\n",
      "230 1 2 0 0\n",
      "231 1 2 0 0\n",
      "232 1 2 0 0\n",
      "233 1 2 0 0\n",
      "234 1 2 0 0\n",
      "235 1 2 0 0\n",
      "236 1 2 0 0\n",
      "237 1 2 0 0\n",
      "238 1 2 0 0\n",
      "239 1 2 0 0\n",
      "240 1 2 0 0\n",
      "241 1 2 0 0\n",
      "242 1 2 0 0\n",
      "243 1 2 0 0\n",
      "244 1 2 0 0\n"
     ]
    }
   ],
   "source": [
    "HOME = '/nas1/Data_Mythreya/MotorCortexProject/'\n",
    "#HOME = 'Y:/'\n",
    "input_sg_path = HOME + 'V9/vM1_Ref_Frame/Original_Data/Spatial_Graphs/misc/'\n",
    "section_graphs_path = input_sg_path + 'Section_Graphs/'\n",
    "pathlib.Path(section_graphs_path).mkdir(exist_ok=True)\n",
    "output_path = HOME + 'V9/vM1_Ref_Frame/Original_Data/Spatial_Graphs/'\n",
    "\n",
    "#exp_names = ['MG49_lhs','MG49_rhs','MG50_lhs','MG50_rhs','MG48_lhs','MG48_rhs']\n",
    "exp_names = ['MG48_rhs']\n",
    "for exp_name in exp_names:\n",
    "    wm_started = False\n",
    "    if exp_name.find('_rhs') > 0 and exp_name.find('MG48')<0:\n",
    "        # flip x axis to go from rhs to lhs.. but not for MG48 (coronal)\n",
    "        # since it is already done in section images\n",
    "        AXIS_DIRECTION = [-1,1,1]\n",
    "    else:\n",
    "        AXIS_DIRECTION = [1,1,1]\n",
    "    filename = input_sg_path + exp_name + '.am'\n",
    "#     sg = AmiraSpatialGraph(filename=filename,create_section_graphs=True)\n",
    "#     pathlib.Path(section_graphs_path+os.path.basename(filename)).mkdir(exist_ok=True)\n",
    "#     sg.write_all_section_spatial_graphs(section_graphs_path+os.path.basename(filename)+'/')\n",
    "#     print(AXIS_DIRECTION)\n",
    "    \n",
    "    final_sg = AmiraSpatialGraph()\n",
    "    prev_pia = SpatialGraphData()\n",
    "    prev_wm = SpatialGraphData ()\n",
    "    for z in range(2,244):\n",
    "        if os.path.exists(section_graphs_path+os.path.basename(filename)+'/{}.am'.format(z+1)):\n",
    "            if z < 190:\n",
    "                sg_sec = AmiraSpatialGraph(section_graphs_path+os.path.basename(filename)+'/{}.am'.format(z+1),axis_directions=[-1,1,1])\n",
    "            else:\n",
    "                sg_sec = AmiraSpatialGraph(section_graphs_path+os.path.basename(filename)+'/{}.am'.format(z+1),axis_directions=AXIS_DIRECTION)\n",
    "            if len(sg_sec.pia.edge_list) > 0:\n",
    "                prev_pia = sg_sec.pia\n",
    "            if len(sg_sec.wm.edge_list) > 0:\n",
    "                wm_started = True\n",
    "                prev_wm = sg_sec.wm\n",
    "            if wm_started and len(sg_sec.wm.edge_list) == 0 and z<220:\n",
    "                # wm missing.. lets copy the prev one for now\n",
    "                sg_sec.wm = prev_wm\n",
    "                print('adding wm sec {}'.format(z))\n",
    "            if len(sg_sec.pia.edge_list) == 0:\n",
    "                sg_sec.pia = prev_pia\n",
    "                print('adding pia sec {}'.format(z))\n",
    "        else:\n",
    "            print('adding pia')\n",
    "            sg_sec = AmiraSpatialGraph()\n",
    "            sg_sec.pia = prev_pia\n",
    "            sg_sec.wm = prev_wm\n",
    "        sg_sec.set_z_coord((z-2)*50)\n",
    "        #sg_sec.set_z_coord((z)*50)\n",
    "        sg_sec.pia.set_label('9')\n",
    "        sg_sec.wm.set_label('10')\n",
    "        if len(sg_sec.pia.edge_list) != 1 or len(sg_sec.wm.edge_list)!=1:\n",
    "            print(z+1,len(sg_sec.pia.edge_list),len(sg_sec.pia.vertices),\\\n",
    "             len(sg_sec.wm.edge_list),len(sg_sec.wm.vertices))\n",
    "        if  exp_name.find('MG48')>= 0:\n",
    "            # coronal.. add S v/s M bifurcation line\n",
    "            sg_sec.bvs.set_label('48')\n",
    "            if z < 224:\n",
    "                final_sg.graph_data = final_sg.combine_subgraphs([final_sg.graph_data,sg_sec.pia,sg_sec.wm,sg_sec.bvs])\n",
    "            else:\n",
    "                # limit wm for z < 224\n",
    "                final_sg.graph_data = final_sg.combine_subgraphs([final_sg.graph_data,sg_sec.pia,sg_sec.bvs])\n",
    "        else:\n",
    "            final_sg.graph_data = final_sg.combine_subgraphs([final_sg.graph_data,sg_sec.pia,sg_sec.wm,sg_sec.barrels.all_rows_graphdata])\n",
    "\n",
    "#     if  exp_name.find('MG48')>= 0:\n",
    "#         tr_mat = [-1, 0, 0, 0, 0, 0, 1, 0, 0, 1, 0, 0, 0, 0, 0, 1]\n",
    "#         final_sg.apply_transformation(transformation_matrix=tr_mat)\n",
    "    final_sg.write_spatial_graph(output_path+os.path.basename(filename)+'_unmirrored')\n",
    "    "
   ]
  },
  {
   "cell_type": "code",
   "execution_count": null,
   "metadata": {
    "ExecuteTime": {
     "end_time": "2020-04-05T21:18:55.944901Z",
     "start_time": "2020-04-05T21:17:50.143857Z"
    }
   },
   "outputs": [],
   "source": [
    "# for coronal exp, split neun into left and right\n",
    "landmarks_path = '/nas1/Data_Mythreya/MotorCortexProject/V9/vM1_Ref_Frame/Original_Data/Spatial_Graphs/misc/landmarks/'\n",
    "\n",
    "\n",
    "neun_landmarks = Landmarks(filename=landmarks_path+'MG48_combined.landmarksAscii')\n"
   ]
  },
  {
   "cell_type": "code",
   "execution_count": null,
   "metadata": {
    "ExecuteTime": {
     "end_time": "2020-04-05T21:35:19.901108Z",
     "start_time": "2020-04-05T21:27:07.323347Z"
    }
   },
   "outputs": [],
   "source": [
    "sg_lhs = AmiraSpatialGraph(filename=output_path+'MG48_lhs.am')\n",
    "lhs_hull = Surface(pts=sg_lhs.pia.edge_pt_coords).create_delunay_surface_3d(return_hull=True)\n",
    "neun_landmarks.get_landmarks_within_given_surface(lhs_hull,output_file=landmarks_path+'MG48_lhs_neun_landmarks.LandmarkAscii')\n",
    "\n"
   ]
  },
  {
   "cell_type": "code",
   "execution_count": null,
   "metadata": {
    "ExecuteTime": {
     "end_time": "2020-04-05T21:48:50.069373Z",
     "start_time": "2020-04-05T21:42:05.703093Z"
    },
    "scrolled": true
   },
   "outputs": [],
   "source": [
    "sg_lhs = AmiraSpatialGraph(filename=output_path+'MG48_rhs_unmirrorred.am')\n",
    "rhs_hull = Surface(pts=sg_lhs.pia.edge_pt_coords).create_delunay_surface_3d(return_hull=True)\n",
    "neun_landmarks.get_landmarks_within_given_surface(rhs_hull,output_file=landmarks_path+'MG48_rhs_neun_landmarks.LandmarkAscii')\n"
   ]
  },
  {
   "cell_type": "code",
   "execution_count": null,
   "metadata": {
    "ExecuteTime": {
     "end_time": "2020-04-05T22:44:41.585243Z",
     "start_time": "2020-04-05T22:43:39.797930Z"
    }
   },
   "outputs": [],
   "source": [
    "neun = Landmarks(filename=path+'MG48_rhs'+'_unmirrored_neun_landmarks.LandmarkAscii',axis_directions=[-1,1,1])\n",
    "neun.write_landmarks(path+'MG48_rhs'+'_neun_landmarks.LandmarkAscii')"
   ]
  },
  {
   "cell_type": "code",
   "execution_count": null,
   "metadata": {
    "ExecuteTime": {
     "end_time": "2020-04-05T22:47:48.612560Z",
     "start_time": "2020-04-05T22:44:45.217164Z"
    },
    "collapsed": true
   },
   "outputs": [],
   "source": [
    "path = HOME + 'V9/vM1_Ref_Frame/Original_Data/'\n",
    "for name in ['MG48_rhs','MG49_rhs','MG50_rhs']:\n",
    "    sg = AmiraSpatialGraph(filename=path+name+'.am',axis_directions=[-1,1,1])\n",
    "    sg.write_spatial_graph(path+name+'_unmirrored.am')\n",
    "    rabies = Landmarks(filename=path+name+'_rabies_landmarks.LandmarkAscii',axis_directions=[-1,1,1])\n",
    "    rabies.write_landmarks(path+name+'_unmirrored_rabies_landmarks.LandmarkAscii')\n",
    "    neun = Landmarks(filename=path+name+'_neun_landmarks.LandmarkAscii',axis_directions=[-1,1,1])\n",
    "    neun.write_landmarks(path+name+'_unmirrored_neun_landmarks.LandmarkAscii')"
   ]
  },
  {
   "cell_type": "code",
   "execution_count": 9,
   "metadata": {
    "ExecuteTime": {
     "end_time": "2020-04-07T00:01:59.005168Z",
     "start_time": "2020-04-07T00:01:58.416574Z"
    },
    "collapsed": true
   },
   "outputs": [],
   "source": [
    "path = HOME + 'V9/vM1_Ref_Frame/Original_Data/Spatial_Graphs/'\n",
    "sg = AmiraSpatialGraph(filename=path+'MG48_rhs'+'_unmirrored.am',axis_directions=[-1,1,1])\n",
    "sg.write_spatial_graph(path+'MG48_rhs.am')"
   ]
  }
 ],
 "metadata": {
  "kernelspec": {
   "display_name": "Python 3",
   "language": "python",
   "name": "python3"
  },
  "language_info": {
   "codemirror_mode": {
    "name": "ipython",
    "version": 3
   },
   "file_extension": ".py",
   "mimetype": "text/x-python",
   "name": "python",
   "nbconvert_exporter": "python",
   "pygments_lexer": "ipython3",
   "version": "3.6.6"
  },
  "toc": {
   "base_numbering": 1,
   "nav_menu": {},
   "number_sections": true,
   "sideBar": true,
   "skip_h1_title": false,
   "title_cell": "Table of Contents",
   "title_sidebar": "Contents",
   "toc_cell": false,
   "toc_position": {},
   "toc_section_display": true,
   "toc_window_display": false
  }
 },
 "nbformat": 4,
 "nbformat_minor": 2
}
