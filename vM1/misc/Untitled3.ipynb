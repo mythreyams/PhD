{
 "cells": [
  {
   "cell_type": "code",
   "execution_count": 8,
   "metadata": {
    "ExecuteTime": {
     "end_time": "2020-05-19T17:22:23.636840Z",
     "start_time": "2020-05-19T17:22:23.628329Z"
    }
   },
   "outputs": [],
   "source": [
    "import os\n",
    "import sys\n",
    "import glob\n",
    "sys.path.insert(0,os.path.abspath('..'))\n",
    "from spatial_graphs.Landmarks import Landmarks\n",
    "from spatial_graphs.AmiraSpatialGraph import AmiraSpatialGraph,MatchBarrels"
   ]
  },
  {
   "cell_type": "markdown",
   "metadata": {},
   "source": [
    "# Convert Landmarks to Spatial Graphs"
   ]
  },
  {
   "cell_type": "code",
   "execution_count": 41,
   "metadata": {
    "ExecuteTime": {
     "end_time": "2020-05-23T23:27:43.864873Z",
     "start_time": "2020-05-23T23:27:42.423529Z"
    }
   },
   "outputs": [],
   "source": [
    "exp_name = 'MG49_rhs/'\n",
    "path = '/nas1/Data_Mythreya/MotorCortexProject/NeuN_Counts_Missing_Parts/'+exp_name\n",
    "\n",
    "for sec_folder in glob.glob(path+'/*'):\n",
    "    if os.path.exists(sec_folder+'/landmarks.landmarkAscii'):\n",
    "        landmarks = Landmarks((sec_folder+'/landmarks.landmarkAscii'))\n",
    "        \n",
    "        sg = AmiraSpatialGraph(generic_graph=True)\n",
    "        for pt in landmarks.pts:\n",
    "            sg.graph_data.add_edge(pt,pt)\n",
    "        sg.write_spatial_graph(sec_folder+'/landmarks.am')\n",
    "        "
   ]
  },
  {
   "cell_type": "markdown",
   "metadata": {},
   "source": [
    "# Convert Spatial Graphs to Landmarks"
   ]
  },
  {
   "cell_type": "code",
   "execution_count": 43,
   "metadata": {
    "ExecuteTime": {
     "end_time": "2020-05-23T23:51:14.264878Z",
     "start_time": "2020-05-23T23:51:14.178425Z"
    },
    "scrolled": true
   },
   "outputs": [
    {
     "name": "stdout",
     "output_type": "stream",
     "text": [
      "40\n"
     ]
    }
   ],
   "source": [
    "exp_name = 'MG49_rhs/'\n",
    "path = '/nas1/Data_Mythreya/MotorCortexProject/NeuN_Counts_Missing_Parts/'+exp_name\n",
    "\n",
    "for i in range(40,41):\n",
    "    if os.path.exists(path+'S_{}'.format(i)+'/landmarks.am'):\n",
    "        print(i)\n",
    "        \n",
    "        sg = AmiraSpatialGraph(path+'S_{}'.format(i)+'/landmarks.am',generic_graph=True)\n",
    "        pts = []\n",
    "        for edge in sg.graph_data.edge_list:\n",
    "            pts.append(edge[0])\n",
    "            \n",
    "        Landmarks(pts=pts).write_landmarks(path+'S_{}'.format(i)+'/landmarks.landmarkAscii')\n",
    "    "
   ]
  },
  {
   "cell_type": "code",
   "execution_count": null,
   "metadata": {
    "collapsed": true
   },
   "outputs": [],
   "source": []
  },
  {
   "cell_type": "code",
   "execution_count": 46,
   "metadata": {
    "ExecuteTime": {
     "end_time": "2020-05-26T00:08:27.956805Z",
     "start_time": "2020-05-26T00:08:27.950908Z"
    },
    "collapsed": true
   },
   "outputs": [],
   "source": [
    "# Append section neun landmarks with missing one\n",
    "original = '/nas1/Data_Mythreya/MotorCortexProject/NeuN_Counts/'\n",
    "missing = '/nas1/Data_Mythreya/MotorCortexProject/NeuN_Counts_Missing_Parts/'\n"
   ]
  },
  {
   "cell_type": "code",
   "execution_count": 60,
   "metadata": {
    "ExecuteTime": {
     "end_time": "2020-05-26T00:35:34.624884Z",
     "start_time": "2020-05-26T00:35:18.737964Z"
    },
    "scrolled": true
   },
   "outputs": [],
   "source": [
    "for exp in ['MG49_lhs','MG49_rhs','MG50_lhs','MG50_rhs']:\n",
    "    for sec_path in (glob.glob(missing+exp+'/*')):\n",
    "        sec_folder = (os.path.basename(sec_path))\n",
    "        missing_landmarks = Landmarks((sec_path+'/landmarks.landmarkAscii'))\n",
    "        original_landmarks = Landmarks(original+exp+'/'+sec_folder+'/landmarks.landmarkAscii')\n",
    "        #print(sec_folder,len(missing_landmarks.pts),len(original_landmarks.pts))\n",
    "        l = Landmarks()\n",
    "        for pt in original_landmarks.pts:\n",
    "            l.pts.append(pt)\n",
    "        for pt in missing_landmarks.pts:\n",
    "            l.pts.append(pt)\n",
    "        l.write_landmarks(original+exp+'/'+sec_folder+'/landmarks.landmarkAscii')"
   ]
  },
  {
   "cell_type": "code",
   "execution_count": null,
   "metadata": {
    "collapsed": true
   },
   "outputs": [],
   "source": []
  }
 ],
 "metadata": {
  "kernelspec": {
   "display_name": "Python 3",
   "language": "python",
   "name": "python3"
  },
  "language_info": {
   "codemirror_mode": {
    "name": "ipython",
    "version": 3
   },
   "file_extension": ".py",
   "mimetype": "text/x-python",
   "name": "python",
   "nbconvert_exporter": "python",
   "pygments_lexer": "ipython3",
   "version": "3.6.6"
  },
  "toc": {
   "base_numbering": 1,
   "nav_menu": {},
   "number_sections": true,
   "sideBar": true,
   "skip_h1_title": false,
   "title_cell": "Table of Contents",
   "title_sidebar": "Contents",
   "toc_cell": false,
   "toc_position": {},
   "toc_section_display": true,
   "toc_window_display": false
  }
 },
 "nbformat": 4,
 "nbformat_minor": 2
}
