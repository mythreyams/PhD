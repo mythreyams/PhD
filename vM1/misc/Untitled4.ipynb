{
 "cells": [
  {
   "cell_type": "code",
   "execution_count": 6,
   "metadata": {
    "ExecuteTime": {
     "end_time": "2020-06-08T12:16:15.628606Z",
     "start_time": "2020-06-08T12:16:15.622954Z"
    }
   },
   "outputs": [],
   "source": [
    "import glob\n",
    "import os\n",
    "import sys\n",
    "sys.path.insert(0,os.path.abspath('..'))\n",
    "from spatial_graphs.AmiraSpatialGraph import AmiraSpatialGraph,MatchBarrels "
   ]
  },
  {
   "cell_type": "code",
   "execution_count": 11,
   "metadata": {
    "ExecuteTime": {
     "end_time": "2020-06-08T12:28:10.397169Z",
     "start_time": "2020-06-08T12:28:10.390456Z"
    },
    "collapsed": true
   },
   "outputs": [],
   "source": [
    "input_path_spatial_graphs = '/nas1/Data_Mythreya/MotorCortexProject/V9/Registration_Local_For_RN/Outputs_100/\\\n",
    "3_Corrected_Spatial_Graphs/newly_cured_files/'\n",
    "output_amira_spatial_graphs = input_path_spatial_graphs"
   ]
  },
  {
   "cell_type": "code",
   "execution_count": 12,
   "metadata": {
    "ExecuteTime": {
     "end_time": "2020-06-08T12:28:10.533214Z",
     "start_time": "2020-06-08T12:28:10.525081Z"
    }
   },
   "outputs": [
    {
     "data": {
      "text/plain": [
       "'/nas1/Data_Mythreya/MotorCortexProject/V9/code/misc'"
      ]
     },
     "execution_count": 12,
     "metadata": {},
     "output_type": "execute_result"
    }
   ],
   "source": [
    "pwd"
   ]
  },
  {
   "cell_type": "code",
   "execution_count": 13,
   "metadata": {
    "ExecuteTime": {
     "end_time": "2020-06-08T12:28:25.133191Z",
     "start_time": "2020-06-08T12:28:10.563843Z"
    }
   },
   "outputs": [],
   "source": [
    "for file in glob.glob(input_path_spatial_graphs+'*.ASC'):\n",
    "    #if os.path.basename(file) == 'RA20150807_2_Cell_B.ASC':\n",
    "    if not os.path.isdir(file): \n",
    "        sg = AmiraSpatialGraph(file,file_format='ASC')\n",
    "        sg.write_spatial_graph(output_amira_spatial_graphs+os.path.basename(file)[:-3]+'am')"
   ]
  },
  {
   "cell_type": "code",
   "execution_count": null,
   "metadata": {
    "collapsed": true
   },
   "outputs": [],
   "source": []
  }
 ],
 "metadata": {
  "kernelspec": {
   "display_name": "Python 3",
   "language": "python",
   "name": "python3"
  },
  "language_info": {
   "codemirror_mode": {
    "name": "ipython",
    "version": 3
   },
   "file_extension": ".py",
   "mimetype": "text/x-python",
   "name": "python",
   "nbconvert_exporter": "python",
   "pygments_lexer": "ipython3",
   "version": "3.6.6"
  },
  "toc": {
   "base_numbering": 1,
   "nav_menu": {},
   "number_sections": true,
   "sideBar": true,
   "skip_h1_title": false,
   "title_cell": "Table of Contents",
   "title_sidebar": "Contents",
   "toc_cell": false,
   "toc_position": {},
   "toc_section_display": true,
   "toc_window_display": false
  }
 },
 "nbformat": 4,
 "nbformat_minor": 2
}
