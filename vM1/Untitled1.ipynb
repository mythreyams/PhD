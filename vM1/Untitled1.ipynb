{
 "cells": [
  {
   "cell_type": "code",
   "execution_count": 63,
   "metadata": {
    "ExecuteTime": {
     "end_time": "2021-02-17T10:34:56.107967Z",
     "start_time": "2021-02-17T10:34:51.897969Z"
    },
    "collapsed": true
   },
   "outputs": [],
   "source": [
    "import os\n",
    "from spatial_graphs.AmiraSpatialGraph import AmiraSpatialGraph\n",
    "from spatial_graphs.Landmarks import Landmarks\n",
    "from spatial_graphs.Surfaces import Surface\n",
    "from spatial_graphs.Vectors import Vectors\n",
    "from spatial_graphs.Alignment import Alignment\n",
    "from spatial_graphs.Stats import Stats"
   ]
  },
  {
   "cell_type": "code",
   "execution_count": 10,
   "metadata": {
    "ExecuteTime": {
     "end_time": "2021-02-17T09:57:22.275421Z",
     "start_time": "2021-02-17T09:57:22.267682Z"
    }
   },
   "outputs": [],
   "source": [
    "def create_surface(file,coronal=False,rhs=False,nr_divisions=0,surf_resolution='200'):\n",
    "    print(file)\n",
    "    #print(nr_divisions)\n",
    "    os.system('/home/mythreya/project_src/BarrelField3D/DataAnalysis3D/BF3DRecon {} {} {}'.\\\n",
    "              format(file,input_path+os.path.basename(file)[:-3],str(surf_resolution)))\n",
    "    \n",
    "    "
   ]
  },
  {
   "cell_type": "code",
   "execution_count": 9,
   "metadata": {
    "ExecuteTime": {
     "end_time": "2021-02-17T09:57:16.531451Z",
     "start_time": "2021-02-17T09:57:16.524273Z"
    },
    "collapsed": true
   },
   "outputs": [],
   "source": [
    "input_path = '/nas1/Data_Mythreya/MotorCortexProject/'"
   ]
  },
  {
   "cell_type": "code",
   "execution_count": 78,
   "metadata": {
    "ExecuteTime": {
     "end_time": "2021-02-17T11:54:02.807285Z",
     "start_time": "2021-02-17T11:54:01.339184Z"
    },
    "scrolled": true
   },
   "outputs": [],
   "source": [
    "lhs = AmiraSpatialGraph(input_path+'atlas_20210217_Pia_lhs.am')\n",
    "lhs.pia.set_label('9')\n",
    "lhs.update_graph_data()\n",
    "final_sg = AmiraSpatialGraph()\n",
    "final_sg.graph_data = final_sg.combine_subgraphs([final_sg.graph_data,lhs.pia,])\n",
    "final_sg.update_graph_data()\n",
    "final_sg.write_sub_spatial_graph(lhs.pia,input_path+'atlas_20210217_Pia_lhs_relabelled.am')\n",
    "\n",
    "rhs = AmiraSpatialGraph(input_path+'atlas_20210217_Pia_rhs.am')\n",
    "rhs.pia.set_label('9')\n",
    "rhs.update_graph_data()\n",
    "final_sg = AmiraSpatialGraph()\n",
    "final_sg.graph_data = final_sg.combine_subgraphs([final_sg.graph_data,rhs.pia,])\n",
    "final_sg.update_graph_data()\n",
    "final_sg.write_sub_spatial_graph(rhs.pia,input_path+'atlas_20210217_Pia_rhs_relabelled.am')"
   ]
  },
  {
   "cell_type": "code",
   "execution_count": 105,
   "metadata": {
    "ExecuteTime": {
     "end_time": "2021-02-17T12:30:55.079300Z",
     "start_time": "2021-02-17T12:30:37.040006Z"
    }
   },
   "outputs": [],
   "source": [
    "sg = AmiraSpatialGraph(input_path+'atlas_20210217_Pia_lhs_relabelled.am')\n",
    "lhs_hull = Surface(pts=sg.graph_data.edge_pt_coords).create_delunay_surface_3d(output_filename=input_path+'atlas_lhs.vtk',\\\n",
    "                                                                               return_hull=True)\n",
    "lhs_surf = Surface(polydata=lhs_hull)\n",
    "lhs_surf.clip_surface_at_given_x(0,x_limit=lhs_hull.GetBounds()[1]-400)\n",
    "lhs_surf.write_surface_mesh(input_path+'atlas_lhs_open.vtk')\n",
    "\n",
    "sg = AmiraSpatialGraph(input_path+'atlas_20210217_Pia_rhs_relabelled.am')\n",
    "rhs_hull = Surface(pts=sg.graph_data.edge_pt_coords).create_delunay_surface_3d(output_filename=input_path+'atlas_rhs.vtk',\\\n",
    "                                                                               return_hull=True)\n",
    "rhs_surf = Surface(polydata=rhs_hull)\n",
    "rhs_surf.clip_surface_at_given_x(0,x_limit=rhs_hull.GetBounds()[0]+400)\n",
    "rhs_surf.write_surface_mesh(input_path+'atlas_rhs_open.vtk')"
   ]
  },
  {
   "cell_type": "code",
   "execution_count": 106,
   "metadata": {
    "ExecuteTime": {
     "end_time": "2021-02-17T12:30:55.099264Z",
     "start_time": "2021-02-17T12:30:55.081972Z"
    }
   },
   "outputs": [],
   "source": [
    "tr_mat = [-1, 0, 0, 0, 0, 0, 1, 0, 0, -1, 0, 0, 0, 0, 0, 1]\n",
    "lhs_surf.apply_transformation(tr_mat)\n",
    "lhs_surf.write_surface_mesh(input_path+'atlas_rhs_canonical.vtk')\n",
    "rhs_surf.apply_transformation(tr_mat)\n",
    "rhs_surf.write_surface_mesh(input_path+'atlas_lhs_canonical.vtk')"
   ]
  },
  {
   "cell_type": "code",
   "execution_count": 107,
   "metadata": {
    "ExecuteTime": {
     "end_time": "2021-02-17T12:31:49.703289Z",
     "start_time": "2021-02-17T12:31:49.696258Z"
    },
    "collapsed": true
   },
   "outputs": [],
   "source": [
    "# Align to the avg surfaces"
   ]
  },
  {
   "cell_type": "code",
   "execution_count": 116,
   "metadata": {
    "ExecuteTime": {
     "end_time": "2021-02-17T13:04:58.875218Z",
     "start_time": "2021-02-17T13:04:58.864555Z"
    },
    "collapsed": true
   },
   "outputs": [],
   "source": [
    "avg_path = '/nas1/Data_Mythreya/MotorCortexProject/V11/vM1_Ref_Frame/Outputs/Alignment/Tangential_To_Coronal/Average/'"
   ]
  },
  {
   "cell_type": "code",
   "execution_count": 117,
   "metadata": {
    "ExecuteTime": {
     "end_time": "2021-02-17T13:04:59.223301Z",
     "start_time": "2021-02-17T13:04:59.045224Z"
    },
    "collapsed": true
   },
   "outputs": [],
   "source": [
    "avg_lhs_pia = Surface(avg_path+'LHS/Avg_Pia_200.vtk')\n",
    "avg_rhs_pia = Surface(avg_path+'RHS/Avg_Pia_200.vtk')"
   ]
  },
  {
   "cell_type": "code",
   "execution_count": 118,
   "metadata": {
    "ExecuteTime": {
     "end_time": "2021-02-17T13:05:54.635898Z",
     "start_time": "2021-02-17T13:04:59.250006Z"
    },
    "collapsed": true
   },
   "outputs": [],
   "source": [
    "lhs_surf = Surface(input_path+'atlas_lhs_canonical.vtk')\n",
    "aligner = Alignment(avg_lhs_pia.surface,lhs_surf.surface,)\n",
    "txmat = aligner.get_transformation_matrix()\n",
    "icp = aligner.get_icp_transform()\n",
    "lhs_surf.apply_icp_transform(icp)\n",
    "lhs_surf.write_surface_mesh(input_path+'atlas_lhs_aligned_to_avg.vtk')\n",
    "aligner.write_transformation_matrix(input_path+'atlas_canonical_to_avg_transformation_lhs.txt')"
   ]
  },
  {
   "cell_type": "code",
   "execution_count": 119,
   "metadata": {
    "ExecuteTime": {
     "end_time": "2021-02-17T13:06:15.183287Z",
     "start_time": "2021-02-17T13:05:54.638218Z"
    },
    "collapsed": true
   },
   "outputs": [],
   "source": [
    "lhs_surf = Surface(input_path+'atlas_lhs_canonical.vtk')\n",
    "aligner = Alignment(avg_lhs_pia.surface,lhs_surf.surface,mode='similarity')\n",
    "txmat = aligner.get_transformation_matrix()\n",
    "icp = aligner.get_icp_transform()\n",
    "lhs_surf.apply_icp_transform(icp)\n",
    "lhs_surf.write_surface_mesh(input_path+'atlas_lhs_aligned_to_avg_scaling.vtk')\n",
    "aligner.write_transformation_matrix(input_path+'atlas_canonical_to_avg_transformation_lhs_scaling.txt')"
   ]
  },
  {
   "cell_type": "code",
   "execution_count": 120,
   "metadata": {
    "ExecuteTime": {
     "end_time": "2021-02-17T13:07:11.239944Z",
     "start_time": "2021-02-17T13:06:15.185630Z"
    }
   },
   "outputs": [],
   "source": [
    "rhs_surf = Surface(input_path+'atlas_rhs_canonical.vtk')\n",
    "aligner = Alignment(avg_rhs_pia.surface,rhs_surf.surface)\n",
    "txmat = aligner.get_transformation_matrix()\n",
    "icp = aligner.get_icp_transform()\n",
    "rhs_surf.apply_icp_transform(icp)\n",
    "rhs_surf.write_surface_mesh(input_path+'atlas_rhs_aligned_to_avg.vtk')\n",
    "aligner.write_transformation_matrix(input_path+'atlas_canonical_to_avg_transformation_rhs.txt')"
   ]
  },
  {
   "cell_type": "code",
   "execution_count": 121,
   "metadata": {
    "ExecuteTime": {
     "end_time": "2021-02-17T13:07:32.471450Z",
     "start_time": "2021-02-17T13:07:11.243216Z"
    },
    "collapsed": true
   },
   "outputs": [],
   "source": [
    "rhs_surf = Surface(input_path+'atlas_rhs_canonical.vtk')\n",
    "aligner = Alignment(avg_rhs_pia.surface,rhs_surf.surface,mode='similarity')\n",
    "txmat = aligner.get_transformation_matrix()\n",
    "icp = aligner.get_icp_transform()\n",
    "rhs_surf.apply_icp_transform(icp)\n",
    "rhs_surf.write_surface_mesh(input_path+'atlas_rhs_aligned_to_avg_scaling.vtk')\n",
    "aligner.write_transformation_matrix(input_path+'atlas_canonical_to_avg_transformation_rhs_scaling.txt')"
   ]
  },
  {
   "cell_type": "code",
   "execution_count": 114,
   "metadata": {
    "ExecuteTime": {
     "end_time": "2021-02-17T12:43:41.655836Z",
     "start_time": "2021-02-17T12:43:41.647844Z"
    },
    "collapsed": true
   },
   "outputs": [],
   "source": []
  },
  {
   "cell_type": "code",
   "execution_count": null,
   "metadata": {
    "collapsed": true
   },
   "outputs": [],
   "source": []
  }
 ],
 "metadata": {
  "kernelspec": {
   "display_name": "Python 3",
   "language": "python",
   "name": "python3"
  },
  "language_info": {
   "codemirror_mode": {
    "name": "ipython",
    "version": 3
   },
   "file_extension": ".py",
   "mimetype": "text/x-python",
   "name": "python",
   "nbconvert_exporter": "python",
   "pygments_lexer": "ipython3",
   "version": "3.6.6"
  },
  "toc": {
   "base_numbering": 1,
   "nav_menu": {},
   "number_sections": true,
   "sideBar": true,
   "skip_h1_title": false,
   "title_cell": "Table of Contents",
   "title_sidebar": "Contents",
   "toc_cell": false,
   "toc_position": {},
   "toc_section_display": true,
   "toc_window_display": false
  }
 },
 "nbformat": 4,
 "nbformat_minor": 2
}
