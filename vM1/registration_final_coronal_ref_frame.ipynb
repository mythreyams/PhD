{
 "cells": [
  {
   "cell_type": "code",
   "execution_count": 1,
   "metadata": {
    "ExecuteTime": {
     "end_time": "2021-08-18T22:52:01.238933Z",
     "start_time": "2021-08-18T22:51:57.787500Z"
    },
    "collapsed": true
   },
   "outputs": [],
   "source": [
    "import sys\n",
    "import os\n",
    "sys.path.insert(0,os.path.abspath('..'))\n",
    "from spatial_graphs.AmiraSpatialGraph import AmiraSpatialGraph,MatchBarrels\n",
    "from spatial_graphs.Landmarks import Landmarks\n",
    "from spatial_graphs.Surfaces import Surface\n",
    "from spatial_graphs.Vectors import Vectors\n",
    "from spatial_graphs.Alignment import Alignment\n",
    "from dask import compute,multiprocessing,delayed\n",
    "import pathlib\n",
    "import shutil\n",
    "import glob\n",
    "import pandas as pd\n",
    "import vtk\n",
    "from scipy.spatial import distance\n",
    "import numpy as np\n",
    "from sklearn.decomposition import PCA\n",
    "from scipy.spatial import distance\n",
    "from scipy.spatial import distance_matrix"
   ]
  },
  {
   "cell_type": "markdown",
   "metadata": {},
   "source": [
    "# Create output folders"
   ]
  },
  {
   "cell_type": "code",
   "execution_count": 2,
   "metadata": {
    "ExecuteTime": {
     "end_time": "2021-08-18T22:52:01.270693Z",
     "start_time": "2021-08-18T22:52:01.241365Z"
    },
    "collapsed": true
   },
   "outputs": [],
   "source": [
    "input_path_spatial_graphs = '/nas1/Data_Mythreya/MotorCortexProject/V11/Registration_Final_Coronal_Ref_Frame/Input_Spatial_Graphs/'\n",
    "input_path_avg_rf = '/nas1/Data_Mythreya/MotorCortexProject/V11/Registration_Final_Coronal_Ref_Frame/Input_Ref_Frame/'\n",
    "input_path_layer_borders = input_path_avg_rf+'Layer_Borders/'\n",
    "#input_path_layer_borders_v2 = input_path_avg_rf+'Layer_Borders_v2/'\n",
    "manual_neuron_axis_path = '/nas1/Data_Mythreya/MotorCortexProject/V11/Registration_Final_Coronal_Ref_Frame/Manual_Neuron_Axis/'\n",
    "manual_cell_type_assignment = '/nas1/Data_Mythreya/MotorCortexProject/V11/Registration_Final_Coronal_Ref_Frame/vm1_OPTICS_mastersheet_afterMO.xlsx'\n",
    "layer_borders = input_path_layer_borders + 'vM1_Borders.csv'\n",
    "\n",
    "surface_resolution = 100\n",
    "\n",
    "#ref_barrels = AmiraSpatialGraph(input_path_avg_rf+'Avg_SBF_Without_Projections.am',generic_graph=True,\\\n",
    "#                                barrel_projections_present=False)\n",
    "ref_pia = Surface(input_path_avg_rf+'Avg_Pia_lhs_delunay.vtk')\n",
    "ref_wm = Surface(input_path_avg_rf+'Avg_WM_lhs_delunay.vtk')\n",
    "ref_pia_wm = Surface(polydata=ref_pia.surface)\n",
    "ref_pia_wm.append(ref_wm.surface)\n",
    "\n",
    "#coronal_pia = Surface(input_path_avg_rf+'MG48_lhs_pia_open_bottom_voxel_size_50.vtk')\n",
    "#coronal_wm = Surface(input_path_avg_rf+'MG48_lhs_WM_open_bottom_voxel_size_50.vtk')\n",
    "#coronal_pia_wm = Surface(polydata=coronal_pia.surface)\n",
    "#coronal_pia_wm.append(coronal_wm.surface)\n",
    "\n",
    "# make layer border landmarks\n",
    "border_names = ['L1','L2_3','L5A','L5B',]\n",
    "#borders = [0.06,0.24,0.48,0.67,0.88]\n",
    "borders = [0.085,0.209,0.391,0.779]\n",
    "#bordes_std = [0,0.10,0.10,0.085,0.12]\n",
    "bordes_std = [0.021,0.080,0.058,0.088]"
   ]
  },
  {
   "cell_type": "code",
   "execution_count": 3,
   "metadata": {
    "ExecuteTime": {
     "end_time": "2021-08-18T22:52:01.298718Z",
     "start_time": "2021-08-18T22:52:01.273311Z"
    },
    "collapsed": true
   },
   "outputs": [],
   "source": [
    "# clip the ref surfaces\n",
    "pia_bounds = ref_pia.surface.GetBounds()\n",
    "wm_bounds = ref_wm.surface.GetBounds()\n",
    "\n",
    "ref_pia_bottom_open = ref_pia\n",
    "ref_wm_bottom_open = ref_wm\n",
    "\n",
    "ref_pia_bottom_open.clip_surface_at_given_x(0,x_limit=pia_bounds[1]-400)\n",
    "ref_wm_bottom_open.clip_surface_at_given_x(0,x_limit=wm_bounds[1]-400)\n",
    "\n",
    "ref_pia_bottom_open.write_surface_mesh(input_path_avg_rf+'Avg_Pia_lhs_delunay_bottom_open.vtk')\n",
    "ref_wm_bottom_open.write_surface_mesh(input_path_avg_rf+'Avg_WM_lhs_delunay_bottom_open.vtk')\n",
    "\n",
    "ref_pia_wm_bottom_open = Surface(polydata=ref_pia_bottom_open.surface)\n",
    "ref_pia_wm_bottom_open.append(ref_wm_bottom_open.surface)"
   ]
  },
  {
   "cell_type": "code",
   "execution_count": 4,
   "metadata": {
    "ExecuteTime": {
     "end_time": "2021-08-18T22:52:01.370695Z",
     "start_time": "2021-08-18T22:52:01.300916Z"
    },
    "collapsed": true
   },
   "outputs": [],
   "source": [
    "# create output folder structure\n",
    "HOME = str(pathlib.Path(input_path_spatial_graphs).parent)\n",
    "output_root = HOME + '/Outputs/'\n",
    "pathlib.Path((output_root)).mkdir(exist_ok=True)\n",
    "\n",
    "output_surfaces = output_root + '1_Surfaces/'\n",
    "pathlib.Path((output_surfaces)).mkdir(exist_ok=True)\n",
    "\n",
    "output_axis_field = output_root + '1_Axis_Fields/'\n",
    "pathlib.Path((output_axis_field)).mkdir(exist_ok=True)\n",
    "\n",
    "output_stats = output_root + '2_Local_Stats/'\n",
    "pathlib.Path((output_stats)).mkdir(exist_ok=True)\n",
    "\n",
    "output_neuron_axis = output_root + '2_Local_Neuron_Axis/'\n",
    "pathlib.Path((output_neuron_axis)).mkdir(exist_ok=True)\n",
    "\n",
    "output_neuron_axis_manual = output_root + '2_Manual_Neuron_Axis/'\n",
    "pathlib.Path((output_neuron_axis_manual)).mkdir(exist_ok=True)\n",
    "\n",
    "#output_alignment_using_barrels = output_root + '3_Aligned_By_Barrels/'\n",
    "#pathlib.Path((output_alignment_using_barrels)).mkdir(exist_ok=True)\n",
    "\n",
    "output_alignment_using_surfaces = output_root + '3_Aligned_By_Surfaces/'\n",
    "pathlib.Path((output_alignment_using_surfaces)).mkdir(exist_ok=True)\n",
    "\n",
    "output_alignment_final = output_root + '4_Final_Registration/'\n",
    "pathlib.Path((output_alignment_final)).mkdir(exist_ok=True)\n",
    "\n",
    "output_alignment_using_neuron_axis_and_nearest_rel_depth = output_alignment_final + 'Aligned_Local_Neuron_Axis_To_Nearest_Axis_Rel_Depth_Preserved/'\n",
    "pathlib.Path((output_alignment_using_neuron_axis_and_nearest_rel_depth)).mkdir(exist_ok=True)\n",
    "\n",
    "output_alignment_using_neuron_axis_and_local_avg_rel_depth = output_alignment_final + 'Aligned_Local_Neuron_Axis_To_Ref_Local_Avg_Axis_Rel_Depth_Preserved/'\n",
    "pathlib.Path((output_alignment_using_neuron_axis_and_local_avg_rel_depth)).mkdir(exist_ok=True)\n",
    "\n",
    "output_alignment_using_neuron_axis_and_nearest_pia_soma = output_alignment_final + 'Aligned_Local_Neuron_Axis_To_Nearest_Axis_Pia_Soma_Dist_Preserved/'\n",
    "pathlib.Path((output_alignment_using_neuron_axis_and_nearest_pia_soma)).mkdir(exist_ok=True)\n",
    "\n",
    "output_alignment_using_neuron_axis_and_local_Avg_pia_soma = output_alignment_final + 'Aligned_Local_Neuron_Axis_To_Ref_Local_Avg_Axis_Pia_Soma_Dist_Preserved/'\n",
    "pathlib.Path((output_alignment_using_neuron_axis_and_local_Avg_pia_soma)).mkdir(exist_ok=True)\n",
    "\n",
    "output_standardization = output_root + '5_Standardized_Neurons/'\n",
    "pathlib.Path((output_standardization)).mkdir(exist_ok=True)\n",
    "\n",
    "output_local_rf = output_root + '6_Local_Ref_Frame/'\n",
    "pathlib.Path((output_local_rf)).mkdir(exist_ok=True)\n",
    "\n",
    "output_layerwise_celltypes = output_root + '7_Depthwise_Celltypes/'\n",
    "pathlib.Path((output_layerwise_celltypes)).mkdir(exist_ok=True)\n",
    "\n",
    "#for file in glob.glob(manual_neuron_axis_path+'*'):\n",
    "#    shutil.copyfile(file,output_neuron_axis_manual+os.path.basename(file))\n",
    "\n",
    "#output_canonical = HOME + '/Canonical_View/'\n",
    "#pathlib.Path((output_canonical)).mkdir(exist_ok=True)\n",
    "\n",
    "#output_standardization = output_root + '5_Standardized_Neurons/'\n",
    "#pathlib.Path((output_standardization)).mkdir(exist_ok=True)"
   ]
  },
  {
   "cell_type": "markdown",
   "metadata": {},
   "source": [
    "# Helper Functions"
   ]
  },
  {
   "cell_type": "code",
   "execution_count": 5,
   "metadata": {
    "ExecuteTime": {
     "end_time": "2021-08-18T22:52:02.606715Z",
     "start_time": "2021-08-18T22:52:02.587976Z"
    },
    "collapsed": true
   },
   "outputs": [],
   "source": [
    "# rotation from a to b\n",
    "def align_a_to_b(a,b):\n",
    "    u_a = Vectors().get_unit_vec(a[0],a[1])\n",
    "    u_b = Vectors().get_unit_vec(b[0],b[1])\n",
    "    v = np.cross(u_a,u_b)\n",
    "    s = np.linalg.norm(v)\n",
    "    c = np.dot(u_a,u_b)\n",
    "    I = np.array([1,0,0,0,1,0,0,0,1]).reshape([3,3])\n",
    "    #print(I)\n",
    "    v_x = np.array([0,-v[2],v[1],v[2],0,-v[0],-v[1],v[0],0]).reshape([3,3])\n",
    "    R = I + v_x + np.dot(v_x,v_x) * (1/(1+c))\n",
    "    r_list = []\n",
    "    for i in range(3):\n",
    "        for j in range(3):\n",
    "            r_list.append(R[i,j])\n",
    "    #print(R)\n",
    "    return R"
   ]
  },
  {
   "cell_type": "code",
   "execution_count": 6,
   "metadata": {
    "ExecuteTime": {
     "end_time": "2021-08-18T22:52:03.482701Z",
     "start_time": "2021-08-18T22:52:03.472072Z"
    },
    "collapsed": true
   },
   "outputs": [],
   "source": [
    "def convert_to_transformation_matrix(rot_mat,translation):\n",
    "    \n",
    "    tr_mat = []\n",
    "    k = 0\n",
    "\n",
    "    for i in range(3):\n",
    "        for j in range(3):\n",
    "            tr_mat.append(rot_mat[i,j])\n",
    "            k = k + 1\n",
    "        tr_mat.append(0)\n",
    "        k = k+1\n",
    "    tr_mat.append(-translation[0])\n",
    "    tr_mat.append(-translation[1])\n",
    "    tr_mat.append(-translation[2])\n",
    "    tr_mat.append(1)\n",
    "    return tr_mat"
   ]
  },
  {
   "cell_type": "code",
   "execution_count": 7,
   "metadata": {
    "ExecuteTime": {
     "end_time": "2021-08-18T22:52:04.374675Z",
     "start_time": "2021-08-18T22:52:04.364841Z"
    },
    "collapsed": true
   },
   "outputs": [],
   "source": [
    "def write_edge(edge,filename):\n",
    "    axis_sg = AmiraSpatialGraph(generic_graph=True)\n",
    "    axis_sg.graph_data.add_edge(edge[0],edge[1])\n",
    "    axis_sg.write_spatial_graph(filename)\n",
    "\n",
    "    return axis_sg\n",
    "\n",
    "    "
   ]
  },
  {
   "cell_type": "code",
   "execution_count": 8,
   "metadata": {
    "ExecuteTime": {
     "end_time": "2021-08-18T22:52:05.254794Z",
     "start_time": "2021-08-18T22:52:05.244085Z"
    },
    "collapsed": true
   },
   "outputs": [],
   "source": [
    "def resample_edge(edge,num_pts_to_be_inserted):\n",
    "    resampled_edge = []\n",
    "    #resample_edge.append(edge[0])\n",
    "    n = np.array(edge[len(edge)-1]) - np.array(edge[0])\n",
    "    n_unit = n / np.linalg.norm(n)\n",
    "    edge_len = Vectors().get_vec_length(edge)\n",
    "    for i in range(num_pts_to_be_inserted):\n",
    "        resampled_edge.append(i*n_unit*edge_len/num_pts_to_be_inserted+edge[0])\n",
    "    return edge"
   ]
  },
  {
   "cell_type": "code",
   "execution_count": 9,
   "metadata": {
    "ExecuteTime": {
     "end_time": "2021-08-18T22:52:06.470081Z",
     "start_time": "2021-08-18T22:52:06.460004Z"
    },
    "collapsed": true
   },
   "outputs": [],
   "source": [
    "def get_pca_direction(apical_dendrite_pts,res=1,two_d_only=False):\n",
    "#     resampled_pts = []\n",
    "#     for edge in apical_dendrite_edges:\n",
    "#         for i in range(len(edge)-1):\n",
    "#             length = distance.euclidean(edge[i],edge[i+1])\n",
    "#             if length > res:\n",
    "#                 num_pts_to_be_inserted = int(length/res)\n",
    "#                 resampled_edge = resample_edge(edge,num_pts_to_be_inserted)\n",
    "#                 for i in range(len(resampled_edge)):\n",
    "#                     resampled_pts.append(resampled_edge[i])\n",
    "    \n",
    "    if two_d_only:\n",
    "        pca = PCA(n_components=2,)\n",
    "        pts = np.array(apical_dendrite_pts)[:,0:2]\n",
    "        transformed_pca = pca.fit_transform(X=pts)\n",
    "    else:\n",
    "        pca = PCA(n_components=3,)\n",
    "        transformed_pca = pca.fit_transform(X=apical_dendrite_pts)\n",
    "    #print(transformed_pca)\n",
    "    return pca.components_"
   ]
  },
  {
   "cell_type": "code",
   "execution_count": 10,
   "metadata": {
    "ExecuteTime": {
     "end_time": "2021-08-18T22:52:07.334809Z",
     "start_time": "2021-08-18T22:52:07.323560Z"
    },
    "collapsed": true
   },
   "outputs": [],
   "source": [
    "def get_wm_intersection_pt(wm,soma_pt,pia_pt):\n",
    "    wm_pt = []\n",
    "    for j in range(500,6000,50):\n",
    "        opposing_pt = Vectors().create_pt_along_vector_at_given_distance(-j,soma_pt,pia_pt)\n",
    "        #print(opposing_pt)\n",
    "        #Landmarks(pts=[opposing_pt]).write_landmarks(output_root+'oppsing_pt')\n",
    "        wm_pt,dist = wm.get_vector_intersection_pt(soma_pt,opposing_pt,extrapolation_len=0)\n",
    "        #Landmarks(pts=[opposing_pt]).write_landmarks(output_root+'wm_pt')\n",
    "        #print(wm_pt)\n",
    "        if len(wm_pt)>0:\n",
    "            break\n",
    "    return wm_pt"
   ]
  },
  {
   "cell_type": "code",
   "execution_count": 11,
   "metadata": {
    "ExecuteTime": {
     "end_time": "2021-08-18T22:52:08.850646Z",
     "start_time": "2021-08-18T22:52:08.842933Z"
    },
    "collapsed": true
   },
   "outputs": [],
   "source": [
    "def get_cell_type_from_df(df,exp_name):\n",
    "    for i in range(len(df)):\n",
    "        if exp_name.startswith(df['file_id'][i]):\n",
    "            return df['celltype_manual'][i]\n",
    "    "
   ]
  },
  {
   "cell_type": "markdown",
   "metadata": {},
   "source": [
    "# Create Pia and WM Surfaces"
   ]
  },
  {
   "cell_type": "code",
   "execution_count": null,
   "metadata": {
    "ExecuteTime": {
     "end_time": "2020-08-20T16:49:16.524302Z",
     "start_time": "2020-08-20T16:49:16.480772Z"
    },
    "collapsed": true
   },
   "outputs": [],
   "source": [
    "@delayed\n",
    "def create_surface(file,surface_resolution='100'):\n",
    "    sg = AmiraSpatialGraph(filename=file)\n",
    "    # flip if required\n",
    "    #txmat = get_axis_flip_tx_mat(sg)\n",
    "    #print(txmat)\n",
    "    #sg.apply_transformation(txmat)\n",
    "    #sg.write_spatial_graph(root_dst+os.path.basename(file))\n",
    "    #sg = AmiraSpatialGraph(root_dst+os.path.basename(file))\n",
    "    #sg_clipped = get_fist_x_z_planes_sg(sg,17)\n",
    "    #sg_clipped.write_spatial_graph(root_dst+os.path.basename(file)+'_clipped.am')\n",
    "    os.system('/home/mythreya/project_src/BarrelField3D/DataAnalysis3D/BF3DRecon {} {} {}'.\\\n",
    "              format(file,output_surfaces+os.path.basename(file)[:-3],str(100)))\n",
    "    pia = Surface(output_surfaces+os.path.basename(file)[:-3]+'_pia.vtk')\n",
    "    wm = Surface(output_surfaces+os.path.basename(file)[:-3]+'_WM.vtk')\n",
    "    \n",
    "    if pia.surface.GetNumberOfCells()>0 and wm.surface.GetNumberOfCells()>0:\n",
    "        pia.clip_surface_at_given_z(-100,output_filename = output_surfaces+os.path.basename(file)[:-3]+'_pia_bottom_open.vtk')\n",
    "        wm.clip_surface_at_given_z(-100,output_filename = output_surfaces+os.path.basename(file)[:-3]+'_WM_bottom_open.vtk')\n",
    "        \n",
    "        os.system('/home/mythreya/project_src/BarrelField3D/DataAnalysis3D/BF3DRecon {} {} {}'.\\\n",
    "              format(file,output_surfaces+os.path.basename(file)[:-3],str(450)))\n",
    "        pia_450 = Surface(output_surfaces+os.path.basename(file)[:-3]+'_pia.vtk')\n",
    "        pia_450.clip_surface_at_given_z(-100,output_filename = output_surfaces+os.path.basename(file)[:-3]+'_pia_bottom_open_450.vtk')\n",
    "        \n",
    "        wm_450 = Surface(output_surfaces+os.path.basename(file)[:-3]+'_WM.vtk')\n",
    "        wm_450.clip_surface_at_given_z(-100,output_filename = output_surfaces+os.path.basename(file)[:-3]+'_WM_bottom_open_450.vtk')\n",
    "            \n",
    "    else:\n",
    "        # create a delunay surface as the traditional way has failed\n",
    "        pia = Surface(pts=sg.pia.edge_pt_coords)\n",
    "        wm = Surface(pts=sg.wm.edge_pt_coords)\n",
    "        pia_hull = pia.create_delunay_surface_3d(return_hull=True,output_filename=output_surfaces+os.path.basename(file)[:-3]+'_pia.vtk')\n",
    "        wm_hull = wm.create_delunay_surface_3d(return_hull=True,output_filename=output_surfaces+os.path.basename(file)[:-3]+'_WM.vtk')\n",
    "        \n",
    "        # clip at the bottom\n",
    "        shutil.copyfile(src=file,dst=output_surfaces+os.path.basename(file)[:-3]+'_barrels.am')\n",
    "        pia.clip_surface_at_given_z(-100,output_filename = output_surfaces+os.path.basename(file)[:-3]+'_pia_bottom_open.vtk')\n",
    "        wm.clip_surface_at_given_z(-100,output_filename = output_surfaces+os.path.basename(file)[:-3]+'_WM_bottom_open.vtk')\n",
    "        #wm.create_axis_field(pia,op_sg_name=output_surfaces+os.path.basename(file)[:-3]+'_axis_field.am',flip_normals=False,\\\n",
    "        #                              return_axes=True)"
   ]
  },
  {
   "cell_type": "code",
   "execution_count": null,
   "metadata": {
    "ExecuteTime": {
     "end_time": "2020-08-20T16:49:56.648543Z",
     "start_time": "2020-08-20T16:49:16.599724Z"
    },
    "collapsed": true,
    "scrolled": true
   },
   "outputs": [],
   "source": [
    "fn_list_surfs = []\n",
    "file_names = sorted(glob.glob(input_path_spatial_graphs+'*.am'))\n",
    "for i in range(len(file_names)):\n",
    "    #if os.path.basename(file_names[i])=='RA20150804_2_4x-_for_cell_merge_.am_Segmented_corrected_DONE.am':\n",
    "    fn_list_surfs.append(create_surface(file_names[i]))\n",
    "\n",
    "compute(fn_list_surfs)"
   ]
  },
  {
   "cell_type": "markdown",
   "metadata": {},
   "source": [
    "# Generate Axis Field"
   ]
  },
  {
   "cell_type": "code",
   "execution_count": null,
   "metadata": {
    "ExecuteTime": {
     "end_time": "2020-08-20T16:59:08.288266Z",
     "start_time": "2020-08-20T16:59:07.997603Z"
    },
    "collapsed": true,
    "scrolled": true
   },
   "outputs": [],
   "source": [
    "# Create axis with the smooth wm (voxel size 450) \n",
    "file_names = sorted(glob.glob(input_path_spatial_graphs+'*.am'))\n",
    "for i in range(len(file_names)):\n",
    "    file = file_names[i]\n",
    "    #if os.path.basename(file)[:-3] == 'RA20150804_2_4x-_for_cell_merge_.am_Segmented_corrected_DONE':\n",
    "    pia_100 = Surface(output_surfaces+os.path.basename(file)[:-3]+'_pia_bottom_open.vtk')\n",
    "    wm_100 = Surface(output_surfaces+os.path.basename(file)[:-3]+'_WM_bottom_open.vtk')\n",
    "    wm_450 = Surface(output_surfaces+os.path.basename(file)[:-3]+'_WM_bottom_open_450.vtk')\n",
    "\n",
    "    if wm_450.surface.GetNumberOfCells() > 0:\n",
    "        wm_to_use = wm_450\n",
    "    else:\n",
    "        wm_to_use = wm_100\n",
    "    \n",
    "    flipped_axes = wm_to_use.create_axis_field(pia_100,op_sg_name=None,flip_normals=True,return_axes=True,\\\n",
    "                                            max_allowed_axis_length=5000,check_source_double_touch=True)\n",
    "    axes = wm_to_use.create_axis_field(pia_100,op_sg_name=None,flip_normals=False,return_axes=True,\\\n",
    "                                    max_allowed_axis_length=5000,check_source_double_touch=True)\n",
    "    sg = AmiraSpatialGraph(generic_graph=True)\n",
    "    for edge in flipped_axes:\n",
    "        sg.graph_data.add_edge(edge[0],edge[1])\n",
    "    for edge in axes:\n",
    "        sg.graph_data.add_edge(edge[0],edge[1])\n",
    "    #sg.write_spatial_graph(output_axis_field+os.path.basename(file)[:-3]+'_axis_field.am')\n",
    "\n",
    "    # trim the axis field as per the pia and wm surfaces of 100 micron voxel resolution\n",
    "    selected_axis_field_sg,wm_pts,pia_pts,missing_axis_field = pia_100.get_axis_field_within_instersecting_surface_with_trimming\\\n",
    "                                (pia_100.surface,wm_100.surface,sg.graph_data.edge_list,vec_extension_offset=0.75)\n",
    "    selected_axis_field_sg.write_spatial_graph(output_axis_field+os.path.basename(file)[:-3]+'_axis_field.am')\n",
    "\n",
    "        \n",
    "        "
   ]
  },
  {
   "cell_type": "markdown",
   "metadata": {},
   "source": [
    "# Stats of input neuron and surfaces"
   ]
  },
  {
   "cell_type": "code",
   "execution_count": null,
   "metadata": {
    "ExecuteTime": {
     "start_time": "2020-08-20T17:00:07.000Z"
    },
    "collapsed": true,
    "scrolled": true
   },
   "outputs": [],
   "source": [
    "cols = ['Exp_Name','Pia_Area','WM_Area','Pia_Volume','WM_Volume',\\\n",
    "        'Cortical_Thickness_Mean','Cortical_Thickness_Std','Cortical_Thickness_CoV',\\\n",
    "        'Cortical_Thickness_vS1_Mean','Cortical_Thickness_vS1_Std','Cortical_Thickness_vS1_CoV',]\n",
    "df_main = pd.DataFrame(columns=cols)\n",
    "\n",
    "for file in sorted(glob.glob(input_path_spatial_graphs+'*.am')):\n",
    "    print(file)\n",
    "    pia = Surface(output_surfaces+os.path.basename(file)[:-3]+'_pia_bottom_open.vtk')\n",
    "    wm = Surface(output_surfaces+os.path.basename(file)[:-3]+'_WM_bottom_open.vtk')\n",
    "    pia_closed = pia.create_delunay_surface_3d(return_hull=True,make_cube=False)\n",
    "    wm_closed = wm.create_delunay_surface_3d(return_hull=True,make_cube=False)\n",
    "    axis_field = AmiraSpatialGraph(output_axis_field+os.path.basename(file)[:-3]+'_axis_field.am',generic_graph=True)\n",
    "    \n",
    "    sg = AmiraSpatialGraph(file)\n",
    "    vs1_sg = AmiraSpatialGraph(generic_graph=True)\n",
    "    # create hull around s1 and get axis field for s1\n",
    "    for pt in sg.barrels.all_rows_graphdata.edge_pt_coords:\n",
    "        min_edge,min_dist, min_dist_from_wm, min_dist_from_pia, pt_on_vector = \\\n",
    "        Vectors().get_nearest_axis_to_pt(pt,axis_field.graph_data.edge_list,axis_validation_distance=3000)\n",
    "        vs1_sg.graph_data.add_edge(min_edge[0],min_edge[1])\n",
    "    vs1_sg.write_spatial_graph(output_axis_field+os.path.basename(file)[:-3]+'_vS1_Axis_Field.am')\n",
    "    \n",
    "    # find vector lengths for whole surface and vs1 area\n",
    "    vec_lens,bla1,bla2 = Vectors().get_vec_lengths(axis_field.graph_data.edge_list)\n",
    "    vec_lens_vs1,bla,blee = Vectors().get_vec_lengths(vs1_sg.graph_data.edge_list)\n",
    "        \n",
    "    df = pd.DataFrame(columns=df_main.columns)\n",
    "    df['Exp_Name'] = [os.path.basename(file)[:-3]]\n",
    "    df['Pia_Area'] = [pia.get_surface_properties(prop='area')]\n",
    "    df['WM_Area'] = [wm.get_surface_properties(prop='area')]\n",
    "    df['Pia_Volume'] = [Surface(polydata=pia_closed).get_surface_properties(prop='volume')]\n",
    "    df['WM_Volume'] = [Surface(polydata=wm_closed).get_surface_properties(prop='volume')]\n",
    "    df['Cortical_Thickness_Mean'] = [np.array(vec_lens).mean(axis=0)]\n",
    "    df['Cortical_Thickness_Std'] = [np.array(vec_lens).std(axis=0)]\n",
    "    df['Cortical_Thickness_CoV'] = df['Cortical_Thickness_Std'] / df['Cortical_Thickness_Mean'] * 100\n",
    "    df['Cortical_Thickness_vS1_Mean'] = [np.array(vec_lens_vs1).mean(axis=0)]\n",
    "    df['Cortical_Thickness_vS1_Std'] = [np.array(vec_lens_vs1).std(axis=0)]\n",
    "    df['Cortical_Thickness_vS1_CoV'] = df['Cortical_Thickness_vS1_Std'] / df['Cortical_Thickness_vS1_Mean'] * 100\n",
    "        \n",
    "    df_main = df_main.append(df)\n",
    "\n",
    "df_main.to_csv(output_stats+'Surface_Area_and_Thickness.csv')\n",
    "    "
   ]
  },
  {
   "cell_type": "code",
   "execution_count": null,
   "metadata": {
    "ExecuteTime": {
     "end_time": "2020-08-28T14:56:13.156260Z",
     "start_time": "2020-08-28T14:47:14.801849Z"
    },
    "collapsed": true,
    "scrolled": true
   },
   "outputs": [],
   "source": [
    "cols = ['Exp_Name','Apical_Dendrite_Present','WM_Present_Below_Neuron',\\\n",
    "        'Neuron_Depth_from_Pia','Neuron_Height_from_WM','Neuron_Axis_Length']\n",
    "df_main = pd.DataFrame(columns=cols)\n",
    "for file in sorted(glob.glob(input_path_spatial_graphs+'*.am')):\n",
    "    #if os.path.basename(file)[:-3] == 'RA20160401_Cell_B_DONE':\n",
    "    print(os.path.basename(file)[:-3])\n",
    "    df = pd.DataFrame(columns=df_main.columns)\n",
    "    df['Exp_Name'] = [os.path.basename(file)[:-3]]\n",
    "    \n",
    "    pia = Surface(output_surfaces+os.path.basename(file)[:-3]+'_pia_bottom_open.vtk')\n",
    "    wm = Surface(output_surfaces+os.path.basename(file)[:-3]+'_WM_bottom_open.vtk')\n",
    "    axis_field = AmiraSpatialGraph(output_axis_field+os.path.basename(file)[:-3]+'_axis_field.am',generic_graph=True)\n",
    "    \n",
    "    sg = AmiraSpatialGraph(file)\n",
    "    soma_center = np.array(sg.neuron.soma.edge_pt_coords).mean(axis=0)\n",
    "    Landmarks(pts=[soma_center]).write_landmarks(output_neuron_axis+os.path.basename(file)[:-3]+'_Soma_Centroid.landmarksAscii')\n",
    "\n",
    "    dendrite_pts = []    \n",
    "    for pt in sg.neuron.dendrite.apical_dendrite.edge_pt_coords:\n",
    "        dendrite_pts.append(pt)\n",
    "    for pt in sg.neuron.dendrite.basal_dendrite.edge_pt_coords:\n",
    "        dendrite_pts.append(pt)   \n",
    "    dendrite_mean = np.array(dendrite_pts).mean(axis=0)\n",
    "\n",
    "    # write dendrite for easy visualization\n",
    "    sg.write_sub_spatial_graph(sg.neuron.dendrite.apical_dendrite,output_neuron_axis+os.path.basename(file)[:-3]+\\\n",
    "                               '_apical_dendrite.am')\n",
    "    sg.write_sub_spatial_graph(sg.neuron.dendrite.basal_dendrite,output_neuron_axis+os.path.basename(file)[:-3]+\\\n",
    "                               '_basal_dendrite.am')\n",
    "\n",
    "    # Avg Local Axis \n",
    "    nearby_axes = Vectors().get_nearest_axes_to_pts_within_radius(axis_field.graph_data.edge_list,[soma_center],800)\n",
    "    nearby_axes_sg = AmiraSpatialGraph(generic_graph=True)\n",
    "    unit_vecs = []\n",
    "    for axis in nearby_axes:\n",
    "        nearby_axes_sg.graph_data.add_edge(axis[0],axis[1])\n",
    "        unit_vecs.append(Vectors().get_unit_vec(axis[0],axis[1]))\n",
    "    nearby_axes_sg.write_spatial_graph(output_neuron_axis+os.path.basename(file)[:-3]+'_axis_field_selected.am')\n",
    "    avg_uv = np.array(unit_vecs).mean(axis=0)\n",
    "    end_pt = (avg_uv*6000 + soma_center)\n",
    "    pia_proj_pt_neuron_using_local_avg_axis,soma_depth_using_local_avg = pia.get_vector_intersection_pt(end_pt,soma_center,extrapolation_len=0)\n",
    "    write_edge([soma_center,pia_proj_pt_neuron_using_local_avg_axis],output_neuron_axis+os.path.basename(file)[:-3]+'_soma_pia_axis_local_avg.am')\n",
    "    \n",
    "    wm_proj_pt_neuron_using_local_avg_axis = get_wm_intersection_pt(wm,soma_center,pia_proj_pt_neuron_using_local_avg_axis)\n",
    "    if len(wm_proj_pt_neuron_using_local_avg_axis) > 0:\n",
    "        write_edge([soma_center,wm_proj_pt_neuron_using_local_avg_axis],output_neuron_axis+os.path.basename(file)[:-3]+'_soma_wm_axis_local_avg.am')\n",
    "    else:\n",
    "        print('no wm intersection found using avg local axis for {}'.format(os.path.basename(file)))\n",
    "    soma_depth_using_local_avg = Vectors().get_vec_length([soma_center,pia_proj_pt_neuron_using_local_avg_axis])\n",
    "    # decide which method of depth measurement to use\n",
    "    # using the apical dendrite axis works best for L5 and below neurons\n",
    "    # where as local axis is good for L2/3\n",
    "    print(soma_depth_using_local_avg)\n",
    "\n",
    "    if len(sg.neuron.dendrite.apical_dendrite.edge_pt_coords) > 0:\n",
    "        df['Apical_Dendrite_Present'] = ['Yes']\n",
    "        #df = pd.DataFrame(columns=df_main.columns)\n",
    "        # Get apical dend axis using pca\n",
    "        pca_components = get_pca_direction(sg.neuron.dendrite.apical_dendrite.edge_pt_coords)\n",
    "        #Landmarks(pts=resampled_pts).write_landmarks(output_root+'pts')\n",
    "        end_pt = Vectors().create_pt_along_vector_at_given_distance(6000,[0,0,0],pca_components[0,:])\n",
    "        #Landmarks(pts=[end_pt+soma_center]).write_landmarks(output_root+'end_pt')\n",
    "        #print(end_pt)\n",
    "        angle = Vectors().get_angle_between_vectors([soma_center,pia_proj_pt_neuron_using_local_avg_axis],\\\n",
    "                         [soma_center,end_pt+soma_center],ignore_opposite_direction=False)\n",
    "        print(angle)\n",
    "        pia_proj_pt_neuron = []\n",
    "        if angle < 90:\n",
    "            # pca direction is correct.. project to pia\n",
    "            end_pt = Vectors().create_pt_along_vector_at_given_distance(6000,[0,0,0],pca_components[0,:])\n",
    "            print(end_pt)\n",
    "            Landmarks(pts=[end_pt+soma_center]).write_landmarks(output_root+'end_pt')\n",
    "            pia_proj_pt_neuron,soma_depth  = pia.get_vector_intersection_pt(end_pt+soma_center,soma_center,extrapolation_len=0)\n",
    "            write_edge([soma_center,pia_proj_pt_neuron],output_neuron_axis+os.path.basename(file)[:-3]+'_soma_pia_pca_axis.am')\n",
    "        else:\n",
    "            # the pca is inverted, so straighten it\n",
    "            #print('opposite')\n",
    "            end_pt = Vectors().create_pt_along_vector_at_given_distance(-6000,[0,0,0],pca_components[0,:])\n",
    "            pia_proj_pt_neuron,soma_depth = pia.get_vector_intersection_pt(end_pt+soma_center,soma_center,extrapolation_len=0)\n",
    "            write_edge([soma_center,pia_proj_pt_neuron],output_neuron_axis+os.path.basename(file)[:-3]+'_soma_pia_pca_axis.am')\n",
    "        \n",
    "        wm_proj_pt_neuron = get_wm_intersection_pt(wm,soma_center,pia_proj_pt_neuron)\n",
    "        if len (wm_proj_pt_neuron) > 0:\n",
    "            write_edge([soma_center,wm_proj_pt_neuron],output_neuron_axis+os.path.basename(file)[:-3]+'_soma_wm_pca_axis.am')\n",
    "        else:\n",
    "            print('no wm intersection found using pca for {}'.format(os.path.basename(file)))\n",
    "    else:\n",
    "        df['Apical_Dendrite_Present'] = ['No']\n",
    "    # select the neron axis based on whether the depth of the neuron somata\n",
    "    # for upper layer cells use avg axis, as they generally dont have enough apical dend\n",
    "    # otherwise use dend pca based axis\n",
    "    if soma_depth_using_local_avg < 500 or len(sg.neuron.dendrite.apical_dendrite.edge_pt_coords) == 0\\\n",
    "        or os.path.basename(file)[:-3] == 'RA20160401_Cell_B_DONE' or os.path.basename(file)[:-3]=='RA20180412_2_Cell_B.am_Segmented_corrected_DONE':\n",
    "        # this is a inverted cell... so do not invert the axis.. lets use the avg axis for this one:\n",
    "        df['Neuron_Depth_from_Pia'] = [distance.euclidean(soma_center,pia_proj_pt_neuron_using_local_avg_axis)]\n",
    "        write_edge([soma_center,pia_proj_pt_neuron_using_local_avg_axis],output_neuron_axis+os.path.basename(file)[:-3]+'_soma_pia_axis.am')\n",
    "        if len(wm_proj_pt_neuron_using_local_avg_axis) > 0:\n",
    "            write_edge([soma_center,wm_proj_pt_neuron_using_local_avg_axis],output_neuron_axis+os.path.basename(file)[:-3]+'_soma_wm_axis.am')\n",
    "            df['WM_Present_Below_Neuron'] = ['Yes']\n",
    "            df['Neuron_Height_from_WM'] = [distance.euclidean(soma_center,wm_proj_pt_neuron_using_local_avg_axis)]\n",
    "            df['Neuron_Axis_Length'] = df['Neuron_Depth_from_Pia'] + df['Neuron_Height_from_WM']\n",
    "            \n",
    "    else:\n",
    "        df['Neuron_Depth_from_Pia'] = [distance.euclidean(soma_center,pia_proj_pt_neuron)]\n",
    "        write_edge([soma_center,pia_proj_pt_neuron],output_neuron_axis+os.path.basename(file)[:-3]+'_soma_pia_axis.am')\n",
    "        if len(wm_proj_pt_neuron) > 0:\n",
    "            write_edge([soma_center,wm_proj_pt_neuron],output_neuron_axis+os.path.basename(file)[:-3]+'_soma_wm_axis.am')\n",
    "            df['WM_Present_Below_Neuron'] = ['Yes']\n",
    "            df['Neuron_Height_from_WM'] = [distance.euclidean(soma_center,wm_proj_pt_neuron)]\n",
    "            df['Neuron_Axis_Length'] = df['Neuron_Depth_from_Pia'] + df['Neuron_Height_from_WM']\n",
    "            \n",
    "    df_main = df_main.append(df)\n",
    "    \n",
    "df_main.to_csv(output_stats+'Local_Neuron_Axis.csv')"
   ]
  },
  {
   "cell_type": "markdown",
   "metadata": {},
   "source": [
    "# Register Using Surfaces"
   ]
  },
  {
   "cell_type": "code",
   "execution_count": null,
   "metadata": {
    "ExecuteTime": {
     "end_time": "2021-06-28T13:58:20.002740Z",
     "start_time": "2021-06-28T13:35:02.467338Z"
    },
    "collapsed": true,
    "scrolled": true
   },
   "outputs": [],
   "source": [
    "i = 0\n",
    "pca_aligned_neurons = AmiraSpatialGraph()\n",
    "surface_aligned_neurons = AmiraSpatialGraph()\n",
    "for file in sorted(glob.glob(input_path_spatial_graphs+'*.am')):\n",
    "    print(i, os.path.basename(file))\n",
    "    i = i + 1\n",
    "    pia = Surface(output_surfaces+os.path.basename(file)[:-3]+'_pia_bottom_open.vtk')\n",
    "    wm = Surface(output_surfaces+os.path.basename(file)[:-3]+'_WM_bottom_open.vtk')\n",
    "    pia_wm = pia\n",
    "    pia_wm.append(wm.surface)\n",
    "    for alignment_type in ['Using_PCA','Using_Surface']:\n",
    "        if alignment_type is 'Using_PCA':\n",
    "            input_path = output_root\n",
    "            output_path = output_alignment_using_surfaces + 'Using_PCA/'\n",
    "            pathlib.Path((output_path)).mkdir(exist_ok=True)\n",
    "\n",
    "            ref_pca_pts = []\n",
    "            pca_pts = []\n",
    "            #ref_surf = Surface()\n",
    "\n",
    "            ref_pca_pts = Alignment().get_pca_for_surf(ref_pia_wm_bottom_open.surface,output_path=None,ref_coronal=True,lhs=True)\n",
    "\n",
    "            pca_pts = Alignment().get_pca_for_surf(pia_wm.surface,output_path=None,ref_coronal=False,lhs=True)\n",
    "\n",
    "\n",
    "            icp,txmat = Landmarks(pts=pca_pts).align_landmarks(ref_pca_pts)\n",
    "\n",
    "            aligner = Alignment()\n",
    "            aligner.transform_folders(input_path,output_path,os.path.basename(file)[:-3],icp=icp,txmat = txmat,)\n",
    "            \n",
    "            if os.path.exists(output_alignment_using_surfaces + 'Using_PCA/2_Local_Neuron_Axis/' + os.path.basename(file)[:-3]+'_apical_dendrite.am'):\n",
    "                sg_apical = AmiraSpatialGraph(output_alignment_using_surfaces + 'Using_PCA/2_Local_Neuron_Axis/' + os.path.basename(file)[:-3]+'_apical_dendrite.am')\n",
    "                pca_aligned_neurons.graph_data = pca_aligned_neurons.combine_subgraphs([pca_aligned_neurons.graph_data,sg_apical.graph_data])\n",
    "        \n",
    "        else:\n",
    "            input_path = output_alignment_using_surfaces + 'Using_PCA/'\n",
    "            output_path = output_alignment_using_surfaces + 'Using_Surfaces/'\n",
    "            pathlib.Path((output_path)).mkdir(exist_ok=True)\n",
    "            print(input_path,output_path)\n",
    "\n",
    "            pia = Surface(input_path+'1_Surfaces/'+os.path.basename(file)[:-3]+'_pia_bottom_open.vtk')\n",
    "            wm = Surface(output_surfaces+'1_Surfaces/'+os.path.basename(file)[:-3]+'_WM_bottom_open.vtk')\n",
    "            pia_wm = Surface()\n",
    "            pia_wm.append(pia.surface)\n",
    "            pia_wm.append(wm.surface)\n",
    "            \n",
    "            aligner = Alignment(ref_pia_wm_bottom_open.surface,pia_wm.surface,align_by_pca=False,nr_iterations=10000,)\n",
    "            txmat = aligner.get_transformation_matrix()\n",
    "            icp = aligner.get_icp_transform()\n",
    "            aligner.transform_folders(input_path,output_path,os.path.basename(file)[:-3],icp=icp,txmat = txmat,)\n",
    "\n",
    "            if os.path.exists(output_alignment_using_surfaces + 'Using_Surfaces/2_Local_Neuron_Axis/' + os.path.basename(file)[:-3]+'_apical_dendrite.am'):\n",
    "                sg_apical = AmiraSpatialGraph(output_alignment_using_surfaces + 'Using_Surfaces/2_Local_Neuron_Axis/' + os.path.basename(file)[:-3]+'_apical_dendrite.am')\n",
    "                surface_aligned_neurons.graph_data = surface_aligned_neurons.combine_subgraphs([surface_aligned_neurons.graph_data,sg_apical.graph_data])\n",
    "    \n",
    "    \n",
    "pca_aligned_neurons.write_spatial_graph(output_alignment_using_surfaces + 'Using_PCA/All_Apical.am')\n",
    "surface_aligned_neurons.write_spatial_graph(output_alignment_using_surfaces + 'Using_Surfaces/All_Apical.am')"
   ]
  },
  {
   "cell_type": "code",
   "execution_count": null,
   "metadata": {
    "ExecuteTime": {
     "end_time": "2021-06-28T15:05:26.374236Z",
     "start_time": "2021-06-28T14:42:33.569402Z"
    },
    "collapsed": true,
    "scrolled": true
   },
   "outputs": [],
   "source": [
    "#Pia Only\n",
    "i = 0\n",
    "pca_aligned_neurons = AmiraSpatialGraph()\n",
    "surface_aligned_neurons = AmiraSpatialGraph()\n",
    "for file in sorted(glob.glob(input_path_spatial_graphs+'*.am')):\n",
    "    print(i, os.path.basename(file))\n",
    "    i = i + 1\n",
    "    pia = Surface(output_surfaces+os.path.basename(file)[:-3]+'_pia_bottom_open.vtk')\n",
    "    wm = Surface(output_surfaces+os.path.basename(file)[:-3]+'_WM_bottom_open.vtk')\n",
    "    pia_wm = pia\n",
    "    pia_wm.append(wm.surface)\n",
    "    for alignment_type in ['Using_PCA','Using_Surface']:\n",
    "        if alignment_type is 'Using_PCA':\n",
    "            input_path = output_root\n",
    "            output_path = output_alignment_using_surfaces + 'Using_PCA_Pia_Only/'\n",
    "            pathlib.Path((output_path)).mkdir(exist_ok=True)\n",
    "\n",
    "            ref_pca_pts = []\n",
    "            pca_pts = []\n",
    "            #ref_surf = Surface()\n",
    "\n",
    "            ref_pca_pts = Alignment().get_pca_for_surf(ref_pia_bottom_open.surface,output_path=None,ref_coronal=True,lhs=True)\n",
    "\n",
    "            pca_pts = Alignment().get_pca_for_surf(pia.surface,output_path=None,ref_coronal=False,lhs=True)\n",
    "\n",
    "\n",
    "            icp,txmat = Landmarks(pts=pca_pts).align_landmarks(ref_pca_pts)\n",
    "\n",
    "            aligner = Alignment()\n",
    "            aligner.transform_folders(input_path,output_path,os.path.basename(file)[:-3],icp=icp,txmat = txmat,)\n",
    "            \n",
    "            if os.path.exists(output_alignment_using_surfaces + 'Using_PCA_Pia_Only/2_Local_Neuron_Axis/' + os.path.basename(file)[:-3]+'_apical_dendrite.am'):\n",
    "                sg_apical = AmiraSpatialGraph(output_alignment_using_surfaces + 'Using_PCA_Pia_Only/2_Local_Neuron_Axis/' + os.path.basename(file)[:-3]+'_apical_dendrite.am')\n",
    "                pca_aligned_neurons.graph_data = pca_aligned_neurons.combine_subgraphs([pca_aligned_neurons.graph_data,sg_apical.graph_data])\n",
    "        \n",
    "        else:\n",
    "            input_path = output_alignment_using_surfaces + 'Using_PCA_Pia_Only/'\n",
    "            output_path = output_alignment_using_surfaces + 'Using_Surfaces_Pia_Only/'\n",
    "            pathlib.Path((output_path)).mkdir(exist_ok=True)\n",
    "            print(input_path,output_path)\n",
    "\n",
    "            pia = Surface(input_path+'1_Surfaces/'+os.path.basename(file)[:-3]+'_pia_bottom_open.vtk')\n",
    "            #wm = Surface(output_surfaces+'1_Surfaces/'+os.path.basename(file)[:-3]+'_WM_bottom_open.vtk')\n",
    "            pia_wm = Surface()\n",
    "            pia_wm.append(pia.surface)\n",
    "            #pia_wm.append(wm.surface)\n",
    "            \n",
    "            aligner = Alignment(ref_pia_bottom_open.surface,pia.surface,align_by_pca=False,nr_iterations=10000,)\n",
    "            txmat = aligner.get_transformation_matrix()\n",
    "            icp = aligner.get_icp_transform()\n",
    "            aligner.transform_folders(input_path,output_path,os.path.basename(file)[:-3],icp=icp,txmat = txmat,)\n",
    "\n",
    "            if os.path.exists(output_alignment_using_surfaces + 'Using_Surfaces_Pia_Only/2_Local_Neuron_Axis/' + os.path.basename(file)[:-3]+'_apical_dendrite.am'):\n",
    "                sg_apical = AmiraSpatialGraph(output_alignment_using_surfaces + 'Using_Surfaces_Pia_Only/2_Local_Neuron_Axis/' + os.path.basename(file)[:-3]+'_apical_dendrite.am')\n",
    "                surface_aligned_neurons.graph_data = surface_aligned_neurons.combine_subgraphs([surface_aligned_neurons.graph_data,sg_apical.graph_data])\n",
    "    \n",
    "    \n",
    "pca_aligned_neurons.write_spatial_graph(output_alignment_using_surfaces + 'Using_PCA_Pia_Only/All_Apical.am')\n",
    "surface_aligned_neurons.write_spatial_graph(output_alignment_using_surfaces + 'Using_Surfaces_Pia_Only/All_Apical.am')"
   ]
  },
  {
   "cell_type": "code",
   "execution_count": null,
   "metadata": {
    "ExecuteTime": {
     "end_time": "2021-06-28T15:18:57.274174Z",
     "start_time": "2021-06-28T15:18:57.236813Z"
    },
    "collapsed": true
   },
   "outputs": [],
   "source": [
    "# Combine the soma centers   \n",
    "landmarks = Landmarks()\n",
    "for file in sorted(glob.glob(input_path_spatial_graphs+'*.am')):\n",
    "    landmarks.append_landmarks(Landmarks(output_alignment_using_surfaces + 'Using_Surfaces/2_Local_Neuron_Axis/' + os.path.basename(file)[:-3]+'_Soma_Centroid.landmarksAscii').pts)\n",
    "    \n",
    "landmarks.write_landmarks(output_alignment_using_surfaces + 'Using_Surfaces/' + 'All_Somas.landmarksAscii')"
   ]
  },
  {
   "cell_type": "code",
   "execution_count": null,
   "metadata": {
    "ExecuteTime": {
     "end_time": "2021-06-28T16:55:12.942244Z",
     "start_time": "2021-06-28T16:53:51.230566Z"
    },
    "collapsed": true
   },
   "outputs": [],
   "source": [
    "# combine dendrites and neurons\n",
    "apical_dend = AmiraSpatialGraph()\n",
    "basal_dends = AmiraSpatialGraph()\n",
    "#dends = AmiraSpatialGraph()\n",
    "#neurons = AmiraSpatialGraph()\n",
    "somas = AmiraSpatialGraph()\n",
    "axons = AmiraSpatialGraph()\n",
    "for file in sorted(glob.glob(input_path_spatial_graphs+'*.am')):\n",
    "    sg = AmiraSpatialGraph(output_alignment_using_surfaces + 'Using_Surfaces/1_Surfaces/' + os.path.basename(file)[:-3]+'_barrels.am')\n",
    "    #apical_dend.graph_data = apical_dend.combine_subgraphs([apical_dend.graph_data,sg.neuron.dendrite.apical_dendrite])\n",
    "    basal_dends.graph_data = apical_dend.combine_subgraphs([basal_dends.graph_data,sg.neuron.dendrite.basal_dendrite])\n",
    "    axons.graph_data = axons.combine_subgraphs([axons.graph_data,sg.neuron.axon])\n",
    "    somas.graph_data = somas.combine_subgraphs([somas.graph_data,sg.neuron.soma])\n",
    "    \n",
    "    #surface_aligned_neurons.graph_data = surface_aligned_neurons.combine_subgraphs([surface_aligned_neurons.graph_data,sg_apical.graph_data])\n",
    "basal_dends.write_spatial_graph(output_alignment_using_surfaces + 'Using_Surfaces/All_Basal.am')\n",
    "axons.write_spatial_graph(output_alignment_using_surfaces + 'Using_Surfaces/All_Axon.am')\n",
    "somas.write_spatial_graph(output_alignment_using_surfaces + 'Using_Surfaces/All_Soma.am')"
   ]
  },
  {
   "cell_type": "code",
   "execution_count": null,
   "metadata": {
    "ExecuteTime": {
     "end_time": "2021-06-28T17:03:25.914232Z",
     "start_time": "2021-06-28T17:03:22.830306Z"
    },
    "collapsed": true
   },
   "outputs": [],
   "source": [
    "input_path = output_alignment_using_surfaces + 'Using_Surfaces/'\n",
    "output_path_nearest_axis = input_path+'Nearest_Axis/'\n",
    "pathlib.Path(output_path_nearest_axis).mkdir(exist_ok=True)\n",
    "avg_axis_field = AmiraSpatialGraph(input_path_avg_rf+'vM1_axis_field_lhs.am',generic_graph=True).graph_data.edge_list\n",
    "nearest_axis_sg = AmiraSpatialGraph(generic_graph=True)\n",
    "soma_pia_axes_sg = AmiraSpatialGraph(generic_graph=True)\n",
    "for file in sorted(glob.glob(input_path_spatial_graphs+'*.am')):\n",
    "    #print(i, os.path.basename(file))\n",
    "    soma_center = Landmarks(input_path + '2_Local_Neuron_Axis/'+os.path.basename(file)[:-3]+'_Soma_Centroid.landmarksAscii').pts[0]\n",
    "    neaerst_vec,a,b,c,d = Vectors().get_nearest_axis_to_pt(soma_center,avg_axis_field,axis_validation_distance=5000)\n",
    "    nearest_axis_sg.graph_data.add_edge(neaerst_vec[0],neaerst_vec[1])\n",
    "    \n",
    "    nearest_axis_sg_exp = AmiraSpatialGraph(generic_graph=True)\n",
    "    nearest_axis_sg_exp.graph_data.add_edge(neaerst_vec[0],neaerst_vec[1])\n",
    "    nearest_axis_sg_exp.write_spatial_graph(output_path_nearest_axis+os.path.basename(file)[:-3]+'_nearest_axis.am')\n",
    "    \n",
    "    soma_pia_axis = AmiraSpatialGraph(input_path+'2_Local_Neuron_Axis/'\\\n",
    "                              +os.path.basename(file)[:-3]+'_soma_pia_axis.am',generic_graph=True).graph_data.edge_list[0]\n",
    "    soma_pia_axes_sg.graph_data.add_edge(soma_pia_axis[0],soma_pia_axis[1])\n",
    "nearest_axis_sg.write_spatial_graph(input_path+'Nearest_Axes.am')\n",
    "soma_pia_axes_sg.write_spatial_graph(input_path+'Original_Soma_Pia_Axes.am')"
   ]
  },
  {
   "cell_type": "code",
   "execution_count": null,
   "metadata": {
    "collapsed": true
   },
   "outputs": [],
   "source": []
  },
  {
   "cell_type": "markdown",
   "metadata": {},
   "source": [
    "# Refine Using Neuron Axis And Ref Axis"
   ]
  },
  {
   "cell_type": "code",
   "execution_count": null,
   "metadata": {
    "ExecuteTime": {
     "end_time": "2021-06-28T18:01:00.594138Z",
     "start_time": "2021-06-28T18:01:00.427291Z"
    },
    "collapsed": true
   },
   "outputs": [],
   "source": [
    "def refine_registration_using_neuron_axis(input_path,output_path,preserve_rel_depth=True,use_nearest_axis=True):\n",
    "    ''' Refine registration after the surface to surface registration is done, by aligning neuron axis with ref axis\n",
    "        use_nearest_axis: whether to use nearest axis in the ref frame or to use the local avg axis\n",
    "        preserve_rel_depth:whether to preserve the pia soma distance or the relative soma depth in the axis\n",
    "    '''\n",
    "    # read ref pia and wm \n",
    "    ref_pia = Surface(input_path_avg_rf+'Avg_Pia_lhs_delunay_bottom_open.vtk')\n",
    "    ref_wm = Surface(input_path_avg_rf+'Avg_WM_lhs_delunay_bottom_open.vtk')\n",
    "    \n",
    "    output_path_nearest_axis = input_path+'/Nearest_Axis/'\n",
    "    pathlib.Path(output_path_nearest_axis).mkdir(exist_ok=True)\n",
    "    output_path_interpolated_ref_axis = input_path+'/Interpolated_Reference_Axis/'\n",
    "    pathlib.Path(output_path_interpolated_ref_axis).mkdir(exist_ok=True)\n",
    "    \n",
    "    avg_axis_field = AmiraSpatialGraph(input_path_avg_rf+'vM1_axis_field_lhs.am',generic_graph=True).graph_data.edge_list\n",
    "    nearest_axis_sg = AmiraSpatialGraph(generic_graph=True)\n",
    "    for file in sorted(glob.glob(input_path_spatial_graphs+'*.am')):\n",
    "        print(os.path.basename(file))\n",
    "        original_axis_field = AmiraSpatialGraph(input_path+'1_Axis_Fields/'+os.path.basename(file)[:-3]+'_axis_field.am',generic_graph=True).graph_data.edge_list\n",
    "\n",
    "        soma_center = Landmarks(input_path + '2_Local_Neuron_Axis/'+os.path.basename(file)[:-3]+'_Soma_Centroid.landmarksAscii').pts[0]\n",
    "        soma_pia_axis = AmiraSpatialGraph(input_path+'2_Local_Neuron_Axis/'\\\n",
    "                                  +os.path.basename(file)[:-3]+'_soma_pia_axis.am',generic_graph=True).graph_data.edge_list[0]\n",
    "        \n",
    "        if use_nearest_axis:\n",
    "            neaerst_vec,a,b,c,d = Vectors().get_nearest_axis_to_pt(soma_center,avg_axis_field,axis_validation_distance=5000)\n",
    "            nearest_axis_sg.graph_data.add_edge(neaerst_vec[0],neaerst_vec[1])\n",
    "            ref_vec_len = Vectors().get_vec_length(neaerst_vec) \n",
    "            nearest_axis_sg_exp = AmiraSpatialGraph(generic_graph=True)\n",
    "            nearest_axis_sg_exp.graph_data.add_edge(neaerst_vec[0],neaerst_vec[1])\n",
    "            nearest_axis_sg_exp.write_spatial_graph(output_path_nearest_axis+os.path.basename(file)[:-3]+'_nearest_axis.am')\n",
    "        else:\n",
    "            # find the interpolated axis in the ref frame at this position \n",
    "            nearby_axes = Vectors().get_nearest_axes_to_pts_within_radius(avg_axis_field,[soma_center],800)\n",
    "            nearby_axes_sg = AmiraSpatialGraph(generic_graph=True)\n",
    "            unit_vecs = []\n",
    "            for axis in nearby_axes:\n",
    "                nearby_axes_sg.graph_data.add_edge(axis[0],axis[1])\n",
    "                unit_vecs.append(Vectors().get_unit_vec(axis[0],axis[1]))\n",
    "            nearby_axes_sg.write_spatial_graph(output_path_interpolated_ref_axis+os.path.basename(file)[:-3]+'_axis_field_selected.am')\n",
    "            avg_uv = np.array(unit_vecs).mean(axis=0)\n",
    "            end_pt = (avg_uv*6000 + soma_center)\n",
    "            #print(end_pt)\n",
    "            wm_proj_pt_neuron_using_local_avg_axis,dist = ref_wm.get_vector_intersection_pt(end_pt,\\\n",
    "                                                        soma_center,extrapolation_len=10000)\n",
    "            #print(wm_proj_pt_neuron_using_local_avg_axis)\n",
    "            if len(wm_proj_pt_neuron_using_local_avg_axis) > 0:\n",
    "                write_edge([soma_center,wm_proj_pt_neuron_using_local_avg_axis],output_path_interpolated_ref_axis+os.path.basename(file)[:-3]+'_soma_wm_axis_local_avg.am')\n",
    "                \n",
    "                pia_proj_pt_neuron_using_local_avg_axis,soma_depth_using_local_avg = ref_pia.get_vector_intersection_pt(wm_proj_pt_neuron_using_local_avg_axis,\\\n",
    "                                                                                            soma_center,extrapolation_len=10000)\n",
    "                write_edge([soma_center,pia_proj_pt_neuron_using_local_avg_axis],\\\n",
    "                       output_path_interpolated_ref_axis+os.path.basename(file)[:-3]+'_soma_pia_axis_local_avg.am')\n",
    "            \n",
    "                neaerst_vec = [wm_proj_pt_neuron_using_local_avg_axis,pia_proj_pt_neuron_using_local_avg_axis]\n",
    "            else:\n",
    "                print('no wm intersection found using avg local axis for {}'.format(os.path.basename(file)))\n",
    "            \n",
    "            \n",
    "        if preserve_rel_depth:\n",
    "            # need to find the pia wm dist in the original neuron axis\n",
    "            if os.path.exists(input_path+'2_Local_Neuron_Axis/'+os.path.basename(file)[:-3]+'_soma_wm_axis.am'):\n",
    "                soma_wm_axis = AmiraSpatialGraph(input_path+'2_Local_Neuron_Axis/'\\\n",
    "                                          +os.path.basename(file)[:-3]+'_soma_wm_axis.am',generic_graph=True).graph_data.edge_list[0]\n",
    "                original_vec_length = Vectors().get_vec_length(soma_pia_axis) + Vectors().get_vec_length(soma_wm_axis)\n",
    "            else:\n",
    "                # wm intersection not found.. try to find the nearest axis length in the original\n",
    "                neaerst_vec_original,a,b,c,d = Vectors().get_nearest_axis_to_pt(soma_center,original_axis_field,axis_validation_distance=5000)\n",
    "                original_vec_length = Vectors().get_vec_length(neaerst_vec_original) \n",
    "\n",
    "\n",
    "            # Get soma and pia pts on the ref axis based on the scaled soma pia depth\n",
    "            len_ratio = Vectors().get_vec_length(neaerst_vec)/original_vec_length\n",
    "            new_soma_pia_dist = len_ratio * Vectors().get_vec_length(soma_pia_axis) \n",
    "            soma_pt_on_ref_axis = Vectors().create_pt_along_vector_at_given_distance(new_soma_pia_dist,\\\n",
    "                                            neaerst_vec[1],neaerst_vec[0])\n",
    "            pia_pt_on_ref_axis = Vectors().create_pt_along_vector_at_given_distance(Vectors().get_vec_length(soma_pia_axis),\\\n",
    "                                            soma_pt_on_ref_axis,neaerst_vec[1])\n",
    "\n",
    "            landmarks = Landmarks(pts=soma_pia_axis)\n",
    "            icp,txmat = landmarks.align_landmarks([soma_pt_on_ref_axis,pia_pt_on_ref_axis])\n",
    "        else:\n",
    "            # conserve the pia to soma dist only\n",
    "            soma_pt_on_ref_axis = Vectors().create_pt_along_vector_at_given_distance(Vectors().get_vec_length(soma_pia_axis),\\\n",
    "                                            neaerst_vec[1],neaerst_vec[0])\n",
    "            \n",
    "            landmarks = Landmarks(pts=soma_pia_axis)\n",
    "            icp,txmat = landmarks.align_landmarks([soma_pt_on_ref_axis,neaerst_vec[1]])\n",
    "        \n",
    "        #print(txmat)\n",
    "\n",
    "        aligner2 = Alignment() \n",
    "        aligner2.transform_folders(input_path,output_path,os.path.basename(file)[:-3],txmat=txmat,icp=icp)\n",
    "        \n",
    "        "
   ]
  },
  {
   "cell_type": "code",
   "execution_count": null,
   "metadata": {
    "ExecuteTime": {
     "end_time": "2021-06-28T18:16:18.270235Z",
     "start_time": "2021-06-28T18:01:01.469750Z"
    },
    "collapsed": true,
    "scrolled": true
   },
   "outputs": [],
   "source": [
    "# register using 4 setups \n",
    "# preserving relative depth or pia soma dist\n",
    "# using nearest axis in the ref frame or local avg axis \n",
    "refine_registration_using_neuron_axis(output_alignment_using_surfaces+'Using_Surfaces/',output_alignment_using_neuron_axis_and_nearest_rel_depth,\\\n",
    "                                      use_nearest_axis=True,preserve_rel_depth=True)\n",
    "\n",
    "refine_registration_using_neuron_axis(output_alignment_using_surfaces+'Using_Surfaces/',output_alignment_using_neuron_axis_and_nearest_pia_soma,\\\n",
    "                                      use_nearest_axis=True,preserve_rel_depth=False)\n",
    "\n",
    "refine_registration_using_neuron_axis(output_alignment_using_surfaces+'Using_Surfaces/',output_alignment_using_neuron_axis_and_local_avg_rel_depth,\\\n",
    "                                      use_nearest_axis=False,preserve_rel_depth=True)\n",
    "\n",
    "refine_registration_using_neuron_axis(output_alignment_using_surfaces+'Using_Surfaces/',output_alignment_using_neuron_axis_and_local_Avg_pia_soma,\\\n",
    "                                      use_nearest_axis=False,preserve_rel_depth=False)"
   ]
  },
  {
   "cell_type": "code",
   "execution_count": null,
   "metadata": {
    "collapsed": true
   },
   "outputs": [],
   "source": [
    "# pull back the sticking neurons\n"
   ]
  },
  {
   "cell_type": "code",
   "execution_count": null,
   "metadata": {
    "ExecuteTime": {
     "end_time": "2021-06-28T18:23:56.182251Z",
     "start_time": "2021-06-28T18:16:18.272509Z"
    },
    "collapsed": true
   },
   "outputs": [],
   "source": [
    "for input_path in [output_alignment_using_neuron_axis_and_nearest_rel_depth,output_alignment_using_neuron_axis_and_nearest_pia_soma,\\\n",
    "                   output_alignment_using_neuron_axis_and_local_avg_rel_depth,output_alignment_using_neuron_axis_and_local_Avg_pia_soma]:\n",
    "    apical = AmiraSpatialGraph()\n",
    "    basal = AmiraSpatialGraph()\n",
    "    dend = AmiraSpatialGraph()\n",
    "    #axon = AmiraSpatialGraph()\n",
    "    neuron = AmiraSpatialGraph()\n",
    "    #input_path = output_alignment_using_neuron_axis\n",
    "    for file in sorted(glob.glob(input_path_spatial_graphs+'*.am')):\n",
    "        sg = AmiraSpatialGraph(input_path+'1_Surfaces/'+os.path.basename(file)[:-3]+'_barrels.am')\n",
    "        neuron.graph_data = neuron.combine_subgraphs([neuron.graph_data,sg.neuron.all_neurites_subgraphdata])\n",
    "        if len(sg.neuron.dendrite.apical_dendrite.edge_pt_coords)>0:\n",
    "            apical.graph_data = apical.combine_subgraphs([apical.graph_data,sg.neuron.dendrite.apical_dendrite])\n",
    "        if len(sg.neuron.dendrite.basal_dendrite.edge_pt_coords)>0:\n",
    "            basal.graph_data = basal.combine_subgraphs([basal.graph_data,sg.neuron.dendrite.basal_dendrite])\n",
    "\n",
    "    neuron.write_spatial_graph(input_path+'All_Neurons_Registered.am')\n",
    "    apical.write_spatial_graph(input_path+'All_Apical_Dendrites_Registered.am')\n",
    "    basal.write_spatial_graph(input_path+'All_Basal_Dendrites_Registered.am')"
   ]
  },
  {
   "cell_type": "code",
   "execution_count": null,
   "metadata": {
    "collapsed": true
   },
   "outputs": [],
   "source": [
    "# "
   ]
  },
  {
   "cell_type": "markdown",
   "metadata": {
    "ExecuteTime": {
     "end_time": "2020-08-31T14:04:48.900450Z",
     "start_time": "2020-08-31T14:04:48.896451Z"
    }
   },
   "source": [
    "# Sort Regiseted Neurons as per manual cell type assignment"
   ]
  },
  {
   "cell_type": "code",
   "execution_count": null,
   "metadata": {
    "ExecuteTime": {
     "end_time": "2021-06-28T19:43:19.594140Z",
     "start_time": "2021-06-28T19:36:46.553643Z"
    },
    "collapsed": true,
    "scrolled": true
   },
   "outputs": [],
   "source": [
    "# write individual neurons into their cell type folder\n",
    "# Also write the cell layer as per registered depth\n",
    "\n",
    "#input_path = output_alignment_using_neuron_axis + '1_Surfaces/'\n",
    "cell_types_df = pd.read_excel(manual_cell_type_assignment,sheetname='celltype_MO')\n",
    "#output_path_cell_type = output_alignment_using_neuron_axis+'/Manual_Cell_Type_Assignment/'\n",
    "#pathlib.Path(output_path_cell_type).mkdir(exist_ok=True)\n",
    "\n",
    "for input_path in [output_alignment_using_neuron_axis_and_nearest_rel_depth,output_alignment_using_neuron_axis_and_nearest_pia_soma,\\\n",
    "                   output_alignment_using_neuron_axis_and_local_avg_rel_depth,output_alignment_using_neuron_axis_and_local_Avg_pia_soma]:\n",
    "    \n",
    "    output_path_cell_type = input_path+'/Manual_Cell_Type_Assignment/'\n",
    "    pathlib.Path(output_path_cell_type).mkdir(exist_ok=True)\n",
    "\n",
    "    for file in sorted(glob.glob(input_path_spatial_graphs+'*.am')):\n",
    "        #for i in range(len(cell_types_df)):\n",
    "        exp_name = os.path.basename(file)[:-3]\n",
    "        sg = AmiraSpatialGraph(input_path+'1_Surfaces/'+exp_name+'_barrels.am')\n",
    "        cell_type = get_cell_type_from_df(cell_types_df,exp_name)\n",
    "        print(exp_name,cell_type)\n",
    "        \n",
    "        outputpath = output_path_cell_type+'/{}/'.format(cell_type)\n",
    "        pathlib.Path(outputpath).mkdir(exist_ok=True)\n",
    "        apical = AmiraSpatialGraph()\n",
    "        basal = AmiraSpatialGraph()\n",
    "        dend = AmiraSpatialGraph()\n",
    "        #axon = AmiraSpatialGraph()\n",
    "        neuron = AmiraSpatialGraph()\n",
    "\n",
    "        neuron.graph_data = neuron.combine_subgraphs([neuron.graph_data,sg.neuron.all_neurites_subgraphdata])\n",
    "        if len(sg.neuron.dendrite.apical_dendrite.edge_pt_coords)>0:\n",
    "            apical.graph_data = apical.combine_subgraphs([apical.graph_data,sg.neuron.dendrite.apical_dendrite])\n",
    "            dend.graph_data = dend.combine_subgraphs([dend.graph_data,sg.neuron.dendrite.apical_dendrite])\n",
    "        if len(sg.neuron.dendrite.basal_dendrite.edge_pt_coords)>0:\n",
    "            basal.graph_data = basal.combine_subgraphs([basal.graph_data,sg.neuron.dendrite.basal_dendrite])\n",
    "            dend.graph_data = dend.combine_subgraphs([dend.graph_data,sg.neuron.dendrite.basal_dendrite])\n",
    "\n",
    "        neuron.write_spatial_graph(outputpath+exp_name+'_Neuron.am')\n",
    "        apical.write_spatial_graph(outputpath+exp_name+'_Apical.am')\n",
    "        basal.write_spatial_graph(outputpath+exp_name+'_Basal.am')\n",
    "        dend.write_spatial_graph(outputpath+exp_name+'_Dend.am')\n",
    "        \n",
    "        "
   ]
  },
  {
   "cell_type": "code",
   "execution_count": null,
   "metadata": {
    "ExecuteTime": {
     "end_time": "2021-06-28T20:17:59.198152Z",
     "start_time": "2021-06-28T20:09:12.607453Z"
    },
    "collapsed": true,
    "scrolled": true
   },
   "outputs": [],
   "source": [
    "# combine all type specific neurons into each cell type class\n",
    "#input_folder = output_alignment_using_neuron_axis+'/Manual_Cell_Type_Assignment/'\n",
    "for input_folder in [output_alignment_using_neuron_axis_and_nearest_rel_depth,output_alignment_using_neuron_axis_and_nearest_pia_soma,\\\n",
    "                   output_alignment_using_neuron_axis_and_local_avg_rel_depth,output_alignment_using_neuron_axis_and_local_Avg_pia_soma]:\n",
    "    \n",
    "    for folder in glob.glob(input_folder+'/Manual_Cell_Type_Assignment/*'):\n",
    "        print(folder)\n",
    "        \n",
    "        # combine all neurons\n",
    "        apical = AmiraSpatialGraph()\n",
    "        basal = AmiraSpatialGraph()\n",
    "        dend = AmiraSpatialGraph()\n",
    "        neuron = AmiraSpatialGraph()\n",
    "        for file in (glob.glob(folder+'/*_Apical.am')):\n",
    "            sg_apical = AmiraSpatialGraph(file)\n",
    "            apical.graph_data = apical.combine_subgraphs([apical.graph_data,sg_apical.graph_data])\n",
    "        for file in (glob.glob(folder+'/*_Basal.am')):\n",
    "            sg_basal = AmiraSpatialGraph(file)\n",
    "            basal.graph_data = basal.combine_subgraphs([basal.graph_data,sg_basal.graph_data])\n",
    "        for file in (glob.glob(folder+'/*_Dend.am')):\n",
    "            sg_dend = AmiraSpatialGraph(file)\n",
    "            dend.graph_data = dend.combine_subgraphs([dend.graph_data,sg_dend.graph_data])\n",
    "        for file in (glob.glob(folder+'/*_Neuron.am')):\n",
    "            sg_neuron = AmiraSpatialGraph(file)\n",
    "            neuron.graph_data = neuron.combine_subgraphs([neuron.graph_data,sg_neuron.graph_data])\n",
    "\n",
    "        neuron.write_spatial_graph(folder+'/All_Neuron_{}.am'.format(os.path.basename(folder)))\n",
    "        apical.write_spatial_graph(folder+'/All_Apical_{}.am'.format(os.path.basename(folder)))\n",
    "        basal.write_spatial_graph(folder+'/All_Basal_{}.am'.format(os.path.basename(folder)))\n",
    "        dend.write_spatial_graph(folder+'/All_Dend_{}.am'.format(os.path.basename(folder)))\n",
    "    \n",
    "    "
   ]
  },
  {
   "cell_type": "markdown",
   "metadata": {},
   "source": [
    "# Standardize and Write Galleries"
   ]
  },
  {
   "cell_type": "code",
   "execution_count": null,
   "metadata": {
    "ExecuteTime": {
     "end_time": "2021-07-20T02:04:29.382217Z",
     "start_time": "2021-07-20T02:04:29.375186Z"
    },
    "collapsed": true
   },
   "outputs": [],
   "source": [
    "def draw_horzontal_lines(a,b,op_filename):\n",
    "    l1_line_v1 = AmiraSpatialGraph(generic_graph=True)\n",
    "    l1_line_v1.graph_data.add_edge(a,b)\n",
    "    l1_line_v1.write_spatial_graph(op_filename)"
   ]
  },
  {
   "cell_type": "code",
   "execution_count": null,
   "metadata": {
    "ExecuteTime": {
     "end_time": "2021-07-20T02:51:11.398306Z",
     "start_time": "2021-07-20T02:51:11.368508Z"
    },
    "collapsed": true
   },
   "outputs": [],
   "source": [
    "def draw_horzontal_lines_given_depth_profile(ref_len,layer_borders,layer_borders_std,layer_border_names,op_path):\n",
    "    pia_line = AmiraSpatialGraph(generic_graph=True)\n",
    "    pia_line.graph_data.add_edge([0,0,-0],[20000,0,-0])\n",
    "    pia_line.write_spatial_graph(op_path+'Pia_Line_v2.am')\n",
    "    i = 0\n",
    "    for border in layer_borders:\n",
    "        \n",
    "        line = AmiraSpatialGraph(generic_graph=True)\n",
    "        line_err_band = AmiraSpatialGraph(generic_graph=True)\n",
    "        #line_ustd = AmiraSpatialGraph(generic_graph=True)\n",
    "        #line_lstd = AmiraSpatialGraph(generic_graph=True)\n",
    "        line.graph_data.add_edge([0,0,-(ref_len*border)],[20000,0,-(ref_len*border)])\n",
    "        line_err_band.graph_data.add_edge([0,0,-(ref_len*border - ref_len*layer_borders_std[i] )],[20000,0,-(ref_len*border - ref_len*layer_borders_std[i])])\n",
    "        line_err_band.graph_data.add_edge([0,0,-(ref_len*border + ref_len*layer_borders_std[i])],[20000,0,-(ref_len*border + ref_len*layer_borders_std[i])])\n",
    "        line.write_spatial_graph( op_path + layer_border_names[i] + '_Line_v2.am' )\n",
    "        line_err_band.write_spatial_graph( op_path + layer_border_names[i] + '_Error_Band_v2.am' )\n",
    "        #line_ustd.write_spatial_graph( op_path + layer_border_names[i] + '_Line_upper_band_v2.am' )\n",
    "        #line_lstd.write_spatial_graph( op_path + layer_border_names[i] + '_Line_lower_band_v2.am' )\n",
    "        \n",
    "        # write the boundary error band as a vtk file\n",
    "        Surface(pts=line_err_band.graph_data.edge_pt_coords).create_delunay_surface_3d(make_cube=True,output_filename = op_path + layer_border_names[i] + '_Error_Band.vtk' )\n",
    "        \n",
    "        i = i +1\n",
    "    wm_line = AmiraSpatialGraph(generic_graph=True)\n",
    "    wm_line.graph_data.add_edge([0,0,-ref_len],[20000,0,-ref_len])\n",
    "    wm_line.write_spatial_graph(op_path+'WM_Line_v2.am')"
   ]
  },
  {
   "cell_type": "code",
   "execution_count": null,
   "metadata": {
    "ExecuteTime": {
     "end_time": "2021-07-20T02:51:11.826150Z",
     "start_time": "2021-07-20T02:51:11.570365Z"
    },
    "collapsed": true
   },
   "outputs": [],
   "source": [
    "# Find the central axis as the centroid of the registered somas\n",
    "borders_folder = output_standardization+'/Central_Axis_And_Borders/'\n",
    "pathlib.Path(borders_folder).mkdir(exist_ok=True)\n",
    "registered_soma_centers = []\n",
    "for file in sorted(glob.glob(output_alignment_using_neuron_axis_and_local_Avg_pia_soma+'/2_Local_Neuron_Axis/'+'*_Soma_Centroid.landmarksAscii')):\n",
    "    registered_soma_centers.append(Landmarks(file).pts[0])\n",
    "centroid = np.array(registered_soma_centers).mean(axis=0)\n",
    "Landmarks(pts=[centroid]).write_landmarks(borders_folder+'somas_centroid.landmarksAscii')\n",
    "Landmarks(pts=registered_soma_centers).write_landmarks(borders_folder+'registered_soma_centers.landmarksAscii')\n",
    "\n",
    "# generate a central axis at the somas centroid in the avg rf\n",
    "ref_pia = Surface(input_path_avg_rf+'Avg_Pia_lhs_delunay.vtk')\n",
    "ref_wm = Surface(input_path_avg_rf+'Avg_WM_lhs_delunay.vtk')\n",
    "\n",
    "avg_axis_field = AmiraSpatialGraph(input_path_avg_rf+'vM1_axis_field_lhs.am',generic_graph=True).graph_data.edge_list\n",
    "nearest_axis_sg = AmiraSpatialGraph(generic_graph=True)\n",
    "nearby_axes = Vectors().get_nearest_axes_to_pts_within_radius(avg_axis_field,[centroid],500)\n",
    "nearby_axes_sg = AmiraSpatialGraph(generic_graph=True)\n",
    "unit_vecs = []\n",
    "for axis in nearby_axes:\n",
    "    nearby_axes_sg.graph_data.add_edge(axis[0],axis[1])\n",
    "    unit_vecs.append(Vectors().get_unit_vec(axis[0],axis[1]))\n",
    "nearby_axes_sg.write_spatial_graph(borders_folder+'nearby_axes.am')\n",
    "avg_uv = np.array(unit_vecs).mean(axis=0)\n",
    "end_pt = (avg_uv*6000 + centroid)\n",
    "#print(end_pt)\n",
    "wm_proj_pt_neuron_using_local_avg_axis,dist = ref_wm.get_vector_intersection_pt(end_pt,\\\n",
    "                                            centroid,extrapolation_len=10000)\n",
    "pia_proj_pt_neuron_using_local_avg_axis,soma_depth_using_local_avg = ref_pia.get_vector_intersection_pt(wm_proj_pt_neuron_using_local_avg_axis,\\\n",
    "                                                                                centroid,extrapolation_len=10000)\n",
    "central_axis_sg = AmiraSpatialGraph(generic_graph=True)\n",
    "central_axis_sg.graph_data.add_edge(wm_proj_pt_neuron_using_local_avg_axis,pia_proj_pt_neuron_using_local_avg_axis)\n",
    "central_axis_sg.write_spatial_graph(borders_folder+'central_axis.am')\n",
    "central_axis = [wm_proj_pt_neuron_using_local_avg_axis,pia_proj_pt_neuron_using_local_avg_axis]\n",
    "\n",
    "# make layer border landmarks\n",
    "border_names = ['L1','L2_3','L5A','L5B',]\n",
    "#borders = [0.06,0.24,0.48,0.67,0.88]\n",
    "borders = [0.085,0.209,0.391,0.779]\n",
    "#bordes_std = [0,0.10,0.10,0.085,0.12]\n",
    "bordes_std = [0.021,0.080,0.058,0.088]\n",
    "draw_horzontal_lines_given_depth_profile(Vectors().get_vec_length(central_axis),borders,bordes_std,border_names,borders_folder)\n",
    "\n",
    "\n",
    "# read layer border csv\n",
    "# lb_df = pd.read_csv(layer_borders_v1)\n",
    "# l1_dist = Vectors().get_vec_length(central_axis_sg.graph_data.edge_list[0])*(abs(lb_df['L1_Per_Depth'][6])/100)\n",
    "# l2_3_dist = Vectors().get_vec_length(central_axis_sg.graph_data.edge_list[0])*abs(lb_df['L2/3_Per_Depth'][6])/100\n",
    "# l5A_dist = Vectors().get_vec_length(central_axis_sg.graph_data.edge_list[0])*abs(lb_df['L5A_Per_Depth'][6])/100\n",
    "# l5B_dist = Vectors().get_vec_length(central_axis_sg.graph_data.edge_list[0])*abs(lb_df['L5B_Per_Depth'][6])/100\n",
    "# l6A_dist = Vectors().get_vec_length(central_axis_sg.graph_data.edge_list[0])*abs(lb_df['L6A_Per_Depth'][6])/100\n",
    "\n",
    "# l1_pt = Vectors().create_pt_along_vector_at_given_distance(l1_dist,pia_proj_pt_neuron_using_local_avg_axis,wm_proj_pt_neuron_using_local_avg_axis)\n",
    "# l2_3_pt = Vectors().create_pt_along_vector_at_given_distance(l2_3_dist,pia_proj_pt_neuron_using_local_avg_axis,wm_proj_pt_neuron_using_local_avg_axis)\n",
    "# l5A_pt = Vectors().create_pt_along_vector_at_given_distance(l5A_dist,pia_proj_pt_neuron_using_local_avg_axis,wm_proj_pt_neuron_using_local_avg_axis)\n",
    "# l5B_pt = Vectors().create_pt_along_vector_at_given_distance(l5B_dist,pia_proj_pt_neuron_using_local_avg_axis,wm_proj_pt_neuron_using_local_avg_axis)\n",
    "# l6A_pt = Vectors().create_pt_along_vector_at_given_distance(l6A_dist,pia_proj_pt_neuron_using_local_avg_axis,wm_proj_pt_neuron_using_local_avg_axis)\n",
    "\n",
    "# Landmarks(pts=[pia_proj_pt_neuron_using_local_avg_axis]).write_landmarks(borders_folder+'Pia_pt_v1.landmarkAscii')\n",
    "# Landmarks(pts=[l1_pt]).write_landmarks(borders_folder+'L1_pt_v1.landmarkAscii')\n",
    "# Landmarks(pts=[l2_3_pt]).write_landmarks(borders_folder+'L2_3_pt_v1.landmarkAscii')\n",
    "# Landmarks(pts=[l5A_pt]).write_landmarks(borders_folder+'L5A_pt_v1.landmarkAscii')\n",
    "# Landmarks(pts=[l5B_pt]).write_landmarks(borders_folder+'L5B_pt_v1.landmarkAscii')\n",
    "# Landmarks(pts=[l6A_pt]).write_landmarks(borders_folder+'L6A_pt_v1.landmarkAscii')\n",
    "# Landmarks(pts=[wm_proj_pt_neuron_using_local_avg_axis]).write_landmarks(borders_folder+'WM_pt_v1.landmarkAscii')\n",
    "\n",
    "# # Verticalize all these things\n",
    "\n",
    "# landmarks = Landmarks(pts=[central_axis[1],central_axis[0]])\n",
    "# icp,txmat = landmarks.align_landmarks([[0,0,0],[0,0,-Vectors().get_vec_length(central_axis)]])\n",
    "# borders_folder_vertical = borders_folder+'/Vertical/'\n",
    "# pathlib.Path(borders_folder_vertical).mkdir(exist_ok=True)\n",
    "# Alignment().transform_folder(borders_folder,borders_folder_vertical,txmat=txmat,icp=icp)\n",
    "\n",
    "# # draw vertical border lines\n",
    "# draw_horzontal_lines([0,0,-0],[20000,0,-0],borders_folder_vertical+'Pia_Line_v1.am')\n",
    "# draw_horzontal_lines([0,0,-l1_dist],[20000,0,-l1_dist],borders_folder_vertical+'L1_Line_v1.am')\n",
    "# draw_horzontal_lines([0,0,-l2_3_dist],[20000,0,-l2_3_dist],borders_folder_vertical+'L2_3_Line_v1.am')\n",
    "# draw_horzontal_lines([0,0,-l5A_dist],[20000,0,-l5A_dist],borders_folder_vertical+'L5A_Line_v1.am')\n",
    "# draw_horzontal_lines([0,0,-l5B_dist],[20000,0,-l5B_dist],borders_folder_vertical+'L5B_Line_v1.am')\n",
    "# draw_horzontal_lines([0,0,-l6A_dist],[20000,0,-l6A_dist],borders_folder_vertical+'L6A_Line_v1.am')\n",
    "# draw_horzontal_lines([0,0,-Vectors().get_vec_length(central_axis)],[20000,0,-Vectors().get_vec_length(central_axis)],borders_folder_vertical+'WM_Line_v1.am')\n"
   ]
  },
  {
   "cell_type": "code",
   "execution_count": null,
   "metadata": {
    "ExecuteTime": {
     "end_time": "2021-07-20T02:34:02.846216Z",
     "start_time": "2021-07-20T02:20:02.170965Z"
    },
    "collapsed": true,
    "scrolled": true
   },
   "outputs": [],
   "source": [
    "# read the cell type specific neurons, verticalize them and organize into galleries\n",
    "standardized_no_scaling_neurons_path = output_standardization + '/Standardized_No_Scaling/' \n",
    "standardized_uniform_scaling_neurons_path = output_standardization  + '/Standardized_Uniform_Scaling/' \n",
    "#standardized_layerwise_scaling_neurons_path = output_standardization  + '/Standardized_Layerwise_Scaling/' \n",
    "pathlib.Path(standardized_no_scaling_neurons_path).mkdir(exist_ok=True)\n",
    "pathlib.Path(standardized_uniform_scaling_neurons_path).mkdir(exist_ok=True)\n",
    "#pathlib.Path(standardized_layerwise_scaling_neurons_path).mkdir(exist_ok=True)\n",
    "central_axis = AmiraSpatialGraph(output_standardization+'Central_Axis_And_Borders/central_axis.am',generic_graph=True).graph_data.edge_list[0]\n",
    "for input_folder in [output_alignment_using_neuron_axis_and_local_avg_rel_depth,\\\n",
    "                     output_alignment_using_neuron_axis_and_local_Avg_pia_soma]:\n",
    "    \n",
    "    #print(os.path.basename(input_folder[:-1]))\n",
    "    standardized_no_scaling_neurons_path = output_standardization + '/Standardized_No_Scaling/' + \\\n",
    "                                                os.path.basename(input_folder[:-1]) + '/'\n",
    "    standardized_uniform_scaling_neurons_path = output_standardization  + '/Standardized_Uniform_Scaling/' + \\\n",
    "                                                    os.path.basename(input_folder[:-1])+ '/'\n",
    "    #standardized_layerwise_scaling_neurons_path = output_standardization  + '/Standardized_Layerwise_Scaling/' + \\\n",
    "    #                                                os.path.basename(input_folder[:-1])+ '/'\n",
    "    pathlib.Path(standardized_no_scaling_neurons_path).mkdir(exist_ok=True)\n",
    "    pathlib.Path(standardized_uniform_scaling_neurons_path).mkdir(exist_ok=True)\n",
    "    #pathlib.Path(standardized_layerwise_scaling_neurons_path).mkdir(exist_ok=True)\n",
    "    \n",
    "    for folder in sorted(glob.glob(input_folder+'/Manual_Cell_Type_Assignment/*')):\n",
    "        print(folder)\n",
    "        gallery_no_scaling_sg = AmiraSpatialGraph()\n",
    "        gallery_uniform_scaling_sg = AmiraSpatialGraph()\n",
    "        #gallery_layerwise_scaling_sg = AmiraSpatialGraph()\n",
    "        gallery_all_sg = AmiraSpatialGraph()\n",
    "        i = 500\n",
    "        \n",
    "        for file in sorted(glob.glob(folder+'/*_Neuron.am')):\n",
    "            #i = i + 1\n",
    "            exp_name = os.path.basename(file)[:-10]\n",
    "            # first verticalize for gallery view\n",
    "            sg_neuron = AmiraSpatialGraph(file)\n",
    "            sg_dend = AmiraSpatialGraph(file[:-10]+'_Dend.am')\n",
    "            # read the soma pia axis and soma center\n",
    "            if input_folder.find('Nearest')>0:\n",
    "                soma_center = Landmarks(input_folder+'/2_Local_Neuron_Axis/'+exp_name+\\\n",
    "                                        '_Soma_Centroid.landmarksAscii').pts[0]\n",
    "            \n",
    "                neuron_axis = AmiraSpatialGraph(output_alignment_using_surfaces+'Using_Surfaces/Nearest_Axis/'+exp_name+'_nearest_axis.am',\\\n",
    "                                             generic_graph=True).graph_data.edge_list[0]\n",
    "            else:\n",
    "                soma_center = Landmarks(input_folder+'/2_Local_Neuron_Axis/'+exp_name+\\\n",
    "                                        '_Soma_Centroid.landmarksAscii').pts[0]\n",
    "            \n",
    "                soma_pia_axis = AmiraSpatialGraph(output_alignment_using_surfaces+'Using_Surfaces/Interpolated_Reference_Axis/'+\\\n",
    "                                                exp_name+'_soma_pia_axis_local_avg.am',\\\n",
    "                                             generic_graph=True).graph_data.edge_list[0]\n",
    "                soma_wm_axis = AmiraSpatialGraph(output_alignment_using_surfaces+'Using_Surfaces/Interpolated_Reference_Axis/'+\\\n",
    "                                                exp_name+'_soma_wm_axis_local_avg.am',\\\n",
    "                                             generic_graph=True).graph_data.edge_list[0]\n",
    "                neuron_axis = [soma_wm_axis[1],soma_pia_axis[1]]\n",
    "            \n",
    "            soma_pia_axis = [soma_center, neuron_axis[1]]\n",
    "            \n",
    "            # align neuron to the negative z axis\n",
    "            rot_mat = align_a_to_b(soma_pia_axis,[[0,0,0],[0,0,1]])\n",
    "            translation = neuron_axis[1]\n",
    "\n",
    "            sg_neuron.apply_rotation(rot_mat,translation=translation)\n",
    "            sg_neuron.write_spatial_graph(standardized_no_scaling_neurons_path+exp_name+'_Neuron_{}.am'.format(os.path.basename(folder)))\n",
    "            sg_dend.apply_rotation(rot_mat,translation=translation)\n",
    "            sg_dend.write_spatial_graph(standardized_no_scaling_neurons_path+exp_name+'_Dend_{}.am'.format(os.path.basename(folder)))\n",
    "            \n",
    "            # space them so as to visualize better\n",
    "            sg_dend_tr = AmiraSpatialGraph(standardized_no_scaling_neurons_path+exp_name+'_Dend_{}.am'.format(os.path.basename(folder)))\n",
    "            sg_neuron_tr = AmiraSpatialGraph(standardized_no_scaling_neurons_path+exp_name+'_Neuron_{}.am'.format(os.path.basename(folder)))\n",
    "            \n",
    "            sg_dend_tr.apply_rotation([[1,0,0],[0,1,0],[0,0,1]],translation=[-i,0,0])\n",
    "            i = i + 400\n",
    "            gallery_no_scaling_sg.graph_data = gallery_no_scaling_sg.combine_subgraphs([gallery_no_scaling_sg.graph_data,\\\n",
    "                                                                                    sg_dend_tr.graph_data])\n",
    "            \n",
    "            # scale uniformely to the central axis\n",
    "            scaling_factor = Vectors().get_vec_length(central_axis) / Vectors().get_vec_length(neuron_axis)\n",
    "            sg_dend.graph_data.apply_scaling([scaling_factor,scaling_factor,scaling_factor])\n",
    "            sg_neuron.graph_data.apply_scaling([scaling_factor,scaling_factor,scaling_factor])\n",
    "            sg_dend.write_spatial_graph(standardized_uniform_scaling_neurons_path+exp_name+'_Dend_{}.am'.format(os.path.basename(folder)))\n",
    "            sg_neuron.write_spatial_graph(standardized_uniform_scaling_neurons_path+exp_name+'_Neuron_{}.am'.format(os.path.basename(folder)))\n",
    "            \n",
    "            sg_dend_scaling = AmiraSpatialGraph(standardized_uniform_scaling_neurons_path+exp_name+'_Dend_{}.am'.format(os.path.basename(folder)))\n",
    "            sg_neuron_scaling = AmiraSpatialGraph(standardized_uniform_scaling_neurons_path+exp_name+'_Neuron_{}.am'.format(os.path.basename(folder)))\n",
    "            \n",
    "            sg_dend_scaling.apply_rotation([[1,0,0],[0,1,0],[0,0,1]],translation=[-i,0,0])\n",
    "            i = i + 600\n",
    "            gallery_uniform_scaling_sg.graph_data = gallery_uniform_scaling_sg.combine_subgraphs([gallery_uniform_scaling_sg.graph_data,\\\n",
    "                                                                                    sg_dend_scaling.graph_data])\n",
    "            \n",
    "            \n",
    "            # scale uniformely to the central axis\n",
    "            scaling_factor = Vectors().get_vec_length(central_axis) / Vectors().get_vec_length(neuron_axis)\n",
    "            sg_dend.graph_data.apply_scaling([scaling_factor,scaling_factor,scaling_factor])\n",
    "            sg_neuron.graph_data.apply_scaling([scaling_factor,scaling_factor,scaling_factor])\n",
    "            sg_dend.write_spatial_graph(standardized_uniform_scaling_neurons_path+exp_name+'_Dend_{}.am'.format(os.path.basename(folder)))\n",
    "            sg_neuron.write_spatial_graph(standardized_uniform_scaling_neurons_path+exp_name+'_Neuron_{}.am'.format(os.path.basename(folder)))\n",
    "            \n",
    "            sg_dend_scaling = AmiraSpatialGraph(standardized_uniform_scaling_neurons_path+exp_name+'_Dend_{}.am'.format(os.path.basename(folder)))\n",
    "            sg_neuron_scaling = AmiraSpatialGraph(standardized_uniform_scaling_neurons_path+exp_name+'_Neuron_{}.am'.format(os.path.basename(folder)))\n",
    "            \n",
    "            sg_dend_scaling.apply_rotation([[1,0,0],[0,1,0],[0,0,1]],translation=[-i,0,0])\n",
    "            i = i + 600\n",
    "            gallery_uniform_scaling_sg.graph_data = gallery_uniform_scaling_sg.combine_subgraphs([gallery_uniform_scaling_sg.graph_data,\\\n",
    "                                                                                    sg_dend_scaling.graph_data])\n",
    "            \n",
    "        \n",
    "        gallery_no_scaling_sg.write_spatial_graph(standardized_no_scaling_neurons_path+os.path.basename(folder)+'_No_Scaling_Gallery.am')\n",
    "        gallery_uniform_scaling_sg.write_spatial_graph(standardized_uniform_scaling_neurons_path+os.path.basename(folder)+'_Uniform_Scaling_Gallery.am')\n",
    "        #gallery_uniform_scaling_sg.write_spatial_graph(standardized_uniform_scaling_neurons_path+os.path.basename(folder)+'_Uniform_Scaling_Gallery.am')\n",
    "        "
   ]
  },
  {
   "cell_type": "code",
   "execution_count": null,
   "metadata": {
    "ExecuteTime": {
     "end_time": "2021-06-29T07:27:06.318289Z",
     "start_time": "2021-06-29T07:26:29.589765Z"
    },
    "collapsed": true
   },
   "outputs": [],
   "source": [
    "# Find soma pia depth\n",
    "input_sp_path = output_standardization + 'Standardized_No_Scaling/' + os.path.basename(output_alignment_using_neuron_axis_and_local_Avg_pia_soma[:-1])\n",
    "#len(glob.glob(input_sp_path+'/*_Neuron_*.am'))\n",
    "soma_depths_csv = pd.DataFrame(columns=['Exp_Name','Soma_Depth_From_Pia'])\n",
    "for file in sorted(glob.glob(input_sp_path+'/*_Neuron_*.am')):\n",
    "    sg = AmiraSpatialGraph(file)\n",
    "    soma_centroid = np.array(sg.neuron.soma.edge_pt_coords).mean(axis=0)\n",
    "    Landmarks(pts=[soma_centroid]).write_landmarks(input_sp_path+'/'+os.path.basename(file)+'_Soma_Centroid.landmarksAscii')\n",
    "    df=pd.DataFrame()\n",
    "    df['Exp_Name'] = [os.path.basename(file)[:-14]]\n",
    "    df['Soma_Depth_From_Pia'] = soma_centroid[2]\n",
    "    soma_depths_csv = soma_depths_csv.append(df)\n",
    "    #print(os.path.basename(file),soma_centroid,)\n",
    "    \n",
    "soma_depths_csv.to_csv(input_sp_path+'/Soma_Depth_From_Pia.csv')"
   ]
  },
  {
   "cell_type": "markdown",
   "metadata": {
    "collapsed": true
   },
   "source": [
    "# Transform to Local vM1 Reference Frame"
   ]
  },
  {
   "cell_type": "code",
   "execution_count": null,
   "metadata": {
    "ExecuteTime": {
     "end_time": "2021-08-11T15:52:35.110188Z",
     "start_time": "2021-08-11T15:52:35.042286Z"
    },
    "collapsed": true
   },
   "outputs": [],
   "source": [
    "pca0 = AmiraSpatialGraph(input_path_avg_rf + 'Avg_vM1_lhs_PCA0_Trimmed.am',generic_graph=True).graph_data.edge_list[0]\n",
    "pca1 = AmiraSpatialGraph(input_path_avg_rf + 'Avg_vM1_lhs_PCA1_Trimmed.am',generic_graph=True).graph_data.edge_list[0]\n",
    "pca2 = AmiraSpatialGraph(input_path_avg_rf + 'Avg_vM1_lhs_PCA2_Trimmed.am',generic_graph=True).graph_data.edge_list[0]\n",
    "\n",
    "pts = []\n",
    "pts.append(pca0[0])\n",
    "pts.append(Vectors().create_pt_along_vector_at_given_distance(1,pca1[0],pca1[1]))\n",
    "pts.append(Vectors().create_pt_along_vector_at_given_distance(1,pca0[0],pca0[1]))\n",
    "pts.append(Vectors().create_pt_along_vector_at_given_distance(1,pca2[0],pca2[1]))\n",
    "\n",
    "ref_pts = []\n",
    "ref_pts.append([0,0,0])\n",
    "ref_pts.append([-1,0,0])\n",
    "ref_pts.append([0,-1,0])\n",
    "ref_pts.append([0,0,-1])"
   ]
  },
  {
   "cell_type": "code",
   "execution_count": null,
   "metadata": {
    "ExecuteTime": {
     "end_time": "2021-08-11T15:52:35.197960Z",
     "start_time": "2021-08-11T15:52:35.192768Z"
    },
    "collapsed": true
   },
   "outputs": [],
   "source": [
    "landmarks = Landmarks(pts=pts)\n",
    "icp,txmat = landmarks.align_landmarks(ref_pts)"
   ]
  },
  {
   "cell_type": "code",
   "execution_count": null,
   "metadata": {
    "ExecuteTime": {
     "end_time": "2021-08-11T15:57:53.298212Z",
     "start_time": "2021-08-11T15:54:23.767722Z"
    },
    "collapsed": true
   },
   "outputs": [],
   "source": [
    "aligner = Alignment(lhs=True) \n",
    "aligner.transform_folders(output_alignment_using_neuron_axis_and_local_Avg_pia_soma,output_local_rf,icp=icp,txmat = txmat)"
   ]
  },
  {
   "cell_type": "code",
   "execution_count": null,
   "metadata": {
    "ExecuteTime": {
     "end_time": "2021-08-11T16:11:26.474909Z",
     "start_time": "2021-08-11T16:09:19.870969Z"
    },
    "collapsed": true
   },
   "outputs": [],
   "source": [
    "sg = AmiraSpatialGraph(output_alignment_using_neuron_axis_and_local_Avg_pia_soma+'All_Apical_Dendrites_Registered.am')\n",
    "sg.apply_transformation(txmat)\n",
    "sg.write_spatial_graph(output_local_rf+'All_Apical_Dendrites_Registered.am')\n",
    "\n",
    "sg = AmiraSpatialGraph(output_alignment_using_neuron_axis_and_local_Avg_pia_soma+'All_Basal_Dendrites_Registered.am')\n",
    "sg.apply_transformation(txmat)\n",
    "sg.write_spatial_graph(output_local_rf+'All_Basal_Dendrites_Registered.am')\n",
    "\n",
    "sg = AmiraSpatialGraph(output_alignment_using_neuron_axis_and_local_Avg_pia_soma+'All_Neurons_Registered.am')\n",
    "sg.apply_transformation(txmat)\n",
    "sg.write_spatial_graph(output_local_rf+'All_Neurons_Registered.am')"
   ]
  },
  {
   "cell_type": "code",
   "execution_count": null,
   "metadata": {
    "ExecuteTime": {
     "end_time": "2021-08-11T16:28:18.250214Z",
     "start_time": "2021-08-11T16:28:18.199323Z"
    },
    "collapsed": true
   },
   "outputs": [],
   "source": [
    "somata = Landmarks()\n",
    "for file in glob.glob(output_local_rf+'2_Local_Neuron_Axis/*Soma_Centroid.landmarksAscii'):\n",
    "    somata.append_landmarks(Landmarks(file).pts)\n",
    "somata.write_landmarks(output_local_rf+'All_Somata_Registered.landmarksAscii')"
   ]
  },
  {
   "cell_type": "markdown",
   "metadata": {
    "collapsed": true
   },
   "source": [
    "# Create Rabies Density image"
   ]
  },
  {
   "cell_type": "code",
   "execution_count": null,
   "metadata": {
    "ExecuteTime": {
     "end_time": "2021-08-11T16:34:28.222129Z",
     "start_time": "2021-08-11T16:34:28.192527Z"
    },
    "collapsed": true
   },
   "outputs": [],
   "source": [
    "somata = Landmarks()\n",
    "for file in glob.glob(input_path_avg_rf+'Local_Ref_Frame_View/*.LandmarkAscii'):\n",
    "    somata.append_landmarks(Landmarks(file).pts)\n",
    "somata.write_landmarks(input_path_avg_rf+'Local_Ref_Frame_View/Combined_Rabies_Landmarks.landmarksAscii')\n",
    "\n",
    "    "
   ]
  },
  {
   "cell_type": "code",
   "execution_count": null,
   "metadata": {
    "ExecuteTime": {
     "end_time": "2021-08-11T16:46:42.470184Z",
     "start_time": "2021-08-11T16:46:42.392483Z"
    },
    "collapsed": true
   },
   "outputs": [],
   "source": [
    "l = Landmarks(input_path_avg_rf+'Local_Ref_Frame_View/Combined_Rabies_Landmarks.landmarksAscii')              \n",
    "densimage = l.get_density_image(input_path_avg_rf+'Local_Ref_Frame_View/density_image_',voxel_size=400)"
   ]
  },
  {
   "cell_type": "code",
   "execution_count": null,
   "metadata": {
    "ExecuteTime": {
     "end_time": "2021-08-11T19:39:40.634172Z",
     "start_time": "2021-08-11T19:38:52.161507Z"
    },
    "collapsed": true,
    "scrolled": true
   },
   "outputs": [],
   "source": [
    "for voxel_size in [400]:#[50,100,200,300,400,450,500]:\n",
    "    for dens_cutoff_threshold in [0,0.05,0.1,0.15,0.2,0.3,0.4,0.5,0.6,0.7,0.8,0.9,1]:\n",
    "        #for exp_name in exp_names:\n",
    "        print(voxel_size,dens_cutoff_threshold,)\n",
    "        l = Landmarks(input_path_avg_rf+'Local_Ref_Frame_View/Combined_Rabies_Landmarks.landmarksAscii')\n",
    "        \n",
    "        l.get_density_cluster(output_file=input_path_avg_rf+'Local_Ref_Frame_View/vM1_rabies_landmarks_voxel_{}_cutoff_{}.LandmarkAscii'.\\\n",
    "                                  format(str(voxel_size),str(dens_cutoff_threshold)),\\\n",
    "                                  voxel_size=voxel_size,dens_cutoff_threshold=dens_cutoff_threshold,\\\n",
    "                                  write_density_images=False,min_threshold=0)\n",
    "        \n",
    "        \n",
    "        #print(len(l.pts))\n",
    "        #l.get_binary_and_contour_images_from_pts(output_file=input_path_avg_rf+'Local_Ref_Frame_View/'+'rabies_landmarks_voxel_{}_cutoff_{}.LandmarkAscii'.\\\n",
    "        #              format(voxel_size,dens_cutoff_threshold),voxel_size=400,cutoff=dens_cutoff_threshold)"
   ]
  },
  {
   "cell_type": "code",
   "execution_count": null,
   "metadata": {
    "ExecuteTime": {
     "end_time": "2021-08-12T10:26:05.750148Z",
     "start_time": "2021-08-12T10:26:04.992566Z"
    },
    "scrolled": true
   },
   "outputs": [],
   "source": [
    "for voxel_size in [400]:#[50,100,200,300,400,450,500]:\n",
    "    for dens_cutoff_threshold in [0,0.05,0.1,0.15,0.2,0.3,0.4,0.5,0.6,0.7,0.8,0.9,1]:\n",
    "        #for exp_name in exp_names:\n",
    "        print(voxel_size,dens_cutoff_threshold,)\n",
    "        l = Landmarks(input_path_avg_rf+'Local_Ref_Frame_View/Density_Clusters/vM1_rabies_landmarks_voxel_{}_cutoff_{}.LandmarkAscii.landmarkAscii'.format(voxel_size,dens_cutoff_threshold))\n",
    "        \n",
    "        high_voxels = Landmarks(input_path_avg_rf+'Local_Ref_Frame_View/Density_Clusters/vM1_rabies_landmarks_voxel_{}_cutoff_{}.LandmarkAscii_high_voxel_centers.LandmarkAscii'.format(voxel_size,dens_cutoff_threshold)).pts\n",
    "        print(len(l.pts))\n",
    "        l.get_binary_and_contour_images_from_high_voxels(high_voxels,output_file=input_path_avg_rf+'Local_Ref_Frame_View/Density_Clusters/'+'vM1_rabies_landmarks_voxel_{}_cutoff_{}.LandmarkAscii.landmarkAscii'.\\\n",
    "                      format(voxel_size,dens_cutoff_threshold),voxel_size=400,cutoff=dens_cutoff_threshold)"
   ]
  },
  {
   "cell_type": "code",
   "execution_count": null,
   "metadata": {
    "ExecuteTime": {
     "end_time": "2021-08-17T12:44:57.806211Z",
     "start_time": "2021-08-17T12:44:57.475887Z"
    },
    "collapsed": true
   },
   "outputs": [],
   "source": [
    "# Get density cutoff wise landmarks\n",
    "df = pd.DataFrame(columns=['dens_cutoff','rabies_count','rabies_count_per','morph_count','morph_count_per'])\n",
    "for dens_cutoff_threshold in [0,0.1,0.2,0.3,0.4,0.5,0.6,0.7,0.8,0.9,1]:\n",
    "    morph_count = len(Landmarks(input_path_avg_rf+'Local_Ref_Frame_View/Density_Clusters/'+'All_Somata_Registered_{}.landmarksAscii.landmarkAscii'.format(dens_cutoff_threshold)).pts)\n",
    "    rabies_count = len(Landmarks(input_path_avg_rf+'Local_Ref_Frame_View/Density_Clusters/vM1_rabies_landmarks_voxel_{}_cutoff_{}.LandmarkAscii.landmarkAscii'.format(400,dens_cutoff_threshold)).pts)\n",
    "    \n",
    "    morph_count_total = len(Landmarks(input_path_avg_rf+'Local_Ref_Frame_View/Density_Clusters/'+'All_Somata_Registered_0.landmarksAscii.landmarkAscii').pts)\n",
    "    rabies_count_total = len(Landmarks(input_path_avg_rf+'Local_Ref_Frame_View/Density_Clusters/Combined_Rabies_Landmarks.landmarksAscii'.format(400,0)).pts)\n",
    "\n",
    "    df_tmp = pd.DataFrame()\n",
    "    df_tmp['dens_cutoff'] = [dens_cutoff_threshold]\n",
    "    df_tmp['rabies_count'] = [rabies_count]\n",
    "    df_tmp['morph_count'] = [morph_count]\n",
    "    df_tmp['rabies_count_per'] = [rabies_count/rabies_count_total]\n",
    "    df_tmp['morph_count_per'] = [morph_count/morph_count_total]\n",
    "    \n",
    "    df = df.append(df_tmp)\n",
    "df.to_csv(input_path_avg_rf+'Local_Ref_Frame_View/density_clusters.csv')"
   ]
  },
  {
   "cell_type": "code",
   "execution_count": 1,
   "metadata": {
    "ExecuteTime": {
     "end_time": "2021-08-17T12:44:59.778118Z",
     "start_time": "2021-08-17T12:44:59.761015Z"
    }
   },
   "outputs": [],
   "source": [
    "import pandas as pd\n",
    "input_path = '/Users/mysee/Documents/PhD/Projects/vM1/Registration_Final_Coronal_Ref_Frame/Input_Ref_Frame/Local_Ref_Frame_View/density_clusters.csv'\n",
    "df=pd.read_csv(input_path)"
   ]
  },
  {
   "cell_type": "code",
   "execution_count": 2,
   "metadata": {},
   "outputs": [
    {
     "data": {
      "text/html": [
       "<div>\n",
       "<style scoped>\n",
       "    .dataframe tbody tr th:only-of-type {\n",
       "        vertical-align: middle;\n",
       "    }\n",
       "\n",
       "    .dataframe tbody tr th {\n",
       "        vertical-align: top;\n",
       "    }\n",
       "\n",
       "    .dataframe thead th {\n",
       "        text-align: right;\n",
       "    }\n",
       "</style>\n",
       "<table border=\"1\" class=\"dataframe\">\n",
       "  <thead>\n",
       "    <tr style=\"text-align: right;\">\n",
       "      <th></th>\n",
       "      <th>Unnamed: 0</th>\n",
       "      <th>dens_cutoff</th>\n",
       "      <th>morph_count</th>\n",
       "      <th>morph_count_per</th>\n",
       "      <th>rabies_count</th>\n",
       "      <th>rabies_count_per</th>\n",
       "    </tr>\n",
       "  </thead>\n",
       "  <tbody>\n",
       "    <tr>\n",
       "      <th>0</th>\n",
       "      <td>0</td>\n",
       "      <td>0.0</td>\n",
       "      <td>90</td>\n",
       "      <td>1.000000</td>\n",
       "      <td>1567</td>\n",
       "      <td>1.000000</td>\n",
       "    </tr>\n",
       "    <tr>\n",
       "      <th>1</th>\n",
       "      <td>0</td>\n",
       "      <td>0.1</td>\n",
       "      <td>76</td>\n",
       "      <td>0.844444</td>\n",
       "      <td>1462</td>\n",
       "      <td>0.932993</td>\n",
       "    </tr>\n",
       "    <tr>\n",
       "      <th>2</th>\n",
       "      <td>0</td>\n",
       "      <td>0.2</td>\n",
       "      <td>57</td>\n",
       "      <td>0.633333</td>\n",
       "      <td>1252</td>\n",
       "      <td>0.798979</td>\n",
       "    </tr>\n",
       "    <tr>\n",
       "      <th>3</th>\n",
       "      <td>0</td>\n",
       "      <td>0.3</td>\n",
       "      <td>52</td>\n",
       "      <td>0.577778</td>\n",
       "      <td>976</td>\n",
       "      <td>0.622846</td>\n",
       "    </tr>\n",
       "    <tr>\n",
       "      <th>4</th>\n",
       "      <td>0</td>\n",
       "      <td>0.4</td>\n",
       "      <td>34</td>\n",
       "      <td>0.377778</td>\n",
       "      <td>804</td>\n",
       "      <td>0.513082</td>\n",
       "    </tr>\n",
       "    <tr>\n",
       "      <th>5</th>\n",
       "      <td>0</td>\n",
       "      <td>0.5</td>\n",
       "      <td>24</td>\n",
       "      <td>0.266667</td>\n",
       "      <td>743</td>\n",
       "      <td>0.474154</td>\n",
       "    </tr>\n",
       "    <tr>\n",
       "      <th>6</th>\n",
       "      <td>0</td>\n",
       "      <td>0.6</td>\n",
       "      <td>8</td>\n",
       "      <td>0.088889</td>\n",
       "      <td>303</td>\n",
       "      <td>0.193363</td>\n",
       "    </tr>\n",
       "    <tr>\n",
       "      <th>7</th>\n",
       "      <td>0</td>\n",
       "      <td>0.7</td>\n",
       "      <td>8</td>\n",
       "      <td>0.088889</td>\n",
       "      <td>148</td>\n",
       "      <td>0.094448</td>\n",
       "    </tr>\n",
       "    <tr>\n",
       "      <th>8</th>\n",
       "      <td>0</td>\n",
       "      <td>0.8</td>\n",
       "      <td>8</td>\n",
       "      <td>0.088889</td>\n",
       "      <td>143</td>\n",
       "      <td>0.091257</td>\n",
       "    </tr>\n",
       "    <tr>\n",
       "      <th>9</th>\n",
       "      <td>0</td>\n",
       "      <td>0.9</td>\n",
       "      <td>6</td>\n",
       "      <td>0.066667</td>\n",
       "      <td>72</td>\n",
       "      <td>0.045948</td>\n",
       "    </tr>\n",
       "    <tr>\n",
       "      <th>10</th>\n",
       "      <td>0</td>\n",
       "      <td>1.0</td>\n",
       "      <td>6</td>\n",
       "      <td>0.066667</td>\n",
       "      <td>72</td>\n",
       "      <td>0.045948</td>\n",
       "    </tr>\n",
       "  </tbody>\n",
       "</table>\n",
       "</div>"
      ],
      "text/plain": [
       "    Unnamed: 0  dens_cutoff  morph_count  morph_count_per  rabies_count  \\\n",
       "0            0          0.0           90         1.000000          1567   \n",
       "1            0          0.1           76         0.844444          1462   \n",
       "2            0          0.2           57         0.633333          1252   \n",
       "3            0          0.3           52         0.577778           976   \n",
       "4            0          0.4           34         0.377778           804   \n",
       "5            0          0.5           24         0.266667           743   \n",
       "6            0          0.6            8         0.088889           303   \n",
       "7            0          0.7            8         0.088889           148   \n",
       "8            0          0.8            8         0.088889           143   \n",
       "9            0          0.9            6         0.066667            72   \n",
       "10           0          1.0            6         0.066667            72   \n",
       "\n",
       "    rabies_count_per  \n",
       "0           1.000000  \n",
       "1           0.932993  \n",
       "2           0.798979  \n",
       "3           0.622846  \n",
       "4           0.513082  \n",
       "5           0.474154  \n",
       "6           0.193363  \n",
       "7           0.094448  \n",
       "8           0.091257  \n",
       "9           0.045948  \n",
       "10          0.045948  "
      ]
     },
     "execution_count": 2,
     "metadata": {},
     "output_type": "execute_result"
    }
   ],
   "source": [
    "df "
   ]
  },
  {
   "cell_type": "markdown",
   "metadata": {
    "collapsed": true
   },
   "source": [
    "# Create layerwise Galleries"
   ]
  },
  {
   "cell_type": "markdown",
   "metadata": {
    "ExecuteTime": {
     "end_time": "2021-08-12T20:25:15.374255Z",
     "start_time": "2021-08-12T20:25:15.369925Z"
    }
   },
   "source": [
    "## Sort neurons based on depth in local ref frame"
   ]
  },
  {
   "cell_type": "code",
   "execution_count": null,
   "metadata": {
    "ExecuteTime": {
     "end_time": "2021-08-16T14:10:51.810165Z",
     "start_time": "2021-08-16T14:10:51.793109Z"
    }
   },
   "outputs": [],
   "source": [
    "borders,bordes_std"
   ]
  },
  {
   "cell_type": "code",
   "execution_count": null,
   "metadata": {
    "ExecuteTime": {
     "end_time": "2021-08-16T14:10:52.662261Z",
     "start_time": "2021-08-16T14:10:52.656522Z"
    },
    "collapsed": true
   },
   "outputs": [],
   "source": [
    "# Translate neurons so that we can view them in the side view"
   ]
  },
  {
   "cell_type": "code",
   "execution_count": null,
   "metadata": {
    "ExecuteTime": {
     "end_time": "2021-08-16T19:38:32.910196Z",
     "start_time": "2021-08-16T19:37:23.718046Z"
    },
    "scrolled": true
   },
   "outputs": [],
   "source": [
    "l1_apical = AmiraSpatialGraph(generic_graph=True)\n",
    "l1_basal = AmiraSpatialGraph(generic_graph=True)\n",
    "l23_apical = AmiraSpatialGraph(generic_graph=True)\n",
    "l23_basal = AmiraSpatialGraph(generic_graph=True)\n",
    "l5a_apical = AmiraSpatialGraph(generic_graph=True)\n",
    "l5a_basal = AmiraSpatialGraph(generic_graph=True)\n",
    "l5b_apical = AmiraSpatialGraph(generic_graph=True)\n",
    "l5b_basal = AmiraSpatialGraph(generic_graph=True)\n",
    "l6_apical = AmiraSpatialGraph(generic_graph=True)\n",
    "l6_basal = AmiraSpatialGraph(generic_graph=True)\n",
    "\n",
    "pathlib.Path((output_layerwise_celltypes+'L1/')).mkdir(exist_ok=True)\n",
    "pathlib.Path((output_layerwise_celltypes+'L23/')).mkdir(exist_ok=True)\n",
    "pathlib.Path((output_layerwise_celltypes+'L5A/')).mkdir(exist_ok=True)\n",
    "pathlib.Path((output_layerwise_celltypes+'L5B/')).mkdir(exist_ok=True)\n",
    "pathlib.Path((output_layerwise_celltypes+'L6/')).mkdir(exist_ok=True)\n",
    "\n",
    "pathlib.Path((output_local_rf+'For_Visualization/')).mkdir(exist_ok=True)\n",
    "\n",
    "# read registered cells and find their soma depth... based on the layer border decide their layer cell type\n",
    "for file in glob.glob(output_local_rf+'2_Local_Neuron_Axis/*soma_wm_axis.am'):\n",
    "    print(output_local_rf+'1_Surfaces/'+os.path.basename(file)[:-15]+'pia_bottom_open.vtk')\n",
    "    pia = Surface(input_path_avg_rf+'Local_Ref_Frame_View/Clipped/Avg_lhs_vM1_pia_50.vtk')\n",
    "    soma_wm_axis = AmiraSpatialGraph(file,generic_graph=True)\n",
    "    height = Vectors().get_vec_length(soma_wm_axis.graph_data.edge_list[0])\n",
    "    soma_pia_axis = AmiraSpatialGraph(file[:-10]+'pia_axis.am',generic_graph=True)\n",
    "    depth = Vectors().get_vec_length(soma_pia_axis.graph_data.edge_list[0])\n",
    "    depth_per = depth / (depth+height)\n",
    "    #print(file[:-15]+'apical_dendrite.am')\n",
    "    if os.path.exists(file[:-15]+'apical_dendrite.am'):\n",
    "        sg_apical = AmiraSpatialGraph(file[:-15]+'apical_dendrite.am',generic_graph=True)\n",
    "        sg_basal = AmiraSpatialGraph(file[:-15]+'basal_dendrite.am',generic_graph=True)\n",
    "        sg_axis = AmiraSpatialGraph(file[:-15]+'soma_pia_axis.am',generic_graph=True)\n",
    "        \n",
    "        start_pt = Vectors().create_pt_along_vector_at_given_distance(10000,[0,soma_pia_axis.graph_data.edge_list[0][1][1],soma_pia_axis.graph_data.edge_list[0][1][2]],\\\n",
    "                                                                      [0,soma_pia_axis.graph_data.edge_list[0][0][1],soma_pia_axis.graph_data.edge_list[0][0][2]])\n",
    "        pia_int_pt,bla = pia.get_vector_intersection_pt(start_pt,\\\n",
    "                                                        [0,soma_pia_axis.graph_data.edge_list[0][1][1],soma_pia_axis.graph_data.edge_list[0][1][2]],\\\n",
    "                                                        extrapolation_len=20000)\n",
    "        if len(pia_int_pt) > 0:\n",
    "            new_soma_center = Vectors().create_pt_along_vector_at_given_distance(depth,pia_int_pt,[0,soma_pia_axis.graph_data.edge_list[0][0][1],soma_pia_axis.graph_data.edge_list[0][0][2]])\n",
    "            new_axis = [new_soma_center,pia_int_pt]\n",
    "            pts = []\n",
    "            pts.append(sg_axis.graph_data.edge_list[0][0])\n",
    "            pts.append(sg_axis.graph_data.edge_list[0][1])\n",
    "            ref_pts = []\n",
    "            ref_pts.append(new_axis[0])\n",
    "            ref_pts.append(new_axis[1])\n",
    "            Landmarks(pts=pts).write_landmarks(output_root+'pts')\n",
    "            Landmarks(pts=ref_pts).write_landmarks(output_root+'ref_pts')\n",
    "\n",
    "            icp,txmat = Landmarks(pts=pts).align_landmarks(ref_pts)\n",
    "            #aligner = Alignment()\n",
    "            #aligner.transform_folder(os.path.dirname(file),output_local_rf+'For_Visualization/',os.path.basename(file)[:-15],icp=icp,txmat = txmat,)\n",
    "            sg_apical.apply_transformation(txmat)\n",
    "            sg_apical.write_spatial_graph(output_local_rf+'For_Visualization/'+os.path.basename(file)[:-15]+'apical_dendrite.am')\n",
    "            sg_basal.apply_transformation(txmat)\n",
    "            sg_basal.write_spatial_graph(output_local_rf+'For_Visualization/'+os.path.basename(file)[:-15]+'basal_dendrite.am')\n",
    "\n",
    "            if depth_per > 0 and depth_per < borders[0]-bordes_std[0]:\n",
    "                l1_apical.graph_data = l1_apical.combine_subgraphs([l1_apical.graph_data,sg_apical.graph_data])\n",
    "                l1_basal.graph_data = l1_basal.combine_subgraphs([l1_basal.graph_data,sg_basal.graph_data])\n",
    "                sg_apical.write_spatial_graph(output_layerwise_celltypes+'L1/'+os.path.basename(file)[:-15]+'apical_dendrite.am')\n",
    "                sg_basal.write_spatial_graph(output_layerwise_celltypes+'L1/'+os.path.basename(file)[:-15]+'basal_dendrite.am')\n",
    "\n",
    "            elif depth_per >= borders[0]-bordes_std[0] and depth_per < borders[1]:\n",
    "                l23_apical.graph_data = l23_apical.combine_subgraphs([l23_apical.graph_data,sg_apical.graph_data])\n",
    "                l23_basal.graph_data = l23_basal.combine_subgraphs([l23_basal.graph_data,sg_basal.graph_data])\n",
    "                sg_apical.write_spatial_graph(output_layerwise_celltypes+'L23/'+os.path.basename(file)[:-15]+'apical_dendrite.am')\n",
    "                sg_basal.write_spatial_graph(output_layerwise_celltypes+'L23/'+os.path.basename(file)[:-15]+'basal_dendrite.am')\n",
    "\n",
    "            elif depth_per >= borders[1] and depth_per < borders[2]-bordes_std[2]:\n",
    "                l5a_apical.graph_data = l5a_apical.combine_subgraphs([l5a_apical.graph_data,sg_apical.graph_data])\n",
    "                l5a_basal.graph_data = l5a_basal.combine_subgraphs([l5a_basal.graph_data,sg_basal.graph_data])\n",
    "                sg_apical.write_spatial_graph(output_layerwise_celltypes+'L5A/'+os.path.basename(file)[:-15]+'apical_dendrite.am')\n",
    "                sg_basal.write_spatial_graph(output_layerwise_celltypes+'L5A/'+os.path.basename(file)[:-15]+'basal_dendrite.am')\n",
    "\n",
    "            elif depth_per >= borders[2]-bordes_std[2] and depth_per < borders[3]-bordes_std[3]:\n",
    "                l5b_apical.graph_data = l5b_apical.combine_subgraphs([l5b_apical.graph_data,sg_apical.graph_data])\n",
    "                l5b_basal.graph_data = l5b_basal.combine_subgraphs([l5b_basal.graph_data,sg_basal.graph_data])\n",
    "                sg_apical.write_spatial_graph(output_layerwise_celltypes+'L5B/'+os.path.basename(file)[:-15]+'apical_dendrite.am')\n",
    "                sg_basal.write_spatial_graph(output_layerwise_celltypes+'L5B/'+os.path.basename(file)[:-15]+'basal_dendrite.am')\n",
    "\n",
    "            else:\n",
    "                l6_apical.graph_data = l6_apical.combine_subgraphs([l6_apical.graph_data,sg_apical.graph_data])\n",
    "                l6_basal.graph_data = l6_basal.combine_subgraphs([l6_basal.graph_data,sg_basal.graph_data])\n",
    "                sg_apical.write_spatial_graph(output_layerwise_celltypes+'L6/'+os.path.basename(file)[:-15]+'apical_dendrite.am')\n",
    "                sg_basal.write_spatial_graph(output_layerwise_celltypes+'L6/'+os.path.basename(file)[:-15]+'basal_dendrite.am')\n",
    "\n",
    "\n",
    "l1_apical.write_spatial_graph(output_layerwise_celltypes+'L1_Apical_Dendrite.am')\n",
    "l23_apical.write_spatial_graph(output_layerwise_celltypes+'L23_Apical_Dendrite.am')\n",
    "l5a_apical.write_spatial_graph(output_layerwise_celltypes+'L5a_Apical_Dendrite.am')\n",
    "l5b_apical.write_spatial_graph(output_layerwise_celltypes+'L5b_Apical_Dendrite.am')\n",
    "l6_apical.write_spatial_graph(output_layerwise_celltypes+'L6_Apical_Dendrite.am')\n",
    "\n",
    "l1_basal.write_spatial_graph(output_layerwise_celltypes+'L1_Basal_Dendrite.am')\n",
    "l23_basal.write_spatial_graph(output_layerwise_celltypes+'L23_Basal_Dendrite.am')\n",
    "l5a_basal.write_spatial_graph(output_layerwise_celltypes+'L5a_Basal_Dendrite.am')\n",
    "l5b_basal.write_spatial_graph(output_layerwise_celltypes+'L5b_Basal_Dendrite.am')\n",
    "l6_basal.write_spatial_graph(output_layerwise_celltypes+'L6_Basal_Dendrite.am')"
   ]
  },
  {
   "cell_type": "markdown",
   "metadata": {
    "ExecuteTime": {
     "end_time": "2021-08-16T15:14:46.858132Z",
     "start_time": "2021-08-16T15:14:46.852989Z"
    }
   },
   "source": [
    "## Make galleries"
   ]
  },
  {
   "cell_type": "code",
   "execution_count": 84,
   "metadata": {
    "ExecuteTime": {
     "end_time": "2021-08-20T18:24:32.930687Z",
     "start_time": "2021-08-20T18:24:32.922124Z"
    }
   },
   "outputs": [],
   "source": [
    "file = (glob.glob(output_standardization+'Standardized_Uniform_Scaling/Aligned_Local_Neuron_Axis_To_Ref_Local_Avg_Axis_Pia_Soma_Dist_Preserved/*Neuron*.am'))[0]"
   ]
  },
  {
   "cell_type": "code",
   "execution_count": 126,
   "metadata": {
    "ExecuteTime": {
     "end_time": "2021-08-20T23:42:48.725970Z",
     "start_time": "2021-08-20T23:42:48.721705Z"
    }
   },
   "outputs": [
    {
     "data": {
      "text/plain": [
       "'/nas1/Data_Mythreya/MotorCortexProject/V11/Registration_Final_Coronal_Ref_Frame/Outputs/4_Final_Registration/'"
      ]
     },
     "execution_count": 126,
     "metadata": {},
     "output_type": "execute_result"
    }
   ],
   "source": [
    "output_alignment_final"
   ]
  },
  {
   "cell_type": "code",
   "execution_count": 119,
   "metadata": {
    "ExecuteTime": {
     "end_time": "2021-08-20T23:13:31.790660Z",
     "start_time": "2021-08-20T23:13:31.783722Z"
    }
   },
   "outputs": [
    {
     "data": {
      "text/plain": [
       "(array([ 190.825,  469.205,  877.795, 1748.855]),\n",
       " array([ 47.145, 179.6  , 130.21 , 197.56 ]))"
      ]
     },
     "execution_count": 119,
     "metadata": {},
     "output_type": "execute_result"
    }
   ],
   "source": [
    "np.array(borders)*2245,np.array(bordes_std)*2245"
   ]
  },
  {
   "cell_type": "code",
   "execution_count": null,
   "metadata": {
    "collapsed": true
   },
   "outputs": [],
   "source": []
  },
  {
   "cell_type": "code",
   "execution_count": 103,
   "metadata": {
    "ExecuteTime": {
     "end_time": "2021-08-20T19:26:36.954698Z",
     "start_time": "2021-08-20T19:26:36.935921Z"
    },
    "collapsed": true
   },
   "outputs": [],
   "source": [
    "pathlib.Path(output_layerwise_celltypes+'Standardized_No_Scaling/').mkdir(exist_ok=True)\n",
    "pathlib.Path((output_layerwise_celltypes+'Standardized_Uniform_Scaling/')).mkdir(exist_ok=True)\n",
    "pathlib.Path(output_layerwise_celltypes+'Standardized_No_Scaling/Aligned_Local_Neuron_Axis_To_Ref_Local_Avg_Axis_Pia_Soma_Dist_Preserved/').mkdir(exist_ok=True)\n",
    "pathlib.Path((output_layerwise_celltypes+'Standardized_Uniform_Scaling/Aligned_Local_Neuron_Axis_To_Ref_Local_Avg_Axis_Pia_Soma_Dist_Preserved/')).mkdir(exist_ok=True)\n",
    "pathlib.Path(output_layerwise_celltypes+'Standardized_No_Scaling/Aligned_Local_Neuron_Axis_To_Ref_Local_Avg_Axis_Rel_Depth_Dist_Preserved/').mkdir(exist_ok=True)\n",
    "pathlib.Path((output_layerwise_celltypes+'Standardized_Uniform_Scaling/Aligned_Local_Neuron_Axis_To_Ref_Local_Avg_Axis_Rel_Depth_Dist_Preserved/')).mkdir(exist_ok=True)"
   ]
  },
  {
   "cell_type": "code",
   "execution_count": 137,
   "metadata": {
    "ExecuteTime": {
     "end_time": "2021-08-21T14:14:33.342735Z",
     "start_time": "2021-08-21T14:11:20.918975Z"
    },
    "scrolled": true
   },
   "outputs": [],
   "source": [
    "pia = Surface(input_path_avg_rf+'Avg_Pia_lhs_delunay_bottom_open.vtk')\n",
    "wm = Surface(input_path_avg_rf+'Avg_WM_lhs_delunay_bottom_open.vtk')\n",
    "\n",
    "for outer_folder in ['Standardized_No_Scaling/','Standardized_Uniform_Scaling/']:\n",
    "    for inner_folder in ['Aligned_Local_Neuron_Axis_To_Ref_Local_Avg_Axis_Pia_Soma_Dist_Preserved/','Aligned_Local_Neuron_Axis_To_Ref_Local_Avg_Axis_Rel_Depth_Dist_Preserved/']:\n",
    "        input_path = output_standardization + outer_folder + inner_folder\n",
    "        output_path = output_layerwise_celltypes + outer_folder + inner_folder\n",
    "        \n",
    "        pathlib.Path(output_path+'L1/').mkdir(exist_ok=True)\n",
    "        pathlib.Path((output_path+'L23/')).mkdir(exist_ok=True)\n",
    "        pathlib.Path(output_path+'L5A/').mkdir(exist_ok=True)\n",
    "        pathlib.Path((output_path+'L5B/')).mkdir(exist_ok=True)\n",
    "        pathlib.Path(output_path+'L6/').mkdir(exist_ok=True)\n",
    "\n",
    "        l1_dends = AmiraSpatialGraph(generic_graph=True)\n",
    "        l23_dends = AmiraSpatialGraph(generic_graph=True)\n",
    "        l5a_dends = AmiraSpatialGraph(generic_graph=True)\n",
    "        l5b_dends = AmiraSpatialGraph(generic_graph=True)\n",
    "        l6_dends = AmiraSpatialGraph(generic_graph=True)\n",
    "        \n",
    "        l1_neurons = AmiraSpatialGraph(generic_graph=True)\n",
    "        l23_neurons = AmiraSpatialGraph(generic_graph=True)\n",
    "        l5a_neurons = AmiraSpatialGraph(generic_graph=True)\n",
    "        l5b_neurons = AmiraSpatialGraph(generic_graph=True)\n",
    "        l6_neurons = AmiraSpatialGraph(generic_graph=True)\n",
    "        \n",
    "        i_l1 = 600\n",
    "        i_l23 = 600\n",
    "        i_l5a = 600\n",
    "        i_l5b = 600\n",
    "        i_l6 = 600\n",
    "        \n",
    "        l1_batch = 1\n",
    "        l23_batch = 1\n",
    "        l5a_batch = 1\n",
    "        l5b_batch = 1\n",
    "        l6_batch = 1\n",
    "        \n",
    "        central_axis = AmiraSpatialGraph(output_standardization+'Central_Axis_And_Borders/central_axis.am',generic_graph=True).graph_data.edge_list[0]\n",
    "        \n",
    "        for file in sorted(glob.glob(input_path+'*Dend*.am')):\n",
    "            \n",
    "            if os.path.basename(file).find('L2')>0 or os.path.basename(file).find('L3')>0 or os.path.basename(file).find('L5')>0 or os.path.basename(file).find('L6')>0: \n",
    "                # read the cell find its depthwise type and write to appropriate folder\n",
    "                sg_dend = AmiraSpatialGraph(file)\n",
    "                sg_neuron = AmiraSpatialGraph(glob.glob(file[:file.find('Dend')]+'Neuron*.am')[0])\n",
    "\n",
    "                soma_center = np.array(sg_neuron.neuron.soma.edge_pt_coords).mean(axis=0)\n",
    "                #print(soma_center)\n",
    "\n",
    "\n",
    "                soma_pia_axis = AmiraSpatialGraph(output_alignment_final+inner_folder+'2_Local_Neuron_Axis/'+\\\n",
    "                                                    os.path.basename(file)[:os.path.basename(file).find('Dend')]+'soma_pia_axis.am',\\\n",
    "                                                 generic_graph=True).graph_data.edge_list[0]\n",
    "                #wm_int_pt,bla = wm.get_vector_intersection_pt(soma_pia_axis[1],soma_pia_axis[0],extrapolation_len=20000)\n",
    "                depth = Vectors().get_vec_length(soma_pia_axis)#abs(soma_center[0][2])\n",
    "\n",
    "                #depth_per = depth/(Vectors().get_vec_length(soma_pia_axis)+Vectors().get_vec_length([soma_pia_axis[0],wm_int_pt]))\n",
    "                depth_per = depth / Vectors().get_vec_length(central_axis)\n",
    "                if depth_per > 0 and depth_per < borders[0]-bordes_std[0]:\n",
    "                    sg_dend.apply_rotation([[1,0,0],[0,1,0],[0,0,1]],translation=[-i_l1,0,0])\n",
    "                    sg_neuron.apply_rotation([[1,0,0],[0,1,0],[0,0,1]],translation=[-i_l1,0,0]) \n",
    "                    l1_dends.graph_data = l1_dends.combine_subgraphs([l1_dends.graph_data,sg_dend.graph_data])\n",
    "                    l1_neurons.graph_data = l1_neurons.combine_subgraphs([l1_neurons.graph_data,sg_neuron.graph_data])\n",
    "                    i_l1 = i_l1 + 600\n",
    "                    #sg_dend.write_spatial_graph(output_path+'L1/'+os.path.basename(file)[:file.find('Dend')]+'Dend_L1.am')\n",
    "                    #sg_neuron.write_spatial_graph(output_path+'L1/'+os.path.basename(file)[:file.find('Dend')]+'Neuron_L1.am')\n",
    "                    if i_l1 > 6000:\n",
    "                        l1_dends.write_spatial_graph(output_path+'L1_Dend_Gallery_{}.am'.format(l1_batch))\n",
    "                        l1_dends.write_spatial_graph(output_path+'L1_Neuron_Gallery_{}.am'.format(l1_batch))\n",
    "                        l1_batch = l1_batch + 1\n",
    "                        i_l1 = 600\n",
    "                        l1_dends = AmiraSpatialGraph(generic_graph=True)\n",
    "                        l1_neurons = AmiraSpatialGraph(generic_graph=True)\n",
    "                        \n",
    "                elif depth_per >= borders[0]-bordes_std[0] and depth_per < borders[1]:\n",
    "                    sg_dend.apply_rotation([[1,0,0],[0,1,0],[0,0,1]],translation=[-i_l23,0,0])\n",
    "                    sg_neuron.apply_rotation([[1,0,0],[0,1,0],[0,0,1]],translation=[-i_l23,0,0])\n",
    "                    l23_dends.graph_data = l23_dends.combine_subgraphs([l23_dends.graph_data,sg_dend.graph_data])\n",
    "                    l23_neurons.graph_data = l23_neurons.combine_subgraphs([l23_neurons.graph_data,sg_neuron.graph_data])\n",
    "                    #sg_dend.write_spatial_graph(output_path+'L23/'+os.path.basename(file)[:file.find('Dend')]+'Dend_L23.am')\n",
    "                    #sg_neuron.write_spatial_graph(output_path+'L23/'+os.path.basename(file)[:file.find('Dend')]+'Neuron_L23.am')\n",
    "                    i_l23 = i_l23 + 600\n",
    "                    if i_l23 > 6000:\n",
    "                        l23_dends.write_spatial_graph(output_path+'L23_Dend_Gallery_{}.am'.format(l23_batch))\n",
    "                        l23_neurons.write_spatial_graph(output_path+'L23_Neuron_Gallery_{}.am'.format(l23_batch))\n",
    "                        l23_batch = l23_batch + 1\n",
    "                        i_l23 = 600\n",
    "                        l23_dends = AmiraSpatialGraph(generic_graph=True)\n",
    "                        l23_neurons = AmiraSpatialGraph(generic_graph=True)\n",
    "\n",
    "                elif depth_per >= borders[1] and depth_per < borders[2]:\n",
    "                    sg_dend.apply_rotation([[1,0,0],[0,1,0],[0,0,1]],translation=[-i_l5a,0,0])\n",
    "                    sg_neuron.apply_rotation([[1,0,0],[0,1,0],[0,0,1]],translation=[-i_l5a,0,0])\n",
    "                    l5a_dends.graph_data = l5a_dends.combine_subgraphs([l5a_dends.graph_data,sg_dend.graph_data])\n",
    "                    l5a_neurons.graph_data = l5a_neurons.combine_subgraphs([l5a_neurons.graph_data,sg_neuron.graph_data])\n",
    "                    #sg_dend.write_spatial_graph(output_path+'L5A/'+os.path.basename(file)[:file.find('Dend')]+'Dend_L5A.am')\n",
    "                    #sg_neuron.write_spatial_graph(output_path+'L5A/'+os.path.basename(file)[:file.find('Dend')]+'Neuron_L5A.am')\n",
    "                    i_l5a = i_l5a + 600\n",
    "                    if i_l5a > 6000:\n",
    "                        l5a_dends.write_spatial_graph(output_path+'L5A_Dend_Gallery_{}.am'.format(l5a_batch))\n",
    "                        l5a_neurons.write_spatial_graph(output_path+'L5A_Neuron_Gallery_{}.am'.format(l5a_batch))\n",
    "                        l5a_batch = l5a_batch + 1\n",
    "                        i_l5a = 600\n",
    "                        l5a_dends = AmiraSpatialGraph(generic_graph=True)\n",
    "                        l5a_neurons = AmiraSpatialGraph(generic_graph=True)\n",
    "\n",
    "                elif depth_per >= borders[2] and depth_per < borders[3]-bordes_std[3]:\n",
    "                    sg_dend.apply_rotation([[1,0,0],[0,1,0],[0,0,1]],translation=[-i_l5b,0,0])\n",
    "                    sg_neuron.apply_rotation([[1,0,0],[0,1,0],[0,0,1]],translation=[-i_l5b,0,0])\n",
    "                    l5b_dends.graph_data = l5b_dends.combine_subgraphs([l5b_dends.graph_data,sg_dend.graph_data])\n",
    "                    l5b_neurons.graph_data = l5b_neurons.combine_subgraphs([l5b_neurons.graph_data,sg_neuron.graph_data])\n",
    "                    #sg_dend.write_spatial_graph(output_path+'L5B/'+os.path.basename(file)[:file.find('Dend')]+'Dend_L5B.am')\n",
    "                    #sg_neuron.write_spatial_graph(output_path+'L5B/'+os.path.basename(file)[:file.find('Dend')]+'Neuron_L5B.am')\n",
    "                    i_l5b = i_l5b + 600\n",
    "                    if i_l5b > 6000:\n",
    "                        l5b_dends.write_spatial_graph(output_path+'L5B_Dend_Gallery_{}.am'.format(l5b_batch))\n",
    "                        l5b_neurons.write_spatial_graph(output_path+'L5B_Neuron_Gallery_{}.am'.format(l5b_batch))\n",
    "                        l5b_batch = l5b_batch + 1\n",
    "                        i_l5b = 600\n",
    "                        l5b_dends = AmiraSpatialGraph(generic_graph=True)\n",
    "                        l5b_neurons = AmiraSpatialGraph(generic_graph=True)\n",
    "\n",
    "                else:\n",
    "                    sg_dend.apply_rotation([[1,0,0],[0,1,0],[0,0,1]],translation=[-i_l6,0,0])\n",
    "                    sg_neuron.apply_rotation([[1,0,0],[0,1,0],[0,0,1]],translation=[-i_l6,0,0])\n",
    "                    l6_dends.graph_data = l6_dends.combine_subgraphs([l6_dends.graph_data,sg_dend.graph_data])\n",
    "                    l6_neurons.graph_data = l6_neurons.combine_subgraphs([l6_neurons.graph_data,sg_neuron.graph_data])\n",
    "                    #sg_dend.write_spatial_graph(output_path+'L6/'+os.path.basename(file)[:file.find('Dend')]+'Dend_L6.am')\n",
    "                    #sg_neuron.write_spatial_graph(output_path+'L6/'+os.path.basename(file)[:file.find('Dend')]+'Neuron_L6.am')\n",
    "                    i_l6 = i_l6 + 600\n",
    "                    if i_l6 > 6000:\n",
    "                        l6_dends.write_spatial_graph(output_path+'L6_Dend_Gallery_{}.am'.format(l6_batch))\n",
    "                        l6_neurons.write_spatial_graph(output_path+'L6_Neuron_Gallery_{}.am'.format(l6_batch))\n",
    "                        l6_batch = l6_batch + 1\n",
    "                        i_l6 = 600\n",
    "                        l6_dends = AmiraSpatialGraph(generic_graph=True)\n",
    "                        l6_neurons = AmiraSpatialGraph(generic_graph=True)\n",
    "                        \n",
    "        l1_dends.write_spatial_graph(output_path+'L1_Dend_Gallery.am')\n",
    "        l23_dends.write_spatial_graph(output_path+'L23_Dend_Gallery.am')\n",
    "        l5a_dends.write_spatial_graph(output_path+'L5A_Dend_Gallery.am')\n",
    "        l5b_dends.write_spatial_graph(output_path+'L5B_Dend_Gallery.am')\n",
    "        l6_dends.write_spatial_graph(output_path+'L6_Dend_Gallery.am')\n",
    "        \n",
    "        l1_neurons.write_spatial_graph(output_path+'L1_Neuron_Gallery.am')\n",
    "        l23_neurons.write_spatial_graph(output_path+'L23_Neuron_Gallery.am')\n",
    "        l5a_neurons.write_spatial_graph(output_path+'L5A_Neuron_Gallery.am')\n",
    "        l5b_neurons.write_spatial_graph(output_path+'L5B_Neuron_Gallery.am')\n",
    "        l6_neurons.write_spatial_graph(output_path+'L6_Neuron_Gallery.am')\n",
    "        \n",
    "        \n",
    "    "
   ]
  },
  {
   "cell_type": "markdown",
   "metadata": {},
   "source": [
    "# Evaluate registration"
   ]
  },
  {
   "cell_type": "code",
   "execution_count": 12,
   "metadata": {
    "ExecuteTime": {
     "end_time": "2021-08-18T22:52:16.430763Z",
     "start_time": "2021-08-18T22:52:16.424962Z"
    },
    "collapsed": true
   },
   "outputs": [],
   "source": [
    "# 1) Diff between original and registered pia depths / wm heights\n",
    "# 2) Diff between orientation"
   ]
  },
  {
   "cell_type": "code",
   "execution_count": 13,
   "metadata": {
    "ExecuteTime": {
     "end_time": "2021-08-18T22:52:17.418647Z",
     "start_time": "2021-08-18T22:52:17.399906Z"
    }
   },
   "outputs": [
    {
     "data": {
      "text/plain": [
       "86"
      ]
     },
     "execution_count": 13,
     "metadata": {},
     "output_type": "execute_result"
    }
   ],
   "source": [
    "len(glob.glob(output_neuron_axis+'*soma_wm_axis.am'))"
   ]
  },
  {
   "cell_type": "code",
   "execution_count": 28,
   "metadata": {
    "ExecuteTime": {
     "end_time": "2021-08-19T12:45:27.086728Z",
     "start_time": "2021-08-19T12:45:14.191777Z"
    },
    "scrolled": true
   },
   "outputs": [
    {
     "name": "stdout",
     "output_type": "stream",
     "text": [
      "RA20160322_corrected_shifted_and_merged_DONE\n",
      "23.234082358864995 29.36649217857826\n",
      "RA20171212_1_Cell_B.am_Segmented_corrected_DONE\n",
      "5.991355728122133 2.778291904344825\n",
      "RA20180108_2.am_Segmented_corrected_shifted_and_merged_DONE\n",
      "8.537736462515939e-07 13.558235728614676\n",
      "RA20160329_Cell_A_corrected_shifted_and_merged_DONE\n",
      "14.537377799398174 33.536834983402166\n",
      "RA20130701_2_DONE\n",
      "0.0 26.952868329165938\n",
      "RA20130628_2_Cell_1_corrected_shifted_and_merged_DONE\n",
      "18.66022424728887 6.308989508197844\n",
      "RA20130404_2_corrected_DONE\n",
      "RA20160401_Cell_B_DONE\n",
      "1.2074182697257333e-06 10.281504135398219\n",
      "RA20150806_DONE\n",
      "0.0 17.07586655944004\n",
      "RA20130627_DONE\n",
      "17.838717579678462 23.861989376868877\n",
      "RA20171214_1_Cell_A.am_Segmented_corrected_shifted_corrected_and_merged_DONE\n",
      "7.449070339922172 23.640930037259093\n",
      "RA20130319_2_DONE\n",
      "21.79594204478988 28.21803694856929\n",
      "RA20180108_1.am_Segmented_corrected_shifted_and_merged_DONE\n",
      "nan 19.184008249981726\n",
      "RA20180109_1_Cell_C_done.am_Segmented_corrected_DONE\n"
     ]
    },
    {
     "name": "stderr",
     "output_type": "stream",
     "text": [
      "/nas1/Data_Mythreya/MotorCortexProject/V11/code/spatial_graphs/Vectors.py:23: RuntimeWarning: invalid value encountered in arccos\n",
      "  cos_theta = np.abs(np.arccos(np.dot(unit_vec_a,unit_vec_b))*180/np.pi)\n"
     ]
    },
    {
     "name": "stdout",
     "output_type": "stream",
     "text": [
      "nan 23.2051968774824\n",
      "RA20180412_2_Cell_D.am_Segmented_segmented_DONE\n",
      "0.0 15.7963435158018\n",
      "RA20171212_2_Cell_A.am_Segmented_corrected_DONE\n",
      "20.808957861965787 25.756468778491428\n",
      "RA20130507_1_corrected_shifted_and_merged_DONE_feature_corrected\n",
      "16.50966668388871 19.491156130532403\n",
      "RA20160307_4x_for_merge_.am_corrected.Segmented_DONE\n",
      "0.0 13.898766627734648\n",
      "RA20180109_2_Cluster_B_Cell_E_done.am_Segmented_corrected_DONE\n",
      "8.537736462515939e-07 6.014660312794846\n",
      "RA20150807_2_Cell_A_corrected_shifted_and_merged_DONE\n",
      "21.128949475246 30.65039622398944\n",
      "RA20150810_Cell_A_corrected_shifted_and_merged_DONE\n",
      "0.0 6.220944944279234\n",
      "RA20180412_2_Cell_B.am_Segmented_corrected_DONE\n",
      "8.537736462515939e-07 15.796378435591697\n",
      "RA20180109_2_Cluster_B_Cell_D_done.am_Segmented_corrected_DONE\n",
      "8.537736462515939e-07 6.014694573827467\n",
      "RA20150813_1_Final_Contour_Cell_Merged.am_corrected_Segmented_DONE\n",
      "18.089972108961888 17.77547400769569\n",
      "RA20130513_corrected-extended_2corrected_shifted_and_merged_DONE\n",
      "23.699832286070666 29.178122897927906\n",
      "RA20130320_corrected_DONE\n",
      "15.551616548047628 14.501481539541652\n",
      "RA20130605_1_DONE\n",
      "23.698885479606453 15.967387969494709\n",
      "RA20150810_Cell_B_corrected_shifted_and_merged_DONE\n",
      "29.564696094067532 30.86012282715492\n",
      "RA20160331_Cell_A_DONE\n",
      "12.446028899027342 16.893644711758366\n",
      "RA20180412_2_Cell_E.am_Segmented_corrected_shifted_and_merged_DONE\n",
      "0.0 16.290246320779193\n",
      "RA20180411_final_Contours_merged.am_Segmented_corrected_shifted_and_merged_DONE\n",
      "nan 11.474065641295347\n",
      "RA20160308_Cell_A_new.am_Segmented_corrected_DONE\n",
      "14.29401253491001 21.126683172265786\n",
      "RA20130628_2_Cell_2_corrected_shifted_and_merged_DONE\n",
      "RA20150813_2_4x_Contours_forMerge_CELL_A_.am_corrected_Segmented_DONE\n",
      "RA20130404_1_DONE\n",
      "16.89795740140416 22.845910934810018\n",
      "RA20150811_4x_.am_corrected_Segmented_DONE\n",
      "6.715992733978349 3.339864674032416\n",
      "RA20130628_shifted_and_merged_DONE\n",
      "16.990214457338837 33.21789911576223\n",
      "RA20130508_1_corrected_shifted_and_merged_DONE\n",
      "RA20130627_Cell_3_DONE\n",
      "18.50554037006797 24.49817733751615\n",
      "RA20130627_Cell_2_DONE\n",
      "13.910840985935264 17.398118508979323\n",
      "RA20160401_Cell_A_DONE\n",
      "12.241617444734105 9.704542139920777\n",
      "RA20180109_2_Cluster_B_Cell_C_done.am_Segmented_corrected_DONE\n",
      "1.2074182697257333e-06 6.014699018964544\n",
      "RA20130725_DONE\n",
      "15.373786084822447 27.773966178770205\n",
      "RA20160404_Cell_B_DONE\n",
      "nan 19.03976322192003\n",
      "RA20171212_1_Cell_C.am_Segmented_corrected_DONE\n",
      "15.053719455397681 7.821912074743594\n",
      "RA20160331_Cell_B_DONE\n",
      "17.628391018493875 25.760350912083943\n",
      "RA20180412_2_Cell_C.am_Segmented_corrected_DONE\n",
      "8.537736462515939e-07 15.796326633539158\n",
      "RA20130606_DONE\n",
      "15.46377779546211 11.447054997357792\n",
      "RA20160302_Cell_B_DONE\n",
      "29.127618273595353 26.487932221681504\n",
      "RA20171211.am_Segmented_corrected_DONE\n",
      "11.084373056162695 28.601511225124387\n",
      "RA20160323_Cell_D_DONE\n",
      "5.987107444399423 18.222894019237682\n",
      "RA20171214_1_Cell_B.am_Segmented_corrected_DONE\n",
      "15.89897482435695 27.546603361060985\n",
      "RA20171214_1_Cell_C.am_Segmented_corrected_DONE\n",
      "7.159174157980046 18.377511525981024\n",
      "RA20180109_2_Cluster_B_Cell_A_done.am_Segmented_corrected_DONE\n",
      "nan 6.014670458996303\n",
      "RA20180109_2_Cluster_A_Cell_C_done.am_Segmented_corrected_DONE\n",
      "0.0 12.892018161101506\n",
      "RA20160323_Cell_B_DONE\n",
      "23.92189471620253 30.35360409233664\n",
      "RA20160404_Cell_A_corrected_shifted_and_merged_DONE\n",
      "21.92279573455626 32.97270180650927\n",
      "RA20160323_Cell_A_DONE\n",
      "0.0 16.240348872166308\n",
      "RA20180109_2_Cluster_A_Cell_B_done.am_Segmented_corrected_shifted_and_merged_DONE\n",
      "0.0 12.892033638437113\n",
      "RA20130626_2_DONE\n",
      "13.002374915090774 8.648013728716915\n",
      "RA20171212_2_Cell_B.am_Segmented_corrected_DONE\n",
      "22.700387373215587 24.22854162476832\n",
      "RA20150807_1_DONE\n",
      "17.292188663122953 16.823209825054516\n",
      "RA20180109_1_Cell_B.am_Segmented_corrected_shifted_and_Merged_DONE\n",
      "8.537736462515939e-07 24.128710326621984\n",
      "RA20160324_Cell_A_corrected_shifted_and_merged_DONE\n",
      "4.516462861207284 14.681053065983564\n",
      "RA20160330_Cell_B_corrected_shifted_and_merge_DONE\n",
      "13.736318391606009 8.58599952331525\n",
      "RA20160310_Cell_A_corrected_shifted_and_merged_DONE\n",
      "RA20130603_DONE\n",
      "RA20150805_1_Cell_B_DONE\n",
      "18.01111987950719 12.849728550340163\n",
      "RA20180109_1_Cell_A_done.am_Segmented_corrected_shifted_and_merged_DONE\n",
      "0.0 24.12871124525832\n",
      "RA20160314_Celll_A_corrected_shifted_and_merged_DONE\n",
      "RA20150813_2_4x_Contours_forMerge_CELL_B_.am_corrected_Segmented_shifted_and_merged_DONE\n",
      "1.2074182697257333e-06 15.23890836486223\n",
      "RA20171215_1_.am_Segmented_corrected_DONE\n",
      "14.860113312295418 22.08038334596274\n",
      "RA20160308_Cell_B---Copy_new.am_Segmented_corrected_shifted_and_merged_DONE\n",
      "19.841614770801254 23.03291697355935\n",
      "RA20180109_2_Cluster_A_Cell_A_done.am_Segmented_corrected_DONE\n",
      "1.2074182697257333e-06 12.892046816039906\n",
      "RA20130402_corrected_2_wm_countours_corrected_shifted_and_merged_DONE\n",
      "RA20160330_Cell_A_corrected_shifted_and_merged_DONE\n",
      "15.745577903873182 20.43396885243925\n",
      "RA20130626_1_corrected_shifted_and_merged_DONE_feature_corrected\n",
      "21.782034551510545 16.426494314306176\n",
      "RA20150807_2_Cell_B_corrected_shifted_and_merged_DONE\n",
      "nan 1.4841349266286117\n",
      "RA20130722_2_corrected_shifted_and_merged_DONE\n",
      "13.699218635798587 32.44555040718179\n",
      "RA20180109_2_Cluster_B_Cell_B_done.am_Segmented_corrected_DONE\n",
      "0.0 6.014672926703575\n",
      "RA20130507_2_corrected_DONE\n",
      "RA20150805_1_Cell_A_DONE\n",
      "0.0 15.3264001043166\n",
      "RA20130607_1_DONE_feature_corrected_corrected\n",
      "36.210326751545814 17.10705074759543\n",
      "RA20171212_1_Cell_F.am_Segmented_corrected_DONE\n",
      "18.91443732924018 24.17908499129629\n",
      "RA20160302_Cell_A_DONE\n",
      "0.0 8.611525918226254\n",
      "RA20150804_2_4x-_for_cell_merge_.am_Segmented_corrected_DONE\n",
      "19.997749797020017 29.044433428671734\n"
     ]
    }
   ],
   "source": [
    "df_cols = ['Exp','Original_Axis_Depth','Original_Axis_Height','Registered_Axis_Depth','Registered_Axis_Height',\\\n",
    "           'orientation_original','orientation_reg','orientation_between_original_and_surf_reg',\\\n",
    "           'pia_diff','wm_diff','orientation_difference']\n",
    "df = pd.DataFrame(columns=df_cols)\n",
    "\n",
    "# generate a central axis at the somas centroid in the avg rf\n",
    "pia = Surface(input_path_avg_rf+'Avg_vM1_lhs_Pia.vtk')\n",
    "wm = Surface(input_path_avg_rf+'Avg_vM1_lhs_WM.vtk')\n",
    "\n",
    "# read registered cells and find their soma depth... based on the layer border decide their layer cell type\n",
    "for file in glob.glob(output_neuron_axis+'*soma_wm_axis.am'):\n",
    "    print(os.path.basename(file)[:-16])\n",
    "    soma_wm_axis_original = AmiraSpatialGraph(file,generic_graph=True)\n",
    "    height_o = Vectors().get_vec_length(soma_wm_axis_original.graph_data.edge_list[0])\n",
    "    soma_pia_axis_original = AmiraSpatialGraph(file[:-10]+'pia_axis.am',generic_graph=True)\n",
    "    soma_pia_axis_original_local_avg = AmiraSpatialGraph(file[:-10]+'pia_axis_local_avg.am',generic_graph=True)\n",
    "    #print(soma_pia_axis_original_local_avg.graph_data.edge_list[0],)\n",
    "    depth_o = Vectors().get_vec_length(soma_pia_axis_original.graph_data.edge_list[0])\n",
    "    # angle between neuron axis and avg axis\n",
    "    \n",
    "    soma_wm_axis_reg = AmiraSpatialGraph(output_alignment_using_neuron_axis_and_local_Avg_pia_soma+'2_Local_Neuron_Axis/'+os.path.basename(file),generic_graph=True)\n",
    "    height_r = Vectors().get_vec_length(soma_wm_axis_reg.graph_data.edge_list[0])\n",
    "    soma_pia_axis_reg = AmiraSpatialGraph(output_alignment_using_neuron_axis_and_local_Avg_pia_soma+'2_Local_Neuron_Axis/'+os.path.basename(file)[:-10]+'pia_axis.am',generic_graph=True)\n",
    "    soma_pia_axis_reg_nearest = AmiraSpatialGraph(output_alignment_using_neuron_axis_and_nearest_pia_soma+'Nearest_Axis/'+os.path.basename(file)[:-15]+'nearest_axis.am',generic_graph=True)\n",
    "    depth_r = Vectors().get_vec_length(soma_pia_axis_reg.graph_data.edge_list[0])\n",
    "    #print(height,depth)\n",
    "    \n",
    "    # find pia wm intersection pts for the registered neurons\n",
    "    #start_pt = Vectors().create_pt_along_vector_at_given_distance(10000,soma_pia_axis_reg)\n",
    "    pia_int_pt,bla = pia.get_vector_intersection_pt(soma_pia_axis_reg.graph_data.edge_list[0][0],soma_pia_axis_reg.graph_data.edge_list[0][1],\\\n",
    "                                                    extrapolation_len=20000)\n",
    "    wm_int_pt,bla = wm.get_vector_intersection_pt(soma_wm_axis_reg.graph_data.edge_list[0][0],soma_wm_axis_reg.graph_data.edge_list[0][1],\\\n",
    "                                                    extrapolation_len=20000)\n",
    "    if len(pia_int_pt)==0 or len(wm_int_pt)==0:\n",
    "        continue\n",
    "    \n",
    "    original_vec_len = Vectors().get_vec_length([soma_wm_axis_reg.graph_data.edge_list[0][1],\\\n",
    "                                                 soma_pia_axis_reg.graph_data.edge_list[0][1]])\n",
    "    new_vec_len = Vectors().get_vec_length([pia_int_pt,wm_int_pt])\n",
    "    new_depth = (depth_o/original_vec_len)*new_vec_len\n",
    "    new_soma_location = Vectors().create_pt_along_vector_at_given_distance(new_depth,soma_pia_axis_reg.graph_data.edge_list[0][1],\\\n",
    "                                                                                     soma_pia_axis_reg.graph_data.edge_list[0][0])\n",
    "    \n",
    "    depth_r = Vectors().get_vec_length([new_soma_location,pia_int_pt])\n",
    "    height_r = Vectors().get_vec_length([new_soma_location,wm_int_pt])\n",
    "    \n",
    "    df_tmp = pd.DataFrame(columns=df_cols)\n",
    "    df_tmp['Exp'] = [os.path.basename(file)[:-16]]\n",
    "    df_tmp['Original_Axis_Depth'] = [depth_o]\n",
    "    df_tmp['Original_Axis_Height'] = [height_o]\n",
    "    df_tmp['Registered_Axis_Depth'] = [depth_r]\n",
    "    df_tmp['Registered_Axis_Height'] = [height_r]\n",
    "    df_tmp['pia_diff'] = [depth_o-depth_r]\n",
    "    df_tmp['wm_diff'] = [height_o-height_r]\n",
    "    \n",
    "    if len(soma_pia_axis_original_local_avg.graph_data.edge_list) > 0 and len(soma_pia_axis_reg_nearest.graph_data.edge_list) > 0:\n",
    "        angle_o = Vectors().get_angle_between_vectors(soma_pia_axis_original.graph_data.edge_list[0],\\\n",
    "                                                soma_pia_axis_original_local_avg.graph_data.edge_list[0],ignore_opposite_direction=True)\n",
    "        angle_r = Vectors().get_angle_between_vectors(soma_pia_axis_reg.graph_data.edge_list[0],\\\n",
    "                                                soma_pia_axis_reg_nearest.graph_data.edge_list[0],ignore_opposite_direction=True)\n",
    "        print(angle_o,angle_r)\n",
    "        df_tmp['orientation_original'] = [angle_o]\n",
    "        df_tmp['orientation_reg'] = [angle_r]\n",
    "        \n",
    "        angle = angle_o-angle_r\n",
    "    else:\n",
    "        angle = np.nan\n",
    "        \n",
    "    df_tmp['orientation_difference'] = [angle_o-angle_r]\n",
    "    \n",
    "    soma_pia_axis_surf_reg = AmiraSpatialGraph(output_alignment_using_surfaces+'Using_Surfaces_Pia_Only/2_Local_Neuron_Axis/'+ os.path.basename(file)[:-15]+'soma_pia_axis.am',generic_graph=True)\n",
    "    \n",
    "    angle_o_surf_reg = Vectors().get_angle_between_vectors(soma_pia_axis_surf_reg.graph_data.edge_list[0],\\\n",
    "                                                soma_pia_axis_reg.graph_data.edge_list[0],ignore_opposite_direction=True)\n",
    "    \n",
    "    df_tmp['orientation_between_original_and_surf_reg'] = [angle_o_surf_reg]\n",
    "    \n",
    "    df = df.append(df_tmp)\n",
    "    \n",
    "df.to_csv(output_root+'reg_evaluation.csv') \n"
   ]
  },
  {
   "cell_type": "code",
   "execution_count": 30,
   "metadata": {
    "ExecuteTime": {
     "end_time": "2021-08-19T12:18:46.462754Z",
     "start_time": "2021-08-19T12:18:46.453289Z"
    },
    "scrolled": true
   },
   "outputs": [
    {
     "data": {
      "text/html": [
       "<div>\n",
       "<style scoped>\n",
       "    .dataframe tbody tr th:only-of-type {\n",
       "        vertical-align: middle;\n",
       "    }\n",
       "\n",
       "    .dataframe tbody tr th {\n",
       "        vertical-align: top;\n",
       "    }\n",
       "\n",
       "    .dataframe thead th {\n",
       "        text-align: right;\n",
       "    }\n",
       "</style>\n",
       "<table border=\"1\" class=\"dataframe\">\n",
       "  <thead>\n",
       "    <tr style=\"text-align: right;\">\n",
       "      <th></th>\n",
       "      <th>Unnamed: 0</th>\n",
       "      <th>Exp</th>\n",
       "      <th>Original_Axis_Depth</th>\n",
       "      <th>Original_Axis_Height</th>\n",
       "      <th>Registered_Axis_Depth</th>\n",
       "      <th>Registered_Axis_Height</th>\n",
       "      <th>orientation_original</th>\n",
       "      <th>orientation_reg</th>\n",
       "      <th>orientation_between_original_and_surf_reg</th>\n",
       "      <th>pia_diff</th>\n",
       "      <th>wm_diff</th>\n",
       "      <th>orientation_difference</th>\n",
       "    </tr>\n",
       "  </thead>\n",
       "  <tbody>\n",
       "  </tbody>\n",
       "</table>\n",
       "</div>"
      ],
      "text/plain": [
       "Empty DataFrame\n",
       "Columns: [Unnamed: 0, Exp, Original_Axis_Depth, Original_Axis_Height, Registered_Axis_Depth, Registered_Axis_Height, orientation_original, orientation_reg, orientation_between_original_and_surf_reg, pia_diff, wm_diff, orientation_difference]\n",
       "Index: []"
      ]
     },
     "execution_count": 30,
     "metadata": {},
     "output_type": "execute_result"
    }
   ],
   "source": [
    "import pandas as pd\n",
    "input_path = '/Users/mysee/Documents/PhD/Projects/vM1/Registration_Final_Coronal_Ref_Frame/Outputs/'\n",
    "df=pd.read_csv(input_path+'reg_evaluation.csv')\n",
    "df[(df['pia_diff']<0) & (df['wm_diff']>0)]"
   ]
  },
  {
   "cell_type": "code",
   "execution_count": 5,
   "metadata": {
    "ExecuteTime": {
     "end_time": "2021-08-19T12:19:07.957977Z",
     "start_time": "2021-08-19T12:19:07.950369Z"
    }
   },
   "outputs": [
    {
     "data": {
      "text/plain": [
       "(9.449686128024664, 6.081788571183838)"
      ]
     },
     "execution_count": 5,
     "metadata": {},
     "output_type": "execute_result"
    }
   ],
   "source": [
    "df['orientation_difference'].abs().mean(),df['orientation_difference'].abs().std(),"
   ]
  },
  {
   "cell_type": "code",
   "execution_count": 6,
   "metadata": {
    "ExecuteTime": {
     "end_time": "2021-08-19T12:19:09.014641Z",
     "start_time": "2021-08-19T12:19:09.005934Z"
    }
   },
   "outputs": [
    {
     "data": {
      "text/plain": [
       "(100.67508330258245, 90.52664828973512)"
      ]
     },
     "execution_count": 6,
     "metadata": {},
     "output_type": "execute_result"
    }
   ],
   "source": [
    "df['pia_diff'].abs().mean(),df['pia_diff'].abs().std(),"
   ]
  },
  {
   "cell_type": "code",
   "execution_count": 17,
   "metadata": {},
   "outputs": [
    {
     "data": {
      "text/plain": [
       "(23, 86.70081033955678, 56.026866964527365)"
      ]
     },
     "execution_count": 17,
     "metadata": {},
     "output_type": "execute_result"
    }
   ],
   "source": [
    "len(df[df['pia_diff']>0]['pia_diff'].values),df[df['pia_diff']>0]['pia_diff'].values.mean(),df[df['pia_diff']>0]['pia_diff'].values.std()"
   ]
  },
  {
   "cell_type": "code",
   "execution_count": 18,
   "metadata": {},
   "outputs": [
    {
     "data": {
      "text/plain": [
       "(55, -106.51887017802952, 100.2228233399235)"
      ]
     },
     "execution_count": 18,
     "metadata": {},
     "output_type": "execute_result"
    }
   ],
   "source": [
    "len(df[df['pia_diff']<0]['pia_diff'].values),df[df['pia_diff']<0]['pia_diff'].values.mean(),df[df['pia_diff']<0]['pia_diff'].values.std()"
   ]
  },
  {
   "cell_type": "code",
   "execution_count": 8,
   "metadata": {
    "ExecuteTime": {
     "end_time": "2021-08-19T12:18:46.462754Z",
     "start_time": "2021-08-19T12:18:46.453289Z"
    }
   },
   "outputs": [
    {
     "data": {
      "text/plain": [
       "(199.1452248676866, 173.63534341626323)"
      ]
     },
     "execution_count": 8,
     "metadata": {},
     "output_type": "execute_result"
    }
   ],
   "source": [
    "df['wm_diff'].abs().mean(),df['wm_diff'].abs().std(),"
   ]
  },
  {
   "cell_type": "code",
   "execution_count": 20,
   "metadata": {},
   "outputs": [
    {
     "data": {
      "text/plain": [
       "(23, 146.38934228886797, 115.38852055080432)"
      ]
     },
     "execution_count": 20,
     "metadata": {},
     "output_type": "execute_result"
    }
   ],
   "source": [
    "len(df[df['wm_diff']>0]['wm_diff'].values),df[df['wm_diff']>0]['wm_diff'].values.mean(),df[df['wm_diff']>0]['wm_diff'].values.std()"
   ]
  },
  {
   "cell_type": "code",
   "execution_count": 21,
   "metadata": {},
   "outputs": [
    {
     "data": {
      "text/plain": [
       "(55, -221.20677576428355, 187.05734569322365)"
      ]
     },
     "execution_count": 21,
     "metadata": {},
     "output_type": "execute_result"
    }
   ],
   "source": [
    "len(df[df['wm_diff']<0]['wm_diff'].values),df[df['wm_diff']<0]['wm_diff'].values.mean(),df[df['wm_diff']<0]['wm_diff'].values.std()"
   ]
  },
  {
   "cell_type": "code",
   "execution_count": null,
   "metadata": {},
   "outputs": [],
   "source": []
  },
  {
   "cell_type": "code",
   "execution_count": null,
   "metadata": {},
   "outputs": [],
   "source": []
  }
 ],
 "metadata": {
  "kernelspec": {
   "display_name": "Python 3 (ipykernel)",
   "language": "python",
   "name": "python3"
  },
  "language_info": {
   "codemirror_mode": {
    "name": "ipython",
    "version": 3
   },
   "file_extension": ".py",
   "mimetype": "text/x-python",
   "name": "python",
   "nbconvert_exporter": "python",
   "pygments_lexer": "ipython3",
   "version": "3.9.10"
  },
  "toc": {
   "base_numbering": 1,
   "nav_menu": {},
   "number_sections": true,
   "sideBar": true,
   "skip_h1_title": false,
   "title_cell": "Table of Contents",
   "title_sidebar": "Contents",
   "toc_cell": false,
   "toc_position": {
    "height": "calc(100% - 180px)",
    "left": "10px",
    "top": "150px",
    "width": "240px"
   },
   "toc_section_display": true,
   "toc_window_display": true
  }
 },
 "nbformat": 4,
 "nbformat_minor": 2
}
