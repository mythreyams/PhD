{
 "cells": [
  {
   "cell_type": "code",
   "execution_count": 1,
   "metadata": {
    "ExecuteTime": {
     "end_time": "2020-08-21T10:15:32.352369Z",
     "start_time": "2020-08-21T10:15:29.521582Z"
    },
    "collapsed": true
   },
   "outputs": [],
   "source": [
    "import sys\n",
    "import os\n",
    "sys.path.insert(0,os.path.abspath('..'))\n",
    "from spatial_graphs.AmiraSpatialGraph import AmiraSpatialGraph,MatchBarrels\n",
    "from spatial_graphs.Landmarks import Landmarks\n",
    "from spatial_graphs.Surfaces import Surface\n",
    "from spatial_graphs.Vectors import Vectors\n",
    "from spatial_graphs.Alignment import Alignment\n",
    "from dask import compute,multiprocessing,delayed\n",
    "import pathlib\n",
    "import shutil\n",
    "import glob\n",
    "import pandas as pd\n",
    "import vtk\n",
    "from scipy.spatial import distance\n",
    "import numpy as np"
   ]
  },
  {
   "cell_type": "markdown",
   "metadata": {},
   "source": [
    "# Create output folders"
   ]
  },
  {
   "cell_type": "code",
   "execution_count": 2,
   "metadata": {
    "ExecuteTime": {
     "end_time": "2020-08-21T10:15:33.776233Z",
     "start_time": "2020-08-21T10:15:32.356834Z"
    },
    "collapsed": true
   },
   "outputs": [],
   "source": [
    "input_path_spatial_graphs = '/nas1/Data_Mythreya/MotorCortexProject/V10/Registration/Input_Spatial_Graphs/'\n",
    "surface_resolution = 100\n",
    "#alignment_types = ['Using_vS1_vM1_Surface_Points',]\n",
    "alignment_type = 'Using_vS1_vM1_Surface_Points'\n",
    "input_path_avg_rf = '/nas1/Data_Mythreya/MotorCortexProject/V10/vM1_Ref_Frame/Outputs/Average/'+alignment_type+'/In_SBF_Ref_Frame_With_Scaling_Correction/'\n",
    "#exp_names = ['MG49_lhs','MG49_rhs','MG50_lhs','MG50_rhs','MG48_lhs','MG48_rhs']\n",
    "#alignment_types = ['Using_vS1','Using_vM1','Using_Pia_WM_Surfaces','Using_vS1_vM1_Surfaces']\n",
    "\n",
    "\n",
    "ref_barrels = AmiraSpatialGraph(input_path_avg_rf+'Avg_SBF_Without_Projections.am',generic_graph=True,\\\n",
    "                                barrel_projections_present=False)\n",
    "ref_pia = Surface(input_path_avg_rf+'Avg_Pia_50.vtk')\n",
    "ref_wm = Surface(input_path_avg_rf+'Avg_WM_50.vtk')\n",
    "ref_pia_wm = ref_pia\n",
    "ref_pia_wm.append(ref_wm.surface)"
   ]
  },
  {
   "cell_type": "code",
   "execution_count": 3,
   "metadata": {
    "ExecuteTime": {
     "end_time": "2020-08-21T10:15:33.804211Z",
     "start_time": "2020-08-21T10:15:33.781803Z"
    },
    "collapsed": true
   },
   "outputs": [],
   "source": [
    "# create output folder structure\n",
    "HOME = str(pathlib.Path(input_path_spatial_graphs).parent)\n",
    "output_root = HOME + '/Outputs/'\n",
    "pathlib.Path((output_root)).mkdir(exist_ok=True)\n",
    "\n",
    "output_surfaces = output_root + '1_Surfaces/'\n",
    "pathlib.Path((output_surfaces)).mkdir(exist_ok=True)\n",
    "\n",
    "output_axis_field = output_root + '1_Axis_Fields/'\n",
    "pathlib.Path((output_axis_field)).mkdir(exist_ok=True)\n",
    "\n",
    "output_stats = output_root + '2_Local_Stats/'\n",
    "pathlib.Path((output_stats)).mkdir(exist_ok=True)\n",
    "\n",
    "output_neuron_axis = output_root + '2_Local_Neuron_Axis/'\n",
    "pathlib.Path((output_neuron_axis)).mkdir(exist_ok=True)\n",
    "\n",
    "output_alignment_using_surfaces = output_root + '3_Aligned_By_Surfaces/'\n",
    "pathlib.Path((output_alignment_using_surfaces)).mkdir(exist_ok=True)\n",
    "\n",
    "output_alignment_using_barrels = output_root + '3_Aligned_By_Barrels/'\n",
    "pathlib.Path((output_alignment_using_barrels)).mkdir(exist_ok=True)\n",
    "\n",
    "\n",
    "\n"
   ]
  },
  {
   "cell_type": "markdown",
   "metadata": {},
   "source": [
    "# Create Pia and WM Surfaces"
   ]
  },
  {
   "cell_type": "code",
   "execution_count": null,
   "metadata": {
    "ExecuteTime": {
     "end_time": "2020-08-20T16:49:16.524302Z",
     "start_time": "2020-08-20T16:49:16.480772Z"
    },
    "collapsed": true
   },
   "outputs": [],
   "source": [
    "@delayed\n",
    "def create_surface(file,surface_resolution='100'):\n",
    "    sg = AmiraSpatialGraph(filename=file)\n",
    "    # flip if required\n",
    "    #txmat = get_axis_flip_tx_mat(sg)\n",
    "    #print(txmat)\n",
    "    #sg.apply_transformation(txmat)\n",
    "    #sg.write_spatial_graph(root_dst+os.path.basename(file))\n",
    "    #sg = AmiraSpatialGraph(root_dst+os.path.basename(file))\n",
    "    #sg_clipped = get_fist_x_z_planes_sg(sg,17)\n",
    "    #sg_clipped.write_spatial_graph(root_dst+os.path.basename(file)+'_clipped.am')\n",
    "    os.system('/home/mythreya/project_src/BarrelField3D/DataAnalysis3D/BF3DRecon {} {} {}'.\\\n",
    "              format(file,output_surfaces+os.path.basename(file)[:-3],str(100)))\n",
    "    pia = Surface(output_surfaces+os.path.basename(file)[:-3]+'_pia.vtk')\n",
    "    wm = Surface(output_surfaces+os.path.basename(file)[:-3]+'_WM.vtk')\n",
    "    \n",
    "    if pia.surface.GetNumberOfCells()>0 and wm.surface.GetNumberOfCells()>0:\n",
    "        pia.clip_surface_at_given_z(-100,output_filename = output_surfaces+os.path.basename(file)[:-3]+'_pia_bottom_open.vtk')\n",
    "        wm.clip_surface_at_given_z(-100,output_filename = output_surfaces+os.path.basename(file)[:-3]+'_WM_bottom_open.vtk')\n",
    "        \n",
    "        os.system('/home/mythreya/project_src/BarrelField3D/DataAnalysis3D/BF3DRecon {} {} {}'.\\\n",
    "              format(file,output_surfaces+os.path.basename(file)[:-3],str(450)))\n",
    "        pia_450 = Surface(output_surfaces+os.path.basename(file)[:-3]+'_pia.vtk')\n",
    "        pia_450.clip_surface_at_given_z(-100,output_filename = output_surfaces+os.path.basename(file)[:-3]+'_pia_bottom_open_450.vtk')\n",
    "        \n",
    "        wm_450 = Surface(output_surfaces+os.path.basename(file)[:-3]+'_WM.vtk')\n",
    "        wm_450.clip_surface_at_given_z(-100,output_filename = output_surfaces+os.path.basename(file)[:-3]+'_WM_bottom_open_450.vtk')\n",
    "            \n",
    "    else:\n",
    "        # create a delunay surface as the traditional way has failed\n",
    "        pia = Surface(pts=sg.pia.edge_pt_coords)\n",
    "        wm = Surface(pts=sg.wm.edge_pt_coords)\n",
    "        pia_hull = pia.create_delunay_surface_3d(return_hull=True,output_filename=output_surfaces+os.path.basename(file)[:-3]+'_pia.vtk')\n",
    "        wm_hull = wm.create_delunay_surface_3d(return_hull=True,output_filename=output_surfaces+os.path.basename(file)[:-3]+'_WM.vtk')\n",
    "        \n",
    "        # clip at the bottom\n",
    "        shutil.copyfile(src=file,dst=output_surfaces+os.path.basename(file)[:-3]+'_barrels.am')\n",
    "        pia.clip_surface_at_given_z(-100,output_filename = output_surfaces+os.path.basename(file)[:-3]+'_pia_bottom_open.vtk')\n",
    "        wm.clip_surface_at_given_z(-100,output_filename = output_surfaces+os.path.basename(file)[:-3]+'_WM_bottom_open.vtk')\n",
    "        #wm.create_axis_field(pia,op_sg_name=output_surfaces+os.path.basename(file)[:-3]+'_axis_field.am',flip_normals=False,\\\n",
    "        #                              return_axes=True)"
   ]
  },
  {
   "cell_type": "code",
   "execution_count": null,
   "metadata": {
    "ExecuteTime": {
     "end_time": "2020-08-20T16:49:56.648543Z",
     "start_time": "2020-08-20T16:49:16.599724Z"
    },
    "scrolled": true
   },
   "outputs": [],
   "source": [
    "fn_list_surfs = []\n",
    "file_names = sorted(glob.glob(input_path_spatial_graphs+'*.am'))\n",
    "for i in range(len(file_names)):\n",
    "    #if os.path.basename(file_names[i])=='RA20150804_2_4x-_for_cell_merge_.am_Segmented_corrected_DONE.am':\n",
    "    fn_list_surfs.append(create_surface(file_names[i]))\n",
    "\n",
    "compute(fn_list_surfs)"
   ]
  },
  {
   "cell_type": "markdown",
   "metadata": {},
   "source": [
    "# Generate Axis Field"
   ]
  },
  {
   "cell_type": "code",
   "execution_count": null,
   "metadata": {
    "ExecuteTime": {
     "end_time": "2020-08-20T16:59:08.288266Z",
     "start_time": "2020-08-20T16:59:07.997603Z"
    },
    "collapsed": true,
    "scrolled": true
   },
   "outputs": [],
   "source": [
    "# Create axis with the smooth wm (voxel size 450) \n",
    "file_names = sorted(glob.glob(input_path_spatial_graphs+'*.am'))\n",
    "for i in range(len(file_names)):\n",
    "    file = file_names[i]\n",
    "    #if os.path.basename(file)[:-3] == 'RA20150804_2_4x-_for_cell_merge_.am_Segmented_corrected_DONE':\n",
    "    pia_100 = Surface(output_surfaces+os.path.basename(file)[:-3]+'_pia_bottom_open.vtk')\n",
    "    wm_100 = Surface(output_surfaces+os.path.basename(file)[:-3]+'_WM_bottom_open.vtk')\n",
    "    wm_450 = Surface(output_surfaces+os.path.basename(file)[:-3]+'_WM_bottom_open_450.vtk')\n",
    "\n",
    "    if wm_450.surface.GetNumberOfCells() > 0:\n",
    "        wm_to_use = wm_450\n",
    "    else:\n",
    "        wm_to_use = wm_100\n",
    "    \n",
    "    flipped_axes = wm_to_use.create_axis_field(pia_100,op_sg_name=None,flip_normals=True,return_axes=True,\\\n",
    "                                            max_allowed_axis_length=5000,check_source_double_touch=True)\n",
    "    axes = wm_to_use.create_axis_field(pia_100,op_sg_name=None,flip_normals=False,return_axes=True,\\\n",
    "                                    max_allowed_axis_length=5000,check_source_double_touch=True)\n",
    "    sg = AmiraSpatialGraph(generic_graph=True)\n",
    "    for edge in flipped_axes:\n",
    "        sg.graph_data.add_edge(edge[0],edge[1])\n",
    "    for edge in axes:\n",
    "        sg.graph_data.add_edge(edge[0],edge[1])\n",
    "    #sg.write_spatial_graph(output_axis_field+os.path.basename(file)[:-3]+'_axis_field.am')\n",
    "\n",
    "    # trim the axis field as per the pia and wm surfaces of 100 micron voxel resolution\n",
    "    selected_axis_field_sg,wm_pts,pia_pts,missing_axis_field = pia_100.get_axis_field_within_instersecting_surface_with_trimming\\\n",
    "                                (pia_100.surface,wm_100.surface,sg.graph_data.edge_list,vec_extension_offset=0.75)\n",
    "    selected_axis_field_sg.write_spatial_graph(output_axis_field+os.path.basename(file)[:-3]+'_axis_field.am')\n",
    "\n",
    "        \n",
    "        "
   ]
  },
  {
   "cell_type": "markdown",
   "metadata": {},
   "source": [
    "# Stats of input neuron and surfaces"
   ]
  },
  {
   "cell_type": "code",
   "execution_count": null,
   "metadata": {
    "ExecuteTime": {
     "end_time": "2020-08-20T13:35:28.548363Z",
     "start_time": "2020-08-20T13:35:28.537740Z"
    },
    "collapsed": true
   },
   "outputs": [],
   "source": [
    "def write_edge(edge,filename):\n",
    "    axis_sg = AmiraSpatialGraph(generic_graph=True)\n",
    "    axis_sg.graph_data.add_edge(edge[0],edge[1])\n",
    "    axis_sg.write_spatial_graph(filename)\n",
    "\n",
    "    return axis_sg\n",
    "\n",
    "    "
   ]
  },
  {
   "cell_type": "code",
   "execution_count": null,
   "metadata": {
    "ExecuteTime": {
     "end_time": "2020-08-20T13:35:28.920259Z",
     "start_time": "2020-08-20T13:35:28.912764Z"
    },
    "collapsed": true
   },
   "outputs": [],
   "source": [
    "def resample_edge(edge,num_pts_to_be_inserted):\n",
    "    resampled_edge = []\n",
    "    #resample_edge.append(edge[0])\n",
    "    n = np.array(edge[len(edge)-1]) - np.array(edge[0])\n",
    "    n_unit = n / np.linalg.norm(n)\n",
    "    edge_len = Vectors().get_vec_length(edge)\n",
    "    for i in range(num_pts_to_be_inserted):\n",
    "        resampled_edge.append(i*n_unit*edge_len/num_pts_to_be_inserted+edge[0])\n",
    "    return edge"
   ]
  },
  {
   "cell_type": "code",
   "execution_count": null,
   "metadata": {
    "ExecuteTime": {
     "end_time": "2020-08-20T13:35:29.456265Z",
     "start_time": "2020-08-20T13:35:29.449352Z"
    },
    "collapsed": true
   },
   "outputs": [],
   "source": [
    "def get_pca_direction(apical_dendrite_pts,res=1):\n",
    "#     resampled_pts = []\n",
    "#     for edge in apical_dendrite_edges:\n",
    "#         for i in range(len(edge)-1):\n",
    "#             length = distance.euclidean(edge[i],edge[i+1])\n",
    "#             if length > res:\n",
    "#                 num_pts_to_be_inserted = int(length/res)\n",
    "#                 resampled_edge = resample_edge(edge,num_pts_to_be_inserted)\n",
    "#                 for i in range(len(resampled_edge)):\n",
    "#                     resampled_pts.append(resampled_edge[i])\n",
    "    \n",
    "    pca = PCA(n_components=3,)\n",
    "    transformed_pca = pca.fit_transform(X=apical_dendrite_pts)\n",
    "    #print(transformed_pca)\n",
    "    return pca.components_"
   ]
  },
  {
   "cell_type": "code",
   "execution_count": null,
   "metadata": {
    "ExecuteTime": {
     "end_time": "2020-08-20T13:35:30.196266Z",
     "start_time": "2020-08-20T13:35:30.184827Z"
    },
    "collapsed": true
   },
   "outputs": [],
   "source": [
    "def get_wm_intersection_pt(wm,soma_pt,pia_pt):\n",
    "    wm_pt = []\n",
    "    for j in range(500,6000,50):\n",
    "        opposing_pt = Vectors().create_pt_along_vector_at_given_distance(-j,soma_pt,pia_pt)\n",
    "        #print(opposing_pt)\n",
    "        #Landmarks(pts=[opposing_pt]).write_landmarks(output_root+'oppsing_pt')\n",
    "        wm_pt,dist = wm.get_vector_intersection_pt(soma_pt,opposing_pt,extrapolation_len=0)\n",
    "        #Landmarks(pts=[opposing_pt]).write_landmarks(output_root+'wm_pt')\n",
    "        #print(wm_pt)\n",
    "        if len(wm_pt)>0:\n",
    "            break\n",
    "    return wm_pt"
   ]
  },
  {
   "cell_type": "code",
   "execution_count": null,
   "metadata": {
    "ExecuteTime": {
     "start_time": "2020-08-20T17:00:07.000Z"
    },
    "scrolled": true
   },
   "outputs": [],
   "source": [
    "cols = ['Exp_Name','Pia_Area','WM_Area','Pia_Volume','WM_Volume',\\\n",
    "        'Cortical_Thickness_Mean','Cortical_Thickness_Std','Cortical_Thickness_CoV',\\\n",
    "        'Cortical_Thickness_vS1_Mean','Cortical_Thickness_vS1_Std','Cortical_Thickness_vS1_CoV',]\n",
    "df_main = pd.DataFrame(columns=cols)\n",
    "\n",
    "for file in sorted(glob.glob(input_path_spatial_graphs+'*.am')):\n",
    "    print(file)\n",
    "    pia = Surface(output_surfaces+os.path.basename(file)[:-3]+'_pia_bottom_open.vtk')\n",
    "    wm = Surface(output_surfaces+os.path.basename(file)[:-3]+'_WM_bottom_open.vtk')\n",
    "    pia_closed = pia.create_delunay_surface_3d(return_hull=True,make_cube=False)\n",
    "    wm_closed = wm.create_delunay_surface_3d(return_hull=True,make_cube=False)\n",
    "    axis_field = AmiraSpatialGraph(output_axis_field+os.path.basename(file)[:-3]+'_axis_field.am',generic_graph=True)\n",
    "    \n",
    "    sg = AmiraSpatialGraph(file)\n",
    "    vs1_sg = AmiraSpatialGraph(generic_graph=True)\n",
    "    # create hull around s1 and get axis field for s1\n",
    "    for pt in sg.barrels.all_rows_graphdata.edge_pt_coords:\n",
    "        min_edge,min_dist, min_dist_from_wm, min_dist_from_pia, pt_on_vector = \\\n",
    "        Vectors().get_nearest_axis_to_pt(pt,axis_field.graph_data.edge_list,axis_validation_distance=3000)\n",
    "        vs1_sg.graph_data.add_edge(min_edge[0],min_edge[1])\n",
    "    vs1_sg.write_spatial_graph(output_axis_field+os.path.basename(file)[:-3]+'_vS1_Axis_Field.am')\n",
    "    \n",
    "    # find vector lengths for whole surface and vs1 area\n",
    "    vec_lens,bla1,bla2 = Vectors().get_vec_lengths(axis_field.graph_data.edge_list)\n",
    "    vec_lens_vs1,bla,blee = Vectors().get_vec_lengths(vs1_sg.graph_data.edge_list)\n",
    "        \n",
    "    df = pd.DataFrame(columns=df_main.columns)\n",
    "    df['Exp_Name'] = [os.path.basename(file)[:-3]]\n",
    "    df['Pia_Area'] = [pia.get_surface_properties(prop='area')]\n",
    "    df['WM_Area'] = [wm.get_surface_properties(prop='area')]\n",
    "    df['Pia_Volume'] = [Surface(polydata=pia_closed).get_surface_properties(prop='volume')]\n",
    "    df['WM_Volume'] = [Surface(polydata=wm_closed).get_surface_properties(prop='volume')]\n",
    "    df['Cortical_Thickness_Mean'] = [np.array(vec_lens).mean(axis=0)]\n",
    "    df['Cortical_Thickness_Std'] = [np.array(vec_lens).std(axis=0)]\n",
    "    df['Cortical_Thickness_CoV'] = df['Cortical_Thickness_Std'] / df['Cortical_Thickness_Mean'] * 100\n",
    "    df['Cortical_Thickness_vS1_Mean'] = [np.array(vec_lens_vs1).mean(axis=0)]\n",
    "    df['Cortical_Thickness_vS1_Std'] = [np.array(vec_lens_vs1).std(axis=0)]\n",
    "    df['Cortical_Thickness_vS1_CoV'] = df['Cortical_Thickness_vS1_Std'] / df['Cortical_Thickness_vS1_Mean'] * 100\n",
    "        \n",
    "    df_main = df_main.append(df)\n",
    "\n",
    "df_main.to_csv(output_stats+'Surface_Area_and_Thickness.csv')\n",
    "    "
   ]
  },
  {
   "cell_type": "code",
   "execution_count": null,
   "metadata": {
    "ExecuteTime": {
     "start_time": "2020-08-20T17:00:17.410Z"
    },
    "collapsed": true
   },
   "outputs": [],
   "source": [
    "df_main"
   ]
  },
  {
   "cell_type": "code",
   "execution_count": null,
   "metadata": {
    "collapsed": true
   },
   "outputs": [],
   "source": [
    "cols = ['Exp_Name','Pia_Area','WM_Area','Volume','Cortical_Thickness_Mean','Cortical_Thickness_Std','Cortical_Thickness_CoV',\\\n",
    "        'Apical_Dendrite_Present','WM_Present_Below_Neuron','Neuron_Depth_from_Pia','Neuron_Height_from_WM','Neuron_Axis_Length',\\\n",
    "        'Nearest_Axis_Depth_from_Pia','Nearest_Axis_Height_from_WM','Nearest_Axis_Length',\\\n",
    "        'Angle_to_Nearest_Axis',]\n",
    "df_main = pd.DataFrame(columns=cols)\n",
    "for file in sorted(glob.glob(output_corrected_spatial_graphs+'*.am')):\n",
    "    #if os.path.basename(file)[:-3] == 'RA20160401_Cell_B_DONE':\n",
    "    print(os.path.basename(file)[:-3])\n",
    "    pia = Surface(output_surfaces+os.path.basename(file)[:-3]+'_pia_bottom_open.vtk')\n",
    "    wm = Surface(output_surfaces+os.path.basename(file)[:-3]+'_WM_bottom_open.vtk')\n",
    "    axis_field = AmiraSpatialGraph(output_axis_field+os.path.basename(file)[:-3]+'_axis_field.am',generic_graph=True)\n",
    "    \n",
    "    sg = AmiraSpatialGraph(file)\n",
    "    soma_center = np.array(sg.neuron.soma.edge_pt_coords).mean(axis=0)\n",
    "    Landmarks(pts=[soma_center]).write_landmarks(output_neuron_axis+os.path.basename(file)[:-3]+'_Soma_Centroid.landmarksAscii')\n",
    "\n",
    "    dendrite_pts = []    \n",
    "    for pt in sg.neuron.dendrite.apical_dendrite.edge_pt_coords:\n",
    "        dendrite_pts.append(pt)\n",
    "    for pt in sg.neuron.dendrite.basal_dendrite.edge_pt_coords:\n",
    "        dendrite_pts.append(pt)   \n",
    "    dendrite_mean = np.array(dendrite_pts).mean(axis=0)\n",
    "\n",
    "    # write dendrite for easy visualization\n",
    "    sg.write_sub_spatial_graph(sg.neuron.dendrite.apical_dendrite,output_neuron_axis+os.path.basename(file)[:-3]+\\\n",
    "                               '_apical_dendrite.am')\n",
    "    sg.write_sub_spatial_graph(sg.neuron.dendrite.basal_dendrite,output_neuron_axis+os.path.basename(file)[:-3]+\\\n",
    "                               '_basal_dendrite.am')\n",
    "\n",
    "    # Avg Local Axis \n",
    "    nearby_axes = Vectors().get_nearest_axes_to_pts_within_radius(axis_field.graph_data.edge_list,[soma_center],800)\n",
    "    nearby_axes_sg = AmiraSpatialGraph(generic_graph=True)\n",
    "    unit_vecs = []\n",
    "    for axis in nearby_axes:\n",
    "        nearby_axes_sg.graph_data.add_edge(axis[0],axis[1])\n",
    "        unit_vecs.append(Vectors().get_unit_vec(axis[0],axis[1]))\n",
    "    nearby_axes_sg.write_spatial_graph(output_neuron_axis+os.path.basename(file)[:-3]+'_axis_field_selected.am')\n",
    "    avg_uv = np.array(unit_vecs).mean(axis=0)\n",
    "    end_pt = (avg_uv*6000 + soma_center)\n",
    "    pia_proj_pt_neuron_using_local_avg_axis,soma_depth_using_local_avg = pia.get_vector_intersection_pt(end_pt,soma_center,extrapolation_len=0)\n",
    "    write_edge([soma_center,pia_proj_pt_neuron_using_local_avg_axis],output_neuron_axis+os.path.basename(file)[:-3]+'_soma_pia_axis_local_avg.am')\n",
    "    \n",
    "    wm_proj_pt_neuron_using_local_avg_axis = get_wm_intersection_pt(wm,soma_center,pia_proj_pt_neuron_using_local_avg_axis)\n",
    "    if len(wm_proj_pt_neuron_using_local_avg_axis) > 0:\n",
    "        write_edge([soma_center,wm_proj_pt_neuron_using_local_avg_axis],output_neuron_axis+os.path.basename(file)[:-3]+'_soma_wm_axis_local_avg.am')\n",
    "    else:\n",
    "        print('no wm intersection found using avg local axis for {}'.format(os.path.basename(file)))\n",
    "    soma_depth_using_local_avg = Vectors().get_vec_length([soma_center,pia_proj_pt_neuron_using_local_avg_axis])\n",
    "    # decide which method of depth measurement to use\n",
    "    # using the apical dendrite axis works best for L5 and below neurons\n",
    "    # where as local axis is good for L2/3\n",
    "    print(soma_depth_using_local_avg)\n",
    "\n",
    "    if len(sg.neuron.dendrite.apical_dendrite.edge_pt_coords) > 0:\n",
    "        # Get apical dend axis using pca\n",
    "        pca_components = get_pca_direction(sg.neuron.dendrite.apical_dendrite.edge_pt_coords)\n",
    "        #Landmarks(pts=resampled_pts).write_landmarks(output_root+'pts')\n",
    "        end_pt = Vectors().create_pt_along_vector_at_given_distance(6000,[0,0,0],pca_components[0,:])\n",
    "        #Landmarks(pts=[end_pt+soma_center]).write_landmarks(output_root+'end_pt')\n",
    "        #print(end_pt)\n",
    "        angle = Vectors().get_angle_between_vectors([soma_center,pia_proj_pt_neuron_using_local_avg_axis],\\\n",
    "                         [soma_center,end_pt+soma_center],ignore_opposite_direction=False)\n",
    "        print(angle)\n",
    "        pia_proj_pt_neuron = []\n",
    "        if angle < 90:\n",
    "            # pca direction is correct.. project to pia\n",
    "            end_pt = Vectors().create_pt_along_vector_at_given_distance(6000,[0,0,0],pca_components[0,:])\n",
    "            print(end_pt)\n",
    "            Landmarks(pts=[end_pt+soma_center]).write_landmarks(output_root+'end_pt')\n",
    "            pia_proj_pt_neuron,soma_depth  = pia.get_vector_intersection_pt(end_pt+soma_center,soma_center,extrapolation_len=0)\n",
    "            write_edge([soma_center,pia_proj_pt_neuron],output_neuron_axis+os.path.basename(file)[:-3]+'_soma_pia_pca_axis.am')\n",
    "        else:\n",
    "            # the pca is inverted, so straighten it\n",
    "            #print('opposite')\n",
    "            end_pt = Vectors().create_pt_along_vector_at_given_distance(-6000,[0,0,0],pca_components[0,:])\n",
    "            pia_proj_pt_neuron,soma_depth = pia.get_vector_intersection_pt(end_pt+soma_center,soma_center,extrapolation_len=0)\n",
    "            write_edge([soma_center,pia_proj_pt_neuron],output_neuron_axis+os.path.basename(file)[:-3]+'_soma_pia_pca_axis.am')\n",
    "        \n",
    "        wm_proj_pt_neuron = get_wm_intersection_pt(wm,soma_center,pia_proj_pt_neuron)\n",
    "        if len (wm_proj_pt_neuron) > 0:\n",
    "            write_edge([soma_center,wm_proj_pt_neuron],output_neuron_axis+os.path.basename(file)[:-3]+'_soma_wm_pca_axis.am')\n",
    "        else:\n",
    "            print('no wm intersection found using pca for {}'.format(os.path.basename(file)))\n",
    "            \n",
    "    # select the neron axis based on whether the depth of the neuron somata\n",
    "    # for upper layer cells use avg axis, as they generally dont have enough apical dend\n",
    "    # otherwise use dend pca based axis\n",
    "    if soma_depth_using_local_avg < 500 or len(sg.neuron.dendrite.apical_dendrite.edge_pt_coords) == 0\\\n",
    "        or os.path.basename(file)[:-3] == 'RA20160401_Cell_B_DONE':\n",
    "        # this is a inverted cell... so do not invert the axis.. lets use the avg axis for this one:\n",
    "        write_edge([soma_center,pia_proj_pt_neuron_using_local_avg_axis],output_neuron_axis+os.path.basename(file)[:-3]+'_soma_pia_axis.am')\n",
    "        if len(wm_proj_pt_neuron_using_local_avg_axis) > 0:\n",
    "            write_edge([soma_center,wm_proj_pt_neuron_using_local_avg_axis],output_neuron_axis+os.path.basename(file)[:-3]+'_soma_wm_axis.am')\n",
    "    else:\n",
    "        write_edge([soma_center,pia_proj_pt_neuron],output_neuron_axis+os.path.basename(file)[:-3]+'_soma_pia_axis.am')\n",
    "        if len(wm_proj_pt_neuron) > 0:\n",
    "            write_edge([soma_center,wm_proj_pt_neuron],output_neuron_axis+os.path.basename(file)[:-3]+'_soma_wm_axis.am')"
   ]
  },
  {
   "cell_type": "code",
   "execution_count": null,
   "metadata": {
    "collapsed": true
   },
   "outputs": [],
   "source": []
  },
  {
   "cell_type": "code",
   "execution_count": null,
   "metadata": {
    "ExecuteTime": {
     "end_time": "2020-03-25T09:37:10.136597Z",
     "start_time": "2020-03-25T09:35:19.754151Z"
    },
    "collapsed": true,
    "scrolled": true
   },
   "outputs": [],
   "source": [
    "cols = ['Exp_Name','Pia_Area','WM_Area','Volume','Cortical_Thickness_Mean','Cortical_Thickness_Std','Cortical_Thickness_CoV',\\\n",
    "        'Apical_Dendrite_Present','WM_Present_Below_Neuron','Neuron_Depth_from_Pia','Neuron_Height_from_WM','Neuron_Axis_Length',\\\n",
    "        'Nearest_Axis_Depth_from_Pia','Nearest_Axis_Height_from_WM','Nearest_Axis_Length',\\\n",
    "        'Angle_to_Nearest_Axis','Neuron_Sticking_OutOf_Pia',]\n",
    "df_main = pd.DataFrame(columns=cols)\n",
    "start = 0\n",
    "end= 10\n",
    "for i in range(len(sorted(glob.glob(output_surfaces+'*_pia_bottom_open.vtk')))):\n",
    "    if i < start or i >= end:\n",
    "        continue\n",
    "    df = pd.DataFrame(columns=df_main.columns)\n",
    "    pia_file = sorted(glob.glob(output_surfaces+'*_pia_bottom_open.vtk'))[i]\n",
    "    exp_name = os.path.basename(pia_file)[0:-20]\n",
    "#     if exp_name != 'RA20130626_2':\n",
    "#         continue\n",
    "    print(exp_name)\n",
    "    sg = AmiraSpatialGraph(output_surfaces+exp_name+'_barrels.am')\n",
    "    pia_closed = Surface(output_surfaces+exp_name+'_pia.vtk')\n",
    "    wm_closed = Surface(output_surfaces+exp_name+'_WM.vtk')\n",
    "    pia = Surface(output_surfaces+os.path.basename(pia_file)[0:-20]+'_pia_bottom_open.vtk')\n",
    "    wm = Surface(output_surfaces+os.path.basename(pia_file)[0:-20]+'_WM_bottom_open.vtk')\n",
    "    \n",
    "    axis_field = wm.create_axis_field(pia,op_sg_name=output_surfaces+exp_name+'_axis_field.am',flip_normals=False,return_axes=True)\n",
    "    \n",
    "    df['Exp_Name'] = [exp_name]\n",
    "    df['Pia_Area'] = [pia.get_surface_properties(prop='area')]\n",
    "    df['WM_Area'] = [wm.get_surface_properties(prop='area')]\n",
    "    df['Volume'] = [pia_closed.get_surface_properties(prop='volume')]\n",
    "    vec_lens = []\n",
    "    for edge in axis_field:\n",
    "        vec_lens.append(Vectors().get_vec_length(edge))\n",
    "    df['Cortical_Thickness_Mean'] = [np.array(vec_lens).mean(axis=0)]\n",
    "    df['Cortical_Thickness_Std'] = [np.array(vec_lens).std(axis=0)]\n",
    "    df['Cortical_Thickness_CoV'] = [100*np.array(vec_lens).std(axis=0)/np.array(vec_lens).mean(axis=0)]\n",
    "    \n",
    "    # find neuron axis, nearest axis and angle between them\n",
    "    soma_center = np.array(sg.neuron.soma.edge_pt_coords).mean(axis=0)\n",
    "    apical_dend_center = np.array(sg.neuron.dendrite.apical_dendrite.edge_pt_coords).mean(axis=0)\n",
    "    if len(sg.neuron.dendrite.apical_dendrite.edge_pt_coords) == 0:\n",
    "        df['Apical_Dendrite_Present'] = ['False']\n",
    "        df_main = df_main.append(df)\n",
    "        continue\n",
    "    #Landmarks(pts=[soma_center,apical_dend_center]).write_landmarks(output_surfaces+'a')\n",
    "    pia_proj_pt_neuron,soma_depth = pia.get_vector_intersection_pt(soma_center,apical_dend_center,extrapolation_len=10000)\n",
    "    wm_proj_pt_neuron,soma_height = wm.get_vector_intersection_pt(soma_center,apical_dend_center,extrapolation_len=-10000)\n",
    "    print(wm_proj_pt_neuron,pia_proj_pt_neuron)\n",
    "    if len(wm_proj_pt_neuron) == 0 or len(pia_proj_pt_neuron)==0:\n",
    "        df['WM_Present_Below_Neuron'] = ['False']\n",
    "        df_main = df_main.append(df)\n",
    "        continue\n",
    "    write_edge([wm_proj_pt_neuron,pia_proj_pt_neuron],output_surfaces+exp_name+'_neuron_axis.am')\n",
    "    \n",
    "    nearest_axis,min_dist, min_dist_from_wm, min_dist_from_pia, pt_on_vector = Vectors().\\\n",
    "                        get_nearest_axis_to_pt(soma_center,axis_field)\n",
    "    write_edge(nearest_axis,output_surfaces+exp_name+'_nearest_axis.am')\n",
    "    \n",
    "    angle = Vectors().get_angle_between_vectors([wm_proj_pt_neuron,pia_proj_pt_neuron],nearest_axis)\n",
    "    \n",
    "    df['Apical_Dendrite_Present'] = ['True']\n",
    "    df['WM_Present_Below_Neuron'] = ['True']\n",
    "    df['Neuron_Depth_from_Pia'] = [soma_depth]\n",
    "    df['Neuron_Height_from_WM'] = [soma_height]\n",
    "    df['Neuron_Axis_Length'] = [soma_depth+soma_height]\n",
    "    df['Nearest_Axis_Depth_from_Pia'] = [min_dist_from_pia]\n",
    "    df['Nearest_Axis_Height_from_WM'] = [min_dist_from_wm]\n",
    "    df['Nearest_Axis_Length'] = [min_dist_from_pia+min_dist_from_wm]\n",
    "    df['Angle_to_Nearest_Axis'] = [angle]\n",
    "    is_sticking_out = pia.is_neuron_sticking_out(sg)\n",
    "    df['Neuron_Sticking_OutOf_Pia'] = [is_sticking_out]\n",
    "    if not (is_sticking_out):\n",
    "        # write this valid exp for registration\n",
    "        sg.write_spatial_graph(output_valid+exp_name+'.am')\n",
    "    df_main = df_main.append(df)\n",
    "\n",
    "df_main.to_csv(output_root+'1.Input_Neuron_Stats_{}.csv'.format(end))"
   ]
  },
  {
   "cell_type": "code",
   "execution_count": null,
   "metadata": {
    "ExecuteTime": {
     "end_time": "2020-03-25T09:54:56.297178Z",
     "start_time": "2020-03-25T09:54:56.225265Z"
    },
    "collapsed": true
   },
   "outputs": [],
   "source": [
    "df_main = pd.DataFrame(columns=cols)\n",
    "for csv in sorted(glob.glob(output_root+'/*.csv')):\n",
    "    df = pd.read_csv(csv,)\n",
    "    df_main = df_main.append(df,)"
   ]
  },
  {
   "cell_type": "code",
   "execution_count": null,
   "metadata": {
    "ExecuteTime": {
     "end_time": "2020-03-25T09:55:02.737196Z",
     "start_time": "2020-03-25T09:55:02.637455Z"
    },
    "collapsed": true,
    "scrolled": true
   },
   "outputs": [],
   "source": [
    "df_main"
   ]
  },
  {
   "cell_type": "code",
   "execution_count": null,
   "metadata": {
    "ExecuteTime": {
     "end_time": "2020-03-25T09:48:11.749199Z",
     "start_time": "2020-03-25T09:48:11.738829Z"
    },
    "collapsed": true
   },
   "outputs": [],
   "source": [
    "df_main.to_csv(output_root+'1.Neuron_Stats.csv')"
   ]
  },
  {
   "cell_type": "markdown",
   "metadata": {},
   "source": [
    "# Register Using Surfaces"
   ]
  },
  {
   "cell_type": "code",
   "execution_count": 4,
   "metadata": {
    "ExecuteTime": {
     "end_time": "2020-08-21T10:15:36.936288Z",
     "start_time": "2020-08-21T10:15:36.929269Z"
    },
    "collapsed": true
   },
   "outputs": [],
   "source": [
    "# "
   ]
  },
  {
   "cell_type": "code",
   "execution_count": 5,
   "metadata": {
    "ExecuteTime": {
     "end_time": "2020-08-21T11:24:13.028184Z",
     "start_time": "2020-08-21T10:15:37.395658Z"
    }
   },
   "outputs": [
    {
     "name": "stdout",
     "output_type": "stream",
     "text": [
      "0 RA20130319_2_DONE.am\n",
      "1 RA20130320_corrected_DONE.am\n",
      "2 RA20130402_corrected_2_wm_countours_corrected_shifted_and_merged_DONE.am\n",
      "3 RA20130404_1_DONE.am\n",
      "4 RA20130404_2_corrected_DONE.am\n",
      "5 RA20130507_1_corrected_shifted_and_merged_DONE_feature_corrected.am\n",
      "6 RA20130507_2_corrected_DONE.am\n",
      "7 RA20130508_1_corrected_shifted_and_merged_DONE.am\n",
      "8 RA20130513_corrected-extended_2corrected_shifted_and_merged_DONE.am\n",
      "9 RA20130603_DONE.am\n",
      "10 RA20130605_1_DONE.am\n",
      "11 RA20130606_DONE.am\n",
      "12 RA20130607_1_DONE_feature_corrected_corrected.am\n",
      "13 RA20130607_2_DONE.am\n",
      "14 RA20130626_1_corrected_shifted_and_merged_DONE_feature_corrected.am\n",
      "15 RA20130626_2_DONE.am\n",
      "16 RA20130627_Cell_2_DONE.am\n",
      "17 RA20130627_Cell_3_DONE.am\n",
      "18 RA20130627_DONE.am\n",
      "19 RA20130628_2_Cell_1_corrected_shifted_and_merged_DONE.am\n",
      "20 RA20130628_2_Cell_2_corrected_shifted_and_merged_DONE.am\n",
      "21 RA20130628_2_Cell_3_corrected_shifted_and_merged_DONE_feature_corrected_corrected.am\n",
      "22 RA20130628_shifted_and_merged_DONE.am\n",
      "23 RA20130701_2_DONE.am\n",
      "24 RA20130722_2_corrected_shifted_and_merged_DONE.am\n",
      "25 RA20130725_DONE.am\n",
      "26 RA20150804_2_4x-_for_cell_merge_.am_Segmented_corrected_DONE.am\n",
      "27 RA20150805_1_Cell_A_DONE.am\n",
      "28 RA20150805_1_Cell_B_DONE.am\n",
      "29 RA20150806_DONE.am\n",
      "30 RA20150807_1_DONE.am\n",
      "31 RA20150807_2_Cell_A_corrected_shifted_and_merged_DONE.am\n",
      "32 RA20150807_2_Cell_B_corrected_shifted_and_merged_DONE.am\n",
      "33 RA20150810_Cell_A_corrected_shifted_and_merged_DONE.am\n",
      "34 RA20150810_Cell_B_corrected_shifted_and_merged_DONE.am\n",
      "35 RA20150811_4x_.am_corrected_Segmented_DONE.am\n",
      "36 RA20150813_1_Final_Contour_Cell_Merged.am_corrected_Segmented_DONE.am\n",
      "37 RA20150813_2_4x_Contours_forMerge_CELL_A_.am_corrected_Segmented_DONE.am\n",
      "38 RA20150813_2_4x_Contours_forMerge_CELL_B_.am_corrected_Segmented_shifted_and_merged_DONE.am\n",
      "39 RA20160302_Cell_A_DONE.am\n",
      "40 RA20160302_Cell_B_DONE.am\n",
      "41 RA20160307_4x_for_merge_.am_corrected.Segmented_DONE.am\n",
      "42 RA20160308_Cell_A_new.am_Segmented_corrected_DONE.am\n",
      "43 RA20160308_Cell_B---Copy_new.am_Segmented_corrected_shifted_and_merged_DONE.am\n",
      "44 RA20160310_Cell_A_corrected_shifted_and_merged_DONE.am\n",
      "45 RA20160314_Celll_A_corrected_shifted_and_merged_DONE.am\n",
      "46 RA20160322_corrected_shifted_and_merged_DONE.am\n",
      "47 RA20160323_Cell_A_DONE.am\n",
      "48 RA20160323_Cell_B_DONE.am\n",
      "49 RA20160323_Cell_C_DONE.am\n",
      "50 RA20160323_Cell_D_DONE.am\n",
      "51 RA20160324_Cell_A_corrected_shifted_and_merged_DONE.am\n",
      "52 RA20160329_Cell_A_corrected_shifted_and_merged_DONE.am\n",
      "53 RA20160330_Cell_A_corrected_shifted_and_merged_DONE.am\n",
      "54 RA20160330_Cell_B_corrected_shifted_and_merge_DONE.am\n",
      "55 RA20160331_Cell_A_DONE.am\n",
      "56 RA20160331_Cell_B_DONE.am\n",
      "57 RA20160401_Cell_A_DONE.am\n",
      "58 RA20160401_Cell_B_DONE.am\n",
      "59 RA20160404_Cell_A_corrected_shifted_and_merged_DONE.am\n",
      "60 RA20160404_Cell_B_DONE.am\n",
      "61 RA20171211.am_Segmented_corrected_DONE.am\n",
      "62 RA20171212_1_Cell_B.am_Segmented_corrected_DONE.am\n",
      "63 RA20171212_1_Cell_C.am_Segmented_corrected_DONE.am\n",
      "64 RA20171212_1_Cell_F.am_Segmented_corrected_DONE.am\n",
      "65 RA20171212_2_Cell_A.am_Segmented_corrected_DONE.am\n",
      "66 RA20171212_2_Cell_B.am_Segmented_corrected_DONE.am\n",
      "67 RA20171214_1_Cell_A.am_Segmented_corrected_shifted_corrected_and_merged_DONE.am\n",
      "68 RA20171214_1_Cell_B.am_Segmented_corrected_DONE.am\n",
      "69 RA20171214_1_Cell_C.am_Segmented_corrected_DONE.am\n",
      "70 RA20171215_1_.am_Segmented_corrected_DONE.am\n",
      "71 RA20180108_1.am_Segmented_corrected_shifted_and_merged_DONE.am\n",
      "72 RA20180108_2.am_Segmented_corrected_shifted_and_merged_DONE.am\n",
      "73 RA20180109_1_Cell_A_done.am_Segmented_corrected_shifted_and_merged_DONE.am\n",
      "74 RA20180109_1_Cell_B.am_Segmented_corrected_shifted_and_Merged_DONE.am\n",
      "75 RA20180109_1_Cell_C_done.am_Segmented_corrected_DONE.am\n",
      "76 RA20180109_2_Cluster_A_Cell_A_done.am_Segmented_corrected_DONE.am\n",
      "77 RA20180109_2_Cluster_A_Cell_B_done.am_Segmented_corrected_shifted_and_merged_DONE.am\n",
      "78 RA20180109_2_Cluster_A_Cell_C_done.am_Segmented_corrected_DONE.am\n",
      "79 RA20180109_2_Cluster_B_Cell_A_done.am_Segmented_corrected_DONE.am\n",
      "80 RA20180109_2_Cluster_B_Cell_B_done.am_Segmented_corrected_DONE.am\n",
      "81 RA20180109_2_Cluster_B_Cell_C_done.am_Segmented_corrected_DONE.am\n",
      "82 RA20180109_2_Cluster_B_Cell_D_done.am_Segmented_corrected_DONE.am\n",
      "83 RA20180109_2_Cluster_B_Cell_E_done.am_Segmented_corrected_DONE.am\n",
      "84 RA20180411_final_Contours_merged.am_Segmented_corrected_shifted_and_merged_DONE.am\n",
      "85 RA20180412_2_Cell_A.am_Segmented_corrected_DONE.am\n",
      "86 RA20180412_2_Cell_B.am_Segmented_corrected_DONE.am\n",
      "87 RA20180412_2_Cell_C.am_Segmented_corrected_DONE.am\n",
      "88 RA20180412_2_Cell_D.am_Segmented_segmented_DONE.am\n",
      "89 RA20180412_2_Cell_E.am_Segmented_corrected_shifted_and_merged_DONE.am\n"
     ]
    }
   ],
   "source": [
    "i = 0\n",
    "for file in sorted(glob.glob(input_path_spatial_graphs+'*.am')):\n",
    "    print(i, os.path.basename(file))\n",
    "    i = i + 1\n",
    "    pia = Surface(output_surfaces+os.path.basename(file)[:-3]+'_pia_bottom_open.vtk')\n",
    "    wm = Surface(output_surfaces+os.path.basename(file)[:-3]+'_WM_bottom_open.vtk')\n",
    "    \n",
    "    pia_wm = pia\n",
    "    pia_wm.append(wm.surface)\n",
    "\n",
    "    aligner = Alignment(ref_pia_wm.surface,pia_wm.surface)\n",
    "    txmat = aligner.get_transformation_matrix()\n",
    "    icp = aligner.get_icp_transform()\n",
    "    \n",
    "    aligner = Alignment()\n",
    "    \n",
    "    Alignment().transform_folders(output_root,output_alignment_using_surfaces,os.path.basename(file)[:-3],\\\n",
    "                            icp=icp,txmat = txmat,)"
   ]
  },
  {
   "cell_type": "markdown",
   "metadata": {},
   "source": [
    "# Register Using Barrels"
   ]
  },
  {
   "cell_type": "code",
   "execution_count": null,
   "metadata": {
    "ExecuteTime": {
     "end_time": "2020-08-20T18:34:31.892278Z",
     "start_time": "2020-08-20T18:32:09.362919Z"
    }
   },
   "outputs": [],
   "source": [
    "for file in sorted(glob.glob(input_path_spatial_graphs+'*.am')):\n",
    "    sg = AmiraSpatialGraph(file,barrel_projections_present=False)\n",
    "    \n",
    "    if len(sg.barrels.all_rows_graphdata.edge_list) > 0:\n",
    "        matching_barrels = MatchBarrels(ref_barrels.barrels,sg.barrels,use_barrels_alone=True)\n",
    "        ref_s1_pts,s1_pts = matching_barrels.get_matching_barrel_centroids()\n",
    "        landmarks = Landmarks(pts=s1_pts)\n",
    "        icp,txmat = landmarks.align_landmarks(ref_s1_pts)\n",
    "        aligner = Alignment()\n",
    "        #print(txmat)\n",
    "        #print(txmat)\n",
    "        Alignment().transform_folders(output_root,output_alignment_using_barrels,os.path.basename(file)[:-3],\\\n",
    "                                icp=icp,txmat = txmat,)\n"
   ]
  },
  {
   "cell_type": "code",
   "execution_count": null,
   "metadata": {
    "ExecuteTime": {
     "end_time": "2020-08-20T18:15:26.308277Z",
     "start_time": "2020-08-20T18:15:26.298017Z"
    }
   },
   "outputs": [],
   "source": [
    "os.path.basename(file)[:-3]"
   ]
  },
  {
   "cell_type": "code",
   "execution_count": null,
   "metadata": {
    "ExecuteTime": {
     "end_time": "2020-08-20T18:17:25.380262Z",
     "start_time": "2020-08-20T18:17:25.374123Z"
    }
   },
   "outputs": [],
   "source": [
    "os.path.basename('1_Axis_Fields').find('Align')"
   ]
  },
  {
   "cell_type": "code",
   "execution_count": null,
   "metadata": {
    "collapsed": true
   },
   "outputs": [],
   "source": []
  },
  {
   "cell_type": "code",
   "execution_count": null,
   "metadata": {
    "collapsed": true
   },
   "outputs": [],
   "source": []
  },
  {
   "cell_type": "code",
   "execution_count": null,
   "metadata": {
    "collapsed": true
   },
   "outputs": [],
   "source": []
  },
  {
   "cell_type": "code",
   "execution_count": null,
   "metadata": {
    "ExecuteTime": {
     "end_time": "2020-03-25T10:20:35.517207Z",
     "start_time": "2020-03-25T10:20:35.509560Z"
    },
    "collapsed": true
   },
   "outputs": [],
   "source": [
    "def get_number_of_axes_from_field(axis_field,number_of_axes_needed,neuron_axis=[]):\n",
    "    axis_filed_len = len(axis_field)\n",
    "    offset = int(axis_filed_len/number_of_axes_needed)\n",
    "    return_list = []\n",
    "    if len(neuron_axis) > 0:\n",
    "        if neuron_axis is not None:\n",
    "            for i in range(len(axis_field)):\n",
    "                return_list.append(axis_field[i])\n",
    "                i = i + offset\n",
    "                if len(return_list) == number_of_axes_needed:\n",
    "                    return return_list\n",
    "        \n",
    "    else:\n",
    "        \n",
    "        for i in range(len(axis_field)):\n",
    "            return_list.append(axis_field[i])\n",
    "            i = i + offset\n",
    "            if len(return_list) == number_of_axes_needed:\n",
    "                return return_list"
   ]
  },
  {
   "cell_type": "code",
   "execution_count": null,
   "metadata": {
    "ExecuteTime": {
     "end_time": "2020-03-25T10:41:35.017137Z",
     "start_time": "2020-03-25T10:41:34.690338Z"
    },
    "collapsed": true
   },
   "outputs": [],
   "source": [
    "ref_path = '/nas1/Data_Mythreya/MotorCortexProject/V8/vM1_Ref_Frame/Outputs_200/Average/Using_vS1_vM1_Surface_Points/'\n",
    "ref_barrels_sg_file = '/nas1/Data_Mythreya/MotorCortexProject/V8/vM1_Ref_Frame/Outputs_200/Alignment/Using_vS1_vM1_Surface_Points/Spatial_Graphs/MG49_lhs_sbf.am'   \n",
    "ref_barrels_sg = AmiraSpatialGraph(ref_barrels_sg_file,barrel_projections_present=True)\n",
    "ref_pia = Surface(ref_path + 'Avg_Pia.vtk')\n",
    "ref_wm = Surface(ref_path + 'Avg_WM.vtk')\n",
    "ref_axis_field = AmiraSpatialGraph(ref_path + 'Avg_vM1_Axis_Field.am',generic_graph=True)\n",
    "\n",
    "ref_surf = ref_pia\n",
    "ref_surf.append(ref_wm.surface)"
   ]
  },
  {
   "cell_type": "code",
   "execution_count": null,
   "metadata": {
    "ExecuteTime": {
     "end_time": "2020-03-25T11:05:53.185218Z",
     "start_time": "2020-03-25T10:55:17.271539Z"
    },
    "collapsed": true
   },
   "outputs": [],
   "source": [
    "# surface alignment \n",
    "for i in range(len(sorted(glob.glob(output_valid+'/*.am')))):\n",
    "    file = sorted(glob.glob(output_valid+'/*.am'))[i]\n",
    "    sg = AmiraSpatialGraph(file,barrel_projections_present=True)\n",
    "    pia =  Surface(output_surfaces+os.path.basename(file)[0:-3]+'_pia_bottom_open.vtk')\n",
    "    wm =  Surface(output_surfaces+os.path.basename(file)[0:-3]+'_WM_bottom_open.vtk') \n",
    "\n",
    "    surf = pia\n",
    "    surf.append(wm.surface)\n",
    "\n",
    "    aligner = Alignment(ref_surf.surface,surf.surface)\n",
    "    txmat = aligner.get_transformation_matrix()\n",
    "    icp = aligner.get_icp_transform()\n",
    "    \n",
    "    sg.apply_transformation(txmat)\n",
    "    sg.write_spatial_graph(output_alignment_using_surfaces+os.path.basename(file))\n",
    "    surf.apply_icp_transform(icp)\n",
    "    surf.write_surface_mesh(output_alignment_using_surfaces+os.path.basename(file)[0:-3]+'.vtk')\n",
    "    "
   ]
  },
  {
   "cell_type": "code",
   "execution_count": null,
   "metadata": {
    "ExecuteTime": {
     "end_time": "2020-03-25T11:37:03.433185Z",
     "start_time": "2020-03-25T11:36:27.586101Z"
    },
    "collapsed": true
   },
   "outputs": [],
   "source": [
    "all_neurons = AmiraSpatialGraph(generic_graph=True)\n",
    "for neuron_file in glob.glob(output_alignment_using_surfaces+'/*.am'):\n",
    "    sg_neuron = AmiraSpatialGraph(neuron_file)\n",
    "    all_neurons.graph_data = all_neurons.combine_subgraphs([all_neurons.graph_data,sg_neuron.neuron.all_neurites_subgraphdata])\n",
    "\n",
    "    \n",
    "all_neurons.write_spatial_graph(output_root+'All_Neurons_Registered_To_vM1.am')"
   ]
  },
  {
   "cell_type": "markdown",
   "metadata": {},
   "source": [
    "# with Scaling"
   ]
  },
  {
   "cell_type": "code",
   "execution_count": null,
   "metadata": {
    "ExecuteTime": {
     "end_time": "2020-03-25T11:49:49.257083Z",
     "start_time": "2020-03-25T11:49:49.250700Z"
    },
    "collapsed": true
   },
   "outputs": [],
   "source": [
    "df = pd.read_csv(output_root+'1.Neuron_Stats.csv')"
   ]
  },
  {
   "cell_type": "code",
   "execution_count": null,
   "metadata": {
    "ExecuteTime": {
     "end_time": "2020-03-25T11:50:46.801350Z",
     "start_time": "2020-03-25T11:50:46.792847Z"
    },
    "collapsed": true
   },
   "outputs": [],
   "source": [
    "df[df['WM_Present_Below_Neuron']==True]['Pia_Area'].mean()"
   ]
  },
  {
   "cell_type": "code",
   "execution_count": null,
   "metadata": {
    "ExecuteTime": {
     "end_time": "2020-03-25T11:50:57.768513Z",
     "start_time": "2020-03-25T11:50:57.758175Z"
    },
    "collapsed": true
   },
   "outputs": [],
   "source": [
    "ref_pia.get_surface_properties(prop='area')\n",
    "#ref_wm.get_surface_properties(prop='area')/ df['WM_Area'].mean()\n"
   ]
  },
  {
   "cell_type": "code",
   "execution_count": null,
   "metadata": {
    "ExecuteTime": {
     "end_time": "2020-03-25T11:18:58.345124Z",
     "start_time": "2020-03-25T11:18:58.338052Z"
    },
    "collapsed": true
   },
   "outputs": [],
   "source": [
    "df['Pia_Area'].mean()"
   ]
  },
  {
   "cell_type": "code",
   "execution_count": null,
   "metadata": {
    "collapsed": true
   },
   "outputs": [],
   "source": [
    "# surface alignment scaling\n",
    "# \n",
    "for i in range(len(sorted(glob.glob(output_valid+'/*.am')))):\n",
    "    file = sorted(glob.glob(output_valid+'/*.am'))[i]\n",
    "    sg = AmiraSpatialGraph(file,barrel_projections_present=True)\n",
    "    pia =  Surface(output_surfaces+os.path.basename(file)[0:-3]+'_pia_bottom_open.vtk')\n",
    "    wm =  Surface(output_surfaces+os.path.basename(file)[0:-3]+'_WM_bottom_open.vtk') \n",
    "\n",
    "    surf = pia\n",
    "    surf.append(wm.surface)\n",
    "\n",
    "    aligner = Alignment(ref_surf.surface,surf.surface,mode='similarity')\n",
    "    txmat = aligner.get_transformation_matrix()\n",
    "    icp = aligner.get_icp_transform()\n",
    "    \n",
    "    sg.apply_transformation(txmat)\n",
    "    sg.write_spatial_graph(output_alignment_using_surfaces_scaling+os.path.basename(file))\n",
    "    surf.apply_icp_transform(icp)\n",
    "    surf.write_surface_mesh(output_alignment_using_surfaces_scaling+os.path.basename(file)[0:-3]+'.vtk')"
   ]
  },
  {
   "cell_type": "code",
   "execution_count": null,
   "metadata": {
    "ExecuteTime": {
     "end_time": "2020-03-25T10:04:29.621399Z",
     "start_time": "2020-03-25T10:04:24.207821Z"
    },
    "collapsed": true
   },
   "outputs": [],
   "source": [
    "# read valid neuron graphs\n",
    "# align using barrels and axis around neuron\n",
    "for i in range(len(sorted(glob.glob(output_valid+'/*.am')))):\n",
    "    file = sorted(glob.glob(output_valid+'/*.am'))[i]\n",
    "    sg = AmiraSpatialGraph(file,barrel_projections_present=True)\n",
    "    pia =  Surface(output_surfaces+os.path.basename(file)[0:-3]+'_pia_bottom_open.vtk')\n",
    "    wm =  Surface(output_surfaces+os.path.basename(file)[0:-3]+'_WM_bottom_open.vtk') \n",
    "    axis_field = AmiraSpatialGraph(output_surfaces+os.path.basename(file)[0:-3]+'_axis_field.am',generic_graph=True)\n",
    "    nearest_axis = AmiraSpatialGraph(output_surfaces+os.path.basename(file)[0:-3]+'_nearest_axis.am',generic_graph=True)\n",
    "    matching_barrels = MatchBarrels(ref_barrels_sg.barrels,sg.barrels,use_projections_alone=True)\n",
    "    ref_s1_pts,s1_pts = matching_barrels.get_matching_barrel_centroids()\n",
    "\n",
    "    selected_ref_axes = get_number_of_axes_from_field(ref_axis_field.graph_data.edge_list,len(ref_s1_pts))\n",
    "    selected_axes = get_number_of_axes_from_field(axis_field.graph_data.edge_list,len(s1_pts))\n",
    "\n",
    "    ref_selected_sg = AmiraSpatialGraph(generic_graph=True)\n",
    "    selected_sg = AmiraSpatialGraph(generic_graph=True)\n",
    "\n",
    "    print(len(selected_ref_axes))\n",
    "    ref_pts = []\n",
    "    pts = []\n",
    "    for pt in ref_s1_pts:\n",
    "        ref_pts.append(pt)\n",
    "    for axis in selected_ref_axes:\n",
    "        ref_pts.append(axis[0])\n",
    "        ref_pts.append(axis[1])\n",
    "        ref_selected_sg.graph_data.add_edge(axis[0],axis[1])\n",
    "    for pt in s1_pts:\n",
    "        pts.append(pt)\n",
    "    for axis in selected_axes:\n",
    "        pts.append(axis[0])\n",
    "        pts.append(axis[1])\n",
    "        selected_sg.graph_data.add_edge(axis[0],axis[1])\n",
    "    print(len(ref_pts),len(pts))\n",
    "    ref_selected_sg.write_spatial_graph(output_path_alignment+alignment_type+'/'+ref_exp+'ref_axes.am')\n",
    "    selected_sg.write_spatial_graph(output_path_alignment+alignment_type+'/'+exp+'axes.am')\n",
    "\n",
    "    landmarks = Landmarks(pts=pts)\n",
    "    icp,txmat = landmarks.align_landmarks(ref_pts)\n",
    "    \n",
    "    sg.apply_transformation(txmat)\n",
    "    sg.write_spatial_graph(output_root+os.path.basename(file))\n",
    "    break"
   ]
  },
  {
   "cell_type": "code",
   "execution_count": null,
   "metadata": {
    "collapsed": true
   },
   "outputs": [],
   "source": []
  },
  {
   "cell_type": "code",
   "execution_count": null,
   "metadata": {
    "collapsed": true
   },
   "outputs": [],
   "source": []
  },
  {
   "cell_type": "code",
   "execution_count": null,
   "metadata": {
    "ExecuteTime": {
     "end_time": "2020-03-11T08:32:15.836158Z",
     "start_time": "2020-03-11T08:32:15.792754Z"
    },
    "collapsed": true
   },
   "outputs": [],
   "source": [
    "def vm1_local_alignment(sg,pia,ref_pia,number_of_pts=1,ref_pca = []):\n",
    "    # locally align vm1 surface with the reference vm1 surface\n",
    "    # by taking ref pts that intersect the respictive pia along an axis\n",
    "    # axis 1 : vector along the neuron (apical dendrite direction)\n",
    "    # axis 2 : pca 2 of ref vm1\n",
    "    ref_pts= []\n",
    "    pts = []\n",
    "    soma_center = np.array(sg.neuron.soma.edge_pt_coords).mean(axis=0)\n",
    "    if (len(sg.neuron.dendrite.apical_dendrite.edge_pt_coords)) > 0:                         \n",
    "        apical_dend_center = np.array(sg.neuron.dendrite.apical_dendrite.edge_pt_coords).mean(axis=0)\n",
    "    else: # in case there is only basal dend\n",
    "        apical_dend_center = np.array(sg.neuron.dendrite.basal_dendrite.edge_pt_coords).mean(axis=0)\n",
    "\n",
    "    pia_proj_pt_neuron,depth = pia.get_vector_intersection_pt(soma_center,apical_dend_center,extrapolation_len=10000)\n",
    "\n",
    "    ref_pia_proj_pt_neuron,ref_depth = ref_pia.get_vector_intersection_pt(soma_center,apical_dend_center,\\\n",
    "                                                                        extrapolation_len=10000)\n",
    "    #print(ref_pia_proj_pt_neuron,pia_proj_pt_neuron)\n",
    "    if len(ref_pia_proj_pt_neuron) == 0 or len(pia_proj_pt_neuron)==0:\n",
    "        return [],[]\n",
    "    ref_pts.append(ref_pia_proj_pt_neuron)\n",
    "    pts.append(pia_proj_pt_neuron)\n",
    "\n",
    "    if number_of_pts ==2:\n",
    "        pia_proj_pt_center,depth = pia.get_vector_intersection_pt(ref_pca.graph_data.edge_list[0][0],\\\n",
    "                                                           ref_pca.graph_data.edge_list[0][1],\\\n",
    "                                                           extrapolation_len=-10000)\n",
    "        ref_pia_proj_pt_center,ref_depth = ref_pia.get_vector_intersection_pt(ref_pca.graph_data.edge_list[0][0],\\\n",
    "                                                           ref_pca.graph_data.edge_list[0][1],\\\n",
    "                                                           extrapolation_len=-10000)\n",
    "\n",
    "        #print(ref_pia_proj_pt_center,pia_proj_pt_center)\n",
    "        if len(ref_pia_proj_pt_center) == 0 or len(pia_proj_pt_center)==0:\n",
    "            return [],[]\n",
    "        ref_pts.append(ref_pia_proj_pt_center)\n",
    "        pts.append(pia_proj_pt_center)\n",
    "\n",
    "    print(ref_pts,pts)\n",
    "    if len(ref_pts) != len(pts) or len(ref_pts)==0 or len(pts)==0:\n",
    "        return [],[]\n",
    "    landmarks = Landmarks(pts=pts)\n",
    "    icp,txmat = landmarks.align_landmarks(ref_pts)\n",
    "    \n",
    "    return icp,txmat"
   ]
  },
  {
   "cell_type": "code",
   "execution_count": null,
   "metadata": {
    "ExecuteTime": {
     "end_time": "2020-03-11T08:32:15.928066Z",
     "start_time": "2020-03-11T08:32:15.920556Z"
    },
    "collapsed": true
   },
   "outputs": [],
   "source": [
    "def get_soma_to_apical_center_distance(sg,):\n",
    "    soma_center = np.array(sg.neuron.soma.edge_pt_coords).mean(axis=0)\n",
    "    if (len(sg.neuron.dendrite.apical_dendrite.edge_pt_coords)) > 0:                         \n",
    "        apical_dend_center = np.array(sg.neuron.dendrite.apical_dendrite.edge_pt_coords).mean(axis=0)\n",
    "    else: # in case there is only basal dend\n",
    "        apical_dend_center = np.array(sg.neuron.dendrite.basal_dendrite.edge_pt_coords).mean(axis=0)\n",
    "    \n",
    "    return distance.euclidean(soma_center,apical_dend_center)"
   ]
  },
  {
   "cell_type": "code",
   "execution_count": null,
   "metadata": {
    "ExecuteTime": {
     "end_time": "2020-03-11T08:32:16.444093Z",
     "start_time": "2020-03-11T08:32:16.437863Z"
    },
    "collapsed": true
   },
   "outputs": [],
   "source": [
    "def get_soma_and_apical_centers(sg):\n",
    "    soma_center = np.array(sg.neuron.soma.edge_pt_coords).mean(axis=0)\n",
    "    if (len(sg.neuron.dendrite.apical_dendrite.edge_pt_coords)) > 0:                         \n",
    "        apical_dend_center = np.array(sg.neuron.dendrite.apical_dendrite.edge_pt_coords).mean(axis=0)\n",
    "    else: # in case there is only basal dend\n",
    "        apical_dend_center = np.array(sg.neuron.dendrite.basal_dendrite.edge_pt_coords).mean(axis=0)\n",
    "    return soma_center[0:3],apical_dend_center[0:3]"
   ]
  },
  {
   "cell_type": "code",
   "execution_count": null,
   "metadata": {
    "ExecuteTime": {
     "end_time": "2020-03-11T08:32:17.836095Z",
     "start_time": "2020-03-11T08:32:17.806092Z"
    },
    "collapsed": true
   },
   "outputs": [],
   "source": [
    "def get_ref_and_neuron_axes(sg,pia,wm,ref_pia,ref_wm,ref_pca = []):\n",
    "    # locally align vm1 surface with the reference vm1 surface\n",
    "    # by taking ref pts that intersect the respictive pia along an axis\n",
    "    # axis 1 : vector along the neuron (apical dendrite direction)\n",
    "    # axis 2 : pca 2 of ref vm1\n",
    "    ref_pts= []\n",
    "    pts = []\n",
    "    soma_center = np.array(sg.neuron.soma.edge_pt_coords).mean(axis=0)\n",
    "    if (len(sg.neuron.dendrite.apical_dendrite.edge_pt_coords)) > 0:                         \n",
    "        apical_dend_center = np.array(sg.neuron.dendrite.apical_dendrite.edge_pt_coords).mean(axis=0)\n",
    "    else: # in case there is only basal dend\n",
    "        apical_dend_center = np.array(sg.neuron.dendrite.basal_dendrite.edge_pt_coords).mean(axis=0)\n",
    "\n",
    "    pia_proj_pt,depth = ref_pia.get_vector_intersection_pt(soma_center,apical_dend_center,extrapolation_len=10000)\n",
    "\n",
    "    ref_pia_proj_pt,ref_depth = ref_pia.get_vector_intersection_pt(ref_pca.graph_data.edge_list[0][0],\\\n",
    "                                                       ref_pca.graph_data.edge_list[0][1],\\\n",
    "                                                       extrapolation_len=-10000)\n",
    "    #print(ref_pia_proj_pt_neuron,pia_proj_pt_neuron)\n",
    "    ref_pts.append(ref_pia_proj_pt)\n",
    "    pts.append(pia_proj_pt)\n",
    "\n",
    "    \n",
    "    wm_proj_pt,depth = ref_wm.get_vector_intersection_pt(soma_center,apical_dend_center,extrapolation_len=-10000)\n",
    "    wm_ref_proj_pt,ref_depth = ref_wm.get_vector_intersection_pt(ref_pca.graph_data.edge_list[0][0],\\\n",
    "                                                       ref_pca.graph_data.edge_list[0][1],\\\n",
    "                                                       extrapolation_len=10000)\n",
    "\n",
    "    #print(ref_pia_proj_pt_center,pia_proj_pt_center)\n",
    "    ref_pts.append(wm_ref_proj_pt)\n",
    "    pts.append(wm_proj_pt)\n",
    "\n",
    "    #landmarks = Landmarks(pts=pts)\n",
    "    #icp,txmat = landmarks.align_landmarks(ref_pts)\n",
    "    \n",
    "    return ref_pts,pts"
   ]
  },
  {
   "cell_type": "code",
   "execution_count": null,
   "metadata": {
    "ExecuteTime": {
     "end_time": "2020-03-11T08:32:19.984071Z",
     "start_time": "2020-03-11T08:32:19.965993Z"
    },
    "collapsed": true
   },
   "outputs": [],
   "source": [
    "def push_back_sticking_out_neuron(pia,sg,output_filename=None,step_size=10):\n",
    "    if (pia.is_neuron_sticking_out(sg)):\n",
    "        soma_center = np.array(sg.neuron.soma.edge_pt_coords).mean(axis=0)\n",
    "        #print('found intersection')\n",
    "        if len(sg.neuron.dendrite.apical_dendrite.edge_pt_coords) > 0:\n",
    "            apical_center = np.array(sg.neuron.dendrite.apical_dendrite.edge_pt_coords).mean(axis=0)\n",
    "        else:\n",
    "            apical_center = np.array(sg.neuron.dendrite.basal_dendrite.edge_pt_coords).mean(axis=0)\n",
    "        new_soma_center = pia.create_pt_along_vector_at_given_distance(-step_size,soma_center,apical_center)\n",
    "        translation = soma_center - new_soma_center\n",
    "        txmat = [1,0,0,0, 0,1,0,0, 0,0,1,0, -translation[0],-translation[1],-translation[2],1]\n",
    "        sg.apply_transformation_to_labelled_subgraph(sg.neuron.all_neurites_subgraphdata,np.reshape(txmat,[4,4]))\n",
    "        sg.update_graph_data()\n",
    "    if output_filename is not None:\n",
    "        sg.write_spatial_graph(output_filename)\n",
    "    return sg"
   ]
  },
  {
   "cell_type": "code",
   "execution_count": null,
   "metadata": {
    "ExecuteTime": {
     "end_time": "2020-03-11T08:32:21.848691Z",
     "start_time": "2020-03-11T08:32:21.542791Z"
    },
    "collapsed": true
   },
   "outputs": [],
   "source": [
    "# Get reference surface \n",
    "alignment_type = 'Using_vS1_vM1_Surface_Points'\n",
    "ref_pia = Surface(filename = input_path_avg_rf+alignment_type+'/Avg_Pia.vtk')\n",
    "ref_wm = Surface(filename = input_path_avg_rf+alignment_type+'/Avg_WM.vtk')\n",
    "ref_pia_wm = Surface(filename = input_path_avg_rf+alignment_type+'/Avg_Pia.vtk')\n",
    "#ref_pia_wm.append(ref_wm.surface)\n",
    "\n",
    "ref_vM1 = Surface(filename = input_path_avg_rf+alignment_type+'/Avg_vM1.vtk')\n",
    "ref_vM1_pia = Surface(filename = input_path_avg_rf+alignment_type+'/Avg_vM1_Pia.vtk')\n",
    "ref_vM1_wm = Surface(filename = input_path_avg_rf+alignment_type+'/Avg_vM1_WM.vtk')\n",
    "ref_vM1_pia_wm = Surface(filename = input_path_avg_rf+'/'+alignment_type+'/'+'Avg_vM1_Pia.vtk')\n",
    "ref_vM1_pia_wm.append(ref_vM1_wm.surface)\n",
    "\n",
    "ref_barrels_sg = AmiraSpatialGraph(input_path_avg_rf+alignment_type+'/sbf_without_projections.am',\\\n",
    "                                   barrel_projections_present=False)\n",
    "\n",
    "ref_pca_0 = AmiraSpatialGraph(input_path_avg_rf+alignment_type+'/Avg_vM1_Pca_0',generic_graph=True)\n",
    "ref_pca_1 = AmiraSpatialGraph(input_path_avg_rf+alignment_type+'/Avg_vM1_Pca_1',generic_graph=True)\n",
    "ref_pca_2 = AmiraSpatialGraph(input_path_avg_rf+alignment_type+'/Avg_vM1_Pca_2',generic_graph=True)"
   ]
  },
  {
   "cell_type": "code",
   "execution_count": null,
   "metadata": {
    "ExecuteTime": {
     "end_time": "2020-03-11T12:34:08.804242Z",
     "start_time": "2020-03-11T12:34:08.349498Z"
    },
    "collapsed": true
   },
   "outputs": [],
   "source": [
    "#@delayed\n",
    "def register_neurons(sg_filename,alignment_type,check_neuron_sticking_out=False):\n",
    "    \n",
    "\n",
    "    # make surface\n",
    "    pia = Surface(filename = output_surfaces+sg_filename+'_pia_bottom_open.vtk')\n",
    "    wm = Surface(filename = output_surfaces+sg_filename+'_WM_bottom_open.vtk')\n",
    "    pia_wm = Surface(polydata = pia.surface)\n",
    "    #pia_wm.append(wm.surface)\n",
    "    \n",
    "    sg = AmiraSpatialGraph(filename=output_corrected_spatial_graphs+sg_filename+'.am',\\\n",
    "                           barrel_projections_present=False)\n",
    "    \n",
    "    ################ Step 0###################################\n",
    "    # check if neuron is sticking put of pia, if so push it back\n",
    "    ##########################################################\n",
    "    if check_neuron_sticking_out:\n",
    "        sg = push_back_sticking_out_neuron(pia,sg,output_registered_sticking_out_check+sg_filename+'.am',step_size=50)\n",
    "    else:\n",
    "        shutil.copyfile(output_corrected_spatial_graphs+sg_filename+'.am',\\\n",
    "                    output_registered_sticking_out_check+sg_filename+'.am')\n",
    "    shutil.copyfile(output_surfaces+sg_filename+'_pia_bottom_open.vtk',\\\n",
    "                    output_registered_sticking_out_check+sg_filename+'_pia.vtk')\n",
    "    shutil.copyfile(output_surfaces+sg_filename+'_WM_bottom_open.vtk',\\\n",
    "                    output_registered_sticking_out_check+sg_filename+'_WM.vtk')\n",
    "    \n",
    "    \n",
    "    ################ Step 1###################################\n",
    "    # Align barrels\n",
    "    ##########################################################\n",
    "    matching_barrels = MatchBarrels(ref_barrels_sg.barrels,sg.barrels,use_barrels_alone=True)\n",
    "    ref_s1_pts,s1_pts = matching_barrels.get_matching_barrel_centroids()\n",
    "    landmarks = Landmarks(pts=s1_pts)\n",
    "    icp,txmat = landmarks.align_landmarks(ref_s1_pts)\n",
    "    aligner = Alignment()\n",
    "    #print(txmat)\n",
    "    sg,sg_neuron,pia,wm,vM1_pia,vM1_wm = Alignment().transform_files(output_registered_sticking_out_check,output_registered_barrels,\\\n",
    "                                                  sg_filename,\\\n",
    "                            icp=icp,txmat = txmat,\\\n",
    "                            txfilename = output_registered_barrels+sg_filename+'_1_Barrel_Transformation_Matrix.txt')\n",
    "    \n",
    "    ################ Step 2###################################\n",
    "    # Find global transformation using alignemnt method of choice\n",
    "    ##########################################################\n",
    "#     txmat = []\n",
    "#     icp = vtk.vtkIterativeClosestPointTransform()\n",
    "\n",
    "#     # align by entire pia wm surfaces\n",
    "#     pia_wm = pia\n",
    "#     pia.append(wm.surface)\n",
    "#     aligner = Alignment(ref_pia_wm.surface,pia_wm.surface)\n",
    "#     txmat = aligner.get_transformation_matrix()\n",
    "#     icp = aligner.get_icp_transform()\n",
    "\n",
    "#     sg,sg_neuron,pia,wm,vM1_pia,vM1_wm = Alignment().transform_files(output_registered_barrels,output_registered_global,sg_filename,\\\n",
    "#                             icp=icp,txmat = txmat,\\\n",
    "#                             txfilename = output_registered_global+sg_filename+'_2_Global_Transformation_Matrix.txt')\n",
    "\n",
    "     \n",
    "    ################ Step 2.5 ###################################\n",
    "    # Clip to vM1 \n",
    "    ##########################################################\n",
    "    pia = Surface(output_registered_barrels+sg_filename+'_pia.vtk')\n",
    "    wm = Surface(output_registered_barrels+sg_filename+'_WM.vtk')\n",
    "    sg = AmiraSpatialGraph(output_registered_barrels+sg_filename+'.am')\n",
    "    pcas,vm1_final,vM1_hull,vm1_pia,vm1_wm = Surface().get_vm1(pia.surface,wm.surface,\\\n",
    "                                            given_pcas=[ref_pca_0.graph_data.edge_list[0],\\\n",
    "                                                        ref_pca_1.graph_data.edge_list[0],\\\n",
    "                                                        ref_pca_2.graph_data.edge_list[0]],pts=[])\n",
    "\n",
    "\n",
    "    Surface(polydata=vm1_pia).write_surface_mesh(output_registered_clipped_vm1+sg_filename+'_vM1_pia.vtk')\n",
    "    Surface(polydata=vm1_wm).write_surface_mesh(output_registered_clipped_vm1+sg_filename+'_vM1_WM.vtk')\n",
    "    sg.write_spatial_graph(output_registered_clipped_vm1+sg_filename+'.am')\n",
    "    shutil.copyfile(output_registered_barrels+sg_filename+'_pia.vtk',output_registered_clipped_vm1+sg_filename+'_pia.vtk')\n",
    "    shutil.copyfile(output_registered_barrels+sg_filename+'_WM.vtk',output_registered_clipped_vm1+sg_filename+'_WM.vtk')\n",
    "     \n",
    "    ################ Step 3 ###################################\n",
    "    # Align to vM1\n",
    "    ##########################################################\n",
    "    vm1_pia = Surface(output_registered_clipped_vm1+sg_filename+'_vM1_pia.vtk')\n",
    "    vm1_wm = Surface(output_registered_clipped_vm1+sg_filename+'_vM1_WM.vtk')\n",
    "    vm1_pia_wm = vm1_pia\n",
    "    vm1_pia_wm.append(vm1_wm.surface)\n",
    "\n",
    "    aligner = Alignment(ref_vM1_pia_wm.surface,vm1_pia_wm.surface)\n",
    "    txmat = aligner.get_transformation_matrix()\n",
    "    icp = aligner.get_icp_transform()\n",
    "    \n",
    "    sg,sg_neuron,pia,wm,vM1_pia,vM1_wm = Alignment().transform_files(output_registered_clipped_vm1,output_registered_local,sg_filename,\\\n",
    "                            icp=icp,txmat = txmat,\\\n",
    "                            txfilename = output_registered_local+sg_filename+'_3_Global_Transformation_Matrix.txt')\n",
    "    \n",
    "    \n",
    "    ################ Step 4 ###################################\n",
    "    # fine tune to vM1 around neuron\n",
    "    ##########################################################\n",
    "    \n",
    "    icp,txmat = vm1_local_alignment(sg,pia,ref_pia,number_of_pts=2,ref_pca=ref_pca_2)\n",
    "    \n",
    "    if len(txmat)==0:\n",
    "        print('{} exp has problems'.format(sg_filename))\n",
    "        return\n",
    "    sg,sg_neuron,pia,wm,vM1_pia,vM1_wm = Alignment().transform_files(output_registered_local,output_registered_fine_tune_1,\\\n",
    "                                                                 sg_filename,icp=icp,txmat = txmat,\\\n",
    "                                                                 txfilename = output_registered_fine_tune_1\\\n",
    "                                                                 +sg_filename+'_3_1_Global_Transformation_Matrix.txt')\n",
    "\n",
    "    #print(sg.neuron.dendrite.apical_dendrite.edge_list)\n",
    "    icp,txmat = vm1_local_alignment(sg,pia,ref_pia,number_of_pts=1)\n",
    "    if len(txmat)==0:\n",
    "        print('{} exp has problems'.format(sg_filename))\n",
    "        return\n",
    "    sg,sg_neuron,pia,wm,vM1_pia,vM1_wm = Alignment().transform_files(output_registered_fine_tune_1,output_registered_fine_tune_2,\\\n",
    "                                                                 sg_filename,icp=icp,txmat = txmat,\\\n",
    "                                                                 txfilename = output_registered_fine_tune_2+\\\n",
    "                                                                 sg_filename+'_3_2_Global_Transformation_Matrix.txt')\n",
    "    \n",
    "     \n",
    "    ################ Step 5 ###################################\n",
    "    # Move to Center of vM1\n",
    "    ##########################################################\n",
    "    # Ref Axis: central axis of ref vm1\n",
    "    # axis : apical vector - till intersects pia and wm\n",
    "    ref_axis,neuron_axis = get_ref_and_neuron_axes(sg,pia,wm,ref_pia,ref_wm,ref_pca=ref_pca_2)\n",
    "    if len(ref_axis)==0 or len(neuron_axis)==0:\n",
    "        return\n",
    "    aligner = Alignment(Surface(pts=ref_axis).surface,Surface(pts=neuron_axis).surface,mode='similarity')\n",
    "    txmat = aligner.get_transformation_matrix()\n",
    "    icp = aligner.get_icp_transform()\n",
    "    sg_neuron.apply_transformation(txmat)\n",
    "    sg_neuron.write_spatial_graph(output_registered_centered+sg_filename+'_reg_neuron.am')\n",
    "    \n",
    "    # Now unscale the neuron\n",
    "    height = get_soma_to_apical_center_distance(sg)\n",
    "    #print(height)\n",
    "    soma_center,apical_center = get_soma_and_apical_centers(sg_neuron)\n",
    "    if len(soma_center)==0 or len(apical_center)==0:\n",
    "        return\n",
    "    apical_target = Vectors().create_pt_along_vector_at_given_distance(height,soma_center,apical_center)\n",
    "    #print(apical_target)\n",
    "    soma_center_unscaled,apical_center_unscaled = get_soma_and_apical_centers(sg)\n",
    "    if len(soma_center_unscaled)==0 or len(apical_center_unscaled)==0:\n",
    "        return\n",
    "    landmarks = Landmarks(pts=[soma_center_unscaled,apical_center_unscaled])\n",
    "    icp,txmat = landmarks.align_landmarks([soma_center,apical_target])\n",
    "    sg_neuron = AmiraSpatialGraph(output_registered_fine_tune_2+sg_filename+'_reg_neuron.am')\n",
    "    sg_neuron.apply_transformation(txmat)\n",
    "    sg_neuron.write_spatial_graph(output_registered_centered_unscaled+sg_filename+'_reg_neuron.am')\n",
    "    \n",
    "    ################ Step 6 ###################################\n",
    "    # Transform to Local vM1 ref frame\n",
    "    ##########################################################\n",
    "    \n",
    "    return  "
   ]
  },
  {
   "cell_type": "code",
   "execution_count": null,
   "metadata": {
    "ExecuteTime": {
     "end_time": "2020-03-11T12:37:02.224512Z",
     "start_time": "2020-03-11T12:34:08.808400Z"
    },
    "collapsed": true,
    "scrolled": true
   },
   "outputs": [],
   "source": [
    "alignment_type = 'Using_vS1_vM1_Surface_Points'\n",
    "fn_list_surfs = []\n",
    "sg_files_list = sorted(glob.glob(output_corrected_spatial_graphs+'*.am'))\n",
    "for i in range(len(sg_files_list)):\n",
    "    sg_file = sg_files_list[i]\n",
    "    if i == 8:\n",
    "        print(i,sg_file)\n",
    "        #fn_list_surfs.append(register_neurons(os.path.basename(sg_file)[:-3],alignment_type,check_neuron_sticking_out=False))\n",
    "        register_neurons(os.path.basename(sg_file)[:-3],alignment_type,check_neuron_sticking_out=True)\n",
    "#compute(fn_list_surfs,scheduler='multiprocessing')"
   ]
  },
  {
   "cell_type": "markdown",
   "metadata": {},
   "source": [
    "# Merge Neurons for Visualization"
   ]
  },
  {
   "cell_type": "code",
   "execution_count": null,
   "metadata": {
    "ExecuteTime": {
     "end_time": "2020-03-11T10:08:26.348171Z",
     "start_time": "2020-03-11T10:07:35.447989Z"
    },
    "collapsed": true
   },
   "outputs": [],
   "source": [
    "all_neurons = AmiraSpatialGraph(generic_graph=True)\n",
    "for neuron_file in glob.glob(output_registered_fine_tune_2+'/*_reg_neuron.am'):\n",
    "    sg_neuron = AmiraSpatialGraph(neuron_file)\n",
    "    all_neurons.graph_data = all_neurons.combine_subgraphs([all_neurons.graph_data,sg_neuron.graph_data])\n",
    "\n",
    "    \n",
    "all_neurons.write_spatial_graph(output_root+'All_Neurons_Registered_To_vM1.am')\n"
   ]
  },
  {
   "cell_type": "code",
   "execution_count": null,
   "metadata": {
    "ExecuteTime": {
     "end_time": "2020-03-11T10:09:07.692209Z",
     "start_time": "2020-03-11T10:08:26.350413Z"
    },
    "collapsed": true
   },
   "outputs": [],
   "source": [
    "all_neurons = AmiraSpatialGraph(generic_graph=True)\n",
    "for neuron_file in glob.glob(output_registered_centered_unscaled+'/*_reg_neuron.am'):\n",
    "    sg_neuron = AmiraSpatialGraph(neuron_file)\n",
    "    all_neurons.graph_data = all_neurons.combine_subgraphs([all_neurons.graph_data,sg_neuron.graph_data])\n",
    "\n",
    "    \n",
    "all_neurons.write_spatial_graph(output_root+'All_Neurons_Registered_To_vM1_Central_Axis.am')"
   ]
  },
  {
   "cell_type": "code",
   "execution_count": null,
   "metadata": {
    "ExecuteTime": {
     "end_time": "2020-03-11T10:15:41.976167Z",
     "start_time": "2020-03-11T10:14:58.541359Z"
    },
    "collapsed": true
   },
   "outputs": [],
   "source": [
    "all_neurons = AmiraSpatialGraph(generic_graph=True)\n",
    "for neuron_file in glob.glob(output_registered_centered+'/*_reg_neuron.am'):\n",
    "    sg_neuron = AmiraSpatialGraph(neuron_file)\n",
    "    all_neurons.graph_data = all_neurons.combine_subgraphs([all_neurons.graph_data,sg_neuron.graph_data])\n",
    "\n",
    "    \n",
    "all_neurons.write_spatial_graph(output_root+'All_Neurons_Registered_To_vM1_Central_Axis_Scaled.am')"
   ]
  },
  {
   "cell_type": "code",
   "execution_count": null,
   "metadata": {
    "collapsed": true
   },
   "outputs": [],
   "source": []
  }
 ],
 "metadata": {
  "kernelspec": {
   "display_name": "Python 3 (ipykernel)",
   "language": "python",
   "name": "python3"
  },
  "language_info": {
   "codemirror_mode": {
    "name": "ipython",
    "version": 3
   },
   "file_extension": ".py",
   "mimetype": "text/x-python",
   "name": "python",
   "nbconvert_exporter": "python",
   "pygments_lexer": "ipython3",
   "version": "3.9.7"
  },
  "toc": {
   "base_numbering": 1,
   "nav_menu": {},
   "number_sections": true,
   "sideBar": true,
   "skip_h1_title": false,
   "title_cell": "Table of Contents",
   "title_sidebar": "Contents",
   "toc_cell": false,
   "toc_position": {
    "height": "calc(100% - 180px)",
    "left": "10px",
    "top": "150px",
    "width": "336px"
   },
   "toc_section_display": true,
   "toc_window_display": true
  }
 },
 "nbformat": 4,
 "nbformat_minor": 2
}
