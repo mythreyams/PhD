{
 "cells": [
  {
   "cell_type": "code",
   "execution_count": 7,
   "metadata": {
    "ExecuteTime": {
     "end_time": "2020-03-27T04:19:46.529541Z",
     "start_time": "2020-03-27T04:19:46.517828Z"
    },
    "collapsed": true
   },
   "outputs": [],
   "source": [
    "import sys\n",
    "import os\n",
    "sys.path.insert(0,os.path.abspath('..'))\n",
    "from spatial_graphs.AmiraSpatialGraph import AmiraSpatialGraph,MatchBarrels\n",
    "from spatial_graphs.Landmarks import Landmarks\n",
    "from spatial_graphs.Surfaces import Surface\n",
    "from spatial_graphs.Vectors import Vectors\n",
    "from spatial_graphs.Alignment import Alignment\n",
    "from dask import compute,multiprocessing,delayed\n",
    "import pathlib\n",
    "import shutil\n",
    "import glob\n",
    "import pandas as pd\n",
    "import vtk\n",
    "from scipy.spatial import distance\n",
    "import numpy as np"
   ]
  },
  {
   "cell_type": "code",
   "execution_count": 60,
   "metadata": {
    "ExecuteTime": {
     "end_time": "2020-03-27T08:06:46.213257Z",
     "start_time": "2020-03-27T08:06:46.206036Z"
    },
    "collapsed": true
   },
   "outputs": [],
   "source": [
    "reg_neurons_path =  '/nas1/Data_Mythreya/MotorCortexProject/V8/Registration_Local/Outputs_200/7_Gallery_Neurons/'\n",
    "features_path = '/nas1/Data_Mythreya/MotorCortexProject/V8/Registration_Local/Outputs_200/8_Features/'\n",
    "code_file = '/nas1/Data_Mythreya/MotorCortexProject/V8/code/NeuroFeature/hocreader.py'"
   ]
  },
  {
   "cell_type": "code",
   "execution_count": 61,
   "metadata": {
    "ExecuteTime": {
     "end_time": "2020-03-27T08:06:47.009172Z",
     "start_time": "2020-03-27T08:06:46.989508Z"
    }
   },
   "outputs": [
    {
     "data": {
      "text/plain": [
       "0"
      ]
     },
     "execution_count": 61,
     "metadata": {},
     "output_type": "execute_result"
    }
   ],
   "source": [
    "os.system('source /home/BuildingBrains/canopy/bin/activate')\n"
   ]
  },
  {
   "cell_type": "code",
   "execution_count": 62,
   "metadata": {
    "ExecuteTime": {
     "end_time": "2020-03-27T08:07:30.277196Z",
     "start_time": "2020-03-27T08:07:26.633249Z"
    }
   },
   "outputs": [
    {
     "name": "stdout",
     "output_type": "stream",
     "text": [
      "/nas1/Data_Mythreya/MotorCortexProject/V8/Registration_Local/Input_Spatial_Graphs/All_Hocs/RA20130319_2_NeuroMap_ready.hoc\n",
      "/nas1/Data_Mythreya/MotorCortexProject/V8/Registration_Local/Input_Spatial_Graphs/All_Hocs/RA20130320_corrected.hoc\n",
      "/nas1/Data_Mythreya/MotorCortexProject/V8/Registration_Local/Input_Spatial_Graphs/All_Hocs/RA20130402.hoc\n",
      "/nas1/Data_Mythreya/MotorCortexProject/V8/Registration_Local/Input_Spatial_Graphs/All_Hocs/RA20130404_1.hoc\n",
      "/nas1/Data_Mythreya/MotorCortexProject/V8/Registration_Local/Input_Spatial_Graphs/All_Hocs/RA20130404_2_corrected.hoc\n",
      "/nas1/Data_Mythreya/MotorCortexProject/V8/Registration_Local/Input_Spatial_Graphs/All_Hocs/RA20130507_1_corrected.hoc\n",
      "/nas1/Data_Mythreya/MotorCortexProject/V8/Registration_Local/Input_Spatial_Graphs/All_Hocs/RA20130507_2_corrected.hoc\n",
      "/nas1/Data_Mythreya/MotorCortexProject/V8/Registration_Local/Input_Spatial_Graphs/All_Hocs/RA20130508_1_corrected.hoc\n",
      "/nas1/Data_Mythreya/MotorCortexProject/V8/Registration_Local/Input_Spatial_Graphs/All_Hocs/RA20130513.hoc\n",
      "/nas1/Data_Mythreya/MotorCortexProject/V8/Registration_Local/Input_Spatial_Graphs/All_Hocs/RA20130603.hoc\n",
      "/nas1/Data_Mythreya/MotorCortexProject/V8/Registration_Local/Input_Spatial_Graphs/All_Hocs/RA20130605_1.hoc\n",
      "/nas1/Data_Mythreya/MotorCortexProject/V8/Registration_Local/Input_Spatial_Graphs/All_Hocs/RA20130606.hoc\n",
      "/nas1/Data_Mythreya/MotorCortexProject/V8/Registration_Local/Input_Spatial_Graphs/All_Hocs/RA20130607_1.hoc\n",
      "/nas1/Data_Mythreya/MotorCortexProject/V8/Registration_Local/Input_Spatial_Graphs/All_Hocs/RA20130607_2.hoc\n",
      "/nas1/Data_Mythreya/MotorCortexProject/V8/Registration_Local/Input_Spatial_Graphs/All_Hocs/RA20130626_1_NeuroMap_ready.hoc\n",
      "/nas1/Data_Mythreya/MotorCortexProject/V8/Registration_Local/Input_Spatial_Graphs/All_Hocs/RA20130626_2.hoc\n",
      "/nas1/Data_Mythreya/MotorCortexProject/V8/Registration_Local/Input_Spatial_Graphs/All_Hocs/RA20130627.hoc\n",
      "/nas1/Data_Mythreya/MotorCortexProject/V8/Registration_Local/Input_Spatial_Graphs/All_Hocs/RA20130627_Cell_2.hoc\n",
      "/nas1/Data_Mythreya/MotorCortexProject/V8/Registration_Local/Input_Spatial_Graphs/All_Hocs/RA20130627_Cell_3.hoc\n",
      "/nas1/Data_Mythreya/MotorCortexProject/V8/Registration_Local/Input_Spatial_Graphs/All_Hocs/RA20130628.hoc\n",
      "/nas1/Data_Mythreya/MotorCortexProject/V8/Registration_Local/Input_Spatial_Graphs/All_Hocs/RA20130628_2_Cell_1.hoc\n",
      "/nas1/Data_Mythreya/MotorCortexProject/V8/Registration_Local/Input_Spatial_Graphs/All_Hocs/RA20130628_2_Cell_2.hoc\n",
      "/nas1/Data_Mythreya/MotorCortexProject/V8/Registration_Local/Input_Spatial_Graphs/All_Hocs/RA20130628_2_Cell_3.hoc\n",
      "/nas1/Data_Mythreya/MotorCortexProject/V8/Registration_Local/Input_Spatial_Graphs/All_Hocs/RA20130701_2.hoc\n",
      "/nas1/Data_Mythreya/MotorCortexProject/V8/Registration_Local/Input_Spatial_Graphs/All_Hocs/RA20130722_2.hoc\n",
      "/nas1/Data_Mythreya/MotorCortexProject/V8/Registration_Local/Input_Spatial_Graphs/All_Hocs/RA20130725.hoc\n",
      "/nas1/Data_Mythreya/MotorCortexProject/V8/Registration_Local/Input_Spatial_Graphs/All_Hocs/RA20150805_1_Cell_A_NeuroMap_ready.hoc\n",
      "/nas1/Data_Mythreya/MotorCortexProject/V8/Registration_Local/Input_Spatial_Graphs/All_Hocs/RA20150805_1_Cell_B_NeuroMap_ready.hoc\n",
      "/nas1/Data_Mythreya/MotorCortexProject/V8/Registration_Local/Input_Spatial_Graphs/All_Hocs/RA20150806_NeuroMap_ready.hoc\n",
      "/nas1/Data_Mythreya/MotorCortexProject/V8/Registration_Local/Input_Spatial_Graphs/All_Hocs/RA20150807_1_NeuroMap_ready.hoc\n",
      "/nas1/Data_Mythreya/MotorCortexProject/V8/Registration_Local/Input_Spatial_Graphs/All_Hocs/RA20150807_2_Cell_A.hoc\n",
      "/nas1/Data_Mythreya/MotorCortexProject/V8/Registration_Local/Input_Spatial_Graphs/All_Hocs/RA20150807_2_Cell_B.hoc\n",
      "/nas1/Data_Mythreya/MotorCortexProject/V8/Registration_Local/Input_Spatial_Graphs/All_Hocs/RA20150810_Cell_A_NeuroMap_ready.hoc\n",
      "/nas1/Data_Mythreya/MotorCortexProject/V8/Registration_Local/Input_Spatial_Graphs/All_Hocs/RA20150810_Cell_B.hoc\n",
      "/nas1/Data_Mythreya/MotorCortexProject/V8/Registration_Local/Input_Spatial_Graphs/All_Hocs/RA20160302_Cell_A_NeuroMap_ready.hoc\n",
      "/nas1/Data_Mythreya/MotorCortexProject/V8/Registration_Local/Input_Spatial_Graphs/All_Hocs/RA20160302_Cell_B_NeuroMap_ready.hoc\n",
      "/nas1/Data_Mythreya/MotorCortexProject/V8/Registration_Local/Input_Spatial_Graphs/All_Hocs/RA20160308_Cell_A_new.am_Segmented_corrected.hoc\n",
      "/nas1/Data_Mythreya/MotorCortexProject/V8/Registration_Local/Input_Spatial_Graphs/All_Hocs/RA20160308_Cell_B---Copy_new.am_Segmented_corrected.hoc\n",
      "/nas1/Data_Mythreya/MotorCortexProject/V8/Registration_Local/Input_Spatial_Graphs/All_Hocs/RA20160310_Cell_A_NeuroMap_ready_check.hoc\n",
      "/nas1/Data_Mythreya/MotorCortexProject/V8/Registration_Local/Input_Spatial_Graphs/All_Hocs/RA20160310_Cell_B_NeuroMap_ready_check.hoc\n",
      "/nas1/Data_Mythreya/MotorCortexProject/V8/Registration_Local/Input_Spatial_Graphs/All_Hocs/RA20160314_Celll_A_NeuroMap_ready.hoc\n",
      "/nas1/Data_Mythreya/MotorCortexProject/V8/Registration_Local/Input_Spatial_Graphs/All_Hocs/RA20160322_NeuroMap_ready.hoc\n",
      "/nas1/Data_Mythreya/MotorCortexProject/V8/Registration_Local/Input_Spatial_Graphs/All_Hocs/RA20160323_Cell_A.hoc\n",
      "/nas1/Data_Mythreya/MotorCortexProject/V8/Registration_Local/Input_Spatial_Graphs/All_Hocs/RA20160323_Cell_B.hoc\n",
      "/nas1/Data_Mythreya/MotorCortexProject/V8/Registration_Local/Input_Spatial_Graphs/All_Hocs/RA20160323_Cell_C.hoc\n",
      "/nas1/Data_Mythreya/MotorCortexProject/V8/Registration_Local/Input_Spatial_Graphs/All_Hocs/RA20160323_Cell_D.hoc\n",
      "/nas1/Data_Mythreya/MotorCortexProject/V8/Registration_Local/Input_Spatial_Graphs/All_Hocs/RA20160324_Cell_A_NeuroMap_ready.hoc\n",
      "/nas1/Data_Mythreya/MotorCortexProject/V8/Registration_Local/Input_Spatial_Graphs/All_Hocs/RA20160329_Cell_A.hoc\n",
      "/nas1/Data_Mythreya/MotorCortexProject/V8/Registration_Local/Input_Spatial_Graphs/All_Hocs/RA20160329_Cell_B.hoc\n",
      "/nas1/Data_Mythreya/MotorCortexProject/V8/Registration_Local/Input_Spatial_Graphs/All_Hocs/RA20160330_Cell_A_NeuroMap_ready.hoc\n",
      "/nas1/Data_Mythreya/MotorCortexProject/V8/Registration_Local/Input_Spatial_Graphs/All_Hocs/RA20160330_Cell_B_NeuroMap_ready.hoc\n",
      "/nas1/Data_Mythreya/MotorCortexProject/V8/Registration_Local/Input_Spatial_Graphs/All_Hocs/RA20160331_Cell_A.hoc\n",
      "/nas1/Data_Mythreya/MotorCortexProject/V8/Registration_Local/Input_Spatial_Graphs/All_Hocs/RA20160331_Cell_B.hoc\n",
      "/nas1/Data_Mythreya/MotorCortexProject/V8/Registration_Local/Input_Spatial_Graphs/All_Hocs/RA20160401_Cell_A.hoc\n",
      "/nas1/Data_Mythreya/MotorCortexProject/V8/Registration_Local/Input_Spatial_Graphs/All_Hocs/RA20160401_Cell_B.hoc\n",
      "/nas1/Data_Mythreya/MotorCortexProject/V8/Registration_Local/Input_Spatial_Graphs/All_Hocs/RA20160404_Cell_A.hoc\n",
      "/nas1/Data_Mythreya/MotorCortexProject/V8/Registration_Local/Input_Spatial_Graphs/All_Hocs/RA20160404_Cell_B.hoc\n",
      "/nas1/Data_Mythreya/MotorCortexProject/V8/Registration_Local/Input_Spatial_Graphs/All_Hocs/RA20171211.am_Segmented_corrected.hoc\n",
      "/nas1/Data_Mythreya/MotorCortexProject/V8/Registration_Local/Input_Spatial_Graphs/All_Hocs/RA20171212_1_Cell_B.am_Segmented_corrected_NeuroMap_ready.hoc\n",
      "/nas1/Data_Mythreya/MotorCortexProject/V8/Registration_Local/Input_Spatial_Graphs/All_Hocs/RA20171212_1_Cell_C.am_Segmented_corrected_NeuroMap_ready.hoc\n",
      "/nas1/Data_Mythreya/MotorCortexProject/V8/Registration_Local/Input_Spatial_Graphs/All_Hocs/RA20171212_1_Cell_F.am_Segmented_corrected_NeuroMap_ready.hoc\n",
      "/nas1/Data_Mythreya/MotorCortexProject/V8/Registration_Local/Input_Spatial_Graphs/All_Hocs/RA20171212_2_Cell_A.am_Segmented_corrected.hoc\n",
      "/nas1/Data_Mythreya/MotorCortexProject/V8/Registration_Local/Input_Spatial_Graphs/All_Hocs/RA20171212_2_Cell_B.am_Segmented_corrected.hoc\n",
      "/nas1/Data_Mythreya/MotorCortexProject/V8/Registration_Local/Input_Spatial_Graphs/All_Hocs/RA20171214_1_Cell_A.am_Segmented_corrected_NeuroMap_ready.hoc\n",
      "/nas1/Data_Mythreya/MotorCortexProject/V8/Registration_Local/Input_Spatial_Graphs/All_Hocs/RA20171214_1_Cell_B.am_Segmented_corrected_NeuroMap_ready.hoc\n",
      "/nas1/Data_Mythreya/MotorCortexProject/V8/Registration_Local/Input_Spatial_Graphs/All_Hocs/RA20171214_1_Cell_C.am_Segmented_corrected.hoc\n",
      "/nas1/Data_Mythreya/MotorCortexProject/V8/Registration_Local/Input_Spatial_Graphs/All_Hocs/RA20171215_1_.am_Segmented_corrected.hoc\n",
      "/nas1/Data_Mythreya/MotorCortexProject/V8/Registration_Local/Input_Spatial_Graphs/All_Hocs/RA20180108_1.am_Segmented_corrected.hoc\n",
      "/nas1/Data_Mythreya/MotorCortexProject/V8/Registration_Local/Input_Spatial_Graphs/All_Hocs/RA20180108_2.am_Segmented_corrected.hoc\n",
      "/nas1/Data_Mythreya/MotorCortexProject/V8/Registration_Local/Input_Spatial_Graphs/All_Hocs/RA20180109_1_Cell_A_done.am_Segmented_corrected.hoc\n"
     ]
    },
    {
     "name": "stdout",
     "output_type": "stream",
     "text": [
      "/nas1/Data_Mythreya/MotorCortexProject/V8/Registration_Local/Input_Spatial_Graphs/All_Hocs/RA20180109_1_Cell_B.am_Segmented_corrected.hoc\n",
      "/nas1/Data_Mythreya/MotorCortexProject/V8/Registration_Local/Input_Spatial_Graphs/All_Hocs/RA20180109_1_Cell_C_done.am_Segmented_corrected.hoc\n",
      "/nas1/Data_Mythreya/MotorCortexProject/V8/Registration_Local/Input_Spatial_Graphs/All_Hocs/RA20180109_2_Cluster_A_Cell_A_done.am_Segmented_corrected_NeuroMap_ready.hoc\n",
      "/nas1/Data_Mythreya/MotorCortexProject/V8/Registration_Local/Input_Spatial_Graphs/All_Hocs/RA20180109_2_Cluster_A_Cell_B_done.am_Segmented_corrected_NeuroMap_ready.hoc\n",
      "/nas1/Data_Mythreya/MotorCortexProject/V8/Registration_Local/Input_Spatial_Graphs/All_Hocs/RA20180109_2_Cluster_A_Cell_C_done.am_Segmented_corrected_NeuroMap_ready.hoc\n",
      "/nas1/Data_Mythreya/MotorCortexProject/V8/Registration_Local/Input_Spatial_Graphs/All_Hocs/RA20180109_2_Cluster_B_Cell_A_done.am_Segmented_corrected_NeuroMap_ready.hoc\n",
      "/nas1/Data_Mythreya/MotorCortexProject/V8/Registration_Local/Input_Spatial_Graphs/All_Hocs/RA20180109_2_Cluster_B_Cell_B_done.am_Segmented_corrected_NeuroMap_ready.hoc\n",
      "/nas1/Data_Mythreya/MotorCortexProject/V8/Registration_Local/Input_Spatial_Graphs/All_Hocs/RA20180109_2_Cluster_B_Cell_C_done.am_Segmented_corrected_NeuroMap_ready.hoc\n",
      "/nas1/Data_Mythreya/MotorCortexProject/V8/Registration_Local/Input_Spatial_Graphs/All_Hocs/RA20180109_2_Cluster_B_Cell_D_done.am_Segmented_corrected_NeuroMap_ready.hoc\n",
      "/nas1/Data_Mythreya/MotorCortexProject/V8/Registration_Local/Input_Spatial_Graphs/All_Hocs/RA20180109_2_Cluster_B_Cell_E_done.am_Segmented_corrected_NeuroMap_ready.hoc\n",
      "/nas1/Data_Mythreya/MotorCortexProject/V8/Registration_Local/Input_Spatial_Graphs/All_Hocs/RA20180412_2_Cell_A.am_Segmented_corrected.hoc\n",
      "/nas1/Data_Mythreya/MotorCortexProject/V8/Registration_Local/Input_Spatial_Graphs/All_Hocs/RA20180412_2_Cell_B.am_Segmented_corrected.hoc\n",
      "/nas1/Data_Mythreya/MotorCortexProject/V8/Registration_Local/Input_Spatial_Graphs/All_Hocs/RA20180412_2_Cell_C.am_Segmented_corrected.hoc\n",
      "/nas1/Data_Mythreya/MotorCortexProject/V8/Registration_Local/Input_Spatial_Graphs/All_Hocs/RA20180412_2_Cell_D.am_Segmented_segmented.hoc\n",
      "/nas1/Data_Mythreya/MotorCortexProject/V8/Registration_Local/Input_Spatial_Graphs/All_Hocs/RA20180412_2_Cell_E.am_Segmented_corrected.hoc\n"
     ]
    }
   ],
   "source": [
    "for file in glob.glob('/nas1/Data_Mythreya/MotorCortexProject/V8/Registration_Local/Input_Spatial_Graphs/All_Hocs/*'):\n",
    "    print(file)\n",
    "    os.system('python {} {} {}'.format(code_file,file,features_path))"
   ]
  },
  {
   "cell_type": "code",
   "execution_count": 20,
   "metadata": {
    "ExecuteTime": {
     "end_time": "2020-03-27T05:00:53.840625Z",
     "start_time": "2020-03-27T05:00:53.828349Z"
    }
   },
   "outputs": [],
   "source": [
    "# Feature extraction\n",
    "features_cols = [\\\n",
    "    \"Experiment_ID\"\\\n",
    "    ,\"Soma_Depth_From_Pia\"\n",
    "    , \"Dendritic_Length\"  \\\n",
    "    , \"Dendritic_Volume\"  \\\n",
    "    , \"Dendritic_Width\"  \\\n",
    "    , \"Dendritic_Height\"  \\\n",
    "    , \"Dendritic_Branchpoints\"  \\\n",
    "    , \"Dendritic_Branchorder_Avg\"  \\\n",
    "    , \"Dendritic_Branchorder_Max\"  \\\n",
    "    , \"Dendritic_Endpoint_Avg\"  \\\n",
    "    , \"Dendritic_Endpoint_Max\"  \\\n",
    "    , \"Dendritic_Endpoint_Sum\"  \\\n",
    "    , \"Dendritic_Endpoint_Centroid\"  \\\n",
    "    , \"Apical_Length\"  \\\n",
    "    , \"Apical_Volume\"  \\\n",
    "    , \"Apical_Width\"  \\\n",
    "    , \"Apical_Height\"  \\\n",
    "    , \"Apical_Branchpoints\"  \\\n",
    "    , \"Apical_Endpoint_Centroid\"  \\\n",
    "    , \"Basal_Length\"  \\\n",
    "    , \"Basal_Volume\"  \\\n",
    "    , \"Basal_Width\"  \\\n",
    "    , \"Basal_Height\"  \\\n",
    "    , \"Basal_Branchpoints\"  \\\n",
    "    , \"Axon_Branchpoints\"\n",
    "    , \"Axon_Length\"\n",
    "    , \"Axon_Volume\" ]"
   ]
  },
  {
   "cell_type": "code",
   "execution_count": null,
   "metadata": {
    "collapsed": true
   },
   "outputs": [],
   "source": [
    "df_features = []\n"
   ]
  },
  {
   "cell_type": "code",
   "execution_count": 11,
   "metadata": {
    "ExecuteTime": {
     "end_time": "2020-03-27T04:57:04.553199Z",
     "start_time": "2020-03-27T04:57:03.927979Z"
    }
   },
   "outputs": [],
   "source": [
    "filename = sorted(glob.glob(reg_neurons_path+'/*'))[0]\n",
    "sg = AmiraSpatialGraph(filename)"
   ]
  },
  {
   "cell_type": "code",
   "execution_count": 25,
   "metadata": {
    "ExecuteTime": {
     "end_time": "2020-03-27T06:19:41.097271Z",
     "start_time": "2020-03-27T06:19:41.088745Z"
    }
   },
   "outputs": [
    {
     "data": {
      "text/plain": [
       "'/nas1/Data_Mythreya/MotorCortexProject/V8/Registration_Local/Outputs_200/7_Gallery_Neurons/RA20130319_2.am'"
      ]
     },
     "execution_count": 25,
     "metadata": {},
     "output_type": "execute_result"
    }
   ],
   "source": [
    "filename"
   ]
  },
  {
   "cell_type": "code",
   "execution_count": 18,
   "metadata": {
    "ExecuteTime": {
     "end_time": "2020-03-27T04:59:22.373535Z",
     "start_time": "2020-03-27T04:59:22.366110Z"
    }
   },
   "outputs": [
    {
     "data": {
      "text/plain": [
       "[[-6.856946382228841, -5.530016015730425, -608.8723952153409],\n",
       " [-6.693106204727769, -6.695400431171535, -609.0669088664915],\n",
       " [-6.4648321189138755, -7.848117998133347, -608.9077449492141],\n",
       " [-7.076248289719956, -8.65436726856018, -609.5831947104933]]"
      ]
     },
     "execution_count": 18,
     "metadata": {},
     "output_type": "execute_result"
    }
   ],
   "source": [
    "sg.neuron.dendrite.basal_dendrite.edge_list[0]"
   ]
  },
  {
   "cell_type": "code",
   "execution_count": 24,
   "metadata": {
    "ExecuteTime": {
     "end_time": "2020-03-27T05:02:34.349035Z",
     "start_time": "2020-03-27T05:02:34.341270Z"
    },
    "collapsed": true
   },
   "outputs": [],
   "source": [
    "soma_center = np.array(sg.neuron.soma.edge_pt_coords).mean(axis=0)\n",
    "soma_depth = abs(soma_center[2])"
   ]
  },
  {
   "cell_type": "code",
   "execution_count": 30,
   "metadata": {
    "ExecuteTime": {
     "end_time": "2020-03-27T06:27:11.877129Z",
     "start_time": "2020-03-27T06:27:11.869448Z"
    }
   },
   "outputs": [
    {
     "data": {
      "text/plain": [
       "76"
      ]
     },
     "execution_count": 30,
     "metadata": {},
     "output_type": "execute_result"
    }
   ],
   "source": [
    "len(sg.neuron.dendrite.basal_dendrite.vertices)"
   ]
  },
  {
   "cell_type": "code",
   "execution_count": 49,
   "metadata": {
    "ExecuteTime": {
     "end_time": "2020-03-27T07:00:44.289224Z",
     "start_time": "2020-03-27T07:00:44.266912Z"
    }
   },
   "outputs": [],
   "source": [
    "def get_root_branching_terminal_nodes(graph_data,soma_center):\n",
    "    root_nodes = []\n",
    "    end_nodes = []\n",
    "    branch_nodes = []\n",
    "    for i in range(len(graph_data.vertices)):\n",
    "        vert = graph_data.vertices[i]\n",
    "        # find vertices that have only one connectivity\n",
    "        # see how many times this vertex appears in the from vert position of connectivity list\n",
    "        num_edge_eminating_from = 0\n",
    "        num_edge_ending_at = 0\n",
    "        for connectivity in graph_data.edge_connectivity:\n",
    "            if i == connectivity[0]:\n",
    "                num_edge_eminating_from = num_edge_eminating_from + 1\n",
    "            if i == connectivity[1]:\n",
    "                num_edge_ending_at = num_edge_ending_at + 1\n",
    "        if num_edge_eminating_from == 1 and distance.euclidean(soma_center,vert) < 25:\n",
    "            root_nodes.append(vert)\n",
    "        if num_edge_eminating_from > 1:\n",
    "            branch_nodes.append(vert)\n",
    "        if num_edge_eminating_from == 0:\n",
    "            end_nodes.append(vert)\n",
    "    print('# Root Nodes = {}'.format(len(root_nodes)))\n",
    "    print('# Branch Nodes = {}'.format(len(branch_nodes)))\n",
    "    print('# Terminal Nodes = {}'.format(len(end_nodes)))\n",
    "        \n",
    "    return root_nodes,branch_nodes,end_nodes"
   ]
  },
  {
   "cell_type": "code",
   "execution_count": 55,
   "metadata": {
    "ExecuteTime": {
     "end_time": "2020-03-27T07:47:43.673527Z",
     "start_time": "2020-03-27T07:47:43.664076Z"
    }
   },
   "outputs": [
    {
     "name": "stdout",
     "output_type": "stream",
     "text": [
      "# Root Nodes = 4\n",
      "# Branch Nodes = 34\n",
      "# Terminal Nodes = 38\n"
     ]
    }
   ],
   "source": [
    "root_nodes,branch_nodes,end_nodes = get_root_branching_terminal_nodes(sg.neuron.dendrite.basal_dendrite,soma_center)"
   ]
  },
  {
   "cell_type": "code",
   "execution_count": null,
   "metadata": {
    "collapsed": true
   },
   "outputs": [],
   "source": [
    "graph_data = sg.neuron.dendrite.basal_dendrite\n",
    "tree_depths = []\n",
    "for i in  range(len(root_nodes)):\n",
    "    root_vert = root_nodes[i]\n",
    "    tree_depths.append(0)\n",
    "    for connectivity in graph_data.edge_connectivity:\n",
    "        if root_vert == graph_data.vertices[connectivity[0]]:\n",
    "            # this is the starting edge\n",
    "            \n",
    "        "
   ]
  }
 ],
 "metadata": {
  "kernelspec": {
   "display_name": "Python 3",
   "language": "python",
   "name": "python3"
  },
  "language_info": {
   "codemirror_mode": {
    "name": "ipython",
    "version": 3
   },
   "file_extension": ".py",
   "mimetype": "text/x-python",
   "name": "python",
   "nbconvert_exporter": "python",
   "pygments_lexer": "ipython3",
   "version": "3.7.4"
  },
  "toc": {
   "base_numbering": 1,
   "nav_menu": {},
   "number_sections": true,
   "sideBar": true,
   "skip_h1_title": false,
   "title_cell": "Table of Contents",
   "title_sidebar": "Contents",
   "toc_cell": false,
   "toc_position": {},
   "toc_section_display": true,
   "toc_window_display": false
  }
 },
 "nbformat": 4,
 "nbformat_minor": 2
}
